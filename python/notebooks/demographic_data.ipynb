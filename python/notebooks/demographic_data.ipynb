{
 "cells": [
  {
   "cell_type": "code",
   "execution_count": 2,
   "outputs": [],
   "source": [
    "import geopandas as gpd\n",
    "import os\n",
    "import sys\n",
    "\n",
    "os.chdir(sys.path[3])\n",
    "import pandas as pd\n",
    "import numpy as np\n",
    "import seaborn as sns\n",
    "# sns.set(rc = {'figure.figsize':(15,15)})\n",
    "import matplotlib.pyplot as plt\n",
    "from pandas import DataFrame"
   ],
   "metadata": {
    "collapsed": false,
    "pycharm": {
     "name": "#%%\n"
    }
   }
  },
  {
   "cell_type": "markdown",
   "source": [
    "## ethnic_origin"
   ],
   "metadata": {
    "collapsed": false,
    "pycharm": {
     "name": "#%% md\n"
    }
   }
  },
  {
   "cell_type": "code",
   "execution_count": 125,
   "outputs": [
    {
     "data": {
      "text/plain": "                                                    count\nethnic_origin                                            \nAfrican (e.g., Moroccan, Ghanaian, South Africa...     19\nAsian (e.g., Chinese, Filipino, Korean, etc.)          84\nCaribbean (e.g., Cuban, Jamaican, Bajan, etc.)          4\nCentral/South American (e.g., Mexican, Salvador...     51\nEuropean (e.g., British Isles, German, French, ...   1271\nI prefer to not answer                                 78\nIndigenous (First Nations, Metis, Inuk/Inuit, e...     11\nMiddle Eastern (e.g., Lebanese, Iranian, Syrian...     16\nMulti-ethnic (2+ ethnic groups)                        99\nOceanian (e.g., Australian, New Zealander, etc.)        4\nOther (please specify):                                52\nSouth Asian (e.g., Punjabi, Indian, Pakistani, ...     31",
      "text/html": "<div>\n<style scoped>\n    .dataframe tbody tr th:only-of-type {\n        vertical-align: middle;\n    }\n\n    .dataframe tbody tr th {\n        vertical-align: top;\n    }\n\n    .dataframe thead th {\n        text-align: right;\n    }\n</style>\n<table border=\"1\" class=\"dataframe\">\n  <thead>\n    <tr style=\"text-align: right;\">\n      <th></th>\n      <th>count</th>\n    </tr>\n    <tr>\n      <th>ethnic_origin</th>\n      <th></th>\n    </tr>\n  </thead>\n  <tbody>\n    <tr>\n      <th>African (e.g., Moroccan, Ghanaian, South African, etc.)</th>\n      <td>19</td>\n    </tr>\n    <tr>\n      <th>Asian (e.g., Chinese, Filipino, Korean, etc.)</th>\n      <td>84</td>\n    </tr>\n    <tr>\n      <th>Caribbean (e.g., Cuban, Jamaican, Bajan, etc.)</th>\n      <td>4</td>\n    </tr>\n    <tr>\n      <th>Central/South American (e.g., Mexican, Salvadorian, Argentinian, etc.)</th>\n      <td>51</td>\n    </tr>\n    <tr>\n      <th>European (e.g., British Isles, German, French, Greek, Italian, etc.)</th>\n      <td>1271</td>\n    </tr>\n    <tr>\n      <th>I prefer to not answer</th>\n      <td>78</td>\n    </tr>\n    <tr>\n      <th>Indigenous (First Nations, Metis, Inuk/Inuit, etc.)</th>\n      <td>11</td>\n    </tr>\n    <tr>\n      <th>Middle Eastern (e.g., Lebanese, Iranian, Syrian, etc.)</th>\n      <td>16</td>\n    </tr>\n    <tr>\n      <th>Multi-ethnic (2+ ethnic groups)</th>\n      <td>99</td>\n    </tr>\n    <tr>\n      <th>Oceanian (e.g., Australian, New Zealander, etc.)</th>\n      <td>4</td>\n    </tr>\n    <tr>\n      <th>Other (please specify):</th>\n      <td>52</td>\n    </tr>\n    <tr>\n      <th>South Asian (e.g., Punjabi, Indian, Pakistani, etc.)</th>\n      <td>31</td>\n    </tr>\n  </tbody>\n</table>\n</div>"
     },
     "execution_count": 125,
     "metadata": {},
     "output_type": "execute_result"
    }
   ],
   "source": [
    "ethnic_origin = DataFrame(data['Q39'])\n",
    "ethnic_origin = ethnic_origin.rename(columns={'Q39': 'ethnic_origin'}).reset_index()\n",
    "ethnic_origin.groupby(by=[\"ethnic_origin\"]).count().rename(columns={'index': 'count'})"
   ],
   "metadata": {
    "collapsed": false,
    "pycharm": {
     "name": "#%%\n"
    }
   }
  },
  {
   "cell_type": "code",
   "execution_count": 142,
   "outputs": [
    {
     "data": {
      "text/plain": "                                                    count\nethnic_origin_other                                      \nAfrican American                                        2\nAmerican                                                3\nAmerican                                                1\nAshkenazi Jewish                                        2\nBlack                                                   2\nBlack American                                          1\nBlack, African-American                                 1\nCanadian                                                2\nCanadian                                                3\nCaucasian                                               2\nCaucasian                                               2\nCaucasian I’m white                                     1\nDutch norwegian                                         1\nIrish                                                   1\nIrish - Mexican                                         1\nJewish                                                  1\nLatino                                                  1\nLilly White                                             1\nMexican American                                        1\nNative American                                         1\nNorth american                                          1\nPolish / Eastern European                               1\nPuerto Rican of African descent.                        1\nRussian (Jewish)                                        1\nScandinavian                                            1\nUSA                                                     1\nUnited States                                           1\nWhite                                                   3\nWhite / English & Irish                                 1\nWhite Caucasian                                         1\nWhite?                                                  1\ncanadian                                                1\nhalf Asian/caucasian                                    1\nhispanic                                                1\nthis survey is regarding a group of people, mos...      1\nwhite                                                   2\nwhite :)                                                1",
      "text/html": "<div>\n<style scoped>\n    .dataframe tbody tr th:only-of-type {\n        vertical-align: middle;\n    }\n\n    .dataframe tbody tr th {\n        vertical-align: top;\n    }\n\n    .dataframe thead th {\n        text-align: right;\n    }\n</style>\n<table border=\"1\" class=\"dataframe\">\n  <thead>\n    <tr style=\"text-align: right;\">\n      <th></th>\n      <th>count</th>\n    </tr>\n    <tr>\n      <th>ethnic_origin_other</th>\n      <th></th>\n    </tr>\n  </thead>\n  <tbody>\n    <tr>\n      <th>African American</th>\n      <td>2</td>\n    </tr>\n    <tr>\n      <th>American</th>\n      <td>3</td>\n    </tr>\n    <tr>\n      <th>American</th>\n      <td>1</td>\n    </tr>\n    <tr>\n      <th>Ashkenazi Jewish</th>\n      <td>2</td>\n    </tr>\n    <tr>\n      <th>Black</th>\n      <td>2</td>\n    </tr>\n    <tr>\n      <th>Black American</th>\n      <td>1</td>\n    </tr>\n    <tr>\n      <th>Black, African-American</th>\n      <td>1</td>\n    </tr>\n    <tr>\n      <th>Canadian</th>\n      <td>2</td>\n    </tr>\n    <tr>\n      <th>Canadian</th>\n      <td>3</td>\n    </tr>\n    <tr>\n      <th>Caucasian</th>\n      <td>2</td>\n    </tr>\n    <tr>\n      <th>Caucasian</th>\n      <td>2</td>\n    </tr>\n    <tr>\n      <th>Caucasian I’m white</th>\n      <td>1</td>\n    </tr>\n    <tr>\n      <th>Dutch norwegian</th>\n      <td>1</td>\n    </tr>\n    <tr>\n      <th>Irish</th>\n      <td>1</td>\n    </tr>\n    <tr>\n      <th>Irish - Mexican</th>\n      <td>1</td>\n    </tr>\n    <tr>\n      <th>Jewish</th>\n      <td>1</td>\n    </tr>\n    <tr>\n      <th>Latino</th>\n      <td>1</td>\n    </tr>\n    <tr>\n      <th>Lilly White</th>\n      <td>1</td>\n    </tr>\n    <tr>\n      <th>Mexican American</th>\n      <td>1</td>\n    </tr>\n    <tr>\n      <th>Native American</th>\n      <td>1</td>\n    </tr>\n    <tr>\n      <th>North american</th>\n      <td>1</td>\n    </tr>\n    <tr>\n      <th>Polish / Eastern European</th>\n      <td>1</td>\n    </tr>\n    <tr>\n      <th>Puerto Rican of African descent.</th>\n      <td>1</td>\n    </tr>\n    <tr>\n      <th>Russian (Jewish)</th>\n      <td>1</td>\n    </tr>\n    <tr>\n      <th>Scandinavian</th>\n      <td>1</td>\n    </tr>\n    <tr>\n      <th>USA</th>\n      <td>1</td>\n    </tr>\n    <tr>\n      <th>United States</th>\n      <td>1</td>\n    </tr>\n    <tr>\n      <th>White</th>\n      <td>3</td>\n    </tr>\n    <tr>\n      <th>White / English &amp; Irish</th>\n      <td>1</td>\n    </tr>\n    <tr>\n      <th>White Caucasian</th>\n      <td>1</td>\n    </tr>\n    <tr>\n      <th>White?</th>\n      <td>1</td>\n    </tr>\n    <tr>\n      <th>canadian</th>\n      <td>1</td>\n    </tr>\n    <tr>\n      <th>half Asian/caucasian</th>\n      <td>1</td>\n    </tr>\n    <tr>\n      <th>hispanic</th>\n      <td>1</td>\n    </tr>\n    <tr>\n      <th>this survey is regarding a group of people, most BIPOC</th>\n      <td>1</td>\n    </tr>\n    <tr>\n      <th>white</th>\n      <td>2</td>\n    </tr>\n    <tr>\n      <th>white :)</th>\n      <td>1</td>\n    </tr>\n  </tbody>\n</table>\n</div>"
     },
     "execution_count": 142,
     "metadata": {},
     "output_type": "execute_result"
    }
   ],
   "source": [
    "ethnic_origin_2 = data[data['Q39'] == 'Other (please specify):']\n",
    "ethnic_origin_2 = DataFrame(ethnic_origin_2['Q39_10_TEXT'])\n",
    "ethnic_origin_2 = ethnic_origin_2.rename(columns={'Q39_10_TEXT': 'ethnic_origin_other'}).reset_index()\n",
    "ethnic_origin_2.groupby(by=[\"ethnic_origin_other\"]).count().rename(columns={'index': 'count'})"
   ],
   "metadata": {
    "collapsed": false,
    "pycharm": {
     "name": "#%%\n"
    }
   }
  },
  {
   "cell_type": "markdown",
   "source": [
    "\n",
    "### education"
   ],
   "metadata": {
    "collapsed": false,
    "pycharm": {
     "name": "#%% md\n"
    }
   }
  },
  {
   "cell_type": "code",
   "execution_count": 126,
   "outputs": [
    {
     "data": {
      "text/plain": "                                                    count\neducation                                                \nAssociate’s/vocational/technical degree (2- or ...    110\nBachelor’s degree (university 4-year degree)   ...    672\nGraduate degree (e.g., Master’s, Professional d...    714\nGraduated high school (i.e., High school diplom...     53\nI prefer to not answer                                 26\nSome high school or less                      \\t       32\nSome university (no degree)                           124",
      "text/html": "<div>\n<style scoped>\n    .dataframe tbody tr th:only-of-type {\n        vertical-align: middle;\n    }\n\n    .dataframe tbody tr th {\n        vertical-align: top;\n    }\n\n    .dataframe thead th {\n        text-align: right;\n    }\n</style>\n<table border=\"1\" class=\"dataframe\">\n  <thead>\n    <tr style=\"text-align: right;\">\n      <th></th>\n      <th>count</th>\n    </tr>\n    <tr>\n      <th>education</th>\n      <th></th>\n    </tr>\n  </thead>\n  <tbody>\n    <tr>\n      <th>Associate’s/vocational/technical degree (2- or 3-year degree, trades certificate)               \\t</th>\n      <td>110</td>\n    </tr>\n    <tr>\n      <th>Bachelor’s degree (university 4-year degree)             \\t</th>\n      <td>672</td>\n    </tr>\n    <tr>\n      <th>Graduate degree (e.g., Master’s, Professional degree, Doctorate)</th>\n      <td>714</td>\n    </tr>\n    <tr>\n      <th>Graduated high school (i.e., High school diploma)        \\t</th>\n      <td>53</td>\n    </tr>\n    <tr>\n      <th>I prefer to not answer</th>\n      <td>26</td>\n    </tr>\n    <tr>\n      <th>Some high school or less                      \\t</th>\n      <td>32</td>\n    </tr>\n    <tr>\n      <th>Some university (no degree)</th>\n      <td>124</td>\n    </tr>\n  </tbody>\n</table>\n</div>"
     },
     "execution_count": 126,
     "metadata": {},
     "output_type": "execute_result"
    }
   ],
   "source": [
    "education = DataFrame(data['Q38'])\n",
    "education = education.rename(columns={'Q38': 'education'}).reset_index()\n",
    "education.groupby(by=[\"education\"]).count().rename(columns={'index': 'count'})"
   ],
   "metadata": {
    "collapsed": false,
    "pycharm": {
     "name": "#%%\n"
    }
   }
  },
  {
   "cell_type": "markdown",
   "source": [
    "## income"
   ],
   "metadata": {
    "collapsed": false,
    "pycharm": {
     "name": "#%% md\n"
    }
   }
  },
  {
   "cell_type": "code",
   "execution_count": 118,
   "outputs": [
    {
     "data": {
      "text/plain": "                                        count\nincome                                       \n$200,000 or more per year                 362\nBetween $100,000 and $149,999 per year    272\nBetween $150,000 and $199,999 per year    174\nBetween $20,000 and $34,999 per year      111\nBetween $35,000 and $49,999 per year       94\nBetween $50,000 and $74,999 per year      223\nBetween $75,000 and $99,999 per year      231\nDon’t know/not sure                        17\nI prefer to not answer                    160\nUnder $20,000 per year                     83",
      "text/html": "<div>\n<style scoped>\n    .dataframe tbody tr th:only-of-type {\n        vertical-align: middle;\n    }\n\n    .dataframe tbody tr th {\n        vertical-align: top;\n    }\n\n    .dataframe thead th {\n        text-align: right;\n    }\n</style>\n<table border=\"1\" class=\"dataframe\">\n  <thead>\n    <tr style=\"text-align: right;\">\n      <th></th>\n      <th>count</th>\n    </tr>\n    <tr>\n      <th>income</th>\n      <th></th>\n    </tr>\n  </thead>\n  <tbody>\n    <tr>\n      <th>$200,000 or more per year</th>\n      <td>362</td>\n    </tr>\n    <tr>\n      <th>Between $100,000 and $149,999 per year</th>\n      <td>272</td>\n    </tr>\n    <tr>\n      <th>Between $150,000 and $199,999 per year</th>\n      <td>174</td>\n    </tr>\n    <tr>\n      <th>Between $20,000 and $34,999 per year</th>\n      <td>111</td>\n    </tr>\n    <tr>\n      <th>Between $35,000 and $49,999 per year</th>\n      <td>94</td>\n    </tr>\n    <tr>\n      <th>Between $50,000 and $74,999 per year</th>\n      <td>223</td>\n    </tr>\n    <tr>\n      <th>Between $75,000 and $99,999 per year</th>\n      <td>231</td>\n    </tr>\n    <tr>\n      <th>Don’t know/not sure</th>\n      <td>17</td>\n    </tr>\n    <tr>\n      <th>I prefer to not answer</th>\n      <td>160</td>\n    </tr>\n    <tr>\n      <th>Under $20,000 per year</th>\n      <td>83</td>\n    </tr>\n  </tbody>\n</table>\n</div>"
     },
     "execution_count": 118,
     "metadata": {},
     "output_type": "execute_result"
    }
   ],
   "source": [
    "income = DataFrame(data['Q36'])\n",
    "income = income.rename(columns={'Q36': 'income'}).reset_index()\n",
    "income.groupby(by=[\"income\"]).count().rename(columns={'index': 'count'})"
   ],
   "metadata": {
    "collapsed": false,
    "pycharm": {
     "name": "#%%\n"
    }
   }
  },
  {
   "cell_type": "markdown",
   "source": [
    "## Gender"
   ],
   "metadata": {
    "collapsed": false,
    "pycharm": {
     "name": "#%% md\n"
    }
   }
  },
  {
   "cell_type": "code",
   "execution_count": 119,
   "outputs": [
    {
     "data": {
      "text/plain": "                           count\ngender                          \nMan                         1060\nNon-binary / third gender     21\nPrefer not to say             35\nWoman                        614",
      "text/html": "<div>\n<style scoped>\n    .dataframe tbody tr th:only-of-type {\n        vertical-align: middle;\n    }\n\n    .dataframe tbody tr th {\n        vertical-align: top;\n    }\n\n    .dataframe thead th {\n        text-align: right;\n    }\n</style>\n<table border=\"1\" class=\"dataframe\">\n  <thead>\n    <tr style=\"text-align: right;\">\n      <th></th>\n      <th>count</th>\n    </tr>\n    <tr>\n      <th>gender</th>\n      <th></th>\n    </tr>\n  </thead>\n  <tbody>\n    <tr>\n      <th>Man</th>\n      <td>1060</td>\n    </tr>\n    <tr>\n      <th>Non-binary / third gender</th>\n      <td>21</td>\n    </tr>\n    <tr>\n      <th>Prefer not to say</th>\n      <td>35</td>\n    </tr>\n    <tr>\n      <th>Woman</th>\n      <td>614</td>\n    </tr>\n  </tbody>\n</table>\n</div>"
     },
     "execution_count": 119,
     "metadata": {},
     "output_type": "execute_result"
    }
   ],
   "source": [
    "\n",
    "gender = DataFrame(data['Q35'])\n",
    "\n",
    "gender = gender.rename(columns={'Q35': 'gender'}).reset_index()\n",
    "gender.groupby(by=[\"gender\"]).count().rename(columns={'index': 'count'})\n"
   ],
   "metadata": {
    "collapsed": false,
    "pycharm": {
     "name": "#%%\n"
    }
   }
  },
  {
   "cell_type": "code",
   "execution_count": 120,
   "outputs": [
    {
     "data": {
      "text/plain": "<AxesSubplot:xlabel='gender', ylabel='Count'>"
     },
     "execution_count": 120,
     "metadata": {},
     "output_type": "execute_result"
    },
    {
     "data": {
      "text/plain": "<Figure size 1080x1080 with 1 Axes>",
      "image/png": "[encoded data removed]"
     },
     "metadata": {},
     "output_type": "display_data"
    }
   ],
   "source": [
    "sns.histplot(data=gender, x='gender')"
   ],
   "metadata": {
    "collapsed": false,
    "pycharm": {
     "name": "#%%\n"
    }
   }
  },
  {
   "cell_type": "code",
   "execution_count": 3,
   "outputs": [],
   "source": [
    "def analysis(my_data: DataFrame, old_name: str, new_name: str, is_state: str = False):\n",
    "    if not is_state:\n",
    "        rel_demographic = DataFrame(my_data[old_name])\n",
    "    else:\n",
    "        rel_demographic = DataFrame(my_data[my_data['state'] == is_state][old_name])\n",
    "    rel_demographic = rel_demographic.rename(columns={old_name: new_name})\n",
    "    rel_demographic = rel_demographic[rel_demographic[new_name].notna()].reset_index()\n",
    "    return rel_demographic"
   ],
   "metadata": {
    "collapsed": false,
    "pycharm": {
     "name": "#%%\n"
    }
   }
  },
  {
   "cell_type": "markdown",
   "source": [
    "### Upload Data"
   ],
   "metadata": {
    "collapsed": false,
    "pycharm": {
     "name": "#%% md\n"
    }
   }
  },
  {
   "cell_type": "code",
   "execution_count": 4,
   "outputs": [],
   "source": [
    "data_general = pd.read_csv(r'data/process/new_data.csv', skiprows=[1, 2]).reset_index()\n"
   ],
   "metadata": {
    "collapsed": false,
    "pycharm": {
     "name": "#%%\n"
    }
   }
  },
  {
   "cell_type": "markdown",
   "source": [
    "## Data by:\n",
    "1. California\n",
    "2. Alberta\n",
    "3. Washington"
   ],
   "metadata": {
    "collapsed": false,
    "pycharm": {
     "name": "#%% md\n"
    }
   }
  },
  {
   "cell_type": "markdown",
   "source": [
    "## stolen_bikes_place to City/State/Country"
   ],
   "metadata": {
    "collapsed": false,
    "pycharm": {
     "name": "#%% md\n"
    }
   }
  },
  {
   "cell_type": "code",
   "execution_count": 5,
   "outputs": [],
   "source": [
    "new_file_path = r'data/process/res_stolen_loc_splitted.csv'"
   ],
   "metadata": {
    "collapsed": false,
    "pycharm": {
     "name": "#%%\n"
    }
   }
  },
  {
   "cell_type": "code",
   "execution_count": null,
   "outputs": [],
   "source": [
    "df = pd.read_csv(r'data/process/res_with_geo_loc.csv')\n",
    "df[['city', 'state', 'country']] = df['stolen_bikes_place'].str.split(',', expand=True)\n",
    "df.to_csv(new_file_path)"
   ],
   "metadata": {
    "collapsed": false,
    "pycharm": {
     "name": "#%%\n"
    }
   }
  },
  {
   "cell_type": "code",
   "execution_count": 6,
   "outputs": [],
   "source": [
    "data_states = pd.read_csv(new_file_path, skiprows=[1, 2]).reset_index()"
   ],
   "metadata": {
    "collapsed": false,
    "pycharm": {
     "name": "#%%\n"
    }
   }
  },
  {
   "cell_type": "markdown",
   "source": [
    "### Age"
   ],
   "metadata": {
    "collapsed": false,
    "pycharm": {
     "name": "#%% md\n"
    }
   }
  },
  {
   "cell_type": "code",
   "execution_count": 9,
   "outputs": [
    {
     "data": {
      "text/plain": "      total  California  Alberta  Washington\nyear                                        \n1935      1           0        0           0\n1938      1           0        0           0\n1943      2           0        0           0\n1944      3           0        0           0\n1945      1           0        0           0\n...     ...         ...      ...         ...\n2008      3           0        0           0\n2009      1           0        0           0\n2010      3           0        0           0\n2012      1           0        0           0\n2013      1           0        0           0\n\n[72 rows x 4 columns]",
      "text/html": "<div>\n<style scoped>\n    .dataframe tbody tr th:only-of-type {\n        vertical-align: middle;\n    }\n\n    .dataframe tbody tr th {\n        vertical-align: top;\n    }\n\n    .dataframe thead th {\n        text-align: right;\n    }\n</style>\n<table border=\"1\" class=\"dataframe\">\n  <thead>\n    <tr style=\"text-align: right;\">\n      <th></th>\n      <th>total</th>\n      <th>California</th>\n      <th>Alberta</th>\n      <th>Washington</th>\n    </tr>\n    <tr>\n      <th>year</th>\n      <th></th>\n      <th></th>\n      <th></th>\n      <th></th>\n    </tr>\n  </thead>\n  <tbody>\n    <tr>\n      <th>1935</th>\n      <td>1</td>\n      <td>0</td>\n      <td>0</td>\n      <td>0</td>\n    </tr>\n    <tr>\n      <th>1938</th>\n      <td>1</td>\n      <td>0</td>\n      <td>0</td>\n      <td>0</td>\n    </tr>\n    <tr>\n      <th>1943</th>\n      <td>2</td>\n      <td>0</td>\n      <td>0</td>\n      <td>0</td>\n    </tr>\n    <tr>\n      <th>1944</th>\n      <td>3</td>\n      <td>0</td>\n      <td>0</td>\n      <td>0</td>\n    </tr>\n    <tr>\n      <th>1945</th>\n      <td>1</td>\n      <td>0</td>\n      <td>0</td>\n      <td>0</td>\n    </tr>\n    <tr>\n      <th>...</th>\n      <td>...</td>\n      <td>...</td>\n      <td>...</td>\n      <td>...</td>\n    </tr>\n    <tr>\n      <th>2008</th>\n      <td>3</td>\n      <td>0</td>\n      <td>0</td>\n      <td>0</td>\n    </tr>\n    <tr>\n      <th>2009</th>\n      <td>1</td>\n      <td>0</td>\n      <td>0</td>\n      <td>0</td>\n    </tr>\n    <tr>\n      <th>2010</th>\n      <td>3</td>\n      <td>0</td>\n      <td>0</td>\n      <td>0</td>\n    </tr>\n    <tr>\n      <th>2012</th>\n      <td>1</td>\n      <td>0</td>\n      <td>0</td>\n      <td>0</td>\n    </tr>\n    <tr>\n      <th>2013</th>\n      <td>1</td>\n      <td>0</td>\n      <td>0</td>\n      <td>0</td>\n    </tr>\n  </tbody>\n</table>\n<p>72 rows × 4 columns</p>\n</div>"
     },
     "execution_count": 9,
     "metadata": {},
     "output_type": "execute_result"
    }
   ],
   "source": [
    "age = analysis(data_general, old_name='Q34', new_name='year')\n",
    "sumy = age.groupby(by=['year']).count().rename(columns={'index': 'total'})\n",
    "for name in ['California','Alberta','Washington']:\n",
    "    age = analysis(data_states, old_name='Q34', new_name='year',is_state=name)\n",
    "    sum_temp = age.groupby(by=['year']).count().rename(columns={'index': 'total'})\n",
    "    sumy[name] = sum_temp\n",
    "sumy.index= sumy.index.astype('int32', )\n",
    "sumy = sumy.fillna(0).astype('int32')\n",
    "sumy"
   ],
   "metadata": {
    "collapsed": false,
    "pycharm": {
     "name": "#%%\n"
    }
   }
  },
  {
   "cell_type": "code",
   "execution_count": 16,
   "outputs": [
    {
     "data": {
      "text/plain": "       total  California  Alberta  Washington\ncount     72          72       72          72\nmean      23           0        0           0\nstd       19           0        0           0\nmin        1           0        0           0\n25%        8           0        0           0\n50%       19           0        0           0\n75%       36           0        0           0\nmax       74           0        0           0",
      "text/html": "<div>\n<style scoped>\n    .dataframe tbody tr th:only-of-type {\n        vertical-align: middle;\n    }\n\n    .dataframe tbody tr th {\n        vertical-align: top;\n    }\n\n    .dataframe thead th {\n        text-align: right;\n    }\n</style>\n<table border=\"1\" class=\"dataframe\">\n  <thead>\n    <tr style=\"text-align: right;\">\n      <th></th>\n      <th>total</th>\n      <th>California</th>\n      <th>Alberta</th>\n      <th>Washington</th>\n    </tr>\n  </thead>\n  <tbody>\n    <tr>\n      <th>count</th>\n      <td>72</td>\n      <td>72</td>\n      <td>72</td>\n      <td>72</td>\n    </tr>\n    <tr>\n      <th>mean</th>\n      <td>23</td>\n      <td>0</td>\n      <td>0</td>\n      <td>0</td>\n    </tr>\n    <tr>\n      <th>std</th>\n      <td>19</td>\n      <td>0</td>\n      <td>0</td>\n      <td>0</td>\n    </tr>\n    <tr>\n      <th>min</th>\n      <td>1</td>\n      <td>0</td>\n      <td>0</td>\n      <td>0</td>\n    </tr>\n    <tr>\n      <th>25%</th>\n      <td>8</td>\n      <td>0</td>\n      <td>0</td>\n      <td>0</td>\n    </tr>\n    <tr>\n      <th>50%</th>\n      <td>19</td>\n      <td>0</td>\n      <td>0</td>\n      <td>0</td>\n    </tr>\n    <tr>\n      <th>75%</th>\n      <td>36</td>\n      <td>0</td>\n      <td>0</td>\n      <td>0</td>\n    </tr>\n    <tr>\n      <th>max</th>\n      <td>74</td>\n      <td>0</td>\n      <td>0</td>\n      <td>0</td>\n    </tr>\n  </tbody>\n</table>\n</div>"
     },
     "execution_count": 16,
     "metadata": {},
     "output_type": "execute_result"
    }
   ],
   "source": [
    "sumy.describe().astype('int32')"
   ],
   "metadata": {
    "collapsed": false,
    "pycharm": {
     "name": "#%%\n"
    }
   }
  },
  {
   "cell_type": "code",
   "execution_count": 11,
   "outputs": [
    {
     "data": {
      "text/plain": "<AxesSubplot:xlabel='year'>"
     },
     "execution_count": 11,
     "metadata": {},
     "output_type": "execute_result"
    },
    {
     "data": {
      "text/plain": "<Figure size 432x288 with 1 Axes>",
      "image/png": "[encoded data removed]"
     },
     "metadata": {},
     "output_type": "display_data"
    }
   ],
   "source": [
    "sumy.plot()"
   ],
   "metadata": {
    "collapsed": false,
    "pycharm": {
     "name": "#%%\n"
    }
   }
  },
  {
   "cell_type": "code",
   "execution_count": null,
   "outputs": [],
   "source": [],
   "metadata": {
    "collapsed": false,
    "pycharm": {
     "name": "#%%\n"
    }
   }
  }
 ],
 "metadata": {
  "kernelspec": {
   "display_name": "Python 3",
   "language": "python",
   "name": "python3"
  },
  "language_info": {
   "codemirror_mode": {
    "name": "ipython",
    "version": 2
   },
   "file_extension": ".py",
   "mimetype": "text/x-python",
   "name": "python",
   "nbconvert_exporter": "python",
   "pygments_lexer": "ipython2",
   "version": "2.7.6"
  }
 },
 "nbformat": 4,
 "nbformat_minor": 0
}