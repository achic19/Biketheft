{
 "cells": [
  {
   "cell_type": "code",
   "execution_count": 4,
   "outputs": [],
   "source": [
    "import sys\n",
    "import os\n",
    "os.chdir(sys.path[3])"
   ],
   "metadata": {
    "collapsed": false,
    "pycharm": {
     "name": "#%%\n"
    }
   }
  },
  {
   "cell_type": "code",
   "execution_count": 120,
   "outputs": [],
   "source": [
    "import pandas as pd\n",
    "from pandas import DataFrame\n",
    "import numpy as np\n",
    "from sklearn.ensemble import RandomForestClassifier"
   ],
   "metadata": {
    "collapsed": false,
    "pycharm": {
     "name": "#%%\n"
    }
   }
  },
  {
   "cell_type": "code",
   "execution_count": 41,
   "outputs": [],
   "source": [
    "raw_data = pd.read_csv(r'data/process/new_data.csv', skiprows=[1, 2]).reset_index()"
   ],
   "metadata": {
    "collapsed": false,
    "pycharm": {
     "name": "#%%\n"
    }
   }
  },
  {
   "cell_type": "markdown",
   "source": [],
   "metadata": {
    "collapsed": false,
    "pycharm": {
     "name": "#%% md\n"
    }
   }
  },
  {
   "cell_type": "markdown",
   "source": [
    "\n",
    "The questions we are going to use for the following model are stored in the cols variable. Q8 (What type of lock did you use to secure your bicycle? - Selected Choice) has been removed since it includes 951 Nun Values (that means 47% of participants didn't answer that question). The rest of the filtered questions have been removed since I thought they were irrelevant."
   ],
   "metadata": {
    "collapsed": false,
    "pycharm": {
     "name": "#%% md\n"
    }
   }
  },
  {
   "cell_type": "code",
   "execution_count": 47,
   "outputs": [],
   "source": [
    "\n",
    "cols= ['index','Q2','Q4','Q5','Q6','Q7','Q9','Q10','Q11','Q12','Q13','Q14','Q15','Q17']"
   ],
   "metadata": {
    "collapsed": false,
    "pycharm": {
     "name": "#%%\n"
    }
   }
  },
  {
   "cell_type": "code",
   "execution_count": 33,
   "outputs": [
    {
     "data": {
      "text/plain": "      index        StartDate          EndDate         Status        IPAddress  \\\n0         0       Start Date         End Date  Response Type       IP Address   \n1         1  4/21/2022 14:05  4/21/2022 14:10     IP Address  169.231.161.135   \n2         2  4/14/2022 17:28  4/14/2022 17:41     IP Address   128.111.106.41   \n3         3  4/21/2022 19:27  4/21/2022 19:31     IP Address     70.77.83.154   \n4         4  4/14/2022 19:04  4/14/2022 20:18     IP Address   70.185.131.128   \n...     ...              ...              ...            ...              ...   \n2021   2021   6/6/2022 22:07   6/6/2022 22:14     IP Address     47.146.75.18   \n2022   2022  5/24/2022 12:17  5/24/2022 12:20     IP Address   174.90.223.242   \n2023   2023    6/8/2022 3:19    6/8/2022 3:30     IP Address  108.211.181.111   \n2024   2024  5/25/2022 13:39  5/25/2022 13:39     IP Address   50.205.153.166   \n2025   2025   6/8/2022 12:54   6/8/2022 17:02     IP Address    98.34.154.196   \n\n      Progress  Duration (in seconds)  Finished     RecordedDate  \\\n0     Progress  Duration (in seconds)  Finished    Recorded Date   \n1          100                    318      TRUE  4/21/2022 14:10   \n2           22                    770     FALSE  4/21/2022 17:41   \n3          100                    229      TRUE  4/21/2022 19:31   \n4           22                   4454     FALSE  4/21/2022 20:18   \n...        ...                    ...       ...              ...   \n2021       100                    423      TRUE   6/6/2022 22:14   \n2022        69                    191     FALSE   6/7/2022 12:20   \n2023       100                    697      TRUE    6/8/2022 3:30   \n2024         2                     12     FALSE   6/8/2022 13:39   \n2025       100                  14851      TRUE   6/8/2022 17:02   \n\n             ResponseId  ...  \\\n0           Response ID  ...   \n1     R_sRQ635z5e2hc1t7  ...   \n2     R_21uo7CnrNd8VNIx  ...   \n3     R_7V5ufQv2WtbkiSR  ...   \n4     R_qPdUVtdN6wMTtIt  ...   \n...                 ...  ...   \n2021  R_3fYRblhWSYPWCj8  ...   \n2022  R_3O7a8xS7l3i8EZG  ...   \n2023  R_3gO85Ni57rH0pTr  ...   \n2024  R_1jwTkRmNyNow9Tz  ...   \n2025  R_4NqGcU71igD8Z9L  ...   \n\n                                             Q33_9_TEXT  \\\n0     What were the main reasons you cycled more oft...   \n1                                                   NaN   \n2                                                   NaN   \n3                                                   NaN   \n4                                                   NaN   \n...                                                 ...   \n2021                                                NaN   \n2022                                                NaN   \n2023                                                NaN   \n2024                                                NaN   \n2025                                                NaN   \n\n                              Q34                   Q35  \\\n0     In what year were you born?  What is your gender?   \n1                            1996                 Woman   \n2                             NaN                   NaN   \n3                            1973                   Man   \n4                             NaN                   NaN   \n...                           ...                   ...   \n2021                         1970                 Woman   \n2022                          NaN                   NaN   \n2023                          NaN     Prefer not to say   \n2024                          NaN                   NaN   \n2025                         1963                   Man   \n\n                                                    Q36  \\\n0     What is your annual household income after taxes?   \n1                             $200,000 or more per year   \n2                                                   NaN   \n3                                I prefer to not answer   \n4                                                   NaN   \n...                                                 ...   \n2021             Between $100,000 and $149,999 per year   \n2022                                                NaN   \n2023                             I prefer to not answer   \n2024                                                NaN   \n2025                          $200,000 or more per year   \n\n                                          Q37  \\\n0     How many bicycles do you currently own?   \n1                                        One    \n2                                         NaN   \n3                                      Three    \n4                                         NaN   \n...                                       ...   \n2021                                   Three    \n2022                                      NaN   \n2023                   I prefer to not answer   \n2024                                      NaN   \n2025                                   Four     \n\n                                                    Q38  \\\n0     What is the highest level of education you hav...   \n1     Graduate degree (e.g., Master’s, Professional ...   \n2                                                   NaN   \n3     Bachelor’s degree (university 4-year degree)  ...   \n4                                                   NaN   \n...                                                 ...   \n2021  Bachelor’s degree (university 4-year degree)  ...   \n2022                                                NaN   \n2023  Graduate degree (e.g., Master’s, Professional ...   \n2024                                                NaN   \n2025  Graduate degree (e.g., Master’s, Professional ...   \n\n                                                    Q39  \\\n0     What do you consider your main ethnic origin o...   \n1     European (e.g., British Isles, German, French,...   \n2                                                   NaN   \n3     European (e.g., British Isles, German, French,...   \n4                                                   NaN   \n...                                                 ...   \n2021  European (e.g., British Isles, German, French,...   \n2022                                                NaN   \n2023                             I prefer to not answer   \n2024                                                NaN   \n2025                    Multi-ethnic (2+ ethnic groups)   \n\n                                            Q39_10_TEXT  \\\n0     What do you consider your main ethnic origin o...   \n1                                                   NaN   \n2                                                   NaN   \n3                                                   NaN   \n4                                                   NaN   \n...                                                 ...   \n2021                                                NaN   \n2022                                                NaN   \n2023                                                NaN   \n2024                                                NaN   \n2025                                                NaN   \n\n                                                    Q40  \\\n0     Where did you hear about this survey? - Select...   \n1                                                 Email   \n2                                                   NaN   \n3     A bicycle registry/recovery system (e.g., Bike...   \n4                                                   NaN   \n...                                                 ...   \n2021                                              Email   \n2022                                                NaN   \n2023                            Other (please specify):   \n2024                                                NaN   \n2025                                              Email   \n\n                                             Q40_3_TEXT  \n0     Where did you hear about this survey? - Other ...  \n1                                                   NaN  \n2                                                   NaN  \n3                                                   NaN  \n4                                                   NaN  \n...                                                 ...  \n2021                                                NaN  \n2022                                                NaN  \n2023                                      acquientance   \n2024                                                NaN  \n2025                                                NaN  \n\n[2026 rows x 75 columns]",
      "text/html": "<div>\n<style scoped>\n    .dataframe tbody tr th:only-of-type {\n        vertical-align: middle;\n    }\n\n    .dataframe tbody tr th {\n        vertical-align: top;\n    }\n\n    .dataframe thead th {\n        text-align: right;\n    }\n</style>\n<table border=\"1\" class=\"dataframe\">\n  <thead>\n    <tr style=\"text-align: right;\">\n      <th></th>\n      <th>index</th>\n      <th>StartDate</th>\n      <th>EndDate</th>\n      <th>Status</th>\n      <th>IPAddress</th>\n      <th>Progress</th>\n      <th>Duration (in seconds)</th>\n      <th>Finished</th>\n      <th>RecordedDate</th>\n      <th>ResponseId</th>\n      <th>...</th>\n      <th>Q33_9_TEXT</th>\n      <th>Q34</th>\n      <th>Q35</th>\n      <th>Q36</th>\n      <th>Q37</th>\n      <th>Q38</th>\n      <th>Q39</th>\n      <th>Q39_10_TEXT</th>\n      <th>Q40</th>\n      <th>Q40_3_TEXT</th>\n    </tr>\n  </thead>\n  <tbody>\n    <tr>\n      <th>0</th>\n      <td>0</td>\n      <td>Start Date</td>\n      <td>End Date</td>\n      <td>Response Type</td>\n      <td>IP Address</td>\n      <td>Progress</td>\n      <td>Duration (in seconds)</td>\n      <td>Finished</td>\n      <td>Recorded Date</td>\n      <td>Response ID</td>\n      <td>...</td>\n      <td>What were the main reasons you cycled more oft...</td>\n      <td>In what year were you born?</td>\n      <td>What is your gender?</td>\n      <td>What is your annual household income after taxes?</td>\n      <td>How many bicycles do you currently own?</td>\n      <td>What is the highest level of education you hav...</td>\n      <td>What do you consider your main ethnic origin o...</td>\n      <td>What do you consider your main ethnic origin o...</td>\n      <td>Where did you hear about this survey? - Select...</td>\n      <td>Where did you hear about this survey? - Other ...</td>\n    </tr>\n    <tr>\n      <th>1</th>\n      <td>1</td>\n      <td>4/21/2022 14:05</td>\n      <td>4/21/2022 14:10</td>\n      <td>IP Address</td>\n      <td>169.231.161.135</td>\n      <td>100</td>\n      <td>318</td>\n      <td>TRUE</td>\n      <td>4/21/2022 14:10</td>\n      <td>R_sRQ635z5e2hc1t7</td>\n      <td>...</td>\n      <td>NaN</td>\n      <td>1996</td>\n      <td>Woman</td>\n      <td>$200,000 or more per year</td>\n      <td>One</td>\n      <td>Graduate degree (e.g., Master’s, Professional ...</td>\n      <td>European (e.g., British Isles, German, French,...</td>\n      <td>NaN</td>\n      <td>Email</td>\n      <td>NaN</td>\n    </tr>\n    <tr>\n      <th>2</th>\n      <td>2</td>\n      <td>4/14/2022 17:28</td>\n      <td>4/14/2022 17:41</td>\n      <td>IP Address</td>\n      <td>128.111.106.41</td>\n      <td>22</td>\n      <td>770</td>\n      <td>FALSE</td>\n      <td>4/21/2022 17:41</td>\n      <td>R_21uo7CnrNd8VNIx</td>\n      <td>...</td>\n      <td>NaN</td>\n      <td>NaN</td>\n      <td>NaN</td>\n      <td>NaN</td>\n      <td>NaN</td>\n      <td>NaN</td>\n      <td>NaN</td>\n      <td>NaN</td>\n      <td>NaN</td>\n      <td>NaN</td>\n    </tr>\n    <tr>\n      <th>3</th>\n      <td>3</td>\n      <td>4/21/2022 19:27</td>\n      <td>4/21/2022 19:31</td>\n      <td>IP Address</td>\n      <td>70.77.83.154</td>\n      <td>100</td>\n      <td>229</td>\n      <td>TRUE</td>\n      <td>4/21/2022 19:31</td>\n      <td>R_7V5ufQv2WtbkiSR</td>\n      <td>...</td>\n      <td>NaN</td>\n      <td>1973</td>\n      <td>Man</td>\n      <td>I prefer to not answer</td>\n      <td>Three</td>\n      <td>Bachelor’s degree (university 4-year degree)  ...</td>\n      <td>European (e.g., British Isles, German, French,...</td>\n      <td>NaN</td>\n      <td>A bicycle registry/recovery system (e.g., Bike...</td>\n      <td>NaN</td>\n    </tr>\n    <tr>\n      <th>4</th>\n      <td>4</td>\n      <td>4/14/2022 19:04</td>\n      <td>4/14/2022 20:18</td>\n      <td>IP Address</td>\n      <td>70.185.131.128</td>\n      <td>22</td>\n      <td>4454</td>\n      <td>FALSE</td>\n      <td>4/21/2022 20:18</td>\n      <td>R_qPdUVtdN6wMTtIt</td>\n      <td>...</td>\n      <td>NaN</td>\n      <td>NaN</td>\n      <td>NaN</td>\n      <td>NaN</td>\n      <td>NaN</td>\n      <td>NaN</td>\n      <td>NaN</td>\n      <td>NaN</td>\n      <td>NaN</td>\n      <td>NaN</td>\n    </tr>\n    <tr>\n      <th>...</th>\n      <td>...</td>\n      <td>...</td>\n      <td>...</td>\n      <td>...</td>\n      <td>...</td>\n      <td>...</td>\n      <td>...</td>\n      <td>...</td>\n      <td>...</td>\n      <td>...</td>\n      <td>...</td>\n      <td>...</td>\n      <td>...</td>\n      <td>...</td>\n      <td>...</td>\n      <td>...</td>\n      <td>...</td>\n      <td>...</td>\n      <td>...</td>\n      <td>...</td>\n      <td>...</td>\n    </tr>\n    <tr>\n      <th>2021</th>\n      <td>2021</td>\n      <td>6/6/2022 22:07</td>\n      <td>6/6/2022 22:14</td>\n      <td>IP Address</td>\n      <td>47.146.75.18</td>\n      <td>100</td>\n      <td>423</td>\n      <td>TRUE</td>\n      <td>6/6/2022 22:14</td>\n      <td>R_3fYRblhWSYPWCj8</td>\n      <td>...</td>\n      <td>NaN</td>\n      <td>1970</td>\n      <td>Woman</td>\n      <td>Between $100,000 and $149,999 per year</td>\n      <td>Three</td>\n      <td>Bachelor’s degree (university 4-year degree)  ...</td>\n      <td>European (e.g., British Isles, German, French,...</td>\n      <td>NaN</td>\n      <td>Email</td>\n      <td>NaN</td>\n    </tr>\n    <tr>\n      <th>2022</th>\n      <td>2022</td>\n      <td>5/24/2022 12:17</td>\n      <td>5/24/2022 12:20</td>\n      <td>IP Address</td>\n      <td>174.90.223.242</td>\n      <td>69</td>\n      <td>191</td>\n      <td>FALSE</td>\n      <td>6/7/2022 12:20</td>\n      <td>R_3O7a8xS7l3i8EZG</td>\n      <td>...</td>\n      <td>NaN</td>\n      <td>NaN</td>\n      <td>NaN</td>\n      <td>NaN</td>\n      <td>NaN</td>\n      <td>NaN</td>\n      <td>NaN</td>\n      <td>NaN</td>\n      <td>NaN</td>\n      <td>NaN</td>\n    </tr>\n    <tr>\n      <th>2023</th>\n      <td>2023</td>\n      <td>6/8/2022 3:19</td>\n      <td>6/8/2022 3:30</td>\n      <td>IP Address</td>\n      <td>108.211.181.111</td>\n      <td>100</td>\n      <td>697</td>\n      <td>TRUE</td>\n      <td>6/8/2022 3:30</td>\n      <td>R_3gO85Ni57rH0pTr</td>\n      <td>...</td>\n      <td>NaN</td>\n      <td>NaN</td>\n      <td>Prefer not to say</td>\n      <td>I prefer to not answer</td>\n      <td>I prefer to not answer</td>\n      <td>Graduate degree (e.g., Master’s, Professional ...</td>\n      <td>I prefer to not answer</td>\n      <td>NaN</td>\n      <td>Other (please specify):</td>\n      <td>acquientance</td>\n    </tr>\n    <tr>\n      <th>2024</th>\n      <td>2024</td>\n      <td>5/25/2022 13:39</td>\n      <td>5/25/2022 13:39</td>\n      <td>IP Address</td>\n      <td>50.205.153.166</td>\n      <td>2</td>\n      <td>12</td>\n      <td>FALSE</td>\n      <td>6/8/2022 13:39</td>\n      <td>R_1jwTkRmNyNow9Tz</td>\n      <td>...</td>\n      <td>NaN</td>\n      <td>NaN</td>\n      <td>NaN</td>\n      <td>NaN</td>\n      <td>NaN</td>\n      <td>NaN</td>\n      <td>NaN</td>\n      <td>NaN</td>\n      <td>NaN</td>\n      <td>NaN</td>\n    </tr>\n    <tr>\n      <th>2025</th>\n      <td>2025</td>\n      <td>6/8/2022 12:54</td>\n      <td>6/8/2022 17:02</td>\n      <td>IP Address</td>\n      <td>98.34.154.196</td>\n      <td>100</td>\n      <td>14851</td>\n      <td>TRUE</td>\n      <td>6/8/2022 17:02</td>\n      <td>R_4NqGcU71igD8Z9L</td>\n      <td>...</td>\n      <td>NaN</td>\n      <td>1963</td>\n      <td>Man</td>\n      <td>$200,000 or more per year</td>\n      <td>Four</td>\n      <td>Graduate degree (e.g., Master’s, Professional ...</td>\n      <td>Multi-ethnic (2+ ethnic groups)</td>\n      <td>NaN</td>\n      <td>Email</td>\n      <td>NaN</td>\n    </tr>\n  </tbody>\n</table>\n<p>2026 rows × 75 columns</p>\n</div>"
     },
     "execution_count": 33,
     "metadata": {},
     "output_type": "execute_result"
    }
   ],
   "source": [
    "# Just for presentation\n",
    "pd.read_csv(r'data/process/new_data.csv', skiprows=[2]).reset_index()"
   ],
   "metadata": {
    "collapsed": false,
    "pycharm": {
     "name": "#%%\n"
    }
   }
  },
  {
   "cell_type": "code",
   "execution_count": 96,
   "outputs": [
    {
     "data": {
      "text/plain": "      index                                                 Q2    Q4  \\\n0         0  A major bicycle part necessary for riding (i.e...  2019   \n1         1       Entire bicycle (i.e., frame and components)    NaN   \n2         2       Entire bicycle (i.e., frame and components)   2022   \n3         3       Entire bicycle (i.e., frame and components)   2017   \n4         4       Entire bicycle (i.e., frame and components)   2022   \n...     ...                                                ...   ...   \n2020   2020       Entire bicycle (i.e., frame and components)    NaN   \n2021   2021       Entire bicycle (i.e., frame and components)    NaN   \n2022   2022       Entire bicycle (i.e., frame and components)   2017   \n2023   2023                                                NaN   NaN   \n2024   2024       Entire bicycle (i.e., frame and components)   2022   \n\n                       Q5                       Q6  \\\n0     Don’t know/not sure    Evening (18:00-23:59)   \n1                     NaN                      NaN   \n2                  March     Morning (06:00-11:59)   \n3                    May     Evening (18:00-23:59)   \n4                  March   Afternoon (12:00-17:59)   \n...                   ...                      ...   \n2020               March     Morning (06:00-11:59)   \n2021                 May     Evening (18:00-23:59)   \n2022  Don’t know/not sure  Afternoon (12:00-17:59)   \n2023                  NaN                      NaN   \n2024             January     Evening (18:00-23:59)   \n\n                                                     Q7  \\\n0     Yes, frame locked to a fixed structure (e.g., ...   \n1                                                   NaN   \n2     Yes, frame locked to a fixed structure (e.g., ...   \n3     Yes, locked one or more wheels (i.e., bike loc...   \n4     Yes, frame locked to a fixed structure (e.g., ...   \n...                                                 ...   \n2020                                      No, unlocked    \n2021                                      No, unlocked    \n2022  Yes, frame locked to a fixed structure (e.g., ...   \n2023                                                NaN   \n2024  Yes, frame locked to a fixed structure (e.g., ...   \n\n                           Q9   Q10  \\\n0          Outdoor bike rack    No    \n1                         NaN   NaN   \n2     Other (please specify):   No    \n3                         NaN   NaN   \n4          Outdoor bike rack   Yes    \n...                       ...   ...   \n2020    Inside a shed/garage    No    \n2021    Inside a shed/garage    No    \n2022  Other (please specify):   No    \n2023                      NaN   NaN   \n2024  Other (please specify):   No    \n\n                                                    Q11   Q12  \\\n0                            I did not report the theft   No    \n1                                                   NaN   NaN   \n2     The police ,A bicycle registry/recovery system...   No    \n3                                                   NaN   NaN   \n4                                           The police   Yes    \n...                                                 ...   ...   \n2020                                        The police    No    \n2021  The police ,A bicycle registry/recovery system...   No    \n2022                                        The police    No    \n2023                                                NaN   NaN   \n2024  The police ,A bicycle registry/recovery system...  Yes    \n\n                   Q13   Q14         Q15  Q17  \n0           $250-$499    NaN         NaN  Yes  \n1                  NaN   NaN         NaN  NaN  \n2         $1000-$1999   ​No         BMX    No  \n3                  NaN   NaN         NaN  NaN  \n4     $2000-3999        ​No    Folding     No  \n...                ...   ...         ...  ...  \n2020      $1000-$1999   ​No   Mountain     No  \n2021  $2000-3999        ​No   Mountain     No  \n2022  $2000-3999        ​No         Road   No  \n2023               NaN   NaN         NaN  NaN  \n2024    $7000 or more   ​No   Mountain     No  \n\n[2025 rows x 14 columns]",
      "text/html": "<div>\n<style scoped>\n    .dataframe tbody tr th:only-of-type {\n        vertical-align: middle;\n    }\n\n    .dataframe tbody tr th {\n        vertical-align: top;\n    }\n\n    .dataframe thead th {\n        text-align: right;\n    }\n</style>\n<table border=\"1\" class=\"dataframe\">\n  <thead>\n    <tr style=\"text-align: right;\">\n      <th></th>\n      <th>index</th>\n      <th>Q2</th>\n      <th>Q4</th>\n      <th>Q5</th>\n      <th>Q6</th>\n      <th>Q7</th>\n      <th>Q9</th>\n      <th>Q10</th>\n      <th>Q11</th>\n      <th>Q12</th>\n      <th>Q13</th>\n      <th>Q14</th>\n      <th>Q15</th>\n      <th>Q17</th>\n    </tr>\n  </thead>\n  <tbody>\n    <tr>\n      <th>0</th>\n      <td>0</td>\n      <td>A major bicycle part necessary for riding (i.e...</td>\n      <td>2019</td>\n      <td>Don’t know/not sure</td>\n      <td>Evening (18:00-23:59)</td>\n      <td>Yes, frame locked to a fixed structure (e.g., ...</td>\n      <td>Outdoor bike rack</td>\n      <td>No</td>\n      <td>I did not report the theft</td>\n      <td>No</td>\n      <td>$250-$499</td>\n      <td>NaN</td>\n      <td>NaN</td>\n      <td>Yes</td>\n    </tr>\n    <tr>\n      <th>1</th>\n      <td>1</td>\n      <td>Entire bicycle (i.e., frame and components)</td>\n      <td>NaN</td>\n      <td>NaN</td>\n      <td>NaN</td>\n      <td>NaN</td>\n      <td>NaN</td>\n      <td>NaN</td>\n      <td>NaN</td>\n      <td>NaN</td>\n      <td>NaN</td>\n      <td>NaN</td>\n      <td>NaN</td>\n      <td>NaN</td>\n    </tr>\n    <tr>\n      <th>2</th>\n      <td>2</td>\n      <td>Entire bicycle (i.e., frame and components)</td>\n      <td>2022</td>\n      <td>March</td>\n      <td>Morning (06:00-11:59)</td>\n      <td>Yes, frame locked to a fixed structure (e.g., ...</td>\n      <td>Other (please specify):</td>\n      <td>No</td>\n      <td>The police ,A bicycle registry/recovery system...</td>\n      <td>No</td>\n      <td>$1000-$1999</td>\n      <td>​No</td>\n      <td>BMX</td>\n      <td>No</td>\n    </tr>\n    <tr>\n      <th>3</th>\n      <td>3</td>\n      <td>Entire bicycle (i.e., frame and components)</td>\n      <td>2017</td>\n      <td>May</td>\n      <td>Evening (18:00-23:59)</td>\n      <td>Yes, locked one or more wheels (i.e., bike loc...</td>\n      <td>NaN</td>\n      <td>NaN</td>\n      <td>NaN</td>\n      <td>NaN</td>\n      <td>NaN</td>\n      <td>NaN</td>\n      <td>NaN</td>\n      <td>NaN</td>\n    </tr>\n    <tr>\n      <th>4</th>\n      <td>4</td>\n      <td>Entire bicycle (i.e., frame and components)</td>\n      <td>2022</td>\n      <td>March</td>\n      <td>Afternoon (12:00-17:59)</td>\n      <td>Yes, frame locked to a fixed structure (e.g., ...</td>\n      <td>Outdoor bike rack</td>\n      <td>Yes</td>\n      <td>The police</td>\n      <td>Yes</td>\n      <td>$2000-3999</td>\n      <td>​No</td>\n      <td>Folding</td>\n      <td>No</td>\n    </tr>\n    <tr>\n      <th>...</th>\n      <td>...</td>\n      <td>...</td>\n      <td>...</td>\n      <td>...</td>\n      <td>...</td>\n      <td>...</td>\n      <td>...</td>\n      <td>...</td>\n      <td>...</td>\n      <td>...</td>\n      <td>...</td>\n      <td>...</td>\n      <td>...</td>\n      <td>...</td>\n    </tr>\n    <tr>\n      <th>2020</th>\n      <td>2020</td>\n      <td>Entire bicycle (i.e., frame and components)</td>\n      <td>NaN</td>\n      <td>March</td>\n      <td>Morning (06:00-11:59)</td>\n      <td>No, unlocked</td>\n      <td>Inside a shed/garage</td>\n      <td>No</td>\n      <td>The police</td>\n      <td>No</td>\n      <td>$1000-$1999</td>\n      <td>​No</td>\n      <td>Mountain</td>\n      <td>No</td>\n    </tr>\n    <tr>\n      <th>2021</th>\n      <td>2021</td>\n      <td>Entire bicycle (i.e., frame and components)</td>\n      <td>NaN</td>\n      <td>May</td>\n      <td>Evening (18:00-23:59)</td>\n      <td>No, unlocked</td>\n      <td>Inside a shed/garage</td>\n      <td>No</td>\n      <td>The police ,A bicycle registry/recovery system...</td>\n      <td>No</td>\n      <td>$2000-3999</td>\n      <td>​No</td>\n      <td>Mountain</td>\n      <td>No</td>\n    </tr>\n    <tr>\n      <th>2022</th>\n      <td>2022</td>\n      <td>Entire bicycle (i.e., frame and components)</td>\n      <td>2017</td>\n      <td>Don’t know/not sure</td>\n      <td>Afternoon (12:00-17:59)</td>\n      <td>Yes, frame locked to a fixed structure (e.g., ...</td>\n      <td>Other (please specify):</td>\n      <td>No</td>\n      <td>The police</td>\n      <td>No</td>\n      <td>$2000-3999</td>\n      <td>​No</td>\n      <td>Road</td>\n      <td>No</td>\n    </tr>\n    <tr>\n      <th>2023</th>\n      <td>2023</td>\n      <td>NaN</td>\n      <td>NaN</td>\n      <td>NaN</td>\n      <td>NaN</td>\n      <td>NaN</td>\n      <td>NaN</td>\n      <td>NaN</td>\n      <td>NaN</td>\n      <td>NaN</td>\n      <td>NaN</td>\n      <td>NaN</td>\n      <td>NaN</td>\n      <td>NaN</td>\n    </tr>\n    <tr>\n      <th>2024</th>\n      <td>2024</td>\n      <td>Entire bicycle (i.e., frame and components)</td>\n      <td>2022</td>\n      <td>January</td>\n      <td>Evening (18:00-23:59)</td>\n      <td>Yes, frame locked to a fixed structure (e.g., ...</td>\n      <td>Other (please specify):</td>\n      <td>No</td>\n      <td>The police ,A bicycle registry/recovery system...</td>\n      <td>Yes</td>\n      <td>$7000 or more</td>\n      <td>​No</td>\n      <td>Mountain</td>\n      <td>No</td>\n    </tr>\n  </tbody>\n</table>\n<p>2025 rows × 14 columns</p>\n</div>"
     },
     "execution_count": 96,
     "metadata": {},
     "output_type": "execute_result"
    }
   ],
   "source": [
    "raw_features = raw_data[cols]\n",
    "raw_features"
   ],
   "metadata": {
    "collapsed": false,
    "pycharm": {
     "name": "#%%\n"
    }
   }
  },
  {
   "cell_type": "markdown",
   "source": [
    "The code discards participants who answer more than three null questions"
   ],
   "metadata": {
    "collapsed": false,
    "pycharm": {
     "name": "#%% md\n"
    }
   }
  },
  {
   "cell_type": "code",
   "execution_count": 115,
   "outputs": [
    {
     "data": {
      "text/plain": "      index                                                 Q2    Q4  \\\n0         0  A major bicycle part necessary for riding (i.e...  2019   \n2         2       Entire bicycle (i.e., frame and components)   2022   \n3         3       Entire bicycle (i.e., frame and components)   2017   \n4         4       Entire bicycle (i.e., frame and components)   2022   \n5         5       Entire bicycle (i.e., frame and components)   2020   \n...     ...                                                ...   ...   \n2019   2019       Entire bicycle (i.e., frame and components)   2022   \n2020   2020       Entire bicycle (i.e., frame and components)    NaN   \n2021   2021       Entire bicycle (i.e., frame and components)    NaN   \n2022   2022       Entire bicycle (i.e., frame and components)   2017   \n2024   2024       Entire bicycle (i.e., frame and components)   2022   \n\n                       Q5                       Q6  \\\n0     Don’t know/not sure    Evening (18:00-23:59)   \n2                  March     Morning (06:00-11:59)   \n3                    May     Evening (18:00-23:59)   \n4                  March   Afternoon (12:00-17:59)   \n5     Don’t know/not sure    Evening (18:00-23:59)   \n...                   ...                      ...   \n2019               March   Overnight (00:00-05:59)   \n2020               March     Morning (06:00-11:59)   \n2021                 May     Evening (18:00-23:59)   \n2022  Don’t know/not sure  Afternoon (12:00-17:59)   \n2024             January     Evening (18:00-23:59)   \n\n                                                     Q7  \\\n0     Yes, frame locked to a fixed structure (e.g., ...   \n2     Yes, frame locked to a fixed structure (e.g., ...   \n3     Yes, locked one or more wheels (i.e., bike loc...   \n4     Yes, frame locked to a fixed structure (e.g., ...   \n5                                         No, unlocked    \n...                                                 ...   \n2019                                      No, unlocked    \n2020                                      No, unlocked    \n2021                                      No, unlocked    \n2022  Yes, frame locked to a fixed structure (e.g., ...   \n2024  Yes, frame locked to a fixed structure (e.g., ...   \n\n                                                     Q9   Q10  \\\n0                                    Outdoor bike rack    No    \n2                               Other (please specify):   No    \n3                                                   NaN   NaN   \n4                                    Outdoor bike rack   Yes    \n5                                    Outdoor bike rack    No    \n...                                                 ...   ...   \n2019  Outside in the yard or on a balcony, porch, or...   No    \n2020                              Inside a shed/garage    No    \n2021                              Inside a shed/garage    No    \n2022                            Other (please specify):   No    \n2024                            Other (please specify):   No    \n\n                                                    Q11   Q12  \\\n0                            I did not report the theft   No    \n2     The police ,A bicycle registry/recovery system...   No    \n3                                                   NaN   NaN   \n4                                           The police   Yes    \n5     The police ,A bicycle registry/recovery system...   No    \n...                                                 ...   ...   \n2019                                        The police   Yes    \n2020                                        The police    No    \n2021  The police ,A bicycle registry/recovery system...   No    \n2022                                        The police    No    \n2024  The police ,A bicycle registry/recovery system...  Yes    \n\n                   Q13   Q14         Q15  Q17  \n0           $250-$499    NaN         NaN  Yes  \n2         $1000-$1999   ​No         BMX    No  \n3                  NaN   NaN         NaN  NaN  \n4     $2000-3999        ​No    Folding     No  \n5           $500-$999   ​No   Mountain    Yes  \n...                ...   ...         ...  ...  \n2019        $250-$499   ​No   Mountain    Yes  \n2020      $1000-$1999   ​No   Mountain     No  \n2021  $2000-3999        ​No   Mountain     No  \n2022  $2000-3999        ​No         Road   No  \n2024    $7000 or more   ​No   Mountain     No  \n\n[1866 rows x 14 columns]",
      "text/html": "<div>\n<style scoped>\n    .dataframe tbody tr th:only-of-type {\n        vertical-align: middle;\n    }\n\n    .dataframe tbody tr th {\n        vertical-align: top;\n    }\n\n    .dataframe thead th {\n        text-align: right;\n    }\n</style>\n<table border=\"1\" class=\"dataframe\">\n  <thead>\n    <tr style=\"text-align: right;\">\n      <th></th>\n      <th>index</th>\n      <th>Q2</th>\n      <th>Q4</th>\n      <th>Q5</th>\n      <th>Q6</th>\n      <th>Q7</th>\n      <th>Q9</th>\n      <th>Q10</th>\n      <th>Q11</th>\n      <th>Q12</th>\n      <th>Q13</th>\n      <th>Q14</th>\n      <th>Q15</th>\n      <th>Q17</th>\n    </tr>\n  </thead>\n  <tbody>\n    <tr>\n      <th>0</th>\n      <td>0</td>\n      <td>A major bicycle part necessary for riding (i.e...</td>\n      <td>2019</td>\n      <td>Don’t know/not sure</td>\n      <td>Evening (18:00-23:59)</td>\n      <td>Yes, frame locked to a fixed structure (e.g., ...</td>\n      <td>Outdoor bike rack</td>\n      <td>No</td>\n      <td>I did not report the theft</td>\n      <td>No</td>\n      <td>$250-$499</td>\n      <td>NaN</td>\n      <td>NaN</td>\n      <td>Yes</td>\n    </tr>\n    <tr>\n      <th>2</th>\n      <td>2</td>\n      <td>Entire bicycle (i.e., frame and components)</td>\n      <td>2022</td>\n      <td>March</td>\n      <td>Morning (06:00-11:59)</td>\n      <td>Yes, frame locked to a fixed structure (e.g., ...</td>\n      <td>Other (please specify):</td>\n      <td>No</td>\n      <td>The police ,A bicycle registry/recovery system...</td>\n      <td>No</td>\n      <td>$1000-$1999</td>\n      <td>​No</td>\n      <td>BMX</td>\n      <td>No</td>\n    </tr>\n    <tr>\n      <th>3</th>\n      <td>3</td>\n      <td>Entire bicycle (i.e., frame and components)</td>\n      <td>2017</td>\n      <td>May</td>\n      <td>Evening (18:00-23:59)</td>\n      <td>Yes, locked one or more wheels (i.e., bike loc...</td>\n      <td>NaN</td>\n      <td>NaN</td>\n      <td>NaN</td>\n      <td>NaN</td>\n      <td>NaN</td>\n      <td>NaN</td>\n      <td>NaN</td>\n      <td>NaN</td>\n    </tr>\n    <tr>\n      <th>4</th>\n      <td>4</td>\n      <td>Entire bicycle (i.e., frame and components)</td>\n      <td>2022</td>\n      <td>March</td>\n      <td>Afternoon (12:00-17:59)</td>\n      <td>Yes, frame locked to a fixed structure (e.g., ...</td>\n      <td>Outdoor bike rack</td>\n      <td>Yes</td>\n      <td>The police</td>\n      <td>Yes</td>\n      <td>$2000-3999</td>\n      <td>​No</td>\n      <td>Folding</td>\n      <td>No</td>\n    </tr>\n    <tr>\n      <th>5</th>\n      <td>5</td>\n      <td>Entire bicycle (i.e., frame and components)</td>\n      <td>2020</td>\n      <td>Don’t know/not sure</td>\n      <td>Evening (18:00-23:59)</td>\n      <td>No, unlocked</td>\n      <td>Outdoor bike rack</td>\n      <td>No</td>\n      <td>The police ,A bicycle registry/recovery system...</td>\n      <td>No</td>\n      <td>$500-$999</td>\n      <td>​No</td>\n      <td>Mountain</td>\n      <td>Yes</td>\n    </tr>\n    <tr>\n      <th>...</th>\n      <td>...</td>\n      <td>...</td>\n      <td>...</td>\n      <td>...</td>\n      <td>...</td>\n      <td>...</td>\n      <td>...</td>\n      <td>...</td>\n      <td>...</td>\n      <td>...</td>\n      <td>...</td>\n      <td>...</td>\n      <td>...</td>\n      <td>...</td>\n    </tr>\n    <tr>\n      <th>2019</th>\n      <td>2019</td>\n      <td>Entire bicycle (i.e., frame and components)</td>\n      <td>2022</td>\n      <td>March</td>\n      <td>Overnight (00:00-05:59)</td>\n      <td>No, unlocked</td>\n      <td>Outside in the yard or on a balcony, porch, or...</td>\n      <td>No</td>\n      <td>The police</td>\n      <td>Yes</td>\n      <td>$250-$499</td>\n      <td>​No</td>\n      <td>Mountain</td>\n      <td>Yes</td>\n    </tr>\n    <tr>\n      <th>2020</th>\n      <td>2020</td>\n      <td>Entire bicycle (i.e., frame and components)</td>\n      <td>NaN</td>\n      <td>March</td>\n      <td>Morning (06:00-11:59)</td>\n      <td>No, unlocked</td>\n      <td>Inside a shed/garage</td>\n      <td>No</td>\n      <td>The police</td>\n      <td>No</td>\n      <td>$1000-$1999</td>\n      <td>​No</td>\n      <td>Mountain</td>\n      <td>No</td>\n    </tr>\n    <tr>\n      <th>2021</th>\n      <td>2021</td>\n      <td>Entire bicycle (i.e., frame and components)</td>\n      <td>NaN</td>\n      <td>May</td>\n      <td>Evening (18:00-23:59)</td>\n      <td>No, unlocked</td>\n      <td>Inside a shed/garage</td>\n      <td>No</td>\n      <td>The police ,A bicycle registry/recovery system...</td>\n      <td>No</td>\n      <td>$2000-3999</td>\n      <td>​No</td>\n      <td>Mountain</td>\n      <td>No</td>\n    </tr>\n    <tr>\n      <th>2022</th>\n      <td>2022</td>\n      <td>Entire bicycle (i.e., frame and components)</td>\n      <td>2017</td>\n      <td>Don’t know/not sure</td>\n      <td>Afternoon (12:00-17:59)</td>\n      <td>Yes, frame locked to a fixed structure (e.g., ...</td>\n      <td>Other (please specify):</td>\n      <td>No</td>\n      <td>The police</td>\n      <td>No</td>\n      <td>$2000-3999</td>\n      <td>​No</td>\n      <td>Road</td>\n      <td>No</td>\n    </tr>\n    <tr>\n      <th>2024</th>\n      <td>2024</td>\n      <td>Entire bicycle (i.e., frame and components)</td>\n      <td>2022</td>\n      <td>January</td>\n      <td>Evening (18:00-23:59)</td>\n      <td>Yes, frame locked to a fixed structure (e.g., ...</td>\n      <td>Other (please specify):</td>\n      <td>No</td>\n      <td>The police ,A bicycle registry/recovery system...</td>\n      <td>Yes</td>\n      <td>$7000 or more</td>\n      <td>​No</td>\n      <td>Mountain</td>\n      <td>No</td>\n    </tr>\n  </tbody>\n</table>\n<p>1866 rows × 14 columns</p>\n</div>"
     },
     "execution_count": 115,
     "metadata": {},
     "output_type": "execute_result"
    }
   ],
   "source": [
    "filtered_nun = raw_features[raw_features.count(axis=1) > 3]"
   ],
   "metadata": {
    "collapsed": false,
    "pycharm": {
     "name": "#%%\n"
    }
   }
  },
  {
   "cell_type": "code",
   "execution_count": 116,
   "outputs": [
    {
     "name": "stdout",
     "output_type": "stream",
     "text": [
      "Q2\n",
      "A major bicycle part necessary for riding (i.e., saddle, wheel, pedal, or handlebar)      25\n",
      "Entire bicycle (i.e., frame and components)                                             1826\n",
      "NaN                                                                                       15\n",
      "Name: index, dtype: int64\n",
      "Q4\n",
      "2017                    45\n",
      "2018                    54\n",
      "2019                   262\n",
      "2020                   325\n",
      "2021                   695\n",
      "2022                   159\n",
      "Don’t know/not sure      7\n",
      "NaN                    319\n",
      "Name: index, dtype: int64\n",
      "Q5\n",
      "April                  163\n",
      "August                 145\n",
      "December                85\n",
      "Don’t know/not sure    131\n",
      "February                88\n",
      "January                 97\n",
      "July                   137\n",
      "June                   281\n",
      "March                  116\n",
      "May                    264\n",
      "November                94\n",
      "October                127\n",
      "September              134\n",
      "NaN                      4\n",
      "Name: index, dtype: int64\n",
      "Q6\n",
      "Afternoon (12:00-17:59)    362\n",
      "Don’t know/not sure        337\n",
      "Evening (18:00-23:59)      227\n",
      "Morning (06:00-11:59)      176\n",
      "Overnight (00:00-05:59)    753\n",
      "NaN                         11\n",
      "Name: index, dtype: int64\n",
      "Q7\n",
      "Don’t know/not sure                                               37\n",
      "No, unlocked                                                     728\n",
      "Yes, frame locked to a fixed structure (e.g., bike rack)         967\n",
      "Yes, locked one or more wheels (i.e., bike locked to itself)     126\n",
      "NaN                                                                8\n",
      "Name: index, dtype: int64\n",
      "Q9\n",
      "Against a street sign, tree, or street furniture (e.g., lamppost, railing, bench, parking meter)      72\n",
      "Building lobby                                                                                        14\n",
      "Condo storage room                                                                                    63\n",
      "Controlled-access bicycle room or enclosed bike locker                                                98\n",
      "Inside a shed/garage                                                                                 520\n",
      "Inside house/apartment                                                                                48\n",
      "Other (please specify):                                                                              271\n",
      "Outdoor bike rack                                                                                    325\n",
      "Outside in the yard or on a balcony, porch, or patio                                                 260\n",
      "Parking garage bike rack/railing/pipe/etc.                                                           147\n",
      "Workplace office                                                                                      20\n",
      "NaN                                                                                                   28\n",
      "Name: index, dtype: int64\n",
      "Q10\n",
      "Don’t know/not sure      62\n",
      "No                     1135\n",
      "Yes                     641\n",
      "NaN                      28\n",
      "Name: index, dtype: int64\n",
      "Q11\n",
      "A bicycle registry/recovery system (e.g., Bike Index, a university registration program)                                                                                99\n",
      "A bicycle registry/recovery system (e.g., Bike Index, a university registration program),Other (please specify):                                                         5\n",
      "A bicycle registry/recovery system (e.g., Bike Index, a university registration program),Social media (e.g. Instagram, Twitter)                                         37\n",
      "A bicycle registry/recovery system (e.g., Bike Index, a university registration program),Social media (e.g. Instagram, Twitter),Other (please specify):                  1\n",
      "I did not report the theft                                                                                                                                              61\n",
      "Other (please specify):                                                                                                                                                 16\n",
      "Social media (e.g. Instagram, Twitter)                                                                                                                                  11\n",
      "The police                                                                                                                                                             311\n",
      "The police ,A bicycle registry/recovery system (e.g., Bike Index, a university registration program)                                                                   538\n",
      "The police ,A bicycle registry/recovery system (e.g., Bike Index, a university registration program),Other (please specify):                                            21\n",
      "The police ,A bicycle registry/recovery system (e.g., Bike Index, a university registration program),Social media (e.g. Instagram, Twitter)                            622\n",
      "The police ,A bicycle registry/recovery system (e.g., Bike Index, a university registration program),Social media (e.g. Instagram, Twitter),Other (please specify):     43\n",
      "The police ,Other (please specify):                                                                                                                                     15\n",
      "The police ,Social media (e.g. Instagram, Twitter)                                                                                                                      51\n",
      "The police ,Social media (e.g. Instagram, Twitter),Other (please specify):                                                                                               7\n",
      "NaN                                                                                                                                                                     28\n",
      "Name: index, dtype: int64\n",
      "Q12\n",
      "Don’t know/not sure         81\n",
      "I prefer to not answer      11\n",
      "No                        1094\n",
      "Yes                        651\n",
      "NaN                         29\n",
      "Name: index, dtype: int64\n",
      "Q13\n",
      "$1000-$1999               432\n",
      "$2000-3999                302\n",
      "$250-$499                 246\n",
      "$4000-6999                151\n",
      "$500-$999                 525\n",
      "$7000 or more              97\n",
      "Don’t know/not sure         6\n",
      "I prefer to not answer      3\n",
      "Less than $250             78\n",
      "NaN                        26\n",
      "Name: index, dtype: int64\n",
      "Q14\n",
      "Yes, with pedal-assist (motor activates only while pedalling)                                 101\n",
      "Yes, with pedal-assist and throttle (motor activates while pedalling or by throttle-only)     122\n",
      "​No                                                                                          1574\n",
      "NaN                                                                                            69\n",
      "Name: index, dtype: int64\n",
      "Q15\n",
      "BMX                         17\n",
      "Cruiser                     61\n",
      "Delivery/Cargo              49\n",
      "Don’t know/not sure         14\n",
      "Fixed gear                  42\n",
      "Folding                     20\n",
      "Gravel/cyclocross          111\n",
      "Hybrid/City/Dutch          548\n",
      "Mountain                   548\n",
      "Recumbent                    3\n",
      "Road                       378\n",
      "Tandem                       1\n",
      "Tricycle or quadricycle      6\n",
      "NaN                         68\n",
      "Name: index, dtype: int64\n",
      "Q17\n",
      "No     1577\n",
      "Yes     247\n",
      "NaN      42\n",
      "Name: index, dtype: int64\n"
     ]
    }
   ],
   "source": [
    "for col in cols[1:]:\n",
    "    print(filtered_nun.groupby(by = col,dropna=False).count()['index'])"
   ],
   "metadata": {
    "collapsed": false,
    "pycharm": {
     "name": "#%%\n"
    }
   }
  },
  {
   "cell_type": "markdown",
   "source": [
    "### Missing Values"
   ],
   "metadata": {
    "collapsed": false,
    "pycharm": {
     "name": "#%% md\n"
    }
   }
  },
  {
   "cell_type": "markdown",
   "source": [
    "First, a table is created, sorted from the question with the least NuNs to the question with the most NuNs"
   ],
   "metadata": {
    "collapsed": false,
    "pycharm": {
     "name": "#%% md\n"
    }
   }
  },
  {
   "cell_type": "code",
   "execution_count": 117,
   "outputs": [
    {
     "data": {
      "text/plain": "   col_q  nun_count\n2     Q5          4\n4     Q7          8\n3     Q6         11\n0     Q2         15\n9    Q13         26\n5     Q9         28\n6    Q10         28\n7    Q11         28\n8    Q12         29\n12   Q17         42\n11   Q15         68\n10   Q14         69\n1     Q4        319",
      "text/html": "<div>\n<style scoped>\n    .dataframe tbody tr th:only-of-type {\n        vertical-align: middle;\n    }\n\n    .dataframe tbody tr th {\n        vertical-align: top;\n    }\n\n    .dataframe thead th {\n        text-align: right;\n    }\n</style>\n<table border=\"1\" class=\"dataframe\">\n  <thead>\n    <tr style=\"text-align: right;\">\n      <th></th>\n      <th>col_q</th>\n      <th>nun_count</th>\n    </tr>\n  </thead>\n  <tbody>\n    <tr>\n      <th>2</th>\n      <td>Q5</td>\n      <td>4</td>\n    </tr>\n    <tr>\n      <th>4</th>\n      <td>Q7</td>\n      <td>8</td>\n    </tr>\n    <tr>\n      <th>3</th>\n      <td>Q6</td>\n      <td>11</td>\n    </tr>\n    <tr>\n      <th>0</th>\n      <td>Q2</td>\n      <td>15</td>\n    </tr>\n    <tr>\n      <th>9</th>\n      <td>Q13</td>\n      <td>26</td>\n    </tr>\n    <tr>\n      <th>5</th>\n      <td>Q9</td>\n      <td>28</td>\n    </tr>\n    <tr>\n      <th>6</th>\n      <td>Q10</td>\n      <td>28</td>\n    </tr>\n    <tr>\n      <th>7</th>\n      <td>Q11</td>\n      <td>28</td>\n    </tr>\n    <tr>\n      <th>8</th>\n      <td>Q12</td>\n      <td>29</td>\n    </tr>\n    <tr>\n      <th>12</th>\n      <td>Q17</td>\n      <td>42</td>\n    </tr>\n    <tr>\n      <th>11</th>\n      <td>Q15</td>\n      <td>68</td>\n    </tr>\n    <tr>\n      <th>10</th>\n      <td>Q14</td>\n      <td>69</td>\n    </tr>\n    <tr>\n      <th>1</th>\n      <td>Q4</td>\n      <td>319</td>\n    </tr>\n  </tbody>\n</table>\n</div>"
     },
     "execution_count": 117,
     "metadata": {},
     "output_type": "execute_result"
    }
   ],
   "source": [
    "temp_dic = {'col_q':[],'nun_count':[]}\n",
    "for col in cols[1:]:\n",
    "    temp_groupby = filtered_nun.groupby(by = col,dropna=False).count()['index']\n",
    "    temp_dic['col_q'].append(temp_groupby.index.name)\n",
    "    temp_dic['nun_count'].append(temp_groupby[[np.nan]][0])\n",
    "df_col_q_nun_count = DataFrame(temp_dic)\n",
    "what_to_deal_first = df_col_q_nun_count.sort_values(by='nun_count')\n",
    "what_to_deal_first"
   ],
   "metadata": {
    "collapsed": false,
    "pycharm": {
     "name": "#%%\n"
    }
   }
  },
  {
   "cell_type": "markdown",
   "source": [
    "The NuNs of the question with the fewest NuNs will be replaced with the most popular answer"
   ],
   "metadata": {
    "collapsed": false,
    "pycharm": {
     "name": "#%% md\n"
    }
   }
  },
  {
   "cell_type": "code",
   "execution_count": 118,
   "outputs": [
    {
     "name": "stdout",
     "output_type": "stream",
     "text": [
      "The question with the fewest NuN values is Q5 \n",
      "the most popular answer for Q5 is June  \n"
     ]
    },
    {
     "name": "stderr",
     "output_type": "stream",
     "text": [
      "C:\\Users\\Achituv\\AppData\\Local\\Temp\\ipykernel_19560\\2407467839.py:5: SettingWithCopyWarning: \n",
      "A value is trying to be set on a copy of a slice from a DataFrame.\n",
      "Try using .loc[row_indexer,col_indexer] = value instead\n",
      "\n",
      "See the caveats in the documentation: https://pandas.pydata.org/pandas-docs/stable/user_guide/indexing.html#returning-a-view-versus-a-copy\n",
      "  filtered_nun[min_nun] = filtered_nun[min_nun].fillna(replace_nun)\n"
     ]
    }
   ],
   "source": [
    "min_nun = what_to_deal_first.iloc[0]['col_q']\n",
    "print(\"The question with the fewest NuN values is {} \".format(min_nun))\n",
    "replace_nun = filtered_nun.groupby(by = min_nun ,dropna=False).count()['index'].idxmax()\n",
    "print(\"the most popular answer for {} is {} \".format(min_nun,replace_nun))\n",
    "filtered_nun[min_nun] = filtered_nun[min_nun].fillna(replace_nun)\n"
   ],
   "metadata": {
    "collapsed": false,
    "pycharm": {
     "name": "#%%\n"
    }
   }
  },
  {
   "cell_type": "code",
   "execution_count": 134,
   "outputs": [
    {
     "data": {
      "text/plain": "      index                                                 Q2    Q4  \\\n0         0  A major bicycle part necessary for riding (i.e...  2019   \n2         2       Entire bicycle (i.e., frame and components)   2022   \n3         3       Entire bicycle (i.e., frame and components)   2017   \n4         4       Entire bicycle (i.e., frame and components)   2022   \n5         5       Entire bicycle (i.e., frame and components)   2020   \n...     ...                                                ...   ...   \n2019   2019       Entire bicycle (i.e., frame and components)   2022   \n2020   2020       Entire bicycle (i.e., frame and components)    NaN   \n2021   2021       Entire bicycle (i.e., frame and components)    NaN   \n2022   2022       Entire bicycle (i.e., frame and components)   2017   \n2024   2024       Entire bicycle (i.e., frame and components)   2022   \n\n                       Q5                       Q6  \\\n0     Don’t know/not sure    Evening (18:00-23:59)   \n2                  March     Morning (06:00-11:59)   \n3                    May     Evening (18:00-23:59)   \n4                  March   Afternoon (12:00-17:59)   \n5     Don’t know/not sure    Evening (18:00-23:59)   \n...                   ...                      ...   \n2019               March   Overnight (00:00-05:59)   \n2020               March     Morning (06:00-11:59)   \n2021                 May     Evening (18:00-23:59)   \n2022  Don’t know/not sure  Afternoon (12:00-17:59)   \n2024             January     Evening (18:00-23:59)   \n\n                                                     Q7  \\\n0     Yes, frame locked to a fixed structure (e.g., ...   \n2     Yes, frame locked to a fixed structure (e.g., ...   \n3     Yes, locked one or more wheels (i.e., bike loc...   \n4     Yes, frame locked to a fixed structure (e.g., ...   \n5                                         No, unlocked    \n...                                                 ...   \n2019                                      No, unlocked    \n2020                                      No, unlocked    \n2021                                      No, unlocked    \n2022  Yes, frame locked to a fixed structure (e.g., ...   \n2024  Yes, frame locked to a fixed structure (e.g., ...   \n\n                                                     Q9   Q10  \\\n0                                    Outdoor bike rack    No    \n2                               Other (please specify):   No    \n3                                                   NaN   NaN   \n4                                    Outdoor bike rack   Yes    \n5                                    Outdoor bike rack    No    \n...                                                 ...   ...   \n2019  Outside in the yard or on a balcony, porch, or...   No    \n2020                              Inside a shed/garage    No    \n2021                              Inside a shed/garage    No    \n2022                            Other (please specify):   No    \n2024                            Other (please specify):   No    \n\n                                                    Q11   Q12  \\\n0                            I did not report the theft   No    \n2     The police ,A bicycle registry/recovery system...   No    \n3                                                   NaN   NaN   \n4                                           The police   Yes    \n5     The police ,A bicycle registry/recovery system...   No    \n...                                                 ...   ...   \n2019                                        The police   Yes    \n2020                                        The police    No    \n2021  The police ,A bicycle registry/recovery system...   No    \n2022                                        The police    No    \n2024  The police ,A bicycle registry/recovery system...  Yes    \n\n                   Q13   Q14         Q15  Q17  \n0           $250-$499    NaN         NaN  Yes  \n2         $1000-$1999   ​No         BMX    No  \n3                  NaN   NaN         NaN  NaN  \n4     $2000-3999        ​No    Folding     No  \n5           $500-$999   ​No   Mountain    Yes  \n...                ...   ...         ...  ...  \n2019        $250-$499   ​No   Mountain    Yes  \n2020      $1000-$1999   ​No   Mountain     No  \n2021  $2000-3999        ​No   Mountain     No  \n2022  $2000-3999        ​No         Road   No  \n2024    $7000 or more   ​No   Mountain     No  \n\n[1866 rows x 14 columns]",
      "text/html": "<div>\n<style scoped>\n    .dataframe tbody tr th:only-of-type {\n        vertical-align: middle;\n    }\n\n    .dataframe tbody tr th {\n        vertical-align: top;\n    }\n\n    .dataframe thead th {\n        text-align: right;\n    }\n</style>\n<table border=\"1\" class=\"dataframe\">\n  <thead>\n    <tr style=\"text-align: right;\">\n      <th></th>\n      <th>index</th>\n      <th>Q2</th>\n      <th>Q4</th>\n      <th>Q5</th>\n      <th>Q6</th>\n      <th>Q7</th>\n      <th>Q9</th>\n      <th>Q10</th>\n      <th>Q11</th>\n      <th>Q12</th>\n      <th>Q13</th>\n      <th>Q14</th>\n      <th>Q15</th>\n      <th>Q17</th>\n    </tr>\n  </thead>\n  <tbody>\n    <tr>\n      <th>0</th>\n      <td>0</td>\n      <td>A major bicycle part necessary for riding (i.e...</td>\n      <td>2019</td>\n      <td>Don’t know/not sure</td>\n      <td>Evening (18:00-23:59)</td>\n      <td>Yes, frame locked to a fixed structure (e.g., ...</td>\n      <td>Outdoor bike rack</td>\n      <td>No</td>\n      <td>I did not report the theft</td>\n      <td>No</td>\n      <td>$250-$499</td>\n      <td>NaN</td>\n      <td>NaN</td>\n      <td>Yes</td>\n    </tr>\n    <tr>\n      <th>2</th>\n      <td>2</td>\n      <td>Entire bicycle (i.e., frame and components)</td>\n      <td>2022</td>\n      <td>March</td>\n      <td>Morning (06:00-11:59)</td>\n      <td>Yes, frame locked to a fixed structure (e.g., ...</td>\n      <td>Other (please specify):</td>\n      <td>No</td>\n      <td>The police ,A bicycle registry/recovery system...</td>\n      <td>No</td>\n      <td>$1000-$1999</td>\n      <td>​No</td>\n      <td>BMX</td>\n      <td>No</td>\n    </tr>\n    <tr>\n      <th>3</th>\n      <td>3</td>\n      <td>Entire bicycle (i.e., frame and components)</td>\n      <td>2017</td>\n      <td>May</td>\n      <td>Evening (18:00-23:59)</td>\n      <td>Yes, locked one or more wheels (i.e., bike loc...</td>\n      <td>NaN</td>\n      <td>NaN</td>\n      <td>NaN</td>\n      <td>NaN</td>\n      <td>NaN</td>\n      <td>NaN</td>\n      <td>NaN</td>\n      <td>NaN</td>\n    </tr>\n    <tr>\n      <th>4</th>\n      <td>4</td>\n      <td>Entire bicycle (i.e., frame and components)</td>\n      <td>2022</td>\n      <td>March</td>\n      <td>Afternoon (12:00-17:59)</td>\n      <td>Yes, frame locked to a fixed structure (e.g., ...</td>\n      <td>Outdoor bike rack</td>\n      <td>Yes</td>\n      <td>The police</td>\n      <td>Yes</td>\n      <td>$2000-3999</td>\n      <td>​No</td>\n      <td>Folding</td>\n      <td>No</td>\n    </tr>\n    <tr>\n      <th>5</th>\n      <td>5</td>\n      <td>Entire bicycle (i.e., frame and components)</td>\n      <td>2020</td>\n      <td>Don’t know/not sure</td>\n      <td>Evening (18:00-23:59)</td>\n      <td>No, unlocked</td>\n      <td>Outdoor bike rack</td>\n      <td>No</td>\n      <td>The police ,A bicycle registry/recovery system...</td>\n      <td>No</td>\n      <td>$500-$999</td>\n      <td>​No</td>\n      <td>Mountain</td>\n      <td>Yes</td>\n    </tr>\n    <tr>\n      <th>...</th>\n      <td>...</td>\n      <td>...</td>\n      <td>...</td>\n      <td>...</td>\n      <td>...</td>\n      <td>...</td>\n      <td>...</td>\n      <td>...</td>\n      <td>...</td>\n      <td>...</td>\n      <td>...</td>\n      <td>...</td>\n      <td>...</td>\n      <td>...</td>\n    </tr>\n    <tr>\n      <th>2019</th>\n      <td>2019</td>\n      <td>Entire bicycle (i.e., frame and components)</td>\n      <td>2022</td>\n      <td>March</td>\n      <td>Overnight (00:00-05:59)</td>\n      <td>No, unlocked</td>\n      <td>Outside in the yard or on a balcony, porch, or...</td>\n      <td>No</td>\n      <td>The police</td>\n      <td>Yes</td>\n      <td>$250-$499</td>\n      <td>​No</td>\n      <td>Mountain</td>\n      <td>Yes</td>\n    </tr>\n    <tr>\n      <th>2020</th>\n      <td>2020</td>\n      <td>Entire bicycle (i.e., frame and components)</td>\n      <td>NaN</td>\n      <td>March</td>\n      <td>Morning (06:00-11:59)</td>\n      <td>No, unlocked</td>\n      <td>Inside a shed/garage</td>\n      <td>No</td>\n      <td>The police</td>\n      <td>No</td>\n      <td>$1000-$1999</td>\n      <td>​No</td>\n      <td>Mountain</td>\n      <td>No</td>\n    </tr>\n    <tr>\n      <th>2021</th>\n      <td>2021</td>\n      <td>Entire bicycle (i.e., frame and components)</td>\n      <td>NaN</td>\n      <td>May</td>\n      <td>Evening (18:00-23:59)</td>\n      <td>No, unlocked</td>\n      <td>Inside a shed/garage</td>\n      <td>No</td>\n      <td>The police ,A bicycle registry/recovery system...</td>\n      <td>No</td>\n      <td>$2000-3999</td>\n      <td>​No</td>\n      <td>Mountain</td>\n      <td>No</td>\n    </tr>\n    <tr>\n      <th>2022</th>\n      <td>2022</td>\n      <td>Entire bicycle (i.e., frame and components)</td>\n      <td>2017</td>\n      <td>Don’t know/not sure</td>\n      <td>Afternoon (12:00-17:59)</td>\n      <td>Yes, frame locked to a fixed structure (e.g., ...</td>\n      <td>Other (please specify):</td>\n      <td>No</td>\n      <td>The police</td>\n      <td>No</td>\n      <td>$2000-3999</td>\n      <td>​No</td>\n      <td>Road</td>\n      <td>No</td>\n    </tr>\n    <tr>\n      <th>2024</th>\n      <td>2024</td>\n      <td>Entire bicycle (i.e., frame and components)</td>\n      <td>2022</td>\n      <td>January</td>\n      <td>Evening (18:00-23:59)</td>\n      <td>Yes, frame locked to a fixed structure (e.g., ...</td>\n      <td>Other (please specify):</td>\n      <td>No</td>\n      <td>The police ,A bicycle registry/recovery system...</td>\n      <td>Yes</td>\n      <td>$7000 or more</td>\n      <td>​No</td>\n      <td>Mountain</td>\n      <td>No</td>\n    </tr>\n  </tbody>\n</table>\n<p>1866 rows × 14 columns</p>\n</div>"
     },
     "execution_count": 134,
     "metadata": {},
     "output_type": "execute_result"
    }
   ],
   "source": [
    "filtered_nun"
   ],
   "metadata": {
    "collapsed": false,
    "pycharm": {
     "name": "#%%\n"
    }
   }
  },
  {
   "cell_type": "code",
   "execution_count": 136,
   "outputs": [],
   "source": [
    "test  = filtered_nun.apply(lambda x: x.astype('category').cat.codes)"
   ],
   "metadata": {
    "collapsed": false,
    "pycharm": {
     "name": "#%%\n"
    }
   }
  },
  {
   "cell_type": "code",
   "execution_count": 119,
   "outputs": [
    {
     "data": {
      "text/plain": "Q5\nApril                  163\nAugust                 145\nDecember                85\nDon’t know/not sure    131\nFebruary                88\nJanuary                 97\nJuly                   137\nJune                   285\nMarch                  116\nMay                    264\nNovember                94\nOctober                127\nSeptember              134\nName: index, dtype: int64"
     },
     "execution_count": 119,
     "metadata": {},
     "output_type": "execute_result"
    }
   ],
   "source": [
    "filtered_nun.groupby(by = min_nun ,dropna=False).count()['index']"
   ],
   "metadata": {
    "collapsed": false,
    "pycharm": {
     "name": "#%%\n"
    }
   }
  },
  {
   "cell_type": "code",
   "execution_count": 124,
   "outputs": [],
   "source": [
    "clf = RandomForestClassifier()"
   ],
   "metadata": {
    "collapsed": false,
    "pycharm": {
     "name": "#%%\n"
    }
   }
  },
  {
   "cell_type": "code",
   "execution_count": 128,
   "outputs": [
    {
     "data": {
      "text/plain": "'Q7'"
     },
     "execution_count": 128,
     "metadata": {},
     "output_type": "execute_result"
    }
   ],
   "source": [
    "cur_field = what_to_deal_first.iloc[1]['col_q']\n",
    "cur_field"
   ],
   "metadata": {
    "collapsed": false,
    "pycharm": {
     "name": "#%%\n"
    }
   }
  },
  {
   "cell_type": "code",
   "execution_count": null,
   "outputs": [],
   "source": [
    "data = filtered_nun[filtered_nun[cur_field].notna()]"
   ],
   "metadata": {
    "collapsed": false,
    "pycharm": {
     "name": "#%%\n",
     "is_executing": true
    }
   }
  },
  {
   "cell_type": "code",
   "execution_count": 133,
   "outputs": [
    {
     "data": {
      "text/plain": "array([['Don’t know/not sure'],\n       ['March '],\n       ['May '],\n       ...,\n       ['May '],\n       ['Don’t know/not sure'],\n       ['January ']], dtype=object)"
     },
     "execution_count": 133,
     "metadata": {},
     "output_type": "execute_result"
    }
   ],
   "source": [
    "X = data[['Q5']].to_numpy()\n",
    "X"
   ],
   "metadata": {
    "collapsed": false,
    "pycharm": {
     "name": "#%%\n"
    }
   }
  },
  {
   "cell_type": "code",
   "execution_count": null,
   "outputs": [],
   "source": [
    "X = demographic_data[demographic_data.columns[:-1]].to_numpy()"
   ],
   "metadata": {
    "collapsed": false,
    "pycharm": {
     "name": "#%%\n"
    }
   }
  },
  {
   "cell_type": "code",
   "execution_count": null,
   "outputs": [],
   "source": [
    "clf.fit(X, y)"
   ],
   "metadata": {
    "collapsed": false,
    "pycharm": {
     "name": "#%%\n"
    }
   }
  }
 ],
 "metadata": {
  "kernelspec": {
   "display_name": "Python 3",
   "language": "python",
   "name": "python3"
  },
  "language_info": {
   "codemirror_mode": {
    "name": "ipython",
    "version": 2
   },
   "file_extension": ".py",
   "mimetype": "text/x-python",
   "name": "python",
   "nbconvert_exporter": "python",
   "pygments_lexer": "ipython2",
   "version": "2.7.6"
  }
 },
 "nbformat": 4,
 "nbformat_minor": 0
}