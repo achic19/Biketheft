{
 "cells": [
  {
   "cell_type": "code",
   "execution_count": 3,
   "outputs": [],
   "source": [
    "import geopandas as gpd\n",
    "import os\n",
    "import sys\n",
    "os.chdir(sys.path[3])\n",
    "import pandas as pd\n",
    "import numpy as np\n",
    "import seaborn as sns\n",
    "import matplotlib.pyplot as plt\n"
   ],
   "metadata": {
    "collapsed": false,
    "pycharm": {
     "name": "#%%\n"
    }
   }
  },
  {
   "cell_type": "markdown",
   "source": [
    "### Upload three files with\n",
    "1. Number of thefts per country in US\n",
    "2. Number of recovery per country in Canada\n",
    "3. Number of participants per country (US and Canada)\n"
   ],
   "metadata": {
    "collapsed": false,
    "pycharm": {
     "name": "#%% md\n"
    }
   }
  },
  {
   "cell_type": "code",
   "execution_count": 4,
   "outputs": [],
   "source": [
    "us = gpd.read_file(r'general\\Biketheft_esri\\theft.gpkg',layer='count_by_us', driver=\"GPKG\")\n",
    "canada = gpd.read_file(r'general\\Biketheft_esri\\theft.gpkg',layer='count_by_canada', driver=\"GPKG\")\n",
    "participants = gpd.read_file(r'general\\Biketheft_esri\\theft.gpkg',layer='prtcpnt_lctn', driver=\"GPKG\")"
   ],
   "metadata": {
    "collapsed": false,
    "pycharm": {
     "name": "#%%\n"
    }
   }
  },
  {
   "cell_type": "markdown",
   "source": [
    "### Get the data set up for farther analysis\n",
    "1. Merge US and Canada files\n",
    "2. Remove irrelevant columns from the participants file"
   ],
   "metadata": {
    "collapsed": false,
    "pycharm": {
     "name": "#%% md\n"
    }
   }
  },
  {
   "cell_type": "code",
   "execution_count": 5,
   "outputs": [],
   "source": [
    "canada.rename(columns={'PRENAME':'NAME'},inplace=True)\n",
    "theft_recovery = pd.concat([us,canada])\n",
    "participants= participants[['Join_Count','NAME']].rename({'Join_Count':'participants'},axis=1)"
   ],
   "metadata": {
    "collapsed": false,
    "pycharm": {
     "name": "#%%\n"
    }
   }
  },
  {
   "cell_type": "markdown",
   "source": [
    "### The following table summarizes the number of participants, thefts, and recoveries by state and province in the U.S. and Canada"
   ],
   "metadata": {
    "collapsed": false,
    "pycharm": {
     "name": "#%% md\n"
    }
   }
  },
  {
   "cell_type": "code",
   "execution_count": 7,
   "outputs": [],
   "source": [
    "merge_files = participants.merge(theft_recovery,how= 'outer',on='NAME').drop('geometry',axis=1).set_index('NAME').replace({0:np.nan}).fillna(0)\n",
    "merge_files = merge_files[merge_files.any(axis=1)]\n",
    "merge_files.sort_values('participants',ascending =False,inplace=True)\n",
    "merge_files.to_csv('summery.csv')"
   ],
   "metadata": {
    "collapsed": false,
    "pycharm": {
     "name": "#%%\n"
    }
   }
  },
  {
   "cell_type": "markdown",
   "source": [
    "#### The pearson values in the table above shows that recovery and participant or recovery and theft (0.85 and 0.86 respectively) have a high correlation, but they are not as high as theft and participant (0.998), which suggests that stolen bikes may be transferred to other states or provinces."
   ],
   "metadata": {
    "collapsed": false,
    "pycharm": {
     "name": "#%% md\n"
    }
   }
  },
  {
   "cell_type": "code",
   "execution_count": 8,
   "outputs": [
    {
     "data": {
      "text/plain": "              participants     theft  recovery\nparticipants      1.000000  0.997983  0.849909\ntheft             0.997983  1.000000  0.863416\nrecovery          0.849909  0.863416  1.000000",
      "text/html": "<div>\n<style scoped>\n    .dataframe tbody tr th:only-of-type {\n        vertical-align: middle;\n    }\n\n    .dataframe tbody tr th {\n        vertical-align: top;\n    }\n\n    .dataframe thead th {\n        text-align: right;\n    }\n</style>\n<table border=\"1\" class=\"dataframe\">\n  <thead>\n    <tr style=\"text-align: right;\">\n      <th></th>\n      <th>participants</th>\n      <th>theft</th>\n      <th>recovery</th>\n    </tr>\n  </thead>\n  <tbody>\n    <tr>\n      <th>participants</th>\n      <td>1.000000</td>\n      <td>0.997983</td>\n      <td>0.849909</td>\n    </tr>\n    <tr>\n      <th>theft</th>\n      <td>0.997983</td>\n      <td>1.000000</td>\n      <td>0.863416</td>\n    </tr>\n    <tr>\n      <th>recovery</th>\n      <td>0.849909</td>\n      <td>0.863416</td>\n      <td>1.000000</td>\n    </tr>\n  </tbody>\n</table>\n</div>"
     },
     "execution_count": 8,
     "metadata": {},
     "output_type": "execute_result"
    }
   ],
   "source": [
    "merge_files.corr(method='pearson')"
   ],
   "metadata": {
    "collapsed": false,
    "pycharm": {
     "name": "#%%\n"
    }
   }
  },
  {
   "cell_type": "code",
   "execution_count": null,
   "outputs": [],
   "source": [
    "# sns.set(style=\"darkgrid\", color_codes=True)\n",
    "# g =sns.jointplot(x='participants',y='theft',data=merge_files,kind='reg',joint_kws={'line_kws':{'color':'red'}},height =15)\n",
    "# g.set_axis_labels('Participants', 'Theft', fontsize=16)\n",
    "#\n",
    "# # for i in range(4):\n",
    "# #     row = merge_files.iloc[i]\n",
    "# #     plt.gca().annotate(row.name, xy=(row['participants'], row['theft']),\n",
    "# #             xytext=(4,4), textcoords =\"offset points\", )\n",
    "# # plt.show()"
   ],
   "metadata": {
    "collapsed": false,
    "pycharm": {
     "name": "#%%\n"
    }
   }
  },
  {
   "cell_type": "code",
   "execution_count": null,
   "outputs": [],
   "source": [
    "# merge_files.iloc[0].name"
   ],
   "metadata": {
    "collapsed": false,
    "pycharm": {
     "name": "#%%\n"
    }
   }
  },
  {
   "cell_type": "code",
   "execution_count": null,
   "outputs": [],
   "source": [],
   "metadata": {
    "collapsed": false,
    "pycharm": {
     "name": "#%%\n"
    }
   }
  }
 ],
 "metadata": {
  "kernelspec": {
   "display_name": "Python 3",
   "language": "python",
   "name": "python3"
  },
  "language_info": {
   "codemirror_mode": {
    "name": "ipython",
    "version": 2
   },
   "file_extension": ".py",
   "mimetype": "text/x-python",
   "name": "python",
   "nbconvert_exporter": "python",
   "pygments_lexer": "ipython2",
   "version": "2.7.6"
  }
 },
 "nbformat": 4,
 "nbformat_minor": 0
}