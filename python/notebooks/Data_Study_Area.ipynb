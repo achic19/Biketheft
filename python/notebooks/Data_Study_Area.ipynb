{
 "cells": [
  {
   "cell_type": "code",
   "execution_count": 3,
   "outputs": [],
   "source": [
    "import geopandas as gpd\n",
    "import os\n",
    "import sys\n",
    "os.chdir(sys.path[3])\n",
    "import pandas as pd\n",
    "import numpy as np\n",
    "import seaborn as sns\n",
    "import matplotlib.pyplot as plt"
   ],
   "metadata": {
    "collapsed": false,
    "pycharm": {
     "name": "#%%\n"
    }
   }
  },
  {
   "cell_type": "markdown",
   "source": [
    "### Upload three files with\n",
    "1. Number of thefts per country in US\n",
    "2. Number of recovery per country in Canada\n",
    "3. Number of participants per country (US and Canada)\n"
   ],
   "metadata": {
    "collapsed": false,
    "pycharm": {
     "name": "#%% md\n"
    }
   }
  },
  {
   "cell_type": "code",
   "execution_count": 4,
   "outputs": [],
   "source": [
    "us = gpd.read_file(r'general\\Biketheft_esri\\theft.gpkg',layer='count_by_us', driver=\"GPKG\")\n",
    "canada = gpd.read_file(r'general\\Biketheft_esri\\theft.gpkg',layer='count_by_canada', driver=\"GPKG\")\n",
    "participants = gpd.read_file(r'general\\Biketheft_esri\\theft.gpkg',layer='prtcpnt_lctn', driver=\"GPKG\")"
   ],
   "metadata": {
    "collapsed": false,
    "pycharm": {
     "name": "#%%\n"
    }
   }
  },
  {
   "cell_type": "markdown",
   "source": [
    "### Get the data set up for farther analysis\n",
    "1. Merge US and Canada files\n",
    "2. Remove irrelevant columns from the participants file"
   ],
   "metadata": {
    "collapsed": false,
    "pycharm": {
     "name": "#%% md\n"
    }
   }
  },
  {
   "cell_type": "code",
   "execution_count": 5,
   "outputs": [],
   "source": [
    "canada.rename(columns={'PRENAME':'NAME'},inplace=True)\n",
    "theft_recovery = pd.concat([us,canada])\n",
    "participants= participants[['Join_Count','NAME']].rename({'Join_Count':'participants'},axis=1)"
   ],
   "metadata": {
    "collapsed": false,
    "pycharm": {
     "name": "#%%\n"
    }
   }
  },
  {
   "cell_type": "markdown",
   "source": [
    "### The following table summarizes the number of participants, thefts, and recoveries by state and province in the U.S. and Canada"
   ],
   "metadata": {
    "collapsed": false,
    "pycharm": {
     "name": "#%% md\n"
    }
   }
  },
  {
   "cell_type": "code",
   "execution_count": 9,
   "outputs": [
    {
     "data": {
      "text/plain": "                           participants  theft  recovery\nNAME                                                    \nCalifornia                        624.0  713.0      60.0\nAlberta                           187.0  234.0      61.0\nWashington                        133.0  155.0      38.0\nOregon                             85.0   87.0      20.0\nColorado                           69.0   98.0      14.0\nBritish Columbia                   59.0   50.0      11.0\nNew York                           45.0   30.0       2.0\nTexas                              39.0   33.0       8.0\nMinnesota                          35.0   41.0       8.0\nDistrict of Columbia               31.0   37.0       4.0\nIllinois                           30.0   25.0       1.0\nMassachusetts                      29.0   34.0       4.0\nOntario                            26.0   27.0       1.0\nArizona                            26.0   26.0       2.0\nPennsylvania                       24.0   18.0       1.0\nUtah                               20.0   21.0       4.0\nFlorida                            16.0   13.0       2.0\nKansas                             16.0    5.0       2.0\nVirginia                           14.0   15.0       2.0\nWisconsin                          14.0   16.0       5.0\nLouisiana                          13.0   17.0       5.0\nMaryland                           10.0    5.0       0.0\nNorth Carolina                     10.0    7.0       2.0\nMichigan                            9.0    5.0       1.0\nGeorgia                             9.0    6.0       0.0\nSaskatchewan                        9.0   10.0       1.0\nQuebec                              9.0    0.0       0.0\nIdaho                               8.0    7.0       4.0\nManitoba                            8.0    8.0       1.0\nOhio                                8.0    7.0       0.0\nIndiana                             7.0    5.0       1.0\nNew Mexico                          7.0    8.0       1.0\nNevada                              6.0    4.0       0.0\nConnecticut                         5.0    2.0       0.0\nMontana                             5.0    3.0       1.0\nOklahoma                            5.0    4.0       2.0\nMissouri                            5.0    6.0       0.0\nHawaii                              4.0    2.0       0.0\nNew Hampshire                       4.0    0.0       0.0\nIowa                                4.0    4.0       0.0\nNew Jersey                          3.0    2.0       0.0\nSouth Carolina                      3.0    3.0       1.0\nMaine                               3.0    1.0       0.0\nTennessee                           2.0    3.0       0.0\nRhode Island                        2.0    1.0       1.0\nAlaska                              1.0    3.0       1.0\nNova Scotia                         1.0    1.0       0.0\nArkansas                            1.0    2.0       0.0\nPuerto Rico                         1.0    0.0       0.0\nWyoming                             1.0    0.0       0.0\nDelaware                            1.0    1.0       0.0\nWest Virginia                       1.0    1.0       1.0\nMississippi                         1.0    0.0       0.0\nAlabama                             1.0    1.0       0.0\nKentucky                            1.0    3.0       0.0\nVermont                             0.0    2.0       0.0\nNewfoundland and Labrador           0.0    1.0       0.0\nNebraska                            0.0    3.0       1.0",
      "text/html": "<div>\n<style scoped>\n    .dataframe tbody tr th:only-of-type {\n        vertical-align: middle;\n    }\n\n    .dataframe tbody tr th {\n        vertical-align: top;\n    }\n\n    .dataframe thead th {\n        text-align: right;\n    }\n</style>\n<table border=\"1\" class=\"dataframe\">\n  <thead>\n    <tr style=\"text-align: right;\">\n      <th></th>\n      <th>participants</th>\n      <th>theft</th>\n      <th>recovery</th>\n    </tr>\n    <tr>\n      <th>NAME</th>\n      <th></th>\n      <th></th>\n      <th></th>\n    </tr>\n  </thead>\n  <tbody>\n    <tr>\n      <th>California</th>\n      <td>624.0</td>\n      <td>713.0</td>\n      <td>60.0</td>\n    </tr>\n    <tr>\n      <th>Alberta</th>\n      <td>187.0</td>\n      <td>234.0</td>\n      <td>61.0</td>\n    </tr>\n    <tr>\n      <th>Washington</th>\n      <td>133.0</td>\n      <td>155.0</td>\n      <td>38.0</td>\n    </tr>\n    <tr>\n      <th>Oregon</th>\n      <td>85.0</td>\n      <td>87.0</td>\n      <td>20.0</td>\n    </tr>\n    <tr>\n      <th>Colorado</th>\n      <td>69.0</td>\n      <td>98.0</td>\n      <td>14.0</td>\n    </tr>\n    <tr>\n      <th>British Columbia</th>\n      <td>59.0</td>\n      <td>50.0</td>\n      <td>11.0</td>\n    </tr>\n    <tr>\n      <th>New York</th>\n      <td>45.0</td>\n      <td>30.0</td>\n      <td>2.0</td>\n    </tr>\n    <tr>\n      <th>Texas</th>\n      <td>39.0</td>\n      <td>33.0</td>\n      <td>8.0</td>\n    </tr>\n    <tr>\n      <th>Minnesota</th>\n      <td>35.0</td>\n      <td>41.0</td>\n      <td>8.0</td>\n    </tr>\n    <tr>\n      <th>District of Columbia</th>\n      <td>31.0</td>\n      <td>37.0</td>\n      <td>4.0</td>\n    </tr>\n    <tr>\n      <th>Illinois</th>\n      <td>30.0</td>\n      <td>25.0</td>\n      <td>1.0</td>\n    </tr>\n    <tr>\n      <th>Massachusetts</th>\n      <td>29.0</td>\n      <td>34.0</td>\n      <td>4.0</td>\n    </tr>\n    <tr>\n      <th>Ontario</th>\n      <td>26.0</td>\n      <td>27.0</td>\n      <td>1.0</td>\n    </tr>\n    <tr>\n      <th>Arizona</th>\n      <td>26.0</td>\n      <td>26.0</td>\n      <td>2.0</td>\n    </tr>\n    <tr>\n      <th>Pennsylvania</th>\n      <td>24.0</td>\n      <td>18.0</td>\n      <td>1.0</td>\n    </tr>\n    <tr>\n      <th>Utah</th>\n      <td>20.0</td>\n      <td>21.0</td>\n      <td>4.0</td>\n    </tr>\n    <tr>\n      <th>Florida</th>\n      <td>16.0</td>\n      <td>13.0</td>\n      <td>2.0</td>\n    </tr>\n    <tr>\n      <th>Kansas</th>\n      <td>16.0</td>\n      <td>5.0</td>\n      <td>2.0</td>\n    </tr>\n    <tr>\n      <th>Virginia</th>\n      <td>14.0</td>\n      <td>15.0</td>\n      <td>2.0</td>\n    </tr>\n    <tr>\n      <th>Wisconsin</th>\n      <td>14.0</td>\n      <td>16.0</td>\n      <td>5.0</td>\n    </tr>\n    <tr>\n      <th>Louisiana</th>\n      <td>13.0</td>\n      <td>17.0</td>\n      <td>5.0</td>\n    </tr>\n    <tr>\n      <th>Maryland</th>\n      <td>10.0</td>\n      <td>5.0</td>\n      <td>0.0</td>\n    </tr>\n    <tr>\n      <th>North Carolina</th>\n      <td>10.0</td>\n      <td>7.0</td>\n      <td>2.0</td>\n    </tr>\n    <tr>\n      <th>Michigan</th>\n      <td>9.0</td>\n      <td>5.0</td>\n      <td>1.0</td>\n    </tr>\n    <tr>\n      <th>Georgia</th>\n      <td>9.0</td>\n      <td>6.0</td>\n      <td>0.0</td>\n    </tr>\n    <tr>\n      <th>Saskatchewan</th>\n      <td>9.0</td>\n      <td>10.0</td>\n      <td>1.0</td>\n    </tr>\n    <tr>\n      <th>Quebec</th>\n      <td>9.0</td>\n      <td>0.0</td>\n      <td>0.0</td>\n    </tr>\n    <tr>\n      <th>Idaho</th>\n      <td>8.0</td>\n      <td>7.0</td>\n      <td>4.0</td>\n    </tr>\n    <tr>\n      <th>Manitoba</th>\n      <td>8.0</td>\n      <td>8.0</td>\n      <td>1.0</td>\n    </tr>\n    <tr>\n      <th>Ohio</th>\n      <td>8.0</td>\n      <td>7.0</td>\n      <td>0.0</td>\n    </tr>\n    <tr>\n      <th>Indiana</th>\n      <td>7.0</td>\n      <td>5.0</td>\n      <td>1.0</td>\n    </tr>\n    <tr>\n      <th>New Mexico</th>\n      <td>7.0</td>\n      <td>8.0</td>\n      <td>1.0</td>\n    </tr>\n    <tr>\n      <th>Nevada</th>\n      <td>6.0</td>\n      <td>4.0</td>\n      <td>0.0</td>\n    </tr>\n    <tr>\n      <th>Connecticut</th>\n      <td>5.0</td>\n      <td>2.0</td>\n      <td>0.0</td>\n    </tr>\n    <tr>\n      <th>Montana</th>\n      <td>5.0</td>\n      <td>3.0</td>\n      <td>1.0</td>\n    </tr>\n    <tr>\n      <th>Oklahoma</th>\n      <td>5.0</td>\n      <td>4.0</td>\n      <td>2.0</td>\n    </tr>\n    <tr>\n      <th>Missouri</th>\n      <td>5.0</td>\n      <td>6.0</td>\n      <td>0.0</td>\n    </tr>\n    <tr>\n      <th>Hawaii</th>\n      <td>4.0</td>\n      <td>2.0</td>\n      <td>0.0</td>\n    </tr>\n    <tr>\n      <th>New Hampshire</th>\n      <td>4.0</td>\n      <td>0.0</td>\n      <td>0.0</td>\n    </tr>\n    <tr>\n      <th>Iowa</th>\n      <td>4.0</td>\n      <td>4.0</td>\n      <td>0.0</td>\n    </tr>\n    <tr>\n      <th>New Jersey</th>\n      <td>3.0</td>\n      <td>2.0</td>\n      <td>0.0</td>\n    </tr>\n    <tr>\n      <th>South Carolina</th>\n      <td>3.0</td>\n      <td>3.0</td>\n      <td>1.0</td>\n    </tr>\n    <tr>\n      <th>Maine</th>\n      <td>3.0</td>\n      <td>1.0</td>\n      <td>0.0</td>\n    </tr>\n    <tr>\n      <th>Tennessee</th>\n      <td>2.0</td>\n      <td>3.0</td>\n      <td>0.0</td>\n    </tr>\n    <tr>\n      <th>Rhode Island</th>\n      <td>2.0</td>\n      <td>1.0</td>\n      <td>1.0</td>\n    </tr>\n    <tr>\n      <th>Alaska</th>\n      <td>1.0</td>\n      <td>3.0</td>\n      <td>1.0</td>\n    </tr>\n    <tr>\n      <th>Nova Scotia</th>\n      <td>1.0</td>\n      <td>1.0</td>\n      <td>0.0</td>\n    </tr>\n    <tr>\n      <th>Arkansas</th>\n      <td>1.0</td>\n      <td>2.0</td>\n      <td>0.0</td>\n    </tr>\n    <tr>\n      <th>Puerto Rico</th>\n      <td>1.0</td>\n      <td>0.0</td>\n      <td>0.0</td>\n    </tr>\n    <tr>\n      <th>Wyoming</th>\n      <td>1.0</td>\n      <td>0.0</td>\n      <td>0.0</td>\n    </tr>\n    <tr>\n      <th>Delaware</th>\n      <td>1.0</td>\n      <td>1.0</td>\n      <td>0.0</td>\n    </tr>\n    <tr>\n      <th>West Virginia</th>\n      <td>1.0</td>\n      <td>1.0</td>\n      <td>1.0</td>\n    </tr>\n    <tr>\n      <th>Mississippi</th>\n      <td>1.0</td>\n      <td>0.0</td>\n      <td>0.0</td>\n    </tr>\n    <tr>\n      <th>Alabama</th>\n      <td>1.0</td>\n      <td>1.0</td>\n      <td>0.0</td>\n    </tr>\n    <tr>\n      <th>Kentucky</th>\n      <td>1.0</td>\n      <td>3.0</td>\n      <td>0.0</td>\n    </tr>\n    <tr>\n      <th>Vermont</th>\n      <td>0.0</td>\n      <td>2.0</td>\n      <td>0.0</td>\n    </tr>\n    <tr>\n      <th>Newfoundland and Labrador</th>\n      <td>0.0</td>\n      <td>1.0</td>\n      <td>0.0</td>\n    </tr>\n    <tr>\n      <th>Nebraska</th>\n      <td>0.0</td>\n      <td>3.0</td>\n      <td>1.0</td>\n    </tr>\n  </tbody>\n</table>\n</div>"
     },
     "execution_count": 9,
     "metadata": {},
     "output_type": "execute_result"
    }
   ],
   "source": [
    "merge_files = participants.merge(theft_recovery,how= 'outer',on='NAME').drop('geometry',axis=1).set_index('NAME').replace({0:np.nan}).fillna(0)\n",
    "merge_files = merge_files[merge_files.any(axis=1)]\n",
    "merge_files.sort_values('participants',ascending =False,inplace=True)\n",
    "merge_files"
   ],
   "metadata": {
    "collapsed": false,
    "pycharm": {
     "name": "#%%\n"
    }
   }
  },
  {
   "cell_type": "markdown",
   "source": [
    "#### The pearson values in the table above shows that recovery and participant or recovery and theft (0.85 and 0.86 respectively) have a high correlation, but they are not as high as theft and participant (0.998), which suggests that stolen bikes may be transferred to other states or provinces."
   ],
   "metadata": {
    "collapsed": false,
    "pycharm": {
     "name": "#%% md\n"
    }
   }
  },
  {
   "cell_type": "code",
   "execution_count": 8,
   "outputs": [
    {
     "data": {
      "text/plain": "              participants     theft  recovery\nparticipants      1.000000  0.997983  0.849909\ntheft             0.997983  1.000000  0.863416\nrecovery          0.849909  0.863416  1.000000",
      "text/html": "<div>\n<style scoped>\n    .dataframe tbody tr th:only-of-type {\n        vertical-align: middle;\n    }\n\n    .dataframe tbody tr th {\n        vertical-align: top;\n    }\n\n    .dataframe thead th {\n        text-align: right;\n    }\n</style>\n<table border=\"1\" class=\"dataframe\">\n  <thead>\n    <tr style=\"text-align: right;\">\n      <th></th>\n      <th>participants</th>\n      <th>theft</th>\n      <th>recovery</th>\n    </tr>\n  </thead>\n  <tbody>\n    <tr>\n      <th>participants</th>\n      <td>1.000000</td>\n      <td>0.997983</td>\n      <td>0.849909</td>\n    </tr>\n    <tr>\n      <th>theft</th>\n      <td>0.997983</td>\n      <td>1.000000</td>\n      <td>0.863416</td>\n    </tr>\n    <tr>\n      <th>recovery</th>\n      <td>0.849909</td>\n      <td>0.863416</td>\n      <td>1.000000</td>\n    </tr>\n  </tbody>\n</table>\n</div>"
     },
     "execution_count": 8,
     "metadata": {},
     "output_type": "execute_result"
    }
   ],
   "source": [
    "merge_files.corr(method='pearson')"
   ],
   "metadata": {
    "collapsed": false,
    "pycharm": {
     "name": "#%%\n"
    }
   }
  },
  {
   "cell_type": "code",
   "execution_count": null,
   "outputs": [],
   "source": [
    "# sns.set(style=\"darkgrid\", color_codes=True)\n",
    "# g =sns.jointplot(x='participants',y='theft',data=merge_files,kind='reg',joint_kws={'line_kws':{'color':'red'}},height =15)\n",
    "# g.set_axis_labels('Participants', 'Theft', fontsize=16)\n",
    "#\n",
    "# # for i in range(4):\n",
    "# #     row = merge_files.iloc[i]\n",
    "# #     plt.gca().annotate(row.name, xy=(row['participants'], row['theft']),\n",
    "# #             xytext=(4,4), textcoords =\"offset points\", )\n",
    "# # plt.show()"
   ],
   "metadata": {
    "collapsed": false,
    "pycharm": {
     "name": "#%%\n"
    }
   }
  },
  {
   "cell_type": "code",
   "execution_count": null,
   "outputs": [],
   "source": [
    "# merge_files.iloc[0].name"
   ],
   "metadata": {
    "collapsed": false,
    "pycharm": {
     "name": "#%%\n"
    }
   }
  },
  {
   "cell_type": "code",
   "execution_count": null,
   "outputs": [],
   "source": [],
   "metadata": {
    "collapsed": false,
    "pycharm": {
     "name": "#%%\n"
    }
   }
  }
 ],
 "metadata": {
  "kernelspec": {
   "display_name": "Python 3",
   "language": "python",
   "name": "python3"
  },
  "language_info": {
   "codemirror_mode": {
    "name": "ipython",
    "version": 2
   },
   "file_extension": ".py",
   "mimetype": "text/x-python",
   "name": "python",
   "nbconvert_exporter": "python",
   "pygments_lexer": "ipython2",
   "version": "2.7.6"
  }
 },
 "nbformat": 4,
 "nbformat_minor": 0
}