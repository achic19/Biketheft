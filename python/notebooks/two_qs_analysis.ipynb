{
 "cells": [
  {
   "cell_type": "code",
   "execution_count": 37,
   "outputs": [],
   "source": [
    "import pandas as pd\n",
    "from pandas import DataFrame\n",
    "import numpy as np\n",
    "import calendar\n",
    "from scipy.stats import chi2_contingency\n",
    "from tabulate import tabulate\n",
    "from sklearn import tree\n",
    "import matplotlib.pyplot as plt\n",
    "from matplotlib.pyplot import figure\n",
    "\n",
    "from sklearn.tree import DecisionTreeClassifier\n",
    "from sklearn.ensemble import RandomForestClassifier\n",
    "import sys\n",
    "import os\n",
    "os.chdir(sys.path[3])\n",
    "import pickle\n",
    "import matplotlib.pylab as pylab\n",
    "params = {'legend.fontsize': 'x-large',\n",
    "          'figure.figsize': (15, 10),\n",
    "         'axes.labelsize': 'x-large',\n",
    "         'axes.titlesize':'x-large',\n",
    "         'xtick.labelsize':'x-large',\n",
    "         'ytick.labelsize':'x-large'}\n",
    "pylab.rcParams.update(params)\n",
    "# these are here in case you are interested to run the code with the current prep file\n",
    "ready_for_analysis_path = 'data/process/recovery_analysis.csv'\n",
    "same_diff_analysis_path = 'data/process/same_diff.csv'\n",
    "dic_recover= {0:'not_recover',1:'recover'}\n",
    "from IPython.core.interactiveshell import InteractiveShell\n",
    "InteractiveShell.ast_node_interactivity = \"all\""
   ],
   "metadata": {
    "collapsed": false,
    "pycharm": {
     "name": "#%%\n"
    }
   }
  },
  {
   "cell_type": "code",
   "execution_count": 24,
   "outputs": [
    {
     "data": {
      "text/plain": "Index(['index', 'StartDate', 'EndDate', 'Status', 'IPAddress', 'Progress',\n       'Duration (in seconds)', 'Finished', 'RecordedDate', 'ResponseId',\n       'RecipientLastName', 'RecipientFirstName', 'RecipientEmail',\n       'ExternalReference', 'LocationLatitude', 'LocationLongitude',\n       'DistributionChannel', 'UserLanguage', 'Introduction', 'Q1', 'Q2', 'Q3',\n       'Q3_6_TEXT', 'Q4', 'Q5', 'Q6', 'Q7', 'Q8', 'Q8_9_TEXT', 'Q9',\n       'Q9_11_TEXT', 'Q10', 'Q11', 'Q11_4_TEXT', 'Q12', 'Q13', 'Q14', 'Q15',\n       'Q16', 'Q16_1_TEXT', 'Q17', 'Q18', 'Q19', 'Q19_6_TEXT', 'Q20',\n       'Q20_4_TEXT', 'Q21', 'Q22', 'Q22_1_TEXT', 'Q23', 'Q23_15_TEXT', 'Q24',\n       'Q25', 'Q26', 'Q27', 'Q28_1', 'Q28_2', 'Q28_3', 'Q28_4', 'Q29', 'Q30',\n       'Q31', 'Q32', 'Q32_10_TEXT', 'Q33', 'Q33_9_TEXT', 'Q34', 'Q35', 'Q36',\n       'Q37', 'Q38', 'Q39', 'Q39_10_TEXT', 'Q40', 'Q40_3_TEXT'],\n      dtype='object')"
     },
     "execution_count": 24,
     "metadata": {},
     "output_type": "execute_result"
    }
   ],
   "source": [
    "raw_data = pd.read_csv(r'data/process/new_data.csv', skiprows=[1, 2]).reset_index()\n",
    "raw_data.columns"
   ],
   "metadata": {
    "collapsed": false,
    "pycharm": {
     "name": "#%%\n"
    }
   }
  },
  {
   "cell_type": "code",
   "execution_count": 17,
   "outputs": [
    {
     "data": {
      "text/plain": "      index        StartDate          EndDate         Status        IPAddress  \\\n0         0       Start Date         End Date  Response Type       IP Address   \n1         1  4/21/2022 14:05  4/21/2022 14:10     IP Address  169.231.161.135   \n2         2  4/14/2022 17:28  4/14/2022 17:41     IP Address   128.111.106.41   \n3         3  4/21/2022 19:27  4/21/2022 19:31     IP Address     70.77.83.154   \n4         4  4/14/2022 19:04  4/14/2022 20:18     IP Address   70.185.131.128   \n...     ...              ...              ...            ...              ...   \n2021   2021   6/6/2022 22:07   6/6/2022 22:14     IP Address     47.146.75.18   \n2022   2022  5/24/2022 12:17  5/24/2022 12:20     IP Address   174.90.223.242   \n2023   2023    6/8/2022 3:19    6/8/2022 3:30     IP Address  108.211.181.111   \n2024   2024  5/25/2022 13:39  5/25/2022 13:39     IP Address   50.205.153.166   \n2025   2025   6/8/2022 12:54   6/8/2022 17:02     IP Address    98.34.154.196   \n\n      Progress  Duration (in seconds)  Finished     RecordedDate  \\\n0     Progress  Duration (in seconds)  Finished    Recorded Date   \n1          100                    318      TRUE  4/21/2022 14:10   \n2           22                    770     FALSE  4/21/2022 17:41   \n3          100                    229      TRUE  4/21/2022 19:31   \n4           22                   4454     FALSE  4/21/2022 20:18   \n...        ...                    ...       ...              ...   \n2021       100                    423      TRUE   6/6/2022 22:14   \n2022        69                    191     FALSE   6/7/2022 12:20   \n2023       100                    697      TRUE    6/8/2022 3:30   \n2024         2                     12     FALSE   6/8/2022 13:39   \n2025       100                  14851      TRUE   6/8/2022 17:02   \n\n             ResponseId  ...  \\\n0           Response ID  ...   \n1     R_sRQ635z5e2hc1t7  ...   \n2     R_21uo7CnrNd8VNIx  ...   \n3     R_7V5ufQv2WtbkiSR  ...   \n4     R_qPdUVtdN6wMTtIt  ...   \n...                 ...  ...   \n2021  R_3fYRblhWSYPWCj8  ...   \n2022  R_3O7a8xS7l3i8EZG  ...   \n2023  R_3gO85Ni57rH0pTr  ...   \n2024  R_1jwTkRmNyNow9Tz  ...   \n2025  R_4NqGcU71igD8Z9L  ...   \n\n                                             Q33_9_TEXT  \\\n0     What were the main reasons you cycled more oft...   \n1                                                   NaN   \n2                                                   NaN   \n3                                                   NaN   \n4                                                   NaN   \n...                                                 ...   \n2021                                                NaN   \n2022                                                NaN   \n2023                                                NaN   \n2024                                                NaN   \n2025                                                NaN   \n\n                              Q34                   Q35  \\\n0     In what year were you born?  What is your gender?   \n1                            1996                 Woman   \n2                             NaN                   NaN   \n3                            1973                   Man   \n4                             NaN                   NaN   \n...                           ...                   ...   \n2021                         1970                 Woman   \n2022                          NaN                   NaN   \n2023                          NaN     Prefer not to say   \n2024                          NaN                   NaN   \n2025                         1963                   Man   \n\n                                                    Q36  \\\n0     What is your annual household income after taxes?   \n1                             $200,000 or more per year   \n2                                                   NaN   \n3                                I prefer to not answer   \n4                                                   NaN   \n...                                                 ...   \n2021             Between $100,000 and $149,999 per year   \n2022                                                NaN   \n2023                             I prefer to not answer   \n2024                                                NaN   \n2025                          $200,000 or more per year   \n\n                                          Q37  \\\n0     How many bicycles do you currently own?   \n1                                        One    \n2                                         NaN   \n3                                      Three    \n4                                         NaN   \n...                                       ...   \n2021                                   Three    \n2022                                      NaN   \n2023                   I prefer to not answer   \n2024                                      NaN   \n2025                                   Four     \n\n                                                    Q38  \\\n0     What is the highest level of education you hav...   \n1     Graduate degree (e.g., Master’s, Professional ...   \n2                                                   NaN   \n3     Bachelor’s degree (university 4-year degree)  ...   \n4                                                   NaN   \n...                                                 ...   \n2021  Bachelor’s degree (university 4-year degree)  ...   \n2022                                                NaN   \n2023  Graduate degree (e.g., Master’s, Professional ...   \n2024                                                NaN   \n2025  Graduate degree (e.g., Master’s, Professional ...   \n\n                                                    Q39  \\\n0     What do you consider your main ethnic origin o...   \n1     European (e.g., British Isles, German, French,...   \n2                                                   NaN   \n3     European (e.g., British Isles, German, French,...   \n4                                                   NaN   \n...                                                 ...   \n2021  European (e.g., British Isles, German, French,...   \n2022                                                NaN   \n2023                             I prefer to not answer   \n2024                                                NaN   \n2025                    Multi-ethnic (2+ ethnic groups)   \n\n                                            Q39_10_TEXT  \\\n0     What do you consider your main ethnic origin o...   \n1                                                   NaN   \n2                                                   NaN   \n3                                                   NaN   \n4                                                   NaN   \n...                                                 ...   \n2021                                                NaN   \n2022                                                NaN   \n2023                                                NaN   \n2024                                                NaN   \n2025                                                NaN   \n\n                                                    Q40  \\\n0     Where did you hear about this survey? - Select...   \n1                                                 Email   \n2                                                   NaN   \n3     A bicycle registry/recovery system (e.g., Bike...   \n4                                                   NaN   \n...                                                 ...   \n2021                                              Email   \n2022                                                NaN   \n2023                            Other (please specify):   \n2024                                                NaN   \n2025                                              Email   \n\n                                             Q40_3_TEXT  \n0     Where did you hear about this survey? - Other ...  \n1                                                   NaN  \n2                                                   NaN  \n3                                                   NaN  \n4                                                   NaN  \n...                                                 ...  \n2021                                                NaN  \n2022                                                NaN  \n2023                                      acquientance   \n2024                                                NaN  \n2025                                                NaN  \n\n[2026 rows x 75 columns]",
      "text/html": "<div>\n<style scoped>\n    .dataframe tbody tr th:only-of-type {\n        vertical-align: middle;\n    }\n\n    .dataframe tbody tr th {\n        vertical-align: top;\n    }\n\n    .dataframe thead th {\n        text-align: right;\n    }\n</style>\n<table border=\"1\" class=\"dataframe\">\n  <thead>\n    <tr style=\"text-align: right;\">\n      <th></th>\n      <th>index</th>\n      <th>StartDate</th>\n      <th>EndDate</th>\n      <th>Status</th>\n      <th>IPAddress</th>\n      <th>Progress</th>\n      <th>Duration (in seconds)</th>\n      <th>Finished</th>\n      <th>RecordedDate</th>\n      <th>ResponseId</th>\n      <th>...</th>\n      <th>Q33_9_TEXT</th>\n      <th>Q34</th>\n      <th>Q35</th>\n      <th>Q36</th>\n      <th>Q37</th>\n      <th>Q38</th>\n      <th>Q39</th>\n      <th>Q39_10_TEXT</th>\n      <th>Q40</th>\n      <th>Q40_3_TEXT</th>\n    </tr>\n  </thead>\n  <tbody>\n    <tr>\n      <th>0</th>\n      <td>0</td>\n      <td>Start Date</td>\n      <td>End Date</td>\n      <td>Response Type</td>\n      <td>IP Address</td>\n      <td>Progress</td>\n      <td>Duration (in seconds)</td>\n      <td>Finished</td>\n      <td>Recorded Date</td>\n      <td>Response ID</td>\n      <td>...</td>\n      <td>What were the main reasons you cycled more oft...</td>\n      <td>In what year were you born?</td>\n      <td>What is your gender?</td>\n      <td>What is your annual household income after taxes?</td>\n      <td>How many bicycles do you currently own?</td>\n      <td>What is the highest level of education you hav...</td>\n      <td>What do you consider your main ethnic origin o...</td>\n      <td>What do you consider your main ethnic origin o...</td>\n      <td>Where did you hear about this survey? - Select...</td>\n      <td>Where did you hear about this survey? - Other ...</td>\n    </tr>\n    <tr>\n      <th>1</th>\n      <td>1</td>\n      <td>4/21/2022 14:05</td>\n      <td>4/21/2022 14:10</td>\n      <td>IP Address</td>\n      <td>169.231.161.135</td>\n      <td>100</td>\n      <td>318</td>\n      <td>TRUE</td>\n      <td>4/21/2022 14:10</td>\n      <td>R_sRQ635z5e2hc1t7</td>\n      <td>...</td>\n      <td>NaN</td>\n      <td>1996</td>\n      <td>Woman</td>\n      <td>$200,000 or more per year</td>\n      <td>One</td>\n      <td>Graduate degree (e.g., Master’s, Professional ...</td>\n      <td>European (e.g., British Isles, German, French,...</td>\n      <td>NaN</td>\n      <td>Email</td>\n      <td>NaN</td>\n    </tr>\n    <tr>\n      <th>2</th>\n      <td>2</td>\n      <td>4/14/2022 17:28</td>\n      <td>4/14/2022 17:41</td>\n      <td>IP Address</td>\n      <td>128.111.106.41</td>\n      <td>22</td>\n      <td>770</td>\n      <td>FALSE</td>\n      <td>4/21/2022 17:41</td>\n      <td>R_21uo7CnrNd8VNIx</td>\n      <td>...</td>\n      <td>NaN</td>\n      <td>NaN</td>\n      <td>NaN</td>\n      <td>NaN</td>\n      <td>NaN</td>\n      <td>NaN</td>\n      <td>NaN</td>\n      <td>NaN</td>\n      <td>NaN</td>\n      <td>NaN</td>\n    </tr>\n    <tr>\n      <th>3</th>\n      <td>3</td>\n      <td>4/21/2022 19:27</td>\n      <td>4/21/2022 19:31</td>\n      <td>IP Address</td>\n      <td>70.77.83.154</td>\n      <td>100</td>\n      <td>229</td>\n      <td>TRUE</td>\n      <td>4/21/2022 19:31</td>\n      <td>R_7V5ufQv2WtbkiSR</td>\n      <td>...</td>\n      <td>NaN</td>\n      <td>1973</td>\n      <td>Man</td>\n      <td>I prefer to not answer</td>\n      <td>Three</td>\n      <td>Bachelor’s degree (university 4-year degree)  ...</td>\n      <td>European (e.g., British Isles, German, French,...</td>\n      <td>NaN</td>\n      <td>A bicycle registry/recovery system (e.g., Bike...</td>\n      <td>NaN</td>\n    </tr>\n    <tr>\n      <th>4</th>\n      <td>4</td>\n      <td>4/14/2022 19:04</td>\n      <td>4/14/2022 20:18</td>\n      <td>IP Address</td>\n      <td>70.185.131.128</td>\n      <td>22</td>\n      <td>4454</td>\n      <td>FALSE</td>\n      <td>4/21/2022 20:18</td>\n      <td>R_qPdUVtdN6wMTtIt</td>\n      <td>...</td>\n      <td>NaN</td>\n      <td>NaN</td>\n      <td>NaN</td>\n      <td>NaN</td>\n      <td>NaN</td>\n      <td>NaN</td>\n      <td>NaN</td>\n      <td>NaN</td>\n      <td>NaN</td>\n      <td>NaN</td>\n    </tr>\n    <tr>\n      <th>...</th>\n      <td>...</td>\n      <td>...</td>\n      <td>...</td>\n      <td>...</td>\n      <td>...</td>\n      <td>...</td>\n      <td>...</td>\n      <td>...</td>\n      <td>...</td>\n      <td>...</td>\n      <td>...</td>\n      <td>...</td>\n      <td>...</td>\n      <td>...</td>\n      <td>...</td>\n      <td>...</td>\n      <td>...</td>\n      <td>...</td>\n      <td>...</td>\n      <td>...</td>\n      <td>...</td>\n    </tr>\n    <tr>\n      <th>2021</th>\n      <td>2021</td>\n      <td>6/6/2022 22:07</td>\n      <td>6/6/2022 22:14</td>\n      <td>IP Address</td>\n      <td>47.146.75.18</td>\n      <td>100</td>\n      <td>423</td>\n      <td>TRUE</td>\n      <td>6/6/2022 22:14</td>\n      <td>R_3fYRblhWSYPWCj8</td>\n      <td>...</td>\n      <td>NaN</td>\n      <td>1970</td>\n      <td>Woman</td>\n      <td>Between $100,000 and $149,999 per year</td>\n      <td>Three</td>\n      <td>Bachelor’s degree (university 4-year degree)  ...</td>\n      <td>European (e.g., British Isles, German, French,...</td>\n      <td>NaN</td>\n      <td>Email</td>\n      <td>NaN</td>\n    </tr>\n    <tr>\n      <th>2022</th>\n      <td>2022</td>\n      <td>5/24/2022 12:17</td>\n      <td>5/24/2022 12:20</td>\n      <td>IP Address</td>\n      <td>174.90.223.242</td>\n      <td>69</td>\n      <td>191</td>\n      <td>FALSE</td>\n      <td>6/7/2022 12:20</td>\n      <td>R_3O7a8xS7l3i8EZG</td>\n      <td>...</td>\n      <td>NaN</td>\n      <td>NaN</td>\n      <td>NaN</td>\n      <td>NaN</td>\n      <td>NaN</td>\n      <td>NaN</td>\n      <td>NaN</td>\n      <td>NaN</td>\n      <td>NaN</td>\n      <td>NaN</td>\n    </tr>\n    <tr>\n      <th>2023</th>\n      <td>2023</td>\n      <td>6/8/2022 3:19</td>\n      <td>6/8/2022 3:30</td>\n      <td>IP Address</td>\n      <td>108.211.181.111</td>\n      <td>100</td>\n      <td>697</td>\n      <td>TRUE</td>\n      <td>6/8/2022 3:30</td>\n      <td>R_3gO85Ni57rH0pTr</td>\n      <td>...</td>\n      <td>NaN</td>\n      <td>NaN</td>\n      <td>Prefer not to say</td>\n      <td>I prefer to not answer</td>\n      <td>I prefer to not answer</td>\n      <td>Graduate degree (e.g., Master’s, Professional ...</td>\n      <td>I prefer to not answer</td>\n      <td>NaN</td>\n      <td>Other (please specify):</td>\n      <td>acquientance</td>\n    </tr>\n    <tr>\n      <th>2024</th>\n      <td>2024</td>\n      <td>5/25/2022 13:39</td>\n      <td>5/25/2022 13:39</td>\n      <td>IP Address</td>\n      <td>50.205.153.166</td>\n      <td>2</td>\n      <td>12</td>\n      <td>FALSE</td>\n      <td>6/8/2022 13:39</td>\n      <td>R_1jwTkRmNyNow9Tz</td>\n      <td>...</td>\n      <td>NaN</td>\n      <td>NaN</td>\n      <td>NaN</td>\n      <td>NaN</td>\n      <td>NaN</td>\n      <td>NaN</td>\n      <td>NaN</td>\n      <td>NaN</td>\n      <td>NaN</td>\n      <td>NaN</td>\n    </tr>\n    <tr>\n      <th>2025</th>\n      <td>2025</td>\n      <td>6/8/2022 12:54</td>\n      <td>6/8/2022 17:02</td>\n      <td>IP Address</td>\n      <td>98.34.154.196</td>\n      <td>100</td>\n      <td>14851</td>\n      <td>TRUE</td>\n      <td>6/8/2022 17:02</td>\n      <td>R_4NqGcU71igD8Z9L</td>\n      <td>...</td>\n      <td>NaN</td>\n      <td>1963</td>\n      <td>Man</td>\n      <td>$200,000 or more per year</td>\n      <td>Four</td>\n      <td>Graduate degree (e.g., Master’s, Professional ...</td>\n      <td>Multi-ethnic (2+ ethnic groups)</td>\n      <td>NaN</td>\n      <td>Email</td>\n      <td>NaN</td>\n    </tr>\n  </tbody>\n</table>\n<p>2026 rows × 75 columns</p>\n</div>"
     },
     "execution_count": 17,
     "metadata": {},
     "output_type": "execute_result"
    }
   ],
   "source": [
    "# Just for presentation\n",
    "vv = pd.read_csv(r'data/process/new_data.csv', skiprows=[2]).reset_index()\n",
    "vv"
   ],
   "metadata": {
    "collapsed": false,
    "pycharm": {
     "name": "#%%\n"
    }
   }
  },
  {
   "cell_type": "markdown",
   "source": [
    "\n",
    "The questions we are going to use for the following model are stored in the cols variable. Q8 (What type of lock did you use to secure your bicycle? - Selected Choice) has been removed since it includes 951 Nun Values (that means 47% of participants didn't answer that question). The rest of the filtered questions have been removed since I thought they were irrelevant."
   ],
   "metadata": {
    "collapsed": false,
    "pycharm": {
     "name": "#%% md\n"
    }
   }
  },
  {
   "cell_type": "code",
   "execution_count": 39,
   "outputs": [],
   "source": [
    "cols = ['index', 'Q2', 'Q4', 'Q5', 'Q6', 'Q7', 'Q9', 'Q10', 'Q11', 'Q12', 'Q13', 'Q14', 'Q15', 'Q17']"
   ],
   "metadata": {
    "collapsed": false,
    "pycharm": {
     "name": "#%%\n"
    }
   }
  },
  {
   "cell_type": "code",
   "execution_count": 81,
   "outputs": [
    {
     "data": {
      "text/plain": "2025"
     },
     "execution_count": 81,
     "metadata": {},
     "output_type": "execute_result"
    }
   ],
   "source": [
    "raw_features = raw_data[cols]\n",
    "len(raw_features)"
   ],
   "metadata": {
    "collapsed": false,
    "pycharm": {
     "name": "#%%\n"
    }
   }
  },
  {
   "cell_type": "markdown",
   "source": [
    "The code discards participants who answer more than three null questions"
   ],
   "metadata": {
    "collapsed": false,
    "pycharm": {
     "name": "#%% md\n"
    }
   }
  },
  {
   "cell_type": "code",
   "execution_count": 82,
   "outputs": [
    {
     "data": {
      "text/plain": "1866"
     },
     "execution_count": 82,
     "metadata": {},
     "output_type": "execute_result"
    }
   ],
   "source": [
    "filtered_nun = raw_features[raw_features.count(axis=1) > 3]\n",
    "len(filtered_nun)"
   ],
   "metadata": {
    "collapsed": false,
    "pycharm": {
     "name": "#%%\n"
    }
   }
  },
  {
   "cell_type": "markdown",
   "source": [
    "Below is a table showing the questions grouped by the same answer number"
   ],
   "metadata": {
    "collapsed": false,
    "pycharm": {
     "name": "#%% md\n"
    }
   }
  },
  {
   "cell_type": "code",
   "execution_count": 27,
   "outputs": [
    {
     "name": "stdout",
     "output_type": "stream",
     "text": [
      "Q2\n",
      "A major bicycle part necessary for riding (i.e., saddle, wheel, pedal, or handlebar)      25\n",
      "Entire bicycle (i.e., frame and components)                                             1826\n",
      "NaN                                                                                       15\n",
      "Name: index, dtype: int64\n",
      "Q4\n",
      "2017                    45\n",
      "2018                    54\n",
      "2019                   262\n",
      "2020                   325\n",
      "2021                   695\n",
      "2022                   159\n",
      "Don’t know/not sure      7\n",
      "NaN                    319\n",
      "Name: index, dtype: int64\n",
      "Q5\n",
      "April                  163\n",
      "August                 145\n",
      "December                85\n",
      "Don’t know/not sure    131\n",
      "February                88\n",
      "January                 97\n",
      "July                   137\n",
      "June                   281\n",
      "March                  116\n",
      "May                    264\n",
      "November                94\n",
      "October                127\n",
      "September              134\n",
      "NaN                      4\n",
      "Name: index, dtype: int64\n",
      "Q6\n",
      "Afternoon (12:00-17:59)    362\n",
      "Don’t know/not sure        337\n",
      "Evening (18:00-23:59)      227\n",
      "Morning (06:00-11:59)      176\n",
      "Overnight (00:00-05:59)    753\n",
      "NaN                         11\n",
      "Name: index, dtype: int64\n",
      "Q7\n",
      "Don’t know/not sure                                               37\n",
      "No, unlocked                                                     728\n",
      "Yes, frame locked to a fixed structure (e.g., bike rack)         967\n",
      "Yes, locked one or more wheels (i.e., bike locked to itself)     126\n",
      "NaN                                                                8\n",
      "Name: index, dtype: int64\n",
      "Q9\n",
      "Against a street sign, tree, or street furniture (e.g., lamppost, railing, bench, parking meter)      72\n",
      "Building lobby                                                                                        14\n",
      "Condo storage room                                                                                    63\n",
      "Controlled-access bicycle room or enclosed bike locker                                                98\n",
      "Inside a shed/garage                                                                                 520\n",
      "Inside house/apartment                                                                                48\n",
      "Other (please specify):                                                                              271\n",
      "Outdoor bike rack                                                                                    325\n",
      "Outside in the yard or on a balcony, porch, or patio                                                 260\n",
      "Parking garage bike rack/railing/pipe/etc.                                                           147\n",
      "Workplace office                                                                                      20\n",
      "NaN                                                                                                   28\n",
      "Name: index, dtype: int64\n",
      "Q10\n",
      "Don’t know/not sure      62\n",
      "No                     1135\n",
      "Yes                     641\n",
      "NaN                      28\n",
      "Name: index, dtype: int64\n",
      "Q11\n",
      "A bicycle registry/recovery system (e.g., Bike Index, a university registration program)                                                                                99\n",
      "A bicycle registry/recovery system (e.g., Bike Index, a university registration program),Other (please specify):                                                         5\n",
      "A bicycle registry/recovery system (e.g., Bike Index, a university registration program),Social media (e.g. Instagram, Twitter)                                         37\n",
      "A bicycle registry/recovery system (e.g., Bike Index, a university registration program),Social media (e.g. Instagram, Twitter),Other (please specify):                  1\n",
      "I did not report the theft                                                                                                                                              61\n",
      "Other (please specify):                                                                                                                                                 16\n",
      "Social media (e.g. Instagram, Twitter)                                                                                                                                  11\n",
      "The police                                                                                                                                                             311\n",
      "The police ,A bicycle registry/recovery system (e.g., Bike Index, a university registration program)                                                                   538\n",
      "The police ,A bicycle registry/recovery system (e.g., Bike Index, a university registration program),Other (please specify):                                            21\n",
      "The police ,A bicycle registry/recovery system (e.g., Bike Index, a university registration program),Social media (e.g. Instagram, Twitter)                            622\n",
      "The police ,A bicycle registry/recovery system (e.g., Bike Index, a university registration program),Social media (e.g. Instagram, Twitter),Other (please specify):     43\n",
      "The police ,Other (please specify):                                                                                                                                     15\n",
      "The police ,Social media (e.g. Instagram, Twitter)                                                                                                                      51\n",
      "The police ,Social media (e.g. Instagram, Twitter),Other (please specify):                                                                                               7\n",
      "NaN                                                                                                                                                                     28\n",
      "Name: index, dtype: int64\n",
      "Q12\n",
      "Don’t know/not sure         81\n",
      "I prefer to not answer      11\n",
      "No                        1094\n",
      "Yes                        651\n",
      "NaN                         29\n",
      "Name: index, dtype: int64\n",
      "Q13\n",
      "$1000-$1999               432\n",
      "$2000-3999                302\n",
      "$250-$499                 246\n",
      "$4000-6999                151\n",
      "$500-$999                 525\n",
      "$7000 or more              97\n",
      "Don’t know/not sure         6\n",
      "I prefer to not answer      3\n",
      "Less than $250             78\n",
      "NaN                        26\n",
      "Name: index, dtype: int64\n",
      "Q14\n",
      "Yes, with pedal-assist (motor activates only while pedalling)                                 101\n",
      "Yes, with pedal-assist and throttle (motor activates while pedalling or by throttle-only)     122\n",
      "​No                                                                                          1574\n",
      "NaN                                                                                            69\n",
      "Name: index, dtype: int64\n",
      "Q15\n",
      "BMX                         17\n",
      "Cruiser                     61\n",
      "Delivery/Cargo              49\n",
      "Don’t know/not sure         14\n",
      "Fixed gear                  42\n",
      "Folding                     20\n",
      "Gravel/cyclocross          111\n",
      "Hybrid/City/Dutch          548\n",
      "Mountain                   548\n",
      "Recumbent                    3\n",
      "Road                       378\n",
      "Tandem                       1\n",
      "Tricycle or quadricycle      6\n",
      "NaN                         68\n",
      "Name: index, dtype: int64\n",
      "Q17\n",
      "No     1577\n",
      "Yes     247\n",
      "NaN      42\n",
      "Name: index, dtype: int64\n"
     ]
    }
   ],
   "source": [
    "for col in cols[1:]:\n",
    "    print(filtered_nun.groupby(by=col, dropna=False).count()['index'])\n"
   ],
   "metadata": {
    "collapsed": false,
    "pycharm": {
     "name": "#%%\n"
    }
   }
  },
  {
   "cell_type": "markdown",
   "source": [
    "### Missing Values"
   ],
   "metadata": {
    "collapsed": false,
    "pycharm": {
     "name": "#%% md\n"
    }
   }
  },
  {
   "cell_type": "markdown",
   "source": [
    "First, a table is created, sorted from the question with the least NuNs to the question with the most NuNs"
   ],
   "metadata": {
    "collapsed": false,
    "pycharm": {
     "name": "#%% md\n"
    }
   }
  },
  {
   "cell_type": "code",
   "execution_count": 28,
   "outputs": [
    {
     "data": {
      "text/plain": "   col_q  nun_count\n2     Q5          4\n4     Q7          8\n3     Q6         11\n0     Q2         15\n9    Q13         26\n5     Q9         28\n6    Q10         28\n7    Q11         28\n8    Q12         29\n12   Q17         42\n11   Q15         68\n10   Q14         69\n1     Q4        319",
      "text/html": "<div>\n<style scoped>\n    .dataframe tbody tr th:only-of-type {\n        vertical-align: middle;\n    }\n\n    .dataframe tbody tr th {\n        vertical-align: top;\n    }\n\n    .dataframe thead th {\n        text-align: right;\n    }\n</style>\n<table border=\"1\" class=\"dataframe\">\n  <thead>\n    <tr style=\"text-align: right;\">\n      <th></th>\n      <th>col_q</th>\n      <th>nun_count</th>\n    </tr>\n  </thead>\n  <tbody>\n    <tr>\n      <th>2</th>\n      <td>Q5</td>\n      <td>4</td>\n    </tr>\n    <tr>\n      <th>4</th>\n      <td>Q7</td>\n      <td>8</td>\n    </tr>\n    <tr>\n      <th>3</th>\n      <td>Q6</td>\n      <td>11</td>\n    </tr>\n    <tr>\n      <th>0</th>\n      <td>Q2</td>\n      <td>15</td>\n    </tr>\n    <tr>\n      <th>9</th>\n      <td>Q13</td>\n      <td>26</td>\n    </tr>\n    <tr>\n      <th>5</th>\n      <td>Q9</td>\n      <td>28</td>\n    </tr>\n    <tr>\n      <th>6</th>\n      <td>Q10</td>\n      <td>28</td>\n    </tr>\n    <tr>\n      <th>7</th>\n      <td>Q11</td>\n      <td>28</td>\n    </tr>\n    <tr>\n      <th>8</th>\n      <td>Q12</td>\n      <td>29</td>\n    </tr>\n    <tr>\n      <th>12</th>\n      <td>Q17</td>\n      <td>42</td>\n    </tr>\n    <tr>\n      <th>11</th>\n      <td>Q15</td>\n      <td>68</td>\n    </tr>\n    <tr>\n      <th>10</th>\n      <td>Q14</td>\n      <td>69</td>\n    </tr>\n    <tr>\n      <th>1</th>\n      <td>Q4</td>\n      <td>319</td>\n    </tr>\n  </tbody>\n</table>\n</div>"
     },
     "execution_count": 28,
     "metadata": {},
     "output_type": "execute_result"
    }
   ],
   "source": [
    "temp_dic = {'col_q': [], 'nun_count': []}\n",
    "for col in cols[1:]:\n",
    "    temp_groupby = filtered_nun.groupby(by=col, dropna=False).count()['index']\n",
    "    temp_dic['col_q'].append(temp_groupby.index.name)\n",
    "    temp_dic['nun_count'].append(temp_groupby[[np.nan]][0])\n",
    "df_col_q_nun_count = DataFrame(temp_dic)\n",
    "what_to_deal_first = df_col_q_nun_count.sort_values(by='nun_count')\n",
    "what_to_deal_first"
   ],
   "metadata": {
    "collapsed": false,
    "pycharm": {
     "name": "#%%\n"
    }
   }
  },
  {
   "cell_type": "markdown",
   "source": [
    "Encode the answers to the questions"
   ],
   "metadata": {
    "collapsed": false,
    "pycharm": {
     "name": "#%% md\n"
    }
   }
  },
  {
   "cell_type": "code",
   "execution_count": 40,
   "outputs": [],
   "source": [
    "encode_str = \"encode_\"\n",
    "cols_encode = {col: encode_str + col for col in cols[1:]}"
   ],
   "metadata": {
    "collapsed": false,
    "pycharm": {
     "name": "#%%\n"
    }
   }
  },
  {
   "cell_type": "markdown",
   "source": [
    " Some columns should have manual encoding"
   ],
   "metadata": {
    "collapsed": false,
    "pycharm": {
     "name": "#%% md\n"
    }
   }
  },
  {
   "cell_type": "code",
   "execution_count": 72,
   "outputs": [
    {
     "ename": "NameError",
     "evalue": "name 'filtered_nun' is not defined",
     "output_type": "error",
     "traceback": [
      "\u001B[1;31m---------------------------------------------------------------------------\u001B[0m",
      "\u001B[1;31mNameError\u001B[0m                                 Traceback (most recent call last)",
      "Input \u001B[1;32mIn [72]\u001B[0m, in \u001B[0;36m<cell line: 9>\u001B[1;34m()\u001B[0m\n\u001B[0;32m      1\u001B[0m manual_encoding \u001B[38;5;241m=\u001B[39m [\u001B[38;5;124m'\u001B[39m\u001B[38;5;124mQ4\u001B[39m\u001B[38;5;124m'\u001B[39m, \u001B[38;5;124m'\u001B[39m\u001B[38;5;124mQ5\u001B[39m\u001B[38;5;124m'\u001B[39m, \u001B[38;5;124m'\u001B[39m\u001B[38;5;124mQ6\u001B[39m\u001B[38;5;124m'\u001B[39m, \u001B[38;5;124m'\u001B[39m\u001B[38;5;124mQ7\u001B[39m\u001B[38;5;124m'\u001B[39m, \u001B[38;5;124m'\u001B[39m\u001B[38;5;124mQ13\u001B[39m\u001B[38;5;124m'\u001B[39m]\n\u001B[0;32m      2\u001B[0m q4_dic \u001B[38;5;241m=\u001B[39m {\u001B[38;5;124m'\u001B[39m\u001B[38;5;124m2022\u001B[39m\u001B[38;5;124m'\u001B[39m: \u001B[38;5;241m6\u001B[39m,\n\u001B[0;32m      3\u001B[0m           \u001B[38;5;124m'\u001B[39m\u001B[38;5;124m2021\u001B[39m\u001B[38;5;124m'\u001B[39m: \u001B[38;5;241m5\u001B[39m,\n\u001B[0;32m      4\u001B[0m           \u001B[38;5;124m'\u001B[39m\u001B[38;5;124m2020\u001B[39m\u001B[38;5;124m'\u001B[39m: \u001B[38;5;241m4\u001B[39m,\n\u001B[1;32m   (...)\u001B[0m\n\u001B[0;32m      7\u001B[0m           \u001B[38;5;124m'\u001B[39m\u001B[38;5;124m2017\u001B[39m\u001B[38;5;124m'\u001B[39m: \u001B[38;5;241m1\u001B[39m,\n\u001B[0;32m      8\u001B[0m           \u001B[38;5;124m'\u001B[39m\u001B[38;5;124mDon’t know/not sure\u001B[39m\u001B[38;5;124m'\u001B[39m: \u001B[38;5;241m0\u001B[39m}\n\u001B[1;32m----> 9\u001B[0m filtered_nun[encode_str \u001B[38;5;241m+\u001B[39m \u001B[38;5;124m'\u001B[39m\u001B[38;5;124mQ4\u001B[39m\u001B[38;5;124m'\u001B[39m] \u001B[38;5;241m=\u001B[39m \u001B[43mfiltered_nun\u001B[49m[\u001B[38;5;124m'\u001B[39m\u001B[38;5;124mQ4\u001B[39m\u001B[38;5;124m'\u001B[39m]\u001B[38;5;241m.\u001B[39mreplace(q4_dic)\u001B[38;5;241m.\u001B[39mfillna(\u001B[38;5;241m-\u001B[39m\u001B[38;5;241m1\u001B[39m)\u001B[38;5;241m.\u001B[39mastype(\u001B[38;5;28mint\u001B[39m)\n",
      "\u001B[1;31mNameError\u001B[0m: name 'filtered_nun' is not defined"
     ]
    }
   ],
   "source": [
    "manual_encoding = ['Q4', 'Q5', 'Q6', 'Q7', 'Q13']\n",
    "q4_dic = {'2022': 6,\n",
    "          '2021': 5,\n",
    "          '2020': 4,\n",
    "          '2019': 3,\n",
    "          '2018': 2,\n",
    "          '2017': 1,\n",
    "          'Don’t know/not sure': 0}\n",
    "filtered_nun[encode_str + 'Q4'] = filtered_nun['Q4'].replace(q4_dic).fillna(-1).astype(int)"
   ],
   "metadata": {
    "collapsed": false,
    "pycharm": {
     "name": "#%%\n"
    }
   }
  },
  {
   "cell_type": "code",
   "execution_count": 73,
   "outputs": [
    {
     "ename": "NameError",
     "evalue": "name 'filtered_nun' is not defined",
     "output_type": "error",
     "traceback": [
      "\u001B[1;31m---------------------------------------------------------------------------\u001B[0m",
      "\u001B[1;31mNameError\u001B[0m                                 Traceback (most recent call last)",
      "Input \u001B[1;32mIn [73]\u001B[0m, in \u001B[0;36m<cell line: 3>\u001B[1;34m()\u001B[0m\n\u001B[0;32m      1\u001B[0m q5_dic \u001B[38;5;241m=\u001B[39m {month: index \u001B[38;5;28;01mfor\u001B[39;00m index, month \u001B[38;5;129;01min\u001B[39;00m \u001B[38;5;28menumerate\u001B[39m(calendar\u001B[38;5;241m.\u001B[39mmonth_name) \u001B[38;5;28;01mif\u001B[39;00m month}\n\u001B[0;32m      2\u001B[0m q5_dic[\u001B[38;5;124m'\u001B[39m\u001B[38;5;124mDon’t know/not sure\u001B[39m\u001B[38;5;124m'\u001B[39m] \u001B[38;5;241m=\u001B[39m \u001B[38;5;241m0\u001B[39m\n\u001B[1;32m----> 3\u001B[0m filtered_nun[encode_str \u001B[38;5;241m+\u001B[39m \u001B[38;5;124m'\u001B[39m\u001B[38;5;124mQ5\u001B[39m\u001B[38;5;124m'\u001B[39m] \u001B[38;5;241m=\u001B[39m \u001B[43mfiltered_nun\u001B[49m[\u001B[38;5;124m'\u001B[39m\u001B[38;5;124mQ5\u001B[39m\u001B[38;5;124m'\u001B[39m]\u001B[38;5;241m.\u001B[39mreplace(q5_dic, regex\u001B[38;5;241m=\u001B[39m\u001B[38;5;28;01mTrue\u001B[39;00m)\u001B[38;5;241m.\u001B[39mfillna(\u001B[38;5;241m-\u001B[39m\u001B[38;5;241m1\u001B[39m)\u001B[38;5;241m.\u001B[39mastype(\u001B[38;5;28mint\u001B[39m)\n",
      "\u001B[1;31mNameError\u001B[0m: name 'filtered_nun' is not defined"
     ]
    }
   ],
   "source": [
    "q5_dic = {month: index for index, month in enumerate(calendar.month_name) if month}\n",
    "q5_dic['Don’t know/not sure'] = 0\n",
    "filtered_nun[encode_str + 'Q5'] = filtered_nun['Q5'].replace(q5_dic, regex=True).fillna(-1).astype(int)"
   ],
   "metadata": {
    "collapsed": false,
    "pycharm": {
     "name": "#%%\n"
    }
   }
  },
  {
   "cell_type": "code",
   "execution_count": 74,
   "outputs": [
    {
     "ename": "NameError",
     "evalue": "name 'filtered_nun' is not defined",
     "output_type": "error",
     "traceback": [
      "\u001B[1;31m---------------------------------------------------------------------------\u001B[0m",
      "\u001B[1;31mNameError\u001B[0m                                 Traceback (most recent call last)",
      "Input \u001B[1;32mIn [74]\u001B[0m, in \u001B[0;36m<cell line: 6>\u001B[1;34m()\u001B[0m\n\u001B[0;32m      1\u001B[0m q6_dic \u001B[38;5;241m=\u001B[39m {\u001B[38;5;124m'\u001B[39m\u001B[38;5;124mEvening (18:00-23:59)\u001B[39m\u001B[38;5;124m'\u001B[39m: \u001B[38;5;241m3\u001B[39m,\n\u001B[0;32m      2\u001B[0m           \u001B[38;5;124m'\u001B[39m\u001B[38;5;124mMorning (06:00-11:59)\u001B[39m\u001B[38;5;124m'\u001B[39m: \u001B[38;5;241m1\u001B[39m,\n\u001B[0;32m      3\u001B[0m           \u001B[38;5;124m'\u001B[39m\u001B[38;5;124mAfternoon (12:00-17:59)\u001B[39m\u001B[38;5;124m'\u001B[39m: \u001B[38;5;241m2\u001B[39m,\n\u001B[0;32m      4\u001B[0m           \u001B[38;5;124m'\u001B[39m\u001B[38;5;124mOvernight (00:00-05:59)\u001B[39m\u001B[38;5;124m'\u001B[39m: \u001B[38;5;241m4\u001B[39m,\n\u001B[0;32m      5\u001B[0m           \u001B[38;5;124m'\u001B[39m\u001B[38;5;124mDon’t know/not sure\u001B[39m\u001B[38;5;124m'\u001B[39m: \u001B[38;5;241m0\u001B[39m}\n\u001B[1;32m----> 6\u001B[0m filtered_nun[encode_str \u001B[38;5;241m+\u001B[39m \u001B[38;5;124m'\u001B[39m\u001B[38;5;124mQ6\u001B[39m\u001B[38;5;124m'\u001B[39m] \u001B[38;5;241m=\u001B[39m \u001B[43mfiltered_nun\u001B[49m[\u001B[38;5;124m'\u001B[39m\u001B[38;5;124mQ6\u001B[39m\u001B[38;5;124m'\u001B[39m]\u001B[38;5;241m.\u001B[39mreplace(q6_dic)\u001B[38;5;241m.\u001B[39mfillna(\u001B[38;5;241m-\u001B[39m\u001B[38;5;241m1\u001B[39m)\u001B[38;5;241m.\u001B[39mastype(\u001B[38;5;28mint\u001B[39m)\n",
      "\u001B[1;31mNameError\u001B[0m: name 'filtered_nun' is not defined"
     ]
    }
   ],
   "source": [
    "q6_dic = {'Evening (18:00-23:59)': 3,\n",
    "          'Morning (06:00-11:59)': 1,\n",
    "          'Afternoon (12:00-17:59)': 2,\n",
    "          'Overnight (00:00-05:59)': 4,\n",
    "          'Don’t know/not sure': 0}\n",
    "filtered_nun[encode_str + 'Q6'] = filtered_nun['Q6'].replace(q6_dic).fillna(-1).astype(int)"
   ],
   "metadata": {
    "collapsed": false,
    "pycharm": {
     "name": "#%%\n"
    }
   }
  },
  {
   "cell_type": "code",
   "execution_count": 75,
   "outputs": [
    {
     "ename": "NameError",
     "evalue": "name 'filtered_nun' is not defined",
     "output_type": "error",
     "traceback": [
      "\u001B[1;31m---------------------------------------------------------------------------\u001B[0m",
      "\u001B[1;31mNameError\u001B[0m                                 Traceback (most recent call last)",
      "Input \u001B[1;32mIn [75]\u001B[0m, in \u001B[0;36m<cell line: 5>\u001B[1;34m()\u001B[0m\n\u001B[0;32m      1\u001B[0m q7_dic \u001B[38;5;241m=\u001B[39m {\u001B[38;5;124m'\u001B[39m\u001B[38;5;124mYes, frame locked to a fixed structure (e.g., bike rack) \u001B[39m\u001B[38;5;124m'\u001B[39m: \u001B[38;5;241m3\u001B[39m,\n\u001B[0;32m      2\u001B[0m           \u001B[38;5;124m'\u001B[39m\u001B[38;5;124mNo, unlocked \u001B[39m\u001B[38;5;124m'\u001B[39m: \u001B[38;5;241m1\u001B[39m,\n\u001B[0;32m      3\u001B[0m           \u001B[38;5;124m'\u001B[39m\u001B[38;5;124mYes, locked one or more wheels (i.e., bike locked to itself) \u001B[39m\u001B[38;5;124m'\u001B[39m: \u001B[38;5;241m2\u001B[39m,\n\u001B[0;32m      4\u001B[0m           \u001B[38;5;124m'\u001B[39m\u001B[38;5;124mDon’t know/not sure\u001B[39m\u001B[38;5;124m'\u001B[39m: \u001B[38;5;241m0\u001B[39m}\n\u001B[1;32m----> 5\u001B[0m filtered_nun[encode_str \u001B[38;5;241m+\u001B[39m \u001B[38;5;124m'\u001B[39m\u001B[38;5;124mQ7\u001B[39m\u001B[38;5;124m'\u001B[39m] \u001B[38;5;241m=\u001B[39m \u001B[43mfiltered_nun\u001B[49m[\u001B[38;5;124m'\u001B[39m\u001B[38;5;124mQ7\u001B[39m\u001B[38;5;124m'\u001B[39m]\u001B[38;5;241m.\u001B[39mreplace(q7_dic)\u001B[38;5;241m.\u001B[39mfillna(\u001B[38;5;241m-\u001B[39m\u001B[38;5;241m1\u001B[39m)\u001B[38;5;241m.\u001B[39mastype(\u001B[38;5;28mint\u001B[39m)\n",
      "\u001B[1;31mNameError\u001B[0m: name 'filtered_nun' is not defined"
     ]
    }
   ],
   "source": [
    "q7_dic = {'Yes, frame locked to a fixed structure (e.g., bike rack) ': 3,\n",
    "          'No, unlocked ': 1,\n",
    "          'Yes, locked one or more wheels (i.e., bike locked to itself) ': 2,\n",
    "          'Don’t know/not sure': 0}\n",
    "filtered_nun[encode_str + 'Q7'] = filtered_nun['Q7'].replace(q7_dic).fillna(-1).astype(int)\n"
   ],
   "metadata": {
    "collapsed": false,
    "pycharm": {
     "name": "#%%\n"
    }
   }
  },
  {
   "cell_type": "code",
   "execution_count": 76,
   "outputs": [
    {
     "ename": "NameError",
     "evalue": "name 'filtered_nun' is not defined",
     "output_type": "error",
     "traceback": [
      "\u001B[1;31m---------------------------------------------------------------------------\u001B[0m",
      "\u001B[1;31mNameError\u001B[0m                                 Traceback (most recent call last)",
      "Input \u001B[1;32mIn [76]\u001B[0m, in \u001B[0;36m<cell line: 10>\u001B[1;34m()\u001B[0m\n\u001B[0;32m      1\u001B[0m q13_dic \u001B[38;5;241m=\u001B[39m {\u001B[38;5;124m'\u001B[39m\u001B[38;5;124m$7000 or more \u001B[39m\u001B[38;5;124m'\u001B[39m: \u001B[38;5;241m8\u001B[39m,\n\u001B[0;32m      2\u001B[0m            \u001B[38;5;124m'\u001B[39m\u001B[38;5;124m$4000-6999       \u001B[39m\u001B[38;5;124m'\u001B[39m: \u001B[38;5;241m7\u001B[39m,\n\u001B[0;32m      3\u001B[0m            \u001B[38;5;124m'\u001B[39m\u001B[38;5;124m$2000-3999      \u001B[39m\u001B[38;5;124m'\u001B[39m: \u001B[38;5;241m6\u001B[39m,\n\u001B[1;32m   (...)\u001B[0m\n\u001B[0;32m      8\u001B[0m            \u001B[38;5;124m'\u001B[39m\u001B[38;5;124mDon’t know/not sure \u001B[39m\u001B[38;5;124m'\u001B[39m: \u001B[38;5;241m0\u001B[39m, \u001B[38;5;124m'\u001B[39m\u001B[38;5;124mI prefer to not answer\u001B[39m\u001B[38;5;124m'\u001B[39m: \u001B[38;5;241m1\u001B[39m\n\u001B[0;32m      9\u001B[0m            }\n\u001B[1;32m---> 10\u001B[0m filtered_nun[encode_str \u001B[38;5;241m+\u001B[39m \u001B[38;5;124m'\u001B[39m\u001B[38;5;124mQ13\u001B[39m\u001B[38;5;124m'\u001B[39m] \u001B[38;5;241m=\u001B[39m \u001B[43mfiltered_nun\u001B[49m[\u001B[38;5;124m'\u001B[39m\u001B[38;5;124mQ13\u001B[39m\u001B[38;5;124m'\u001B[39m]\u001B[38;5;241m.\u001B[39mreplace(q13_dic)\u001B[38;5;241m.\u001B[39mfillna(\u001B[38;5;241m-\u001B[39m\u001B[38;5;241m1\u001B[39m)\u001B[38;5;241m.\u001B[39mastype(\u001B[38;5;28mint\u001B[39m)\n",
      "\u001B[1;31mNameError\u001B[0m: name 'filtered_nun' is not defined"
     ]
    }
   ],
   "source": [
    "q13_dic = {'$7000 or more ': 8,\n",
    "           '$4000-6999       ': 7,\n",
    "           '$2000-3999      ': 6,\n",
    "           '$1000-$1999 ': 5,\n",
    "           '$500-$999 ': 4,\n",
    "           '$250-$499 ': 3,\n",
    "           'Less than $250 ': 2,\n",
    "           'Don’t know/not sure ': 0, 'I prefer to not answer': 1\n",
    "           }\n",
    "filtered_nun[encode_str + 'Q13'] = filtered_nun['Q13'].replace(q13_dic).fillna(-1).astype(int)\n"
   ],
   "metadata": {
    "collapsed": false,
    "pycharm": {
     "name": "#%%\n"
    }
   }
  },
  {
   "cell_type": "markdown",
   "source": [
    "Automatic Encoding. Each answer's encoding value is shown in the table below"
   ],
   "metadata": {
    "collapsed": false,
    "pycharm": {
     "name": "#%% md\n"
    }
   }
  },
  {
   "cell_type": "code",
   "execution_count": 70,
   "outputs": [
    {
     "ename": "NameError",
     "evalue": "name 'manual_encoding' is not defined",
     "output_type": "error",
     "traceback": [
      "\u001B[1;31m---------------------------------------------------------------------------\u001B[0m",
      "\u001B[1;31mNameError\u001B[0m                                 Traceback (most recent call last)",
      "Input \u001B[1;32mIn [70]\u001B[0m, in \u001B[0;36m<cell line: 3>\u001B[1;34m()\u001B[0m\n\u001B[0;32m      1\u001B[0m dic_encoding \u001B[38;5;241m=\u001B[39m {}\n\u001B[0;32m      2\u001B[0m auto_encoding \u001B[38;5;241m=\u001B[39m cols_encode\u001B[38;5;241m.\u001B[39mcopy()\n\u001B[1;32m----> 3\u001B[0m [auto_encoding\u001B[38;5;241m.\u001B[39mpop(key) \u001B[38;5;28;01mfor\u001B[39;00m key \u001B[38;5;129;01min\u001B[39;00m \u001B[43mmanual_encoding\u001B[49m]\n\u001B[0;32m      4\u001B[0m filtered_nun[\u001B[38;5;28mlist\u001B[39m(auto_encoding\u001B[38;5;241m.\u001B[39mvalues())] \u001B[38;5;241m=\u001B[39m filtered_nun[\u001B[38;5;28mlist\u001B[39m(auto_encoding\u001B[38;5;241m.\u001B[39mkeys())]\u001B[38;5;241m.\u001B[39mapply(\n\u001B[0;32m      5\u001B[0m     \u001B[38;5;28;01mlambda\u001B[39;00m x: x\u001B[38;5;241m.\u001B[39mastype(\u001B[38;5;124m'\u001B[39m\u001B[38;5;124mcategory\u001B[39m\u001B[38;5;124m'\u001B[39m)\u001B[38;5;241m.\u001B[39mcat\u001B[38;5;241m.\u001B[39mcodes)\n\u001B[0;32m      6\u001B[0m \u001B[38;5;28;01mfor\u001B[39;00m col \u001B[38;5;129;01min\u001B[39;00m cols_encode\u001B[38;5;241m.\u001B[39mitems():\n",
      "\u001B[1;31mNameError\u001B[0m: name 'manual_encoding' is not defined"
     ]
    }
   ],
   "source": [
    "dic_encoding = {}\n",
    "auto_encoding = cols_encode.copy()\n",
    "[auto_encoding.pop(key) for key in manual_encoding]\n",
    "filtered_nun[list(auto_encoding.values())] = filtered_nun[list(auto_encoding.keys())].apply(\n",
    "    lambda x: x.astype('category').cat.codes)\n",
    "for col in cols_encode.items():\n",
    "    col = list(col)\n",
    "    dic_encoding.update(filtered_nun[col].apply(lambda x: x.drop_duplicates()).set_index(col[1]).to_dict())\n",
    "    print(filtered_nun[col].apply(lambda x: x.drop_duplicates()))\n",
    "\n"
   ],
   "metadata": {
    "collapsed": false,
    "pycharm": {
     "name": "#%%\n"
    }
   }
  },
  {
   "cell_type": "code",
   "execution_count": 43,
   "outputs": [],
   "source": [
    "with open('python/notebooks/encoding.pickle', 'wb') as handle:\n",
    "    pickle.dump(dic_encoding, handle)"
   ],
   "metadata": {
    "collapsed": false,
    "pycharm": {
     "name": "#%%\n"
    }
   }
  },
  {
   "cell_type": "markdown",
   "source": [
    "## Sol 2"
   ],
   "metadata": {
    "collapsed": false,
    "pycharm": {
     "name": "#%% md\n"
    }
   }
  },
  {
   "cell_type": "code",
   "execution_count": 20,
   "outputs": [
    {
     "name": "stdout",
     "output_type": "stream",
     "text": [
      "Q5\n",
      "number of features are:10\n",
      "0.8723041997729852\n"
     ]
    },
    {
     "name": "stderr",
     "output_type": "stream",
     "text": [
      "C:\\Users\\Achituv\\anaconda3\\envs\\ox\\lib\\site-packages\\sklearn\\base.py:443: UserWarning: X has feature names, but RandomForestClassifier was fitted without feature names\n",
      "  warnings.warn(\n",
      "C:\\Users\\Achituv\\anaconda3\\envs\\ox\\lib\\site-packages\\sklearn\\base.py:443: UserWarning: X has feature names, but RandomForestClassifier was fitted without feature names\n",
      "  warnings.warn(\n",
      "C:\\Users\\Achituv\\anaconda3\\envs\\ox\\lib\\site-packages\\sklearn\\base.py:443: UserWarning: X has feature names, but RandomForestClassifier was fitted without feature names\n",
      "  warnings.warn(\n"
     ]
    },
    {
     "name": "stdout",
     "output_type": "stream",
     "text": [
      "Q7\n",
      "number of features are:3\n",
      "0.5547540983606557\n",
      "Q6\n",
      "number of features are:3\n",
      "0.41630434782608694\n",
      "Q2\n",
      "number of features are:9\n",
      "1.0\n",
      "Q13\n",
      "number of features are:4\n",
      "0.3858695652173913\n",
      "Q9\n",
      "number of features are:5\n"
     ]
    },
    {
     "name": "stderr",
     "output_type": "stream",
     "text": [
      "C:\\Users\\Achituv\\anaconda3\\envs\\ox\\lib\\site-packages\\sklearn\\base.py:443: UserWarning: X has feature names, but RandomForestClassifier was fitted without feature names\n",
      "  warnings.warn(\n",
      "C:\\Users\\Achituv\\anaconda3\\envs\\ox\\lib\\site-packages\\sklearn\\base.py:443: UserWarning: X has feature names, but RandomForestClassifier was fitted without feature names\n",
      "  warnings.warn(\n"
     ]
    },
    {
     "name": "stdout",
     "output_type": "stream",
     "text": [
      "0.6376496191512514\n",
      "Q10\n",
      "number of features are:6\n",
      "0.8775843307943417\n",
      "Q11\n",
      "number of features are:7\n"
     ]
    },
    {
     "name": "stderr",
     "output_type": "stream",
     "text": [
      "C:\\Users\\Achituv\\anaconda3\\envs\\ox\\lib\\site-packages\\sklearn\\base.py:443: UserWarning: X has feature names, but RandomForestClassifier was fitted without feature names\n",
      "  warnings.warn(\n",
      "C:\\Users\\Achituv\\anaconda3\\envs\\ox\\lib\\site-packages\\sklearn\\base.py:443: UserWarning: X has feature names, but RandomForestClassifier was fitted without feature names\n",
      "  warnings.warn(\n"
     ]
    },
    {
     "name": "stdout",
     "output_type": "stream",
     "text": [
      "0.8841131664853101\n",
      "Q12\n",
      "number of features are:8\n",
      "0.9695155144256941\n",
      "Q17\n",
      "number of features are:9\n"
     ]
    },
    {
     "name": "stderr",
     "output_type": "stream",
     "text": [
      "C:\\Users\\Achituv\\anaconda3\\envs\\ox\\lib\\site-packages\\sklearn\\base.py:443: UserWarning: X has feature names, but RandomForestClassifier was fitted without feature names\n",
      "  warnings.warn(\n",
      "C:\\Users\\Achituv\\anaconda3\\envs\\ox\\lib\\site-packages\\sklearn\\base.py:443: UserWarning: X has feature names, but RandomForestClassifier was fitted without feature names\n",
      "  warnings.warn(\n"
     ]
    },
    {
     "name": "stdout",
     "output_type": "stream",
     "text": [
      "0.9928728070175439\n",
      "Q15\n",
      "number of features are:10\n",
      "0.9766407119021134\n",
      "Q14\n",
      "number of features are:11\n"
     ]
    },
    {
     "name": "stderr",
     "output_type": "stream",
     "text": [
      "C:\\Users\\Achituv\\anaconda3\\envs\\ox\\lib\\site-packages\\sklearn\\base.py:443: UserWarning: X has feature names, but RandomForestClassifier was fitted without feature names\n",
      "  warnings.warn(\n",
      "C:\\Users\\Achituv\\anaconda3\\envs\\ox\\lib\\site-packages\\sklearn\\base.py:443: UserWarning: X has feature names, but RandomForestClassifier was fitted without feature names\n",
      "  warnings.warn(\n"
     ]
    },
    {
     "name": "stdout",
     "output_type": "stream",
     "text": [
      "1.0\n",
      "Q4\n",
      "number of features are:12\n",
      "0.9903038138332256\n"
     ]
    },
    {
     "name": "stderr",
     "output_type": "stream",
     "text": [
      "C:\\Users\\Achituv\\anaconda3\\envs\\ox\\lib\\site-packages\\sklearn\\base.py:443: UserWarning: X has feature names, but RandomForestClassifier was fitted without feature names\n",
      "  warnings.warn(\n",
      "C:\\Users\\Achituv\\anaconda3\\envs\\ox\\lib\\site-packages\\sklearn\\base.py:443: UserWarning: X has feature names, but RandomForestClassifier was fitted without feature names\n",
      "  warnings.warn(\n"
     ]
    },
    {
     "data": {
      "text/plain": "      index                                                 Q2    Q4  \\\n0         0  A major bicycle part necessary for riding (i.e...  2019   \n2         2       Entire bicycle (i.e., frame and components)   2022   \n3         3       Entire bicycle (i.e., frame and components)   2017   \n4         4       Entire bicycle (i.e., frame and components)   2022   \n5         5       Entire bicycle (i.e., frame and components)   2020   \n...     ...                                                ...   ...   \n2019   2019       Entire bicycle (i.e., frame and components)   2022   \n2020   2020       Entire bicycle (i.e., frame and components)    NaN   \n2021   2021       Entire bicycle (i.e., frame and components)    NaN   \n2022   2022       Entire bicycle (i.e., frame and components)   2017   \n2024   2024       Entire bicycle (i.e., frame and components)   2022   \n\n                       Q5                       Q6  \\\n0     Don’t know/not sure    Evening (18:00-23:59)   \n2                  March     Morning (06:00-11:59)   \n3                    May     Evening (18:00-23:59)   \n4                  March   Afternoon (12:00-17:59)   \n5     Don’t know/not sure    Evening (18:00-23:59)   \n...                   ...                      ...   \n2019               March   Overnight (00:00-05:59)   \n2020               March     Morning (06:00-11:59)   \n2021                 May     Evening (18:00-23:59)   \n2022  Don’t know/not sure  Afternoon (12:00-17:59)   \n2024             January     Evening (18:00-23:59)   \n\n                                                     Q7  \\\n0     Yes, frame locked to a fixed structure (e.g., ...   \n2     Yes, frame locked to a fixed structure (e.g., ...   \n3     Yes, locked one or more wheels (i.e., bike loc...   \n4     Yes, frame locked to a fixed structure (e.g., ...   \n5                                         No, unlocked    \n...                                                 ...   \n2019                                      No, unlocked    \n2020                                      No, unlocked    \n2021                                      No, unlocked    \n2022  Yes, frame locked to a fixed structure (e.g., ...   \n2024  Yes, frame locked to a fixed structure (e.g., ...   \n\n                                                     Q9   Q10  \\\n0                                    Outdoor bike rack    No    \n2                               Other (please specify):   No    \n3                                                   NaN   NaN   \n4                                    Outdoor bike rack   Yes    \n5                                    Outdoor bike rack    No    \n...                                                 ...   ...   \n2019  Outside in the yard or on a balcony, porch, or...   No    \n2020                              Inside a shed/garage    No    \n2021                              Inside a shed/garage    No    \n2022                            Other (please specify):   No    \n2024                            Other (please specify):   No    \n\n                                                    Q11   Q12  ... encode_Q7  \\\n0                            I did not report the theft   No   ...         3   \n2     The police ,A bicycle registry/recovery system...   No   ...         3   \n3                                                   NaN   NaN  ...         2   \n4                                           The police   Yes   ...         3   \n5     The police ,A bicycle registry/recovery system...   No   ...         1   \n...                                                 ...   ...  ...       ...   \n2019                                        The police   Yes   ...         1   \n2020                                        The police    No   ...         1   \n2021  The police ,A bicycle registry/recovery system...   No   ...         1   \n2022                                        The police    No   ...         3   \n2024  The police ,A bicycle registry/recovery system...  Yes   ...         3   \n\n     encode_Q13 encode_Q2 encode_Q9  encode_Q10  encode_Q11  encode_Q12  \\\n0             3         0         7           1           4           2   \n2             5         1         6           1          10           2   \n3             6         1         2           1           7           3   \n4             6         1         7           2           7           3   \n5             4         1         7           1           8           2   \n...         ...       ...       ...         ...         ...         ...   \n2019          3         1         8           1           7           3   \n2020          5         1         4           1           7           2   \n2021          6         1         4           1          10           2   \n2022          6         1         6           1           7           2   \n2024          8         1         6           1          10           3   \n\n      encode_Q14  encode_Q15  encode_Q17  \n0              2          10           1  \n2              2           0           0  \n3              2          10           0  \n4              2           5           0  \n5              2           8           1  \n...          ...         ...         ...  \n2019           2           8           1  \n2020           2           8           0  \n2021           2           8           0  \n2022           2          10           0  \n2024           2           8           0  \n\n[1866 rows x 27 columns]",
      "text/html": "<div>\n<style scoped>\n    .dataframe tbody tr th:only-of-type {\n        vertical-align: middle;\n    }\n\n    .dataframe tbody tr th {\n        vertical-align: top;\n    }\n\n    .dataframe thead th {\n        text-align: right;\n    }\n</style>\n<table border=\"1\" class=\"dataframe\">\n  <thead>\n    <tr style=\"text-align: right;\">\n      <th></th>\n      <th>index</th>\n      <th>Q2</th>\n      <th>Q4</th>\n      <th>Q5</th>\n      <th>Q6</th>\n      <th>Q7</th>\n      <th>Q9</th>\n      <th>Q10</th>\n      <th>Q11</th>\n      <th>Q12</th>\n      <th>...</th>\n      <th>encode_Q7</th>\n      <th>encode_Q13</th>\n      <th>encode_Q2</th>\n      <th>encode_Q9</th>\n      <th>encode_Q10</th>\n      <th>encode_Q11</th>\n      <th>encode_Q12</th>\n      <th>encode_Q14</th>\n      <th>encode_Q15</th>\n      <th>encode_Q17</th>\n    </tr>\n  </thead>\n  <tbody>\n    <tr>\n      <th>0</th>\n      <td>0</td>\n      <td>A major bicycle part necessary for riding (i.e...</td>\n      <td>2019</td>\n      <td>Don’t know/not sure</td>\n      <td>Evening (18:00-23:59)</td>\n      <td>Yes, frame locked to a fixed structure (e.g., ...</td>\n      <td>Outdoor bike rack</td>\n      <td>No</td>\n      <td>I did not report the theft</td>\n      <td>No</td>\n      <td>...</td>\n      <td>3</td>\n      <td>3</td>\n      <td>0</td>\n      <td>7</td>\n      <td>1</td>\n      <td>4</td>\n      <td>2</td>\n      <td>2</td>\n      <td>10</td>\n      <td>1</td>\n    </tr>\n    <tr>\n      <th>2</th>\n      <td>2</td>\n      <td>Entire bicycle (i.e., frame and components)</td>\n      <td>2022</td>\n      <td>March</td>\n      <td>Morning (06:00-11:59)</td>\n      <td>Yes, frame locked to a fixed structure (e.g., ...</td>\n      <td>Other (please specify):</td>\n      <td>No</td>\n      <td>The police ,A bicycle registry/recovery system...</td>\n      <td>No</td>\n      <td>...</td>\n      <td>3</td>\n      <td>5</td>\n      <td>1</td>\n      <td>6</td>\n      <td>1</td>\n      <td>10</td>\n      <td>2</td>\n      <td>2</td>\n      <td>0</td>\n      <td>0</td>\n    </tr>\n    <tr>\n      <th>3</th>\n      <td>3</td>\n      <td>Entire bicycle (i.e., frame and components)</td>\n      <td>2017</td>\n      <td>May</td>\n      <td>Evening (18:00-23:59)</td>\n      <td>Yes, locked one or more wheels (i.e., bike loc...</td>\n      <td>NaN</td>\n      <td>NaN</td>\n      <td>NaN</td>\n      <td>NaN</td>\n      <td>...</td>\n      <td>2</td>\n      <td>6</td>\n      <td>1</td>\n      <td>2</td>\n      <td>1</td>\n      <td>7</td>\n      <td>3</td>\n      <td>2</td>\n      <td>10</td>\n      <td>0</td>\n    </tr>\n    <tr>\n      <th>4</th>\n      <td>4</td>\n      <td>Entire bicycle (i.e., frame and components)</td>\n      <td>2022</td>\n      <td>March</td>\n      <td>Afternoon (12:00-17:59)</td>\n      <td>Yes, frame locked to a fixed structure (e.g., ...</td>\n      <td>Outdoor bike rack</td>\n      <td>Yes</td>\n      <td>The police</td>\n      <td>Yes</td>\n      <td>...</td>\n      <td>3</td>\n      <td>6</td>\n      <td>1</td>\n      <td>7</td>\n      <td>2</td>\n      <td>7</td>\n      <td>3</td>\n      <td>2</td>\n      <td>5</td>\n      <td>0</td>\n    </tr>\n    <tr>\n      <th>5</th>\n      <td>5</td>\n      <td>Entire bicycle (i.e., frame and components)</td>\n      <td>2020</td>\n      <td>Don’t know/not sure</td>\n      <td>Evening (18:00-23:59)</td>\n      <td>No, unlocked</td>\n      <td>Outdoor bike rack</td>\n      <td>No</td>\n      <td>The police ,A bicycle registry/recovery system...</td>\n      <td>No</td>\n      <td>...</td>\n      <td>1</td>\n      <td>4</td>\n      <td>1</td>\n      <td>7</td>\n      <td>1</td>\n      <td>8</td>\n      <td>2</td>\n      <td>2</td>\n      <td>8</td>\n      <td>1</td>\n    </tr>\n    <tr>\n      <th>...</th>\n      <td>...</td>\n      <td>...</td>\n      <td>...</td>\n      <td>...</td>\n      <td>...</td>\n      <td>...</td>\n      <td>...</td>\n      <td>...</td>\n      <td>...</td>\n      <td>...</td>\n      <td>...</td>\n      <td>...</td>\n      <td>...</td>\n      <td>...</td>\n      <td>...</td>\n      <td>...</td>\n      <td>...</td>\n      <td>...</td>\n      <td>...</td>\n      <td>...</td>\n      <td>...</td>\n    </tr>\n    <tr>\n      <th>2019</th>\n      <td>2019</td>\n      <td>Entire bicycle (i.e., frame and components)</td>\n      <td>2022</td>\n      <td>March</td>\n      <td>Overnight (00:00-05:59)</td>\n      <td>No, unlocked</td>\n      <td>Outside in the yard or on a balcony, porch, or...</td>\n      <td>No</td>\n      <td>The police</td>\n      <td>Yes</td>\n      <td>...</td>\n      <td>1</td>\n      <td>3</td>\n      <td>1</td>\n      <td>8</td>\n      <td>1</td>\n      <td>7</td>\n      <td>3</td>\n      <td>2</td>\n      <td>8</td>\n      <td>1</td>\n    </tr>\n    <tr>\n      <th>2020</th>\n      <td>2020</td>\n      <td>Entire bicycle (i.e., frame and components)</td>\n      <td>NaN</td>\n      <td>March</td>\n      <td>Morning (06:00-11:59)</td>\n      <td>No, unlocked</td>\n      <td>Inside a shed/garage</td>\n      <td>No</td>\n      <td>The police</td>\n      <td>No</td>\n      <td>...</td>\n      <td>1</td>\n      <td>5</td>\n      <td>1</td>\n      <td>4</td>\n      <td>1</td>\n      <td>7</td>\n      <td>2</td>\n      <td>2</td>\n      <td>8</td>\n      <td>0</td>\n    </tr>\n    <tr>\n      <th>2021</th>\n      <td>2021</td>\n      <td>Entire bicycle (i.e., frame and components)</td>\n      <td>NaN</td>\n      <td>May</td>\n      <td>Evening (18:00-23:59)</td>\n      <td>No, unlocked</td>\n      <td>Inside a shed/garage</td>\n      <td>No</td>\n      <td>The police ,A bicycle registry/recovery system...</td>\n      <td>No</td>\n      <td>...</td>\n      <td>1</td>\n      <td>6</td>\n      <td>1</td>\n      <td>4</td>\n      <td>1</td>\n      <td>10</td>\n      <td>2</td>\n      <td>2</td>\n      <td>8</td>\n      <td>0</td>\n    </tr>\n    <tr>\n      <th>2022</th>\n      <td>2022</td>\n      <td>Entire bicycle (i.e., frame and components)</td>\n      <td>2017</td>\n      <td>Don’t know/not sure</td>\n      <td>Afternoon (12:00-17:59)</td>\n      <td>Yes, frame locked to a fixed structure (e.g., ...</td>\n      <td>Other (please specify):</td>\n      <td>No</td>\n      <td>The police</td>\n      <td>No</td>\n      <td>...</td>\n      <td>3</td>\n      <td>6</td>\n      <td>1</td>\n      <td>6</td>\n      <td>1</td>\n      <td>7</td>\n      <td>2</td>\n      <td>2</td>\n      <td>10</td>\n      <td>0</td>\n    </tr>\n    <tr>\n      <th>2024</th>\n      <td>2024</td>\n      <td>Entire bicycle (i.e., frame and components)</td>\n      <td>2022</td>\n      <td>January</td>\n      <td>Evening (18:00-23:59)</td>\n      <td>Yes, frame locked to a fixed structure (e.g., ...</td>\n      <td>Other (please specify):</td>\n      <td>No</td>\n      <td>The police ,A bicycle registry/recovery system...</td>\n      <td>Yes</td>\n      <td>...</td>\n      <td>3</td>\n      <td>8</td>\n      <td>1</td>\n      <td>6</td>\n      <td>1</td>\n      <td>10</td>\n      <td>3</td>\n      <td>2</td>\n      <td>8</td>\n      <td>0</td>\n    </tr>\n  </tbody>\n</table>\n<p>1866 rows × 27 columns</p>\n</div>"
     },
     "execution_count": 20,
     "metadata": {},
     "output_type": "execute_result"
    }
   ],
   "source": [
    "sol2 = filtered_nun.copy()\n",
    "clf = RandomForestClassifier(random_state=0)\n",
    "for col in what_to_deal_first['col_q']:\n",
    "    print(col)\n",
    "    y_col = cols_encode[col]\n",
    "    # Get only encode columns from the table\n",
    "    pre_filter = sol2[list(cols_encode.values())]\n",
    "\n",
    "    # get only rows with Nun (-1) in current cul\n",
    "    pre_x = pre_filter[pre_filter[y_col] == -1].drop(columns=y_col)\n",
    "    # Find columns with Nun values. That columns would not consider features\n",
    "    res = pre_x[pre_x == -1].any()\n",
    "    no_features_list = list(res[res == True].index)\n",
    "    print('number of features are:{}'.format(len(cols) - 2 - len(no_features_list)))\n",
    "    x_predict = pre_x.drop(columns=no_features_list)\n",
    "    features_labels = pre_filter.drop(columns=no_features_list)\n",
    "\n",
    "    # Build the data for the prediction\n",
    "    xy = features_labels[~features_labels[features_labels == -1].any(axis=1)]\n",
    "    x = xy.drop(columns=y_col).to_numpy()\n",
    "    y = xy[y_col].to_numpy()\n",
    "\n",
    "    clf.fit(x, y)\n",
    "    print(clf.score(x, y))\n",
    "    sol2.loc[sol2[y_col] == -1, y_col] = clf.predict(x_predict)\n",
    "sol2"
   ],
   "metadata": {
    "collapsed": false,
    "pycharm": {
     "name": "#%%\n"
    }
   }
  },
  {
   "cell_type": "markdown",
   "source": [
    "# general analysis on recovery"
   ],
   "metadata": {
    "collapsed": false,
    "pycharm": {
     "name": "#%% md\n"
    }
   }
  },
  {
   "cell_type": "code",
   "execution_count": 5,
   "outputs": [
    {
     "ename": "NameError",
     "evalue": "name 'raw_data' is not defined",
     "output_type": "error",
     "traceback": [
      "\u001B[1;31m---------------------------------------------------------------------------\u001B[0m",
      "\u001B[1;31mNameError\u001B[0m                                 Traceback (most recent call last)",
      "Input \u001B[1;32mIn [5]\u001B[0m, in \u001B[0;36m<cell line: 3>\u001B[1;34m()\u001B[0m\n\u001B[0;32m      1\u001B[0m recovery_col \u001B[38;5;241m=\u001B[39m \u001B[38;5;124m'\u001B[39m\u001B[38;5;124mQ18\u001B[39m\u001B[38;5;124m'\u001B[39m\n\u001B[0;32m      2\u001B[0m recovery_col_encode \u001B[38;5;241m=\u001B[39m \u001B[38;5;124m\"\u001B[39m\u001B[38;5;124mencode_\u001B[39m\u001B[38;5;124m\"\u001B[39m \u001B[38;5;241m+\u001B[39m recovery_col\n\u001B[1;32m----> 3\u001B[0m sol2[recovery_col] \u001B[38;5;241m=\u001B[39m \u001B[43mraw_data\u001B[49m[recovery_col]\n",
      "\u001B[1;31mNameError\u001B[0m: name 'raw_data' is not defined"
     ]
    }
   ],
   "source": [
    "recovery_col = 'Q18'\n",
    "recovery_col_encode = \"encode_\" + recovery_col\n",
    "sol2[recovery_col] = raw_data[recovery_col]"
   ],
   "metadata": {
    "collapsed": false,
    "pycharm": {
     "name": "#%%\n"
    }
   }
  },
  {
   "cell_type": "code",
   "execution_count": null,
   "outputs": [],
   "source": [
    "print(sol2.groupby(by=recovery_col, dropna=False).count()['index'])"
   ],
   "metadata": {
    "collapsed": false,
    "pycharm": {
     "name": "#%%\n"
    }
   }
  },
  {
   "cell_type": "code",
   "execution_count": null,
   "outputs": [],
   "source": [
    "# Rows without recovery information should be discarded\n",
    "pre_dt = sol2[sol2[recovery_col].notna()]\n",
    "# Encode recovery (0 or 1)\n",
    "pre_dt[recovery_col_encode] = pre_dt[recovery_col].astype('category').cat.codes\n",
    "pre_dt[recovery_col_encode].replace(dic_recover,inplace=True)\n",
    "pre_dt.to_csv(ready_for_analysis_path)"
   ],
   "metadata": {
    "collapsed": false,
    "pycharm": {
     "name": "#%%\n"
    }
   }
  },
  {
   "cell_type": "markdown",
   "source": [
    "optional - The code can start from here by running the next row"
   ],
   "metadata": {
    "collapsed": false,
    "pycharm": {
     "name": "#%% md\n"
    }
   }
  },
  {
   "cell_type": "code",
   "execution_count": 13,
   "outputs": [
    {
     "data": {
      "text/plain": "      Unnamed: 0  index                                                 Q2  \\\n0              0      0  A major bicycle part necessary for riding (i.e...   \n1              2      2       Entire bicycle (i.e., frame and components)    \n2              4      4       Entire bicycle (i.e., frame and components)    \n3              5      5       Entire bicycle (i.e., frame and components)    \n4              6      6       Entire bicycle (i.e., frame and components)    \n...          ...    ...                                                ...   \n1831        2019   2019       Entire bicycle (i.e., frame and components)    \n1832        2020   2020       Entire bicycle (i.e., frame and components)    \n1833        2021   2021       Entire bicycle (i.e., frame and components)    \n1834        2022   2022       Entire bicycle (i.e., frame and components)    \n1835        2024   2024       Entire bicycle (i.e., frame and components)    \n\n        Q4                   Q5                       Q6  \\\n0     2019  Don’t know/not sure    Evening (18:00-23:59)   \n1     2022               March     Morning (06:00-11:59)   \n2     2022               March   Afternoon (12:00-17:59)   \n3     2020  Don’t know/not sure    Evening (18:00-23:59)   \n4     2021               April   Overnight (00:00-05:59)   \n...    ...                  ...                      ...   \n1831  2022               March   Overnight (00:00-05:59)   \n1832   NaN               March     Morning (06:00-11:59)   \n1833   NaN                 May     Evening (18:00-23:59)   \n1834  2017  Don’t know/not sure  Afternoon (12:00-17:59)   \n1835  2022             January     Evening (18:00-23:59)   \n\n                                                     Q7  \\\n0     Yes, frame locked to a fixed structure (e.g., ...   \n1     Yes, frame locked to a fixed structure (e.g., ...   \n2     Yes, frame locked to a fixed structure (e.g., ...   \n3                                         No, unlocked    \n4                                         No, unlocked    \n...                                                 ...   \n1831                                      No, unlocked    \n1832                                      No, unlocked    \n1833                                      No, unlocked    \n1834  Yes, frame locked to a fixed structure (e.g., ...   \n1835  Yes, frame locked to a fixed structure (e.g., ...   \n\n                                                     Q9   Q10  \\\n0                                    Outdoor bike rack    No    \n1                               Other (please specify):   No    \n2                                    Outdoor bike rack   Yes    \n3                                    Outdoor bike rack    No    \n4                                 Inside a shed/garage    No    \n...                                                 ...   ...   \n1831  Outside in the yard or on a balcony, porch, or...   No    \n1832                              Inside a shed/garage    No    \n1833                              Inside a shed/garage    No    \n1834                            Other (please specify):   No    \n1835                            Other (please specify):   No    \n\n                                                    Q11  ... encode_Q2  \\\n0                            I did not report the theft  ...         0   \n1     The police ,A bicycle registry/recovery system...  ...         1   \n2                                           The police   ...         1   \n3     The police ,A bicycle registry/recovery system...  ...         1   \n4     The police ,A bicycle registry/recovery system...  ...         1   \n...                                                 ...  ...       ...   \n1831                                        The police   ...         1   \n1832                                        The police   ...         1   \n1833  The police ,A bicycle registry/recovery system...  ...         1   \n1834                                        The police   ...         1   \n1835  The police ,A bicycle registry/recovery system...  ...         1   \n\n     encode_Q9 encode_Q10 encode_Q11 encode_Q12  encode_Q14  encode_Q15  \\\n0            7          1          4          2           2          10   \n1            6          1         10          2           2           0   \n2            7          2          7          3           2           5   \n3            7          1          8          2           2           8   \n4            4          1         10          3           2           8   \n...        ...        ...        ...        ...         ...         ...   \n1831         8          1          7          3           2           8   \n1832         4          1          7          2           2           8   \n1833         4          1         10          2           2           8   \n1834         6          1          7          2           2          10   \n1835         6          1         10          3           2           8   \n\n      encode_Q17                          Q18   encode_Q18  \n0              1                           No  not_recover  \n1              0                           No  not_recover  \n2              0  Yes (including if damaged)       recover  \n3              1                           No  not_recover  \n4              0                           No  not_recover  \n...          ...                          ...          ...  \n1831           1                           No  not_recover  \n1832           0                           No  not_recover  \n1833           0                           No  not_recover  \n1834           0                           No  not_recover  \n1835           0                           No  not_recover  \n\n[1836 rows x 30 columns]",
      "text/html": "<div>\n<style scoped>\n    .dataframe tbody tr th:only-of-type {\n        vertical-align: middle;\n    }\n\n    .dataframe tbody tr th {\n        vertical-align: top;\n    }\n\n    .dataframe thead th {\n        text-align: right;\n    }\n</style>\n<table border=\"1\" class=\"dataframe\">\n  <thead>\n    <tr style=\"text-align: right;\">\n      <th></th>\n      <th>Unnamed: 0</th>\n      <th>index</th>\n      <th>Q2</th>\n      <th>Q4</th>\n      <th>Q5</th>\n      <th>Q6</th>\n      <th>Q7</th>\n      <th>Q9</th>\n      <th>Q10</th>\n      <th>Q11</th>\n      <th>...</th>\n      <th>encode_Q2</th>\n      <th>encode_Q9</th>\n      <th>encode_Q10</th>\n      <th>encode_Q11</th>\n      <th>encode_Q12</th>\n      <th>encode_Q14</th>\n      <th>encode_Q15</th>\n      <th>encode_Q17</th>\n      <th>Q18</th>\n      <th>encode_Q18</th>\n    </tr>\n  </thead>\n  <tbody>\n    <tr>\n      <th>0</th>\n      <td>0</td>\n      <td>0</td>\n      <td>A major bicycle part necessary for riding (i.e...</td>\n      <td>2019</td>\n      <td>Don’t know/not sure</td>\n      <td>Evening (18:00-23:59)</td>\n      <td>Yes, frame locked to a fixed structure (e.g., ...</td>\n      <td>Outdoor bike rack</td>\n      <td>No</td>\n      <td>I did not report the theft</td>\n      <td>...</td>\n      <td>0</td>\n      <td>7</td>\n      <td>1</td>\n      <td>4</td>\n      <td>2</td>\n      <td>2</td>\n      <td>10</td>\n      <td>1</td>\n      <td>No</td>\n      <td>not_recover</td>\n    </tr>\n    <tr>\n      <th>1</th>\n      <td>2</td>\n      <td>2</td>\n      <td>Entire bicycle (i.e., frame and components)</td>\n      <td>2022</td>\n      <td>March</td>\n      <td>Morning (06:00-11:59)</td>\n      <td>Yes, frame locked to a fixed structure (e.g., ...</td>\n      <td>Other (please specify):</td>\n      <td>No</td>\n      <td>The police ,A bicycle registry/recovery system...</td>\n      <td>...</td>\n      <td>1</td>\n      <td>6</td>\n      <td>1</td>\n      <td>10</td>\n      <td>2</td>\n      <td>2</td>\n      <td>0</td>\n      <td>0</td>\n      <td>No</td>\n      <td>not_recover</td>\n    </tr>\n    <tr>\n      <th>2</th>\n      <td>4</td>\n      <td>4</td>\n      <td>Entire bicycle (i.e., frame and components)</td>\n      <td>2022</td>\n      <td>March</td>\n      <td>Afternoon (12:00-17:59)</td>\n      <td>Yes, frame locked to a fixed structure (e.g., ...</td>\n      <td>Outdoor bike rack</td>\n      <td>Yes</td>\n      <td>The police</td>\n      <td>...</td>\n      <td>1</td>\n      <td>7</td>\n      <td>2</td>\n      <td>7</td>\n      <td>3</td>\n      <td>2</td>\n      <td>5</td>\n      <td>0</td>\n      <td>Yes (including if damaged)</td>\n      <td>recover</td>\n    </tr>\n    <tr>\n      <th>3</th>\n      <td>5</td>\n      <td>5</td>\n      <td>Entire bicycle (i.e., frame and components)</td>\n      <td>2020</td>\n      <td>Don’t know/not sure</td>\n      <td>Evening (18:00-23:59)</td>\n      <td>No, unlocked</td>\n      <td>Outdoor bike rack</td>\n      <td>No</td>\n      <td>The police ,A bicycle registry/recovery system...</td>\n      <td>...</td>\n      <td>1</td>\n      <td>7</td>\n      <td>1</td>\n      <td>8</td>\n      <td>2</td>\n      <td>2</td>\n      <td>8</td>\n      <td>1</td>\n      <td>No</td>\n      <td>not_recover</td>\n    </tr>\n    <tr>\n      <th>4</th>\n      <td>6</td>\n      <td>6</td>\n      <td>Entire bicycle (i.e., frame and components)</td>\n      <td>2021</td>\n      <td>April</td>\n      <td>Overnight (00:00-05:59)</td>\n      <td>No, unlocked</td>\n      <td>Inside a shed/garage</td>\n      <td>No</td>\n      <td>The police ,A bicycle registry/recovery system...</td>\n      <td>...</td>\n      <td>1</td>\n      <td>4</td>\n      <td>1</td>\n      <td>10</td>\n      <td>3</td>\n      <td>2</td>\n      <td>8</td>\n      <td>0</td>\n      <td>No</td>\n      <td>not_recover</td>\n    </tr>\n    <tr>\n      <th>...</th>\n      <td>...</td>\n      <td>...</td>\n      <td>...</td>\n      <td>...</td>\n      <td>...</td>\n      <td>...</td>\n      <td>...</td>\n      <td>...</td>\n      <td>...</td>\n      <td>...</td>\n      <td>...</td>\n      <td>...</td>\n      <td>...</td>\n      <td>...</td>\n      <td>...</td>\n      <td>...</td>\n      <td>...</td>\n      <td>...</td>\n      <td>...</td>\n      <td>...</td>\n      <td>...</td>\n    </tr>\n    <tr>\n      <th>1831</th>\n      <td>2019</td>\n      <td>2019</td>\n      <td>Entire bicycle (i.e., frame and components)</td>\n      <td>2022</td>\n      <td>March</td>\n      <td>Overnight (00:00-05:59)</td>\n      <td>No, unlocked</td>\n      <td>Outside in the yard or on a balcony, porch, or...</td>\n      <td>No</td>\n      <td>The police</td>\n      <td>...</td>\n      <td>1</td>\n      <td>8</td>\n      <td>1</td>\n      <td>7</td>\n      <td>3</td>\n      <td>2</td>\n      <td>8</td>\n      <td>1</td>\n      <td>No</td>\n      <td>not_recover</td>\n    </tr>\n    <tr>\n      <th>1832</th>\n      <td>2020</td>\n      <td>2020</td>\n      <td>Entire bicycle (i.e., frame and components)</td>\n      <td>NaN</td>\n      <td>March</td>\n      <td>Morning (06:00-11:59)</td>\n      <td>No, unlocked</td>\n      <td>Inside a shed/garage</td>\n      <td>No</td>\n      <td>The police</td>\n      <td>...</td>\n      <td>1</td>\n      <td>4</td>\n      <td>1</td>\n      <td>7</td>\n      <td>2</td>\n      <td>2</td>\n      <td>8</td>\n      <td>0</td>\n      <td>No</td>\n      <td>not_recover</td>\n    </tr>\n    <tr>\n      <th>1833</th>\n      <td>2021</td>\n      <td>2021</td>\n      <td>Entire bicycle (i.e., frame and components)</td>\n      <td>NaN</td>\n      <td>May</td>\n      <td>Evening (18:00-23:59)</td>\n      <td>No, unlocked</td>\n      <td>Inside a shed/garage</td>\n      <td>No</td>\n      <td>The police ,A bicycle registry/recovery system...</td>\n      <td>...</td>\n      <td>1</td>\n      <td>4</td>\n      <td>1</td>\n      <td>10</td>\n      <td>2</td>\n      <td>2</td>\n      <td>8</td>\n      <td>0</td>\n      <td>No</td>\n      <td>not_recover</td>\n    </tr>\n    <tr>\n      <th>1834</th>\n      <td>2022</td>\n      <td>2022</td>\n      <td>Entire bicycle (i.e., frame and components)</td>\n      <td>2017</td>\n      <td>Don’t know/not sure</td>\n      <td>Afternoon (12:00-17:59)</td>\n      <td>Yes, frame locked to a fixed structure (e.g., ...</td>\n      <td>Other (please specify):</td>\n      <td>No</td>\n      <td>The police</td>\n      <td>...</td>\n      <td>1</td>\n      <td>6</td>\n      <td>1</td>\n      <td>7</td>\n      <td>2</td>\n      <td>2</td>\n      <td>10</td>\n      <td>0</td>\n      <td>No</td>\n      <td>not_recover</td>\n    </tr>\n    <tr>\n      <th>1835</th>\n      <td>2024</td>\n      <td>2024</td>\n      <td>Entire bicycle (i.e., frame and components)</td>\n      <td>2022</td>\n      <td>January</td>\n      <td>Evening (18:00-23:59)</td>\n      <td>Yes, frame locked to a fixed structure (e.g., ...</td>\n      <td>Other (please specify):</td>\n      <td>No</td>\n      <td>The police ,A bicycle registry/recovery system...</td>\n      <td>...</td>\n      <td>1</td>\n      <td>6</td>\n      <td>1</td>\n      <td>10</td>\n      <td>3</td>\n      <td>2</td>\n      <td>8</td>\n      <td>0</td>\n      <td>No</td>\n      <td>not_recover</td>\n    </tr>\n  </tbody>\n</table>\n<p>1836 rows × 30 columns</p>\n</div>"
     },
     "execution_count": 13,
     "metadata": {},
     "output_type": "execute_result"
    }
   ],
   "source": [
    "pre_dt = pd.read_csv(ready_for_analysis_path)\n",
    "with open('python/notebooks/encoding.pickle', 'rb') as handle:\n",
    "    dic_encoding = pickle.load(handle)\n",
    "pre_dt['encode_Q18'].replace(dic_recover,inplace=True)"
   ],
   "metadata": {
    "collapsed": false,
    "pycharm": {
     "name": "#%%\n"
    }
   }
  },
  {
   "cell_type": "code",
   "execution_count": 88,
   "outputs": [
    {
     "data": {
      "text/plain": "dict_keys(['Q2', 'Q4', 'Q5', 'Q6', 'Q7', 'Q9', 'Q10', 'Q11', 'Q12', 'Q13', 'Q14', 'Q15', 'Q17'])"
     },
     "execution_count": 88,
     "metadata": {},
     "output_type": "execute_result"
    }
   ],
   "source": [
    "cols_encode.keys()"
   ],
   "metadata": {
    "collapsed": false,
    "pycharm": {
     "name": "#%%\n"
    }
   }
  },
  {
   "cell_type": "code",
   "execution_count": 89,
   "outputs": [
    {
     "data": {
      "text/plain": "<AxesSubplot:title={'center':'Q9:Where was your bicycle parked just before the theft? - Selected Choice'}>"
     },
     "execution_count": 89,
     "metadata": {},
     "output_type": "execute_result"
    },
    {
     "name": "stdout",
     "output_type": "stream",
     "text": [
      "╒═════════════╤═════╤═════╤═════╤═════╤═════╤═════╤═════╤═════╤═════╤═════╤══════╕\n",
      "│             │   0 │   1 │   2 │   3 │   4 │   5 │   6 │   7 │   8 │   9 │   10 │\n",
      "╞═════════════╪═════╪═════╪═════╪═════╪═════╪═════╪═════╪═════╪═════╪═════╪══════╡\n",
      "│ not_recover │  64 │  12 │  56 │  88 │ 434 │  33 │ 220 │ 285 │ 217 │ 129 │   17 │\n",
      "├─────────────┼─────┼─────┼─────┼─────┼─────┼─────┼─────┼─────┼─────┼─────┼──────┤\n",
      "│ recover     │   8 │   2 │   7 │  10 │  85 │  14 │  52 │  40 │  44 │  16 │    3 │\n",
      "╘═════════════╧═════╧═════╧═════╧═════╧═════╧═════╧═════╧═════╧═════╧═════╧══════╛\n",
      "|             |   0 |   1 |   2 |   3 |   4 |   5 |   6 |   7 |   8 |   9 |   10 |\n",
      "|:------------|----:|----:|----:|----:|----:|----:|----:|----:|----:|----:|-----:|\n",
      "| not_recover |  88 |  85 |  88 |  89 |  83 |  70 |  80 |  87 |  83 |  88 |   85 |\n",
      "| recover     |  11 |  14 |  11 |  10 |  16 |  29 |  19 |  12 |  16 |  11 |   15 |\n"
     ]
    },
    {
     "data": {
      "text/plain": "{7: 'Outdoor bike rack ',\n 6: 'Other (please specify):',\n -1: nan,\n 4: 'Inside a shed/garage ',\n 2: 'Condo storage room ',\n 3: 'Controlled-access bicycle room or enclosed bike locker ',\n 0: 'Against a street sign, tree, or street furniture (e.g., lamppost, railing, bench, parking meter) ',\n 8: 'Outside in the yard or on a balcony, porch, or patio ',\n 10: 'Workplace office ',\n 9: 'Parking garage bike rack/railing/pipe/etc.  ',\n 5: 'Inside house/apartment ',\n 1: 'Building lobby '}"
     },
     "execution_count": 89,
     "metadata": {},
     "output_type": "execute_result"
    },
    {
     "data": {
      "text/plain": "<Figure size 1080x720 with 1 Axes>",
      "image/png": "[encoded data removed]"
     },
     "metadata": {},
     "output_type": "display_data"
    }
   ],
   "source": [
    "my_df = DataFrame(index=list(dic_recover.values()))\n",
    "my_df_rel = DataFrame(index=list(dic_recover.values()))\n",
    "col = 'Q9'\n",
    "group_names = []\n",
    "ex_2 = pre_dt.groupby(by = cols_encode[col])\n",
    "for group in ex_2:\n",
    "    group_names.append(group[0])\n",
    "    data = group[1]\n",
    "    leny = len(data)\n",
    "    res = data.groupby(by ='encode_Q18').count()['index']\n",
    "    my_df[group[0]] = res/len(data)*100\n",
    "    my_df_rel[group[0]] = res\n",
    "my_df.fillna(0,inplace=True)\n",
    "my_df_rel .fillna(0,inplace=True)\n",
    "my_df[group_names].T.plot.bar(stacked=True,title = col +':'+ vv[col].iloc[0])\n",
    "\n",
    "print(tabulate(my_df_rel.astype(int), headers = 'keys', tablefmt = 'fancy_grid'))\n",
    "print(tabulate(my_df.astype(int), headers = 'keys', tablefmt = 'pipe'))\n",
    "dic_encoding[col]\n"
   ],
   "metadata": {
    "collapsed": false,
    "pycharm": {
     "name": "#%%\n"
    }
   }
  },
  {
   "cell_type": "markdown",
   "source": [
    "### Fourteen of the 47 bikes parked inside the house/apartment before the theft were recovered, representing 29% of the total."
   ],
   "metadata": {
    "collapsed": false,
    "pycharm": {
     "name": "#%% md\n"
    }
   }
  },
  {
   "cell_type": "code",
   "execution_count": 99,
   "outputs": [
    {
     "data": {
      "text/plain": "<AxesSubplot:title={'center':'Q11:Where did you report the bicycle or part theft? - Selected Choice'}>"
     },
     "execution_count": 99,
     "metadata": {},
     "output_type": "execute_result"
    },
    {
     "name": "stdout",
     "output_type": "stream",
     "text": [
      "╒═════════════╤═════╤═════╤═════╤═════╤═════╤═════╤═════╤═════╤═════╤═════╤══════╤══════╤══════╤══════╤══════╕\n",
      "│             │   0 │   1 │   2 │   3 │   4 │   5 │   6 │   7 │   8 │   9 │   10 │   11 │   12 │   13 │   14 │\n",
      "╞═════════════╪═════╪═════╪═════╪═════╪═════╪═════╪═════╪═════╪═════╪═════╪══════╪══════╪══════╪══════╪══════╡\n",
      "│ not_recover │  88 │   2 │  31 │   1 │  54 │  15 │  11 │ 271 │ 453 │  16 │  519 │   35 │   12 │   42 │    5 │\n",
      "├─────────────┼─────┼─────┼─────┼─────┼─────┼─────┼─────┼─────┼─────┼─────┼──────┼──────┼──────┼──────┼──────┤\n",
      "│ recover     │  10 │   3 │   6 │   0 │   7 │   1 │   0 │  38 │  86 │   5 │  103 │    8 │    3 │    9 │    2 │\n",
      "╘═════════════╧═════╧═════╧═════╧═════╧═════╧═════╧═════╧═════╧═════╧═════╧══════╧══════╧══════╧══════╧══════╛\n"
     ]
    },
    {
     "ename": "TypeError",
     "evalue": "'Styler' object is not iterable",
     "output_type": "error",
     "traceback": [
      "\u001B[1;31m---------------------------------------------------------------------------\u001B[0m",
      "\u001B[1;31mTypeError\u001B[0m                                 Traceback (most recent call last)",
      "Input \u001B[1;32mIn [99]\u001B[0m, in \u001B[0;36m<cell line: 17>\u001B[1;34m()\u001B[0m\n\u001B[0;32m     15\u001B[0m my_df[group_names]\u001B[38;5;241m.\u001B[39mT\u001B[38;5;241m.\u001B[39mplot\u001B[38;5;241m.\u001B[39mbar(stacked\u001B[38;5;241m=\u001B[39m\u001B[38;5;28;01mTrue\u001B[39;00m,title \u001B[38;5;241m=\u001B[39m col \u001B[38;5;241m+\u001B[39m\u001B[38;5;124m'\u001B[39m\u001B[38;5;124m:\u001B[39m\u001B[38;5;124m'\u001B[39m\u001B[38;5;241m+\u001B[39m vv[col]\u001B[38;5;241m.\u001B[39miloc[\u001B[38;5;241m0\u001B[39m])\n\u001B[0;32m     16\u001B[0m \u001B[38;5;28mprint\u001B[39m(tabulate(my_df_rel\u001B[38;5;241m.\u001B[39mastype(\u001B[38;5;28mint\u001B[39m), headers \u001B[38;5;241m=\u001B[39m \u001B[38;5;124m'\u001B[39m\u001B[38;5;124mkeys\u001B[39m\u001B[38;5;124m'\u001B[39m, tablefmt \u001B[38;5;241m=\u001B[39m \u001B[38;5;124m'\u001B[39m\u001B[38;5;124mfancy_grid\u001B[39m\u001B[38;5;124m'\u001B[39m))\n\u001B[1;32m---> 17\u001B[0m \u001B[38;5;28mprint\u001B[39m(\u001B[43mtabulate\u001B[49m\u001B[43m(\u001B[49m\u001B[43mmy_df\u001B[49m\u001B[38;5;241;43m.\u001B[39;49m\u001B[43mstyle\u001B[49m\u001B[38;5;241;43m.\u001B[39;49m\u001B[43mapply\u001B[49m\u001B[43m(\u001B[49m\u001B[38;5;28;43;01mlambda\u001B[39;49;00m\u001B[43m \u001B[49m\u001B[43mx\u001B[49m\u001B[43m:\u001B[49m\u001B[43m \u001B[49m\u001B[43mx\u001B[49m\u001B[38;5;241;43m.\u001B[39;49m\u001B[43mformat\u001B[49m\u001B[43m(\u001B[49m\u001B[38;5;124;43m\"\u001B[39;49m\u001B[38;5;132;43;01m{:.2%}\u001B[39;49;00m\u001B[38;5;124;43m\"\u001B[39;49m\u001B[43m)\u001B[49m\u001B[43m)\u001B[49m\u001B[43m,\u001B[49m\u001B[43m \u001B[49m\u001B[43mheaders\u001B[49m\u001B[43m \u001B[49m\u001B[38;5;241;43m=\u001B[39;49m\u001B[43m \u001B[49m\u001B[38;5;124;43m'\u001B[39;49m\u001B[38;5;124;43mkeys\u001B[39;49m\u001B[38;5;124;43m'\u001B[39;49m\u001B[43m,\u001B[49m\u001B[43m \u001B[49m\u001B[43mtablefmt\u001B[49m\u001B[43m \u001B[49m\u001B[38;5;241;43m=\u001B[39;49m\u001B[43m \u001B[49m\u001B[38;5;124;43m'\u001B[39;49m\u001B[38;5;124;43mpipe\u001B[39;49m\u001B[38;5;124;43m'\u001B[39;49m\u001B[43m)\u001B[49m)\n\u001B[0;32m     18\u001B[0m dic_encoding[col]\n",
      "File \u001B[1;32m~\\anaconda3\\envs\\ox\\lib\\site-packages\\tabulate.py:1618\u001B[0m, in \u001B[0;36mtabulate\u001B[1;34m(tabular_data, headers, tablefmt, floatfmt, numalign, stralign, missingval, showindex, disable_numparse, colalign, maxcolwidths)\u001B[0m\n\u001B[0;32m   1616\u001B[0m \u001B[38;5;28;01mif\u001B[39;00m tabular_data \u001B[38;5;129;01mis\u001B[39;00m \u001B[38;5;28;01mNone\u001B[39;00m:\n\u001B[0;32m   1617\u001B[0m     tabular_data \u001B[38;5;241m=\u001B[39m []\n\u001B[1;32m-> 1618\u001B[0m list_of_lists, headers \u001B[38;5;241m=\u001B[39m \u001B[43m_normalize_tabular_data\u001B[49m\u001B[43m(\u001B[49m\n\u001B[0;32m   1619\u001B[0m \u001B[43m    \u001B[49m\u001B[43mtabular_data\u001B[49m\u001B[43m,\u001B[49m\u001B[43m \u001B[49m\u001B[43mheaders\u001B[49m\u001B[43m,\u001B[49m\u001B[43m \u001B[49m\u001B[43mshowindex\u001B[49m\u001B[38;5;241;43m=\u001B[39;49m\u001B[43mshowindex\u001B[49m\n\u001B[0;32m   1620\u001B[0m \u001B[43m\u001B[49m\u001B[43m)\u001B[49m\n\u001B[0;32m   1622\u001B[0m \u001B[38;5;28;01mif\u001B[39;00m maxcolwidths \u001B[38;5;129;01mis\u001B[39;00m \u001B[38;5;129;01mnot\u001B[39;00m \u001B[38;5;28;01mNone\u001B[39;00m:\n\u001B[0;32m   1623\u001B[0m     num_cols \u001B[38;5;241m=\u001B[39m \u001B[38;5;28mlen\u001B[39m(list_of_lists[\u001B[38;5;241m0\u001B[39m])\n",
      "File \u001B[1;32m~\\anaconda3\\envs\\ox\\lib\\site-packages\\tabulate.py:1154\u001B[0m, in \u001B[0;36m_normalize_tabular_data\u001B[1;34m(tabular_data, headers, showindex)\u001B[0m\n\u001B[0;32m   1151\u001B[0m         headers \u001B[38;5;241m=\u001B[39m \u001B[38;5;28mlist\u001B[39m(\u001B[38;5;28mmap\u001B[39m(_text_type, keys))  \u001B[38;5;66;03m# headers should be strings\u001B[39;00m\n\u001B[0;32m   1153\u001B[0m \u001B[38;5;28;01melse\u001B[39;00m:  \u001B[38;5;66;03m# it's a usual an iterable of iterables, or a NumPy array\u001B[39;00m\n\u001B[1;32m-> 1154\u001B[0m     rows \u001B[38;5;241m=\u001B[39m \u001B[38;5;28;43mlist\u001B[39;49m\u001B[43m(\u001B[49m\u001B[43mtabular_data\u001B[49m\u001B[43m)\u001B[49m\n\u001B[0;32m   1156\u001B[0m     \u001B[38;5;28;01mif\u001B[39;00m headers \u001B[38;5;241m==\u001B[39m \u001B[38;5;124m\"\u001B[39m\u001B[38;5;124mkeys\u001B[39m\u001B[38;5;124m\"\u001B[39m \u001B[38;5;129;01mand\u001B[39;00m \u001B[38;5;129;01mnot\u001B[39;00m rows:\n\u001B[0;32m   1157\u001B[0m         \u001B[38;5;66;03m# an empty table (issue #81)\u001B[39;00m\n\u001B[0;32m   1158\u001B[0m         headers \u001B[38;5;241m=\u001B[39m []\n",
      "\u001B[1;31mTypeError\u001B[0m: 'Styler' object is not iterable"
     ]
    },
    {
     "data": {
      "text/plain": "<Figure size 1080x720 with 1 Axes>",
      "image/png": "[encoded data removed]"
     },
     "metadata": {},
     "output_type": "display_data"
    }
   ],
   "source": [
    "\n",
    "my_df = DataFrame(index=list(dic_recover.values()))\n",
    "my_df_rel = DataFrame(index=list(dic_recover.values()))\n",
    "col = 'Q11'\n",
    "group_names = []\n",
    "ex_2 = pre_dt.groupby(by = cols_encode[col])\n",
    "for group in ex_2:\n",
    "    group_names.append(group[0])\n",
    "    data = group[1]\n",
    "    leny = len(data)\n",
    "    res = data.groupby(by ='encode_Q18').count()['index']\n",
    "    my_df[group[0]] = res/len(data)*100\n",
    "    my_df_rel[group[0]] = res\n",
    "my_df.fillna(0,inplace=True)\n",
    "my_df_rel .fillna(0,inplace=True)\n",
    "my_df[group_names].T.plot.bar(stacked=True,title = col +':'+ vv[col].iloc[0])\n",
    "\n",
    "print(tabulate(my_df_rel.astype(int), headers = 'keys', tablefmt = 'fancy_grid'))\n",
    "print(tabulate(my_df.astype(int), headers = 'keys', tablefmt = 'pipe'))\n",
    "dic_encoding[col]\n"
   ],
   "metadata": {
    "collapsed": false,
    "pycharm": {
     "name": "#%%\n"
    }
   }
  },
  {
   "cell_type": "markdown",
   "source": [
    "### 1. There were 40% of stolen bicycles recovered by a bike registry/recovery system, but it is not enough data to be considered valid (2 out of 5).\n",
    "### 2.\n"
   ],
   "metadata": {
    "collapsed": false,
    "pycharm": {
     "name": "#%% md\n"
    }
   }
  },
  {
   "cell_type": "code",
   "execution_count": 92,
   "outputs": [
    {
     "data": {
      "text/plain": "<AxesSubplot:title={'center':'Q15:What type of bicycle was stolen?'}>"
     },
     "execution_count": 92,
     "metadata": {},
     "output_type": "execute_result"
    },
    {
     "name": "stdout",
     "output_type": "stream",
     "text": [
      "╒═════════════╤═════╤═════╤═════╤═════╤═════╤═════╤═════╤═════╤═════╤═════╤══════╤══════╤══════╤══════╤══════╤═══════╤═══════╤═══════╤═══════╤═══════╤═══════╤═══════╤═══════╤═══════╤═══════╤════════╤════════╤════════╕\n",
      "│             │   0 │   1 │   2 │   3 │   4 │   5 │   6 │   7 │   8 │   9 │   10 │   11 │   12 │   13 │   14 │   0_a │   1_a │   2_a │   3_a │   4_a │   5_a │   6_a │   7_a │   8_a │   9_a │   10_a │   11_a │   12_a │\n",
      "╞═════════════╪═════╪═════╪═════╪═════╪═════╪═════╪═════╪═════╪═════╪═════╪══════╪══════╪══════╪══════╪══════╪═══════╪═══════╪═══════╪═══════╪═══════╪═══════╪═══════╪═══════╪═══════╪═══════╪════════╪════════╪════════╡\n",
      "│ not_recover │  87 │  83 │  81 │  78 │  93 │  85 │  81 │  87 │  83 │  33 │   84 │    0 │   83 │   82 │   71 │    14 │    50 │    40 │    11 │    42 │    17 │    90 │   499 │   461 │     1 │    325 │      0 │      5 │\n",
      "├─────────────┼─────┼─────┼─────┼─────┼─────┼─────┼─────┼─────┼─────┼─────┼──────┼──────┼──────┼──────┼──────┼───────┼───────┼───────┼───────┼───────┼───────┼───────┼───────┼───────┼───────┼────────┼────────┼────────┤\n",
      "│ recover     │  12 │  16 │  18 │  21 │   6 │  15 │  18 │  12 │  16 │  66 │   15 │  100 │   16 │   17 │   28 │     2 │    10 │     9 │     3 │     3 │     3 │    21 │    72 │    94 │     2 │     60 │      1 │      1 │\n",
      "╘═════════════╧═════╧═════╧═════╧═════╧═════╧═════╧═════╧═════╧═════╧═════╧══════╧══════╧══════╧══════╧══════╧═══════╧═══════╧═══════╧═══════╧═══════╧═══════╧═══════╧═══════╧═══════╧═══════╧════════╧════════╧════════╛\n"
     ]
    },
    {
     "data": {
      "text/plain": "{-1: nan,\n 0: 'BMX ',\n 5: 'Folding  ',\n 8: 'Mountain  ',\n 6: 'Gravel/cyclocross',\n 10: 'Road',\n 7: 'Hybrid/City/Dutch ',\n 1: 'Cruiser ',\n 2: 'Delivery/Cargo',\n 11: 'Tandem ',\n 4: 'Fixed gear',\n 12: 'Tricycle or quadricycle',\n 3: 'Don’t know/not sure',\n 9: 'Recumbent '}"
     },
     "execution_count": 92,
     "metadata": {},
     "output_type": "execute_result"
    },
    {
     "data": {
      "text/plain": "<Figure size 1080x720 with 1 Axes>",
      "image/png": "[encoded data removed]"
     },
     "metadata": {},
     "output_type": "display_data"
    }
   ],
   "source": [
    "from tabulate import tabulate\n",
    "col = 'Q15'\n",
    "group_names = []\n",
    "ex_2 = pre_dt.groupby(by = cols_encode[col])\n",
    "for group in ex_2:\n",
    "    group_names.append(group[0])\n",
    "    data = group[1]\n",
    "    leny = len(data)\n",
    "    res = data.groupby(by ='encode_Q18').count()['index']\n",
    "    my_df[group[0]] = res/len(data)*100\n",
    "    real_val = str(group[0]) + '_a'\n",
    "    my_df[real_val] = res\n",
    "my_df.fillna(0,inplace=True)\n",
    "\n",
    "my_df[group_names].T.plot.bar(stacked=True,title = col +':'+ vv[col].iloc[0])\n",
    "print(tabulate(my_df.astype(int), headers = 'keys', tablefmt = 'fancy_grid'))\n",
    "dic_encoding[col]\n"
   ],
   "metadata": {
    "collapsed": false,
    "pycharm": {
     "name": "#%%\n"
    }
   }
  },
  {
   "cell_type": "markdown",
   "source": [
    "### Recovery in the same and different place"
   ],
   "metadata": {
    "collapsed": false,
    "pycharm": {
     "name": "#%% md\n"
    }
   }
  },
  {
   "cell_type": "markdown",
   "source": [
    "Getting the data from the relevant files"
   ],
   "metadata": {
    "collapsed": false,
    "pycharm": {
     "name": "#%% md\n"
    }
   }
  },
  {
   "cell_type": "code",
   "execution_count": 22,
   "outputs": [],
   "source": [
    "## get location of stolen and recover places and check if it is the same\n",
    "def compare_places(row):\n",
    "    stolen,rec= row['stolen_bikes_place'],row['recover_bikes_place']\n",
    "    stolen_list, rec_list = stolen.split(','),rec.split(',')\n",
    "    # if one of the places not has information about the city compare the states\n",
    "    if stolen_list[0]=='' or rec_list[0]=='':\n",
    "        if stolen_list[1] ==rec_list[1]:\n",
    "            return 'same'\n",
    "    else:\n",
    "        if stolen_list[0] ==rec_list[0]:\n",
    "            return 'same'\n",
    "    return 'diff'"
   ],
   "metadata": {
    "collapsed": false,
    "pycharm": {
     "name": "#%%\n"
    }
   }
  },
  {
   "cell_type": "code",
   "execution_count": 1,
   "outputs": [
    {
     "ename": "NameError",
     "evalue": "name 'os' is not defined",
     "output_type": "error",
     "traceback": [
      "\u001B[1;31m---------------------------------------------------------------------------\u001B[0m",
      "\u001B[1;31mNameError\u001B[0m                                 Traceback (most recent call last)",
      "Input \u001B[1;32mIn [1]\u001B[0m, in \u001B[0;36m<cell line: 1>\u001B[1;34m()\u001B[0m\n\u001B[1;32m----> 1\u001B[0m \u001B[43mos\u001B[49m\u001B[38;5;241m.\u001B[39mchdir(sys\u001B[38;5;241m.\u001B[39mpath[\u001B[38;5;241m3\u001B[39m])\n\u001B[0;32m      2\u001B[0m rec_file \u001B[38;5;241m=\u001B[39m pd\u001B[38;5;241m.\u001B[39mread_csv(\u001B[38;5;124mr\u001B[39m\u001B[38;5;124m'\u001B[39m\u001B[38;5;124mdata/process/res_with_geo_loc_rec.csv\u001B[39m\u001B[38;5;124m'\u001B[39m)\n\u001B[0;32m      3\u001B[0m rec_file[\u001B[38;5;124m'\u001B[39m\u001B[38;5;124mis_same\u001B[39m\u001B[38;5;124m'\u001B[39m] \u001B[38;5;241m=\u001B[39m rec_file[[\u001B[38;5;124m'\u001B[39m\u001B[38;5;124mstolen_bikes_place\u001B[39m\u001B[38;5;124m'\u001B[39m,\u001B[38;5;124m'\u001B[39m\u001B[38;5;124mrecover_bikes_place\u001B[39m\u001B[38;5;124m'\u001B[39m]]\u001B[38;5;241m.\u001B[39mapply(compare_places,axis\u001B[38;5;241m=\u001B[39m\u001B[38;5;241m1\u001B[39m)\n",
      "\u001B[1;31mNameError\u001B[0m: name 'os' is not defined"
     ]
    }
   ],
   "source": [
    "\n",
    "rec_file = pd.read_csv(r'data/process/res_with_geo_loc_rec.csv')\n",
    "rec_file['is_same'] = rec_file[['stolen_bikes_place','recover_bikes_place']].apply(compare_places,axis=1)\n"
   ],
   "metadata": {
    "collapsed": false,
    "pycharm": {
     "name": "#%%\n"
    }
   }
  },
  {
   "cell_type": "markdown",
   "source": [
    "I can add to the recovery file the relevant information that distinguishes between the same location and a different location of theft and recovery using ResponseId and index columns."
   ],
   "metadata": {
    "collapsed": false,
    "pycharm": {
     "name": "#%% md\n"
    }
   }
  },
  {
   "cell_type": "code",
   "execution_count": null,
   "outputs": [],
   "source": [
    "is_same = 'is_same'\n",
    "# Add is_same to raw data\n",
    "raw_data.set_index('ResponseId',inplace=True)\n",
    "rec_file.set_index('ResponseId',inplace=True)\n",
    "raw_data[is_same] = rec_file[is_same]"
   ],
   "metadata": {
    "collapsed": false,
    "pycharm": {
     "name": "#%%\n"
    }
   }
  },
  {
   "cell_type": "code",
   "execution_count": null,
   "outputs": [],
   "source": [
    "raw_data.set_index('index',inplace=True)\n",
    "recovery = pre_dt[pre_dt['encode_Q18'] == 'recover']\n",
    "recovery.set_index('index',inplace=True)\n",
    "recovery[is_same] = raw_data[is_same]\n",
    "recovery.reset_index(inplace=True)\n"
   ],
   "metadata": {
    "collapsed": false,
    "pycharm": {
     "name": "#%%\n"
    }
   }
  },
  {
   "cell_type": "code",
   "execution_count": 44,
   "outputs": [],
   "source": [
    "recovery= recovery[recovery['is_same'].notnull()]"
   ],
   "metadata": {
    "collapsed": false,
    "pycharm": {
     "name": "#%%\n"
    }
   }
  },
  {
   "cell_type": "code",
   "execution_count": null,
   "outputs": [],
   "source": [
    "recovery.to_csv(same_diff_analysis_path)\n"
   ],
   "metadata": {
    "collapsed": false,
    "pycharm": {
     "name": "#%%\n",
     "is_executing": true
    }
   }
  },
  {
   "cell_type": "code",
   "execution_count": 41,
   "outputs": [
    {
     "data": {
      "text/plain": "dict_keys(['Q2', 'Q4', 'Q5', 'Q6', 'Q7', 'Q9', 'Q10', 'Q11', 'Q12', 'Q13', 'Q14', 'Q15', 'Q17'])"
     },
     "execution_count": 41,
     "metadata": {},
     "output_type": "execute_result"
    }
   ],
   "source": [
    "\n",
    "cols_encode.keys()"
   ],
   "metadata": {
    "collapsed": false,
    "pycharm": {
     "name": "#%%\n"
    }
   }
  },
  {
   "cell_type": "code",
   "execution_count": 54,
   "outputs": [
    {
     "data": {
      "text/plain": "<AxesSubplot:title={'center':'Q10:Was your bike part of a bicycle registration and recovery system (e.g., Bike Index, a university registration program) before the theft occurred?'}>"
     },
     "execution_count": 54,
     "metadata": {},
     "output_type": "execute_result"
    },
    {
     "name": "stdout",
     "output_type": "stream",
     "text": [
      "╒══════╤═════╤═════╤═════╕\n",
      "│      │   0 │   1 │   2 │\n",
      "╞══════╪═════╪═════╪═════╡\n",
      "│ same │   6 │ 129 │  91 │\n",
      "├──────┼─────┼─────┼─────┤\n",
      "│ diff │   0 │  23 │  28 │\n",
      "╘══════╧═════╧═════╧═════╛\n",
      "|      |   0 |   1 |   2 |\n",
      "|:-----|----:|----:|----:|\n",
      "| same | 100 |  84 |  76 |\n",
      "| diff |   0 |  15 |  23 |\n"
     ]
    },
    {
     "data": {
      "text/plain": "{1: 'No ', -1: nan, 2: 'Yes ', 0: 'Don’t know/not sure'}"
     },
     "execution_count": 54,
     "metadata": {},
     "output_type": "execute_result"
    },
    {
     "data": {
      "text/plain": "<Figure size 1080x720 with 1 Axes>",
      "image/png": "[encoded data removed]"
     },
     "metadata": {},
     "output_type": "display_data"
    }
   ],
   "source": [
    "from tabulate import tabulate\n",
    "my_res = ['same','diff']\n",
    "my_df = DataFrame(index=my_res)\n",
    "my_df_rel = DataFrame(index=my_res)\n",
    "\n",
    "col = 'Q10'\n",
    "group_names = []\n",
    "ex = recovery.groupby(by = cols_encode[col])\n",
    "for group in ex:\n",
    "    group_names.append(group[0])\n",
    "    data = group[1]\n",
    "    leny = len(data)\n",
    "    res = data.groupby(by ='is_same').count()['index']\n",
    "    my_df[group[0]] = res/len(data)*100\n",
    "    my_df_rel[group[0]] = res\n",
    "my_df.fillna(0,inplace=True)\n",
    "my_df_rel .fillna(0,inplace=True)\n",
    "my_df[group_names].T.plot.bar(stacked=True,title = col +':'+ vv[col].iloc[0])\n",
    "\n",
    "print(tabulate(my_df_rel.astype(int), headers = 'keys', tablefmt = 'fancy_grid'))\n",
    "print(tabulate(my_df.astype(int), headers = 'keys', tablefmt = 'pipe'))\n",
    "dic_encoding[col]\n",
    "\n"
   ],
   "metadata": {
    "collapsed": false,
    "pycharm": {
     "name": "#%%\n"
    }
   }
  },
  {
   "cell_type": "code",
   "execution_count": null,
   "outputs": [],
   "source": [
    "c, p, dof, expected = chi2_contingency(fo_hi_square_test)"
   ],
   "metadata": {
    "collapsed": false,
    "pycharm": {
     "name": "#%%\n"
    }
   }
  },
  {
   "cell_type": "code",
   "execution_count": 64,
   "outputs": [
    {
     "data": {
      "text/plain": "(19.098560566621778,\n 0.059347098487715494,\n 11,\n array([[ 1.63176895,  7.34296029,  7.34296029,  2.44765343,  2.44765343,\n          2.44765343, 17.13357401, 58.74368231, 76.69314079,  1.63176895,\n         47.32129964,  0.81588448],\n        [ 0.36823105,  1.65703971,  1.65703971,  0.55234657,  0.55234657,\n          0.55234657,  3.86642599, 13.25631769, 17.30685921,  0.36823105,\n         10.67870036,  0.18411552]]))"
     },
     "execution_count": 64,
     "metadata": {},
     "output_type": "execute_result"
    }
   ],
   "source": [
    "c, p, dof, expected"
   ],
   "metadata": {
    "collapsed": false,
    "pycharm": {
     "name": "#%%\n"
    }
   }
  },
  {
   "cell_type": "code",
   "execution_count": 76,
   "outputs": [
    {
     "data": {
      "text/plain": "(0.08450690516204326,\n 0.9999999999072098,\n 11,\n array([[0.00162934, 0.00733203, 0.00733203, 0.00244401, 0.00244401,\n         0.00244401, 0.01710808, 0.05865627, 0.07657902, 0.00162934,\n         0.04725089, 0.00081467],\n        [0.00722022, 0.03249097, 0.03249097, 0.01083032, 0.01083032,\n         0.01083032, 0.07581227, 0.2599278 , 0.33935018, 0.00722022,\n         0.20938628, 0.00361011]]))"
     },
     "execution_count": 76,
     "metadata": {},
     "output_type": "execute_result"
    }
   ],
   "source": [
    "c, p, dof, expected = chi2_contingency(final)\n",
    "c, p, dof, expected"
   ],
   "metadata": {
    "collapsed": false,
    "pycharm": {
     "name": "#%%\n"
    }
   }
  },
  {
   "cell_type": "code",
   "execution_count": null,
   "outputs": [],
   "source": [],
   "metadata": {
    "collapsed": false,
    "pycharm": {
     "name": "#%%\n"
    }
   }
  }
 ],
 "metadata": {
  "kernelspec": {
   "display_name": "Python 3",
   "language": "python",
   "name": "python3"
  },
  "language_info": {
   "codemirror_mode": {
    "name": "ipython",
    "version": 2
   },
   "file_extension": ".py",
   "mimetype": "text/x-python",
   "name": "python",
   "nbconvert_exporter": "python",
   "pygments_lexer": "ipython2",
   "version": "2.7.6"
  }
 },
 "nbformat": 4,
 "nbformat_minor": 0
}