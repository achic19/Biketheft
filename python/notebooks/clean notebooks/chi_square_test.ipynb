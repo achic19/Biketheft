{
 "cells": [
  {
   "cell_type": "code",
   "execution_count": 3,
   "outputs": [],
   "source": [
    "\n",
    "import calendar\n",
    "from scipy.stats import chi2_contingency\n",
    "months = list(map(lambda x: x.lower(), calendar.month_name))[1:]\n",
    "import pandas as pd\n",
    "import statsmodels.api as sm\n",
    "from pandas import DataFrame\n",
    "\n",
    "import matplotlib.pyplot as plt\n",
    "from IPython.core.interactiveshell import InteractiveShell\n",
    "\n",
    "InteractiveShell.ast_node_interactivity = 'all'\n",
    "\n",
    "import matplotlib.pylab as pylab\n",
    "\n",
    "params = {'legend.fontsize': 'x-large',\n",
    "          'figure.figsize': (15, 10),\n",
    "          'axes.labelsize': 'x-large',\n",
    "          'axes.titlesize': 'x-large',\n",
    "          'xtick.labelsize': 'x-large',\n",
    "          'ytick.labelsize': 'x-large'}\n",
    "pylab.rcParams.update(params)\n",
    "\n",
    "import os\n",
    "\n",
    "project_folder =os.path.dirname(os.path.dirname(os.path.dirname(os.getcwd())))\n",
    "\n",
    "import warnings\n",
    "\n",
    "warnings.filterwarnings(action='ignore')\n",
    "from IPython.display import display\n",
    "from IPython.display import Markdown\n",
    "from IPython.display import display_html\n",
    "\n",
    "\n",
    "questions ={'Q2':'part','Q6':'day_time','Q7':'is_locked','Q8':'locked_type','Q9':'theft_loc','Q10':'is_registered','Q11':'where_rep','Q12':'is_insured','Q13':'value_approx','Q14':'is_electric','Q15':'bicycle_type','Q17':'is_univ','Q18':'is_recover','Q19':'is_online','Q20':'how_recover','Q21':'is_police','Q23':'recovery_loc','Q24':'rec_cond','Q25':'is_replaced', 'Q26_new':'days_to_bikes', 'Q28':'seasons', 'Q29':'purpose', 'Q30':'mode_alt', 'Q31':'post_act','Q32':'why_less','age_groups': 'age', 'Q35': 'gender', 'Q36': 'income','Q37':'numb_bikes ', 'Q38': 'education', 'Q39': 'ethnic_origin','country':'country','city':'city'}"
   ],
   "metadata": {
    "collapsed": false,
    "pycharm": {
     "name": "#%%\n"
    }
   }
  },
  {
   "cell_type": "code",
   "execution_count": 5,
   "outputs": [
    {
     "data": {
      "text/plain": "Index(['Unnamed: 0.4', 'Unnamed: 0.3', 'index', 'Q26', 'level_0',\n       'Unnamed: 0.2', 'Unnamed: 0.1', 'Unnamed: 0', 'StartDate', 'EndDate',\n       'Status', 'IPAddress', 'Progress', 'Duration (in seconds)', 'Finished',\n       'RecordedDate', 'ResponseId', 'RecipientLastName', 'RecipientFirstName',\n       'RecipientEmail', 'ExternalReference', 'LocationLatitude',\n       'LocationLongitude', 'DistributionChannel', 'UserLanguage',\n       'Introduction', 'Q1', 'Q2', 'Q3', 'Q3_6_TEXT', 'Q4', 'Q5', 'Q6', 'Q7',\n       'Q8', 'Q8_9_TEXT', 'Q9', 'Q9_11_TEXT', 'Q10', 'Q11', 'Q11_4_TEXT',\n       'Q12', 'Q13', 'Q14', 'Q15', 'Q16', 'Q16_1_TEXT', 'Q17', 'Q18', 'Q19',\n       'Q19_6_TEXT', 'Q20', 'Q20_4_TEXT', 'Q21', 'Q22', 'Q22_1_TEXT', 'Q23',\n       'Q23_15_TEXT', 'Q24', 'Q25', 'Q27', 'Q28_1', 'Q28_2', 'Q28_3', 'Q28_4',\n       'Q29', 'Q30', 'Q31', 'Q32', 'Q32_10_TEXT', 'Q33', 'Q33_9_TEXT', 'Q34',\n       'Q35', 'Q36', 'Q37', 'Q38', 'Q39', 'Q39_10_TEXT', 'Q40', 'Q40_3_TEXT',\n       'lat', 'lon', 'score', 'stolen_bikes_place', 'country', 'city', 'state',\n       'num_of_days', 'Q26_new', 'Q28', 'Q34_0', 'age', 'age_groups'],\n      dtype='object')"
     },
     "execution_count": 5,
     "metadata": {},
     "output_type": "execute_result"
    }
   ],
   "source": [
    "\n",
    "data = pd.read_csv(f'{project_folder}/data/process/new_data/new_data_2.csv')\n",
    "data.columns"
   ],
   "metadata": {
    "collapsed": false,
    "pycharm": {
     "name": "#%%\n"
    }
   }
  },
  {
   "cell_type": "code",
   "execution_count": 7,
   "outputs": [
    {
     "data": {
      "text/plain": "The police ,A bicycle registry/recovery system (e.g., Bike Index, a university registration program),Social media (e.g. Instagram, Twitter)                            619\nThe police ,A bicycle registry/recovery system (e.g., Bike Index, a university registration program)                                                                   533\nThe police                                                                                                                                                             306\nA bicycle registry/recovery system (e.g., Bike Index, a university registration program)                                                                                97\nI did not report the theft                                                                                                                                              60\nThe police ,Social media (e.g. Instagram, Twitter)                                                                                                                      50\nThe police ,A bicycle registry/recovery system (e.g., Bike Index, a university registration program),Social media (e.g. Instagram, Twitter),Other (please specify):     43\nA bicycle registry/recovery system (e.g., Bike Index, a university registration program),Social media (e.g. Instagram, Twitter)                                         37\nThe police ,A bicycle registry/recovery system (e.g., Bike Index, a university registration program),Other (please specify):                                            21\nOther (please specify):                                                                                                                                                 16\nThe police ,Other (please specify):                                                                                                                                     15\nSocial media (e.g. Instagram, Twitter)                                                                                                                                  10\nThe police ,Social media (e.g. Instagram, Twitter),Other (please specify):                                                                                               6\nA bicycle registry/recovery system (e.g., Bike Index, a university registration program),Other (please specify):                                                         5\nA bicycle registry/recovery system (e.g., Bike Index, a university registration program),Social media (e.g. Instagram, Twitter),Other (please specify):                  1\nName: Q11, dtype: int64"
     },
     "execution_count": 7,
     "metadata": {},
     "output_type": "execute_result"
    }
   ],
   "source": [
    "data['Q11'].value_counts()"
   ],
   "metadata": {
    "collapsed": false,
    "pycharm": {
     "name": "#%%\n"
    }
   }
  },
  {
   "cell_type": "code",
   "execution_count": 39,
   "outputs": [],
   "source": [
    "#\n",
    "def calculate_chi_cross_tab(two_var_tables):\n",
    "    r\"\"\"\n",
    "    This function creates new groups based on the data in @vars, cross tab them and calculate Chi-square\n",
    "    :return:\n",
    "    \"\"\"\n",
    "\n",
    "    # the new names for the variables which be presented on the cross tabulation tabel\n",
    "    new_names = [t['var'] for t in my_vars]\n",
    "    two_var_tables[new_names] = two_var_tables.apply(lambda x: [x[t['q']] if x[t['q']] in t['group'] else t['group2'] for t in my_vars],axis=1,result_type='expand')\n",
    "    cont_table = pd.crosstab([two_var_tables[t['var']] for t in my_vars[:-1]],two_var_tables[my_vars[-1]['var']],normalize='columns')*100\n",
    "\n",
    "    # perform chi-square test of independence\n",
    "    chi2, p, dof, expected = chi2_contingency(cont_table)\n",
    "\n",
    "    # print the test results\n",
    "    print(f\"Chi-square statistic: {chi2:.2f}\")\n",
    "    print(f\"P-value: {p:.5f}\")\n",
    "    print(cont_table)\n",
    "    if to_print:\n",
    "        cont_table.to_csv(to_print)\n"
   ],
   "metadata": {
    "collapsed": false,
    "pycharm": {
     "name": "#%%\n"
    }
   }
  },
  {
   "cell_type": "code",
   "execution_count": 40,
   "outputs": [],
   "source": [
    "def prep_for_chi(only_rel_f,grp:dict):\n",
    "    r\"\"\"\n",
    "    this function store and set the data so only the relevant data will be used to calculate chi -square\n",
    "    :param only_rel_f:\n",
    "    :return:\n",
    "    \"\"\"\n",
    "    # working only with information stored in list in @rel_data for a specific col\n",
    "    for i in range(1,len(rel_data),2):\n",
    "        if rel_data[i]:\n",
    "            only_rel_f= only_rel_f[only_rel_f[rel_data[i-1][0]].isin(rel_data[i])] if rel_data[i-1][1] else only_rel_f[~only_rel_f[rel_data[i-1][0]].isin(rel_data[i])]\n",
    "    # group data\n",
    "    for q_temp in grp.keys():\n",
    "        grp_inf = grp[q_temp]\n",
    "        only_rel_f[q_temp] = only_rel_f[q_temp].apply(lambda x:grp_inf[0] if x in grp_inf[1] else grp_inf[2])\n",
    "\n",
    "    calculate_chi_cross_tab(only_rel_f)\n"
   ],
   "metadata": {
    "collapsed": false,
    "pycharm": {
     "name": "#%%\n"
    }
   }
  },
  {
   "cell_type": "code",
   "execution_count": 41,
   "outputs": [],
   "source": [
    "def explore_date(is_count_f,cross_tab= False):\n",
    "    r\"\"\"\n",
    "    Clean the data and print cross_tab if it is required\n",
    "    :param is_count_f:\n",
    "    :param cross_tab:\n",
    "    :return:\n",
    "    \"\"\"\n",
    "    only_rel_f= data[cols_name].dropna()\n",
    "    for q_temp in cols_name:\n",
    "        if q_temp in is_count_f:\n",
    "            only_rel_f[q_temp]= only_rel_f[q_temp].str.replace(r\"\\(.*?\\)\", \"\").str.replace(\":\", \"\").str.strip().str.count(',')\n",
    "        else:\n",
    "            only_rel_f[q_temp]= only_rel_f[q_temp].str.replace(r\"\\(.*?\\)\", \"\").str.replace(\":\", \"\").str.strip()\n",
    "        print(only_rel_f[q_temp].value_counts())\n",
    "    if cross_tab:\n",
    "        print(pd.crosstab(only_rel_f[cols_name[0]], only_rel_f[cols_name[1]],normalize='columns')*100)\n",
    "    return only_rel_f"
   ],
   "metadata": {
    "collapsed": false,
    "pycharm": {
     "name": "#%%\n"
    }
   }
  },
  {
   "cell_type": "code",
   "execution_count": 44,
   "outputs": [
    {
     "name": "stdout",
     "output_type": "stream",
     "text": [
      "Inside a shed/garage                                      510\n",
      "Outdoor bike rack                                         321\n",
      "Other                                                     270\n",
      "Outside in the yard or on a balcony, porch, or patio      252\n",
      "Parking garage bike rack/railing/pipe/etc.                146\n",
      "Controlled-access bicycle room or enclosed bike locker     96\n",
      "Against a street sign, tree, or street furniture           70\n",
      "Condo storage room                                         62\n",
      "Inside house/apartment                                     47\n",
      "Workplace office                                           19\n",
      "Building lobby                                             14\n",
      "Name: Q9, dtype: int64\n",
      "Yes, frame locked to a fixed structure    946\n",
      "No, unlocked                              709\n",
      "Yes, locked one or more wheels            118\n",
      "Don’t know/not sure                        34\n",
      "Name: Q7, dtype: int64\n",
      "Overnight              730\n",
      "Afternoon              355\n",
      "Don’t know/not sure    327\n",
      "Evening                224\n",
      "Morning                171\n",
      "Name: Q6, dtype: int64\n",
      "$500-$999                 516\n",
      "$1000-$1999               428\n",
      "$2000-3999                297\n",
      "$250-$499                 243\n",
      "$4000-6999                144\n",
      "$7000 or more              95\n",
      "Less than $250             77\n",
      "Don’t know/not sure         5\n",
      "I prefer to not answer      2\n",
      "Name: Q13, dtype: int64\n",
      "Chi-square statistic: 171.80\n",
      "P-value: 0.00000\n",
      "value_approx                   $1000-$1999  $2000-3999  $250-$499  $4000-6999  \\\n",
      "theft_loc is_locked day_time                                                    \n",
      "in        no        Overnight    26.431718   34.931507  12.280702   32.894737   \n",
      "                    day          14.537445   10.273973  10.526316   17.105263   \n",
      "          yes       Overnight     5.286344   10.273973   3.508772   15.789474   \n",
      "                    day           3.524229    2.739726   0.877193    3.947368   \n",
      "out       no        Overnight     6.607930    8.219178  14.035088    5.263158   \n",
      "                    day           6.167401    6.164384  11.403509    5.263158   \n",
      "          yes       Overnight     7.488987    7.534247  17.543860    9.210526   \n",
      "                    day          29.955947   19.863014  29.824561   10.526316   \n",
      "\n",
      "value_approx                   $500-$999  $7000 or more  Less than $250  \n",
      "theft_loc is_locked day_time                                             \n",
      "in        no        Overnight  18.320611      59.523810       18.181818  \n",
      "                    day         8.396947      19.047619        6.060606  \n",
      "          yes       Overnight   3.816794       9.523810        3.030303  \n",
      "                    day         1.526718       0.000000        0.000000  \n",
      "out       no        Overnight   8.778626       4.761905       18.181818  \n",
      "                    day        11.832061       2.380952       12.121212  \n",
      "          yes       Overnight  15.267176       0.000000        9.090909  \n",
      "                    day        32.061069       4.761905       33.333333  \n"
     ]
    }
   ],
   "source": [
    "# location, time and  is_locked and value_approximate\n",
    "# Parameters\n",
    "q_0 = 'Q9'\n",
    "q_1 = 'Q7'\n",
    "q_2 = 'Q6'\n",
    "q_3 = 'Q13'\n",
    "cols_name = [q_0,q_1,q_2,q_3]\n",
    "calc_chi =True\n",
    "to_print = f'{project_folder}/python/notebooks/output/general/multi_vars_ct.csv'\n",
    "is_count_loc= []\n",
    "\n",
    "only_rel =explore_date(is_count_loc,False)\n",
    "# Parameter for chi-squared\n",
    "# The second argument in the nested tuple determine if the data in the following list is the filtered or the selected one\n",
    "rel_data = ((q_0,True),['Inside a shed/garage','Outdoor bike rack','Outside in the yard or on a balcony, porch, or patio'],(q_1,False),['Don’t know/not sure'],(q_2,False),['Don’t know/not sure'],(q_3,False),['Don’t know/not sure','I prefer to not answer'])\n",
    "# Used this parameter if you want to aggregate  your questions' data into smaller groups {question:(group1,[responses relate to group 1], group2)}\n",
    "grp_data = {q_0:('out',['Outdoor bike rack','Outside in the yard or on a balcony, porch, or patio'],'in'),q_1:('yes',['Yes, frame locked to a fixed structure','Yes, frame locked to a fixed structure'],'no')}\n",
    "var0 = {'q':q_0,'var':questions[q_0],'group':['out'],'group2': 'in'}\n",
    "var1 = {'q':q_1,'var':questions[q_1],'group':['yes'],'group2':'no'}\n",
    "var2 = {'q':q_2,'var':questions[q_2],'group':['Overnight'],'group2':'day'}\n",
    "groups_data =  [val for val in only_rel['Q13'].unique() if val not in ['I prefer to not answer','Don’t know/not sure']]\n",
    "var3 = {'q':q_3,'var':questions[q_3],'group':groups_data[:-1],'group2':groups_data[-1]}\n",
    "my_vars= [var0,var1,var2,var3]\n",
    "if calc_chi:\n",
    "    prep_for_chi(only_rel,grp_data)"
   ],
   "metadata": {
    "collapsed": false,
    "pycharm": {
     "name": "#%%\n"
    }
   }
  },
  {
   "cell_type": "code",
   "execution_count": 36,
   "outputs": [
    {
     "data": {
      "text/plain": "['$1000-$1999',\n '$2000-3999',\n '$500-$999',\n '$7000 or more',\n '$4000-6999',\n '$250-$499',\n 'Less than $250']"
     },
     "execution_count": 36,
     "metadata": {},
     "output_type": "execute_result"
    }
   ],
   "source": [
    "groups_data"
   ],
   "metadata": {
    "collapsed": false,
    "pycharm": {
     "name": "#%%\n"
    }
   }
  },
  {
   "cell_type": "code",
   "execution_count": 22,
   "outputs": [
    {
     "name": "stdout",
     "output_type": "stream",
     "text": [
      "Inside a shed/garage                                      510\n",
      "Outdoor bike rack                                         321\n",
      "Other                                                     270\n",
      "Outside in the yard or on a balcony, porch, or patio      252\n",
      "Parking garage bike rack/railing/pipe/etc.                146\n",
      "Controlled-access bicycle room or enclosed bike locker     96\n",
      "Against a street sign, tree, or street furniture           70\n",
      "Condo storage room                                         62\n",
      "Inside house/apartment                                     47\n",
      "Workplace office                                           19\n",
      "Building lobby                                             14\n",
      "Name: Q9, dtype: int64\n",
      "Yes, frame locked to a fixed structure    946\n",
      "No, unlocked                              709\n",
      "Yes, locked one or more wheels            118\n",
      "Don’t know/not sure                        34\n",
      "Name: Q7, dtype: int64\n",
      "Overnight              730\n",
      "Afternoon              355\n",
      "Don’t know/not sure    327\n",
      "Evening                224\n",
      "Morning                171\n",
      "Name: Q6, dtype: int64\n",
      "Chi-square statistic: 26.94\n",
      "P-value: 0.00001\n",
      "day_time             Overnight        day\n",
      "theft_loc is_locked                      \n",
      "in        no         49.353448  23.863636\n",
      "          yes        12.715517   4.772727\n",
      "out       no         16.810345  17.272727\n",
      "          yes        21.120690  54.090909\n"
     ]
    },
    {
     "data": {
      "text/plain": "       Q9   Q7         Q6 theft_loc is_locked   day_time\n2      in   no  Overnight        in        no  Overnight\n3     out  yes    Morning       out       yes        day\n6     out  yes  Afternoon       out       yes        day\n7      in   no  Overnight        in        no  Overnight\n8     out  yes    Morning       out       yes        day\n...   ...  ...        ...       ...       ...        ...\n1811   in   no    Evening        in        no        day\n1814  out   no  Overnight       out        no  Overnight\n1816   in   no  Afternoon        in        no        day\n1817  out  yes  Afternoon       out       yes        day\n1819   in   no    Evening        in        no        day\n\n[904 rows x 6 columns]",
      "text/html": "<div>\n<style scoped>\n    .dataframe tbody tr th:only-of-type {\n        vertical-align: middle;\n    }\n\n    .dataframe tbody tr th {\n        vertical-align: top;\n    }\n\n    .dataframe thead th {\n        text-align: right;\n    }\n</style>\n<table border=\"1\" class=\"dataframe\">\n  <thead>\n    <tr style=\"text-align: right;\">\n      <th></th>\n      <th>Q9</th>\n      <th>Q7</th>\n      <th>Q6</th>\n      <th>theft_loc</th>\n      <th>is_locked</th>\n      <th>day_time</th>\n    </tr>\n  </thead>\n  <tbody>\n    <tr>\n      <th>2</th>\n      <td>in</td>\n      <td>no</td>\n      <td>Overnight</td>\n      <td>in</td>\n      <td>no</td>\n      <td>Overnight</td>\n    </tr>\n    <tr>\n      <th>3</th>\n      <td>out</td>\n      <td>yes</td>\n      <td>Morning</td>\n      <td>out</td>\n      <td>yes</td>\n      <td>day</td>\n    </tr>\n    <tr>\n      <th>6</th>\n      <td>out</td>\n      <td>yes</td>\n      <td>Afternoon</td>\n      <td>out</td>\n      <td>yes</td>\n      <td>day</td>\n    </tr>\n    <tr>\n      <th>7</th>\n      <td>in</td>\n      <td>no</td>\n      <td>Overnight</td>\n      <td>in</td>\n      <td>no</td>\n      <td>Overnight</td>\n    </tr>\n    <tr>\n      <th>8</th>\n      <td>out</td>\n      <td>yes</td>\n      <td>Morning</td>\n      <td>out</td>\n      <td>yes</td>\n      <td>day</td>\n    </tr>\n    <tr>\n      <th>...</th>\n      <td>...</td>\n      <td>...</td>\n      <td>...</td>\n      <td>...</td>\n      <td>...</td>\n      <td>...</td>\n    </tr>\n    <tr>\n      <th>1811</th>\n      <td>in</td>\n      <td>no</td>\n      <td>Evening</td>\n      <td>in</td>\n      <td>no</td>\n      <td>day</td>\n    </tr>\n    <tr>\n      <th>1814</th>\n      <td>out</td>\n      <td>no</td>\n      <td>Overnight</td>\n      <td>out</td>\n      <td>no</td>\n      <td>Overnight</td>\n    </tr>\n    <tr>\n      <th>1816</th>\n      <td>in</td>\n      <td>no</td>\n      <td>Afternoon</td>\n      <td>in</td>\n      <td>no</td>\n      <td>day</td>\n    </tr>\n    <tr>\n      <th>1817</th>\n      <td>out</td>\n      <td>yes</td>\n      <td>Afternoon</td>\n      <td>out</td>\n      <td>yes</td>\n      <td>day</td>\n    </tr>\n    <tr>\n      <th>1819</th>\n      <td>in</td>\n      <td>no</td>\n      <td>Evening</td>\n      <td>in</td>\n      <td>no</td>\n      <td>day</td>\n    </tr>\n  </tbody>\n</table>\n<p>904 rows × 6 columns</p>\n</div>"
     },
     "execution_count": 22,
     "metadata": {},
     "output_type": "execute_result"
    }
   ],
   "source": [
    "# location, time and  is_locked\n",
    "# Parameters\n",
    "q_0 = 'Q9'\n",
    "q_1 = 'Q7'\n",
    "q_2 = 'Q6'\n",
    "cols_name = [q_0,q_1,q_2]\n",
    "calc_chi =True\n",
    "is_count_loc= []\n",
    "\n",
    "only_rel =explore_date(is_count_loc,False)\n",
    "# Parameter for chi-squared\n",
    "# The second argument in the nested tuple determine if the data in the following list is the filtered or the selected one\n",
    "rel_data = ((q_0,True),['Inside a shed/garage','Outdoor bike rack','Outside in the yard or on a balcony, porch, or patio'],(q_1,False),['Don’t know/not sure'],(q_2,False),['Don’t know/not sure'])\n",
    "# Used this parameter if you want to aggregate  your questions' data into smaller groups {question:(group1,[responses relate to group 1], group2)}\n",
    "grp_data = {q_0:('out',['Outdoor bike rack','Outside in the yard or on a balcony, porch, or patio'],'in'),q_1:('yes',['Yes, frame locked to a fixed structure','Yes, frame locked to a fixed structure'],'no')}\n",
    "var0 = {'q':q_0,'var':questions[q_0],'group':['out'],'group2': 'in'}\n",
    "var1 = {'q':q_1,'var':questions[q_1],'group':['yes'],'group2':'no'}\n",
    "var2 = {'q':q_2,'var':questions[q_2],'group':['Overnight'],'group2':'day'}\n",
    "my_vars= [var0,var1,var2]\n",
    "if calc_chi:\n",
    "    new_data = prep_for_chi(only_rel,grp_data)\n"
   ],
   "metadata": {
    "collapsed": false,
    "pycharm": {
     "name": "#%%\n"
    }
   }
  },
  {
   "cell_type": "code",
   "execution_count": 10,
   "outputs": [
    {
     "name": "stdout",
     "output_type": "stream",
     "text": [
      "Inside a shed/garage                                      511\n",
      "Outdoor bike rack                                         322\n",
      "Other                                                     270\n",
      "Outside in the yard or on a balcony, porch, or patio      255\n",
      "Parking garage bike rack/railing/pipe/etc.                147\n",
      "Controlled-access bicycle room or enclosed bike locker     96\n",
      "Against a street sign, tree, or street furniture           70\n",
      "Condo storage room                                         62\n",
      "Inside house/apartment                                     47\n",
      "Workplace office                                           19\n",
      "Building lobby                                             14\n",
      "Name: Q9, dtype: int64\n",
      "Yes, frame locked to a fixed structure    949\n",
      "No, unlocked                              712\n",
      "Yes, locked one or more wheels            118\n",
      "Don’t know/not sure                        34\n",
      "Name: Q7, dtype: int64\n",
      "Q7                                                  Don’t know/not sure  \\\n",
      "Q9                                                                        \n",
      "Against a street sign, tree, or street furniture               5.882353   \n",
      "Building lobby                                                 0.000000   \n",
      "Condo storage room                                             5.882353   \n",
      "Controlled-access bicycle room or enclosed bike...             0.000000   \n",
      "Inside a shed/garage                                          29.411765   \n",
      "Inside house/apartment                                         2.941176   \n",
      "Other                                                         32.352941   \n",
      "Outdoor bike rack                                              5.882353   \n",
      "Outside in the yard or on a balcony, porch, or ...            14.705882   \n",
      "Parking garage bike rack/railing/pipe/etc.                     2.941176   \n",
      "Workplace office                                               0.000000   \n",
      "\n",
      "Q7                                                  No, unlocked  \\\n",
      "Q9                                                                 \n",
      "Against a street sign, tree, or street furniture        2.106742   \n",
      "Building lobby                                          0.561798   \n",
      "Condo storage room                                      2.528090   \n",
      "Controlled-access bicycle room or enclosed bike...      2.106742   \n",
      "Inside a shed/garage                                   52.106742   \n",
      "Inside house/apartment                                  4.353933   \n",
      "Other                                                  13.764045   \n",
      "Outdoor bike rack                                       1.825843   \n",
      "Outside in the yard or on a balcony, porch, or ...     17.977528   \n",
      "Parking garage bike rack/railing/pipe/etc.              1.404494   \n",
      "Workplace office                                        1.264045   \n",
      "\n",
      "Q7                                                  Yes, frame locked to a fixed structure  \\\n",
      "Q9                                                                                           \n",
      "Against a street sign, tree, or street furniture                                  5.057956   \n",
      "Building lobby                                                                    0.737619   \n",
      "Condo storage room                                                                3.688093   \n",
      "Controlled-access bicycle room or enclosed bike...                                8.008430   \n",
      "Inside a shed/garage                                                             10.221286   \n",
      "Inside house/apartment                                                            1.264489   \n",
      "Other                                                                            14.963119   \n",
      "Outdoor bike rack                                                                31.190727   \n",
      "Outside in the yard or on a balcony, porch, or ...                               10.642782   \n",
      "Parking garage bike rack/railing/pipe/etc.                                       13.277134   \n",
      "Workplace office                                                                  0.948367   \n",
      "\n",
      "Q7                                                  Yes, locked one or more wheels  \n",
      "Q9                                                                                  \n",
      "Against a street sign, tree, or street furniture                          4.237288  \n",
      "Building lobby                                                            2.542373  \n",
      "Condo storage room                                                        5.932203  \n",
      "Controlled-access bicycle room or enclosed bike...                        4.237288  \n",
      "Inside a shed/garage                                                     27.966102  \n",
      "Inside house/apartment                                                    2.542373  \n",
      "Other                                                                    16.101695  \n",
      "Outdoor bike rack                                                         9.322034  \n",
      "Outside in the yard or on a balcony, porch, or ...                       17.796610  \n",
      "Parking garage bike rack/railing/pipe/etc.                                8.474576  \n",
      "Workplace office                                                          0.847458  \n",
      "Chi-square statistic: 49.30\n",
      "P-value: 0.00000\n",
      "is_locked         no        yes\n",
      "theft_loc                      \n",
      "in         70.017331  19.635628\n",
      "out        29.982669  80.364372\n"
     ]
    }
   ],
   "source": [
    "# location and is_locked\n",
    "# Parameters\n",
    "q_0 = 'Q9'\n",
    "q_1 = 'Q7'\n",
    "cols_name = [q_0,q_1]\n",
    "calc_chi = True\n",
    "is_count_loc= []\n",
    "\n",
    "only_rel =explore_date(is_count_loc,True)\n",
    "# Parameter for chi-squared\n",
    "# The second argument in the nested tuple determine if the data in the following list is the filtered or the selected one\n",
    "rel_data = ((q_0,True),['Inside a shed/garage','Outdoor bike rack','Outside in the yard or on a balcony, porch, or patio'],(q_1,False),['Don’t know/not sure'])\n",
    "# Used this parameter if you want to aggregate  your questions' data into smaller groups {question:(group1,[responses relate to group 1], group2)}\n",
    "grp_data = {q_0:('out',['Outdoor bike rack','Outside in the yard or on a balcony, porch, or patio'],'in'),q_1:('yes',['Yes, frame locked to a fixed structure','Yes, frame locked to a fixed structure'],'no')}\n",
    "grp_data_0 = {}\n",
    "var0 = {'q':q_0,'var':questions[q_0],'group':['out'],'group2': 'in'}\n",
    "var1 = {'q':q_1,'var':questions[q_1],'group':['yes'],'group2':'no'}\n",
    "\n",
    "\n",
    "if calc_chi:\n",
    "    prep_for_chi(only_rel,grp_data)"
   ],
   "metadata": {
    "collapsed": false,
    "pycharm": {
     "name": "#%%\n"
    }
   }
  },
  {
   "cell_type": "code",
   "execution_count": 33,
   "outputs": [
    {
     "name": "stdout",
     "output_type": "stream",
     "text": [
      "Inside a shed/garage                                      512\n",
      "Outdoor bike rack                                         321\n",
      "Other                                                     270\n",
      "Outside in the yard or on a balcony, porch, or patio      252\n",
      "Parking garage bike rack/railing/pipe/etc.                146\n",
      "Controlled-access bicycle room or enclosed bike locker     97\n",
      "Against a street sign, tree, or street furniture           70\n",
      "Condo storage room                                         62\n",
      "Inside house/apartment                                     48\n",
      "Workplace office                                           19\n",
      "Building lobby                                             14\n",
      "Name: Q9, dtype: int64\n",
      "Overnight              732\n",
      "Afternoon              356\n",
      "Don’t know/not sure    328\n",
      "Evening                224\n",
      "Morning                171\n",
      "Name: Q6, dtype: int64\n",
      "Q6                                                  Afternoon  \\\n",
      "Q9                                                              \n",
      "Against a street sign, tree, or street furniture     8.426966   \n",
      "Building lobby                                       0.561798   \n",
      "Condo storage room                                   0.561798   \n",
      "Controlled-access bicycle room or enclosed bike...   2.528090   \n",
      "Inside a shed/garage                                14.606742   \n",
      "Inside house/apartment                               1.404494   \n",
      "Other                                               20.786517   \n",
      "Outdoor bike rack                                   36.235955   \n",
      "Outside in the yard or on a balcony, porch, or ...   9.550562   \n",
      "Parking garage bike rack/railing/pipe/etc.           3.932584   \n",
      "Workplace office                                     1.404494   \n",
      "\n",
      "Q6                                                  Don’t know/not sure  \\\n",
      "Q9                                                                        \n",
      "Against a street sign, tree, or street furniture               0.304878   \n",
      "Building lobby                                                 0.609756   \n",
      "Condo storage room                                             7.926829   \n",
      "Controlled-access bicycle room or enclosed bike...            14.024390   \n",
      "Inside a shed/garage                                          27.439024   \n",
      "Inside house/apartment                                         1.829268   \n",
      "Other                                                         10.670732   \n",
      "Outdoor bike rack                                             12.804878   \n",
      "Outside in the yard or on a balcony, porch, or ...            10.365854   \n",
      "Parking garage bike rack/railing/pipe/etc.                    13.109756   \n",
      "Workplace office                                               0.914634   \n",
      "\n",
      "Q6                                                    Evening    Morning  \\\n",
      "Q9                                                                         \n",
      "Against a street sign, tree, or street furniture     6.696429   8.187135   \n",
      "Building lobby                                       1.339286   1.754386   \n",
      "Condo storage room                                   2.678571   0.584795   \n",
      "Controlled-access bicycle room or enclosed bike...   0.892857   2.339181   \n",
      "Inside a shed/garage                                17.410714  21.637427   \n",
      "Inside house/apartment                               3.125000   1.754386   \n",
      "Other                                               17.410714  20.467836   \n",
      "Outdoor bike rack                                   33.035714  19.298246   \n",
      "Outside in the yard or on a balcony, porch, or ...   8.482143  15.789474   \n",
      "Parking garage bike rack/railing/pipe/etc.           8.035714   6.432749   \n",
      "Workplace office                                     0.892857   1.754386   \n",
      "\n",
      "Q6                                                  Overnight  \n",
      "Q9                                                             \n",
      "Against a street sign, tree, or street furniture     1.366120  \n",
      "Building lobby                                       0.546448  \n",
      "Condo storage room                                   3.688525  \n",
      "Controlled-access bicycle room or enclosed bike...   4.918033  \n",
      "Inside a shed/garage                                40.163934  \n",
      "Inside house/apartment                               3.688525  \n",
      "Other                                               11.885246  \n",
      "Outdoor bike rack                                    5.874317  \n",
      "Outside in the yard or on a balcony, porch, or ...  18.852459  \n",
      "Parking garage bike rack/railing/pipe/etc.           8.196721  \n",
      "Workplace office                                     0.819672  \n",
      "Chi-square statistic: 20.74\n",
      "P-value: 0.00001\n",
      "day_time   Overnight        day\n",
      "theft_loc                      \n",
      "in         61.894737  28.828829\n",
      "out        38.105263  71.171171\n"
     ]
    }
   ],
   "source": [
    "# location and time\n",
    "# Parameters\n",
    "q_0 = 'Q9'\n",
    "q_1 = 'Q6'\n",
    "cols_name = [q_0,q_1]\n",
    "calc_chi = True\n",
    "is_count_loc= []\n",
    "\n",
    "only_rel =explore_date(is_count_loc,True)\n",
    "# Parameter for chi-squared\n",
    "# The second argument in the nested tuple determine if the data in the following list is the filtered or the selected one\n",
    "rel_data = ((q_0,True),['Inside a shed/garage','Outdoor bike rack','Outside in the yard or on a balcony, porch, or patio'],(q_1,False),['Don’t know/not sure'])\n",
    "# Used this parameter if you want to aggregate  your questions' data into smaller groups {question:(group1,[responses relate to group 1], group2)}\n",
    "grp_data = {q_0:('out',['Outdoor bike rack','Outside in the yard or on a balcony, porch, or patio'],'in')}\n",
    "grp_data_0 = {}\n",
    "var0 = {'q':q_0,'var':questions[q_0],'group':['out'],'group2': 'in'}\n",
    "var1 = {'q':q_1,'var':questions[q_1],'group':['Overnight'],'group2':'day'}\n",
    "\n",
    "if calc_chi:\n",
    "    prep_for_chi(only_rel,grp_data)"
   ],
   "metadata": {
    "collapsed": false,
    "pycharm": {
     "name": "#%%\n"
    }
   }
  },
  {
   "cell_type": "code",
   "execution_count": 25,
   "outputs": [
    {
     "data": {
      "text/plain": "['Q9']"
     },
     "execution_count": 25,
     "metadata": {},
     "output_type": "execute_result"
    }
   ],
   "source": [
    "grp_data = {q_0:('out',['Outdoor bike rack','Outside in the yard or on a balcony, porch, or patio'],'in')}\n",
    "list(grp_data.keys())"
   ],
   "metadata": {
    "collapsed": false,
    "pycharm": {
     "name": "#%%\n"
    }
   }
  },
  {
   "cell_type": "code",
   "execution_count": 29,
   "outputs": [
    {
     "data": {
      "text/plain": "                                                     Q9                   Q6\n0            Parking garage bike rack/railing/pipe/etc.            Overnight\n1                                                 Other            Afternoon\n2                                  Inside a shed/garage            Overnight\n3     Outside in the yard or on a balcony, porch, or...              Morning\n4                                                 Other              Morning\n...                                                 ...                  ...\n1816                               Inside a shed/garage            Afternoon\n1817                                  Outdoor bike rack            Afternoon\n1818                                              Other  Don’t know/not sure\n1819                               Inside a shed/garage              Evening\n1820                                              Other            Afternoon\n\n[1811 rows x 2 columns]",
      "text/html": "<div>\n<style scoped>\n    .dataframe tbody tr th:only-of-type {\n        vertical-align: middle;\n    }\n\n    .dataframe tbody tr th {\n        vertical-align: top;\n    }\n\n    .dataframe thead th {\n        text-align: right;\n    }\n</style>\n<table border=\"1\" class=\"dataframe\">\n  <thead>\n    <tr style=\"text-align: right;\">\n      <th></th>\n      <th>Q9</th>\n      <th>Q6</th>\n    </tr>\n  </thead>\n  <tbody>\n    <tr>\n      <th>0</th>\n      <td>Parking garage bike rack/railing/pipe/etc.</td>\n      <td>Overnight</td>\n    </tr>\n    <tr>\n      <th>1</th>\n      <td>Other</td>\n      <td>Afternoon</td>\n    </tr>\n    <tr>\n      <th>2</th>\n      <td>Inside a shed/garage</td>\n      <td>Overnight</td>\n    </tr>\n    <tr>\n      <th>3</th>\n      <td>Outside in the yard or on a balcony, porch, or...</td>\n      <td>Morning</td>\n    </tr>\n    <tr>\n      <th>4</th>\n      <td>Other</td>\n      <td>Morning</td>\n    </tr>\n    <tr>\n      <th>...</th>\n      <td>...</td>\n      <td>...</td>\n    </tr>\n    <tr>\n      <th>1816</th>\n      <td>Inside a shed/garage</td>\n      <td>Afternoon</td>\n    </tr>\n    <tr>\n      <th>1817</th>\n      <td>Outdoor bike rack</td>\n      <td>Afternoon</td>\n    </tr>\n    <tr>\n      <th>1818</th>\n      <td>Other</td>\n      <td>Don’t know/not sure</td>\n    </tr>\n    <tr>\n      <th>1819</th>\n      <td>Inside a shed/garage</td>\n      <td>Evening</td>\n    </tr>\n    <tr>\n      <th>1820</th>\n      <td>Other</td>\n      <td>Afternoon</td>\n    </tr>\n  </tbody>\n</table>\n<p>1811 rows × 2 columns</p>\n</div>"
     },
     "execution_count": 29,
     "metadata": {},
     "output_type": "execute_result"
    }
   ],
   "source": [
    "only_rel"
   ],
   "metadata": {
    "collapsed": false,
    "pycharm": {
     "name": "#%%\n"
    }
   }
  },
  {
   "cell_type": "code",
   "execution_count": null,
   "outputs": [],
   "source": [
    "# ,'Q24':'rec_cond' and 'Q15':'bicycle_type'\n",
    "# Parameters\n",
    "q_0 = 'Q24'\n",
    "q_1 = 'Q15'\n",
    "cols_name = [q_0,q_1]\n",
    "calc_chi = False\n",
    "is_count_loc= []\n",
    "\n",
    "only_rel =explore_date(is_count_loc,True)\n",
    "# Parameter for chi-squared\n",
    "# The second argument in the nested tuple determine if the data in the following list is the filtered or the selected one\n",
    "rel_data = ((q_0,True),['Yes, on Kijiji','Yes, on Facebook Marketplace'],(q_1,True),[])\n",
    "var0 = {'q':q_0,'var':questions[q_0],'group':['Yes, on Kijiji'],'group2': 'Yes, on Facebook Marketplace'}\n",
    "var1 = {'q':q_1,'var':questions[q_1],'group':['USA'],'group2':'CAN'}\n",
    "\n",
    "if calc_chi:\n",
    "    prep_for_chi(only_rel)"
   ],
   "metadata": {
    "collapsed": false,
    "pycharm": {
     "name": "#%%\n"
    }
   }
  },
  {
   "cell_type": "code",
   "execution_count": 132,
   "outputs": [
    {
     "name": "stdout",
     "output_type": "stream",
     "text": [
      "​No                             166\n",
      "Don’t know/not sure              37\n",
      "Yes, on Facebook Marketplace     23\n",
      "Yes, on OfferUp                  20\n",
      "Yes, on Craigslist               15\n",
      "Yes, on other website            13\n",
      "Yes, on Kijiji                    6\n",
      "Name: Q19, dtype: int64\n",
      "USA    203\n",
      "CAN     77\n",
      "Name: country, dtype: int64\n",
      "Chi-square statistic: 72.28\n",
      "P-value: 0.00000\n",
      "country                             CAN    USA\n",
      "is_online                                     \n",
      "Yes, on Facebook Marketplace  45.454545  100.0\n",
      "Yes, on Kijiji                54.545455    0.0\n"
     ]
    }
   ],
   "source": [
    "# is_online and country\n",
    "# Parameters\n",
    "q_0 = 'Q19'\n",
    "q_1 = 'country'\n",
    "cols_name = [q_0,q_1]\n",
    "calc_chi = True\n",
    "is_count_loc= []\n",
    "\n",
    "only_rel =explore_date(is_count_loc,False)\n",
    "# Parameter for chi-squared\n",
    "# The second argument in the nested tuple determine if the data in the following list is the filtered or the selected one\n",
    "rel_data = ((q_0,True),['Yes, on Kijiji','Yes, on Facebook Marketplace'],(q_1,True),[])\n",
    "var0 = {'q':q_0,'var':questions[q_0],'group':['Yes, on Kijiji'],'group2': 'Yes, on Facebook Marketplace'}\n",
    "var1 = {'q':q_1,'var':questions[q_1],'group':['USA'],'group2':'CAN'}\n",
    "\n",
    "if calc_chi:\n",
    "    prep_for_chi(only_rel)"
   ],
   "metadata": {
    "collapsed": false,
    "pycharm": {
     "name": "#%%\n"
    }
   }
  },
  {
   "cell_type": "code",
   "execution_count": 129,
   "outputs": [
    {
     "name": "stdout",
     "output_type": "stream",
     "text": [
      "The police found it and returned it to me​                                    91\n",
      "I recovered it with online support                                            53\n",
      "​I found and recovered it myself                                              51\n",
      "Other                                                                         45\n",
      "A member of the public/friend/family member found it and returned it to me    28\n",
      "Name: Q20, dtype: int64\n",
      "Bachelor’s degree                          105\n",
      "Graduate degree                            104\n",
      "Some university                             27\n",
      "Associate’s/vocational/technical degree     19\n",
      "Graduated high school                        7\n",
      "I prefer to not answer                       4\n",
      "Some high school or less                     2\n",
      "Name: Q38, dtype: int64\n",
      "Chi-square statistic: 9.47\n",
      "P-value: 0.00879\n",
      "education                         Bachelor’s degree  Graduate degree  \\\n",
      "how_recover                                                            \n",
      "Other                                     79.047619        84.615385   \n",
      "​I found and recovered it myself          20.952381        15.384615   \n",
      "\n",
      "education                         Some university  \n",
      "how_recover                                        \n",
      "Other                                   66.666667  \n",
      "​I found and recovered it myself        33.333333  \n"
     ]
    }
   ],
   "source": [
    "# education  and how recover\n",
    "# Parameters\n",
    "q_0 = 'Q20'\n",
    "q_1 = 'Q38'\n",
    "cols_name = [q_0,q_1]\n",
    "calc_chi = True\n",
    "is_count_loc= []\n",
    "\n",
    "only_rel =explore_date(is_count_loc,False)\n",
    "# Parameter for chi-squared\n",
    "# The second argument in the nested tuple determine if the data in the following list is the filtered or the selected one\n",
    "rel_data = ((q_0,True),[],(q_1,True),['Bachelor’s degree','Graduate degree','Some university'])\n",
    "var0 = {'q':q_0,'var':questions[q_0],'group':['​I found and recovered it myself'],'group2': 'Other'}\n",
    "var1 = {'q':q_1,'var':questions[q_1],'group':['Bachelor’s degree','Graduate degree'],'group2':'Some university'}\n",
    "\n",
    "if calc_chi:\n",
    "    prep_for_chi(only_rel)"
   ],
   "metadata": {
    "collapsed": false,
    "pycharm": {
     "name": "#%%\n"
    }
   }
  },
  {
   "cell_type": "code",
   "execution_count": 119,
   "outputs": [
    {
     "name": "stdout",
     "output_type": "stream",
     "text": [
      "The police found it and returned it to me​                                    92\n",
      "I recovered it with online support                                            53\n",
      "​I found and recovered it myself                                              51\n",
      "Other                                                                         45\n",
      "A member of the public/friend/family member found it and returned it to me    28\n",
      "Name: Q20, dtype: int64\n",
      "Man                          165\n",
      "Woman                         99\n",
      "Prefer not to say              3\n",
      "Non-binary / third gender      2\n",
      "Name: Q35, dtype: int64\n",
      "Chi-square statistic: 1.62\n",
      "P-value: 0.44554\n",
      "gender                                            Man      Woman\n",
      "how_recover                                                     \n",
      "I recovered it with online support          23.529412  31.506849\n",
      "The police found it and returned it to me​  49.579832  45.205479\n",
      "​I found and recovered it myself            26.890756  23.287671\n"
     ]
    }
   ],
   "source": [
    "# gender and how recover\n",
    "# Parameters\n",
    "q_0 = 'Q20'\n",
    "q_1 = 'Q35'\n",
    "cols_name = [q_0,q_1]\n",
    "calc_chi = True\n",
    "is_count_loc= []\n",
    "\n",
    "# Parameter for chi-squared\n",
    "# The second argument in the nested tuple determine if the data in the following list is the filtered or the selected one\n",
    "rel_data = ((q_0,True),['The police found it and returned it to me​','​I found and recovered it myself','I recovered it with online support'],(q_1,True),['Man','Woman'])\n",
    "only_rel =explore_date(is_count_loc)\n",
    "\n",
    "\n",
    "# More parameters\n",
    "var0 = {'q':q_0,'var':questions[q_0],'group':['The police found it and returned it to me​','​I found and recovered it myself'],'group2': 'I recovered it with online support'}\n",
    "var1 = {'q':q_1,'var':questions[q_1],'group':['Man'],'group2':'Woman'}\n",
    "\n",
    "if calc_chi:\n",
    "    prep_for_chi(only_rel)"
   ],
   "metadata": {
    "collapsed": false,
    "pycharm": {
     "name": "#%%\n"
    }
   }
  },
  {
   "cell_type": "code",
   "execution_count": 115,
   "outputs": [
    {
     "name": "stdout",
     "output_type": "stream",
     "text": [
      "The police found it and returned it to me​                                    96\n",
      "I recovered it with online support                                            57\n",
      "​I found and recovered it myself                                              53\n",
      "Other                                                                         45\n",
      "A member of the public/friend/family member found it and returned it to me    28\n",
      "Name: Q20, dtype: int64\n",
      "$2000-3999             67\n",
      "$1000-$1999            66\n",
      "$500-$999              57\n",
      "$250-$499              37\n",
      "$4000-6999             28\n",
      "$7000 or more          15\n",
      "Less than $250          8\n",
      "Don’t know/not sure     1\n",
      "Name: Q13, dtype: int64\n",
      "Chi-square statistic: 6.31\n",
      "P-value: 0.01202\n",
      "value_approx                              0     1\n",
      "how_recover                                      \n",
      "Other                             75.595238  90.0\n",
      "​I found and recovered it myself  24.404762  10.0\n"
     ]
    }
   ],
   "source": [
    "# value_approximation and how recover\n",
    "# Parameters\n",
    "q_0 = 'Q20'\n",
    "q_1 = 'Q13'\n",
    "cols_name = [q_0,q_1]\n",
    "calc_chi = True\n",
    "is_count_loc= []\n",
    "\n",
    "# Parameter for chi-squared\n",
    "# The second argument in the nested tuple determine if the data in the following list is the filtered or the selected one\n",
    "rel_data = ((q_0,True),[],(q_1,False),[])\n",
    "only_rel =explore_date(is_count_loc)\n",
    "\n",
    "# Group the data\n",
    "# In order to execute grouping we should first eliminate irrelevant information\n",
    "only_rel = only_rel[only_rel[q_1]!='Don’t know/not sure']\n",
    "\n",
    "df = DataFrame(only_rel[q_1].unique()).dropna().sort_values(by=0,ascending=0).reset_index(drop=True)\n",
    "sorted_list = pd.concat([df.loc[0], df.loc[4], df.loc[2],df.loc[6],df.loc[5],df.iloc[3],df.loc[1]])[0].to_list()\n",
    "only_rel[q_1] = only_rel[q_1].apply(lambda x:1 if sorted_list.index(x)>3 else 0)\n",
    "\n",
    "# More parameters\n",
    "var0 = {'q':q_0,'var':questions[q_0],'group':['​I found and recovered it myself'],'group2':'Other'}\n",
    "var1 = {'q':q_1,'var':questions[q_1],'group':[0],'group2': 1}\n",
    "\n",
    "if calc_chi:\n",
    "    prep_for_chi(only_rel)"
   ],
   "metadata": {
    "collapsed": false,
    "pycharm": {
     "name": "#%%\n"
    }
   }
  },
  {
   "cell_type": "code",
   "execution_count": 116,
   "outputs": [
    {
     "name": "stdout",
     "output_type": "stream",
     "text": [
      "The police found it and returned it to me​                                    96\n",
      "I recovered it with online support                                            57\n",
      "​I found and recovered it myself                                              53\n",
      "Other                                                                         45\n",
      "A member of the public/friend/family member found it and returned it to me    28\n",
      "Name: Q20, dtype: int64\n",
      "No                     154\n",
      "Yes                    120\n",
      "Don’t know/not sure      5\n",
      "Name: Q10, dtype: int64\n",
      "Chi-square statistic: 3.55\n",
      "P-value: 0.05969\n",
      "is_registered                                      No        Yes\n",
      "how_recover                                                     \n",
      "I recovered it with online support          43.023256  29.230769\n",
      "The police found it and returned it to me​  56.976744  70.769231\n"
     ]
    }
   ],
   "source": [
    "# register and how recover\n",
    "# Parameters\n",
    "q_0 = 'Q20'\n",
    "q_1 = 'Q10'\n",
    "cols_name = [q_0,q_1]\n",
    "calc_chi = True\n",
    "is_count= []\n",
    "# Parameter for chi-squared\n",
    "rel_data = (q_0,['The police found it and returned it to me​','I recovered it with online support'],q_1,['Yes','No'])\n",
    "\n",
    "# Explore the data\n",
    "only_rel= data[cols_name].dropna()\n",
    "for q in cols_name:\n",
    "    if q in is_count:\n",
    "        only_rel[q]= only_rel[q].str.replace(r\"\\(.*?\\)\",\"\").str.replace(\":\", \"\").str.strip().str.count(',')\n",
    "    else:\n",
    "        only_rel[q]= only_rel[q].str.replace(r\"\\(.*?\\)\",\"\").str.replace(\":\", \"\").str.strip()\n",
    "    print(only_rel[q].value_counts())\n",
    "\n",
    "if calc_chi:\n",
    "    var_0 = {'q':q_0,'var':questions[q_0],'group':['The police found it and returned it to me​'],'group2':'I recovered it with online support'}\n",
    "    var_1 = {'q':q_1,'var':questions[q_1],'group':['Yes'],'group2': 'No'}\n",
    "    # working only with information stored in list in @rel_data for a specific col\n",
    "    if rel_data[1]:\n",
    "        only_rel= only_rel[only_rel[rel_data[0]].isin(rel_data[1])]\n",
    "    if rel_data[3]:\n",
    "        only_rel= only_rel[only_rel[rel_data[2]].isin(rel_data[3])]\n",
    "\n",
    "    calculate_chi_cross_tab(only_rel,var_0,var_1)"
   ],
   "metadata": {
    "collapsed": false,
    "pycharm": {
     "name": "#%%\n"
    }
   }
  },
  {
   "cell_type": "code",
   "execution_count": 73,
   "outputs": [
    {
     "name": "stdout",
     "output_type": "stream",
     "text": [
      "Yes, in-person support         109\n",
      "​No                            103\n",
      "Yes, phone or email support     68\n",
      "Name: Q21, dtype: int64\n",
      "USA    203\n",
      "CAN     77\n",
      "Name: country, dtype: int64\n",
      "Chi-square statistic: 20.37\n",
      "P-value: 0.00004\n",
      "country                            CAN        USA\n",
      "is_police                                        \n",
      "No                           15.584416  44.827586\n",
      "Yes, in-person support       50.649351  34.482759\n",
      "Yes, phone or email support  33.766234  20.689655\n"
     ]
    }
   ],
   "source": [
    "# country and is police\n",
    "# Parameters\n",
    "q_0 = 'Q21'\n",
    "q_1 = 'country'\n",
    "cols_name = [q_0,q_1]\n",
    "calc_chi = True\n",
    "is_count= []\n",
    "rel_data = (q_1,[])\n",
    "\n",
    "# Explore the data\n",
    "only_rel= data[cols_name].dropna()\n",
    "for q in cols_name:\n",
    "    if q in is_count:\n",
    "        only_rel[q]= only_rel[q].str.replace(r\"\\(.*?\\)\",\"\").str.replace(\":\", \"\").str.strip().str.count(',')\n",
    "        # specific code to this analysis\n",
    "        only_rel[only_rel[q_1]==3] = 2\n",
    "    else:\n",
    "        only_rel[q]= only_rel[q].str.replace(r\"\\(.*?\\)\",\"\").str.replace(\":\", \"\").str.strip()\n",
    "    print(only_rel[q].value_counts())\n",
    "\n",
    "if calc_chi:\n",
    "    var_0 = {'q':q_0,'var':questions[q_0],'group':[\"Yes, in-person support\",'Yes, phone or email support'],'group2': 'No'}\n",
    "    var_1 = {'q':q_1,'var':questions[q_1],'group':['USA'],'group2':'CAN'}\n",
    "    # working only with information stored in list in @rel_data for a specific col\n",
    "    if rel_data[1]:\n",
    "        only_rel= only_rel[only_rel[rel_data[0]].isin(rel_data[1])]\n",
    "\n",
    "    calculate_chi_cross_tab(only_rel,var_0,var_1)"
   ],
   "metadata": {
    "collapsed": false,
    "pycharm": {
     "name": "#%%\n"
    }
   }
  },
  {
   "cell_type": "code",
   "execution_count": 68,
   "outputs": [
    {
     "name": "stdout",
     "output_type": "stream",
     "text": [
      "The police found it and returned it to me​                                    96\n",
      "I recovered it with online support                                            57\n",
      "​I found and recovered it myself                                              53\n",
      "Other                                                                         45\n",
      "A member of the public/friend/family member found it and returned it to me    28\n",
      "Name: Q20, dtype: int64\n",
      "USA    203\n",
      "CAN     76\n",
      "Name: country, dtype: int64\n",
      "Chi-square statistic: 22.45\n",
      "P-value: 0.00000\n",
      "country                                           CAN        USA\n",
      "how_recover                                                     \n",
      "The police found it and returned it to me​  59.210526  25.123153\n",
      "other                                       40.789474  74.876847\n"
     ]
    }
   ],
   "source": [
    "# country and how recover\n",
    "# Parameters\n",
    "q_0 = 'Q20'\n",
    "q_1 = 'country'\n",
    "cols_name = [q_0,q_1]\n",
    "calc_chi = True\n",
    "is_count= []\n",
    "rel_data = (q_1,[])\n",
    "\n",
    "# Explore the data\n",
    "only_rel= data[cols_name].dropna()\n",
    "for q in cols_name:\n",
    "    if q in is_count:\n",
    "        only_rel[q]= only_rel[q].str.replace(r\"\\(.*?\\)\",\"\").str.replace(\":\", \"\").str.strip().str.count(',')\n",
    "        # specific code to this analysis\n",
    "        only_rel[only_rel[q_1]==3] = 2\n",
    "    else:\n",
    "        only_rel[q]= only_rel[q].str.replace(r\"\\(.*?\\)\",\"\").str.replace(\":\", \"\").str.strip()\n",
    "    print(only_rel[q].value_counts())\n",
    "\n",
    "if calc_chi:\n",
    "    var_0 = {'q':q_0,'var':questions[q_0],'group':[\"The police found it and returned it to me​\"],'group2': 'other'}\n",
    "    var_1 = {'q':q_1,'var':questions[q_1],'group':['USA'],'group2':'CAN'}\n",
    "    # working only with information stored in list in @rel_data for a specific col\n",
    "    if rel_data[1]:\n",
    "        only_rel= only_rel[only_rel[rel_data[0]].isin(rel_data[1])]\n",
    "\n",
    "    calculate_chi_cross_tab(only_rel,var_0,var_1)"
   ],
   "metadata": {
    "collapsed": false,
    "pycharm": {
     "name": "#%%\n"
    }
   }
  },
  {
   "cell_type": "code",
   "execution_count": null,
   "outputs": [],
   "source": [
    "# where_rep and is_recover by amount\n",
    "# Parameters\n",
    "q_0 = 'Q18'\n",
    "q_1 = 'Q11'\n",
    "cols_name = [q_0,q_1]\n",
    "calc_chi = True\n",
    "is_count= [q_1]\n",
    "rel_data = (q_1,[])\n",
    "\n",
    "# Explore the data\n",
    "only_rel= data[cols_name].dropna()\n",
    "for q in cols_name:\n",
    "    if q in is_count:\n",
    "        only_rel[q]= only_rel[q].str.replace(r\"\\(.*?\\)\",\"\").str.replace(\":\", \"\").str.strip().str.count(',')\n",
    "        # specific code to this analysis\n",
    "        only_rel[only_rel[q_1]==3] = 2\n",
    "    else:\n",
    "        only_rel[q]= only_rel[q].str.replace(r\"\\(.*?\\)\",\"\").str.replace(\":\", \"\").str.strip()\n",
    "    print(only_rel[q].value_counts())\n",
    "\n",
    "if calc_chi:\n",
    "    var_0 = {'q':q_0,'var':questions[q_0],'group':[\"Yes\"],'group2': 'No'}\n",
    "    var_1 = {'q':q_1,'var':questions[q_1],'group':[0,1],'group2':2}\n",
    "    # working only with information stored in list in @rel_data for a specific col\n",
    "    if rel_data[1]:\n",
    "        only_rel= only_rel[only_rel[rel_data[0]].isin(rel_data[1])]\n",
    "\n",
    "    calculate_chi_cross_tab(only_rel,var_0,var_1)"
   ],
   "metadata": {
    "collapsed": false,
    "pycharm": {
     "name": "#%%\n"
    }
   }
  },
  {
   "cell_type": "code",
   "execution_count": 51,
   "outputs": [
    {
     "name": "stdout",
     "output_type": "stream",
     "text": [
      "No     1535\n",
      "Yes     280\n",
      "Name: Q18, dtype: int64\n",
      "The police ,A bicycle registry/recovery system ,Social media           618\n",
      "The police ,A bicycle registry/recovery system                         533\n",
      "The police                                                             304\n",
      "A bicycle registry/recovery system                                      96\n",
      "I did not report the theft                                              60\n",
      "The police ,Social media                                                50\n",
      "The police ,A bicycle registry/recovery system ,Social media ,Other     43\n",
      "A bicycle registry/recovery system ,Social media                        37\n",
      "The police ,A bicycle registry/recovery system ,Other                   21\n",
      "Other                                                                   16\n",
      "The police ,Other                                                       15\n",
      "Social media                                                            10\n",
      "The police ,Social media ,Other                                          6\n",
      "A bicycle registry/recovery system ,Other                                5\n",
      "A bicycle registry/recovery system ,Social media ,Other                  1\n",
      "Name: Q11, dtype: int64\n",
      "Chi-square statistic: 2.33\n",
      "P-value: 0.50735\n",
      "where_rep   A bicycle registry/recovery system  The police  \\\n",
      "is_recover                                                   \n",
      "No                                   89.583333   87.828947   \n",
      "Yes                                  10.416667   12.171053   \n",
      "\n",
      "where_rep   The police ,A bicycle registry/recovery system  \\\n",
      "is_recover                                                   \n",
      "No                                               83.864916   \n",
      "Yes                                              16.135084   \n",
      "\n",
      "where_rep   The police ,A bicycle registry/recovery system ,Social media  \n",
      "is_recover                                                                \n",
      "No                                                  83.333333             \n",
      "Yes                                                 16.666667             \n"
     ]
    }
   ],
   "source": [
    "# where_rep and is_recover\n",
    "\n",
    "# Parameters\n",
    "q_0 = 'Q18'\n",
    "q_1 = 'country'\n",
    "cols_name = [q_0,q_1]\n",
    "calc_chi = True\n",
    "\n",
    "rel_data = (q_1,['The police ,A bicycle registry/recovery system ,Social media','The police ,A bicycle registry/recovery system','The police','A bicycle registry/recovery system'])\n",
    "\n",
    "# Explore the data\n",
    "only_rel= data[cols_name].dropna()\n",
    "for q in cols_name:\n",
    "    only_rel[q]= only_rel[q].str.replace(r\"\\(.*?\\)\",\"\").str.replace(\":\", \"\").str.strip()\n",
    "    print(only_rel[q].value_counts())\n",
    "\n",
    "if calc_chi:\n",
    "    var_0 = {'q':q_0,'var':questions[q_0],'group':[\"Yes\"],'group2': 'No'}\n",
    "    var_1 = {'q':q_1,'var':questions[q_1],'group':rel_data[1][:-1],'group2': rel_data[1][-1]}\n",
    "    # working only with information stored in list in @rel_data for a specific col\n",
    "    if rel_data:\n",
    "        only_rel= only_rel[only_rel[rel_data[0]].isin(rel_data[1])]\n",
    "\n",
    "    calculate_chi_cross_tab(only_rel,var_0,var_1)\n"
   ],
   "metadata": {
    "collapsed": false,
    "pycharm": {
     "name": "#%%\n"
    }
   }
  },
  {
   "cell_type": "code",
   "execution_count": 31,
   "outputs": [
    {
     "name": "stdout",
     "output_type": "stream",
     "text": [
      "No     1531\n",
      "Yes     278\n",
      "Name: Q18, dtype: int64\n",
      "Overnight              734\n",
      "Afternoon              354\n",
      "Don’t know/not sure    328\n",
      "Evening                223\n",
      "Morning                170\n",
      "Name: Q6, dtype: int64\n",
      "Chi-square statistic: 1.93\n",
      "P-value: 0.16453\n",
      "day_time    Don’t know/not sure      Other\n",
      "is_recover                                \n",
      "No                    90.853659  83.254558\n",
      "Yes                    9.146341  16.745442\n"
     ]
    }
   ],
   "source": [
    "# Time and is_recover\n",
    "calc_chi = True\n",
    "q_0 = 'Q18'\n",
    "q_1 = 'Q11'\n",
    "cols_name = [q_0,q_1]\n",
    "# Explore the data\n",
    "only_rel= data[cols_name].dropna()\n",
    "for q in cols_name:\n",
    "    only_rel[q]= only_rel[q].str.replace(r\"\\(.*?\\)\",\"\").str.strip()\n",
    "    print(only_rel[q].value_counts())\n",
    "\n",
    "if calc_chi:\n",
    "    var_0 = {'q':q_0,'var':questions[q_0],'group':[\"Yes\"],'group2': 'No'}\n",
    "    var_1 = {'q':q_1,'var':questions[q_1],'group':[\"Don’t know/not sure\"],'group2': 'Other'}\n",
    "    calculate_chi_cross_tab(only_rel,var_0,var_1)"
   ],
   "metadata": {
    "collapsed": false,
    "pycharm": {
     "name": "#%%\n"
    }
   }
  },
  {
   "cell_type": "code",
   "execution_count": 26,
   "outputs": [
    {
     "name": "stdout",
     "output_type": "stream",
     "text": [
      "Chi-square statistic: 2.25\n",
      "P-value: 0.13337\n",
      "country           CAN        USA\n",
      "is_recover                      \n",
      "No          77.083333  86.293045\n",
      "Yes         22.916667  13.706955\n"
     ]
    }
   ],
   "source": [
    "# Country and is_recover\n",
    "is_explore = False\n",
    "q_0 = 'Q18'\n",
    "q_1 = 'country'\n",
    "cols_name = [q_0,q_1]\n",
    "# Explore the data\n",
    "if is_explore:\n",
    "    only_rel= data[cols_name].dropna()\n",
    "    for q in cols_name:\n",
    "        only_rel[q]= only_rel[q].str.replace(r\"\\(.*?\\)\",\"\").str.strip()\n",
    "        print(only_rel[q].value_counts())\n",
    "else:\n",
    "    var_0 = {'q':q_0,'var':questions[q_0],'group':[\"Yes\"],'group2': 'No'}\n",
    "    var_1 = {'q':q_1,'var':questions[q_1],'group':[\"USA\"],'group2': 'CAN'}\n",
    "    calculate_chi_cross_tab(only_rel,var_0,var_1)"
   ],
   "metadata": {
    "collapsed": false,
    "pycharm": {
     "name": "#%%\n"
    }
   }
  },
  {
   "cell_type": "code",
   "execution_count": 63,
   "outputs": [
    {
     "name": "stdout",
     "output_type": "stream",
     "text": [
      "Chi-square statistic: 16.53\n",
      "P-value: 0.00026\n",
      "country                   CAN        USA\n",
      "bicycle_type                            \n",
      "Hybrid/City/Dutch   30.960854  38.696020\n",
      "Mountain            58.007117  32.091448\n",
      "Road                11.032028  29.212532\n"
     ]
    }
   ],
   "source": [
    "# Country and bike type\n",
    "q_0 = 'Q15'\n",
    "var_0 = {'q':q_0,'var':questions[q_0],'group':['Hybrid/City/Dutch ', 'Road',],'group2': 'Mountain  '}\n",
    "var_1 = {'q':'country','var':'country','group':[\"USA\"],'group2': 'CAN'}\n",
    "\n",
    "only_rel= data[[var_0['q'],var_1['q']]].dropna()\n",
    "\n",
    "clean_tables= only_rel[only_rel[var_0['q']].isin(['Hybrid/City/Dutch ', 'Road','Mountain  '])]\n",
    "\n",
    "calculate_chi_cross_tab(clean_tables,var_0,var_1)"
   ],
   "metadata": {
    "collapsed": false,
    "pycharm": {
     "name": "#%%\n"
    }
   }
  },
  {
   "cell_type": "code",
   "execution_count": 39,
   "outputs": [
    {
     "data": {
      "text/plain": "Q13                                                 $1000-$1999   \\\nQ8                                                                 \nCable lock                                             30.487805   \nCable lock ,Don’t know/not sure                         0.000000   \nCable lock ,Frame lock (aka wheel lock/O-lock/r...      0.406504   \nCable lock ,Other (please specify):                     1.626016   \nChain-lock combination (chain with mini u-lock ...      5.691057   \nChain-lock combination (chain with mini u-lock ...      0.813008   \nChain-lock combination (chain with mini u-lock ...      0.000000   \nChain-lock combination (chain with mini u-lock ...      0.000000   \nChain-lock combination (chain with mini u-lock ...      0.000000   \nChain-lock combination (chain with mini u-lock ...      0.000000   \nChain-lock combination (chain with mini u-lock ...      0.000000   \nChain-lock combination (chain with mini u-lock ...      0.406504   \nChain-lock with padlock                                 5.691057   \nChain-lock with padlock ,Cable lock                     0.406504   \nChain-lock with padlock ,Cable lock ,Other (ple...      0.000000   \nChain-lock with padlock ,Folding lock                   0.406504   \nChain-lock with padlock ,Frame lock (aka wheel ...      0.000000   \nChain-lock with padlock ,Locking skewers                0.000000   \nChain-lock with padlock ,Other (please specify):        0.000000   \nDon’t know/not sure                                     0.000000   \nFolding lock                                            3.252033   \nFolding lock ,Frame lock (aka wheel lock/O-lock...      0.406504   \nFolding lock ,Other (please specify):                   0.000000   \nFolding lock ,Other (please specify):,Don’t kno...      0.000000   \nFrame lock (aka wheel lock/O-lock/ring lock)            0.000000   \nLocking skewers                                         0.000000   \nLocking skewers ,Cable lock                             0.000000   \nLocking skewers ,Folding lock                           0.000000   \nLocking skewers ,Other (please specify):                0.000000   \nOther (please specify):                                 7.723577   \nOther (please specify):,Don’t know/not sure             0.000000   \nTwo U-Locks                                             2.032520   \nTwo U-Locks ,Cable lock                                 1.219512   \nTwo U-Locks ,Cable lock ,Other (please specify):        0.000000   \nTwo U-Locks ,Chain-lock combination (chain with...      0.000000   \nTwo U-Locks ,Chain-lock combination (chain with...      0.000000   \nTwo U-Locks ,Chain-lock with padlock                    0.406504   \nTwo U-Locks ,Chain-lock with padlock ,Folding l...      0.000000   \nTwo U-Locks ,Other (please specify):                    0.000000   \n​U-lock                                                31.300813   \n​U-lock      ,Cable lock                                3.658537   \n​U-lock      ,Cable lock ,Frame lock (aka wheel...      0.000000   \n​U-lock      ,Cable lock ,Other (please specify):       0.000000   \n​U-lock      ,Chain-lock combination (chain wit...      0.813008   \n​U-lock      ,Chain-lock combination (chain wit...      0.406504   \n​U-lock      ,Chain-lock combination (chain wit...      0.000000   \n​U-lock      ,Chain-lock with padlock                   0.000000   \n​U-lock      ,Chain-lock with padlock ,Cable lock       0.000000   \n​U-lock      ,Don’t know/not sure                       0.000000   \n​U-lock      ,Folding lock                              0.406504   \n​U-lock      ,Folding lock ,Other (please speci...      0.000000   \n​U-lock      ,Frame lock (aka wheel lock/O-lock...      0.000000   \n​U-lock      ,Locking skewers                           2.032520   \n​U-lock      ,Other (please specify):                   0.406504   \n​U-lock      ,Two U-Locks ,Chain-lock combinati...      0.000000   \n​U-lock      ,Two U-Locks ,Chain-lock with padl...      0.000000   \n\nQ13                                                 $2000-3999        \\\nQ8                                                                     \nCable lock                                                 31.360947   \nCable lock ,Don’t know/not sure                             0.591716   \nCable lock ,Frame lock (aka wheel lock/O-lock/r...          0.000000   \nCable lock ,Other (please specify):                         1.183432   \nChain-lock combination (chain with mini u-lock ...          7.100592   \nChain-lock combination (chain with mini u-lock ...          0.000000   \nChain-lock combination (chain with mini u-lock ...          0.000000   \nChain-lock combination (chain with mini u-lock ...          0.000000   \nChain-lock combination (chain with mini u-lock ...          0.000000   \nChain-lock combination (chain with mini u-lock ...          0.000000   \nChain-lock combination (chain with mini u-lock ...          0.000000   \nChain-lock combination (chain with mini u-lock ...          0.000000   \nChain-lock with padlock                                     5.325444   \nChain-lock with padlock ,Cable lock                         1.183432   \nChain-lock with padlock ,Cable lock ,Other (ple...          0.591716   \nChain-lock with padlock ,Folding lock                       0.000000   \nChain-lock with padlock ,Frame lock (aka wheel ...          1.775148   \nChain-lock with padlock ,Locking skewers                    0.000000   \nChain-lock with padlock ,Other (please specify):            0.000000   \nDon’t know/not sure                                         0.000000   \nFolding lock                                                2.366864   \nFolding lock ,Frame lock (aka wheel lock/O-lock...          0.591716   \nFolding lock ,Other (please specify):                       0.000000   \nFolding lock ,Other (please specify):,Don’t kno...          0.591716   \nFrame lock (aka wheel lock/O-lock/ring lock)                1.775148   \nLocking skewers                                             0.591716   \nLocking skewers ,Cable lock                                 0.000000   \nLocking skewers ,Folding lock                               0.000000   \nLocking skewers ,Other (please specify):                    0.000000   \nOther (please specify):                                    10.059172   \nOther (please specify):,Don’t know/not sure                 0.000000   \nTwo U-Locks                                                 1.183432   \nTwo U-Locks ,Cable lock                                     0.000000   \nTwo U-Locks ,Cable lock ,Other (please specify):            0.000000   \nTwo U-Locks ,Chain-lock combination (chain with...          0.000000   \nTwo U-Locks ,Chain-lock combination (chain with...          0.000000   \nTwo U-Locks ,Chain-lock with padlock                        0.000000   \nTwo U-Locks ,Chain-lock with padlock ,Folding l...          0.000000   \nTwo U-Locks ,Other (please specify):                        0.000000   \n​U-lock                                                    21.301775   \n​U-lock      ,Cable lock                                    4.733728   \n​U-lock      ,Cable lock ,Frame lock (aka wheel...          0.000000   \n​U-lock      ,Cable lock ,Other (please specify):           0.591716   \n​U-lock      ,Chain-lock combination (chain wit...          2.366864   \n​U-lock      ,Chain-lock combination (chain wit...          0.000000   \n​U-lock      ,Chain-lock combination (chain wit...          0.591716   \n​U-lock      ,Chain-lock with padlock                       0.591716   \n​U-lock      ,Chain-lock with padlock ,Cable lock           0.000000   \n​U-lock      ,Don’t know/not sure                           0.000000   \n​U-lock      ,Folding lock                                  0.000000   \n​U-lock      ,Folding lock ,Other (please speci...          0.000000   \n​U-lock      ,Frame lock (aka wheel lock/O-lock...          0.591716   \n​U-lock      ,Locking skewers                               1.183432   \n​U-lock      ,Other (please specify):                       1.183432   \n​U-lock      ,Two U-Locks ,Chain-lock combinati...          0.591716   \n​U-lock      ,Two U-Locks ,Chain-lock with padl...          0.000000   \n\nQ13                                                 $250-$499   \\\nQ8                                                               \nCable lock                                           37.414966   \nCable lock ,Don’t know/not sure                       0.000000   \nCable lock ,Frame lock (aka wheel lock/O-lock/r...    0.000000   \nCable lock ,Other (please specify):                   2.040816   \nChain-lock combination (chain with mini u-lock ...   13.605442   \nChain-lock combination (chain with mini u-lock ...    0.680272   \nChain-lock combination (chain with mini u-lock ...    0.000000   \nChain-lock combination (chain with mini u-lock ...    0.000000   \nChain-lock combination (chain with mini u-lock ...    0.000000   \nChain-lock combination (chain with mini u-lock ...    0.680272   \nChain-lock combination (chain with mini u-lock ...    0.000000   \nChain-lock combination (chain with mini u-lock ...    0.000000   \nChain-lock with padlock                               3.401361   \nChain-lock with padlock ,Cable lock                   0.000000   \nChain-lock with padlock ,Cable lock ,Other (ple...    0.680272   \nChain-lock with padlock ,Folding lock                 0.000000   \nChain-lock with padlock ,Frame lock (aka wheel ...    0.000000   \nChain-lock with padlock ,Locking skewers              0.000000   \nChain-lock with padlock ,Other (please specify):      0.000000   \nDon’t know/not sure                                   0.680272   \nFolding lock                                          2.040816   \nFolding lock ,Frame lock (aka wheel lock/O-lock...    0.000000   \nFolding lock ,Other (please specify):                 0.000000   \nFolding lock ,Other (please specify):,Don’t kno...    0.000000   \nFrame lock (aka wheel lock/O-lock/ring lock)          0.680272   \nLocking skewers                                       0.000000   \nLocking skewers ,Cable lock                           0.000000   \nLocking skewers ,Folding lock                         0.000000   \nLocking skewers ,Other (please specify):              0.000000   \nOther (please specify):                               4.081633   \nOther (please specify):,Don’t know/not sure           0.000000   \nTwo U-Locks                                           0.000000   \nTwo U-Locks ,Cable lock                               0.000000   \nTwo U-Locks ,Cable lock ,Other (please specify):      0.000000   \nTwo U-Locks ,Chain-lock combination (chain with...    0.000000   \nTwo U-Locks ,Chain-lock combination (chain with...    0.000000   \nTwo U-Locks ,Chain-lock with padlock                  0.000000   \nTwo U-Locks ,Chain-lock with padlock ,Folding l...    0.000000   \nTwo U-Locks ,Other (please specify):                  0.000000   \n​U-lock                                              27.210884   \n​U-lock      ,Cable lock                              6.122449   \n​U-lock      ,Cable lock ,Frame lock (aka wheel...    0.000000   \n​U-lock      ,Cable lock ,Other (please specify):     0.000000   \n​U-lock      ,Chain-lock combination (chain wit...    0.000000   \n​U-lock      ,Chain-lock combination (chain wit...    0.000000   \n​U-lock      ,Chain-lock combination (chain wit...    0.000000   \n​U-lock      ,Chain-lock with padlock                 0.000000   \n​U-lock      ,Chain-lock with padlock ,Cable lock     0.000000   \n​U-lock      ,Don’t know/not sure                     0.000000   \n​U-lock      ,Folding lock                            0.000000   \n​U-lock      ,Folding lock ,Other (please speci...    0.000000   \n​U-lock      ,Frame lock (aka wheel lock/O-lock...    0.000000   \n​U-lock      ,Locking skewers                         0.000000   \n​U-lock      ,Other (please specify):                 0.000000   \n​U-lock      ,Two U-Locks ,Chain-lock combinati...    0.000000   \n​U-lock      ,Two U-Locks ,Chain-lock with padl...    0.680272   \n\nQ13                                                 $4000-6999         \\\nQ8                                                                      \nCable lock                                                  32.530120   \nCable lock ,Don’t know/not sure                              0.000000   \nCable lock ,Frame lock (aka wheel lock/O-lock/r...           0.000000   \nCable lock ,Other (please specify):                          2.409639   \nChain-lock combination (chain with mini u-lock ...           2.409639   \nChain-lock combination (chain with mini u-lock ...           0.000000   \nChain-lock combination (chain with mini u-lock ...           0.000000   \nChain-lock combination (chain with mini u-lock ...           0.000000   \nChain-lock combination (chain with mini u-lock ...           1.204819   \nChain-lock combination (chain with mini u-lock ...           0.000000   \nChain-lock combination (chain with mini u-lock ...           2.409639   \nChain-lock combination (chain with mini u-lock ...           1.204819   \nChain-lock with padlock                                      3.614458   \nChain-lock with padlock ,Cable lock                          0.000000   \nChain-lock with padlock ,Cable lock ,Other (ple...           0.000000   \nChain-lock with padlock ,Folding lock                        0.000000   \nChain-lock with padlock ,Frame lock (aka wheel ...           0.000000   \nChain-lock with padlock ,Locking skewers                     0.000000   \nChain-lock with padlock ,Other (please specify):             1.204819   \nDon’t know/not sure                                          0.000000   \nFolding lock                                                 6.024096   \nFolding lock ,Frame lock (aka wheel lock/O-lock...           0.000000   \nFolding lock ,Other (please specify):                        1.204819   \nFolding lock ,Other (please specify):,Don’t kno...           0.000000   \nFrame lock (aka wheel lock/O-lock/ring lock)                 0.000000   \nLocking skewers                                              0.000000   \nLocking skewers ,Cable lock                                  3.614458   \nLocking skewers ,Folding lock                                0.000000   \nLocking skewers ,Other (please specify):                     1.204819   \nOther (please specify):                                     10.843373   \nOther (please specify):,Don’t know/not sure                  1.204819   \nTwo U-Locks                                                  3.614458   \nTwo U-Locks ,Cable lock                                      0.000000   \nTwo U-Locks ,Cable lock ,Other (please specify):             0.000000   \nTwo U-Locks ,Chain-lock combination (chain with...           1.204819   \nTwo U-Locks ,Chain-lock combination (chain with...           1.204819   \nTwo U-Locks ,Chain-lock with padlock                         0.000000   \nTwo U-Locks ,Chain-lock with padlock ,Folding l...           0.000000   \nTwo U-Locks ,Other (please specify):                         0.000000   \n​U-lock                                                      9.638554   \n​U-lock      ,Cable lock                                     3.614458   \n​U-lock      ,Cable lock ,Frame lock (aka wheel...           1.204819   \n​U-lock      ,Cable lock ,Other (please specify):            1.204819   \n​U-lock      ,Chain-lock combination (chain wit...           3.614458   \n​U-lock      ,Chain-lock combination (chain wit...           0.000000   \n​U-lock      ,Chain-lock combination (chain wit...           0.000000   \n​U-lock      ,Chain-lock with padlock                        0.000000   \n​U-lock      ,Chain-lock with padlock ,Cable lock            1.204819   \n​U-lock      ,Don’t know/not sure                            0.000000   \n​U-lock      ,Folding lock                                   0.000000   \n​U-lock      ,Folding lock ,Other (please speci...           1.204819   \n​U-lock      ,Frame lock (aka wheel lock/O-lock...           0.000000   \n​U-lock      ,Locking skewers                                0.000000   \n​U-lock      ,Other (please specify):                        1.204819   \n​U-lock      ,Two U-Locks ,Chain-lock combinati...           0.000000   \n​U-lock      ,Two U-Locks ,Chain-lock with padl...           0.000000   \n\nQ13                                                 $500-$999   \\\nQ8                                                               \nCable lock                                           37.345679   \nCable lock ,Don’t know/not sure                       0.000000   \nCable lock ,Frame lock (aka wheel lock/O-lock/r...    0.308642   \nCable lock ,Other (please specify):                   0.925926   \nChain-lock combination (chain with mini u-lock ...    8.333333   \nChain-lock combination (chain with mini u-lock ...    0.308642   \nChain-lock combination (chain with mini u-lock ...    0.308642   \nChain-lock combination (chain with mini u-lock ...    0.308642   \nChain-lock combination (chain with mini u-lock ...    0.000000   \nChain-lock combination (chain with mini u-lock ...    0.000000   \nChain-lock combination (chain with mini u-lock ...    0.000000   \nChain-lock combination (chain with mini u-lock ...    0.308642   \nChain-lock with padlock                               3.703704   \nChain-lock with padlock ,Cable lock                   0.617284   \nChain-lock with padlock ,Cable lock ,Other (ple...    0.000000   \nChain-lock with padlock ,Folding lock                 0.000000   \nChain-lock with padlock ,Frame lock (aka wheel ...    0.000000   \nChain-lock with padlock ,Locking skewers              0.000000   \nChain-lock with padlock ,Other (please specify):      0.000000   \nDon’t know/not sure                                   0.000000   \nFolding lock                                          1.234568   \nFolding lock ,Frame lock (aka wheel lock/O-lock...    0.000000   \nFolding lock ,Other (please specify):                 0.000000   \nFolding lock ,Other (please specify):,Don’t kno...    0.000000   \nFrame lock (aka wheel lock/O-lock/ring lock)          0.617284   \nLocking skewers                                       0.000000   \nLocking skewers ,Cable lock                           0.000000   \nLocking skewers ,Folding lock                         0.617284   \nLocking skewers ,Other (please specify):              0.000000   \nOther (please specify):                               2.469136   \nOther (please specify):,Don’t know/not sure           0.308642   \nTwo U-Locks                                           1.234568   \nTwo U-Locks ,Cable lock                               0.000000   \nTwo U-Locks ,Cable lock ,Other (please specify):      0.308642   \nTwo U-Locks ,Chain-lock combination (chain with...    0.308642   \nTwo U-Locks ,Chain-lock combination (chain with...    0.000000   \nTwo U-Locks ,Chain-lock with padlock                  0.000000   \nTwo U-Locks ,Chain-lock with padlock ,Folding l...    0.000000   \nTwo U-Locks ,Other (please specify):                  0.308642   \n​U-lock                                              29.320988   \n​U-lock      ,Cable lock                              5.246914   \n​U-lock      ,Cable lock ,Frame lock (aka wheel...    0.000000   \n​U-lock      ,Cable lock ,Other (please specify):     0.000000   \n​U-lock      ,Chain-lock combination (chain wit...    1.851852   \n​U-lock      ,Chain-lock combination (chain wit...    0.000000   \n​U-lock      ,Chain-lock combination (chain wit...    0.000000   \n​U-lock      ,Chain-lock with padlock                 0.925926   \n​U-lock      ,Chain-lock with padlock ,Cable lock     0.000000   \n​U-lock      ,Don’t know/not sure                     0.308642   \n​U-lock      ,Folding lock                            0.000000   \n​U-lock      ,Folding lock ,Other (please speci...    0.000000   \n​U-lock      ,Frame lock (aka wheel lock/O-lock...    0.000000   \n​U-lock      ,Locking skewers                         1.234568   \n​U-lock      ,Other (please specify):                 1.234568   \n​U-lock      ,Two U-Locks ,Chain-lock combinati...    0.000000   \n​U-lock      ,Two U-Locks ,Chain-lock with padl...    0.000000   \n\nQ13                                                 $7000 or more   \\\nQ8                                                                   \nCable lock                                               32.608696   \nCable lock ,Don’t know/not sure                           0.000000   \nCable lock ,Frame lock (aka wheel lock/O-lock/r...        2.173913   \nCable lock ,Other (please specify):                       4.347826   \nChain-lock combination (chain with mini u-lock ...       10.869565   \nChain-lock combination (chain with mini u-lock ...        2.173913   \nChain-lock combination (chain with mini u-lock ...        0.000000   \nChain-lock combination (chain with mini u-lock ...        0.000000   \nChain-lock combination (chain with mini u-lock ...        0.000000   \nChain-lock combination (chain with mini u-lock ...        0.000000   \nChain-lock combination (chain with mini u-lock ...        0.000000   \nChain-lock combination (chain with mini u-lock ...        0.000000   \nChain-lock with padlock                                   2.173913   \nChain-lock with padlock ,Cable lock                       2.173913   \nChain-lock with padlock ,Cable lock ,Other (ple...        0.000000   \nChain-lock with padlock ,Folding lock                     0.000000   \nChain-lock with padlock ,Frame lock (aka wheel ...        0.000000   \nChain-lock with padlock ,Locking skewers                  2.173913   \nChain-lock with padlock ,Other (please specify):          0.000000   \nDon’t know/not sure                                       2.173913   \nFolding lock                                              0.000000   \nFolding lock ,Frame lock (aka wheel lock/O-lock...        0.000000   \nFolding lock ,Other (please specify):                     0.000000   \nFolding lock ,Other (please specify):,Don’t kno...        0.000000   \nFrame lock (aka wheel lock/O-lock/ring lock)              2.173913   \nLocking skewers                                           0.000000   \nLocking skewers ,Cable lock                               0.000000   \nLocking skewers ,Folding lock                             0.000000   \nLocking skewers ,Other (please specify):                  0.000000   \nOther (please specify):                                  17.391304   \nOther (please specify):,Don’t know/not sure               0.000000   \nTwo U-Locks                                               0.000000   \nTwo U-Locks ,Cable lock                                   0.000000   \nTwo U-Locks ,Cable lock ,Other (please specify):          0.000000   \nTwo U-Locks ,Chain-lock combination (chain with...        0.000000   \nTwo U-Locks ,Chain-lock combination (chain with...        0.000000   \nTwo U-Locks ,Chain-lock with padlock                      0.000000   \nTwo U-Locks ,Chain-lock with padlock ,Folding l...        2.173913   \nTwo U-Locks ,Other (please specify):                      0.000000   \n​U-lock                                                  10.869565   \n​U-lock      ,Cable lock                                  4.347826   \n​U-lock      ,Cable lock ,Frame lock (aka wheel...        0.000000   \n​U-lock      ,Cable lock ,Other (please specify):         0.000000   \n​U-lock      ,Chain-lock combination (chain wit...        2.173913   \n​U-lock      ,Chain-lock combination (chain wit...        0.000000   \n​U-lock      ,Chain-lock combination (chain wit...        0.000000   \n​U-lock      ,Chain-lock with padlock                     0.000000   \n​U-lock      ,Chain-lock with padlock ,Cable lock         0.000000   \n​U-lock      ,Don’t know/not sure                         0.000000   \n​U-lock      ,Folding lock                                0.000000   \n​U-lock      ,Folding lock ,Other (please speci...        0.000000   \n​U-lock      ,Frame lock (aka wheel lock/O-lock...        0.000000   \n​U-lock      ,Locking skewers                             0.000000   \n​U-lock      ,Other (please specify):                     0.000000   \n​U-lock      ,Two U-Locks ,Chain-lock combinati...        0.000000   \n​U-lock      ,Two U-Locks ,Chain-lock with padl...        0.000000   \n\nQ13                                                 Don’t know/not sure   \\\nQ8                                                                         \nCable lock                                                     33.333333   \nCable lock ,Don’t know/not sure                                 0.000000   \nCable lock ,Frame lock (aka wheel lock/O-lock/r...              0.000000   \nCable lock ,Other (please specify):                             0.000000   \nChain-lock combination (chain with mini u-lock ...             33.333333   \nChain-lock combination (chain with mini u-lock ...              0.000000   \nChain-lock combination (chain with mini u-lock ...              0.000000   \nChain-lock combination (chain with mini u-lock ...              0.000000   \nChain-lock combination (chain with mini u-lock ...              0.000000   \nChain-lock combination (chain with mini u-lock ...              0.000000   \nChain-lock combination (chain with mini u-lock ...              0.000000   \nChain-lock combination (chain with mini u-lock ...              0.000000   \nChain-lock with padlock                                         0.000000   \nChain-lock with padlock ,Cable lock                             0.000000   \nChain-lock with padlock ,Cable lock ,Other (ple...              0.000000   \nChain-lock with padlock ,Folding lock                           0.000000   \nChain-lock with padlock ,Frame lock (aka wheel ...              0.000000   \nChain-lock with padlock ,Locking skewers                        0.000000   \nChain-lock with padlock ,Other (please specify):                0.000000   \nDon’t know/not sure                                             0.000000   \nFolding lock                                                    0.000000   \nFolding lock ,Frame lock (aka wheel lock/O-lock...              0.000000   \nFolding lock ,Other (please specify):                           0.000000   \nFolding lock ,Other (please specify):,Don’t kno...              0.000000   \nFrame lock (aka wheel lock/O-lock/ring lock)                    0.000000   \nLocking skewers                                                 0.000000   \nLocking skewers ,Cable lock                                     0.000000   \nLocking skewers ,Folding lock                                   0.000000   \nLocking skewers ,Other (please specify):                        0.000000   \nOther (please specify):                                        33.333333   \nOther (please specify):,Don’t know/not sure                     0.000000   \nTwo U-Locks                                                     0.000000   \nTwo U-Locks ,Cable lock                                         0.000000   \nTwo U-Locks ,Cable lock ,Other (please specify):                0.000000   \nTwo U-Locks ,Chain-lock combination (chain with...              0.000000   \nTwo U-Locks ,Chain-lock combination (chain with...              0.000000   \nTwo U-Locks ,Chain-lock with padlock                            0.000000   \nTwo U-Locks ,Chain-lock with padlock ,Folding l...              0.000000   \nTwo U-Locks ,Other (please specify):                            0.000000   \n​U-lock                                                         0.000000   \n​U-lock      ,Cable lock                                        0.000000   \n​U-lock      ,Cable lock ,Frame lock (aka wheel...              0.000000   \n​U-lock      ,Cable lock ,Other (please specify):               0.000000   \n​U-lock      ,Chain-lock combination (chain wit...              0.000000   \n​U-lock      ,Chain-lock combination (chain wit...              0.000000   \n​U-lock      ,Chain-lock combination (chain wit...              0.000000   \n​U-lock      ,Chain-lock with padlock                           0.000000   \n​U-lock      ,Chain-lock with padlock ,Cable lock               0.000000   \n​U-lock      ,Don’t know/not sure                               0.000000   \n​U-lock      ,Folding lock                                      0.000000   \n​U-lock      ,Folding lock ,Other (please speci...              0.000000   \n​U-lock      ,Frame lock (aka wheel lock/O-lock...              0.000000   \n​U-lock      ,Locking skewers                                   0.000000   \n​U-lock      ,Other (please specify):                           0.000000   \n​U-lock      ,Two U-Locks ,Chain-lock combinati...              0.000000   \n​U-lock      ,Two U-Locks ,Chain-lock with padl...              0.000000   \n\nQ13                                                 I prefer to not answer  \\\nQ8                                                                           \nCable lock                                                             0.0   \nCable lock ,Don’t know/not sure                                        0.0   \nCable lock ,Frame lock (aka wheel lock/O-lock/r...                     0.0   \nCable lock ,Other (please specify):                                    0.0   \nChain-lock combination (chain with mini u-lock ...                     0.0   \nChain-lock combination (chain with mini u-lock ...                     0.0   \nChain-lock combination (chain with mini u-lock ...                     0.0   \nChain-lock combination (chain with mini u-lock ...                     0.0   \nChain-lock combination (chain with mini u-lock ...                     0.0   \nChain-lock combination (chain with mini u-lock ...                     0.0   \nChain-lock combination (chain with mini u-lock ...                     0.0   \nChain-lock combination (chain with mini u-lock ...                     0.0   \nChain-lock with padlock                                                0.0   \nChain-lock with padlock ,Cable lock                                    0.0   \nChain-lock with padlock ,Cable lock ,Other (ple...                     0.0   \nChain-lock with padlock ,Folding lock                                  0.0   \nChain-lock with padlock ,Frame lock (aka wheel ...                     0.0   \nChain-lock with padlock ,Locking skewers                               0.0   \nChain-lock with padlock ,Other (please specify):                       0.0   \nDon’t know/not sure                                                    0.0   \nFolding lock                                                           0.0   \nFolding lock ,Frame lock (aka wheel lock/O-lock...                     0.0   \nFolding lock ,Other (please specify):                                  0.0   \nFolding lock ,Other (please specify):,Don’t kno...                     0.0   \nFrame lock (aka wheel lock/O-lock/ring lock)                           0.0   \nLocking skewers                                                        0.0   \nLocking skewers ,Cable lock                                            0.0   \nLocking skewers ,Folding lock                                          0.0   \nLocking skewers ,Other (please specify):                               0.0   \nOther (please specify):                                              100.0   \nOther (please specify):,Don’t know/not sure                            0.0   \nTwo U-Locks                                                            0.0   \nTwo U-Locks ,Cable lock                                                0.0   \nTwo U-Locks ,Cable lock ,Other (please specify):                       0.0   \nTwo U-Locks ,Chain-lock combination (chain with...                     0.0   \nTwo U-Locks ,Chain-lock combination (chain with...                     0.0   \nTwo U-Locks ,Chain-lock with padlock                                   0.0   \nTwo U-Locks ,Chain-lock with padlock ,Folding l...                     0.0   \nTwo U-Locks ,Other (please specify):                                   0.0   \n​U-lock                                                                0.0   \n​U-lock      ,Cable lock                                               0.0   \n​U-lock      ,Cable lock ,Frame lock (aka wheel...                     0.0   \n​U-lock      ,Cable lock ,Other (please specify):                      0.0   \n​U-lock      ,Chain-lock combination (chain wit...                     0.0   \n​U-lock      ,Chain-lock combination (chain wit...                     0.0   \n​U-lock      ,Chain-lock combination (chain wit...                     0.0   \n​U-lock      ,Chain-lock with padlock                                  0.0   \n​U-lock      ,Chain-lock with padlock ,Cable lock                      0.0   \n​U-lock      ,Don’t know/not sure                                      0.0   \n​U-lock      ,Folding lock                                             0.0   \n​U-lock      ,Folding lock ,Other (please speci...                     0.0   \n​U-lock      ,Frame lock (aka wheel lock/O-lock...                     0.0   \n​U-lock      ,Locking skewers                                          0.0   \n​U-lock      ,Other (please specify):                                  0.0   \n​U-lock      ,Two U-Locks ,Chain-lock combinati...                     0.0   \n​U-lock      ,Two U-Locks ,Chain-lock with padl...                     0.0   \n\nQ13                                                 Less than $250   \nQ8                                                                   \nCable lock                                                43.750000  \nCable lock ,Don’t know/not sure                            0.000000  \nCable lock ,Frame lock (aka wheel lock/O-lock/r...         0.000000  \nCable lock ,Other (please specify):                        0.000000  \nChain-lock combination (chain with mini u-lock ...         4.166667  \nChain-lock combination (chain with mini u-lock ...         2.083333  \nChain-lock combination (chain with mini u-lock ...         0.000000  \nChain-lock combination (chain with mini u-lock ...         0.000000  \nChain-lock combination (chain with mini u-lock ...         0.000000  \nChain-lock combination (chain with mini u-lock ...         0.000000  \nChain-lock combination (chain with mini u-lock ...         0.000000  \nChain-lock combination (chain with mini u-lock ...         0.000000  \nChain-lock with padlock                                    6.250000  \nChain-lock with padlock ,Cable lock                        0.000000  \nChain-lock with padlock ,Cable lock ,Other (ple...         0.000000  \nChain-lock with padlock ,Folding lock                      0.000000  \nChain-lock with padlock ,Frame lock (aka wheel ...         0.000000  \nChain-lock with padlock ,Locking skewers                   0.000000  \nChain-lock with padlock ,Other (please specify):           0.000000  \nDon’t know/not sure                                        2.083333  \nFolding lock                                               0.000000  \nFolding lock ,Frame lock (aka wheel lock/O-lock...         0.000000  \nFolding lock ,Other (please specify):                      0.000000  \nFolding lock ,Other (please specify):,Don’t kno...         0.000000  \nFrame lock (aka wheel lock/O-lock/ring lock)               2.083333  \nLocking skewers                                            0.000000  \nLocking skewers ,Cable lock                                0.000000  \nLocking skewers ,Folding lock                              0.000000  \nLocking skewers ,Other (please specify):                   0.000000  \nOther (please specify):                                    4.166667  \nOther (please specify):,Don’t know/not sure                0.000000  \nTwo U-Locks                                                0.000000  \nTwo U-Locks ,Cable lock                                    2.083333  \nTwo U-Locks ,Cable lock ,Other (please specify):           0.000000  \nTwo U-Locks ,Chain-lock combination (chain with...         0.000000  \nTwo U-Locks ,Chain-lock combination (chain with...         0.000000  \nTwo U-Locks ,Chain-lock with padlock                       0.000000  \nTwo U-Locks ,Chain-lock with padlock ,Folding l...         0.000000  \nTwo U-Locks ,Other (please specify):                       0.000000  \n​U-lock                                                   27.083333  \n​U-lock      ,Cable lock                                   4.166667  \n​U-lock      ,Cable lock ,Frame lock (aka wheel...         0.000000  \n​U-lock      ,Cable lock ,Other (please specify):          0.000000  \n​U-lock      ,Chain-lock combination (chain wit...         2.083333  \n​U-lock      ,Chain-lock combination (chain wit...         0.000000  \n​U-lock      ,Chain-lock combination (chain wit...         0.000000  \n​U-lock      ,Chain-lock with padlock                      0.000000  \n​U-lock      ,Chain-lock with padlock ,Cable lock          0.000000  \n​U-lock      ,Don’t know/not sure                          0.000000  \n​U-lock      ,Folding lock                                 0.000000  \n​U-lock      ,Folding lock ,Other (please speci...         0.000000  \n​U-lock      ,Frame lock (aka wheel lock/O-lock...         0.000000  \n​U-lock      ,Locking skewers                              0.000000  \n​U-lock      ,Other (please specify):                      0.000000  \n​U-lock      ,Two U-Locks ,Chain-lock combinati...         0.000000  \n​U-lock      ,Two U-Locks ,Chain-lock with padl...         0.000000  ",
      "text/html": "<div>\n<style scoped>\n    .dataframe tbody tr th:only-of-type {\n        vertical-align: middle;\n    }\n\n    .dataframe tbody tr th {\n        vertical-align: top;\n    }\n\n    .dataframe thead th {\n        text-align: right;\n    }\n</style>\n<table border=\"1\" class=\"dataframe\">\n  <thead>\n    <tr style=\"text-align: right;\">\n      <th>Q13</th>\n      <th>$1000-$1999</th>\n      <th>$2000-3999</th>\n      <th>$250-$499</th>\n      <th>$4000-6999</th>\n      <th>$500-$999</th>\n      <th>$7000 or more</th>\n      <th>Don’t know/not sure</th>\n      <th>I prefer to not answer</th>\n      <th>Less than $250</th>\n    </tr>\n    <tr>\n      <th>Q8</th>\n      <th></th>\n      <th></th>\n      <th></th>\n      <th></th>\n      <th></th>\n      <th></th>\n      <th></th>\n      <th></th>\n      <th></th>\n    </tr>\n  </thead>\n  <tbody>\n    <tr>\n      <th>Cable lock</th>\n      <td>30.487805</td>\n      <td>31.360947</td>\n      <td>37.414966</td>\n      <td>32.530120</td>\n      <td>37.345679</td>\n      <td>32.608696</td>\n      <td>33.333333</td>\n      <td>0.0</td>\n      <td>43.750000</td>\n    </tr>\n    <tr>\n      <th>Cable lock ,Don’t know/not sure</th>\n      <td>0.000000</td>\n      <td>0.591716</td>\n      <td>0.000000</td>\n      <td>0.000000</td>\n      <td>0.000000</td>\n      <td>0.000000</td>\n      <td>0.000000</td>\n      <td>0.0</td>\n      <td>0.000000</td>\n    </tr>\n    <tr>\n      <th>Cable lock ,Frame lock (aka wheel lock/O-lock/ring lock)</th>\n      <td>0.406504</td>\n      <td>0.000000</td>\n      <td>0.000000</td>\n      <td>0.000000</td>\n      <td>0.308642</td>\n      <td>2.173913</td>\n      <td>0.000000</td>\n      <td>0.0</td>\n      <td>0.000000</td>\n    </tr>\n    <tr>\n      <th>Cable lock ,Other (please specify):</th>\n      <td>1.626016</td>\n      <td>1.183432</td>\n      <td>2.040816</td>\n      <td>2.409639</td>\n      <td>0.925926</td>\n      <td>4.347826</td>\n      <td>0.000000</td>\n      <td>0.0</td>\n      <td>0.000000</td>\n    </tr>\n    <tr>\n      <th>Chain-lock combination (chain with mini u-lock or integrated locking mechanism)</th>\n      <td>5.691057</td>\n      <td>7.100592</td>\n      <td>13.605442</td>\n      <td>2.409639</td>\n      <td>8.333333</td>\n      <td>10.869565</td>\n      <td>33.333333</td>\n      <td>0.0</td>\n      <td>4.166667</td>\n    </tr>\n    <tr>\n      <th>Chain-lock combination (chain with mini u-lock or integrated locking mechanism),Cable lock</th>\n      <td>0.813008</td>\n      <td>0.000000</td>\n      <td>0.680272</td>\n      <td>0.000000</td>\n      <td>0.308642</td>\n      <td>2.173913</td>\n      <td>0.000000</td>\n      <td>0.0</td>\n      <td>2.083333</td>\n    </tr>\n    <tr>\n      <th>Chain-lock combination (chain with mini u-lock or integrated locking mechanism),Cable lock ,Other (please specify):</th>\n      <td>0.000000</td>\n      <td>0.000000</td>\n      <td>0.000000</td>\n      <td>0.000000</td>\n      <td>0.308642</td>\n      <td>0.000000</td>\n      <td>0.000000</td>\n      <td>0.0</td>\n      <td>0.000000</td>\n    </tr>\n    <tr>\n      <th>Chain-lock combination (chain with mini u-lock or integrated locking mechanism),Chain-lock with padlock</th>\n      <td>0.000000</td>\n      <td>0.000000</td>\n      <td>0.000000</td>\n      <td>0.000000</td>\n      <td>0.308642</td>\n      <td>0.000000</td>\n      <td>0.000000</td>\n      <td>0.0</td>\n      <td>0.000000</td>\n    </tr>\n    <tr>\n      <th>Chain-lock combination (chain with mini u-lock or integrated locking mechanism),Chain-lock with padlock ,Cable lock</th>\n      <td>0.000000</td>\n      <td>0.000000</td>\n      <td>0.000000</td>\n      <td>1.204819</td>\n      <td>0.000000</td>\n      <td>0.000000</td>\n      <td>0.000000</td>\n      <td>0.0</td>\n      <td>0.000000</td>\n    </tr>\n    <tr>\n      <th>Chain-lock combination (chain with mini u-lock or integrated locking mechanism),Folding lock</th>\n      <td>0.000000</td>\n      <td>0.000000</td>\n      <td>0.680272</td>\n      <td>0.000000</td>\n      <td>0.000000</td>\n      <td>0.000000</td>\n      <td>0.000000</td>\n      <td>0.0</td>\n      <td>0.000000</td>\n    </tr>\n    <tr>\n      <th>Chain-lock combination (chain with mini u-lock or integrated locking mechanism),Frame lock (aka wheel lock/O-lock/ring lock)</th>\n      <td>0.000000</td>\n      <td>0.000000</td>\n      <td>0.000000</td>\n      <td>2.409639</td>\n      <td>0.000000</td>\n      <td>0.000000</td>\n      <td>0.000000</td>\n      <td>0.0</td>\n      <td>0.000000</td>\n    </tr>\n    <tr>\n      <th>Chain-lock combination (chain with mini u-lock or integrated locking mechanism),Other (please specify):</th>\n      <td>0.406504</td>\n      <td>0.000000</td>\n      <td>0.000000</td>\n      <td>1.204819</td>\n      <td>0.308642</td>\n      <td>0.000000</td>\n      <td>0.000000</td>\n      <td>0.0</td>\n      <td>0.000000</td>\n    </tr>\n    <tr>\n      <th>Chain-lock with padlock</th>\n      <td>5.691057</td>\n      <td>5.325444</td>\n      <td>3.401361</td>\n      <td>3.614458</td>\n      <td>3.703704</td>\n      <td>2.173913</td>\n      <td>0.000000</td>\n      <td>0.0</td>\n      <td>6.250000</td>\n    </tr>\n    <tr>\n      <th>Chain-lock with padlock ,Cable lock</th>\n      <td>0.406504</td>\n      <td>1.183432</td>\n      <td>0.000000</td>\n      <td>0.000000</td>\n      <td>0.617284</td>\n      <td>2.173913</td>\n      <td>0.000000</td>\n      <td>0.0</td>\n      <td>0.000000</td>\n    </tr>\n    <tr>\n      <th>Chain-lock with padlock ,Cable lock ,Other (please specify):</th>\n      <td>0.000000</td>\n      <td>0.591716</td>\n      <td>0.680272</td>\n      <td>0.000000</td>\n      <td>0.000000</td>\n      <td>0.000000</td>\n      <td>0.000000</td>\n      <td>0.0</td>\n      <td>0.000000</td>\n    </tr>\n    <tr>\n      <th>Chain-lock with padlock ,Folding lock</th>\n      <td>0.406504</td>\n      <td>0.000000</td>\n      <td>0.000000</td>\n      <td>0.000000</td>\n      <td>0.000000</td>\n      <td>0.000000</td>\n      <td>0.000000</td>\n      <td>0.0</td>\n      <td>0.000000</td>\n    </tr>\n    <tr>\n      <th>Chain-lock with padlock ,Frame lock (aka wheel lock/O-lock/ring lock)</th>\n      <td>0.000000</td>\n      <td>1.775148</td>\n      <td>0.000000</td>\n      <td>0.000000</td>\n      <td>0.000000</td>\n      <td>0.000000</td>\n      <td>0.000000</td>\n      <td>0.0</td>\n      <td>0.000000</td>\n    </tr>\n    <tr>\n      <th>Chain-lock with padlock ,Locking skewers</th>\n      <td>0.000000</td>\n      <td>0.000000</td>\n      <td>0.000000</td>\n      <td>0.000000</td>\n      <td>0.000000</td>\n      <td>2.173913</td>\n      <td>0.000000</td>\n      <td>0.0</td>\n      <td>0.000000</td>\n    </tr>\n    <tr>\n      <th>Chain-lock with padlock ,Other (please specify):</th>\n      <td>0.000000</td>\n      <td>0.000000</td>\n      <td>0.000000</td>\n      <td>1.204819</td>\n      <td>0.000000</td>\n      <td>0.000000</td>\n      <td>0.000000</td>\n      <td>0.0</td>\n      <td>0.000000</td>\n    </tr>\n    <tr>\n      <th>Don’t know/not sure</th>\n      <td>0.000000</td>\n      <td>0.000000</td>\n      <td>0.680272</td>\n      <td>0.000000</td>\n      <td>0.000000</td>\n      <td>2.173913</td>\n      <td>0.000000</td>\n      <td>0.0</td>\n      <td>2.083333</td>\n    </tr>\n    <tr>\n      <th>Folding lock</th>\n      <td>3.252033</td>\n      <td>2.366864</td>\n      <td>2.040816</td>\n      <td>6.024096</td>\n      <td>1.234568</td>\n      <td>0.000000</td>\n      <td>0.000000</td>\n      <td>0.0</td>\n      <td>0.000000</td>\n    </tr>\n    <tr>\n      <th>Folding lock ,Frame lock (aka wheel lock/O-lock/ring lock)</th>\n      <td>0.406504</td>\n      <td>0.591716</td>\n      <td>0.000000</td>\n      <td>0.000000</td>\n      <td>0.000000</td>\n      <td>0.000000</td>\n      <td>0.000000</td>\n      <td>0.0</td>\n      <td>0.000000</td>\n    </tr>\n    <tr>\n      <th>Folding lock ,Other (please specify):</th>\n      <td>0.000000</td>\n      <td>0.000000</td>\n      <td>0.000000</td>\n      <td>1.204819</td>\n      <td>0.000000</td>\n      <td>0.000000</td>\n      <td>0.000000</td>\n      <td>0.0</td>\n      <td>0.000000</td>\n    </tr>\n    <tr>\n      <th>Folding lock ,Other (please specify):,Don’t know/not sure</th>\n      <td>0.000000</td>\n      <td>0.591716</td>\n      <td>0.000000</td>\n      <td>0.000000</td>\n      <td>0.000000</td>\n      <td>0.000000</td>\n      <td>0.000000</td>\n      <td>0.0</td>\n      <td>0.000000</td>\n    </tr>\n    <tr>\n      <th>Frame lock (aka wheel lock/O-lock/ring lock)</th>\n      <td>0.000000</td>\n      <td>1.775148</td>\n      <td>0.680272</td>\n      <td>0.000000</td>\n      <td>0.617284</td>\n      <td>2.173913</td>\n      <td>0.000000</td>\n      <td>0.0</td>\n      <td>2.083333</td>\n    </tr>\n    <tr>\n      <th>Locking skewers</th>\n      <td>0.000000</td>\n      <td>0.591716</td>\n      <td>0.000000</td>\n      <td>0.000000</td>\n      <td>0.000000</td>\n      <td>0.000000</td>\n      <td>0.000000</td>\n      <td>0.0</td>\n      <td>0.000000</td>\n    </tr>\n    <tr>\n      <th>Locking skewers ,Cable lock</th>\n      <td>0.000000</td>\n      <td>0.000000</td>\n      <td>0.000000</td>\n      <td>3.614458</td>\n      <td>0.000000</td>\n      <td>0.000000</td>\n      <td>0.000000</td>\n      <td>0.0</td>\n      <td>0.000000</td>\n    </tr>\n    <tr>\n      <th>Locking skewers ,Folding lock</th>\n      <td>0.000000</td>\n      <td>0.000000</td>\n      <td>0.000000</td>\n      <td>0.000000</td>\n      <td>0.617284</td>\n      <td>0.000000</td>\n      <td>0.000000</td>\n      <td>0.0</td>\n      <td>0.000000</td>\n    </tr>\n    <tr>\n      <th>Locking skewers ,Other (please specify):</th>\n      <td>0.000000</td>\n      <td>0.000000</td>\n      <td>0.000000</td>\n      <td>1.204819</td>\n      <td>0.000000</td>\n      <td>0.000000</td>\n      <td>0.000000</td>\n      <td>0.0</td>\n      <td>0.000000</td>\n    </tr>\n    <tr>\n      <th>Other (please specify):</th>\n      <td>7.723577</td>\n      <td>10.059172</td>\n      <td>4.081633</td>\n      <td>10.843373</td>\n      <td>2.469136</td>\n      <td>17.391304</td>\n      <td>33.333333</td>\n      <td>100.0</td>\n      <td>4.166667</td>\n    </tr>\n    <tr>\n      <th>Other (please specify):,Don’t know/not sure</th>\n      <td>0.000000</td>\n      <td>0.000000</td>\n      <td>0.000000</td>\n      <td>1.204819</td>\n      <td>0.308642</td>\n      <td>0.000000</td>\n      <td>0.000000</td>\n      <td>0.0</td>\n      <td>0.000000</td>\n    </tr>\n    <tr>\n      <th>Two U-Locks</th>\n      <td>2.032520</td>\n      <td>1.183432</td>\n      <td>0.000000</td>\n      <td>3.614458</td>\n      <td>1.234568</td>\n      <td>0.000000</td>\n      <td>0.000000</td>\n      <td>0.0</td>\n      <td>0.000000</td>\n    </tr>\n    <tr>\n      <th>Two U-Locks ,Cable lock</th>\n      <td>1.219512</td>\n      <td>0.000000</td>\n      <td>0.000000</td>\n      <td>0.000000</td>\n      <td>0.000000</td>\n      <td>0.000000</td>\n      <td>0.000000</td>\n      <td>0.0</td>\n      <td>2.083333</td>\n    </tr>\n    <tr>\n      <th>Two U-Locks ,Cable lock ,Other (please specify):</th>\n      <td>0.000000</td>\n      <td>0.000000</td>\n      <td>0.000000</td>\n      <td>0.000000</td>\n      <td>0.308642</td>\n      <td>0.000000</td>\n      <td>0.000000</td>\n      <td>0.0</td>\n      <td>0.000000</td>\n    </tr>\n    <tr>\n      <th>Two U-Locks ,Chain-lock combination (chain with mini u-lock or integrated locking mechanism)</th>\n      <td>0.000000</td>\n      <td>0.000000</td>\n      <td>0.000000</td>\n      <td>1.204819</td>\n      <td>0.308642</td>\n      <td>0.000000</td>\n      <td>0.000000</td>\n      <td>0.0</td>\n      <td>0.000000</td>\n    </tr>\n    <tr>\n      <th>Two U-Locks ,Chain-lock combination (chain with mini u-lock or integrated locking mechanism),Cable lock</th>\n      <td>0.000000</td>\n      <td>0.000000</td>\n      <td>0.000000</td>\n      <td>1.204819</td>\n      <td>0.000000</td>\n      <td>0.000000</td>\n      <td>0.000000</td>\n      <td>0.0</td>\n      <td>0.000000</td>\n    </tr>\n    <tr>\n      <th>Two U-Locks ,Chain-lock with padlock</th>\n      <td>0.406504</td>\n      <td>0.000000</td>\n      <td>0.000000</td>\n      <td>0.000000</td>\n      <td>0.000000</td>\n      <td>0.000000</td>\n      <td>0.000000</td>\n      <td>0.0</td>\n      <td>0.000000</td>\n    </tr>\n    <tr>\n      <th>Two U-Locks ,Chain-lock with padlock ,Folding lock ,Other (please specify):</th>\n      <td>0.000000</td>\n      <td>0.000000</td>\n      <td>0.000000</td>\n      <td>0.000000</td>\n      <td>0.000000</td>\n      <td>2.173913</td>\n      <td>0.000000</td>\n      <td>0.0</td>\n      <td>0.000000</td>\n    </tr>\n    <tr>\n      <th>Two U-Locks ,Other (please specify):</th>\n      <td>0.000000</td>\n      <td>0.000000</td>\n      <td>0.000000</td>\n      <td>0.000000</td>\n      <td>0.308642</td>\n      <td>0.000000</td>\n      <td>0.000000</td>\n      <td>0.0</td>\n      <td>0.000000</td>\n    </tr>\n    <tr>\n      <th>​U-lock</th>\n      <td>31.300813</td>\n      <td>21.301775</td>\n      <td>27.210884</td>\n      <td>9.638554</td>\n      <td>29.320988</td>\n      <td>10.869565</td>\n      <td>0.000000</td>\n      <td>0.0</td>\n      <td>27.083333</td>\n    </tr>\n    <tr>\n      <th>​U-lock      ,Cable lock</th>\n      <td>3.658537</td>\n      <td>4.733728</td>\n      <td>6.122449</td>\n      <td>3.614458</td>\n      <td>5.246914</td>\n      <td>4.347826</td>\n      <td>0.000000</td>\n      <td>0.0</td>\n      <td>4.166667</td>\n    </tr>\n    <tr>\n      <th>​U-lock      ,Cable lock ,Frame lock (aka wheel lock/O-lock/ring lock)</th>\n      <td>0.000000</td>\n      <td>0.000000</td>\n      <td>0.000000</td>\n      <td>1.204819</td>\n      <td>0.000000</td>\n      <td>0.000000</td>\n      <td>0.000000</td>\n      <td>0.0</td>\n      <td>0.000000</td>\n    </tr>\n    <tr>\n      <th>​U-lock      ,Cable lock ,Other (please specify):</th>\n      <td>0.000000</td>\n      <td>0.591716</td>\n      <td>0.000000</td>\n      <td>1.204819</td>\n      <td>0.000000</td>\n      <td>0.000000</td>\n      <td>0.000000</td>\n      <td>0.0</td>\n      <td>0.000000</td>\n    </tr>\n    <tr>\n      <th>​U-lock      ,Chain-lock combination (chain with mini u-lock or integrated locking mechanism)</th>\n      <td>0.813008</td>\n      <td>2.366864</td>\n      <td>0.000000</td>\n      <td>3.614458</td>\n      <td>1.851852</td>\n      <td>2.173913</td>\n      <td>0.000000</td>\n      <td>0.0</td>\n      <td>2.083333</td>\n    </tr>\n    <tr>\n      <th>​U-lock      ,Chain-lock combination (chain with mini u-lock or integrated locking mechanism),Cable lock ,Folding lock</th>\n      <td>0.406504</td>\n      <td>0.000000</td>\n      <td>0.000000</td>\n      <td>0.000000</td>\n      <td>0.000000</td>\n      <td>0.000000</td>\n      <td>0.000000</td>\n      <td>0.0</td>\n      <td>0.000000</td>\n    </tr>\n    <tr>\n      <th>​U-lock      ,Chain-lock combination (chain with mini u-lock or integrated locking mechanism),Cable lock ,Other (please specify):</th>\n      <td>0.000000</td>\n      <td>0.591716</td>\n      <td>0.000000</td>\n      <td>0.000000</td>\n      <td>0.000000</td>\n      <td>0.000000</td>\n      <td>0.000000</td>\n      <td>0.0</td>\n      <td>0.000000</td>\n    </tr>\n    <tr>\n      <th>​U-lock      ,Chain-lock with padlock</th>\n      <td>0.000000</td>\n      <td>0.591716</td>\n      <td>0.000000</td>\n      <td>0.000000</td>\n      <td>0.925926</td>\n      <td>0.000000</td>\n      <td>0.000000</td>\n      <td>0.0</td>\n      <td>0.000000</td>\n    </tr>\n    <tr>\n      <th>​U-lock      ,Chain-lock with padlock ,Cable lock</th>\n      <td>0.000000</td>\n      <td>0.000000</td>\n      <td>0.000000</td>\n      <td>1.204819</td>\n      <td>0.000000</td>\n      <td>0.000000</td>\n      <td>0.000000</td>\n      <td>0.0</td>\n      <td>0.000000</td>\n    </tr>\n    <tr>\n      <th>​U-lock      ,Don’t know/not sure</th>\n      <td>0.000000</td>\n      <td>0.000000</td>\n      <td>0.000000</td>\n      <td>0.000000</td>\n      <td>0.308642</td>\n      <td>0.000000</td>\n      <td>0.000000</td>\n      <td>0.0</td>\n      <td>0.000000</td>\n    </tr>\n    <tr>\n      <th>​U-lock      ,Folding lock</th>\n      <td>0.406504</td>\n      <td>0.000000</td>\n      <td>0.000000</td>\n      <td>0.000000</td>\n      <td>0.000000</td>\n      <td>0.000000</td>\n      <td>0.000000</td>\n      <td>0.0</td>\n      <td>0.000000</td>\n    </tr>\n    <tr>\n      <th>​U-lock      ,Folding lock ,Other (please specify):</th>\n      <td>0.000000</td>\n      <td>0.000000</td>\n      <td>0.000000</td>\n      <td>1.204819</td>\n      <td>0.000000</td>\n      <td>0.000000</td>\n      <td>0.000000</td>\n      <td>0.0</td>\n      <td>0.000000</td>\n    </tr>\n    <tr>\n      <th>​U-lock      ,Frame lock (aka wheel lock/O-lock/ring lock)</th>\n      <td>0.000000</td>\n      <td>0.591716</td>\n      <td>0.000000</td>\n      <td>0.000000</td>\n      <td>0.000000</td>\n      <td>0.000000</td>\n      <td>0.000000</td>\n      <td>0.0</td>\n      <td>0.000000</td>\n    </tr>\n    <tr>\n      <th>​U-lock      ,Locking skewers</th>\n      <td>2.032520</td>\n      <td>1.183432</td>\n      <td>0.000000</td>\n      <td>0.000000</td>\n      <td>1.234568</td>\n      <td>0.000000</td>\n      <td>0.000000</td>\n      <td>0.0</td>\n      <td>0.000000</td>\n    </tr>\n    <tr>\n      <th>​U-lock      ,Other (please specify):</th>\n      <td>0.406504</td>\n      <td>1.183432</td>\n      <td>0.000000</td>\n      <td>1.204819</td>\n      <td>1.234568</td>\n      <td>0.000000</td>\n      <td>0.000000</td>\n      <td>0.0</td>\n      <td>0.000000</td>\n    </tr>\n    <tr>\n      <th>​U-lock      ,Two U-Locks ,Chain-lock combination (chain with mini u-lock or integrated locking mechanism),Chain-lock with padlock</th>\n      <td>0.000000</td>\n      <td>0.591716</td>\n      <td>0.000000</td>\n      <td>0.000000</td>\n      <td>0.000000</td>\n      <td>0.000000</td>\n      <td>0.000000</td>\n      <td>0.0</td>\n      <td>0.000000</td>\n    </tr>\n    <tr>\n      <th>​U-lock      ,Two U-Locks ,Chain-lock with padlock</th>\n      <td>0.000000</td>\n      <td>0.000000</td>\n      <td>0.680272</td>\n      <td>0.000000</td>\n      <td>0.000000</td>\n      <td>0.000000</td>\n      <td>0.000000</td>\n      <td>0.0</td>\n      <td>0.000000</td>\n    </tr>\n  </tbody>\n</table>\n</div>"
     },
     "execution_count": 39,
     "metadata": {},
     "output_type": "execute_result"
    }
   ],
   "source": [
    "# Value and lock type\n",
    "\n",
    "\n",
    "var_1 = {'q':'Q8','var':'locked_type','group':[\"Other (please specify):\"],'group2': 'other'}\n",
    "var_0 = {'q':'Q13','var':'value_approx','group':['$7000 or more '],'group2': 'Other'}\n",
    "\n",
    "only_rel= data[[var_0['q'],var_1['q']]].dropna()\n",
    "pd.crosstab(only_rel[var_1['q']],only_rel[var_0['q']],normalize='columns')*100\n",
    "clean_tables_0 = only_rel[only_rel[var_1['q']].isin(['Cable lock ', '​U-lock      ','Other (please specify):'])]\n",
    "clean_tables = clean_tables_0[~only_rel[var_0['q']].isin(['I prefer to not answer', 'Don’t know/not sure '])]\n",
    "calculate_chi_cross_tab(clean_tables,var_1,var_0)"
   ],
   "metadata": {
    "collapsed": false,
    "pycharm": {
     "name": "#%%\n"
    }
   }
  },
  {
   "cell_type": "code",
   "execution_count": 33,
   "outputs": [
    {
     "name": "stdout",
     "output_type": "stream",
     "text": [
      "Chi-square statistic: 4.01\n",
      "P-value: 0.04530\n",
      "value_approx                                        Less than $250       Other\n",
      "part                                                                          \n",
      "A major bicycle part necessary for riding (i.e....         7.894737   1.044689\n",
      "other                                                     92.105263  98.955311\n"
     ]
    }
   ],
   "source": [
    "# Value and part\n",
    "# age and is_university\n",
    "\n",
    "var_0 = {'q':'Q2','var':'part','group':[\"A major bicycle part necessary for riding (i.e., saddle, wheel, pedal, or handlebar)\"],'group2': 'other'}\n",
    "var_1 = {'q':'Q13','var':'value_approx','group':['Less than $250 '],'group2': 'Other'}\n",
    "only_rel= data[[var_0['q'],var_1['q']]].dropna()\n",
    "clean_tables = only_rel[~only_rel[var_1['q']].isin(['I prefer to not answer', 'Don’t know/not sure '])]\n",
    "\n",
    "calculate_chi_cross_tab(clean_tables,var_0,var_1)"
   ],
   "metadata": {
    "collapsed": false,
    "pycharm": {
     "name": "#%%\n"
    }
   }
  },
  {
   "cell_type": "code",
   "execution_count": 22,
   "outputs": [
    {
     "name": "stdout",
     "output_type": "stream",
     "text": [
      "Chi-square statistic: 2.08\n",
      "P-value: 0.14961\n",
      "gender           Man      Woman\n",
      "where_rep                      \n",
      "many       34.512428  45.495495\n",
      "other      65.487572  54.504505\n"
     ]
    }
   ],
   "source": [
    "# Gender and where to report\n",
    "# age and is_university\n",
    "num_to_report = 'num_to_report'\n",
    "var_0 = {'q':'Q11','var':'where_rep','group':[2,3],'group2': 'other'}\n",
    "var_1 = {'q':'Q35','var':'gender','group':['Man'],'group2': 'Woman'}\n",
    "\n",
    "only_rel= data[[var_0['q'],var_1['q']]].dropna()\n",
    "# Remove all the text inside the parenthesis and count the number of channels\n",
    "only_rel[num_to_report] = only_rel[var_0['q']].str.replace(r\"\\(.*?\\)\",\"\").str.count(',')\n",
    "var_0['q'] = num_to_report\n",
    "calculate_chi_cross_tab(only_rel,var_0,var_1,text_to_update=\"many\")\n",
    "\n",
    "# For test\n",
    "# for group in only_rel.groupby('num_to_report'):\n",
    "#     print(f'{group[0]}:{group[1][\"Q11\"].unique()}')"
   ],
   "metadata": {
    "collapsed": false,
    "pycharm": {
     "name": "#%%\n"
    }
   }
  },
  {
   "cell_type": "code",
   "execution_count": 26,
   "outputs": [
    {
     "data": {
      "text/plain": "Q13                                                 $1000-$1999   \\\nQ11                                                                \nA bicycle registry/recovery system (e.g., Bike ...      2.552204   \nA bicycle registry/recovery system (e.g., Bike ...      0.232019   \nA bicycle registry/recovery system (e.g., Bike ...      1.160093   \nA bicycle registry/recovery system (e.g., Bike ...      0.000000   \nI did not report the theft                              1.160093   \nOther (please specify):                                 1.160093   \nSocial media (e.g. Instagram, Twitter)                  0.232019   \nThe police                                             14.385151   \nThe police ,A bicycle registry/recovery system ...     31.786543   \nThe police ,A bicycle registry/recovery system ...      1.392111   \nThe police ,A bicycle registry/recovery system ...     39.907193   \nThe police ,A bicycle registry/recovery system ...      1.856148   \nThe police ,Other (please specify):                     0.696056   \nThe police ,Social media (e.g. Instagram, Twitter)      3.248260   \nThe police ,Social media (e.g. Instagram, Twitt...      0.232019   \n\nQ13                                                 $2000-3999        \\\nQ11                                                                    \nA bicycle registry/recovery system (e.g., Bike ...          1.342282   \nA bicycle registry/recovery system (e.g., Bike ...          0.671141   \nA bicycle registry/recovery system (e.g., Bike ...          0.671141   \nA bicycle registry/recovery system (e.g., Bike ...          0.000000   \nI did not report the theft                                  0.000000   \nOther (please specify):                                     0.000000   \nSocial media (e.g. Instagram, Twitter)                      0.000000   \nThe police                                                 17.785235   \nThe police ,A bicycle registry/recovery system ...         30.201342   \nThe police ,A bicycle registry/recovery system ...          1.342282   \nThe police ,A bicycle registry/recovery system ...         37.583893   \nThe police ,A bicycle registry/recovery system ...          5.704698   \nThe police ,Other (please specify):                         2.013423   \nThe police ,Social media (e.g. Instagram, Twitter)          2.013423   \nThe police ,Social media (e.g. Instagram, Twitt...          0.671141   \n\nQ13                                                 $250-$499   \\\nQ11                                                              \nA bicycle registry/recovery system (e.g., Bike ...    9.016393   \nA bicycle registry/recovery system (e.g., Bike ...    0.409836   \nA bicycle registry/recovery system (e.g., Bike ...    4.098361   \nA bicycle registry/recovery system (e.g., Bike ...    0.000000   \nI did not report the theft                            7.786885   \nOther (please specify):                               2.049180   \nSocial media (e.g. Instagram, Twitter)                2.459016   \nThe police                                           17.213115   \nThe police ,A bicycle registry/recovery system ...   33.196721   \nThe police ,A bicycle registry/recovery system ...    0.409836   \nThe police ,A bicycle registry/recovery system ...   19.262295   \nThe police ,A bicycle registry/recovery system ...    2.049180   \nThe police ,Other (please specify):                   0.819672   \nThe police ,Social media (e.g. Instagram, Twitter)    1.229508   \nThe police ,Social media (e.g. Instagram, Twitt...    0.000000   \n\nQ13                                                 $4000-6999         \\\nQ11                                                                     \nA bicycle registry/recovery system (e.g., Bike ...           0.680272   \nA bicycle registry/recovery system (e.g., Bike ...           0.000000   \nA bicycle registry/recovery system (e.g., Bike ...           0.680272   \nA bicycle registry/recovery system (e.g., Bike ...           0.000000   \nI did not report the theft                                   0.680272   \nOther (please specify):                                      0.000000   \nSocial media (e.g. Instagram, Twitter)                       0.000000   \nThe police                                                  14.965986   \nThe police ,A bicycle registry/recovery system ...          21.768707   \nThe police ,A bicycle registry/recovery system ...           1.360544   \nThe police ,A bicycle registry/recovery system ...          48.979592   \nThe police ,A bicycle registry/recovery system ...           2.040816   \nThe police ,Other (please specify):                          1.360544   \nThe police ,Social media (e.g. Instagram, Twitter)           7.482993   \nThe police ,Social media (e.g. Instagram, Twitt...           0.000000   \n\nQ13                                                 $500-$999   \\\nQ11                                                              \nA bicycle registry/recovery system (e.g., Bike ...    9.615385   \nA bicycle registry/recovery system (e.g., Bike ...    0.192308   \nA bicycle registry/recovery system (e.g., Bike ...    2.500000   \nA bicycle registry/recovery system (e.g., Bike ...    0.000000   \nI did not report the theft                            3.653846   \nOther (please specify):                               0.769231   \nSocial media (e.g. Instagram, Twitter)                0.192308   \nThe police                                           16.538462   \nThe police ,A bicycle registry/recovery system ...   30.384615   \nThe police ,A bicycle registry/recovery system ...    1.153846   \nThe police ,A bicycle registry/recovery system ...   31.153846   \nThe police ,A bicycle registry/recovery system ...    0.769231   \nThe police ,Other (please specify):                   0.192308   \nThe police ,Social media (e.g. Instagram, Twitter)    2.307692   \nThe police ,Social media (e.g. Instagram, Twitt...    0.576923   \n\nQ13                                                 $7000 or more   \\\nQ11                                                                  \nA bicycle registry/recovery system (e.g., Bike ...        0.000000   \nA bicycle registry/recovery system (e.g., Bike ...        0.000000   \nA bicycle registry/recovery system (e.g., Bike ...        2.105263   \nA bicycle registry/recovery system (e.g., Bike ...        0.000000   \nI did not report the theft                                1.052632   \nOther (please specify):                                   0.000000   \nSocial media (e.g. Instagram, Twitter)                    0.000000   \nThe police                                               21.052632   \nThe police ,A bicycle registry/recovery system ...       20.000000   \nThe police ,A bicycle registry/recovery system ...        1.052632   \nThe police ,A bicycle registry/recovery system ...       44.210526   \nThe police ,A bicycle registry/recovery system ...        5.263158   \nThe police ,Other (please specify):                       1.052632   \nThe police ,Social media (e.g. Instagram, Twitter)        4.210526   \nThe police ,Social media (e.g. Instagram, Twitt...        0.000000   \n\nQ13                                                 Don’t know/not sure   \\\nQ11                                                                        \nA bicycle registry/recovery system (e.g., Bike ...                   0.0   \nA bicycle registry/recovery system (e.g., Bike ...                   0.0   \nA bicycle registry/recovery system (e.g., Bike ...                   0.0   \nA bicycle registry/recovery system (e.g., Bike ...                   0.0   \nI did not report the theft                                           0.0   \nOther (please specify):                                              0.0   \nSocial media (e.g. Instagram, Twitter)                               0.0   \nThe police                                                          20.0   \nThe police ,A bicycle registry/recovery system ...                  40.0   \nThe police ,A bicycle registry/recovery system ...                   0.0   \nThe police ,A bicycle registry/recovery system ...                  20.0   \nThe police ,A bicycle registry/recovery system ...                  20.0   \nThe police ,Other (please specify):                                  0.0   \nThe police ,Social media (e.g. Instagram, Twitter)                   0.0   \nThe police ,Social media (e.g. Instagram, Twitt...                   0.0   \n\nQ13                                                 I prefer to not answer  \\\nQ11                                                                          \nA bicycle registry/recovery system (e.g., Bike ...                     0.0   \nA bicycle registry/recovery system (e.g., Bike ...                     0.0   \nA bicycle registry/recovery system (e.g., Bike ...                     0.0   \nA bicycle registry/recovery system (e.g., Bike ...                     0.0   \nI did not report the theft                                             0.0   \nOther (please specify):                                                0.0   \nSocial media (e.g. Instagram, Twitter)                                 0.0   \nThe police                                                            50.0   \nThe police ,A bicycle registry/recovery system ...                     0.0   \nThe police ,A bicycle registry/recovery system ...                     0.0   \nThe police ,A bicycle registry/recovery system ...                    50.0   \nThe police ,A bicycle registry/recovery system ...                     0.0   \nThe police ,Other (please specify):                                    0.0   \nThe police ,Social media (e.g. Instagram, Twitter)                     0.0   \nThe police ,Social media (e.g. Instagram, Twitt...                     0.0   \n\nQ13                                                 Less than $250   \nQ11                                                                  \nA bicycle registry/recovery system (e.g., Bike ...        11.688312  \nA bicycle registry/recovery system (e.g., Bike ...         0.000000  \nA bicycle registry/recovery system (e.g., Bike ...         5.194805  \nA bicycle registry/recovery system (e.g., Bike ...         1.298701  \nI did not report the theft                                19.480519  \nOther (please specify):                                    2.597403  \nSocial media (e.g. Instagram, Twitter)                     2.597403  \nThe police                                                24.675325  \nThe police ,A bicycle registry/recovery system ...        18.181818  \nThe police ,A bicycle registry/recovery system ...         1.298701  \nThe police ,A bicycle registry/recovery system ...        12.987013  \nThe police ,A bicycle registry/recovery system ...         0.000000  \nThe police ,Other (please specify):                        0.000000  \nThe police ,Social media (e.g. Instagram, Twitter)         0.000000  \nThe police ,Social media (e.g. Instagram, Twitt...         0.000000  ",
      "text/html": "<div>\n<style scoped>\n    .dataframe tbody tr th:only-of-type {\n        vertical-align: middle;\n    }\n\n    .dataframe tbody tr th {\n        vertical-align: top;\n    }\n\n    .dataframe thead th {\n        text-align: right;\n    }\n</style>\n<table border=\"1\" class=\"dataframe\">\n  <thead>\n    <tr style=\"text-align: right;\">\n      <th>Q13</th>\n      <th>$1000-$1999</th>\n      <th>$2000-3999</th>\n      <th>$250-$499</th>\n      <th>$4000-6999</th>\n      <th>$500-$999</th>\n      <th>$7000 or more</th>\n      <th>Don’t know/not sure</th>\n      <th>I prefer to not answer</th>\n      <th>Less than $250</th>\n    </tr>\n    <tr>\n      <th>Q11</th>\n      <th></th>\n      <th></th>\n      <th></th>\n      <th></th>\n      <th></th>\n      <th></th>\n      <th></th>\n      <th></th>\n      <th></th>\n    </tr>\n  </thead>\n  <tbody>\n    <tr>\n      <th>A bicycle registry/recovery system (e.g., Bike Index, a university registration program)</th>\n      <td>2.552204</td>\n      <td>1.342282</td>\n      <td>9.016393</td>\n      <td>0.680272</td>\n      <td>9.615385</td>\n      <td>0.000000</td>\n      <td>0.0</td>\n      <td>0.0</td>\n      <td>11.688312</td>\n    </tr>\n    <tr>\n      <th>A bicycle registry/recovery system (e.g., Bike Index, a university registration program),Other (please specify):</th>\n      <td>0.232019</td>\n      <td>0.671141</td>\n      <td>0.409836</td>\n      <td>0.000000</td>\n      <td>0.192308</td>\n      <td>0.000000</td>\n      <td>0.0</td>\n      <td>0.0</td>\n      <td>0.000000</td>\n    </tr>\n    <tr>\n      <th>A bicycle registry/recovery system (e.g., Bike Index, a university registration program),Social media (e.g. Instagram, Twitter)</th>\n      <td>1.160093</td>\n      <td>0.671141</td>\n      <td>4.098361</td>\n      <td>0.680272</td>\n      <td>2.500000</td>\n      <td>2.105263</td>\n      <td>0.0</td>\n      <td>0.0</td>\n      <td>5.194805</td>\n    </tr>\n    <tr>\n      <th>A bicycle registry/recovery system (e.g., Bike Index, a university registration program),Social media (e.g. Instagram, Twitter),Other (please specify):</th>\n      <td>0.000000</td>\n      <td>0.000000</td>\n      <td>0.000000</td>\n      <td>0.000000</td>\n      <td>0.000000</td>\n      <td>0.000000</td>\n      <td>0.0</td>\n      <td>0.0</td>\n      <td>1.298701</td>\n    </tr>\n    <tr>\n      <th>I did not report the theft</th>\n      <td>1.160093</td>\n      <td>0.000000</td>\n      <td>7.786885</td>\n      <td>0.680272</td>\n      <td>3.653846</td>\n      <td>1.052632</td>\n      <td>0.0</td>\n      <td>0.0</td>\n      <td>19.480519</td>\n    </tr>\n    <tr>\n      <th>Other (please specify):</th>\n      <td>1.160093</td>\n      <td>0.000000</td>\n      <td>2.049180</td>\n      <td>0.000000</td>\n      <td>0.769231</td>\n      <td>0.000000</td>\n      <td>0.0</td>\n      <td>0.0</td>\n      <td>2.597403</td>\n    </tr>\n    <tr>\n      <th>Social media (e.g. Instagram, Twitter)</th>\n      <td>0.232019</td>\n      <td>0.000000</td>\n      <td>2.459016</td>\n      <td>0.000000</td>\n      <td>0.192308</td>\n      <td>0.000000</td>\n      <td>0.0</td>\n      <td>0.0</td>\n      <td>2.597403</td>\n    </tr>\n    <tr>\n      <th>The police</th>\n      <td>14.385151</td>\n      <td>17.785235</td>\n      <td>17.213115</td>\n      <td>14.965986</td>\n      <td>16.538462</td>\n      <td>21.052632</td>\n      <td>20.0</td>\n      <td>50.0</td>\n      <td>24.675325</td>\n    </tr>\n    <tr>\n      <th>The police ,A bicycle registry/recovery system (e.g., Bike Index, a university registration program)</th>\n      <td>31.786543</td>\n      <td>30.201342</td>\n      <td>33.196721</td>\n      <td>21.768707</td>\n      <td>30.384615</td>\n      <td>20.000000</td>\n      <td>40.0</td>\n      <td>0.0</td>\n      <td>18.181818</td>\n    </tr>\n    <tr>\n      <th>The police ,A bicycle registry/recovery system (e.g., Bike Index, a university registration program),Other (please specify):</th>\n      <td>1.392111</td>\n      <td>1.342282</td>\n      <td>0.409836</td>\n      <td>1.360544</td>\n      <td>1.153846</td>\n      <td>1.052632</td>\n      <td>0.0</td>\n      <td>0.0</td>\n      <td>1.298701</td>\n    </tr>\n    <tr>\n      <th>The police ,A bicycle registry/recovery system (e.g., Bike Index, a university registration program),Social media (e.g. Instagram, Twitter)</th>\n      <td>39.907193</td>\n      <td>37.583893</td>\n      <td>19.262295</td>\n      <td>48.979592</td>\n      <td>31.153846</td>\n      <td>44.210526</td>\n      <td>20.0</td>\n      <td>50.0</td>\n      <td>12.987013</td>\n    </tr>\n    <tr>\n      <th>The police ,A bicycle registry/recovery system (e.g., Bike Index, a university registration program),Social media (e.g. Instagram, Twitter),Other (please specify):</th>\n      <td>1.856148</td>\n      <td>5.704698</td>\n      <td>2.049180</td>\n      <td>2.040816</td>\n      <td>0.769231</td>\n      <td>5.263158</td>\n      <td>20.0</td>\n      <td>0.0</td>\n      <td>0.000000</td>\n    </tr>\n    <tr>\n      <th>The police ,Other (please specify):</th>\n      <td>0.696056</td>\n      <td>2.013423</td>\n      <td>0.819672</td>\n      <td>1.360544</td>\n      <td>0.192308</td>\n      <td>1.052632</td>\n      <td>0.0</td>\n      <td>0.0</td>\n      <td>0.000000</td>\n    </tr>\n    <tr>\n      <th>The police ,Social media (e.g. Instagram, Twitter)</th>\n      <td>3.248260</td>\n      <td>2.013423</td>\n      <td>1.229508</td>\n      <td>7.482993</td>\n      <td>2.307692</td>\n      <td>4.210526</td>\n      <td>0.0</td>\n      <td>0.0</td>\n      <td>0.000000</td>\n    </tr>\n    <tr>\n      <th>The police ,Social media (e.g. Instagram, Twitter),Other (please specify):</th>\n      <td>0.232019</td>\n      <td>0.671141</td>\n      <td>0.000000</td>\n      <td>0.000000</td>\n      <td>0.576923</td>\n      <td>0.000000</td>\n      <td>0.0</td>\n      <td>0.0</td>\n      <td>0.000000</td>\n    </tr>\n  </tbody>\n</table>\n</div>"
     },
     "execution_count": 26,
     "metadata": {},
     "output_type": "execute_result"
    }
   ],
   "source": [
    "# Value approx and where to report\n",
    "var_0 = {'q':'Q13'}\n",
    "var_1 = {'q':'Q11'}\n",
    "only_rel= data[[var_0['q'],var_1['q']]].dropna()\n",
    "pd.crosstab(only_rel[var_1['q']],only_rel[var_0['q']],normalize='columns')*100"
   ],
   "metadata": {
    "collapsed": false,
    "pycharm": {
     "name": "#%%\n"
    }
   }
  },
  {
   "cell_type": "code",
   "execution_count": 87,
   "outputs": [
    {
     "name": "stdout",
     "output_type": "stream",
     "text": [
      "Chi-square statistic: 56.87\n",
      "P-value: 0.00000\n",
      "birth_year     1990s     2000s      other\n",
      "near_univ                                \n",
      "No          78.39196  45.56962  92.151899\n",
      "Yes         21.60804  54.43038   7.848101\n"
     ]
    }
   ],
   "source": [
    "# age and is_university\n",
    "var_0 = {'q':'Q17','var':'near_univ','group':['Yes'],'group2': 'No'}\n",
    "var_1 = {'q':'Q34_0','var':'birth_year','group':['2000s','1990s'],'group2': 'other'}\n",
    "only_rel= data[[var_0['q'],var_1['q']]].dropna()\n",
    "clean_tables = only_rel[~only_rel[var_1['q']].isin(['1930s','2010s'])]\n",
    "calculate_chi_cross_tab(clean_tables,var_0,var_1)"
   ],
   "metadata": {
    "collapsed": false,
    "pycharm": {
     "name": "#%%\n"
    }
   }
  },
  {
   "cell_type": "code",
   "execution_count": 88,
   "outputs": [
    {
     "name": "stdout",
     "output_type": "stream",
     "text": [
      "Chi-square statistic: 26.82\n",
      "P-value: 0.00000\n",
      "birth_year              2000s      other\n",
      "location                                \n",
      "Outdoor bike rack   51.898734  16.192283\n",
      "other               48.101266  83.807717\n"
     ]
    }
   ],
   "source": [
    "# age and theft location\n",
    "var_0 = {'q':'Q9','var':'location','group':['Outdoor bike rack '],'group2': 'other'}\n",
    "var_1 = {'q':'Q34_0','var':'birth_year','group':['2000s'],'group2': 'other'}\n",
    "only_rel= data[[var_0['q'],var_1['q']]].dropna()\n",
    "clean_tables = only_rel[~only_rel[var_1['q']].isin(['1930s','2010s'])]\n",
    "calculate_chi_cross_tab(clean_tables,var_0,var_1)"
   ],
   "metadata": {
    "collapsed": false,
    "pycharm": {
     "name": "#%%\n"
    }
   }
  },
  {
   "cell_type": "code",
   "execution_count": null,
   "outputs": [],
   "source": [
    "# #\n",
    "# def calculate_chi_cross_tab(two_var_tables,var1,var2,text_to_update = False):\n",
    "#     r\"\"\"\n",
    "#     This function creates new groups based on the data in @vars, cross tab them and calculate Chi-square\n",
    "#     :return:\n",
    "#     \"\"\"\n",
    "#     if not text_to_update:\n",
    "#         two_var_tables[[var1['var'],var2['var']]] = two_var_tables.apply(lambda x: (x[var1['q']] if x[var1['q']] in var1['group'] else var1['group2'],x[var2['q']] if x[var2['q']] in var2['group'] else var2['group2']),axis=1,result_type='expand')\n",
    "#     else:\n",
    "#         two_var_tables[[var1['var'],var2['var']]] = two_var_tables.apply(lambda x: (text_to_update if x[var1['q']] in var1['group'] else var1['group2'],x[var2['q']] if x[var2['q']] in var2['group'] else var2['group2']),axis=1,result_type='expand')\n",
    "#     cont_table = pd.crosstab(two_var_tables[var1['var']], two_var_tables[var2['var']],normalize='columns')*100\n",
    "#\n",
    "#     # perform chi-square test of independence\n",
    "#     chi2, p, dof, expected = chi2_contingency(cont_table)\n",
    "#\n",
    "#     # print the test results\n",
    "#     print(f\"Chi-square statistic: {chi2:.2f}\")\n",
    "#     print(f\"P-value: {p:.5f}\")\n",
    "#     print(cont_table)"
   ],
   "metadata": {
    "collapsed": false,
    "pycharm": {
     "name": "#%%\n"
    }
   }
  }
 ],
 "metadata": {
  "kernelspec": {
   "display_name": "Python 3",
   "language": "python",
   "name": "python3"
  },
  "language_info": {
   "codemirror_mode": {
    "name": "ipython",
    "version": 2
   },
   "file_extension": ".py",
   "mimetype": "text/x-python",
   "name": "python",
   "nbconvert_exporter": "python",
   "pygments_lexer": "ipython2",
   "version": "2.7.6"
  }
 },
 "nbformat": 4,
 "nbformat_minor": 0
}