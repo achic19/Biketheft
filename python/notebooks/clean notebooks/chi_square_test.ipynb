{
 "cells": [
  {
   "cell_type": "code",
   "execution_count": 86,
   "outputs": [],
   "source": [
    "\n",
    "import calendar\n",
    "from scipy.stats import chi2_contingency\n",
    "months = list(map(lambda x: x.lower(), calendar.month_name))[1:]\n",
    "import pandas as pd\n",
    "import statsmodels.api as sm\n",
    "from pandas import DataFrame\n",
    "\n",
    "import matplotlib.pyplot as plt\n",
    "from IPython.core.interactiveshell import InteractiveShell\n",
    "\n",
    "InteractiveShell.ast_node_interactivity = 'all'\n",
    "\n",
    "import matplotlib.pylab as pylab\n",
    "\n",
    "params = {'legend.fontsize': 'x-large',\n",
    "          'figure.figsize': (15, 10),\n",
    "          'axes.labelsize': 'x-large',\n",
    "          'axes.titlesize': 'x-large',\n",
    "          'xtick.labelsize': 'x-large',\n",
    "          'ytick.labelsize': 'x-large'}\n",
    "pylab.rcParams.update(params)\n",
    "\n",
    "import os\n",
    "\n",
    "project_folder = f'{os.path.dirname(os.path.dirname(os.path.dirname(os.getcwd())))}/data/process'\n",
    "import warnings\n",
    "\n",
    "warnings.filterwarnings(action='ignore')\n",
    "from IPython.display import display\n",
    "from IPython.display import Markdown\n",
    "from IPython.display import display_html\n",
    "\n",
    "\n",
    "questions ={'Q2':'part','Q6':'day_time','Q7':'is_locked','Q8':'locked_type','Q9':'theft_loc','Q10':'is_registered','Q11':'where_rep','Q12':'is_insured','Q13':'value_approx','Q14':'is_electric','Q15':'bicycle_type','Q17':'is_univ','Q18':'is_recover','Q19':'is_online','Q20':'how_recover','Q21':'is_police','Q23':'recovery_loc','Q24':'rec_cond','Q25':'is_replaced', 'Q26_new':'days_to_bikes', 'Q28':'seasons', 'Q29':'purpose', 'Q30':'mode_alt', 'Q31':'post_act','Q32':'why_less','age_groups': 'age', 'Q35': 'gender', 'Q36': 'income','Q37':'numb_bikes ', 'Q38': 'education', 'Q39': 'ethnic_origin','country':'country','city':'city'}"
   ],
   "metadata": {
    "collapsed": false,
    "pycharm": {
     "name": "#%%\n"
    }
   }
  },
  {
   "cell_type": "code",
   "execution_count": 87,
   "outputs": [
    {
     "data": {
      "text/plain": "Index(['Unnamed: 0.3', 'index', 'Q26', 'level_0', 'Unnamed: 0.2',\n       'Unnamed: 0.1', 'Unnamed: 0', 'StartDate', 'EndDate', 'Status',\n       'IPAddress', 'Progress', 'Duration (in seconds)', 'Finished',\n       'RecordedDate', 'ResponseId', 'RecipientLastName', 'RecipientFirstName',\n       'RecipientEmail', 'ExternalReference', 'LocationLatitude',\n       'LocationLongitude', 'DistributionChannel', 'UserLanguage',\n       'Introduction', 'Q1', 'Q2', 'Q3', 'Q3_6_TEXT', 'Q4', 'Q5', 'Q6', 'Q7',\n       'Q8', 'Q8_9_TEXT', 'Q9', 'Q9_11_TEXT', 'Q10', 'Q11', 'Q11_4_TEXT',\n       'Q12', 'Q13', 'Q14', 'Q15', 'Q16', 'Q16_1_TEXT', 'Q17', 'Q18', 'Q19',\n       'Q19_6_TEXT', 'Q20', 'Q20_4_TEXT', 'Q21', 'Q22', 'Q22_1_TEXT', 'Q23',\n       'Q23_15_TEXT', 'Q24', 'Q25', 'Q27', 'Q28_1', 'Q28_2', 'Q28_3', 'Q28_4',\n       'Q29', 'Q30', 'Q31', 'Q32', 'Q32_10_TEXT', 'Q33', 'Q33_9_TEXT', 'Q34',\n       'Q35', 'Q36', 'Q37', 'Q38', 'Q39', 'Q39_10_TEXT', 'Q40', 'Q40_3_TEXT',\n       'lat', 'lon', 'score', 'stolen_bikes_place', 'country', 'city', 'state',\n       'num_of_days', 'Q26_new', 'Q28', 'Q34_0', 'age', 'age_groups'],\n      dtype='object')"
     },
     "execution_count": 87,
     "metadata": {},
     "output_type": "execute_result"
    }
   ],
   "source": [
    "\n",
    "data = pd.read_csv(f'{project_folder}/new_data/new_data_2.csv')\n",
    "data.columns"
   ],
   "metadata": {
    "collapsed": false,
    "pycharm": {
     "name": "#%%\n"
    }
   }
  },
  {
   "cell_type": "code",
   "execution_count": 88,
   "outputs": [],
   "source": [
    "#\n",
    "def calculate_chi_cross_tab(two_var_tables,var1,var2):\n",
    "    r\"\"\"\n",
    "    This function creates new groups based on the data in @vars, cross tab them and calculate Chi-square\n",
    "    :return:\n",
    "    \"\"\"\n",
    "\n",
    "    two_var_tables[[var1['var'],var2['var']]] = two_var_tables.apply(lambda x: (x[var1['q']] if x[var1['q']] in var1['group'] else var1['group2'],x[var2['q']] if x[var2['q']] in var2['group'] else var2['group2']),axis=1,result_type='expand')\n",
    "\n",
    "    cont_table = pd.crosstab(two_var_tables[var1['var']], two_var_tables[var2['var']],normalize='columns')*100\n",
    "\n",
    "    # perform chi-square test of independence\n",
    "    chi2, p, dof, expected = chi2_contingency(cont_table)\n",
    "\n",
    "    # print the test results\n",
    "    print(f\"Chi-square statistic: {chi2:.2f}\")\n",
    "    print(f\"P-value: {p:.5f}\")\n",
    "    print(cont_table)"
   ],
   "metadata": {
    "collapsed": false,
    "pycharm": {
     "name": "#%%\n"
    }
   }
  },
  {
   "cell_type": "code",
   "execution_count": 113,
   "outputs": [],
   "source": [
    "def prep_for_chi(only_rel_f):\n",
    "    r\"\"\"\n",
    "    this function store and set the data so only the relevant data will be used to calculate chi -square\n",
    "    :param only_rel_f:\n",
    "    :return:\n",
    "    \"\"\"\n",
    "    # working only with information stored in list in @rel_data for a specific col\n",
    "    if rel_data[1]:\n",
    "        only_rel_f= only_rel_f[only_rel_f[rel_data[0][0]].isin(rel_data[1])] if rel_data[0][1] else only_rel_f[~only_rel_f[rel_data[0][0]].isin(rel_data[1])]\n",
    "    if rel_data[3]:\n",
    "        only_rel_f= only_rel_f[only_rel_f[rel_data[2][0]].isin(rel_data[3])] if rel_data[2][1] else only_rel_f[~only_rel_f[rel_data[2][0]].isin(rel_data[3])]\n",
    "\n",
    "    calculate_chi_cross_tab(only_rel_f,var0,var1)"
   ],
   "metadata": {
    "collapsed": false,
    "pycharm": {
     "name": "#%%\n"
    }
   }
  },
  {
   "cell_type": "code",
   "execution_count": 125,
   "outputs": [],
   "source": [
    "def explore_date(is_count_f,cross_tab= False):\n",
    "    r\"\"\"\n",
    "    Clean the data and print cross_tab if it is required\n",
    "    :param is_count_f:\n",
    "    :param cross_tab:\n",
    "    :return:\n",
    "    \"\"\"\n",
    "    only_rel_f= data[cols_name].dropna()\n",
    "    for q_temp in cols_name:\n",
    "        if q_temp in is_count_f:\n",
    "            only_rel_f[q_temp]= only_rel_f[q_temp].str.replace(r\"\\(.*?\\)\", \"\").str.replace(\":\", \"\").str.strip().str.count(',')\n",
    "        else:\n",
    "            only_rel_f[q_temp]= only_rel_f[q_temp].str.replace(r\"\\(.*?\\)\", \"\").str.replace(\":\", \"\").str.strip()\n",
    "        print(only_rel_f[q_temp].value_counts())\n",
    "    if cross_tab:\n",
    "        print(pd.crosstab(only_rel_f[cols_name[0]], only_rel_f[cols_name[1]],normalize='columns')*100)\n",
    "    return only_rel_f"
   ],
   "metadata": {
    "collapsed": false,
    "pycharm": {
     "name": "#%%\n"
    }
   }
  },
  {
   "cell_type": "code",
   "execution_count": 134,
   "outputs": [
    {
     "name": "stdout",
     "output_type": "stream",
     "text": [
      "Rideable– bicycle was safe to operate and immediately usable                       63\n",
      "Repairable– bicycle was damaged and repairs were required before being rideable    45\n",
      "Salvage/junk– bicycle was not rideable or repairable                                8\n",
      "Don’t know/not sure                                                                 3\n",
      "Name: Q24, dtype: int64\n",
      "Mountain                   43\n",
      "Hybrid/City/Dutch          30\n",
      "Road                       22\n",
      "Gravel/cyclocross           7\n",
      "Delivery/Cargo              7\n",
      "Cruiser                     4\n",
      "Folding                     2\n",
      "Recumbent                   1\n",
      "BMX                         1\n",
      "Tricycle or quadricycle     1\n",
      "Fixed gear                  1\n",
      "Name: Q15, dtype: int64\n",
      "Q15                                                   BMX  Cruiser  \\\n",
      "Q24                                                                  \n",
      "Don’t know/not sure                                   0.0      0.0   \n",
      "Repairable– bicycle was damaged and repairs wer...    0.0     75.0   \n",
      "Rideable– bicycle was safe to operate and immed...  100.0     25.0   \n",
      "Salvage/junk– bicycle was not rideable or repai...    0.0      0.0   \n",
      "\n",
      "Q15                                                 Delivery/Cargo  \\\n",
      "Q24                                                                  \n",
      "Don’t know/not sure                                       0.000000   \n",
      "Repairable– bicycle was damaged and repairs wer...       57.142857   \n",
      "Rideable– bicycle was safe to operate and immed...       42.857143   \n",
      "Salvage/junk– bicycle was not rideable or repai...        0.000000   \n",
      "\n",
      "Q15                                                 Fixed gear  Folding  \\\n",
      "Q24                                                                       \n",
      "Don’t know/not sure                                        0.0      0.0   \n",
      "Repairable– bicycle was damaged and repairs wer...       100.0     50.0   \n",
      "Rideable– bicycle was safe to operate and immed...         0.0     50.0   \n",
      "Salvage/junk– bicycle was not rideable or repai...         0.0      0.0   \n",
      "\n",
      "Q15                                                 Gravel/cyclocross  \\\n",
      "Q24                                                                     \n",
      "Don’t know/not sure                                          0.000000   \n",
      "Repairable– bicycle was damaged and repairs wer...          57.142857   \n",
      "Rideable– bicycle was safe to operate and immed...          42.857143   \n",
      "Salvage/junk– bicycle was not rideable or repai...           0.000000   \n",
      "\n",
      "Q15                                                 Hybrid/City/Dutch  \\\n",
      "Q24                                                                     \n",
      "Don’t know/not sure                                          3.333333   \n",
      "Repairable– bicycle was damaged and repairs wer...          33.333333   \n",
      "Rideable– bicycle was safe to operate and immed...          53.333333   \n",
      "Salvage/junk– bicycle was not rideable or repai...          10.000000   \n",
      "\n",
      "Q15                                                  Mountain  Recumbent  \\\n",
      "Q24                                                                        \n",
      "Don’t know/not sure                                  2.325581        0.0   \n",
      "Repairable– bicycle was damaged and repairs wer...  34.883721        0.0   \n",
      "Rideable– bicycle was safe to operate and immed...  51.162791      100.0   \n",
      "Salvage/junk– bicycle was not rideable or repai...  11.627907        0.0   \n",
      "\n",
      "Q15                                                      Road  \\\n",
      "Q24                                                             \n",
      "Don’t know/not sure                                  4.545455   \n",
      "Repairable– bicycle was damaged and repairs wer...  31.818182   \n",
      "Rideable– bicycle was safe to operate and immed...  63.636364   \n",
      "Salvage/junk– bicycle was not rideable or repai...   0.000000   \n",
      "\n",
      "Q15                                                 Tricycle or quadricycle  \n",
      "Q24                                                                          \n",
      "Don’t know/not sure                                                     0.0  \n",
      "Repairable– bicycle was damaged and repairs wer...                      0.0  \n",
      "Rideable– bicycle was safe to operate and immed...                    100.0  \n",
      "Salvage/junk– bicycle was not rideable or repai...                      0.0  \n"
     ]
    }
   ],
   "source": [
    "# ,'Q24':'rec_cond' and 'Q15':'bicycle_type'\n",
    "# Parameters\n",
    "q_0 = 'Q24'\n",
    "q_1 = 'Q15'\n",
    "cols_name = [q_0,q_1]\n",
    "calc_chi = False\n",
    "is_count_loc= []\n",
    "\n",
    "only_rel =explore_date(is_count_loc,True)\n",
    "# Parameter for chi-squared\n",
    "# The second argument in the nested tuple determine if the data in the following list is the filtered or the selected one\n",
    "rel_data = ((q_0,True),['Yes, on Kijiji','Yes, on Facebook Marketplace'],(q_1,True),[])\n",
    "var0 = {'q':q_0,'var':questions[q_0],'group':['Yes, on Kijiji'],'group2': 'Yes, on Facebook Marketplace'}\n",
    "var1 = {'q':q_1,'var':questions[q_1],'group':['USA'],'group2':'CAN'}\n",
    "\n",
    "if calc_chi:\n",
    "    prep_for_chi(only_rel)"
   ],
   "metadata": {
    "collapsed": false,
    "pycharm": {
     "name": "#%%\n"
    }
   }
  },
  {
   "cell_type": "code",
   "execution_count": 132,
   "outputs": [
    {
     "name": "stdout",
     "output_type": "stream",
     "text": [
      "​No                             166\n",
      "Don’t know/not sure              37\n",
      "Yes, on Facebook Marketplace     23\n",
      "Yes, on OfferUp                  20\n",
      "Yes, on Craigslist               15\n",
      "Yes, on other website            13\n",
      "Yes, on Kijiji                    6\n",
      "Name: Q19, dtype: int64\n",
      "USA    203\n",
      "CAN     77\n",
      "Name: country, dtype: int64\n",
      "Chi-square statistic: 72.28\n",
      "P-value: 0.00000\n",
      "country                             CAN    USA\n",
      "is_online                                     \n",
      "Yes, on Facebook Marketplace  45.454545  100.0\n",
      "Yes, on Kijiji                54.545455    0.0\n"
     ]
    }
   ],
   "source": [
    "# is_online and country\n",
    "# Parameters\n",
    "q_0 = 'Q19'\n",
    "q_1 = 'country'\n",
    "cols_name = [q_0,q_1]\n",
    "calc_chi = True\n",
    "is_count_loc= []\n",
    "\n",
    "only_rel =explore_date(is_count_loc,False)\n",
    "# Parameter for chi-squared\n",
    "# The second argument in the nested tuple determine if the data in the following list is the filtered or the selected one\n",
    "rel_data = ((q_0,True),['Yes, on Kijiji','Yes, on Facebook Marketplace'],(q_1,True),[])\n",
    "var0 = {'q':q_0,'var':questions[q_0],'group':['Yes, on Kijiji'],'group2': 'Yes, on Facebook Marketplace'}\n",
    "var1 = {'q':q_1,'var':questions[q_1],'group':['USA'],'group2':'CAN'}\n",
    "\n",
    "if calc_chi:\n",
    "    prep_for_chi(only_rel)"
   ],
   "metadata": {
    "collapsed": false,
    "pycharm": {
     "name": "#%%\n"
    }
   }
  },
  {
   "cell_type": "code",
   "execution_count": 129,
   "outputs": [
    {
     "name": "stdout",
     "output_type": "stream",
     "text": [
      "The police found it and returned it to me​                                    91\n",
      "I recovered it with online support                                            53\n",
      "​I found and recovered it myself                                              51\n",
      "Other                                                                         45\n",
      "A member of the public/friend/family member found it and returned it to me    28\n",
      "Name: Q20, dtype: int64\n",
      "Bachelor’s degree                          105\n",
      "Graduate degree                            104\n",
      "Some university                             27\n",
      "Associate’s/vocational/technical degree     19\n",
      "Graduated high school                        7\n",
      "I prefer to not answer                       4\n",
      "Some high school or less                     2\n",
      "Name: Q38, dtype: int64\n",
      "Chi-square statistic: 9.47\n",
      "P-value: 0.00879\n",
      "education                         Bachelor’s degree  Graduate degree  \\\n",
      "how_recover                                                            \n",
      "Other                                     79.047619        84.615385   \n",
      "​I found and recovered it myself          20.952381        15.384615   \n",
      "\n",
      "education                         Some university  \n",
      "how_recover                                        \n",
      "Other                                   66.666667  \n",
      "​I found and recovered it myself        33.333333  \n"
     ]
    }
   ],
   "source": [
    "# education  and how recover\n",
    "# Parameters\n",
    "q_0 = 'Q20'\n",
    "q_1 = 'Q38'\n",
    "cols_name = [q_0,q_1]\n",
    "calc_chi = True\n",
    "is_count_loc= []\n",
    "\n",
    "only_rel =explore_date(is_count_loc,False)\n",
    "# Parameter for chi-squared\n",
    "# The second argument in the nested tuple determine if the data in the following list is the filtered or the selected one\n",
    "rel_data = ((q_0,True),[],(q_1,True),['Bachelor’s degree','Graduate degree','Some university'])\n",
    "var0 = {'q':q_0,'var':questions[q_0],'group':['​I found and recovered it myself'],'group2': 'Other'}\n",
    "var1 = {'q':q_1,'var':questions[q_1],'group':['Bachelor’s degree','Graduate degree'],'group2':'Some university'}\n",
    "\n",
    "if calc_chi:\n",
    "    prep_for_chi(only_rel)"
   ],
   "metadata": {
    "collapsed": false,
    "pycharm": {
     "name": "#%%\n"
    }
   }
  },
  {
   "cell_type": "code",
   "execution_count": 119,
   "outputs": [
    {
     "name": "stdout",
     "output_type": "stream",
     "text": [
      "The police found it and returned it to me​                                    92\n",
      "I recovered it with online support                                            53\n",
      "​I found and recovered it myself                                              51\n",
      "Other                                                                         45\n",
      "A member of the public/friend/family member found it and returned it to me    28\n",
      "Name: Q20, dtype: int64\n",
      "Man                          165\n",
      "Woman                         99\n",
      "Prefer not to say              3\n",
      "Non-binary / third gender      2\n",
      "Name: Q35, dtype: int64\n",
      "Chi-square statistic: 1.62\n",
      "P-value: 0.44554\n",
      "gender                                            Man      Woman\n",
      "how_recover                                                     \n",
      "I recovered it with online support          23.529412  31.506849\n",
      "The police found it and returned it to me​  49.579832  45.205479\n",
      "​I found and recovered it myself            26.890756  23.287671\n"
     ]
    }
   ],
   "source": [
    "# gender and how recover\n",
    "# Parameters\n",
    "q_0 = 'Q20'\n",
    "q_1 = 'Q35'\n",
    "cols_name = [q_0,q_1]\n",
    "calc_chi = True\n",
    "is_count_loc= []\n",
    "\n",
    "# Parameter for chi-squared\n",
    "# The second argument in the nested tuple determine if the data in the following list is the filtered or the selected one\n",
    "rel_data = ((q_0,True),['The police found it and returned it to me​','​I found and recovered it myself','I recovered it with online support'],(q_1,True),['Man','Woman'])\n",
    "only_rel =explore_date(is_count_loc)\n",
    "\n",
    "\n",
    "# More parameters\n",
    "var0 = {'q':q_0,'var':questions[q_0],'group':['The police found it and returned it to me​','​I found and recovered it myself'],'group2': 'I recovered it with online support'}\n",
    "var1 = {'q':q_1,'var':questions[q_1],'group':['Man'],'group2':'Woman'}\n",
    "\n",
    "if calc_chi:\n",
    "    prep_for_chi(only_rel)"
   ],
   "metadata": {
    "collapsed": false,
    "pycharm": {
     "name": "#%%\n"
    }
   }
  },
  {
   "cell_type": "code",
   "execution_count": 115,
   "outputs": [
    {
     "name": "stdout",
     "output_type": "stream",
     "text": [
      "The police found it and returned it to me​                                    96\n",
      "I recovered it with online support                                            57\n",
      "​I found and recovered it myself                                              53\n",
      "Other                                                                         45\n",
      "A member of the public/friend/family member found it and returned it to me    28\n",
      "Name: Q20, dtype: int64\n",
      "$2000-3999             67\n",
      "$1000-$1999            66\n",
      "$500-$999              57\n",
      "$250-$499              37\n",
      "$4000-6999             28\n",
      "$7000 or more          15\n",
      "Less than $250          8\n",
      "Don’t know/not sure     1\n",
      "Name: Q13, dtype: int64\n",
      "Chi-square statistic: 6.31\n",
      "P-value: 0.01202\n",
      "value_approx                              0     1\n",
      "how_recover                                      \n",
      "Other                             75.595238  90.0\n",
      "​I found and recovered it myself  24.404762  10.0\n"
     ]
    }
   ],
   "source": [
    "# value_approximation and how recover\n",
    "# Parameters\n",
    "q_0 = 'Q20'\n",
    "q_1 = 'Q13'\n",
    "cols_name = [q_0,q_1]\n",
    "calc_chi = True\n",
    "is_count_loc= []\n",
    "\n",
    "# Parameter for chi-squared\n",
    "# The second argument in the nested tuple determine if the data in the following list is the filtered or the selected one\n",
    "rel_data = ((q_0,True),[],(q_1,False),[])\n",
    "only_rel =explore_date(is_count_loc)\n",
    "\n",
    "# Group the data\n",
    "# In order to execute grouping we should first eliminate irrelevant information\n",
    "only_rel = only_rel[only_rel[q_1]!='Don’t know/not sure']\n",
    "\n",
    "df = DataFrame(only_rel[q_1].unique()).dropna().sort_values(by=0,ascending=0).reset_index(drop=True)\n",
    "sorted_list = pd.concat([df.loc[0], df.loc[4], df.loc[2],df.loc[6],df.loc[5],df.iloc[3],df.loc[1]])[0].to_list()\n",
    "only_rel[q_1] = only_rel[q_1].apply(lambda x:1 if sorted_list.index(x)>3 else 0)\n",
    "\n",
    "# More parameters\n",
    "var0 = {'q':q_0,'var':questions[q_0],'group':['​I found and recovered it myself'],'group2':'Other'}\n",
    "var1 = {'q':q_1,'var':questions[q_1],'group':[0],'group2': 1}\n",
    "\n",
    "if calc_chi:\n",
    "    prep_for_chi(only_rel)"
   ],
   "metadata": {
    "collapsed": false,
    "pycharm": {
     "name": "#%%\n"
    }
   }
  },
  {
   "cell_type": "code",
   "execution_count": 116,
   "outputs": [
    {
     "name": "stdout",
     "output_type": "stream",
     "text": [
      "The police found it and returned it to me​                                    96\n",
      "I recovered it with online support                                            57\n",
      "​I found and recovered it myself                                              53\n",
      "Other                                                                         45\n",
      "A member of the public/friend/family member found it and returned it to me    28\n",
      "Name: Q20, dtype: int64\n",
      "No                     154\n",
      "Yes                    120\n",
      "Don’t know/not sure      5\n",
      "Name: Q10, dtype: int64\n",
      "Chi-square statistic: 3.55\n",
      "P-value: 0.05969\n",
      "is_registered                                      No        Yes\n",
      "how_recover                                                     \n",
      "I recovered it with online support          43.023256  29.230769\n",
      "The police found it and returned it to me​  56.976744  70.769231\n"
     ]
    }
   ],
   "source": [
    "# register and how recover\n",
    "# Parameters\n",
    "q_0 = 'Q20'\n",
    "q_1 = 'Q10'\n",
    "cols_name = [q_0,q_1]\n",
    "calc_chi = True\n",
    "is_count= []\n",
    "# Parameter for chi-squared\n",
    "rel_data = (q_0,['The police found it and returned it to me​','I recovered it with online support'],q_1,['Yes','No'])\n",
    "\n",
    "# Explore the data\n",
    "only_rel= data[cols_name].dropna()\n",
    "for q in cols_name:\n",
    "    if q in is_count:\n",
    "        only_rel[q]= only_rel[q].str.replace(r\"\\(.*?\\)\",\"\").str.replace(\":\", \"\").str.strip().str.count(',')\n",
    "    else:\n",
    "        only_rel[q]= only_rel[q].str.replace(r\"\\(.*?\\)\",\"\").str.replace(\":\", \"\").str.strip()\n",
    "    print(only_rel[q].value_counts())\n",
    "\n",
    "if calc_chi:\n",
    "    var_0 = {'q':q_0,'var':questions[q_0],'group':['The police found it and returned it to me​'],'group2':'I recovered it with online support'}\n",
    "    var_1 = {'q':q_1,'var':questions[q_1],'group':['Yes'],'group2': 'No'}\n",
    "    # working only with information stored in list in @rel_data for a specific col\n",
    "    if rel_data[1]:\n",
    "        only_rel= only_rel[only_rel[rel_data[0]].isin(rel_data[1])]\n",
    "    if rel_data[3]:\n",
    "        only_rel= only_rel[only_rel[rel_data[2]].isin(rel_data[3])]\n",
    "\n",
    "    calculate_chi_cross_tab(only_rel,var_0,var_1)"
   ],
   "metadata": {
    "collapsed": false,
    "pycharm": {
     "name": "#%%\n"
    }
   }
  },
  {
   "cell_type": "code",
   "execution_count": 73,
   "outputs": [
    {
     "name": "stdout",
     "output_type": "stream",
     "text": [
      "Yes, in-person support         109\n",
      "​No                            103\n",
      "Yes, phone or email support     68\n",
      "Name: Q21, dtype: int64\n",
      "USA    203\n",
      "CAN     77\n",
      "Name: country, dtype: int64\n",
      "Chi-square statistic: 20.37\n",
      "P-value: 0.00004\n",
      "country                            CAN        USA\n",
      "is_police                                        \n",
      "No                           15.584416  44.827586\n",
      "Yes, in-person support       50.649351  34.482759\n",
      "Yes, phone or email support  33.766234  20.689655\n"
     ]
    }
   ],
   "source": [
    "# country and is police\n",
    "# Parameters\n",
    "q_0 = 'Q21'\n",
    "q_1 = 'country'\n",
    "cols_name = [q_0,q_1]\n",
    "calc_chi = True\n",
    "is_count= []\n",
    "rel_data = (q_1,[])\n",
    "\n",
    "# Explore the data\n",
    "only_rel= data[cols_name].dropna()\n",
    "for q in cols_name:\n",
    "    if q in is_count:\n",
    "        only_rel[q]= only_rel[q].str.replace(r\"\\(.*?\\)\",\"\").str.replace(\":\", \"\").str.strip().str.count(',')\n",
    "        # specific code to this analysis\n",
    "        only_rel[only_rel[q_1]==3] = 2\n",
    "    else:\n",
    "        only_rel[q]= only_rel[q].str.replace(r\"\\(.*?\\)\",\"\").str.replace(\":\", \"\").str.strip()\n",
    "    print(only_rel[q].value_counts())\n",
    "\n",
    "if calc_chi:\n",
    "    var_0 = {'q':q_0,'var':questions[q_0],'group':[\"Yes, in-person support\",'Yes, phone or email support'],'group2': 'No'}\n",
    "    var_1 = {'q':q_1,'var':questions[q_1],'group':['USA'],'group2':'CAN'}\n",
    "    # working only with information stored in list in @rel_data for a specific col\n",
    "    if rel_data[1]:\n",
    "        only_rel= only_rel[only_rel[rel_data[0]].isin(rel_data[1])]\n",
    "\n",
    "    calculate_chi_cross_tab(only_rel,var_0,var_1)"
   ],
   "metadata": {
    "collapsed": false,
    "pycharm": {
     "name": "#%%\n"
    }
   }
  },
  {
   "cell_type": "code",
   "execution_count": 68,
   "outputs": [
    {
     "name": "stdout",
     "output_type": "stream",
     "text": [
      "The police found it and returned it to me​                                    96\n",
      "I recovered it with online support                                            57\n",
      "​I found and recovered it myself                                              53\n",
      "Other                                                                         45\n",
      "A member of the public/friend/family member found it and returned it to me    28\n",
      "Name: Q20, dtype: int64\n",
      "USA    203\n",
      "CAN     76\n",
      "Name: country, dtype: int64\n",
      "Chi-square statistic: 22.45\n",
      "P-value: 0.00000\n",
      "country                                           CAN        USA\n",
      "how_recover                                                     \n",
      "The police found it and returned it to me​  59.210526  25.123153\n",
      "other                                       40.789474  74.876847\n"
     ]
    }
   ],
   "source": [
    "# country and how recover\n",
    "# Parameters\n",
    "q_0 = 'Q20'\n",
    "q_1 = 'country'\n",
    "cols_name = [q_0,q_1]\n",
    "calc_chi = True\n",
    "is_count= []\n",
    "rel_data = (q_1,[])\n",
    "\n",
    "# Explore the data\n",
    "only_rel= data[cols_name].dropna()\n",
    "for q in cols_name:\n",
    "    if q in is_count:\n",
    "        only_rel[q]= only_rel[q].str.replace(r\"\\(.*?\\)\",\"\").str.replace(\":\", \"\").str.strip().str.count(',')\n",
    "        # specific code to this analysis\n",
    "        only_rel[only_rel[q_1]==3] = 2\n",
    "    else:\n",
    "        only_rel[q]= only_rel[q].str.replace(r\"\\(.*?\\)\",\"\").str.replace(\":\", \"\").str.strip()\n",
    "    print(only_rel[q].value_counts())\n",
    "\n",
    "if calc_chi:\n",
    "    var_0 = {'q':q_0,'var':questions[q_0],'group':[\"The police found it and returned it to me​\"],'group2': 'other'}\n",
    "    var_1 = {'q':q_1,'var':questions[q_1],'group':['USA'],'group2':'CAN'}\n",
    "    # working only with information stored in list in @rel_data for a specific col\n",
    "    if rel_data[1]:\n",
    "        only_rel= only_rel[only_rel[rel_data[0]].isin(rel_data[1])]\n",
    "\n",
    "    calculate_chi_cross_tab(only_rel,var_0,var_1)"
   ],
   "metadata": {
    "collapsed": false,
    "pycharm": {
     "name": "#%%\n"
    }
   }
  },
  {
   "cell_type": "code",
   "execution_count": null,
   "outputs": [],
   "source": [
    "# where_rep and is_recover by amount\n",
    "# Parameters\n",
    "q_0 = 'Q18'\n",
    "q_1 = 'Q11'\n",
    "cols_name = [q_0,q_1]\n",
    "calc_chi = True\n",
    "is_count= [q_1]\n",
    "rel_data = (q_1,[])\n",
    "\n",
    "# Explore the data\n",
    "only_rel= data[cols_name].dropna()\n",
    "for q in cols_name:\n",
    "    if q in is_count:\n",
    "        only_rel[q]= only_rel[q].str.replace(r\"\\(.*?\\)\",\"\").str.replace(\":\", \"\").str.strip().str.count(',')\n",
    "        # specific code to this analysis\n",
    "        only_rel[only_rel[q_1]==3] = 2\n",
    "    else:\n",
    "        only_rel[q]= only_rel[q].str.replace(r\"\\(.*?\\)\",\"\").str.replace(\":\", \"\").str.strip()\n",
    "    print(only_rel[q].value_counts())\n",
    "\n",
    "if calc_chi:\n",
    "    var_0 = {'q':q_0,'var':questions[q_0],'group':[\"Yes\"],'group2': 'No'}\n",
    "    var_1 = {'q':q_1,'var':questions[q_1],'group':[0,1],'group2':2}\n",
    "    # working only with information stored in list in @rel_data for a specific col\n",
    "    if rel_data[1]:\n",
    "        only_rel= only_rel[only_rel[rel_data[0]].isin(rel_data[1])]\n",
    "\n",
    "    calculate_chi_cross_tab(only_rel,var_0,var_1)"
   ],
   "metadata": {
    "collapsed": false,
    "pycharm": {
     "name": "#%%\n"
    }
   }
  },
  {
   "cell_type": "code",
   "execution_count": 51,
   "outputs": [
    {
     "name": "stdout",
     "output_type": "stream",
     "text": [
      "No     1535\n",
      "Yes     280\n",
      "Name: Q18, dtype: int64\n",
      "The police ,A bicycle registry/recovery system ,Social media           618\n",
      "The police ,A bicycle registry/recovery system                         533\n",
      "The police                                                             304\n",
      "A bicycle registry/recovery system                                      96\n",
      "I did not report the theft                                              60\n",
      "The police ,Social media                                                50\n",
      "The police ,A bicycle registry/recovery system ,Social media ,Other     43\n",
      "A bicycle registry/recovery system ,Social media                        37\n",
      "The police ,A bicycle registry/recovery system ,Other                   21\n",
      "Other                                                                   16\n",
      "The police ,Other                                                       15\n",
      "Social media                                                            10\n",
      "The police ,Social media ,Other                                          6\n",
      "A bicycle registry/recovery system ,Other                                5\n",
      "A bicycle registry/recovery system ,Social media ,Other                  1\n",
      "Name: Q11, dtype: int64\n",
      "Chi-square statistic: 2.33\n",
      "P-value: 0.50735\n",
      "where_rep   A bicycle registry/recovery system  The police  \\\n",
      "is_recover                                                   \n",
      "No                                   89.583333   87.828947   \n",
      "Yes                                  10.416667   12.171053   \n",
      "\n",
      "where_rep   The police ,A bicycle registry/recovery system  \\\n",
      "is_recover                                                   \n",
      "No                                               83.864916   \n",
      "Yes                                              16.135084   \n",
      "\n",
      "where_rep   The police ,A bicycle registry/recovery system ,Social media  \n",
      "is_recover                                                                \n",
      "No                                                  83.333333             \n",
      "Yes                                                 16.666667             \n"
     ]
    }
   ],
   "source": [
    "# where_rep and is_recover\n",
    "\n",
    "# Parameters\n",
    "q_0 = 'Q18'\n",
    "q_1 = 'country'\n",
    "cols_name = [q_0,q_1]\n",
    "calc_chi = True\n",
    "\n",
    "rel_data = (q_1,['The police ,A bicycle registry/recovery system ,Social media','The police ,A bicycle registry/recovery system','The police','A bicycle registry/recovery system'])\n",
    "\n",
    "# Explore the data\n",
    "only_rel= data[cols_name].dropna()\n",
    "for q in cols_name:\n",
    "    only_rel[q]= only_rel[q].str.replace(r\"\\(.*?\\)\",\"\").str.replace(\":\", \"\").str.strip()\n",
    "    print(only_rel[q].value_counts())\n",
    "\n",
    "if calc_chi:\n",
    "    var_0 = {'q':q_0,'var':questions[q_0],'group':[\"Yes\"],'group2': 'No'}\n",
    "    var_1 = {'q':q_1,'var':questions[q_1],'group':rel_data[1][:-1],'group2': rel_data[1][-1]}\n",
    "    # working only with information stored in list in @rel_data for a specific col\n",
    "    if rel_data:\n",
    "        only_rel= only_rel[only_rel[rel_data[0]].isin(rel_data[1])]\n",
    "\n",
    "    calculate_chi_cross_tab(only_rel,var_0,var_1)\n"
   ],
   "metadata": {
    "collapsed": false,
    "pycharm": {
     "name": "#%%\n"
    }
   }
  },
  {
   "cell_type": "code",
   "execution_count": 31,
   "outputs": [
    {
     "name": "stdout",
     "output_type": "stream",
     "text": [
      "No     1531\n",
      "Yes     278\n",
      "Name: Q18, dtype: int64\n",
      "Overnight              734\n",
      "Afternoon              354\n",
      "Don’t know/not sure    328\n",
      "Evening                223\n",
      "Morning                170\n",
      "Name: Q6, dtype: int64\n",
      "Chi-square statistic: 1.93\n",
      "P-value: 0.16453\n",
      "day_time    Don’t know/not sure      Other\n",
      "is_recover                                \n",
      "No                    90.853659  83.254558\n",
      "Yes                    9.146341  16.745442\n"
     ]
    }
   ],
   "source": [
    "# Time and is_recover\n",
    "calc_chi = True\n",
    "q_0 = 'Q18'\n",
    "q_1 = 'Q11'\n",
    "cols_name = [q_0,q_1]\n",
    "# Explore the data\n",
    "only_rel= data[cols_name].dropna()\n",
    "for q in cols_name:\n",
    "    only_rel[q]= only_rel[q].str.replace(r\"\\(.*?\\)\",\"\").str.strip()\n",
    "    print(only_rel[q].value_counts())\n",
    "\n",
    "if calc_chi:\n",
    "    var_0 = {'q':q_0,'var':questions[q_0],'group':[\"Yes\"],'group2': 'No'}\n",
    "    var_1 = {'q':q_1,'var':questions[q_1],'group':[\"Don’t know/not sure\"],'group2': 'Other'}\n",
    "    calculate_chi_cross_tab(only_rel,var_0,var_1)"
   ],
   "metadata": {
    "collapsed": false,
    "pycharm": {
     "name": "#%%\n"
    }
   }
  },
  {
   "cell_type": "code",
   "execution_count": 26,
   "outputs": [
    {
     "name": "stdout",
     "output_type": "stream",
     "text": [
      "Chi-square statistic: 2.25\n",
      "P-value: 0.13337\n",
      "country           CAN        USA\n",
      "is_recover                      \n",
      "No          77.083333  86.293045\n",
      "Yes         22.916667  13.706955\n"
     ]
    }
   ],
   "source": [
    "# Country and is_recover\n",
    "is_explore = False\n",
    "q_0 = 'Q18'\n",
    "q_1 = 'country'\n",
    "cols_name = [q_0,q_1]\n",
    "# Explore the data\n",
    "if is_explore:\n",
    "    only_rel= data[cols_name].dropna()\n",
    "    for q in cols_name:\n",
    "        only_rel[q]= only_rel[q].str.replace(r\"\\(.*?\\)\",\"\").str.strip()\n",
    "        print(only_rel[q].value_counts())\n",
    "else:\n",
    "    var_0 = {'q':q_0,'var':questions[q_0],'group':[\"Yes\"],'group2': 'No'}\n",
    "    var_1 = {'q':q_1,'var':questions[q_1],'group':[\"USA\"],'group2': 'CAN'}\n",
    "    calculate_chi_cross_tab(only_rel,var_0,var_1)"
   ],
   "metadata": {
    "collapsed": false,
    "pycharm": {
     "name": "#%%\n"
    }
   }
  },
  {
   "cell_type": "code",
   "execution_count": 63,
   "outputs": [
    {
     "name": "stdout",
     "output_type": "stream",
     "text": [
      "Chi-square statistic: 16.53\n",
      "P-value: 0.00026\n",
      "country                   CAN        USA\n",
      "bicycle_type                            \n",
      "Hybrid/City/Dutch   30.960854  38.696020\n",
      "Mountain            58.007117  32.091448\n",
      "Road                11.032028  29.212532\n"
     ]
    }
   ],
   "source": [
    "# Country and bike type\n",
    "q_0 = 'Q15'\n",
    "var_0 = {'q':q_0,'var':questions[q_0],'group':['Hybrid/City/Dutch ', 'Road',],'group2': 'Mountain  '}\n",
    "var_1 = {'q':'country','var':'country','group':[\"USA\"],'group2': 'CAN'}\n",
    "\n",
    "only_rel= data[[var_0['q'],var_1['q']]].dropna()\n",
    "\n",
    "clean_tables= only_rel[only_rel[var_0['q']].isin(['Hybrid/City/Dutch ', 'Road','Mountain  '])]\n",
    "\n",
    "calculate_chi_cross_tab(clean_tables,var_0,var_1)"
   ],
   "metadata": {
    "collapsed": false,
    "pycharm": {
     "name": "#%%\n"
    }
   }
  },
  {
   "cell_type": "code",
   "execution_count": 39,
   "outputs": [
    {
     "data": {
      "text/plain": "Q13                                                 $1000-$1999   \\\nQ8                                                                 \nCable lock                                             30.487805   \nCable lock ,Don’t know/not sure                         0.000000   \nCable lock ,Frame lock (aka wheel lock/O-lock/r...      0.406504   \nCable lock ,Other (please specify):                     1.626016   \nChain-lock combination (chain with mini u-lock ...      5.691057   \nChain-lock combination (chain with mini u-lock ...      0.813008   \nChain-lock combination (chain with mini u-lock ...      0.000000   \nChain-lock combination (chain with mini u-lock ...      0.000000   \nChain-lock combination (chain with mini u-lock ...      0.000000   \nChain-lock combination (chain with mini u-lock ...      0.000000   \nChain-lock combination (chain with mini u-lock ...      0.000000   \nChain-lock combination (chain with mini u-lock ...      0.406504   \nChain-lock with padlock                                 5.691057   \nChain-lock with padlock ,Cable lock                     0.406504   \nChain-lock with padlock ,Cable lock ,Other (ple...      0.000000   \nChain-lock with padlock ,Folding lock                   0.406504   \nChain-lock with padlock ,Frame lock (aka wheel ...      0.000000   \nChain-lock with padlock ,Locking skewers                0.000000   \nChain-lock with padlock ,Other (please specify):        0.000000   \nDon’t know/not sure                                     0.000000   \nFolding lock                                            3.252033   \nFolding lock ,Frame lock (aka wheel lock/O-lock...      0.406504   \nFolding lock ,Other (please specify):                   0.000000   \nFolding lock ,Other (please specify):,Don’t kno...      0.000000   \nFrame lock (aka wheel lock/O-lock/ring lock)            0.000000   \nLocking skewers                                         0.000000   \nLocking skewers ,Cable lock                             0.000000   \nLocking skewers ,Folding lock                           0.000000   \nLocking skewers ,Other (please specify):                0.000000   \nOther (please specify):                                 7.723577   \nOther (please specify):,Don’t know/not sure             0.000000   \nTwo U-Locks                                             2.032520   \nTwo U-Locks ,Cable lock                                 1.219512   \nTwo U-Locks ,Cable lock ,Other (please specify):        0.000000   \nTwo U-Locks ,Chain-lock combination (chain with...      0.000000   \nTwo U-Locks ,Chain-lock combination (chain with...      0.000000   \nTwo U-Locks ,Chain-lock with padlock                    0.406504   \nTwo U-Locks ,Chain-lock with padlock ,Folding l...      0.000000   \nTwo U-Locks ,Other (please specify):                    0.000000   \n​U-lock                                                31.300813   \n​U-lock      ,Cable lock                                3.658537   \n​U-lock      ,Cable lock ,Frame lock (aka wheel...      0.000000   \n​U-lock      ,Cable lock ,Other (please specify):       0.000000   \n​U-lock      ,Chain-lock combination (chain wit...      0.813008   \n​U-lock      ,Chain-lock combination (chain wit...      0.406504   \n​U-lock      ,Chain-lock combination (chain wit...      0.000000   \n​U-lock      ,Chain-lock with padlock                   0.000000   \n​U-lock      ,Chain-lock with padlock ,Cable lock       0.000000   \n​U-lock      ,Don’t know/not sure                       0.000000   \n​U-lock      ,Folding lock                              0.406504   \n​U-lock      ,Folding lock ,Other (please speci...      0.000000   \n​U-lock      ,Frame lock (aka wheel lock/O-lock...      0.000000   \n​U-lock      ,Locking skewers                           2.032520   \n​U-lock      ,Other (please specify):                   0.406504   \n​U-lock      ,Two U-Locks ,Chain-lock combinati...      0.000000   \n​U-lock      ,Two U-Locks ,Chain-lock with padl...      0.000000   \n\nQ13                                                 $2000-3999        \\\nQ8                                                                     \nCable lock                                                 31.360947   \nCable lock ,Don’t know/not sure                             0.591716   \nCable lock ,Frame lock (aka wheel lock/O-lock/r...          0.000000   \nCable lock ,Other (please specify):                         1.183432   \nChain-lock combination (chain with mini u-lock ...          7.100592   \nChain-lock combination (chain with mini u-lock ...          0.000000   \nChain-lock combination (chain with mini u-lock ...          0.000000   \nChain-lock combination (chain with mini u-lock ...          0.000000   \nChain-lock combination (chain with mini u-lock ...          0.000000   \nChain-lock combination (chain with mini u-lock ...          0.000000   \nChain-lock combination (chain with mini u-lock ...          0.000000   \nChain-lock combination (chain with mini u-lock ...          0.000000   \nChain-lock with padlock                                     5.325444   \nChain-lock with padlock ,Cable lock                         1.183432   \nChain-lock with padlock ,Cable lock ,Other (ple...          0.591716   \nChain-lock with padlock ,Folding lock                       0.000000   \nChain-lock with padlock ,Frame lock (aka wheel ...          1.775148   \nChain-lock with padlock ,Locking skewers                    0.000000   \nChain-lock with padlock ,Other (please specify):            0.000000   \nDon’t know/not sure                                         0.000000   \nFolding lock                                                2.366864   \nFolding lock ,Frame lock (aka wheel lock/O-lock...          0.591716   \nFolding lock ,Other (please specify):                       0.000000   \nFolding lock ,Other (please specify):,Don’t kno...          0.591716   \nFrame lock (aka wheel lock/O-lock/ring lock)                1.775148   \nLocking skewers                                             0.591716   \nLocking skewers ,Cable lock                                 0.000000   \nLocking skewers ,Folding lock                               0.000000   \nLocking skewers ,Other (please specify):                    0.000000   \nOther (please specify):                                    10.059172   \nOther (please specify):,Don’t know/not sure                 0.000000   \nTwo U-Locks                                                 1.183432   \nTwo U-Locks ,Cable lock                                     0.000000   \nTwo U-Locks ,Cable lock ,Other (please specify):            0.000000   \nTwo U-Locks ,Chain-lock combination (chain with...          0.000000   \nTwo U-Locks ,Chain-lock combination (chain with...          0.000000   \nTwo U-Locks ,Chain-lock with padlock                        0.000000   \nTwo U-Locks ,Chain-lock with padlock ,Folding l...          0.000000   \nTwo U-Locks ,Other (please specify):                        0.000000   \n​U-lock                                                    21.301775   \n​U-lock      ,Cable lock                                    4.733728   \n​U-lock      ,Cable lock ,Frame lock (aka wheel...          0.000000   \n​U-lock      ,Cable lock ,Other (please specify):           0.591716   \n​U-lock      ,Chain-lock combination (chain wit...          2.366864   \n​U-lock      ,Chain-lock combination (chain wit...          0.000000   \n​U-lock      ,Chain-lock combination (chain wit...          0.591716   \n​U-lock      ,Chain-lock with padlock                       0.591716   \n​U-lock      ,Chain-lock with padlock ,Cable lock           0.000000   \n​U-lock      ,Don’t know/not sure                           0.000000   \n​U-lock      ,Folding lock                                  0.000000   \n​U-lock      ,Folding lock ,Other (please speci...          0.000000   \n​U-lock      ,Frame lock (aka wheel lock/O-lock...          0.591716   \n​U-lock      ,Locking skewers                               1.183432   \n​U-lock      ,Other (please specify):                       1.183432   \n​U-lock      ,Two U-Locks ,Chain-lock combinati...          0.591716   \n​U-lock      ,Two U-Locks ,Chain-lock with padl...          0.000000   \n\nQ13                                                 $250-$499   \\\nQ8                                                               \nCable lock                                           37.414966   \nCable lock ,Don’t know/not sure                       0.000000   \nCable lock ,Frame lock (aka wheel lock/O-lock/r...    0.000000   \nCable lock ,Other (please specify):                   2.040816   \nChain-lock combination (chain with mini u-lock ...   13.605442   \nChain-lock combination (chain with mini u-lock ...    0.680272   \nChain-lock combination (chain with mini u-lock ...    0.000000   \nChain-lock combination (chain with mini u-lock ...    0.000000   \nChain-lock combination (chain with mini u-lock ...    0.000000   \nChain-lock combination (chain with mini u-lock ...    0.680272   \nChain-lock combination (chain with mini u-lock ...    0.000000   \nChain-lock combination (chain with mini u-lock ...    0.000000   \nChain-lock with padlock                               3.401361   \nChain-lock with padlock ,Cable lock                   0.000000   \nChain-lock with padlock ,Cable lock ,Other (ple...    0.680272   \nChain-lock with padlock ,Folding lock                 0.000000   \nChain-lock with padlock ,Frame lock (aka wheel ...    0.000000   \nChain-lock with padlock ,Locking skewers              0.000000   \nChain-lock with padlock ,Other (please specify):      0.000000   \nDon’t know/not sure                                   0.680272   \nFolding lock                                          2.040816   \nFolding lock ,Frame lock (aka wheel lock/O-lock...    0.000000   \nFolding lock ,Other (please specify):                 0.000000   \nFolding lock ,Other (please specify):,Don’t kno...    0.000000   \nFrame lock (aka wheel lock/O-lock/ring lock)          0.680272   \nLocking skewers                                       0.000000   \nLocking skewers ,Cable lock                           0.000000   \nLocking skewers ,Folding lock                         0.000000   \nLocking skewers ,Other (please specify):              0.000000   \nOther (please specify):                               4.081633   \nOther (please specify):,Don’t know/not sure           0.000000   \nTwo U-Locks                                           0.000000   \nTwo U-Locks ,Cable lock                               0.000000   \nTwo U-Locks ,Cable lock ,Other (please specify):      0.000000   \nTwo U-Locks ,Chain-lock combination (chain with...    0.000000   \nTwo U-Locks ,Chain-lock combination (chain with...    0.000000   \nTwo U-Locks ,Chain-lock with padlock                  0.000000   \nTwo U-Locks ,Chain-lock with padlock ,Folding l...    0.000000   \nTwo U-Locks ,Other (please specify):                  0.000000   \n​U-lock                                              27.210884   \n​U-lock      ,Cable lock                              6.122449   \n​U-lock      ,Cable lock ,Frame lock (aka wheel...    0.000000   \n​U-lock      ,Cable lock ,Other (please specify):     0.000000   \n​U-lock      ,Chain-lock combination (chain wit...    0.000000   \n​U-lock      ,Chain-lock combination (chain wit...    0.000000   \n​U-lock      ,Chain-lock combination (chain wit...    0.000000   \n​U-lock      ,Chain-lock with padlock                 0.000000   \n​U-lock      ,Chain-lock with padlock ,Cable lock     0.000000   \n​U-lock      ,Don’t know/not sure                     0.000000   \n​U-lock      ,Folding lock                            0.000000   \n​U-lock      ,Folding lock ,Other (please speci...    0.000000   \n​U-lock      ,Frame lock (aka wheel lock/O-lock...    0.000000   \n​U-lock      ,Locking skewers                         0.000000   \n​U-lock      ,Other (please specify):                 0.000000   \n​U-lock      ,Two U-Locks ,Chain-lock combinati...    0.000000   \n​U-lock      ,Two U-Locks ,Chain-lock with padl...    0.680272   \n\nQ13                                                 $4000-6999         \\\nQ8                                                                      \nCable lock                                                  32.530120   \nCable lock ,Don’t know/not sure                              0.000000   \nCable lock ,Frame lock (aka wheel lock/O-lock/r...           0.000000   \nCable lock ,Other (please specify):                          2.409639   \nChain-lock combination (chain with mini u-lock ...           2.409639   \nChain-lock combination (chain with mini u-lock ...           0.000000   \nChain-lock combination (chain with mini u-lock ...           0.000000   \nChain-lock combination (chain with mini u-lock ...           0.000000   \nChain-lock combination (chain with mini u-lock ...           1.204819   \nChain-lock combination (chain with mini u-lock ...           0.000000   \nChain-lock combination (chain with mini u-lock ...           2.409639   \nChain-lock combination (chain with mini u-lock ...           1.204819   \nChain-lock with padlock                                      3.614458   \nChain-lock with padlock ,Cable lock                          0.000000   \nChain-lock with padlock ,Cable lock ,Other (ple...           0.000000   \nChain-lock with padlock ,Folding lock                        0.000000   \nChain-lock with padlock ,Frame lock (aka wheel ...           0.000000   \nChain-lock with padlock ,Locking skewers                     0.000000   \nChain-lock with padlock ,Other (please specify):             1.204819   \nDon’t know/not sure                                          0.000000   \nFolding lock                                                 6.024096   \nFolding lock ,Frame lock (aka wheel lock/O-lock...           0.000000   \nFolding lock ,Other (please specify):                        1.204819   \nFolding lock ,Other (please specify):,Don’t kno...           0.000000   \nFrame lock (aka wheel lock/O-lock/ring lock)                 0.000000   \nLocking skewers                                              0.000000   \nLocking skewers ,Cable lock                                  3.614458   \nLocking skewers ,Folding lock                                0.000000   \nLocking skewers ,Other (please specify):                     1.204819   \nOther (please specify):                                     10.843373   \nOther (please specify):,Don’t know/not sure                  1.204819   \nTwo U-Locks                                                  3.614458   \nTwo U-Locks ,Cable lock                                      0.000000   \nTwo U-Locks ,Cable lock ,Other (please specify):             0.000000   \nTwo U-Locks ,Chain-lock combination (chain with...           1.204819   \nTwo U-Locks ,Chain-lock combination (chain with...           1.204819   \nTwo U-Locks ,Chain-lock with padlock                         0.000000   \nTwo U-Locks ,Chain-lock with padlock ,Folding l...           0.000000   \nTwo U-Locks ,Other (please specify):                         0.000000   \n​U-lock                                                      9.638554   \n​U-lock      ,Cable lock                                     3.614458   \n​U-lock      ,Cable lock ,Frame lock (aka wheel...           1.204819   \n​U-lock      ,Cable lock ,Other (please specify):            1.204819   \n​U-lock      ,Chain-lock combination (chain wit...           3.614458   \n​U-lock      ,Chain-lock combination (chain wit...           0.000000   \n​U-lock      ,Chain-lock combination (chain wit...           0.000000   \n​U-lock      ,Chain-lock with padlock                        0.000000   \n​U-lock      ,Chain-lock with padlock ,Cable lock            1.204819   \n​U-lock      ,Don’t know/not sure                            0.000000   \n​U-lock      ,Folding lock                                   0.000000   \n​U-lock      ,Folding lock ,Other (please speci...           1.204819   \n​U-lock      ,Frame lock (aka wheel lock/O-lock...           0.000000   \n​U-lock      ,Locking skewers                                0.000000   \n​U-lock      ,Other (please specify):                        1.204819   \n​U-lock      ,Two U-Locks ,Chain-lock combinati...           0.000000   \n​U-lock      ,Two U-Locks ,Chain-lock with padl...           0.000000   \n\nQ13                                                 $500-$999   \\\nQ8                                                               \nCable lock                                           37.345679   \nCable lock ,Don’t know/not sure                       0.000000   \nCable lock ,Frame lock (aka wheel lock/O-lock/r...    0.308642   \nCable lock ,Other (please specify):                   0.925926   \nChain-lock combination (chain with mini u-lock ...    8.333333   \nChain-lock combination (chain with mini u-lock ...    0.308642   \nChain-lock combination (chain with mini u-lock ...    0.308642   \nChain-lock combination (chain with mini u-lock ...    0.308642   \nChain-lock combination (chain with mini u-lock ...    0.000000   \nChain-lock combination (chain with mini u-lock ...    0.000000   \nChain-lock combination (chain with mini u-lock ...    0.000000   \nChain-lock combination (chain with mini u-lock ...    0.308642   \nChain-lock with padlock                               3.703704   \nChain-lock with padlock ,Cable lock                   0.617284   \nChain-lock with padlock ,Cable lock ,Other (ple...    0.000000   \nChain-lock with padlock ,Folding lock                 0.000000   \nChain-lock with padlock ,Frame lock (aka wheel ...    0.000000   \nChain-lock with padlock ,Locking skewers              0.000000   \nChain-lock with padlock ,Other (please specify):      0.000000   \nDon’t know/not sure                                   0.000000   \nFolding lock                                          1.234568   \nFolding lock ,Frame lock (aka wheel lock/O-lock...    0.000000   \nFolding lock ,Other (please specify):                 0.000000   \nFolding lock ,Other (please specify):,Don’t kno...    0.000000   \nFrame lock (aka wheel lock/O-lock/ring lock)          0.617284   \nLocking skewers                                       0.000000   \nLocking skewers ,Cable lock                           0.000000   \nLocking skewers ,Folding lock                         0.617284   \nLocking skewers ,Other (please specify):              0.000000   \nOther (please specify):                               2.469136   \nOther (please specify):,Don’t know/not sure           0.308642   \nTwo U-Locks                                           1.234568   \nTwo U-Locks ,Cable lock                               0.000000   \nTwo U-Locks ,Cable lock ,Other (please specify):      0.308642   \nTwo U-Locks ,Chain-lock combination (chain with...    0.308642   \nTwo U-Locks ,Chain-lock combination (chain with...    0.000000   \nTwo U-Locks ,Chain-lock with padlock                  0.000000   \nTwo U-Locks ,Chain-lock with padlock ,Folding l...    0.000000   \nTwo U-Locks ,Other (please specify):                  0.308642   \n​U-lock                                              29.320988   \n​U-lock      ,Cable lock                              5.246914   \n​U-lock      ,Cable lock ,Frame lock (aka wheel...    0.000000   \n​U-lock      ,Cable lock ,Other (please specify):     0.000000   \n​U-lock      ,Chain-lock combination (chain wit...    1.851852   \n​U-lock      ,Chain-lock combination (chain wit...    0.000000   \n​U-lock      ,Chain-lock combination (chain wit...    0.000000   \n​U-lock      ,Chain-lock with padlock                 0.925926   \n​U-lock      ,Chain-lock with padlock ,Cable lock     0.000000   \n​U-lock      ,Don’t know/not sure                     0.308642   \n​U-lock      ,Folding lock                            0.000000   \n​U-lock      ,Folding lock ,Other (please speci...    0.000000   \n​U-lock      ,Frame lock (aka wheel lock/O-lock...    0.000000   \n​U-lock      ,Locking skewers                         1.234568   \n​U-lock      ,Other (please specify):                 1.234568   \n​U-lock      ,Two U-Locks ,Chain-lock combinati...    0.000000   \n​U-lock      ,Two U-Locks ,Chain-lock with padl...    0.000000   \n\nQ13                                                 $7000 or more   \\\nQ8                                                                   \nCable lock                                               32.608696   \nCable lock ,Don’t know/not sure                           0.000000   \nCable lock ,Frame lock (aka wheel lock/O-lock/r...        2.173913   \nCable lock ,Other (please specify):                       4.347826   \nChain-lock combination (chain with mini u-lock ...       10.869565   \nChain-lock combination (chain with mini u-lock ...        2.173913   \nChain-lock combination (chain with mini u-lock ...        0.000000   \nChain-lock combination (chain with mini u-lock ...        0.000000   \nChain-lock combination (chain with mini u-lock ...        0.000000   \nChain-lock combination (chain with mini u-lock ...        0.000000   \nChain-lock combination (chain with mini u-lock ...        0.000000   \nChain-lock combination (chain with mini u-lock ...        0.000000   \nChain-lock with padlock                                   2.173913   \nChain-lock with padlock ,Cable lock                       2.173913   \nChain-lock with padlock ,Cable lock ,Other (ple...        0.000000   \nChain-lock with padlock ,Folding lock                     0.000000   \nChain-lock with padlock ,Frame lock (aka wheel ...        0.000000   \nChain-lock with padlock ,Locking skewers                  2.173913   \nChain-lock with padlock ,Other (please specify):          0.000000   \nDon’t know/not sure                                       2.173913   \nFolding lock                                              0.000000   \nFolding lock ,Frame lock (aka wheel lock/O-lock...        0.000000   \nFolding lock ,Other (please specify):                     0.000000   \nFolding lock ,Other (please specify):,Don’t kno...        0.000000   \nFrame lock (aka wheel lock/O-lock/ring lock)              2.173913   \nLocking skewers                                           0.000000   \nLocking skewers ,Cable lock                               0.000000   \nLocking skewers ,Folding lock                             0.000000   \nLocking skewers ,Other (please specify):                  0.000000   \nOther (please specify):                                  17.391304   \nOther (please specify):,Don’t know/not sure               0.000000   \nTwo U-Locks                                               0.000000   \nTwo U-Locks ,Cable lock                                   0.000000   \nTwo U-Locks ,Cable lock ,Other (please specify):          0.000000   \nTwo U-Locks ,Chain-lock combination (chain with...        0.000000   \nTwo U-Locks ,Chain-lock combination (chain with...        0.000000   \nTwo U-Locks ,Chain-lock with padlock                      0.000000   \nTwo U-Locks ,Chain-lock with padlock ,Folding l...        2.173913   \nTwo U-Locks ,Other (please specify):                      0.000000   \n​U-lock                                                  10.869565   \n​U-lock      ,Cable lock                                  4.347826   \n​U-lock      ,Cable lock ,Frame lock (aka wheel...        0.000000   \n​U-lock      ,Cable lock ,Other (please specify):         0.000000   \n​U-lock      ,Chain-lock combination (chain wit...        2.173913   \n​U-lock      ,Chain-lock combination (chain wit...        0.000000   \n​U-lock      ,Chain-lock combination (chain wit...        0.000000   \n​U-lock      ,Chain-lock with padlock                     0.000000   \n​U-lock      ,Chain-lock with padlock ,Cable lock         0.000000   \n​U-lock      ,Don’t know/not sure                         0.000000   \n​U-lock      ,Folding lock                                0.000000   \n​U-lock      ,Folding lock ,Other (please speci...        0.000000   \n​U-lock      ,Frame lock (aka wheel lock/O-lock...        0.000000   \n​U-lock      ,Locking skewers                             0.000000   \n​U-lock      ,Other (please specify):                     0.000000   \n​U-lock      ,Two U-Locks ,Chain-lock combinati...        0.000000   \n​U-lock      ,Two U-Locks ,Chain-lock with padl...        0.000000   \n\nQ13                                                 Don’t know/not sure   \\\nQ8                                                                         \nCable lock                                                     33.333333   \nCable lock ,Don’t know/not sure                                 0.000000   \nCable lock ,Frame lock (aka wheel lock/O-lock/r...              0.000000   \nCable lock ,Other (please specify):                             0.000000   \nChain-lock combination (chain with mini u-lock ...             33.333333   \nChain-lock combination (chain with mini u-lock ...              0.000000   \nChain-lock combination (chain with mini u-lock ...              0.000000   \nChain-lock combination (chain with mini u-lock ...              0.000000   \nChain-lock combination (chain with mini u-lock ...              0.000000   \nChain-lock combination (chain with mini u-lock ...              0.000000   \nChain-lock combination (chain with mini u-lock ...              0.000000   \nChain-lock combination (chain with mini u-lock ...              0.000000   \nChain-lock with padlock                                         0.000000   \nChain-lock with padlock ,Cable lock                             0.000000   \nChain-lock with padlock ,Cable lock ,Other (ple...              0.000000   \nChain-lock with padlock ,Folding lock                           0.000000   \nChain-lock with padlock ,Frame lock (aka wheel ...              0.000000   \nChain-lock with padlock ,Locking skewers                        0.000000   \nChain-lock with padlock ,Other (please specify):                0.000000   \nDon’t know/not sure                                             0.000000   \nFolding lock                                                    0.000000   \nFolding lock ,Frame lock (aka wheel lock/O-lock...              0.000000   \nFolding lock ,Other (please specify):                           0.000000   \nFolding lock ,Other (please specify):,Don’t kno...              0.000000   \nFrame lock (aka wheel lock/O-lock/ring lock)                    0.000000   \nLocking skewers                                                 0.000000   \nLocking skewers ,Cable lock                                     0.000000   \nLocking skewers ,Folding lock                                   0.000000   \nLocking skewers ,Other (please specify):                        0.000000   \nOther (please specify):                                        33.333333   \nOther (please specify):,Don’t know/not sure                     0.000000   \nTwo U-Locks                                                     0.000000   \nTwo U-Locks ,Cable lock                                         0.000000   \nTwo U-Locks ,Cable lock ,Other (please specify):                0.000000   \nTwo U-Locks ,Chain-lock combination (chain with...              0.000000   \nTwo U-Locks ,Chain-lock combination (chain with...              0.000000   \nTwo U-Locks ,Chain-lock with padlock                            0.000000   \nTwo U-Locks ,Chain-lock with padlock ,Folding l...              0.000000   \nTwo U-Locks ,Other (please specify):                            0.000000   \n​U-lock                                                         0.000000   \n​U-lock      ,Cable lock                                        0.000000   \n​U-lock      ,Cable lock ,Frame lock (aka wheel...              0.000000   \n​U-lock      ,Cable lock ,Other (please specify):               0.000000   \n​U-lock      ,Chain-lock combination (chain wit...              0.000000   \n​U-lock      ,Chain-lock combination (chain wit...              0.000000   \n​U-lock      ,Chain-lock combination (chain wit...              0.000000   \n​U-lock      ,Chain-lock with padlock                           0.000000   \n​U-lock      ,Chain-lock with padlock ,Cable lock               0.000000   \n​U-lock      ,Don’t know/not sure                               0.000000   \n​U-lock      ,Folding lock                                      0.000000   \n​U-lock      ,Folding lock ,Other (please speci...              0.000000   \n​U-lock      ,Frame lock (aka wheel lock/O-lock...              0.000000   \n​U-lock      ,Locking skewers                                   0.000000   \n​U-lock      ,Other (please specify):                           0.000000   \n​U-lock      ,Two U-Locks ,Chain-lock combinati...              0.000000   \n​U-lock      ,Two U-Locks ,Chain-lock with padl...              0.000000   \n\nQ13                                                 I prefer to not answer  \\\nQ8                                                                           \nCable lock                                                             0.0   \nCable lock ,Don’t know/not sure                                        0.0   \nCable lock ,Frame lock (aka wheel lock/O-lock/r...                     0.0   \nCable lock ,Other (please specify):                                    0.0   \nChain-lock combination (chain with mini u-lock ...                     0.0   \nChain-lock combination (chain with mini u-lock ...                     0.0   \nChain-lock combination (chain with mini u-lock ...                     0.0   \nChain-lock combination (chain with mini u-lock ...                     0.0   \nChain-lock combination (chain with mini u-lock ...                     0.0   \nChain-lock combination (chain with mini u-lock ...                     0.0   \nChain-lock combination (chain with mini u-lock ...                     0.0   \nChain-lock combination (chain with mini u-lock ...                     0.0   \nChain-lock with padlock                                                0.0   \nChain-lock with padlock ,Cable lock                                    0.0   \nChain-lock with padlock ,Cable lock ,Other (ple...                     0.0   \nChain-lock with padlock ,Folding lock                                  0.0   \nChain-lock with padlock ,Frame lock (aka wheel ...                     0.0   \nChain-lock with padlock ,Locking skewers                               0.0   \nChain-lock with padlock ,Other (please specify):                       0.0   \nDon’t know/not sure                                                    0.0   \nFolding lock                                                           0.0   \nFolding lock ,Frame lock (aka wheel lock/O-lock...                     0.0   \nFolding lock ,Other (please specify):                                  0.0   \nFolding lock ,Other (please specify):,Don’t kno...                     0.0   \nFrame lock (aka wheel lock/O-lock/ring lock)                           0.0   \nLocking skewers                                                        0.0   \nLocking skewers ,Cable lock                                            0.0   \nLocking skewers ,Folding lock                                          0.0   \nLocking skewers ,Other (please specify):                               0.0   \nOther (please specify):                                              100.0   \nOther (please specify):,Don’t know/not sure                            0.0   \nTwo U-Locks                                                            0.0   \nTwo U-Locks ,Cable lock                                                0.0   \nTwo U-Locks ,Cable lock ,Other (please specify):                       0.0   \nTwo U-Locks ,Chain-lock combination (chain with...                     0.0   \nTwo U-Locks ,Chain-lock combination (chain with...                     0.0   \nTwo U-Locks ,Chain-lock with padlock                                   0.0   \nTwo U-Locks ,Chain-lock with padlock ,Folding l...                     0.0   \nTwo U-Locks ,Other (please specify):                                   0.0   \n​U-lock                                                                0.0   \n​U-lock      ,Cable lock                                               0.0   \n​U-lock      ,Cable lock ,Frame lock (aka wheel...                     0.0   \n​U-lock      ,Cable lock ,Other (please specify):                      0.0   \n​U-lock      ,Chain-lock combination (chain wit...                     0.0   \n​U-lock      ,Chain-lock combination (chain wit...                     0.0   \n​U-lock      ,Chain-lock combination (chain wit...                     0.0   \n​U-lock      ,Chain-lock with padlock                                  0.0   \n​U-lock      ,Chain-lock with padlock ,Cable lock                      0.0   \n​U-lock      ,Don’t know/not sure                                      0.0   \n​U-lock      ,Folding lock                                             0.0   \n​U-lock      ,Folding lock ,Other (please speci...                     0.0   \n​U-lock      ,Frame lock (aka wheel lock/O-lock...                     0.0   \n​U-lock      ,Locking skewers                                          0.0   \n​U-lock      ,Other (please specify):                                  0.0   \n​U-lock      ,Two U-Locks ,Chain-lock combinati...                     0.0   \n​U-lock      ,Two U-Locks ,Chain-lock with padl...                     0.0   \n\nQ13                                                 Less than $250   \nQ8                                                                   \nCable lock                                                43.750000  \nCable lock ,Don’t know/not sure                            0.000000  \nCable lock ,Frame lock (aka wheel lock/O-lock/r...         0.000000  \nCable lock ,Other (please specify):                        0.000000  \nChain-lock combination (chain with mini u-lock ...         4.166667  \nChain-lock combination (chain with mini u-lock ...         2.083333  \nChain-lock combination (chain with mini u-lock ...         0.000000  \nChain-lock combination (chain with mini u-lock ...         0.000000  \nChain-lock combination (chain with mini u-lock ...         0.000000  \nChain-lock combination (chain with mini u-lock ...         0.000000  \nChain-lock combination (chain with mini u-lock ...         0.000000  \nChain-lock combination (chain with mini u-lock ...         0.000000  \nChain-lock with padlock                                    6.250000  \nChain-lock with padlock ,Cable lock                        0.000000  \nChain-lock with padlock ,Cable lock ,Other (ple...         0.000000  \nChain-lock with padlock ,Folding lock                      0.000000  \nChain-lock with padlock ,Frame lock (aka wheel ...         0.000000  \nChain-lock with padlock ,Locking skewers                   0.000000  \nChain-lock with padlock ,Other (please specify):           0.000000  \nDon’t know/not sure                                        2.083333  \nFolding lock                                               0.000000  \nFolding lock ,Frame lock (aka wheel lock/O-lock...         0.000000  \nFolding lock ,Other (please specify):                      0.000000  \nFolding lock ,Other (please specify):,Don’t kno...         0.000000  \nFrame lock (aka wheel lock/O-lock/ring lock)               2.083333  \nLocking skewers                                            0.000000  \nLocking skewers ,Cable lock                                0.000000  \nLocking skewers ,Folding lock                              0.000000  \nLocking skewers ,Other (please specify):                   0.000000  \nOther (please specify):                                    4.166667  \nOther (please specify):,Don’t know/not sure                0.000000  \nTwo U-Locks                                                0.000000  \nTwo U-Locks ,Cable lock                                    2.083333  \nTwo U-Locks ,Cable lock ,Other (please specify):           0.000000  \nTwo U-Locks ,Chain-lock combination (chain with...         0.000000  \nTwo U-Locks ,Chain-lock combination (chain with...         0.000000  \nTwo U-Locks ,Chain-lock with padlock                       0.000000  \nTwo U-Locks ,Chain-lock with padlock ,Folding l...         0.000000  \nTwo U-Locks ,Other (please specify):                       0.000000  \n​U-lock                                                   27.083333  \n​U-lock      ,Cable lock                                   4.166667  \n​U-lock      ,Cable lock ,Frame lock (aka wheel...         0.000000  \n​U-lock      ,Cable lock ,Other (please specify):          0.000000  \n​U-lock      ,Chain-lock combination (chain wit...         2.083333  \n​U-lock      ,Chain-lock combination (chain wit...         0.000000  \n​U-lock      ,Chain-lock combination (chain wit...         0.000000  \n​U-lock      ,Chain-lock with padlock                      0.000000  \n​U-lock      ,Chain-lock with padlock ,Cable lock          0.000000  \n​U-lock      ,Don’t know/not sure                          0.000000  \n​U-lock      ,Folding lock                                 0.000000  \n​U-lock      ,Folding lock ,Other (please speci...         0.000000  \n​U-lock      ,Frame lock (aka wheel lock/O-lock...         0.000000  \n​U-lock      ,Locking skewers                              0.000000  \n​U-lock      ,Other (please specify):                      0.000000  \n​U-lock      ,Two U-Locks ,Chain-lock combinati...         0.000000  \n​U-lock      ,Two U-Locks ,Chain-lock with padl...         0.000000  ",
      "text/html": "<div>\n<style scoped>\n    .dataframe tbody tr th:only-of-type {\n        vertical-align: middle;\n    }\n\n    .dataframe tbody tr th {\n        vertical-align: top;\n    }\n\n    .dataframe thead th {\n        text-align: right;\n    }\n</style>\n<table border=\"1\" class=\"dataframe\">\n  <thead>\n    <tr style=\"text-align: right;\">\n      <th>Q13</th>\n      <th>$1000-$1999</th>\n      <th>$2000-3999</th>\n      <th>$250-$499</th>\n      <th>$4000-6999</th>\n      <th>$500-$999</th>\n      <th>$7000 or more</th>\n      <th>Don’t know/not sure</th>\n      <th>I prefer to not answer</th>\n      <th>Less than $250</th>\n    </tr>\n    <tr>\n      <th>Q8</th>\n      <th></th>\n      <th></th>\n      <th></th>\n      <th></th>\n      <th></th>\n      <th></th>\n      <th></th>\n      <th></th>\n      <th></th>\n    </tr>\n  </thead>\n  <tbody>\n    <tr>\n      <th>Cable lock</th>\n      <td>30.487805</td>\n      <td>31.360947</td>\n      <td>37.414966</td>\n      <td>32.530120</td>\n      <td>37.345679</td>\n      <td>32.608696</td>\n      <td>33.333333</td>\n      <td>0.0</td>\n      <td>43.750000</td>\n    </tr>\n    <tr>\n      <th>Cable lock ,Don’t know/not sure</th>\n      <td>0.000000</td>\n      <td>0.591716</td>\n      <td>0.000000</td>\n      <td>0.000000</td>\n      <td>0.000000</td>\n      <td>0.000000</td>\n      <td>0.000000</td>\n      <td>0.0</td>\n      <td>0.000000</td>\n    </tr>\n    <tr>\n      <th>Cable lock ,Frame lock (aka wheel lock/O-lock/ring lock)</th>\n      <td>0.406504</td>\n      <td>0.000000</td>\n      <td>0.000000</td>\n      <td>0.000000</td>\n      <td>0.308642</td>\n      <td>2.173913</td>\n      <td>0.000000</td>\n      <td>0.0</td>\n      <td>0.000000</td>\n    </tr>\n    <tr>\n      <th>Cable lock ,Other (please specify):</th>\n      <td>1.626016</td>\n      <td>1.183432</td>\n      <td>2.040816</td>\n      <td>2.409639</td>\n      <td>0.925926</td>\n      <td>4.347826</td>\n      <td>0.000000</td>\n      <td>0.0</td>\n      <td>0.000000</td>\n    </tr>\n    <tr>\n      <th>Chain-lock combination (chain with mini u-lock or integrated locking mechanism)</th>\n      <td>5.691057</td>\n      <td>7.100592</td>\n      <td>13.605442</td>\n      <td>2.409639</td>\n      <td>8.333333</td>\n      <td>10.869565</td>\n      <td>33.333333</td>\n      <td>0.0</td>\n      <td>4.166667</td>\n    </tr>\n    <tr>\n      <th>Chain-lock combination (chain with mini u-lock or integrated locking mechanism),Cable lock</th>\n      <td>0.813008</td>\n      <td>0.000000</td>\n      <td>0.680272</td>\n      <td>0.000000</td>\n      <td>0.308642</td>\n      <td>2.173913</td>\n      <td>0.000000</td>\n      <td>0.0</td>\n      <td>2.083333</td>\n    </tr>\n    <tr>\n      <th>Chain-lock combination (chain with mini u-lock or integrated locking mechanism),Cable lock ,Other (please specify):</th>\n      <td>0.000000</td>\n      <td>0.000000</td>\n      <td>0.000000</td>\n      <td>0.000000</td>\n      <td>0.308642</td>\n      <td>0.000000</td>\n      <td>0.000000</td>\n      <td>0.0</td>\n      <td>0.000000</td>\n    </tr>\n    <tr>\n      <th>Chain-lock combination (chain with mini u-lock or integrated locking mechanism),Chain-lock with padlock</th>\n      <td>0.000000</td>\n      <td>0.000000</td>\n      <td>0.000000</td>\n      <td>0.000000</td>\n      <td>0.308642</td>\n      <td>0.000000</td>\n      <td>0.000000</td>\n      <td>0.0</td>\n      <td>0.000000</td>\n    </tr>\n    <tr>\n      <th>Chain-lock combination (chain with mini u-lock or integrated locking mechanism),Chain-lock with padlock ,Cable lock</th>\n      <td>0.000000</td>\n      <td>0.000000</td>\n      <td>0.000000</td>\n      <td>1.204819</td>\n      <td>0.000000</td>\n      <td>0.000000</td>\n      <td>0.000000</td>\n      <td>0.0</td>\n      <td>0.000000</td>\n    </tr>\n    <tr>\n      <th>Chain-lock combination (chain with mini u-lock or integrated locking mechanism),Folding lock</th>\n      <td>0.000000</td>\n      <td>0.000000</td>\n      <td>0.680272</td>\n      <td>0.000000</td>\n      <td>0.000000</td>\n      <td>0.000000</td>\n      <td>0.000000</td>\n      <td>0.0</td>\n      <td>0.000000</td>\n    </tr>\n    <tr>\n      <th>Chain-lock combination (chain with mini u-lock or integrated locking mechanism),Frame lock (aka wheel lock/O-lock/ring lock)</th>\n      <td>0.000000</td>\n      <td>0.000000</td>\n      <td>0.000000</td>\n      <td>2.409639</td>\n      <td>0.000000</td>\n      <td>0.000000</td>\n      <td>0.000000</td>\n      <td>0.0</td>\n      <td>0.000000</td>\n    </tr>\n    <tr>\n      <th>Chain-lock combination (chain with mini u-lock or integrated locking mechanism),Other (please specify):</th>\n      <td>0.406504</td>\n      <td>0.000000</td>\n      <td>0.000000</td>\n      <td>1.204819</td>\n      <td>0.308642</td>\n      <td>0.000000</td>\n      <td>0.000000</td>\n      <td>0.0</td>\n      <td>0.000000</td>\n    </tr>\n    <tr>\n      <th>Chain-lock with padlock</th>\n      <td>5.691057</td>\n      <td>5.325444</td>\n      <td>3.401361</td>\n      <td>3.614458</td>\n      <td>3.703704</td>\n      <td>2.173913</td>\n      <td>0.000000</td>\n      <td>0.0</td>\n      <td>6.250000</td>\n    </tr>\n    <tr>\n      <th>Chain-lock with padlock ,Cable lock</th>\n      <td>0.406504</td>\n      <td>1.183432</td>\n      <td>0.000000</td>\n      <td>0.000000</td>\n      <td>0.617284</td>\n      <td>2.173913</td>\n      <td>0.000000</td>\n      <td>0.0</td>\n      <td>0.000000</td>\n    </tr>\n    <tr>\n      <th>Chain-lock with padlock ,Cable lock ,Other (please specify):</th>\n      <td>0.000000</td>\n      <td>0.591716</td>\n      <td>0.680272</td>\n      <td>0.000000</td>\n      <td>0.000000</td>\n      <td>0.000000</td>\n      <td>0.000000</td>\n      <td>0.0</td>\n      <td>0.000000</td>\n    </tr>\n    <tr>\n      <th>Chain-lock with padlock ,Folding lock</th>\n      <td>0.406504</td>\n      <td>0.000000</td>\n      <td>0.000000</td>\n      <td>0.000000</td>\n      <td>0.000000</td>\n      <td>0.000000</td>\n      <td>0.000000</td>\n      <td>0.0</td>\n      <td>0.000000</td>\n    </tr>\n    <tr>\n      <th>Chain-lock with padlock ,Frame lock (aka wheel lock/O-lock/ring lock)</th>\n      <td>0.000000</td>\n      <td>1.775148</td>\n      <td>0.000000</td>\n      <td>0.000000</td>\n      <td>0.000000</td>\n      <td>0.000000</td>\n      <td>0.000000</td>\n      <td>0.0</td>\n      <td>0.000000</td>\n    </tr>\n    <tr>\n      <th>Chain-lock with padlock ,Locking skewers</th>\n      <td>0.000000</td>\n      <td>0.000000</td>\n      <td>0.000000</td>\n      <td>0.000000</td>\n      <td>0.000000</td>\n      <td>2.173913</td>\n      <td>0.000000</td>\n      <td>0.0</td>\n      <td>0.000000</td>\n    </tr>\n    <tr>\n      <th>Chain-lock with padlock ,Other (please specify):</th>\n      <td>0.000000</td>\n      <td>0.000000</td>\n      <td>0.000000</td>\n      <td>1.204819</td>\n      <td>0.000000</td>\n      <td>0.000000</td>\n      <td>0.000000</td>\n      <td>0.0</td>\n      <td>0.000000</td>\n    </tr>\n    <tr>\n      <th>Don’t know/not sure</th>\n      <td>0.000000</td>\n      <td>0.000000</td>\n      <td>0.680272</td>\n      <td>0.000000</td>\n      <td>0.000000</td>\n      <td>2.173913</td>\n      <td>0.000000</td>\n      <td>0.0</td>\n      <td>2.083333</td>\n    </tr>\n    <tr>\n      <th>Folding lock</th>\n      <td>3.252033</td>\n      <td>2.366864</td>\n      <td>2.040816</td>\n      <td>6.024096</td>\n      <td>1.234568</td>\n      <td>0.000000</td>\n      <td>0.000000</td>\n      <td>0.0</td>\n      <td>0.000000</td>\n    </tr>\n    <tr>\n      <th>Folding lock ,Frame lock (aka wheel lock/O-lock/ring lock)</th>\n      <td>0.406504</td>\n      <td>0.591716</td>\n      <td>0.000000</td>\n      <td>0.000000</td>\n      <td>0.000000</td>\n      <td>0.000000</td>\n      <td>0.000000</td>\n      <td>0.0</td>\n      <td>0.000000</td>\n    </tr>\n    <tr>\n      <th>Folding lock ,Other (please specify):</th>\n      <td>0.000000</td>\n      <td>0.000000</td>\n      <td>0.000000</td>\n      <td>1.204819</td>\n      <td>0.000000</td>\n      <td>0.000000</td>\n      <td>0.000000</td>\n      <td>0.0</td>\n      <td>0.000000</td>\n    </tr>\n    <tr>\n      <th>Folding lock ,Other (please specify):,Don’t know/not sure</th>\n      <td>0.000000</td>\n      <td>0.591716</td>\n      <td>0.000000</td>\n      <td>0.000000</td>\n      <td>0.000000</td>\n      <td>0.000000</td>\n      <td>0.000000</td>\n      <td>0.0</td>\n      <td>0.000000</td>\n    </tr>\n    <tr>\n      <th>Frame lock (aka wheel lock/O-lock/ring lock)</th>\n      <td>0.000000</td>\n      <td>1.775148</td>\n      <td>0.680272</td>\n      <td>0.000000</td>\n      <td>0.617284</td>\n      <td>2.173913</td>\n      <td>0.000000</td>\n      <td>0.0</td>\n      <td>2.083333</td>\n    </tr>\n    <tr>\n      <th>Locking skewers</th>\n      <td>0.000000</td>\n      <td>0.591716</td>\n      <td>0.000000</td>\n      <td>0.000000</td>\n      <td>0.000000</td>\n      <td>0.000000</td>\n      <td>0.000000</td>\n      <td>0.0</td>\n      <td>0.000000</td>\n    </tr>\n    <tr>\n      <th>Locking skewers ,Cable lock</th>\n      <td>0.000000</td>\n      <td>0.000000</td>\n      <td>0.000000</td>\n      <td>3.614458</td>\n      <td>0.000000</td>\n      <td>0.000000</td>\n      <td>0.000000</td>\n      <td>0.0</td>\n      <td>0.000000</td>\n    </tr>\n    <tr>\n      <th>Locking skewers ,Folding lock</th>\n      <td>0.000000</td>\n      <td>0.000000</td>\n      <td>0.000000</td>\n      <td>0.000000</td>\n      <td>0.617284</td>\n      <td>0.000000</td>\n      <td>0.000000</td>\n      <td>0.0</td>\n      <td>0.000000</td>\n    </tr>\n    <tr>\n      <th>Locking skewers ,Other (please specify):</th>\n      <td>0.000000</td>\n      <td>0.000000</td>\n      <td>0.000000</td>\n      <td>1.204819</td>\n      <td>0.000000</td>\n      <td>0.000000</td>\n      <td>0.000000</td>\n      <td>0.0</td>\n      <td>0.000000</td>\n    </tr>\n    <tr>\n      <th>Other (please specify):</th>\n      <td>7.723577</td>\n      <td>10.059172</td>\n      <td>4.081633</td>\n      <td>10.843373</td>\n      <td>2.469136</td>\n      <td>17.391304</td>\n      <td>33.333333</td>\n      <td>100.0</td>\n      <td>4.166667</td>\n    </tr>\n    <tr>\n      <th>Other (please specify):,Don’t know/not sure</th>\n      <td>0.000000</td>\n      <td>0.000000</td>\n      <td>0.000000</td>\n      <td>1.204819</td>\n      <td>0.308642</td>\n      <td>0.000000</td>\n      <td>0.000000</td>\n      <td>0.0</td>\n      <td>0.000000</td>\n    </tr>\n    <tr>\n      <th>Two U-Locks</th>\n      <td>2.032520</td>\n      <td>1.183432</td>\n      <td>0.000000</td>\n      <td>3.614458</td>\n      <td>1.234568</td>\n      <td>0.000000</td>\n      <td>0.000000</td>\n      <td>0.0</td>\n      <td>0.000000</td>\n    </tr>\n    <tr>\n      <th>Two U-Locks ,Cable lock</th>\n      <td>1.219512</td>\n      <td>0.000000</td>\n      <td>0.000000</td>\n      <td>0.000000</td>\n      <td>0.000000</td>\n      <td>0.000000</td>\n      <td>0.000000</td>\n      <td>0.0</td>\n      <td>2.083333</td>\n    </tr>\n    <tr>\n      <th>Two U-Locks ,Cable lock ,Other (please specify):</th>\n      <td>0.000000</td>\n      <td>0.000000</td>\n      <td>0.000000</td>\n      <td>0.000000</td>\n      <td>0.308642</td>\n      <td>0.000000</td>\n      <td>0.000000</td>\n      <td>0.0</td>\n      <td>0.000000</td>\n    </tr>\n    <tr>\n      <th>Two U-Locks ,Chain-lock combination (chain with mini u-lock or integrated locking mechanism)</th>\n      <td>0.000000</td>\n      <td>0.000000</td>\n      <td>0.000000</td>\n      <td>1.204819</td>\n      <td>0.308642</td>\n      <td>0.000000</td>\n      <td>0.000000</td>\n      <td>0.0</td>\n      <td>0.000000</td>\n    </tr>\n    <tr>\n      <th>Two U-Locks ,Chain-lock combination (chain with mini u-lock or integrated locking mechanism),Cable lock</th>\n      <td>0.000000</td>\n      <td>0.000000</td>\n      <td>0.000000</td>\n      <td>1.204819</td>\n      <td>0.000000</td>\n      <td>0.000000</td>\n      <td>0.000000</td>\n      <td>0.0</td>\n      <td>0.000000</td>\n    </tr>\n    <tr>\n      <th>Two U-Locks ,Chain-lock with padlock</th>\n      <td>0.406504</td>\n      <td>0.000000</td>\n      <td>0.000000</td>\n      <td>0.000000</td>\n      <td>0.000000</td>\n      <td>0.000000</td>\n      <td>0.000000</td>\n      <td>0.0</td>\n      <td>0.000000</td>\n    </tr>\n    <tr>\n      <th>Two U-Locks ,Chain-lock with padlock ,Folding lock ,Other (please specify):</th>\n      <td>0.000000</td>\n      <td>0.000000</td>\n      <td>0.000000</td>\n      <td>0.000000</td>\n      <td>0.000000</td>\n      <td>2.173913</td>\n      <td>0.000000</td>\n      <td>0.0</td>\n      <td>0.000000</td>\n    </tr>\n    <tr>\n      <th>Two U-Locks ,Other (please specify):</th>\n      <td>0.000000</td>\n      <td>0.000000</td>\n      <td>0.000000</td>\n      <td>0.000000</td>\n      <td>0.308642</td>\n      <td>0.000000</td>\n      <td>0.000000</td>\n      <td>0.0</td>\n      <td>0.000000</td>\n    </tr>\n    <tr>\n      <th>​U-lock</th>\n      <td>31.300813</td>\n      <td>21.301775</td>\n      <td>27.210884</td>\n      <td>9.638554</td>\n      <td>29.320988</td>\n      <td>10.869565</td>\n      <td>0.000000</td>\n      <td>0.0</td>\n      <td>27.083333</td>\n    </tr>\n    <tr>\n      <th>​U-lock      ,Cable lock</th>\n      <td>3.658537</td>\n      <td>4.733728</td>\n      <td>6.122449</td>\n      <td>3.614458</td>\n      <td>5.246914</td>\n      <td>4.347826</td>\n      <td>0.000000</td>\n      <td>0.0</td>\n      <td>4.166667</td>\n    </tr>\n    <tr>\n      <th>​U-lock      ,Cable lock ,Frame lock (aka wheel lock/O-lock/ring lock)</th>\n      <td>0.000000</td>\n      <td>0.000000</td>\n      <td>0.000000</td>\n      <td>1.204819</td>\n      <td>0.000000</td>\n      <td>0.000000</td>\n      <td>0.000000</td>\n      <td>0.0</td>\n      <td>0.000000</td>\n    </tr>\n    <tr>\n      <th>​U-lock      ,Cable lock ,Other (please specify):</th>\n      <td>0.000000</td>\n      <td>0.591716</td>\n      <td>0.000000</td>\n      <td>1.204819</td>\n      <td>0.000000</td>\n      <td>0.000000</td>\n      <td>0.000000</td>\n      <td>0.0</td>\n      <td>0.000000</td>\n    </tr>\n    <tr>\n      <th>​U-lock      ,Chain-lock combination (chain with mini u-lock or integrated locking mechanism)</th>\n      <td>0.813008</td>\n      <td>2.366864</td>\n      <td>0.000000</td>\n      <td>3.614458</td>\n      <td>1.851852</td>\n      <td>2.173913</td>\n      <td>0.000000</td>\n      <td>0.0</td>\n      <td>2.083333</td>\n    </tr>\n    <tr>\n      <th>​U-lock      ,Chain-lock combination (chain with mini u-lock or integrated locking mechanism),Cable lock ,Folding lock</th>\n      <td>0.406504</td>\n      <td>0.000000</td>\n      <td>0.000000</td>\n      <td>0.000000</td>\n      <td>0.000000</td>\n      <td>0.000000</td>\n      <td>0.000000</td>\n      <td>0.0</td>\n      <td>0.000000</td>\n    </tr>\n    <tr>\n      <th>​U-lock      ,Chain-lock combination (chain with mini u-lock or integrated locking mechanism),Cable lock ,Other (please specify):</th>\n      <td>0.000000</td>\n      <td>0.591716</td>\n      <td>0.000000</td>\n      <td>0.000000</td>\n      <td>0.000000</td>\n      <td>0.000000</td>\n      <td>0.000000</td>\n      <td>0.0</td>\n      <td>0.000000</td>\n    </tr>\n    <tr>\n      <th>​U-lock      ,Chain-lock with padlock</th>\n      <td>0.000000</td>\n      <td>0.591716</td>\n      <td>0.000000</td>\n      <td>0.000000</td>\n      <td>0.925926</td>\n      <td>0.000000</td>\n      <td>0.000000</td>\n      <td>0.0</td>\n      <td>0.000000</td>\n    </tr>\n    <tr>\n      <th>​U-lock      ,Chain-lock with padlock ,Cable lock</th>\n      <td>0.000000</td>\n      <td>0.000000</td>\n      <td>0.000000</td>\n      <td>1.204819</td>\n      <td>0.000000</td>\n      <td>0.000000</td>\n      <td>0.000000</td>\n      <td>0.0</td>\n      <td>0.000000</td>\n    </tr>\n    <tr>\n      <th>​U-lock      ,Don’t know/not sure</th>\n      <td>0.000000</td>\n      <td>0.000000</td>\n      <td>0.000000</td>\n      <td>0.000000</td>\n      <td>0.308642</td>\n      <td>0.000000</td>\n      <td>0.000000</td>\n      <td>0.0</td>\n      <td>0.000000</td>\n    </tr>\n    <tr>\n      <th>​U-lock      ,Folding lock</th>\n      <td>0.406504</td>\n      <td>0.000000</td>\n      <td>0.000000</td>\n      <td>0.000000</td>\n      <td>0.000000</td>\n      <td>0.000000</td>\n      <td>0.000000</td>\n      <td>0.0</td>\n      <td>0.000000</td>\n    </tr>\n    <tr>\n      <th>​U-lock      ,Folding lock ,Other (please specify):</th>\n      <td>0.000000</td>\n      <td>0.000000</td>\n      <td>0.000000</td>\n      <td>1.204819</td>\n      <td>0.000000</td>\n      <td>0.000000</td>\n      <td>0.000000</td>\n      <td>0.0</td>\n      <td>0.000000</td>\n    </tr>\n    <tr>\n      <th>​U-lock      ,Frame lock (aka wheel lock/O-lock/ring lock)</th>\n      <td>0.000000</td>\n      <td>0.591716</td>\n      <td>0.000000</td>\n      <td>0.000000</td>\n      <td>0.000000</td>\n      <td>0.000000</td>\n      <td>0.000000</td>\n      <td>0.0</td>\n      <td>0.000000</td>\n    </tr>\n    <tr>\n      <th>​U-lock      ,Locking skewers</th>\n      <td>2.032520</td>\n      <td>1.183432</td>\n      <td>0.000000</td>\n      <td>0.000000</td>\n      <td>1.234568</td>\n      <td>0.000000</td>\n      <td>0.000000</td>\n      <td>0.0</td>\n      <td>0.000000</td>\n    </tr>\n    <tr>\n      <th>​U-lock      ,Other (please specify):</th>\n      <td>0.406504</td>\n      <td>1.183432</td>\n      <td>0.000000</td>\n      <td>1.204819</td>\n      <td>1.234568</td>\n      <td>0.000000</td>\n      <td>0.000000</td>\n      <td>0.0</td>\n      <td>0.000000</td>\n    </tr>\n    <tr>\n      <th>​U-lock      ,Two U-Locks ,Chain-lock combination (chain with mini u-lock or integrated locking mechanism),Chain-lock with padlock</th>\n      <td>0.000000</td>\n      <td>0.591716</td>\n      <td>0.000000</td>\n      <td>0.000000</td>\n      <td>0.000000</td>\n      <td>0.000000</td>\n      <td>0.000000</td>\n      <td>0.0</td>\n      <td>0.000000</td>\n    </tr>\n    <tr>\n      <th>​U-lock      ,Two U-Locks ,Chain-lock with padlock</th>\n      <td>0.000000</td>\n      <td>0.000000</td>\n      <td>0.680272</td>\n      <td>0.000000</td>\n      <td>0.000000</td>\n      <td>0.000000</td>\n      <td>0.000000</td>\n      <td>0.0</td>\n      <td>0.000000</td>\n    </tr>\n  </tbody>\n</table>\n</div>"
     },
     "execution_count": 39,
     "metadata": {},
     "output_type": "execute_result"
    }
   ],
   "source": [
    "# Value and lock type\n",
    "\n",
    "\n",
    "var_1 = {'q':'Q8','var':'locked_type','group':[\"Other (please specify):\"],'group2': 'other'}\n",
    "var_0 = {'q':'Q13','var':'value_approx','group':['$7000 or more '],'group2': 'Other'}\n",
    "\n",
    "only_rel= data[[var_0['q'],var_1['q']]].dropna()\n",
    "pd.crosstab(only_rel[var_1['q']],only_rel[var_0['q']],normalize='columns')*100\n",
    "clean_tables_0 = only_rel[only_rel[var_1['q']].isin(['Cable lock ', '​U-lock      ','Other (please specify):'])]\n",
    "clean_tables = clean_tables_0[~only_rel[var_0['q']].isin(['I prefer to not answer', 'Don’t know/not sure '])]\n",
    "calculate_chi_cross_tab(clean_tables,var_1,var_0)"
   ],
   "metadata": {
    "collapsed": false,
    "pycharm": {
     "name": "#%%\n"
    }
   }
  },
  {
   "cell_type": "code",
   "execution_count": 33,
   "outputs": [
    {
     "name": "stdout",
     "output_type": "stream",
     "text": [
      "Chi-square statistic: 4.01\n",
      "P-value: 0.04530\n",
      "value_approx                                        Less than $250       Other\n",
      "part                                                                          \n",
      "A major bicycle part necessary for riding (i.e....         7.894737   1.044689\n",
      "other                                                     92.105263  98.955311\n"
     ]
    }
   ],
   "source": [
    "# Value and part\n",
    "# age and is_university\n",
    "\n",
    "var_0 = {'q':'Q2','var':'part','group':[\"A major bicycle part necessary for riding (i.e., saddle, wheel, pedal, or handlebar)\"],'group2': 'other'}\n",
    "var_1 = {'q':'Q13','var':'value_approx','group':['Less than $250 '],'group2': 'Other'}\n",
    "only_rel= data[[var_0['q'],var_1['q']]].dropna()\n",
    "clean_tables = only_rel[~only_rel[var_1['q']].isin(['I prefer to not answer', 'Don’t know/not sure '])]\n",
    "\n",
    "calculate_chi_cross_tab(clean_tables,var_0,var_1)"
   ],
   "metadata": {
    "collapsed": false,
    "pycharm": {
     "name": "#%%\n"
    }
   }
  },
  {
   "cell_type": "code",
   "execution_count": 22,
   "outputs": [
    {
     "name": "stdout",
     "output_type": "stream",
     "text": [
      "Chi-square statistic: 2.08\n",
      "P-value: 0.14961\n",
      "gender           Man      Woman\n",
      "where_rep                      \n",
      "many       34.512428  45.495495\n",
      "other      65.487572  54.504505\n"
     ]
    }
   ],
   "source": [
    "# Gender and where to report\n",
    "# age and is_university\n",
    "num_to_report = 'num_to_report'\n",
    "var_0 = {'q':'Q11','var':'where_rep','group':[2,3],'group2': 'other'}\n",
    "var_1 = {'q':'Q35','var':'gender','group':['Man'],'group2': 'Woman'}\n",
    "\n",
    "only_rel= data[[var_0['q'],var_1['q']]].dropna()\n",
    "# Remove all the text inside the parenthesis and count the number of channels\n",
    "only_rel[num_to_report] = only_rel[var_0['q']].str.replace(r\"\\(.*?\\)\",\"\").str.count(',')\n",
    "var_0['q'] = num_to_report\n",
    "calculate_chi_cross_tab(only_rel,var_0,var_1,text_to_update=\"many\")\n",
    "\n",
    "# For test\n",
    "# for group in only_rel.groupby('num_to_report'):\n",
    "#     print(f'{group[0]}:{group[1][\"Q11\"].unique()}')"
   ],
   "metadata": {
    "collapsed": false,
    "pycharm": {
     "name": "#%%\n"
    }
   }
  },
  {
   "cell_type": "code",
   "execution_count": 26,
   "outputs": [
    {
     "data": {
      "text/plain": "Q13                                                 $1000-$1999   \\\nQ11                                                                \nA bicycle registry/recovery system (e.g., Bike ...      2.552204   \nA bicycle registry/recovery system (e.g., Bike ...      0.232019   \nA bicycle registry/recovery system (e.g., Bike ...      1.160093   \nA bicycle registry/recovery system (e.g., Bike ...      0.000000   \nI did not report the theft                              1.160093   \nOther (please specify):                                 1.160093   \nSocial media (e.g. Instagram, Twitter)                  0.232019   \nThe police                                             14.385151   \nThe police ,A bicycle registry/recovery system ...     31.786543   \nThe police ,A bicycle registry/recovery system ...      1.392111   \nThe police ,A bicycle registry/recovery system ...     39.907193   \nThe police ,A bicycle registry/recovery system ...      1.856148   \nThe police ,Other (please specify):                     0.696056   \nThe police ,Social media (e.g. Instagram, Twitter)      3.248260   \nThe police ,Social media (e.g. Instagram, Twitt...      0.232019   \n\nQ13                                                 $2000-3999        \\\nQ11                                                                    \nA bicycle registry/recovery system (e.g., Bike ...          1.342282   \nA bicycle registry/recovery system (e.g., Bike ...          0.671141   \nA bicycle registry/recovery system (e.g., Bike ...          0.671141   \nA bicycle registry/recovery system (e.g., Bike ...          0.000000   \nI did not report the theft                                  0.000000   \nOther (please specify):                                     0.000000   \nSocial media (e.g. Instagram, Twitter)                      0.000000   \nThe police                                                 17.785235   \nThe police ,A bicycle registry/recovery system ...         30.201342   \nThe police ,A bicycle registry/recovery system ...          1.342282   \nThe police ,A bicycle registry/recovery system ...         37.583893   \nThe police ,A bicycle registry/recovery system ...          5.704698   \nThe police ,Other (please specify):                         2.013423   \nThe police ,Social media (e.g. Instagram, Twitter)          2.013423   \nThe police ,Social media (e.g. Instagram, Twitt...          0.671141   \n\nQ13                                                 $250-$499   \\\nQ11                                                              \nA bicycle registry/recovery system (e.g., Bike ...    9.016393   \nA bicycle registry/recovery system (e.g., Bike ...    0.409836   \nA bicycle registry/recovery system (e.g., Bike ...    4.098361   \nA bicycle registry/recovery system (e.g., Bike ...    0.000000   \nI did not report the theft                            7.786885   \nOther (please specify):                               2.049180   \nSocial media (e.g. Instagram, Twitter)                2.459016   \nThe police                                           17.213115   \nThe police ,A bicycle registry/recovery system ...   33.196721   \nThe police ,A bicycle registry/recovery system ...    0.409836   \nThe police ,A bicycle registry/recovery system ...   19.262295   \nThe police ,A bicycle registry/recovery system ...    2.049180   \nThe police ,Other (please specify):                   0.819672   \nThe police ,Social media (e.g. Instagram, Twitter)    1.229508   \nThe police ,Social media (e.g. Instagram, Twitt...    0.000000   \n\nQ13                                                 $4000-6999         \\\nQ11                                                                     \nA bicycle registry/recovery system (e.g., Bike ...           0.680272   \nA bicycle registry/recovery system (e.g., Bike ...           0.000000   \nA bicycle registry/recovery system (e.g., Bike ...           0.680272   \nA bicycle registry/recovery system (e.g., Bike ...           0.000000   \nI did not report the theft                                   0.680272   \nOther (please specify):                                      0.000000   \nSocial media (e.g. Instagram, Twitter)                       0.000000   \nThe police                                                  14.965986   \nThe police ,A bicycle registry/recovery system ...          21.768707   \nThe police ,A bicycle registry/recovery system ...           1.360544   \nThe police ,A bicycle registry/recovery system ...          48.979592   \nThe police ,A bicycle registry/recovery system ...           2.040816   \nThe police ,Other (please specify):                          1.360544   \nThe police ,Social media (e.g. Instagram, Twitter)           7.482993   \nThe police ,Social media (e.g. Instagram, Twitt...           0.000000   \n\nQ13                                                 $500-$999   \\\nQ11                                                              \nA bicycle registry/recovery system (e.g., Bike ...    9.615385   \nA bicycle registry/recovery system (e.g., Bike ...    0.192308   \nA bicycle registry/recovery system (e.g., Bike ...    2.500000   \nA bicycle registry/recovery system (e.g., Bike ...    0.000000   \nI did not report the theft                            3.653846   \nOther (please specify):                               0.769231   \nSocial media (e.g. Instagram, Twitter)                0.192308   \nThe police                                           16.538462   \nThe police ,A bicycle registry/recovery system ...   30.384615   \nThe police ,A bicycle registry/recovery system ...    1.153846   \nThe police ,A bicycle registry/recovery system ...   31.153846   \nThe police ,A bicycle registry/recovery system ...    0.769231   \nThe police ,Other (please specify):                   0.192308   \nThe police ,Social media (e.g. Instagram, Twitter)    2.307692   \nThe police ,Social media (e.g. Instagram, Twitt...    0.576923   \n\nQ13                                                 $7000 or more   \\\nQ11                                                                  \nA bicycle registry/recovery system (e.g., Bike ...        0.000000   \nA bicycle registry/recovery system (e.g., Bike ...        0.000000   \nA bicycle registry/recovery system (e.g., Bike ...        2.105263   \nA bicycle registry/recovery system (e.g., Bike ...        0.000000   \nI did not report the theft                                1.052632   \nOther (please specify):                                   0.000000   \nSocial media (e.g. Instagram, Twitter)                    0.000000   \nThe police                                               21.052632   \nThe police ,A bicycle registry/recovery system ...       20.000000   \nThe police ,A bicycle registry/recovery system ...        1.052632   \nThe police ,A bicycle registry/recovery system ...       44.210526   \nThe police ,A bicycle registry/recovery system ...        5.263158   \nThe police ,Other (please specify):                       1.052632   \nThe police ,Social media (e.g. Instagram, Twitter)        4.210526   \nThe police ,Social media (e.g. Instagram, Twitt...        0.000000   \n\nQ13                                                 Don’t know/not sure   \\\nQ11                                                                        \nA bicycle registry/recovery system (e.g., Bike ...                   0.0   \nA bicycle registry/recovery system (e.g., Bike ...                   0.0   \nA bicycle registry/recovery system (e.g., Bike ...                   0.0   \nA bicycle registry/recovery system (e.g., Bike ...                   0.0   \nI did not report the theft                                           0.0   \nOther (please specify):                                              0.0   \nSocial media (e.g. Instagram, Twitter)                               0.0   \nThe police                                                          20.0   \nThe police ,A bicycle registry/recovery system ...                  40.0   \nThe police ,A bicycle registry/recovery system ...                   0.0   \nThe police ,A bicycle registry/recovery system ...                  20.0   \nThe police ,A bicycle registry/recovery system ...                  20.0   \nThe police ,Other (please specify):                                  0.0   \nThe police ,Social media (e.g. Instagram, Twitter)                   0.0   \nThe police ,Social media (e.g. Instagram, Twitt...                   0.0   \n\nQ13                                                 I prefer to not answer  \\\nQ11                                                                          \nA bicycle registry/recovery system (e.g., Bike ...                     0.0   \nA bicycle registry/recovery system (e.g., Bike ...                     0.0   \nA bicycle registry/recovery system (e.g., Bike ...                     0.0   \nA bicycle registry/recovery system (e.g., Bike ...                     0.0   \nI did not report the theft                                             0.0   \nOther (please specify):                                                0.0   \nSocial media (e.g. Instagram, Twitter)                                 0.0   \nThe police                                                            50.0   \nThe police ,A bicycle registry/recovery system ...                     0.0   \nThe police ,A bicycle registry/recovery system ...                     0.0   \nThe police ,A bicycle registry/recovery system ...                    50.0   \nThe police ,A bicycle registry/recovery system ...                     0.0   \nThe police ,Other (please specify):                                    0.0   \nThe police ,Social media (e.g. Instagram, Twitter)                     0.0   \nThe police ,Social media (e.g. Instagram, Twitt...                     0.0   \n\nQ13                                                 Less than $250   \nQ11                                                                  \nA bicycle registry/recovery system (e.g., Bike ...        11.688312  \nA bicycle registry/recovery system (e.g., Bike ...         0.000000  \nA bicycle registry/recovery system (e.g., Bike ...         5.194805  \nA bicycle registry/recovery system (e.g., Bike ...         1.298701  \nI did not report the theft                                19.480519  \nOther (please specify):                                    2.597403  \nSocial media (e.g. Instagram, Twitter)                     2.597403  \nThe police                                                24.675325  \nThe police ,A bicycle registry/recovery system ...        18.181818  \nThe police ,A bicycle registry/recovery system ...         1.298701  \nThe police ,A bicycle registry/recovery system ...        12.987013  \nThe police ,A bicycle registry/recovery system ...         0.000000  \nThe police ,Other (please specify):                        0.000000  \nThe police ,Social media (e.g. Instagram, Twitter)         0.000000  \nThe police ,Social media (e.g. Instagram, Twitt...         0.000000  ",
      "text/html": "<div>\n<style scoped>\n    .dataframe tbody tr th:only-of-type {\n        vertical-align: middle;\n    }\n\n    .dataframe tbody tr th {\n        vertical-align: top;\n    }\n\n    .dataframe thead th {\n        text-align: right;\n    }\n</style>\n<table border=\"1\" class=\"dataframe\">\n  <thead>\n    <tr style=\"text-align: right;\">\n      <th>Q13</th>\n      <th>$1000-$1999</th>\n      <th>$2000-3999</th>\n      <th>$250-$499</th>\n      <th>$4000-6999</th>\n      <th>$500-$999</th>\n      <th>$7000 or more</th>\n      <th>Don’t know/not sure</th>\n      <th>I prefer to not answer</th>\n      <th>Less than $250</th>\n    </tr>\n    <tr>\n      <th>Q11</th>\n      <th></th>\n      <th></th>\n      <th></th>\n      <th></th>\n      <th></th>\n      <th></th>\n      <th></th>\n      <th></th>\n      <th></th>\n    </tr>\n  </thead>\n  <tbody>\n    <tr>\n      <th>A bicycle registry/recovery system (e.g., Bike Index, a university registration program)</th>\n      <td>2.552204</td>\n      <td>1.342282</td>\n      <td>9.016393</td>\n      <td>0.680272</td>\n      <td>9.615385</td>\n      <td>0.000000</td>\n      <td>0.0</td>\n      <td>0.0</td>\n      <td>11.688312</td>\n    </tr>\n    <tr>\n      <th>A bicycle registry/recovery system (e.g., Bike Index, a university registration program),Other (please specify):</th>\n      <td>0.232019</td>\n      <td>0.671141</td>\n      <td>0.409836</td>\n      <td>0.000000</td>\n      <td>0.192308</td>\n      <td>0.000000</td>\n      <td>0.0</td>\n      <td>0.0</td>\n      <td>0.000000</td>\n    </tr>\n    <tr>\n      <th>A bicycle registry/recovery system (e.g., Bike Index, a university registration program),Social media (e.g. Instagram, Twitter)</th>\n      <td>1.160093</td>\n      <td>0.671141</td>\n      <td>4.098361</td>\n      <td>0.680272</td>\n      <td>2.500000</td>\n      <td>2.105263</td>\n      <td>0.0</td>\n      <td>0.0</td>\n      <td>5.194805</td>\n    </tr>\n    <tr>\n      <th>A bicycle registry/recovery system (e.g., Bike Index, a university registration program),Social media (e.g. Instagram, Twitter),Other (please specify):</th>\n      <td>0.000000</td>\n      <td>0.000000</td>\n      <td>0.000000</td>\n      <td>0.000000</td>\n      <td>0.000000</td>\n      <td>0.000000</td>\n      <td>0.0</td>\n      <td>0.0</td>\n      <td>1.298701</td>\n    </tr>\n    <tr>\n      <th>I did not report the theft</th>\n      <td>1.160093</td>\n      <td>0.000000</td>\n      <td>7.786885</td>\n      <td>0.680272</td>\n      <td>3.653846</td>\n      <td>1.052632</td>\n      <td>0.0</td>\n      <td>0.0</td>\n      <td>19.480519</td>\n    </tr>\n    <tr>\n      <th>Other (please specify):</th>\n      <td>1.160093</td>\n      <td>0.000000</td>\n      <td>2.049180</td>\n      <td>0.000000</td>\n      <td>0.769231</td>\n      <td>0.000000</td>\n      <td>0.0</td>\n      <td>0.0</td>\n      <td>2.597403</td>\n    </tr>\n    <tr>\n      <th>Social media (e.g. Instagram, Twitter)</th>\n      <td>0.232019</td>\n      <td>0.000000</td>\n      <td>2.459016</td>\n      <td>0.000000</td>\n      <td>0.192308</td>\n      <td>0.000000</td>\n      <td>0.0</td>\n      <td>0.0</td>\n      <td>2.597403</td>\n    </tr>\n    <tr>\n      <th>The police</th>\n      <td>14.385151</td>\n      <td>17.785235</td>\n      <td>17.213115</td>\n      <td>14.965986</td>\n      <td>16.538462</td>\n      <td>21.052632</td>\n      <td>20.0</td>\n      <td>50.0</td>\n      <td>24.675325</td>\n    </tr>\n    <tr>\n      <th>The police ,A bicycle registry/recovery system (e.g., Bike Index, a university registration program)</th>\n      <td>31.786543</td>\n      <td>30.201342</td>\n      <td>33.196721</td>\n      <td>21.768707</td>\n      <td>30.384615</td>\n      <td>20.000000</td>\n      <td>40.0</td>\n      <td>0.0</td>\n      <td>18.181818</td>\n    </tr>\n    <tr>\n      <th>The police ,A bicycle registry/recovery system (e.g., Bike Index, a university registration program),Other (please specify):</th>\n      <td>1.392111</td>\n      <td>1.342282</td>\n      <td>0.409836</td>\n      <td>1.360544</td>\n      <td>1.153846</td>\n      <td>1.052632</td>\n      <td>0.0</td>\n      <td>0.0</td>\n      <td>1.298701</td>\n    </tr>\n    <tr>\n      <th>The police ,A bicycle registry/recovery system (e.g., Bike Index, a university registration program),Social media (e.g. Instagram, Twitter)</th>\n      <td>39.907193</td>\n      <td>37.583893</td>\n      <td>19.262295</td>\n      <td>48.979592</td>\n      <td>31.153846</td>\n      <td>44.210526</td>\n      <td>20.0</td>\n      <td>50.0</td>\n      <td>12.987013</td>\n    </tr>\n    <tr>\n      <th>The police ,A bicycle registry/recovery system (e.g., Bike Index, a university registration program),Social media (e.g. Instagram, Twitter),Other (please specify):</th>\n      <td>1.856148</td>\n      <td>5.704698</td>\n      <td>2.049180</td>\n      <td>2.040816</td>\n      <td>0.769231</td>\n      <td>5.263158</td>\n      <td>20.0</td>\n      <td>0.0</td>\n      <td>0.000000</td>\n    </tr>\n    <tr>\n      <th>The police ,Other (please specify):</th>\n      <td>0.696056</td>\n      <td>2.013423</td>\n      <td>0.819672</td>\n      <td>1.360544</td>\n      <td>0.192308</td>\n      <td>1.052632</td>\n      <td>0.0</td>\n      <td>0.0</td>\n      <td>0.000000</td>\n    </tr>\n    <tr>\n      <th>The police ,Social media (e.g. Instagram, Twitter)</th>\n      <td>3.248260</td>\n      <td>2.013423</td>\n      <td>1.229508</td>\n      <td>7.482993</td>\n      <td>2.307692</td>\n      <td>4.210526</td>\n      <td>0.0</td>\n      <td>0.0</td>\n      <td>0.000000</td>\n    </tr>\n    <tr>\n      <th>The police ,Social media (e.g. Instagram, Twitter),Other (please specify):</th>\n      <td>0.232019</td>\n      <td>0.671141</td>\n      <td>0.000000</td>\n      <td>0.000000</td>\n      <td>0.576923</td>\n      <td>0.000000</td>\n      <td>0.0</td>\n      <td>0.0</td>\n      <td>0.000000</td>\n    </tr>\n  </tbody>\n</table>\n</div>"
     },
     "execution_count": 26,
     "metadata": {},
     "output_type": "execute_result"
    }
   ],
   "source": [
    "# Value approx and where to report\n",
    "var_0 = {'q':'Q13'}\n",
    "var_1 = {'q':'Q11'}\n",
    "only_rel= data[[var_0['q'],var_1['q']]].dropna()\n",
    "pd.crosstab(only_rel[var_1['q']],only_rel[var_0['q']],normalize='columns')*100"
   ],
   "metadata": {
    "collapsed": false,
    "pycharm": {
     "name": "#%%\n"
    }
   }
  },
  {
   "cell_type": "code",
   "execution_count": 87,
   "outputs": [
    {
     "name": "stdout",
     "output_type": "stream",
     "text": [
      "Chi-square statistic: 56.87\n",
      "P-value: 0.00000\n",
      "birth_year     1990s     2000s      other\n",
      "near_univ                                \n",
      "No          78.39196  45.56962  92.151899\n",
      "Yes         21.60804  54.43038   7.848101\n"
     ]
    }
   ],
   "source": [
    "# age and is_university\n",
    "var_0 = {'q':'Q17','var':'near_univ','group':['Yes'],'group2': 'No'}\n",
    "var_1 = {'q':'Q34_0','var':'birth_year','group':['2000s','1990s'],'group2': 'other'}\n",
    "only_rel= data[[var_0['q'],var_1['q']]].dropna()\n",
    "clean_tables = only_rel[~only_rel[var_1['q']].isin(['1930s','2010s'])]\n",
    "calculate_chi_cross_tab(clean_tables,var_0,var_1)"
   ],
   "metadata": {
    "collapsed": false,
    "pycharm": {
     "name": "#%%\n"
    }
   }
  },
  {
   "cell_type": "code",
   "execution_count": 88,
   "outputs": [
    {
     "name": "stdout",
     "output_type": "stream",
     "text": [
      "Chi-square statistic: 26.82\n",
      "P-value: 0.00000\n",
      "birth_year              2000s      other\n",
      "location                                \n",
      "Outdoor bike rack   51.898734  16.192283\n",
      "other               48.101266  83.807717\n"
     ]
    }
   ],
   "source": [
    "# age and theft location\n",
    "var_0 = {'q':'Q9','var':'location','group':['Outdoor bike rack '],'group2': 'other'}\n",
    "var_1 = {'q':'Q34_0','var':'birth_year','group':['2000s'],'group2': 'other'}\n",
    "only_rel= data[[var_0['q'],var_1['q']]].dropna()\n",
    "clean_tables = only_rel[~only_rel[var_1['q']].isin(['1930s','2010s'])]\n",
    "calculate_chi_cross_tab(clean_tables,var_0,var_1)"
   ],
   "metadata": {
    "collapsed": false,
    "pycharm": {
     "name": "#%%\n"
    }
   }
  },
  {
   "cell_type": "code",
   "execution_count": null,
   "outputs": [],
   "source": [
    "# #\n",
    "# def calculate_chi_cross_tab(two_var_tables,var1,var2,text_to_update = False):\n",
    "#     r\"\"\"\n",
    "#     This function creates new groups based on the data in @vars, cross tab them and calculate Chi-square\n",
    "#     :return:\n",
    "#     \"\"\"\n",
    "#     if not text_to_update:\n",
    "#         two_var_tables[[var1['var'],var2['var']]] = two_var_tables.apply(lambda x: (x[var1['q']] if x[var1['q']] in var1['group'] else var1['group2'],x[var2['q']] if x[var2['q']] in var2['group'] else var2['group2']),axis=1,result_type='expand')\n",
    "#     else:\n",
    "#         two_var_tables[[var1['var'],var2['var']]] = two_var_tables.apply(lambda x: (text_to_update if x[var1['q']] in var1['group'] else var1['group2'],x[var2['q']] if x[var2['q']] in var2['group'] else var2['group2']),axis=1,result_type='expand')\n",
    "#     cont_table = pd.crosstab(two_var_tables[var1['var']], two_var_tables[var2['var']],normalize='columns')*100\n",
    "#\n",
    "#     # perform chi-square test of independence\n",
    "#     chi2, p, dof, expected = chi2_contingency(cont_table)\n",
    "#\n",
    "#     # print the test results\n",
    "#     print(f\"Chi-square statistic: {chi2:.2f}\")\n",
    "#     print(f\"P-value: {p:.5f}\")\n",
    "#     print(cont_table)"
   ],
   "metadata": {
    "collapsed": false,
    "pycharm": {
     "name": "#%%\n"
    }
   }
  }
 ],
 "metadata": {
  "kernelspec": {
   "display_name": "Python 3",
   "language": "python",
   "name": "python3"
  },
  "language_info": {
   "codemirror_mode": {
    "name": "ipython",
    "version": 2
   },
   "file_extension": ".py",
   "mimetype": "text/x-python",
   "name": "python",
   "nbconvert_exporter": "python",
   "pygments_lexer": "ipython2",
   "version": "2.7.6"
  }
 },
 "nbformat": 4,
 "nbformat_minor": 0
}