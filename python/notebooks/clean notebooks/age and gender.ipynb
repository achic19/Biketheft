{
 "cells": [
  {
   "cell_type": "code",
   "execution_count": 3,
   "outputs": [],
   "source": [
    "import pandas as pd\n",
    "from pandas import DataFrame\n",
    "import numpy as np\n",
    "import calendar\n",
    "from scipy.stats import chi2_contingency\n",
    "\n",
    "from sklearn import tree\n",
    "import matplotlib.pyplot as plt\n",
    "from matplotlib.pyplot import figure\n",
    "from sklearn.tree import DecisionTreeClassifier\n",
    "from sklearn.ensemble import RandomForestClassifier\n",
    "import sys\n",
    "import os\n",
    "import sys\n",
    "import os\n",
    "\n",
    "os.chdir(sys.path[3])"
   ],
   "metadata": {
    "collapsed": false,
    "pycharm": {
     "name": "#%%\n"
    }
   }
  },
  {
   "cell_type": "code",
   "execution_count": 4,
   "outputs": [
    {
     "data": {
      "text/plain": "      index        StartDate          EndDate      Status        IPAddress  \\\n0         0  4/21/2022 14:05  4/21/2022 14:10  IP Address  169.231.161.135   \n1         1  4/14/2022 17:28  4/14/2022 17:41  IP Address   128.111.106.41   \n2         2  4/21/2022 19:27  4/21/2022 19:31  IP Address     70.77.83.154   \n3         3  4/14/2022 19:04  4/14/2022 20:18  IP Address   70.185.131.128   \n4         4   4/22/2022 9:08   4/22/2022 9:24  IP Address      24.52.45.71   \n...     ...              ...              ...         ...              ...   \n2020   2020   6/6/2022 22:07   6/6/2022 22:14  IP Address     47.146.75.18   \n2021   2021  5/24/2022 12:17  5/24/2022 12:20  IP Address   174.90.223.242   \n2022   2022    6/8/2022 3:19    6/8/2022 3:30  IP Address  108.211.181.111   \n2023   2023  5/25/2022 13:39  5/25/2022 13:39  IP Address   50.205.153.166   \n2024   2024   6/8/2022 12:54   6/8/2022 17:02  IP Address    98.34.154.196   \n\n      Progress  Duration (in seconds)  Finished     RecordedDate  \\\n0          100                    318      True  4/21/2022 14:10   \n1           22                    770     False  4/21/2022 17:41   \n2          100                    229      True  4/21/2022 19:31   \n3           22                   4454     False  4/21/2022 20:18   \n4          100                    968      True   4/22/2022 9:24   \n...        ...                    ...       ...              ...   \n2020       100                    423      True   6/6/2022 22:14   \n2021        69                    191     False   6/7/2022 12:20   \n2022       100                    697      True    6/8/2022 3:30   \n2023         2                     12     False   6/8/2022 13:39   \n2024       100                  14851      True   6/8/2022 17:02   \n\n             ResponseId  ...  Q33_9_TEXT     Q34                Q35  \\\n0     R_sRQ635z5e2hc1t7  ...         NaN  1996.0              Woman   \n1     R_21uo7CnrNd8VNIx  ...         NaN     NaN                NaN   \n2     R_7V5ufQv2WtbkiSR  ...         NaN  1973.0                Man   \n3     R_qPdUVtdN6wMTtIt  ...         NaN     NaN                NaN   \n4     R_3F2LBFhUg7Q8AbI  ...         NaN  1959.0                Man   \n...                 ...  ...         ...     ...                ...   \n2020  R_3fYRblhWSYPWCj8  ...         NaN  1970.0              Woman   \n2021  R_3O7a8xS7l3i8EZG  ...         NaN     NaN                NaN   \n2022  R_3gO85Ni57rH0pTr  ...         NaN     NaN  Prefer not to say   \n2023  R_1jwTkRmNyNow9Tz  ...         NaN     NaN                NaN   \n2024  R_4NqGcU71igD8Z9L  ...         NaN  1963.0                Man   \n\n                                         Q36                     Q37  \\\n0                  $200,000 or more per year                    One    \n1                                        NaN                     NaN   \n2                     I prefer to not answer                  Three    \n3                                        NaN                     NaN   \n4     Between $100,000 and $149,999 per year                  Three    \n...                                      ...                     ...   \n2020  Between $100,000 and $149,999 per year                  Three    \n2021                                     NaN                     NaN   \n2022                  I prefer to not answer  I prefer to not answer   \n2023                                     NaN                     NaN   \n2024               $200,000 or more per year                  Four     \n\n                                                    Q38  \\\n0     Graduate degree (e.g., Master’s, Professional ...   \n1                                                   NaN   \n2     Bachelor’s degree (university 4-year degree)  ...   \n3                                                   NaN   \n4     Associate’s/vocational/technical degree (2- or...   \n...                                                 ...   \n2020  Bachelor’s degree (university 4-year degree)  ...   \n2021                                                NaN   \n2022  Graduate degree (e.g., Master’s, Professional ...   \n2023                                                NaN   \n2024  Graduate degree (e.g., Master’s, Professional ...   \n\n                                                    Q39 Q39_10_TEXT  \\\n0     European (e.g., British Isles, German, French,...         NaN   \n1                                                   NaN         NaN   \n2     European (e.g., British Isles, German, French,...         NaN   \n3                                                   NaN         NaN   \n4                       Multi-ethnic (2+ ethnic groups)         NaN   \n...                                                 ...         ...   \n2020  European (e.g., British Isles, German, French,...         NaN   \n2021                                                NaN         NaN   \n2022                             I prefer to not answer         NaN   \n2023                                                NaN         NaN   \n2024                    Multi-ethnic (2+ ethnic groups)         NaN   \n\n                                                    Q40     Q40_3_TEXT  \n0                                                 Email            NaN  \n1                                                   NaN            NaN  \n2     A bicycle registry/recovery system (e.g., Bike...            NaN  \n3                                                   NaN            NaN  \n4                                                 Email            NaN  \n...                                                 ...            ...  \n2020                                              Email            NaN  \n2021                                                NaN            NaN  \n2022                            Other (please specify):  acquientance   \n2023                                                NaN            NaN  \n2024                                              Email            NaN  \n\n[2025 rows x 75 columns]",
      "text/html": "<div>\n<style scoped>\n    .dataframe tbody tr th:only-of-type {\n        vertical-align: middle;\n    }\n\n    .dataframe tbody tr th {\n        vertical-align: top;\n    }\n\n    .dataframe thead th {\n        text-align: right;\n    }\n</style>\n<table border=\"1\" class=\"dataframe\">\n  <thead>\n    <tr style=\"text-align: right;\">\n      <th></th>\n      <th>index</th>\n      <th>StartDate</th>\n      <th>EndDate</th>\n      <th>Status</th>\n      <th>IPAddress</th>\n      <th>Progress</th>\n      <th>Duration (in seconds)</th>\n      <th>Finished</th>\n      <th>RecordedDate</th>\n      <th>ResponseId</th>\n      <th>...</th>\n      <th>Q33_9_TEXT</th>\n      <th>Q34</th>\n      <th>Q35</th>\n      <th>Q36</th>\n      <th>Q37</th>\n      <th>Q38</th>\n      <th>Q39</th>\n      <th>Q39_10_TEXT</th>\n      <th>Q40</th>\n      <th>Q40_3_TEXT</th>\n    </tr>\n  </thead>\n  <tbody>\n    <tr>\n      <th>0</th>\n      <td>0</td>\n      <td>4/21/2022 14:05</td>\n      <td>4/21/2022 14:10</td>\n      <td>IP Address</td>\n      <td>169.231.161.135</td>\n      <td>100</td>\n      <td>318</td>\n      <td>True</td>\n      <td>4/21/2022 14:10</td>\n      <td>R_sRQ635z5e2hc1t7</td>\n      <td>...</td>\n      <td>NaN</td>\n      <td>1996.0</td>\n      <td>Woman</td>\n      <td>$200,000 or more per year</td>\n      <td>One</td>\n      <td>Graduate degree (e.g., Master’s, Professional ...</td>\n      <td>European (e.g., British Isles, German, French,...</td>\n      <td>NaN</td>\n      <td>Email</td>\n      <td>NaN</td>\n    </tr>\n    <tr>\n      <th>1</th>\n      <td>1</td>\n      <td>4/14/2022 17:28</td>\n      <td>4/14/2022 17:41</td>\n      <td>IP Address</td>\n      <td>128.111.106.41</td>\n      <td>22</td>\n      <td>770</td>\n      <td>False</td>\n      <td>4/21/2022 17:41</td>\n      <td>R_21uo7CnrNd8VNIx</td>\n      <td>...</td>\n      <td>NaN</td>\n      <td>NaN</td>\n      <td>NaN</td>\n      <td>NaN</td>\n      <td>NaN</td>\n      <td>NaN</td>\n      <td>NaN</td>\n      <td>NaN</td>\n      <td>NaN</td>\n      <td>NaN</td>\n    </tr>\n    <tr>\n      <th>2</th>\n      <td>2</td>\n      <td>4/21/2022 19:27</td>\n      <td>4/21/2022 19:31</td>\n      <td>IP Address</td>\n      <td>70.77.83.154</td>\n      <td>100</td>\n      <td>229</td>\n      <td>True</td>\n      <td>4/21/2022 19:31</td>\n      <td>R_7V5ufQv2WtbkiSR</td>\n      <td>...</td>\n      <td>NaN</td>\n      <td>1973.0</td>\n      <td>Man</td>\n      <td>I prefer to not answer</td>\n      <td>Three</td>\n      <td>Bachelor’s degree (university 4-year degree)  ...</td>\n      <td>European (e.g., British Isles, German, French,...</td>\n      <td>NaN</td>\n      <td>A bicycle registry/recovery system (e.g., Bike...</td>\n      <td>NaN</td>\n    </tr>\n    <tr>\n      <th>3</th>\n      <td>3</td>\n      <td>4/14/2022 19:04</td>\n      <td>4/14/2022 20:18</td>\n      <td>IP Address</td>\n      <td>70.185.131.128</td>\n      <td>22</td>\n      <td>4454</td>\n      <td>False</td>\n      <td>4/21/2022 20:18</td>\n      <td>R_qPdUVtdN6wMTtIt</td>\n      <td>...</td>\n      <td>NaN</td>\n      <td>NaN</td>\n      <td>NaN</td>\n      <td>NaN</td>\n      <td>NaN</td>\n      <td>NaN</td>\n      <td>NaN</td>\n      <td>NaN</td>\n      <td>NaN</td>\n      <td>NaN</td>\n    </tr>\n    <tr>\n      <th>4</th>\n      <td>4</td>\n      <td>4/22/2022 9:08</td>\n      <td>4/22/2022 9:24</td>\n      <td>IP Address</td>\n      <td>24.52.45.71</td>\n      <td>100</td>\n      <td>968</td>\n      <td>True</td>\n      <td>4/22/2022 9:24</td>\n      <td>R_3F2LBFhUg7Q8AbI</td>\n      <td>...</td>\n      <td>NaN</td>\n      <td>1959.0</td>\n      <td>Man</td>\n      <td>Between $100,000 and $149,999 per year</td>\n      <td>Three</td>\n      <td>Associate’s/vocational/technical degree (2- or...</td>\n      <td>Multi-ethnic (2+ ethnic groups)</td>\n      <td>NaN</td>\n      <td>Email</td>\n      <td>NaN</td>\n    </tr>\n    <tr>\n      <th>...</th>\n      <td>...</td>\n      <td>...</td>\n      <td>...</td>\n      <td>...</td>\n      <td>...</td>\n      <td>...</td>\n      <td>...</td>\n      <td>...</td>\n      <td>...</td>\n      <td>...</td>\n      <td>...</td>\n      <td>...</td>\n      <td>...</td>\n      <td>...</td>\n      <td>...</td>\n      <td>...</td>\n      <td>...</td>\n      <td>...</td>\n      <td>...</td>\n      <td>...</td>\n      <td>...</td>\n    </tr>\n    <tr>\n      <th>2020</th>\n      <td>2020</td>\n      <td>6/6/2022 22:07</td>\n      <td>6/6/2022 22:14</td>\n      <td>IP Address</td>\n      <td>47.146.75.18</td>\n      <td>100</td>\n      <td>423</td>\n      <td>True</td>\n      <td>6/6/2022 22:14</td>\n      <td>R_3fYRblhWSYPWCj8</td>\n      <td>...</td>\n      <td>NaN</td>\n      <td>1970.0</td>\n      <td>Woman</td>\n      <td>Between $100,000 and $149,999 per year</td>\n      <td>Three</td>\n      <td>Bachelor’s degree (university 4-year degree)  ...</td>\n      <td>European (e.g., British Isles, German, French,...</td>\n      <td>NaN</td>\n      <td>Email</td>\n      <td>NaN</td>\n    </tr>\n    <tr>\n      <th>2021</th>\n      <td>2021</td>\n      <td>5/24/2022 12:17</td>\n      <td>5/24/2022 12:20</td>\n      <td>IP Address</td>\n      <td>174.90.223.242</td>\n      <td>69</td>\n      <td>191</td>\n      <td>False</td>\n      <td>6/7/2022 12:20</td>\n      <td>R_3O7a8xS7l3i8EZG</td>\n      <td>...</td>\n      <td>NaN</td>\n      <td>NaN</td>\n      <td>NaN</td>\n      <td>NaN</td>\n      <td>NaN</td>\n      <td>NaN</td>\n      <td>NaN</td>\n      <td>NaN</td>\n      <td>NaN</td>\n      <td>NaN</td>\n    </tr>\n    <tr>\n      <th>2022</th>\n      <td>2022</td>\n      <td>6/8/2022 3:19</td>\n      <td>6/8/2022 3:30</td>\n      <td>IP Address</td>\n      <td>108.211.181.111</td>\n      <td>100</td>\n      <td>697</td>\n      <td>True</td>\n      <td>6/8/2022 3:30</td>\n      <td>R_3gO85Ni57rH0pTr</td>\n      <td>...</td>\n      <td>NaN</td>\n      <td>NaN</td>\n      <td>Prefer not to say</td>\n      <td>I prefer to not answer</td>\n      <td>I prefer to not answer</td>\n      <td>Graduate degree (e.g., Master’s, Professional ...</td>\n      <td>I prefer to not answer</td>\n      <td>NaN</td>\n      <td>Other (please specify):</td>\n      <td>acquientance</td>\n    </tr>\n    <tr>\n      <th>2023</th>\n      <td>2023</td>\n      <td>5/25/2022 13:39</td>\n      <td>5/25/2022 13:39</td>\n      <td>IP Address</td>\n      <td>50.205.153.166</td>\n      <td>2</td>\n      <td>12</td>\n      <td>False</td>\n      <td>6/8/2022 13:39</td>\n      <td>R_1jwTkRmNyNow9Tz</td>\n      <td>...</td>\n      <td>NaN</td>\n      <td>NaN</td>\n      <td>NaN</td>\n      <td>NaN</td>\n      <td>NaN</td>\n      <td>NaN</td>\n      <td>NaN</td>\n      <td>NaN</td>\n      <td>NaN</td>\n      <td>NaN</td>\n    </tr>\n    <tr>\n      <th>2024</th>\n      <td>2024</td>\n      <td>6/8/2022 12:54</td>\n      <td>6/8/2022 17:02</td>\n      <td>IP Address</td>\n      <td>98.34.154.196</td>\n      <td>100</td>\n      <td>14851</td>\n      <td>True</td>\n      <td>6/8/2022 17:02</td>\n      <td>R_4NqGcU71igD8Z9L</td>\n      <td>...</td>\n      <td>NaN</td>\n      <td>1963.0</td>\n      <td>Man</td>\n      <td>$200,000 or more per year</td>\n      <td>Four</td>\n      <td>Graduate degree (e.g., Master’s, Professional ...</td>\n      <td>Multi-ethnic (2+ ethnic groups)</td>\n      <td>NaN</td>\n      <td>Email</td>\n      <td>NaN</td>\n    </tr>\n  </tbody>\n</table>\n<p>2025 rows × 75 columns</p>\n</div>"
     },
     "execution_count": 4,
     "metadata": {},
     "output_type": "execute_result"
    }
   ],
   "source": [
    "raw_data = pd.read_csv(r'data/process/new_data.csv', skiprows=[1, 2]).reset_index()\n",
    "raw_data"
   ],
   "metadata": {
    "collapsed": false,
    "pycharm": {
     "name": "#%%\n"
    }
   }
  },
  {
   "cell_type": "code",
   "execution_count": 6,
   "outputs": [
    {
     "data": {
      "text/plain": "                           index  StartDate  EndDate  Status  IPAddress  \\\nQ35                                                                       \nMan                         1060       1060     1060    1060       1060   \nNon-binary / third gender     21         21       21      21         21   \nPrefer not to say             35         35       35      35         35   \nWoman                        614        614      614     614        614   \n\n                           Progress  Duration (in seconds)  Finished  \\\nQ35                                                                    \nMan                            1060                   1060      1060   \nNon-binary / third gender        21                     21        21   \nPrefer not to say                35                     35        35   \nWoman                           614                    614       614   \n\n                           RecordedDate  ResponseId  ...  Q33  Q33_9_TEXT  \\\nQ35                                                  ...                    \nMan                                1060        1060  ...   64          13   \nNon-binary / third gender            21          21  ...    4           1   \nPrefer not to say                    35          35  ...    4           1   \nWoman                               614         614  ...   34          11   \n\n                            Q34   Q36   Q37   Q38   Q39  Q39_10_TEXT   Q40  \\\nQ35                                                                          \nMan                        1039  1057  1060  1058  1051           28  1051   \nNon-binary / third gender    20    21    21    21    21            1    20   \nPrefer not to say            26    35    35    35    34            3    35   \nWoman                       599   613   614   614   612           18   611   \n\n                           Q40_3_TEXT  \nQ35                                    \nMan                                90  \nNon-binary / third gender           2  \nPrefer not to say                   3  \nWoman                              52  \n\n[4 rows x 74 columns]",
      "text/html": "<div>\n<style scoped>\n    .dataframe tbody tr th:only-of-type {\n        vertical-align: middle;\n    }\n\n    .dataframe tbody tr th {\n        vertical-align: top;\n    }\n\n    .dataframe thead th {\n        text-align: right;\n    }\n</style>\n<table border=\"1\" class=\"dataframe\">\n  <thead>\n    <tr style=\"text-align: right;\">\n      <th></th>\n      <th>index</th>\n      <th>StartDate</th>\n      <th>EndDate</th>\n      <th>Status</th>\n      <th>IPAddress</th>\n      <th>Progress</th>\n      <th>Duration (in seconds)</th>\n      <th>Finished</th>\n      <th>RecordedDate</th>\n      <th>ResponseId</th>\n      <th>...</th>\n      <th>Q33</th>\n      <th>Q33_9_TEXT</th>\n      <th>Q34</th>\n      <th>Q36</th>\n      <th>Q37</th>\n      <th>Q38</th>\n      <th>Q39</th>\n      <th>Q39_10_TEXT</th>\n      <th>Q40</th>\n      <th>Q40_3_TEXT</th>\n    </tr>\n    <tr>\n      <th>Q35</th>\n      <th></th>\n      <th></th>\n      <th></th>\n      <th></th>\n      <th></th>\n      <th></th>\n      <th></th>\n      <th></th>\n      <th></th>\n      <th></th>\n      <th></th>\n      <th></th>\n      <th></th>\n      <th></th>\n      <th></th>\n      <th></th>\n      <th></th>\n      <th></th>\n      <th></th>\n      <th></th>\n      <th></th>\n    </tr>\n  </thead>\n  <tbody>\n    <tr>\n      <th>Man</th>\n      <td>1060</td>\n      <td>1060</td>\n      <td>1060</td>\n      <td>1060</td>\n      <td>1060</td>\n      <td>1060</td>\n      <td>1060</td>\n      <td>1060</td>\n      <td>1060</td>\n      <td>1060</td>\n      <td>...</td>\n      <td>64</td>\n      <td>13</td>\n      <td>1039</td>\n      <td>1057</td>\n      <td>1060</td>\n      <td>1058</td>\n      <td>1051</td>\n      <td>28</td>\n      <td>1051</td>\n      <td>90</td>\n    </tr>\n    <tr>\n      <th>Non-binary / third gender</th>\n      <td>21</td>\n      <td>21</td>\n      <td>21</td>\n      <td>21</td>\n      <td>21</td>\n      <td>21</td>\n      <td>21</td>\n      <td>21</td>\n      <td>21</td>\n      <td>21</td>\n      <td>...</td>\n      <td>4</td>\n      <td>1</td>\n      <td>20</td>\n      <td>21</td>\n      <td>21</td>\n      <td>21</td>\n      <td>21</td>\n      <td>1</td>\n      <td>20</td>\n      <td>2</td>\n    </tr>\n    <tr>\n      <th>Prefer not to say</th>\n      <td>35</td>\n      <td>35</td>\n      <td>35</td>\n      <td>35</td>\n      <td>35</td>\n      <td>35</td>\n      <td>35</td>\n      <td>35</td>\n      <td>35</td>\n      <td>35</td>\n      <td>...</td>\n      <td>4</td>\n      <td>1</td>\n      <td>26</td>\n      <td>35</td>\n      <td>35</td>\n      <td>35</td>\n      <td>34</td>\n      <td>3</td>\n      <td>35</td>\n      <td>3</td>\n    </tr>\n    <tr>\n      <th>Woman</th>\n      <td>614</td>\n      <td>614</td>\n      <td>614</td>\n      <td>614</td>\n      <td>614</td>\n      <td>614</td>\n      <td>614</td>\n      <td>614</td>\n      <td>614</td>\n      <td>614</td>\n      <td>...</td>\n      <td>34</td>\n      <td>11</td>\n      <td>599</td>\n      <td>613</td>\n      <td>614</td>\n      <td>614</td>\n      <td>612</td>\n      <td>18</td>\n      <td>611</td>\n      <td>52</td>\n    </tr>\n  </tbody>\n</table>\n<p>4 rows × 74 columns</p>\n</div>"
     },
     "execution_count": 6,
     "metadata": {},
     "output_type": "execute_result"
    }
   ],
   "source": [
    "raw_data.groupby('Q35').count()"
   ],
   "metadata": {
    "collapsed": false,
    "pycharm": {
     "name": "#%%\n"
    }
   }
  },
  {
   "cell_type": "code",
   "execution_count": 7,
   "outputs": [
    {
     "data": {
      "text/plain": "0       26.0\n1        NaN\n2       49.0\n3        NaN\n4       63.0\n        ... \n2020    52.0\n2021     NaN\n2022     NaN\n2023     NaN\n2024    59.0\nName: age, Length: 2025, dtype: float64"
     },
     "execution_count": 7,
     "metadata": {},
     "output_type": "execute_result"
    }
   ],
   "source": [
    "raw_data['age'] = 2022 - raw_data['Q34']\n",
    "raw_data['age']"
   ],
   "metadata": {
    "collapsed": false,
    "pycharm": {
     "name": "#%%\n"
    }
   }
  },
  {
   "cell_type": "code",
   "execution_count": 11,
   "outputs": [],
   "source": [
    "raw_data['age'].notna()\n",
    "res = raw_data[raw_data['age'].notna()]['age']"
   ],
   "metadata": {
    "collapsed": false,
    "pycharm": {
     "name": "#%%\n"
    }
   }
  },
  {
   "cell_type": "code",
   "execution_count": 20,
   "outputs": [
    {
     "ename": "ValueError",
     "evalue": "cannot insert level_0, already exists",
     "output_type": "error",
     "traceback": [
      "\u001B[1;31m---------------------------------------------------------------------------\u001B[0m",
      "\u001B[1;31mValueError\u001B[0m                                Traceback (most recent call last)",
      "Input \u001B[1;32mIn [20]\u001B[0m, in \u001B[0;36m<cell line: 1>\u001B[1;34m()\u001B[0m\n\u001B[1;32m----> 1\u001B[0m res \u001B[38;5;241m=\u001B[39m \u001B[43mres\u001B[49m\u001B[38;5;241;43m.\u001B[39;49m\u001B[43mreset_index\u001B[49m\u001B[43m(\u001B[49m\u001B[43m)\u001B[49m\n\u001B[0;32m      2\u001B[0m leny \u001B[38;5;241m=\u001B[39m\u001B[38;5;28mlen\u001B[39m(res)\n\u001B[0;32m      3\u001B[0m leny\n",
      "File \u001B[1;32m~\\anaconda3\\envs\\ox\\lib\\site-packages\\pandas\\util\\_decorators.py:311\u001B[0m, in \u001B[0;36mdeprecate_nonkeyword_arguments.<locals>.decorate.<locals>.wrapper\u001B[1;34m(*args, **kwargs)\u001B[0m\n\u001B[0;32m    305\u001B[0m \u001B[38;5;28;01mif\u001B[39;00m \u001B[38;5;28mlen\u001B[39m(args) \u001B[38;5;241m>\u001B[39m num_allow_args:\n\u001B[0;32m    306\u001B[0m     warnings\u001B[38;5;241m.\u001B[39mwarn(\n\u001B[0;32m    307\u001B[0m         msg\u001B[38;5;241m.\u001B[39mformat(arguments\u001B[38;5;241m=\u001B[39marguments),\n\u001B[0;32m    308\u001B[0m         \u001B[38;5;167;01mFutureWarning\u001B[39;00m,\n\u001B[0;32m    309\u001B[0m         stacklevel\u001B[38;5;241m=\u001B[39mstacklevel,\n\u001B[0;32m    310\u001B[0m     )\n\u001B[1;32m--> 311\u001B[0m \u001B[38;5;28;01mreturn\u001B[39;00m func(\u001B[38;5;241m*\u001B[39margs, \u001B[38;5;241m*\u001B[39m\u001B[38;5;241m*\u001B[39mkwargs)\n",
      "File \u001B[1;32m~\\anaconda3\\envs\\ox\\lib\\site-packages\\pandas\\core\\frame.py:5833\u001B[0m, in \u001B[0;36mDataFrame.reset_index\u001B[1;34m(self, level, drop, inplace, col_level, col_fill)\u001B[0m\n\u001B[0;32m   5827\u001B[0m         \u001B[38;5;28;01mif\u001B[39;00m lab \u001B[38;5;129;01mis\u001B[39;00m \u001B[38;5;129;01mnot\u001B[39;00m \u001B[38;5;28;01mNone\u001B[39;00m:\n\u001B[0;32m   5828\u001B[0m             \u001B[38;5;66;03m# if we have the codes, extract the values with a mask\u001B[39;00m\n\u001B[0;32m   5829\u001B[0m             level_values \u001B[38;5;241m=\u001B[39m algorithms\u001B[38;5;241m.\u001B[39mtake(\n\u001B[0;32m   5830\u001B[0m                 level_values, lab, allow_fill\u001B[38;5;241m=\u001B[39m\u001B[38;5;28;01mTrue\u001B[39;00m, fill_value\u001B[38;5;241m=\u001B[39mlev\u001B[38;5;241m.\u001B[39m_na_value\n\u001B[0;32m   5831\u001B[0m             )\n\u001B[1;32m-> 5833\u001B[0m         \u001B[43mnew_obj\u001B[49m\u001B[38;5;241;43m.\u001B[39;49m\u001B[43minsert\u001B[49m\u001B[43m(\u001B[49m\u001B[38;5;241;43m0\u001B[39;49m\u001B[43m,\u001B[49m\u001B[43m \u001B[49m\u001B[43mname\u001B[49m\u001B[43m,\u001B[49m\u001B[43m \u001B[49m\u001B[43mlevel_values\u001B[49m\u001B[43m)\u001B[49m\n\u001B[0;32m   5835\u001B[0m new_obj\u001B[38;5;241m.\u001B[39mindex \u001B[38;5;241m=\u001B[39m new_index\n\u001B[0;32m   5836\u001B[0m \u001B[38;5;28;01mif\u001B[39;00m \u001B[38;5;129;01mnot\u001B[39;00m inplace:\n",
      "File \u001B[1;32m~\\anaconda3\\envs\\ox\\lib\\site-packages\\pandas\\core\\frame.py:4434\u001B[0m, in \u001B[0;36mDataFrame.insert\u001B[1;34m(self, loc, column, value, allow_duplicates)\u001B[0m\n\u001B[0;32m   4428\u001B[0m     \u001B[38;5;28;01mraise\u001B[39;00m \u001B[38;5;167;01mValueError\u001B[39;00m(\n\u001B[0;32m   4429\u001B[0m         \u001B[38;5;124m\"\u001B[39m\u001B[38;5;124mCannot specify \u001B[39m\u001B[38;5;124m'\u001B[39m\u001B[38;5;124mallow_duplicates=True\u001B[39m\u001B[38;5;124m'\u001B[39m\u001B[38;5;124m when \u001B[39m\u001B[38;5;124m\"\u001B[39m\n\u001B[0;32m   4430\u001B[0m         \u001B[38;5;124m\"\u001B[39m\u001B[38;5;124m'\u001B[39m\u001B[38;5;124mself.flags.allows_duplicate_labels\u001B[39m\u001B[38;5;124m'\u001B[39m\u001B[38;5;124m is False.\u001B[39m\u001B[38;5;124m\"\u001B[39m\n\u001B[0;32m   4431\u001B[0m     )\n\u001B[0;32m   4432\u001B[0m \u001B[38;5;28;01mif\u001B[39;00m \u001B[38;5;129;01mnot\u001B[39;00m allow_duplicates \u001B[38;5;129;01mand\u001B[39;00m column \u001B[38;5;129;01min\u001B[39;00m \u001B[38;5;28mself\u001B[39m\u001B[38;5;241m.\u001B[39mcolumns:\n\u001B[0;32m   4433\u001B[0m     \u001B[38;5;66;03m# Should this be a different kind of error??\u001B[39;00m\n\u001B[1;32m-> 4434\u001B[0m     \u001B[38;5;28;01mraise\u001B[39;00m \u001B[38;5;167;01mValueError\u001B[39;00m(\u001B[38;5;124mf\u001B[39m\u001B[38;5;124m\"\u001B[39m\u001B[38;5;124mcannot insert \u001B[39m\u001B[38;5;132;01m{\u001B[39;00mcolumn\u001B[38;5;132;01m}\u001B[39;00m\u001B[38;5;124m, already exists\u001B[39m\u001B[38;5;124m\"\u001B[39m)\n\u001B[0;32m   4435\u001B[0m \u001B[38;5;28;01mif\u001B[39;00m \u001B[38;5;129;01mnot\u001B[39;00m \u001B[38;5;28misinstance\u001B[39m(loc, \u001B[38;5;28mint\u001B[39m):\n\u001B[0;32m   4436\u001B[0m     \u001B[38;5;28;01mraise\u001B[39;00m \u001B[38;5;167;01mTypeError\u001B[39;00m(\u001B[38;5;124m\"\u001B[39m\u001B[38;5;124mloc must be int\u001B[39m\u001B[38;5;124m\"\u001B[39m)\n",
      "\u001B[1;31mValueError\u001B[0m: cannot insert level_0, already exists"
     ]
    }
   ],
   "source": [
    "res = res.reset_index()\n"
   ],
   "metadata": {
    "collapsed": false,
    "pycharm": {
     "name": "#%%\n"
    }
   }
  },
  {
   "cell_type": "code",
   "execution_count": 21,
   "outputs": [
    {
     "data": {
      "text/plain": "1684"
     },
     "execution_count": 21,
     "metadata": {},
     "output_type": "execute_result"
    }
   ],
   "source": [
    "leny =len(res)\n",
    "leny"
   ],
   "metadata": {
    "collapsed": false,
    "pycharm": {
     "name": "#%%\n"
    }
   }
  },
  {
   "cell_type": "code",
   "execution_count": 23,
   "outputs": [
    {
     "ename": "ValueError",
     "evalue": "The truth value of a Series is ambiguous. Use a.empty, a.bool(), a.item(), a.any() or a.all().",
     "output_type": "error",
     "traceback": [
      "\u001B[1;31m---------------------------------------------------------------------------\u001B[0m",
      "\u001B[1;31mValueError\u001B[0m                                Traceback (most recent call last)",
      "Input \u001B[1;32mIn [23]\u001B[0m, in \u001B[0;36m<cell line: 1>\u001B[1;34m()\u001B[0m\n\u001B[1;32m----> 1\u001B[0m res[\u001B[38;5;241m20\u001B[39m\u001B[38;5;241m>\u001B[39mres[\u001B[38;5;124m'\u001B[39m\u001B[38;5;124mage\u001B[39m\u001B[38;5;124m'\u001B[39m]\u001B[38;5;241m>\u001B[39m\u001B[38;5;241m30\u001B[39m]\n",
      "File \u001B[1;32m~\\anaconda3\\envs\\ox\\lib\\site-packages\\pandas\\core\\generic.py:1535\u001B[0m, in \u001B[0;36mNDFrame.__nonzero__\u001B[1;34m(self)\u001B[0m\n\u001B[0;32m   1533\u001B[0m \u001B[38;5;129m@final\u001B[39m\n\u001B[0;32m   1534\u001B[0m \u001B[38;5;28;01mdef\u001B[39;00m \u001B[38;5;21m__nonzero__\u001B[39m(\u001B[38;5;28mself\u001B[39m):\n\u001B[1;32m-> 1535\u001B[0m     \u001B[38;5;28;01mraise\u001B[39;00m \u001B[38;5;167;01mValueError\u001B[39;00m(\n\u001B[0;32m   1536\u001B[0m         \u001B[38;5;124mf\u001B[39m\u001B[38;5;124m\"\u001B[39m\u001B[38;5;124mThe truth value of a \u001B[39m\u001B[38;5;132;01m{\u001B[39;00m\u001B[38;5;28mtype\u001B[39m(\u001B[38;5;28mself\u001B[39m)\u001B[38;5;241m.\u001B[39m\u001B[38;5;18m__name__\u001B[39m\u001B[38;5;132;01m}\u001B[39;00m\u001B[38;5;124m is ambiguous. \u001B[39m\u001B[38;5;124m\"\u001B[39m\n\u001B[0;32m   1537\u001B[0m         \u001B[38;5;124m\"\u001B[39m\u001B[38;5;124mUse a.empty, a.bool(), a.item(), a.any() or a.all().\u001B[39m\u001B[38;5;124m\"\u001B[39m\n\u001B[0;32m   1538\u001B[0m     )\n",
      "\u001B[1;31mValueError\u001B[0m: The truth value of a Series is ambiguous. Use a.empty, a.bool(), a.item(), a.any() or a.all()."
     ]
    }
   ],
   "source": [
    "res[20>res['age']>30]"
   ],
   "metadata": {
    "collapsed": false,
    "pycharm": {
     "name": "#%%\n"
    }
   }
  },
  {
   "cell_type": "code",
   "execution_count": 29,
   "outputs": [
    {
     "name": "stdout",
     "output_type": "stream",
     "text": [
      "0 - 10: level_0    0.001188\n",
      "index      0.001188\n",
      "age        0.001188\n",
      "dtype: float64\n",
      "10 - 20: level_0    0.029097\n",
      "index      0.029097\n",
      "age        0.029097\n",
      "dtype: float64\n",
      "20 - 30: level_0    0.187055\n",
      "index      0.187055\n",
      "age        0.187055\n",
      "dtype: float64\n",
      "30 - 40: level_0    0.364608\n",
      "index      0.364608\n",
      "age        0.364608\n",
      "dtype: float64\n",
      "40 - 50: level_0    0.232779\n",
      "index      0.232779\n",
      "age        0.232779\n",
      "dtype: float64\n",
      "50 - 60: level_0    0.165677\n",
      "index      0.165677\n",
      "age        0.165677\n",
      "dtype: float64\n",
      "60 - 70: level_0    0.08848\n",
      "index      0.08848\n",
      "age        0.08848\n",
      "dtype: float64\n",
      "70 - 80: level_0    0.03266\n",
      "index      0.03266\n",
      "age        0.03266\n",
      "dtype: float64\n",
      "80 - 90: level_0    0.001188\n",
      "index      0.001188\n",
      "age        0.001188\n",
      "dtype: float64\n",
      "90 - 100: level_0    0.0\n",
      "index      0.0\n",
      "age        0.0\n",
      "dtype: float64\n"
     ]
    }
   ],
   "source": [
    "for i in range(10):\n",
    "    print('{} - {}: {}'.format(10*i,10* (i+1),res[res['age'].between(10*i,10* (i+1))].count()/leny))"
   ],
   "metadata": {
    "collapsed": false,
    "pycharm": {
     "name": "#%%\n"
    }
   }
  },
  {
   "cell_type": "code",
   "execution_count": null,
   "outputs": [],
   "source": [
    "res['age'].between(10,20))].count()"
   ],
   "metadata": {
    "collapsed": false,
    "pycharm": {
     "name": "#%%\n"
    }
   }
  }
 ],
 "metadata": {
  "kernelspec": {
   "display_name": "Python 3",
   "language": "python",
   "name": "python3"
  },
  "language_info": {
   "codemirror_mode": {
    "name": "ipython",
    "version": 2
   },
   "file_extension": ".py",
   "mimetype": "text/x-python",
   "name": "python",
   "nbconvert_exporter": "python",
   "pygments_lexer": "ipython2",
   "version": "2.7.6"
  }
 },
 "nbformat": 4,
 "nbformat_minor": 0
}