{
 "cells": [
  {
   "cell_type": "code",
   "execution_count": 55,
   "outputs": [],
   "source": [
    "import pandas as pd\n",
    "from pandas import DataFrame\n",
    "import numpy as np\n",
    "import calendar\n",
    "from scipy.stats import chi2_contingency\n",
    "from IPython.display import display\n",
    "import os, re\n",
    "project_folder =os.path.dirname(os.path.dirname(os.path.dirname(os.getcwd())))\n",
    "decade = 'Q34_1'\n",
    "import warnings\n",
    "warnings.filterwarnings(action='ignore')"
   ],
   "metadata": {
    "collapsed": false,
    "pycharm": {
     "name": "#%%\n"
    }
   }
  },
  {
   "cell_type": "code",
   "execution_count": 2,
   "outputs": [
    {
     "data": {
      "text/plain": "      level_0  Unnamed: 0.2  Unnamed: 0.1  Unnamed: 0  index        StartDate  \\\n0           0             2           718         745    745   5/3/2022 19:05   \n1           1             3           313         323    323  4/27/2022 16:30   \n2           2             4          1409        1492   1492  5/11/2022 14:54   \n3           3             5          1603        1710   1710  5/15/2022 20:21   \n4           4             6             5           7      7  4/22/2022 11:46   \n...       ...           ...           ...         ...    ...              ...   \n1816     1816          1818          1773        1967   1967  5/16/2022 17:58   \n1817     1817          1819          1786        1981   1981   6/1/2022 14:44   \n1818     1818          1820          1795        1990   1990   6/2/2022 14:51   \n1819     1819          1821          1823        2021   2021  5/24/2022 12:17   \n1820     1820          1822          1824        2022   2022    6/8/2022 3:19   \n\n              EndDate      Status        IPAddress  Progress  ...  \\\n0      5/3/2022 19:19  IP Address    208.98.223.42       100  ...   \n1     4/27/2022 16:44  IP Address   99.171.110.253       100  ...   \n2     5/11/2022 15:00  IP Address   76.103.138.149       100  ...   \n3     5/15/2022 20:27  IP Address     68.149.96.52       100  ...   \n4     4/22/2022 11:53  IP Address     97.113.1.186       100  ...   \n...               ...         ...              ...       ...  ...   \n1816  5/16/2022 18:03  IP Address     73.189.49.55        82  ...   \n1817   6/1/2022 14:51  IP Address    72.194.49.254       100  ...   \n1818   6/2/2022 14:56  IP Address    107.122.81.38       100  ...   \n1819  5/24/2022 12:20  IP Address   174.90.223.242        69  ...   \n1820    6/8/2022 3:30  IP Address  108.211.181.111       100  ...   \n\n                                                    Q40     Q40_3_TEXT  \\\n0     A bicycle registry/recovery system (e.g., Bike...            NaN   \n1                                                 Email            NaN   \n2                                                 Email            NaN   \n3                                                 Email            NaN   \n4                                                 Email            NaN   \n...                                                 ...            ...   \n1816                                                NaN            NaN   \n1817                                              Email            NaN   \n1818                            Other (please specify):       Facebook   \n1819                                                NaN            NaN   \n1820                            Other (please specify):  acquientance    \n\n             lat        lon  score            stolen_bikes_place  country  \\\n0    -113.490140  53.545450  100.0          Edmonton,Alberta,CAN      CAN   \n1    -117.874460  33.749580  100.0      Santa Ana,California,USA      USA   \n2    -121.885420  37.338650  100.0       San Jose,California,USA      USA   \n3    -113.490140  53.545450  100.0          Edmonton,Alberta,CAN      CAN   \n4    -122.329450  47.603570  100.0        Seattle,Washington,USA      USA   \n...          ...        ...    ...                           ...      ...   \n1816 -122.285410  38.299110  100.0           Napa,California,USA      USA   \n1817 -119.728880  34.441470  100.0  Santa Barbara,California,USA      USA   \n1818 -119.699050  34.419380  100.0  Santa Barbara,California,USA      USA   \n1819 -114.057141  51.045113  100.0           Calgary,Alberta,CAN      CAN   \n1820 -122.419640  37.777120  100.0  San Francisco,California,USA      USA   \n\n               city       state   Q34_1  \n0          Edmonton     Alberta  1930.0  \n1         Santa Ana  California  1930.0  \n2          San Jose  California  1940.0  \n3          Edmonton     Alberta  1940.0  \n4           Seattle  Washington  1940.0  \n...             ...         ...     ...  \n1816           Napa  California     NaN  \n1817  Santa Barbara  California     NaN  \n1818  Santa Barbara  California     NaN  \n1819        Calgary     Alberta     NaN  \n1820  San Francisco  California     NaN  \n\n[1821 rows x 87 columns]",
      "text/html": "<div>\n<style scoped>\n    .dataframe tbody tr th:only-of-type {\n        vertical-align: middle;\n    }\n\n    .dataframe tbody tr th {\n        vertical-align: top;\n    }\n\n    .dataframe thead th {\n        text-align: right;\n    }\n</style>\n<table border=\"1\" class=\"dataframe\">\n  <thead>\n    <tr style=\"text-align: right;\">\n      <th></th>\n      <th>level_0</th>\n      <th>Unnamed: 0.2</th>\n      <th>Unnamed: 0.1</th>\n      <th>Unnamed: 0</th>\n      <th>index</th>\n      <th>StartDate</th>\n      <th>EndDate</th>\n      <th>Status</th>\n      <th>IPAddress</th>\n      <th>Progress</th>\n      <th>...</th>\n      <th>Q40</th>\n      <th>Q40_3_TEXT</th>\n      <th>lat</th>\n      <th>lon</th>\n      <th>score</th>\n      <th>stolen_bikes_place</th>\n      <th>country</th>\n      <th>city</th>\n      <th>state</th>\n      <th>Q34_1</th>\n    </tr>\n  </thead>\n  <tbody>\n    <tr>\n      <th>0</th>\n      <td>0</td>\n      <td>2</td>\n      <td>718</td>\n      <td>745</td>\n      <td>745</td>\n      <td>5/3/2022 19:05</td>\n      <td>5/3/2022 19:19</td>\n      <td>IP Address</td>\n      <td>208.98.223.42</td>\n      <td>100</td>\n      <td>...</td>\n      <td>A bicycle registry/recovery system (e.g., Bike...</td>\n      <td>NaN</td>\n      <td>-113.490140</td>\n      <td>53.545450</td>\n      <td>100.0</td>\n      <td>Edmonton,Alberta,CAN</td>\n      <td>CAN</td>\n      <td>Edmonton</td>\n      <td>Alberta</td>\n      <td>1930.0</td>\n    </tr>\n    <tr>\n      <th>1</th>\n      <td>1</td>\n      <td>3</td>\n      <td>313</td>\n      <td>323</td>\n      <td>323</td>\n      <td>4/27/2022 16:30</td>\n      <td>4/27/2022 16:44</td>\n      <td>IP Address</td>\n      <td>99.171.110.253</td>\n      <td>100</td>\n      <td>...</td>\n      <td>Email</td>\n      <td>NaN</td>\n      <td>-117.874460</td>\n      <td>33.749580</td>\n      <td>100.0</td>\n      <td>Santa Ana,California,USA</td>\n      <td>USA</td>\n      <td>Santa Ana</td>\n      <td>California</td>\n      <td>1930.0</td>\n    </tr>\n    <tr>\n      <th>2</th>\n      <td>2</td>\n      <td>4</td>\n      <td>1409</td>\n      <td>1492</td>\n      <td>1492</td>\n      <td>5/11/2022 14:54</td>\n      <td>5/11/2022 15:00</td>\n      <td>IP Address</td>\n      <td>76.103.138.149</td>\n      <td>100</td>\n      <td>...</td>\n      <td>Email</td>\n      <td>NaN</td>\n      <td>-121.885420</td>\n      <td>37.338650</td>\n      <td>100.0</td>\n      <td>San Jose,California,USA</td>\n      <td>USA</td>\n      <td>San Jose</td>\n      <td>California</td>\n      <td>1940.0</td>\n    </tr>\n    <tr>\n      <th>3</th>\n      <td>3</td>\n      <td>5</td>\n      <td>1603</td>\n      <td>1710</td>\n      <td>1710</td>\n      <td>5/15/2022 20:21</td>\n      <td>5/15/2022 20:27</td>\n      <td>IP Address</td>\n      <td>68.149.96.52</td>\n      <td>100</td>\n      <td>...</td>\n      <td>Email</td>\n      <td>NaN</td>\n      <td>-113.490140</td>\n      <td>53.545450</td>\n      <td>100.0</td>\n      <td>Edmonton,Alberta,CAN</td>\n      <td>CAN</td>\n      <td>Edmonton</td>\n      <td>Alberta</td>\n      <td>1940.0</td>\n    </tr>\n    <tr>\n      <th>4</th>\n      <td>4</td>\n      <td>6</td>\n      <td>5</td>\n      <td>7</td>\n      <td>7</td>\n      <td>4/22/2022 11:46</td>\n      <td>4/22/2022 11:53</td>\n      <td>IP Address</td>\n      <td>97.113.1.186</td>\n      <td>100</td>\n      <td>...</td>\n      <td>Email</td>\n      <td>NaN</td>\n      <td>-122.329450</td>\n      <td>47.603570</td>\n      <td>100.0</td>\n      <td>Seattle,Washington,USA</td>\n      <td>USA</td>\n      <td>Seattle</td>\n      <td>Washington</td>\n      <td>1940.0</td>\n    </tr>\n    <tr>\n      <th>...</th>\n      <td>...</td>\n      <td>...</td>\n      <td>...</td>\n      <td>...</td>\n      <td>...</td>\n      <td>...</td>\n      <td>...</td>\n      <td>...</td>\n      <td>...</td>\n      <td>...</td>\n      <td>...</td>\n      <td>...</td>\n      <td>...</td>\n      <td>...</td>\n      <td>...</td>\n      <td>...</td>\n      <td>...</td>\n      <td>...</td>\n      <td>...</td>\n      <td>...</td>\n      <td>...</td>\n    </tr>\n    <tr>\n      <th>1816</th>\n      <td>1816</td>\n      <td>1818</td>\n      <td>1773</td>\n      <td>1967</td>\n      <td>1967</td>\n      <td>5/16/2022 17:58</td>\n      <td>5/16/2022 18:03</td>\n      <td>IP Address</td>\n      <td>73.189.49.55</td>\n      <td>82</td>\n      <td>...</td>\n      <td>NaN</td>\n      <td>NaN</td>\n      <td>-122.285410</td>\n      <td>38.299110</td>\n      <td>100.0</td>\n      <td>Napa,California,USA</td>\n      <td>USA</td>\n      <td>Napa</td>\n      <td>California</td>\n      <td>NaN</td>\n    </tr>\n    <tr>\n      <th>1817</th>\n      <td>1817</td>\n      <td>1819</td>\n      <td>1786</td>\n      <td>1981</td>\n      <td>1981</td>\n      <td>6/1/2022 14:44</td>\n      <td>6/1/2022 14:51</td>\n      <td>IP Address</td>\n      <td>72.194.49.254</td>\n      <td>100</td>\n      <td>...</td>\n      <td>Email</td>\n      <td>NaN</td>\n      <td>-119.728880</td>\n      <td>34.441470</td>\n      <td>100.0</td>\n      <td>Santa Barbara,California,USA</td>\n      <td>USA</td>\n      <td>Santa Barbara</td>\n      <td>California</td>\n      <td>NaN</td>\n    </tr>\n    <tr>\n      <th>1818</th>\n      <td>1818</td>\n      <td>1820</td>\n      <td>1795</td>\n      <td>1990</td>\n      <td>1990</td>\n      <td>6/2/2022 14:51</td>\n      <td>6/2/2022 14:56</td>\n      <td>IP Address</td>\n      <td>107.122.81.38</td>\n      <td>100</td>\n      <td>...</td>\n      <td>Other (please specify):</td>\n      <td>Facebook</td>\n      <td>-119.699050</td>\n      <td>34.419380</td>\n      <td>100.0</td>\n      <td>Santa Barbara,California,USA</td>\n      <td>USA</td>\n      <td>Santa Barbara</td>\n      <td>California</td>\n      <td>NaN</td>\n    </tr>\n    <tr>\n      <th>1819</th>\n      <td>1819</td>\n      <td>1821</td>\n      <td>1823</td>\n      <td>2021</td>\n      <td>2021</td>\n      <td>5/24/2022 12:17</td>\n      <td>5/24/2022 12:20</td>\n      <td>IP Address</td>\n      <td>174.90.223.242</td>\n      <td>69</td>\n      <td>...</td>\n      <td>NaN</td>\n      <td>NaN</td>\n      <td>-114.057141</td>\n      <td>51.045113</td>\n      <td>100.0</td>\n      <td>Calgary,Alberta,CAN</td>\n      <td>CAN</td>\n      <td>Calgary</td>\n      <td>Alberta</td>\n      <td>NaN</td>\n    </tr>\n    <tr>\n      <th>1820</th>\n      <td>1820</td>\n      <td>1822</td>\n      <td>1824</td>\n      <td>2022</td>\n      <td>2022</td>\n      <td>6/8/2022 3:19</td>\n      <td>6/8/2022 3:30</td>\n      <td>IP Address</td>\n      <td>108.211.181.111</td>\n      <td>100</td>\n      <td>...</td>\n      <td>Other (please specify):</td>\n      <td>acquientance</td>\n      <td>-122.419640</td>\n      <td>37.777120</td>\n      <td>100.0</td>\n      <td>San Francisco,California,USA</td>\n      <td>USA</td>\n      <td>San Francisco</td>\n      <td>California</td>\n      <td>NaN</td>\n    </tr>\n  </tbody>\n</table>\n<p>1821 rows × 87 columns</p>\n</div>"
     },
     "execution_count": 2,
     "metadata": {},
     "output_type": "execute_result"
    }
   ],
   "source": [
    "data_general = pd.read_csv(f'{project_folder}/data/process/final_geo_coding.csv', skiprows=[1, 2]).reset_index()\n",
    "data_general['Q34_1'] = data_general['Q34'].dropna().map(lambda x:int(x/10)*10)\n",
    "data_general"
   ],
   "metadata": {
    "collapsed": false,
    "pycharm": {
     "name": "#%%\n"
    }
   }
  },
  {
   "cell_type": "code",
   "execution_count": 73,
   "outputs": [
    {
     "data": {
      "text/plain": "index                                                          0\nStartDate                                             Start Date\nEndDate                                                 End Date\nStatus                                             Response Type\nIPAddress                                             IP Address\n                                     ...                        \nQ38            What is the highest level of education you hav...\nQ39            What do you consider your main ethnic origin o...\nQ39_10_TEXT    What do you consider your main ethnic origin o...\nQ40            Where did you hear about this survey? - Select...\nQ40_3_TEXT     Where did you hear about this survey? - Other ...\nName: 0, Length: 75, dtype: object"
     },
     "execution_count": 73,
     "metadata": {},
     "output_type": "execute_result"
    }
   ],
   "source": [
    "# show the questions\n",
    "pd.read_csv(f'{project_folder}/data/process/new_data.csv', skiprows=[2]).reset_index().iloc[0]"
   ],
   "metadata": {
    "collapsed": false,
    "pycharm": {
     "name": "#%%\n"
    }
   }
  },
  {
   "cell_type": "code",
   "execution_count": 80,
   "outputs": [],
   "source": [
    "questions ={'Q2':'part','Q6':'day_time','Q7':'is_locked','Q8':'locked_type','Q9':'theft_location','Q10':'is_regi','Q11':'report_loc','Q12':'is_insured','Q13':'estimate_val','Q14':'is_electric','Q15':'bike_type','Q17':'is_university','Q18':'is_recovered','Q19':'is_online','Q21':'is_police_assist','Q23':'recovery_loc','Q24':'con_recovery','Q34': 'birth', 'Q35': 'gender', 'Q36': 'income', 'Q38': 'education', 'Q39': 'ethnic_origin'}"
   ],
   "metadata": {
    "collapsed": false,
    "pycharm": {
     "name": "#%%\n"
    }
   }
  },
  {
   "cell_type": "code",
   "execution_count": 81,
   "outputs": [],
   "source": [
    "def get_the_highest(table_updated, table_to_agg):\n",
    "# This method aggregates small numbers of response types while maintaining 10% percentiles\n",
    "    if table_to_agg[percentage].sum()<10:\n",
    "        if len(table_to_agg)==1:\n",
    "            # No aggregation is required\n",
    "            table_updated = table_updated.append(table_to_agg)\n",
    "        else:\n",
    "            table_updated.loc['Aggregated Responses'] = round(table_to_agg.sum(), 1)\n",
    "        return table_updated\n",
    "    else:\n",
    "        table_updated = table_updated.append(table_to_agg.iloc[0])\n",
    "        return get_the_highest(table_updated, table_to_agg.iloc[1:])\n"
   ],
   "metadata": {
    "collapsed": false,
    "pycharm": {
     "name": "#%%\n"
    }
   }
  },
  {
   "cell_type": "code",
   "execution_count": 82,
   "outputs": [],
   "source": [
    "def sub_aggregate_def(indices:list,j,sum)-> list:\n",
    "    \"\"\"\n",
    "    add all the response types that together are less than 10%\n",
    "    :param indices: list to updata\n",
    "    :param j: next response types index to check\n",
    "    :param sum: the current percentile sum\n",
    "    :return:\n",
    "    \"\"\"\n",
    "    temp_sum = sub_aggregate.iloc[j][percentage] +sum\n",
    "    if temp_sum>10:\n",
    "        return indices\n",
    "    else:\n",
    "        indices.append(j)\n",
    "        if j+1 <len_sub_aggregate:\n",
    "            indices = sub_aggregate_def(indices,j+1,temp_sum)\n",
    "    return indices\n"
   ],
   "metadata": {
    "collapsed": false,
    "pycharm": {
     "name": "#%%\n"
    }
   }
  },
  {
   "cell_type": "code",
   "execution_count": 100,
   "outputs": [
    {
     "name": "stderr",
     "output_type": "stream",
     "text": [
      "C:\\Users\\Achituv\\AppData\\Local\\Temp\\ipykernel_19140\\3906830916.py:51: FutureWarning: The frame.append method is deprecated and will be removed from pandas in a future version. Use pandas.concat instead.\n",
      "  table_new = table_new.append(table_add)\n",
      "C:\\Users\\Achituv\\AppData\\Local\\Temp\\ipykernel_19140\\3031605931.py:11: FutureWarning: The frame.append method is deprecated and will be removed from pandas in a future version. Use pandas.concat instead.\n",
      "  table_updated = table_updated.append(table_to_agg.iloc[0])\n",
      "C:\\Users\\Achituv\\AppData\\Local\\Temp\\ipykernel_19140\\3031605931.py:11: FutureWarning: The frame.append method is deprecated and will be removed from pandas in a future version. Use pandas.concat instead.\n",
      "  table_updated = table_updated.append(table_to_agg.iloc[0])\n",
      "C:\\Users\\Achituv\\AppData\\Local\\Temp\\ipykernel_19140\\3031605931.py:11: FutureWarning: The frame.append method is deprecated and will be removed from pandas in a future version. Use pandas.concat instead.\n",
      "  table_updated = table_updated.append(table_to_agg.iloc[0])\n",
      "C:\\Users\\Achituv\\AppData\\Local\\Temp\\ipykernel_19140\\3031605931.py:11: FutureWarning: The frame.append method is deprecated and will be removed from pandas in a future version. Use pandas.concat instead.\n",
      "  table_updated = table_updated.append(table_to_agg.iloc[0])\n",
      "C:\\Users\\Achituv\\AppData\\Local\\Temp\\ipykernel_19140\\3031605931.py:11: FutureWarning: The frame.append method is deprecated and will be removed from pandas in a future version. Use pandas.concat instead.\n",
      "  table_updated = table_updated.append(table_to_agg.iloc[0])\n",
      "C:\\Users\\Achituv\\AppData\\Local\\Temp\\ipykernel_19140\\3031605931.py:11: FutureWarning: The frame.append method is deprecated and will be removed from pandas in a future version. Use pandas.concat instead.\n",
      "  table_updated = table_updated.append(table_to_agg.iloc[0])\n",
      "C:\\Users\\Achituv\\AppData\\Local\\Temp\\ipykernel_19140\\3031605931.py:11: FutureWarning: The frame.append method is deprecated and will be removed from pandas in a future version. Use pandas.concat instead.\n",
      "  table_updated = table_updated.append(table_to_agg.iloc[0])\n",
      "C:\\Users\\Achituv\\AppData\\Local\\Temp\\ipykernel_19140\\3031605931.py:11: FutureWarning: The frame.append method is deprecated and will be removed from pandas in a future version. Use pandas.concat instead.\n",
      "  table_updated = table_updated.append(table_to_agg.iloc[0])\n",
      "C:\\Users\\Achituv\\AppData\\Local\\Temp\\ipykernel_19140\\3031605931.py:11: FutureWarning: The frame.append method is deprecated and will be removed from pandas in a future version. Use pandas.concat instead.\n",
      "  table_updated = table_updated.append(table_to_agg.iloc[0])\n",
      "C:\\Users\\Achituv\\AppData\\Local\\Temp\\ipykernel_19140\\3906830916.py:47: SettingWithCopyWarning: \n",
      "A value is trying to be set on a copy of a slice from a DataFrame\n",
      "\n",
      "See the caveats in the documentation: https://pandas.pydata.org/pandas-docs/stable/user_guide/indexing.html#returning-a-view-versus-a-copy\n",
      "  table_new.loc[' OR '.join(list(temp_df.index))] = temp_df.sum()\n",
      "C:\\Users\\Achituv\\AppData\\Local\\Temp\\ipykernel_19140\\3906830916.py:47: SettingWithCopyWarning: \n",
      "A value is trying to be set on a copy of a slice from a DataFrame\n",
      "\n",
      "See the caveats in the documentation: https://pandas.pydata.org/pandas-docs/stable/user_guide/indexing.html#returning-a-view-versus-a-copy\n",
      "  table_new.loc[' OR '.join(list(temp_df.index))] = temp_df.sum()\n",
      "C:\\Users\\Achituv\\AppData\\Local\\Temp\\ipykernel_19140\\3906830916.py:47: SettingWithCopyWarning: \n",
      "A value is trying to be set on a copy of a slice from a DataFrame\n",
      "\n",
      "See the caveats in the documentation: https://pandas.pydata.org/pandas-docs/stable/user_guide/indexing.html#returning-a-view-versus-a-copy\n",
      "  table_new.loc[' OR '.join(list(temp_df.index))] = temp_df.sum()\n",
      "C:\\Users\\Achituv\\AppData\\Local\\Temp\\ipykernel_19140\\3906830916.py:47: SettingWithCopyWarning: \n",
      "A value is trying to be set on a copy of a slice from a DataFrame\n",
      "\n",
      "See the caveats in the documentation: https://pandas.pydata.org/pandas-docs/stable/user_guide/indexing.html#returning-a-view-versus-a-copy\n",
      "  table_new.loc[' OR '.join(list(temp_df.index))] = temp_df.sum()\n",
      "C:\\Users\\Achituv\\AppData\\Local\\Temp\\ipykernel_19140\\3906830916.py:49: FutureWarning: The frame.append method is deprecated and will be removed from pandas in a future version. Use pandas.concat instead.\n",
      "  table_new =table_new.append(table_add.iloc[-1])\n",
      "C:\\Users\\Achituv\\AppData\\Local\\Temp\\ipykernel_19140\\3031605931.py:11: FutureWarning: The frame.append method is deprecated and will be removed from pandas in a future version. Use pandas.concat instead.\n",
      "  table_updated = table_updated.append(table_to_agg.iloc[0])\n",
      "C:\\Users\\Achituv\\AppData\\Local\\Temp\\ipykernel_19140\\3031605931.py:11: FutureWarning: The frame.append method is deprecated and will be removed from pandas in a future version. Use pandas.concat instead.\n",
      "  table_updated = table_updated.append(table_to_agg.iloc[0])\n",
      "C:\\Users\\Achituv\\AppData\\Local\\Temp\\ipykernel_19140\\3031605931.py:11: FutureWarning: The frame.append method is deprecated and will be removed from pandas in a future version. Use pandas.concat instead.\n",
      "  table_updated = table_updated.append(table_to_agg.iloc[0])\n",
      "C:\\Users\\Achituv\\AppData\\Local\\Temp\\ipykernel_19140\\3906830916.py:47: SettingWithCopyWarning: \n",
      "A value is trying to be set on a copy of a slice from a DataFrame\n",
      "\n",
      "See the caveats in the documentation: https://pandas.pydata.org/pandas-docs/stable/user_guide/indexing.html#returning-a-view-versus-a-copy\n",
      "  table_new.loc[' OR '.join(list(temp_df.index))] = temp_df.sum()\n",
      "C:\\Users\\Achituv\\AppData\\Local\\Temp\\ipykernel_19140\\3906830916.py:47: SettingWithCopyWarning: \n",
      "A value is trying to be set on a copy of a slice from a DataFrame\n",
      "\n",
      "See the caveats in the documentation: https://pandas.pydata.org/pandas-docs/stable/user_guide/indexing.html#returning-a-view-versus-a-copy\n",
      "  table_new.loc[' OR '.join(list(temp_df.index))] = temp_df.sum()\n",
      "C:\\Users\\Achituv\\AppData\\Local\\Temp\\ipykernel_19140\\3906830916.py:49: FutureWarning: The frame.append method is deprecated and will be removed from pandas in a future version. Use pandas.concat instead.\n",
      "  table_new =table_new.append(table_add.iloc[-1])\n",
      "C:\\Users\\Achituv\\AppData\\Local\\Temp\\ipykernel_19140\\3031605931.py:11: FutureWarning: The frame.append method is deprecated and will be removed from pandas in a future version. Use pandas.concat instead.\n",
      "  table_updated = table_updated.append(table_to_agg.iloc[0])\n",
      "C:\\Users\\Achituv\\AppData\\Local\\Temp\\ipykernel_19140\\3031605931.py:11: FutureWarning: The frame.append method is deprecated and will be removed from pandas in a future version. Use pandas.concat instead.\n",
      "  table_updated = table_updated.append(table_to_agg.iloc[0])\n",
      "C:\\Users\\Achituv\\AppData\\Local\\Temp\\ipykernel_19140\\3031605931.py:11: FutureWarning: The frame.append method is deprecated and will be removed from pandas in a future version. Use pandas.concat instead.\n",
      "  table_updated = table_updated.append(table_to_agg.iloc[0])\n",
      "C:\\Users\\Achituv\\AppData\\Local\\Temp\\ipykernel_19140\\3906830916.py:47: SettingWithCopyWarning: \n",
      "A value is trying to be set on a copy of a slice from a DataFrame\n",
      "\n",
      "See the caveats in the documentation: https://pandas.pydata.org/pandas-docs/stable/user_guide/indexing.html#returning-a-view-versus-a-copy\n",
      "  table_new.loc[' OR '.join(list(temp_df.index))] = temp_df.sum()\n",
      "C:\\Users\\Achituv\\AppData\\Local\\Temp\\ipykernel_19140\\3906830916.py:47: SettingWithCopyWarning: \n",
      "A value is trying to be set on a copy of a slice from a DataFrame\n",
      "\n",
      "See the caveats in the documentation: https://pandas.pydata.org/pandas-docs/stable/user_guide/indexing.html#returning-a-view-versus-a-copy\n",
      "  table_new.loc[' OR '.join(list(temp_df.index))] = temp_df.sum()\n",
      "C:\\Users\\Achituv\\AppData\\Local\\Temp\\ipykernel_19140\\3906830916.py:49: FutureWarning: The frame.append method is deprecated and will be removed from pandas in a future version. Use pandas.concat instead.\n",
      "  table_new =table_new.append(table_add.iloc[-1])\n",
      "C:\\Users\\Achituv\\AppData\\Local\\Temp\\ipykernel_19140\\3906830916.py:51: FutureWarning: The frame.append method is deprecated and will be removed from pandas in a future version. Use pandas.concat instead.\n",
      "  table_new = table_new.append(table_add)\n",
      "C:\\Users\\Achituv\\AppData\\Local\\Temp\\ipykernel_19140\\3031605931.py:11: FutureWarning: The frame.append method is deprecated and will be removed from pandas in a future version. Use pandas.concat instead.\n",
      "  table_updated = table_updated.append(table_to_agg.iloc[0])\n",
      "C:\\Users\\Achituv\\AppData\\Local\\Temp\\ipykernel_19140\\3906830916.py:51: FutureWarning: The frame.append method is deprecated and will be removed from pandas in a future version. Use pandas.concat instead.\n",
      "  table_new = table_new.append(table_add)\n",
      "C:\\Users\\Achituv\\AppData\\Local\\Temp\\ipykernel_19140\\3031605931.py:11: FutureWarning: The frame.append method is deprecated and will be removed from pandas in a future version. Use pandas.concat instead.\n",
      "  table_updated = table_updated.append(table_to_agg.iloc[0])\n",
      "C:\\Users\\Achituv\\AppData\\Local\\Temp\\ipykernel_19140\\3031605931.py:6: FutureWarning: The frame.append method is deprecated and will be removed from pandas in a future version. Use pandas.concat instead.\n",
      "  table_updated = table_updated.append(table_to_agg)\n",
      "C:\\Users\\Achituv\\AppData\\Local\\Temp\\ipykernel_19140\\3906830916.py:51: FutureWarning: The frame.append method is deprecated and will be removed from pandas in a future version. Use pandas.concat instead.\n",
      "  table_new = table_new.append(table_add)\n",
      "C:\\Users\\Achituv\\AppData\\Local\\Temp\\ipykernel_19140\\3031605931.py:11: FutureWarning: The frame.append method is deprecated and will be removed from pandas in a future version. Use pandas.concat instead.\n",
      "  table_updated = table_updated.append(table_to_agg.iloc[0])\n",
      "C:\\Users\\Achituv\\AppData\\Local\\Temp\\ipykernel_19140\\3031605931.py:11: FutureWarning: The frame.append method is deprecated and will be removed from pandas in a future version. Use pandas.concat instead.\n",
      "  table_updated = table_updated.append(table_to_agg.iloc[0])\n",
      "C:\\Users\\Achituv\\AppData\\Local\\Temp\\ipykernel_19140\\3906830916.py:47: SettingWithCopyWarning: \n",
      "A value is trying to be set on a copy of a slice from a DataFrame\n",
      "\n",
      "See the caveats in the documentation: https://pandas.pydata.org/pandas-docs/stable/user_guide/indexing.html#returning-a-view-versus-a-copy\n",
      "  table_new.loc[' OR '.join(list(temp_df.index))] = temp_df.sum()\n",
      "C:\\Users\\Achituv\\AppData\\Local\\Temp\\ipykernel_19140\\3906830916.py:49: FutureWarning: The frame.append method is deprecated and will be removed from pandas in a future version. Use pandas.concat instead.\n",
      "  table_new =table_new.append(table_add.iloc[-1])\n",
      "C:\\Users\\Achituv\\AppData\\Local\\Temp\\ipykernel_19140\\3031605931.py:11: FutureWarning: The frame.append method is deprecated and will be removed from pandas in a future version. Use pandas.concat instead.\n",
      "  table_updated = table_updated.append(table_to_agg.iloc[0])\n",
      "C:\\Users\\Achituv\\AppData\\Local\\Temp\\ipykernel_19140\\3031605931.py:11: FutureWarning: The frame.append method is deprecated and will be removed from pandas in a future version. Use pandas.concat instead.\n",
      "  table_updated = table_updated.append(table_to_agg.iloc[0])\n",
      "C:\\Users\\Achituv\\AppData\\Local\\Temp\\ipykernel_19140\\3031605931.py:11: FutureWarning: The frame.append method is deprecated and will be removed from pandas in a future version. Use pandas.concat instead.\n",
      "  table_updated = table_updated.append(table_to_agg.iloc[0])\n",
      "C:\\Users\\Achituv\\AppData\\Local\\Temp\\ipykernel_19140\\3906830916.py:47: SettingWithCopyWarning: \n",
      "A value is trying to be set on a copy of a slice from a DataFrame\n",
      "\n",
      "See the caveats in the documentation: https://pandas.pydata.org/pandas-docs/stable/user_guide/indexing.html#returning-a-view-versus-a-copy\n",
      "  table_new.loc[' OR '.join(list(temp_df.index))] = temp_df.sum()\n",
      "C:\\Users\\Achituv\\AppData\\Local\\Temp\\ipykernel_19140\\3906830916.py:47: SettingWithCopyWarning: \n",
      "A value is trying to be set on a copy of a slice from a DataFrame\n",
      "\n",
      "See the caveats in the documentation: https://pandas.pydata.org/pandas-docs/stable/user_guide/indexing.html#returning-a-view-versus-a-copy\n",
      "  table_new.loc[' OR '.join(list(temp_df.index))] = temp_df.sum()\n",
      "C:\\Users\\Achituv\\AppData\\Local\\Temp\\ipykernel_19140\\3906830916.py:47: SettingWithCopyWarning: \n",
      "A value is trying to be set on a copy of a slice from a DataFrame\n",
      "\n",
      "See the caveats in the documentation: https://pandas.pydata.org/pandas-docs/stable/user_guide/indexing.html#returning-a-view-versus-a-copy\n",
      "  table_new.loc[' OR '.join(list(temp_df.index))] = temp_df.sum()\n",
      "C:\\Users\\Achituv\\AppData\\Local\\Temp\\ipykernel_19140\\3906830916.py:49: FutureWarning: The frame.append method is deprecated and will be removed from pandas in a future version. Use pandas.concat instead.\n",
      "  table_new =table_new.append(table_add.iloc[-1])\n",
      "C:\\Users\\Achituv\\AppData\\Local\\Temp\\ipykernel_19140\\3031605931.py:11: FutureWarning: The frame.append method is deprecated and will be removed from pandas in a future version. Use pandas.concat instead.\n",
      "  table_updated = table_updated.append(table_to_agg.iloc[0])\n",
      "C:\\Users\\Achituv\\AppData\\Local\\Temp\\ipykernel_19140\\3031605931.py:11: FutureWarning: The frame.append method is deprecated and will be removed from pandas in a future version. Use pandas.concat instead.\n",
      "  table_updated = table_updated.append(table_to_agg.iloc[0])\n",
      "C:\\Users\\Achituv\\AppData\\Local\\Temp\\ipykernel_19140\\3031605931.py:11: FutureWarning: The frame.append method is deprecated and will be removed from pandas in a future version. Use pandas.concat instead.\n",
      "  table_updated = table_updated.append(table_to_agg.iloc[0])\n",
      "C:\\Users\\Achituv\\AppData\\Local\\Temp\\ipykernel_19140\\3906830916.py:47: SettingWithCopyWarning: \n",
      "A value is trying to be set on a copy of a slice from a DataFrame\n",
      "\n",
      "See the caveats in the documentation: https://pandas.pydata.org/pandas-docs/stable/user_guide/indexing.html#returning-a-view-versus-a-copy\n",
      "  table_new.loc[' OR '.join(list(temp_df.index))] = temp_df.sum()\n",
      "C:\\Users\\Achituv\\AppData\\Local\\Temp\\ipykernel_19140\\3906830916.py:47: SettingWithCopyWarning: \n",
      "A value is trying to be set on a copy of a slice from a DataFrame\n",
      "\n",
      "See the caveats in the documentation: https://pandas.pydata.org/pandas-docs/stable/user_guide/indexing.html#returning-a-view-versus-a-copy\n",
      "  table_new.loc[' OR '.join(list(temp_df.index))] = temp_df.sum()\n",
      "C:\\Users\\Achituv\\AppData\\Local\\Temp\\ipykernel_19140\\3906830916.py:49: FutureWarning: The frame.append method is deprecated and will be removed from pandas in a future version. Use pandas.concat instead.\n",
      "  table_new =table_new.append(table_add.iloc[-1])\n",
      "C:\\Users\\Achituv\\AppData\\Local\\Temp\\ipykernel_19140\\3906830916.py:51: FutureWarning: The frame.append method is deprecated and will be removed from pandas in a future version. Use pandas.concat instead.\n",
      "  table_new = table_new.append(table_add)\n",
      "C:\\Users\\Achituv\\AppData\\Local\\Temp\\ipykernel_19140\\3906830916.py:51: FutureWarning: The frame.append method is deprecated and will be removed from pandas in a future version. Use pandas.concat instead.\n",
      "  table_new = table_new.append(table_add)\n",
      "C:\\Users\\Achituv\\AppData\\Local\\Temp\\ipykernel_19140\\3031605931.py:11: FutureWarning: The frame.append method is deprecated and will be removed from pandas in a future version. Use pandas.concat instead.\n",
      "  table_updated = table_updated.append(table_to_agg.iloc[0])\n",
      "C:\\Users\\Achituv\\AppData\\Local\\Temp\\ipykernel_19140\\3031605931.py:11: FutureWarning: The frame.append method is deprecated and will be removed from pandas in a future version. Use pandas.concat instead.\n",
      "  table_updated = table_updated.append(table_to_agg.iloc[0])\n",
      "C:\\Users\\Achituv\\AppData\\Local\\Temp\\ipykernel_19140\\3031605931.py:11: FutureWarning: The frame.append method is deprecated and will be removed from pandas in a future version. Use pandas.concat instead.\n",
      "  table_updated = table_updated.append(table_to_agg.iloc[0])\n",
      "C:\\Users\\Achituv\\AppData\\Local\\Temp\\ipykernel_19140\\3906830916.py:47: SettingWithCopyWarning: \n",
      "A value is trying to be set on a copy of a slice from a DataFrame\n",
      "\n",
      "See the caveats in the documentation: https://pandas.pydata.org/pandas-docs/stable/user_guide/indexing.html#returning-a-view-versus-a-copy\n",
      "  table_new.loc[' OR '.join(list(temp_df.index))] = temp_df.sum()\n",
      "C:\\Users\\Achituv\\AppData\\Local\\Temp\\ipykernel_19140\\3906830916.py:47: SettingWithCopyWarning: \n",
      "A value is trying to be set on a copy of a slice from a DataFrame\n",
      "\n",
      "See the caveats in the documentation: https://pandas.pydata.org/pandas-docs/stable/user_guide/indexing.html#returning-a-view-versus-a-copy\n",
      "  table_new.loc[' OR '.join(list(temp_df.index))] = temp_df.sum()\n",
      "C:\\Users\\Achituv\\AppData\\Local\\Temp\\ipykernel_19140\\3906830916.py:47: SettingWithCopyWarning: \n",
      "A value is trying to be set on a copy of a slice from a DataFrame\n",
      "\n",
      "See the caveats in the documentation: https://pandas.pydata.org/pandas-docs/stable/user_guide/indexing.html#returning-a-view-versus-a-copy\n",
      "  table_new.loc[' OR '.join(list(temp_df.index))] = temp_df.sum()\n",
      "C:\\Users\\Achituv\\AppData\\Local\\Temp\\ipykernel_19140\\3906830916.py:49: FutureWarning: The frame.append method is deprecated and will be removed from pandas in a future version. Use pandas.concat instead.\n",
      "  table_new =table_new.append(table_add.iloc[-1])\n",
      "C:\\Users\\Achituv\\AppData\\Local\\Temp\\ipykernel_19140\\3031605931.py:11: FutureWarning: The frame.append method is deprecated and will be removed from pandas in a future version. Use pandas.concat instead.\n",
      "  table_updated = table_updated.append(table_to_agg.iloc[0])\n",
      "C:\\Users\\Achituv\\AppData\\Local\\Temp\\ipykernel_19140\\3031605931.py:11: FutureWarning: The frame.append method is deprecated and will be removed from pandas in a future version. Use pandas.concat instead.\n",
      "  table_updated = table_updated.append(table_to_agg.iloc[0])\n",
      "C:\\Users\\Achituv\\AppData\\Local\\Temp\\ipykernel_19140\\3906830916.py:47: SettingWithCopyWarning: \n",
      "A value is trying to be set on a copy of a slice from a DataFrame\n",
      "\n",
      "See the caveats in the documentation: https://pandas.pydata.org/pandas-docs/stable/user_guide/indexing.html#returning-a-view-versus-a-copy\n",
      "  table_new.loc[' OR '.join(list(temp_df.index))] = temp_df.sum()\n",
      "C:\\Users\\Achituv\\AppData\\Local\\Temp\\ipykernel_19140\\3906830916.py:47: SettingWithCopyWarning: \n",
      "A value is trying to be set on a copy of a slice from a DataFrame\n",
      "\n",
      "See the caveats in the documentation: https://pandas.pydata.org/pandas-docs/stable/user_guide/indexing.html#returning-a-view-versus-a-copy\n",
      "  table_new.loc[' OR '.join(list(temp_df.index))] = temp_df.sum()\n",
      "C:\\Users\\Achituv\\AppData\\Local\\Temp\\ipykernel_19140\\3906830916.py:49: FutureWarning: The frame.append method is deprecated and will be removed from pandas in a future version. Use pandas.concat instead.\n",
      "  table_new =table_new.append(table_add.iloc[-1])\n",
      "C:\\Users\\Achituv\\AppData\\Local\\Temp\\ipykernel_19140\\3031605931.py:11: FutureWarning: The frame.append method is deprecated and will be removed from pandas in a future version. Use pandas.concat instead.\n",
      "  table_updated = table_updated.append(table_to_agg.iloc[0])\n",
      "C:\\Users\\Achituv\\AppData\\Local\\Temp\\ipykernel_19140\\3031605931.py:11: FutureWarning: The frame.append method is deprecated and will be removed from pandas in a future version. Use pandas.concat instead.\n",
      "  table_updated = table_updated.append(table_to_agg.iloc[0])\n",
      "C:\\Users\\Achituv\\AppData\\Local\\Temp\\ipykernel_19140\\3031605931.py:11: FutureWarning: The frame.append method is deprecated and will be removed from pandas in a future version. Use pandas.concat instead.\n",
      "  table_updated = table_updated.append(table_to_agg.iloc[0])\n",
      "C:\\Users\\Achituv\\AppData\\Local\\Temp\\ipykernel_19140\\3031605931.py:11: FutureWarning: The frame.append method is deprecated and will be removed from pandas in a future version. Use pandas.concat instead.\n",
      "  table_updated = table_updated.append(table_to_agg.iloc[0])\n",
      "C:\\Users\\Achituv\\AppData\\Local\\Temp\\ipykernel_19140\\3906830916.py:47: SettingWithCopyWarning: \n",
      "A value is trying to be set on a copy of a slice from a DataFrame\n",
      "\n",
      "See the caveats in the documentation: https://pandas.pydata.org/pandas-docs/stable/user_guide/indexing.html#returning-a-view-versus-a-copy\n",
      "  table_new.loc[' OR '.join(list(temp_df.index))] = temp_df.sum()\n",
      "C:\\Users\\Achituv\\AppData\\Local\\Temp\\ipykernel_19140\\3906830916.py:47: SettingWithCopyWarning: \n",
      "A value is trying to be set on a copy of a slice from a DataFrame\n",
      "\n",
      "See the caveats in the documentation: https://pandas.pydata.org/pandas-docs/stable/user_guide/indexing.html#returning-a-view-versus-a-copy\n",
      "  table_new.loc[' OR '.join(list(temp_df.index))] = temp_df.sum()\n",
      "C:\\Users\\Achituv\\AppData\\Local\\Temp\\ipykernel_19140\\3906830916.py:47: SettingWithCopyWarning: \n",
      "A value is trying to be set on a copy of a slice from a DataFrame\n",
      "\n",
      "See the caveats in the documentation: https://pandas.pydata.org/pandas-docs/stable/user_guide/indexing.html#returning-a-view-versus-a-copy\n",
      "  table_new.loc[' OR '.join(list(temp_df.index))] = temp_df.sum()\n",
      "C:\\Users\\Achituv\\AppData\\Local\\Temp\\ipykernel_19140\\3906830916.py:49: FutureWarning: The frame.append method is deprecated and will be removed from pandas in a future version. Use pandas.concat instead.\n",
      "  table_new =table_new.append(table_add.iloc[-1])\n"
     ]
    }
   ],
   "source": [
    "new_tables = {}\n",
    "percentage = 'percentage'\n",
    "# Specific code for birth year\n",
    "\n",
    "\n",
    "for pair in questions.items():\n",
    "    # statistic by count (display also by percentage)\n",
    "    # pair = ('Q39','ethnic_origin')\n",
    "    question = pair[0]\n",
    "    #  code for birth year has already conducted\n",
    "    if question =='Q34':\n",
    "        table_0 = DataFrame(data_general.groupby('Q34').count()['level_0'].sort_values(ascending=False).rename('count'))\n",
    "        # convert year to decade.\n",
    "        decade = 'decade'\n",
    "        table_0[decade] = table_0.index.map(lambda x:int(x/10)*10)\n",
    "        table = DataFrame(table_0.groupby(decade).sum()['count'].sort_values(ascending=False))\n",
    "        table[percentage] = round(table['count']/table['count'].sum()*100,1)\n",
    "        new_tables['Q34_1_birth'] = table.sort_values(by=decade)\n",
    "        continue\n",
    "\n",
    "    # work on specific question\n",
    "    table_0 = DataFrame(data_general.groupby(question).count()['level_0'].sort_values(ascending=False).rename('count'))\n",
    "    # Clean unnecessary data and white space\n",
    "    table = table_0.set_index(table_0.index.map(lambda x: re.sub(\"\\(.*?\\)\",\"\",x)).str.replace('      ','').str.strip())\n",
    "\n",
    "    table[percentage] = round(table['count']/table['count'].sum()*100,1)\n",
    "    # Aggregate responses type with less than 10 responses\n",
    "    table_aggregate = table[table[percentage]<10]\n",
    "    table_new = table.copy()\n",
    "\n",
    "    if len(table_aggregate)>1:\n",
    "         # There are more than 1 values with less than 10% respondent\n",
    "        table_new =table[table[percentage]>10]\n",
    "        table_add = get_the_highest(DataFrame(columns=table_aggregate.columns),table_aggregate)\n",
    "        # There are more than 1 values with less than 10% respondents that not part of aggregation process before\n",
    "        if len(table_add)>2:\n",
    "            sub_aggregate = table_add.iloc[:-1].sort_values(by=percentage)\n",
    "            i =0\n",
    "            len_sub_aggregate = len(sub_aggregate)\n",
    "            while i < len_sub_aggregate:\n",
    "                if i ==len_sub_aggregate -1:\n",
    "                    indices = [i]\n",
    "                else:\n",
    "                    indices = sub_aggregate_def([i],i+1,sub_aggregate.iloc[i][percentage])\n",
    "                # aggregate sll the responses type based on indices\n",
    "                temp_df =sub_aggregate.iloc[indices]\n",
    "                table_new.loc[' OR '.join(list(temp_df.index))] = temp_df.sum()\n",
    "                i = indices[-1]+1\n",
    "            table_new =table_new.append(table_add.iloc[-1])\n",
    "        else:\n",
    "            table_new = table_new.append(table_add)\n",
    "\n",
    "    # add the new table into tables dictionary\n",
    "    new_tables[f'{question}_{pair[1]}'] = table_new.sort_values(by=percentage,ascending=False)\n",
    "    # break\n",
    "with pd.ExcelWriter(f\"{project_folder}/python/notebooks/output/general/output.xlsx\") as writer:\n",
    "    [item[1].to_excel(writer, sheet_name=item[0]) for item in new_tables.items()]"
   ],
   "metadata": {
    "collapsed": false,
    "pycharm": {
     "name": "#%%\n"
    }
   }
  },
  {
   "cell_type": "code",
   "execution_count": 99,
   "outputs": [],
   "source": [
    "# Run code without aggregation\n",
    "new_tables = {}\n",
    "percentage = 'percentage'\n",
    "# Specific code for birth year\n",
    "for pair in questions.items():\n",
    "    # statistic by count (display also by percentage)\n",
    "    # pair = ('Q39','ethnic_origin')\n",
    "    question = pair[0]\n",
    "    #  code for birth year has already conducted\n",
    "    if question =='Q34':\n",
    "        table_0 = DataFrame(data_general.groupby('Q34').count()['level_0'].sort_values(ascending=False).rename('count'))\n",
    "        # convert year to decade.\n",
    "        table_0[decade] = table_0.index.map(lambda x:int(x/10)*10)\n",
    "        table = DataFrame(table_0.groupby(decade).sum()['count'].sort_values(ascending=False))\n",
    "        table[percentage] = round(table['count']/table['count'].sum()*100,1)\n",
    "        new_tables['Q34_1_birth'] = table.sort_values(by=decade)\n",
    "        continue\n",
    "\n",
    "    # work on specific question\n",
    "    table_0 = DataFrame(data_general.groupby(question).count()['level_0'].sort_values(ascending=False).rename('count'))\n",
    "    # Clean unnecessary data and white space\n",
    "    table = table_0.set_index(table_0.index.map(lambda x: re.sub(\"\\(.*?\\)\",\"\",x)).str.replace('      ','').str.strip())\n",
    "\n",
    "    table[percentage] = round(table['count']/table['count'].sum()*100,1)\n",
    "\n",
    "    # add the new table into tables dictionary\n",
    "    new_tables[f'{question}_{pair[1]}'] = table.sort_values(by=percentage,ascending=False)\n",
    "    # break\n",
    "with pd.ExcelWriter(f\"{project_folder}/python/notebooks/output/general/no_agg.xlsx\") as writer:\n",
    "    [item[1].to_excel(writer, sheet_name=item[0]) for item in new_tables.items()]"
   ],
   "metadata": {
    "collapsed": false,
    "pycharm": {
     "name": "#%%\n"
    }
   }
  },
  {
   "cell_type": "code",
   "execution_count": 85,
   "outputs": [],
   "source": [
    "# United States VS Canada\n",
    "new_tables = {}\n",
    "percentage = 'percentage'\n",
    "countries_names = list(data_general['country'].drop_duplicates())\n",
    "\n",
    "countries_data = {countries_names[0]:data_general[data_general['country']==countries_names[0]],\n",
    "                  countries_names[1]:data_general[data_general['country']==countries_names[1]]}\n",
    "\n",
    "for pair in questions.items():\n",
    "    by_countries_table = DataFrame(columns=countries_names)\n",
    "    # statistic by count (display also by percentage)\n",
    "    # pair = ('Q34', 'birth')\n",
    "    question = pair[0]\n",
    "    #  code for birth year has already conducted\n",
    "    if question =='Q34':\n",
    "        for item in countries_names:\n",
    "            country_data= countries_data[item]\n",
    "            # Specific code for birth year\n",
    "            table_0 = DataFrame(country_data.groupby('Q34').count()['level_0'].sort_values(ascending=False).rename('count'))\n",
    "            # convert year to decade.\n",
    "            decade = 'Q34_1'\n",
    "            table_0[decade] = table_0.index.map(lambda x:int(x/10)*10)\n",
    "            table = DataFrame(table_0.groupby(decade).sum()['count'].sort_values(ascending=False))\n",
    "            by_countries_table[item] = round(table['count']/table['count'].sum()*100,1)\n",
    "\n",
    "        by_countries_table.columns = by_countries_table.columns + '(%)'\n",
    "        by_countries_table.fillna(0,inplace=True)\n",
    "        new_tables[f'{question}_{pair[1]}'] = by_countries_table.sort_values(by=decade)\n",
    "        continue\n",
    "    for item in countries_names:\n",
    "        country_data= countries_data[item]\n",
    "        # work on specific question\n",
    "        table_0 = DataFrame(country_data.groupby(question).count()['level_0'].sort_values(ascending=False).rename('count'))\n",
    "        # Clean unnecessary data and white space\n",
    "        table = table_0.set_index(table_0.index.map(lambda x: re.sub(\"\\(.*?\\)\",\"\",x)).str.replace('      ','').str.strip())\n",
    "        by_countries_table[item] = round(table['count']/table['count'].sum()*100,1)\n",
    "    by_countries_table.columns = by_countries_table.columns + '(%)'\n",
    "    by_countries_table.fillna(0,inplace=True)\n",
    "        # add the new table into tables dictionary\n",
    "    new_tables[f'{question}_{pair[1]}'] = by_countries_table.sort_values(by='USA(%)',ascending=False)\n",
    "    # break\n",
    "with pd.ExcelWriter(f\"{project_folder}/python/notebooks/output/general/usa_canada.xlsx\") as writer:\n",
    "    [item[1].to_excel(writer, sheet_name=item[0]) for item in new_tables.items()]"
   ],
   "metadata": {
    "collapsed": false,
    "pycharm": {
     "name": "#%%\n"
    }
   }
  },
  {
   "cell_type": "code",
   "execution_count": null,
   "outputs": [],
   "source": [
    "def bivariate_analysis(main_vars:dict, secondary_vars:dict,name_analysis:str):\n",
    "    \"\"\"\n",
    "    It goes over the dictionary and calculate the cross relation between the variable inside\n",
    "    :param name_analysis: it is used to create new folder if necessary\n",
    "    :param main_vars:\n",
    "    :param secondary_vars:\n",
    "    :return:\n",
    "    \"\"\"\n",
    "    res_path = f'{data_path}{name_analysis}'\n",
    "    os.makedirs(res_path,exist_ok = True)\n",
    "    with pd.ExcelFile(f\"{data_path}no_agg.xlsx\") as reader:\n",
    "        stat = {item[0]:pd.read_excel(reader, sheet_name=f'{item[0]}_{item[1]}') for item in main_vars.items()}\n",
    "    for main_var in main_vars.items():\n",
    "        new_tables_data = {}\n",
    "        for other in secondary_vars.items():\n",
    "            print(f'{other}\\t',end=\"\")\n",
    "            # GroupBy two questions (one of which is main_var)\n",
    "            table_00 = DataFrame(data_general.groupby([main_var[0], other[0]]).count()['level_0'].rename(''))\n",
    "            # Get the data in readable structure\n",
    "            table_0 =table_00.unstack(fill_value=0)\n",
    "            # Clean columns and index\n",
    "            table_0.columns = table_0.columns.droplevel().map(lambda x: re.sub(\"\\(.*?\\)\",\"\",str(x))).str.replace('      ','').str.strip()\n",
    "            table_1 = table_0.set_index(table_0.index.map(lambda x: re.sub(\"\\(.*?\\)\",\"\",str(x))).str.replace('      ','').str.strip())\n",
    "\n",
    "            # get percentage (questions variables for each group)\n",
    "            old_columns =table_1.columns\n",
    "            table_2 = table_1.copy()\n",
    "            print(main_var[0])\n",
    "            sum = stat[main_var[0]].set_index(main_var[0])['count']\n",
    "            table_2[old_columns +' (%)'] = round(table_1.div(sum, axis=0)*100,1)\n",
    "            table_2['sum'] = sum\n",
    "            new_tables_data[f'{other[0]}_{other[1]}'] =table_2\n",
    "        with pd.ExcelWriter(f\"{res_path}/{main_var[0]}_{main_var[1]}.xlsx\") as writer:\n",
    "            [item[1].to_excel(writer, sheet_name=item[0]) for item in new_tables_data.items()]"
   ],
   "metadata": {
    "collapsed": false,
    "pycharm": {
     "name": "#%%\n"
    }
   }
  },
  {
   "cell_type": "code",
   "execution_count": 52,
   "outputs": [],
   "source": [
    "def bivariate_analysis_update(data_to_group:DataFrame, main_vars_to_group:list, secondary_vars:list, field_to_count:str, my_data_path:str, ):\n",
    "    r\"\"\"\n",
    "    It goes over the dictionary and calculate the cross relation between the variable inside\n",
    "    :param my_data_path: he code creates a new folder here if it does not already exist, and it saves the new Excel files there.\n",
    "    :param analysis_name: T\n",
    "    :param is_staty: to use data from other data saved on the disk\n",
    "    :param data_to_group: data to work on\n",
    "    :param field_to_count: which field to retain after groupby and counting\n",
    "    :param name_analysis: it is used to create new folder if necessary\n",
    "    :param main_vars_to_group:\n",
    "    :param secondary_vars:\n",
    "    :return:\n",
    "    \"\"\"\n",
    "    os.makedirs(my_data_path,exist_ok = True)\n",
    "    for main_var in main_vars_to_group:\n",
    "        col_name,print_main = check_type(main_var)\n",
    "        print(f'\\n{print_main}')\n",
    "        new_tables_data = {}\n",
    "        data1 = data_to_group[~data_to_group[col_name].isin(['No Response', 'no response'])].dropna(subset= col_name)\n",
    "        for other in secondary_vars:\n",
    "            col_secondary,print_secondary = check_type(other)\n",
    "            print(f'{print_secondary}\\t',end=\"\")\n",
    "            data2 = data1[~data_to_group[col_secondary].isin(['No Response', 'no response'])].dropna(subset=col_secondary)\n",
    "            sum_field = data2.groupby(col_name).count()[field_to_count].rename('count')\n",
    "            # GroupBy two questions (one of which is main_var)\n",
    "            table_00 = DataFrame(data2.groupby([col_name, col_secondary]).count()[field_to_count].rename(''))\n",
    "            # Get the data in readable structure\n",
    "            table_0 =table_00.unstack(fill_value=0)\n",
    "            # Clean columns and index\n",
    "            table_0.columns = table_0.columns.droplevel()\n",
    "\n",
    "            # get percentage (questions variables for each group)\n",
    "            old_columns =table_0.columns\n",
    "            table_2 = table_0.copy()\n",
    "            table_2[old_columns.astype(str) +' (%)'] = round(table_0.div(sum_field, axis=0) * 100, 1)\n",
    "            table_2['sum_field'] = sum_field\n",
    "            new_tables_data[f'{print_secondary}'] =table_2.sort_values(by='sum_field',ascending=False)\n",
    "        with pd.ExcelWriter(f\"{my_data_path}/{print_main}.xlsx\") as writer:\n",
    "            [item[1].to_excel(writer, sheet_name=item[0]) for item in new_tables_data.items()]"
   ],
   "metadata": {
    "collapsed": false,
    "pycharm": {
     "name": "#%%\n"
    }
   }
  },
  {
   "cell_type": "code",
   "execution_count": 56,
   "outputs": [
    {
     "name": "stdout",
     "output_type": "stream",
     "text": [
      "\n",
      "Q34_1_birth\n",
      "Q2_part\tQ6_day_time\tQ7_is_locked\tQ8_locked_type\tQ9_theft_location\tQ10_is_regi\tQ11_report_loc\tQ12_is_insured\tQ13_estimate_val\tQ14_is_electric\tQ15_bike_type\tQ17_is_university\tQ18_is_recovered\tQ19_is_online\tQ21_is_police_assist\tQ23_recovery_loc\tQ24_con_recovery\t\n",
      "Q35_gender\n",
      "Q2_part\tQ6_day_time\tQ7_is_locked\tQ8_locked_type\tQ9_theft_location\tQ10_is_regi\tQ11_report_loc\tQ12_is_insured\tQ13_estimate_val\tQ14_is_electric\tQ15_bike_type\tQ17_is_university\tQ18_is_recovered\tQ19_is_online\tQ21_is_police_assist\tQ23_recovery_loc\tQ24_con_recovery\t\n",
      "Q36_income\n",
      "Q2_part\tQ6_day_time\tQ7_is_locked\tQ8_locked_type\tQ9_theft_location\tQ10_is_regi\tQ11_report_loc\tQ12_is_insured\tQ13_estimate_val\tQ14_is_electric\tQ15_bike_type\tQ17_is_university\tQ18_is_recovered\tQ19_is_online\tQ21_is_police_assist\tQ23_recovery_loc\tQ24_con_recovery\t\n",
      "Q38_education\n",
      "Q2_part\tQ6_day_time\tQ7_is_locked\tQ8_locked_type\tQ9_theft_location\tQ10_is_regi\tQ11_report_loc\tQ12_is_insured\tQ13_estimate_val\tQ14_is_electric\tQ15_bike_type\tQ17_is_university\tQ18_is_recovered\tQ19_is_online\tQ21_is_police_assist\tQ23_recovery_loc\tQ24_con_recovery\t\n",
      "Q39_ethnic_origin\n",
      "Q2_part\tQ6_day_time\tQ7_is_locked\tQ8_locked_type\tQ9_theft_location\tQ10_is_regi\tQ11_report_loc\tQ12_is_insured\tQ13_estimate_val\tQ14_is_electric\tQ15_bike_type\tQ17_is_university\tQ18_is_recovered\tQ19_is_online\tQ21_is_police_assist\tQ23_recovery_loc\tQ24_con_recovery\t\n",
      "Q18_is_recovered\n",
      "Q2_part\tQ6_day_time\tQ7_is_locked\tQ8_locked_type\tQ9_theft_location\tQ10_is_regi\tQ11_report_loc\tQ12_is_insured\tQ13_estimate_val\tQ14_is_electric\tQ15_bike_type\tQ17_is_university\tQ34_1_birth\tQ35_gender\tQ36_income\tQ38_education\tQ39_ethnic_origin\t\n",
      "Q19_is_online\n",
      "Q2_part\tQ6_day_time\tQ7_is_locked\tQ8_locked_type\tQ9_theft_location\tQ10_is_regi\tQ11_report_loc\tQ12_is_insured\tQ13_estimate_val\tQ14_is_electric\tQ15_bike_type\tQ17_is_university\tQ34_1_birth\tQ35_gender\tQ36_income\tQ38_education\tQ39_ethnic_origin\t\n",
      "Q21_is_police_assist\n",
      "Q2_part\tQ6_day_time\tQ7_is_locked\tQ8_locked_type\tQ9_theft_location\tQ10_is_regi\tQ11_report_loc\tQ12_is_insured\tQ13_estimate_val\tQ14_is_electric\tQ15_bike_type\tQ17_is_university\tQ34_1_birth\tQ35_gender\tQ36_income\tQ38_education\tQ39_ethnic_origin\t\n",
      "Q23_recovery_loc\n",
      "Q2_part\tQ6_day_time\tQ7_is_locked\tQ8_locked_type\tQ9_theft_location\tQ10_is_regi\tQ11_report_loc\tQ12_is_insured\tQ13_estimate_val\tQ14_is_electric\tQ15_bike_type\tQ17_is_university\tQ34_1_birth\tQ35_gender\tQ36_income\tQ38_education\tQ39_ethnic_origin\t\n",
      "Q24_con_recovery\n",
      "Q2_part\tQ6_day_time\tQ7_is_locked\tQ8_locked_type\tQ9_theft_location\tQ10_is_regi\tQ11_report_loc\tQ12_is_insured\tQ13_estimate_val\tQ14_is_electric\tQ15_bike_type\tQ17_is_university\tQ34_1_birth\tQ35_gender\tQ36_income\tQ38_education\tQ39_ethnic_origin\t"
     ]
    }
   ],
   "source": [
    "data_path = f'{project_folder}/python/notebooks/output/general/'\n",
    "# find correlation between two variables - Demographic\n",
    "\n",
    "demographic_data= {'Q34_1': 'birth', 'Q35': 'gender', 'Q36': 'income', 'Q38': 'education', 'Q39': 'ethnic_origin'}\n",
    "other_data ={'Q2': 'part', 'Q6': 'day_time', 'Q7': 'is_locked', 'Q8': 'locked_type', 'Q9': 'theft_location', 'Q10': 'is_regi', 'Q11': 'report_loc', 'Q12': 'is_insured', 'Q13': 'estimate_val', 'Q14': 'is_electric', 'Q15': 'bike_type', 'Q17': 'is_university','Q18':'is_recovered', 'Q19': 'is_online', 'Q21': 'is_police_assist', 'Q23': 'recovery_loc', 'Q24': 'con_recovery'}\n",
    "\n",
    "demographic_data= [item for item in demographic_data.items()]\n",
    "other_data  = [item for item in other_data.items()]\n",
    "bivariate_analysis_update(data_to_group=data_general,main_vars_to_group=demographic_data,secondary_vars=other_data,field_to_count='level_0',my_data_path=f'{data_path}/demographic')\n",
    "\n",
    "\n",
    "# find correlation between two variables -Recovery\n",
    "\n",
    "recovery_data= {'Q18':'is_recovered', 'Q19': 'is_online', 'Q21': 'is_police_assist', 'Q23': 'recovery_loc', 'Q24': 'con_recovery'}\n",
    "other_data ={'Q2': 'part', 'Q6': 'day_time', 'Q7': 'is_locked', 'Q8': 'locked_type', 'Q9': 'theft_location', 'Q10': 'is_regi', 'Q11': 'report_loc', 'Q12': 'is_insured', 'Q13': 'estimate_val', 'Q14': 'is_electric', 'Q15': 'bike_type', 'Q17': 'is_university','Q34_1': 'birth', 'Q35': 'gender', 'Q36': 'income', 'Q38': 'education', 'Q39': 'ethnic_origin'}\n",
    "recovery_data= [item for item in recovery_data.items()]\n",
    "other_data  = [item for item in other_data.items()]\n",
    "bivariate_analysis_update(data_to_group=data_general,main_vars_to_group=recovery_data,secondary_vars=other_data,field_to_count='level_0',my_data_path=f'{data_path}/recovery')\n",
    "\n"
   ],
   "metadata": {
    "collapsed": false,
    "pycharm": {
     "name": "#%%\n"
    }
   }
  },
  {
   "cell_type": "code",
   "execution_count": 48,
   "outputs": [
    {
     "data": {
      "text/plain": "      level_0  Unnamed: 0.2  Unnamed: 0.1  Unnamed: 0  index        StartDate  \\\n0           0             2           718         745    745   5/3/2022 19:05   \n3           3             5          1603        1710   1710  5/15/2022 20:21   \n4           4             6             5           7      7  4/22/2022 11:46   \n6           6             8          1214        1277   1277  5/11/2022 11:00   \n9           9            11           604         630    630   5/3/2022 14:19   \n...       ...           ...           ...         ...    ...              ...   \n1813     1813          1815          1762        1952   1952  5/13/2022 12:47   \n1814     1814          1816          1765        1956   1956  5/14/2022 18:15   \n1815     1815          1817          1768        1961   1961  5/15/2022 22:05   \n1819     1819          1821          1823        2021   2021  5/24/2022 12:17   \n1820     1820          1822          1824        2022   2022    6/8/2022 3:19   \n\n              EndDate      Status        IPAddress  Progress  ...  \\\n0      5/3/2022 19:19  IP Address    208.98.223.42       100  ...   \n3     5/15/2022 20:27  IP Address     68.149.96.52       100  ...   \n4     4/22/2022 11:53  IP Address     97.113.1.186       100  ...   \n6     5/11/2022 11:04  IP Address    73.231.228.78       100  ...   \n9      5/3/2022 14:27  IP Address    50.99.114.237       100  ...   \n...               ...         ...              ...       ...  ...   \n1813  5/13/2022 12:51  IP Address    136.25.110.98        82  ...   \n1814  5/14/2022 18:17  IP Address   72.134.228.254        69  ...   \n1815  5/15/2022 22:09  IP Address       24.17.91.3        69  ...   \n1819  5/24/2022 12:20  IP Address   174.90.223.242        69  ...   \n1820    6/8/2022 3:30  IP Address  108.211.181.111       100  ...   \n\n                                                    Q40     Q40_3_TEXT  \\\n0     A bicycle registry/recovery system (e.g., Bike...            NaN   \n3                                                 Email            NaN   \n4                                                 Email            NaN   \n6                                                 Email            NaN   \n9                                                 Email            NaN   \n...                                                 ...            ...   \n1813                                                NaN            NaN   \n1814                                                NaN            NaN   \n1815                                                NaN            NaN   \n1819                                                NaN            NaN   \n1820                            Other (please specify):  acquientance    \n\n             lat        lon  score            stolen_bikes_place  country  \\\n0    -113.490140  53.545450  100.0          Edmonton,Alberta,CAN      CAN   \n3    -113.490140  53.545450  100.0          Edmonton,Alberta,CAN      CAN   \n4    -122.329450  47.603570  100.0        Seattle,Washington,USA      USA   \n6    -122.419640  37.777120  100.0  San Francisco,California,USA      USA   \n9    -113.490140  53.545450  100.0          Edmonton,Alberta,CAN      CAN   \n...          ...        ...    ...                           ...      ...   \n1813 -122.419640  37.777120  100.0  San Francisco,California,USA      USA   \n1814 -118.245450  34.053570  100.0    Los Angeles,California,USA      USA   \n1815 -122.329450  47.603570  100.0        Seattle,Washington,USA      USA   \n1819 -114.057141  51.045113  100.0           Calgary,Alberta,CAN      CAN   \n1820 -122.419640  37.777120  100.0  San Francisco,California,USA      USA   \n\n               city       state   Q34_1  \n0          Edmonton     Alberta  1930.0  \n3          Edmonton     Alberta  1940.0  \n4           Seattle  Washington  1940.0  \n6     San Francisco  California  1940.0  \n9          Edmonton     Alberta  1940.0  \n...             ...         ...     ...  \n1813  San Francisco  California     NaN  \n1814    Los Angeles  California     NaN  \n1815        Seattle  Washington     NaN  \n1819        Calgary     Alberta     NaN  \n1820  San Francisco  California     NaN  \n\n[586 rows x 87 columns]",
      "text/html": "<div>\n<style scoped>\n    .dataframe tbody tr th:only-of-type {\n        vertical-align: middle;\n    }\n\n    .dataframe tbody tr th {\n        vertical-align: top;\n    }\n\n    .dataframe thead th {\n        text-align: right;\n    }\n</style>\n<table border=\"1\" class=\"dataframe\">\n  <thead>\n    <tr style=\"text-align: right;\">\n      <th></th>\n      <th>level_0</th>\n      <th>Unnamed: 0.2</th>\n      <th>Unnamed: 0.1</th>\n      <th>Unnamed: 0</th>\n      <th>index</th>\n      <th>StartDate</th>\n      <th>EndDate</th>\n      <th>Status</th>\n      <th>IPAddress</th>\n      <th>Progress</th>\n      <th>...</th>\n      <th>Q40</th>\n      <th>Q40_3_TEXT</th>\n      <th>lat</th>\n      <th>lon</th>\n      <th>score</th>\n      <th>stolen_bikes_place</th>\n      <th>country</th>\n      <th>city</th>\n      <th>state</th>\n      <th>Q34_1</th>\n    </tr>\n  </thead>\n  <tbody>\n    <tr>\n      <th>0</th>\n      <td>0</td>\n      <td>2</td>\n      <td>718</td>\n      <td>745</td>\n      <td>745</td>\n      <td>5/3/2022 19:05</td>\n      <td>5/3/2022 19:19</td>\n      <td>IP Address</td>\n      <td>208.98.223.42</td>\n      <td>100</td>\n      <td>...</td>\n      <td>A bicycle registry/recovery system (e.g., Bike...</td>\n      <td>NaN</td>\n      <td>-113.490140</td>\n      <td>53.545450</td>\n      <td>100.0</td>\n      <td>Edmonton,Alberta,CAN</td>\n      <td>CAN</td>\n      <td>Edmonton</td>\n      <td>Alberta</td>\n      <td>1930.0</td>\n    </tr>\n    <tr>\n      <th>3</th>\n      <td>3</td>\n      <td>5</td>\n      <td>1603</td>\n      <td>1710</td>\n      <td>1710</td>\n      <td>5/15/2022 20:21</td>\n      <td>5/15/2022 20:27</td>\n      <td>IP Address</td>\n      <td>68.149.96.52</td>\n      <td>100</td>\n      <td>...</td>\n      <td>Email</td>\n      <td>NaN</td>\n      <td>-113.490140</td>\n      <td>53.545450</td>\n      <td>100.0</td>\n      <td>Edmonton,Alberta,CAN</td>\n      <td>CAN</td>\n      <td>Edmonton</td>\n      <td>Alberta</td>\n      <td>1940.0</td>\n    </tr>\n    <tr>\n      <th>4</th>\n      <td>4</td>\n      <td>6</td>\n      <td>5</td>\n      <td>7</td>\n      <td>7</td>\n      <td>4/22/2022 11:46</td>\n      <td>4/22/2022 11:53</td>\n      <td>IP Address</td>\n      <td>97.113.1.186</td>\n      <td>100</td>\n      <td>...</td>\n      <td>Email</td>\n      <td>NaN</td>\n      <td>-122.329450</td>\n      <td>47.603570</td>\n      <td>100.0</td>\n      <td>Seattle,Washington,USA</td>\n      <td>USA</td>\n      <td>Seattle</td>\n      <td>Washington</td>\n      <td>1940.0</td>\n    </tr>\n    <tr>\n      <th>6</th>\n      <td>6</td>\n      <td>8</td>\n      <td>1214</td>\n      <td>1277</td>\n      <td>1277</td>\n      <td>5/11/2022 11:00</td>\n      <td>5/11/2022 11:04</td>\n      <td>IP Address</td>\n      <td>73.231.228.78</td>\n      <td>100</td>\n      <td>...</td>\n      <td>Email</td>\n      <td>NaN</td>\n      <td>-122.419640</td>\n      <td>37.777120</td>\n      <td>100.0</td>\n      <td>San Francisco,California,USA</td>\n      <td>USA</td>\n      <td>San Francisco</td>\n      <td>California</td>\n      <td>1940.0</td>\n    </tr>\n    <tr>\n      <th>9</th>\n      <td>9</td>\n      <td>11</td>\n      <td>604</td>\n      <td>630</td>\n      <td>630</td>\n      <td>5/3/2022 14:19</td>\n      <td>5/3/2022 14:27</td>\n      <td>IP Address</td>\n      <td>50.99.114.237</td>\n      <td>100</td>\n      <td>...</td>\n      <td>Email</td>\n      <td>NaN</td>\n      <td>-113.490140</td>\n      <td>53.545450</td>\n      <td>100.0</td>\n      <td>Edmonton,Alberta,CAN</td>\n      <td>CAN</td>\n      <td>Edmonton</td>\n      <td>Alberta</td>\n      <td>1940.0</td>\n    </tr>\n    <tr>\n      <th>...</th>\n      <td>...</td>\n      <td>...</td>\n      <td>...</td>\n      <td>...</td>\n      <td>...</td>\n      <td>...</td>\n      <td>...</td>\n      <td>...</td>\n      <td>...</td>\n      <td>...</td>\n      <td>...</td>\n      <td>...</td>\n      <td>...</td>\n      <td>...</td>\n      <td>...</td>\n      <td>...</td>\n      <td>...</td>\n      <td>...</td>\n      <td>...</td>\n      <td>...</td>\n      <td>...</td>\n    </tr>\n    <tr>\n      <th>1813</th>\n      <td>1813</td>\n      <td>1815</td>\n      <td>1762</td>\n      <td>1952</td>\n      <td>1952</td>\n      <td>5/13/2022 12:47</td>\n      <td>5/13/2022 12:51</td>\n      <td>IP Address</td>\n      <td>136.25.110.98</td>\n      <td>82</td>\n      <td>...</td>\n      <td>NaN</td>\n      <td>NaN</td>\n      <td>-122.419640</td>\n      <td>37.777120</td>\n      <td>100.0</td>\n      <td>San Francisco,California,USA</td>\n      <td>USA</td>\n      <td>San Francisco</td>\n      <td>California</td>\n      <td>NaN</td>\n    </tr>\n    <tr>\n      <th>1814</th>\n      <td>1814</td>\n      <td>1816</td>\n      <td>1765</td>\n      <td>1956</td>\n      <td>1956</td>\n      <td>5/14/2022 18:15</td>\n      <td>5/14/2022 18:17</td>\n      <td>IP Address</td>\n      <td>72.134.228.254</td>\n      <td>69</td>\n      <td>...</td>\n      <td>NaN</td>\n      <td>NaN</td>\n      <td>-118.245450</td>\n      <td>34.053570</td>\n      <td>100.0</td>\n      <td>Los Angeles,California,USA</td>\n      <td>USA</td>\n      <td>Los Angeles</td>\n      <td>California</td>\n      <td>NaN</td>\n    </tr>\n    <tr>\n      <th>1815</th>\n      <td>1815</td>\n      <td>1817</td>\n      <td>1768</td>\n      <td>1961</td>\n      <td>1961</td>\n      <td>5/15/2022 22:05</td>\n      <td>5/15/2022 22:09</td>\n      <td>IP Address</td>\n      <td>24.17.91.3</td>\n      <td>69</td>\n      <td>...</td>\n      <td>NaN</td>\n      <td>NaN</td>\n      <td>-122.329450</td>\n      <td>47.603570</td>\n      <td>100.0</td>\n      <td>Seattle,Washington,USA</td>\n      <td>USA</td>\n      <td>Seattle</td>\n      <td>Washington</td>\n      <td>NaN</td>\n    </tr>\n    <tr>\n      <th>1819</th>\n      <td>1819</td>\n      <td>1821</td>\n      <td>1823</td>\n      <td>2021</td>\n      <td>2021</td>\n      <td>5/24/2022 12:17</td>\n      <td>5/24/2022 12:20</td>\n      <td>IP Address</td>\n      <td>174.90.223.242</td>\n      <td>69</td>\n      <td>...</td>\n      <td>NaN</td>\n      <td>NaN</td>\n      <td>-114.057141</td>\n      <td>51.045113</td>\n      <td>100.0</td>\n      <td>Calgary,Alberta,CAN</td>\n      <td>CAN</td>\n      <td>Calgary</td>\n      <td>Alberta</td>\n      <td>NaN</td>\n    </tr>\n    <tr>\n      <th>1820</th>\n      <td>1820</td>\n      <td>1822</td>\n      <td>1824</td>\n      <td>2022</td>\n      <td>2022</td>\n      <td>6/8/2022 3:19</td>\n      <td>6/8/2022 3:30</td>\n      <td>IP Address</td>\n      <td>108.211.181.111</td>\n      <td>100</td>\n      <td>...</td>\n      <td>Other (please specify):</td>\n      <td>acquientance</td>\n      <td>-122.419640</td>\n      <td>37.777120</td>\n      <td>100.0</td>\n      <td>San Francisco,California,USA</td>\n      <td>USA</td>\n      <td>San Francisco</td>\n      <td>California</td>\n      <td>NaN</td>\n    </tr>\n  </tbody>\n</table>\n<p>586 rows × 87 columns</p>\n</div>"
     },
     "execution_count": 48,
     "metadata": {},
     "output_type": "execute_result"
    }
   ],
   "source": [
    "# This code run the aalysis on the cities with the highest number of answers\n",
    "data_general.groupby('city').count()\n",
    "data_general_city = data_general[data_general['city'].isin(['San Francisco','Seattle','Calgary','Edmonton','Los Angeles'])]\n",
    "data_general_city"
   ],
   "metadata": {
    "collapsed": false,
    "pycharm": {
     "name": "#%%\n"
    }
   }
  },
  {
   "cell_type": "code",
   "execution_count": 41,
   "outputs": [],
   "source": [
    "def check_type(value_check):\n",
    "    r\"\"\"\n",
    "    if it is tuple the name and the column names are different\n",
    "    :param value_check:\n",
    "    :return:\n",
    "    \"\"\"\n",
    "    return (value_check[0], '_'.join(value_check)) if isinstance(value_check, tuple) else (value_check, value_check)"
   ],
   "metadata": {
    "collapsed": false,
    "pycharm": {
     "name": "#%%\n"
    }
   }
  },
  {
   "cell_type": "code",
   "execution_count": 42,
   "outputs": [
    {
     "data": {
      "text/plain": "('Q6', 'Q6_day_time')"
     },
     "execution_count": 42,
     "metadata": {},
     "output_type": "execute_result"
    }
   ],
   "source": [
    "check_type(('Q6', 'day_time'))"
   ],
   "metadata": {
    "collapsed": false,
    "pycharm": {
     "name": "#%%\n"
    }
   }
  },
  {
   "cell_type": "code",
   "execution_count": 53,
   "outputs": [
    {
     "name": "stdout",
     "output_type": "stream",
     "text": [
      "\n",
      "city\n",
      "Q2_part\tQ6_day_time\tQ7_is_locked\tQ8_locked_type\tQ9_theft_location\tQ10_is_regi\tQ11_report_loc\tQ12_is_insured\tQ13_estimate_val\tQ14_is_electric\tQ15_bike_type\tQ17_is_university\tQ18_is_recovered\tQ19_is_online\tQ21_is_police_assist\tQ23_recovery_loc\tQ24_con_recovery\tQ34_1_birth\tQ35_gender\tQ36_income\tQ38_education\tQ39_ethnic_origin\t"
     ]
    }
   ],
   "source": [
    "data_path = f'{project_folder}/python/notebooks/output/general/'\n",
    "# analysis by the four city\n",
    "city_data= ['city']\n",
    "other_data ={'Q2': 'part', 'Q6': 'day_time', 'Q7': 'is_locked', 'Q8': 'locked_type', 'Q9': 'theft_location', 'Q10': 'is_regi', 'Q11': 'report_loc', 'Q12': 'is_insured', 'Q13': 'estimate_val', 'Q14': 'is_electric', 'Q15': 'bike_type', 'Q17': 'is_university','Q18':'is_recovered', 'Q19': 'is_online', 'Q21': 'is_police_assist', 'Q23': 'recovery_loc', 'Q24': 'con_recovery','Q34_1': 'birth', 'Q35': 'gender', 'Q36': 'income', 'Q38': 'education', 'Q39': 'ethnic_origin'}\n",
    "other_data  = [item for item in other_data.items()]\n",
    "# city_data= [item for item in city_data.items()]\n",
    "bivariate_analysis_update(data_to_group=data_general_city, main_vars_to_group=city_data, secondary_vars=other_data,\n",
    "                          field_to_count='level_0',my_data_path=f'{data_path}/by_city')"
   ],
   "metadata": {
    "collapsed": false,
    "pycharm": {
     "name": "#%%\n"
    }
   }
  },
  {
   "cell_type": "code",
   "execution_count": 66,
   "outputs": [
    {
     "data": {
      "text/plain": "      level_0  Unnamed: 0.2  Unnamed: 0.1  Unnamed: 0  index        StartDate  \\\n19         19            21          1470        1556   1556  5/11/2022 19:44   \n80         80            82           728         755    755   5/3/2022 21:41   \n324       324           326           585         611    611   5/3/2022 13:59   \n414       414           416          1781        1976   1976    6/1/2022 9:10   \n649       649           651           555         581    581   5/3/2022 13:48   \n720       720           722          1696        1836   1836   5/21/2022 5:11   \n731       731           733           417         433    433  4/28/2022 21:38   \n750       750           752          1172        1235   1235   5/11/2022 0:59   \n904       904           906           557         583    583   5/3/2022 13:52   \n1054     1054          1056          1731        1891   1891  5/24/2022 18:09   \n1095     1095          1097          1239        1302   1302  5/11/2022 11:04   \n1138     1138          1140           437         454    454   4/29/2022 8:54   \n1152     1152          1154           641         667    667   5/3/2022 15:05   \n1177     1177          1179          1423        1508   1508  5/11/2022 14:18   \n1206     1206          1208           422         439    439  4/28/2022 22:27   \n1264     1264          1266            86          93     93  4/26/2022 10:13   \n1347     1347          1349           820         848    848   5/5/2022 11:44   \n1352     1352          1354          1040        1100   1100  5/10/2022 15:09   \n1386     1386          1388           383         395    395  4/28/2022 10:10   \n1568     1568          1570           379         390    390   4/28/2022 9:50   \n1589     1589          1591           298         307    307  4/27/2022 15:33   \n1651     1651          1653           229         238    238  4/27/2022 12:52   \n1652     1652          1654           286         295    295  4/27/2022 14:53   \n1699     1699          1701           864         896    896  4/22/2022 11:59   \n1738     1738          1740          1455        1541   1541  4/27/2022 17:36   \n1760     1760          1762          1648        1763   1763   5/3/2022 14:54   \n1808     1808          1810          1755        1935   1935   5/12/2022 2:55   \n\n              EndDate      Status        IPAddress  Progress  ...  \\\n19    5/11/2022 20:04  IP Address  173.183.182.200       100  ...   \n80     5/3/2022 21:54  IP Address    73.140.210.26       100  ...   \n324    5/3/2022 14:07  IP Address     136.49.97.48       100  ...   \n414    6/1/2022 10:44  IP Address    98.171.142.89       100  ...   \n649    5/3/2022 13:55  IP Address    67.163.88.180       100  ...   \n720    5/22/2022 5:19  IP Address    172.58.28.147       100  ...   \n731   4/28/2022 21:46  IP Address    70.66.155.124       100  ...   \n750    5/11/2022 1:04  IP Address    80.187.70.182       100  ...   \n904    5/3/2022 13:56  IP Address  199.241.203.254       100  ...   \n1054  5/24/2022 18:21  IP Address  108.200.200.116       100  ...   \n1095  5/11/2022 11:10  IP Address   158.247.71.105       100  ...   \n1138   4/29/2022 9:01  IP Address     98.173.234.2       100  ...   \n1152   5/3/2022 15:14  IP Address   174.197.65.212       100  ...   \n1177  5/11/2022 15:34  IP Address   75.128.219.232       100  ...   \n1206  4/28/2022 23:44  IP Address     75.157.8.247       100  ...   \n1264  4/26/2022 10:19  IP Address   50.222.102.193       100  ...   \n1347   5/5/2022 11:50  IP Address  135.180.158.238       100  ...   \n1352  5/10/2022 15:14  IP Address    73.97.164.131       100  ...   \n1386  4/28/2022 10:15  IP Address    73.189.31.139       100  ...   \n1568   4/28/2022 9:55  IP Address   67.168.168.157       100  ...   \n1589  4/27/2022 15:46  IP Address   131.179.60.240       100  ...   \n1651  4/27/2022 12:57  IP Address   104.205.178.80       100  ...   \n1652  4/27/2022 15:00  IP Address    54.201.196.31       100  ...   \n1699  4/22/2022 12:05  IP Address     24.99.237.21        82  ...   \n1738  4/27/2022 18:10  IP Address   172.58.171.223        82  ...   \n1760   5/3/2022 14:59  IP Address    72.143.233.97        78  ...   \n1808   5/12/2022 2:58  IP Address  213.243.199.154        69  ...   \n\n                                                    Q40  \\\n19    A bicycle registry/recovery system (e.g., Bike...   \n80                                                Email   \n324                                               Email   \n414                             Other (please specify):   \n649   A bicycle registry/recovery system (e.g., Bike...   \n720                                               Email   \n731   A bicycle registry/recovery system (e.g., Bike...   \n750   A bicycle registry/recovery system (e.g., Bike...   \n904   A bicycle registry/recovery system (e.g., Bike...   \n1054  A bicycle registry/recovery system (e.g., Bike...   \n1095                                              Email   \n1138                                              Email   \n1152  A bicycle registry/recovery system (e.g., Bike...   \n1177                            Other (please specify):   \n1206  A bicycle registry/recovery system (e.g., Bike...   \n1264  A bicycle registry/recovery system (e.g., Bike...   \n1347  A bicycle registry/recovery system (e.g., Bike...   \n1352  A bicycle registry/recovery system (e.g., Bike...   \n1386  A bicycle registry/recovery system (e.g., Bike...   \n1568                                              Email   \n1589                                              Email   \n1651  A bicycle registry/recovery system (e.g., Bike...   \n1652                                              Email   \n1699                                                NaN   \n1738                                                NaN   \n1760                                                NaN   \n1808                                                NaN   \n\n                                  Q40_3_TEXT         lat        lon  score  \\\n19                                       NaN -113.490140  53.545450  100.0   \n80                                       NaN -122.514930  47.161950  100.0   \n324                                      NaN  -97.742990  30.267590  100.0   \n414                    Random face book link -119.699050  34.419380  100.0   \n649                                      NaN -111.888220  40.760310  100.0   \n720                                      NaN -116.510240  33.961450  100.0   \n731                                      NaN -123.365642  48.428409  100.0   \n750                                      NaN  -77.031960  38.890370  100.0   \n904                                      NaN -122.419640  37.777120  100.0   \n1054                                     NaN  -90.077750  29.953700  100.0   \n1095                                     NaN -122.419640  37.777120  100.0   \n1138                                     NaN  -90.077750  29.953700  100.0   \n1152                                     NaN  -96.795120  32.778220  100.0   \n1177  Madison Bikes Community Facebook Group  -89.386440  43.073130  100.0   \n1206                                     NaN -123.365642  48.428409  100.0   \n1264                                     NaN -122.419640  37.777120  100.0   \n1347                                     NaN -122.419640  37.777120  100.0   \n1352                                     NaN -122.329450  47.603570  100.0   \n1386                                     NaN -121.841980  39.732000  100.0   \n1568                                     NaN -111.888220  40.760310  100.0   \n1589                                     NaN -118.245450  34.053570  100.0   \n1651                                     NaN -114.057141  51.045113  100.0   \n1652                                     NaN -122.187910  47.610020  100.0   \n1699                                     NaN  -95.940260  41.260680  100.0   \n1738                                     NaN  -90.077750  29.953700  100.0   \n1760                                     NaN -113.490140  53.545450  100.0   \n1808                                     NaN -119.270230  36.374106  100.0   \n\n                       stolen_bikes_place  country                city  \\\n19                   Edmonton,Alberta,CAN      CAN            Edmonton   \n80                Lakewood,Washington,USA      USA            Lakewood   \n324                      Austin,Texas,USA      USA              Austin   \n414          Santa Barbara,California,USA      USA       Santa Barbara   \n649               Salt Lake City,Utah,USA      USA      Salt Lake City   \n720     Desert Hot Springs,California,USA      USA  Desert Hot Springs   \n731         Victoria,British Columbia,CAN      CAN            Victoria   \n750   Washington,District of Columbia,USA      USA          Washington   \n904          San Francisco,California,USA      USA       San Francisco   \n1054            New Orleans,Louisiana,USA      USA         New Orleans   \n1095         San Francisco,California,USA      USA       San Francisco   \n1138            New Orleans,Louisiana,USA      USA         New Orleans   \n1152                     Dallas,Texas,USA      USA              Dallas   \n1177                Madison,Wisconsin,USA      USA             Madison   \n1206        Victoria,British Columbia,CAN      CAN            Victoria   \n1264         San Francisco,California,USA      USA       San Francisco   \n1347         San Francisco,California,USA      USA       San Francisco   \n1352               Seattle,Washington,USA      USA             Seattle   \n1386                 Chico,California,USA      USA               Chico   \n1568              Salt Lake City,Utah,USA      USA      Salt Lake City   \n1589           Los Angeles,California,USA      USA         Los Angeles   \n1651                  Calgary,Alberta,CAN      CAN             Calgary   \n1652              Bellevue,Washington,USA      USA            Bellevue   \n1699                   Omaha,Nebraska,USA      USA               Omaha   \n1738            New Orleans,Louisiana,USA      USA         New Orleans   \n1760                 Edmonton,Alberta,CAN      CAN            Edmonton   \n1808                      ,California,USA      USA                 NaN   \n\n                     state   Q34_1  \n19                 Alberta  1940.0  \n80              Washington  1950.0  \n324                  Texas  1960.0  \n414             California  1970.0  \n649                   Utah  1970.0  \n720             California  1980.0  \n731       British Columbia  1980.0  \n750   District of Columbia  1980.0  \n904             California  1980.0  \n1054             Louisiana  1980.0  \n1095            California  1980.0  \n1138             Louisiana  1980.0  \n1152                 Texas  1980.0  \n1177             Wisconsin  1980.0  \n1206      British Columbia  1990.0  \n1264            California  1990.0  \n1347            California  1990.0  \n1352            Washington  1990.0  \n1386            California  1990.0  \n1568                  Utah  1990.0  \n1589            California  2000.0  \n1651               Alberta  2000.0  \n1652            Washington  2000.0  \n1699              Nebraska     NaN  \n1738             Louisiana     NaN  \n1760               Alberta     NaN  \n1808            California     NaN  \n\n[27 rows x 87 columns]",
      "text/html": "<div>\n<style scoped>\n    .dataframe tbody tr th:only-of-type {\n        vertical-align: middle;\n    }\n\n    .dataframe tbody tr th {\n        vertical-align: top;\n    }\n\n    .dataframe thead th {\n        text-align: right;\n    }\n</style>\n<table border=\"1\" class=\"dataframe\">\n  <thead>\n    <tr style=\"text-align: right;\">\n      <th></th>\n      <th>level_0</th>\n      <th>Unnamed: 0.2</th>\n      <th>Unnamed: 0.1</th>\n      <th>Unnamed: 0</th>\n      <th>index</th>\n      <th>StartDate</th>\n      <th>EndDate</th>\n      <th>Status</th>\n      <th>IPAddress</th>\n      <th>Progress</th>\n      <th>...</th>\n      <th>Q40</th>\n      <th>Q40_3_TEXT</th>\n      <th>lat</th>\n      <th>lon</th>\n      <th>score</th>\n      <th>stolen_bikes_place</th>\n      <th>country</th>\n      <th>city</th>\n      <th>state</th>\n      <th>Q34_1</th>\n    </tr>\n  </thead>\n  <tbody>\n    <tr>\n      <th>19</th>\n      <td>19</td>\n      <td>21</td>\n      <td>1470</td>\n      <td>1556</td>\n      <td>1556</td>\n      <td>5/11/2022 19:44</td>\n      <td>5/11/2022 20:04</td>\n      <td>IP Address</td>\n      <td>173.183.182.200</td>\n      <td>100</td>\n      <td>...</td>\n      <td>A bicycle registry/recovery system (e.g., Bike...</td>\n      <td>NaN</td>\n      <td>-113.490140</td>\n      <td>53.545450</td>\n      <td>100.0</td>\n      <td>Edmonton,Alberta,CAN</td>\n      <td>CAN</td>\n      <td>Edmonton</td>\n      <td>Alberta</td>\n      <td>1940.0</td>\n    </tr>\n    <tr>\n      <th>80</th>\n      <td>80</td>\n      <td>82</td>\n      <td>728</td>\n      <td>755</td>\n      <td>755</td>\n      <td>5/3/2022 21:41</td>\n      <td>5/3/2022 21:54</td>\n      <td>IP Address</td>\n      <td>73.140.210.26</td>\n      <td>100</td>\n      <td>...</td>\n      <td>Email</td>\n      <td>NaN</td>\n      <td>-122.514930</td>\n      <td>47.161950</td>\n      <td>100.0</td>\n      <td>Lakewood,Washington,USA</td>\n      <td>USA</td>\n      <td>Lakewood</td>\n      <td>Washington</td>\n      <td>1950.0</td>\n    </tr>\n    <tr>\n      <th>324</th>\n      <td>324</td>\n      <td>326</td>\n      <td>585</td>\n      <td>611</td>\n      <td>611</td>\n      <td>5/3/2022 13:59</td>\n      <td>5/3/2022 14:07</td>\n      <td>IP Address</td>\n      <td>136.49.97.48</td>\n      <td>100</td>\n      <td>...</td>\n      <td>Email</td>\n      <td>NaN</td>\n      <td>-97.742990</td>\n      <td>30.267590</td>\n      <td>100.0</td>\n      <td>Austin,Texas,USA</td>\n      <td>USA</td>\n      <td>Austin</td>\n      <td>Texas</td>\n      <td>1960.0</td>\n    </tr>\n    <tr>\n      <th>414</th>\n      <td>414</td>\n      <td>416</td>\n      <td>1781</td>\n      <td>1976</td>\n      <td>1976</td>\n      <td>6/1/2022 9:10</td>\n      <td>6/1/2022 10:44</td>\n      <td>IP Address</td>\n      <td>98.171.142.89</td>\n      <td>100</td>\n      <td>...</td>\n      <td>Other (please specify):</td>\n      <td>Random face book link</td>\n      <td>-119.699050</td>\n      <td>34.419380</td>\n      <td>100.0</td>\n      <td>Santa Barbara,California,USA</td>\n      <td>USA</td>\n      <td>Santa Barbara</td>\n      <td>California</td>\n      <td>1970.0</td>\n    </tr>\n    <tr>\n      <th>649</th>\n      <td>649</td>\n      <td>651</td>\n      <td>555</td>\n      <td>581</td>\n      <td>581</td>\n      <td>5/3/2022 13:48</td>\n      <td>5/3/2022 13:55</td>\n      <td>IP Address</td>\n      <td>67.163.88.180</td>\n      <td>100</td>\n      <td>...</td>\n      <td>A bicycle registry/recovery system (e.g., Bike...</td>\n      <td>NaN</td>\n      <td>-111.888220</td>\n      <td>40.760310</td>\n      <td>100.0</td>\n      <td>Salt Lake City,Utah,USA</td>\n      <td>USA</td>\n      <td>Salt Lake City</td>\n      <td>Utah</td>\n      <td>1970.0</td>\n    </tr>\n    <tr>\n      <th>720</th>\n      <td>720</td>\n      <td>722</td>\n      <td>1696</td>\n      <td>1836</td>\n      <td>1836</td>\n      <td>5/21/2022 5:11</td>\n      <td>5/22/2022 5:19</td>\n      <td>IP Address</td>\n      <td>172.58.28.147</td>\n      <td>100</td>\n      <td>...</td>\n      <td>Email</td>\n      <td>NaN</td>\n      <td>-116.510240</td>\n      <td>33.961450</td>\n      <td>100.0</td>\n      <td>Desert Hot Springs,California,USA</td>\n      <td>USA</td>\n      <td>Desert Hot Springs</td>\n      <td>California</td>\n      <td>1980.0</td>\n    </tr>\n    <tr>\n      <th>731</th>\n      <td>731</td>\n      <td>733</td>\n      <td>417</td>\n      <td>433</td>\n      <td>433</td>\n      <td>4/28/2022 21:38</td>\n      <td>4/28/2022 21:46</td>\n      <td>IP Address</td>\n      <td>70.66.155.124</td>\n      <td>100</td>\n      <td>...</td>\n      <td>A bicycle registry/recovery system (e.g., Bike...</td>\n      <td>NaN</td>\n      <td>-123.365642</td>\n      <td>48.428409</td>\n      <td>100.0</td>\n      <td>Victoria,British Columbia,CAN</td>\n      <td>CAN</td>\n      <td>Victoria</td>\n      <td>British Columbia</td>\n      <td>1980.0</td>\n    </tr>\n    <tr>\n      <th>750</th>\n      <td>750</td>\n      <td>752</td>\n      <td>1172</td>\n      <td>1235</td>\n      <td>1235</td>\n      <td>5/11/2022 0:59</td>\n      <td>5/11/2022 1:04</td>\n      <td>IP Address</td>\n      <td>80.187.70.182</td>\n      <td>100</td>\n      <td>...</td>\n      <td>A bicycle registry/recovery system (e.g., Bike...</td>\n      <td>NaN</td>\n      <td>-77.031960</td>\n      <td>38.890370</td>\n      <td>100.0</td>\n      <td>Washington,District of Columbia,USA</td>\n      <td>USA</td>\n      <td>Washington</td>\n      <td>District of Columbia</td>\n      <td>1980.0</td>\n    </tr>\n    <tr>\n      <th>904</th>\n      <td>904</td>\n      <td>906</td>\n      <td>557</td>\n      <td>583</td>\n      <td>583</td>\n      <td>5/3/2022 13:52</td>\n      <td>5/3/2022 13:56</td>\n      <td>IP Address</td>\n      <td>199.241.203.254</td>\n      <td>100</td>\n      <td>...</td>\n      <td>A bicycle registry/recovery system (e.g., Bike...</td>\n      <td>NaN</td>\n      <td>-122.419640</td>\n      <td>37.777120</td>\n      <td>100.0</td>\n      <td>San Francisco,California,USA</td>\n      <td>USA</td>\n      <td>San Francisco</td>\n      <td>California</td>\n      <td>1980.0</td>\n    </tr>\n    <tr>\n      <th>1054</th>\n      <td>1054</td>\n      <td>1056</td>\n      <td>1731</td>\n      <td>1891</td>\n      <td>1891</td>\n      <td>5/24/2022 18:09</td>\n      <td>5/24/2022 18:21</td>\n      <td>IP Address</td>\n      <td>108.200.200.116</td>\n      <td>100</td>\n      <td>...</td>\n      <td>A bicycle registry/recovery system (e.g., Bike...</td>\n      <td>NaN</td>\n      <td>-90.077750</td>\n      <td>29.953700</td>\n      <td>100.0</td>\n      <td>New Orleans,Louisiana,USA</td>\n      <td>USA</td>\n      <td>New Orleans</td>\n      <td>Louisiana</td>\n      <td>1980.0</td>\n    </tr>\n    <tr>\n      <th>1095</th>\n      <td>1095</td>\n      <td>1097</td>\n      <td>1239</td>\n      <td>1302</td>\n      <td>1302</td>\n      <td>5/11/2022 11:04</td>\n      <td>5/11/2022 11:10</td>\n      <td>IP Address</td>\n      <td>158.247.71.105</td>\n      <td>100</td>\n      <td>...</td>\n      <td>Email</td>\n      <td>NaN</td>\n      <td>-122.419640</td>\n      <td>37.777120</td>\n      <td>100.0</td>\n      <td>San Francisco,California,USA</td>\n      <td>USA</td>\n      <td>San Francisco</td>\n      <td>California</td>\n      <td>1980.0</td>\n    </tr>\n    <tr>\n      <th>1138</th>\n      <td>1138</td>\n      <td>1140</td>\n      <td>437</td>\n      <td>454</td>\n      <td>454</td>\n      <td>4/29/2022 8:54</td>\n      <td>4/29/2022 9:01</td>\n      <td>IP Address</td>\n      <td>98.173.234.2</td>\n      <td>100</td>\n      <td>...</td>\n      <td>Email</td>\n      <td>NaN</td>\n      <td>-90.077750</td>\n      <td>29.953700</td>\n      <td>100.0</td>\n      <td>New Orleans,Louisiana,USA</td>\n      <td>USA</td>\n      <td>New Orleans</td>\n      <td>Louisiana</td>\n      <td>1980.0</td>\n    </tr>\n    <tr>\n      <th>1152</th>\n      <td>1152</td>\n      <td>1154</td>\n      <td>641</td>\n      <td>667</td>\n      <td>667</td>\n      <td>5/3/2022 15:05</td>\n      <td>5/3/2022 15:14</td>\n      <td>IP Address</td>\n      <td>174.197.65.212</td>\n      <td>100</td>\n      <td>...</td>\n      <td>A bicycle registry/recovery system (e.g., Bike...</td>\n      <td>NaN</td>\n      <td>-96.795120</td>\n      <td>32.778220</td>\n      <td>100.0</td>\n      <td>Dallas,Texas,USA</td>\n      <td>USA</td>\n      <td>Dallas</td>\n      <td>Texas</td>\n      <td>1980.0</td>\n    </tr>\n    <tr>\n      <th>1177</th>\n      <td>1177</td>\n      <td>1179</td>\n      <td>1423</td>\n      <td>1508</td>\n      <td>1508</td>\n      <td>5/11/2022 14:18</td>\n      <td>5/11/2022 15:34</td>\n      <td>IP Address</td>\n      <td>75.128.219.232</td>\n      <td>100</td>\n      <td>...</td>\n      <td>Other (please specify):</td>\n      <td>Madison Bikes Community Facebook Group</td>\n      <td>-89.386440</td>\n      <td>43.073130</td>\n      <td>100.0</td>\n      <td>Madison,Wisconsin,USA</td>\n      <td>USA</td>\n      <td>Madison</td>\n      <td>Wisconsin</td>\n      <td>1980.0</td>\n    </tr>\n    <tr>\n      <th>1206</th>\n      <td>1206</td>\n      <td>1208</td>\n      <td>422</td>\n      <td>439</td>\n      <td>439</td>\n      <td>4/28/2022 22:27</td>\n      <td>4/28/2022 23:44</td>\n      <td>IP Address</td>\n      <td>75.157.8.247</td>\n      <td>100</td>\n      <td>...</td>\n      <td>A bicycle registry/recovery system (e.g., Bike...</td>\n      <td>NaN</td>\n      <td>-123.365642</td>\n      <td>48.428409</td>\n      <td>100.0</td>\n      <td>Victoria,British Columbia,CAN</td>\n      <td>CAN</td>\n      <td>Victoria</td>\n      <td>British Columbia</td>\n      <td>1990.0</td>\n    </tr>\n    <tr>\n      <th>1264</th>\n      <td>1264</td>\n      <td>1266</td>\n      <td>86</td>\n      <td>93</td>\n      <td>93</td>\n      <td>4/26/2022 10:13</td>\n      <td>4/26/2022 10:19</td>\n      <td>IP Address</td>\n      <td>50.222.102.193</td>\n      <td>100</td>\n      <td>...</td>\n      <td>A bicycle registry/recovery system (e.g., Bike...</td>\n      <td>NaN</td>\n      <td>-122.419640</td>\n      <td>37.777120</td>\n      <td>100.0</td>\n      <td>San Francisco,California,USA</td>\n      <td>USA</td>\n      <td>San Francisco</td>\n      <td>California</td>\n      <td>1990.0</td>\n    </tr>\n    <tr>\n      <th>1347</th>\n      <td>1347</td>\n      <td>1349</td>\n      <td>820</td>\n      <td>848</td>\n      <td>848</td>\n      <td>5/5/2022 11:44</td>\n      <td>5/5/2022 11:50</td>\n      <td>IP Address</td>\n      <td>135.180.158.238</td>\n      <td>100</td>\n      <td>...</td>\n      <td>A bicycle registry/recovery system (e.g., Bike...</td>\n      <td>NaN</td>\n      <td>-122.419640</td>\n      <td>37.777120</td>\n      <td>100.0</td>\n      <td>San Francisco,California,USA</td>\n      <td>USA</td>\n      <td>San Francisco</td>\n      <td>California</td>\n      <td>1990.0</td>\n    </tr>\n    <tr>\n      <th>1352</th>\n      <td>1352</td>\n      <td>1354</td>\n      <td>1040</td>\n      <td>1100</td>\n      <td>1100</td>\n      <td>5/10/2022 15:09</td>\n      <td>5/10/2022 15:14</td>\n      <td>IP Address</td>\n      <td>73.97.164.131</td>\n      <td>100</td>\n      <td>...</td>\n      <td>A bicycle registry/recovery system (e.g., Bike...</td>\n      <td>NaN</td>\n      <td>-122.329450</td>\n      <td>47.603570</td>\n      <td>100.0</td>\n      <td>Seattle,Washington,USA</td>\n      <td>USA</td>\n      <td>Seattle</td>\n      <td>Washington</td>\n      <td>1990.0</td>\n    </tr>\n    <tr>\n      <th>1386</th>\n      <td>1386</td>\n      <td>1388</td>\n      <td>383</td>\n      <td>395</td>\n      <td>395</td>\n      <td>4/28/2022 10:10</td>\n      <td>4/28/2022 10:15</td>\n      <td>IP Address</td>\n      <td>73.189.31.139</td>\n      <td>100</td>\n      <td>...</td>\n      <td>A bicycle registry/recovery system (e.g., Bike...</td>\n      <td>NaN</td>\n      <td>-121.841980</td>\n      <td>39.732000</td>\n      <td>100.0</td>\n      <td>Chico,California,USA</td>\n      <td>USA</td>\n      <td>Chico</td>\n      <td>California</td>\n      <td>1990.0</td>\n    </tr>\n    <tr>\n      <th>1568</th>\n      <td>1568</td>\n      <td>1570</td>\n      <td>379</td>\n      <td>390</td>\n      <td>390</td>\n      <td>4/28/2022 9:50</td>\n      <td>4/28/2022 9:55</td>\n      <td>IP Address</td>\n      <td>67.168.168.157</td>\n      <td>100</td>\n      <td>...</td>\n      <td>Email</td>\n      <td>NaN</td>\n      <td>-111.888220</td>\n      <td>40.760310</td>\n      <td>100.0</td>\n      <td>Salt Lake City,Utah,USA</td>\n      <td>USA</td>\n      <td>Salt Lake City</td>\n      <td>Utah</td>\n      <td>1990.0</td>\n    </tr>\n    <tr>\n      <th>1589</th>\n      <td>1589</td>\n      <td>1591</td>\n      <td>298</td>\n      <td>307</td>\n      <td>307</td>\n      <td>4/27/2022 15:33</td>\n      <td>4/27/2022 15:46</td>\n      <td>IP Address</td>\n      <td>131.179.60.240</td>\n      <td>100</td>\n      <td>...</td>\n      <td>Email</td>\n      <td>NaN</td>\n      <td>-118.245450</td>\n      <td>34.053570</td>\n      <td>100.0</td>\n      <td>Los Angeles,California,USA</td>\n      <td>USA</td>\n      <td>Los Angeles</td>\n      <td>California</td>\n      <td>2000.0</td>\n    </tr>\n    <tr>\n      <th>1651</th>\n      <td>1651</td>\n      <td>1653</td>\n      <td>229</td>\n      <td>238</td>\n      <td>238</td>\n      <td>4/27/2022 12:52</td>\n      <td>4/27/2022 12:57</td>\n      <td>IP Address</td>\n      <td>104.205.178.80</td>\n      <td>100</td>\n      <td>...</td>\n      <td>A bicycle registry/recovery system (e.g., Bike...</td>\n      <td>NaN</td>\n      <td>-114.057141</td>\n      <td>51.045113</td>\n      <td>100.0</td>\n      <td>Calgary,Alberta,CAN</td>\n      <td>CAN</td>\n      <td>Calgary</td>\n      <td>Alberta</td>\n      <td>2000.0</td>\n    </tr>\n    <tr>\n      <th>1652</th>\n      <td>1652</td>\n      <td>1654</td>\n      <td>286</td>\n      <td>295</td>\n      <td>295</td>\n      <td>4/27/2022 14:53</td>\n      <td>4/27/2022 15:00</td>\n      <td>IP Address</td>\n      <td>54.201.196.31</td>\n      <td>100</td>\n      <td>...</td>\n      <td>Email</td>\n      <td>NaN</td>\n      <td>-122.187910</td>\n      <td>47.610020</td>\n      <td>100.0</td>\n      <td>Bellevue,Washington,USA</td>\n      <td>USA</td>\n      <td>Bellevue</td>\n      <td>Washington</td>\n      <td>2000.0</td>\n    </tr>\n    <tr>\n      <th>1699</th>\n      <td>1699</td>\n      <td>1701</td>\n      <td>864</td>\n      <td>896</td>\n      <td>896</td>\n      <td>4/22/2022 11:59</td>\n      <td>4/22/2022 12:05</td>\n      <td>IP Address</td>\n      <td>24.99.237.21</td>\n      <td>82</td>\n      <td>...</td>\n      <td>NaN</td>\n      <td>NaN</td>\n      <td>-95.940260</td>\n      <td>41.260680</td>\n      <td>100.0</td>\n      <td>Omaha,Nebraska,USA</td>\n      <td>USA</td>\n      <td>Omaha</td>\n      <td>Nebraska</td>\n      <td>NaN</td>\n    </tr>\n    <tr>\n      <th>1738</th>\n      <td>1738</td>\n      <td>1740</td>\n      <td>1455</td>\n      <td>1541</td>\n      <td>1541</td>\n      <td>4/27/2022 17:36</td>\n      <td>4/27/2022 18:10</td>\n      <td>IP Address</td>\n      <td>172.58.171.223</td>\n      <td>82</td>\n      <td>...</td>\n      <td>NaN</td>\n      <td>NaN</td>\n      <td>-90.077750</td>\n      <td>29.953700</td>\n      <td>100.0</td>\n      <td>New Orleans,Louisiana,USA</td>\n      <td>USA</td>\n      <td>New Orleans</td>\n      <td>Louisiana</td>\n      <td>NaN</td>\n    </tr>\n    <tr>\n      <th>1760</th>\n      <td>1760</td>\n      <td>1762</td>\n      <td>1648</td>\n      <td>1763</td>\n      <td>1763</td>\n      <td>5/3/2022 14:54</td>\n      <td>5/3/2022 14:59</td>\n      <td>IP Address</td>\n      <td>72.143.233.97</td>\n      <td>78</td>\n      <td>...</td>\n      <td>NaN</td>\n      <td>NaN</td>\n      <td>-113.490140</td>\n      <td>53.545450</td>\n      <td>100.0</td>\n      <td>Edmonton,Alberta,CAN</td>\n      <td>CAN</td>\n      <td>Edmonton</td>\n      <td>Alberta</td>\n      <td>NaN</td>\n    </tr>\n    <tr>\n      <th>1808</th>\n      <td>1808</td>\n      <td>1810</td>\n      <td>1755</td>\n      <td>1935</td>\n      <td>1935</td>\n      <td>5/12/2022 2:55</td>\n      <td>5/12/2022 2:58</td>\n      <td>IP Address</td>\n      <td>213.243.199.154</td>\n      <td>69</td>\n      <td>...</td>\n      <td>NaN</td>\n      <td>NaN</td>\n      <td>-119.270230</td>\n      <td>36.374106</td>\n      <td>100.0</td>\n      <td>,California,USA</td>\n      <td>USA</td>\n      <td>NaN</td>\n      <td>California</td>\n      <td>NaN</td>\n    </tr>\n  </tbody>\n</table>\n<p>27 rows × 87 columns</p>\n</div>"
     },
     "execution_count": 66,
     "metadata": {},
     "output_type": "execute_result"
    }
   ],
   "source": [
    "main = data_general[data_general['Q24']=='Repairable– bicycle was damaged and repairs were required before being rideable']\n",
    "main[main['Q12']=='No ']"
   ],
   "metadata": {
    "collapsed": false,
    "pycharm": {
     "name": "#%%\n"
    }
   }
  },
  {
   "cell_type": "code",
   "execution_count": 60,
   "outputs": [
    {
     "data": {
      "text/plain": "Empty DataFrame\nColumns: [level_0, Unnamed: 0.2, Unnamed: 0.1, Unnamed: 0, index, StartDate, EndDate, Status, IPAddress, Progress, Duration (in seconds), Finished, RecordedDate, ResponseId, RecipientLastName, RecipientFirstName, RecipientEmail, ExternalReference, LocationLatitude, LocationLongitude, DistributionChannel, UserLanguage, Introduction, Q1, Q2, Q3, Q3_6_TEXT, Q4, Q5, Q6, Q7, Q8, Q8_9_TEXT, Q9, Q9_11_TEXT, Q10, Q11, Q11_4_TEXT, Q12, Q13, Q14, Q15, Q16, Q16_1_TEXT, Q17, Q18, Q19, Q19_6_TEXT, Q20, Q20_4_TEXT, Q21, Q22, Q22_1_TEXT, Q23, Q23_15_TEXT, Q24, Q25, Q26, Q27, Q28_1, Q28_2, Q28_3, Q28_4, Q29, Q30, Q31, Q32, Q32_10_TEXT, Q33, Q33_9_TEXT, Q34, Q35, Q36, Q37, Q38, Q39, Q39_10_TEXT, Q40, Q40_3_TEXT, lat, lon, score, stolen_bikes_place, country, city, state, Q34_1]\nIndex: []\n\n[0 rows x 87 columns]",
      "text/html": "<div>\n<style scoped>\n    .dataframe tbody tr th:only-of-type {\n        vertical-align: middle;\n    }\n\n    .dataframe tbody tr th {\n        vertical-align: top;\n    }\n\n    .dataframe thead th {\n        text-align: right;\n    }\n</style>\n<table border=\"1\" class=\"dataframe\">\n  <thead>\n    <tr style=\"text-align: right;\">\n      <th></th>\n      <th>level_0</th>\n      <th>Unnamed: 0.2</th>\n      <th>Unnamed: 0.1</th>\n      <th>Unnamed: 0</th>\n      <th>index</th>\n      <th>StartDate</th>\n      <th>EndDate</th>\n      <th>Status</th>\n      <th>IPAddress</th>\n      <th>Progress</th>\n      <th>...</th>\n      <th>Q40</th>\n      <th>Q40_3_TEXT</th>\n      <th>lat</th>\n      <th>lon</th>\n      <th>score</th>\n      <th>stolen_bikes_place</th>\n      <th>country</th>\n      <th>city</th>\n      <th>state</th>\n      <th>Q34_1</th>\n    </tr>\n  </thead>\n  <tbody>\n  </tbody>\n</table>\n<p>0 rows × 87 columns</p>\n</div>"
     },
     "execution_count": 60,
     "metadata": {},
     "output_type": "execute_result"
    }
   ],
   "source": [
    "main"
   ],
   "metadata": {
    "collapsed": false,
    "pycharm": {
     "name": "#%%\n"
    }
   }
  },
  {
   "cell_type": "code",
   "execution_count": null,
   "outputs": [],
   "source": [],
   "metadata": {
    "collapsed": false,
    "pycharm": {
     "name": "#%%\n"
    }
   }
  }
 ],
 "metadata": {
  "kernelspec": {
   "display_name": "Python 3",
   "language": "python",
   "name": "python3"
  },
  "language_info": {
   "codemirror_mode": {
    "name": "ipython",
    "version": 2
   },
   "file_extension": ".py",
   "mimetype": "text/x-python",
   "name": "python",
   "nbconvert_exporter": "python",
   "pygments_lexer": "ipython2",
   "version": "2.7.6"
  }
 },
 "nbformat": 4,
 "nbformat_minor": 0
}