{
 "cells": [
  {
   "cell_type": "code",
   "execution_count": 1,
   "outputs": [],
   "source": [
    "import pandas as pd\n",
    "from pandas import DataFrame\n",
    "import numpy as np\n",
    "import calendar\n",
    "from scipy.stats import chi2_contingency\n",
    "from IPython.display import display\n",
    "import os, re\n",
    "project_folder =os.path.dirname(os.path.dirname(os.path.dirname(os.getcwd())))"
   ],
   "metadata": {
    "collapsed": false,
    "pycharm": {
     "name": "#%%\n"
    }
   }
  },
  {
   "cell_type": "code",
   "execution_count": 5,
   "outputs": [],
   "source": [
    "data_general = pd.read_csv(f'{project_folder}/data/process/final_geo_coding.csv', skiprows=[1, 2]).reset_index()"
   ],
   "metadata": {
    "collapsed": false,
    "pycharm": {
     "name": "#%%\n"
    }
   }
  },
  {
   "cell_type": "code",
   "execution_count": 5,
   "outputs": [
    {
     "data": {
      "text/plain": "index                                                          0\nStartDate                                             Start Date\nEndDate                                                 End Date\nStatus                                             Response Type\nIPAddress                                             IP Address\n                                     ...                        \nQ38            What is the highest level of education you hav...\nQ39            What do you consider your main ethnic origin o...\nQ39_10_TEXT    What do you consider your main ethnic origin o...\nQ40            Where did you hear about this survey? - Select...\nQ40_3_TEXT     Where did you hear about this survey? - Other ...\nName: 0, Length: 75, dtype: object"
     },
     "execution_count": 5,
     "metadata": {},
     "output_type": "execute_result"
    }
   ],
   "source": [
    "# show the questions\n",
    "pd.read_csv(f'{project_folder}/data/process/new_data.csv', skiprows=[2]).reset_index().iloc[0]"
   ],
   "metadata": {
    "collapsed": false,
    "pycharm": {
     "name": "#%%\n"
    }
   }
  },
  {
   "cell_type": "code",
   "execution_count": 39,
   "outputs": [],
   "source": [
    "questions ={'Q2':'part','Q6':'day_time','Q7':'is_locked','Q8':'locked_type','Q9':'theft_location','Q10':'is_regi','Q11':'report_loc','Q12':'is_insured','Q13':'estimate_val','Q14':'is_electric','Q15':'bike_type','Q17':'is_university','Q19':'is_online','Q21':'is_police_assist','Q23':'recovery_loc','Q24':'con_recovery','Q34': 'birth', 'Q35': 'gender', 'Q36': 'income', 'Q38': 'education', 'Q39': 'ethnic_origin'}"
   ],
   "metadata": {
    "collapsed": false,
    "pycharm": {
     "name": "#%%\n"
    }
   }
  },
  {
   "cell_type": "code",
   "execution_count": 118,
   "outputs": [],
   "source": [
    "def get_the_highest(table_updated, table_to_agg):\n",
    "# This method aggregates small numbers of response types while maintaining 10% percentiles\n",
    "    if table_to_agg[percentage].sum()<10:\n",
    "        if len(table_to_agg)==1:\n",
    "            # No aggregation is required\n",
    "            table_updated = table_updated.append(table_to_agg)\n",
    "        else:\n",
    "            table_updated.loc['Aggregated Responses'] = round(table_to_agg.sum(), 1)\n",
    "        return table_updated\n",
    "    else:\n",
    "        table_updated = table_updated.append(table_to_agg.iloc[0])\n",
    "        return get_the_highest(table_updated, table_to_agg.iloc[1:])\n"
   ],
   "metadata": {
    "collapsed": false,
    "pycharm": {
     "name": "#%%\n"
    }
   }
  },
  {
   "cell_type": "code",
   "execution_count": 95,
   "outputs": [],
   "source": [
    "def sub_aggregate_def(indices:list,j,sum)-> list:\n",
    "    \"\"\"\n",
    "    add all the response types that together are less than 10%\n",
    "    :param indices: list to updata\n",
    "    :param j: next response types index to check\n",
    "    :param sum: the current percentile sum\n",
    "    :return:\n",
    "    \"\"\"\n",
    "    temp_sum = sub_aggregate.iloc[j][percentage] +sum\n",
    "    if temp_sum>10:\n",
    "        return indices\n",
    "    else:\n",
    "        indices.append(j)\n",
    "        if j+1 <len_sub_aggregate:\n",
    "            indices = sub_aggregate_def(indices,j+1,temp_sum)\n",
    "    return indices\n"
   ],
   "metadata": {
    "collapsed": false,
    "pycharm": {
     "name": "#%%\n"
    }
   }
  },
  {
   "cell_type": "code",
   "execution_count": 225,
   "outputs": [
    {
     "name": "stderr",
     "output_type": "stream",
     "text": [
      "C:\\Users\\Achituv\\AppData\\Local\\Temp\\ipykernel_32884\\719687288.py:51: FutureWarning: The frame.append method is deprecated and will be removed from pandas in a future version. Use pandas.concat instead.\n",
      "  table_new = table_new.append(table_add)\n",
      "C:\\Users\\Achituv\\AppData\\Local\\Temp\\ipykernel_32884\\3031605931.py:11: FutureWarning: The frame.append method is deprecated and will be removed from pandas in a future version. Use pandas.concat instead.\n",
      "  table_updated = table_updated.append(table_to_agg.iloc[0])\n",
      "C:\\Users\\Achituv\\AppData\\Local\\Temp\\ipykernel_32884\\3031605931.py:11: FutureWarning: The frame.append method is deprecated and will be removed from pandas in a future version. Use pandas.concat instead.\n",
      "  table_updated = table_updated.append(table_to_agg.iloc[0])\n",
      "C:\\Users\\Achituv\\AppData\\Local\\Temp\\ipykernel_32884\\3031605931.py:11: FutureWarning: The frame.append method is deprecated and will be removed from pandas in a future version. Use pandas.concat instead.\n",
      "  table_updated = table_updated.append(table_to_agg.iloc[0])\n",
      "C:\\Users\\Achituv\\AppData\\Local\\Temp\\ipykernel_32884\\3031605931.py:11: FutureWarning: The frame.append method is deprecated and will be removed from pandas in a future version. Use pandas.concat instead.\n",
      "  table_updated = table_updated.append(table_to_agg.iloc[0])\n",
      "C:\\Users\\Achituv\\AppData\\Local\\Temp\\ipykernel_32884\\3031605931.py:11: FutureWarning: The frame.append method is deprecated and will be removed from pandas in a future version. Use pandas.concat instead.\n",
      "  table_updated = table_updated.append(table_to_agg.iloc[0])\n",
      "C:\\Users\\Achituv\\AppData\\Local\\Temp\\ipykernel_32884\\3031605931.py:11: FutureWarning: The frame.append method is deprecated and will be removed from pandas in a future version. Use pandas.concat instead.\n",
      "  table_updated = table_updated.append(table_to_agg.iloc[0])\n",
      "C:\\Users\\Achituv\\AppData\\Local\\Temp\\ipykernel_32884\\3031605931.py:11: FutureWarning: The frame.append method is deprecated and will be removed from pandas in a future version. Use pandas.concat instead.\n",
      "  table_updated = table_updated.append(table_to_agg.iloc[0])\n",
      "C:\\Users\\Achituv\\AppData\\Local\\Temp\\ipykernel_32884\\3031605931.py:11: FutureWarning: The frame.append method is deprecated and will be removed from pandas in a future version. Use pandas.concat instead.\n",
      "  table_updated = table_updated.append(table_to_agg.iloc[0])\n",
      "C:\\Users\\Achituv\\AppData\\Local\\Temp\\ipykernel_32884\\3031605931.py:11: FutureWarning: The frame.append method is deprecated and will be removed from pandas in a future version. Use pandas.concat instead.\n",
      "  table_updated = table_updated.append(table_to_agg.iloc[0])\n",
      "C:\\Users\\Achituv\\AppData\\Local\\Temp\\ipykernel_32884\\719687288.py:47: SettingWithCopyWarning: \n",
      "A value is trying to be set on a copy of a slice from a DataFrame\n",
      "\n",
      "See the caveats in the documentation: https://pandas.pydata.org/pandas-docs/stable/user_guide/indexing.html#returning-a-view-versus-a-copy\n",
      "  table_new.loc[' OR '.join(list(temp_df.index))] = temp_df.sum()\n",
      "C:\\Users\\Achituv\\AppData\\Local\\Temp\\ipykernel_32884\\719687288.py:47: SettingWithCopyWarning: \n",
      "A value is trying to be set on a copy of a slice from a DataFrame\n",
      "\n",
      "See the caveats in the documentation: https://pandas.pydata.org/pandas-docs/stable/user_guide/indexing.html#returning-a-view-versus-a-copy\n",
      "  table_new.loc[' OR '.join(list(temp_df.index))] = temp_df.sum()\n",
      "C:\\Users\\Achituv\\AppData\\Local\\Temp\\ipykernel_32884\\719687288.py:47: SettingWithCopyWarning: \n",
      "A value is trying to be set on a copy of a slice from a DataFrame\n",
      "\n",
      "See the caveats in the documentation: https://pandas.pydata.org/pandas-docs/stable/user_guide/indexing.html#returning-a-view-versus-a-copy\n",
      "  table_new.loc[' OR '.join(list(temp_df.index))] = temp_df.sum()\n",
      "C:\\Users\\Achituv\\AppData\\Local\\Temp\\ipykernel_32884\\719687288.py:47: SettingWithCopyWarning: \n",
      "A value is trying to be set on a copy of a slice from a DataFrame\n",
      "\n",
      "See the caveats in the documentation: https://pandas.pydata.org/pandas-docs/stable/user_guide/indexing.html#returning-a-view-versus-a-copy\n",
      "  table_new.loc[' OR '.join(list(temp_df.index))] = temp_df.sum()\n",
      "C:\\Users\\Achituv\\AppData\\Local\\Temp\\ipykernel_32884\\719687288.py:49: FutureWarning: The frame.append method is deprecated and will be removed from pandas in a future version. Use pandas.concat instead.\n",
      "  table_new =table_new.append(table_add.iloc[-1])\n",
      "C:\\Users\\Achituv\\AppData\\Local\\Temp\\ipykernel_32884\\3031605931.py:11: FutureWarning: The frame.append method is deprecated and will be removed from pandas in a future version. Use pandas.concat instead.\n",
      "  table_updated = table_updated.append(table_to_agg.iloc[0])\n",
      "C:\\Users\\Achituv\\AppData\\Local\\Temp\\ipykernel_32884\\3031605931.py:11: FutureWarning: The frame.append method is deprecated and will be removed from pandas in a future version. Use pandas.concat instead.\n",
      "  table_updated = table_updated.append(table_to_agg.iloc[0])\n",
      "C:\\Users\\Achituv\\AppData\\Local\\Temp\\ipykernel_32884\\3031605931.py:11: FutureWarning: The frame.append method is deprecated and will be removed from pandas in a future version. Use pandas.concat instead.\n",
      "  table_updated = table_updated.append(table_to_agg.iloc[0])\n",
      "C:\\Users\\Achituv\\AppData\\Local\\Temp\\ipykernel_32884\\719687288.py:47: SettingWithCopyWarning: \n",
      "A value is trying to be set on a copy of a slice from a DataFrame\n",
      "\n",
      "See the caveats in the documentation: https://pandas.pydata.org/pandas-docs/stable/user_guide/indexing.html#returning-a-view-versus-a-copy\n",
      "  table_new.loc[' OR '.join(list(temp_df.index))] = temp_df.sum()\n",
      "C:\\Users\\Achituv\\AppData\\Local\\Temp\\ipykernel_32884\\719687288.py:47: SettingWithCopyWarning: \n",
      "A value is trying to be set on a copy of a slice from a DataFrame\n",
      "\n",
      "See the caveats in the documentation: https://pandas.pydata.org/pandas-docs/stable/user_guide/indexing.html#returning-a-view-versus-a-copy\n",
      "  table_new.loc[' OR '.join(list(temp_df.index))] = temp_df.sum()\n",
      "C:\\Users\\Achituv\\AppData\\Local\\Temp\\ipykernel_32884\\719687288.py:49: FutureWarning: The frame.append method is deprecated and will be removed from pandas in a future version. Use pandas.concat instead.\n",
      "  table_new =table_new.append(table_add.iloc[-1])\n",
      "C:\\Users\\Achituv\\AppData\\Local\\Temp\\ipykernel_32884\\3031605931.py:11: FutureWarning: The frame.append method is deprecated and will be removed from pandas in a future version. Use pandas.concat instead.\n",
      "  table_updated = table_updated.append(table_to_agg.iloc[0])\n",
      "C:\\Users\\Achituv\\AppData\\Local\\Temp\\ipykernel_32884\\3031605931.py:11: FutureWarning: The frame.append method is deprecated and will be removed from pandas in a future version. Use pandas.concat instead.\n",
      "  table_updated = table_updated.append(table_to_agg.iloc[0])\n",
      "C:\\Users\\Achituv\\AppData\\Local\\Temp\\ipykernel_32884\\3031605931.py:11: FutureWarning: The frame.append method is deprecated and will be removed from pandas in a future version. Use pandas.concat instead.\n",
      "  table_updated = table_updated.append(table_to_agg.iloc[0])\n",
      "C:\\Users\\Achituv\\AppData\\Local\\Temp\\ipykernel_32884\\719687288.py:47: SettingWithCopyWarning: \n",
      "A value is trying to be set on a copy of a slice from a DataFrame\n",
      "\n",
      "See the caveats in the documentation: https://pandas.pydata.org/pandas-docs/stable/user_guide/indexing.html#returning-a-view-versus-a-copy\n",
      "  table_new.loc[' OR '.join(list(temp_df.index))] = temp_df.sum()\n",
      "C:\\Users\\Achituv\\AppData\\Local\\Temp\\ipykernel_32884\\719687288.py:47: SettingWithCopyWarning: \n",
      "A value is trying to be set on a copy of a slice from a DataFrame\n",
      "\n",
      "See the caveats in the documentation: https://pandas.pydata.org/pandas-docs/stable/user_guide/indexing.html#returning-a-view-versus-a-copy\n",
      "  table_new.loc[' OR '.join(list(temp_df.index))] = temp_df.sum()\n",
      "C:\\Users\\Achituv\\AppData\\Local\\Temp\\ipykernel_32884\\719687288.py:49: FutureWarning: The frame.append method is deprecated and will be removed from pandas in a future version. Use pandas.concat instead.\n",
      "  table_new =table_new.append(table_add.iloc[-1])\n",
      "C:\\Users\\Achituv\\AppData\\Local\\Temp\\ipykernel_32884\\719687288.py:51: FutureWarning: The frame.append method is deprecated and will be removed from pandas in a future version. Use pandas.concat instead.\n",
      "  table_new = table_new.append(table_add)\n",
      "C:\\Users\\Achituv\\AppData\\Local\\Temp\\ipykernel_32884\\3031605931.py:11: FutureWarning: The frame.append method is deprecated and will be removed from pandas in a future version. Use pandas.concat instead.\n",
      "  table_updated = table_updated.append(table_to_agg.iloc[0])\n",
      "C:\\Users\\Achituv\\AppData\\Local\\Temp\\ipykernel_32884\\719687288.py:51: FutureWarning: The frame.append method is deprecated and will be removed from pandas in a future version. Use pandas.concat instead.\n",
      "  table_new = table_new.append(table_add)\n",
      "C:\\Users\\Achituv\\AppData\\Local\\Temp\\ipykernel_32884\\3031605931.py:11: FutureWarning: The frame.append method is deprecated and will be removed from pandas in a future version. Use pandas.concat instead.\n",
      "  table_updated = table_updated.append(table_to_agg.iloc[0])\n",
      "C:\\Users\\Achituv\\AppData\\Local\\Temp\\ipykernel_32884\\3031605931.py:6: FutureWarning: The frame.append method is deprecated and will be removed from pandas in a future version. Use pandas.concat instead.\n",
      "  table_updated = table_updated.append(table_to_agg)\n",
      "C:\\Users\\Achituv\\AppData\\Local\\Temp\\ipykernel_32884\\719687288.py:51: FutureWarning: The frame.append method is deprecated and will be removed from pandas in a future version. Use pandas.concat instead.\n",
      "  table_new = table_new.append(table_add)\n",
      "C:\\Users\\Achituv\\AppData\\Local\\Temp\\ipykernel_32884\\3031605931.py:11: FutureWarning: The frame.append method is deprecated and will be removed from pandas in a future version. Use pandas.concat instead.\n",
      "  table_updated = table_updated.append(table_to_agg.iloc[0])\n",
      "C:\\Users\\Achituv\\AppData\\Local\\Temp\\ipykernel_32884\\3031605931.py:11: FutureWarning: The frame.append method is deprecated and will be removed from pandas in a future version. Use pandas.concat instead.\n",
      "  table_updated = table_updated.append(table_to_agg.iloc[0])\n",
      "C:\\Users\\Achituv\\AppData\\Local\\Temp\\ipykernel_32884\\719687288.py:47: SettingWithCopyWarning: \n",
      "A value is trying to be set on a copy of a slice from a DataFrame\n",
      "\n",
      "See the caveats in the documentation: https://pandas.pydata.org/pandas-docs/stable/user_guide/indexing.html#returning-a-view-versus-a-copy\n",
      "  table_new.loc[' OR '.join(list(temp_df.index))] = temp_df.sum()\n",
      "C:\\Users\\Achituv\\AppData\\Local\\Temp\\ipykernel_32884\\719687288.py:49: FutureWarning: The frame.append method is deprecated and will be removed from pandas in a future version. Use pandas.concat instead.\n",
      "  table_new =table_new.append(table_add.iloc[-1])\n",
      "C:\\Users\\Achituv\\AppData\\Local\\Temp\\ipykernel_32884\\3031605931.py:11: FutureWarning: The frame.append method is deprecated and will be removed from pandas in a future version. Use pandas.concat instead.\n",
      "  table_updated = table_updated.append(table_to_agg.iloc[0])\n",
      "C:\\Users\\Achituv\\AppData\\Local\\Temp\\ipykernel_32884\\3031605931.py:11: FutureWarning: The frame.append method is deprecated and will be removed from pandas in a future version. Use pandas.concat instead.\n",
      "  table_updated = table_updated.append(table_to_agg.iloc[0])\n",
      "C:\\Users\\Achituv\\AppData\\Local\\Temp\\ipykernel_32884\\3031605931.py:11: FutureWarning: The frame.append method is deprecated and will be removed from pandas in a future version. Use pandas.concat instead.\n",
      "  table_updated = table_updated.append(table_to_agg.iloc[0])\n",
      "C:\\Users\\Achituv\\AppData\\Local\\Temp\\ipykernel_32884\\719687288.py:47: SettingWithCopyWarning: \n",
      "A value is trying to be set on a copy of a slice from a DataFrame\n",
      "\n",
      "See the caveats in the documentation: https://pandas.pydata.org/pandas-docs/stable/user_guide/indexing.html#returning-a-view-versus-a-copy\n",
      "  table_new.loc[' OR '.join(list(temp_df.index))] = temp_df.sum()\n",
      "C:\\Users\\Achituv\\AppData\\Local\\Temp\\ipykernel_32884\\719687288.py:47: SettingWithCopyWarning: \n",
      "A value is trying to be set on a copy of a slice from a DataFrame\n",
      "\n",
      "See the caveats in the documentation: https://pandas.pydata.org/pandas-docs/stable/user_guide/indexing.html#returning-a-view-versus-a-copy\n",
      "  table_new.loc[' OR '.join(list(temp_df.index))] = temp_df.sum()\n",
      "C:\\Users\\Achituv\\AppData\\Local\\Temp\\ipykernel_32884\\719687288.py:47: SettingWithCopyWarning: \n",
      "A value is trying to be set on a copy of a slice from a DataFrame\n",
      "\n",
      "See the caveats in the documentation: https://pandas.pydata.org/pandas-docs/stable/user_guide/indexing.html#returning-a-view-versus-a-copy\n",
      "  table_new.loc[' OR '.join(list(temp_df.index))] = temp_df.sum()\n",
      "C:\\Users\\Achituv\\AppData\\Local\\Temp\\ipykernel_32884\\719687288.py:49: FutureWarning: The frame.append method is deprecated and will be removed from pandas in a future version. Use pandas.concat instead.\n",
      "  table_new =table_new.append(table_add.iloc[-1])\n",
      "C:\\Users\\Achituv\\AppData\\Local\\Temp\\ipykernel_32884\\3031605931.py:11: FutureWarning: The frame.append method is deprecated and will be removed from pandas in a future version. Use pandas.concat instead.\n",
      "  table_updated = table_updated.append(table_to_agg.iloc[0])\n",
      "C:\\Users\\Achituv\\AppData\\Local\\Temp\\ipykernel_32884\\3031605931.py:11: FutureWarning: The frame.append method is deprecated and will be removed from pandas in a future version. Use pandas.concat instead.\n",
      "  table_updated = table_updated.append(table_to_agg.iloc[0])\n",
      "C:\\Users\\Achituv\\AppData\\Local\\Temp\\ipykernel_32884\\3031605931.py:11: FutureWarning: The frame.append method is deprecated and will be removed from pandas in a future version. Use pandas.concat instead.\n",
      "  table_updated = table_updated.append(table_to_agg.iloc[0])\n",
      "C:\\Users\\Achituv\\AppData\\Local\\Temp\\ipykernel_32884\\719687288.py:47: SettingWithCopyWarning: \n",
      "A value is trying to be set on a copy of a slice from a DataFrame\n",
      "\n",
      "See the caveats in the documentation: https://pandas.pydata.org/pandas-docs/stable/user_guide/indexing.html#returning-a-view-versus-a-copy\n",
      "  table_new.loc[' OR '.join(list(temp_df.index))] = temp_df.sum()\n",
      "C:\\Users\\Achituv\\AppData\\Local\\Temp\\ipykernel_32884\\719687288.py:47: SettingWithCopyWarning: \n",
      "A value is trying to be set on a copy of a slice from a DataFrame\n",
      "\n",
      "See the caveats in the documentation: https://pandas.pydata.org/pandas-docs/stable/user_guide/indexing.html#returning-a-view-versus-a-copy\n",
      "  table_new.loc[' OR '.join(list(temp_df.index))] = temp_df.sum()\n",
      "C:\\Users\\Achituv\\AppData\\Local\\Temp\\ipykernel_32884\\719687288.py:49: FutureWarning: The frame.append method is deprecated and will be removed from pandas in a future version. Use pandas.concat instead.\n",
      "  table_new =table_new.append(table_add.iloc[-1])\n",
      "C:\\Users\\Achituv\\AppData\\Local\\Temp\\ipykernel_32884\\719687288.py:51: FutureWarning: The frame.append method is deprecated and will be removed from pandas in a future version. Use pandas.concat instead.\n",
      "  table_new = table_new.append(table_add)\n",
      "C:\\Users\\Achituv\\AppData\\Local\\Temp\\ipykernel_32884\\719687288.py:51: FutureWarning: The frame.append method is deprecated and will be removed from pandas in a future version. Use pandas.concat instead.\n",
      "  table_new = table_new.append(table_add)\n",
      "C:\\Users\\Achituv\\AppData\\Local\\Temp\\ipykernel_32884\\3031605931.py:11: FutureWarning: The frame.append method is deprecated and will be removed from pandas in a future version. Use pandas.concat instead.\n",
      "  table_updated = table_updated.append(table_to_agg.iloc[0])\n",
      "C:\\Users\\Achituv\\AppData\\Local\\Temp\\ipykernel_32884\\3031605931.py:11: FutureWarning: The frame.append method is deprecated and will be removed from pandas in a future version. Use pandas.concat instead.\n",
      "  table_updated = table_updated.append(table_to_agg.iloc[0])\n",
      "C:\\Users\\Achituv\\AppData\\Local\\Temp\\ipykernel_32884\\3031605931.py:11: FutureWarning: The frame.append method is deprecated and will be removed from pandas in a future version. Use pandas.concat instead.\n",
      "  table_updated = table_updated.append(table_to_agg.iloc[0])\n",
      "C:\\Users\\Achituv\\AppData\\Local\\Temp\\ipykernel_32884\\719687288.py:47: SettingWithCopyWarning: \n",
      "A value is trying to be set on a copy of a slice from a DataFrame\n",
      "\n",
      "See the caveats in the documentation: https://pandas.pydata.org/pandas-docs/stable/user_guide/indexing.html#returning-a-view-versus-a-copy\n",
      "  table_new.loc[' OR '.join(list(temp_df.index))] = temp_df.sum()\n",
      "C:\\Users\\Achituv\\AppData\\Local\\Temp\\ipykernel_32884\\719687288.py:47: SettingWithCopyWarning: \n",
      "A value is trying to be set on a copy of a slice from a DataFrame\n",
      "\n",
      "See the caveats in the documentation: https://pandas.pydata.org/pandas-docs/stable/user_guide/indexing.html#returning-a-view-versus-a-copy\n",
      "  table_new.loc[' OR '.join(list(temp_df.index))] = temp_df.sum()\n",
      "C:\\Users\\Achituv\\AppData\\Local\\Temp\\ipykernel_32884\\719687288.py:47: SettingWithCopyWarning: \n",
      "A value is trying to be set on a copy of a slice from a DataFrame\n",
      "\n",
      "See the caveats in the documentation: https://pandas.pydata.org/pandas-docs/stable/user_guide/indexing.html#returning-a-view-versus-a-copy\n",
      "  table_new.loc[' OR '.join(list(temp_df.index))] = temp_df.sum()\n",
      "C:\\Users\\Achituv\\AppData\\Local\\Temp\\ipykernel_32884\\719687288.py:49: FutureWarning: The frame.append method is deprecated and will be removed from pandas in a future version. Use pandas.concat instead.\n",
      "  table_new =table_new.append(table_add.iloc[-1])\n",
      "C:\\Users\\Achituv\\AppData\\Local\\Temp\\ipykernel_32884\\3031605931.py:11: FutureWarning: The frame.append method is deprecated and will be removed from pandas in a future version. Use pandas.concat instead.\n",
      "  table_updated = table_updated.append(table_to_agg.iloc[0])\n",
      "C:\\Users\\Achituv\\AppData\\Local\\Temp\\ipykernel_32884\\3031605931.py:11: FutureWarning: The frame.append method is deprecated and will be removed from pandas in a future version. Use pandas.concat instead.\n",
      "  table_updated = table_updated.append(table_to_agg.iloc[0])\n",
      "C:\\Users\\Achituv\\AppData\\Local\\Temp\\ipykernel_32884\\719687288.py:47: SettingWithCopyWarning: \n",
      "A value is trying to be set on a copy of a slice from a DataFrame\n",
      "\n",
      "See the caveats in the documentation: https://pandas.pydata.org/pandas-docs/stable/user_guide/indexing.html#returning-a-view-versus-a-copy\n",
      "  table_new.loc[' OR '.join(list(temp_df.index))] = temp_df.sum()\n",
      "C:\\Users\\Achituv\\AppData\\Local\\Temp\\ipykernel_32884\\719687288.py:47: SettingWithCopyWarning: \n",
      "A value is trying to be set on a copy of a slice from a DataFrame\n",
      "\n",
      "See the caveats in the documentation: https://pandas.pydata.org/pandas-docs/stable/user_guide/indexing.html#returning-a-view-versus-a-copy\n",
      "  table_new.loc[' OR '.join(list(temp_df.index))] = temp_df.sum()\n",
      "C:\\Users\\Achituv\\AppData\\Local\\Temp\\ipykernel_32884\\719687288.py:49: FutureWarning: The frame.append method is deprecated and will be removed from pandas in a future version. Use pandas.concat instead.\n",
      "  table_new =table_new.append(table_add.iloc[-1])\n",
      "C:\\Users\\Achituv\\AppData\\Local\\Temp\\ipykernel_32884\\3031605931.py:11: FutureWarning: The frame.append method is deprecated and will be removed from pandas in a future version. Use pandas.concat instead.\n",
      "  table_updated = table_updated.append(table_to_agg.iloc[0])\n",
      "C:\\Users\\Achituv\\AppData\\Local\\Temp\\ipykernel_32884\\3031605931.py:11: FutureWarning: The frame.append method is deprecated and will be removed from pandas in a future version. Use pandas.concat instead.\n",
      "  table_updated = table_updated.append(table_to_agg.iloc[0])\n",
      "C:\\Users\\Achituv\\AppData\\Local\\Temp\\ipykernel_32884\\3031605931.py:11: FutureWarning: The frame.append method is deprecated and will be removed from pandas in a future version. Use pandas.concat instead.\n",
      "  table_updated = table_updated.append(table_to_agg.iloc[0])\n",
      "C:\\Users\\Achituv\\AppData\\Local\\Temp\\ipykernel_32884\\3031605931.py:11: FutureWarning: The frame.append method is deprecated and will be removed from pandas in a future version. Use pandas.concat instead.\n",
      "  table_updated = table_updated.append(table_to_agg.iloc[0])\n",
      "C:\\Users\\Achituv\\AppData\\Local\\Temp\\ipykernel_32884\\719687288.py:47: SettingWithCopyWarning: \n",
      "A value is trying to be set on a copy of a slice from a DataFrame\n",
      "\n",
      "See the caveats in the documentation: https://pandas.pydata.org/pandas-docs/stable/user_guide/indexing.html#returning-a-view-versus-a-copy\n",
      "  table_new.loc[' OR '.join(list(temp_df.index))] = temp_df.sum()\n",
      "C:\\Users\\Achituv\\AppData\\Local\\Temp\\ipykernel_32884\\719687288.py:47: SettingWithCopyWarning: \n",
      "A value is trying to be set on a copy of a slice from a DataFrame\n",
      "\n",
      "See the caveats in the documentation: https://pandas.pydata.org/pandas-docs/stable/user_guide/indexing.html#returning-a-view-versus-a-copy\n",
      "  table_new.loc[' OR '.join(list(temp_df.index))] = temp_df.sum()\n",
      "C:\\Users\\Achituv\\AppData\\Local\\Temp\\ipykernel_32884\\719687288.py:47: SettingWithCopyWarning: \n",
      "A value is trying to be set on a copy of a slice from a DataFrame\n",
      "\n",
      "See the caveats in the documentation: https://pandas.pydata.org/pandas-docs/stable/user_guide/indexing.html#returning-a-view-versus-a-copy\n",
      "  table_new.loc[' OR '.join(list(temp_df.index))] = temp_df.sum()\n",
      "C:\\Users\\Achituv\\AppData\\Local\\Temp\\ipykernel_32884\\719687288.py:49: FutureWarning: The frame.append method is deprecated and will be removed from pandas in a future version. Use pandas.concat instead.\n",
      "  table_new =table_new.append(table_add.iloc[-1])\n"
     ]
    }
   ],
   "source": [
    "new_tables = {}\n",
    "percentage = 'percentage'\n",
    "# Specific code for birth year\n",
    "\n",
    "\n",
    "for pair in questions.items():\n",
    "    # statistic by count (display also by percentage)\n",
    "    # pair = ('Q39','ethnic_origin')\n",
    "    question = pair[0]\n",
    "    #  code for birth year has already conducted\n",
    "    if question =='Q34':\n",
    "        table_0 = DataFrame(data_general.groupby('Q34').count()['level_0'].sort_values(ascending=False).rename('count'))\n",
    "        # convert year to decade.\n",
    "        decade = 'decade'\n",
    "        table_0[decade] = table_0.index.map(lambda x:int(x/10)*10)\n",
    "        table = DataFrame(table_0.groupby(decade).sum()['count'].sort_values(ascending=False))\n",
    "        table[percentage] = round(table['count']/table['count'].sum()*100,1)\n",
    "        new_tables['Q34_birth'] = table.sort_values(by=decade)\n",
    "        continue\n",
    "\n",
    "    # work on specific question\n",
    "    table_0 = DataFrame(data_general.groupby(question).count()['level_0'].sort_values(ascending=False).rename('count'))\n",
    "    # Clean unnecessary data and white space\n",
    "    table = table_0.set_index(table_0.index.map(lambda x: re.sub(\"\\(.*?\\)\",\"\",x)).str.replace('      ','').str.strip())\n",
    "\n",
    "    table[percentage] = round(table['count']/table['count'].sum()*100,1)\n",
    "    # Aggregate responses type with less than 10 responses\n",
    "    table_aggregate = table[table[percentage]<10]\n",
    "    table_new = table.copy()\n",
    "\n",
    "    if len(table_aggregate)>1:\n",
    "         # There are more than 1 values with less than 10% respondent\n",
    "        table_new =table[table[percentage]>10]\n",
    "        table_add = get_the_highest(DataFrame(columns=table_aggregate.columns),table_aggregate)\n",
    "        # There are more than 1 values with less than 10% respondents that not part of aggregation process before\n",
    "        if len(table_add)>2:\n",
    "            sub_aggregate = table_add.iloc[:-1].sort_values(by=percentage)\n",
    "            i =0\n",
    "            len_sub_aggregate = len(sub_aggregate)\n",
    "            while i < len_sub_aggregate:\n",
    "                if i ==len_sub_aggregate -1:\n",
    "                    indices = [i]\n",
    "                else:\n",
    "                    indices = sub_aggregate_def([i],i+1,sub_aggregate.iloc[i][percentage])\n",
    "                # aggregate sll the responses type based on indices\n",
    "                temp_df =sub_aggregate.iloc[indices]\n",
    "                table_new.loc[' OR '.join(list(temp_df.index))] = temp_df.sum()\n",
    "                i = indices[-1]+1\n",
    "            table_new =table_new.append(table_add.iloc[-1])\n",
    "        else:\n",
    "            table_new = table_new.append(table_add)\n",
    "\n",
    "    # add the new table into tables dictionary\n",
    "    new_tables[f'{question}_{pair[1]}'] = table_new.sort_values(by=percentage,ascending=False)\n",
    "    # break\n",
    "with pd.ExcelWriter(f\"{project_folder}/python/notebooks/output/output.xlsx\") as writer:\n",
    "    [item[1].to_excel(writer, sheet_name=item[0]) for item in new_tables.items()]"
   ],
   "metadata": {
    "collapsed": false,
    "pycharm": {
     "name": "#%%\n"
    }
   }
  },
  {
   "cell_type": "code",
   "execution_count": 223,
   "outputs": [],
   "source": [
    "# United States VS Canada\n",
    "new_tables = {}\n",
    "percentage = 'percentage'\n",
    "countries_names = list(data_general['country'].drop_duplicates())\n",
    "\n",
    "countries_data = {countries_names[0]:data_general[data_general['country']==countries_names[0]],\n",
    "                  countries_names[1]:data_general[data_general['country']==countries_names[1]]}\n",
    "\n",
    "for pair in questions.items():\n",
    "    by_countries_table = DataFrame(columns=countries_names)\n",
    "    # statistic by count (display also by percentage)\n",
    "    # pair = ('Q34', 'birth')\n",
    "    question = pair[0]\n",
    "    #  code for birth year has already conducted\n",
    "    if question =='Q34':\n",
    "        for item in countries_names:\n",
    "            country_data= countries_data[item]\n",
    "            # Specific code for birth year\n",
    "            table_0 = DataFrame(country_data.groupby('Q34').count()['level_0'].sort_values(ascending=False).rename('count'))\n",
    "            # convert year to decade.\n",
    "            decade = 'decade'\n",
    "            table_0[decade] = table_0.index.map(lambda x:int(x/10)*10)\n",
    "            table = DataFrame(table_0.groupby(decade).sum()['count'].sort_values(ascending=False))\n",
    "            by_countries_table[item] = round(table['count']/table['count'].sum()*100,1)\n",
    "\n",
    "        by_countries_table.columns = by_countries_table.columns + '(%)'\n",
    "        by_countries_table.fillna(0,inplace=True)\n",
    "        new_tables[f'{question}_{pair[1]}'] = by_countries_table.sort_values(by=decade)\n",
    "        continue\n",
    "    for item in countries_names:\n",
    "        country_data= countries_data[item]\n",
    "        # work on specific question\n",
    "        table_0 = DataFrame(country_data.groupby(question).count()['level_0'].sort_values(ascending=False).rename('count'))\n",
    "        # Clean unnecessary data and white space\n",
    "        table = table_0.set_index(table_0.index.map(lambda x: re.sub(\"\\(.*?\\)\",\"\",x)).str.replace('      ','').str.strip())\n",
    "        by_countries_table[item] = round(table['count']/table['count'].sum()*100,1)\n",
    "    by_countries_table.columns = by_countries_table.columns + '(%)'\n",
    "    by_countries_table.fillna(0,inplace=True)\n",
    "        # add the new table into tables dictionary\n",
    "    new_tables[f'{question}_{pair[1]}'] = by_countries_table.sort_values(by='USA(%)',ascending=False)\n",
    "    # break\n",
    "with pd.ExcelWriter(f\"{project_folder}/python/notebooks/output/usa_canada.xlsx\") as writer:\n",
    "    [item[1].to_excel(writer, sheet_name=item[0]) for item in new_tables.items()]"
   ],
   "metadata": {
    "collapsed": false,
    "pycharm": {
     "name": "#%%\n"
    }
   }
  },
  {
   "cell_type": "code",
   "execution_count": 227,
   "outputs": [
    {
     "data": {
      "text/plain": "338"
     },
     "execution_count": 227,
     "metadata": {},
     "output_type": "execute_result"
    }
   ],
   "source": [
    "len(countries_data['CAN'])"
   ],
   "metadata": {
    "collapsed": false,
    "pycharm": {
     "name": "#%%\n"
    }
   }
  },
  {
   "cell_type": "code",
   "execution_count": 228,
   "outputs": [
    {
     "data": {
      "text/plain": "1483"
     },
     "execution_count": 228,
     "metadata": {},
     "output_type": "execute_result"
    }
   ],
   "source": [
    "len(countries_data['USA'])"
   ],
   "metadata": {
    "collapsed": false,
    "pycharm": {
     "name": "#%%\n"
    }
   }
  },
  {
   "cell_type": "code",
   "execution_count": 229,
   "outputs": [
    {
     "data": {
      "text/plain": "0.0"
     },
     "execution_count": 229,
     "metadata": {},
     "output_type": "execute_result"
    }
   ],
   "source": [
    "can = countries_data['CAN']\n",
    "len(can[can['Q12']=='Yes'])/len(countries_data['CAN'])*100"
   ],
   "metadata": {
    "collapsed": false,
    "pycharm": {
     "name": "#%%\n"
    }
   }
  },
  {
   "cell_type": "code",
   "execution_count": 230,
   "outputs": [
    {
     "data": {
      "text/plain": "Empty DataFrame\nColumns: [level_0, Unnamed: 0.2, Unnamed: 0.1, Unnamed: 0, index, StartDate, EndDate, Status, IPAddress, Progress, Duration (in seconds), Finished, RecordedDate, ResponseId, RecipientLastName, RecipientFirstName, RecipientEmail, ExternalReference, LocationLatitude, LocationLongitude, DistributionChannel, UserLanguage, Introduction, Q1, Q2, Q3, Q3_6_TEXT, Q4, Q5, Q6, Q7, Q8, Q8_9_TEXT, Q9, Q9_11_TEXT, Q10, Q11, Q11_4_TEXT, Q12, Q13, Q14, Q15, Q16, Q16_1_TEXT, Q17, Q18, Q19, Q19_6_TEXT, Q20, Q20_4_TEXT, Q21, Q22, Q22_1_TEXT, Q23, Q23_15_TEXT, Q24, Q25, Q26, Q27, Q28_1, Q28_2, Q28_3, Q28_4, Q29, Q30, Q31, Q32, Q32_10_TEXT, Q33, Q33_9_TEXT, Q34, Q35, Q36, Q37, Q38, Q39, Q39_10_TEXT, Q40, Q40_3_TEXT, lat, lon, score, stolen_bikes_place, country, city, state]\nIndex: []\n\n[0 rows x 86 columns]",
      "text/html": "<div>\n<style scoped>\n    .dataframe tbody tr th:only-of-type {\n        vertical-align: middle;\n    }\n\n    .dataframe tbody tr th {\n        vertical-align: top;\n    }\n\n    .dataframe thead th {\n        text-align: right;\n    }\n</style>\n<table border=\"1\" class=\"dataframe\">\n  <thead>\n    <tr style=\"text-align: right;\">\n      <th></th>\n      <th>level_0</th>\n      <th>Unnamed: 0.2</th>\n      <th>Unnamed: 0.1</th>\n      <th>Unnamed: 0</th>\n      <th>index</th>\n      <th>StartDate</th>\n      <th>EndDate</th>\n      <th>Status</th>\n      <th>IPAddress</th>\n      <th>Progress</th>\n      <th>...</th>\n      <th>Q39_10_TEXT</th>\n      <th>Q40</th>\n      <th>Q40_3_TEXT</th>\n      <th>lat</th>\n      <th>lon</th>\n      <th>score</th>\n      <th>stolen_bikes_place</th>\n      <th>country</th>\n      <th>city</th>\n      <th>state</th>\n    </tr>\n  </thead>\n  <tbody>\n  </tbody>\n</table>\n<p>0 rows × 86 columns</p>\n</div>"
     },
     "execution_count": 230,
     "metadata": {},
     "output_type": "execute_result"
    }
   ],
   "source": [
    "can[can['Q12']=='Yes']"
   ],
   "metadata": {
    "collapsed": false,
    "pycharm": {
     "name": "#%%\n"
    }
   }
  },
  {
   "cell_type": "code",
   "execution_count": 234,
   "outputs": [
    {
     "data": {
      "text/plain": "0       False\n3       False\n9       False\n11      False\n14      False\n        ...  \n1779    False\n1785    False\n1788    False\n1790    False\n1819    False\nName: Q12, Length: 338, dtype: bool"
     },
     "execution_count": 234,
     "metadata": {},
     "output_type": "execute_result"
    }
   ],
   "source": [
    "can['Q12']=='Yes'"
   ],
   "metadata": {
    "collapsed": false,
    "pycharm": {
     "name": "#%%\n"
    }
   }
  },
  {
   "cell_type": "code",
   "execution_count": 235,
   "outputs": [
    {
     "data": {
      "text/plain": "0       Don’t know/not sure \n3                       Yes \n9                       Yes \n11                      Yes \n14                      Yes \n                ...         \n1779                     No \n1785                     No \n1788                    Yes \n1790                     No \n1819                     No \nName: Q12, Length: 338, dtype: object"
     },
     "execution_count": 235,
     "metadata": {},
     "output_type": "execute_result"
    }
   ],
   "source": [
    "can['Q12']"
   ],
   "metadata": {
    "collapsed": false,
    "pycharm": {
     "name": "#%%\n"
    }
   }
  },
  {
   "cell_type": "code",
   "execution_count": null,
   "outputs": [],
   "source": [],
   "metadata": {
    "collapsed": false,
    "pycharm": {
     "name": "#%%\n"
    }
   }
  }
 ],
 "metadata": {
  "kernelspec": {
   "display_name": "Python 3",
   "language": "python",
   "name": "python3"
  },
  "language_info": {
   "codemirror_mode": {
    "name": "ipython",
    "version": 2
   },
   "file_extension": ".py",
   "mimetype": "text/x-python",
   "name": "python",
   "nbconvert_exporter": "python",
   "pygments_lexer": "ipython2",
   "version": "2.7.6"
  }
 },
 "nbformat": 4,
 "nbformat_minor": 0
}