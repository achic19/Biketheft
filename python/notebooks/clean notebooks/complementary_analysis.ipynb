{
 "cells": [
  {
   "cell_type": "code",
   "execution_count": 38,
   "outputs": [],
   "source": [
    "import pandas as pd\n",
    "from pandas import DataFrame\n",
    "import numpy as np\n",
    "import calendar\n",
    "from scipy.stats import chi2_contingency\n",
    "from IPython.display import display\n",
    "import os, re\n",
    "project_folder =os.path.dirname(os.path.dirname(os.path.dirname(os.getcwd())))"
   ],
   "metadata": {
    "collapsed": false,
    "pycharm": {
     "name": "#%%\n"
    }
   }
  },
  {
   "cell_type": "code",
   "execution_count": 3,
   "outputs": [],
   "source": [
    "data_general = pd.read_csv(f'{project_folder}/data/process/final_geo_coding.csv', skiprows=[1, 2]).reset_index()"
   ],
   "metadata": {
    "collapsed": false,
    "pycharm": {
     "name": "#%%\n"
    }
   }
  },
  {
   "cell_type": "code",
   "execution_count": 5,
   "outputs": [
    {
     "data": {
      "text/plain": "index                                                          0\nStartDate                                             Start Date\nEndDate                                                 End Date\nStatus                                             Response Type\nIPAddress                                             IP Address\n                                     ...                        \nQ38            What is the highest level of education you hav...\nQ39            What do you consider your main ethnic origin o...\nQ39_10_TEXT    What do you consider your main ethnic origin o...\nQ40            Where did you hear about this survey? - Select...\nQ40_3_TEXT     Where did you hear about this survey? - Other ...\nName: 0, Length: 75, dtype: object"
     },
     "execution_count": 5,
     "metadata": {},
     "output_type": "execute_result"
    }
   ],
   "source": [
    "# show the questions\n",
    "pd.read_csv(f'{project_folder}/data/process/new_data.csv', skiprows=[2]).reset_index().iloc[0]"
   ],
   "metadata": {
    "collapsed": false,
    "pycharm": {
     "name": "#%%\n"
    }
   }
  },
  {
   "cell_type": "code",
   "execution_count": 35,
   "outputs": [],
   "source": [
    "questions ={'Q2':'part','Q6':'day_time','Q7':'is_locked','Q8':'locked_type','Q9':'theft_location','Q10':'is_regi','Q11':'report_loc','Q12':'is_insured','Q13':'estimate_val','Q14':'is_electric','Q15':'bike_type','Q17':'is_university','Q19':'is_online','Q21':'is_police_assist','Q23':'recovery_loc','Q24':'con_recovery','Q34': 'birth', 'Q35': 'gender', 'Q36': 'income', 'Q38': 'education', 'Q39': 'ethnic_origin'}"
   ],
   "metadata": {
    "collapsed": false,
    "pycharm": {
     "name": "#%%\n"
    }
   }
  },
  {
   "cell_type": "code",
   "execution_count": 102,
   "outputs": [
    {
     "name": "stdout",
     "output_type": "stream",
     "text": [
      "part:                                                                                      count  \\\n",
      "Q2                                                                                            \n",
      "Entire bicycle (i.e., frame and components)                                            1782   \n",
      "A major bicycle part necessary for riding (i.e., saddle, wheel, pedal, or handlebar)     24   \n",
      "\n",
      "                                                                                     percentage  \n",
      "Q2                                                                                               \n",
      "Entire bicycle (i.e., frame and components)                                               98.7%  \n",
      "A major bicycle part necessary for riding (i.e., saddle, wheel, pedal, or handlebar)       1.3%  \n",
      "\n",
      "day_time:                         count percentage\n",
      "Q6                                       \n",
      "Overnight (00:00-05:59)    734      40.5%\n",
      "Afternoon (12:00-17:59)    356      19.6%\n",
      "Don’t know/not sure        328      18.1%\n",
      "Evening (18:00-23:59)      224      12.4%\n",
      "Morning (06:00-11:59)      171       9.4%\n",
      "\n",
      "is_locked:                                                           count percentage\n",
      "Q7                                                                         \n",
      "Yes, frame locked to a fixed structure (e.g., bike rack)   951.0      52.4%\n",
      "No, unlocked                                               712.0      39.2%\n",
      "Aggregated Responses                                       152.0       8.4%\n",
      "\n",
      "locked_type:                                                                                 count  \\\n",
      "Q8                                                                                       \n",
      "Cable lock                                                                       368.0   \n",
      "​U-lock                                                                          274.0   \n",
      "Chain-lock combination (chain with mini u-lock or integrated locking mechanism)   83.0   \n",
      "Aggregated Responses                                                             342.0   \n",
      "\n",
      "                                                                                percentage  \n",
      "Q8                                                                                          \n",
      "Cable lock                                                                           34.5%  \n",
      "​U-lock                                                                              25.7%  \n",
      "Chain-lock combination (chain with mini u-lock or integrated locking mechanism)       7.8%  \n",
      "Aggregated Responses                                                                 32.4%  \n",
      "\n",
      "theft_location:                                                       count percentage\n",
      "Q9                                                                     \n",
      "Inside a shed/garage                                   513.0      28.2%\n",
      "Outdoor bike rack                                      323.0      17.8%\n",
      "Other (please specify):                                271.0      14.9%\n",
      "Outside in the yard or on a balcony, porch, or patio   255.0      14.0%\n",
      "Parking garage bike rack/railing/pipe/etc.             147.0       8.1%\n",
      "Aggregated Responses                                   310.0      16.9%\n",
      "\n",
      "is_regi:                     count percentage\n",
      "Q10                                  \n",
      "No                    1124      61.8%\n",
      "Yes                    634      34.9%\n",
      "Don’t know/not sure     61       3.4%\n",
      "\n",
      "report_loc:                                                                                                                                             count  \\\n",
      "Q11                                                                                                                                                  \n",
      "The police ,A bicycle registry/recovery system (e.g., Bike Index, a university registration program),Social media (e.g. Instagram, Twitter)  619.0   \n",
      "The police ,A bicycle registry/recovery system (e.g., Bike Index, a university registration program)                                         533.0   \n",
      "The police                                                                                                                                   306.0   \n",
      "A bicycle registry/recovery system (e.g., Bike Index, a university registration program)                                                      97.0   \n",
      "Aggregated Responses                                                                                                                         264.0   \n",
      "\n",
      "                                                                                                                                            percentage  \n",
      "Q11                                                                                                                                                     \n",
      "The police ,A bicycle registry/recovery system (e.g., Bike Index, a university registration program),Social media (e.g. Instagram, Twitter)      34.0%  \n",
      "The police ,A bicycle registry/recovery system (e.g., Bike Index, a university registration program)                                             29.3%  \n",
      "The police                                                                                                                                       16.8%  \n",
      "A bicycle registry/recovery system (e.g., Bike Index, a university registration program)                                                          5.3%  \n",
      "Aggregated Responses                                                                                                                             14.5%  \n",
      "\n",
      "is_insured:                       count percentage\n",
      "Q12                                    \n",
      "No                    1083.0      59.6%\n",
      "Yes                    644.0      35.4%\n",
      "Aggregated Responses    91.0       5.0%\n",
      "\n",
      "estimate_val:                      count percentage\n",
      "Q13                                   \n",
      "$500-$999             521.0      28.6%\n",
      "$1000-$1999           431.0      23.7%\n",
      "$2000-3999            298.0      16.4%\n",
      "$250-$499             244.0      13.4%\n",
      "$4000-6999            147.0       8.1%\n",
      "Aggregated Responses  180.0       9.9%\n",
      "\n",
      "is_electric:                                                                                            count  \\\n",
      "Q14                                                                                                 \n",
      "​No                                                                                        1561.0   \n",
      "Yes, with pedal-assist and throttle (motor activates while pedalling or by throttle-only)   120.0   \n",
      "Aggregated Responses                                                                         97.0   \n",
      "\n",
      "                                                                                          percentage  \n",
      "Q14                                                                                                   \n",
      "​No                                                                                            87.8%  \n",
      "Yes, with pedal-assist and throttle (motor activates while pedalling or by throttle-only)       6.7%  \n",
      "Aggregated Responses                                                                            5.5%  \n",
      "\n",
      "bike_type:                      count percentage\n",
      "Q15                                   \n",
      "Hybrid/City/Dutch     544.0      30.6%\n",
      "Mountain              542.0      30.5%\n",
      "Road                  376.0      21.1%\n",
      "Gravel/cyclocross     109.0       6.1%\n",
      "Aggregated Responses  208.0      11.8%\n",
      "\n",
      "is_university:     count percentage\n",
      "Q17                  \n",
      "No    1572      86.5%\n",
      "Yes    246      13.5%\n",
      "\n",
      "is_online:                               count percentage\n",
      "Q19                                            \n",
      "​No                            166.0      59.3%\n",
      "Don’t know/not sure             37.0      13.2%\n",
      "Yes, on Facebook Marketplace    23.0       8.2%\n",
      "Aggregated Responses            54.0      19.2%\n",
      "\n",
      "is_police_assist:                              count percentage\n",
      "Q21                                           \n",
      "Yes, in-person support          109      38.9%\n",
      "​No                             103      36.8%\n",
      "Yes, phone or email support      68      24.3%\n",
      "\n",
      "recovery_loc:                                                             count percentage\n",
      "Q23                                                                          \n",
      "Residential zone (e.g., house, townhouse, apartment suite)   100.0      35.7%\n",
      "Other (please specify):                                       44.0      15.7%\n",
      "Local business/office/shopping district                       38.0      13.6%\n",
      "Don’t know/not sure                                           33.0      11.8%\n",
      "Downtown business/office/shopping district                    22.0       7.9%\n",
      "Aggregated Responses                                          43.0      15.3%\n",
      "\n",
      "con_recovery:                                                                                 count  \\\n",
      "Q24                                                                                      \n",
      "Rideable– bicycle was safe to operate and immediately usable                      63.0   \n",
      "Repairable– bicycle was damaged and repairs were required before being rideable   45.0   \n",
      "Aggregated Responses                                                              11.0   \n",
      "\n",
      "                                                                                percentage  \n",
      "Q24                                                                                         \n",
      "Rideable– bicycle was safe to operate and immediately usable                         52.9%  \n",
      "Repairable– bicycle was damaged and repairs were required before being rideable      37.8%  \n",
      "Aggregated Responses                                                                  9.2%  \n",
      "\n",
      "gender:                       count percentage\n",
      "Q35                                    \n",
      "Man                   1048.0      61.1%\n",
      "Woman                  610.0      35.6%\n",
      "Aggregated Responses    56.0       3.2%\n",
      "\n",
      "income:                                        count percentage\n",
      "Q36                                                     \n",
      "$200,000 or more per year               357.0      20.9%\n",
      "Between $100,000 and $149,999 per year  269.0      15.7%\n",
      "Between $75,000 and $99,999 per year    231.0      13.5%\n",
      "Between $50,000 and $74,999 per year    219.0      12.8%\n",
      "Between $150,000 and $199,999 per year  174.0      10.2%\n",
      "I prefer to not answer                  159.0       9.3%\n",
      "Aggregated Responses                    302.0      17.7%\n",
      "\n",
      "education:                                                                   count  \\\n",
      "Q38                                                                        \n",
      "Graduate degree (e.g., Master’s, Professional degree, Doctorate)   710.0   \n",
      "Bachelor’s degree (university 4-year degree)             \\t        663.0   \n",
      "Some university (no degree)                                        121.0   \n",
      "Aggregated Responses                                               221.0   \n",
      "\n",
      "                                                                  percentage  \n",
      "Q38                                                                           \n",
      "Graduate degree (e.g., Master’s, Professional degree, Doctorate)       41.4%  \n",
      "Bachelor’s degree (university 4-year degree)             \\t            38.7%  \n",
      "Some university (no degree)                                             7.1%  \n",
      "Aggregated Responses                                                   12.9%  \n",
      "\n",
      "ethnic_origin:                                                                        count  \\\n",
      "Q39                                                                             \n",
      "European (e.g., British Isles, German, French, Greek, Italian, etc.)   1260.0   \n",
      "Multi-ethnic (2+ ethnic groups)                                          98.0   \n",
      "Aggregated Responses                                                    346.0   \n",
      "\n",
      "                                                                      percentage  \n",
      "Q39                                                                               \n",
      "European (e.g., British Isles, German, French, Greek, Italian, etc.)       73.9%  \n",
      "Multi-ethnic (2+ ethnic groups)                                             5.8%  \n",
      "Aggregated Responses                                                       20.2%  \n",
      "\n"
     ]
    },
    {
     "name": "stderr",
     "output_type": "stream",
     "text": [
      "C:\\Users\\Achituv\\AppData\\Local\\Temp\\ipykernel_19912\\2199857159.py:17: SettingWithCopyWarning: \n",
      "A value is trying to be set on a copy of a slice from a DataFrame\n",
      "\n",
      "See the caveats in the documentation: https://pandas.pydata.org/pandas-docs/stable/user_guide/indexing.html#returning-a-view-versus-a-copy\n",
      "  table_new.loc['Aggregated Responses'] = round(table_aggregate.sum(),1)\n",
      "C:\\Users\\Achituv\\AppData\\Local\\Temp\\ipykernel_19912\\2199857159.py:23: SettingWithCopyWarning: \n",
      "A value is trying to be set on a copy of a slice from a DataFrame.\n",
      "Try using .loc[row_indexer,col_indexer] = value instead\n",
      "\n",
      "See the caveats in the documentation: https://pandas.pydata.org/pandas-docs/stable/user_guide/indexing.html#returning-a-view-versus-a-copy\n",
      "  table_new[percentage] = table_new[percentage].astype(str) + '%'\n",
      "C:\\Users\\Achituv\\AppData\\Local\\Temp\\ipykernel_19912\\2199857159.py:20: FutureWarning: The frame.append method is deprecated and will be removed from pandas in a future version. Use pandas.concat instead.\n",
      "  table_new = table_new.append(table_aggregate.iloc[0])\n",
      "C:\\Users\\Achituv\\AppData\\Local\\Temp\\ipykernel_19912\\2199857159.py:20: FutureWarning: The frame.append method is deprecated and will be removed from pandas in a future version. Use pandas.concat instead.\n",
      "  table_new = table_new.append(table_aggregate.iloc[0])\n",
      "C:\\Users\\Achituv\\AppData\\Local\\Temp\\ipykernel_19912\\2199857159.py:20: FutureWarning: The frame.append method is deprecated and will be removed from pandas in a future version. Use pandas.concat instead.\n",
      "  table_new = table_new.append(table_aggregate.iloc[0])\n",
      "C:\\Users\\Achituv\\AppData\\Local\\Temp\\ipykernel_19912\\2199857159.py:17: SettingWithCopyWarning: \n",
      "A value is trying to be set on a copy of a slice from a DataFrame\n",
      "\n",
      "See the caveats in the documentation: https://pandas.pydata.org/pandas-docs/stable/user_guide/indexing.html#returning-a-view-versus-a-copy\n",
      "  table_new.loc['Aggregated Responses'] = round(table_aggregate.sum(),1)\n",
      "C:\\Users\\Achituv\\AppData\\Local\\Temp\\ipykernel_19912\\2199857159.py:23: SettingWithCopyWarning: \n",
      "A value is trying to be set on a copy of a slice from a DataFrame.\n",
      "Try using .loc[row_indexer,col_indexer] = value instead\n",
      "\n",
      "See the caveats in the documentation: https://pandas.pydata.org/pandas-docs/stable/user_guide/indexing.html#returning-a-view-versus-a-copy\n",
      "  table_new[percentage] = table_new[percentage].astype(str) + '%'\n",
      "C:\\Users\\Achituv\\AppData\\Local\\Temp\\ipykernel_19912\\2199857159.py:20: FutureWarning: The frame.append method is deprecated and will be removed from pandas in a future version. Use pandas.concat instead.\n",
      "  table_new = table_new.append(table_aggregate.iloc[0])\n",
      "C:\\Users\\Achituv\\AppData\\Local\\Temp\\ipykernel_19912\\2199857159.py:20: FutureWarning: The frame.append method is deprecated and will be removed from pandas in a future version. Use pandas.concat instead.\n",
      "  table_new = table_new.append(table_aggregate.iloc[0])\n",
      "C:\\Users\\Achituv\\AppData\\Local\\Temp\\ipykernel_19912\\2199857159.py:20: FutureWarning: The frame.append method is deprecated and will be removed from pandas in a future version. Use pandas.concat instead.\n",
      "  table_new = table_new.append(table_aggregate.iloc[0])\n",
      "C:\\Users\\Achituv\\AppData\\Local\\Temp\\ipykernel_19912\\2199857159.py:20: FutureWarning: The frame.append method is deprecated and will be removed from pandas in a future version. Use pandas.concat instead.\n",
      "  table_new = table_new.append(table_aggregate.iloc[0])\n",
      "C:\\Users\\Achituv\\AppData\\Local\\Temp\\ipykernel_19912\\2199857159.py:20: FutureWarning: The frame.append method is deprecated and will be removed from pandas in a future version. Use pandas.concat instead.\n",
      "  table_new = table_new.append(table_aggregate.iloc[0])\n",
      "C:\\Users\\Achituv\\AppData\\Local\\Temp\\ipykernel_19912\\2199857159.py:17: SettingWithCopyWarning: \n",
      "A value is trying to be set on a copy of a slice from a DataFrame\n",
      "\n",
      "See the caveats in the documentation: https://pandas.pydata.org/pandas-docs/stable/user_guide/indexing.html#returning-a-view-versus-a-copy\n",
      "  table_new.loc['Aggregated Responses'] = round(table_aggregate.sum(),1)\n",
      "C:\\Users\\Achituv\\AppData\\Local\\Temp\\ipykernel_19912\\2199857159.py:23: SettingWithCopyWarning: \n",
      "A value is trying to be set on a copy of a slice from a DataFrame.\n",
      "Try using .loc[row_indexer,col_indexer] = value instead\n",
      "\n",
      "See the caveats in the documentation: https://pandas.pydata.org/pandas-docs/stable/user_guide/indexing.html#returning-a-view-versus-a-copy\n",
      "  table_new[percentage] = table_new[percentage].astype(str) + '%'\n",
      "C:\\Users\\Achituv\\AppData\\Local\\Temp\\ipykernel_19912\\2199857159.py:17: SettingWithCopyWarning: \n",
      "A value is trying to be set on a copy of a slice from a DataFrame\n",
      "\n",
      "See the caveats in the documentation: https://pandas.pydata.org/pandas-docs/stable/user_guide/indexing.html#returning-a-view-versus-a-copy\n",
      "  table_new.loc['Aggregated Responses'] = round(table_aggregate.sum(),1)\n",
      "C:\\Users\\Achituv\\AppData\\Local\\Temp\\ipykernel_19912\\2199857159.py:23: SettingWithCopyWarning: \n",
      "A value is trying to be set on a copy of a slice from a DataFrame.\n",
      "Try using .loc[row_indexer,col_indexer] = value instead\n",
      "\n",
      "See the caveats in the documentation: https://pandas.pydata.org/pandas-docs/stable/user_guide/indexing.html#returning-a-view-versus-a-copy\n",
      "  table_new[percentage] = table_new[percentage].astype(str) + '%'\n",
      "C:\\Users\\Achituv\\AppData\\Local\\Temp\\ipykernel_19912\\2199857159.py:20: FutureWarning: The frame.append method is deprecated and will be removed from pandas in a future version. Use pandas.concat instead.\n",
      "  table_new = table_new.append(table_aggregate.iloc[0])\n",
      "C:\\Users\\Achituv\\AppData\\Local\\Temp\\ipykernel_19912\\2199857159.py:20: FutureWarning: The frame.append method is deprecated and will be removed from pandas in a future version. Use pandas.concat instead.\n",
      "  table_new = table_new.append(table_aggregate.iloc[0])\n",
      "C:\\Users\\Achituv\\AppData\\Local\\Temp\\ipykernel_19912\\2199857159.py:20: FutureWarning: The frame.append method is deprecated and will be removed from pandas in a future version. Use pandas.concat instead.\n",
      "  table_new = table_new.append(table_aggregate.iloc[0])\n"
     ]
    }
   ],
   "source": [
    "percentage = 'percentage'\n",
    "for pair in questions.items():\n",
    "\n",
    "    # statistic by count (display also by percentage)\n",
    "    question = pair[0]\n",
    "    # later code for birth year\n",
    "    if question =='Q34':\n",
    "        continue\n",
    "    table = DataFrame(data_general.groupby(question).count()['level_0'].sort_values(ascending=False).rename('count'))\n",
    "    table[percentage] = round(table['count']/table['count'].sum()*100,1)\n",
    "    # Aggregate responses type with less than 10 responses\n",
    "    table_aggregate = table[table[percentage]<10]\n",
    "    table_new = table.copy()\n",
    "    if len(table_aggregate)>1:\n",
    "        table_new =table[table[percentage]>10]\n",
    "        if table_aggregate[percentage].sum()<10:\n",
    "            table_new.loc['Aggregated Responses'] = round(table_aggregate.sum(),1)\n",
    "        else:\n",
    "            # If the aggregate percentage is more than 10 take some out\n",
    "            table_new = table_new.append(table_aggregate.iloc[0])\n",
    "            table_new.loc['Aggregated Responses'] = round(table_aggregate.iloc[1:].sum(),1)\n",
    "\n",
    "    table_new[percentage] = table_new[percentage].astype(str) + '%'\n",
    "    print(f'{pair[1]}:{table_new}\\n')\n"
   ],
   "metadata": {
    "collapsed": false,
    "pycharm": {
     "name": "#%%\n"
    }
   }
  },
  {
   "cell_type": "code",
   "execution_count": 112,
   "outputs": [],
   "source": [
    "def get_the_highest(table_updated, table_to_agg):\n",
    "    if table_to_agg[percentage].sum()<10:\n",
    "        table_updated.loc['Aggregated Responses'] = round(table_to_agg.sum(), 1)\n",
    "        return table_updated\n",
    "    else:\n",
    "        table_updated = table_updated.append(table_to_agg.iloc[0])\n",
    "        return get_the_highest(table_updated, table_to_agg.iloc[1:])\n"
   ],
   "metadata": {
    "collapsed": false,
    "pycharm": {
     "name": "#%%\n"
    }
   }
  },
  {
   "cell_type": "code",
   "execution_count": 123,
   "outputs": [],
   "source": [
    "def sub_aggregate_def(indices:list,j,sum):\n",
    "    temp_sum = sub_aggregate.iloc[j][percentage] +sum\n",
    "    if sum>10:\n",
    "        return indices\n",
    "    else:\n",
    "        indices.append(j)\n",
    "        sub_aggregate_def(indices,j+1,temp_sum)"
   ],
   "metadata": {
    "collapsed": false,
    "pycharm": {
     "name": "#%%\n"
    }
   }
  },
  {
   "cell_type": "code",
   "execution_count": 124,
   "outputs": [
    {
     "name": "stderr",
     "output_type": "stream",
     "text": [
      "C:\\Users\\Achituv\\AppData\\Local\\Temp\\ipykernel_19912\\3194428247.py:6: FutureWarning: The frame.append method is deprecated and will be removed from pandas in a future version. Use pandas.concat instead.\n",
      "  table_updated = table_updated.append(table_to_agg.iloc[0])\n",
      "C:\\Users\\Achituv\\AppData\\Local\\Temp\\ipykernel_19912\\3194428247.py:6: FutureWarning: The frame.append method is deprecated and will be removed from pandas in a future version. Use pandas.concat instead.\n",
      "  table_updated = table_updated.append(table_to_agg.iloc[0])\n",
      "C:\\Users\\Achituv\\AppData\\Local\\Temp\\ipykernel_19912\\3194428247.py:6: FutureWarning: The frame.append method is deprecated and will be removed from pandas in a future version. Use pandas.concat instead.\n",
      "  table_updated = table_updated.append(table_to_agg.iloc[0])\n",
      "C:\\Users\\Achituv\\AppData\\Local\\Temp\\ipykernel_19912\\3194428247.py:6: FutureWarning: The frame.append method is deprecated and will be removed from pandas in a future version. Use pandas.concat instead.\n",
      "  table_updated = table_updated.append(table_to_agg.iloc[0])\n",
      "C:\\Users\\Achituv\\AppData\\Local\\Temp\\ipykernel_19912\\3194428247.py:6: FutureWarning: The frame.append method is deprecated and will be removed from pandas in a future version. Use pandas.concat instead.\n",
      "  table_updated = table_updated.append(table_to_agg.iloc[0])\n",
      "C:\\Users\\Achituv\\AppData\\Local\\Temp\\ipykernel_19912\\3194428247.py:6: FutureWarning: The frame.append method is deprecated and will be removed from pandas in a future version. Use pandas.concat instead.\n",
      "  table_updated = table_updated.append(table_to_agg.iloc[0])\n",
      "C:\\Users\\Achituv\\AppData\\Local\\Temp\\ipykernel_19912\\3194428247.py:6: FutureWarning: The frame.append method is deprecated and will be removed from pandas in a future version. Use pandas.concat instead.\n",
      "  table_updated = table_updated.append(table_to_agg.iloc[0])\n",
      "C:\\Users\\Achituv\\AppData\\Local\\Temp\\ipykernel_19912\\3194428247.py:6: FutureWarning: The frame.append method is deprecated and will be removed from pandas in a future version. Use pandas.concat instead.\n",
      "  table_updated = table_updated.append(table_to_agg.iloc[0])\n",
      "C:\\Users\\Achituv\\AppData\\Local\\Temp\\ipykernel_19912\\3194428247.py:6: FutureWarning: The frame.append method is deprecated and will be removed from pandas in a future version. Use pandas.concat instead.\n",
      "  table_updated = table_updated.append(table_to_agg.iloc[0])\n"
     ]
    },
    {
     "ename": "TypeError",
     "evalue": "Cannot index by location index with a non-integer key",
     "output_type": "error",
     "traceback": [
      "\u001B[1;31m---------------------------------------------------------------------------\u001B[0m",
      "\u001B[1;31mTypeError\u001B[0m                                 Traceback (most recent call last)",
      "Cell \u001B[1;32mIn [124], line 21\u001B[0m\n\u001B[0;32m     19\u001B[0m \u001B[38;5;28;01mwhile\u001B[39;00m i\u001B[38;5;241m<\u001B[39m\u001B[38;5;28mlen\u001B[39m(sub_aggregate):\n\u001B[0;32m     20\u001B[0m     indices \u001B[38;5;241m=\u001B[39m sub_aggregate_def([i],i\u001B[38;5;241m+\u001B[39m\u001B[38;5;241m1\u001B[39m,sub_aggregate\u001B[38;5;241m.\u001B[39miloc[i][percentage])\n\u001B[1;32m---> 21\u001B[0m     table_new\u001B[38;5;241m.\u001B[39mappend(\u001B[43msub_aggregate\u001B[49m\u001B[38;5;241;43m.\u001B[39;49m\u001B[43miloc\u001B[49m\u001B[43m[\u001B[49m\u001B[43mindices\u001B[49m\u001B[43m]\u001B[49m)\n\u001B[0;32m     22\u001B[0m     i \u001B[38;5;241m=\u001B[39m indices[\u001B[38;5;241m-\u001B[39m\u001B[38;5;241m1\u001B[39m]\u001B[38;5;241m+\u001B[39m\u001B[38;5;241m1\u001B[39m\n\u001B[0;32m     23\u001B[0m table_new\u001B[38;5;241m.\u001B[39mappend(table_add\u001B[38;5;241m.\u001B[39miloc[\u001B[38;5;241m-\u001B[39m\u001B[38;5;241m1\u001B[39m])\n",
      "File \u001B[1;32m~\\anaconda3\\envs\\ox\\lib\\site-packages\\pandas\\core\\indexing.py:1074\u001B[0m, in \u001B[0;36m_LocationIndexer.__getitem__\u001B[1;34m(self, key)\u001B[0m\n\u001B[0;32m   1071\u001B[0m axis \u001B[38;5;241m=\u001B[39m \u001B[38;5;28mself\u001B[39m\u001B[38;5;241m.\u001B[39maxis \u001B[38;5;129;01mor\u001B[39;00m \u001B[38;5;241m0\u001B[39m\n\u001B[0;32m   1073\u001B[0m maybe_callable \u001B[38;5;241m=\u001B[39m com\u001B[38;5;241m.\u001B[39mapply_if_callable(key, \u001B[38;5;28mself\u001B[39m\u001B[38;5;241m.\u001B[39mobj)\n\u001B[1;32m-> 1074\u001B[0m \u001B[38;5;28;01mreturn\u001B[39;00m \u001B[38;5;28;43mself\u001B[39;49m\u001B[38;5;241;43m.\u001B[39;49m\u001B[43m_getitem_axis\u001B[49m\u001B[43m(\u001B[49m\u001B[43mmaybe_callable\u001B[49m\u001B[43m,\u001B[49m\u001B[43m \u001B[49m\u001B[43maxis\u001B[49m\u001B[38;5;241;43m=\u001B[39;49m\u001B[43maxis\u001B[49m\u001B[43m)\u001B[49m\n",
      "File \u001B[1;32m~\\anaconda3\\envs\\ox\\lib\\site-packages\\pandas\\core\\indexing.py:1623\u001B[0m, in \u001B[0;36m_iLocIndexer._getitem_axis\u001B[1;34m(self, key, axis)\u001B[0m\n\u001B[0;32m   1621\u001B[0m key \u001B[38;5;241m=\u001B[39m item_from_zerodim(key)\n\u001B[0;32m   1622\u001B[0m \u001B[38;5;28;01mif\u001B[39;00m \u001B[38;5;129;01mnot\u001B[39;00m is_integer(key):\n\u001B[1;32m-> 1623\u001B[0m     \u001B[38;5;28;01mraise\u001B[39;00m \u001B[38;5;167;01mTypeError\u001B[39;00m(\u001B[38;5;124m\"\u001B[39m\u001B[38;5;124mCannot index by location index with a non-integer key\u001B[39m\u001B[38;5;124m\"\u001B[39m)\n\u001B[0;32m   1625\u001B[0m \u001B[38;5;66;03m# validate the location\u001B[39;00m\n\u001B[0;32m   1626\u001B[0m \u001B[38;5;28mself\u001B[39m\u001B[38;5;241m.\u001B[39m_validate_integer(key, axis)\n",
      "\u001B[1;31mTypeError\u001B[0m: Cannot index by location index with a non-integer key"
     ]
    }
   ],
   "source": [
    "pair = ('Q8','estimate_val')\n",
    "percentage = 'percentage'\n",
    "question = pair[0]\n",
    "\n",
    "# later code for birth year\n",
    "\n",
    "table = DataFrame(data_general.groupby(question).count()['level_0'].sort_values(ascending=False).rename('count'))\n",
    "\n",
    "table[percentage] = round(table['count']/table['count'].sum()*100,1)\n",
    "# Aggregate responses type with less than 10 responses\n",
    "table_aggregate = table[table[percentage]<10]\n",
    "table_new = table.copy()\n",
    "if len(table_aggregate)>1:\n",
    "    table_new =table[table[percentage]>10]\n",
    "    table_add = get_the_highest(DataFrame(),table_aggregate)\n",
    "    if len(table_add)>2:\n",
    "        sub_aggregate = table_add.iloc[:-1].sort_values(by=percentage)\n",
    "        i =0\n",
    "        while i<len(sub_aggregate):\n",
    "            indices = sub_aggregate_def([i],i+1,sub_aggregate.iloc[i][percentage])\n",
    "            table_new.append(sub_aggregate.iloc[indices])\n",
    "            i = indices[-1]+1\n",
    "        table_new.append(table_add.iloc[-1])\n",
    "    else:\n",
    "        table_new = table_new.append(table_add)\n",
    "    # if table_aggregate[percentage].sum()<10:\n",
    "    #     table_new.loc['Aggregated Responses'] = round(table_aggregate.sum(),1)\n",
    "    # else:\n",
    "    #     table_new = table_new.append(table_aggregate.iloc[0])\n",
    "    #     table_new.loc['Aggregated Responses'] = round(table_aggregate.iloc[1:].sum(),1)\n",
    "\n",
    "\n",
    "\n",
    "table_new[percentage] = table_new[percentage].astype(str) + '%'\n",
    "table_new\n",
    "\n"
   ],
   "metadata": {
    "collapsed": false,
    "pycharm": {
     "name": "#%%\n"
    }
   }
  },
  {
   "cell_type": "code",
   "execution_count": 134,
   "outputs": [
    {
     "data": {
      "text/plain": "                                     count  percentage\nTwo U-Locks                           14.0         1.3\nCable lock ,Other (please specify):   16.0         1.5",
      "text/html": "<div>\n<style scoped>\n    .dataframe tbody tr th:only-of-type {\n        vertical-align: middle;\n    }\n\n    .dataframe tbody tr th {\n        vertical-align: top;\n    }\n\n    .dataframe thead th {\n        text-align: right;\n    }\n</style>\n<table border=\"1\" class=\"dataframe\">\n  <thead>\n    <tr style=\"text-align: right;\">\n      <th></th>\n      <th>count</th>\n      <th>percentage</th>\n    </tr>\n  </thead>\n  <tbody>\n    <tr>\n      <th>Two U-Locks</th>\n      <td>14.0</td>\n      <td>1.3</td>\n    </tr>\n    <tr>\n      <th>Cable lock ,Other (please specify):</th>\n      <td>16.0</td>\n      <td>1.5</td>\n    </tr>\n  </tbody>\n</table>\n</div>"
     },
     "execution_count": 134,
     "metadata": {},
     "output_type": "execute_result"
    }
   ],
   "source": [
    "sub_aggregate.iloc[[1,2]]"
   ],
   "metadata": {
    "collapsed": false,
    "pycharm": {
     "name": "#%%\n"
    }
   }
  },
  {
   "cell_type": "code",
   "execution_count": 135,
   "outputs": [
    {
     "data": {
      "text/plain": "                                                                                                                                     count  \\\nQ8                                                                                                                                           \nChain-lock combination (chain with mini u-lock or integrated locking mechanism)                                                         83   \nOther (please specify):                                                                                                                 71   \n​U-lock      ,Cable lock                                                                                                                50   \nChain-lock with padlock                                                                                                                 47   \nFolding lock                                                                                                                            24   \n​U-lock      ,Chain-lock combination (chain with mini u-lock or integrated locking mechanism)                                           17   \nCable lock ,Other (please specify):                                                                                                     16   \nTwo U-Locks                                                                                                                             14   \n​U-lock      ,Locking skewers                                                                                                           11   \n​U-lock      ,Other (please specify):                                                                                                    8   \nFrame lock (aka wheel lock/O-lock/ring lock)                                                                                             8   \nChain-lock combination (chain with mini u-lock or integrated locking mechanism),Cable lock                                               6   \nChain-lock with padlock ,Cable lock                                                                                                      6   \nTwo U-Locks ,Cable lock                                                                                                                  4   \n​U-lock      ,Chain-lock with padlock                                                                                                    4   \nCable lock ,Frame lock (aka wheel lock/O-lock/ring lock)                                                                                 3   \nLocking skewers ,Cable lock                                                                                                              3   \nDon’t know/not sure                                                                                                                      3   \nChain-lock with padlock ,Frame lock (aka wheel lock/O-lock/ring lock)                                                                    3   \nChain-lock combination (chain with mini u-lock or integrated locking mechanism),Other (please specify):                                  3   \nChain-lock with padlock ,Cable lock ,Other (please specify):                                                                             2   \nOther (please specify):,Don’t know/not sure                                                                                              2   \n​U-lock      ,Cable lock ,Other (please specify):                                                                                        2   \nTwo U-Locks ,Chain-lock combination (chain with mini u-lock or integrated locking mechanism)                                             2   \nChain-lock combination (chain with mini u-lock or integrated locking mechanism),Frame lock (aka wheel lock/O-lock/ring lock)             2   \nFolding lock ,Frame lock (aka wheel lock/O-lock/ring lock)                                                                               2   \nLocking skewers ,Folding lock                                                                                                            2   \n​U-lock      ,Chain-lock combination (chain with mini u-lock or integrated locking mechanism),Cable lock ,Folding lock                   1   \n​U-lock      ,Two U-Locks ,Chain-lock combination (chain with mini u-lock or integrated locking mechanism),Chain-lock with padlock       1   \n​U-lock      ,Folding lock ,Other (please specify):                                                                                      1   \n​U-lock      ,Chain-lock combination (chain with mini u-lock or integrated locking mechanism),Cable lock ,Other (please specify):        1   \n​U-lock      ,Frame lock (aka wheel lock/O-lock/ring lock)                                                                               1   \n​U-lock      ,Folding lock                                                                                                               1   \n​U-lock      ,Chain-lock with padlock ,Cable lock                                                                                        1   \n​U-lock      ,Cable lock ,Frame lock (aka wheel lock/O-lock/ring lock)                                                                   1   \n​U-lock      ,Don’t know/not sure                                                                                                        1   \nLocking skewers ,Other (please specify):                                                                                                 1   \nTwo U-Locks ,Other (please specify):                                                                                                     1   \nChain-lock with padlock ,Other (please specify):                                                                                         1   \nChain-lock combination (chain with mini u-lock or integrated locking mechanism),Cable lock ,Other (please specify):                      1   \nChain-lock combination (chain with mini u-lock or integrated locking mechanism),Chain-lock with padlock                                  1   \nChain-lock combination (chain with mini u-lock or integrated locking mechanism),Chain-lock with padlock ,Cable lock                      1   \nChain-lock combination (chain with mini u-lock or integrated locking mechanism),Folding lock                                             1   \nChain-lock with padlock ,Folding lock                                                                                                    1   \nChain-lock with padlock ,Locking skewers                                                                                                 1   \nFolding lock ,Other (please specify):                                                                                                    1   \nTwo U-Locks ,Chain-lock with padlock ,Folding lock ,Other (please specify):                                                              1   \nFolding lock ,Other (please specify):,Don’t know/not sure                                                                                1   \nLocking skewers                                                                                                                          1   \nCable lock ,Don’t know/not sure                                                                                                          1   \nTwo U-Locks ,Cable lock ,Other (please specify):                                                                                         1   \nTwo U-Locks ,Chain-lock combination (chain with mini u-lock or integrated locking mechanism),Cable lock                                  1   \nTwo U-Locks ,Chain-lock with padlock                                                                                                     1   \n​U-lock      ,Two U-Locks ,Chain-lock with padlock                                                                                       1   \n\n                                                                                                                                     percentage  \nQ8                                                                                                                                               \nChain-lock combination (chain with mini u-lock or integrated locking mechanism)                                                             7.8  \nOther (please specify):                                                                                                                     6.7  \n​U-lock      ,Cable lock                                                                                                                    4.7  \nChain-lock with padlock                                                                                                                     4.4  \nFolding lock                                                                                                                                2.2  \n​U-lock      ,Chain-lock combination (chain with mini u-lock or integrated locking mechanism)                                               1.6  \nCable lock ,Other (please specify):                                                                                                         1.5  \nTwo U-Locks                                                                                                                                 1.3  \n​U-lock      ,Locking skewers                                                                                                               1.0  \n​U-lock      ,Other (please specify):                                                                                                       0.7  \nFrame lock (aka wheel lock/O-lock/ring lock)                                                                                                0.7  \nChain-lock combination (chain with mini u-lock or integrated locking mechanism),Cable lock                                                  0.6  \nChain-lock with padlock ,Cable lock                                                                                                         0.6  \nTwo U-Locks ,Cable lock                                                                                                                     0.4  \n​U-lock      ,Chain-lock with padlock                                                                                                       0.4  \nCable lock ,Frame lock (aka wheel lock/O-lock/ring lock)                                                                                    0.3  \nLocking skewers ,Cable lock                                                                                                                 0.3  \nDon’t know/not sure                                                                                                                         0.3  \nChain-lock with padlock ,Frame lock (aka wheel lock/O-lock/ring lock)                                                                       0.3  \nChain-lock combination (chain with mini u-lock or integrated locking mechanism),Other (please specify):                                     0.3  \nChain-lock with padlock ,Cable lock ,Other (please specify):                                                                                0.2  \nOther (please specify):,Don’t know/not sure                                                                                                 0.2  \n​U-lock      ,Cable lock ,Other (please specify):                                                                                           0.2  \nTwo U-Locks ,Chain-lock combination (chain with mini u-lock or integrated locking mechanism)                                                0.2  \nChain-lock combination (chain with mini u-lock or integrated locking mechanism),Frame lock (aka wheel lock/O-lock/ring lock)                0.2  \nFolding lock ,Frame lock (aka wheel lock/O-lock/ring lock)                                                                                  0.2  \nLocking skewers ,Folding lock                                                                                                               0.2  \n​U-lock      ,Chain-lock combination (chain with mini u-lock or integrated locking mechanism),Cable lock ,Folding lock                      0.1  \n​U-lock      ,Two U-Locks ,Chain-lock combination (chain with mini u-lock or integrated locking mechanism),Chain-lock with padlock          0.1  \n​U-lock      ,Folding lock ,Other (please specify):                                                                                         0.1  \n​U-lock      ,Chain-lock combination (chain with mini u-lock or integrated locking mechanism),Cable lock ,Other (please specify):           0.1  \n​U-lock      ,Frame lock (aka wheel lock/O-lock/ring lock)                                                                                  0.1  \n​U-lock      ,Folding lock                                                                                                                  0.1  \n​U-lock      ,Chain-lock with padlock ,Cable lock                                                                                           0.1  \n​U-lock      ,Cable lock ,Frame lock (aka wheel lock/O-lock/ring lock)                                                                      0.1  \n​U-lock      ,Don’t know/not sure                                                                                                           0.1  \nLocking skewers ,Other (please specify):                                                                                                    0.1  \nTwo U-Locks ,Other (please specify):                                                                                                        0.1  \nChain-lock with padlock ,Other (please specify):                                                                                            0.1  \nChain-lock combination (chain with mini u-lock or integrated locking mechanism),Cable lock ,Other (please specify):                         0.1  \nChain-lock combination (chain with mini u-lock or integrated locking mechanism),Chain-lock with padlock                                     0.1  \nChain-lock combination (chain with mini u-lock or integrated locking mechanism),Chain-lock with padlock ,Cable lock                         0.1  \nChain-lock combination (chain with mini u-lock or integrated locking mechanism),Folding lock                                                0.1  \nChain-lock with padlock ,Folding lock                                                                                                       0.1  \nChain-lock with padlock ,Locking skewers                                                                                                    0.1  \nFolding lock ,Other (please specify):                                                                                                       0.1  \nTwo U-Locks ,Chain-lock with padlock ,Folding lock ,Other (please specify):                                                                 0.1  \nFolding lock ,Other (please specify):,Don’t know/not sure                                                                                   0.1  \nLocking skewers                                                                                                                             0.1  \nCable lock ,Don’t know/not sure                                                                                                             0.1  \nTwo U-Locks ,Cable lock ,Other (please specify):                                                                                            0.1  \nTwo U-Locks ,Chain-lock combination (chain with mini u-lock or integrated locking mechanism),Cable lock                                     0.1  \nTwo U-Locks ,Chain-lock with padlock                                                                                                        0.1  \n​U-lock      ,Two U-Locks ,Chain-lock with padlock                                                                                          0.1  ",
      "text/html": "<div>\n<style scoped>\n    .dataframe tbody tr th:only-of-type {\n        vertical-align: middle;\n    }\n\n    .dataframe tbody tr th {\n        vertical-align: top;\n    }\n\n    .dataframe thead th {\n        text-align: right;\n    }\n</style>\n<table border=\"1\" class=\"dataframe\">\n  <thead>\n    <tr style=\"text-align: right;\">\n      <th></th>\n      <th>count</th>\n      <th>percentage</th>\n    </tr>\n    <tr>\n      <th>Q8</th>\n      <th></th>\n      <th></th>\n    </tr>\n  </thead>\n  <tbody>\n    <tr>\n      <th>Chain-lock combination (chain with mini u-lock or integrated locking mechanism)</th>\n      <td>83</td>\n      <td>7.8</td>\n    </tr>\n    <tr>\n      <th>Other (please specify):</th>\n      <td>71</td>\n      <td>6.7</td>\n    </tr>\n    <tr>\n      <th>​U-lock      ,Cable lock</th>\n      <td>50</td>\n      <td>4.7</td>\n    </tr>\n    <tr>\n      <th>Chain-lock with padlock</th>\n      <td>47</td>\n      <td>4.4</td>\n    </tr>\n    <tr>\n      <th>Folding lock</th>\n      <td>24</td>\n      <td>2.2</td>\n    </tr>\n    <tr>\n      <th>​U-lock      ,Chain-lock combination (chain with mini u-lock or integrated locking mechanism)</th>\n      <td>17</td>\n      <td>1.6</td>\n    </tr>\n    <tr>\n      <th>Cable lock ,Other (please specify):</th>\n      <td>16</td>\n      <td>1.5</td>\n    </tr>\n    <tr>\n      <th>Two U-Locks</th>\n      <td>14</td>\n      <td>1.3</td>\n    </tr>\n    <tr>\n      <th>​U-lock      ,Locking skewers</th>\n      <td>11</td>\n      <td>1.0</td>\n    </tr>\n    <tr>\n      <th>​U-lock      ,Other (please specify):</th>\n      <td>8</td>\n      <td>0.7</td>\n    </tr>\n    <tr>\n      <th>Frame lock (aka wheel lock/O-lock/ring lock)</th>\n      <td>8</td>\n      <td>0.7</td>\n    </tr>\n    <tr>\n      <th>Chain-lock combination (chain with mini u-lock or integrated locking mechanism),Cable lock</th>\n      <td>6</td>\n      <td>0.6</td>\n    </tr>\n    <tr>\n      <th>Chain-lock with padlock ,Cable lock</th>\n      <td>6</td>\n      <td>0.6</td>\n    </tr>\n    <tr>\n      <th>Two U-Locks ,Cable lock</th>\n      <td>4</td>\n      <td>0.4</td>\n    </tr>\n    <tr>\n      <th>​U-lock      ,Chain-lock with padlock</th>\n      <td>4</td>\n      <td>0.4</td>\n    </tr>\n    <tr>\n      <th>Cable lock ,Frame lock (aka wheel lock/O-lock/ring lock)</th>\n      <td>3</td>\n      <td>0.3</td>\n    </tr>\n    <tr>\n      <th>Locking skewers ,Cable lock</th>\n      <td>3</td>\n      <td>0.3</td>\n    </tr>\n    <tr>\n      <th>Don’t know/not sure</th>\n      <td>3</td>\n      <td>0.3</td>\n    </tr>\n    <tr>\n      <th>Chain-lock with padlock ,Frame lock (aka wheel lock/O-lock/ring lock)</th>\n      <td>3</td>\n      <td>0.3</td>\n    </tr>\n    <tr>\n      <th>Chain-lock combination (chain with mini u-lock or integrated locking mechanism),Other (please specify):</th>\n      <td>3</td>\n      <td>0.3</td>\n    </tr>\n    <tr>\n      <th>Chain-lock with padlock ,Cable lock ,Other (please specify):</th>\n      <td>2</td>\n      <td>0.2</td>\n    </tr>\n    <tr>\n      <th>Other (please specify):,Don’t know/not sure</th>\n      <td>2</td>\n      <td>0.2</td>\n    </tr>\n    <tr>\n      <th>​U-lock      ,Cable lock ,Other (please specify):</th>\n      <td>2</td>\n      <td>0.2</td>\n    </tr>\n    <tr>\n      <th>Two U-Locks ,Chain-lock combination (chain with mini u-lock or integrated locking mechanism)</th>\n      <td>2</td>\n      <td>0.2</td>\n    </tr>\n    <tr>\n      <th>Chain-lock combination (chain with mini u-lock or integrated locking mechanism),Frame lock (aka wheel lock/O-lock/ring lock)</th>\n      <td>2</td>\n      <td>0.2</td>\n    </tr>\n    <tr>\n      <th>Folding lock ,Frame lock (aka wheel lock/O-lock/ring lock)</th>\n      <td>2</td>\n      <td>0.2</td>\n    </tr>\n    <tr>\n      <th>Locking skewers ,Folding lock</th>\n      <td>2</td>\n      <td>0.2</td>\n    </tr>\n    <tr>\n      <th>​U-lock      ,Chain-lock combination (chain with mini u-lock or integrated locking mechanism),Cable lock ,Folding lock</th>\n      <td>1</td>\n      <td>0.1</td>\n    </tr>\n    <tr>\n      <th>​U-lock      ,Two U-Locks ,Chain-lock combination (chain with mini u-lock or integrated locking mechanism),Chain-lock with padlock</th>\n      <td>1</td>\n      <td>0.1</td>\n    </tr>\n    <tr>\n      <th>​U-lock      ,Folding lock ,Other (please specify):</th>\n      <td>1</td>\n      <td>0.1</td>\n    </tr>\n    <tr>\n      <th>​U-lock      ,Chain-lock combination (chain with mini u-lock or integrated locking mechanism),Cable lock ,Other (please specify):</th>\n      <td>1</td>\n      <td>0.1</td>\n    </tr>\n    <tr>\n      <th>​U-lock      ,Frame lock (aka wheel lock/O-lock/ring lock)</th>\n      <td>1</td>\n      <td>0.1</td>\n    </tr>\n    <tr>\n      <th>​U-lock      ,Folding lock</th>\n      <td>1</td>\n      <td>0.1</td>\n    </tr>\n    <tr>\n      <th>​U-lock      ,Chain-lock with padlock ,Cable lock</th>\n      <td>1</td>\n      <td>0.1</td>\n    </tr>\n    <tr>\n      <th>​U-lock      ,Cable lock ,Frame lock (aka wheel lock/O-lock/ring lock)</th>\n      <td>1</td>\n      <td>0.1</td>\n    </tr>\n    <tr>\n      <th>​U-lock      ,Don’t know/not sure</th>\n      <td>1</td>\n      <td>0.1</td>\n    </tr>\n    <tr>\n      <th>Locking skewers ,Other (please specify):</th>\n      <td>1</td>\n      <td>0.1</td>\n    </tr>\n    <tr>\n      <th>Two U-Locks ,Other (please specify):</th>\n      <td>1</td>\n      <td>0.1</td>\n    </tr>\n    <tr>\n      <th>Chain-lock with padlock ,Other (please specify):</th>\n      <td>1</td>\n      <td>0.1</td>\n    </tr>\n    <tr>\n      <th>Chain-lock combination (chain with mini u-lock or integrated locking mechanism),Cable lock ,Other (please specify):</th>\n      <td>1</td>\n      <td>0.1</td>\n    </tr>\n    <tr>\n      <th>Chain-lock combination (chain with mini u-lock or integrated locking mechanism),Chain-lock with padlock</th>\n      <td>1</td>\n      <td>0.1</td>\n    </tr>\n    <tr>\n      <th>Chain-lock combination (chain with mini u-lock or integrated locking mechanism),Chain-lock with padlock ,Cable lock</th>\n      <td>1</td>\n      <td>0.1</td>\n    </tr>\n    <tr>\n      <th>Chain-lock combination (chain with mini u-lock or integrated locking mechanism),Folding lock</th>\n      <td>1</td>\n      <td>0.1</td>\n    </tr>\n    <tr>\n      <th>Chain-lock with padlock ,Folding lock</th>\n      <td>1</td>\n      <td>0.1</td>\n    </tr>\n    <tr>\n      <th>Chain-lock with padlock ,Locking skewers</th>\n      <td>1</td>\n      <td>0.1</td>\n    </tr>\n    <tr>\n      <th>Folding lock ,Other (please specify):</th>\n      <td>1</td>\n      <td>0.1</td>\n    </tr>\n    <tr>\n      <th>Two U-Locks ,Chain-lock with padlock ,Folding lock ,Other (please specify):</th>\n      <td>1</td>\n      <td>0.1</td>\n    </tr>\n    <tr>\n      <th>Folding lock ,Other (please specify):,Don’t know/not sure</th>\n      <td>1</td>\n      <td>0.1</td>\n    </tr>\n    <tr>\n      <th>Locking skewers</th>\n      <td>1</td>\n      <td>0.1</td>\n    </tr>\n    <tr>\n      <th>Cable lock ,Don’t know/not sure</th>\n      <td>1</td>\n      <td>0.1</td>\n    </tr>\n    <tr>\n      <th>Two U-Locks ,Cable lock ,Other (please specify):</th>\n      <td>1</td>\n      <td>0.1</td>\n    </tr>\n    <tr>\n      <th>Two U-Locks ,Chain-lock combination (chain with mini u-lock or integrated locking mechanism),Cable lock</th>\n      <td>1</td>\n      <td>0.1</td>\n    </tr>\n    <tr>\n      <th>Two U-Locks ,Chain-lock with padlock</th>\n      <td>1</td>\n      <td>0.1</td>\n    </tr>\n    <tr>\n      <th>​U-lock      ,Two U-Locks ,Chain-lock with padlock</th>\n      <td>1</td>\n      <td>0.1</td>\n    </tr>\n  </tbody>\n</table>\n</div>"
     },
     "execution_count": 135,
     "metadata": {},
     "output_type": "execute_result"
    }
   ],
   "source": [
    "table_aggregate"
   ],
   "metadata": {
    "collapsed": false,
    "pycharm": {
     "name": "#%%\n"
    }
   }
  },
  {
   "cell_type": "code",
   "execution_count": null,
   "outputs": [],
   "source": [],
   "metadata": {
    "collapsed": false,
    "pycharm": {
     "name": "#%%\n"
    }
   }
  }
 ],
 "metadata": {
  "kernelspec": {
   "display_name": "Python 3",
   "language": "python",
   "name": "python3"
  },
  "language_info": {
   "codemirror_mode": {
    "name": "ipython",
    "version": 2
   },
   "file_extension": ".py",
   "mimetype": "text/x-python",
   "name": "python",
   "nbconvert_exporter": "python",
   "pygments_lexer": "ipython2",
   "version": "2.7.6"
  }
 },
 "nbformat": 4,
 "nbformat_minor": 0
}