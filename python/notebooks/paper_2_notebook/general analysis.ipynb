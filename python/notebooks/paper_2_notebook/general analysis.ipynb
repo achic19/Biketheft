{
 "cells": [
  {
   "cell_type": "code",
   "execution_count": 21,
   "outputs": [],
   "source": [
    "\n",
    "import calendar\n",
    "months = list(map(lambda x:x.lower(),calendar.month_name))[1:]\n",
    "import pandas as pd\n",
    "from pandas import DataFrame\n",
    "\n",
    "import matplotlib.pyplot as plt\n",
    "from IPython.core.interactiveshell import InteractiveShell\n",
    "InteractiveShell.ast_node_interactivity = 'all'\n",
    "\n",
    "import matplotlib.ticker as mtick\n",
    "\n",
    "import matplotlib.pylab as pylab\n",
    "params = {'legend.fontsize': 'x-large',\n",
    "          'figure.figsize': (15, 10),\n",
    "         'axes.labelsize': 'x-large',\n",
    "         'axes.titlesize':'x-large',\n",
    "         'xtick.labelsize':'x-large',\n",
    "         'ytick.labelsize':'x-large'}\n",
    "pylab.rcParams.update(params)\n",
    "\n",
    "import os\n",
    "project_folder =os.path.dirname(os.path.dirname(os.path.dirname(os.getcwd())))\n",
    "import warnings\n",
    "warnings.filterwarnings(action='ignore')\n",
    "from IPython.display import display\n",
    "from IPython.display import Markdown\n",
    "from IPython.display import display_html\n",
    "\n",
    "\n"
   ],
   "metadata": {
    "collapsed": false,
    "pycharm": {
     "name": "#%%\n"
    }
   }
  },
  {
   "cell_type": "code",
   "execution_count": 22,
   "outputs": [],
   "source": [
    "# That's not part of the procedure\n",
    "pd.read_csv(f'{project_folder}/data/process/new_data.csv').reset_index().iloc[0].to_csv('output_2/fileds_to_work_on.csv')"
   ],
   "metadata": {
    "collapsed": false,
    "pycharm": {
     "name": "#%%\n"
    }
   }
  },
  {
   "cell_type": "code",
   "execution_count": 23,
   "outputs": [
    {
     "data": {
      "text/plain": "index                                                          0\nStartDate                                             Start Date\nEndDate                                                 End Date\nStatus                                             Response Type\nIPAddress                                             IP Address\n                                     ...                        \nQ38            What is the highest level of education you hav...\nQ39            What do you consider your main ethnic origin o...\nQ39_10_TEXT    What do you consider your main ethnic origin o...\nQ40            Where did you hear about this survey? - Select...\nQ40_3_TEXT     Where did you hear about this survey? - Other ...\nName: 0, Length: 75, dtype: object"
     },
     "execution_count": 23,
     "metadata": {},
     "output_type": "execute_result"
    }
   ],
   "source": [
    "# show the questions\n",
    "data_questions = pd.read_csv(f'{project_folder}/data/process/new_data.csv', skiprows=[2]).reset_index().iloc[0]\n",
    "data_questions"
   ],
   "metadata": {
    "collapsed": false,
    "pycharm": {
     "name": "#%%\n"
    }
   }
  },
  {
   "cell_type": "markdown",
   "source": [
    "#### Data Preparation"
   ],
   "metadata": {
    "collapsed": false,
    "pycharm": {
     "name": "#%% md\n"
    }
   }
  },
  {
   "cell_type": "code",
   "execution_count": 24,
   "outputs": [],
   "source": [
    "data_general = pd.read_csv(f'{project_folder}/data/process/final_geo_coding.csv', skiprows=[1, 2]).reset_index()\n",
    "# Read dictionary of relevant questions\n",
    "questions_to_examine=pd.read_csv(f'output_2/fileds_to_work_on_updated.csv')\n",
    "rel_questions_dic = dict(zip(questions_to_examine['Number'], questions_to_examine['Abbreviation ']))\n",
    "field_to_work_on = 'index'"
   ],
   "metadata": {
    "collapsed": false,
    "pycharm": {
     "name": "#%%\n"
    }
   }
  },
  {
   "cell_type": "code",
   "execution_count": 25,
   "outputs": [],
   "source": [
    "special_questions = ['Q26', 'Q27', 'Q32', 'Q33']\n"
   ],
   "metadata": {
    "collapsed": false,
    "pycharm": {
     "name": "#%%\n"
    }
   }
  },
  {
   "cell_type": "code",
   "execution_count": 26,
   "outputs": [],
   "source": [
    "questions_to_examine_1  = questions_to_examine.set_index('Number')"
   ],
   "metadata": {
    "collapsed": false,
    "pycharm": {
     "name": "#%%\n"
    }
   }
  },
  {
   "cell_type": "code",
   "execution_count": 27,
   "outputs": [
    {
     "data": {
      "text/plain": "{'Q25':                                                  Q25  count   per\n 2  ​Yes, and I replaced it with exactly what was ...    828  46.0\n 0                                                 No    558  31.0\n 1     Yes, but the replacement was something cheaper    426  24.0,\n 'Q28_1':                     Q28_1  count   per\n 1         1-3 days a week    593  34.0\n 2   4 or more days a week    518  30.0\n 0        1-3 days a month    307  18.0\n 5                   Never    154   9.0\n 4  Less than once a month    143   8.0\n 3     Don't know/not sure     16   1.0,\n 'Q28_2':                     Q28_2  count   per\n 5                   Never    433  25.0\n 1         1-3 days a week    377  22.0\n 2   4 or more days a week    358  21.0\n 0        1-3 days a month    277  16.0\n 4  Less than once a month    239  14.0\n 3     Don't know/not sure     16   1.0,\n 'Q28_3':                     Q28_3  count   per\n 1         1-3 days a week    587  34.0\n 2   4 or more days a week    548  32.0\n 0        1-3 days a month    316  18.0\n 5                   Never    148   9.0\n 4  Less than once a month    101   6.0\n 3     Don't know/not sure     13   1.0,\n 'Q28_4':                     Q28_4  count   per\n 2   4 or more days a week    705  41.0\n 1         1-3 days a week    590  35.0\n 0        1-3 days a month    191  11.0\n 5                   Never    128   7.0\n 4  Less than once a month     78   5.0\n 3     Don't know/not sure     18   1.0,\n 'Q29':                                                  Q29  count   per\n 2  Recreation or exercise (e.g., cycling in your ...    721  42.0\n 3  Transportation (e.g., commuting to school or w...    542  31.0\n 1  Equal mix of recreation, exercise, and transpo...    455  26.0\n 0                                Don’t know/not sure     10   1.0,\n 'Q30':                                                   Q30  count   per\n 0   Car, as a driver (e.g., personal vehicle, cars...    611  35.0\n 2   Cycle, personal bicycle (e.g., own a second bi...    291  17.0\n 11                                              Walk     282  16.0\n 5                            Didn’t make those trips     221  13.0\n 10                          Transit (e.g., bus/rail)     163   9.0\n 1   Car, as a passenger (e.g., given rides by frie...     57   3.0\n 3                           Cycle, public bike share      27   2.0\n 6                                 Don’t know/not sure     29   2.0\n 4                              Cycle, rental bicycle      11   1.0\n 7   Micro mobility (e.g., e-scooter, e-unicycle, e...      9   1.0\n 8                              Motorcycle or scooter      14   1.0\n 9     Taxi / Ride-hailing service (e.g., Uber, Lyft)      13   1.0,\n 'Q31':                           Q31  count   per\n 0  About the same / no change    852  49.0\n 2                 Less often     511  30.0\n 1           I stopped cycling    263  15.0\n 3                 More often     104   6.0}"
     },
     "execution_count": 27,
     "metadata": {},
     "output_type": "execute_result"
    }
   ],
   "source": [
    "res_reg = {}\n",
    "for question in rel_questions_dic.items():\n",
    "    question_num = question[0]\n",
    "    if question_num in special_questions:\n",
    "        continue\n",
    "    gb_data= data_general.groupby(question_num).count()[field_to_work_on].rename('count').reset_index()\n",
    "    sumy = gb_data['count'].sum()\n",
    "    gb_data['per'] = round(gb_data['count']/sumy *100,0)\n",
    "    gb_data.sort_values(by='per',ascending=False,inplace=True)\n",
    "\n",
    "\n",
    "\n",
    "    res_reg[question_num] = gb_data\n",
    "    # Draw the resuils:\n",
    "    # gb_data['per'].plot(kind='bar',title=question[1])\n",
    "    # plt.gca().yaxis.set_major_formatter(mtick.PercentFormatter(xmax=1.0,decimals=0))\n",
    "    # plt.show()\n",
    "res_reg"
   ],
   "metadata": {
    "collapsed": false,
    "pycharm": {
     "name": "#%%\n"
    }
   }
  },
  {
   "cell_type": "markdown",
   "source": [
    "#### Analysis for Q26"
   ],
   "metadata": {
    "collapsed": false,
    "pycharm": {
     "name": "#%% md\n"
    }
   }
  },
  {
   "cell_type": "code",
   "execution_count": 28,
   "outputs": [],
   "source": [
    "data_general['Q26'] = data_general['Q26'].apply(lambda x: str(x).rstrip().lstrip())\n",
    "gb_data_0= data_general.groupby('Q26').count()[field_to_work_on].sort_values(ascending=False)\n",
    "# Values to delete\n",
    "null_values =['nan','N/a','Na','na','None','-','Months']\n",
    "gb_data = gb_data_0[~gb_data_0.index.isin(null_values)]"
   ],
   "metadata": {
    "collapsed": false,
    "pycharm": {
     "name": "#%%\n"
    }
   }
  },
  {
   "cell_type": "code",
   "execution_count": 29,
   "outputs": [],
   "source": [
    "def calc_statistics(class_data:DataFrame):\n",
    "    r\"\"\"\n",
    "    the class count the number of respondents for the number of days\n",
    "    :param class_data:\n",
    "    :return: list of date groupby the number of days, statistics and count and percentage of those with doesn't recover/replace/fix atc. their bicycles\n",
    "    \"\"\"\n",
    "    # remove records without number of days\n",
    "    num_of_days = class_data['num_of_days']\n",
    "    final_data = class_data[(num_of_days!='') & (num_of_days !=-1)]\n",
    "    # group by number of days\n",
    "    mygroupby = final_data.groupby('num_of_days').sum().sort_values(by = 'count',ascending=False)\n",
    "\n",
    "     # flat @mygroupby to calculate statistic\n",
    "    l= [[item[0]]*item[1]['count'] for item in mygroupby.iterrows()]\n",
    "    flat_list = [item for sublist in l for item in sublist]\n",
    "    df = DataFrame(flat_list)\n",
    "\n",
    "\n",
    "    # the number of -1\n",
    "    no_data = class_data[num_of_days ==-1].sum()['count']\n",
    "    no_dat_dic = (no_data ,no_data/ (len(flat_list)+no_data)*100)\n",
    "    return mygroupby, df.describe(),{'no_action_yet':no_dat_dic},df\n"
   ],
   "metadata": {
    "collapsed": false,
    "pycharm": {
     "name": "#%%\n"
    }
   }
  },
  {
   "cell_type": "code",
   "execution_count": 30,
   "outputs": [],
   "source": [
    "from qu_26_27 import InterpretTime\n",
    "time_q26 = InterpretTime(gb_data)\n",
    "for res in time_q26.new_gb_data.iterrows():\n",
    "    time_q26.main_part(res)\n",
    "res_26 = calc_statistics(time_q26.new_gb_data)"
   ],
   "metadata": {
    "collapsed": false,
    "pycharm": {
     "name": "#%%\n"
    }
   }
  },
  {
   "cell_type": "markdown",
   "source": [
    "#### Analysis for Q27"
   ],
   "metadata": {
    "collapsed": false,
    "pycharm": {
     "name": "#%% md\n"
    }
   }
  },
  {
   "cell_type": "code",
   "execution_count": 31,
   "outputs": [],
   "source": [
    "gb_data_first = data_general.groupby('Q27').count()[field_to_work_on].sort_values(ascending=False)\n",
    "gb_data_27 = gb_data_first.dropna()\n",
    "time_q27 = InterpretTime(gb_data_27)\n",
    "for res in time_q27.new_gb_data.iterrows():\n",
    "    time_q27.main_part(res)\n",
    "res_q27 = calc_statistics(time_q27.new_gb_data)"
   ],
   "metadata": {
    "collapsed": false,
    "pycharm": {
     "name": "#%%\n"
    }
   }
  },
  {
   "cell_type": "markdown",
   "source": [
    "#### Code for Q32 and Q33 which is multiple choices questions"
   ],
   "metadata": {
    "collapsed": false,
    "pycharm": {
     "name": "#%% md\n"
    }
   }
  },
  {
   "cell_type": "code",
   "execution_count": 32,
   "outputs": [
    {
     "name": "stdout",
     "output_type": "stream",
     "text": [
      "Q32\n",
      "Q33\n"
     ]
    }
   ],
   "source": [
    "res32_33=[]\n",
    "for question_num in special_questions[-2:]:\n",
    "    print(question_num)\n",
    "    # Read choice options\n",
    "    choice_df = pd.read_csv(f'output_2/{question_num}.csv',encoding='cp1252').set_index('question')\n",
    "    # grpoupby data by the responses to the question_num\n",
    "    gb_data= data_general.groupby(question_num).count()[field_to_work_on].sort_values(ascending=False).reset_index()\n",
    "    # Go over each separate response\n",
    "    for  item in choice_df.iterrows():\n",
    "        question = item[0]\n",
    "        # search the current response in the multiple choices responses\n",
    "        for row_0 in gb_data.iterrows():\n",
    "            row = row_0[1]\n",
    "            if question in row[question_num]:\n",
    "                # if the response was found add the number of respondants that use that respomse as part on 1 or combination of choices\n",
    "                choice_df.loc[question]+=row[field_to_work_on]\n",
    "    # calculate percentage\n",
    "    sumy = choice_df.sum()\n",
    "    choice_df['per'] = round(choice_df/sumy *100,0)\n",
    "    choice_df.sort_values(by='per',ascending=False,inplace=True)\n",
    "    res32_33.append(choice_df)\n",
    "    # Plot results\n",
    "    # choice_df['per'].plot(kind='bar',title=rel_questions_dic[question_num])\n",
    "\n",
    "    # plt.gca().yaxis.set_major_formatter(mtick.PercentFormatter(xmax=1.0,decimals=0))\n",
    "    # plt.show()"
   ],
   "metadata": {
    "collapsed": false,
    "pycharm": {
     "name": "#%%\n"
    }
   }
  },
  {
   "cell_type": "code",
   "execution_count": 33,
   "outputs": [
    {
     "data": {
      "text/plain": "<IPython.core.display.Markdown object>",
      "text/markdown": "<h4>The following questions will be the main focus of our analysis. We will begin by looking at each question individually.</h4>"
     },
     "metadata": {},
     "output_type": "display_data"
    },
    {
     "data": {
      "text/html": "<table border=\"1\" class=\"dataframe\">\n  <thead>\n    <tr style=\"text-align: right;\">\n      <th></th>\n      <th>Question</th>\n      <th>Abbreviation</th>\n      <th># Respondents</th>\n    </tr>\n    <tr>\n      <th>Number</th>\n      <th></th>\n      <th></th>\n      <th></th>\n    </tr>\n  </thead>\n  <tbody>\n    <tr>\n      <th>Q25</th>\n      <td>Did you replace the stolen bicycle or bicycle part?</td>\n      <td>Is replaced</td>\n      <td>1812</td>\n    </tr>\n    <tr>\n      <th>Q26</th>\n      <td>How many days did it take to recover or replace your stolen bicycle or part?</td>\n      <td>Time replaced</td>\n      <td>1821</td>\n    </tr>\n    <tr>\n      <th>Q27</th>\n      <td>After recovering your bike, how many additional days did it take before your bicycle was repaired and rideable?</td>\n      <td>Time rideable</td>\n      <td>33</td>\n    </tr>\n    <tr>\n      <th>Q28_1</th>\n      <td>Over the past year, how often did you cycle (with any bicycle) during each season? - Fall (Sept, Oct, Nov)</td>\n      <td>Fall habit</td>\n      <td>1731</td>\n    </tr>\n    <tr>\n      <th>Q28_2</th>\n      <td>Over the past year, how often did you cycle (with any bicycle) during each season? - Winter (Dec, Jan, Feb)</td>\n      <td>Winter habit</td>\n      <td>1700</td>\n    </tr>\n    <tr>\n      <th>Q28_3</th>\n      <td>Over the past year, how often did you cycle (with any bicycle) during each season? - Spring (Mar, Apr, May)</td>\n      <td>Spring habit</td>\n      <td>1713</td>\n    </tr>\n    <tr>\n      <th>Q28_4</th>\n      <td>Over the past year, how often did you cycle (with any bicycle) during each season? - Summer (Jun, Jul, Aug)</td>\n      <td>Summer habit</td>\n      <td>1710</td>\n    </tr>\n    <tr>\n      <th>Q29</th>\n      <td>What was the main purpose of the trips you made with the stolen/damaged bicycle? Measured in highest number or trips, not distance cycled</td>\n      <td>Purpose trip</td>\n      <td>1728</td>\n    </tr>\n    <tr>\n      <th>Q30</th>\n      <td>Thinking about the trips you made with the stolen/damaged bicycle, what transportation mode did you most often use to make those trips while your bicycle was unavailable?</td>\n      <td>Mode switch</td>\n      <td>1728</td>\n    </tr>\n    <tr>\n      <th>Q31</th>\n      <td>Compared to before the theft, what best describes your overall cycling activity after your stolen bicycle (or part) was recovered, replaced, or abandoned? Did you cycle…</td>\n      <td>Theft circumstances</td>\n      <td>1730</td>\n    </tr>\n    <tr>\n      <th>Q32</th>\n      <td>What were the main reasons you cycled less often or not at all? (Select up to 3) - Selected Choice</td>\n      <td>Reason less</td>\n      <td>768</td>\n    </tr>\n    <tr>\n      <th>Q33</th>\n      <td>What were the main reasons you cycled more often? (Select up to 3) - Selected Choice</td>\n      <td>Reason more</td>\n      <td>104</td>\n    </tr>\n  </tbody>\n</table>"
     },
     "metadata": {},
     "output_type": "display_data"
    },
    {
     "data": {
      "text/plain": "                                                Question   \\\nNumber                                                      \nQ25     Did you replace the stolen bicycle or bicycle ...   \nQ26     How many days did it take to recover or replac...   \nQ27     After recovering your bike, how many additiona...   \nQ28_1   Over the past year, how often did you cycle (w...   \nQ28_2   Over the past year, how often did you cycle (w...   \nQ28_3   Over the past year, how often did you cycle (w...   \nQ28_4   Over the past year, how often did you cycle (w...   \nQ29     What was the main purpose of the trips you mad...   \nQ30     Thinking about the trips you made with the sto...   \nQ31     Compared to before the theft, what best descri...   \nQ32     What were the main reasons you cycled less oft...   \nQ33     What were the main reasons you cycled more oft...   \n\n              Abbreviation   # Respondents  \nNumber                                      \nQ25             Is replaced           1812  \nQ26           Time replaced           1821  \nQ27           Time rideable             33  \nQ28_1            Fall habit           1731  \nQ28_2          Winter habit           1700  \nQ28_3          Spring habit           1713  \nQ28_4          Summer habit           1710  \nQ29            Purpose trip           1728  \nQ30             Mode switch           1728  \nQ31     Theft circumstances           1730  \nQ32             Reason less            768  \nQ33             Reason more            104  ",
      "text/html": "<div>\n<style scoped>\n    .dataframe tbody tr th:only-of-type {\n        vertical-align: middle;\n    }\n\n    .dataframe tbody tr th {\n        vertical-align: top;\n    }\n\n    .dataframe thead th {\n        text-align: right;\n    }\n</style>\n<table border=\"1\" class=\"dataframe\">\n  <thead>\n    <tr style=\"text-align: right;\">\n      <th></th>\n      <th>Question</th>\n      <th>Abbreviation</th>\n      <th># Respondents</th>\n    </tr>\n    <tr>\n      <th>Number</th>\n      <th></th>\n      <th></th>\n      <th></th>\n    </tr>\n  </thead>\n  <tbody>\n    <tr>\n      <th>Q25</th>\n      <td>Did you replace the stolen bicycle or bicycle ...</td>\n      <td>Is replaced</td>\n      <td>1812</td>\n    </tr>\n    <tr>\n      <th>Q26</th>\n      <td>How many days did it take to recover or replac...</td>\n      <td>Time replaced</td>\n      <td>1821</td>\n    </tr>\n    <tr>\n      <th>Q27</th>\n      <td>After recovering your bike, how many additiona...</td>\n      <td>Time rideable</td>\n      <td>33</td>\n    </tr>\n    <tr>\n      <th>Q28_1</th>\n      <td>Over the past year, how often did you cycle (w...</td>\n      <td>Fall habit</td>\n      <td>1731</td>\n    </tr>\n    <tr>\n      <th>Q28_2</th>\n      <td>Over the past year, how often did you cycle (w...</td>\n      <td>Winter habit</td>\n      <td>1700</td>\n    </tr>\n    <tr>\n      <th>Q28_3</th>\n      <td>Over the past year, how often did you cycle (w...</td>\n      <td>Spring habit</td>\n      <td>1713</td>\n    </tr>\n    <tr>\n      <th>Q28_4</th>\n      <td>Over the past year, how often did you cycle (w...</td>\n      <td>Summer habit</td>\n      <td>1710</td>\n    </tr>\n    <tr>\n      <th>Q29</th>\n      <td>What was the main purpose of the trips you mad...</td>\n      <td>Purpose trip</td>\n      <td>1728</td>\n    </tr>\n    <tr>\n      <th>Q30</th>\n      <td>Thinking about the trips you made with the sto...</td>\n      <td>Mode switch</td>\n      <td>1728</td>\n    </tr>\n    <tr>\n      <th>Q31</th>\n      <td>Compared to before the theft, what best descri...</td>\n      <td>Theft circumstances</td>\n      <td>1730</td>\n    </tr>\n    <tr>\n      <th>Q32</th>\n      <td>What were the main reasons you cycled less oft...</td>\n      <td>Reason less</td>\n      <td>768</td>\n    </tr>\n    <tr>\n      <th>Q33</th>\n      <td>What were the main reasons you cycled more oft...</td>\n      <td>Reason more</td>\n      <td>104</td>\n    </tr>\n  </tbody>\n</table>\n</div>"
     },
     "execution_count": 33,
     "metadata": {},
     "output_type": "execute_result"
    }
   ],
   "source": [
    "questions_to_examine_1['# Respondents'] = data_general.apply(lambda x: x.count())\n",
    "html_table = questions_to_examine_1.to_html()\n",
    "text =\"<h4>The following questions will be the main focus of our analysis. We will begin by looking at each question individually.</h4>\"\n",
    "display(Markdown(text))\n",
    "display_html(html_table, raw=True)\n",
    "\n",
    "questions_to_examine_1"
   ],
   "metadata": {
    "collapsed": false,
    "pycharm": {
     "name": "#%%\n"
    }
   }
  },
  {
   "cell_type": "code",
   "execution_count": 34,
   "outputs": [
    {
     "data": {
      "text/plain": "<IPython.core.display.Markdown object>",
      "text/markdown": "Q25 - Did you replace the stolen bicycle or bicycle part?"
     },
     "metadata": {},
     "output_type": "display_data"
    },
    {
     "data": {
      "text/plain": "<IPython.core.display.Markdown object>",
      "text/markdown": "<h4>Results</h4><ul><li>31% did not replace their stolen bicycle.</li><li> 24% did replace with cheaper bicycle.</li><li> 46%  with more expensive bicycle.</li></ul>"
     },
     "metadata": {},
     "output_type": "display_data"
    },
    {
     "data": {
      "text/plain": "<IPython.core.display.Markdown object>",
      "text/markdown": "<h4>Next analysis</h4><ul> <li>cross validation with demographic</li> <li>cross validation with bicycle value</li></ul>"
     },
     "metadata": {},
     "output_type": "display_data"
    },
    {
     "data": {
      "text/plain": "                                                 Q25  count   per\n2  ​Yes, and I replaced it with exactly what was ...    828  46.0\n0                                                 No    558  31.0\n1     Yes, but the replacement was something cheaper    426  24.0",
      "text/html": "<div>\n<style scoped>\n    .dataframe tbody tr th:only-of-type {\n        vertical-align: middle;\n    }\n\n    .dataframe tbody tr th {\n        vertical-align: top;\n    }\n\n    .dataframe thead th {\n        text-align: right;\n    }\n</style>\n<table border=\"1\" class=\"dataframe\">\n  <thead>\n    <tr style=\"text-align: right;\">\n      <th></th>\n      <th>Q25</th>\n      <th>count</th>\n      <th>per</th>\n    </tr>\n  </thead>\n  <tbody>\n    <tr>\n      <th>2</th>\n      <td>​Yes, and I replaced it with exactly what was ...</td>\n      <td>828</td>\n      <td>46.0</td>\n    </tr>\n    <tr>\n      <th>0</th>\n      <td>No</td>\n      <td>558</td>\n      <td>31.0</td>\n    </tr>\n    <tr>\n      <th>1</th>\n      <td>Yes, but the replacement was something cheaper</td>\n      <td>426</td>\n      <td>24.0</td>\n    </tr>\n  </tbody>\n</table>\n</div>"
     },
     "execution_count": 34,
     "metadata": {},
     "output_type": "execute_result"
    }
   ],
   "source": [
    "q_num ='Q25'\n",
    "q= questions_to_examine_1.loc[q_num][0]\n",
    "res_25 = res_reg[q_num]\n",
    "more_ex = int(res_25[res_25['Q25'] =='\\u200bYes, and I replaced it with exactly what was stolen or something more expensive ']['per'].values[0])\n",
    "cheaper = int(res_25[res_25['Q25'] =='Yes, but the replacement was something cheaper']['per'].values[0])\n",
    "no= int(res_25[res_25['Q25'] =='No']['per'].values[0])\n",
    "text =f\"{q_num} - {q}\"\n",
    "display(Markdown(text))\n",
    "text = f\"<h4>Results</h4><ul><li>{no}% did not replace their stolen bicycle.</li><li> {cheaper}% did replace with cheaper bicycle.</li><li> {more_ex}%  with more expensive bicycle.</li></ul>\"\n",
    "display(Markdown(text))\n",
    "text = \"<h4>Next analysis</h4><ul> <li>cross validation with demographic</li> <li>cross validation with bicycle value</li></ul>\"\n",
    "display(Markdown(text))\n",
    "res_25"
   ],
   "metadata": {
    "collapsed": false,
    "pycharm": {
     "name": "#%%\n"
    }
   }
  },
  {
   "cell_type": "code",
   "execution_count": 35,
   "outputs": [
    {
     "data": {
      "text/plain": "<IPython.core.display.Markdown object>",
      "text/markdown": "Q26 - How many days did it take to recover or replace your stolen bicycle or part?"
     },
     "metadata": {},
     "output_type": "display_data"
    },
    {
     "data": {
      "text/plain": "<IPython.core.display.Markdown object>",
      "text/markdown": "<h4>Results</h4><ul><li>25% recovered or replaced their bicycles within 20 days and 50% within 49 days.</li>  <li>4% are recovered or replaced over 1 year.</li> <li>The longest time  reported to recovered/replaced was 1460 days.</li><li>Among all the participants that answers to this question 5% have not recovered/replaces their bicycles.</ul>"
     },
     "metadata": {},
     "output_type": "display_data"
    },
    {
     "data": {
      "text/plain": "<IPython.core.display.Markdown object>",
      "text/markdown": "<h4>Next analysis</h4><ul> <li>compare the results between group members who were replaced and those who recovered. Are there any statistical differences between the two groups? </li> <li>cross validation with demographic</li><li>cross validation with bike characteristics</li></ul>"
     },
     "metadata": {},
     "output_type": "display_data"
    },
    {
     "data": {
      "text/plain": "                 0\ncount  1037.000000\nmean     98.671167\nstd     142.170234\nmin       0.000000\n25%      20.000000\n50%      49.000000\n75%     120.000000\nmax    1460.000000",
      "text/html": "<div>\n<style scoped>\n    .dataframe tbody tr th:only-of-type {\n        vertical-align: middle;\n    }\n\n    .dataframe tbody tr th {\n        vertical-align: top;\n    }\n\n    .dataframe thead th {\n        text-align: right;\n    }\n</style>\n<table border=\"1\" class=\"dataframe\">\n  <thead>\n    <tr style=\"text-align: right;\">\n      <th></th>\n      <th>0</th>\n    </tr>\n  </thead>\n  <tbody>\n    <tr>\n      <th>count</th>\n      <td>1037.000000</td>\n    </tr>\n    <tr>\n      <th>mean</th>\n      <td>98.671167</td>\n    </tr>\n    <tr>\n      <th>std</th>\n      <td>142.170234</td>\n    </tr>\n    <tr>\n      <th>min</th>\n      <td>0.000000</td>\n    </tr>\n    <tr>\n      <th>25%</th>\n      <td>20.000000</td>\n    </tr>\n    <tr>\n      <th>50%</th>\n      <td>49.000000</td>\n    </tr>\n    <tr>\n      <th>75%</th>\n      <td>120.000000</td>\n    </tr>\n    <tr>\n      <th>max</th>\n      <td>1460.000000</td>\n    </tr>\n  </tbody>\n</table>\n</div>"
     },
     "execution_count": 35,
     "metadata": {},
     "output_type": "execute_result"
    }
   ],
   "source": [
    "q_num = 'Q26'\n",
    "q= questions_to_examine_1.loc[q_num][0]\n",
    "res = res_26\n",
    "flat_data = res[-1]\n",
    "day_25 = int(res[1].loc['25%'][0])\n",
    "day_50 = int(res[1].loc['50%'][0])\n",
    "more_365  = len(flat_data[flat_data[0]>365])\n",
    "more_385_percentage = int(round(more_365/len(flat_data)*100,0))\n",
    "max= int(res[1].loc['max'][0])\n",
    "no_recoverd_replace =int(round(list(res[2].values())[0][1]))\n",
    "text =f\"{q_num} - {q}\"\n",
    "display(Markdown(text))\n",
    "text = f\"<h4>Results</h4><ul><li>25% recovered or replaced their bicycles within {day_25} days and 50% within {day_50} days.</li>  <li>{more_385_percentage}% are recovered or replaced over 1 year.</li> <li>The longest time  reported to recovered/replaced was {max} days.</li><li>Among all the participants that answers to this question {no_recoverd_replace}% have not recovered/replaces their bicycles.</ul>\"\n",
    "display(Markdown(text))\n",
    "text = \"<h4>Next analysis</h4><ul> <li>compare the results between group members who were replaced and those who recovered. Are there any statistical differences between the two groups? </li> <li>cross validation with demographic</li><li>cross validation with bike characteristics</li></ul>\"\n",
    "display(Markdown(text))\n",
    "res[1]\n"
   ],
   "metadata": {
    "collapsed": false,
    "pycharm": {
     "name": "#%%\n"
    }
   }
  },
  {
   "cell_type": "code",
   "execution_count": 36,
   "outputs": [
    {
     "data": {
      "text/plain": "<IPython.core.display.Markdown object>",
      "text/markdown": "Q27 - After recovering your bike, how many additional days did it take before your bicycle was repaired and rideable?"
     },
     "metadata": {},
     "output_type": "display_data"
    },
    {
     "data": {
      "text/plain": "<IPython.core.display.Markdown object>",
      "text/markdown": "<h4>Results</h4><ul><li>25% repaired their bicycles within 7 days and 50% within 14 days.</li>  <li> 28% are repaired after more then a month.</li> <li>The longest time  reported to repair was 360 days.</li> <li>Among all the participants that answers to this question 3% have not repaired their bicycles.</li></ul>"
     },
     "metadata": {},
     "output_type": "display_data"
    },
    {
     "data": {
      "text/plain": "<IPython.core.display.Markdown object>",
      "text/markdown": "<h4>Next analysis</h4><ul> <li>cross validation with bike condition upon recovery</li> <li>cross validation with demographic</li><li>cross validation with bike characteristics</li></ul>"
     },
     "metadata": {},
     "output_type": "display_data"
    },
    {
     "data": {
      "text/plain": "                0\ncount   32.000000\nmean    45.281250\nstd     85.462776\nmin      0.000000\n25%      7.000000\n50%     14.000000\n75%     42.750000\nmax    360.000000",
      "text/html": "<div>\n<style scoped>\n    .dataframe tbody tr th:only-of-type {\n        vertical-align: middle;\n    }\n\n    .dataframe tbody tr th {\n        vertical-align: top;\n    }\n\n    .dataframe thead th {\n        text-align: right;\n    }\n</style>\n<table border=\"1\" class=\"dataframe\">\n  <thead>\n    <tr style=\"text-align: right;\">\n      <th></th>\n      <th>0</th>\n    </tr>\n  </thead>\n  <tbody>\n    <tr>\n      <th>count</th>\n      <td>32.000000</td>\n    </tr>\n    <tr>\n      <th>mean</th>\n      <td>45.281250</td>\n    </tr>\n    <tr>\n      <th>std</th>\n      <td>85.462776</td>\n    </tr>\n    <tr>\n      <th>min</th>\n      <td>0.000000</td>\n    </tr>\n    <tr>\n      <th>25%</th>\n      <td>7.000000</td>\n    </tr>\n    <tr>\n      <th>50%</th>\n      <td>14.000000</td>\n    </tr>\n    <tr>\n      <th>75%</th>\n      <td>42.750000</td>\n    </tr>\n    <tr>\n      <th>max</th>\n      <td>360.000000</td>\n    </tr>\n  </tbody>\n</table>\n</div>"
     },
     "execution_count": 36,
     "metadata": {},
     "output_type": "execute_result"
    }
   ],
   "source": [
    "q_num = 'Q27'\n",
    "res = res_q27\n",
    "q= questions_to_examine_1.loc[q_num][0]\n",
    "flat_data = res[-1]\n",
    "day_25 = int(res[1].loc['25%'][0])\n",
    "day_50 = int(res[1].loc['50%'][0])\n",
    "more_30  = len(flat_data[flat_data[0]>30])\n",
    "more_30_percentage = int(round(more_30/len(flat_data)*100,0))\n",
    "max= int(res[1].loc['max'][0])\n",
    "no_recoverd_replace =int(round(list(res[2].values())[0][1]))\n",
    "\n",
    "text =f\"{q_num} - {q}\"\n",
    "display(Markdown(text))\n",
    "text = f\"<h4>Results</h4><ul><li>25% repaired their bicycles within {day_25} days and 50% within {day_50} days.</li>  <li> {more_30_percentage}% are repaired after more then a month.</li> <li>The longest time  reported to repair was {max} days.</li> <li>Among all the participants that answers to this question {no_recoverd_replace}% have not repaired their bicycles.</li></ul>\"\n",
    "display(Markdown(text))\n",
    "text = \"<h4>Next analysis</h4><ul> <li>cross validation with bike condition upon recovery</li> <li>cross validation with demographic</li><li>cross validation with bike characteristics</li></ul>\"\n",
    "display(Markdown(text))\n",
    "res[1]\n"
   ],
   "metadata": {
    "collapsed": false,
    "pycharm": {
     "name": "#%%\n"
    }
   }
  },
  {
   "cell_type": "code",
   "execution_count": 137,
   "outputs": [
    {
     "data": {
      "text/plain": "frequency  Don't know/not sure  Never  Less than once a month  \\\nFall                       1.0    9.0                     8.0   \nWinter                     1.0   25.0                    14.0   \nSpring                     1.0    9.0                     6.0   \nSummer                     1.0    7.0                     5.0   \n\nfrequency  1-3 days a month  1-3 days a week  4 or more days a week  \nFall                   18.0             34.0                   30.0  \nWinter                 16.0             22.0                   21.0  \nSpring                 18.0             34.0                   32.0  \nSummer                 11.0             35.0                   41.0  ",
      "text/html": "<div>\n<style scoped>\n    .dataframe tbody tr th:only-of-type {\n        vertical-align: middle;\n    }\n\n    .dataframe tbody tr th {\n        vertical-align: top;\n    }\n\n    .dataframe thead th {\n        text-align: right;\n    }\n</style>\n<table border=\"1\" class=\"dataframe\">\n  <thead>\n    <tr style=\"text-align: right;\">\n      <th>frequency</th>\n      <th>Don't know/not sure</th>\n      <th>Never</th>\n      <th>Less than once a month</th>\n      <th>1-3 days a month</th>\n      <th>1-3 days a week</th>\n      <th>4 or more days a week</th>\n    </tr>\n  </thead>\n  <tbody>\n    <tr>\n      <th>Fall</th>\n      <td>1.0</td>\n      <td>9.0</td>\n      <td>8.0</td>\n      <td>18.0</td>\n      <td>34.0</td>\n      <td>30.0</td>\n    </tr>\n    <tr>\n      <th>Winter</th>\n      <td>1.0</td>\n      <td>25.0</td>\n      <td>14.0</td>\n      <td>16.0</td>\n      <td>22.0</td>\n      <td>21.0</td>\n    </tr>\n    <tr>\n      <th>Spring</th>\n      <td>1.0</td>\n      <td>9.0</td>\n      <td>6.0</td>\n      <td>18.0</td>\n      <td>34.0</td>\n      <td>32.0</td>\n    </tr>\n    <tr>\n      <th>Summer</th>\n      <td>1.0</td>\n      <td>7.0</td>\n      <td>5.0</td>\n      <td>11.0</td>\n      <td>35.0</td>\n      <td>41.0</td>\n    </tr>\n  </tbody>\n</table>\n</div>"
     },
     "execution_count": 137,
     "metadata": {},
     "output_type": "execute_result"
    },
    {
     "data": {
      "text/plain": "<IPython.core.display.Markdown object>",
      "text/markdown": "Q28 - Over the past year, how often did you cycle"
     },
     "metadata": {},
     "output_type": "display_data"
    },
    {
     "data": {
      "text/plain": "<IPython.core.display.Markdown object>",
      "text/markdown": "<h4>Results</h4><ul><li>The seasons have huge effect on the cycling habit.</li></ul>"
     },
     "metadata": {},
     "output_type": "display_data"
    },
    {
     "data": {
      "text/plain": "<IPython.core.display.Markdown object>",
      "text/markdown": "<h4>Next analysis</h4><ul> <li>Find group of cyclists with same habit</li> <li>for those groups cross validation with demographic</li><li>with bike characteristics </li><li> with other questions behaviour</li> <li>between cities</li></ul>"
     },
     "metadata": {},
     "output_type": "display_data"
    }
   ],
   "source": [
    "frequency= 'frequency'\n",
    "seasons = {1:'Fall', 2:'Winter', 3:'Spring', 4:'Summer'} # list of seasons\n",
    "data_to_use  =[res_reg[f'Q28_{i}'].rename(columns={'per':seasons[i]}) for i in range(1,5)]\n",
    "data_to_use_1 =[data.rename(columns= {data.columns[0]:frequency}).drop('count', axis=1).set_index(frequency) for data in data_to_use]\n",
    "seasons_pd= pd.concat(data_to_use_1,axis=1)\n",
    "\n",
    "frequency_dic={'4 or more days a week':5,'1-3 days a week':4,  '1-3 days a month':3,'Less than once a month':2, 'Never':1,\n",
    "        \"Don't know/not sure\":0}\n",
    "for_sort = 'for_sort'\n",
    "seasons_pd[for_sort] = frequency_dic\n",
    "seasons_pd.sort_values(for_sort).drop(for_sort,axis=1).T\n",
    "\n",
    "q_num = 'Q28'\n",
    "q =f\"Over the past year, how often did you cycle\"\n",
    "text =f\"{q_num} - {q}\"\n",
    "display(Markdown(text))\n",
    "text = f\"<h4>Results</h4><ul><li>The seasons have huge effect on the cycling habit.</li></ul>\"\n",
    "display(Markdown(text))\n",
    "text = \"<h4>Next analysis</h4><ul> <li>Find group of cyclists with same habit</li> <li>for those groups cross validation with demographic</li><li>with bike characteristics </li><li> with other questions behaviour</li> <li>between cities</li></ul>\"\n",
    "display(Markdown(text))\n"
   ],
   "metadata": {
    "collapsed": false,
    "pycharm": {
     "name": "#%%\n"
    }
   }
  },
  {
   "cell_type": "code",
   "execution_count": 138,
   "outputs": [
    {
     "data": {
      "text/plain": "Winter                  4 or more days a week  1-3 days a week  \\\nFall                                                             \n4 or more days a week               98.324022        23.138298   \n1-3 days a week                      1.117318        74.202128   \n1-3 days a month                     0.279330         1.329787   \nLess than once a month               0.000000         0.265957   \nNever                                0.279330         0.797872   \nDon't know/not sure                  0.000000         0.265957   \n\nWinter                  1-3 days a month  Less than once a month      Never  \\\nFall                                                                          \n4 or more days a week           7.942238                6.276151   7.390300   \n1-3 days a week                50.902527               30.962343  18.706697   \n1-3 days a month               38.628159               30.962343  26.096998   \nLess than once a month          1.444043               30.125523  15.242494   \nNever                           1.083032                1.673640  32.101617   \nDon't know/not sure             0.000000                0.000000   0.461894   \n\nWinter                  Don't know/not sure  \nFall                                         \n4 or more days a week                  12.5  \n1-3 days a week                        12.5  \n1-3 days a month                        0.0  \nLess than once a month                  0.0  \nNever                                   0.0  \nDon't know/not sure                    75.0  ",
      "text/html": "<div>\n<style scoped>\n    .dataframe tbody tr th:only-of-type {\n        vertical-align: middle;\n    }\n\n    .dataframe tbody tr th {\n        vertical-align: top;\n    }\n\n    .dataframe thead th {\n        text-align: right;\n    }\n</style>\n<table border=\"1\" class=\"dataframe\">\n  <thead>\n    <tr style=\"text-align: right;\">\n      <th>Winter</th>\n      <th>4 or more days a week</th>\n      <th>1-3 days a week</th>\n      <th>1-3 days a month</th>\n      <th>Less than once a month</th>\n      <th>Never</th>\n      <th>Don't know/not sure</th>\n    </tr>\n    <tr>\n      <th>Fall</th>\n      <th></th>\n      <th></th>\n      <th></th>\n      <th></th>\n      <th></th>\n      <th></th>\n    </tr>\n  </thead>\n  <tbody>\n    <tr>\n      <th>4 or more days a week</th>\n      <td>98.324022</td>\n      <td>23.138298</td>\n      <td>7.942238</td>\n      <td>6.276151</td>\n      <td>7.390300</td>\n      <td>12.5</td>\n    </tr>\n    <tr>\n      <th>1-3 days a week</th>\n      <td>1.117318</td>\n      <td>74.202128</td>\n      <td>50.902527</td>\n      <td>30.962343</td>\n      <td>18.706697</td>\n      <td>12.5</td>\n    </tr>\n    <tr>\n      <th>1-3 days a month</th>\n      <td>0.279330</td>\n      <td>1.329787</td>\n      <td>38.628159</td>\n      <td>30.962343</td>\n      <td>26.096998</td>\n      <td>0.0</td>\n    </tr>\n    <tr>\n      <th>Less than once a month</th>\n      <td>0.000000</td>\n      <td>0.265957</td>\n      <td>1.444043</td>\n      <td>30.125523</td>\n      <td>15.242494</td>\n      <td>0.0</td>\n    </tr>\n    <tr>\n      <th>Never</th>\n      <td>0.279330</td>\n      <td>0.797872</td>\n      <td>1.083032</td>\n      <td>1.673640</td>\n      <td>32.101617</td>\n      <td>0.0</td>\n    </tr>\n    <tr>\n      <th>Don't know/not sure</th>\n      <td>0.000000</td>\n      <td>0.265957</td>\n      <td>0.000000</td>\n      <td>0.000000</td>\n      <td>0.461894</td>\n      <td>75.0</td>\n    </tr>\n  </tbody>\n</table>\n</div>"
     },
     "execution_count": 138,
     "metadata": {},
     "output_type": "execute_result"
    }
   ],
   "source": [
    "\n",
    "my_reindex= list(frequency_dic.keys())\n",
    "data_general.rename(columns = {'Q28_1':'Fall', 'Q28_2':'Winter', 'Q28_3':'Spring',  'Q28_4':'Summer'}, inplace=True )\n",
    "pd.crosstab(index =data_general['Fall'],columns=data_general['Winter'],normalize='columns').reindex(columns= my_reindex,index= my_reindex)*100\n",
    "\n",
    "\n"
   ],
   "metadata": {
    "collapsed": false,
    "pycharm": {
     "name": "#%%\n"
    }
   }
  },
  {
   "cell_type": "markdown",
   "source": [
    "# Ridership profile code\n"
   ],
   "metadata": {
    "collapsed": false,
    "pycharm": {
     "name": "#%% md\n"
    }
   }
  },
  {
   "cell_type": "code",
   "execution_count": 253,
   "outputs": [
    {
     "name": "stdout",
     "output_type": "stream",
     "text": [
      "          Fall_en   Winter_en   Spring_en   Summer_en  class\n",
      "count  799.000000  799.000000  799.000000  799.000000  799.0\n",
      "mean     4.453066    4.351690    4.454318    4.421777    0.0\n",
      "std      0.662257    0.643237    0.725548    0.821745    0.0\n",
      "min      3.000000    3.000000    1.000000    0.000000    0.0\n",
      "25%      4.000000    4.000000    4.000000    4.000000    0.0\n",
      "50%      5.000000    4.000000    5.000000    5.000000    0.0\n",
      "75%      5.000000    5.000000    5.000000    5.000000    0.0\n",
      "max      5.000000    5.000000    5.000000    5.000000    0.0\n",
      "          Fall_en   Winter_en   Spring_en   Summer_en  class\n",
      "count  226.000000  226.000000  226.000000  226.000000  226.0\n",
      "mean     1.438053    1.238938    1.451327    1.424779    1.0\n",
      "std      0.782113    0.607718    0.810938    0.751949    0.0\n",
      "min      0.000000    0.000000    0.000000    0.000000    1.0\n",
      "25%      1.000000    1.000000    1.000000    1.000000    1.0\n",
      "50%      1.000000    1.000000    1.000000    1.000000    1.0\n",
      "75%      2.000000    1.000000    2.000000    2.000000    1.0\n",
      "max      5.000000    4.000000    5.000000    3.000000    1.0\n",
      "          Fall_en   Winter_en   Spring_en   Summer_en  class\n",
      "count  664.000000  664.000000  664.000000  664.000000  664.0\n",
      "mean     3.460843    1.884036    3.629518    4.222892    2.0\n",
      "std      0.950496    0.863252    0.846305    0.651037    0.0\n",
      "min      0.000000    0.000000    0.000000    2.000000    2.0\n",
      "25%      3.000000    1.000000    3.000000    4.000000    2.0\n",
      "50%      4.000000    2.000000    4.000000    4.000000    2.0\n",
      "75%      4.000000    3.000000    4.000000    5.000000    2.0\n",
      "max      5.000000    5.000000    5.000000    5.000000    2.0\n"
     ]
    },
    {
     "data": {
      "text/plain": "<AxesSubplot: >"
     },
     "execution_count": 253,
     "metadata": {},
     "output_type": "execute_result"
    },
    {
     "data": {
      "text/plain": "<AxesSubplot: xlabel='seasons', ylabel=' Ridership Frequency'>"
     },
     "execution_count": 253,
     "metadata": {},
     "output_type": "execute_result"
    },
    {
     "data": {
      "text/plain": "<AxesSubplot: xlabel='seasons', ylabel=' Ridership Frequency'>"
     },
     "execution_count": 253,
     "metadata": {},
     "output_type": "execute_result"
    },
    {
     "data": {
      "text/plain": "<matplotlib.legend.Legend at 0x1c44d1e7010>"
     },
     "execution_count": 253,
     "metadata": {},
     "output_type": "execute_result"
    },
    {
     "data": {
      "text/plain": "<Figure size 1500x1000 with 1 Axes>",
      "image/png": "[encoded data removed]"
     },
     "metadata": {},
     "output_type": "display_data"
    },
    {
     "data": {
      "text/plain": "<Figure size 1500x1000 with 1 Axes>",
      "image/png": "[encoded data removed]"
     },
     "metadata": {},
     "output_type": "display_data"
    }
   ],
   "source": [
    "from sklearn.cluster import AgglomerativeClustering\n",
    "\n",
    "# Parameters for this\n",
    "n= 3\n",
    "my_class= 'class'\n",
    "seasons_values = seasons.values()\n",
    "color_list = [color for color in plt.rcParams['axes.prop_cycle'].by_key()['color'][:n]]\n",
    "\n",
    "# get all the relevant code into new dataframe (remove rows with Null values)\n",
    "data_general_classification  = data_general.copy()[seasons_values].dropna()\n",
    "\n",
    "# Encoding\n",
    "new_cols = [f'{d}_en' for d in seasons_values]\n",
    "data_general_classification[new_cols] = data_general_classification.apply(lambda row: [frequency_dic[y] for y in row],axis=1,result_type= 'expand')\n",
    "\n",
    "# Classification using AgglomerativeClustering\n",
    "cluster = AgglomerativeClustering(n_clusters=n)\n",
    "clas_res = cluster.fit_predict(data_general_classification[new_cols].to_numpy())\n",
    "\n",
    "# --- for test only---\n",
    "# import collections\n",
    "# counts = collections.Counter(clas_res)\n",
    "# --- for test only---\n",
    "\n",
    "data_general_classification[my_class] = clas_res\n",
    "\n",
    "# for analysis\n",
    "sum_data =[]\n",
    "std_data = []\n",
    "data_to_analysis = data_general_classification.drop(columns=seasons_values)\n",
    "\n",
    "# visualization\n",
    "for x in range(n):\n",
    "    class_data = data_to_analysis[data_to_analysis[my_class]==x]\n",
    "    # show the mean for each group and for each season\n",
    "    class_data_describe =class_data.describe()\n",
    "    print(class_data_describe)\n",
    "    sum_data.append(list(round(class_data_describe.loc['mean'],2).values))\n",
    "    std_data.append(list(round(class_data_describe.loc['std'],2).values))\n",
    "\n",
    "# mean\n",
    "# sum_data\n",
    "# std_data\n",
    "DataFrame(data=sum_data,columns=list(seasons.values())+[my_class]).set_index(my_class).T.plot(color = color_list)\n",
    "\n",
    "# mean + std\n",
    "mean_df = DataFrame(data=sum_data,columns=list(seasons.values())+[my_class]).set_index(my_class).T\n",
    "std_df = DataFrame(data=std_data,columns=list(seasons.values())+[my_class]).set_index(my_class).T\n",
    "std_df.columns = range(n)\n",
    "\n",
    "for i in range(n):\n",
    "    data_prep = mean_df[i].reset_index(drop=True).reset_index().rename(columns={'index':'x',i:'y'})\n",
    "    if i==0:\n",
    "        ax = data_prep.plot(kind= 'scatter', x='x', y='y',color= color_list[i],yerr=std_df[i].reset_index(drop=True).reset_index()[i], label = f'{my_class} {i}',xlabel= 'Seasons', ylabel=' Ridership Frequency')\n",
    "    else:\n",
    "        data_prep.plot(kind= 'scatter', x='x', y='y',color= color_list[i],yerr=std_df[i].reset_index(drop=True).reset_index()[i],ax=ax,label = f'{my_class} {i}',xlabel= 'seasons', ylabel=' Ridership Frequency')\n",
    "plt.legend()\n",
    "plt.show()"
   ],
   "metadata": {
    "collapsed": false,
    "pycharm": {
     "name": "#%%\n"
    }
   }
  },
  {
   "cell_type": "code",
   "execution_count": 251,
   "outputs": [
    {
     "data": {
      "text/plain": "<AxesSubplot: xlabel='seasons', ylabel=' Ridership Frequency'>"
     },
     "execution_count": 251,
     "metadata": {},
     "output_type": "execute_result"
    },
    {
     "data": {
      "text/plain": "<AxesSubplot: xlabel='seasons', ylabel=' Ridership Frequency'>"
     },
     "execution_count": 251,
     "metadata": {},
     "output_type": "execute_result"
    },
    {
     "ename": "KeyError",
     "evalue": "3",
     "output_type": "error",
     "traceback": [
      "\u001B[1;31m---------------------------------------------------------------------------\u001B[0m",
      "\u001B[1;31mKeyError\u001B[0m                                  Traceback (most recent call last)",
      "File \u001B[1;32m~\\anaconda3\\envs\\ox\\lib\\site-packages\\pandas\\core\\indexes\\base.py:3800\u001B[0m, in \u001B[0;36mIndex.get_loc\u001B[1;34m(self, key, method, tolerance)\u001B[0m\n\u001B[0;32m   3799\u001B[0m \u001B[38;5;28;01mtry\u001B[39;00m:\n\u001B[1;32m-> 3800\u001B[0m     \u001B[38;5;28;01mreturn\u001B[39;00m \u001B[38;5;28;43mself\u001B[39;49m\u001B[38;5;241;43m.\u001B[39;49m\u001B[43m_engine\u001B[49m\u001B[38;5;241;43m.\u001B[39;49m\u001B[43mget_loc\u001B[49m\u001B[43m(\u001B[49m\u001B[43mcasted_key\u001B[49m\u001B[43m)\u001B[49m\n\u001B[0;32m   3801\u001B[0m \u001B[38;5;28;01mexcept\u001B[39;00m \u001B[38;5;167;01mKeyError\u001B[39;00m \u001B[38;5;28;01mas\u001B[39;00m err:\n",
      "File \u001B[1;32m~\\anaconda3\\envs\\ox\\lib\\site-packages\\pandas\\_libs\\index.pyx:138\u001B[0m, in \u001B[0;36mpandas._libs.index.IndexEngine.get_loc\u001B[1;34m()\u001B[0m\n",
      "File \u001B[1;32m~\\anaconda3\\envs\\ox\\lib\\site-packages\\pandas\\_libs\\index.pyx:165\u001B[0m, in \u001B[0;36mpandas._libs.index.IndexEngine.get_loc\u001B[1;34m()\u001B[0m\n",
      "File \u001B[1;32mpandas\\_libs\\hashtable_class_helper.pxi:1577\u001B[0m, in \u001B[0;36mpandas._libs.hashtable.Float64HashTable.get_item\u001B[1;34m()\u001B[0m\n",
      "File \u001B[1;32mpandas\\_libs\\hashtable_class_helper.pxi:1587\u001B[0m, in \u001B[0;36mpandas._libs.hashtable.Float64HashTable.get_item\u001B[1;34m()\u001B[0m\n",
      "\u001B[1;31mKeyError\u001B[0m: 3.0",
      "\nThe above exception was the direct cause of the following exception:\n",
      "\u001B[1;31mKeyError\u001B[0m                                  Traceback (most recent call last)",
      "Cell \u001B[1;32mIn [251], line 2\u001B[0m\n\u001B[0;32m      1\u001B[0m \u001B[38;5;28;01mfor\u001B[39;00m i,val \u001B[38;5;129;01min\u001B[39;00m \u001B[38;5;28menumerate\u001B[39m([\u001B[38;5;124m'\u001B[39m\u001B[38;5;124mblue\u001B[39m\u001B[38;5;124m'\u001B[39m,\u001B[38;5;124m'\u001B[39m\u001B[38;5;124morange\u001B[39m\u001B[38;5;124m'\u001B[39m,\u001B[38;5;124m'\u001B[39m\u001B[38;5;124mgreen\u001B[39m\u001B[38;5;124m'\u001B[39m,\u001B[38;5;124m'\u001B[39m\u001B[38;5;124mred\u001B[39m\u001B[38;5;124m'\u001B[39m]):\n\u001B[1;32m----> 2\u001B[0m     data_prep \u001B[38;5;241m=\u001B[39m \u001B[43mmean_df\u001B[49m\u001B[43m[\u001B[49m\u001B[43mi\u001B[49m\u001B[43m]\u001B[49m\u001B[38;5;241m.\u001B[39mreset_index(drop\u001B[38;5;241m=\u001B[39m\u001B[38;5;28;01mTrue\u001B[39;00m)\u001B[38;5;241m.\u001B[39mreset_index()\u001B[38;5;241m.\u001B[39mrename(columns\u001B[38;5;241m=\u001B[39m{\u001B[38;5;124m'\u001B[39m\u001B[38;5;124mindex\u001B[39m\u001B[38;5;124m'\u001B[39m:\u001B[38;5;124m'\u001B[39m\u001B[38;5;124mx\u001B[39m\u001B[38;5;124m'\u001B[39m,i:\u001B[38;5;124m'\u001B[39m\u001B[38;5;124my\u001B[39m\u001B[38;5;124m'\u001B[39m})\n\u001B[0;32m      3\u001B[0m     \u001B[38;5;28;01mif\u001B[39;00m i\u001B[38;5;241m==\u001B[39m\u001B[38;5;241m0\u001B[39m:\n\u001B[0;32m      4\u001B[0m         ax \u001B[38;5;241m=\u001B[39m data_prep\u001B[38;5;241m.\u001B[39mplot(kind\u001B[38;5;241m=\u001B[39m \u001B[38;5;124m'\u001B[39m\u001B[38;5;124mscatter\u001B[39m\u001B[38;5;124m'\u001B[39m, x\u001B[38;5;241m=\u001B[39m\u001B[38;5;124m'\u001B[39m\u001B[38;5;124mx\u001B[39m\u001B[38;5;124m'\u001B[39m, y\u001B[38;5;241m=\u001B[39m\u001B[38;5;124m'\u001B[39m\u001B[38;5;124my\u001B[39m\u001B[38;5;124m'\u001B[39m,color\u001B[38;5;241m=\u001B[39m color_list[i],yerr\u001B[38;5;241m=\u001B[39mstd_df[i]\u001B[38;5;241m.\u001B[39mreset_index(drop\u001B[38;5;241m=\u001B[39m\u001B[38;5;28;01mTrue\u001B[39;00m)\u001B[38;5;241m.\u001B[39mreset_index()[i], label \u001B[38;5;241m=\u001B[39m \u001B[38;5;124mf\u001B[39m\u001B[38;5;124m'\u001B[39m\u001B[38;5;132;01m{\u001B[39;00mmy_class\u001B[38;5;132;01m}\u001B[39;00m\u001B[38;5;124m \u001B[39m\u001B[38;5;132;01m{\u001B[39;00mi\u001B[38;5;132;01m}\u001B[39;00m\u001B[38;5;124m'\u001B[39m,xlabel\u001B[38;5;241m=\u001B[39m \u001B[38;5;124m'\u001B[39m\u001B[38;5;124mSeasons\u001B[39m\u001B[38;5;124m'\u001B[39m, ylabel\u001B[38;5;241m=\u001B[39m\u001B[38;5;124m'\u001B[39m\u001B[38;5;124m Ridership Frequency\u001B[39m\u001B[38;5;124m'\u001B[39m)\n",
      "File \u001B[1;32m~\\anaconda3\\envs\\ox\\lib\\site-packages\\pandas\\core\\frame.py:3805\u001B[0m, in \u001B[0;36mDataFrame.__getitem__\u001B[1;34m(self, key)\u001B[0m\n\u001B[0;32m   3803\u001B[0m \u001B[38;5;28;01mif\u001B[39;00m \u001B[38;5;28mself\u001B[39m\u001B[38;5;241m.\u001B[39mcolumns\u001B[38;5;241m.\u001B[39mnlevels \u001B[38;5;241m>\u001B[39m \u001B[38;5;241m1\u001B[39m:\n\u001B[0;32m   3804\u001B[0m     \u001B[38;5;28;01mreturn\u001B[39;00m \u001B[38;5;28mself\u001B[39m\u001B[38;5;241m.\u001B[39m_getitem_multilevel(key)\n\u001B[1;32m-> 3805\u001B[0m indexer \u001B[38;5;241m=\u001B[39m \u001B[38;5;28;43mself\u001B[39;49m\u001B[38;5;241;43m.\u001B[39;49m\u001B[43mcolumns\u001B[49m\u001B[38;5;241;43m.\u001B[39;49m\u001B[43mget_loc\u001B[49m\u001B[43m(\u001B[49m\u001B[43mkey\u001B[49m\u001B[43m)\u001B[49m\n\u001B[0;32m   3806\u001B[0m \u001B[38;5;28;01mif\u001B[39;00m is_integer(indexer):\n\u001B[0;32m   3807\u001B[0m     indexer \u001B[38;5;241m=\u001B[39m [indexer]\n",
      "File \u001B[1;32m~\\anaconda3\\envs\\ox\\lib\\site-packages\\pandas\\core\\indexes\\base.py:3802\u001B[0m, in \u001B[0;36mIndex.get_loc\u001B[1;34m(self, key, method, tolerance)\u001B[0m\n\u001B[0;32m   3800\u001B[0m     \u001B[38;5;28;01mreturn\u001B[39;00m \u001B[38;5;28mself\u001B[39m\u001B[38;5;241m.\u001B[39m_engine\u001B[38;5;241m.\u001B[39mget_loc(casted_key)\n\u001B[0;32m   3801\u001B[0m \u001B[38;5;28;01mexcept\u001B[39;00m \u001B[38;5;167;01mKeyError\u001B[39;00m \u001B[38;5;28;01mas\u001B[39;00m err:\n\u001B[1;32m-> 3802\u001B[0m     \u001B[38;5;28;01mraise\u001B[39;00m \u001B[38;5;167;01mKeyError\u001B[39;00m(key) \u001B[38;5;28;01mfrom\u001B[39;00m \u001B[38;5;21;01merr\u001B[39;00m\n\u001B[0;32m   3803\u001B[0m \u001B[38;5;28;01mexcept\u001B[39;00m \u001B[38;5;167;01mTypeError\u001B[39;00m:\n\u001B[0;32m   3804\u001B[0m     \u001B[38;5;66;03m# If we have a listlike key, _check_indexing_error will raise\u001B[39;00m\n\u001B[0;32m   3805\u001B[0m     \u001B[38;5;66;03m#  InvalidIndexError. Otherwise we fall through and re-raise\u001B[39;00m\n\u001B[0;32m   3806\u001B[0m     \u001B[38;5;66;03m#  the TypeError.\u001B[39;00m\n\u001B[0;32m   3807\u001B[0m     \u001B[38;5;28mself\u001B[39m\u001B[38;5;241m.\u001B[39m_check_indexing_error(key)\n",
      "\u001B[1;31mKeyError\u001B[0m: 3"
     ]
    },
    {
     "data": {
      "text/plain": "<Figure size 1500x1000 with 1 Axes>",
      "image/png": "[encoded data removed]"
     },
     "metadata": {},
     "output_type": "display_data"
    }
   ],
   "source": [],
   "metadata": {
    "collapsed": false,
    "pycharm": {
     "name": "#%%\n"
    }
   }
  },
  {
   "cell_type": "code",
   "execution_count": null,
   "outputs": [],
   "source": [],
   "metadata": {
    "collapsed": false,
    "pycharm": {
     "name": "#%%\n"
    }
   }
  },
  {
   "cell_type": "code",
   "execution_count": 217,
   "outputs": [
    {
     "data": {
      "text/plain": "<AxesSubplot: >"
     },
     "execution_count": 217,
     "metadata": {},
     "output_type": "execute_result"
    },
    {
     "data": {
      "text/plain": "<AxesSubplot: >"
     },
     "execution_count": 217,
     "metadata": {},
     "output_type": "execute_result"
    },
    {
     "data": {
      "text/plain": "<matplotlib.legend.Legend at 0x1c44e0eec50>"
     },
     "execution_count": 217,
     "metadata": {},
     "output_type": "execute_result"
    },
    {
     "data": {
      "text/plain": "<Figure size 1500x1000 with 1 Axes>",
      "image/png": "[encoded data removed]"
     },
     "metadata": {},
     "output_type": "display_data"
    }
   ],
   "source": [
    "import pandas as pd\n",
    "import matplotlib.pyplot as plt\n",
    "\n",
    "# Create a sample DataFrame\n",
    "df = pd.DataFrame({'col1': [1, 2, 3, 4, 5, 6, 7, 8, 9, 10],\n",
    "                   'col2': [10, 9, 8, 7, 6, 5, 4, 3, 2, 1]})\n",
    "\n",
    "# Calculate the mean and standard deviation of each column\n",
    "mean1 = df['col1'].mean()\n",
    "std1 = df['col1'].std()\n",
    "mean2 = df['col2'].mean()\n",
    "std2 = df['col2'].std()\n",
    "\n",
    "# Plot both columns on the same graph\n",
    "df['col1'].plot(kind='bar', color='blue', label='mean_col1', yerr=std1)\n",
    "df['col2'].plot(kind='bar', color='red', label='mean_col2', yerr=std2)\n",
    "\n",
    "# Add a legend and display the plot\n",
    "plt.legend()\n",
    "plt.show()"
   ],
   "metadata": {
    "collapsed": false,
    "pycharm": {
     "name": "#%%\n"
    }
   }
  },
  {
   "cell_type": "code",
   "execution_count": 113,
   "outputs": [
    {
     "data": {
      "text/plain": "                                                 Q29  count   per\n2  Recreation or exercise (e.g., cycling in your ...    721  42.0\n3  Transportation (e.g., commuting to school or w...    542  31.0\n1  Equal mix of recreation, exercise, and transpo...    455  26.0\n0                                Don’t know/not sure     10   1.0",
      "text/html": "<div>\n<style scoped>\n    .dataframe tbody tr th:only-of-type {\n        vertical-align: middle;\n    }\n\n    .dataframe tbody tr th {\n        vertical-align: top;\n    }\n\n    .dataframe thead th {\n        text-align: right;\n    }\n</style>\n<table border=\"1\" class=\"dataframe\">\n  <thead>\n    <tr style=\"text-align: right;\">\n      <th></th>\n      <th>Q29</th>\n      <th>count</th>\n      <th>per</th>\n    </tr>\n  </thead>\n  <tbody>\n    <tr>\n      <th>2</th>\n      <td>Recreation or exercise (e.g., cycling in your ...</td>\n      <td>721</td>\n      <td>42.0</td>\n    </tr>\n    <tr>\n      <th>3</th>\n      <td>Transportation (e.g., commuting to school or w...</td>\n      <td>542</td>\n      <td>31.0</td>\n    </tr>\n    <tr>\n      <th>1</th>\n      <td>Equal mix of recreation, exercise, and transpo...</td>\n      <td>455</td>\n      <td>26.0</td>\n    </tr>\n    <tr>\n      <th>0</th>\n      <td>Don’t know/not sure</td>\n      <td>10</td>\n      <td>1.0</td>\n    </tr>\n  </tbody>\n</table>\n</div>"
     },
     "execution_count": 113,
     "metadata": {},
     "output_type": "execute_result"
    },
    {
     "data": {
      "text/plain": "'What was the main purpose of the trips you made with the stolen/damaged bicycle? Measured in highest number or trips, not distance cycled'"
     },
     "execution_count": 113,
     "metadata": {},
     "output_type": "execute_result"
    }
   ],
   "source": [
    "q_num ='Q29'\n",
    "res_reg[q_num]\n",
    "q= questions_to_examine_1.loc[q_num][0]"
   ],
   "metadata": {
    "collapsed": false,
    "pycharm": {
     "name": "#%%\n"
    }
   }
  },
  {
   "cell_type": "code",
   "execution_count": 31,
   "outputs": [
    {
     "data": {
      "text/plain": "                                                  Q30  count   per\n0   Car, as a driver (e.g., personal vehicle, cars...    611  35.0\n2   Cycle, personal bicycle (e.g., own a second bi...    291  17.0\n11                                              Walk     282  16.0\n5                            Didn’t make those trips     221  13.0\n10                          Transit (e.g., bus/rail)     163   9.0\n1   Car, as a passenger (e.g., given rides by frie...     57   3.0\n3                           Cycle, public bike share      27   2.0\n6                                 Don’t know/not sure     29   2.0\n4                              Cycle, rental bicycle      11   1.0\n7   Micro mobility (e.g., e-scooter, e-unicycle, e...      9   1.0\n8                              Motorcycle or scooter      14   1.0\n9     Taxi / Ride-hailing service (e.g., Uber, Lyft)      13   1.0",
      "text/html": "<div>\n<style scoped>\n    .dataframe tbody tr th:only-of-type {\n        vertical-align: middle;\n    }\n\n    .dataframe tbody tr th {\n        vertical-align: top;\n    }\n\n    .dataframe thead th {\n        text-align: right;\n    }\n</style>\n<table border=\"1\" class=\"dataframe\">\n  <thead>\n    <tr style=\"text-align: right;\">\n      <th></th>\n      <th>Q30</th>\n      <th>count</th>\n      <th>per</th>\n    </tr>\n  </thead>\n  <tbody>\n    <tr>\n      <th>0</th>\n      <td>Car, as a driver (e.g., personal vehicle, cars...</td>\n      <td>611</td>\n      <td>35.0</td>\n    </tr>\n    <tr>\n      <th>2</th>\n      <td>Cycle, personal bicycle (e.g., own a second bi...</td>\n      <td>291</td>\n      <td>17.0</td>\n    </tr>\n    <tr>\n      <th>11</th>\n      <td>Walk</td>\n      <td>282</td>\n      <td>16.0</td>\n    </tr>\n    <tr>\n      <th>5</th>\n      <td>Didn’t make those trips</td>\n      <td>221</td>\n      <td>13.0</td>\n    </tr>\n    <tr>\n      <th>10</th>\n      <td>Transit (e.g., bus/rail)</td>\n      <td>163</td>\n      <td>9.0</td>\n    </tr>\n    <tr>\n      <th>1</th>\n      <td>Car, as a passenger (e.g., given rides by frie...</td>\n      <td>57</td>\n      <td>3.0</td>\n    </tr>\n    <tr>\n      <th>3</th>\n      <td>Cycle, public bike share</td>\n      <td>27</td>\n      <td>2.0</td>\n    </tr>\n    <tr>\n      <th>6</th>\n      <td>Don’t know/not sure</td>\n      <td>29</td>\n      <td>2.0</td>\n    </tr>\n    <tr>\n      <th>4</th>\n      <td>Cycle, rental bicycle</td>\n      <td>11</td>\n      <td>1.0</td>\n    </tr>\n    <tr>\n      <th>7</th>\n      <td>Micro mobility (e.g., e-scooter, e-unicycle, e...</td>\n      <td>9</td>\n      <td>1.0</td>\n    </tr>\n    <tr>\n      <th>8</th>\n      <td>Motorcycle or scooter</td>\n      <td>14</td>\n      <td>1.0</td>\n    </tr>\n    <tr>\n      <th>9</th>\n      <td>Taxi / Ride-hailing service (e.g., Uber, Lyft)</td>\n      <td>13</td>\n      <td>1.0</td>\n    </tr>\n  </tbody>\n</table>\n</div>"
     },
     "execution_count": 31,
     "metadata": {},
     "output_type": "execute_result"
    },
    {
     "data": {
      "text/plain": "'Thinking about the trips you made with the stolen/damaged bicycle, what transportation mode did you most often use to make those trips while your bicycle was unavailable?'"
     },
     "execution_count": 31,
     "metadata": {},
     "output_type": "execute_result"
    }
   ],
   "source": [
    "q_num ='Q30'\n",
    "res_reg[q_num]\n",
    "q= questions_to_examine_1.loc[q_num][0]\n",
    "q"
   ],
   "metadata": {
    "collapsed": false,
    "pycharm": {
     "name": "#%%\n"
    }
   }
  },
  {
   "cell_type": "code",
   "execution_count": 9,
   "outputs": [
    {
     "data": {
      "text/plain": "                          Q31  count   per\n0  About the same / no change    852  49.0\n2                 Less often     511  30.0\n1           I stopped cycling    263  15.0\n3                 More often     104   6.0",
      "text/html": "<div>\n<style scoped>\n    .dataframe tbody tr th:only-of-type {\n        vertical-align: middle;\n    }\n\n    .dataframe tbody tr th {\n        vertical-align: top;\n    }\n\n    .dataframe thead th {\n        text-align: right;\n    }\n</style>\n<table border=\"1\" class=\"dataframe\">\n  <thead>\n    <tr style=\"text-align: right;\">\n      <th></th>\n      <th>Q31</th>\n      <th>count</th>\n      <th>per</th>\n    </tr>\n  </thead>\n  <tbody>\n    <tr>\n      <th>0</th>\n      <td>About the same / no change</td>\n      <td>852</td>\n      <td>49.0</td>\n    </tr>\n    <tr>\n      <th>2</th>\n      <td>Less often</td>\n      <td>511</td>\n      <td>30.0</td>\n    </tr>\n    <tr>\n      <th>1</th>\n      <td>I stopped cycling</td>\n      <td>263</td>\n      <td>15.0</td>\n    </tr>\n    <tr>\n      <th>3</th>\n      <td>More often</td>\n      <td>104</td>\n      <td>6.0</td>\n    </tr>\n  </tbody>\n</table>\n</div>"
     },
     "execution_count": 9,
     "metadata": {},
     "output_type": "execute_result"
    },
    {
     "data": {
      "text/plain": "'Compared to before the theft, what best describes your overall cycling activity after your stolen bicycle (or part) was recovered, replaced, or abandoned? Did you cycle…'"
     },
     "execution_count": 9,
     "metadata": {},
     "output_type": "execute_result"
    }
   ],
   "source": [
    "q_num ='Q31'\n",
    "res_reg[q_num]\n",
    "q= questions_to_examine_1.loc[q_num][0]\n",
    "q"
   ],
   "metadata": {
    "collapsed": false,
    "pycharm": {
     "name": "#%%\n"
    }
   }
  },
  {
   "cell_type": "code",
   "execution_count": 32,
   "outputs": [
    {
     "data": {
      "text/plain": "<IPython.core.display.Markdown object>",
      "text/markdown": "Q32 - What were the main reasons you cycled less often or not at all? (Select up to 3) - Selected Choice"
     },
     "metadata": {},
     "output_type": "display_data"
    },
    {
     "data": {
      "text/plain": "<IPython.core.display.Markdown object>",
      "text/markdown": "<h4>Results</h4><ul><li>the answer with the highest  frequency is:</li></ul>"
     },
     "metadata": {},
     "output_type": "display_data"
    },
    {
     "data": {
      "text/plain": "count    307.0\nper       25.0\nName: I couldn’t recover my bicycle and didn’t replace it due to cost or other reason, dtype: float64"
     },
     "execution_count": 32,
     "metadata": {},
     "output_type": "execute_result"
    },
    {
     "data": {
      "text/plain": "<IPython.core.display.Markdown object>",
      "text/markdown": "Q33 - What were the main reasons you cycled more often? (Select up to 3) - Selected Choice"
     },
     "metadata": {},
     "output_type": "display_data"
    },
    {
     "data": {
      "text/plain": "<IPython.core.display.Markdown object>",
      "text/markdown": "<h4>Results</h4><ul><li>only 6% answer this question.</li><li>the answer with the highest  frequency is :</li></ul>"
     },
     "metadata": {},
     "output_type": "display_data"
    },
    {
     "data": {
      "text/plain": "count    49.0\nper      26.0\nName: My new bicycle was more capable, comfortable to ride, or better suited to my travel needs, dtype: float64"
     },
     "execution_count": 32,
     "metadata": {},
     "output_type": "execute_result"
    },
    {
     "data": {
      "text/plain": "<IPython.core.display.Markdown object>",
      "text/markdown": "<h4>Next analysis</h4><ul> <li>group choices</li> <li>cross validation with demographic</li><li>cross validation with bike characteristics</li></ul>"
     },
     "metadata": {},
     "output_type": "display_data"
    },
    {
     "data": {
      "text/plain": "                                                    count   per\nquestion                                                       \nI couldn’t recover my bicycle and didn’t replac...    307  25.0\nThere might not be a safe place to park my bicy...    216  18.0\nBecame accustomed to travelling with a differen...    118  10.0\nOther (please specify):                               125  10.0\nMy new bicycle isn’t as capable or comfortable ...    113   9.0\nI don’t have a safe place to store my bicycle a...     94   8.0\nHigh-security locks or secure parking locations...     89   7.0\nMy cycling equipment/accessories/gear (e.g., pa...     75   6.0\nNot riding has made me too out of shape to make...     47   4.0\nMy bicycle was damaged and couldn’t be repaired...     11   1.0\nDon’t know/not sure                                    17   1.0",
      "text/html": "<div>\n<style scoped>\n    .dataframe tbody tr th:only-of-type {\n        vertical-align: middle;\n    }\n\n    .dataframe tbody tr th {\n        vertical-align: top;\n    }\n\n    .dataframe thead th {\n        text-align: right;\n    }\n</style>\n<table border=\"1\" class=\"dataframe\">\n  <thead>\n    <tr style=\"text-align: right;\">\n      <th></th>\n      <th>count</th>\n      <th>per</th>\n    </tr>\n    <tr>\n      <th>question</th>\n      <th></th>\n      <th></th>\n    </tr>\n  </thead>\n  <tbody>\n    <tr>\n      <th>I couldn’t recover my bicycle and didn’t replace it due to cost or other reason</th>\n      <td>307</td>\n      <td>25.0</td>\n    </tr>\n    <tr>\n      <th>There might not be a safe place to park my bicycle at the places I go</th>\n      <td>216</td>\n      <td>18.0</td>\n    </tr>\n    <tr>\n      <th>Became accustomed to travelling with a different mode</th>\n      <td>118</td>\n      <td>10.0</td>\n    </tr>\n    <tr>\n      <th>Other (please specify):</th>\n      <td>125</td>\n      <td>10.0</td>\n    </tr>\n    <tr>\n      <th>My new bicycle isn’t as capable or comfortable to ride</th>\n      <td>113</td>\n      <td>9.0</td>\n    </tr>\n    <tr>\n      <th>I don’t have a safe place to store my bicycle at home</th>\n      <td>94</td>\n      <td>8.0</td>\n    </tr>\n    <tr>\n      <th>High-security locks or secure parking locations involve a great deal of effort, inconvenience, or difficulty to access my bicycle</th>\n      <td>89</td>\n      <td>7.0</td>\n    </tr>\n    <tr>\n      <th>My cycling equipment/accessories/gear (e.g., panniers, lock, lights, rack, basket) necessary to make my usual cycling trips were stolen or damaged</th>\n      <td>75</td>\n      <td>6.0</td>\n    </tr>\n    <tr>\n      <th>Not riding has made me too out of shape to make my usual cycling trips</th>\n      <td>47</td>\n      <td>4.0</td>\n    </tr>\n    <tr>\n      <th>My bicycle was damaged and couldn’t be repaired or was too expensive to repair</th>\n      <td>11</td>\n      <td>1.0</td>\n    </tr>\n    <tr>\n      <th>Don’t know/not sure</th>\n      <td>17</td>\n      <td>1.0</td>\n    </tr>\n  </tbody>\n</table>\n</div>"
     },
     "execution_count": 32,
     "metadata": {},
     "output_type": "execute_result"
    },
    {
     "data": {
      "text/plain": "                                                    count   per\nquestion                                                       \nMy new bicycle was more capable, comfortable to...     49  26.0\nReasons unrelated to the theft                         34  18.0\nI was motivated to purchase new cycling equipme...     27  14.0\nUpgraded the quality of lock I use and/or used ...     24  13.0\nOther (please specify):                                25  13.0\nI added my bicycle to a registry/recovery syste...     11   6.0\nI replaced my stolen bicycle with an e-bike             6   3.0\nMy replacement bicycle was used or less expensi...      6   3.0\nMy recovered bicycle was cosmetically damaged, ...      3   2.0\nI used public bike share to replace trips I pre...      1   1.0\nDon’t know/not sure                                     1   1.0",
      "text/html": "<div>\n<style scoped>\n    .dataframe tbody tr th:only-of-type {\n        vertical-align: middle;\n    }\n\n    .dataframe tbody tr th {\n        vertical-align: top;\n    }\n\n    .dataframe thead th {\n        text-align: right;\n    }\n</style>\n<table border=\"1\" class=\"dataframe\">\n  <thead>\n    <tr style=\"text-align: right;\">\n      <th></th>\n      <th>count</th>\n      <th>per</th>\n    </tr>\n    <tr>\n      <th>question</th>\n      <th></th>\n      <th></th>\n    </tr>\n  </thead>\n  <tbody>\n    <tr>\n      <th>My new bicycle was more capable, comfortable to ride, or better suited to my travel needs</th>\n      <td>49</td>\n      <td>26.0</td>\n    </tr>\n    <tr>\n      <th>Reasons unrelated to the theft</th>\n      <td>34</td>\n      <td>18.0</td>\n    </tr>\n    <tr>\n      <th>I was motivated to purchase new cycling equipment/accessories/gear (e.g., panniers, lock, lights, rack, basket, cycle computer, rain gear) to make more frequent cycling trips, have more enjoyable trips, or visit new places</th>\n      <td>27</td>\n      <td>14.0</td>\n    </tr>\n    <tr>\n      <th>Upgraded the quality of lock I use and/or used another type of anti-theft device, so I was less worried about theft</th>\n      <td>24</td>\n      <td>13.0</td>\n    </tr>\n    <tr>\n      <th>Other (please specify):</th>\n      <td>25</td>\n      <td>13.0</td>\n    </tr>\n    <tr>\n      <th>I added my bicycle to a registry/recovery system, so I was less worried about theft</th>\n      <td>11</td>\n      <td>6.0</td>\n    </tr>\n    <tr>\n      <th>I replaced my stolen bicycle with an e-bike</th>\n      <td>6</td>\n      <td>3.0</td>\n    </tr>\n    <tr>\n      <th>My replacement bicycle was used or less expensive than the stolen bike, so I was less worried about theft</th>\n      <td>6</td>\n      <td>3.0</td>\n    </tr>\n    <tr>\n      <th>My recovered bicycle was cosmetically damaged, or I made it look unattractive, so I was less worried about theft</th>\n      <td>3</td>\n      <td>2.0</td>\n    </tr>\n    <tr>\n      <th>I used public bike share to replace trips I previously made using a different mode (e.g., previously walked/drove/transit)</th>\n      <td>1</td>\n      <td>1.0</td>\n    </tr>\n    <tr>\n      <th>Don’t know/not sure</th>\n      <td>1</td>\n      <td>1.0</td>\n    </tr>\n  </tbody>\n</table>\n</div>"
     },
     "execution_count": 32,
     "metadata": {},
     "output_type": "execute_result"
    }
   ],
   "source": [
    "q_num ='Q32'\n",
    "q= questions_to_examine_1.loc[q_num][0]\n",
    "most_pop = res32_33[0].iloc[0]\n",
    "text =f\"{q_num} - {q}\"\n",
    "display(Markdown(text))\n",
    "text = f\"<h4>Results</h4><ul><li>the answer with the highest  frequency is:</li></ul>\"\n",
    "display(Markdown(text))\n",
    "most_pop\n",
    "q_num = 'Q33'\n",
    "q= questions_to_examine_1.loc[q_num][0]\n",
    "most_pop = res32_33[1].iloc[0]\n",
    "text =f\"{q_num} - {q}\"\n",
    "display(Markdown(text))\n",
    "len_all =len(data_general)\n",
    "percentage_of_ans = int(round((len_all- data_general[q_num].isna().sum())/len_all*100))\n",
    "text = f\"<h4>Results</h4><ul><li>only {percentage_of_ans}% answer this question.</li><li>the answer with the highest  frequency is :</li></ul>\"\n",
    "display(Markdown(text))\n",
    "most_pop\n",
    "\n",
    "text = \"<h4>Next analysis</h4><ul> <li>group choices</li> <li>cross validation with demographic</li><li>cross validation with bike characteristics</li></ul>\"\n",
    "display(Markdown(text))\n",
    "res32_33[0]\n",
    "res32_33[1]"
   ],
   "metadata": {
    "collapsed": false,
    "pycharm": {
     "name": "#%%\n"
    }
   }
  },
  {
   "cell_type": "code",
   "execution_count": 13,
   "outputs": [
    {
     "data": {
      "text/plain": "<IPython.core.display.Markdown object>",
      "text/markdown": "<h4>Research Questions</h4><ul><li>The change in behavior following theft (Q25 - Q27 and Q30- Q33). These questions should be cross tabulated with demographic, bike type and Q28different  personal profile type and Q29</li></ul>"
     },
     "metadata": {},
     "output_type": "display_data"
    }
   ],
   "source": [
    "text = f\"<h4>Research Questions</h4><ul><li>The change in behavior following theft (Q25 - Q27 and Q30- Q33). These questions should be cross tabulated with demographic, bike type and Q28 different  personal profile type and Q29</li></ul>\"\n",
    "display(Markdown(text))"
   ],
   "metadata": {
    "collapsed": false,
    "pycharm": {
     "name": "#%%\n"
    }
   }
  },
  {
   "cell_type": "code",
   "execution_count": null,
   "outputs": [],
   "source": [
    "# list with question number\n",
    "# add Q\n",
    "questions = [f'Q{num}' for num in list(range(25,28)) +list(range(30,34))]\n",
    "# get the tables from the dic\n",
    "res_25\n",
    "res_26\n",
    "res_q27\n",
    "# present them\n"
   ],
   "metadata": {
    "collapsed": false,
    "pycharm": {
     "name": "#%%\n"
    }
   }
  },
  {
   "cell_type": "code",
   "execution_count": null,
   "outputs": [],
   "source": [],
   "metadata": {
    "collapsed": false,
    "pycharm": {
     "name": "#%%\n"
    }
   }
  }
 ],
 "metadata": {
  "kernelspec": {
   "display_name": "Python 3",
   "language": "python",
   "name": "python3"
  },
  "language_info": {
   "codemirror_mode": {
    "name": "ipython",
    "version": 2
   },
   "file_extension": ".py",
   "mimetype": "text/x-python",
   "name": "python",
   "nbconvert_exporter": "python",
   "pygments_lexer": "ipython2",
   "version": "2.7.6"
  }
 },
 "nbformat": 4,
 "nbformat_minor": 0
}