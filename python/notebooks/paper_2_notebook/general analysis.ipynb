{
 "cells": [
  {
   "cell_type": "code",
   "execution_count": 21,
   "outputs": [],
   "source": [
    "\n",
    "import calendar\n",
    "months = list(map(lambda x:x.lower(),calendar.month_name))[1:]\n",
    "import pandas as pd\n",
    "from pandas import DataFrame\n",
    "\n",
    "import matplotlib.pyplot as plt\n",
    "from IPython.core.interactiveshell import InteractiveShell\n",
    "InteractiveShell.ast_node_interactivity = 'all'\n",
    "\n",
    "import matplotlib.ticker as mtick\n",
    "\n",
    "import matplotlib.pylab as pylab\n",
    "params = {'legend.fontsize': 'x-large',\n",
    "          'figure.figsize': (15, 10),\n",
    "         'axes.labelsize': 'x-large',\n",
    "         'axes.titlesize':'x-large',\n",
    "         'xtick.labelsize':'x-large',\n",
    "         'ytick.labelsize':'x-large'}\n",
    "pylab.rcParams.update(params)\n",
    "\n",
    "import os\n",
    "project_folder =os.path.dirname(os.path.dirname(os.path.dirname(os.getcwd())))\n",
    "import warnings\n",
    "warnings.filterwarnings(action='ignore')\n",
    "from IPython.display import display\n",
    "from IPython.display import Markdown\n",
    "from IPython.display import display_html\n",
    "\n",
    "\n"
   ],
   "metadata": {
    "collapsed": false,
    "pycharm": {
     "name": "#%%\n"
    }
   }
  },
  {
   "cell_type": "code",
   "execution_count": 2,
   "outputs": [],
   "source": [
    "# That's not part of the procedure\n",
    "pd.read_csv(f'{project_folder}/data/process/new_data.csv').reset_index().iloc[0].to_csv('output_2/fileds_to_work_on.csv')"
   ],
   "metadata": {
    "collapsed": false,
    "pycharm": {
     "name": "#%%\n"
    }
   }
  },
  {
   "cell_type": "code",
   "execution_count": 9,
   "outputs": [
    {
     "data": {
      "text/plain": "index                                                          0\nStartDate                                             Start Date\nEndDate                                                 End Date\nStatus                                             Response Type\nIPAddress                                             IP Address\n                                     ...                        \nQ38            What is the highest level of education you hav...\nQ39            What do you consider your main ethnic origin o...\nQ39_10_TEXT    What do you consider your main ethnic origin o...\nQ40            Where did you hear about this survey? - Select...\nQ40_3_TEXT     Where did you hear about this survey? - Other ...\nName: 0, Length: 75, dtype: object"
     },
     "execution_count": 9,
     "metadata": {},
     "output_type": "execute_result"
    }
   ],
   "source": [
    "# show the questions\n",
    "data_questions = pd.read_csv(f'{project_folder}/data/process/new_data.csv', skiprows=[2]).reset_index().iloc[0]\n",
    "data_questions"
   ],
   "metadata": {
    "collapsed": false,
    "pycharm": {
     "name": "#%%\n"
    }
   }
  },
  {
   "cell_type": "markdown",
   "source": [
    "#### Data Preparation"
   ],
   "metadata": {
    "collapsed": false,
    "pycharm": {
     "name": "#%% md\n"
    }
   }
  },
  {
   "cell_type": "code",
   "execution_count": 3,
   "outputs": [],
   "source": [
    "data_general = pd.read_csv(f'{project_folder}/data/process/final_geo_coding.csv', skiprows=[1, 2]).reset_index()\n",
    "# Read dictionary of relevant questions\n",
    "questions_to_examine=pd.read_csv(f'output_2/fileds_to_work_on_updated.csv')\n",
    "rel_questions_dic = dict(zip(questions_to_examine['Number'], questions_to_examine['Abbreviation ']))\n",
    "field_to_work_on = 'index'"
   ],
   "metadata": {
    "collapsed": false,
    "pycharm": {
     "name": "#%%\n"
    }
   }
  },
  {
   "cell_type": "code",
   "execution_count": 4,
   "outputs": [],
   "source": [
    "special_questions = ['Q26', 'Q27', 'Q32', 'Q33']\n"
   ],
   "metadata": {
    "collapsed": false,
    "pycharm": {
     "name": "#%%\n"
    }
   }
  },
  {
   "cell_type": "code",
   "execution_count": 108,
   "outputs": [],
   "source": [
    "questions_to_examine_1  = questions_to_examine.set_index('Number')"
   ],
   "metadata": {
    "collapsed": false,
    "pycharm": {
     "name": "#%%\n"
    }
   }
  },
  {
   "cell_type": "code",
   "execution_count": 135,
   "outputs": [
    {
     "data": {
      "text/plain": "<IPython.core.display.Markdown object>",
      "text/markdown": "<span style='color:blue; font-size:20px'>The following questions will be the main focus of our analysis. We will begin by looking at each question individually.</span>"
     },
     "metadata": {},
     "output_type": "display_data"
    },
    {
     "data": {
      "text/plain": "                                                Question         Abbreviation \nNumber                                                                        \nQ25     Did you replace the stolen bicycle or bicycle ...          Is replaced\nQ26     How many days did it take to recover or replac...        Time replaced\nQ27     After recovering your bike, how many additiona...        Time rideable\nQ28_1   Over the past year, how often did you cycle (w...           Fall habit\nQ28_2   Over the past year, how often did you cycle (w...         Winter habit\nQ28_3   Over the past year, how often did you cycle (w...         Spring habit\nQ28_4   Over the past year, how often did you cycle (w...         Summer habit\nQ29     What was the main purpose of the trips you mad...         Purpose trip\nQ30     Thinking about the trips you made with the sto...          Mode switch\nQ31     Compared to before the theft, what best descri...  Theft circumstances\nQ32     What were the main reasons you cycled less oft...          Reason less\nQ33     What were the main reasons you cycled more oft...          Reason more",
      "text/html": "<div>\n<style scoped>\n    .dataframe tbody tr th:only-of-type {\n        vertical-align: middle;\n    }\n\n    .dataframe tbody tr th {\n        vertical-align: top;\n    }\n\n    .dataframe thead th {\n        text-align: right;\n    }\n</style>\n<table border=\"1\" class=\"dataframe\">\n  <thead>\n    <tr style=\"text-align: right;\">\n      <th></th>\n      <th>Question</th>\n      <th>Abbreviation</th>\n    </tr>\n    <tr>\n      <th>Number</th>\n      <th></th>\n      <th></th>\n    </tr>\n  </thead>\n  <tbody>\n    <tr>\n      <th>Q25</th>\n      <td>Did you replace the stolen bicycle or bicycle ...</td>\n      <td>Is replaced</td>\n    </tr>\n    <tr>\n      <th>Q26</th>\n      <td>How many days did it take to recover or replac...</td>\n      <td>Time replaced</td>\n    </tr>\n    <tr>\n      <th>Q27</th>\n      <td>After recovering your bike, how many additiona...</td>\n      <td>Time rideable</td>\n    </tr>\n    <tr>\n      <th>Q28_1</th>\n      <td>Over the past year, how often did you cycle (w...</td>\n      <td>Fall habit</td>\n    </tr>\n    <tr>\n      <th>Q28_2</th>\n      <td>Over the past year, how often did you cycle (w...</td>\n      <td>Winter habit</td>\n    </tr>\n    <tr>\n      <th>Q28_3</th>\n      <td>Over the past year, how often did you cycle (w...</td>\n      <td>Spring habit</td>\n    </tr>\n    <tr>\n      <th>Q28_4</th>\n      <td>Over the past year, how often did you cycle (w...</td>\n      <td>Summer habit</td>\n    </tr>\n    <tr>\n      <th>Q29</th>\n      <td>What was the main purpose of the trips you mad...</td>\n      <td>Purpose trip</td>\n    </tr>\n    <tr>\n      <th>Q30</th>\n      <td>Thinking about the trips you made with the sto...</td>\n      <td>Mode switch</td>\n    </tr>\n    <tr>\n      <th>Q31</th>\n      <td>Compared to before the theft, what best descri...</td>\n      <td>Theft circumstances</td>\n    </tr>\n    <tr>\n      <th>Q32</th>\n      <td>What were the main reasons you cycled less oft...</td>\n      <td>Reason less</td>\n    </tr>\n    <tr>\n      <th>Q33</th>\n      <td>What were the main reasons you cycled more oft...</td>\n      <td>Reason more</td>\n    </tr>\n  </tbody>\n</table>\n</div>"
     },
     "execution_count": 135,
     "metadata": {},
     "output_type": "execute_result"
    }
   ],
   "source": [
    "html_table = questions_to_examine_1.to_html()\n",
    "text =\"<span style='color:blue; font-size:20px'>The following questions will be the main focus of our analysis. We will begin by looking at each question individually.</span>\"\n",
    "display(Markdown(text))\n",
    "# display_html(html_table, raw=True)\n",
    "questions_to_examine.set_index('Number')"
   ],
   "metadata": {
    "collapsed": false,
    "pycharm": {
     "name": "#%%\n"
    }
   }
  },
  {
   "cell_type": "markdown",
   "source": [
    "#### Q26 - How many days did it take to recover or replace your stolen bicycle or part?"
   ],
   "metadata": {
    "collapsed": false,
    "pycharm": {
     "name": "#%% md\n"
    }
   }
  },
  {
   "cell_type": "code",
   "execution_count": 5,
   "outputs": [],
   "source": [
    "data_general['Q26'] = data_general['Q26'].apply(lambda x: str(x).rstrip().lstrip())\n",
    "gb_data_0= data_general.groupby('Q26').count()[field_to_work_on].sort_values(ascending=False)\n",
    "# Values to delete\n",
    "null_values =['nan','N/a','Na','na','None','-','Months']\n",
    "gb_data = gb_data_0[~gb_data_0.index.isin(null_values)]"
   ],
   "metadata": {
    "collapsed": false,
    "pycharm": {
     "name": "#%%\n"
    }
   }
  },
  {
   "cell_type": "code",
   "execution_count": 6,
   "outputs": [],
   "source": [
    "from qu_26_27 import InterpretTime\n",
    "time_q26 = InterpretTime(gb_data)\n",
    "for res in time_q26.new_gb_data.iterrows():\n",
    "    time_q26.main_part(res)"
   ],
   "metadata": {
    "collapsed": false,
    "pycharm": {
     "name": "#%%\n"
    }
   }
  },
  {
   "cell_type": "code",
   "execution_count": 55,
   "outputs": [],
   "source": [
    "def calc_statistics(class_data:DataFrame):\n",
    "    r\"\"\"\n",
    "    the class count the number of respondents for the number of days\n",
    "    :param class_data:\n",
    "    :return: list of date groupby the number of days, statistics and count and percentage of those with doesn't recover/replace/fix atc. their bicycles\n",
    "    \"\"\"\n",
    "    # remove records without number of days\n",
    "    num_of_days = class_data['num_of_days']\n",
    "    final_data = class_data[(num_of_days!='') & (num_of_days !=-1)]\n",
    "    # group by number of days\n",
    "    mygroupby = final_data.groupby('num_of_days').sum().sort_values(by = 'count',ascending=False)\n",
    "\n",
    "     # flat @mygroupby to calculate statistic\n",
    "    l= [[item[0]]*item[1]['count'] for item in mygroupby.iterrows()]\n",
    "    flat_list = [item for sublist in l for item in sublist]\n",
    "    df = DataFrame(flat_list)\n",
    "\n",
    "\n",
    "    # the number of -1\n",
    "    no_data = class_data[num_of_days ==-1].sum()['count']\n",
    "    no_dat_dic = (no_data ,no_data/ (len(flat_list)+no_data)*100)\n",
    "    return mygroupby, df.describe(),{'no_action_yet':no_dat_dic},df\n"
   ],
   "metadata": {
    "collapsed": false,
    "pycharm": {
     "name": "#%%\n"
    }
   }
  },
  {
   "cell_type": "code",
   "execution_count": 120,
   "outputs": [
    {
     "data": {
      "text/plain": "<IPython.core.display.Markdown object>",
      "text/markdown": "<span style='color:blue; font-size:20px'>How many days did it take to recover or replace your stolen bicycle or part?</span>"
     },
     "metadata": {},
     "output_type": "display_data"
    },
    {
     "data": {
      "text/plain": "<IPython.core.display.Markdown object>",
      "text/markdown": "<span style='color:blue; font-size:20px'>25% recovered or replaced their bicycles within 20 days and 50% within 49 days.  4% are recovered or replaced after more then 1 year. The longest time  reported to recovered/replaced was 1460 days. Among all the participants that answers to this question 5% have not recovered/replaces their bicycles.</span>"
     },
     "metadata": {},
     "output_type": "display_data"
    },
    {
     "data": {
      "text/plain": "<IPython.core.display.Markdown object>",
      "text/markdown": "<span style='color:red; font-size:20px'>An optional analysis would be to compare the results between group members who were replaced and those who recovered. Are there any statistical differences between the two groups?"
     },
     "metadata": {},
     "output_type": "display_data"
    }
   ],
   "source": [
    "q= questions_to_examine_1.loc['Q26'][0]\n",
    "res = calc_statistics(time_q26.new_gb_data)\n",
    "flat_data = res[-1]\n",
    "day_25 = int(res[1].loc['25%'][0])\n",
    "day_50 = int(res[1].loc['50%'][0])\n",
    "more_365  = len(flat_data[flat_data[0]>365])\n",
    "more_385_percentage = int(round(more_365/len(flat_data)*100,0))\n",
    "max= int(res[1].loc['max'][0])\n",
    "no_recoverd_replace =int(round(list(res[2].values())[0][1]))\n",
    "text =f\"<span style='color:blue; font-size:20px'>{q}</span>\"\n",
    "display(Markdown(text))\n",
    "text = f\"<span style='color:blue; font-size:20px'>25% recovered or replaced their bicycles within {day_25} days and 50% within {day_50} days.  {more_385_percentage}% are recovered or replaced after more then 1 year. The longest time  reported to recovered/replaced was {max} days. Among all the participants that answers to this question {no_recoverd_replace}% have not recovered/replaces their bicycles.</span>\"\n",
    "display(Markdown(text))\n",
    "text = \"<span style='color:red; font-size:20px'>An optional analysis would be to compare the results between group members who were replaced and those who recovered. Are there any statistical differences between the two groups?\"\n",
    "display(Markdown(text))"
   ],
   "metadata": {
    "collapsed": false,
    "pycharm": {
     "name": "#%%\n"
    }
   }
  },
  {
   "cell_type": "markdown",
   "source": [
    "#### Q27 - After recovering your bike, how many additional days did it take before your bicycle was repaired and rideable?"
   ],
   "metadata": {
    "collapsed": false,
    "pycharm": {
     "name": "#%% md\n"
    }
   }
  },
  {
   "cell_type": "code",
   "execution_count": 89,
   "outputs": [],
   "source": [
    "gb_data_first = data_general.groupby('Q27').count()[field_to_work_on].sort_values(ascending=False)\n",
    "gb_data_27 = gb_data_first.dropna()\n",
    "time_q27 = InterpretTime(gb_data_27)\n",
    "for res in time_q27.new_gb_data.iterrows():\n",
    "    time_q27.main_part(res)\n",
    "res = calc_statistics(time_q27.new_gb_data)"
   ],
   "metadata": {
    "collapsed": false,
    "pycharm": {
     "name": "#%%\n"
    }
   }
  },
  {
   "cell_type": "code",
   "execution_count": 121,
   "outputs": [
    {
     "data": {
      "text/plain": "<IPython.core.display.Markdown object>",
      "text/markdown": "<span style='color:blue; font-size:20px'>After recovering your bike, how many additional days did it take before your bicycle was repaired and rideable?</span>"
     },
     "metadata": {},
     "output_type": "display_data"
    },
    {
     "data": {
      "text/plain": "<IPython.core.display.Markdown object>",
      "text/markdown": "<span style='color:blue; font-size:20px'>25% repaired their bicycles within 20 days and 50% within 49 days. 54% are repaired after more then 1 month. The longest time  reported to repair was 1460 days. Among all the participants that answers to this question 5% have not recovered/replaces their bicycles.</span>"
     },
     "metadata": {},
     "output_type": "display_data"
    }
   ],
   "source": [
    "q= questions_to_examine_1.loc['Q27'][0]\n",
    "flat_data = res[-1]\n",
    "day_25 = int(res[1].loc['25%'][0])\n",
    "day_50 = int(res[1].loc['50%'][0])\n",
    "more_30  = len(flat_data[flat_data[0]>30])\n",
    "more_30_percentage = int(round(more_30/len(flat_data)*100,0))\n",
    "max= int(res[1].loc['max'][0])\n",
    "no_recoverd_replace =int(round(list(res[2].values())[0][1]))\n",
    "text =f\"<span style='color:blue; font-size:20px'>{q}</span>\"\n",
    "display(Markdown(text))\n",
    "text = f\"<span style='color:blue; font-size:20px'>25% repaired their bicycles within {day_25} days and 50% within {day_50} days. {more_30_percentage}% are repaired after more then 1 month. The longest time  reported to repair was {max} days. Among all the participants that answers to this question {no_recoverd_replace}% have not recovered/replaces their bicycles.</span>\"\n",
    "display(Markdown(text))\n"
   ],
   "metadata": {
    "collapsed": false,
    "pycharm": {
     "name": "#%%\n"
    }
   }
  },
  {
   "cell_type": "code",
   "execution_count": 172,
   "outputs": [
    {
     "name": "stdout",
     "output_type": "stream",
     "text": [
      "Q32\n"
     ]
    },
    {
     "ename": "UnicodeDecodeError",
     "evalue": "'utf-8' codec can't decode byte 0x92 in position 18: invalid start byte",
     "output_type": "error",
     "traceback": [
      "\u001B[1;31m---------------------------------------------------------------------------\u001B[0m",
      "\u001B[1;31mUnicodeDecodeError\u001B[0m                        Traceback (most recent call last)",
      "File \u001B[1;32m~\\anaconda3\\envs\\ox\\lib\\site-packages\\pandas\\_libs\\parsers.pyx:1083\u001B[0m, in \u001B[0;36mpandas._libs.parsers.TextReader._convert_tokens\u001B[1;34m()\u001B[0m\n",
      "File \u001B[1;32m~\\anaconda3\\envs\\ox\\lib\\site-packages\\pandas\\_libs\\parsers.pyx:1233\u001B[0m, in \u001B[0;36mpandas._libs.parsers.TextReader._convert_with_dtype\u001B[1;34m()\u001B[0m\n",
      "File \u001B[1;32m~\\anaconda3\\envs\\ox\\lib\\site-packages\\pandas\\_libs\\parsers.pyx:1246\u001B[0m, in \u001B[0;36mpandas._libs.parsers.TextReader._string_convert\u001B[1;34m()\u001B[0m\n",
      "File \u001B[1;32m~\\anaconda3\\envs\\ox\\lib\\site-packages\\pandas\\_libs\\parsers.pyx:1444\u001B[0m, in \u001B[0;36mpandas._libs.parsers._string_box_utf8\u001B[1;34m()\u001B[0m\n",
      "\u001B[1;31mUnicodeDecodeError\u001B[0m: 'utf-8' codec can't decode byte 0x92 in position 18: invalid start byte",
      "\nDuring handling of the above exception, another exception occurred:\n",
      "\u001B[1;31mUnicodeDecodeError\u001B[0m                        Traceback (most recent call last)",
      "Cell \u001B[1;32mIn [172], line 6\u001B[0m\n\u001B[0;32m      4\u001B[0m \u001B[38;5;28mprint\u001B[39m(question_num)\n\u001B[0;32m      5\u001B[0m \u001B[38;5;66;03m# Read choice options\u001B[39;00m\n\u001B[1;32m----> 6\u001B[0m choice_df \u001B[38;5;241m=\u001B[39m \u001B[43mpd\u001B[49m\u001B[38;5;241;43m.\u001B[39;49m\u001B[43mread_csv\u001B[49m\u001B[43m(\u001B[49m\u001B[38;5;124;43mf\u001B[39;49m\u001B[38;5;124;43m'\u001B[39;49m\u001B[38;5;124;43moutput_2/\u001B[39;49m\u001B[38;5;132;43;01m{\u001B[39;49;00m\u001B[43mquestion_num\u001B[49m\u001B[38;5;132;43;01m}\u001B[39;49;00m\u001B[38;5;124;43m.csv\u001B[39;49m\u001B[38;5;124;43m'\u001B[39;49m\u001B[43m)\u001B[49m\u001B[38;5;241m.\u001B[39mset_index(\u001B[38;5;124m'\u001B[39m\u001B[38;5;124mquestion\u001B[39m\u001B[38;5;124m'\u001B[39m)\n\u001B[0;32m      7\u001B[0m \u001B[38;5;66;03m# grpoupby data by the responses to the question_num\u001B[39;00m\n\u001B[0;32m      8\u001B[0m gb_data\u001B[38;5;241m=\u001B[39m data_general\u001B[38;5;241m.\u001B[39mgroupby(question_num)\u001B[38;5;241m.\u001B[39mcount()[field_to_work_on]\u001B[38;5;241m.\u001B[39msort_values(ascending\u001B[38;5;241m=\u001B[39m\u001B[38;5;28;01mFalse\u001B[39;00m)\u001B[38;5;241m.\u001B[39mreset_index()\n",
      "File \u001B[1;32m~\\anaconda3\\envs\\ox\\lib\\site-packages\\pandas\\util\\_decorators.py:211\u001B[0m, in \u001B[0;36mdeprecate_kwarg.<locals>._deprecate_kwarg.<locals>.wrapper\u001B[1;34m(*args, **kwargs)\u001B[0m\n\u001B[0;32m    209\u001B[0m     \u001B[38;5;28;01melse\u001B[39;00m:\n\u001B[0;32m    210\u001B[0m         kwargs[new_arg_name] \u001B[38;5;241m=\u001B[39m new_arg_value\n\u001B[1;32m--> 211\u001B[0m \u001B[38;5;28;01mreturn\u001B[39;00m func(\u001B[38;5;241m*\u001B[39margs, \u001B[38;5;241m*\u001B[39m\u001B[38;5;241m*\u001B[39mkwargs)\n",
      "File \u001B[1;32m~\\anaconda3\\envs\\ox\\lib\\site-packages\\pandas\\util\\_decorators.py:317\u001B[0m, in \u001B[0;36mdeprecate_nonkeyword_arguments.<locals>.decorate.<locals>.wrapper\u001B[1;34m(*args, **kwargs)\u001B[0m\n\u001B[0;32m    311\u001B[0m \u001B[38;5;28;01mif\u001B[39;00m \u001B[38;5;28mlen\u001B[39m(args) \u001B[38;5;241m>\u001B[39m num_allow_args:\n\u001B[0;32m    312\u001B[0m     warnings\u001B[38;5;241m.\u001B[39mwarn(\n\u001B[0;32m    313\u001B[0m         msg\u001B[38;5;241m.\u001B[39mformat(arguments\u001B[38;5;241m=\u001B[39marguments),\n\u001B[0;32m    314\u001B[0m         \u001B[38;5;167;01mFutureWarning\u001B[39;00m,\n\u001B[0;32m    315\u001B[0m         stacklevel\u001B[38;5;241m=\u001B[39mfind_stack_level(inspect\u001B[38;5;241m.\u001B[39mcurrentframe()),\n\u001B[0;32m    316\u001B[0m     )\n\u001B[1;32m--> 317\u001B[0m \u001B[38;5;28;01mreturn\u001B[39;00m func(\u001B[38;5;241m*\u001B[39margs, \u001B[38;5;241m*\u001B[39m\u001B[38;5;241m*\u001B[39mkwargs)\n",
      "File \u001B[1;32m~\\anaconda3\\envs\\ox\\lib\\site-packages\\pandas\\io\\parsers\\readers.py:950\u001B[0m, in \u001B[0;36mread_csv\u001B[1;34m(filepath_or_buffer, sep, delimiter, header, names, index_col, usecols, squeeze, prefix, mangle_dupe_cols, dtype, engine, converters, true_values, false_values, skipinitialspace, skiprows, skipfooter, nrows, na_values, keep_default_na, na_filter, verbose, skip_blank_lines, parse_dates, infer_datetime_format, keep_date_col, date_parser, dayfirst, cache_dates, iterator, chunksize, compression, thousands, decimal, lineterminator, quotechar, quoting, doublequote, escapechar, comment, encoding, encoding_errors, dialect, error_bad_lines, warn_bad_lines, on_bad_lines, delim_whitespace, low_memory, memory_map, float_precision, storage_options)\u001B[0m\n\u001B[0;32m    935\u001B[0m kwds_defaults \u001B[38;5;241m=\u001B[39m _refine_defaults_read(\n\u001B[0;32m    936\u001B[0m     dialect,\n\u001B[0;32m    937\u001B[0m     delimiter,\n\u001B[1;32m   (...)\u001B[0m\n\u001B[0;32m    946\u001B[0m     defaults\u001B[38;5;241m=\u001B[39m{\u001B[38;5;124m\"\u001B[39m\u001B[38;5;124mdelimiter\u001B[39m\u001B[38;5;124m\"\u001B[39m: \u001B[38;5;124m\"\u001B[39m\u001B[38;5;124m,\u001B[39m\u001B[38;5;124m\"\u001B[39m},\n\u001B[0;32m    947\u001B[0m )\n\u001B[0;32m    948\u001B[0m kwds\u001B[38;5;241m.\u001B[39mupdate(kwds_defaults)\n\u001B[1;32m--> 950\u001B[0m \u001B[38;5;28;01mreturn\u001B[39;00m \u001B[43m_read\u001B[49m\u001B[43m(\u001B[49m\u001B[43mfilepath_or_buffer\u001B[49m\u001B[43m,\u001B[49m\u001B[43m \u001B[49m\u001B[43mkwds\u001B[49m\u001B[43m)\u001B[49m\n",
      "File \u001B[1;32m~\\anaconda3\\envs\\ox\\lib\\site-packages\\pandas\\io\\parsers\\readers.py:611\u001B[0m, in \u001B[0;36m_read\u001B[1;34m(filepath_or_buffer, kwds)\u001B[0m\n\u001B[0;32m    608\u001B[0m     \u001B[38;5;28;01mreturn\u001B[39;00m parser\n\u001B[0;32m    610\u001B[0m \u001B[38;5;28;01mwith\u001B[39;00m parser:\n\u001B[1;32m--> 611\u001B[0m     \u001B[38;5;28;01mreturn\u001B[39;00m \u001B[43mparser\u001B[49m\u001B[38;5;241;43m.\u001B[39;49m\u001B[43mread\u001B[49m\u001B[43m(\u001B[49m\u001B[43mnrows\u001B[49m\u001B[43m)\u001B[49m\n",
      "File \u001B[1;32m~\\anaconda3\\envs\\ox\\lib\\site-packages\\pandas\\io\\parsers\\readers.py:1772\u001B[0m, in \u001B[0;36mTextFileReader.read\u001B[1;34m(self, nrows)\u001B[0m\n\u001B[0;32m   1765\u001B[0m nrows \u001B[38;5;241m=\u001B[39m validate_integer(\u001B[38;5;124m\"\u001B[39m\u001B[38;5;124mnrows\u001B[39m\u001B[38;5;124m\"\u001B[39m, nrows)\n\u001B[0;32m   1766\u001B[0m \u001B[38;5;28;01mtry\u001B[39;00m:\n\u001B[0;32m   1767\u001B[0m     \u001B[38;5;66;03m# error: \"ParserBase\" has no attribute \"read\"\u001B[39;00m\n\u001B[0;32m   1768\u001B[0m     (\n\u001B[0;32m   1769\u001B[0m         index,\n\u001B[0;32m   1770\u001B[0m         columns,\n\u001B[0;32m   1771\u001B[0m         col_dict,\n\u001B[1;32m-> 1772\u001B[0m     ) \u001B[38;5;241m=\u001B[39m \u001B[38;5;28;43mself\u001B[39;49m\u001B[38;5;241;43m.\u001B[39;49m\u001B[43m_engine\u001B[49m\u001B[38;5;241;43m.\u001B[39;49m\u001B[43mread\u001B[49m\u001B[43m(\u001B[49m\u001B[43m  \u001B[49m\u001B[38;5;66;43;03m# type: ignore[attr-defined]\u001B[39;49;00m\n\u001B[0;32m   1773\u001B[0m \u001B[43m        \u001B[49m\u001B[43mnrows\u001B[49m\n\u001B[0;32m   1774\u001B[0m \u001B[43m    \u001B[49m\u001B[43m)\u001B[49m\n\u001B[0;32m   1775\u001B[0m \u001B[38;5;28;01mexcept\u001B[39;00m \u001B[38;5;167;01mException\u001B[39;00m:\n\u001B[0;32m   1776\u001B[0m     \u001B[38;5;28mself\u001B[39m\u001B[38;5;241m.\u001B[39mclose()\n",
      "File \u001B[1;32m~\\anaconda3\\envs\\ox\\lib\\site-packages\\pandas\\io\\parsers\\c_parser_wrapper.py:243\u001B[0m, in \u001B[0;36mCParserWrapper.read\u001B[1;34m(self, nrows)\u001B[0m\n\u001B[0;32m    241\u001B[0m \u001B[38;5;28;01mtry\u001B[39;00m:\n\u001B[0;32m    242\u001B[0m     \u001B[38;5;28;01mif\u001B[39;00m \u001B[38;5;28mself\u001B[39m\u001B[38;5;241m.\u001B[39mlow_memory:\n\u001B[1;32m--> 243\u001B[0m         chunks \u001B[38;5;241m=\u001B[39m \u001B[38;5;28;43mself\u001B[39;49m\u001B[38;5;241;43m.\u001B[39;49m\u001B[43m_reader\u001B[49m\u001B[38;5;241;43m.\u001B[39;49m\u001B[43mread_low_memory\u001B[49m\u001B[43m(\u001B[49m\u001B[43mnrows\u001B[49m\u001B[43m)\u001B[49m\n\u001B[0;32m    244\u001B[0m         \u001B[38;5;66;03m# destructive to chunks\u001B[39;00m\n\u001B[0;32m    245\u001B[0m         data \u001B[38;5;241m=\u001B[39m _concatenate_chunks(chunks)\n",
      "File \u001B[1;32m~\\anaconda3\\envs\\ox\\lib\\site-packages\\pandas\\_libs\\parsers.pyx:808\u001B[0m, in \u001B[0;36mpandas._libs.parsers.TextReader.read_low_memory\u001B[1;34m()\u001B[0m\n",
      "File \u001B[1;32m~\\anaconda3\\envs\\ox\\lib\\site-packages\\pandas\\_libs\\parsers.pyx:890\u001B[0m, in \u001B[0;36mpandas._libs.parsers.TextReader._read_rows\u001B[1;34m()\u001B[0m\n",
      "File \u001B[1;32m~\\anaconda3\\envs\\ox\\lib\\site-packages\\pandas\\_libs\\parsers.pyx:1037\u001B[0m, in \u001B[0;36mpandas._libs.parsers.TextReader._convert_column_data\u001B[1;34m()\u001B[0m\n",
      "File \u001B[1;32m~\\anaconda3\\envs\\ox\\lib\\site-packages\\pandas\\_libs\\parsers.pyx:1090\u001B[0m, in \u001B[0;36mpandas._libs.parsers.TextReader._convert_tokens\u001B[1;34m()\u001B[0m\n",
      "File \u001B[1;32m~\\anaconda3\\envs\\ox\\lib\\site-packages\\pandas\\_libs\\parsers.pyx:1233\u001B[0m, in \u001B[0;36mpandas._libs.parsers.TextReader._convert_with_dtype\u001B[1;34m()\u001B[0m\n",
      "File \u001B[1;32m~\\anaconda3\\envs\\ox\\lib\\site-packages\\pandas\\_libs\\parsers.pyx:1246\u001B[0m, in \u001B[0;36mpandas._libs.parsers.TextReader._string_convert\u001B[1;34m()\u001B[0m\n",
      "File \u001B[1;32m~\\anaconda3\\envs\\ox\\lib\\site-packages\\pandas\\_libs\\parsers.pyx:1444\u001B[0m, in \u001B[0;36mpandas._libs.parsers._string_box_utf8\u001B[1;34m()\u001B[0m\n",
      "\u001B[1;31mUnicodeDecodeError\u001B[0m: 'utf-8' codec can't decode byte 0x92 in position 18: invalid start byte"
     ]
    }
   ],
   "source": [
    "# code for Q32 and Q33 which is multiple choices questions\n",
    "res=[]\n",
    "for question_num in special_questions[-2:]:\n",
    "    print(question_num)\n",
    "    # Read choice options\n",
    "    choice_df = pd.read_csv(f'output_2/{question_num}.csv').set_index('question')\n",
    "    # grpoupby data by the responses to the question_num\n",
    "    gb_data= data_general.groupby(question_num).count()[field_to_work_on].sort_values(ascending=False).reset_index()\n",
    "    # Go over each separate response\n",
    "    for  item in choice_df.iterrows():\n",
    "        question = item[0]\n",
    "        # search the current response in the multiple choices responses\n",
    "        for row_0 in gb_data.iterrows():\n",
    "            row = row_0[1]\n",
    "            if question in row[question_num]:\n",
    "                # if the response was found add the number of respondants that use that respomse as part on 1 or combination of choices\n",
    "                choice_df.loc[question]+=row[field_to_work_on]\n",
    "    # calculate percentage\n",
    "    sumy = choice_df.sum()\n",
    "    choice_df['per'] = round(choice_df/sumy *100,0)\n",
    "    choice_df.sort_values(by='per',ascending=False,inplace=True)\n",
    "    res.append(choice_df)\n",
    "    # Plot results\n",
    "    # choice_df['per'].plot(kind='bar',title=rel_questions_dic[question_num])\n",
    "\n",
    "    # plt.gca().yaxis.set_major_formatter(mtick.PercentFormatter(xmax=1.0,decimals=0))\n",
    "    # plt.show()"
   ],
   "metadata": {
    "collapsed": false,
    "pycharm": {
     "name": "#%%\n"
    }
   }
  },
  {
   "cell_type": "code",
   "execution_count": 126,
   "outputs": [
    {
     "data": {
      "text/plain": "[                                                    count   per\n question                                                       \n I couldn’t recover my bicycle and didn’t replac...    307  25.0\n There might not be a safe place to park my bicy...    216  18.0\n Became accustomed to travelling with a differen...    118  10.0\n Other (please specify):                               125  10.0\n My new bicycle isn’t as capable or comfortable ...    113   9.0\n I don’t have a safe place to store my bicycle a...     94   8.0\n High-security locks or secure parking locations...     89   7.0\n My cycling equipment/accessories/gear (e.g., pa...     75   6.0\n Not riding has made me too out of shape to make...     47   4.0\n My bicycle was damaged and couldn’t be repaired...     11   1.0\n Don’t know/not sure                                    17   1.0,\n                                                     count   per\n question                                                       \n My new bicycle was more capable, comfortable to...     49  26.0\n Reasons unrelated to the theft                         34  18.0\n I was motivated to purchase new cycling equipme...     27  14.0\n Upgraded the quality of lock I use and/or used ...     24  13.0\n Other (please specify):                                25  13.0\n I added my bicycle to a registry/recovery syste...     11   6.0\n I replaced my stolen bicycle with an e-bike             6   3.0\n My replacement bicycle was used or less expensi...      6   3.0\n My recovered bicycle was cosmetically damaged, ...      3   2.0\n I used public bike share to replace trips I pre...      1   1.0\n Don’t know/not sure                                     1   1.0]"
     },
     "execution_count": 126,
     "metadata": {},
     "output_type": "execute_result"
    }
   ],
   "source": [
    "res"
   ],
   "metadata": {
    "collapsed": false,
    "pycharm": {
     "name": "#%%\n"
    }
   }
  },
  {
   "cell_type": "code",
   "execution_count": 137,
   "outputs": [
    {
     "data": {
      "text/plain": "<IPython.core.display.Markdown object>",
      "text/markdown": "<span style='color:blue; font-size:20px'>What were the main reasons you cycled less often or not at all? (Select up to 3) - Selected Choice</span>"
     },
     "metadata": {},
     "output_type": "display_data"
    },
    {
     "data": {
      "text/plain": "<IPython.core.display.Markdown object>",
      "text/markdown": "<span style='color:blue; font-size:20px'>the answer with the highest  frequency is:</span>"
     },
     "metadata": {},
     "output_type": "display_data"
    },
    {
     "data": {
      "text/plain": "count    307.0\nper       25.0\nName: I couldn’t recover my bicycle and didn’t replace it due to cost or other reason, dtype: float64"
     },
     "execution_count": 137,
     "metadata": {},
     "output_type": "execute_result"
    },
    {
     "data": {
      "text/plain": "<IPython.core.display.Markdown object>",
      "text/markdown": "<span style='color:blue; font-size:20px'>What were the main reasons you cycled more often? (Select up to 3) - Selected Choice</span>"
     },
     "metadata": {},
     "output_type": "display_data"
    },
    {
     "data": {
      "text/plain": "<IPython.core.display.Markdown object>",
      "text/markdown": "<span style='color:blue; font-size:20px'>the answer with the highest  frequency is:</span>"
     },
     "metadata": {},
     "output_type": "display_data"
    },
    {
     "data": {
      "text/plain": "count    49.0\nper      26.0\nName: My new bicycle was more capable, comfortable to ride, or better suited to my travel needs, dtype: float64"
     },
     "execution_count": 137,
     "metadata": {},
     "output_type": "execute_result"
    },
    {
     "data": {
      "text/plain": "<IPython.core.display.Markdown object>",
      "text/markdown": "<span style='color:red; font-size:20px'>An optional analysis would be to group choices and see the frequency and cross tabulation with demographic and bike type"
     },
     "metadata": {},
     "output_type": "display_data"
    }
   ],
   "source": [
    "q= questions_to_examine_1.loc['Q32'][0]\n",
    "most_pop = res[0].iloc[0]\n",
    "text =f\"<span style='color:blue; font-size:20px'>{q}</span>\"\n",
    "display(Markdown(text))\n",
    "text = f\"<span style='color:blue; font-size:20px'>the answer with the highest  frequency is:</span>\"\n",
    "display(Markdown(text))\n",
    "most_pop\n",
    "q= questions_to_examine_1.loc['Q33'][0]\n",
    "most_pop = res[1].iloc[0]\n",
    "text =f\"<span style='color:blue; font-size:20px'>{q}</span>\"\n",
    "display(Markdown(text))\n",
    "text = f\"<span style='color:blue; font-size:20px'>the answer with the highest  frequency is:</span>\"\n",
    "display(Markdown(text))\n",
    "most_pop\n",
    "text = \"<span style='color:red; font-size:20px'>An optional analysis would be to group choices and see the frequency and cross tabulation with demographic and bike type\"\n",
    "display(Markdown(text))"
   ],
   "metadata": {
    "collapsed": false,
    "pycharm": {
     "name": "#%%\n"
    }
   }
  },
  {
   "cell_type": "code",
   "execution_count": 187,
   "outputs": [
    {
     "data": {
      "text/plain": "[                                                 Q25  count   per\n 2  ​Yes, and I replaced it with exactly what was ...    828  46.0\n 0                                                 No    558  31.0\n 1     Yes, but the replacement was something cheaper    426  24.0,\n                     Q28_1  count   per\n 1         1-3 days a week    593  34.0\n 2   4 or more days a week    518  30.0\n 0        1-3 days a month    307  18.0\n 5                   Never    154   9.0\n 4  Less than once a month    143   8.0\n 3     Don't know/not sure     16   1.0,\n                     Q28_2  count   per\n 5                   Never    433  25.0\n 1         1-3 days a week    377  22.0\n 2   4 or more days a week    358  21.0\n 0        1-3 days a month    277  16.0\n 4  Less than once a month    239  14.0\n 3     Don't know/not sure     16   1.0,\n                     Q28_3  count   per\n 1         1-3 days a week    587  34.0\n 2   4 or more days a week    548  32.0\n 0        1-3 days a month    316  18.0\n 5                   Never    148   9.0\n 4  Less than once a month    101   6.0\n 3     Don't know/not sure     13   1.0,\n                     Q28_4  count   per\n 2   4 or more days a week    705  41.0\n 1         1-3 days a week    590  35.0\n 0        1-3 days a month    191  11.0\n 5                   Never    128   7.0\n 4  Less than once a month     78   5.0\n 3     Don't know/not sure     18   1.0,\n                                                  Q29  count   per\n 2  Recreation or exercise (e.g., cycling in your ...    721  42.0\n 3  Transportation (e.g., commuting to school or w...    542  31.0\n 1  Equal mix of recreation, exercise, and transpo...    455  26.0\n 0                                Don’t know/not sure     10   1.0,\n                                                   Q30  count   per\n 0   Car, as a driver (e.g., personal vehicle, cars...    611  35.0\n 2   Cycle, personal bicycle (e.g., own a second bi...    291  17.0\n 11                                              Walk     282  16.0\n 5                            Didn’t make those trips     221  13.0\n 10                          Transit (e.g., bus/rail)     163   9.0\n 1   Car, as a passenger (e.g., given rides by frie...     57   3.0\n 3                           Cycle, public bike share      27   2.0\n 6                                 Don’t know/not sure     29   2.0\n 4                              Cycle, rental bicycle      11   1.0\n 7   Micro mobility (e.g., e-scooter, e-unicycle, e...      9   1.0\n 8                              Motorcycle or scooter      14   1.0\n 9     Taxi / Ride-hailing service (e.g., Uber, Lyft)      13   1.0,\n                           Q31  count   per\n 0  About the same / no change    852  49.0\n 2                 Less often     511  30.0\n 1           I stopped cycling    263  15.0\n 3                 More often     104   6.0]"
     },
     "execution_count": 187,
     "metadata": {},
     "output_type": "execute_result"
    }
   ],
   "source": [
    "res = []\n",
    "for question in rel_questions_dic.items():\n",
    "    question_num = question[0]\n",
    "    if question_num in special_questions:\n",
    "        continue\n",
    "    gb_data= data_general.groupby(question_num).count()[field_to_work_on].rename('count').reset_index()\n",
    "    sumy = gb_data['count'].sum()\n",
    "    gb_data['per'] = round(gb_data['count']/sumy *100,0)\n",
    "    gb_data.sort_values(by='per',ascending=False,inplace=True)\n",
    "\n",
    "\n",
    "\n",
    "    res.append(gb_data)\n",
    "    # Draw the resuils:\n",
    "    # gb_data['per'].plot(kind='bar',title=question[1])\n",
    "    # plt.gca().yaxis.set_major_formatter(mtick.PercentFormatter(xmax=1.0,decimals=0))\n",
    "    # plt.show()\n",
    "res"
   ],
   "metadata": {
    "collapsed": false,
    "pycharm": {
     "name": "#%%\n"
    }
   }
  },
  {
   "cell_type": "code",
   "execution_count": 192,
   "outputs": [
    {
     "data": {
      "text/plain": "<IPython.core.display.Markdown object>",
      "text/markdown": "<span style='color:blue; font-size:20px'>Did you replace the stolen bicycle or bicycle part?</span>"
     },
     "metadata": {},
     "output_type": "display_data"
    },
    {
     "data": {
      "text/plain": "<IPython.core.display.Markdown object>",
      "text/markdown": "<span style='color:blue; font-size:20px'>31% did not replace their stolen bicycle, 24% did replace with cheaper bicycle and 46%  with more expensive bicycle.</span>"
     },
     "metadata": {},
     "output_type": "display_data"
    }
   ],
   "source": [
    "q = questions_to_examine_1.loc['Q25'][0]\n",
    "res_25 = res[0]\n",
    "more_ex = int(res_25[res_25['Q25'] =='\\u200bYes, and I replaced it with exactly what was stolen or something more expensive ']['per'].values[0])\n",
    "cheaper = int(res_25[res_25['Q25'] =='Yes, but the replacement was something cheaper']['per'].values[0])\n",
    "no= int(res_25[res_25['Q25'] =='No']['per'].values[0])\n",
    "text = f\"<span style='color:blue; font-size:20px'>{q}</span>\"\n",
    "display(Markdown(text))\n",
    "text = f\"<span style='color:blue; font-size:20px'>{no}% did not replace their stolen bicycle, {cheaper}% did replace with cheaper bicycle and {more_ex}%  with more expensive bicycle.</span>\"\n",
    "display(Markdown(text))\n",
    "\n",
    "\n",
    "# most_pop\n",
    "# q = questions_to_examine_1.loc['Q33'][0]\n",
    "# most_pop = res[1].iloc[0]\n",
    "# text = f\"<span style='color:blue; font-size:20px'>{q}</span>\"\n",
    "# display(Markdown(text))\n",
    "# text = f\"<span style='color:blue; font-size:20px'>the answer with the highest  frequency is:</span>\"\n",
    "# display(Markdown(text))\n",
    "# most_pop\n",
    "# text = \"<span style='color:red; font-size:20px'>An optional analysis would be to group choices and see the frequency and cross tabulation with demographic and bike type\"\n",
    "# display(Markdown(text))"
   ],
   "metadata": {
    "collapsed": false,
    "pycharm": {
     "name": "#%%\n"
    }
   }
  },
  {
   "cell_type": "code",
   "execution_count": null,
   "outputs": [],
   "source": [],
   "metadata": {
    "collapsed": false,
    "pycharm": {
     "name": "#%%\n"
    }
   }
  }
 ],
 "metadata": {
  "kernelspec": {
   "display_name": "Python 3",
   "language": "python",
   "name": "python3"
  },
  "language_info": {
   "codemirror_mode": {
    "name": "ipython",
    "version": 2
   },
   "file_extension": ".py",
   "mimetype": "text/x-python",
   "name": "python",
   "nbconvert_exporter": "python",
   "pygments_lexer": "ipython2",
   "version": "2.7.6"
  }
 },
 "nbformat": 4,
 "nbformat_minor": 0
}