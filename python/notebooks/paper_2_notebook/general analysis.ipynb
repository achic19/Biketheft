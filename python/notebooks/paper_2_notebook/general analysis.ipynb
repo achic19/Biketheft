{
 "cells": [
  {
   "cell_type": "code",
   "execution_count": 1,
   "metadata": {
    "pycharm": {
     "name": "#%%\n"
    }
   },
   "outputs": [],
   "source": [
    "\n",
    "import calendar\n",
    "\n",
    "months = list(map(lambda x: x.lower(), calendar.month_name))[1:]\n",
    "import pandas as pd\n",
    "from pandas import DataFrame\n",
    "\n",
    "import matplotlib.pyplot as plt\n",
    "from IPython.core.interactiveshell import InteractiveShell\n",
    "\n",
    "InteractiveShell.ast_node_interactivity = 'all'\n",
    "\n",
    "import matplotlib.pylab as pylab\n",
    "\n",
    "params = {'legend.fontsize': 'x-large',\n",
    "          'figure.figsize': (15, 10),\n",
    "          'axes.labelsize': 'x-large',\n",
    "          'axes.titlesize': 'x-large',\n",
    "          'xtick.labelsize': 'x-large',\n",
    "          'ytick.labelsize': 'x-large'}\n",
    "pylab.rcParams.update(params)\n",
    "\n",
    "import os\n",
    "\n",
    "project_folder = f'{os.path.dirname(os.path.dirname(os.path.dirname(os.getcwd())))}/data/process'\n",
    "import warnings\n",
    "\n",
    "warnings.filterwarnings(action='ignore')\n",
    "from IPython.display import display\n",
    "from IPython.display import Markdown\n",
    "from IPython.display import display_html\n",
    "\n",
    "\n",
    "questions ={'Q2':'part','Q6':'day_time','Q7':'is_locked','Q8':'locked_type','Q9':'theft_loc','Q10':'is_registered','Q11':'where_rep','Q12':'is_insured','Q13':'value_approx','Q14':'is_electric','Q15':'bicycle_type','Q17':'is_univ','Q18':'is_recover','Q19':'is_online','Q20':'how_recover','Q21':'is_police','Q23':'rec_loc','Q24':'rec_cond ','Q25':'is_replaced', 'Q26_new':'days_bikes', 'Q28':'seasons', 'Q29':'purpose', 'Q30':'mode_alt', 'Q31':'post_act','Q32':'why_less','age_groups': 'age', 'Q35': 'gender', 'Q36': 'income','Q37':'nm_bikes', 'Q38': 'education', 'Q39': 'ethnic','country':'country','city':'city'}"
   ]
  },
  {
   "cell_type": "code",
   "execution_count": 2,
   "metadata": {
    "pycharm": {
     "name": "#%%\n"
    }
   },
   "outputs": [],
   "source": [
    "# That's not part of the procedure\n",
    "pd.read_csv(f'{project_folder}/new_data/new_data.csv').reset_index().iloc[0].to_csv(\n",
    "    'output_2/fileds_to_work_on.csv')"
   ]
  },
  {
   "cell_type": "code",
   "execution_count": 3,
   "metadata": {
    "pycharm": {
     "name": "#%%\n"
    }
   },
   "outputs": [
    {
     "data": {
      "text/plain": "index                                                          0\nStartDate                                             Start Date\nEndDate                                                 End Date\nStatus                                             Response Type\nIPAddress                                             IP Address\n                                     ...                        \nQ38            What is the highest level of education you hav...\nQ39            What do you consider your main ethnic origin o...\nQ39_10_TEXT    What do you consider your main ethnic origin o...\nQ40            Where did you hear about this survey? - Select...\nQ40_3_TEXT     Where did you hear about this survey? - Other ...\nName: 0, Length: 75, dtype: object"
     },
     "execution_count": 3,
     "metadata": {},
     "output_type": "execute_result"
    }
   ],
   "source": [
    "# show the questions\n",
    "data_questions = pd.read_csv(f'{project_folder}/new_data/new_data.csv', skiprows=[2]).reset_index().iloc[0]\n",
    "data_questions"
   ]
  },
  {
   "cell_type": "markdown",
   "metadata": {
    "pycharm": {
     "name": "#%% md\n"
    }
   },
   "source": [
    "#### Data Preparation"
   ]
  },
  {
   "cell_type": "code",
   "execution_count": 4,
   "metadata": {
    "pycharm": {
     "name": "#%%\n"
    }
   },
   "outputs": [],
   "source": [
    "data_general = pd.read_csv(f'{project_folder}/final_geo_coding.csv', skiprows=[1, 2]).reset_index()\n",
    "# Read dictionary of relevant questions\n",
    "questions_to_examine = pd.read_csv(f'output_2/fileds_to_work_on_updated.csv')\n",
    "rel_questions_dic = dict(zip(questions_to_examine['Number'], questions_to_examine['Abbreviation ']))\n",
    "field_to_work_on = 'index'"
   ]
  },
  {
   "cell_type": "code",
   "execution_count": 5,
   "outputs": [
    {
     "data": {
      "text/plain": "                                                    level_0  Unnamed: 0.2  \\\nQ39                                                                         \nAfrican (e.g., Moroccan, Ghanaian, South Africa...       19            19   \nAsian (e.g., Chinese, Filipino, Korean, etc.)            82            82   \nCaribbean (e.g., Cuban, Jamaican, Bajan, etc.)            4             4   \nCentral/South American (e.g., Mexican, Salvador...       51            51   \nEuropean (e.g., British Isles, German, French, ...     1260          1260   \nI prefer to not answer                                   76            76   \nIndigenous (First Nations, Metis, Inuk/Inuit, e...       11            11   \nMiddle Eastern (e.g., Lebanese, Iranian, Syrian...       16            16   \nMulti-ethnic (2+ ethnic groups)                          98            98   \nOceanian (e.g., Australian, New Zealander, etc.)          4             4   \nOther (please specify):                                  52            52   \nSouth Asian (e.g., Punjabi, Indian, Pakistani, ...       31            31   \n\n                                                    Unnamed: 0.1  Unnamed: 0  \\\nQ39                                                                            \nAfrican (e.g., Moroccan, Ghanaian, South Africa...            19          19   \nAsian (e.g., Chinese, Filipino, Korean, etc.)                 82          82   \nCaribbean (e.g., Cuban, Jamaican, Bajan, etc.)                 4           4   \nCentral/South American (e.g., Mexican, Salvador...            51          51   \nEuropean (e.g., British Isles, German, French, ...          1260        1260   \nI prefer to not answer                                        76          76   \nIndigenous (First Nations, Metis, Inuk/Inuit, e...            11          11   \nMiddle Eastern (e.g., Lebanese, Iranian, Syrian...            16          16   \nMulti-ethnic (2+ ethnic groups)                               98          98   \nOceanian (e.g., Australian, New Zealander, etc.)               4           4   \nOther (please specify):                                       52          52   \nSouth Asian (e.g., Punjabi, Indian, Pakistani, ...            31          31   \n\n                                                    index  StartDate  EndDate  \\\nQ39                                                                             \nAfrican (e.g., Moroccan, Ghanaian, South Africa...     19         19       19   \nAsian (e.g., Chinese, Filipino, Korean, etc.)          82         82       82   \nCaribbean (e.g., Cuban, Jamaican, Bajan, etc.)          4          4        4   \nCentral/South American (e.g., Mexican, Salvador...     51         51       51   \nEuropean (e.g., British Isles, German, French, ...   1260       1260     1260   \nI prefer to not answer                                 76         76       76   \nIndigenous (First Nations, Metis, Inuk/Inuit, e...     11         11       11   \nMiddle Eastern (e.g., Lebanese, Iranian, Syrian...     16         16       16   \nMulti-ethnic (2+ ethnic groups)                        98         98       98   \nOceanian (e.g., Australian, New Zealander, etc.)        4          4        4   \nOther (please specify):                                52         52       52   \nSouth Asian (e.g., Punjabi, Indian, Pakistani, ...     31         31       31   \n\n                                                    Status  IPAddress  \\\nQ39                                                                     \nAfrican (e.g., Moroccan, Ghanaian, South Africa...      19         19   \nAsian (e.g., Chinese, Filipino, Korean, etc.)           82         82   \nCaribbean (e.g., Cuban, Jamaican, Bajan, etc.)           4          4   \nCentral/South American (e.g., Mexican, Salvador...      51         51   \nEuropean (e.g., British Isles, German, French, ...    1260       1260   \nI prefer to not answer                                  76         76   \nIndigenous (First Nations, Metis, Inuk/Inuit, e...      11         11   \nMiddle Eastern (e.g., Lebanese, Iranian, Syrian...      16         16   \nMulti-ethnic (2+ ethnic groups)                         98         98   \nOceanian (e.g., Australian, New Zealander, etc.)         4          4   \nOther (please specify):                                 52         52   \nSouth Asian (e.g., Punjabi, Indian, Pakistani, ...      31         31   \n\n                                                    Progress  ...  \\\nQ39                                                           ...   \nAfrican (e.g., Moroccan, Ghanaian, South Africa...        19  ...   \nAsian (e.g., Chinese, Filipino, Korean, etc.)             82  ...   \nCaribbean (e.g., Cuban, Jamaican, Bajan, etc.)             4  ...   \nCentral/South American (e.g., Mexican, Salvador...        51  ...   \nEuropean (e.g., British Isles, German, French, ...      1260  ...   \nI prefer to not answer                                    76  ...   \nIndigenous (First Nations, Metis, Inuk/Inuit, e...        11  ...   \nMiddle Eastern (e.g., Lebanese, Iranian, Syrian...        16  ...   \nMulti-ethnic (2+ ethnic groups)                           98  ...   \nOceanian (e.g., Australian, New Zealander, etc.)           4  ...   \nOther (please specify):                                   52  ...   \nSouth Asian (e.g., Punjabi, Indian, Pakistani, ...        31  ...   \n\n                                                    Q39_10_TEXT   Q40  \\\nQ39                                                                     \nAfrican (e.g., Moroccan, Ghanaian, South Africa...            0    19   \nAsian (e.g., Chinese, Filipino, Korean, etc.)                 0    82   \nCaribbean (e.g., Cuban, Jamaican, Bajan, etc.)                0     4   \nCentral/South American (e.g., Mexican, Salvador...            0    50   \nEuropean (e.g., British Isles, German, French, ...            0  1251   \nI prefer to not answer                                        0    73   \nIndigenous (First Nations, Metis, Inuk/Inuit, e...            0    11   \nMiddle Eastern (e.g., Lebanese, Iranian, Syrian...            0    16   \nMulti-ethnic (2+ ethnic groups)                               0    98   \nOceanian (e.g., Australian, New Zealander, etc.)              0     4   \nOther (please specify):                                      50    52   \nSouth Asian (e.g., Punjabi, Indian, Pakistani, ...            0    31   \n\n                                                    Q40_3_TEXT   lat   lon  \\\nQ39                                                                          \nAfrican (e.g., Moroccan, Ghanaian, South Africa...           2    19    19   \nAsian (e.g., Chinese, Filipino, Korean, etc.)                4    82    82   \nCaribbean (e.g., Cuban, Jamaican, Bajan, etc.)               1     4     4   \nCentral/South American (e.g., Mexican, Salvador...           4    51    51   \nEuropean (e.g., British Isles, German, French, ...         105  1260  1260   \nI prefer to not answer                                       5    76    76   \nIndigenous (First Nations, Metis, Inuk/Inuit, e...           0    11    11   \nMiddle Eastern (e.g., Lebanese, Iranian, Syrian...           1    16    16   \nMulti-ethnic (2+ ethnic groups)                             10    98    98   \nOceanian (e.g., Australian, New Zealander, etc.)             0     4     4   \nOther (please specify):                                      6    52    52   \nSouth Asian (e.g., Punjabi, Indian, Pakistani, ...           6    31    31   \n\n                                                    score  stolen_bikes_place  \\\nQ39                                                                             \nAfrican (e.g., Moroccan, Ghanaian, South Africa...     19                  19   \nAsian (e.g., Chinese, Filipino, Korean, etc.)          82                  82   \nCaribbean (e.g., Cuban, Jamaican, Bajan, etc.)          4                   4   \nCentral/South American (e.g., Mexican, Salvador...     51                  51   \nEuropean (e.g., British Isles, German, French, ...   1260                1260   \nI prefer to not answer                                 76                  76   \nIndigenous (First Nations, Metis, Inuk/Inuit, e...     11                  11   \nMiddle Eastern (e.g., Lebanese, Iranian, Syrian...     16                  16   \nMulti-ethnic (2+ ethnic groups)                        98                  98   \nOceanian (e.g., Australian, New Zealander, etc.)        4                   4   \nOther (please specify):                                52                  52   \nSouth Asian (e.g., Punjabi, Indian, Pakistani, ...     31                  31   \n\n                                                    country  city  state  \nQ39                                                                       \nAfrican (e.g., Moroccan, Ghanaian, South Africa...       19    17     19  \nAsian (e.g., Chinese, Filipino, Korean, etc.)            82    76     82  \nCaribbean (e.g., Cuban, Jamaican, Bajan, etc.)            4     4      4  \nCentral/South American (e.g., Mexican, Salvador...       51    49     51  \nEuropean (e.g., British Isles, German, French, ...     1260  1204   1260  \nI prefer to not answer                                   76    73     76  \nIndigenous (First Nations, Metis, Inuk/Inuit, e...       11    10     11  \nMiddle Eastern (e.g., Lebanese, Iranian, Syrian...       16    16     16  \nMulti-ethnic (2+ ethnic groups)                          98    94     98  \nOceanian (e.g., Australian, New Zealander, etc.)          4     4      4  \nOther (please specify):                                  52    48     52  \nSouth Asian (e.g., Punjabi, Indian, Pakistani, ...       31    30     31  \n\n[12 rows x 85 columns]",
      "text/html": "<div>\n<style scoped>\n    .dataframe tbody tr th:only-of-type {\n        vertical-align: middle;\n    }\n\n    .dataframe tbody tr th {\n        vertical-align: top;\n    }\n\n    .dataframe thead th {\n        text-align: right;\n    }\n</style>\n<table border=\"1\" class=\"dataframe\">\n  <thead>\n    <tr style=\"text-align: right;\">\n      <th></th>\n      <th>level_0</th>\n      <th>Unnamed: 0.2</th>\n      <th>Unnamed: 0.1</th>\n      <th>Unnamed: 0</th>\n      <th>index</th>\n      <th>StartDate</th>\n      <th>EndDate</th>\n      <th>Status</th>\n      <th>IPAddress</th>\n      <th>Progress</th>\n      <th>...</th>\n      <th>Q39_10_TEXT</th>\n      <th>Q40</th>\n      <th>Q40_3_TEXT</th>\n      <th>lat</th>\n      <th>lon</th>\n      <th>score</th>\n      <th>stolen_bikes_place</th>\n      <th>country</th>\n      <th>city</th>\n      <th>state</th>\n    </tr>\n    <tr>\n      <th>Q39</th>\n      <th></th>\n      <th></th>\n      <th></th>\n      <th></th>\n      <th></th>\n      <th></th>\n      <th></th>\n      <th></th>\n      <th></th>\n      <th></th>\n      <th></th>\n      <th></th>\n      <th></th>\n      <th></th>\n      <th></th>\n      <th></th>\n      <th></th>\n      <th></th>\n      <th></th>\n      <th></th>\n      <th></th>\n    </tr>\n  </thead>\n  <tbody>\n    <tr>\n      <th>African (e.g., Moroccan, Ghanaian, South African, etc.)</th>\n      <td>19</td>\n      <td>19</td>\n      <td>19</td>\n      <td>19</td>\n      <td>19</td>\n      <td>19</td>\n      <td>19</td>\n      <td>19</td>\n      <td>19</td>\n      <td>19</td>\n      <td>...</td>\n      <td>0</td>\n      <td>19</td>\n      <td>2</td>\n      <td>19</td>\n      <td>19</td>\n      <td>19</td>\n      <td>19</td>\n      <td>19</td>\n      <td>17</td>\n      <td>19</td>\n    </tr>\n    <tr>\n      <th>Asian (e.g., Chinese, Filipino, Korean, etc.)</th>\n      <td>82</td>\n      <td>82</td>\n      <td>82</td>\n      <td>82</td>\n      <td>82</td>\n      <td>82</td>\n      <td>82</td>\n      <td>82</td>\n      <td>82</td>\n      <td>82</td>\n      <td>...</td>\n      <td>0</td>\n      <td>82</td>\n      <td>4</td>\n      <td>82</td>\n      <td>82</td>\n      <td>82</td>\n      <td>82</td>\n      <td>82</td>\n      <td>76</td>\n      <td>82</td>\n    </tr>\n    <tr>\n      <th>Caribbean (e.g., Cuban, Jamaican, Bajan, etc.)</th>\n      <td>4</td>\n      <td>4</td>\n      <td>4</td>\n      <td>4</td>\n      <td>4</td>\n      <td>4</td>\n      <td>4</td>\n      <td>4</td>\n      <td>4</td>\n      <td>4</td>\n      <td>...</td>\n      <td>0</td>\n      <td>4</td>\n      <td>1</td>\n      <td>4</td>\n      <td>4</td>\n      <td>4</td>\n      <td>4</td>\n      <td>4</td>\n      <td>4</td>\n      <td>4</td>\n    </tr>\n    <tr>\n      <th>Central/South American (e.g., Mexican, Salvadorian, Argentinian, etc.)</th>\n      <td>51</td>\n      <td>51</td>\n      <td>51</td>\n      <td>51</td>\n      <td>51</td>\n      <td>51</td>\n      <td>51</td>\n      <td>51</td>\n      <td>51</td>\n      <td>51</td>\n      <td>...</td>\n      <td>0</td>\n      <td>50</td>\n      <td>4</td>\n      <td>51</td>\n      <td>51</td>\n      <td>51</td>\n      <td>51</td>\n      <td>51</td>\n      <td>49</td>\n      <td>51</td>\n    </tr>\n    <tr>\n      <th>European (e.g., British Isles, German, French, Greek, Italian, etc.)</th>\n      <td>1260</td>\n      <td>1260</td>\n      <td>1260</td>\n      <td>1260</td>\n      <td>1260</td>\n      <td>1260</td>\n      <td>1260</td>\n      <td>1260</td>\n      <td>1260</td>\n      <td>1260</td>\n      <td>...</td>\n      <td>0</td>\n      <td>1251</td>\n      <td>105</td>\n      <td>1260</td>\n      <td>1260</td>\n      <td>1260</td>\n      <td>1260</td>\n      <td>1260</td>\n      <td>1204</td>\n      <td>1260</td>\n    </tr>\n    <tr>\n      <th>I prefer to not answer</th>\n      <td>76</td>\n      <td>76</td>\n      <td>76</td>\n      <td>76</td>\n      <td>76</td>\n      <td>76</td>\n      <td>76</td>\n      <td>76</td>\n      <td>76</td>\n      <td>76</td>\n      <td>...</td>\n      <td>0</td>\n      <td>73</td>\n      <td>5</td>\n      <td>76</td>\n      <td>76</td>\n      <td>76</td>\n      <td>76</td>\n      <td>76</td>\n      <td>73</td>\n      <td>76</td>\n    </tr>\n    <tr>\n      <th>Indigenous (First Nations, Metis, Inuk/Inuit, etc.)</th>\n      <td>11</td>\n      <td>11</td>\n      <td>11</td>\n      <td>11</td>\n      <td>11</td>\n      <td>11</td>\n      <td>11</td>\n      <td>11</td>\n      <td>11</td>\n      <td>11</td>\n      <td>...</td>\n      <td>0</td>\n      <td>11</td>\n      <td>0</td>\n      <td>11</td>\n      <td>11</td>\n      <td>11</td>\n      <td>11</td>\n      <td>11</td>\n      <td>10</td>\n      <td>11</td>\n    </tr>\n    <tr>\n      <th>Middle Eastern (e.g., Lebanese, Iranian, Syrian, etc.)</th>\n      <td>16</td>\n      <td>16</td>\n      <td>16</td>\n      <td>16</td>\n      <td>16</td>\n      <td>16</td>\n      <td>16</td>\n      <td>16</td>\n      <td>16</td>\n      <td>16</td>\n      <td>...</td>\n      <td>0</td>\n      <td>16</td>\n      <td>1</td>\n      <td>16</td>\n      <td>16</td>\n      <td>16</td>\n      <td>16</td>\n      <td>16</td>\n      <td>16</td>\n      <td>16</td>\n    </tr>\n    <tr>\n      <th>Multi-ethnic (2+ ethnic groups)</th>\n      <td>98</td>\n      <td>98</td>\n      <td>98</td>\n      <td>98</td>\n      <td>98</td>\n      <td>98</td>\n      <td>98</td>\n      <td>98</td>\n      <td>98</td>\n      <td>98</td>\n      <td>...</td>\n      <td>0</td>\n      <td>98</td>\n      <td>10</td>\n      <td>98</td>\n      <td>98</td>\n      <td>98</td>\n      <td>98</td>\n      <td>98</td>\n      <td>94</td>\n      <td>98</td>\n    </tr>\n    <tr>\n      <th>Oceanian (e.g., Australian, New Zealander, etc.)</th>\n      <td>4</td>\n      <td>4</td>\n      <td>4</td>\n      <td>4</td>\n      <td>4</td>\n      <td>4</td>\n      <td>4</td>\n      <td>4</td>\n      <td>4</td>\n      <td>4</td>\n      <td>...</td>\n      <td>0</td>\n      <td>4</td>\n      <td>0</td>\n      <td>4</td>\n      <td>4</td>\n      <td>4</td>\n      <td>4</td>\n      <td>4</td>\n      <td>4</td>\n      <td>4</td>\n    </tr>\n    <tr>\n      <th>Other (please specify):</th>\n      <td>52</td>\n      <td>52</td>\n      <td>52</td>\n      <td>52</td>\n      <td>52</td>\n      <td>52</td>\n      <td>52</td>\n      <td>52</td>\n      <td>52</td>\n      <td>52</td>\n      <td>...</td>\n      <td>50</td>\n      <td>52</td>\n      <td>6</td>\n      <td>52</td>\n      <td>52</td>\n      <td>52</td>\n      <td>52</td>\n      <td>52</td>\n      <td>48</td>\n      <td>52</td>\n    </tr>\n    <tr>\n      <th>South Asian (e.g., Punjabi, Indian, Pakistani, etc.)</th>\n      <td>31</td>\n      <td>31</td>\n      <td>31</td>\n      <td>31</td>\n      <td>31</td>\n      <td>31</td>\n      <td>31</td>\n      <td>31</td>\n      <td>31</td>\n      <td>31</td>\n      <td>...</td>\n      <td>0</td>\n      <td>31</td>\n      <td>6</td>\n      <td>31</td>\n      <td>31</td>\n      <td>31</td>\n      <td>31</td>\n      <td>31</td>\n      <td>30</td>\n      <td>31</td>\n    </tr>\n  </tbody>\n</table>\n<p>12 rows × 85 columns</p>\n</div>"
     },
     "execution_count": 5,
     "metadata": {},
     "output_type": "execute_result"
    }
   ],
   "source": [
    "data_general.groupby('Q39').count()"
   ],
   "metadata": {
    "collapsed": false,
    "pycharm": {
     "name": "#%%\n"
    }
   }
  },
  {
   "cell_type": "code",
   "execution_count": 6,
   "metadata": {
    "pycharm": {
     "name": "#%%\n"
    }
   },
   "outputs": [],
   "source": [
    "\n",
    "special_questions = ['Q26', 'Q27', 'Q32', 'Q33']\n"
   ]
  },
  {
   "cell_type": "code",
   "execution_count": 7,
   "metadata": {
    "pycharm": {
     "name": "#%%\n"
    }
   },
   "outputs": [],
   "source": [
    "\n",
    "\n",
    "questions_to_examine_1 = questions_to_examine.set_index('Number')"
   ]
  },
  {
   "cell_type": "code",
   "execution_count": 8,
   "metadata": {
    "pycharm": {
     "name": "#%%\n"
    }
   },
   "outputs": [
    {
     "data": {
      "text/plain": "{'Q25':                                                  Q25  count   per\n 2  ​Yes, and I replaced it with exactly what was ...    828  46.0\n 0                                                 No    558  31.0\n 1     Yes, but the replacement was something cheaper    426  24.0,\n 'Q28_1':                     Q28_1  count   per\n 1         1-3 days a week    593  34.0\n 2   4 or more days a week    518  30.0\n 0        1-3 days a month    307  18.0\n 5                   Never    154   9.0\n 4  Less than once a month    143   8.0\n 3     Don't know/not sure     16   1.0,\n 'Q28_2':                     Q28_2  count   per\n 5                   Never    433  25.0\n 1         1-3 days a week    377  22.0\n 2   4 or more days a week    358  21.0\n 0        1-3 days a month    277  16.0\n 4  Less than once a month    239  14.0\n 3     Don't know/not sure     16   1.0,\n 'Q28_3':                     Q28_3  count   per\n 1         1-3 days a week    587  34.0\n 2   4 or more days a week    548  32.0\n 0        1-3 days a month    316  18.0\n 5                   Never    148   9.0\n 4  Less than once a month    101   6.0\n 3     Don't know/not sure     13   1.0,\n 'Q28_4':                     Q28_4  count   per\n 2   4 or more days a week    705  41.0\n 1         1-3 days a week    590  35.0\n 0        1-3 days a month    191  11.0\n 5                   Never    128   7.0\n 4  Less than once a month     78   5.0\n 3     Don't know/not sure     18   1.0,\n 'Q29':                                                  Q29  count   per\n 2  Recreation or exercise (e.g., cycling in your ...    721  42.0\n 3  Transportation (e.g., commuting to school or w...    542  31.0\n 1  Equal mix of recreation, exercise, and transpo...    455  26.0\n 0                                Don’t know/not sure     10   1.0,\n 'Q30':                                                   Q30  count   per\n 0   Car, as a driver (e.g., personal vehicle, cars...    611  35.0\n 2   Cycle, personal bicycle (e.g., own a second bi...    291  17.0\n 11                                              Walk     282  16.0\n 5                            Didn’t make those trips     221  13.0\n 10                          Transit (e.g., bus/rail)     163   9.0\n 1   Car, as a passenger (e.g., given rides by frie...     57   3.0\n 3                           Cycle, public bike share      27   2.0\n 6                                 Don’t know/not sure     29   2.0\n 4                              Cycle, rental bicycle      11   1.0\n 7   Micro mobility (e.g., e-scooter, e-unicycle, e...      9   1.0\n 8                              Motorcycle or scooter      14   1.0\n 9     Taxi / Ride-hailing service (e.g., Uber, Lyft)      13   1.0,\n 'Q31':                           Q31  count   per\n 0  About the same / no change    852  49.0\n 2                 Less often     511  30.0\n 1           I stopped cycling    263  15.0\n 3                 More often     104   6.0}"
     },
     "execution_count": 8,
     "metadata": {},
     "output_type": "execute_result"
    }
   ],
   "source": [
    "res_reg = {}\n",
    "for question in rel_questions_dic.items():\n",
    "    question_num = question[0]\n",
    "    if question_num in special_questions:\n",
    "        continue\n",
    "    gb_data = data_general.groupby(question_num).count()[field_to_work_on].rename('count').reset_index()\n",
    "    sumy = gb_data['count'].sum()\n",
    "    gb_data['per'] = round(gb_data['count'] / sumy * 100, 0)\n",
    "    gb_data.sort_values(by='per', ascending=False, inplace=True)\n",
    "\n",
    "    res_reg[question_num] = gb_data\n",
    "    # Draw the resuils:\n",
    "    # gb_data['per'].plot(kind='bar',title=question[1])\n",
    "    # plt.gca().yaxis.set_major_formatter(mtick.PercentFormatter(xmax=1.0,decimals=0))\n",
    "    # plt.show()\n",
    "res_reg"
   ]
  },
  {
   "cell_type": "markdown",
   "metadata": {
    "pycharm": {
     "name": "#%% md\n"
    }
   },
   "source": [
    "#### Analysis for Q26"
   ]
  },
  {
   "cell_type": "code",
   "execution_count": 9,
   "metadata": {
    "pycharm": {
     "name": "#%%\n"
    }
   },
   "outputs": [],
   "source": [
    "data_general['Q26'] = data_general['Q26'].apply(lambda x: str(x).rstrip().lstrip())\n",
    "gb_data_0 = data_general.groupby('Q26').count()[field_to_work_on].sort_values(ascending=False)\n",
    "# Values to delete\n",
    "null_values = ['nan', 'N/a', 'Na', 'na', 'None', '-', 'Months']\n",
    "gb_data = gb_data_0[~gb_data_0.index.isin(null_values)]"
   ]
  },
  {
   "cell_type": "code",
   "execution_count": 10,
   "metadata": {
    "pycharm": {
     "name": "#%%\n"
    }
   },
   "outputs": [],
   "source": [
    "def calc_statistics(class_data: DataFrame):\n",
    "    r\"\"\"\n",
    "    the class count the number of respondents for the number of days\n",
    "    :param class_data:\n",
    "    :return: list of date groupby the number of days, statistics and count and percentage of those with doesn't recover/replace/fix atc. their bicycles\n",
    "    \"\"\"\n",
    "    # remove records without number of days\n",
    "    num_of_days = class_data['num_of_days']\n",
    "    final_data = class_data[(num_of_days != '') & (num_of_days != -1)]\n",
    "    # group by number of days\n",
    "    mygroupby = final_data.groupby('num_of_days').sum().sort_values(by='count', ascending=False)\n",
    "\n",
    "    # flat @mygroupby to calculate statistic\n",
    "    l = [[item[0]] * item[1]['count'] for item in mygroupby.iterrows()]\n",
    "    flat_list = [item for sublist in l for item in sublist]\n",
    "    df = DataFrame(flat_list)\n",
    "\n",
    "    # the number of -1\n",
    "    no_data = class_data[num_of_days == -1].sum()['count']\n",
    "    no_dat_dic = (no_data, no_data / (len(flat_list) + no_data) * 100)\n",
    "    return mygroupby, df.describe(), {'no_action_yet': no_dat_dic}, df\n"
   ]
  },
  {
   "cell_type": "code",
   "execution_count": 11,
   "metadata": {
    "pycharm": {
     "name": "#%%\n"
    }
   },
   "outputs": [],
   "source": [
    "from qu_26_27 import InterpretTime\n",
    "\n",
    "time_q26 = InterpretTime(gb_data)\n",
    "for res in time_q26.new_gb_data.iterrows():\n",
    "    time_q26.main_part(res)\n",
    "res_26 = calc_statistics(time_q26.new_gb_data)"
   ]
  },
  {
   "cell_type": "code",
   "execution_count": 12,
   "metadata": {
    "pycharm": {
     "name": "#%%\n"
    }
   },
   "outputs": [],
   "source": [
    "# merge the interpreted days into our entire dataset and save it into new file\n",
    "merge_q26 = data_general.copy().set_index('Q26')\n",
    "merge_q26['num_of_days'] = time_q26.new_gb_data['num_of_days']\n",
    "# should be fixed later on today\n",
    "merge_q26.at['4  months','num_of_days'] = 120\n",
    "merge_q26['num_of_days'] = merge_q26['num_of_days'].replace('', None, regex=True)\n",
    "\n",
    "# Q26_new stores the class of number of days as define in function below.\n",
    "def group_num_of_days(val):\n",
    "    # the class is defined by the number of days store in val\n",
    "    if val == -1:\n",
    "        return -1\n",
    "    if val < 8:\n",
    "        return 7\n",
    "    if val < 15:\n",
    "        return 14\n",
    "    if val < 31:\n",
    "        return 30\n",
    "    if val < 61:\n",
    "        return 60\n",
    "    if val < 91:\n",
    "        return 90\n",
    "    if val < 181:\n",
    "        return 180\n",
    "    if val < 365:\n",
    "        return 365\n",
    "    return 730\n",
    "merge_q26.reset_index(inplace=True)\n",
    "merge_q26['Q26_new']  = merge_q26['num_of_days'].dropna().apply(group_num_of_days)\n",
    "\n",
    "merge_q26.to_csv(f'{project_folder}/new_data/new_data_1.csv')"
   ]
  },
  {
   "cell_type": "markdown",
   "metadata": {
    "pycharm": {
     "name": "#%% md\n"
    }
   },
   "source": [
    "#### Analysis for Q27"
   ]
  },
  {
   "cell_type": "code",
   "execution_count": 13,
   "metadata": {
    "pycharm": {
     "name": "#%%\n"
    }
   },
   "outputs": [],
   "source": [
    "gb_data_first = data_general.groupby('Q27').count()[field_to_work_on].sort_values(ascending=False)\n",
    "gb_data_27 = gb_data_first.dropna()\n",
    "time_q27 = InterpretTime(gb_data_27)\n",
    "for res in time_q27.new_gb_data.iterrows():\n",
    "    time_q27.main_part(res)\n",
    "res_q27 = calc_statistics(time_q27.new_gb_data)"
   ]
  },
  {
   "cell_type": "markdown",
   "metadata": {
    "pycharm": {
     "name": "#%% md\n"
    }
   },
   "source": [
    "#### Code for Q32 and Q33 which is multiple choices questions"
   ]
  },
  {
   "cell_type": "code",
   "execution_count": 14,
   "metadata": {
    "pycharm": {
     "name": "#%%\n"
    }
   },
   "outputs": [
    {
     "name": "stdout",
     "output_type": "stream",
     "text": [
      "Q32\n",
      "Q33\n"
     ]
    }
   ],
   "source": [
    "res32_33 = []\n",
    "for question_num in special_questions[-2:]:\n",
    "    print(question_num)\n",
    "    # Read choice options\n",
    "    choice_df = pd.read_csv(f'output_2/{question_num}.csv', encoding='cp1252').set_index('question')\n",
    "    # grpoupby data by the responses to the question_num\n",
    "    gb_data = data_general.groupby(question_num).count()[field_to_work_on].sort_values(ascending=False).reset_index()\n",
    "    # Go over each separate response\n",
    "    for item in choice_df.iterrows():\n",
    "        question = item[0]\n",
    "        # search the current response in the multiple choices responses\n",
    "        for row_0 in gb_data.iterrows():\n",
    "            row = row_0[1]\n",
    "            if question in row[question_num]:\n",
    "                # if the response was found add the number of respondants that use that respomse as part on 1 or combination of choices\n",
    "                choice_df.loc[question] += row[field_to_work_on]\n",
    "    # calculate percentage\n",
    "    sumy = choice_df.sum()\n",
    "    choice_df['per'] = round(choice_df / sumy * 100, 0)\n",
    "    choice_df.sort_values(by='per', ascending=False, inplace=True)\n",
    "    res32_33.append(choice_df)\n",
    "    # Plot results\n",
    "    # choice_df['per'].plot(kind='bar',title=rel_questions_dic[question_num])\n",
    "\n",
    "    # plt.gca().yaxis.set_major_formatter(mtick.PercentFormatter(xmax=1.0,decimals=0))\n",
    "    # plt.show()"
   ]
  },
  {
   "cell_type": "code",
   "execution_count": 15,
   "metadata": {
    "pycharm": {
     "name": "#%%\n"
    }
   },
   "outputs": [
    {
     "data": {
      "text/plain": "<IPython.core.display.Markdown object>",
      "text/markdown": "<h4>The following questions will be the main focus of our analysis. We will begin by looking at each question individually.</h4>"
     },
     "metadata": {},
     "output_type": "display_data"
    },
    {
     "data": {
      "text/html": "<table border=\"1\" class=\"dataframe\">\n  <thead>\n    <tr style=\"text-align: right;\">\n      <th></th>\n      <th>Question</th>\n      <th>Abbreviation</th>\n      <th># Respondents</th>\n    </tr>\n    <tr>\n      <th>Number</th>\n      <th></th>\n      <th></th>\n      <th></th>\n    </tr>\n  </thead>\n  <tbody>\n    <tr>\n      <th>Q25</th>\n      <td>Did you replace the stolen bicycle or bicycle part?</td>\n      <td>Is replaced</td>\n      <td>1812</td>\n    </tr>\n    <tr>\n      <th>Q26</th>\n      <td>How many days did it take to recover or replace your stolen bicycle or part?</td>\n      <td>Time replaced</td>\n      <td>1821</td>\n    </tr>\n    <tr>\n      <th>Q27</th>\n      <td>After recovering your bike, how many additional days did it take before your bicycle was repaired and rideable?</td>\n      <td>Time rideable</td>\n      <td>33</td>\n    </tr>\n    <tr>\n      <th>Q28_1</th>\n      <td>Over the past year, how often did you cycle (with any bicycle) during each season? - Fall (Sept, Oct, Nov)</td>\n      <td>Fall habit</td>\n      <td>1731</td>\n    </tr>\n    <tr>\n      <th>Q28_2</th>\n      <td>Over the past year, how often did you cycle (with any bicycle) during each season? - Winter (Dec, Jan, Feb)</td>\n      <td>Winter habit</td>\n      <td>1700</td>\n    </tr>\n    <tr>\n      <th>Q28_3</th>\n      <td>Over the past year, how often did you cycle (with any bicycle) during each season? - Spring (Mar, Apr, May)</td>\n      <td>Spring habit</td>\n      <td>1713</td>\n    </tr>\n    <tr>\n      <th>Q28_4</th>\n      <td>Over the past year, how often did you cycle (with any bicycle) during each season? - Summer (Jun, Jul, Aug)</td>\n      <td>Summer habit</td>\n      <td>1710</td>\n    </tr>\n    <tr>\n      <th>Q29</th>\n      <td>What was the main purpose of the trips you made with the stolen/damaged bicycle? Measured in highest number or trips, not distance cycled</td>\n      <td>Purpose trip</td>\n      <td>1728</td>\n    </tr>\n    <tr>\n      <th>Q30</th>\n      <td>Thinking about the trips you made with the stolen/damaged bicycle, what transportation mode did you most often use to make those trips while your bicycle was unavailable?</td>\n      <td>Mode switch</td>\n      <td>1728</td>\n    </tr>\n    <tr>\n      <th>Q31</th>\n      <td>Compared to before the theft, what best describes your overall cycling activity after your stolen bicycle (or part) was recovered, replaced, or abandoned? Did you cycle…</td>\n      <td>Theft circumstances</td>\n      <td>1730</td>\n    </tr>\n    <tr>\n      <th>Q32</th>\n      <td>What were the main reasons you cycled less often or not at all? (Select up to 3) - Selected Choice</td>\n      <td>Reason less</td>\n      <td>768</td>\n    </tr>\n    <tr>\n      <th>Q33</th>\n      <td>What were the main reasons you cycled more often? (Select up to 3) - Selected Choice</td>\n      <td>Reason more</td>\n      <td>104</td>\n    </tr>\n  </tbody>\n</table>"
     },
     "metadata": {},
     "output_type": "display_data"
    },
    {
     "data": {
      "text/plain": "                                                Question   \\\nNumber                                                      \nQ25     Did you replace the stolen bicycle or bicycle ...   \nQ26     How many days did it take to recover or replac...   \nQ27     After recovering your bike, how many additiona...   \nQ28_1   Over the past year, how often did you cycle (w...   \nQ28_2   Over the past year, how often did you cycle (w...   \nQ28_3   Over the past year, how often did you cycle (w...   \nQ28_4   Over the past year, how often did you cycle (w...   \nQ29     What was the main purpose of the trips you mad...   \nQ30     Thinking about the trips you made with the sto...   \nQ31     Compared to before the theft, what best descri...   \nQ32     What were the main reasons you cycled less oft...   \nQ33     What were the main reasons you cycled more oft...   \n\n              Abbreviation   # Respondents  \nNumber                                      \nQ25             Is replaced           1812  \nQ26           Time replaced           1821  \nQ27           Time rideable             33  \nQ28_1            Fall habit           1731  \nQ28_2          Winter habit           1700  \nQ28_3          Spring habit           1713  \nQ28_4          Summer habit           1710  \nQ29            Purpose trip           1728  \nQ30             Mode switch           1728  \nQ31     Theft circumstances           1730  \nQ32             Reason less            768  \nQ33             Reason more            104  ",
      "text/html": "<div>\n<style scoped>\n    .dataframe tbody tr th:only-of-type {\n        vertical-align: middle;\n    }\n\n    .dataframe tbody tr th {\n        vertical-align: top;\n    }\n\n    .dataframe thead th {\n        text-align: right;\n    }\n</style>\n<table border=\"1\" class=\"dataframe\">\n  <thead>\n    <tr style=\"text-align: right;\">\n      <th></th>\n      <th>Question</th>\n      <th>Abbreviation</th>\n      <th># Respondents</th>\n    </tr>\n    <tr>\n      <th>Number</th>\n      <th></th>\n      <th></th>\n      <th></th>\n    </tr>\n  </thead>\n  <tbody>\n    <tr>\n      <th>Q25</th>\n      <td>Did you replace the stolen bicycle or bicycle ...</td>\n      <td>Is replaced</td>\n      <td>1812</td>\n    </tr>\n    <tr>\n      <th>Q26</th>\n      <td>How many days did it take to recover or replac...</td>\n      <td>Time replaced</td>\n      <td>1821</td>\n    </tr>\n    <tr>\n      <th>Q27</th>\n      <td>After recovering your bike, how many additiona...</td>\n      <td>Time rideable</td>\n      <td>33</td>\n    </tr>\n    <tr>\n      <th>Q28_1</th>\n      <td>Over the past year, how often did you cycle (w...</td>\n      <td>Fall habit</td>\n      <td>1731</td>\n    </tr>\n    <tr>\n      <th>Q28_2</th>\n      <td>Over the past year, how often did you cycle (w...</td>\n      <td>Winter habit</td>\n      <td>1700</td>\n    </tr>\n    <tr>\n      <th>Q28_3</th>\n      <td>Over the past year, how often did you cycle (w...</td>\n      <td>Spring habit</td>\n      <td>1713</td>\n    </tr>\n    <tr>\n      <th>Q28_4</th>\n      <td>Over the past year, how often did you cycle (w...</td>\n      <td>Summer habit</td>\n      <td>1710</td>\n    </tr>\n    <tr>\n      <th>Q29</th>\n      <td>What was the main purpose of the trips you mad...</td>\n      <td>Purpose trip</td>\n      <td>1728</td>\n    </tr>\n    <tr>\n      <th>Q30</th>\n      <td>Thinking about the trips you made with the sto...</td>\n      <td>Mode switch</td>\n      <td>1728</td>\n    </tr>\n    <tr>\n      <th>Q31</th>\n      <td>Compared to before the theft, what best descri...</td>\n      <td>Theft circumstances</td>\n      <td>1730</td>\n    </tr>\n    <tr>\n      <th>Q32</th>\n      <td>What were the main reasons you cycled less oft...</td>\n      <td>Reason less</td>\n      <td>768</td>\n    </tr>\n    <tr>\n      <th>Q33</th>\n      <td>What were the main reasons you cycled more oft...</td>\n      <td>Reason more</td>\n      <td>104</td>\n    </tr>\n  </tbody>\n</table>\n</div>"
     },
     "execution_count": 15,
     "metadata": {},
     "output_type": "execute_result"
    }
   ],
   "source": [
    "questions_to_examine_1['# Respondents'] = data_general.apply(lambda x: x.count())\n",
    "html_table = questions_to_examine_1.to_html()\n",
    "text = \"<h4>The following questions will be the main focus of our analysis. We will begin by looking at each question individually.</h4>\"\n",
    "display(Markdown(text))\n",
    "display_html(html_table, raw=True)\n",
    "\n",
    "questions_to_examine_1"
   ]
  },
  {
   "cell_type": "code",
   "execution_count": 16,
   "metadata": {
    "pycharm": {
     "name": "#%%\n"
    }
   },
   "outputs": [
    {
     "data": {
      "text/plain": "<IPython.core.display.Markdown object>",
      "text/markdown": "Q25 - Did you replace the stolen bicycle or bicycle part?"
     },
     "metadata": {},
     "output_type": "display_data"
    },
    {
     "data": {
      "text/plain": "<IPython.core.display.Markdown object>",
      "text/markdown": "<h4>Results</h4><ul><li>31% did not replace their stolen bicycle.</li><li> 24% did replace with cheaper bicycle.</li><li> 46%  with more expensive bicycle.</li></ul>"
     },
     "metadata": {},
     "output_type": "display_data"
    },
    {
     "data": {
      "text/plain": "<IPython.core.display.Markdown object>",
      "text/markdown": "<h4>Next analysis</h4><ul> <li>cross validation with demographic</li> <li>cross validation with bicycle value</li></ul>"
     },
     "metadata": {},
     "output_type": "display_data"
    },
    {
     "data": {
      "text/plain": "                                                 Q25  count   per\n2  ​Yes, and I replaced it with exactly what was ...    828  46.0\n0                                                 No    558  31.0\n1     Yes, but the replacement was something cheaper    426  24.0",
      "text/html": "<div>\n<style scoped>\n    .dataframe tbody tr th:only-of-type {\n        vertical-align: middle;\n    }\n\n    .dataframe tbody tr th {\n        vertical-align: top;\n    }\n\n    .dataframe thead th {\n        text-align: right;\n    }\n</style>\n<table border=\"1\" class=\"dataframe\">\n  <thead>\n    <tr style=\"text-align: right;\">\n      <th></th>\n      <th>Q25</th>\n      <th>count</th>\n      <th>per</th>\n    </tr>\n  </thead>\n  <tbody>\n    <tr>\n      <th>2</th>\n      <td>​Yes, and I replaced it with exactly what was ...</td>\n      <td>828</td>\n      <td>46.0</td>\n    </tr>\n    <tr>\n      <th>0</th>\n      <td>No</td>\n      <td>558</td>\n      <td>31.0</td>\n    </tr>\n    <tr>\n      <th>1</th>\n      <td>Yes, but the replacement was something cheaper</td>\n      <td>426</td>\n      <td>24.0</td>\n    </tr>\n  </tbody>\n</table>\n</div>"
     },
     "execution_count": 16,
     "metadata": {},
     "output_type": "execute_result"
    }
   ],
   "source": [
    "q_num = 'Q25'\n",
    "q = questions_to_examine_1.loc[q_num][0]\n",
    "res_25 = res_reg[q_num]\n",
    "more_ex = int(\n",
    "    res_25[res_25['Q25'] == '\\u200bYes, and I replaced it with exactly what was stolen or something more expensive '][\n",
    "        'per'].values[0])\n",
    "cheaper = int(res_25[res_25['Q25'] == 'Yes, but the replacement was something cheaper']['per'].values[0])\n",
    "no = int(res_25[res_25['Q25'] == 'No']['per'].values[0])\n",
    "text = f\"{q_num} - {q}\"\n",
    "display(Markdown(text))\n",
    "text = f\"<h4>Results</h4><ul><li>{no}% did not replace their stolen bicycle.</li><li> {cheaper}% did replace with cheaper bicycle.</li><li> {more_ex}%  with more expensive bicycle.</li></ul>\"\n",
    "display(Markdown(text))\n",
    "text = \"<h4>Next analysis</h4><ul> <li>cross validation with demographic</li> <li>cross validation with bicycle value</li></ul>\"\n",
    "display(Markdown(text))\n",
    "res_25"
   ]
  },
  {
   "cell_type": "code",
   "execution_count": 17,
   "metadata": {
    "pycharm": {
     "name": "#%%\n"
    }
   },
   "outputs": [
    {
     "data": {
      "text/plain": "<IPython.core.display.Markdown object>",
      "text/markdown": "Q26 - How many days did it take to recover or replace your stolen bicycle or part?"
     },
     "metadata": {},
     "output_type": "display_data"
    },
    {
     "data": {
      "text/plain": "<IPython.core.display.Markdown object>",
      "text/markdown": "<h4>Results</h4><ul><li>25% recovered or replaced their bicycles within 20 days and 50% within 49 days.</li>  <li>4% are recovered or replaced over 1 year.</li> <li>The longest time  reported to recovered/replaced was 1460 days.</li><li>Among all the participants that answers to this question 5% have not recovered/replaces their bicycles.</ul>"
     },
     "metadata": {},
     "output_type": "display_data"
    },
    {
     "data": {
      "text/plain": "<IPython.core.display.Markdown object>",
      "text/markdown": "<h4>Next analysis</h4><ul> <li>compare the results between group members who were replaced and those who recovered. Are there any statistical differences between the two groups? </li> <li>cross validation with demographic</li><li>cross validation with bike characteristics</li></ul>"
     },
     "metadata": {},
     "output_type": "display_data"
    },
    {
     "data": {
      "text/plain": "                 0\ncount  1037.000000\nmean     98.671167\nstd     142.170234\nmin       0.000000\n25%      20.000000\n50%      49.000000\n75%     120.000000\nmax    1460.000000",
      "text/html": "<div>\n<style scoped>\n    .dataframe tbody tr th:only-of-type {\n        vertical-align: middle;\n    }\n\n    .dataframe tbody tr th {\n        vertical-align: top;\n    }\n\n    .dataframe thead th {\n        text-align: right;\n    }\n</style>\n<table border=\"1\" class=\"dataframe\">\n  <thead>\n    <tr style=\"text-align: right;\">\n      <th></th>\n      <th>0</th>\n    </tr>\n  </thead>\n  <tbody>\n    <tr>\n      <th>count</th>\n      <td>1037.000000</td>\n    </tr>\n    <tr>\n      <th>mean</th>\n      <td>98.671167</td>\n    </tr>\n    <tr>\n      <th>std</th>\n      <td>142.170234</td>\n    </tr>\n    <tr>\n      <th>min</th>\n      <td>0.000000</td>\n    </tr>\n    <tr>\n      <th>25%</th>\n      <td>20.000000</td>\n    </tr>\n    <tr>\n      <th>50%</th>\n      <td>49.000000</td>\n    </tr>\n    <tr>\n      <th>75%</th>\n      <td>120.000000</td>\n    </tr>\n    <tr>\n      <th>max</th>\n      <td>1460.000000</td>\n    </tr>\n  </tbody>\n</table>\n</div>"
     },
     "execution_count": 17,
     "metadata": {},
     "output_type": "execute_result"
    }
   ],
   "source": [
    "q_num = 'Q26'\n",
    "q = questions_to_examine_1.loc[q_num][0]\n",
    "res = res_26\n",
    "flat_data = res[-1]\n",
    "day_25 = int(res[1].loc['25%'][0])\n",
    "day_50 = int(res[1].loc['50%'][0])\n",
    "more_365 = len(flat_data[flat_data[0] > 365])\n",
    "more_385_percentage = int(round(more_365 / len(flat_data) * 100, 0))\n",
    "max = int(res[1].loc['max'][0])\n",
    "no_recoverd_replace = int(round(list(res[2].values())[0][1]))\n",
    "text = f\"{q_num} - {q}\"\n",
    "display(Markdown(text))\n",
    "text = f\"<h4>Results</h4><ul><li>25% recovered or replaced their bicycles within {day_25} days and 50% within {day_50} days.</li>  <li>{more_385_percentage}% are recovered or replaced over 1 year.</li> <li>The longest time  reported to recovered/replaced was {max} days.</li><li>Among all the participants that answers to this question {no_recoverd_replace}% have not recovered/replaces their bicycles.</ul>\"\n",
    "display(Markdown(text))\n",
    "text = \"<h4>Next analysis</h4><ul> <li>compare the results between group members who were replaced and those who recovered. Are there any statistical differences between the two groups? </li> <li>cross validation with demographic</li><li>cross validation with bike characteristics</li></ul>\"\n",
    "display(Markdown(text))\n",
    "res[1]\n"
   ]
  },
  {
   "cell_type": "code",
   "execution_count": 18,
   "metadata": {
    "pycharm": {
     "name": "#%%\n"
    }
   },
   "outputs": [
    {
     "data": {
      "text/plain": "<IPython.core.display.Markdown object>",
      "text/markdown": "Q27 - After recovering your bike, how many additional days did it take before your bicycle was repaired and rideable?"
     },
     "metadata": {},
     "output_type": "display_data"
    },
    {
     "data": {
      "text/plain": "<IPython.core.display.Markdown object>",
      "text/markdown": "<h4>Results</h4><ul><li>25% repaired their bicycles within 7 days and 50% within 14 days.</li>  <li> 28% are repaired after more then a month.</li> <li>The longest time  reported to repair was 360 days.</li> <li>Among all the participants that answers to this question 3% have not repaired their bicycles.</li></ul>"
     },
     "metadata": {},
     "output_type": "display_data"
    },
    {
     "data": {
      "text/plain": "<IPython.core.display.Markdown object>",
      "text/markdown": "<h4>Next analysis</h4><ul> <li>cross validation with bike condition upon recovery</li> <li>cross validation with demographic</li><li>cross validation with bike characteristics</li></ul>"
     },
     "metadata": {},
     "output_type": "display_data"
    },
    {
     "data": {
      "text/plain": "                0\ncount   32.000000\nmean    45.281250\nstd     85.462776\nmin      0.000000\n25%      7.000000\n50%     14.000000\n75%     42.750000\nmax    360.000000",
      "text/html": "<div>\n<style scoped>\n    .dataframe tbody tr th:only-of-type {\n        vertical-align: middle;\n    }\n\n    .dataframe tbody tr th {\n        vertical-align: top;\n    }\n\n    .dataframe thead th {\n        text-align: right;\n    }\n</style>\n<table border=\"1\" class=\"dataframe\">\n  <thead>\n    <tr style=\"text-align: right;\">\n      <th></th>\n      <th>0</th>\n    </tr>\n  </thead>\n  <tbody>\n    <tr>\n      <th>count</th>\n      <td>32.000000</td>\n    </tr>\n    <tr>\n      <th>mean</th>\n      <td>45.281250</td>\n    </tr>\n    <tr>\n      <th>std</th>\n      <td>85.462776</td>\n    </tr>\n    <tr>\n      <th>min</th>\n      <td>0.000000</td>\n    </tr>\n    <tr>\n      <th>25%</th>\n      <td>7.000000</td>\n    </tr>\n    <tr>\n      <th>50%</th>\n      <td>14.000000</td>\n    </tr>\n    <tr>\n      <th>75%</th>\n      <td>42.750000</td>\n    </tr>\n    <tr>\n      <th>max</th>\n      <td>360.000000</td>\n    </tr>\n  </tbody>\n</table>\n</div>"
     },
     "execution_count": 18,
     "metadata": {},
     "output_type": "execute_result"
    }
   ],
   "source": [
    "q_num = 'Q27'\n",
    "res = res_q27\n",
    "q = questions_to_examine_1.loc[q_num][0]\n",
    "flat_data = res[-1]\n",
    "day_25 = int(res[1].loc['25%'][0])\n",
    "day_50 = int(res[1].loc['50%'][0])\n",
    "more_30 = len(flat_data[flat_data[0] > 30])\n",
    "more_30_percentage = int(round(more_30 / len(flat_data) * 100, 0))\n",
    "max = int(res[1].loc['max'][0])\n",
    "no_recoverd_replace = int(round(list(res[2].values())[0][1]))\n",
    "\n",
    "text = f\"{q_num} - {q}\"\n",
    "display(Markdown(text))\n",
    "text = f\"<h4>Results</h4><ul><li>25% repaired their bicycles within {day_25} days and 50% within {day_50} days.</li>  <li> {more_30_percentage}% are repaired after more then a month.</li> <li>The longest time  reported to repair was {max} days.</li> <li>Among all the participants that answers to this question {no_recoverd_replace}% have not repaired their bicycles.</li></ul>\"\n",
    "display(Markdown(text))\n",
    "text = \"<h4>Next analysis</h4><ul> <li>cross validation with bike condition upon recovery</li> <li>cross validation with demographic</li><li>cross validation with bike characteristics</li></ul>\"\n",
    "display(Markdown(text))\n",
    "res[1]\n"
   ]
  },
  {
   "cell_type": "code",
   "execution_count": 19,
   "metadata": {
    "pycharm": {
     "name": "#%%\n"
    }
   },
   "outputs": [
    {
     "data": {
      "text/plain": "frequency  Don't know/not sure  Never  Less than once a month  \\\nFall                       1.0    9.0                     8.0   \nWinter                     1.0   25.0                    14.0   \nSpring                     1.0    9.0                     6.0   \nSummer                     1.0    7.0                     5.0   \n\nfrequency  1-3 days a month  1-3 days a week  4 or more days a week  \nFall                   18.0             34.0                   30.0  \nWinter                 16.0             22.0                   21.0  \nSpring                 18.0             34.0                   32.0  \nSummer                 11.0             35.0                   41.0  ",
      "text/html": "<div>\n<style scoped>\n    .dataframe tbody tr th:only-of-type {\n        vertical-align: middle;\n    }\n\n    .dataframe tbody tr th {\n        vertical-align: top;\n    }\n\n    .dataframe thead th {\n        text-align: right;\n    }\n</style>\n<table border=\"1\" class=\"dataframe\">\n  <thead>\n    <tr style=\"text-align: right;\">\n      <th>frequency</th>\n      <th>Don't know/not sure</th>\n      <th>Never</th>\n      <th>Less than once a month</th>\n      <th>1-3 days a month</th>\n      <th>1-3 days a week</th>\n      <th>4 or more days a week</th>\n    </tr>\n  </thead>\n  <tbody>\n    <tr>\n      <th>Fall</th>\n      <td>1.0</td>\n      <td>9.0</td>\n      <td>8.0</td>\n      <td>18.0</td>\n      <td>34.0</td>\n      <td>30.0</td>\n    </tr>\n    <tr>\n      <th>Winter</th>\n      <td>1.0</td>\n      <td>25.0</td>\n      <td>14.0</td>\n      <td>16.0</td>\n      <td>22.0</td>\n      <td>21.0</td>\n    </tr>\n    <tr>\n      <th>Spring</th>\n      <td>1.0</td>\n      <td>9.0</td>\n      <td>6.0</td>\n      <td>18.0</td>\n      <td>34.0</td>\n      <td>32.0</td>\n    </tr>\n    <tr>\n      <th>Summer</th>\n      <td>1.0</td>\n      <td>7.0</td>\n      <td>5.0</td>\n      <td>11.0</td>\n      <td>35.0</td>\n      <td>41.0</td>\n    </tr>\n  </tbody>\n</table>\n</div>"
     },
     "execution_count": 19,
     "metadata": {},
     "output_type": "execute_result"
    },
    {
     "data": {
      "text/plain": "<IPython.core.display.Markdown object>",
      "text/markdown": "Q28 - Over the past year, how often did you cycle"
     },
     "metadata": {},
     "output_type": "display_data"
    },
    {
     "data": {
      "text/plain": "<IPython.core.display.Markdown object>",
      "text/markdown": "<h4>Results</h4><ul><li>The seasons have huge effect on the cycling habit.</li></ul>"
     },
     "metadata": {},
     "output_type": "display_data"
    },
    {
     "data": {
      "text/plain": "<IPython.core.display.Markdown object>",
      "text/markdown": "<h4>Next analysis</h4><ul> <li>Find group of cyclists with same habit</li> <li>for those groups cross validation with demographic</li><li>with bike characteristics </li><li> with other questions behaviour</li> <li>between cities</li></ul>"
     },
     "metadata": {},
     "output_type": "display_data"
    }
   ],
   "source": [
    "frequency = 'frequency'\n",
    "seasons = {1: 'Fall', 2: 'Winter', 3: 'Spring', 4: 'Summer'}  # list of seasons\n",
    "data_to_use = [res_reg[f'Q28_{i}'].rename(columns={'per': seasons[i]}) for i in range(1, 5)]\n",
    "data_to_use_1 = [data.rename(columns={data.columns[0]: frequency}).drop('count', axis=1).set_index(frequency) for data\n",
    "                 in data_to_use]\n",
    "seasons_pd = pd.concat(data_to_use_1, axis=1)\n",
    "\n",
    "frequency_dic = {'4 or more days a week': 4, '1-3 days a week': 3, '1-3 days a month': 2, 'Less than once a month': 1,\n",
    "                 'Never': 0,\n",
    "                 \"Don't know/not sure\": -1}\n",
    "for_sort = 'for_sort'\n",
    "seasons_pd[for_sort] = frequency_dic\n",
    "seasons_pd.sort_values(for_sort).drop(for_sort, axis=1).T\n",
    "\n",
    "q_num = 'Q28'\n",
    "q = f\"Over the past year, how often did you cycle\"\n",
    "text = f\"{q_num} - {q}\"\n",
    "display(Markdown(text))\n",
    "text = f\"<h4>Results</h4><ul><li>The seasons have huge effect on the cycling habit.</li></ul>\"\n",
    "display(Markdown(text))\n",
    "text = \"<h4>Next analysis</h4><ul> <li>Find group of cyclists with same habit</li> <li>for those groups cross validation with demographic</li><li>with bike characteristics </li><li> with other questions behaviour</li> <li>between cities</li></ul>\"\n",
    "display(Markdown(text))\n"
   ]
  },
  {
   "cell_type": "code",
   "execution_count": 20,
   "metadata": {
    "pycharm": {
     "name": "#%%\n"
    }
   },
   "outputs": [
    {
     "data": {
      "text/plain": "Winter                  4 or more days a week  1-3 days a week  \\\nFall                                                             \n4 or more days a week               98.324022        23.138298   \n1-3 days a week                      1.117318        74.202128   \n1-3 days a month                     0.279330         1.329787   \nLess than once a month               0.000000         0.265957   \nNever                                0.279330         0.797872   \nDon't know/not sure                  0.000000         0.265957   \n\nWinter                  1-3 days a month  Less than once a month      Never  \\\nFall                                                                          \n4 or more days a week           7.942238                6.276151   7.390300   \n1-3 days a week                50.902527               30.962343  18.706697   \n1-3 days a month               38.628159               30.962343  26.096998   \nLess than once a month          1.444043               30.125523  15.242494   \nNever                           1.083032                1.673640  32.101617   \nDon't know/not sure             0.000000                0.000000   0.461894   \n\nWinter                  Don't know/not sure  \nFall                                         \n4 or more days a week                  12.5  \n1-3 days a week                        12.5  \n1-3 days a month                        0.0  \nLess than once a month                  0.0  \nNever                                   0.0  \nDon't know/not sure                    75.0  ",
      "text/html": "<div>\n<style scoped>\n    .dataframe tbody tr th:only-of-type {\n        vertical-align: middle;\n    }\n\n    .dataframe tbody tr th {\n        vertical-align: top;\n    }\n\n    .dataframe thead th {\n        text-align: right;\n    }\n</style>\n<table border=\"1\" class=\"dataframe\">\n  <thead>\n    <tr style=\"text-align: right;\">\n      <th>Winter</th>\n      <th>4 or more days a week</th>\n      <th>1-3 days a week</th>\n      <th>1-3 days a month</th>\n      <th>Less than once a month</th>\n      <th>Never</th>\n      <th>Don't know/not sure</th>\n    </tr>\n    <tr>\n      <th>Fall</th>\n      <th></th>\n      <th></th>\n      <th></th>\n      <th></th>\n      <th></th>\n      <th></th>\n    </tr>\n  </thead>\n  <tbody>\n    <tr>\n      <th>4 or more days a week</th>\n      <td>98.324022</td>\n      <td>23.138298</td>\n      <td>7.942238</td>\n      <td>6.276151</td>\n      <td>7.390300</td>\n      <td>12.5</td>\n    </tr>\n    <tr>\n      <th>1-3 days a week</th>\n      <td>1.117318</td>\n      <td>74.202128</td>\n      <td>50.902527</td>\n      <td>30.962343</td>\n      <td>18.706697</td>\n      <td>12.5</td>\n    </tr>\n    <tr>\n      <th>1-3 days a month</th>\n      <td>0.279330</td>\n      <td>1.329787</td>\n      <td>38.628159</td>\n      <td>30.962343</td>\n      <td>26.096998</td>\n      <td>0.0</td>\n    </tr>\n    <tr>\n      <th>Less than once a month</th>\n      <td>0.000000</td>\n      <td>0.265957</td>\n      <td>1.444043</td>\n      <td>30.125523</td>\n      <td>15.242494</td>\n      <td>0.0</td>\n    </tr>\n    <tr>\n      <th>Never</th>\n      <td>0.279330</td>\n      <td>0.797872</td>\n      <td>1.083032</td>\n      <td>1.673640</td>\n      <td>32.101617</td>\n      <td>0.0</td>\n    </tr>\n    <tr>\n      <th>Don't know/not sure</th>\n      <td>0.000000</td>\n      <td>0.265957</td>\n      <td>0.000000</td>\n      <td>0.000000</td>\n      <td>0.461894</td>\n      <td>75.0</td>\n    </tr>\n  </tbody>\n</table>\n</div>"
     },
     "execution_count": 20,
     "metadata": {},
     "output_type": "execute_result"
    }
   ],
   "source": [
    "qu_seasons ={'Q28_1': 'Fall', 'Q28_2': 'Winter', 'Q28_3': 'Spring', 'Q28_4': 'Summer'}\n",
    "my_reindex = list(frequency_dic.keys())\n",
    "data_general.rename(columns=qu_seasons, inplace=True)\n",
    "pd.crosstab(index=data_general['Fall'], columns=data_general['Winter'], normalize='columns').reindex(columns=my_reindex,\n",
    "                                                                                                     index=my_reindex) * 100"
   ]
  },
  {
   "cell_type": "markdown",
   "metadata": {
    "pycharm": {
     "name": "#%% md\n"
    }
   },
   "source": [
    "# Ridership profile code\n"
   ]
  },
  {
   "cell_type": "code",
   "execution_count": 21,
   "metadata": {
    "pycharm": {
     "name": "#%%\n"
    }
   },
   "outputs": [
    {
     "name": "stdout",
     "output_type": "stream",
     "text": [
      "           Fall_en    Winter_en    Spring_en    Summer_en     Q28\n",
      "count  1014.000000  1014.000000  1014.000000  1014.000000  1014.0\n",
      "mean      2.590730     1.564103     2.680473     3.056213     0.0\n",
      "std       0.858816     1.179511     0.749118     0.742050     0.0\n",
      "min       0.000000     0.000000     0.000000     0.000000     0.0\n",
      "25%       2.000000     0.000000     2.000000     3.000000     0.0\n",
      "50%       3.000000     2.000000     3.000000     3.000000     0.0\n",
      "75%       3.000000     3.000000     3.000000     4.000000     0.0\n",
      "max       4.000000     4.000000     4.000000     4.000000     0.0\n",
      "          Fall_en   Winter_en   Spring_en   Summer_en    Q28\n",
      "count  205.000000  205.000000  205.000000  205.000000  205.0\n",
      "mean     0.521951    0.258537    0.414634    0.541463    1.0\n",
      "std      0.724742    0.481509    0.550205    0.674819    0.0\n",
      "min      0.000000    0.000000    0.000000    0.000000    1.0\n",
      "25%      0.000000    0.000000    0.000000    0.000000    1.0\n",
      "50%      0.000000    0.000000    0.000000    0.000000    1.0\n",
      "75%      1.000000    0.000000    1.000000    1.000000    1.0\n",
      "max      4.000000    3.000000    2.000000    2.000000    1.0\n",
      "         Fall_en   Winter_en  Spring_en   Summer_en    Q28\n",
      "count  445.00000  445.000000      445.0  445.000000  445.0\n",
      "mean     3.91236    3.766292        4.0    3.941573    2.0\n",
      "std      0.28309    0.423665        0.0    0.309318    0.0\n",
      "min      3.00000    3.000000        4.0    2.000000    2.0\n",
      "25%      4.00000    4.000000        4.0    4.000000    2.0\n",
      "50%      4.00000    4.000000        4.0    4.000000    2.0\n",
      "75%      4.00000    4.000000        4.0    4.000000    2.0\n",
      "max      4.00000    4.000000        4.0    4.000000    2.0\n"
     ]
    },
    {
     "data": {
      "text/plain": "<AxesSubplot: >"
     },
     "execution_count": 21,
     "metadata": {},
     "output_type": "execute_result"
    },
    {
     "data": {
      "text/plain": "[Text(-0.5, 0, ''),\n Text(0.0, 0, ''),\n Text(0.5, 0, ''),\n Text(1.0, 0, ''),\n Text(1.5, 0, ''),\n Text(2.0, 0, ''),\n Text(2.5, 0, ''),\n Text(3.0, 0, ''),\n Text(3.5, 0, '')]"
     },
     "execution_count": 21,
     "metadata": {},
     "output_type": "execute_result"
    },
    {
     "data": {
      "text/plain": "<AxesSubplot: xlabel='seasons', ylabel=' Ridership Frequency'>"
     },
     "execution_count": 21,
     "metadata": {},
     "output_type": "execute_result"
    },
    {
     "data": {
      "text/plain": "[Text(-0.5, 0, ''),\n Text(0.0, 0, ''),\n Text(0.5, 0, ''),\n Text(1.0, 0, ''),\n Text(1.5, 0, ''),\n Text(2.0, 0, ''),\n Text(2.5, 0, ''),\n Text(3.0, 0, ''),\n Text(3.5, 0, '')]"
     },
     "execution_count": 21,
     "metadata": {},
     "output_type": "execute_result"
    },
    {
     "data": {
      "text/plain": "<AxesSubplot: xlabel='seasons', ylabel=' Ridership Frequency'>"
     },
     "execution_count": 21,
     "metadata": {},
     "output_type": "execute_result"
    },
    {
     "data": {
      "text/plain": "[Text(-0.5, 0, ''),\n Text(0.0, 0, ''),\n Text(0.5, 0, ''),\n Text(1.0, 0, ''),\n Text(1.5, 0, ''),\n Text(2.0, 0, ''),\n Text(2.5, 0, ''),\n Text(3.0, 0, ''),\n Text(3.5, 0, '')]"
     },
     "execution_count": 21,
     "metadata": {},
     "output_type": "execute_result"
    },
    {
     "data": {
      "text/plain": "<matplotlib.legend.Legend at 0x254325f2f50>"
     },
     "execution_count": 21,
     "metadata": {},
     "output_type": "execute_result"
    },
    {
     "data": {
      "text/plain": "<Figure size 1500x1000 with 1 Axes>",
      "image/png": "[encoded data removed]"
     },
     "metadata": {},
     "output_type": "display_data"
    },
    {
     "data": {
      "text/plain": "<Figure size 1500x1000 with 1 Axes>",
      "image/png": "[encoded data removed]"
     },
     "metadata": {},
     "output_type": "display_data"
    }
   ],
   "source": [
    "\n",
    "from sklearn.cluster import AgglomerativeClustering\n",
    "\n",
    "# Parameters for this\n",
    "n = 3\n",
    "my_class = 'Q28'\n",
    "seasons_values = list(seasons.values())\n",
    "color_list = [color for color in plt.rcParams['axes.prop_cycle'].by_key()['color'][-n:]]\n",
    "\n",
    "\n",
    "# get all the relevant code into new dataframe (remove rows with Null values)\n",
    "data_general_classification = data_general.copy()[list(seasons_values)+['index']].dropna().rename(columns={'index':'old_index'})\n",
    "# Encoding\n",
    "new_cols = [f'{d}_en' for d in seasons_values]\n",
    "data_general_classification[new_cols] = data_general_classification[seasons_values].apply(lambda row: [frequency_dic[y] for y in row],\n",
    "                                                                          axis=1, result_type='expand')\n",
    "data_general_classification = data_general_classification.drop(data_general_classification[(data_general_classification[new_cols]== -1).any(axis=1)].index)\n",
    "\n",
    "# Classification using AgglomerativeClustering\n",
    "cluster = AgglomerativeClustering(n_clusters=n)\n",
    "clas_res = cluster.fit_predict(data_general_classification[new_cols].to_numpy())\n",
    "\n",
    "# --- for test only---\n",
    "# import collections\n",
    "# counts = collections.Counter(clas_res)\n",
    "# --- for test only---\n",
    "\n",
    "data_general_classification[my_class] = clas_res\n",
    "\n",
    "# for analysis\n",
    "sum_data = []\n",
    "std_data = []\n",
    "data_to_analysis = data_general_classification.drop(columns=seasons_values+['old_index'])\n",
    "\n",
    "# visualization\n",
    "for x in range(n):\n",
    "    class_data = data_to_analysis[data_to_analysis[my_class] == x]\n",
    "    # show the mean for each group and for each season\n",
    "    class_data_describe = class_data.describe()\n",
    "    print(class_data_describe)\n",
    "    sum_data.append(list(round(class_data_describe.loc['mean'], 2).values))\n",
    "    std_data.append(list(round(class_data_describe.loc['std'], 2).values))\n",
    "\n",
    "# mean\n",
    "# sum_data\n",
    "# std_data\n",
    "DataFrame(data=sum_data, columns=list(seasons.values()) + [my_class]).set_index(my_class).T.plot(color=color_list)\n",
    "\n",
    "# mean + std\n",
    "mean_df = DataFrame(data=sum_data, columns=list(seasons.values()) + [my_class]).set_index(my_class).T\n",
    "std_df = DataFrame(data=std_data, columns=list(seasons.values()) + [my_class]).set_index(my_class).T\n",
    "std_df.columns = range(n)\n",
    "\n",
    "for i in range(n):\n",
    "    data_prep = mean_df[i].reset_index(drop=True).reset_index().rename(columns={'index': 'x', i: 'y'})\n",
    "    if i == 0:\n",
    "        ax = data_prep.plot(kind='scatter', x='x', y='y', color=color_list[i],\n",
    "                            yerr=std_df[i].reset_index(drop=True).reset_index()[i], label=f'class {i}',s=80,\n",
    "                            xlabel='Seasons', ylabel=' Ridership Frequency')\n",
    "    else:\n",
    "        data_prep.plot(kind='scatter', x='x', y='y', color=color_list[i],\n",
    "                       yerr=std_df[i].reset_index(drop=True).reset_index()[i], ax=ax, label=f'class {i}',s=80,\n",
    "                       xlabel='seasons', ylabel=' Ridership Frequency')\n",
    "    ax.set_xticklabels([])\n",
    "plt.legend()\n",
    "plt.show()"
   ]
  },
  {
   "cell_type": "code",
   "execution_count": null,
   "outputs": [],
   "source": [],
   "metadata": {
    "collapsed": false,
    "pycharm": {
     "name": "#%%\n"
    }
   }
  },
  {
   "cell_type": "code",
   "execution_count": 52,
   "outputs": [
    {
     "data": {
      "text/plain": "Spring\n4 or more days a week    445\ndtype: int64"
     },
     "execution_count": 52,
     "metadata": {},
     "output_type": "execute_result"
    }
   ],
   "source": [
    "data_general_classification[(data_general_classification['Q28']==2)].value_counts('Spring')"
   ],
   "metadata": {
    "collapsed": false,
    "pycharm": {
     "name": "#%%\n"
    }
   }
  },
  {
   "cell_type": "code",
   "execution_count": 9,
   "metadata": {
    "pycharm": {
     "name": "#%%\n"
    }
   },
   "outputs": [
    {
     "ename": "NameError",
     "evalue": "name 'merge_q26' is not defined",
     "output_type": "error",
     "traceback": [
      "\u001B[1;31m---------------------------------------------------------------------------\u001B[0m",
      "\u001B[1;31mNameError\u001B[0m                                 Traceback (most recent call last)",
      "Cell \u001B[1;32mIn [9], line 2\u001B[0m\n\u001B[0;32m      1\u001B[0m \u001B[38;5;66;03m# merge the results into our database and save it into a new file\u001B[39;00m\n\u001B[1;32m----> 2\u001B[0m merge_q \u001B[38;5;241m=\u001B[39m \u001B[43mmerge_q26\u001B[49m\u001B[38;5;241m.\u001B[39mset_index(\u001B[38;5;124m'\u001B[39m\u001B[38;5;124mindex\u001B[39m\u001B[38;5;124m'\u001B[39m)\n\u001B[0;32m      3\u001B[0m merge_q[my_class] \u001B[38;5;241m=\u001B[39mdata_general_classification\u001B[38;5;241m.\u001B[39mset_index(\u001B[38;5;124m'\u001B[39m\u001B[38;5;124mold_index\u001B[39m\u001B[38;5;124m'\u001B[39m)[my_class]\n\u001B[0;32m      4\u001B[0m \u001B[38;5;66;03m# calculate decades for age\u001B[39;00m\n",
      "\u001B[1;31mNameError\u001B[0m: name 'merge_q26' is not defined"
     ]
    }
   ],
   "source": [
    "# merge the results into our database and save it into a new file\n",
    "merge_q = merge_q26.set_index('index')\n",
    "merge_q[my_class] =data_general_classification.set_index('old_index')[my_class]\n",
    "# calculate decades for age\n",
    "merge_q['Q34_1'] = merge_q['Q34'].dropna().map(lambda x:str(int(x/10)*10) +'s')\n",
    "merge_q.to_csv(f'{project_folder}/new_data/new_data_2.csv')"
   ]
  },
  {
   "cell_type": "code",
   "execution_count": 21,
   "metadata": {
    "pycharm": {
     "name": "#%%\n"
    }
   },
   "outputs": [
    {
     "data": {
      "text/html": [
       "<div>\n",
       "<style scoped>\n",
       "    .dataframe tbody tr th:only-of-type {\n",
       "        vertical-align: middle;\n",
       "    }\n",
       "\n",
       "    .dataframe tbody tr th {\n",
       "        vertical-align: top;\n",
       "    }\n",
       "\n",
       "    .dataframe thead th {\n",
       "        text-align: right;\n",
       "    }\n",
       "</style>\n",
       "<table border=\"1\" class=\"dataframe\">\n",
       "  <thead>\n",
       "    <tr style=\"text-align: right;\">\n",
       "      <th></th>\n",
       "      <th>Q29</th>\n",
       "      <th>count</th>\n",
       "      <th>per</th>\n",
       "    </tr>\n",
       "  </thead>\n",
       "  <tbody>\n",
       "    <tr>\n",
       "      <th>2</th>\n",
       "      <td>Recreation or exercise (e.g., cycling in your ...</td>\n",
       "      <td>721</td>\n",
       "      <td>42.0</td>\n",
       "    </tr>\n",
       "    <tr>\n",
       "      <th>3</th>\n",
       "      <td>Transportation (e.g., commuting to school or w...</td>\n",
       "      <td>542</td>\n",
       "      <td>31.0</td>\n",
       "    </tr>\n",
       "    <tr>\n",
       "      <th>1</th>\n",
       "      <td>Equal mix of recreation, exercise, and transpo...</td>\n",
       "      <td>455</td>\n",
       "      <td>26.0</td>\n",
       "    </tr>\n",
       "    <tr>\n",
       "      <th>0</th>\n",
       "      <td>Don’t know/not sure</td>\n",
       "      <td>10</td>\n",
       "      <td>1.0</td>\n",
       "    </tr>\n",
       "  </tbody>\n",
       "</table>\n",
       "</div>"
      ],
      "text/plain": [
       "                                                 Q29  count   per\n",
       "2  Recreation or exercise (e.g., cycling in your ...    721  42.0\n",
       "3  Transportation (e.g., commuting to school or w...    542  31.0\n",
       "1  Equal mix of recreation, exercise, and transpo...    455  26.0\n",
       "0                                Don’t know/not sure     10   1.0"
      ]
     },
     "execution_count": 21,
     "metadata": {},
     "output_type": "execute_result"
    }
   ],
   "source": [
    "q_num = 'Q29'\n",
    "res_reg[q_num]\n",
    "q = questions_to_examine_1.loc[q_num][0]"
   ]
  },
  {
   "cell_type": "code",
   "execution_count": 35,
   "metadata": {
    "pycharm": {
     "name": "#%%\n"
    }
   },
   "outputs": [
    {
     "data": {
      "text/html": [
       "<div>\n",
       "<style scoped>\n",
       "    .dataframe tbody tr th:only-of-type {\n",
       "        vertical-align: middle;\n",
       "    }\n",
       "\n",
       "    .dataframe tbody tr th {\n",
       "        vertical-align: top;\n",
       "    }\n",
       "\n",
       "    .dataframe thead th {\n",
       "        text-align: right;\n",
       "    }\n",
       "</style>\n",
       "<table border=\"1\" class=\"dataframe\">\n",
       "  <thead>\n",
       "    <tr style=\"text-align: right;\">\n",
       "      <th></th>\n",
       "      <th>Q30</th>\n",
       "      <th>count</th>\n",
       "      <th>per</th>\n",
       "    </tr>\n",
       "  </thead>\n",
       "  <tbody>\n",
       "    <tr>\n",
       "      <th>0</th>\n",
       "      <td>Car, as a driver (e.g., personal vehicle, cars...</td>\n",
       "      <td>611</td>\n",
       "      <td>35.0</td>\n",
       "    </tr>\n",
       "    <tr>\n",
       "      <th>2</th>\n",
       "      <td>Cycle, personal bicycle (e.g., own a second bi...</td>\n",
       "      <td>291</td>\n",
       "      <td>17.0</td>\n",
       "    </tr>\n",
       "    <tr>\n",
       "      <th>11</th>\n",
       "      <td>Walk</td>\n",
       "      <td>282</td>\n",
       "      <td>16.0</td>\n",
       "    </tr>\n",
       "    <tr>\n",
       "      <th>5</th>\n",
       "      <td>Didn’t make those trips</td>\n",
       "      <td>221</td>\n",
       "      <td>13.0</td>\n",
       "    </tr>\n",
       "    <tr>\n",
       "      <th>10</th>\n",
       "      <td>Transit (e.g., bus/rail)</td>\n",
       "      <td>163</td>\n",
       "      <td>9.0</td>\n",
       "    </tr>\n",
       "    <tr>\n",
       "      <th>1</th>\n",
       "      <td>Car, as a passenger (e.g., given rides by frie...</td>\n",
       "      <td>57</td>\n",
       "      <td>3.0</td>\n",
       "    </tr>\n",
       "    <tr>\n",
       "      <th>3</th>\n",
       "      <td>Cycle, public bike share</td>\n",
       "      <td>27</td>\n",
       "      <td>2.0</td>\n",
       "    </tr>\n",
       "    <tr>\n",
       "      <th>6</th>\n",
       "      <td>Don’t know/not sure</td>\n",
       "      <td>29</td>\n",
       "      <td>2.0</td>\n",
       "    </tr>\n",
       "    <tr>\n",
       "      <th>4</th>\n",
       "      <td>Cycle, rental bicycle</td>\n",
       "      <td>11</td>\n",
       "      <td>1.0</td>\n",
       "    </tr>\n",
       "    <tr>\n",
       "      <th>7</th>\n",
       "      <td>Micro mobility (e.g., e-scooter, e-unicycle, e...</td>\n",
       "      <td>9</td>\n",
       "      <td>1.0</td>\n",
       "    </tr>\n",
       "    <tr>\n",
       "      <th>8</th>\n",
       "      <td>Motorcycle or scooter</td>\n",
       "      <td>14</td>\n",
       "      <td>1.0</td>\n",
       "    </tr>\n",
       "    <tr>\n",
       "      <th>9</th>\n",
       "      <td>Taxi / Ride-hailing service (e.g., Uber, Lyft)</td>\n",
       "      <td>13</td>\n",
       "      <td>1.0</td>\n",
       "    </tr>\n",
       "  </tbody>\n",
       "</table>\n",
       "</div>"
      ],
      "text/plain": [
       "                                                  Q30  count   per\n",
       "0   Car, as a driver (e.g., personal vehicle, cars...    611  35.0\n",
       "2   Cycle, personal bicycle (e.g., own a second bi...    291  17.0\n",
       "11                                              Walk     282  16.0\n",
       "5                            Didn’t make those trips     221  13.0\n",
       "10                          Transit (e.g., bus/rail)     163   9.0\n",
       "1   Car, as a passenger (e.g., given rides by frie...     57   3.0\n",
       "3                           Cycle, public bike share      27   2.0\n",
       "6                                 Don’t know/not sure     29   2.0\n",
       "4                              Cycle, rental bicycle      11   1.0\n",
       "7   Micro mobility (e.g., e-scooter, e-unicycle, e...      9   1.0\n",
       "8                              Motorcycle or scooter      14   1.0\n",
       "9     Taxi / Ride-hailing service (e.g., Uber, Lyft)      13   1.0"
      ]
     },
     "execution_count": 35,
     "metadata": {},
     "output_type": "execute_result"
    },
    {
     "data": {
      "text/plain": [
       "'Thinking about the trips you made with the stolen/damaged bicycle, what transportation mode did you most often use to make those trips while your bicycle was unavailable?'"
      ]
     },
     "execution_count": 35,
     "metadata": {},
     "output_type": "execute_result"
    }
   ],
   "source": [
    "q_num = 'Q30'\n",
    "res_reg[q_num]\n",
    "q = questions_to_examine_1.loc[q_num][0]\n",
    "q"
   ]
  },
  {
   "cell_type": "code",
   "execution_count": 23,
   "metadata": {
    "pycharm": {
     "name": "#%%\n"
    }
   },
   "outputs": [
    {
     "data": {
      "text/html": [
       "<div>\n",
       "<style scoped>\n",
       "    .dataframe tbody tr th:only-of-type {\n",
       "        vertical-align: middle;\n",
       "    }\n",
       "\n",
       "    .dataframe tbody tr th {\n",
       "        vertical-align: top;\n",
       "    }\n",
       "\n",
       "    .dataframe thead th {\n",
       "        text-align: right;\n",
       "    }\n",
       "</style>\n",
       "<table border=\"1\" class=\"dataframe\">\n",
       "  <thead>\n",
       "    <tr style=\"text-align: right;\">\n",
       "      <th></th>\n",
       "      <th>Q31</th>\n",
       "      <th>count</th>\n",
       "      <th>per</th>\n",
       "    </tr>\n",
       "  </thead>\n",
       "  <tbody>\n",
       "    <tr>\n",
       "      <th>0</th>\n",
       "      <td>About the same / no change</td>\n",
       "      <td>852</td>\n",
       "      <td>49.0</td>\n",
       "    </tr>\n",
       "    <tr>\n",
       "      <th>2</th>\n",
       "      <td>Less often</td>\n",
       "      <td>511</td>\n",
       "      <td>30.0</td>\n",
       "    </tr>\n",
       "    <tr>\n",
       "      <th>1</th>\n",
       "      <td>I stopped cycling</td>\n",
       "      <td>263</td>\n",
       "      <td>15.0</td>\n",
       "    </tr>\n",
       "    <tr>\n",
       "      <th>3</th>\n",
       "      <td>More often</td>\n",
       "      <td>104</td>\n",
       "      <td>6.0</td>\n",
       "    </tr>\n",
       "  </tbody>\n",
       "</table>\n",
       "</div>"
      ],
      "text/plain": [
       "                          Q31  count   per\n",
       "0  About the same / no change    852  49.0\n",
       "2                 Less often     511  30.0\n",
       "1           I stopped cycling    263  15.0\n",
       "3                 More often     104   6.0"
      ]
     },
     "execution_count": 23,
     "metadata": {},
     "output_type": "execute_result"
    },
    {
     "data": {
      "text/plain": [
       "'Compared to before the theft, what best describes your overall cycling activity after your stolen bicycle (or part) was recovered, replaced, or abandoned? Did you cycle…'"
      ]
     },
     "execution_count": 23,
     "metadata": {},
     "output_type": "execute_result"
    }
   ],
   "source": [
    "q_num = 'Q31'\n",
    "res_reg[q_num]\n",
    "q = questions_to_examine_1.loc[q_num][0]\n",
    "q"
   ]
  },
  {
   "cell_type": "code",
   "execution_count": 24,
   "metadata": {
    "pycharm": {
     "name": "#%%\n"
    }
   },
   "outputs": [
    {
     "data": {
      "text/markdown": [
       "Q32 - What were the main reasons you cycled less often or not at all? (Select up to 3) - Selected Choice"
      ],
      "text/plain": [
       "<IPython.core.display.Markdown object>"
      ]
     },
     "metadata": {},
     "output_type": "display_data"
    },
    {
     "data": {
      "text/markdown": [
       "<h4>Results</h4><ul><li>the answer with the highest  frequency is:</li></ul>"
      ],
      "text/plain": [
       "<IPython.core.display.Markdown object>"
      ]
     },
     "metadata": {},
     "output_type": "display_data"
    },
    {
     "data": {
      "text/plain": [
       "count    307.0\n",
       "per       25.0\n",
       "Name: I couldn’t recover my bicycle and didn’t replace it due to cost or other reason, dtype: float64"
      ]
     },
     "execution_count": 24,
     "metadata": {},
     "output_type": "execute_result"
    },
    {
     "data": {
      "text/markdown": [
       "Q33 - What were the main reasons you cycled more often? (Select up to 3) - Selected Choice"
      ],
      "text/plain": [
       "<IPython.core.display.Markdown object>"
      ]
     },
     "metadata": {},
     "output_type": "display_data"
    },
    {
     "data": {
      "text/markdown": [
       "<h4>Results</h4><ul><li>only 6% answer this question.</li><li>the answer with the highest  frequency is :</li></ul>"
      ],
      "text/plain": [
       "<IPython.core.display.Markdown object>"
      ]
     },
     "metadata": {},
     "output_type": "display_data"
    },
    {
     "data": {
      "text/plain": [
       "count    49.0\n",
       "per      26.0\n",
       "Name: My new bicycle was more capable, comfortable to ride, or better suited to my travel needs, dtype: float64"
      ]
     },
     "execution_count": 24,
     "metadata": {},
     "output_type": "execute_result"
    },
    {
     "data": {
      "text/markdown": [
       "<h4>Next analysis</h4><ul> <li>group choices</li> <li>cross validation with demographic</li><li>cross validation with bike characteristics</li></ul>"
      ],
      "text/plain": [
       "<IPython.core.display.Markdown object>"
      ]
     },
     "metadata": {},
     "output_type": "display_data"
    },
    {
     "data": {
      "text/html": [
       "<div>\n",
       "<style scoped>\n",
       "    .dataframe tbody tr th:only-of-type {\n",
       "        vertical-align: middle;\n",
       "    }\n",
       "\n",
       "    .dataframe tbody tr th {\n",
       "        vertical-align: top;\n",
       "    }\n",
       "\n",
       "    .dataframe thead th {\n",
       "        text-align: right;\n",
       "    }\n",
       "</style>\n",
       "<table border=\"1\" class=\"dataframe\">\n",
       "  <thead>\n",
       "    <tr style=\"text-align: right;\">\n",
       "      <th></th>\n",
       "      <th>count</th>\n",
       "      <th>per</th>\n",
       "    </tr>\n",
       "    <tr>\n",
       "      <th>question</th>\n",
       "      <th></th>\n",
       "      <th></th>\n",
       "    </tr>\n",
       "  </thead>\n",
       "  <tbody>\n",
       "    <tr>\n",
       "      <th>I couldn’t recover my bicycle and didn’t replace it due to cost or other reason</th>\n",
       "      <td>307</td>\n",
       "      <td>25.0</td>\n",
       "    </tr>\n",
       "    <tr>\n",
       "      <th>There might not be a safe place to park my bicycle at the places I go</th>\n",
       "      <td>216</td>\n",
       "      <td>18.0</td>\n",
       "    </tr>\n",
       "    <tr>\n",
       "      <th>Became accustomed to travelling with a different mode</th>\n",
       "      <td>118</td>\n",
       "      <td>10.0</td>\n",
       "    </tr>\n",
       "    <tr>\n",
       "      <th>Other (please specify):</th>\n",
       "      <td>125</td>\n",
       "      <td>10.0</td>\n",
       "    </tr>\n",
       "    <tr>\n",
       "      <th>My new bicycle isn’t as capable or comfortable to ride</th>\n",
       "      <td>113</td>\n",
       "      <td>9.0</td>\n",
       "    </tr>\n",
       "    <tr>\n",
       "      <th>I don’t have a safe place to store my bicycle at home</th>\n",
       "      <td>94</td>\n",
       "      <td>8.0</td>\n",
       "    </tr>\n",
       "    <tr>\n",
       "      <th>High-security locks or secure parking locations involve a great deal of effort, inconvenience, or difficulty to access my bicycle</th>\n",
       "      <td>89</td>\n",
       "      <td>7.0</td>\n",
       "    </tr>\n",
       "    <tr>\n",
       "      <th>My cycling equipment/accessories/gear (e.g., panniers, lock, lights, rack, basket) necessary to make my usual cycling trips were stolen or damaged</th>\n",
       "      <td>75</td>\n",
       "      <td>6.0</td>\n",
       "    </tr>\n",
       "    <tr>\n",
       "      <th>Not riding has made me too out of shape to make my usual cycling trips</th>\n",
       "      <td>47</td>\n",
       "      <td>4.0</td>\n",
       "    </tr>\n",
       "    <tr>\n",
       "      <th>My bicycle was damaged and couldn’t be repaired or was too expensive to repair</th>\n",
       "      <td>11</td>\n",
       "      <td>1.0</td>\n",
       "    </tr>\n",
       "    <tr>\n",
       "      <th>Don’t know/not sure</th>\n",
       "      <td>17</td>\n",
       "      <td>1.0</td>\n",
       "    </tr>\n",
       "  </tbody>\n",
       "</table>\n",
       "</div>"
      ],
      "text/plain": [
       "                                                    count   per\n",
       "question                                                       \n",
       "I couldn’t recover my bicycle and didn’t replac...    307  25.0\n",
       "There might not be a safe place to park my bicy...    216  18.0\n",
       "Became accustomed to travelling with a differen...    118  10.0\n",
       "Other (please specify):                               125  10.0\n",
       "My new bicycle isn’t as capable or comfortable ...    113   9.0\n",
       "I don’t have a safe place to store my bicycle a...     94   8.0\n",
       "High-security locks or secure parking locations...     89   7.0\n",
       "My cycling equipment/accessories/gear (e.g., pa...     75   6.0\n",
       "Not riding has made me too out of shape to make...     47   4.0\n",
       "My bicycle was damaged and couldn’t be repaired...     11   1.0\n",
       "Don’t know/not sure                                    17   1.0"
      ]
     },
     "execution_count": 24,
     "metadata": {},
     "output_type": "execute_result"
    },
    {
     "data": {
      "text/html": [
       "<div>\n",
       "<style scoped>\n",
       "    .dataframe tbody tr th:only-of-type {\n",
       "        vertical-align: middle;\n",
       "    }\n",
       "\n",
       "    .dataframe tbody tr th {\n",
       "        vertical-align: top;\n",
       "    }\n",
       "\n",
       "    .dataframe thead th {\n",
       "        text-align: right;\n",
       "    }\n",
       "</style>\n",
       "<table border=\"1\" class=\"dataframe\">\n",
       "  <thead>\n",
       "    <tr style=\"text-align: right;\">\n",
       "      <th></th>\n",
       "      <th>count</th>\n",
       "      <th>per</th>\n",
       "    </tr>\n",
       "    <tr>\n",
       "      <th>question</th>\n",
       "      <th></th>\n",
       "      <th></th>\n",
       "    </tr>\n",
       "  </thead>\n",
       "  <tbody>\n",
       "    <tr>\n",
       "      <th>My new bicycle was more capable, comfortable to ride, or better suited to my travel needs</th>\n",
       "      <td>49</td>\n",
       "      <td>26.0</td>\n",
       "    </tr>\n",
       "    <tr>\n",
       "      <th>Reasons unrelated to the theft</th>\n",
       "      <td>34</td>\n",
       "      <td>18.0</td>\n",
       "    </tr>\n",
       "    <tr>\n",
       "      <th>I was motivated to purchase new cycling equipment/accessories/gear (e.g., panniers, lock, lights, rack, basket, cycle computer, rain gear) to make more frequent cycling trips, have more enjoyable trips, or visit new places</th>\n",
       "      <td>27</td>\n",
       "      <td>14.0</td>\n",
       "    </tr>\n",
       "    <tr>\n",
       "      <th>Upgraded the quality of lock I use and/or used another type of anti-theft device, so I was less worried about theft</th>\n",
       "      <td>24</td>\n",
       "      <td>13.0</td>\n",
       "    </tr>\n",
       "    <tr>\n",
       "      <th>Other (please specify):</th>\n",
       "      <td>25</td>\n",
       "      <td>13.0</td>\n",
       "    </tr>\n",
       "    <tr>\n",
       "      <th>I added my bicycle to a registry/recovery system, so I was less worried about theft</th>\n",
       "      <td>11</td>\n",
       "      <td>6.0</td>\n",
       "    </tr>\n",
       "    <tr>\n",
       "      <th>I replaced my stolen bicycle with an e-bike</th>\n",
       "      <td>6</td>\n",
       "      <td>3.0</td>\n",
       "    </tr>\n",
       "    <tr>\n",
       "      <th>My replacement bicycle was used or less expensive than the stolen bike, so I was less worried about theft</th>\n",
       "      <td>6</td>\n",
       "      <td>3.0</td>\n",
       "    </tr>\n",
       "    <tr>\n",
       "      <th>My recovered bicycle was cosmetically damaged, or I made it look unattractive, so I was less worried about theft</th>\n",
       "      <td>3</td>\n",
       "      <td>2.0</td>\n",
       "    </tr>\n",
       "    <tr>\n",
       "      <th>I used public bike share to replace trips I previously made using a different mode (e.g., previously walked/drove/transit)</th>\n",
       "      <td>1</td>\n",
       "      <td>1.0</td>\n",
       "    </tr>\n",
       "    <tr>\n",
       "      <th>Don’t know/not sure</th>\n",
       "      <td>1</td>\n",
       "      <td>1.0</td>\n",
       "    </tr>\n",
       "  </tbody>\n",
       "</table>\n",
       "</div>"
      ],
      "text/plain": [
       "                                                    count   per\n",
       "question                                                       \n",
       "My new bicycle was more capable, comfortable to...     49  26.0\n",
       "Reasons unrelated to the theft                         34  18.0\n",
       "I was motivated to purchase new cycling equipme...     27  14.0\n",
       "Upgraded the quality of lock I use and/or used ...     24  13.0\n",
       "Other (please specify):                                25  13.0\n",
       "I added my bicycle to a registry/recovery syste...     11   6.0\n",
       "I replaced my stolen bicycle with an e-bike             6   3.0\n",
       "My replacement bicycle was used or less expensi...      6   3.0\n",
       "My recovered bicycle was cosmetically damaged, ...      3   2.0\n",
       "I used public bike share to replace trips I pre...      1   1.0\n",
       "Don’t know/not sure                                     1   1.0"
      ]
     },
     "execution_count": 24,
     "metadata": {},
     "output_type": "execute_result"
    }
   ],
   "source": [
    "q_num = 'Q32'\n",
    "q = questions_to_examine_1.loc[q_num][0]\n",
    "most_pop = res32_33[0].iloc[0]\n",
    "text = f\"{q_num} - {q}\"\n",
    "display(Markdown(text))\n",
    "text = f\"<h4>Results</h4><ul><li>the answer with the highest  frequency is:</li></ul>\"\n",
    "display(Markdown(text))\n",
    "most_pop\n",
    "q_num = 'Q33'\n",
    "q = questions_to_examine_1.loc[q_num][0]\n",
    "most_pop = res32_33[1].iloc[0]\n",
    "text = f\"{q_num} - {q}\"\n",
    "display(Markdown(text))\n",
    "len_all = len(data_general)\n",
    "percentage_of_ans = int(round((len_all - data_general[q_num].isna().sum()) / len_all * 100))\n",
    "text = f\"<h4>Results</h4><ul><li>only {percentage_of_ans}% answer this question.</li><li>the answer with the highest  frequency is :</li></ul>\"\n",
    "display(Markdown(text))\n",
    "most_pop\n",
    "\n",
    "text = \"<h4>Next analysis</h4><ul> <li>group choices</li> <li>cross validation with demographic</li><li>cross validation with bike characteristics</li></ul>\"\n",
    "display(Markdown(text))\n",
    "res32_33[0]\n",
    "res32_33[1]"
   ]
  },
  {
   "cell_type": "code",
   "execution_count": 25,
   "metadata": {
    "pycharm": {
     "name": "#%%\n"
    }
   },
   "outputs": [
    {
     "data": {
      "text/markdown": [
       "<h4>Research Questions</h4><ul><li>The change in behavior following theft (Q25 - Q27 and Q30- Q33). These questions should be cross tabulated with demographic, bike type and Q28 different  personal profile type and Q29</li></ul>"
      ],
      "text/plain": [
       "<IPython.core.display.Markdown object>"
      ]
     },
     "metadata": {},
     "output_type": "display_data"
    }
   ],
   "source": [
    "text = f\"<h4>Research Questions</h4><ul><li>The change in behavior following theft (Q25 - Q27 and Q30- Q33). These questions should be cross tabulated with demographic, bike type and Q28 different  personal profile type and Q29</li></ul>\"\n",
    "display(Markdown(text))"
   ]
  },
  {
   "cell_type": "code",
   "execution_count": 26,
   "metadata": {
    "pycharm": {
     "name": "#%%\n"
    }
   },
   "outputs": [
    {
     "data": {
      "text/html": [
       "<div>\n",
       "<style scoped>\n",
       "    .dataframe tbody tr th:only-of-type {\n",
       "        vertical-align: middle;\n",
       "    }\n",
       "\n",
       "    .dataframe tbody tr th {\n",
       "        vertical-align: top;\n",
       "    }\n",
       "\n",
       "    .dataframe thead th {\n",
       "        text-align: right;\n",
       "    }\n",
       "</style>\n",
       "<table border=\"1\" class=\"dataframe\">\n",
       "  <thead>\n",
       "    <tr style=\"text-align: right;\">\n",
       "      <th></th>\n",
       "      <th>Q25</th>\n",
       "      <th>count</th>\n",
       "      <th>per</th>\n",
       "    </tr>\n",
       "  </thead>\n",
       "  <tbody>\n",
       "    <tr>\n",
       "      <th>2</th>\n",
       "      <td>​Yes, and I replaced it with exactly what was ...</td>\n",
       "      <td>828</td>\n",
       "      <td>46.0</td>\n",
       "    </tr>\n",
       "    <tr>\n",
       "      <th>0</th>\n",
       "      <td>No</td>\n",
       "      <td>558</td>\n",
       "      <td>31.0</td>\n",
       "    </tr>\n",
       "    <tr>\n",
       "      <th>1</th>\n",
       "      <td>Yes, but the replacement was something cheaper</td>\n",
       "      <td>426</td>\n",
       "      <td>24.0</td>\n",
       "    </tr>\n",
       "  </tbody>\n",
       "</table>\n",
       "</div>"
      ],
      "text/plain": [
       "                                                 Q25  count   per\n",
       "2  ​Yes, and I replaced it with exactly what was ...    828  46.0\n",
       "0                                                 No    558  31.0\n",
       "1     Yes, but the replacement was something cheaper    426  24.0"
      ]
     },
     "execution_count": 26,
     "metadata": {},
     "output_type": "execute_result"
    },
    {
     "data": {
      "text/plain": [
       "(             count\n",
       " num_of_days       \n",
       " 30             167\n",
       " 60             140\n",
       " 90              83\n",
       " 14              64\n",
       " 180             54\n",
       " ...            ...\n",
       " 161              1\n",
       " 182              1\n",
       " 185              1\n",
       " 195              1\n",
       " 1460             1\n",
       " \n",
       " [99 rows x 1 columns],\n",
       "                  0\n",
       " count  1037.000000\n",
       " mean     98.671167\n",
       " std     142.170234\n",
       " min       0.000000\n",
       " 25%      20.000000\n",
       " 50%      49.000000\n",
       " 75%     120.000000\n",
       " max    1460.000000,\n",
       " {'no_action_yet': (49, 4.511970534069982)},\n",
       "          0\n",
       " 0       30\n",
       " 1       30\n",
       " 2       30\n",
       " 3       30\n",
       " 4       30\n",
       " ...    ...\n",
       " 1032   161\n",
       " 1033   182\n",
       " 1034   185\n",
       " 1035   195\n",
       " 1036  1460\n",
       " \n",
       " [1037 rows x 1 columns])"
      ]
     },
     "execution_count": 26,
     "metadata": {},
     "output_type": "execute_result"
    },
    {
     "data": {
      "text/plain": [
       "(             count\n",
       " num_of_days       \n",
       " 7                8\n",
       " 14               5\n",
       " 60               3\n",
       " 3                2\n",
       " 5                2\n",
       " 0                1\n",
       " 45               1\n",
       " 324              1\n",
       " 160              1\n",
       " 120              1\n",
       " 20               1\n",
       " 42               1\n",
       " 21               1\n",
       " 1                1\n",
       " 19               1\n",
       " 15               1\n",
       " 360              1,\n",
       "                 0\n",
       " count   32.000000\n",
       " mean    45.281250\n",
       " std     85.462776\n",
       " min      0.000000\n",
       " 25%      7.000000\n",
       " 50%     14.000000\n",
       " 75%     42.750000\n",
       " max    360.000000,\n",
       " {'no_action_yet': (1, 3.0303030303030303)},\n",
       "       0\n",
       " 0     7\n",
       " 1     7\n",
       " 2     7\n",
       " 3     7\n",
       " 4     7\n",
       " 5     7\n",
       " 6     7\n",
       " 7     7\n",
       " 8    14\n",
       " 9    14\n",
       " 10   14\n",
       " 11   14\n",
       " 12   14\n",
       " 13   60\n",
       " 14   60\n",
       " 15   60\n",
       " 16    3\n",
       " 17    3\n",
       " 18    5\n",
       " 19    5\n",
       " 20    0\n",
       " 21   45\n",
       " 22  324\n",
       " 23  160\n",
       " 24  120\n",
       " 25   20\n",
       " 26   42\n",
       " 27   21\n",
       " 28    1\n",
       " 29   19\n",
       " 30   15\n",
       " 31  360)"
      ]
     },
     "execution_count": 26,
     "metadata": {},
     "output_type": "execute_result"
    }
   ],
   "source": [
    "# list with question number\n",
    "# add Q\n",
    "questions = [f'Q{num}' for num in list(range(25, 28)) + list(range(30, 34))]\n",
    "# get the tables from the dic\n",
    "res_25\n",
    "res_26\n",
    "res_q27\n",
    "# present them\n"
   ]
  },
  {
   "cell_type": "markdown",
   "metadata": {
    "pycharm": {
     "name": "#%% md\n"
    }
   },
   "source": [
    "### Cross Tabulation"
   ]
  },
  {
   "cell_type": "markdown",
   "metadata": {
    "pycharm": {
     "name": "#%% md\n"
    }
   },
   "source": [
    "#### General"
   ]
  },
  {
   "cell_type": "code",
   "execution_count": 24,
   "outputs": [
    {
     "data": {
      "text/plain": "Adults (25-34)          497\nAdults (35-44)          450\nAdults (45-54)          311\nOlder adults (>64)      268\nAdults (55-64)          178\nYoung adults (18-24)     94\nAdolescents (13-17)      18\nChildren (<13)            5\nName: age_groups, dtype: int64"
     },
     "execution_count": 24,
     "metadata": {},
     "output_type": "execute_result"
    }
   ],
   "source": [
    "# Update form year to age groups\n",
    "merge_q['age'] = 2022 - merge_q['Q34']\n",
    "groups_name = [\n",
    "    \"Children (<13)\",\n",
    "     \"Adolescents (13-17)\",\n",
    "     \"Young adults (18-24)\",\n",
    "     \"Adults (25-34)\",\n",
    "     \"Adults (35-44)\",\n",
    "     \"Adults (45-54)\",\n",
    "     \"Adults (55-64)\",\n",
    "     \"Older adults (>64)\"\n",
    " ]\n",
    "def get_age_groups(num):\n",
    "    if num <13:\n",
    "        return groups_name[0]\n",
    "    if num <18:\n",
    "        return groups_name[1]\n",
    "    if num < 25:\n",
    "        return groups_name[2]\n",
    "    if num < 35:\n",
    "        return groups_name[3]\n",
    "    if num < 45:\n",
    "        return groups_name[4]\n",
    "    if num < 55:\n",
    "        return groups_name[5]\n",
    "    if num < 65:\n",
    "        return groups_name[6]\n",
    "    return groups_name[7]\n",
    "merge_q['age_groups'] = merge_q['age'].apply(get_age_groups)\n",
    "merge_q['age_groups'].value_counts()\n",
    "merge_q.to_csv(f'{project_folder}/new_data/new_data_2.csv')"
   ],
   "metadata": {
    "collapsed": false,
    "pycharm": {
     "name": "#%%\n"
    }
   }
  },
  {
   "cell_type": "code",
   "execution_count": 25,
   "outputs": [],
   "source": [
    "merge_q = pd.read_csv(f'{project_folder}/new_data/new_data_2.csv')"
   ],
   "metadata": {
    "collapsed": false,
    "pycharm": {
     "name": "#%%\n"
    }
   }
  },
  {
   "cell_type": "code",
   "execution_count": 26,
   "metadata": {
    "pycharm": {
     "name": "#%%\n"
    }
   },
   "outputs": [],
   "source": [
    "questions_to_analysis = ['Q2','Q10','Q12','Q13','Q14','Q15','Q18','Q24','Q25', 'Q26_new', 'Q28', 'Q29', 'Q30', 'Q31','age_groups','Q35','Q36','Q37','Q38','Q39','country','city']\n",
    "special_reindex= ['Q13','Q15','Q30','Q31','Q36','Q37','Q38','Q39','city','age_groups']\n",
    "\n",
    "# reindex general\n",
    "reindex_dic={val:DataFrame(merge_q[val].unique()).dropna().sort_values(by=0,ascending=1)[0].to_list() for val in questions_to_analysis if val not in special_reindex}\n",
    "\n",
    "# reindex the options in q13\n",
    "q13= 'Q13'\n",
    "df = DataFrame(merge_q[q13].unique()).dropna().sort_values(by=0,ascending=0).reset_index(drop=True)\n",
    "reindex_dic[q13] = pd.concat([df.iloc[0], df.iloc[6], df.iloc[4],df.iloc[8],df.iloc[7],df.iloc[5],df.iloc[1:4].sort_values(by=0,ascending=1)])[0].to_list()\n",
    "\n",
    "# reindex the options in q15 - by frequency\n",
    "q15= 'Q15'\n",
    "reindex_dic[q15] = merge_q.groupby(q15).count().sort_values(by='index',ascending=False).index.to_list()\n",
    "\n",
    "# reindex the options in q30\n",
    "q30= 'Q30'\n",
    "df= DataFrame(merge_q[q30].unique()).dropna().sort_values(by=0,ascending=1).reset_index(drop=True)\n",
    "reindex_dic[q30]= pd.concat([df.iloc[:2], df.iloc[9:11], df.iloc[7:9],df.iloc[2:5],df.iloc[-1],df.iloc[5:7]])[0].to_list()\n",
    "\n",
    "# reindex the options in q39 - by the\n",
    "q31= 'Q31'\n",
    "df= DataFrame(merge_q[q31].unique()).dropna().sort_values(by=0,ascending=1)\n",
    "reindex_dic[q31] = pd.concat([df.iloc[1:3], df.iloc[0], df.iloc[-1]])[0].to_list()\n",
    "\n",
    "# reindex the options in q36\n",
    "q36 = 'Q36'\n",
    "df= DataFrame(merge_q[q36].unique()).dropna().sort_values(by=0,ascending=0)\n",
    "temp_2 = df.iloc[3:7].sort_values(by=0,ascending=1)\n",
    "temp_3 = df.iloc[7:9].sort_values(by=0,ascending=1)\n",
    "reindex_dic[q36] = pd.concat([df.iloc[0],temp_2,temp_3,df.iloc[-1],df.iloc[1:3]])[0].to_list()\n",
    "\n",
    "\n",
    "# reindex the options in q37\n",
    "numbers = {\n",
    "    \"zero\":0,\n",
    "     \"one\": 1,\n",
    "     \"two\": 2,\n",
    "     \"three\": 3,\n",
    "     \"four\":4,\n",
    "    \"five\":5\n",
    " }\n",
    "def def_reindex_q37(a):\n",
    "    reindex_q37[numbers.get(a.split()[0].lower(),6)] = a\n",
    "\n",
    "q37= 'Q37'\n",
    "reindex_q37 = [0 for b in range(7)]\n",
    "df= DataFrame(merge_q[q37].unique()).dropna().sort_values(by=0,ascending=0)\n",
    "_ = df[0].apply(def_reindex_q37)\n",
    "reindex_dic[q37] =reindex_q37\n",
    "\n",
    "# reindex the options in q38\n",
    "q38= 'Q38'\n",
    "df= DataFrame(merge_q[q38].unique()).dropna().sort_values(by=0,ascending=1)\n",
    "reindex_dic[q38] = pd.concat([df.iloc[-2], df.iloc[3], df.iloc[-1],df.iloc[:3],df.iloc[4]])[0].to_list()\n",
    "\n",
    "# reindex the options in q39 - by frequency\n",
    "q39= 'Q39'\n",
    "reindex_dic[q39]= merge_q.groupby(q39).count().sort_values(by='index',ascending=False).index.to_list()\n",
    "\n",
    "# reindex the options in age_groups\n",
    "qage_groups= 'age_groups'\n",
    "reindex_dic[qage_groups]= groups_name\n"
   ]
  },
  {
   "cell_type": "code",
   "execution_count": 27,
   "outputs": [],
   "source": [
    "predictors ={'Q13':'value_approx','Q14':'is_electric','Q15':'bicycle_type','Q18':'is_recover',  'Q28':'seasons', 'Q29':'purpose', 'age_groups': 'age', 'Q35': 'gender', 'Q36': 'income','Q37':'nm_bikes', 'Q38': 'education','country':'country'}\n",
    "dependent_vars = {'Q25':'is_replaced','Q30':'mode_alt', 'Q31':'post_act','Q26_new':'days_bikes'}"
   ],
   "metadata": {
    "collapsed": false,
    "pycharm": {
     "name": "#%%\n"
    }
   }
  },
  {
   "cell_type": "code",
   "execution_count": 28,
   "outputs": [
    {
     "data": {
      "text/plain": "{'Q2': ['A major bicycle part necessary for riding (i.e., saddle, wheel, pedal, or handlebar)',\n  'Entire bicycle (i.e., frame and components) '],\n 'Q10': ['Don’t know/not sure', 'No ', 'Yes '],\n 'Q12': ['Don’t know/not sure ', 'I prefer to not answer', 'No ', 'Yes '],\n 'Q14': ['Yes, with pedal-assist (motor activates only while pedalling) ',\n  'Yes, with pedal-assist and throttle (motor activates while pedalling or by throttle-only)',\n  '\\u200bNo '],\n 'Q18': ['No', 'Yes (including if damaged) '],\n 'Q24': ['Don’t know/not sure',\n  'Repairable– bicycle was damaged and repairs were required before being rideable',\n  'Rideable– bicycle was safe to operate and immediately usable',\n  'Salvage/junk– bicycle was not rideable or repairable'],\n 'Q25': ['No',\n  'Yes, but the replacement was something cheaper',\n  '\\u200bYes, and I replaced it with exactly what was stolen or something more expensive '],\n 'Q26_new': [-1.0, 7.0, 14.0, 30.0, 60.0, 90.0, 180.0, 365.0, 730.0],\n 'Q28': [0.0, 1.0, 2.0],\n 'Q29': ['Don’t know/not sure',\n  'Equal mix of recreation, exercise, and transportation trips ',\n  'Recreation or exercise (e.g., cycling in your neighbourhood, to a park, greenway, or trail, with no destination) ',\n  'Transportation (e.g., commuting to school or work, shopping, errands, social engagements, connecting to transit, A to B trips) '],\n 'Q35': ['Man', 'Non-binary / third gender', 'Prefer not to say', 'Woman'],\n 'country': ['CAN', 'USA'],\n 'Q13': ['Less than $250 ',\n  '$250-$499 ',\n  '$500-$999 ',\n  '$1000-$1999 ',\n  '$2000-3999      ',\n  '$4000-6999       ',\n  '$7000 or more ',\n  'Don’t know/not sure ',\n  'I prefer to not answer'],\n 'Q15': ['Hybrid/City/Dutch ',\n  'Mountain  ',\n  'Road',\n  'Gravel/cyclocross',\n  'Cruiser ',\n  'Delivery/Cargo',\n  'Fixed gear',\n  'Folding  ',\n  'BMX ',\n  'Don’t know/not sure',\n  'Tricycle or quadricycle',\n  'Recumbent ',\n  'Tandem '],\n 'Q30': ['Car, as a driver (e.g., personal vehicle, carshare vehicle) ',\n  'Car, as a passenger (e.g., given rides by friends/family members) ',\n  'Taxi / Ride-hailing service (e.g., Uber, Lyft) ',\n  'Transit (e.g., bus/rail) ',\n  'Micro mobility (e.g., e-scooter, e-unicycle, e-skateboard) ',\n  'Motorcycle or scooter ',\n  'Cycle, personal bicycle (e.g., own a second bicycle or loaned a friend/family member’s bike) ',\n  'Cycle, public bike share ',\n  'Cycle, rental bicycle ',\n  'Walk ',\n  'Didn’t make those trips ',\n  'Don’t know/not sure'],\n 'Q31': ['I stopped cycling',\n  'Less often ',\n  'About the same / no change',\n  'More often '],\n 'Q36': ['Under $20,000 per year',\n  'Between $20,000 and $34,999 per year',\n  'Between $35,000 and $49,999 per year',\n  'Between $50,000 and $74,999 per year',\n  'Between $75,000 and $99,999 per year',\n  'Between $100,000 and $149,999 per year',\n  'Between $150,000 and $199,999 per year',\n  '$200,000 or more per year',\n  'I prefer to not answer',\n  'Don’t know/not sure'],\n 'Q37': ['Zero ',\n  'One ',\n  'Two ',\n  'Three ',\n  'Four  ',\n  'Five or more ',\n  'I prefer to not answer'],\n 'Q38': ['Some high school or less\\u202f \\u202f \\u202f \\u202f \\u202f \\u202f \\u202f \\u202f \\u202f \\u202f \\u202f \\t ',\n  'Graduated high school (i.e., High school diploma)\\u202f \\u202f \\u202f \\u202f \\t ',\n  'Some university (no degree) ',\n  'Associate’s/vocational/technical\\u202fdegree (2- or 3-year degree, trades certificate) \\u202f \\u202f \\u202f \\u202f \\u202f \\u202f \\u202f \\t ',\n  'Bachelor’s degree (university 4-year degree) \\u202f \\u202f \\u202f \\u202f \\u202f \\u202f \\t ',\n  'Graduate degree (e.g., Master’s, Professional degree, Doctorate) ',\n  'I prefer to not answer'],\n 'Q39': ['European (e.g., British Isles, German, French, Greek, Italian, etc.) ',\n  'Multi-ethnic (2+ ethnic groups)',\n  'Asian (e.g., Chinese, Filipino, Korean, etc.) ',\n  'I prefer to not answer',\n  'Other (please specify):',\n  'Central/South American (e.g., Mexican, Salvadorian, Argentinian, etc.) ',\n  'South Asian (e.g., Punjabi, Indian, Pakistani, etc.) ',\n  'African (e.g., Moroccan, Ghanaian, South African, etc.) ',\n  'Middle Eastern (e.g., Lebanese, Iranian, Syrian, etc.) ',\n  'Indigenous (First Nations, Metis, Inuk/Inuit, etc.)',\n  'Caribbean (e.g., Cuban, Jamaican, Bajan, etc.) ',\n  'Oceanian (e.g., Australian, New Zealander, etc.) '],\n 'age_groups': ['Children (<13)',\n  'Adolescents (13-17)',\n  'Young adults (18-24)',\n  'Adults (25-34)',\n  'Adults (35-44)',\n  'Adults (45-54)',\n  'Adults (55-64)',\n  'Older adults (>64)']}"
     },
     "execution_count": 28,
     "metadata": {},
     "output_type": "execute_result"
    }
   ],
   "source": [
    "data_to_mfa = merge_q[list(predictors.keys())]\n"
   ],
   "metadata": {
    "collapsed": false,
    "pycharm": {
     "name": "#%%\n"
    }
   }
  },
  {
   "cell_type": "code",
   "execution_count": 25,
   "metadata": {
    "pycharm": {
     "name": "#%%\n"
    }
   },
   "outputs": [],
   "source": [
    "def my_cross_tab(array_main,array_sec,local_db,analysis_name):\n",
    "    r\"\"\"\n",
    "    cross tabulation between all the questions in array_main and the questions in array_sec in local_db\n",
    "    :param local_db:\n",
    "    :param array_main:\n",
    "    :param array_sec:\n",
    "    :return:\n",
    "    \"\"\"\n",
    "    data_list={}\n",
    "    for val in array_main:\n",
    "        re_index_row = reindex_dic[val]\n",
    "        for val_2 in array_sec:\n",
    "            if val== val_2:\n",
    "                continue\n",
    "            re_index_col = reindex_dic[val_2]\n",
    "            data_list[f'{questions[val]}_{questions[val_2]}_per'] = round(pd.crosstab(index=local_db[val], columns=local_db[val_2], normalize='columns'),2).reindex(columns=re_index_col,index= re_index_row) * 100\n",
    "            data_list[f'{questions[val]}_{questions[val_2]}_nums'] =pd.crosstab(index=local_db[val], columns=local_db[val_2]).reindex(columns=re_index_col,index= re_index_row)\n",
    "    with pd.ExcelWriter(f\"output_2/{analysis_name}.xlsx\") as writer:\n",
    "        [item[1].to_excel(writer, sheet_name=item[0]) for item in data_list.items()]\n"
   ]
  },
  {
   "cell_type": "markdown",
   "metadata": {
    "pycharm": {
     "name": "#%% md\n"
    }
   },
   "source": [
    "#### With Demographic questions"
   ]
  },
  {
   "cell_type": "code",
   "execution_count": null,
   "outputs": [],
   "source": [],
   "metadata": {
    "collapsed": false,
    "pycharm": {
     "name": "#%%\n"
    }
   }
  },
  {
   "cell_type": "code",
   "execution_count": 32,
   "metadata": {
    "pycharm": {
     "name": "#%%\n"
    }
   },
   "outputs": [],
   "source": [
    "demographic_0 = ['age_groups','Q35','Q36','Q37','Q38','Q39']\n",
    "demographic_1 = ['age_groups','Q35','Q36','Q37','Q38','Q39']\n",
    "data_list = my_cross_tab( demographic_0 ,demographic_1,merge_q,'demographic_demographic')\n",
    "# for data_res in data_list.values():\n",
    "#     data_res"
   ]
  },
  {
   "cell_type": "code",
   "execution_count": 33,
   "metadata": {
    "pycharm": {
     "name": "#%%\n"
    }
   },
   "outputs": [],
   "source": [
    "habit_q = ['Q25', 'Q26_new', 'Q28', 'Q29', 'Q30', 'Q31']\n",
    "demographic = ['age_groups','Q35','Q36','Q37','Q38','Q39']\n",
    "my_cross_tab( habit_q,demographic,merge_q,'habit_demographic')"
   ]
  },
  {
   "cell_type": "markdown",
   "metadata": {
    "pycharm": {
     "name": "#%% md\n"
    }
   },
   "source": [
    "#### With bike type"
   ]
  },
  {
   "cell_type": "code",
   "execution_count": 34,
   "metadata": {
    "pycharm": {
     "name": "#%%\n"
    }
   },
   "outputs": [],
   "source": [
    "bike_type = ['Q2','Q10','Q12','Q13','Q14','Q15']\n",
    "my_cross_tab( habit_q,bike_type,merge_q,'habit_bike_type')"
   ]
  },
  {
   "cell_type": "markdown",
   "metadata": {
    "pycharm": {
     "name": "#%% md\n"
    }
   },
   "source": [
    "#### Internal and Recovery\n"
   ]
  },
  {
   "cell_type": "code",
   "execution_count": 35,
   "metadata": {
    "pycharm": {
     "name": "#%%\n"
    }
   },
   "outputs": [],
   "source": [
    "habit_q2 = ['Q25', 'Q26_new', 'Q30', 'Q31']\n",
    "rec_internal = ['Q18','Q24','Q28','Q29']\n",
    "my_cross_tab( habit_q2,rec_internal,merge_q,'habit_habit_recovery')\n"
   ]
  },
  {
   "cell_type": "code",
   "execution_count": 36,
   "metadata": {
    "pycharm": {
     "name": "#%%\n"
    }
   },
   "outputs": [],
   "source": [
    "country = ['country']\n",
    "my_cross_tab( habit_q,country,merge_q,'country')"
   ]
  },
  {
   "cell_type": "code",
   "execution_count": 37,
   "outputs": [],
   "source": [
    "city ='city'\n",
    "city_arry = [city]\n",
    "city_list = ['San Francisco','Los Angeles','Seattle','Edmonton','Calgary']\n",
    "reindex_dic[city ] = city_list\n",
    "data_city = merge_q[merge_q[city].isin(city_list)]\n",
    "my_cross_tab( habit_q,city_arry,data_city,'city')"
   ],
   "metadata": {
    "collapsed": false,
    "pycharm": {
     "name": "#%%\n"
    }
   }
  },
  {
   "cell_type": "code",
   "execution_count": 6,
   "outputs": [],
   "source": [
    "## Some general statistic to update\n",
    "merge_q = pd.read_csv(f'{project_folder}/new_data/new_data_2.csv')"
   ],
   "metadata": {
    "collapsed": false,
    "pycharm": {
     "name": "#%%\n"
    }
   }
  },
  {
   "cell_type": "code",
   "execution_count": 23,
   "outputs": [],
   "source": [
    "# Create table of age\n",
    "cnt = DataFrame(merge_q.value_counts('age_groups').rename('Count'))\n",
    "cnt['Pct.'] = (merge_q.value_counts('age_groups', normalize=True)).round(2)\n",
    "cnt.reindex(groups_name).to_csv(r'output_2/age.csv')"
   ],
   "metadata": {
    "collapsed": false,
    "pycharm": {
     "name": "#%%\n"
    }
   }
  },
  {
   "cell_type": "code",
   "execution_count": 17,
   "outputs": [
    {
     "data": {
      "text/plain": "age_groups\nAdults (25-34)                                                  497\nAdults (35-44)                                                  450\nAdults (45-54)                                                  311\nOlder adults                                                    268\nAdults (55-64)                                                  178\nYoung adults                                                     94\nAdolescents                                                      18\nChildren                                                          5\nPct.              age_groups\nAdults (25-34)    27\nAdults (35-44)...\nName: Count, dtype: object"
     },
     "execution_count": 17,
     "metadata": {},
     "output_type": "execute_result"
    }
   ],
   "source": [],
   "metadata": {
    "collapsed": false,
    "pycharm": {
     "name": "#%%\n"
    }
   }
  },
  {
   "cell_type": "code",
   "execution_count": null,
   "outputs": [],
   "source": [],
   "metadata": {
    "collapsed": false,
    "pycharm": {
     "name": "#%%\n"
    }
   }
  }
 ],
 "metadata": {
  "kernelspec": {
   "display_name": "Python 3 (ipykernel)",
   "language": "python",
   "name": "python3"
  },
  "language_info": {
   "codemirror_mode": {
    "name": "ipython",
    "version": 3
   },
   "file_extension": ".py",
   "mimetype": "text/x-python",
   "name": "python",
   "nbconvert_exporter": "python",
   "pygments_lexer": "ipython3",
   "version": "3.10.6"
  }
 },
 "nbformat": 4,
 "nbformat_minor": 1
}