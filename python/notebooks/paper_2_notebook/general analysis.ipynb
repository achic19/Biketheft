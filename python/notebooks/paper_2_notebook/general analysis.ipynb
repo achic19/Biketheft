{
 "cells": [
  {
   "cell_type": "code",
   "execution_count": 1,
   "outputs": [],
   "source": [
    "\n",
    "import calendar\n",
    "months = list(map(lambda x:x.lower(),calendar.month_name))[1:]\n",
    "import pandas as pd\n",
    "from pandas import DataFrame\n",
    "\n",
    "import matplotlib.pyplot as plt\n",
    "from IPython.core.interactiveshell import InteractiveShell\n",
    "InteractiveShell.ast_node_interactivity = 'all'\n",
    "\n",
    "import matplotlib.ticker as mtick\n",
    "\n",
    "import matplotlib.pylab as pylab\n",
    "params = {'legend.fontsize': 'x-large',\n",
    "          'figure.figsize': (15, 10),\n",
    "         'axes.labelsize': 'x-large',\n",
    "         'axes.titlesize':'x-large',\n",
    "         'xtick.labelsize':'x-large',\n",
    "         'ytick.labelsize':'x-large'}\n",
    "pylab.rcParams.update(params)\n",
    "\n",
    "import os\n",
    "project_folder =os.path.dirname(os.path.dirname(os.path.dirname(os.getcwd())))\n",
    "import warnings\n",
    "warnings.filterwarnings(action='ignore')\n",
    "from IPython.display import display\n",
    "from IPython.display import Markdown\n",
    "from IPython.display import display_html\n",
    "\n",
    "\n"
   ],
   "metadata": {
    "collapsed": false,
    "pycharm": {
     "name": "#%%\n"
    }
   }
  },
  {
   "cell_type": "code",
   "execution_count": 2,
   "outputs": [],
   "source": [
    "# That's not part of the procedure\n",
    "pd.read_csv(f'{project_folder}/data/process/new_data.csv').reset_index().iloc[0].to_csv('output_2/fileds_to_work_on.csv')"
   ],
   "metadata": {
    "collapsed": false,
    "pycharm": {
     "name": "#%%\n"
    }
   }
  },
  {
   "cell_type": "code",
   "execution_count": 2,
   "outputs": [
    {
     "data": {
      "text/plain": "index                                                          0\nStartDate                                             Start Date\nEndDate                                                 End Date\nStatus                                             Response Type\nIPAddress                                             IP Address\n                                     ...                        \nQ38            What is the highest level of education you hav...\nQ39            What do you consider your main ethnic origin o...\nQ39_10_TEXT    What do you consider your main ethnic origin o...\nQ40            Where did you hear about this survey? - Select...\nQ40_3_TEXT     Where did you hear about this survey? - Other ...\nName: 0, Length: 75, dtype: object"
     },
     "execution_count": 2,
     "metadata": {},
     "output_type": "execute_result"
    }
   ],
   "source": [
    "# show the questions\n",
    "data_questions = pd.read_csv(f'{project_folder}/data/process/new_data.csv', skiprows=[2]).reset_index().iloc[0]\n",
    "data_questions"
   ],
   "metadata": {
    "collapsed": false,
    "pycharm": {
     "name": "#%%\n"
    }
   }
  },
  {
   "cell_type": "markdown",
   "source": [
    "#### Data Preparation"
   ],
   "metadata": {
    "collapsed": false,
    "pycharm": {
     "name": "#%% md\n"
    }
   }
  },
  {
   "cell_type": "code",
   "execution_count": 3,
   "outputs": [],
   "source": [
    "data_general = pd.read_csv(f'{project_folder}/data/process/final_geo_coding.csv', skiprows=[1, 2]).reset_index()\n",
    "# Read dictionary of relevant questions\n",
    "questions_to_examine=pd.read_csv(f'output_2/fileds_to_work_on_updated.csv')\n",
    "rel_questions_dic = dict(zip(questions_to_examine['Number'], questions_to_examine['Abbreviation ']))\n",
    "field_to_work_on = 'index'"
   ],
   "metadata": {
    "collapsed": false,
    "pycharm": {
     "name": "#%%\n"
    }
   }
  },
  {
   "cell_type": "code",
   "execution_count": 4,
   "outputs": [],
   "source": [
    "special_questions = ['Q26', 'Q27', 'Q32', 'Q33']\n"
   ],
   "metadata": {
    "collapsed": false,
    "pycharm": {
     "name": "#%%\n"
    }
   }
  },
  {
   "cell_type": "code",
   "execution_count": 5,
   "outputs": [],
   "source": [
    "questions_to_examine_1  = questions_to_examine.set_index('Number')"
   ],
   "metadata": {
    "collapsed": false,
    "pycharm": {
     "name": "#%%\n"
    }
   }
  },
  {
   "cell_type": "code",
   "execution_count": 63,
   "outputs": [
    {
     "data": {
      "text/plain": "{'Q25':                                                  Q25  count   per\n 2  ​Yes, and I replaced it with exactly what was ...    828  46.0\n 0                                                 No    558  31.0\n 1     Yes, but the replacement was something cheaper    426  24.0,\n 'Q28_1':                     Q28_1  count   per\n 1         1-3 days a week    593  34.0\n 2   4 or more days a week    518  30.0\n 0        1-3 days a month    307  18.0\n 5                   Never    154   9.0\n 4  Less than once a month    143   8.0\n 3     Don't know/not sure     16   1.0,\n 'Q28_2':                     Q28_2  count   per\n 5                   Never    433  25.0\n 1         1-3 days a week    377  22.0\n 2   4 or more days a week    358  21.0\n 0        1-3 days a month    277  16.0\n 4  Less than once a month    239  14.0\n 3     Don't know/not sure     16   1.0,\n 'Q28_3':                     Q28_3  count   per\n 1         1-3 days a week    587  34.0\n 2   4 or more days a week    548  32.0\n 0        1-3 days a month    316  18.0\n 5                   Never    148   9.0\n 4  Less than once a month    101   6.0\n 3     Don't know/not sure     13   1.0,\n 'Q28_4':                     Q28_4  count   per\n 2   4 or more days a week    705  41.0\n 1         1-3 days a week    590  35.0\n 0        1-3 days a month    191  11.0\n 5                   Never    128   7.0\n 4  Less than once a month     78   5.0\n 3     Don't know/not sure     18   1.0,\n 'Q29':                                                  Q29  count   per\n 2  Recreation or exercise (e.g., cycling in your ...    721  42.0\n 3  Transportation (e.g., commuting to school or w...    542  31.0\n 1  Equal mix of recreation, exercise, and transpo...    455  26.0\n 0                                Don’t know/not sure     10   1.0,\n 'Q30':                                                   Q30  count   per\n 0   Car, as a driver (e.g., personal vehicle, cars...    611  35.0\n 2   Cycle, personal bicycle (e.g., own a second bi...    291  17.0\n 11                                              Walk     282  16.0\n 5                            Didn’t make those trips     221  13.0\n 10                          Transit (e.g., bus/rail)     163   9.0\n 1   Car, as a passenger (e.g., given rides by frie...     57   3.0\n 3                           Cycle, public bike share      27   2.0\n 6                                 Don’t know/not sure     29   2.0\n 4                              Cycle, rental bicycle      11   1.0\n 7   Micro mobility (e.g., e-scooter, e-unicycle, e...      9   1.0\n 8                              Motorcycle or scooter      14   1.0\n 9     Taxi / Ride-hailing service (e.g., Uber, Lyft)      13   1.0,\n 'Q31':                           Q31  count   per\n 0  About the same / no change    852  49.0\n 2                 Less often     511  30.0\n 1           I stopped cycling    263  15.0\n 3                 More often     104   6.0}"
     },
     "execution_count": 63,
     "metadata": {},
     "output_type": "execute_result"
    }
   ],
   "source": [
    "res_reg = {}\n",
    "for question in rel_questions_dic.items():\n",
    "    question_num = question[0]\n",
    "    if question_num in special_questions:\n",
    "        continue\n",
    "    gb_data= data_general.groupby(question_num).count()[field_to_work_on].rename('count').reset_index()\n",
    "    sumy = gb_data['count'].sum()\n",
    "    gb_data['per'] = round(gb_data['count']/sumy *100,0)\n",
    "    gb_data.sort_values(by='per',ascending=False,inplace=True)\n",
    "\n",
    "\n",
    "\n",
    "    res_reg[question_num] = gb_data\n",
    "    # Draw the resuils:\n",
    "    # gb_data['per'].plot(kind='bar',title=question[1])\n",
    "    # plt.gca().yaxis.set_major_formatter(mtick.PercentFormatter(xmax=1.0,decimals=0))\n",
    "    # plt.show()\n",
    "res_reg"
   ],
   "metadata": {
    "collapsed": false,
    "pycharm": {
     "name": "#%%\n"
    }
   }
  },
  {
   "cell_type": "markdown",
   "source": [
    "#### Analysis for Q26"
   ],
   "metadata": {
    "collapsed": false,
    "pycharm": {
     "name": "#%% md\n"
    }
   }
  },
  {
   "cell_type": "code",
   "execution_count": 11,
   "outputs": [],
   "source": [
    "data_general['Q26'] = data_general['Q26'].apply(lambda x: str(x).rstrip().lstrip())\n",
    "gb_data_0= data_general.groupby('Q26').count()[field_to_work_on].sort_values(ascending=False)\n",
    "# Values to delete\n",
    "null_values =['nan','N/a','Na','na','None','-','Months']\n",
    "gb_data = gb_data_0[~gb_data_0.index.isin(null_values)]"
   ],
   "metadata": {
    "collapsed": false,
    "pycharm": {
     "name": "#%%\n"
    }
   }
  },
  {
   "cell_type": "code",
   "execution_count": 10,
   "outputs": [],
   "source": [
    "def calc_statistics(class_data:DataFrame):\n",
    "    r\"\"\"\n",
    "    the class count the number of respondents for the number of days\n",
    "    :param class_data:\n",
    "    :return: list of date groupby the number of days, statistics and count and percentage of those with doesn't recover/replace/fix atc. their bicycles\n",
    "    \"\"\"\n",
    "    # remove records without number of days\n",
    "    num_of_days = class_data['num_of_days']\n",
    "    final_data = class_data[(num_of_days!='') & (num_of_days !=-1)]\n",
    "    # group by number of days\n",
    "    mygroupby = final_data.groupby('num_of_days').sum().sort_values(by = 'count',ascending=False)\n",
    "\n",
    "     # flat @mygroupby to calculate statistic\n",
    "    l= [[item[0]]*item[1]['count'] for item in mygroupby.iterrows()]\n",
    "    flat_list = [item for sublist in l for item in sublist]\n",
    "    df = DataFrame(flat_list)\n",
    "\n",
    "\n",
    "    # the number of -1\n",
    "    no_data = class_data[num_of_days ==-1].sum()['count']\n",
    "    no_dat_dic = (no_data ,no_data/ (len(flat_list)+no_data)*100)\n",
    "    return mygroupby, df.describe(),{'no_action_yet':no_dat_dic},df\n"
   ],
   "metadata": {
    "collapsed": false,
    "pycharm": {
     "name": "#%%\n"
    }
   }
  },
  {
   "cell_type": "code",
   "execution_count": 13,
   "outputs": [],
   "source": [
    "from qu_26_27 import InterpretTime\n",
    "time_q26 = InterpretTime(gb_data)\n",
    "for res in time_q26.new_gb_data.iterrows():\n",
    "    time_q26.main_part(res)\n",
    "res_26 = calc_statistics(time_q26.new_gb_data)"
   ],
   "metadata": {
    "collapsed": false,
    "pycharm": {
     "name": "#%%\n"
    }
   }
  },
  {
   "cell_type": "markdown",
   "source": [
    "#### Analysis for Q27"
   ],
   "metadata": {
    "collapsed": false,
    "pycharm": {
     "name": "#%% md\n"
    }
   }
  },
  {
   "cell_type": "code",
   "execution_count": 15,
   "outputs": [],
   "source": [
    "gb_data_first = data_general.groupby('Q27').count()[field_to_work_on].sort_values(ascending=False)\n",
    "gb_data_27 = gb_data_first.dropna()\n",
    "time_q27 = InterpretTime(gb_data_27)\n",
    "for res in time_q27.new_gb_data.iterrows():\n",
    "    time_q27.main_part(res)\n",
    "res_q27 = calc_statistics(time_q27.new_gb_data)"
   ],
   "metadata": {
    "collapsed": false,
    "pycharm": {
     "name": "#%%\n"
    }
   }
  },
  {
   "cell_type": "markdown",
   "source": [
    "#### Code for Q32 and Q33 which is multiple choices questions"
   ],
   "metadata": {
    "collapsed": false,
    "pycharm": {
     "name": "#%% md\n"
    }
   }
  },
  {
   "cell_type": "code",
   "execution_count": 38,
   "outputs": [
    {
     "name": "stdout",
     "output_type": "stream",
     "text": [
      "Q32\n",
      "Q33\n"
     ]
    }
   ],
   "source": [
    "res32_33=[]\n",
    "for question_num in special_questions[-2:]:\n",
    "    print(question_num)\n",
    "    # Read choice options\n",
    "    choice_df = pd.read_csv(f'output_2/{question_num}.csv',encoding='cp1252').set_index('question')\n",
    "    # grpoupby data by the responses to the question_num\n",
    "    gb_data= data_general.groupby(question_num).count()[field_to_work_on].sort_values(ascending=False).reset_index()\n",
    "    # Go over each separate response\n",
    "    for  item in choice_df.iterrows():\n",
    "        question = item[0]\n",
    "        # search the current response in the multiple choices responses\n",
    "        for row_0 in gb_data.iterrows():\n",
    "            row = row_0[1]\n",
    "            if question in row[question_num]:\n",
    "                # if the response was found add the number of respondants that use that respomse as part on 1 or combination of choices\n",
    "                choice_df.loc[question]+=row[field_to_work_on]\n",
    "    # calculate percentage\n",
    "    sumy = choice_df.sum()\n",
    "    choice_df['per'] = round(choice_df/sumy *100,0)\n",
    "    choice_df.sort_values(by='per',ascending=False,inplace=True)\n",
    "    res32_33.append(choice_df)\n",
    "    # Plot results\n",
    "    # choice_df['per'].plot(kind='bar',title=rel_questions_dic[question_num])\n",
    "\n",
    "    # plt.gca().yaxis.set_major_formatter(mtick.PercentFormatter(xmax=1.0,decimals=0))\n",
    "    # plt.show()"
   ],
   "metadata": {
    "collapsed": false,
    "pycharm": {
     "name": "#%%\n"
    }
   }
  },
  {
   "cell_type": "code",
   "execution_count": 34,
   "outputs": [
    {
     "data": {
      "text/plain": "<IPython.core.display.Markdown object>",
      "text/markdown": "<h4>The following questions will be the main focus of our analysis. We will begin by looking at each question individually.</h4>"
     },
     "metadata": {},
     "output_type": "display_data"
    },
    {
     "data": {
      "text/html": "<table border=\"1\" class=\"dataframe\">\n  <thead>\n    <tr style=\"text-align: right;\">\n      <th></th>\n      <th>Question</th>\n      <th>Abbreviation</th>\n    </tr>\n    <tr>\n      <th>Number</th>\n      <th></th>\n      <th></th>\n    </tr>\n  </thead>\n  <tbody>\n    <tr>\n      <th>Q25</th>\n      <td>Did you replace the stolen bicycle or bicycle part?</td>\n      <td>Is replaced</td>\n    </tr>\n    <tr>\n      <th>Q26</th>\n      <td>How many days did it take to recover or replace your stolen bicycle or part?</td>\n      <td>Time replaced</td>\n    </tr>\n    <tr>\n      <th>Q27</th>\n      <td>After recovering your bike, how many additional days did it take before your bicycle was repaired and rideable?</td>\n      <td>Time rideable</td>\n    </tr>\n    <tr>\n      <th>Q28_1</th>\n      <td>Over the past year, how often did you cycle (with any bicycle) during each season? - Fall (Sept, Oct, Nov)</td>\n      <td>Fall habit</td>\n    </tr>\n    <tr>\n      <th>Q28_2</th>\n      <td>Over the past year, how often did you cycle (with any bicycle) during each season? - Winter (Dec, Jan, Feb)</td>\n      <td>Winter habit</td>\n    </tr>\n    <tr>\n      <th>Q28_3</th>\n      <td>Over the past year, how often did you cycle (with any bicycle) during each season? - Spring (Mar, Apr, May)</td>\n      <td>Spring habit</td>\n    </tr>\n    <tr>\n      <th>Q28_4</th>\n      <td>Over the past year, how often did you cycle (with any bicycle) during each season? - Summer (Jun, Jul, Aug)</td>\n      <td>Summer habit</td>\n    </tr>\n    <tr>\n      <th>Q29</th>\n      <td>What was the main purpose of the trips you made with the stolen/damaged bicycle? Measured in highest number or trips, not distance cycled</td>\n      <td>Purpose trip</td>\n    </tr>\n    <tr>\n      <th>Q30</th>\n      <td>Thinking about the trips you made with the stolen/damaged bicycle, what transportation mode did you most often use to make those trips while your bicycle was unavailable?</td>\n      <td>Mode switch</td>\n    </tr>\n    <tr>\n      <th>Q31</th>\n      <td>Compared to before the theft, what best describes your overall cycling activity after your stolen bicycle (or part) was recovered, replaced, or abandoned? Did you cycle…</td>\n      <td>Theft circumstances</td>\n    </tr>\n    <tr>\n      <th>Q32</th>\n      <td>What were the main reasons you cycled less often or not at all? (Select up to 3) - Selected Choice</td>\n      <td>Reason less</td>\n    </tr>\n    <tr>\n      <th>Q33</th>\n      <td>What were the main reasons you cycled more often? (Select up to 3) - Selected Choice</td>\n      <td>Reason more</td>\n    </tr>\n  </tbody>\n</table>"
     },
     "metadata": {},
     "output_type": "display_data"
    },
    {
     "data": {
      "text/plain": "                                                Question         Abbreviation \nNumber                                                                        \nQ25     Did you replace the stolen bicycle or bicycle ...          Is replaced\nQ26     How many days did it take to recover or replac...        Time replaced\nQ27     After recovering your bike, how many additiona...        Time rideable\nQ28_1   Over the past year, how often did you cycle (w...           Fall habit\nQ28_2   Over the past year, how often did you cycle (w...         Winter habit\nQ28_3   Over the past year, how often did you cycle (w...         Spring habit\nQ28_4   Over the past year, how often did you cycle (w...         Summer habit\nQ29     What was the main purpose of the trips you mad...         Purpose trip\nQ30     Thinking about the trips you made with the sto...          Mode switch\nQ31     Compared to before the theft, what best descri...  Theft circumstances\nQ32     What were the main reasons you cycled less oft...          Reason less\nQ33     What were the main reasons you cycled more oft...          Reason more",
      "text/html": "<div>\n<style scoped>\n    .dataframe tbody tr th:only-of-type {\n        vertical-align: middle;\n    }\n\n    .dataframe tbody tr th {\n        vertical-align: top;\n    }\n\n    .dataframe thead th {\n        text-align: right;\n    }\n</style>\n<table border=\"1\" class=\"dataframe\">\n  <thead>\n    <tr style=\"text-align: right;\">\n      <th></th>\n      <th>Question</th>\n      <th>Abbreviation</th>\n    </tr>\n    <tr>\n      <th>Number</th>\n      <th></th>\n      <th></th>\n    </tr>\n  </thead>\n  <tbody>\n    <tr>\n      <th>Q25</th>\n      <td>Did you replace the stolen bicycle or bicycle ...</td>\n      <td>Is replaced</td>\n    </tr>\n    <tr>\n      <th>Q26</th>\n      <td>How many days did it take to recover or replac...</td>\n      <td>Time replaced</td>\n    </tr>\n    <tr>\n      <th>Q27</th>\n      <td>After recovering your bike, how many additiona...</td>\n      <td>Time rideable</td>\n    </tr>\n    <tr>\n      <th>Q28_1</th>\n      <td>Over the past year, how often did you cycle (w...</td>\n      <td>Fall habit</td>\n    </tr>\n    <tr>\n      <th>Q28_2</th>\n      <td>Over the past year, how often did you cycle (w...</td>\n      <td>Winter habit</td>\n    </tr>\n    <tr>\n      <th>Q28_3</th>\n      <td>Over the past year, how often did you cycle (w...</td>\n      <td>Spring habit</td>\n    </tr>\n    <tr>\n      <th>Q28_4</th>\n      <td>Over the past year, how often did you cycle (w...</td>\n      <td>Summer habit</td>\n    </tr>\n    <tr>\n      <th>Q29</th>\n      <td>What was the main purpose of the trips you mad...</td>\n      <td>Purpose trip</td>\n    </tr>\n    <tr>\n      <th>Q30</th>\n      <td>Thinking about the trips you made with the sto...</td>\n      <td>Mode switch</td>\n    </tr>\n    <tr>\n      <th>Q31</th>\n      <td>Compared to before the theft, what best descri...</td>\n      <td>Theft circumstances</td>\n    </tr>\n    <tr>\n      <th>Q32</th>\n      <td>What were the main reasons you cycled less oft...</td>\n      <td>Reason less</td>\n    </tr>\n    <tr>\n      <th>Q33</th>\n      <td>What were the main reasons you cycled more oft...</td>\n      <td>Reason more</td>\n    </tr>\n  </tbody>\n</table>\n</div>"
     },
     "execution_count": 34,
     "metadata": {},
     "output_type": "execute_result"
    }
   ],
   "source": [
    "html_table = questions_to_examine_1.to_html()\n",
    "text =\"<h4>The following questions will be the main focus of our analysis. We will begin by looking at each question individually.</h4>\"\n",
    "display(Markdown(text))\n",
    "display_html(html_table, raw=True)\n",
    "questions_to_examine_1"
   ],
   "metadata": {
    "collapsed": false,
    "pycharm": {
     "name": "#%%\n"
    }
   }
  },
  {
   "cell_type": "code",
   "execution_count": 66,
   "outputs": [
    {
     "data": {
      "text/plain": "<IPython.core.display.Markdown object>",
      "text/markdown": "Q25 - Did you replace the stolen bicycle or bicycle part?"
     },
     "metadata": {},
     "output_type": "display_data"
    },
    {
     "data": {
      "text/plain": "<IPython.core.display.Markdown object>",
      "text/markdown": "<h4>Results</h4><ul><li>31% did not replace their stolen bicycle.</li><li> 24% did replace with cheaper bicycle.</li><li> 46%  with more expensive bicycle.</li></ul>"
     },
     "metadata": {},
     "output_type": "display_data"
    },
    {
     "data": {
      "text/plain": "<IPython.core.display.Markdown object>",
      "text/markdown": "<h4>Next analysis</h4><ul> <li>cross validation with demographic</li> <li>cross validation with bicycle value</li></ul>"
     },
     "metadata": {},
     "output_type": "display_data"
    }
   ],
   "source": [
    "q_num ='Q25'\n",
    "q= questions_to_examine_1.loc[q_num][0]\n",
    "res_25 = res_reg[q_num]\n",
    "more_ex = int(res_25[res_25['Q25'] =='\\u200bYes, and I replaced it with exactly what was stolen or something more expensive ']['per'].values[0])\n",
    "cheaper = int(res_25[res_25['Q25'] =='Yes, but the replacement was something cheaper']['per'].values[0])\n",
    "no= int(res_25[res_25['Q25'] =='No']['per'].values[0])\n",
    "text =f\"{q_num} - {q}\"\n",
    "display(Markdown(text))\n",
    "text = f\"<h4>Results</h4><ul><li>{no}% did not replace their stolen bicycle.</li><li> {cheaper}% did replace with cheaper bicycle.</li><li> {more_ex}%  with more expensive bicycle.</li></ul>\"\n",
    "display(Markdown(text))\n",
    "text = \"<h4>Next analysis</h4><ul> <li>cross validation with demographic</li> <li>cross validation with bicycle value</li></ul>\"\n",
    "display(Markdown(text))"
   ],
   "metadata": {
    "collapsed": false,
    "pycharm": {
     "name": "#%%\n"
    }
   }
  },
  {
   "cell_type": "code",
   "execution_count": 27,
   "outputs": [
    {
     "data": {
      "text/plain": "<IPython.core.display.Markdown object>",
      "text/markdown": "Q26 - How many days did it take to recover or replace your stolen bicycle or part?"
     },
     "metadata": {},
     "output_type": "display_data"
    },
    {
     "data": {
      "text/plain": "<IPython.core.display.Markdown object>",
      "text/markdown": "<h4>Results</h4><ul><li>25% recovered or replaced their bicycles within 20 days and 50% within 49 days.</li>  <li>4% are recovered or replaced over 1 year.</li> <li>The longest time  reported to recovered/replaced was 1460 days.</li><li>Among all the participants that answers to this question 5% have not recovered/replaces their bicycles.</ul>"
     },
     "metadata": {},
     "output_type": "display_data"
    },
    {
     "data": {
      "text/plain": "<IPython.core.display.Markdown object>",
      "text/markdown": "<h4>Next analysis</h4><ul> <li>compare the results between group members who were replaced and those who recovered. Are there any statistical differences between the two groups? </li> <li>cross validation with demographic</li><li>cross validation with bike characteristics</li></ul>"
     },
     "metadata": {},
     "output_type": "display_data"
    }
   ],
   "source": [
    "q_num = 'Q26'\n",
    "q= questions_to_examine_1.loc[q_num][0]\n",
    "res = res_26\n",
    "flat_data = res[-1]\n",
    "day_25 = int(res[1].loc['25%'][0])\n",
    "day_50 = int(res[1].loc['50%'][0])\n",
    "more_365  = len(flat_data[flat_data[0]>365])\n",
    "more_385_percentage = int(round(more_365/len(flat_data)*100,0))\n",
    "max= int(res[1].loc['max'][0])\n",
    "no_recoverd_replace =int(round(list(res[2].values())[0][1]))\n",
    "text =f\"{q_num} - {q}\"\n",
    "display(Markdown(text))\n",
    "text = f\"<h4>Results</h4><ul><li>25% recovered or replaced their bicycles within {day_25} days and 50% within {day_50} days.</li>  <li>{more_385_percentage}% are recovered or replaced over 1 year.</li> <li>The longest time  reported to recovered/replaced was {max} days.</li><li>Among all the participants that answers to this question {no_recoverd_replace}% have not recovered/replaces their bicycles.</ul>\"\n",
    "display(Markdown(text))\n",
    "text = \"<h4>Next analysis</h4><ul> <li>compare the results between group members who were replaced and those who recovered. Are there any statistical differences between the two groups? </li> <li>cross validation with demographic</li><li>cross validation with bike characteristics</li></ul>\"\n",
    "display(Markdown(text))\n"
   ],
   "metadata": {
    "collapsed": false,
    "pycharm": {
     "name": "#%%\n"
    }
   }
  },
  {
   "cell_type": "code",
   "execution_count": 109,
   "outputs": [
    {
     "data": {
      "text/plain": "<IPython.core.display.Markdown object>",
      "text/markdown": "Q27 - After recovering your bike, how many additional days did it take before your bicycle was repaired and rideable?"
     },
     "metadata": {},
     "output_type": "display_data"
    },
    {
     "data": {
      "text/plain": "<IPython.core.display.Markdown object>",
      "text/markdown": "<h4>Results</h4><ul><li>25% repaired their bicycles within 7 days and 50% within 14 days.</li>  <li> 28% are repaired after more then a month.</li> <li>The longest time  reported to repair was 360 days.</li> <li>Among all the participants that answers to this question 3% have not repaired their bicycles.</li></ul>"
     },
     "metadata": {},
     "output_type": "display_data"
    },
    {
     "data": {
      "text/plain": "<IPython.core.display.Markdown object>",
      "text/markdown": "<h4>Next analysis</h4><ul> <li>cross validation with bike condition upon recovery</li> <li>cross validation with demographic</li><li>cross validation with bike characteristics</li></ul>"
     },
     "metadata": {},
     "output_type": "display_data"
    }
   ],
   "source": [
    "q_num = 'Q27'\n",
    "res = res_q27\n",
    "q= questions_to_examine_1.loc[q_num][0]\n",
    "flat_data = res[-1]\n",
    "day_25 = int(res[1].loc['25%'][0])\n",
    "day_50 = int(res[1].loc['50%'][0])\n",
    "more_30  = len(flat_data[flat_data[0]>30])\n",
    "more_30_percentage = int(round(more_30/len(flat_data)*100,0))\n",
    "max= int(res[1].loc['max'][0])\n",
    "no_recoverd_replace =int(round(list(res[2].values())[0][1]))\n",
    "\n",
    "text =f\"{q_num} - {q}\"\n",
    "display(Markdown(text))\n",
    "text = f\"<h4>Results</h4><ul><li>25% repaired their bicycles within {day_25} days and 50% within {day_50} days.</li>  <li> {more_30_percentage}% are repaired after more then a month.</li> <li>The longest time  reported to repair was {max} days.</li> <li>Among all the participants that answers to this question {no_recoverd_replace}% have not repaired their bicycles.</li></ul>\"\n",
    "display(Markdown(text))\n",
    "text = \"<h4>Next analysis</h4><ul> <li>cross validation with bike condition upon recovery</li> <li>cross validation with demographic</li><li>cross validation with bike characteristics</li></ul>\"\n",
    "display(Markdown(text))\n",
    "\n"
   ],
   "metadata": {
    "collapsed": false,
    "pycharm": {
     "name": "#%%\n"
    }
   }
  },
  {
   "cell_type": "code",
   "execution_count": 111,
   "outputs": [
    {
     "data": {
      "text/plain": "frequency  4 or more days a week  1-3 days a week  1-3 days a month  \\\nFall                        30.0             34.0              18.0   \nWinter                      21.0             22.0              16.0   \nSpring                      32.0             34.0              18.0   \nSummer                      41.0             35.0              11.0   \n\nfrequency  Less than once a month  Never  Don't know/not sure  \nFall                          8.0    9.0                  1.0  \nWinter                       14.0   25.0                  1.0  \nSpring                        6.0    9.0                  1.0  \nSummer                        5.0    7.0                  1.0  ",
      "text/html": "<div>\n<style scoped>\n    .dataframe tbody tr th:only-of-type {\n        vertical-align: middle;\n    }\n\n    .dataframe tbody tr th {\n        vertical-align: top;\n    }\n\n    .dataframe thead th {\n        text-align: right;\n    }\n</style>\n<table border=\"1\" class=\"dataframe\">\n  <thead>\n    <tr style=\"text-align: right;\">\n      <th>frequency</th>\n      <th>4 or more days a week</th>\n      <th>1-3 days a week</th>\n      <th>1-3 days a month</th>\n      <th>Less than once a month</th>\n      <th>Never</th>\n      <th>Don't know/not sure</th>\n    </tr>\n  </thead>\n  <tbody>\n    <tr>\n      <th>Fall</th>\n      <td>30.0</td>\n      <td>34.0</td>\n      <td>18.0</td>\n      <td>8.0</td>\n      <td>9.0</td>\n      <td>1.0</td>\n    </tr>\n    <tr>\n      <th>Winter</th>\n      <td>21.0</td>\n      <td>22.0</td>\n      <td>16.0</td>\n      <td>14.0</td>\n      <td>25.0</td>\n      <td>1.0</td>\n    </tr>\n    <tr>\n      <th>Spring</th>\n      <td>32.0</td>\n      <td>34.0</td>\n      <td>18.0</td>\n      <td>6.0</td>\n      <td>9.0</td>\n      <td>1.0</td>\n    </tr>\n    <tr>\n      <th>Summer</th>\n      <td>41.0</td>\n      <td>35.0</td>\n      <td>11.0</td>\n      <td>5.0</td>\n      <td>7.0</td>\n      <td>1.0</td>\n    </tr>\n  </tbody>\n</table>\n</div>"
     },
     "execution_count": 111,
     "metadata": {},
     "output_type": "execute_result"
    },
    {
     "data": {
      "text/plain": "<IPython.core.display.Markdown object>",
      "text/markdown": "Q28 - Over the past year, how often did you cycle"
     },
     "metadata": {},
     "output_type": "display_data"
    },
    {
     "data": {
      "text/plain": "<IPython.core.display.Markdown object>",
      "text/markdown": "<h4>Results</h4><ul><li>The seasons have huge effect on the cycling habit.</li></ul>"
     },
     "metadata": {},
     "output_type": "display_data"
    },
    {
     "data": {
      "text/plain": "<IPython.core.display.Markdown object>",
      "text/markdown": "<h4>Next analysis</h4><ul> <li>Find group of cyclists with same habit</li> <li>for those groups cross validation with demographic</li><li>with bike characteristics </li><li> with other questions behaviour</li> <li>between cities</li></ul>"
     },
     "metadata": {},
     "output_type": "display_data"
    }
   ],
   "source": [
    "frequency= 'frequency'\n",
    "seasons = {1:'Fall', 2:'Winter', 3:'Spring', 4:'Summer'} # list of seasons\n",
    "data_to_use  =[res_reg[f'Q28_{i}'].rename(columns={'per':seasons[i]}) for i in range(1,5)]\n",
    "data_to_use_1 =[data.rename(columns= {data.columns[0]:frequency}).drop('count', axis=1).set_index(frequency) for data in data_to_use]\n",
    "seasons_pd= pd.concat(data_to_use_1,axis=1)\n",
    "\n",
    "frequency_dic={'1-3 days a week':1, '4 or more days a week':0, '1-3 days a month':2, 'Never':4,\n",
    "       'Less than once a month':3, \"Don't know/not sure\":5}\n",
    "for_sort = 'for_sort'\n",
    "seasons_pd[for_sort] = frequency_dic\n",
    "seasons_pd.sort_values(for_sort).drop(for_sort,axis=1).T\n",
    "\n",
    "q_num = 'Q28'\n",
    "q =f\"Over the past year, how often did you cycle\"\n",
    "text =f\"{q_num} - {q}\"\n",
    "display(Markdown(text))\n",
    "text = f\"<h4>Results</h4><ul><li>The seasons have huge effect on the cycling habit.</li></ul>\"\n",
    "display(Markdown(text))\n",
    "text = \"<h4>Next analysis</h4><ul> <li>Find group of cyclists with same habit</li> <li>for those groups cross validation with demographic</li><li>with bike characteristics </li><li> with other questions behaviour</li> <li>between cities</li></ul>\"\n",
    "display(Markdown(text))\n"
   ],
   "metadata": {
    "collapsed": false,
    "pycharm": {
     "name": "#%%\n"
    }
   }
  },
  {
   "cell_type": "code",
   "execution_count": 113,
   "outputs": [
    {
     "data": {
      "text/plain": "                                                 Q29  count   per\n2  Recreation or exercise (e.g., cycling in your ...    721  42.0\n3  Transportation (e.g., commuting to school or w...    542  31.0\n1  Equal mix of recreation, exercise, and transpo...    455  26.0\n0                                Don’t know/not sure     10   1.0",
      "text/html": "<div>\n<style scoped>\n    .dataframe tbody tr th:only-of-type {\n        vertical-align: middle;\n    }\n\n    .dataframe tbody tr th {\n        vertical-align: top;\n    }\n\n    .dataframe thead th {\n        text-align: right;\n    }\n</style>\n<table border=\"1\" class=\"dataframe\">\n  <thead>\n    <tr style=\"text-align: right;\">\n      <th></th>\n      <th>Q29</th>\n      <th>count</th>\n      <th>per</th>\n    </tr>\n  </thead>\n  <tbody>\n    <tr>\n      <th>2</th>\n      <td>Recreation or exercise (e.g., cycling in your ...</td>\n      <td>721</td>\n      <td>42.0</td>\n    </tr>\n    <tr>\n      <th>3</th>\n      <td>Transportation (e.g., commuting to school or w...</td>\n      <td>542</td>\n      <td>31.0</td>\n    </tr>\n    <tr>\n      <th>1</th>\n      <td>Equal mix of recreation, exercise, and transpo...</td>\n      <td>455</td>\n      <td>26.0</td>\n    </tr>\n    <tr>\n      <th>0</th>\n      <td>Don’t know/not sure</td>\n      <td>10</td>\n      <td>1.0</td>\n    </tr>\n  </tbody>\n</table>\n</div>"
     },
     "execution_count": 113,
     "metadata": {},
     "output_type": "execute_result"
    },
    {
     "data": {
      "text/plain": "'What was the main purpose of the trips you made with the stolen/damaged bicycle? Measured in highest number or trips, not distance cycled'"
     },
     "execution_count": 113,
     "metadata": {},
     "output_type": "execute_result"
    }
   ],
   "source": [
    "q_num ='Q29'\n",
    "res_reg[q_num]\n",
    "q= questions_to_examine_1.loc[q_num][0]\n",
    "q"
   ],
   "metadata": {
    "collapsed": false,
    "pycharm": {
     "name": "#%%\n"
    }
   }
  },
  {
   "cell_type": "code",
   "execution_count": 67,
   "outputs": [
    {
     "data": {
      "text/plain": "<IPython.core.display.Markdown object>",
      "text/markdown": "Q32 - What were the main reasons you cycled less often or not at all? (Select up to 3) - Selected Choice"
     },
     "metadata": {},
     "output_type": "display_data"
    },
    {
     "data": {
      "text/plain": "<IPython.core.display.Markdown object>",
      "text/markdown": "<h4>Results</h4><ul><li>the answer with the highest  frequency is:</li></ul>"
     },
     "metadata": {},
     "output_type": "display_data"
    },
    {
     "data": {
      "text/plain": "count    307.0\nper       25.0\nName: I couldn’t recover my bicycle and didn’t replace it due to cost or other reason, dtype: float64"
     },
     "execution_count": 67,
     "metadata": {},
     "output_type": "execute_result"
    },
    {
     "data": {
      "text/plain": "<IPython.core.display.Markdown object>",
      "text/markdown": "Q33 - What were the main reasons you cycled more often? (Select up to 3) - Selected Choice"
     },
     "metadata": {},
     "output_type": "display_data"
    },
    {
     "data": {
      "text/plain": "<IPython.core.display.Markdown object>",
      "text/markdown": "<h4>Results</h4><ul><li>only 6% answer this question.</li><li>the answer with the highest  frequency is :</li></ul>"
     },
     "metadata": {},
     "output_type": "display_data"
    },
    {
     "data": {
      "text/plain": "count    49.0\nper      26.0\nName: My new bicycle was more capable, comfortable to ride, or better suited to my travel needs, dtype: float64"
     },
     "execution_count": 67,
     "metadata": {},
     "output_type": "execute_result"
    },
    {
     "data": {
      "text/plain": "<IPython.core.display.Markdown object>",
      "text/markdown": "<h4>Next analysis</h4><ul> <li>group choices</li> <li>cross validation with demographic</li><li>cross validation with bike characteristics</li></ul>"
     },
     "metadata": {},
     "output_type": "display_data"
    }
   ],
   "source": [
    "q_num ='Q32'\n",
    "q= questions_to_examine_1.loc[q_num][0]\n",
    "most_pop = res32_33[0].iloc[0]\n",
    "text =f\"{q_num} - {q}\"\n",
    "display(Markdown(text))\n",
    "text = f\"<h4>Results</h4><ul><li>the answer with the highest  frequency is:</li></ul>\"\n",
    "display(Markdown(text))\n",
    "most_pop\n",
    "q_num = 'Q33'\n",
    "q= questions_to_examine_1.loc[q_num][0]\n",
    "most_pop = res32_33[1].iloc[0]\n",
    "text =f\"{q_num} - {q}\"\n",
    "display(Markdown(text))\n",
    "len_all =len(data_general)\n",
    "percentage_of_ans = int(round((len_all- data_general[q_num].isna().sum())/len_all*100))\n",
    "text = f\"<h4>Results</h4><ul><li>only {percentage_of_ans}% answer this question.</li><li>the answer with the highest  frequency is :</li></ul>\"\n",
    "display(Markdown(text))\n",
    "most_pop\n",
    "\n",
    "text = \"<h4>Next analysis</h4><ul> <li>group choices</li> <li>cross validation with demographic</li><li>cross validation with bike characteristics</li></ul>\"\n",
    "display(Markdown(text))"
   ],
   "metadata": {
    "collapsed": false,
    "pycharm": {
     "name": "#%%\n"
    }
   }
  },
  {
   "cell_type": "code",
   "execution_count": 99,
   "outputs": [
    {
     "data": {
      "text/plain": "['Fall', 'Winter', 'Spring', 'Summer']"
     },
     "execution_count": 99,
     "metadata": {},
     "output_type": "execute_result"
    }
   ],
   "source": [
    "list(seasons.values())"
   ],
   "metadata": {
    "collapsed": false,
    "pycharm": {
     "name": "#%%\n"
    }
   }
  },
  {
   "cell_type": "code",
   "execution_count": null,
   "outputs": [],
   "source": [],
   "metadata": {
    "collapsed": false,
    "pycharm": {
     "name": "#%%\n"
    }
   }
  }
 ],
 "metadata": {
  "kernelspec": {
   "display_name": "Python 3",
   "language": "python",
   "name": "python3"
  },
  "language_info": {
   "codemirror_mode": {
    "name": "ipython",
    "version": 2
   },
   "file_extension": ".py",
   "mimetype": "text/x-python",
   "name": "python",
   "nbconvert_exporter": "python",
   "pygments_lexer": "ipython2",
   "version": "2.7.6"
  }
 },
 "nbformat": 4,
 "nbformat_minor": 0
}