{
 "cells": [
  {
   "cell_type": "code",
   "execution_count": 1,
   "outputs": [
    {
     "data": {
      "text/plain": "<IPython.core.display.HTML object>",
      "text/html": "<style>.container { width:100% !important; }</style>"
     },
     "metadata": {},
     "output_type": "display_data"
    }
   ],
   "source": [
    "from scipy.stats import chi2_contingency\n",
    "import calendar\n",
    "import numpy as np\n",
    "months = list(map(lambda x: x.lower(), calendar.month_name))[1:]\n",
    "import pandas as pd\n",
    "from pandas import DataFrame\n",
    "\n",
    "\n",
    "from IPython.core.interactiveshell import InteractiveShell\n",
    "\n",
    "InteractiveShell.ast_node_interactivity = 'all'\n",
    "\n",
    "import matplotlib.pylab as pylab\n",
    "\n",
    "\n",
    "\n",
    "\n",
    "params = {'legend.fontsize': 'x-large',\n",
    "          'figure.figsize': (15, 10),\n",
    "          'axes.labelsize': 'x-large',\n",
    "          'axes.titlesize': 'x-large',\n",
    "          'xtick.labelsize': 'x-large',\n",
    "          'ytick.labelsize': 'x-large'}\n",
    "pylab.rcParams.update(params)\n",
    "\n",
    "import os\n",
    "\n",
    "project_folder = f'{os.path.dirname(os.path.dirname(os.path.dirname(os.getcwd())))}/data/process'\n",
    "import warnings\n",
    "\n",
    "warnings.filterwarnings(action='ignore')\n",
    "\n",
    "from IPython.core.display import display, HTML\n",
    "# Set the display width to fit the entire notebook width\n",
    "display(HTML(\"<style>.container { width:100% !important; }</style>\"))\n",
    "from IPython.display import Markdown\n",
    "from IPython.display import display_html\n",
    "import scipy.stats as stats\n",
    "\n",
    "predictors ={'Q13':'value_approx','Q14':'is_electric','Q15':'bicycle_type','Q18':'is_recover',  'Q28':'seasons', 'Q29':'purpose', 'age_groups': 'age_groups', 'Q35': 'gender', 'Q36': 'income','Q37':'nm_bikes', 'Q38': 'education','country':'country'}\n",
    "dependent_vars = {'Q25':'is_replaced','Q30':'mode_alt', 'Q31':'post_act'}\n",
    "all_vars = predictors.copy()\n",
    "all_vars.update(dependent_vars)"
   ],
   "metadata": {
    "collapsed": false,
    "pycharm": {
     "name": "#%%\n"
    }
   }
  },
  {
   "cell_type": "markdown",
   "source": [
    "<span style=\"color: red;font-size: 50px\">RUN THE NEXT CELL FOR THE FIRST TIME ONLY</span>"
   ],
   "metadata": {
    "collapsed": false,
    "pycharm": {
     "name": "#%% md\n"
    }
   }
  },
  {
   "cell_type": "code",
   "execution_count": 17,
   "outputs": [],
   "source": [
    "\n",
    "# Change col names and leave only relevant cols as well as delete unnecessary spaces and parenthesis (except age group)\n",
    "cols_names = list(all_vars.values())\n",
    "data_init = pd.read_csv(f'{project_folder}/new_data/new_data_2.csv')\n",
    "temp = data_init['age_groups']\n",
    "d_analysis = data_init.rename(columns=all_vars)[cols_names].astype(str).replace(r\"\\(.*?\\)\", \"\").astype(str).replace(\":\", \"\").apply(lambda row: [d.split('(')[0].strip() if '(' in d else d.strip() for d in row])\n",
    "d_analysis['age_groups'] = temp\n",
    "\n",
    "\n",
    "# This method translate the alternative data into how much the alternative is sustainable\n",
    "def sus_alter(row):\n",
    "    alt_stat = ['active','not active']\n",
    "    if row in  ['Walk','Cycle, personal bicycle','Cycle, rental bicycle','Cycle, public bike share','Micro mobility']:\n",
    "        return alt_stat[0]\n",
    "    elif row in ['Car, as a driver','Car, as a passenger','Taxi / Ride-hailing service','Transit','Motorcycle or scooter']:\n",
    "        return alt_stat[1]\n",
    "    else:\n",
    "        return row\n",
    "\n",
    "d_analysis['mode_alt'] = d_analysis['mode_alt'].apply(sus_alter)\n",
    "\n",
    "d_analysis.to_csv(f'{project_folder}/new_data/new_data_3.csv')\n",
    "merge_q =d_analysis"
   ],
   "metadata": {
    "collapsed": false,
    "pycharm": {
     "name": "#%%\n"
    }
   }
  },
  {
   "cell_type": "markdown",
   "source": [
    "<span style=\"color: Orange;font-size: 50px\">Always run the following cell</span>"
   ],
   "metadata": {
    "collapsed": false,
    "pycharm": {
     "name": "#%% md\n"
    }
   }
  },
  {
   "cell_type": "code",
   "execution_count": 2,
   "outputs": [],
   "source": [
    "# read data\n",
    "merge_q = pd.read_csv(f'{project_folder}/new_data/new_data_3.csv')\n",
    "# organize and populate @more_data  dictionary\n",
    "more_data ={item:[list(DataFrame(merge_q[item].unique()).dropna()[0]),False] for  item in all_vars.values()}\n",
    "\n",
    "# Code relevant for reindex\n",
    "# Bicycle attributes\n",
    "q= 'value_approx'\n",
    "df_t = DataFrame(merge_q[q].unique()).dropna().sort_values(by=0, ascending=0).reset_index(drop=True)\n",
    "more_data[q][0] = pd.concat([df_t.iloc[0], df_t.iloc[6], df_t.iloc[4], df_t.iloc[8], df_t.iloc[7], df_t.iloc[5], df_t.iloc[1:4].sort_values(by=0, ascending=1)])[0].to_list()\n",
    "\n",
    "# Demographic\n",
    "more_data['education'][0]= ['Some high school or less',\n",
    "                            'Graduated high school',\n",
    "                            'Some university',\n",
    "                            'Associate’s/vocational/technical\\u202fdegree',\n",
    "                            'Bachelor’s degree',\n",
    "                            'Graduate degree',\n",
    "                            'I prefer to not answer',\n",
    " ]\n",
    "q = 'age_groups'\n",
    "more_data[q][0] = DataFrame(merge_q[q].unique()).dropna()[::-1][0].to_list()\n",
    "\n",
    "\n",
    "more_data['seasons'][0] = range(3)\n",
    "q= 'income'\n",
    "df_t = DataFrame(merge_q[q].unique()).dropna().sort_values(by=0, ascending=0).reset_index(drop=True)\n",
    "more_data[q][0]= pd.concat([df_t.iloc[0], df_t.iloc[6:2:-1], df_t.iloc[8:6:-1], df_t.iloc[9], df_t.iloc[1:3]])[0].to_list()\n",
    "q = 'nm_bikes'\n",
    "df_t = DataFrame(merge_q[q].unique()).dropna().sort_values(by=0, ascending=0).reset_index(drop=True)\n",
    "more_data[q][0]= pd.concat([df_t.iloc[0], df_t.iloc[3], df_t.iloc[1:3], df_t.iloc[5:], df_t.iloc[4]])[0].to_list()\n",
    "\n",
    "# for the dependent variable post_act:\n",
    "more_data['post_act'][0]= ['I stopped cycling',\n",
    "                            'Less often',\n",
    "                            'About the same / no change',\n",
    "                            'More often',\n",
    "]\n",
    "electric = merge_q['is_electric'].unique()\n",
    "more_data['is_electric'][0]= [electric[1],electric[2], electric[0]]\n",
    "# In case where only several cols are relevant\n",
    "more_data['bicycle_type'][1]= ['Hybrid/City/Dutch','Mountain','Road','Gravel/cyclocross']\n"
   ],
   "metadata": {
    "collapsed": false,
    "pycharm": {
     "name": "#%%\n"
    }
   }
  },
  {
   "cell_type": "code",
   "execution_count": 141,
   "outputs": [
    {
     "data": {
      "text/plain": "array(['Yes, with pedal-assist and throttle', '\\u200bNo',\n       'Yes, with pedal-assist', nan], dtype=object)"
     },
     "execution_count": 141,
     "metadata": {},
     "output_type": "execute_result"
    }
   ],
   "source": [
    "merge_q['is_electric'].unique()"
   ],
   "metadata": {
    "collapsed": false,
    "pycharm": {
     "name": "#%%\n"
    }
   }
  },
  {
   "cell_type": "code",
   "execution_count": 143,
   "outputs": [
    {
     "data": {
      "text/plain": "{'value_approx': [['Less than $250',\n   '$250-$499',\n   '$500-$999',\n   '$1000-$1999',\n   '$2000-3999',\n   '$4000-6999',\n   '$7000 or more',\n   'Don’t know/not sure',\n   'I prefer to not answer'],\n  False],\n 'is_electric': [['\\u200bNo',\n   'Yes, with pedal-assist',\n   'Yes, with pedal-assist and throttle'],\n  False],\n 'bicycle_type': [['Road',\n   'Cruiser',\n   'Hybrid/City/Dutch',\n   'Mountain',\n   'Folding',\n   'Recumbent',\n   'Gravel/cyclocross',\n   'Don’t know/not sure',\n   'Delivery/Cargo',\n   'Tricycle or quadricycle',\n   'BMX',\n   'Fixed gear',\n   'Tandem'],\n  ['Hybrid/City/Dutch', 'Mountain', 'Road', 'Gravel/cyclocross']],\n 'is_recover': [['No', 'Yes'], False],\n 'seasons': [range(0, 3), False],\n 'purpose': [['Recreation or exercise',\n   'Equal mix of recreation, exercise, and transportation trips',\n   'Transportation',\n   'Don’t know/not sure'],\n  False],\n 'age_groups': [['Children (<13)',\n   'Adolescents (13-17)',\n   'Young adults (18-24)',\n   'Adults (25-34)',\n   'Adults (35-44)',\n   'Adults (45-54)',\n   'Adults (55-64)',\n   'Older adults (>64)'],\n  False],\n 'gender': [['Woman', 'Man', 'Non-binary / third gender', 'Prefer not to say'],\n  False],\n 'income': [['Under $20,000 per year',\n   'Between $20,000 and $34,999 per year',\n   'Between $35,000 and $49,999 per year',\n   'Between $50,000 and $74,999 per year',\n   'Between $75,000 and $99,999 per year',\n   'Between $100,000 and $149,999 per year',\n   'Between $150,000 and $199,999 per year',\n   '$200,000 or more per year',\n   'I prefer to not answer',\n   'Don’t know/not sure'],\n  False],\n 'nm_bikes': [['Zero',\n   'One',\n   'Two',\n   'Three',\n   'Four',\n   'Five or more',\n   'I prefer to not answer'],\n  False],\n 'education': [['Some high school or less',\n   'Graduated high school',\n   'Some university',\n   'Associate’s/vocational/technical\\u202fdegree',\n   'Bachelor’s degree',\n   'Graduate degree',\n   'I prefer to not answer'],\n  False],\n 'country': [['CAN', 'USA'], False],\n 'is_replaced': [['\\u200bYes, and I replaced it with exactly what was stolen or something more expensive',\n   'Yes, but the replacement was something cheaper',\n   'No'],\n  False],\n 'mode_alt': [['Didn’t make those trips',\n   'not active',\n   'active',\n   'Don’t know/not sure'],\n  False],\n 'post_act': [['I stopped cycling',\n   'Less often',\n   'About the same / no change',\n   'More often'],\n  False]}"
     },
     "execution_count": 143,
     "metadata": {},
     "output_type": "execute_result"
    }
   ],
   "source": [
    "more_data"
   ],
   "metadata": {
    "collapsed": false,
    "pycharm": {
     "name": "#%%\n"
    }
   }
  },
  {
   "cell_type": "markdown",
   "source": [
    "<span style=\"color: blue;font-size: 50px\">Find relationships between independent variables </span>"
   ],
   "metadata": {
    "collapsed": false,
    "pycharm": {
     "name": "#%% md\n"
    }
   }
  },
  {
   "cell_type": "code",
   "execution_count": 6,
   "outputs": [
    {
     "data": {
      "text/plain": "      value_approx  income  nm_bikes  age_groups  education  is_electric  \\\n0                3       1         1           7          1            0   \n1                4       1         3           7          2            0   \n2                4       5         2           7          5            1   \n3                2      -1         1           7          5            1   \n4                3       5         2           7          5            1   \n...            ...     ...       ...         ...        ...          ...   \n1816             4      -1        -1           7         -1            0   \n1817             1      -1         3           7          5           -1   \n1818             2       0         2           7          5            1   \n1819             4      -1        -1           7         -1            1   \n1820             4      -1        -1           7          5            1   \n\n      is_recover  seasons  post_act  mode_alt  is_replaced  \n0              0        1         3         0            0  \n1              0        2         2         1            0  \n2              0        1         2         1            0  \n3              0        1         2         2            0  \n4              0        2         2         2            0  \n...          ...      ...       ...       ...          ...  \n1816           0        1         2         1            0  \n1817           0        2         1         1            1  \n1818           0        1         1         1            1  \n1819           0       -1        -1        -1            2  \n1820           0        0         2         2            0  \n\n[1821 rows x 11 columns]",
      "text/html": "<div>\n<style scoped>\n    .dataframe tbody tr th:only-of-type {\n        vertical-align: middle;\n    }\n\n    .dataframe tbody tr th {\n        vertical-align: top;\n    }\n\n    .dataframe thead th {\n        text-align: right;\n    }\n</style>\n<table border=\"1\" class=\"dataframe\">\n  <thead>\n    <tr style=\"text-align: right;\">\n      <th></th>\n      <th>value_approx</th>\n      <th>income</th>\n      <th>nm_bikes</th>\n      <th>age_groups</th>\n      <th>education</th>\n      <th>is_electric</th>\n      <th>is_recover</th>\n      <th>seasons</th>\n      <th>post_act</th>\n      <th>mode_alt</th>\n      <th>is_replaced</th>\n    </tr>\n  </thead>\n  <tbody>\n    <tr>\n      <th>0</th>\n      <td>3</td>\n      <td>1</td>\n      <td>1</td>\n      <td>7</td>\n      <td>1</td>\n      <td>0</td>\n      <td>0</td>\n      <td>1</td>\n      <td>3</td>\n      <td>0</td>\n      <td>0</td>\n    </tr>\n    <tr>\n      <th>1</th>\n      <td>4</td>\n      <td>1</td>\n      <td>3</td>\n      <td>7</td>\n      <td>2</td>\n      <td>0</td>\n      <td>0</td>\n      <td>2</td>\n      <td>2</td>\n      <td>1</td>\n      <td>0</td>\n    </tr>\n    <tr>\n      <th>2</th>\n      <td>4</td>\n      <td>5</td>\n      <td>2</td>\n      <td>7</td>\n      <td>5</td>\n      <td>1</td>\n      <td>0</td>\n      <td>1</td>\n      <td>2</td>\n      <td>1</td>\n      <td>0</td>\n    </tr>\n    <tr>\n      <th>3</th>\n      <td>2</td>\n      <td>-1</td>\n      <td>1</td>\n      <td>7</td>\n      <td>5</td>\n      <td>1</td>\n      <td>0</td>\n      <td>1</td>\n      <td>2</td>\n      <td>2</td>\n      <td>0</td>\n    </tr>\n    <tr>\n      <th>4</th>\n      <td>3</td>\n      <td>5</td>\n      <td>2</td>\n      <td>7</td>\n      <td>5</td>\n      <td>1</td>\n      <td>0</td>\n      <td>2</td>\n      <td>2</td>\n      <td>2</td>\n      <td>0</td>\n    </tr>\n    <tr>\n      <th>...</th>\n      <td>...</td>\n      <td>...</td>\n      <td>...</td>\n      <td>...</td>\n      <td>...</td>\n      <td>...</td>\n      <td>...</td>\n      <td>...</td>\n      <td>...</td>\n      <td>...</td>\n      <td>...</td>\n    </tr>\n    <tr>\n      <th>1816</th>\n      <td>4</td>\n      <td>-1</td>\n      <td>-1</td>\n      <td>7</td>\n      <td>-1</td>\n      <td>0</td>\n      <td>0</td>\n      <td>1</td>\n      <td>2</td>\n      <td>1</td>\n      <td>0</td>\n    </tr>\n    <tr>\n      <th>1817</th>\n      <td>1</td>\n      <td>-1</td>\n      <td>3</td>\n      <td>7</td>\n      <td>5</td>\n      <td>-1</td>\n      <td>0</td>\n      <td>2</td>\n      <td>1</td>\n      <td>1</td>\n      <td>1</td>\n    </tr>\n    <tr>\n      <th>1818</th>\n      <td>2</td>\n      <td>0</td>\n      <td>2</td>\n      <td>7</td>\n      <td>5</td>\n      <td>1</td>\n      <td>0</td>\n      <td>1</td>\n      <td>1</td>\n      <td>1</td>\n      <td>1</td>\n    </tr>\n    <tr>\n      <th>1819</th>\n      <td>4</td>\n      <td>-1</td>\n      <td>-1</td>\n      <td>7</td>\n      <td>-1</td>\n      <td>1</td>\n      <td>0</td>\n      <td>-1</td>\n      <td>-1</td>\n      <td>-1</td>\n      <td>2</td>\n    </tr>\n    <tr>\n      <th>1820</th>\n      <td>4</td>\n      <td>-1</td>\n      <td>-1</td>\n      <td>7</td>\n      <td>5</td>\n      <td>1</td>\n      <td>0</td>\n      <td>0</td>\n      <td>2</td>\n      <td>2</td>\n      <td>0</td>\n    </tr>\n  </tbody>\n</table>\n<p>1821 rows × 11 columns</p>\n</div>"
     },
     "execution_count": 6,
     "metadata": {},
     "output_type": "execute_result"
    }
   ],
   "source": [
    "# dependents_list = ['value_approx','income','nm_bikes','age_groups','education','value_approx','is_electric','is_recover','seasons']\n",
    "dependents_list = ['value_approx','income','nm_bikes','age_groups','education','is_electric','is_recover','seasons','post_act','mode_alt','is_replaced']\n",
    "data_to_exp = merge_q[dependents_list].fillna(-1)\n",
    "\n",
    "def to_ordinal(col):\n",
    "    # This function gets a column and return for each value its ordinal values as it stored in @more_data (for irrelevant data return -1)\n",
    "    return data_to_exp[col.name].apply(lambda x:more_data[col.name][0].index(x) if x not in ['I prefer to not answer','Don’t know/not sure',-1] else -1)\n",
    "data_as_ordinal = data_to_exp.apply(to_ordinal)\n",
    "data_as_ordinal"
   ],
   "metadata": {
    "collapsed": false,
    "pycharm": {
     "name": "#%%\n"
    }
   }
  },
  {
   "cell_type": "code",
   "execution_count": 6,
   "outputs": [
    {
     "data": {
      "text/plain": "           var_1        var_2  correlation       p_value\n17      nm_bikes      seasons     0.369462  6.018427e-54\n1   value_approx     nm_bikes     0.299765  1.175538e-36\n9         income    education     0.281990  2.410065e-29\n7         income     nm_bikes     0.241739  8.763972e-22\n13      nm_bikes   age_groups     0.233628  1.395895e-22\n0   value_approx       income     0.218758  4.698700e-18\n8         income   age_groups     0.212985  3.320104e-17\n2   value_approx   age_groups     0.191486  1.932273e-16\n16      nm_bikes   is_recover     0.180243  6.453031e-14\n18    age_groups    education     0.145009  2.140645e-09\n6   value_approx      seasons     0.128232  1.599639e-07\n14      nm_bikes    education     0.114911  2.286376e-06\n5   value_approx   is_recover     0.077730  9.339815e-04\n10        income  is_electric     0.051212  4.750755e-02\n4   value_approx  is_electric     0.048537  4.111782e-02\n21    age_groups      seasons     0.044651  6.861533e-02\n3   value_approx    education     0.041716  8.701408e-02\n22     education  is_electric     0.038417  1.190055e-01\n24     education      seasons     0.034911  1.606959e-01\n12        income      seasons     0.032472  2.135571e-01\n27    is_recover      seasons     0.021622  3.782118e-01\n19    age_groups  is_electric     0.018275  4.412268e-01\n26   is_electric      seasons     0.015869  5.227927e-01\n15      nm_bikes  is_electric     0.004382  8.581898e-01\n25   is_electric   is_recover     0.002649  9.112313e-01\n20    age_groups   is_recover     0.000983  9.666079e-01\n11        income   is_recover    -0.006848  7.886989e-01\n23     education   is_recover    -0.026299  2.801940e-01",
      "text/html": "<div>\n<style scoped>\n    .dataframe tbody tr th:only-of-type {\n        vertical-align: middle;\n    }\n\n    .dataframe tbody tr th {\n        vertical-align: top;\n    }\n\n    .dataframe thead th {\n        text-align: right;\n    }\n</style>\n<table border=\"1\" class=\"dataframe\">\n  <thead>\n    <tr style=\"text-align: right;\">\n      <th></th>\n      <th>var_1</th>\n      <th>var_2</th>\n      <th>correlation</th>\n      <th>p_value</th>\n    </tr>\n  </thead>\n  <tbody>\n    <tr>\n      <th>17</th>\n      <td>nm_bikes</td>\n      <td>seasons</td>\n      <td>0.369462</td>\n      <td>6.018427e-54</td>\n    </tr>\n    <tr>\n      <th>1</th>\n      <td>value_approx</td>\n      <td>nm_bikes</td>\n      <td>0.299765</td>\n      <td>1.175538e-36</td>\n    </tr>\n    <tr>\n      <th>9</th>\n      <td>income</td>\n      <td>education</td>\n      <td>0.281990</td>\n      <td>2.410065e-29</td>\n    </tr>\n    <tr>\n      <th>7</th>\n      <td>income</td>\n      <td>nm_bikes</td>\n      <td>0.241739</td>\n      <td>8.763972e-22</td>\n    </tr>\n    <tr>\n      <th>13</th>\n      <td>nm_bikes</td>\n      <td>age_groups</td>\n      <td>0.233628</td>\n      <td>1.395895e-22</td>\n    </tr>\n    <tr>\n      <th>0</th>\n      <td>value_approx</td>\n      <td>income</td>\n      <td>0.218758</td>\n      <td>4.698700e-18</td>\n    </tr>\n    <tr>\n      <th>8</th>\n      <td>income</td>\n      <td>age_groups</td>\n      <td>0.212985</td>\n      <td>3.320104e-17</td>\n    </tr>\n    <tr>\n      <th>2</th>\n      <td>value_approx</td>\n      <td>age_groups</td>\n      <td>0.191486</td>\n      <td>1.932273e-16</td>\n    </tr>\n    <tr>\n      <th>16</th>\n      <td>nm_bikes</td>\n      <td>is_recover</td>\n      <td>0.180243</td>\n      <td>6.453031e-14</td>\n    </tr>\n    <tr>\n      <th>18</th>\n      <td>age_groups</td>\n      <td>education</td>\n      <td>0.145009</td>\n      <td>2.140645e-09</td>\n    </tr>\n    <tr>\n      <th>6</th>\n      <td>value_approx</td>\n      <td>seasons</td>\n      <td>0.128232</td>\n      <td>1.599639e-07</td>\n    </tr>\n    <tr>\n      <th>14</th>\n      <td>nm_bikes</td>\n      <td>education</td>\n      <td>0.114911</td>\n      <td>2.286376e-06</td>\n    </tr>\n    <tr>\n      <th>5</th>\n      <td>value_approx</td>\n      <td>is_recover</td>\n      <td>0.077730</td>\n      <td>9.339815e-04</td>\n    </tr>\n    <tr>\n      <th>10</th>\n      <td>income</td>\n      <td>is_electric</td>\n      <td>0.051212</td>\n      <td>4.750755e-02</td>\n    </tr>\n    <tr>\n      <th>4</th>\n      <td>value_approx</td>\n      <td>is_electric</td>\n      <td>0.048537</td>\n      <td>4.111782e-02</td>\n    </tr>\n    <tr>\n      <th>21</th>\n      <td>age_groups</td>\n      <td>seasons</td>\n      <td>0.044651</td>\n      <td>6.861533e-02</td>\n    </tr>\n    <tr>\n      <th>3</th>\n      <td>value_approx</td>\n      <td>education</td>\n      <td>0.041716</td>\n      <td>8.701408e-02</td>\n    </tr>\n    <tr>\n      <th>22</th>\n      <td>education</td>\n      <td>is_electric</td>\n      <td>0.038417</td>\n      <td>1.190055e-01</td>\n    </tr>\n    <tr>\n      <th>24</th>\n      <td>education</td>\n      <td>seasons</td>\n      <td>0.034911</td>\n      <td>1.606959e-01</td>\n    </tr>\n    <tr>\n      <th>12</th>\n      <td>income</td>\n      <td>seasons</td>\n      <td>0.032472</td>\n      <td>2.135571e-01</td>\n    </tr>\n    <tr>\n      <th>27</th>\n      <td>is_recover</td>\n      <td>seasons</td>\n      <td>0.021622</td>\n      <td>3.782118e-01</td>\n    </tr>\n    <tr>\n      <th>19</th>\n      <td>age_groups</td>\n      <td>is_electric</td>\n      <td>0.018275</td>\n      <td>4.412268e-01</td>\n    </tr>\n    <tr>\n      <th>26</th>\n      <td>is_electric</td>\n      <td>seasons</td>\n      <td>0.015869</td>\n      <td>5.227927e-01</td>\n    </tr>\n    <tr>\n      <th>15</th>\n      <td>nm_bikes</td>\n      <td>is_electric</td>\n      <td>0.004382</td>\n      <td>8.581898e-01</td>\n    </tr>\n    <tr>\n      <th>25</th>\n      <td>is_electric</td>\n      <td>is_recover</td>\n      <td>0.002649</td>\n      <td>9.112313e-01</td>\n    </tr>\n    <tr>\n      <th>20</th>\n      <td>age_groups</td>\n      <td>is_recover</td>\n      <td>0.000983</td>\n      <td>9.666079e-01</td>\n    </tr>\n    <tr>\n      <th>11</th>\n      <td>income</td>\n      <td>is_recover</td>\n      <td>-0.006848</td>\n      <td>7.886989e-01</td>\n    </tr>\n    <tr>\n      <th>23</th>\n      <td>education</td>\n      <td>is_recover</td>\n      <td>-0.026299</td>\n      <td>2.801940e-01</td>\n    </tr>\n  </tbody>\n</table>\n</div>"
     },
     "execution_count": 6,
     "metadata": {},
     "output_type": "execute_result"
    }
   ],
   "source": [
    "\n",
    "data_list = []\n",
    "# The code test every pair of independent variables to find the direction of the correlation\n",
    "for items in [(x, y) for i,x in enumerate(dependents_list) for y in dependents_list[i+1:]]:\n",
    "    var_1, var_2 = items\n",
    "    df = data_as_ordinal[[var_1, var_2 ]]\n",
    "    couple_to_test = df[~(df== -1).any(axis=1)] # remove missing or irrelevant data\n",
    "    correlation, p_value = stats.spearmanr(couple_to_test[var_1],couple_to_test[var_2]) # use spearman to test the data\n",
    "    data_list.append([var_1,var_2,correlation, p_value])\n",
    "sta_spearman_table = DataFrame(data_list,columns=['var_1','var_2','correlation', 'p_value']).sort_values('correlation',ascending=False)\n",
    "sta_spearman_table"
   ],
   "metadata": {
    "collapsed": false,
    "pycharm": {
     "name": "#%%\n"
    }
   }
  },
  {
   "cell_type": "markdown",
   "source": [
    "<span style=\"color: blue;font-size: 50px\">####</span>"
   ],
   "metadata": {
    "collapsed": false,
    "pycharm": {
     "name": "#%% md\n"
    }
   }
  },
  {
   "cell_type": "markdown",
   "source": [
    "<span style=\"color: yellow;font-size: 50px\">DT</span>\n"
   ],
   "metadata": {
    "collapsed": false,
    "pycharm": {
     "name": "#%% md\n"
    }
   }
  },
  {
   "cell_type": "code",
   "execution_count": 19,
   "outputs": [],
   "source": [],
   "metadata": {
    "collapsed": false,
    "pycharm": {
     "name": "#%%\n"
    }
   }
  },
  {
   "cell_type": "code",
   "execution_count": 9,
   "outputs": [
    {
     "data": {
      "text/plain": "      value_approx  is_electric  bicycle_type  is_recover  seasons  purpose  \\\n0                3            2             0           0        1        0   \n1                4            2             1           0        2        1   \n2                4            0             0           0        1        0   \n4                3            0             3           0        2        1   \n5                3            0             0           0        2        0   \n...            ...          ...           ...         ...      ...      ...   \n1719             2            0             2           0        1        1   \n1729             1            0             1           0        1        0   \n1742             4            0             3           0        1        0   \n1746             2            0             2           0        1        1   \n1818             2            0             3           0        1        1   \n\n      age_groups  gender  income  nm_bikes  education  country  is_replaced  \\\n0              7       0       1         1          1        0            0   \n1              7       1       1         3          2        1            0   \n2              7       1       5         2          5        1            0   \n4              7       1       5         2          5        1            0   \n5              7       1       3         2          5        1            1   \n...          ...     ...     ...       ...        ...      ...          ...   \n1719           7       1       3         0          2        1            2   \n1729           7       0       1         1          1        1            0   \n1742           7       1       7         2          4        1            0   \n1746           7       0       7         1          4        1            2   \n1818           7       0       0         2          5        1            1   \n\n      mode_alt  post_act  \n0            0         3  \n1            1         2  \n2            1         2  \n4            2         2  \n5            1         2  \n...        ...       ...  \n1719         1         1  \n1729         0         1  \n1742         0         1  \n1746         2         1  \n1818         1         1  \n\n[1371 rows x 15 columns]",
      "text/html": "<div>\n<style scoped>\n    .dataframe tbody tr th:only-of-type {\n        vertical-align: middle;\n    }\n\n    .dataframe tbody tr th {\n        vertical-align: top;\n    }\n\n    .dataframe thead th {\n        text-align: right;\n    }\n</style>\n<table border=\"1\" class=\"dataframe\">\n  <thead>\n    <tr style=\"text-align: right;\">\n      <th></th>\n      <th>value_approx</th>\n      <th>is_electric</th>\n      <th>bicycle_type</th>\n      <th>is_recover</th>\n      <th>seasons</th>\n      <th>purpose</th>\n      <th>age_groups</th>\n      <th>gender</th>\n      <th>income</th>\n      <th>nm_bikes</th>\n      <th>education</th>\n      <th>country</th>\n      <th>is_replaced</th>\n      <th>mode_alt</th>\n      <th>post_act</th>\n    </tr>\n  </thead>\n  <tbody>\n    <tr>\n      <th>0</th>\n      <td>3</td>\n      <td>2</td>\n      <td>0</td>\n      <td>0</td>\n      <td>1</td>\n      <td>0</td>\n      <td>7</td>\n      <td>0</td>\n      <td>1</td>\n      <td>1</td>\n      <td>1</td>\n      <td>0</td>\n      <td>0</td>\n      <td>0</td>\n      <td>3</td>\n    </tr>\n    <tr>\n      <th>1</th>\n      <td>4</td>\n      <td>2</td>\n      <td>1</td>\n      <td>0</td>\n      <td>2</td>\n      <td>1</td>\n      <td>7</td>\n      <td>1</td>\n      <td>1</td>\n      <td>3</td>\n      <td>2</td>\n      <td>1</td>\n      <td>0</td>\n      <td>1</td>\n      <td>2</td>\n    </tr>\n    <tr>\n      <th>2</th>\n      <td>4</td>\n      <td>0</td>\n      <td>0</td>\n      <td>0</td>\n      <td>1</td>\n      <td>0</td>\n      <td>7</td>\n      <td>1</td>\n      <td>5</td>\n      <td>2</td>\n      <td>5</td>\n      <td>1</td>\n      <td>0</td>\n      <td>1</td>\n      <td>2</td>\n    </tr>\n    <tr>\n      <th>4</th>\n      <td>3</td>\n      <td>0</td>\n      <td>3</td>\n      <td>0</td>\n      <td>2</td>\n      <td>1</td>\n      <td>7</td>\n      <td>1</td>\n      <td>5</td>\n      <td>2</td>\n      <td>5</td>\n      <td>1</td>\n      <td>0</td>\n      <td>2</td>\n      <td>2</td>\n    </tr>\n    <tr>\n      <th>5</th>\n      <td>3</td>\n      <td>0</td>\n      <td>0</td>\n      <td>0</td>\n      <td>2</td>\n      <td>0</td>\n      <td>7</td>\n      <td>1</td>\n      <td>3</td>\n      <td>2</td>\n      <td>5</td>\n      <td>1</td>\n      <td>1</td>\n      <td>1</td>\n      <td>2</td>\n    </tr>\n    <tr>\n      <th>...</th>\n      <td>...</td>\n      <td>...</td>\n      <td>...</td>\n      <td>...</td>\n      <td>...</td>\n      <td>...</td>\n      <td>...</td>\n      <td>...</td>\n      <td>...</td>\n      <td>...</td>\n      <td>...</td>\n      <td>...</td>\n      <td>...</td>\n      <td>...</td>\n      <td>...</td>\n    </tr>\n    <tr>\n      <th>1719</th>\n      <td>2</td>\n      <td>0</td>\n      <td>2</td>\n      <td>0</td>\n      <td>1</td>\n      <td>1</td>\n      <td>7</td>\n      <td>1</td>\n      <td>3</td>\n      <td>0</td>\n      <td>2</td>\n      <td>1</td>\n      <td>2</td>\n      <td>1</td>\n      <td>1</td>\n    </tr>\n    <tr>\n      <th>1729</th>\n      <td>1</td>\n      <td>0</td>\n      <td>1</td>\n      <td>0</td>\n      <td>1</td>\n      <td>0</td>\n      <td>7</td>\n      <td>0</td>\n      <td>1</td>\n      <td>1</td>\n      <td>1</td>\n      <td>1</td>\n      <td>0</td>\n      <td>0</td>\n      <td>1</td>\n    </tr>\n    <tr>\n      <th>1742</th>\n      <td>4</td>\n      <td>0</td>\n      <td>3</td>\n      <td>0</td>\n      <td>1</td>\n      <td>0</td>\n      <td>7</td>\n      <td>1</td>\n      <td>7</td>\n      <td>2</td>\n      <td>4</td>\n      <td>1</td>\n      <td>0</td>\n      <td>0</td>\n      <td>1</td>\n    </tr>\n    <tr>\n      <th>1746</th>\n      <td>2</td>\n      <td>0</td>\n      <td>2</td>\n      <td>0</td>\n      <td>1</td>\n      <td>1</td>\n      <td>7</td>\n      <td>0</td>\n      <td>7</td>\n      <td>1</td>\n      <td>4</td>\n      <td>1</td>\n      <td>2</td>\n      <td>2</td>\n      <td>1</td>\n    </tr>\n    <tr>\n      <th>1818</th>\n      <td>2</td>\n      <td>0</td>\n      <td>3</td>\n      <td>0</td>\n      <td>1</td>\n      <td>1</td>\n      <td>7</td>\n      <td>0</td>\n      <td>0</td>\n      <td>2</td>\n      <td>5</td>\n      <td>1</td>\n      <td>1</td>\n      <td>1</td>\n      <td>1</td>\n    </tr>\n  </tbody>\n</table>\n<p>1371 rows × 15 columns</p>\n</div>"
     },
     "execution_count": 9,
     "metadata": {},
     "output_type": "execute_result"
    }
   ],
   "source": [
    "# Delete the Null rows\n",
    "dt_df= merge_q.dropna().drop(columns='Unnamed: 0')\n",
    "# From categories to values based on the order specified in @more_data var.\n",
    "def to_ordinal_dt(col):\n",
    "    # This function gets a column and return for each value its ordinal values as it stored in @more_data (for irrelevant data return -1)\n",
    "    return dt_df[col.name].apply(lambda x:more_data[col.name][0].index(x) if x not in ['I prefer to not answer','Don’t know/not sure'] else -1 )\n",
    "data_as_ordinal_dt_0 = dt_df.apply(to_ordinal_dt)\n",
    "# Remove rows with 'I prefer to not answer' and 'Don’t know/not sure'\n",
    "data_as_ordinal_dt =data_as_ordinal_dt_0[~(data_as_ordinal_dt_0 == -1).any(axis=1)]\n",
    "\n",
    "data_as_ordinal_dt"
   ],
   "metadata": {
    "collapsed": false,
    "pycharm": {
     "name": "#%%\n"
    }
   }
  },
  {
   "cell_type": "code",
   "execution_count": 10,
   "outputs": [],
   "source": [
    "\n",
    "\n",
    "\n",
    "def find_sample(x):\n",
    "    \"\"\"\n",
    "    the code search for the leaf under the current node and then return one of its sample\n",
    "    :param x:\n",
    "    :return:\n",
    "    \"\"\"\n",
    "    y = clf.tree_.children_right[x]\n",
    "    if y == -1 & clf.tree_.children_left[x] == -1:\n",
    "        return features[leaf_id == x][0]\n",
    "    else:\n",
    "        return find_sample(y)"
   ],
   "metadata": {
    "collapsed": false,
    "pycharm": {
     "name": "#%%\n"
    }
   }
  },
  {
   "cell_type": "code",
   "execution_count": 11,
   "outputs": [],
   "source": [
    "\n",
    "def fill_path(row):\n",
    "    # get all the nodes from for a certain path\n",
    "\n",
    "    parents_node = []\n",
    "    node_id  =int(row['node_id'])\n",
    "    i = node_id\n",
    "    while i != 0:\n",
    "        parents_node.append(parent_nodes[i])\n",
    "        i = parent_nodes[i]\n",
    "    parents_node.reverse()\n",
    "    # find one representative sample\n",
    "    b = find_sample(node_id)\n",
    "    path_node = []\n",
    "    j = 0\n",
    "    for i in parents_node:\n",
    "        feat_i = clf.tree_.feature[i]\n",
    "        feat = cols_dt[feat_i]\n",
    "        threshold = clf.tree_.threshold[i]\n",
    "        if b[feat_i] <= threshold:\n",
    "            threshold_sign = \"<=\"\n",
    "        else:\n",
    "            threshold_sign = \">\"\n",
    "        path_node.append(f'{j}:{feat} {threshold_sign} {threshold:.4f}')\n",
    "        j += 1\n",
    "    path_node.append(\n",
    "        f'value:{(clf.tree_.value[node_id]/max_data*100).round(0)} samples:{clf.tree_.n_node_samples[node_id]}, impurity:{clf.tree_.impurity[node_id]:.3f}')\n",
    "    paths_nodes[node_id] = path_node\n"
   ],
   "metadata": {
    "collapsed": false,
    "pycharm": {
     "name": "#%%\n"
    }
   }
  },
  {
   "cell_type": "code",
   "execution_count": 13,
   "outputs": [
    {
     "name": "stdout",
     "output_type": "stream",
     "text": [
      "is_replaced\n",
      "[['\\u200bYes, and I replaced it with exactly what was stolen or something more expensive', 'Yes, but the replacement was something cheaper', 'No'], False]\n",
      "    feature_importance features_name\n",
      "3                 21.0    is_recover\n",
      "8                 17.0        income\n",
      "6                 11.7    age_groups\n",
      "5                 10.0       purpose\n",
      "10                 7.1     education\n",
      "9                  6.7      nm_bikes\n",
      "4                  6.1       seasons\n",
      "7                  5.3        gender\n",
      "2                  4.9  bicycle_type\n",
      "0                  4.4  value_approx\n",
      "1                  3.8   is_electric\n",
      "11                 2.0       country\n",
      "{19: ['0:is_recover <= 0.5000', '1:income <= 1.5000', '2:purpose > 0.5000', '3:is_electric <= 0.5000', 'value:[[ 3. 17.  0.]] samples:71, impurity:0.349'], 20: ['0:is_recover <= 0.5000', '1:income <= 1.5000', '2:purpose > 0.5000', '3:is_electric <= 0.5000', '4:nm_bikes <= 3.5000', 'value:[[ 2. 16.  0.]] samples:66, impurity:0.316']}\n",
      "mode_alt\n",
      "[['Didn’t make those trips', 'not active', 'active', 'Don’t know/not sure'], False]\n",
      "    feature_importance features_name\n",
      "4                 14.3       seasons\n",
      "5                 14.2       purpose\n",
      "0                 12.4  value_approx\n",
      "9                 10.5      nm_bikes\n",
      "6                 10.4    age_groups\n",
      "8                  8.6        income\n",
      "1                  7.9   is_electric\n",
      "10                 5.5     education\n",
      "2                  5.4  bicycle_type\n",
      "3                  4.0    is_recover\n",
      "11                 4.0       country\n",
      "7                  2.8        gender\n",
      "{75: ['0:seasons <= 1.5000', '1:purpose > 0.5000', '2:nm_bikes <= 2.5000', '3:age_groups > 2.5000', '4:country > 0.5000', '5:education <= 4.5000', 'value:[[ 2. 19.  6.]] samples:169, impurity:0.330'], 76: ['0:seasons <= 1.5000', '1:purpose > 0.5000', '2:nm_bikes <= 2.5000', '3:age_groups > 2.5000', '4:country > 0.5000', '5:education <= 4.5000', '6:value_approx <= 4.5000', 'value:[[ 2. 19.  5.]] samples:163, impurity:0.316']}\n",
      "post_act\n",
      "[['I stopped cycling', 'Less often', 'About the same / no change', 'More often'], False]\n",
      "    feature_importance features_name\n",
      "4                 25.6       seasons\n",
      "9                 11.5      nm_bikes\n",
      "0                 10.1  value_approx\n",
      "8                 10.0        income\n",
      "6                  9.8    age_groups\n",
      "2                  9.7  bicycle_type\n",
      "5                  5.5       purpose\n",
      "10                 5.0     education\n",
      "3                  3.5    is_recover\n",
      "1                  3.4   is_electric\n",
      "11                 3.2       country\n",
      "7                  2.9        gender\n",
      "{104: ['0:seasons > 1.5000', '1:is_recover <= 0.5000', '2:bicycle_type <= 7.0000', '3:gender > 0.5000', 'value:[[ 4.  8. 22. 10.]] samples:193, impurity:0.355'], 110: ['0:seasons > 1.5000', '1:is_recover <= 0.5000', '2:bicycle_type <= 7.0000', '3:gender > 0.5000', '4:value_approx > 0.5000', 'value:[[ 4.  7. 22. 10.]] samples:185, impurity:0.339'], 111: ['0:seasons > 1.5000', '1:is_recover <= 0.5000', '2:bicycle_type <= 7.0000', '3:gender > 0.5000', '4:value_approx > 0.5000', '5:age_groups <= 6.5000', 'value:[[ 4.  5. 20. 10.]] samples:164, impurity:0.317'], 113: ['0:seasons > 1.5000', '1:is_recover <= 0.5000', '2:bicycle_type <= 7.0000', '3:gender > 0.5000', '4:value_approx > 0.5000', '5:age_groups <= 6.5000', '6:education > 3.5000', 'value:[[ 4.  5. 17. 10.]] samples:144, impurity:0.353'], 138: ['0:seasons > 1.5000', '1:is_recover > 0.5000', 'value:[[0. 1. 8. 5.]] samples:60, impurity:0.213'], 146: ['0:seasons > 1.5000', '1:is_recover > 0.5000', '2:income > 1.5000', 'value:[[0. 0. 7. 3.]] samples:51, impurity:0.111']}\n"
     ]
    }
   ],
   "source": [
    "from sklearn.tree import DecisionTreeClassifier\n",
    "# Create a Decision Tree classifier for each the three questions which are around post activity\n",
    "for p in range(-3,0):\n",
    "    # For some dependent variables number of bike = 0 is not relevant\n",
    "    if p==-3 or p==-1:\n",
    "        data_as_ordinal_model = data_as_ordinal_dt[data_as_ordinal_dt['nm_bikes']>0]\n",
    "    else:\n",
    "        data_as_ordinal_model = data_as_ordinal_dt\n",
    "    clf = DecisionTreeClassifier(max_depth=7)\n",
    "    cols_dt = data_as_ordinal_model .columns\n",
    "    col_name = cols_dt[p]\n",
    "    print(col_name)\n",
    "    print(more_data[col_name])\n",
    "    features = data_as_ordinal_model [cols_dt[:-3]].to_numpy()\n",
    "    labels = data_as_ordinal_model[col_name].to_numpy()\n",
    "    # Build the classifier on the data\n",
    "    _ =clf.fit(features, labels)\n",
    "\n",
    "    # feature_importance (the results are not so encouraging)\n",
    "    new_df = DataFrame(data={'feature_importance':clf.feature_importances_.round(3)*100,'features_name':cols_dt[:-3]}).sort_values('feature_importance',ascending=0)\n",
    "    print(new_df)\n",
    "    paths_nodes = {}\n",
    "    max_data = clf.tree_.value[0]\n",
    "    leaf_id = clf.apply(features)\n",
    "    # Create a list so that each node has its parent id\n",
    "    left_children = clf.tree_.children_left\n",
    "    right_children = clf.tree_.children_right\n",
    "    parent_nodes = [None] * clf.tree_.node_count\n",
    "\n",
    "    for i in range(clf.tree_.node_count):\n",
    "        if left_children[i] != -1:\n",
    "            parent_nodes[left_children[i]] = i\n",
    "        if right_children[i] != -1:\n",
    "            parent_nodes[right_children[i]] = i\n",
    "\n",
    "    # Get paths to nodes with at least x samples and square error less than y\n",
    "    rel_nodes_list = {}\n",
    "    node_count = clf.tree_.node_count\n",
    "    for node_id in range(node_count):\n",
    "        if clf.tree_.n_node_samples[node_id] >= 50 and clf.tree_.impurity[node_id] < 0.4 :\n",
    "            rel_nodes_list[node_id] =[clf.tree_.value[node_id],clf.tree_.n_node_samples[node_id],clf.tree_.impurity[node_id]]\n",
    "\n",
    "    # save the data into dateframe\n",
    "    rel_nodes_list_df = DataFrame.from_dict(rel_nodes_list,orient = 'index' ,columns=['value','n_node_samples','impurity'])\n",
    "    rel_nodes_list_df = rel_nodes_list_df.reset_index().rename(columns={'index': 'node_id'})\n",
    "    _ = rel_nodes_list_df.apply(lambda x: fill_path(x),axis= 1)\n",
    "    print(paths_nodes)"
   ],
   "metadata": {
    "collapsed": false,
    "pycharm": {
     "name": "#%%\n"
    }
   }
  },
  {
   "cell_type": "code",
   "execution_count": 149,
   "outputs": [
    {
     "data": {
      "text/plain": "{'value_approx': [['Less than $250',\n   '$250-$499',\n   '$500-$999',\n   '$1000-$1999',\n   '$2000-3999',\n   '$4000-6999',\n   '$7000 or more',\n   'Don’t know/not sure',\n   'I prefer to not answer'],\n  False],\n 'is_electric': [['\\u200bNo',\n   'Yes, with pedal-assist',\n   'Yes, with pedal-assist and throttle'],\n  False],\n 'bicycle_type': [['Road',\n   'Cruiser',\n   'Hybrid/City/Dutch',\n   'Mountain',\n   'Folding',\n   'Recumbent',\n   'Gravel/cyclocross',\n   'Don’t know/not sure',\n   'Delivery/Cargo',\n   'Tricycle or quadricycle',\n   'BMX',\n   'Fixed gear',\n   'Tandem'],\n  ['Hybrid/City/Dutch', 'Mountain', 'Road', 'Gravel/cyclocross']],\n 'is_recover': [['No', 'Yes'], False],\n 'seasons': [range(0, 3), False],\n 'purpose': [['Recreation or exercise',\n   'Equal mix of recreation, exercise, and transportation trips',\n   'Transportation',\n   'Don’t know/not sure'],\n  False],\n 'age_groups': [['Children (<13)',\n   'Adolescents (13-17)',\n   'Young adults (18-24)',\n   'Adults (25-34)',\n   'Adults (35-44)',\n   'Adults (45-54)',\n   'Adults (55-64)',\n   'Older adults (>64)'],\n  False],\n 'gender': [['Woman', 'Man', 'Non-binary / third gender', 'Prefer not to say'],\n  False],\n 'income': [['Under $20,000 per year',\n   'Between $20,000 and $34,999 per year',\n   'Between $35,000 and $49,999 per year',\n   'Between $50,000 and $74,999 per year',\n   'Between $75,000 and $99,999 per year',\n   'Between $100,000 and $149,999 per year',\n   'Between $150,000 and $199,999 per year',\n   '$200,000 or more per year',\n   'I prefer to not answer',\n   'Don’t know/not sure'],\n  False],\n 'nm_bikes': [['Zero',\n   'One',\n   'Two',\n   'Three',\n   'Four',\n   'Five or more',\n   'I prefer to not answer'],\n  False],\n 'education': [['Some high school or less',\n   'Graduated high school',\n   'Some university',\n   'Associate’s/vocational/technical\\u202fdegree',\n   'Bachelor’s degree',\n   'Graduate degree',\n   'I prefer to not answer'],\n  False],\n 'country': [['CAN', 'USA'], False],\n 'is_replaced': [['\\u200bYes, and I replaced it with exactly what was stolen or something more expensive',\n   'Yes, but the replacement was something cheaper',\n   'No'],\n  False],\n 'mode_alt': [['Didn’t make those trips',\n   'not active',\n   'active',\n   'Don’t know/not sure'],\n  False],\n 'post_act': [['I stopped cycling',\n   'Less often',\n   'About the same / no change',\n   'More often'],\n  False]}"
     },
     "execution_count": 149,
     "metadata": {},
     "output_type": "execute_result"
    }
   ],
   "source": [
    "more_data"
   ],
   "metadata": {
    "collapsed": false,
    "pycharm": {
     "name": "#%%\n"
    }
   }
  },
  {
   "cell_type": "markdown",
   "source": [
    "<span style=\"color:orange;font-size: 25px\">LogisticRegression</span>"
   ],
   "metadata": {
    "collapsed": false,
    "pycharm": {
     "name": "#%% md\n"
    }
   }
  },
  {
   "cell_type": "code",
   "execution_count": null,
   "outputs": [],
   "source": [],
   "metadata": {
    "collapsed": false,
    "pycharm": {
     "name": "#%%\n"
    }
   }
  },
  {
   "cell_type": "code",
   "execution_count": 14,
   "outputs": [
    {
     "name": "stdout",
     "output_type": "stream",
     "text": [
      "is_replaced\n",
      "[['\\u200bYes, and I replaced it with exactly what was stolen or something more expensive', 'Yes, but the replacement was something cheaper', 'No'], False]\n",
      "Optimization terminated successfully.\n",
      "         Current function value: 0.930361\n",
      "         Iterations 6\n",
      "                          MNLogit Regression Results                          \n",
      "==============================================================================\n",
      "Dep. Variable:            is_replaced   No. Observations:                 1371\n",
      "Model:                        MNLogit   Df Residuals:                     1345\n",
      "Method:                           MLE   Df Model:                           24\n",
      "Date:                Thu, 10 Aug 2023   Pseudo R-squ.:                  0.1245\n",
      "Time:                        11:52:23   Log-Likelihood:                -1275.5\n",
      "converged:                       True   LL-Null:                       -1456.8\n",
      "Covariance Type:            nonrobust   LLR p-value:                 3.353e-62\n",
      "=================================================================================\n",
      "is_replaced=1       coef    std err          z      P>|z|      [0.025      0.975]\n",
      "---------------------------------------------------------------------------------\n",
      "const             1.2966      0.419      3.094      0.002       0.475       2.118\n",
      "value_approx     -0.0703      0.055     -1.271      0.204      -0.179       0.038\n",
      "is_electric      -0.3618      0.159     -2.279      0.023      -0.673      -0.051\n",
      "bicycle_type     -0.0331      0.031     -1.076      0.282      -0.094       0.027\n",
      "is_recover       -0.4642      0.256     -1.814      0.070      -0.966       0.037\n",
      "seasons          -0.1919      0.131     -1.469      0.142      -0.448       0.064\n",
      "purpose           0.2276      0.092      2.461      0.014       0.046       0.409\n",
      "age_groups       -0.0655      0.057     -1.153      0.249      -0.177       0.046\n",
      "gender            0.0564      0.126      0.446      0.655      -0.191       0.304\n",
      "income           -0.1862      0.037     -5.090      0.000      -0.258      -0.115\n",
      "nm_bikes         -0.0085      0.057     -0.150      0.881      -0.119       0.102\n",
      "education        -0.0766      0.065     -1.172      0.241      -0.205       0.052\n",
      "country          -0.1479      0.187     -0.790      0.430      -0.515       0.219\n",
      "---------------------------------------------------------------------------------\n",
      "is_replaced=2       coef    std err          z      P>|z|      [0.025      0.975]\n",
      "---------------------------------------------------------------------------------\n",
      "const             1.9024      0.423      4.494      0.000       1.073       2.732\n",
      "value_approx     -0.0765      0.058     -1.329      0.184      -0.189       0.036\n",
      "is_electric       0.0561      0.137      0.408      0.683      -0.213       0.325\n",
      "bicycle_type      0.0400      0.030      1.313      0.189      -0.020       0.100\n",
      "is_recover        1.8534      0.199      9.305      0.000       1.463       2.244\n",
      "seasons          -0.8195      0.133     -6.156      0.000      -1.080      -0.559\n",
      "purpose          -0.0595      0.093     -0.638      0.523      -0.242       0.123\n",
      "age_groups        0.0016      0.057      0.029      0.977      -0.109       0.112\n",
      "gender            0.3430      0.127      2.699      0.007       0.094       0.592\n",
      "income           -0.0968      0.037     -2.616      0.009      -0.169      -0.024\n",
      "nm_bikes         -0.5255      0.069     -7.609      0.000      -0.661      -0.390\n",
      "education        -0.1315      0.067     -1.976      0.048      -0.262      -0.001\n",
      "country          -0.0040      0.189     -0.021      0.983      -0.374       0.366\n",
      "=================================================================================\n",
      "mode_alt\n",
      "[['Didn’t make those trips', 'not active', 'active', 'Don’t know/not sure'], False]\n",
      "Optimization terminated successfully.\n",
      "         Current function value: 0.875458\n",
      "         Iterations 7\n",
      "                          MNLogit Regression Results                          \n",
      "==============================================================================\n",
      "Dep. Variable:               mode_alt   No. Observations:                 1371\n",
      "Model:                        MNLogit   Df Residuals:                     1345\n",
      "Method:                           MLE   Df Model:                           24\n",
      "Date:                Thu, 10 Aug 2023   Pseudo R-squ.:                  0.1019\n",
      "Time:                        11:52:23   Log-Likelihood:                -1200.3\n",
      "converged:                       True   LL-Null:                       -1336.4\n",
      "Covariance Type:            nonrobust   LLR p-value:                 5.791e-44\n",
      "================================================================================\n",
      "  mode_alt=1       coef    std err          z      P>|z|      [0.025      0.975]\n",
      "--------------------------------------------------------------------------------\n",
      "const            1.0335      0.544      1.900      0.057      -0.033       2.100\n",
      "value_approx    -0.0037      0.066     -0.055      0.956      -0.134       0.126\n",
      "is_electric      0.1228      0.218      0.563      0.573      -0.304       0.550\n",
      "bicycle_type     0.0498      0.044      1.133      0.257      -0.036       0.136\n",
      "is_recover       0.1279      0.271      0.473      0.636      -0.403       0.658\n",
      "seasons         -0.3081      0.179     -1.723      0.085      -0.659       0.042\n",
      "purpose          1.6477      0.176      9.336      0.000       1.302       1.994\n",
      "age_groups       0.1082      0.072      1.506      0.132      -0.033       0.249\n",
      "gender           0.0831      0.166      0.502      0.616      -0.242       0.408\n",
      "income          -0.0442      0.050     -0.888      0.375      -0.142       0.053\n",
      "nm_bikes        -0.0204      0.075     -0.272      0.786      -0.167       0.126\n",
      "education       -0.1253      0.092     -1.363      0.173      -0.306       0.055\n",
      "country         -0.1253      0.249     -0.503      0.615      -0.613       0.363\n",
      "--------------------------------------------------------------------------------\n",
      "  mode_alt=2       coef    std err          z      P>|z|      [0.025      0.975]\n",
      "--------------------------------------------------------------------------------\n",
      "const           -0.2432      0.569     -0.428      0.669      -1.357       0.871\n",
      "value_approx    -0.0481      0.070     -0.689      0.491      -0.185       0.089\n",
      "is_electric     -0.2146      0.233     -0.923      0.356      -0.670       0.241\n",
      "bicycle_type     0.0398      0.046      0.875      0.382      -0.049       0.129\n",
      "is_recover       0.6209      0.272      2.283      0.022       0.088       1.154\n",
      "seasons          0.5418      0.187      2.903      0.004       0.176       0.908\n",
      "purpose          1.5681      0.180      8.709      0.000       1.215       1.921\n",
      "age_groups       0.1633      0.075      2.190      0.028       0.017       0.309\n",
      "gender          -0.0228      0.173     -0.131      0.895      -0.363       0.317\n",
      "income          -0.0796      0.052     -1.542      0.123      -0.181       0.022\n",
      "nm_bikes         0.0235      0.077      0.304      0.761      -0.128       0.175\n",
      "education       -0.0975      0.096     -1.018      0.309      -0.285       0.090\n",
      "country         -0.2386      0.257     -0.928      0.353      -0.742       0.265\n",
      "================================================================================\n",
      "post_act\n",
      "[['I stopped cycling', 'Less often', 'About the same / no change', 'More often'], False]\n",
      "Optimization terminated successfully.\n",
      "         Current function value: 0.936427\n",
      "         Iterations 8\n",
      "                          MNLogit Regression Results                          \n",
      "==============================================================================\n",
      "Dep. Variable:               post_act   No. Observations:                 1371\n",
      "Model:                        MNLogit   Df Residuals:                     1332\n",
      "Method:                           MLE   Df Model:                           36\n",
      "Date:                Thu, 10 Aug 2023   Pseudo R-squ.:                  0.1920\n",
      "Time:                        11:52:23   Log-Likelihood:                -1283.8\n",
      "converged:                       True   LL-Null:                       -1588.9\n",
      "Covariance Type:            nonrobust   LLR p-value:                1.632e-105\n",
      "================================================================================\n",
      "  post_act=1       coef    std err          z      P>|z|      [0.025      0.975]\n",
      "--------------------------------------------------------------------------------\n",
      "const           -1.6423      0.610     -2.690      0.007      -2.839      -0.446\n",
      "value_approx    -0.2189      0.088     -2.482      0.013      -0.392      -0.046\n",
      "is_electric     -0.0816      0.207     -0.395      0.693      -0.487       0.324\n",
      "bicycle_type    -0.0615      0.045     -1.354      0.176      -0.151       0.028\n",
      "is_recover       0.4988      0.429      1.163      0.245      -0.342       1.339\n",
      "seasons          0.8995      0.194      4.640      0.000       0.520       1.279\n",
      "purpose          0.2242      0.135      1.655      0.098      -0.041       0.490\n",
      "age_groups       0.1205      0.085      1.419      0.156      -0.046       0.287\n",
      "gender          -0.1379      0.180     -0.766      0.444      -0.491       0.215\n",
      "income           0.0911      0.052      1.743      0.081      -0.011       0.194\n",
      "nm_bikes         1.6431      0.168      9.755      0.000       1.313       1.973\n",
      "education       -0.0986      0.094     -1.043      0.297      -0.284       0.087\n",
      "country          0.1481      0.269      0.551      0.582      -0.379       0.675\n",
      "--------------------------------------------------------------------------------\n",
      "  post_act=2       coef    std err          z      P>|z|      [0.025      0.975]\n",
      "--------------------------------------------------------------------------------\n",
      "const           -3.6421      0.639     -5.703      0.000      -4.894      -2.390\n",
      "value_approx    -0.2183      0.090     -2.436      0.015      -0.394      -0.043\n",
      "is_electric     -0.2749      0.215     -1.278      0.201      -0.696       0.147\n",
      "bicycle_type    -0.0847      0.047     -1.815      0.070      -0.176       0.007\n",
      "is_recover       1.2632      0.423      2.986      0.003       0.434       2.092\n",
      "seasons          1.9139      0.207      9.247      0.000       1.508       2.320\n",
      "purpose          0.1328      0.139      0.954      0.340      -0.140       0.406\n",
      "age_groups       0.0754      0.088      0.861      0.389      -0.096       0.247\n",
      "gender           0.1429      0.184      0.777      0.437      -0.218       0.504\n",
      "income           0.1464      0.054      2.718      0.007       0.041       0.252\n",
      "nm_bikes         1.8995      0.170     11.171      0.000       1.566       2.233\n",
      "education        0.0354      0.098      0.363      0.717      -0.156       0.227\n",
      "country          0.1961      0.277      0.708      0.479      -0.347       0.739\n",
      "--------------------------------------------------------------------------------\n",
      "  post_act=3       coef    std err          z      P>|z|      [0.025      0.975]\n",
      "--------------------------------------------------------------------------------\n",
      "const           -3.1187      0.834     -3.738      0.000      -4.754      -1.484\n",
      "value_approx    -0.3299      0.118     -2.803      0.005      -0.561      -0.099\n",
      "is_electric      0.0662      0.281      0.236      0.814      -0.484       0.616\n",
      "bicycle_type    -0.0918      0.063     -1.459      0.144      -0.215       0.031\n",
      "is_recover       0.9012      0.500      1.801      0.072      -0.080       1.882\n",
      "seasons          1.5357      0.278      5.525      0.000       0.991       2.080\n",
      "purpose         -0.2049      0.190     -1.076      0.282      -0.578       0.168\n",
      "age_groups      -0.0816      0.118     -0.694      0.488      -0.312       0.149\n",
      "gender           0.2122      0.243      0.872      0.383      -0.265       0.689\n",
      "income           0.0201      0.072      0.280      0.780      -0.121       0.161\n",
      "nm_bikes         1.7465      0.189      9.238      0.000       1.376       2.117\n",
      "education        0.0114      0.130      0.087      0.930      -0.244       0.267\n",
      "country          0.3396      0.386      0.879      0.379      -0.418       1.097\n",
      "================================================================================\n"
     ]
    }
   ],
   "source": [
    "import statsmodels.api as sm\n",
    "for p in range(-3,0):\n",
    "    # For some dependent variables number of bike = 0 is not relevant\n",
    "    if p==-3 or p==-1:\n",
    "        data_as_ordinal_model = data_as_ordinal_dt[data_as_ordinal_dt['nm_bikes']>0]\n",
    "    else:\n",
    "        data_as_ordinal_model = data_as_ordinal_dt\n",
    "    cols_dt = data_as_ordinal_dt.columns\n",
    "    col_name = cols_dt[p]\n",
    "    print(col_name)\n",
    "    print(more_data[col_name])\n",
    "    X = data_as_ordinal_dt[cols_dt[:-3]]\n",
    "    y = data_as_ordinal_dt[col_name]\n",
    "    X = sm.add_constant(X)  # Add constant term\n",
    "    model = sm.MNLogit(y, X)\n",
    "    result = model.fit()\n",
    "    # Print summary with p-values\n",
    "    print(result.summary())"
   ],
   "metadata": {
    "collapsed": false,
    "pycharm": {
     "name": "#%%\n"
    }
   }
  },
  {
   "cell_type": "code",
   "execution_count": 7,
   "outputs": [
    {
     "name": "stdout",
     "output_type": "stream",
     "text": [
      "is_replaced\n",
      "[['\\u200bYes, and I replaced it with exactly what was stolen or something more expensive', 'Yes, but the replacement was something cheaper', 'No'], False]\n",
      "Coefficients for category 1:\n",
      "value_approx: 0.0675\n",
      "is_electric: 0.0403\n",
      "bicycle_type: 0.0014\n",
      "is_recover: -0.4972\n",
      "seasons: 0.2830\n",
      "purpose: -0.0610\n",
      "age_groups: 0.0197\n",
      "gender: -0.1315\n",
      "income: 0.0851\n",
      "nm_bikes: 0.0294\n",
      "education: 0.0751\n",
      "country: 0.0292\n",
      "Coefficients for category 2:\n",
      "value_approx: 0.0018\n",
      "is_electric: -0.3277\n",
      "bicycle_type: -0.0368\n",
      "is_recover: -0.9539\n",
      "seasons: 0.0512\n",
      "purpose: 0.1824\n",
      "age_groups: -0.0320\n",
      "gender: -0.0849\n",
      "income: -0.1002\n",
      "nm_bikes: -0.0027\n",
      "education: -0.0074\n",
      "country: -0.1230\n",
      "Coefficients for category 3:\n",
      "value_approx: -0.0693\n",
      "is_electric: 0.2874\n",
      "bicycle_type: 0.0355\n",
      "is_recover: 1.4511\n",
      "seasons: -0.3342\n",
      "purpose: -0.1213\n",
      "age_groups: 0.0123\n",
      "gender: 0.2164\n",
      "income: 0.0151\n",
      "nm_bikes: -0.0268\n",
      "education: -0.0677\n",
      "country: 0.0937\n",
      "mode_alt\n",
      "[['Didn’t make those trips', 'not active', 'active', 'Don’t know/not sure'], False]\n",
      "Coefficients for category 1:\n",
      "value_approx: 0.0262\n",
      "is_electric: 0.0062\n",
      "bicycle_type: -0.0295\n",
      "is_recover: -0.2734\n",
      "seasons: -0.1174\n",
      "purpose: -1.0494\n",
      "age_groups: -0.0938\n",
      "gender: -0.0743\n",
      "income: 0.0360\n",
      "nm_bikes: -0.0520\n",
      "education: 0.0562\n",
      "country: 0.1192\n",
      "Coefficients for category 2:\n",
      "value_approx: 0.0268\n",
      "is_electric: 0.1603\n",
      "bicycle_type: 0.0350\n",
      "is_recover: -0.1170\n",
      "seasons: -0.4493\n",
      "purpose: 0.5809\n",
      "age_groups: 0.0218\n",
      "gender: 0.1081\n",
      "income: -0.0102\n",
      "nm_bikes: -0.0063\n",
      "education: -0.0426\n",
      "country: 0.0080\n",
      "Coefficients for category 3:\n",
      "value_approx: -0.0530\n",
      "is_electric: -0.1666\n",
      "bicycle_type: -0.0055\n",
      "is_recover: 0.3904\n",
      "seasons: 0.5667\n",
      "purpose: 0.4686\n",
      "age_groups: 0.0720\n",
      "gender: -0.0338\n",
      "income: -0.0258\n",
      "nm_bikes: 0.0583\n",
      "education: -0.0135\n",
      "country: -0.1272\n",
      "post_act\n",
      "[['I stopped cycling', 'Less often', 'About the same / no change', 'More often'], False]\n",
      "Coefficients for category 1:\n",
      "value_approx: 0.1899\n",
      "is_electric: 0.0666\n",
      "bicycle_type: 0.0429\n",
      "is_recover: -0.6915\n",
      "seasons: -1.2943\n",
      "purpose: 0.1060\n",
      "age_groups: -0.1000\n",
      "gender: -0.0904\n",
      "income: -0.0609\n",
      "nm_bikes: -0.2752\n",
      "education: -0.0440\n",
      "country: -0.2653\n",
      "Coefficients for category 2:\n",
      "value_approx: -0.0355\n",
      "is_electric: 0.0008\n",
      "bicycle_type: 0.0055\n",
      "is_recover: -0.1253\n",
      "seasons: -0.1635\n",
      "purpose: 0.1389\n",
      "age_groups: 0.1199\n",
      "gender: -0.1784\n",
      "income: 0.0211\n",
      "nm_bikes: -0.0030\n",
      "education: -0.0511\n",
      "country: 0.0755\n",
      "Coefficients for category 3:\n",
      "value_approx: -0.0185\n",
      "is_electric: -0.2164\n",
      "bicycle_type: -0.0221\n",
      "is_recover: 0.5937\n",
      "seasons: 0.8999\n",
      "purpose: 0.0614\n",
      "age_groups: 0.0728\n",
      "gender: 0.0995\n",
      "income: 0.0815\n",
      "nm_bikes: 0.2169\n",
      "education: 0.0589\n",
      "country: 0.0493\n",
      "Coefficients for category 4:\n",
      "value_approx: -0.1359\n",
      "is_electric: 0.1490\n",
      "bicycle_type: -0.0263\n",
      "is_recover: 0.2231\n",
      "seasons: 0.5579\n",
      "purpose: -0.3063\n",
      "age_groups: -0.0928\n",
      "gender: 0.1693\n",
      "income: -0.0417\n",
      "nm_bikes: 0.0614\n",
      "education: 0.0362\n",
      "country: 0.1405\n"
     ]
    }
   ],
   "source": [
    "from sklearn.linear_model import LogisticRegression\n",
    "for p in range(-3,0):\n",
    "    if p==-3 or p==-1:\n",
    "        data_as_ordinal_dt = data_as_ordinal_dt[data_as_ordinal_dt['nm_bikes']>0]\n",
    "    model = LogisticRegression(multi_class='multinomial', solver='lbfgs', max_iter=1000)\n",
    "    cols_dt = data_as_ordinal_dt.columns\n",
    "    col_name = cols_dt[p]\n",
    "    print(col_name)\n",
    "    print(more_data[col_name])\n",
    "    features = data_as_ordinal_dt[cols_dt[:-3]].to_numpy()\n",
    "    labels = data_as_ordinal_dt[col_name].to_numpy()\n",
    "    # Build the classifier on the data\n",
    "    _ =model.fit(features, labels)\n",
    "    # Get the coefficients for each feature\n",
    "    coefficients = model.coef_\n",
    "    # Display coefficients and their corresponding feature names\n",
    "    feature_names = [\"Feature 1\", \"Feature 2\", \"Feature 3\"]  # Example feature names\n",
    "    for i, coef in enumerate(coefficients):\n",
    "        print(f\"Coefficients for category {i+1}:\")\n",
    "        for j, feature_coef in enumerate(coef):\n",
    "            print(f\"{cols_dt[j]}: {feature_coef:.4f}\")\n"
   ],
   "metadata": {
    "collapsed": false,
    "pycharm": {
     "name": "#%%\n"
    }
   }
  },
  {
   "cell_type": "markdown",
   "source": [
    "<span style=\"color:orange;font-size:25px\">###</span>"
   ],
   "metadata": {
    "collapsed": false,
    "pycharm": {
     "name": "#%% md\n"
    }
   }
  },
  {
   "cell_type": "markdown",
   "source": [
    "<span style=\"color: green;font-size: 50px\">More Classification</span>"
   ],
   "metadata": {
    "collapsed": false,
    "pycharm": {
     "name": "#%% md\n"
    }
   }
  },
  {
   "cell_type": "code",
   "execution_count": 34,
   "outputs": [],
   "source": [
    "# Read the social economic columns data\n",
    "ses_list = ['value_approx','income','nm_bikes','education']\n",
    "ses = data_as_ordinal[ses_list]\n",
    "# remove every row with null (-1)\n",
    "ses_final = ses[~ses.isin([-1]).any(axis=1)]"
   ],
   "metadata": {
    "collapsed": false,
    "pycharm": {
     "name": "#%%\n"
    }
   }
  },
  {
   "cell_type": "code",
   "execution_count": 36,
   "outputs": [
    {
     "data": {
      "text/plain": "       value_approx      income    nm_bikes   education  class\ncount    741.000000  741.000000  741.000000  741.000000  741.0\nmean       3.302294    5.987854    2.272605    4.522267    0.0\nstd        1.442729    1.082346    1.510743    0.575259    0.0\nmin        0.000000    3.000000    0.000000    2.000000    0.0\n25%        2.000000    5.000000    1.000000    4.000000    0.0\n50%        3.000000    6.000000    2.000000    5.000000    0.0\n75%        4.000000    7.000000    3.000000    5.000000    0.0\nmax        6.000000    7.000000    5.000000    5.000000    0.0",
      "text/html": "<div>\n<style scoped>\n    .dataframe tbody tr th:only-of-type {\n        vertical-align: middle;\n    }\n\n    .dataframe tbody tr th {\n        vertical-align: top;\n    }\n\n    .dataframe thead th {\n        text-align: right;\n    }\n</style>\n<table border=\"1\" class=\"dataframe\">\n  <thead>\n    <tr style=\"text-align: right;\">\n      <th></th>\n      <th>value_approx</th>\n      <th>income</th>\n      <th>nm_bikes</th>\n      <th>education</th>\n      <th>class</th>\n    </tr>\n  </thead>\n  <tbody>\n    <tr>\n      <th>count</th>\n      <td>741.000000</td>\n      <td>741.000000</td>\n      <td>741.000000</td>\n      <td>741.000000</td>\n      <td>741.0</td>\n    </tr>\n    <tr>\n      <th>mean</th>\n      <td>3.302294</td>\n      <td>5.987854</td>\n      <td>2.272605</td>\n      <td>4.522267</td>\n      <td>0.0</td>\n    </tr>\n    <tr>\n      <th>std</th>\n      <td>1.442729</td>\n      <td>1.082346</td>\n      <td>1.510743</td>\n      <td>0.575259</td>\n      <td>0.0</td>\n    </tr>\n    <tr>\n      <th>min</th>\n      <td>0.000000</td>\n      <td>3.000000</td>\n      <td>0.000000</td>\n      <td>2.000000</td>\n      <td>0.0</td>\n    </tr>\n    <tr>\n      <th>25%</th>\n      <td>2.000000</td>\n      <td>5.000000</td>\n      <td>1.000000</td>\n      <td>4.000000</td>\n      <td>0.0</td>\n    </tr>\n    <tr>\n      <th>50%</th>\n      <td>3.000000</td>\n      <td>6.000000</td>\n      <td>2.000000</td>\n      <td>5.000000</td>\n      <td>0.0</td>\n    </tr>\n    <tr>\n      <th>75%</th>\n      <td>4.000000</td>\n      <td>7.000000</td>\n      <td>3.000000</td>\n      <td>5.000000</td>\n      <td>0.0</td>\n    </tr>\n    <tr>\n      <th>max</th>\n      <td>6.000000</td>\n      <td>7.000000</td>\n      <td>5.000000</td>\n      <td>5.000000</td>\n      <td>0.0</td>\n    </tr>\n  </tbody>\n</table>\n</div>"
     },
     "execution_count": 36,
     "metadata": {},
     "output_type": "execute_result"
    },
    {
     "data": {
      "text/plain": "       value_approx      income    nm_bikes   education  class\ncount    585.000000  585.000000  585.000000  585.000000  585.0\nmean       2.420513    3.647863    1.664957    3.695726    1.0\nstd        1.360244    1.323820    1.262154    1.340772    0.0\nmin        0.000000    0.000000    0.000000    0.000000    1.0\n25%        1.000000    3.000000    1.000000    3.000000    1.0\n50%        2.000000    4.000000    1.000000    4.000000    1.0\n75%        3.000000    4.000000    2.000000    5.000000    1.0\nmax        6.000000    7.000000    5.000000    5.000000    1.0",
      "text/html": "<div>\n<style scoped>\n    .dataframe tbody tr th:only-of-type {\n        vertical-align: middle;\n    }\n\n    .dataframe tbody tr th {\n        vertical-align: top;\n    }\n\n    .dataframe thead th {\n        text-align: right;\n    }\n</style>\n<table border=\"1\" class=\"dataframe\">\n  <thead>\n    <tr style=\"text-align: right;\">\n      <th></th>\n      <th>value_approx</th>\n      <th>income</th>\n      <th>nm_bikes</th>\n      <th>education</th>\n      <th>class</th>\n    </tr>\n  </thead>\n  <tbody>\n    <tr>\n      <th>count</th>\n      <td>585.000000</td>\n      <td>585.000000</td>\n      <td>585.000000</td>\n      <td>585.000000</td>\n      <td>585.0</td>\n    </tr>\n    <tr>\n      <th>mean</th>\n      <td>2.420513</td>\n      <td>3.647863</td>\n      <td>1.664957</td>\n      <td>3.695726</td>\n      <td>1.0</td>\n    </tr>\n    <tr>\n      <th>std</th>\n      <td>1.360244</td>\n      <td>1.323820</td>\n      <td>1.262154</td>\n      <td>1.340772</td>\n      <td>0.0</td>\n    </tr>\n    <tr>\n      <th>min</th>\n      <td>0.000000</td>\n      <td>0.000000</td>\n      <td>0.000000</td>\n      <td>0.000000</td>\n      <td>1.0</td>\n    </tr>\n    <tr>\n      <th>25%</th>\n      <td>1.000000</td>\n      <td>3.000000</td>\n      <td>1.000000</td>\n      <td>3.000000</td>\n      <td>1.0</td>\n    </tr>\n    <tr>\n      <th>50%</th>\n      <td>2.000000</td>\n      <td>4.000000</td>\n      <td>1.000000</td>\n      <td>4.000000</td>\n      <td>1.0</td>\n    </tr>\n    <tr>\n      <th>75%</th>\n      <td>3.000000</td>\n      <td>4.000000</td>\n      <td>2.000000</td>\n      <td>5.000000</td>\n      <td>1.0</td>\n    </tr>\n    <tr>\n      <th>max</th>\n      <td>6.000000</td>\n      <td>7.000000</td>\n      <td>5.000000</td>\n      <td>5.000000</td>\n      <td>1.0</td>\n    </tr>\n  </tbody>\n</table>\n</div>"
     },
     "execution_count": 36,
     "metadata": {},
     "output_type": "execute_result"
    },
    {
     "data": {
      "text/plain": "       value_approx      income    nm_bikes   education  class\ncount    196.000000  196.000000  196.000000  196.000000  196.0\nmean       2.025510    0.795918    0.979592    3.443878    2.0\nstd        1.029992    0.729723    0.671464    1.359454    0.0\nmin        0.000000    0.000000    0.000000    0.000000    2.0\n25%        1.000000    0.000000    1.000000    3.000000    2.0\n50%        2.000000    1.000000    1.000000    4.000000    2.0\n75%        3.000000    1.000000    1.000000    4.000000    2.0\nmax        5.000000    2.000000    3.000000    5.000000    2.0",
      "text/html": "<div>\n<style scoped>\n    .dataframe tbody tr th:only-of-type {\n        vertical-align: middle;\n    }\n\n    .dataframe tbody tr th {\n        vertical-align: top;\n    }\n\n    .dataframe thead th {\n        text-align: right;\n    }\n</style>\n<table border=\"1\" class=\"dataframe\">\n  <thead>\n    <tr style=\"text-align: right;\">\n      <th></th>\n      <th>value_approx</th>\n      <th>income</th>\n      <th>nm_bikes</th>\n      <th>education</th>\n      <th>class</th>\n    </tr>\n  </thead>\n  <tbody>\n    <tr>\n      <th>count</th>\n      <td>196.000000</td>\n      <td>196.000000</td>\n      <td>196.000000</td>\n      <td>196.000000</td>\n      <td>196.0</td>\n    </tr>\n    <tr>\n      <th>mean</th>\n      <td>2.025510</td>\n      <td>0.795918</td>\n      <td>0.979592</td>\n      <td>3.443878</td>\n      <td>2.0</td>\n    </tr>\n    <tr>\n      <th>std</th>\n      <td>1.029992</td>\n      <td>0.729723</td>\n      <td>0.671464</td>\n      <td>1.359454</td>\n      <td>0.0</td>\n    </tr>\n    <tr>\n      <th>min</th>\n      <td>0.000000</td>\n      <td>0.000000</td>\n      <td>0.000000</td>\n      <td>0.000000</td>\n      <td>2.0</td>\n    </tr>\n    <tr>\n      <th>25%</th>\n      <td>1.000000</td>\n      <td>0.000000</td>\n      <td>1.000000</td>\n      <td>3.000000</td>\n      <td>2.0</td>\n    </tr>\n    <tr>\n      <th>50%</th>\n      <td>2.000000</td>\n      <td>1.000000</td>\n      <td>1.000000</td>\n      <td>4.000000</td>\n      <td>2.0</td>\n    </tr>\n    <tr>\n      <th>75%</th>\n      <td>3.000000</td>\n      <td>1.000000</td>\n      <td>1.000000</td>\n      <td>4.000000</td>\n      <td>2.0</td>\n    </tr>\n    <tr>\n      <th>max</th>\n      <td>5.000000</td>\n      <td>2.000000</td>\n      <td>3.000000</td>\n      <td>5.000000</td>\n      <td>2.0</td>\n    </tr>\n  </tbody>\n</table>\n</div>"
     },
     "execution_count": 36,
     "metadata": {},
     "output_type": "execute_result"
    }
   ],
   "source": [
    "from sklearn.cluster import AgglomerativeClustering\n",
    "n=3\n",
    "my_class = 'class'\n",
    "cluster = AgglomerativeClustering(n_clusters=n)\n",
    "ses_final[my_class] = cluster.fit_predict(ses_final.to_numpy())\n",
    "for x in range(n):\n",
    "    class_data = ses_final[ses_final[my_class] == x]\n",
    "    # show the mean for each group and for each season\n",
    "    class_data.describe()"
   ],
   "metadata": {
    "collapsed": false,
    "pycharm": {
     "name": "#%%\n"
    }
   }
  },
  {
   "cell_type": "code",
   "execution_count": 41,
   "outputs": [
    {
     "data": {
      "text/plain": "value_approx    3.055503\nincome          1.525642\nnm_bikes        1.651055\neducation       4.803332\nclass           2.000000\ndtype: float64"
     },
     "execution_count": 41,
     "metadata": {},
     "output_type": "execute_result"
    }
   ],
   "source": [
    "my_info = class_data.describe()\n",
    "my_mean = my_info.loc['mean']\n",
    "my_std = my_info.loc['std']\n",
    "my_min = my_mean- my_std\n",
    "my_max= my_mean+ my_std\n"
   ],
   "metadata": {
    "collapsed": false,
    "pycharm": {
     "name": "#%%\n"
    }
   }
  },
  {
   "cell_type": "code",
   "execution_count": 38,
   "outputs": [
    {
     "data": {
      "text/plain": "[['Some high school or less',\n  'Graduated high school',\n  'Some university',\n  'Associate’s/vocational/technical\\u202fdegree',\n  'Bachelor’s degree',\n  'Graduate degree',\n  'I prefer to not answer'],\n False]"
     },
     "execution_count": 38,
     "metadata": {},
     "output_type": "execute_result"
    }
   ],
   "source": [
    "more_data['education']"
   ],
   "metadata": {
    "collapsed": false,
    "pycharm": {
     "name": "#%%\n"
    }
   }
  },
  {
   "cell_type": "markdown",
   "source": [
    "<span style=\"color: green;font-size: 50px\">####</span>"
   ],
   "metadata": {
    "collapsed": false,
    "pycharm": {
     "name": "#%% md\n"
    }
   }
  },
  {
   "cell_type": "code",
   "execution_count": 8,
   "outputs": [],
   "source": [
    "\n",
    "class MyData:\n",
    "    \"\"\"\n",
    "   The class organizes and explores the data, allowing for the creation of cross-tabulations.\n",
    "    \"\"\"\n",
    "    def __init__(self, var_0, data, com_data):\n",
    "        \"\"\"\n",
    "\n",
    "        :param var_0: The main variable that should not be replaced frequently throughout the program.\n",
    "        :param data: Data frame\n",
    "        :param com_data: provides more information when necessary to create more adaptable analysis\n",
    "        \"\"\"\n",
    "        self.cols_name = [var_0,'']\n",
    "        self.merge_q= data\n",
    "        self.more_data = com_data\n",
    "        self.reindex_rows = self.more_data[var_0][0]\n",
    "\n",
    "    def explore_data(self,cross_tab= True):\n",
    "        r\"\"\"\n",
    "        Clean the data and print cross_tab if it is required\n",
    "        :param cross_tab:\n",
    "        :return:\n",
    "        \"\"\"\n",
    "        # Based on these variables, the analysis can be employed.\n",
    "        cross_cols_nm =self.cols_name\n",
    "        cls_to_use = self.more_data[cross_cols_nm[1]][1]\n",
    "        reindex_temp = self.more_data[cross_cols_nm[1]][0]\n",
    "        only_rel_f= self.merge_q[cross_cols_nm].dropna()\n",
    "        if cross_tab:\n",
    "            if cls_to_use:\n",
    "                only_rel_f = only_rel_f[only_rel_f[cross_cols_nm[1]].isin(cls_to_use)]\n",
    "            # For ordinal categories, reindexing the columns is essential to align them in the required order.\n",
    "            return only_rel_f[cross_cols_nm[1]].value_counts().reindex(reindex_temp), (pd.crosstab(only_rel_f[cross_cols_nm[0]], only_rel_f[cross_cols_nm[1]], normalize='columns') * 100).astype(int).reindex(columns=reindex_temp,index= self.reindex_rows)\n",
    "        return only_rel_f\n",
    "\n",
    "    def change_properties(self,name):\n",
    "        \"\"\"\n",
    "        change the dependent variable and update desired reindex list\n",
    "        :param name:\n",
    "        :return:\n",
    "        \"\"\"\n",
    "        self.cols_name[0] = name\n",
    "        self.reindex_rows = self.more_data[name][0]\n",
    "        sumy =my_data.merge_q[name].value_counts().sum()\n",
    "        print((my_data.merge_q[name].value_counts()/sumy*100).apply('{:.0f}%'.format))\n",
    "\n",
    "\n"
   ],
   "metadata": {
    "collapsed": false,
    "pycharm": {
     "name": "#%%\n"
    }
   }
  },
  {
   "cell_type": "code",
   "execution_count": null,
   "outputs": [],
   "source": [],
   "metadata": {
    "collapsed": false,
    "pycharm": {
     "name": "#%%\n"
    }
   }
  },
  {
   "cell_type": "code",
   "execution_count": 13,
   "outputs": [
    {
     "name": "stdout",
     "output_type": "stream",
     "text": [
      "\n",
      "is_replaced\n",
      "\n",
      "​Yes, and I replaced it with exactly what was stolen or something more expensive    46%\n",
      "No                                                                                  31%\n",
      "Yes, but the replacement was something cheaper                                      24%\n",
      "Name: is_replaced, dtype: object\n",
      "\n",
      "mode_alt\n",
      "\n",
      "not active                 50%\n",
      "active                     36%\n",
      "Didn’t make those trips    13%\n",
      "Don’t know/not sure         2%\n",
      "Name: mode_alt, dtype: object\n",
      "\n",
      "post_act\n",
      "\n",
      "About the same / no change    49%\n",
      "Less often                    30%\n",
      "I stopped cycling             15%\n",
      "More often                     6%\n",
      "Name: post_act, dtype: object\n",
      "\n",
      "value_approx\n",
      "\n",
      "$500-$999                 29%\n",
      "$1000-$1999               24%\n",
      "$2000-3999                16%\n",
      "$250-$499                 13%\n",
      "$4000-6999                 8%\n",
      "$7000 or more              5%\n",
      "Less than $250             4%\n",
      "Don’t know/not sure        0%\n",
      "I prefer to not answer     0%\n",
      "Name: value_approx, dtype: object\n",
      "\n",
      "income\n",
      "\n",
      "$200,000 or more per year                 21%\n",
      "Between $100,000 and $149,999 per year    16%\n",
      "Between $75,000 and $99,999 per year      14%\n",
      "Between $50,000 and $74,999 per year      13%\n",
      "Between $150,000 and $199,999 per year    10%\n",
      "I prefer to not answer                     9%\n",
      "Between $20,000 and $34,999 per year       6%\n",
      "Between $35,000 and $49,999 per year       5%\n",
      "Under $20,000 per year                     5%\n",
      "Don’t know/not sure                        1%\n",
      "Name: income, dtype: object\n",
      "\n",
      "nm_bikes\n",
      "\n",
      "One                       37%\n",
      "Two                       24%\n",
      "Zero                      12%\n",
      "Three                     12%\n",
      "Five or more               8%\n",
      "Four                       6%\n",
      "I prefer to not answer     1%\n",
      "Name: nm_bikes, dtype: object\n",
      "\n",
      "age_groups\n",
      "\n",
      "Adults (25-34)          27%\n",
      "Adults (35-44)          25%\n",
      "Adults (45-54)          17%\n",
      "Older adults (>64)      15%\n",
      "Adults (55-64)          10%\n",
      "Young adults (18-24)     5%\n",
      "Adolescents (13-17)      1%\n",
      "Children (<13)           0%\n",
      "Name: age_groups, dtype: object\n",
      "\n",
      "education\n",
      "\n",
      "Graduate degree                            41%\n",
      "Bachelor’s degree                          39%\n",
      "Some university                             7%\n",
      "Associate’s/vocational/technical degree     6%\n",
      "Graduated high school                       3%\n",
      "Some high school or less                    2%\n",
      "I prefer to not answer                      2%\n",
      "Name: education, dtype: object\n",
      "\n",
      "seasons\n",
      "\n",
      "1.0    61%\n",
      "2.0    27%\n",
      "0.0    12%\n",
      "Name: seasons, dtype: object\n",
      "\n",
      "is_electric\n",
      "\n",
      "​No                                    88%\n",
      "Yes, with pedal-assist and throttle     7%\n",
      "Yes, with pedal-assist                  5%\n",
      "Name: is_electric, dtype: object\n",
      "\n",
      "purpose\n",
      "\n",
      "Recreation or exercise                                         42%\n",
      "Transportation                                                 31%\n",
      "Equal mix of recreation, exercise, and transportation trips    26%\n",
      "Don’t know/not sure                                             1%\n",
      "Name: purpose, dtype: object\n"
     ]
    }
   ],
   "source": [
    "\n",
    "dependent_names = list(dependent_vars.values())+['value_approx','income','nm_bikes','age_groups','education','seasons','is_electric','purpose']\n",
    "predictors_names = list(predictors.values())\n",
    "my_data = MyData(dependent_names[0],merge_q,more_data)\n",
    "for dep in dependent_names:\n",
    "    print(f'\\n{dep}\\n')\n",
    "    writer = pd.ExcelWriter(f'output_2/data_with_insight/{dep}.xlsx')\n",
    "    my_data.change_properties(dep)\n",
    "    for pre in predictors_names+dependent_names:\n",
    "        # relevant when we analysis the relationship between dependent_vars\n",
    "        if pre==dep:\n",
    "            continue\n",
    "        my_data.cols_name[1] = pre\n",
    "        value_counts,cross_tab = my_data.explore_data()\n",
    "        value_counts.to_excel(writer, sheet_name=pre)\n",
    "        cross_tab.to_excel(writer, sheet_name=pre, startrow=value_counts.shape[0] + 2)\n",
    "    writer.save()\n"
   ],
   "metadata": {
    "collapsed": false,
    "pycharm": {
     "name": "#%%\n"
    }
   }
  },
  {
   "cell_type": "markdown",
   "source": [
    "<span style=\"color: purple;font-size: 50px\">Phase 4: Apply Chi-Square Test</span>\n"
   ],
   "metadata": {
    "collapsed": false,
    "pycharm": {
     "name": "#%% md\n"
    }
   }
  },
  {
   "cell_type": "code",
   "execution_count": 3,
   "outputs": [],
   "source": [
    "#region\n",
    "cols_to_delete = ['I prefer to not answer', 'Don’t know/not sure']\n",
    "pre_test_data = pd.read_csv(f'{project_folder}/new_data/new_data_3.csv').fillna(-1)[list(all_vars.values())].applymap(lambda x: -1 if x in cols_to_delete + [-1] else x)\n",
    "data_path = 'output_2/data_with_insight'\n",
    "class MyTests:\n",
    "    def __init__(self, col_1:str, col_2:str, rel_data:tuple):\n",
    "        print(f'\\n{col_1}::{col_2}')\n",
    "        self.col_1 = col_1\n",
    "        self.col_2 = col_2\n",
    "        self.fields_to_test= rel_data[1]\n",
    "        self.rel_data = rel_data\n",
    "\n",
    "        if 'apply_chi' in rel_data[0]:\n",
    "            print('apply_chi')\n",
    "            self.__apply_chi()\n",
    "        else:\n",
    "            print('apply_spearmanr')\n",
    "            self.__apply_spearmanr( rel_data[2])\n",
    "\n",
    "    def __apply_chi(self):\n",
    "        \"\"\"\n",
    "        apply chi_square test based on the cols and data\n",
    "        :param new_names: more relevant data to employ when run the test\n",
    "        :param col_1:\n",
    "        :param col_2:\n",
    "        :return:\n",
    "        \"\"\"\n",
    "        # b.\tClean the data\n",
    "        test_data = pre_test_data[[self.col_1, self.col_2]]\n",
    "        # In case more data should be remove prior to the analysis\n",
    "        if isinstance(self.rel_data[-1],list):\n",
    "            test_data = test_data[~test_data.isin([-1]+self.rel_data[-1]).any(axis=1)]\n",
    "        else:\n",
    "            test_data = test_data[~test_data.isin([-1]).any(axis=1)]\n",
    "\n",
    "        # c.\tCreate group\n",
    "        for item in self.fields_to_test.items():\n",
    "            internal_dict  = item[1]\n",
    "            var_temp = item[0]\n",
    "            test_data[var_temp] =  test_data[var_temp].apply(lambda x: internal_dict[x] if x in internal_dict else x)\n",
    "\n",
    "        # d.\tCross tub\n",
    "        contingency_table = pd.crosstab(test_data[self.col_1], test_data[self.col_2], normalize='columns') * 100\n",
    "\n",
    "        # e.\ttest\n",
    "        chi2, p, _, _ = stats.chi2_contingency(contingency_table)\n",
    "\n",
    "        # Print the chi-square test statistic and p-value\n",
    "        print(contingency_table)\n",
    "        print('Chi-square test statistic:', chi2)\n",
    "        print('p-value:', p)\n",
    "\n",
    "    def __apply_spearmanr(self, more_cols_to_delete):\n",
    "\n",
    "        # The data to read (the Excel name- @col_1 and sheet name  - @col_2)\n",
    "        df = pd.read_excel(f'{data_path}/{self.col_1}.xlsx', sheet_name=self.col_2)\n",
    "        # Obten only the contingency_table from the file, update the cols names and remove irrelevant data\n",
    "        new_df = df.iloc[df.loc[df[df.columns[0]].isnull()].index.item()+1:]\n",
    "        new_df.columns= new_df.iloc[0]\n",
    "        cols_to_delete_temp = [col for col in cols_to_delete if col in new_df.columns] + more_cols_to_delete\n",
    "        new_df = new_df.reset_index(drop=True).drop(0).drop(columns= cols_to_delete_temp).set_index(var_1)\n",
    "        # extract the required data for test\n",
    "        data_1= np.array(range(len(new_df.columns)))\n",
    "        # the data to test which can be based on one or more fields (if it is list is more than one)\n",
    "        if isinstance(self.fields_to_test,list):\n",
    "            data_2 = np.array(new_df.loc[self.fields_to_test].sum())\n",
    "        else:\n",
    "            data_2= np.array(new_df.loc[self.fields_to_test])\n",
    "        # Perform the Cochran-Armitage test of trend\n",
    "        result = stats.spearmanr(data_1, data_2)\n",
    "\n",
    "        # Extract the test statistic and p-value\n",
    "        test_statistic = result.correlation\n",
    "        p_value = result.pvalue\n",
    "\n",
    "        # Print the test statistic and p-value\n",
    "        print(\"Test Statistic:\", test_statistic)\n",
    "        print(\"p-value:\", p_value)\n",
    "#endregion"
   ],
   "metadata": {
    "collapsed": false,
    "pycharm": {
     "name": "#%%\n"
    }
   }
  },
  {
   "cell_type": "code",
   "execution_count": 3,
   "outputs": [],
   "source": [
    "predictors ={'Q13':'value_approx','Q14':'is_electric','Q15':'bicycle_type','Q18':'is_recover',  'Q28':'seasons', 'Q29':'purpose', 'age_groups': 'age_groups', 'Q35': 'gender', 'Q36': 'income','Q37':'nm_bikes', 'Q38': 'education','country':'country'}\n",
    "dependent_vars = {'Q25':'is_replaced','Q30':'mode_alt', 'Q31':'post_act'}"
   ],
   "metadata": {
    "collapsed": false,
    "pycharm": {
     "name": "#%%\n"
    }
   }
  },
  {
   "cell_type": "code",
   "execution_count": null,
   "outputs": [],
   "source": [],
   "metadata": {
    "collapsed": false,
    "pycharm": {
     "name": "#%%\n"
    }
   }
  },
  {
   "cell_type": "code",
   "execution_count": null,
   "outputs": [],
   "source": [
    "var_1 = 'mode_alt'\n",
    "vars_2 = ['value_approx','nm_bikes','age_groups','income']\n",
    "for var_2 in vars_2:\n",
    "    for temp_val in pre_test_data[pre_test_data[var_1 ] != -1][var_1].drop_duplicates().values:\n",
    "        print(f'\\n{temp_val}')\n",
    "        if var_2=='age_groups':\n",
    "            test_fields=('spearmanr', temp_val,['Children (<13)'])\n",
    "        else:\n",
    "            test_fields=('spearmanr', temp_val,[])\n",
    "        res = MyTests(var_1, var_2, test_fields)"
   ],
   "metadata": {
    "collapsed": false,
    "pycharm": {
     "name": "#%%\n"
    }
   }
  },
  {
   "cell_type": "code",
   "execution_count": 8,
   "outputs": [
    {
     "data": {
      "text/plain": "array(['\\u200bYes, and I replaced it with exactly what was stolen or something more expensive',\n       'Yes, but the replacement was something cheaper', 'No'],\n      dtype=object)"
     },
     "execution_count": 8,
     "metadata": {},
     "output_type": "execute_result"
    }
   ],
   "source": [
    "pre_test_data[pre_test_data['is_replaced'] != -1]['is_replaced'].drop_duplicates().values"
   ],
   "metadata": {
    "collapsed": false,
    "pycharm": {
     "name": "#%%\n"
    }
   }
  },
  {
   "cell_type": "code",
   "execution_count": 5,
   "outputs": [
    {
     "name": "stdout",
     "output_type": "stream",
     "text": [
      "\n",
      "mode_alt::seasons\n",
      "apply_chi\n",
      "seasons      0.0        1.0        2.0\n",
      "mode_alt                              \n",
      "active      25.0  29.949749  55.251142\n",
      "not active  75.0  70.050251  44.748858\n",
      "Chi-square test statistic: 22.659060879893193\n",
      "p-value: 1.2012888535235022e-05\n"
     ]
    },
    {
     "data": {
      "text/plain": "<__main__.MyTests at 0x25841c4eec0>"
     },
     "execution_count": 5,
     "metadata": {},
     "output_type": "execute_result"
    },
    {
     "name": "stdout",
     "output_type": "stream",
     "text": [
      "\n",
      "mode_alt::purpose\n",
      "apply_chi\n",
      "purpose     Equal mix of recreation, exercise, and transportation trips  \\\n",
      "mode_alt                                                                  \n",
      "active                                              39.159292             \n",
      "not active                                          60.840708             \n",
      "\n",
      "purpose     Recreation or exercise  Transportation  \n",
      "mode_alt                                            \n",
      "active                   31.518625       41.111111  \n",
      "not active               68.481375       58.888889  \n",
      "Chi-square test statistic: 2.1987514330944222\n",
      "p-value: 0.33307895448593955\n"
     ]
    },
    {
     "data": {
      "text/plain": "<__main__.MyTests at 0x25841c4ee60>"
     },
     "execution_count": 5,
     "metadata": {},
     "output_type": "execute_result"
    },
    {
     "name": "stdout",
     "output_type": "stream",
     "text": [
      "\n",
      "mode_alt::purpose\n",
      "apply_chi\n",
      "purpose                  Equal mix of recreation, exercise, and transportation trips  \\\n",
      "mode_alt                                                                               \n",
      "Didn’t make those trips                                            4.20354             \n",
      "make this trip                                                    95.79646             \n",
      "\n",
      "purpose                  Recreation or exercise  Transportation  \n",
      "mode_alt                                                         \n",
      "Didn’t make those trips               26.790831        2.407407  \n",
      "make this trip                        73.209169       97.592593  \n",
      "Chi-square test statistic: 37.326712115701845\n",
      "p-value: 7.845261971756796e-09\n"
     ]
    },
    {
     "data": {
      "text/plain": "<__main__.MyTests at 0x25841c4e6e0>"
     },
     "execution_count": 5,
     "metadata": {},
     "output_type": "execute_result"
    },
    {
     "name": "stdout",
     "output_type": "stream",
     "text": [
      "\n",
      "mode_alt::is_electric\n",
      "apply_chi\n",
      "is_electric  Yes, with pedal-assist  Yes, with pedal-assist and throttle  \\\n",
      "mode_alt                                                                   \n",
      "active                    39.772727                            33.333333   \n",
      "not active                60.227273                            66.666667   \n",
      "\n",
      "is_electric        ​No  \n",
      "mode_alt                \n",
      "active       51.407001  \n",
      "not active   48.592999  \n",
      "Chi-square test statistic: 6.912631294337069\n",
      "p-value: 0.03154577393423454\n"
     ]
    },
    {
     "data": {
      "text/plain": "<__main__.MyTests at 0x25841c4e5f0>"
     },
     "execution_count": 5,
     "metadata": {},
     "output_type": "execute_result"
    },
    {
     "name": "stdout",
     "output_type": "stream",
     "text": [
      "\n",
      "mode_alt::value_approx\n",
      "apply_spearmanr\n",
      "Test Statistic: -0.942857142857143\n",
      "p-value: 0.0048046647230320545\n"
     ]
    },
    {
     "data": {
      "text/plain": "<__main__.MyTests at 0x25841c4c130>"
     },
     "execution_count": 5,
     "metadata": {},
     "output_type": "execute_result"
    },
    {
     "name": "stdout",
     "output_type": "stream",
     "text": [
      "\n",
      "mode_alt::is_recover\n",
      "apply_chi\n",
      "is_recover         No        Yes\n",
      "mode_alt                        \n",
      "active      34.610028  46.564885\n",
      "not active  65.389972  53.435115\n",
      "Chi-square test statistic: 2.4883616460247038\n",
      "p-value: 0.1146910604066402\n"
     ]
    },
    {
     "data": {
      "text/plain": "<__main__.MyTests at 0x2584219a920>"
     },
     "execution_count": 5,
     "metadata": {},
     "output_type": "execute_result"
    },
    {
     "name": "stdout",
     "output_type": "stream",
     "text": [
      "\n",
      "mode_alt::nm_bikes\n",
      "apply_spearmanr\n",
      "Test Statistic: 0.942857142857143\n",
      "p-value: 0.0048046647230320545\n"
     ]
    },
    {
     "data": {
      "text/plain": "<__main__.MyTests at 0x258421c7f40>"
     },
     "execution_count": 5,
     "metadata": {},
     "output_type": "execute_result"
    },
    {
     "name": "stdout",
     "output_type": "stream",
     "text": [
      "\n",
      "mode_alt::age_groups\n",
      "apply_chi\n",
      "age_groups  Young adults (18-24)  not young\n",
      "mode_alt                                   \n",
      "active                      50.0  35.669192\n",
      "not active                  50.0  64.330808\n",
      "Chi-square test statistic: 3.628732917278225\n",
      "p-value: 0.05679003728169556\n"
     ]
    },
    {
     "data": {
      "text/plain": "<__main__.MyTests at 0x2583c7e8700>"
     },
     "execution_count": 5,
     "metadata": {},
     "output_type": "execute_result"
    },
    {
     "name": "stdout",
     "output_type": "stream",
     "text": [
      "\n",
      "mode_alt::income\n",
      "apply_chi\n",
      "income      Under $20,000 per year  not low income\n",
      "mode_alt                                          \n",
      "active                   51.219512       35.638673\n",
      "not active               48.780488       64.361327\n",
      "Chi-square test statistic: 4.32674329570235\n",
      "p-value: 0.03751796448189743\n"
     ]
    },
    {
     "data": {
      "text/plain": "<__main__.MyTests at 0x2583c7e86a0>"
     },
     "execution_count": 5,
     "metadata": {},
     "output_type": "execute_result"
    }
   ],
   "source": [
    "#region\n",
    "# dependent 2\n",
    "var_1 = 'mode_alt'\n",
    "\n",
    "var_2 = 'seasons'\n",
    "val_1 = 'not active'\n",
    "test_fields= ('apply_chi', {var_1:{'Didn’t make those trips':val_1}})\n",
    "MyTests(var_1, var_2, test_fields)\n",
    "\n",
    "var_2= 'purpose'\n",
    "test_fields= ('apply_chi', {var_1:{'Didn’t make those trips':val_1}})\n",
    "MyTests(var_1, var_2, test_fields)\n",
    "\n",
    "val_1 = 'make this trip'\n",
    "test_fields= ('apply_chi', {var_1:{'active':val_1, 'not active':val_1}})\n",
    "MyTests(var_1, var_2, test_fields)\n",
    "\n",
    "var_2 = 'is_electric'\n",
    "val_1 = 'active'\n",
    "test_fields=('apply_chi', {var_1:{'Didn’t make those trips':val_1}})\n",
    "MyTests(var_1, var_2, test_fields)\n",
    "\n",
    "var_2 = 'value_approx'\n",
    "val_1 = 'active'\n",
    "test_fields=('spearmanr', val_1,['$7000 or more'])\n",
    "MyTests(var_1, var_2, test_fields)\n",
    "\n",
    "var_2 = 'is_recover'\n",
    "val_1 = 'not active'\n",
    "test_fields=('apply_chi', {var_1:{'Didn’t make those trips':val_1}})\n",
    "MyTests(var_1, var_2, test_fields)\n",
    "\n",
    "var_2 = 'nm_bikes'\n",
    "val_1 = 'active'\n",
    "test_fields=('spearmanr', val_1,[])\n",
    "MyTests(var_1, var_2, test_fields)\n",
    "\n",
    "var_2 = 'age_groups'\n",
    "val_1 = 'not active'\n",
    "val_2 = 'not young'\n",
    "test_fields=('apply_chi', {var_1:{'Didn’t make those trips':val_1},var_2:{age:val_2 for age in pre_test_data[var_2]if age not  in ['Young adults (18-24)']}},['Children (<13)','Adolescents (13-17)'])\n",
    "MyTests(var_1, var_2, test_fields)\n",
    "\n",
    "var_2 = 'income'\n",
    "val_1 = 'not active'\n",
    "val_2 = 'not low income'\n",
    "test_fields=('apply_chi', {var_1:{'Didn’t make those trips':val_1},var_2:{b:val_2 for b in pre_test_data[var_2]if b not  in ['Under $20,000 per year']}})\n",
    "MyTests(var_1, var_2, test_fields)\n",
    "#endregion"
   ],
   "metadata": {
    "collapsed": false,
    "pycharm": {
     "name": "#%%\n"
    }
   }
  },
  {
   "cell_type": "code",
   "execution_count": 11,
   "outputs": [
    {
     "name": "stdout",
     "output_type": "stream",
     "text": [
      "\n",
      "Didn’t make those trips\n",
      "\n",
      "mode_alt::value_approx\n",
      "apply_spearmanr\n",
      "Test Statistic: 0.4504687313477795\n",
      "p-value: 0.3104293018513229\n",
      "\n",
      "not active\n",
      "\n",
      "mode_alt::value_approx\n",
      "apply_spearmanr\n",
      "Test Statistic: -0.18018749253911182\n",
      "p-value: 0.6990457740939315\n",
      "\n",
      "active\n",
      "\n",
      "mode_alt::value_approx\n",
      "apply_spearmanr\n",
      "Test Statistic: -0.6071428571428572\n",
      "p-value: 0.1482311614811614\n",
      "\n",
      "Didn’t make those trips\n",
      "\n",
      "mode_alt::nm_bikes\n",
      "apply_spearmanr\n",
      "Test Statistic: 0.16903085094570333\n",
      "p-value: 0.7488684500235265\n",
      "\n",
      "not active\n",
      "\n",
      "mode_alt::nm_bikes\n",
      "apply_spearmanr\n",
      "Test Statistic: -0.7944613465542746\n",
      "p-value: 0.05902759992532669\n",
      "\n",
      "active\n",
      "\n",
      "mode_alt::nm_bikes\n",
      "apply_spearmanr\n",
      "Test Statistic: 0.942857142857143\n",
      "p-value: 0.0048046647230320545\n",
      "\n",
      "Didn’t make those trips\n",
      "\n",
      "mode_alt::age_groups\n",
      "apply_spearmanr\n",
      "Test Statistic: 0.4642857142857144\n",
      "p-value: 0.2939341076002517\n",
      "\n",
      "not active\n",
      "\n",
      "mode_alt::age_groups\n",
      "apply_spearmanr\n",
      "Test Statistic: -0.36037498507822363\n",
      "p-value: 0.42714880856090626\n",
      "\n",
      "active\n",
      "\n",
      "mode_alt::age_groups\n",
      "apply_spearmanr\n",
      "Test Statistic: 0.0\n",
      "p-value: 1.0\n",
      "\n",
      "Didn’t make those trips\n",
      "\n",
      "mode_alt::income\n",
      "apply_spearmanr\n",
      "Test Statistic: 0.4047619047619048\n",
      "p-value: 0.3198886412288162\n",
      "\n",
      "not active\n",
      "\n",
      "mode_alt::income\n",
      "apply_spearmanr\n",
      "Test Statistic: 0.17964393928698885\n",
      "p-value: 0.6703442772469386\n",
      "\n",
      "active\n",
      "\n",
      "mode_alt::income\n",
      "apply_spearmanr\n",
      "Test Statistic: -0.626551500525444\n",
      "p-value: 0.09646118602901278\n"
     ]
    }
   ],
   "source": [
    "var_1 = 'mode_alt'\n",
    "vars_2 = ['value_approx','nm_bikes','age_groups','income']\n",
    "for var_2 in vars_2:\n",
    "    for temp_val in pre_test_data[pre_test_data[var_1 ] != -1][var_1].drop_duplicates().values:\n",
    "        print(f'\\n{temp_val}')\n",
    "        if var_2=='age_groups':\n",
    "            test_fields=('spearmanr', temp_val,['Children (<13)'])\n",
    "        else:\n",
    "            test_fields=('spearmanr', temp_val,[])\n",
    "        res = MyTests(var_1, var_2, test_fields)"
   ],
   "metadata": {
    "collapsed": false,
    "pycharm": {
     "name": "#%%\n"
    }
   }
  },
  {
   "cell_type": "code",
   "execution_count": 7,
   "outputs": [
    {
     "name": "stdout",
     "output_type": "stream",
     "text": [
      "\n",
      "post_act::is_recover\n",
      "apply_chi\n",
      "is_recover       No        Yes\n",
      "post_act                      \n",
      "negative    47.8738  27.675277\n",
      "positive    52.1262  72.324723\n",
      "Chi-square test statistic: 7.840402304773549\n",
      "p-value: 0.005109123495550274\n",
      "\n",
      "post_act::seasons\n",
      "apply_chi\n",
      "seasons         0.0        1.0        2.0\n",
      "post_act                                 \n",
      "negative  82.439024  45.986125  22.121896\n",
      "positive  17.560976  54.013875  77.878104\n",
      "Chi-square test statistic: 73.82059854544553\n",
      "p-value: 9.333847489738014e-17\n",
      "\n",
      "post_act::seasons\n",
      "apply_chi\n",
      "seasons         0.0        1.0\n",
      "post_act                      \n",
      "negative  58.536585   8.539945\n",
      "positive  41.463415  91.460055\n",
      "Chi-square test statistic: 53.8505747481379\n",
      "p-value: 2.1633180147558866e-13\n",
      "\n",
      "post_act::age_groups\n",
      "apply_chi\n",
      "age_groups         Young adults (18-24)   negative\n",
      "post_act                                          \n",
      "I stopped cycling             32.258065  14.374226\n",
      "still cycling                 67.741935  85.625774\n",
      "Chi-square test statistic: 7.971714255037737\n",
      "p-value: 0.004751392107743264\n",
      "\n",
      "post_act::income\n",
      "apply_spearmanr\n",
      "Test Statistic: -0.9221722216732094\n",
      "p-value: 0.0011108173578061712\n",
      "\n",
      "post_act::value_approx\n",
      "apply_chi\n",
      "value_approx   Less than $250  not cheap bike\n",
      "post_act                                     \n",
      "More often          13.513514        5.700424\n",
      "no more often       86.486486       94.299576\n",
      "Chi-square test statistic: 2.6726174016569697\n",
      "p-value: 0.10208800736772033\n",
      "\n",
      "post_act::seasons\n",
      "apply_chi\n",
      "seasons                           0.0        1.0        2.0\n",
      "post_act                                                   \n",
      "About the same / no change  15.920398  50.690755  76.442308\n",
      "negative                    84.079602  49.309245  23.557692\n",
      "Chi-square test statistic: 73.95890506401399\n",
      "p-value: 8.710193869575939e-17\n",
      "\n",
      "post_act::value_approx\n",
      "apply_spearmanr\n",
      "Test Statistic: 0.8571428571428573\n",
      "p-value: 0.01369732661532562\n",
      "\n",
      "post_act::nm_bikes\n",
      "apply_spearmanr\n",
      "Test Statistic: 0.9999999999999999\n",
      "p-value: 1.4042654220543672e-24\n",
      "\n",
      "post_act::education\n",
      "apply_spearmanr\n",
      "Test Statistic: 0.7356123579206245\n",
      "p-value: 0.09561078073827967\n"
     ]
    }
   ],
   "source": [
    "#region\n",
    "# dependent 3\n",
    "var_1 ='post_act'\n",
    "\n",
    "# a.\tDefine var\n",
    "var_2 = 'is_recover'\n",
    "val_1 = 'positive'\n",
    "val_2 = 'negative'\n",
    "\n",
    "test_fields= ('apply_chi', {var_1:{'I stopped cycling':val_2, 'Less often':val_2,'About the same / no change':val_1,'More often':val_1}})\n",
    "res= MyTests(var_1, var_2, test_fields)\n",
    "var_2 = 'seasons'\n",
    "test_fields=('apply_chi', {var_1:{'I stopped cycling':val_2, 'Less often':val_2,'About the same / no change':val_1,'More often':val_1}})\n",
    "res = MyTests(var_1, var_2, test_fields)\n",
    "test_fields=('apply_chi', {var_1:{'I stopped cycling':val_2, 'Less often':val_1,'About the same / no change':val_1,'More often':val_1},var_2:{2:1}})\n",
    "res = MyTests(var_1, var_2, test_fields)\n",
    "\n",
    "var_2 = 'age_groups'\n",
    "val_1 = 'still cycling'\n",
    "\n",
    "test_fields=('apply_chi', {var_1:{ 'Less often':val_1,'About the same / no change':val_1,'More often':val_1},var_2:{age:val_2 for age in pre_test_data[var_2]if age not  in ['Young adults (18-24)']}},['Children (<13)','Adolescents (13-17)'])\n",
    "res = MyTests(var_1, var_2, test_fields)\n",
    "var_2 = 'income'\n",
    "test_fields=('spearmanr', 'I stopped cycling',[])\n",
    "res = MyTests(var_1, var_2, test_fields)\n",
    "var_2 = 'value_approx'\n",
    "\n",
    "val_1 = 'no more often'\n",
    "val_2 = 'not cheap bike'\n",
    "test_fields=('apply_chi', {var_1:{ 'Less often':val_1,'About the same / no change':val_1,'I stopped cycling':val_1},var_2:{temp:val_2 for temp in pre_test_data[var_2]if temp not  in ['Less than $250']}})\n",
    "res = MyTests(var_1, var_2, test_fields)\n",
    "var_2 = 'seasons'\n",
    "val_1 = 'negative'\n",
    "test_fields=('apply_chi', {var_1:{ 'Less often':val_1,'I stopped cycling':val_1}},['More often'])\n",
    "res = MyTests(var_1, var_2, test_fields)\n",
    "var_2 = 'value_approx'\n",
    "test_fields=('spearmanr', 'About the same / no change',[])\n",
    "res = MyTests(var_1, var_2, test_fields)\n",
    "\n",
    "var_2 = 'nm_bikes'\n",
    "test_fields=('spearmanr', 'About the same / no change',['Zero'])\n",
    "res = MyTests(var_1, var_2, test_fields)\n",
    "\n",
    "var_2 = 'education'\n",
    "test_fields=('spearmanr', 'About the same / no change',[])\n",
    "res = MyTests(var_1, var_2, test_fields)\n",
    "#endregion"
   ],
   "metadata": {
    "collapsed": false,
    "pycharm": {
     "name": "#%%\n"
    }
   }
  },
  {
   "cell_type": "code",
   "execution_count": 5,
   "outputs": [
    {
     "name": "stdout",
     "output_type": "stream",
     "text": [
      "\n",
      "More often\n",
      "\n",
      "post_act::age_groups\n",
      "apply_spearmanr\n",
      "Test Statistic: -0.10910894511799621\n",
      "p-value: 0.8158714843641036\n",
      "\n",
      "About the same / no change\n",
      "\n",
      "post_act::age_groups\n",
      "apply_spearmanr\n",
      "Test Statistic: 0.7500000000000002\n",
      "p-value: 0.05218140045705776\n",
      "\n",
      "Less often\n",
      "\n",
      "post_act::age_groups\n",
      "apply_spearmanr\n",
      "Test Statistic: -0.3243374865704013\n",
      "p-value: 0.47788547973993134\n",
      "\n",
      "I stopped cycling\n",
      "\n",
      "post_act::age_groups\n",
      "apply_spearmanr\n",
      "Test Statistic: -0.14285714285714288\n",
      "p-value: 0.7599453002180929\n",
      "\n",
      "More often\n",
      "\n",
      "post_act::income\n",
      "apply_spearmanr\n",
      "Test Statistic: -0.6747477697966319\n",
      "p-value: 0.06640156509474052\n",
      "\n",
      "About the same / no change\n",
      "\n",
      "post_act::income\n",
      "apply_spearmanr\n",
      "Test Statistic: 0.9700772721497397\n",
      "p-value: 6.548558831120658e-05\n",
      "\n",
      "Less often\n",
      "\n",
      "post_act::income\n",
      "apply_spearmanr\n",
      "Test Statistic: 0.06024533658898499\n",
      "p-value: 0.8873130218901896\n",
      "\n",
      "I stopped cycling\n",
      "\n",
      "post_act::income\n",
      "apply_spearmanr\n",
      "Test Statistic: -0.9221722216732094\n",
      "p-value: 0.0011108173578061712\n",
      "\n",
      "More often\n",
      "\n",
      "post_act::nm_bikes\n",
      "apply_spearmanr\n",
      "Test Statistic: -0.5642880936468347\n",
      "p-value: 0.32172333582430024\n",
      "\n",
      "About the same / no change\n",
      "\n",
      "post_act::nm_bikes\n",
      "apply_spearmanr\n",
      "Test Statistic: 0.9999999999999999\n",
      "p-value: 1.4042654220543672e-24\n",
      "\n",
      "Less often\n",
      "\n",
      "post_act::nm_bikes\n",
      "apply_spearmanr\n",
      "Test Statistic: -0.8999999999999998\n",
      "p-value: 0.03738607346849874\n",
      "\n",
      "I stopped cycling\n",
      "\n",
      "post_act::nm_bikes\n",
      "apply_spearmanr\n",
      "Test Statistic: -0.9999999999999999\n",
      "p-value: 1.4042654220543672e-24\n",
      "\n",
      "More often\n",
      "\n",
      "post_act::value_approx\n",
      "apply_spearmanr\n",
      "Test Statistic: -0.592999453328881\n",
      "p-value: 0.16052191228369223\n",
      "\n",
      "About the same / no change\n",
      "\n",
      "post_act::value_approx\n",
      "apply_spearmanr\n",
      "Test Statistic: 0.8571428571428573\n",
      "p-value: 0.01369732661532562\n",
      "\n",
      "Less often\n",
      "\n",
      "post_act::value_approx\n",
      "apply_spearmanr\n",
      "Test Statistic: -0.4684874806016907\n",
      "p-value: 0.288996771597148\n",
      "\n",
      "I stopped cycling\n",
      "\n",
      "post_act::value_approx\n",
      "apply_spearmanr\n",
      "Test Statistic: -0.23640271442232513\n",
      "p-value: 0.6097900468148635\n",
      "\n",
      "More often\n",
      "\n",
      "post_act::education\n",
      "apply_spearmanr\n",
      "Test Statistic: 0.057977103565244846\n",
      "p-value: 0.9131317851623264\n",
      "\n",
      "About the same / no change\n",
      "\n",
      "post_act::education\n",
      "apply_spearmanr\n",
      "Test Statistic: 0.7356123579206245\n",
      "p-value: 0.09561078073827967\n",
      "\n",
      "Less often\n",
      "\n",
      "post_act::education\n",
      "apply_spearmanr\n",
      "Test Statistic: -0.6377481392176932\n",
      "p-value: 0.17307111024125976\n",
      "\n",
      "I stopped cycling\n",
      "\n",
      "post_act::education\n",
      "apply_spearmanr\n",
      "Test Statistic: -0.9856107606091623\n",
      "p-value: 0.0003090856678496699\n"
     ]
    }
   ],
   "source": [
    "var_1 = 'post_act'\n",
    "vars_2 = ['age_groups','income','nm_bikes','value_approx','education']\n",
    "for var_2 in vars_2:\n",
    "    for temp_val in pre_test_data[pre_test_data[var_1 ] != -1][var_1].drop_duplicates().values:\n",
    "        print(f'\\n{temp_val}')\n",
    "        if var_2=='age_groups':\n",
    "            test_fields=('spearmanr', temp_val,['Children (<13)'])\n",
    "        elif var_2=='nm_bikes':\n",
    "            test_fields=('spearmanr', temp_val,['Zero'])\n",
    "        else:\n",
    "            test_fields=('spearmanr', temp_val,[])\n",
    "        res = MyTests(var_1, var_2, test_fields)"
   ],
   "metadata": {
    "collapsed": false,
    "pycharm": {
     "name": "#%%\n"
    }
   }
  },
  {
   "cell_type": "code",
   "execution_count": 10,
   "outputs": [
    {
     "data": {
      "text/plain": "array(['Older adults (>64)', 'Adults (55-64)', 'Adults (45-54)',\n       'Adults (35-44)', 'Adults (25-34)', 'Young adults (18-24)',\n       'Adolescents (13-17)', 'Children (<13)'], dtype=object)"
     },
     "execution_count": 10,
     "metadata": {},
     "output_type": "execute_result"
    }
   ],
   "source": [
    "pre_test_data['age_groups'].unique()\n"
   ],
   "metadata": {
    "collapsed": false,
    "pycharm": {
     "name": "#%%\n"
    }
   }
  },
  {
   "cell_type": "code",
   "execution_count": 9,
   "outputs": [],
   "source": [
    "#region\n",
    "# dependent 1\n",
    "var_1 ='is_replaced'"
   ],
   "metadata": {
    "collapsed": false,
    "pycharm": {
     "name": "#%%\n"
    }
   }
  },
  {
   "cell_type": "code",
   "execution_count": null,
   "outputs": [],
   "source": [
    "\n",
    "# a.\tDefine var\n",
    "var_2 = 'is_recover'\n",
    "val = 'yes'\n",
    "test_fields= ('apply_chi', {var_1:{'​Yes, and I replaced it with exactly what was stolen or something more expensive':val, 'Yes, but the replacement was something cheaper':val}})\n",
    "res= MyTests(var_1, var_2, test_fields)\n",
    "\n",
    "var_2 = 'seasons'\n",
    "test_fields=('apply_chi', {var_1:{'​Yes, and I replaced it with exactly what was stolen or something more expensive':val, 'Yes, but the replacement was something cheaper':val}, var_2:{2:1}})\n",
    "res = MyTests(var_1, var_2, test_fields)\n",
    "\n",
    "\n",
    "var_2 = 'value_approx'\n",
    "val_1= 'low'\n",
    "val_2 = 'high'\n",
    "test_fields=('apply_chi', {var_1:{'​Yes, and I replaced it with exactly what was stolen or something more expensive':val, 'Yes, but the replacement was something cheaper':'No'}, var_2:{'Less than $250':val_1,'$250-$499':val_1,'$500-$999':val_1,'$1000-$1999':val_1,'$2000-3999':val_1,'$4000-6999':val_2,'$7000 or more':val_2}})\n",
    "res = MyTests(var_1, var_2, test_fields)"
   ],
   "metadata": {
    "collapsed": false,
    "pycharm": {
     "name": "#%%\n"
    }
   }
  },
  {
   "cell_type": "code",
   "execution_count": 6,
   "outputs": [
    {
     "name": "stdout",
     "output_type": "stream",
     "text": [
      "\n",
      "​Yes, and I replaced it with exactly what was stolen or something more expensive\n",
      "\n",
      "is_replaced::income\n",
      "apply_spearmanr\n",
      "Test Statistic: 0.9700772721497397\n",
      "p-value: 6.548558831120658e-05\n",
      "\n",
      "Yes, but the replacement was something cheaper\n",
      "\n",
      "is_replaced::income\n",
      "apply_spearmanr\n",
      "Test Statistic: -0.8982196964349441\n",
      "p-value: 0.002438796796382353\n",
      "\n",
      "No\n",
      "\n",
      "is_replaced::income\n",
      "apply_spearmanr\n",
      "Test Statistic: -0.9157291161525718\n",
      "p-value: 0.0014031743248924412\n",
      "\n",
      "​Yes, and I replaced it with exactly what was stolen or something more expensive\n",
      "\n",
      "is_replaced::nm_bikes\n",
      "apply_spearmanr\n",
      "Test Statistic: 0.8999999999999998\n",
      "p-value: 0.03738607346849874\n",
      "\n",
      "Yes, but the replacement was something cheaper\n",
      "\n",
      "is_replaced::nm_bikes\n",
      "apply_spearmanr\n",
      "Test Statistic: -0.9746794344808964\n",
      "p-value: 0.004818230468198537\n",
      "\n",
      "No\n",
      "\n",
      "is_replaced::nm_bikes\n",
      "apply_spearmanr\n",
      "Test Statistic: -0.44721359549995787\n",
      "p-value: 0.45018485575210093\n",
      "\n",
      "​Yes, and I replaced it with exactly what was stolen or something more expensive\n",
      "\n",
      "is_replaced::education\n",
      "apply_spearmanr\n",
      "Test Statistic: 0.9856107606091623\n",
      "p-value: 0.0003090856678496699\n",
      "\n",
      "Yes, but the replacement was something cheaper\n",
      "\n",
      "is_replaced::education\n",
      "apply_spearmanr\n",
      "Test Statistic: -0.8116794499134279\n",
      "p-value: 0.04985758510134035\n",
      "\n",
      "No\n",
      "\n",
      "is_replaced::education\n",
      "apply_spearmanr\n",
      "Test Statistic: -0.3714285714285715\n",
      "p-value: 0.46847813411078715\n",
      "\n",
      "​Yes, and I replaced it with exactly what was stolen or something more expensive\n",
      "\n",
      "is_replaced::value_approx\n",
      "apply_spearmanr\n",
      "Test Statistic: 0.9369749612033814\n",
      "p-value: 0.0018510301964418906\n",
      "\n",
      "Yes, but the replacement was something cheaper\n",
      "\n",
      "is_replaced::value_approx\n",
      "apply_spearmanr\n",
      "Test Statistic: -0.8288624656799143\n",
      "p-value: 0.021173515581004273\n",
      "\n",
      "No\n",
      "\n",
      "is_replaced::value_approx\n",
      "apply_spearmanr\n",
      "Test Statistic: -0.9549937104572925\n",
      "p-value: 0.0008055353363017577\n"
     ]
    }
   ],
   "source": [
    "var_1 = 'is_replaced'\n",
    "vars_2 = ['income','nm_bikes','education','value_approx']\n",
    "for var_2 in vars_2:\n",
    "    for temp_val in pre_test_data[pre_test_data[var_1 ] != -1][var_1].drop_duplicates().values:\n",
    "        print(f'\\n{temp_val}')\n",
    "        if var_2=='nm_bikes':\n",
    "            test_fields=('spearmanr', temp_val,['Zero'])\n",
    "        else:\n",
    "            test_fields=('spearmanr', temp_val,[])\n",
    "        res = MyTests(var_1, var_2, test_fields)\n",
    "\n",
    "#endregion"
   ],
   "metadata": {
    "collapsed": false,
    "pycharm": {
     "name": "#%%\n"
    }
   }
  },
  {
   "cell_type": "markdown",
   "source": [
    "<span style=\"color: blue;font-size: 50px\">Make table of the main variables with the main options</span>\n"
   ],
   "metadata": {
    "collapsed": false,
    "pycharm": {
     "name": "#%% md\n"
    }
   }
  },
  {
   "cell_type": "code",
   "execution_count": 8,
   "outputs": [],
   "source": [
    "predictors ={'Q13':'value_approx','Q14':'is_electric','Q15':'bicycle_type','Q18':'is_recover',  'Q28':'seasons', 'Q29':'purpose', 'age_groups': 'age_groups', 'Q35': 'gender', 'Q36': 'income','Q37':'nm_bikes', 'Q38': 'education','country':'country'}\n",
    "dependent_vars = {'Q25':'is_replaced','Q30':'mode_alt', 'Q31':'post_act'}"
   ],
   "metadata": {
    "collapsed": false,
    "pycharm": {
     "name": "#%%\n"
    }
   }
  },
  {
   "cell_type": "code",
   "execution_count": 9,
   "outputs": [],
   "source": [
    "cols_1 = list(dependent_vars.values())\n",
    "cols_2 = ['value_approx','is_recover','seasons', 'income','nm_bikes','education']\n"
   ],
   "metadata": {
    "collapsed": false,
    "pycharm": {
     "name": "#%%\n"
    }
   }
  },
  {
   "cell_type": "code",
   "execution_count": 10,
   "outputs": [
    {
     "data": {
      "text/plain": "                                           Unnamed: 0    value_approx  \\\n10                                        is_replaced  Less than $250   \n11  ​Yes, and I replaced it with exactly what was ...              41   \n12     Yes, but the replacement was something cheaper              25   \n13                                                 No              32   \n\n   Unnamed: 2 Unnamed: 3   Unnamed: 4  Unnamed: 5  Unnamed: 6     Unnamed: 7  \\\n10  $250-$499  $500-$999  $1000-$1999  $2000-3999  $4000-6999  $7000 or more   \n11         36         41           45          51          58             59   \n12         27         26           23          18          16             18   \n13         36         31           30          30          24             21   \n\n             Unnamed: 8              Unnamed: 9  \n10  Don’t know/not sure  I prefer to not answer  \n11                   40                      50  \n12                   20                      50  \n13                   40                       0  ",
      "text/html": "<div>\n<style scoped>\n    .dataframe tbody tr th:only-of-type {\n        vertical-align: middle;\n    }\n\n    .dataframe tbody tr th {\n        vertical-align: top;\n    }\n\n    .dataframe thead th {\n        text-align: right;\n    }\n</style>\n<table border=\"1\" class=\"dataframe\">\n  <thead>\n    <tr style=\"text-align: right;\">\n      <th></th>\n      <th>Unnamed: 0</th>\n      <th>value_approx</th>\n      <th>Unnamed: 2</th>\n      <th>Unnamed: 3</th>\n      <th>Unnamed: 4</th>\n      <th>Unnamed: 5</th>\n      <th>Unnamed: 6</th>\n      <th>Unnamed: 7</th>\n      <th>Unnamed: 8</th>\n      <th>Unnamed: 9</th>\n    </tr>\n  </thead>\n  <tbody>\n    <tr>\n      <th>10</th>\n      <td>is_replaced</td>\n      <td>Less than $250</td>\n      <td>$250-$499</td>\n      <td>$500-$999</td>\n      <td>$1000-$1999</td>\n      <td>$2000-3999</td>\n      <td>$4000-6999</td>\n      <td>$7000 or more</td>\n      <td>Don’t know/not sure</td>\n      <td>I prefer to not answer</td>\n    </tr>\n    <tr>\n      <th>11</th>\n      <td>​Yes, and I replaced it with exactly what was ...</td>\n      <td>41</td>\n      <td>36</td>\n      <td>41</td>\n      <td>45</td>\n      <td>51</td>\n      <td>58</td>\n      <td>59</td>\n      <td>40</td>\n      <td>50</td>\n    </tr>\n    <tr>\n      <th>12</th>\n      <td>Yes, but the replacement was something cheaper</td>\n      <td>25</td>\n      <td>27</td>\n      <td>26</td>\n      <td>23</td>\n      <td>18</td>\n      <td>16</td>\n      <td>18</td>\n      <td>20</td>\n      <td>50</td>\n    </tr>\n    <tr>\n      <th>13</th>\n      <td>No</td>\n      <td>32</td>\n      <td>36</td>\n      <td>31</td>\n      <td>30</td>\n      <td>30</td>\n      <td>24</td>\n      <td>21</td>\n      <td>40</td>\n      <td>0</td>\n    </tr>\n  </tbody>\n</table>\n</div>"
     },
     "execution_count": 10,
     "metadata": {},
     "output_type": "execute_result"
    }
   ],
   "source": [
    "col_1= cols_1[0]\n",
    "col_2 = cols_2[0]\n",
    "df = pd.read_excel(f'{data_path}/{col_1}.xlsx', sheet_name=col_2)\n",
    "df.iloc[df.loc[df[df.columns[0]].isnull()].index.item()+1:]"
   ],
   "metadata": {
    "collapsed": false,
    "pycharm": {
     "name": "#%%\n"
    }
   }
  },
  {
   "cell_type": "code",
   "execution_count": 43,
   "outputs": [
    {
     "ename": "KeyError",
     "evalue": "\"None of ['is_replacedis_replaced'] are in the columns\"",
     "output_type": "error",
     "traceback": [
      "\u001B[1;31m---------------------------------------------------------------------------\u001B[0m",
      "\u001B[1;31mKeyError\u001B[0m                                  Traceback (most recent call last)",
      "Cell \u001B[1;32mIn [43], line 8\u001B[0m\n\u001B[0;32m      6\u001B[0m cols_to_delete_temp \u001B[38;5;241m=\u001B[39m [col \u001B[38;5;28;01mfor\u001B[39;00m col \u001B[38;5;129;01min\u001B[39;00m cols_to_delete \u001B[38;5;28;01mif\u001B[39;00m col \u001B[38;5;129;01min\u001B[39;00m new_df\u001B[38;5;241m.\u001B[39mcolumns]\n\u001B[0;32m      7\u001B[0m new_df \u001B[38;5;241m=\u001B[39m new_df\u001B[38;5;241m.\u001B[39mreset_index(drop\u001B[38;5;241m=\u001B[39m\u001B[38;5;28;01mTrue\u001B[39;00m)\u001B[38;5;241m.\u001B[39mdrop(\u001B[38;5;241m0\u001B[39m)\u001B[38;5;241m.\u001B[39mdrop(columns\u001B[38;5;241m=\u001B[39m cols_to_delete_temp)\u001B[38;5;241m.\u001B[39mset_index(col_1)\u001B[38;5;241m.\u001B[39mdrop(index\u001B[38;5;241m=\u001B[39m \u001B[38;5;124m'\u001B[39m\u001B[38;5;124mNo\u001B[39m\u001B[38;5;124m'\u001B[39m)\n\u001B[1;32m----> 8\u001B[0m new_df_1 \u001B[38;5;241m=\u001B[39m \u001B[43mnew_df\u001B[49m\u001B[38;5;241;43m.\u001B[39;49m\u001B[43mset_index\u001B[49m\u001B[43m(\u001B[49m\u001B[43mcol_1\u001B[49m\u001B[38;5;241;43m*\u001B[39;49m\u001B[38;5;28;43mlen\u001B[39;49m\u001B[43m(\u001B[49m\u001B[43mnew_df\u001B[49m\u001B[43m)\u001B[49m\u001B[43m)\u001B[49m\n\u001B[0;32m      9\u001B[0m new_df_1\n",
      "File \u001B[1;32m~\\anaconda3\\envs\\ox\\lib\\site-packages\\pandas\\util\\_decorators.py:317\u001B[0m, in \u001B[0;36mdeprecate_nonkeyword_arguments.<locals>.decorate.<locals>.wrapper\u001B[1;34m(*args, **kwargs)\u001B[0m\n\u001B[0;32m    311\u001B[0m \u001B[38;5;28;01mif\u001B[39;00m \u001B[38;5;28mlen\u001B[39m(args) \u001B[38;5;241m>\u001B[39m num_allow_args:\n\u001B[0;32m    312\u001B[0m     warnings\u001B[38;5;241m.\u001B[39mwarn(\n\u001B[0;32m    313\u001B[0m         msg\u001B[38;5;241m.\u001B[39mformat(arguments\u001B[38;5;241m=\u001B[39marguments),\n\u001B[0;32m    314\u001B[0m         \u001B[38;5;167;01mFutureWarning\u001B[39;00m,\n\u001B[0;32m    315\u001B[0m         stacklevel\u001B[38;5;241m=\u001B[39mfind_stack_level(inspect\u001B[38;5;241m.\u001B[39mcurrentframe()),\n\u001B[0;32m    316\u001B[0m     )\n\u001B[1;32m--> 317\u001B[0m \u001B[38;5;28;01mreturn\u001B[39;00m func(\u001B[38;5;241m*\u001B[39margs, \u001B[38;5;241m*\u001B[39m\u001B[38;5;241m*\u001B[39mkwargs)\n",
      "File \u001B[1;32m~\\anaconda3\\envs\\ox\\lib\\site-packages\\pandas\\core\\frame.py:6004\u001B[0m, in \u001B[0;36mDataFrame.set_index\u001B[1;34m(self, keys, drop, append, inplace, verify_integrity)\u001B[0m\n\u001B[0;32m   6001\u001B[0m                 missing\u001B[38;5;241m.\u001B[39mappend(col)\n\u001B[0;32m   6003\u001B[0m \u001B[38;5;28;01mif\u001B[39;00m missing:\n\u001B[1;32m-> 6004\u001B[0m     \u001B[38;5;28;01mraise\u001B[39;00m \u001B[38;5;167;01mKeyError\u001B[39;00m(\u001B[38;5;124mf\u001B[39m\u001B[38;5;124m\"\u001B[39m\u001B[38;5;124mNone of \u001B[39m\u001B[38;5;132;01m{\u001B[39;00mmissing\u001B[38;5;132;01m}\u001B[39;00m\u001B[38;5;124m are in the columns\u001B[39m\u001B[38;5;124m\"\u001B[39m)\n\u001B[0;32m   6006\u001B[0m \u001B[38;5;28;01mif\u001B[39;00m inplace:\n\u001B[0;32m   6007\u001B[0m     frame \u001B[38;5;241m=\u001B[39m \u001B[38;5;28mself\u001B[39m\n",
      "\u001B[1;31mKeyError\u001B[0m: \"None of ['is_replacedis_replaced'] are in the columns\""
     ]
    }
   ],
   "source": [
    "\n",
    "df = pd.read_excel(f'{data_path}/{col_1}.xlsx', sheet_name=col_2)\n",
    "# Obten only the contingency_table from the file, update the cols names and remove irrelevant data\n",
    "new_df = df.iloc[df.loc[df[df.columns[0]].isnull()].index.item()+1:]\n",
    "\n",
    "new_df.columns= new_df.iloc[0]\n",
    "cols_to_delete_temp = [col for col in cols_to_delete if col in new_df.columns]\n",
    "new_df = new_df.reset_index(drop=True).drop(0).drop(columns= cols_to_delete_temp).set_index(col_1).drop(index= 'No')\n",
    "new_df_1 = new_df.set_index(col_1*len(new_df))\n",
    "new_df_1\n"
   ],
   "metadata": {
    "collapsed": false,
    "pycharm": {
     "name": "#%%\n"
    }
   }
  },
  {
   "cell_type": "code",
   "execution_count": 38,
   "outputs": [
    {
     "data": {
      "text/plain": "['I prefer to not answer', 'Don’t know/not sure']"
     },
     "execution_count": 38,
     "metadata": {},
     "output_type": "execute_result"
    }
   ],
   "source": [
    "cols_to_delete"
   ],
   "metadata": {
    "collapsed": false,
    "pycharm": {
     "name": "#%%\n"
    }
   }
  },
  {
   "cell_type": "code",
   "execution_count": null,
   "outputs": [],
   "source": [
    "\n",
    "new_df = new_df.reset_index(drop=True).drop(0).drop(columns= cols_to_delete_temp).set_index(col_1)\n",
    "# extract the required data for test\n",
    "\n",
    "new_df.drop(index= 'No')"
   ],
   "metadata": {
    "collapsed": false,
    "pycharm": {
     "name": "#%%\n"
    }
   }
  },
  {
   "cell_type": "code",
   "execution_count": null,
   "outputs": [],
   "source": [],
   "metadata": {
    "collapsed": false,
    "pycharm": {
     "name": "#%%\n"
    }
   }
  },
  {
   "cell_type": "code",
   "execution_count": 12,
   "outputs": [
    {
     "data": {
      "text/plain": "['I prefer to not answer', 'Don’t know/not sure']"
     },
     "execution_count": 12,
     "metadata": {},
     "output_type": "execute_result"
    }
   ],
   "source": [
    "cols_to_delete_temp"
   ],
   "metadata": {
    "collapsed": false,
    "pycharm": {
     "name": "#%%\n"
    }
   }
  },
  {
   "cell_type": "markdown",
   "source": [
    "<span style=\"color: red;font-size: 50px\">Test Zone</span>"
   ],
   "metadata": {
    "collapsed": false,
    "pycharm": {
     "name": "#%% md\n"
    }
   }
  },
  {
   "cell_type": "code",
   "execution_count": 244,
   "outputs": [
    {
     "data": {
      "text/plain": "                        post_act  seasons\n0                     More often      1.0\n1     About the same / no change      2.0\n2     About the same / no change      1.0\n3     About the same / no change      1.0\n4     About the same / no change      2.0\n...                          ...      ...\n1813  About the same / no change      0.0\n1816  About the same / no change      1.0\n1817                  Less often      2.0\n1818                  Less often      1.0\n1820  About the same / no change      0.0\n\n[1657 rows x 2 columns]",
      "text/html": "<div>\n<style scoped>\n    .dataframe tbody tr th:only-of-type {\n        vertical-align: middle;\n    }\n\n    .dataframe tbody tr th {\n        vertical-align: top;\n    }\n\n    .dataframe thead th {\n        text-align: right;\n    }\n</style>\n<table border=\"1\" class=\"dataframe\">\n  <thead>\n    <tr style=\"text-align: right;\">\n      <th></th>\n      <th>post_act</th>\n      <th>seasons</th>\n    </tr>\n  </thead>\n  <tbody>\n    <tr>\n      <th>0</th>\n      <td>More often</td>\n      <td>1.0</td>\n    </tr>\n    <tr>\n      <th>1</th>\n      <td>About the same / no change</td>\n      <td>2.0</td>\n    </tr>\n    <tr>\n      <th>2</th>\n      <td>About the same / no change</td>\n      <td>1.0</td>\n    </tr>\n    <tr>\n      <th>3</th>\n      <td>About the same / no change</td>\n      <td>1.0</td>\n    </tr>\n    <tr>\n      <th>4</th>\n      <td>About the same / no change</td>\n      <td>2.0</td>\n    </tr>\n    <tr>\n      <th>...</th>\n      <td>...</td>\n      <td>...</td>\n    </tr>\n    <tr>\n      <th>1813</th>\n      <td>About the same / no change</td>\n      <td>0.0</td>\n    </tr>\n    <tr>\n      <th>1816</th>\n      <td>About the same / no change</td>\n      <td>1.0</td>\n    </tr>\n    <tr>\n      <th>1817</th>\n      <td>Less often</td>\n      <td>2.0</td>\n    </tr>\n    <tr>\n      <th>1818</th>\n      <td>Less often</td>\n      <td>1.0</td>\n    </tr>\n    <tr>\n      <th>1820</th>\n      <td>About the same / no change</td>\n      <td>0.0</td>\n    </tr>\n  </tbody>\n</table>\n<p>1657 rows × 2 columns</p>\n</div>"
     },
     "execution_count": 244,
     "metadata": {},
     "output_type": "execute_result"
    }
   ],
   "source": [
    "# dependent 3\n",
    "var_1 ='post_act'\n",
    "\n",
    "# a.\tDefine var\n",
    "var_2 = 'is_recover'\n",
    "val_1 = 'positive'\n",
    "val_2 = 'negative'\n",
    "col_1 = 'post_act'\n",
    "col_2='seasons'\n",
    "fields_to_test= {var_1:{'I stopped cycling':val_2, 'Less often':val_2,'About the same / no change':val_1,'More often':val_1}}\n",
    "test_data = pre_test_data[[col_1, col_2]]\n",
    "test_data = test_data[~test_data.isin([-1]).any(axis=1)]\n",
    "test_data"
   ],
   "metadata": {
    "collapsed": false,
    "pycharm": {
     "name": "#%%\n"
    }
   }
  },
  {
   "cell_type": "code",
   "execution_count": 245,
   "outputs": [
    {
     "data": {
      "text/plain": "      post_act  seasons\n0     positive      1.0\n1     positive      2.0\n2     positive      1.0\n3     positive      1.0\n4     positive      2.0\n...        ...      ...\n1813  positive      0.0\n1816  positive      1.0\n1817  negative      2.0\n1818  negative      1.0\n1820  positive      0.0\n\n[1657 rows x 2 columns]",
      "text/html": "<div>\n<style scoped>\n    .dataframe tbody tr th:only-of-type {\n        vertical-align: middle;\n    }\n\n    .dataframe tbody tr th {\n        vertical-align: top;\n    }\n\n    .dataframe thead th {\n        text-align: right;\n    }\n</style>\n<table border=\"1\" class=\"dataframe\">\n  <thead>\n    <tr style=\"text-align: right;\">\n      <th></th>\n      <th>post_act</th>\n      <th>seasons</th>\n    </tr>\n  </thead>\n  <tbody>\n    <tr>\n      <th>0</th>\n      <td>positive</td>\n      <td>1.0</td>\n    </tr>\n    <tr>\n      <th>1</th>\n      <td>positive</td>\n      <td>2.0</td>\n    </tr>\n    <tr>\n      <th>2</th>\n      <td>positive</td>\n      <td>1.0</td>\n    </tr>\n    <tr>\n      <th>3</th>\n      <td>positive</td>\n      <td>1.0</td>\n    </tr>\n    <tr>\n      <th>4</th>\n      <td>positive</td>\n      <td>2.0</td>\n    </tr>\n    <tr>\n      <th>...</th>\n      <td>...</td>\n      <td>...</td>\n    </tr>\n    <tr>\n      <th>1813</th>\n      <td>positive</td>\n      <td>0.0</td>\n    </tr>\n    <tr>\n      <th>1816</th>\n      <td>positive</td>\n      <td>1.0</td>\n    </tr>\n    <tr>\n      <th>1817</th>\n      <td>negative</td>\n      <td>2.0</td>\n    </tr>\n    <tr>\n      <th>1818</th>\n      <td>negative</td>\n      <td>1.0</td>\n    </tr>\n    <tr>\n      <th>1820</th>\n      <td>positive</td>\n      <td>0.0</td>\n    </tr>\n  </tbody>\n</table>\n<p>1657 rows × 2 columns</p>\n</div>"
     },
     "execution_count": 245,
     "metadata": {},
     "output_type": "execute_result"
    }
   ],
   "source": [
    "\n",
    "# c.\tCreate group\n",
    "for item in fields_to_test.items():\n",
    "    internal_dict  = item[1]\n",
    "    var_temp = item[0]\n",
    "    test_data[var_temp] =  test_data[var_temp].apply(lambda x: internal_dict[x] if x in internal_dict else x)\n",
    "test_data"
   ],
   "metadata": {
    "collapsed": false,
    "pycharm": {
     "name": "#%%\n"
    }
   }
  },
  {
   "cell_type": "code",
   "execution_count": 243,
   "outputs": [
    {
     "data": {
      "text/plain": "{'I stopped cycling': 'high',\n 'Less often': 'high',\n 'About the same / no change': 'low',\n 'More often': 'low'}"
     },
     "execution_count": 243,
     "metadata": {},
     "output_type": "execute_result"
    }
   ],
   "source": [
    "internal_dict"
   ],
   "metadata": {
    "collapsed": false,
    "pycharm": {
     "name": "#%%\n"
    }
   }
  },
  {
   "cell_type": "code",
   "execution_count": 246,
   "outputs": [
    {
     "data": {
      "text/plain": "seasons         0.0        1.0        2.0\npost_act                                 \nnegative  82.439024  45.986125  22.121896\npositive  17.560976  54.013875  77.878104",
      "text/html": "<div>\n<style scoped>\n    .dataframe tbody tr th:only-of-type {\n        vertical-align: middle;\n    }\n\n    .dataframe tbody tr th {\n        vertical-align: top;\n    }\n\n    .dataframe thead th {\n        text-align: right;\n    }\n</style>\n<table border=\"1\" class=\"dataframe\">\n  <thead>\n    <tr style=\"text-align: right;\">\n      <th>seasons</th>\n      <th>0.0</th>\n      <th>1.0</th>\n      <th>2.0</th>\n    </tr>\n    <tr>\n      <th>post_act</th>\n      <th></th>\n      <th></th>\n      <th></th>\n    </tr>\n  </thead>\n  <tbody>\n    <tr>\n      <th>negative</th>\n      <td>82.439024</td>\n      <td>45.986125</td>\n      <td>22.121896</td>\n    </tr>\n    <tr>\n      <th>positive</th>\n      <td>17.560976</td>\n      <td>54.013875</td>\n      <td>77.878104</td>\n    </tr>\n  </tbody>\n</table>\n</div>"
     },
     "execution_count": 246,
     "metadata": {},
     "output_type": "execute_result"
    }
   ],
   "source": [
    "\n",
    "# d.\tCross tub\n",
    "contingency_table = pd.crosstab(test_data[col_1], test_data[col_2], normalize='columns') * 100\n",
    "contingency_table"
   ],
   "metadata": {
    "collapsed": false,
    "pycharm": {
     "name": "#%%\n"
    }
   }
  },
  {
   "cell_type": "code",
   "execution_count": 247,
   "outputs": [
    {
     "name": "stdout",
     "output_type": "stream",
     "text": [
      "seasons         0.0        1.0        2.0\n",
      "post_act                                 \n",
      "negative  82.439024  45.986125  22.121896\n",
      "positive  17.560976  54.013875  77.878104\n",
      "Chi-square test statistic: 73.82059854544553\n",
      "p-value: 9.333847489738014e-17\n"
     ]
    }
   ],
   "source": [
    "\n",
    "# e.\ttest\n",
    "chi2, p, _, _ = stats.chi2_contingency(contingency_table)\n",
    "\n",
    "# Print the chi-square test statistic and p-value\n",
    "print(contingency_table)\n",
    "print('Chi-square test statistic:', chi2)\n",
    "print('p-value:', p)"
   ],
   "metadata": {
    "collapsed": false,
    "pycharm": {
     "name": "#%%\n"
    }
   }
  },
  {
   "cell_type": "markdown",
   "source": [],
   "metadata": {
    "collapsed": false,
    "pycharm": {
     "name": "#%% md\n"
    }
   }
  },
  {
   "cell_type": "code",
   "execution_count": null,
   "outputs": [],
   "source": [],
   "metadata": {
    "collapsed": false,
    "pycharm": {
     "name": "#%%\n"
    }
   }
  }
 ],
 "metadata": {
  "kernelspec": {
   "display_name": "Python 3",
   "language": "python",
   "name": "python3"
  },
  "language_info": {
   "codemirror_mode": {
    "name": "ipython",
    "version": 2
   },
   "file_extension": ".py",
   "mimetype": "text/x-python",
   "name": "python",
   "nbconvert_exporter": "python",
   "pygments_lexer": "ipython2",
   "version": "2.7.6"
  }
 },
 "nbformat": 4,
 "nbformat_minor": 0
}