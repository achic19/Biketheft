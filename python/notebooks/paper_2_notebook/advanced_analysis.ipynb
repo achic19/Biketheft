{
 "cells": [
  {
   "cell_type": "code",
   "execution_count": 1,
   "outputs": [
    {
     "data": {
      "text/plain": "<IPython.core.display.HTML object>",
      "text/html": "<style>.container { width:100% !important; }</style>"
     },
     "metadata": {},
     "output_type": "display_data"
    }
   ],
   "source": [
    "from scipy.stats import chi2_contingency\n",
    "import calendar\n",
    "import numpy as np\n",
    "months = list(map(lambda x: x.lower(), calendar.month_name))[1:]\n",
    "import pandas as pd\n",
    "from pandas import DataFrame\n",
    "import statsmodels.api as sm\n",
    "\n",
    "from IPython.core.interactiveshell import InteractiveShell\n",
    "\n",
    "InteractiveShell.ast_node_interactivity = 'all'\n",
    "\n",
    "import matplotlib.pylab as pylab\n",
    "\n",
    "\n",
    "params = {'legend.fontsize': 'x-large',\n",
    "          'figure.figsize': (15, 10),\n",
    "          'axes.labelsize': 'x-large',\n",
    "          'axes.titlesize': 'x-large',\n",
    "          'xtick.labelsize': 'x-large',\n",
    "          'ytick.labelsize': 'x-large'}\n",
    "pylab.rcParams.update(params)\n",
    "\n",
    "import os\n",
    "\n",
    "project_folder = f'{os.path.dirname(os.path.dirname(os.path.dirname(os.getcwd())))}/data/process'\n",
    "import warnings\n",
    "\n",
    "warnings.filterwarnings(action='ignore')\n",
    "\n",
    "from IPython.core.display import display, HTML\n",
    "# Set the display width to fit the entire notebook width\n",
    "display(HTML(\"<style>.container { width:100% !important; }</style>\"))\n",
    "from IPython.display import Markdown\n",
    "from IPython.display import display_html\n",
    "import scipy.stats as stats\n",
    "vals_to_removed= ['I prefer to not answer','Don’t know/not sure',None,'nan']\n",
    "predictors ={'Q10':'is_registered','Q12':'is_insured','Q13':'value_approx','Q14':'is_electric','Q18':'is_recover',  'Q28':'seasons', 'Q29':'purpose', 'age_groups': 'age_groups', 'Q35': 'gender', 'Q36': 'income','Q37':'nm_bikes','Q39':'ethnicity', 'country':'country'}\n",
    "predictors_names_0 = list(predictors.values())\n",
    "dependent_vars = {'Q25':'is_replaced','Q30':'mode_alt', 'Q31':'post_act'}\n",
    "all_vars = predictors.copy()\n",
    "all_vars.update(dependent_vars)"
   ],
   "metadata": {
    "collapsed": false,
    "pycharm": {
     "name": "#%%\n"
    }
   }
  },
  {
   "cell_type": "markdown",
   "source": [
    "<span style=\"color: red;font-size: 50px\">RUN THE NEXT CELL FOR THE FIRST TIME ONLY</span>"
   ],
   "metadata": {
    "collapsed": false,
    "pycharm": {
     "name": "#%% md\n"
    }
   }
  },
  {
   "cell_type": "code",
   "execution_count": 37,
   "outputs": [
    {
     "data": {
      "text/plain": "            is_registered           is_insured value_approx  \\\n0                     Yes  Don’t know/not sure  $1000-$1999   \n1                      No                   No   $2000-3999   \n2                      No                  Yes   $2000-3999   \n3                      No                  Yes    $500-$999   \n4                     Yes                  Yes  $1000-$1999   \n...                   ...                  ...          ...   \n1816                  Yes                  Yes   $2000-3999   \n1817  Don’t know/not sure                   No    $250-$499   \n1818                   No                   No    $500-$999   \n1819                   No                   No   $2000-3999   \n1820                   No                   No   $2000-3999   \n\n                              is_electric is_recover seasons  \\\n0     Yes, with pedal-assist and throttle         No     1.0   \n1     Yes, with pedal-assist and throttle         No     2.0   \n2                                     ​No         No     1.0   \n3                                     ​No         No     1.0   \n4                                     ​No         No     2.0   \n...                                   ...        ...     ...   \n1816  Yes, with pedal-assist and throttle         No     1.0   \n1817                                  nan         No     2.0   \n1818                                  ​No         No     1.0   \n1819                                  ​No         No     nan   \n1820                                  ​No         No     0.0   \n\n                                                purpose          age_groups  \\\n0                                Recreation or exercise  Older adults (>64)   \n1     Equal mix of recreation, exercise, and transpo...  Older adults (>64)   \n2                                Recreation or exercise  Older adults (>64)   \n3                                Recreation or exercise  Older adults (>64)   \n4     Equal mix of recreation, exercise, and transpo...  Older adults (>64)   \n...                                                 ...                 ...   \n1816  Equal mix of recreation, exercise, and transpo...                 NaN   \n1817                                     Transportation                 NaN   \n1818  Equal mix of recreation, exercise, and transpo...                 NaN   \n1819                                                nan                 NaN   \n1820                             Recreation or exercise                 NaN   \n\n                 gender                                  income  \\\n0                 Woman    Between $20,000 and $34,999 per year   \n1                   Man    Between $20,000 and $34,999 per year   \n2                   Man  Between $100,000 and $149,999 per year   \n3                 Woman                  I prefer to not answer   \n4                   Man  Between $100,000 and $149,999 per year   \n...                 ...                                     ...   \n1816                nan                                     nan   \n1817  Prefer not to say                  I prefer to not answer   \n1818              Woman                  Under $20,000 per year   \n1819                nan                                     nan   \n1820  Prefer not to say                  I prefer to not answer   \n\n                    nm_bikes ethnicity country  \\\n0                        One  European     CAN   \n1                      Three  European     USA   \n2                        Two  European     USA   \n3                        One  European     CAN   \n4                        Two  European     USA   \n...                      ...       ...     ...   \n1816                     nan      None     USA   \n1817                   Three      None     USA   \n1818                     Two     Other     USA   \n1819                     nan      None     CAN   \n1820  I prefer to not answer      None     USA   \n\n                                            is_replaced  \\\n0     ​Yes, and I replaced it with exactly what was ...   \n1     ​Yes, and I replaced it with exactly what was ...   \n2     ​Yes, and I replaced it with exactly what was ...   \n3     ​Yes, and I replaced it with exactly what was ...   \n4     ​Yes, and I replaced it with exactly what was ...   \n...                                                 ...   \n1816  ​Yes, and I replaced it with exactly what was ...   \n1817     Yes, but the replacement was something cheaper   \n1818     Yes, but the replacement was something cheaper   \n1819                                                 No   \n1820  ​Yes, and I replaced it with exactly what was ...   \n\n                     mode_alt                    post_act  \n0     Didn’t make those trips                  More often  \n1                         NST  About the same / no change  \n2                         NST  About the same / no change  \n3                          ST  About the same / no change  \n4                          ST  About the same / no change  \n...                       ...                         ...  \n1816                      NST  About the same / no change  \n1817                      NST                  Less often  \n1818                      NST                  Less often  \n1819                      nan                         nan  \n1820                       ST  About the same / no change  \n\n[1821 rows x 16 columns]",
      "text/html": "<div>\n<style scoped>\n    .dataframe tbody tr th:only-of-type {\n        vertical-align: middle;\n    }\n\n    .dataframe tbody tr th {\n        vertical-align: top;\n    }\n\n    .dataframe thead th {\n        text-align: right;\n    }\n</style>\n<table border=\"1\" class=\"dataframe\">\n  <thead>\n    <tr style=\"text-align: right;\">\n      <th></th>\n      <th>is_registered</th>\n      <th>is_insured</th>\n      <th>value_approx</th>\n      <th>is_electric</th>\n      <th>is_recover</th>\n      <th>seasons</th>\n      <th>purpose</th>\n      <th>age_groups</th>\n      <th>gender</th>\n      <th>income</th>\n      <th>nm_bikes</th>\n      <th>ethnicity</th>\n      <th>country</th>\n      <th>is_replaced</th>\n      <th>mode_alt</th>\n      <th>post_act</th>\n    </tr>\n  </thead>\n  <tbody>\n    <tr>\n      <th>0</th>\n      <td>Yes</td>\n      <td>Don’t know/not sure</td>\n      <td>$1000-$1999</td>\n      <td>Yes, with pedal-assist and throttle</td>\n      <td>No</td>\n      <td>1.0</td>\n      <td>Recreation or exercise</td>\n      <td>Older adults (&gt;64)</td>\n      <td>Woman</td>\n      <td>Between $20,000 and $34,999 per year</td>\n      <td>One</td>\n      <td>European</td>\n      <td>CAN</td>\n      <td>​Yes, and I replaced it with exactly what was ...</td>\n      <td>Didn’t make those trips</td>\n      <td>More often</td>\n    </tr>\n    <tr>\n      <th>1</th>\n      <td>No</td>\n      <td>No</td>\n      <td>$2000-3999</td>\n      <td>Yes, with pedal-assist and throttle</td>\n      <td>No</td>\n      <td>2.0</td>\n      <td>Equal mix of recreation, exercise, and transpo...</td>\n      <td>Older adults (&gt;64)</td>\n      <td>Man</td>\n      <td>Between $20,000 and $34,999 per year</td>\n      <td>Three</td>\n      <td>European</td>\n      <td>USA</td>\n      <td>​Yes, and I replaced it with exactly what was ...</td>\n      <td>NST</td>\n      <td>About the same / no change</td>\n    </tr>\n    <tr>\n      <th>2</th>\n      <td>No</td>\n      <td>Yes</td>\n      <td>$2000-3999</td>\n      <td>​No</td>\n      <td>No</td>\n      <td>1.0</td>\n      <td>Recreation or exercise</td>\n      <td>Older adults (&gt;64)</td>\n      <td>Man</td>\n      <td>Between $100,000 and $149,999 per year</td>\n      <td>Two</td>\n      <td>European</td>\n      <td>USA</td>\n      <td>​Yes, and I replaced it with exactly what was ...</td>\n      <td>NST</td>\n      <td>About the same / no change</td>\n    </tr>\n    <tr>\n      <th>3</th>\n      <td>No</td>\n      <td>Yes</td>\n      <td>$500-$999</td>\n      <td>​No</td>\n      <td>No</td>\n      <td>1.0</td>\n      <td>Recreation or exercise</td>\n      <td>Older adults (&gt;64)</td>\n      <td>Woman</td>\n      <td>I prefer to not answer</td>\n      <td>One</td>\n      <td>European</td>\n      <td>CAN</td>\n      <td>​Yes, and I replaced it with exactly what was ...</td>\n      <td>ST</td>\n      <td>About the same / no change</td>\n    </tr>\n    <tr>\n      <th>4</th>\n      <td>Yes</td>\n      <td>Yes</td>\n      <td>$1000-$1999</td>\n      <td>​No</td>\n      <td>No</td>\n      <td>2.0</td>\n      <td>Equal mix of recreation, exercise, and transpo...</td>\n      <td>Older adults (&gt;64)</td>\n      <td>Man</td>\n      <td>Between $100,000 and $149,999 per year</td>\n      <td>Two</td>\n      <td>European</td>\n      <td>USA</td>\n      <td>​Yes, and I replaced it with exactly what was ...</td>\n      <td>ST</td>\n      <td>About the same / no change</td>\n    </tr>\n    <tr>\n      <th>...</th>\n      <td>...</td>\n      <td>...</td>\n      <td>...</td>\n      <td>...</td>\n      <td>...</td>\n      <td>...</td>\n      <td>...</td>\n      <td>...</td>\n      <td>...</td>\n      <td>...</td>\n      <td>...</td>\n      <td>...</td>\n      <td>...</td>\n      <td>...</td>\n      <td>...</td>\n      <td>...</td>\n    </tr>\n    <tr>\n      <th>1816</th>\n      <td>Yes</td>\n      <td>Yes</td>\n      <td>$2000-3999</td>\n      <td>Yes, with pedal-assist and throttle</td>\n      <td>No</td>\n      <td>1.0</td>\n      <td>Equal mix of recreation, exercise, and transpo...</td>\n      <td>NaN</td>\n      <td>nan</td>\n      <td>nan</td>\n      <td>nan</td>\n      <td>None</td>\n      <td>USA</td>\n      <td>​Yes, and I replaced it with exactly what was ...</td>\n      <td>NST</td>\n      <td>About the same / no change</td>\n    </tr>\n    <tr>\n      <th>1817</th>\n      <td>Don’t know/not sure</td>\n      <td>No</td>\n      <td>$250-$499</td>\n      <td>nan</td>\n      <td>No</td>\n      <td>2.0</td>\n      <td>Transportation</td>\n      <td>NaN</td>\n      <td>Prefer not to say</td>\n      <td>I prefer to not answer</td>\n      <td>Three</td>\n      <td>None</td>\n      <td>USA</td>\n      <td>Yes, but the replacement was something cheaper</td>\n      <td>NST</td>\n      <td>Less often</td>\n    </tr>\n    <tr>\n      <th>1818</th>\n      <td>No</td>\n      <td>No</td>\n      <td>$500-$999</td>\n      <td>​No</td>\n      <td>No</td>\n      <td>1.0</td>\n      <td>Equal mix of recreation, exercise, and transpo...</td>\n      <td>NaN</td>\n      <td>Woman</td>\n      <td>Under $20,000 per year</td>\n      <td>Two</td>\n      <td>Other</td>\n      <td>USA</td>\n      <td>Yes, but the replacement was something cheaper</td>\n      <td>NST</td>\n      <td>Less often</td>\n    </tr>\n    <tr>\n      <th>1819</th>\n      <td>No</td>\n      <td>No</td>\n      <td>$2000-3999</td>\n      <td>​No</td>\n      <td>No</td>\n      <td>nan</td>\n      <td>nan</td>\n      <td>NaN</td>\n      <td>nan</td>\n      <td>nan</td>\n      <td>nan</td>\n      <td>None</td>\n      <td>CAN</td>\n      <td>No</td>\n      <td>nan</td>\n      <td>nan</td>\n    </tr>\n    <tr>\n      <th>1820</th>\n      <td>No</td>\n      <td>No</td>\n      <td>$2000-3999</td>\n      <td>​No</td>\n      <td>No</td>\n      <td>0.0</td>\n      <td>Recreation or exercise</td>\n      <td>NaN</td>\n      <td>Prefer not to say</td>\n      <td>I prefer to not answer</td>\n      <td>I prefer to not answer</td>\n      <td>None</td>\n      <td>USA</td>\n      <td>​Yes, and I replaced it with exactly what was ...</td>\n      <td>ST</td>\n      <td>About the same / no change</td>\n    </tr>\n  </tbody>\n</table>\n<p>1821 rows × 16 columns</p>\n</div>"
     },
     "execution_count": 37,
     "metadata": {},
     "output_type": "execute_result"
    }
   ],
   "source": [
    "\n",
    "# Change col names and leave only relevant cols as well as delete unnecessary spaces and parenthesis (except age group)\n",
    "cols_names = list(all_vars.values())\n",
    "data_init = pd.read_csv(f'{project_folder}/new_data/new_data_2.csv')\n",
    "temp = data_init['age_groups']\n",
    "d_analysis = data_init.rename(columns=all_vars)[cols_names].astype(str).replace(r\"\\(.*?\\)\", \"\").astype(str).replace(\":\", \"\").apply(lambda row: [d.split('(')[0].strip() if '(' in d else d.strip() for d in row])\n",
    "d_analysis['age_groups'] = temp\n",
    "\n",
    "# Update age group\n",
    "groups_name = [\n",
    "    \"Children (<13)\",\n",
    "     \"Adolescents (13-17)\",\n",
    "     \"Young adults (18-24)\",\n",
    "     \"Adults (25-40)\",\n",
    "     \"Adults (41-64)\",\n",
    "     \"Older adults (>64)\"\n",
    " ]\n",
    "def get_age_groups(num):\n",
    "    if num <13:\n",
    "        return groups_name[0]\n",
    "    if num <18:\n",
    "        return groups_name[1]\n",
    "    if num < 25:\n",
    "        return groups_name[2]\n",
    "    if num < 40:\n",
    "        return groups_name[3]\n",
    "    if num < 64:\n",
    "        return groups_name[4]\n",
    "    if num > 63:\n",
    "        return groups_name[5]\n",
    "    return num\n",
    "# This method translate the alternative data into how much the alternative is sustainable\n",
    "def sus_alter(row):\n",
    "    alt_stat = ['ST','NST']\n",
    "    if row in  ['Walk','Cycle, personal bicycle','Cycle, rental bicycle','Cycle, public bike share','Micro mobility','Transit']:\n",
    "        return alt_stat[0]\n",
    "    elif row in ['Car, as a driver','Car, as a passenger','Taxi / Ride-hailing service','Motorcycle or scooter']:\n",
    "        return alt_stat[1]\n",
    "    else:\n",
    "        return row\n",
    "d_analysis['age_groups'] = data_init['age'].apply(get_age_groups)\n",
    "d_analysis['mode_alt'] = d_analysis['mode_alt'].apply(sus_alter)\n",
    "d_analysis['ethnicity'] = d_analysis['ethnicity'].apply(lambda x:None if x in vals_to_removed else 'European' if x=='European' else 'Other')\n",
    "d_analysis.to_csv(f'{project_folder}/new_data/new_data_3.csv')\n",
    "merge_q =d_analysis\n",
    "merge_q"
   ],
   "metadata": {
    "collapsed": false,
    "pycharm": {
     "name": "#%%\n"
    }
   }
  },
  {
   "cell_type": "code",
   "execution_count": 43,
   "outputs": [],
   "source": [
    "data_init = pd.read_csv(f'{project_folder}/new_data/new_data_2.csv')\n",
    "# This code create new table which summing up our dependent vars\n",
    "new_names = ['Is replaced','Mode alternative','Post activity']\n",
    "all_data=[]\n",
    "for i,my_var in enumerate(dependent_vars.keys()):\n",
    "    data = pd.DataFrame(data_init[my_var].value_counts())\n",
    "    data['per'] = (data/data.sum()*100).round(0)\n",
    "    data =  data.rename(columns={my_var:'Count'})\n",
    "    data[new_names[i]] = new_names[i]\n",
    "    data.index.name = 'Variables'\n",
    "    data = data.reset_index()\n",
    "    data  =data.set_index([new_names[i], 'Variables'])\n",
    "    all_data.append(data)\n",
    "concatenated_df = pd.concat(all_data)\n",
    "concatenated_df.to_csv('output_2/data_with_insight/dep_table.csv')"
   ],
   "metadata": {
    "collapsed": false,
    "pycharm": {
     "name": "#%%\n"
    }
   }
  },
  {
   "cell_type": "code",
   "execution_count": 37,
   "outputs": [
    {
     "name": "stdout",
     "output_type": "stream",
     "text": [
      "{'value_approx': 4, 'is_electric': 0, 'bicycle_type': 13, 'is_recover': 0, 'seasons': 0, 'purpose': 6, 'age_groups': 0, 'gender': 32, 'income': 164, 'nm_bikes': 11, 'education': 24, 'country': 0, 'is_replaced': 0, 'mode_alt': 22, 'post_act': 0}\n"
     ]
    }
   ],
   "source": [
    "'''dt_df_t= merge_q.drop(columns='Unnamed: 0').fillna(-1)\n",
    "def to_ordinal_dt(col):\n",
    "    # This function gets a column and return for each value its ordinal values as it stored in @more_data (for irrelevant data return -1)\n",
    "    return dt_df[col.name].apply(lambda x:more_data[col.name][0].index(x) if x not in ['I prefer to not answer','Don’t know/not sure','Prefer not to say',-1,'Adolescents (13-17)','Children (<13)','Non-binary / third gender'] else -1 )\n",
    "dt_df_t_1 = dt_df_t.apply(to_ordinal_dt)\n",
    "count_per_column = {col: dt_df_t_1[col].value_counts().get(-1, 0) for col in dt_df_t_1.columns}\n",
    "print(count_per_column)'''\n"
   ],
   "metadata": {
    "collapsed": false,
    "pycharm": {
     "name": "#%%\n"
    }
   }
  },
  {
   "cell_type": "markdown",
   "source": [
    "<span style=\"color: Orange;font-size: 50px\">Always run the following cell</span>"
   ],
   "metadata": {
    "collapsed": false,
    "pycharm": {
     "name": "#%% md\n"
    }
   }
  },
  {
   "cell_type": "code",
   "execution_count": 4,
   "outputs": [
    {
     "data": {
      "text/plain": "{'is_registered': [['No', 'Yes', 'Didn’t make those trips'], False],\n 'is_insured': [['Don’t know/not sure', 'No', 'Yes', 'I prefer to not answer'],\n  False],\n 'value_approx': [['Less than $250',\n   '$250-$499',\n   '$500-$999',\n   '$1000-$1999',\n   '$2000-3999',\n   '$4000-6999',\n   '$7000 or more',\n   'Don’t know/not sure',\n   'I prefer to not answer'],\n  False],\n 'is_electric': [['\\u200bNo',\n   'Yes, with pedal-assist',\n   'Yes, with pedal-assist and throttle'],\n  False],\n 'is_recover': [['No', 'Yes'], False],\n 'seasons': [range(0, 3), False],\n 'purpose': [['Recreation or exercise',\n   'Equal mix of recreation, exercise, and transportation trips',\n   'Transportation',\n   'Don’t know/not sure'],\n  False],\n 'age_groups': [['Children (<13)',\n   'Adolescents (13-17)',\n   'Young adults (18-24)',\n   'Adults (25-40)',\n   'Adults (41-64)',\n   'Older adults (>64)'],\n  False],\n 'gender': [['Woman', 'Man', 'Non-binary / third gender', 'Prefer not to say'],\n  False],\n 'income': [['Under $20,000 per year',\n   'Between $20,000 and $34,999 per year',\n   'Between $35,000 and $49,999 per year',\n   'Between $50,000 and $74,999 per year',\n   'Between $75,000 and $99,999 per year',\n   'Between $100,000 and $149,999 per year',\n   'Between $150,000 and $199,999 per year',\n   '$200,000 or more per year',\n   'I prefer to not answer',\n   'Don’t know/not sure'],\n  False],\n 'nm_bikes': [['Zero',\n   'One',\n   'Two',\n   'Three',\n   'Four',\n   'Five or more',\n   'I prefer to not answer'],\n  False],\n 'ethnicity': [['European', 'Other'], False],\n 'country': [['CAN', 'USA'], False],\n 'is_replaced': [['No',\n   'Yes, but the replacement was something cheaper',\n   '\\u200bYes, and I replaced it with exactly what was stolen or something more expensive'],\n  False],\n 'mode_alt': [['ST', 'NST', 'Didn’t make those trips'], False],\n 'post_act': [['Less often',\n   'About the same / no change',\n   'More often',\n   'I stopped cycling'],\n  False]}"
     },
     "execution_count": 4,
     "metadata": {},
     "output_type": "execute_result"
    }
   ],
   "source": [
    "# read data\n",
    "merge_q = pd.read_csv(f'{project_folder}/new_data/new_data_3.csv').drop(columns='Unnamed: 0')\n",
    "# organize and populate @more_data  dictionary\n",
    "more_data ={item:[list(DataFrame(merge_q[item].unique()).dropna()[0]),False] for  item in all_vars.values()}\n",
    "\n",
    "\n",
    "# Code relevant for reindex\n",
    "# Bicycle attributes\n",
    "q= 'value_approx'\n",
    "df_t = DataFrame(merge_q[q].unique()).dropna().sort_values(by=0, ascending=0).reset_index(drop=True)\n",
    "more_data[q][0] = pd.concat([df_t.iloc[0], df_t.iloc[6], df_t.iloc[4], df_t.iloc[8], df_t.iloc[7], df_t.iloc[5], df_t.iloc[1:4].sort_values(by=0, ascending=1)])[0].to_list()\n",
    "\n",
    "# Demographic\n",
    "\n",
    "q = 'age_groups'\n",
    "more_data[q][0] = DataFrame(merge_q[q].unique()).dropna()[::-1][0].to_list()\n",
    "\n",
    "\n",
    "more_data['seasons'][0] = range(3)\n",
    "q= 'income'\n",
    "df_t = DataFrame(merge_q[q].unique()).dropna().sort_values(by=0, ascending=0).reset_index(drop=True)\n",
    "more_data[q][0]= pd.concat([df_t.iloc[0], df_t.iloc[6:2:-1], df_t.iloc[8:6:-1], df_t.iloc[9], df_t.iloc[1:3]])[0].to_list()\n",
    "q = 'nm_bikes'\n",
    "df_t = DataFrame(merge_q[q].unique()).dropna().sort_values(by=0, ascending=0).reset_index(drop=True)\n",
    "more_data[q][0]= pd.concat([df_t.iloc[0], df_t.iloc[3], df_t.iloc[1:3], df_t.iloc[5:], df_t.iloc[4]])[0].to_list()\n",
    "electric = merge_q['is_electric'].unique()\n",
    "more_data['is_electric'][0]= [electric[1],electric[2], electric[0]]\n",
    "\n",
    "\n",
    "# for the dependent variable post_act:\n",
    "more_data['post_act'][0]= ['Less often',\n",
    "                            'About the same / no change',\n",
    "                            'More often',\n",
    "                            'I stopped cycling'\n",
    "]\n",
    "# for the dependent variable post_act:\n",
    "more_data['is_replaced'][0]= ['No',\n",
    "                              'Yes, but the replacement was something cheaper',\n",
    "                            '\\u200bYes, and I replaced it with exactly what was stolen or something more expensive'\n",
    "]\n",
    "more_data['mode_alt'][0]=['ST','NST','Didn’t make those trips']\n",
    "more_data['is_registered'][0]=['No','Yes','Didn’t make those trips']\n"
   ],
   "metadata": {
    "collapsed": false,
    "pycharm": {
     "name": "#%%\n"
    }
   }
  },
  {
   "cell_type": "code",
   "execution_count": 5,
   "outputs": [
    {
     "data": {
      "text/plain": "            is_registered           is_insured value_approx  \\\n0                     Yes  Don’t know/not sure  $1000-$1999   \n1                      No                   No   $2000-3999   \n2                      No                  Yes   $2000-3999   \n3                      No                  Yes    $500-$999   \n4                     Yes                  Yes  $1000-$1999   \n...                   ...                  ...          ...   \n1816                  Yes                  Yes   $2000-3999   \n1817  Don’t know/not sure                   No    $250-$499   \n1818                   No                   No    $500-$999   \n1819                   No                   No   $2000-3999   \n1820                   No                   No   $2000-3999   \n\n                              is_electric is_recover  seasons  \\\n0     Yes, with pedal-assist and throttle         No      1.0   \n1     Yes, with pedal-assist and throttle         No      2.0   \n2                                     ​No         No      1.0   \n3                                     ​No         No      1.0   \n4                                     ​No         No      2.0   \n...                                   ...        ...      ...   \n1816  Yes, with pedal-assist and throttle         No      1.0   \n1817                                  NaN         No      2.0   \n1818                                  ​No         No      1.0   \n1819                                  ​No         No      NaN   \n1820                                  ​No         No      0.0   \n\n                                                purpose          age_groups  \\\n0                                Recreation or exercise  Older adults (>64)   \n1     Equal mix of recreation, exercise, and transpo...  Older adults (>64)   \n2                                Recreation or exercise  Older adults (>64)   \n3                                Recreation or exercise  Older adults (>64)   \n4     Equal mix of recreation, exercise, and transpo...  Older adults (>64)   \n...                                                 ...                 ...   \n1816  Equal mix of recreation, exercise, and transpo...                 NaN   \n1817                                     Transportation                 NaN   \n1818  Equal mix of recreation, exercise, and transpo...                 NaN   \n1819                                                NaN                 NaN   \n1820                             Recreation or exercise                 NaN   \n\n                 gender                                  income  \\\n0                 Woman    Between $20,000 and $34,999 per year   \n1                   Man    Between $20,000 and $34,999 per year   \n2                   Man  Between $100,000 and $149,999 per year   \n3                 Woman                  I prefer to not answer   \n4                   Man  Between $100,000 and $149,999 per year   \n...                 ...                                     ...   \n1816                NaN                                     NaN   \n1817  Prefer not to say                  I prefer to not answer   \n1818              Woman                  Under $20,000 per year   \n1819                NaN                                     NaN   \n1820  Prefer not to say                  I prefer to not answer   \n\n                    nm_bikes ethnicity country  \\\n0                        One  European     CAN   \n1                      Three  European     USA   \n2                        Two  European     USA   \n3                        One  European     CAN   \n4                        Two  European     USA   \n...                      ...       ...     ...   \n1816                     NaN       NaN     USA   \n1817                   Three       NaN     USA   \n1818                     Two     Other     USA   \n1819                     NaN       NaN     CAN   \n1820  I prefer to not answer       NaN     USA   \n\n                                            is_replaced  \\\n0     ​Yes, and I replaced it with exactly what was ...   \n1     ​Yes, and I replaced it with exactly what was ...   \n2     ​Yes, and I replaced it with exactly what was ...   \n3     ​Yes, and I replaced it with exactly what was ...   \n4     ​Yes, and I replaced it with exactly what was ...   \n...                                                 ...   \n1816  ​Yes, and I replaced it with exactly what was ...   \n1817     Yes, but the replacement was something cheaper   \n1818     Yes, but the replacement was something cheaper   \n1819                                                 No   \n1820  ​Yes, and I replaced it with exactly what was ...   \n\n                     mode_alt                    post_act  \n0     Didn’t make those trips                  More often  \n1                         NST  About the same / no change  \n2                         NST  About the same / no change  \n3                          ST  About the same / no change  \n4                          ST  About the same / no change  \n...                       ...                         ...  \n1816                      NST  About the same / no change  \n1817                      NST                  Less often  \n1818                      NST                  Less often  \n1819                      NaN                         NaN  \n1820                       ST  About the same / no change  \n\n[1821 rows x 16 columns]",
      "text/html": "<div>\n<style scoped>\n    .dataframe tbody tr th:only-of-type {\n        vertical-align: middle;\n    }\n\n    .dataframe tbody tr th {\n        vertical-align: top;\n    }\n\n    .dataframe thead th {\n        text-align: right;\n    }\n</style>\n<table border=\"1\" class=\"dataframe\">\n  <thead>\n    <tr style=\"text-align: right;\">\n      <th></th>\n      <th>is_registered</th>\n      <th>is_insured</th>\n      <th>value_approx</th>\n      <th>is_electric</th>\n      <th>is_recover</th>\n      <th>seasons</th>\n      <th>purpose</th>\n      <th>age_groups</th>\n      <th>gender</th>\n      <th>income</th>\n      <th>nm_bikes</th>\n      <th>ethnicity</th>\n      <th>country</th>\n      <th>is_replaced</th>\n      <th>mode_alt</th>\n      <th>post_act</th>\n    </tr>\n  </thead>\n  <tbody>\n    <tr>\n      <th>0</th>\n      <td>Yes</td>\n      <td>Don’t know/not sure</td>\n      <td>$1000-$1999</td>\n      <td>Yes, with pedal-assist and throttle</td>\n      <td>No</td>\n      <td>1.0</td>\n      <td>Recreation or exercise</td>\n      <td>Older adults (&gt;64)</td>\n      <td>Woman</td>\n      <td>Between $20,000 and $34,999 per year</td>\n      <td>One</td>\n      <td>European</td>\n      <td>CAN</td>\n      <td>​Yes, and I replaced it with exactly what was ...</td>\n      <td>Didn’t make those trips</td>\n      <td>More often</td>\n    </tr>\n    <tr>\n      <th>1</th>\n      <td>No</td>\n      <td>No</td>\n      <td>$2000-3999</td>\n      <td>Yes, with pedal-assist and throttle</td>\n      <td>No</td>\n      <td>2.0</td>\n      <td>Equal mix of recreation, exercise, and transpo...</td>\n      <td>Older adults (&gt;64)</td>\n      <td>Man</td>\n      <td>Between $20,000 and $34,999 per year</td>\n      <td>Three</td>\n      <td>European</td>\n      <td>USA</td>\n      <td>​Yes, and I replaced it with exactly what was ...</td>\n      <td>NST</td>\n      <td>About the same / no change</td>\n    </tr>\n    <tr>\n      <th>2</th>\n      <td>No</td>\n      <td>Yes</td>\n      <td>$2000-3999</td>\n      <td>​No</td>\n      <td>No</td>\n      <td>1.0</td>\n      <td>Recreation or exercise</td>\n      <td>Older adults (&gt;64)</td>\n      <td>Man</td>\n      <td>Between $100,000 and $149,999 per year</td>\n      <td>Two</td>\n      <td>European</td>\n      <td>USA</td>\n      <td>​Yes, and I replaced it with exactly what was ...</td>\n      <td>NST</td>\n      <td>About the same / no change</td>\n    </tr>\n    <tr>\n      <th>3</th>\n      <td>No</td>\n      <td>Yes</td>\n      <td>$500-$999</td>\n      <td>​No</td>\n      <td>No</td>\n      <td>1.0</td>\n      <td>Recreation or exercise</td>\n      <td>Older adults (&gt;64)</td>\n      <td>Woman</td>\n      <td>I prefer to not answer</td>\n      <td>One</td>\n      <td>European</td>\n      <td>CAN</td>\n      <td>​Yes, and I replaced it with exactly what was ...</td>\n      <td>ST</td>\n      <td>About the same / no change</td>\n    </tr>\n    <tr>\n      <th>4</th>\n      <td>Yes</td>\n      <td>Yes</td>\n      <td>$1000-$1999</td>\n      <td>​No</td>\n      <td>No</td>\n      <td>2.0</td>\n      <td>Equal mix of recreation, exercise, and transpo...</td>\n      <td>Older adults (&gt;64)</td>\n      <td>Man</td>\n      <td>Between $100,000 and $149,999 per year</td>\n      <td>Two</td>\n      <td>European</td>\n      <td>USA</td>\n      <td>​Yes, and I replaced it with exactly what was ...</td>\n      <td>ST</td>\n      <td>About the same / no change</td>\n    </tr>\n    <tr>\n      <th>...</th>\n      <td>...</td>\n      <td>...</td>\n      <td>...</td>\n      <td>...</td>\n      <td>...</td>\n      <td>...</td>\n      <td>...</td>\n      <td>...</td>\n      <td>...</td>\n      <td>...</td>\n      <td>...</td>\n      <td>...</td>\n      <td>...</td>\n      <td>...</td>\n      <td>...</td>\n      <td>...</td>\n    </tr>\n    <tr>\n      <th>1816</th>\n      <td>Yes</td>\n      <td>Yes</td>\n      <td>$2000-3999</td>\n      <td>Yes, with pedal-assist and throttle</td>\n      <td>No</td>\n      <td>1.0</td>\n      <td>Equal mix of recreation, exercise, and transpo...</td>\n      <td>NaN</td>\n      <td>NaN</td>\n      <td>NaN</td>\n      <td>NaN</td>\n      <td>NaN</td>\n      <td>USA</td>\n      <td>​Yes, and I replaced it with exactly what was ...</td>\n      <td>NST</td>\n      <td>About the same / no change</td>\n    </tr>\n    <tr>\n      <th>1817</th>\n      <td>Don’t know/not sure</td>\n      <td>No</td>\n      <td>$250-$499</td>\n      <td>NaN</td>\n      <td>No</td>\n      <td>2.0</td>\n      <td>Transportation</td>\n      <td>NaN</td>\n      <td>Prefer not to say</td>\n      <td>I prefer to not answer</td>\n      <td>Three</td>\n      <td>NaN</td>\n      <td>USA</td>\n      <td>Yes, but the replacement was something cheaper</td>\n      <td>NST</td>\n      <td>Less often</td>\n    </tr>\n    <tr>\n      <th>1818</th>\n      <td>No</td>\n      <td>No</td>\n      <td>$500-$999</td>\n      <td>​No</td>\n      <td>No</td>\n      <td>1.0</td>\n      <td>Equal mix of recreation, exercise, and transpo...</td>\n      <td>NaN</td>\n      <td>Woman</td>\n      <td>Under $20,000 per year</td>\n      <td>Two</td>\n      <td>Other</td>\n      <td>USA</td>\n      <td>Yes, but the replacement was something cheaper</td>\n      <td>NST</td>\n      <td>Less often</td>\n    </tr>\n    <tr>\n      <th>1819</th>\n      <td>No</td>\n      <td>No</td>\n      <td>$2000-3999</td>\n      <td>​No</td>\n      <td>No</td>\n      <td>NaN</td>\n      <td>NaN</td>\n      <td>NaN</td>\n      <td>NaN</td>\n      <td>NaN</td>\n      <td>NaN</td>\n      <td>NaN</td>\n      <td>CAN</td>\n      <td>No</td>\n      <td>NaN</td>\n      <td>NaN</td>\n    </tr>\n    <tr>\n      <th>1820</th>\n      <td>No</td>\n      <td>No</td>\n      <td>$2000-3999</td>\n      <td>​No</td>\n      <td>No</td>\n      <td>0.0</td>\n      <td>Recreation or exercise</td>\n      <td>NaN</td>\n      <td>Prefer not to say</td>\n      <td>I prefer to not answer</td>\n      <td>I prefer to not answer</td>\n      <td>NaN</td>\n      <td>USA</td>\n      <td>​Yes, and I replaced it with exactly what was ...</td>\n      <td>ST</td>\n      <td>About the same / no change</td>\n    </tr>\n  </tbody>\n</table>\n<p>1821 rows × 16 columns</p>\n</div>"
     },
     "execution_count": 5,
     "metadata": {},
     "output_type": "execute_result"
    }
   ],
   "source": [
    "merge_q"
   ],
   "metadata": {
    "collapsed": false,
    "pycharm": {
     "name": "#%%\n"
    }
   }
  },
  {
   "cell_type": "markdown",
   "source": [
    "<span style=\"color: blue;font-size: 25px\">Cross tabulation complements </span>"
   ],
   "metadata": {
    "collapsed": false,
    "pycharm": {
     "name": "#%% md\n"
    }
   }
  },
  {
   "cell_type": "code",
   "execution_count": 12,
   "outputs": [
    {
     "data": {
      "text/plain": "[None,\n None,\n None,\n None,\n None,\n None,\n None,\n None,\n None,\n None,\n None,\n None,\n None,\n None,\n None]"
     },
     "execution_count": 12,
     "metadata": {},
     "output_type": "execute_result"
    }
   ],
   "source": [
    "val_1  ='mode_alt'\n",
    "data_list ={}\n",
    "for val_2 in merge_q.columns:\n",
    "    if val_1==val_2:\n",
    "        continue\n",
    "    data_list[f'{val_2}'] = round(pd.crosstab(index=merge_q[val_1], columns=merge_q[val_2], normalize='columns'),2).reindex(columns=more_data[val_2][0],index=more_data[val_1][0]) * 100\n",
    "with pd.ExcelWriter(f\"output_2/data_with_insight/dependent/{val_1}_new.xlsx\") as writer:\n",
    "    [item[1].to_excel(writer, sheet_name=item[0]) for item in data_list.items()]"
   ],
   "metadata": {
    "collapsed": false,
    "pycharm": {
     "name": "#%%\n"
    }
   }
  },
  {
   "cell_type": "markdown",
   "source": [
    "<span style=\"color: blue;font-size: 50px\">Find relationships between independent variables </span>"
   ],
   "metadata": {
    "collapsed": false,
    "pycharm": {
     "name": "#%% md\n"
    }
   }
  },
  {
   "cell_type": "code",
   "execution_count": 171,
   "outputs": [
    {
     "data": {
      "text/plain": "      is_registered  is_insured  value_approx  is_electric  is_recover  \\\n0                 1          -1             3            2           0   \n1                 0           1             4            2           0   \n2                 0           2             4            0           0   \n3                 0           2             2            0           0   \n4                 1           2             3            0           0   \n...             ...         ...           ...          ...         ...   \n1816              1           2             4            2           0   \n1817             -1           1             1           -1           0   \n1818              0           1             2            0           0   \n1819              0           1             4            0           0   \n1820              0           1             4            0           0   \n\n      seasons  purpose  age_groups  gender  income  nm_bikes  ethnicity  \\\n0           1        0           5       0       1         1          0   \n1           2        1           5       1       1         3          0   \n2           1        0           5       1       5         2          0   \n3           1        0           5       0      -1         1          0   \n4           2        1           5       1       5         2          0   \n...       ...      ...         ...     ...     ...       ...        ...   \n1816        1        1          -1      -1      -1        -1         -1   \n1817        2        2          -1       3      -1         3         -1   \n1818        1        1          -1       0       0         2          1   \n1819       -1       -1          -1      -1      -1        -1         -1   \n1820        0        0          -1       3      -1        -1         -1   \n\n      country  is_replaced  mode_alt  post_act  \n0           0            2         2         2  \n1           1            2         1         1  \n2           1            2         1         1  \n3           0            2         0         1  \n4           1            2         0         1  \n...       ...          ...       ...       ...  \n1816        1            2         1         1  \n1817        1            1         1         0  \n1818        1            1         1         0  \n1819        0            0        -1        -1  \n1820        1            2         0         1  \n\n[1821 rows x 16 columns]",
      "text/html": "<div>\n<style scoped>\n    .dataframe tbody tr th:only-of-type {\n        vertical-align: middle;\n    }\n\n    .dataframe tbody tr th {\n        vertical-align: top;\n    }\n\n    .dataframe thead th {\n        text-align: right;\n    }\n</style>\n<table border=\"1\" class=\"dataframe\">\n  <thead>\n    <tr style=\"text-align: right;\">\n      <th></th>\n      <th>is_registered</th>\n      <th>is_insured</th>\n      <th>value_approx</th>\n      <th>is_electric</th>\n      <th>is_recover</th>\n      <th>seasons</th>\n      <th>purpose</th>\n      <th>age_groups</th>\n      <th>gender</th>\n      <th>income</th>\n      <th>nm_bikes</th>\n      <th>ethnicity</th>\n      <th>country</th>\n      <th>is_replaced</th>\n      <th>mode_alt</th>\n      <th>post_act</th>\n    </tr>\n  </thead>\n  <tbody>\n    <tr>\n      <th>0</th>\n      <td>1</td>\n      <td>-1</td>\n      <td>3</td>\n      <td>2</td>\n      <td>0</td>\n      <td>1</td>\n      <td>0</td>\n      <td>5</td>\n      <td>0</td>\n      <td>1</td>\n      <td>1</td>\n      <td>0</td>\n      <td>0</td>\n      <td>2</td>\n      <td>2</td>\n      <td>2</td>\n    </tr>\n    <tr>\n      <th>1</th>\n      <td>0</td>\n      <td>1</td>\n      <td>4</td>\n      <td>2</td>\n      <td>0</td>\n      <td>2</td>\n      <td>1</td>\n      <td>5</td>\n      <td>1</td>\n      <td>1</td>\n      <td>3</td>\n      <td>0</td>\n      <td>1</td>\n      <td>2</td>\n      <td>1</td>\n      <td>1</td>\n    </tr>\n    <tr>\n      <th>2</th>\n      <td>0</td>\n      <td>2</td>\n      <td>4</td>\n      <td>0</td>\n      <td>0</td>\n      <td>1</td>\n      <td>0</td>\n      <td>5</td>\n      <td>1</td>\n      <td>5</td>\n      <td>2</td>\n      <td>0</td>\n      <td>1</td>\n      <td>2</td>\n      <td>1</td>\n      <td>1</td>\n    </tr>\n    <tr>\n      <th>3</th>\n      <td>0</td>\n      <td>2</td>\n      <td>2</td>\n      <td>0</td>\n      <td>0</td>\n      <td>1</td>\n      <td>0</td>\n      <td>5</td>\n      <td>0</td>\n      <td>-1</td>\n      <td>1</td>\n      <td>0</td>\n      <td>0</td>\n      <td>2</td>\n      <td>0</td>\n      <td>1</td>\n    </tr>\n    <tr>\n      <th>4</th>\n      <td>1</td>\n      <td>2</td>\n      <td>3</td>\n      <td>0</td>\n      <td>0</td>\n      <td>2</td>\n      <td>1</td>\n      <td>5</td>\n      <td>1</td>\n      <td>5</td>\n      <td>2</td>\n      <td>0</td>\n      <td>1</td>\n      <td>2</td>\n      <td>0</td>\n      <td>1</td>\n    </tr>\n    <tr>\n      <th>...</th>\n      <td>...</td>\n      <td>...</td>\n      <td>...</td>\n      <td>...</td>\n      <td>...</td>\n      <td>...</td>\n      <td>...</td>\n      <td>...</td>\n      <td>...</td>\n      <td>...</td>\n      <td>...</td>\n      <td>...</td>\n      <td>...</td>\n      <td>...</td>\n      <td>...</td>\n      <td>...</td>\n    </tr>\n    <tr>\n      <th>1816</th>\n      <td>1</td>\n      <td>2</td>\n      <td>4</td>\n      <td>2</td>\n      <td>0</td>\n      <td>1</td>\n      <td>1</td>\n      <td>-1</td>\n      <td>-1</td>\n      <td>-1</td>\n      <td>-1</td>\n      <td>-1</td>\n      <td>1</td>\n      <td>2</td>\n      <td>1</td>\n      <td>1</td>\n    </tr>\n    <tr>\n      <th>1817</th>\n      <td>-1</td>\n      <td>1</td>\n      <td>1</td>\n      <td>-1</td>\n      <td>0</td>\n      <td>2</td>\n      <td>2</td>\n      <td>-1</td>\n      <td>3</td>\n      <td>-1</td>\n      <td>3</td>\n      <td>-1</td>\n      <td>1</td>\n      <td>1</td>\n      <td>1</td>\n      <td>0</td>\n    </tr>\n    <tr>\n      <th>1818</th>\n      <td>0</td>\n      <td>1</td>\n      <td>2</td>\n      <td>0</td>\n      <td>0</td>\n      <td>1</td>\n      <td>1</td>\n      <td>-1</td>\n      <td>0</td>\n      <td>0</td>\n      <td>2</td>\n      <td>1</td>\n      <td>1</td>\n      <td>1</td>\n      <td>1</td>\n      <td>0</td>\n    </tr>\n    <tr>\n      <th>1819</th>\n      <td>0</td>\n      <td>1</td>\n      <td>4</td>\n      <td>0</td>\n      <td>0</td>\n      <td>-1</td>\n      <td>-1</td>\n      <td>-1</td>\n      <td>-1</td>\n      <td>-1</td>\n      <td>-1</td>\n      <td>-1</td>\n      <td>0</td>\n      <td>0</td>\n      <td>-1</td>\n      <td>-1</td>\n    </tr>\n    <tr>\n      <th>1820</th>\n      <td>0</td>\n      <td>1</td>\n      <td>4</td>\n      <td>0</td>\n      <td>0</td>\n      <td>0</td>\n      <td>0</td>\n      <td>-1</td>\n      <td>3</td>\n      <td>-1</td>\n      <td>-1</td>\n      <td>-1</td>\n      <td>1</td>\n      <td>2</td>\n      <td>0</td>\n      <td>1</td>\n    </tr>\n  </tbody>\n</table>\n<p>1821 rows × 16 columns</p>\n</div>"
     },
     "execution_count": 171,
     "metadata": {},
     "output_type": "execute_result"
    }
   ],
   "source": [
    "# dependents_list = ['value_approx','income','nm_bikes','age_groups','education','value_approx','is_electric','is_recover','seasons']\n",
    "\n",
    "data_to_exp = merge_q[all_vars.values()].fillna(-1)\n",
    "\n",
    "def to_ordinal(col):\n",
    "    # This function gets a column and return for each value its ordinal values as it stored in @more_data (for irrelevant data return -1)\n",
    "    return data_to_exp[col.name].apply(lambda x:more_data[col.name][0].index(x) if x not in ['I prefer to not answer','Don’t know/not sure',-1] else -1)\n",
    "data_as_ordinal = data_to_exp.apply(to_ordinal)\n",
    "data_as_ordinal"
   ],
   "metadata": {
    "collapsed": false,
    "pycharm": {
     "name": "#%%\n"
    }
   }
  },
  {
   "cell_type": "code",
   "execution_count": 61,
   "outputs": [],
   "source": [
    "\n",
    "data_list = []\n",
    "listy = list(all_vars.values())\n",
    "# The code test every pair of independent variables to find the direction of the correlation\n",
    "for items in [(x, y) for i,x in enumerate(listy) for y in listy[i+1:]]:\n",
    "    var_1, var_2 = items\n",
    "    df = data_as_ordinal[[var_1, var_2 ]]\n",
    "    couple_to_test = df[~(df== -1).any(axis=1)] # remove missing or irrelevant data\n",
    "    correlation, p_value = stats.spearmanr(couple_to_test[var_1],couple_to_test[var_2]) # use spearman to test the data\n",
    "    data_list.append([var_1,var_2,correlation, p_value])\n",
    "sta_spearman_table = DataFrame(data_list,columns=['var_1','var_2','correlation', 'p_value']).sort_values('correlation',ascending=False)\n",
    "sta_spearman_table.to_csv('output_2/data_with_insight/spearman.csv')"
   ],
   "metadata": {
    "collapsed": false,
    "pycharm": {
     "name": "#%%\n"
    }
   }
  },
  {
   "cell_type": "markdown",
   "source": [
    "<span style=\"color: blue;font-size: 50px\">####</span>"
   ],
   "metadata": {
    "collapsed": false,
    "pycharm": {
     "name": "#%% md\n"
    }
   }
  },
  {
   "cell_type": "markdown",
   "source": [
    "<span style=\"color: yellow;font-size: 50px\">BLR</span>\n"
   ],
   "metadata": {
    "collapsed": false,
    "pycharm": {
     "name": "#%% md\n"
    }
   }
  },
  {
   "cell_type": "markdown",
   "source": [
    "<span style=\"color: yellow;font-size: 20px\">DT</span>"
   ],
   "metadata": {
    "collapsed": false,
    "pycharm": {
     "name": "#%% md\n"
    }
   }
  },
  {
   "cell_type": "markdown",
   "source": [
    "<span style=\"color:orange;font-size: 25px\">LogisticRegression</span>"
   ],
   "metadata": {
    "collapsed": false,
    "pycharm": {
     "name": "#%% md\n"
    }
   }
  },
  {
   "cell_type": "code",
   "execution_count": 177,
   "outputs": [
    {
     "name": "stdout",
     "output_type": "stream",
     "text": [
      "Post act\n",
      "1    1159\n",
      "0     189\n",
      "Name: Post act, dtype: int64\n",
      "Optimization terminated successfully.\n",
      "         Current function value: 0.239004\n",
      "         Iterations 8\n",
      "                           Logit Regression Results                           \n",
      "==============================================================================\n",
      "Dep. Variable:               Post act   No. Observations:                 1348\n",
      "Model:                          Logit   Df Residuals:                     1338\n",
      "Method:                           MLE   Df Model:                            9\n",
      "Date:                Thu, 14 Sep 2023   Pseudo R-squ.:                  0.4104\n",
      "Time:                        16:44:54   Log-Likelihood:                -322.18\n",
      "converged:                       True   LL-Null:                       -546.40\n",
      "Covariance Type:            nonrobust   LLR p-value:                 6.170e-91\n",
      "======================================================================================\n",
      "                         coef    std err          z      P>|z|      [0.025      0.975]\n",
      "--------------------------------------------------------------------------------------\n",
      "const                 -1.5837      0.411     -3.850      0.000      -2.390      -0.778\n",
      "Is insured             0.0895      0.239      0.375      0.708      -0.379       0.558\n",
      "Value approx.         -0.2488      0.090     -2.753      0.006      -0.426      -0.072\n",
      "Is electric           -0.1017      0.195     -0.521      0.602      -0.484       0.281\n",
      "Is recovered           0.7770      0.389      1.997      0.046       0.014       1.539\n",
      "Cycling frequency      1.4325      0.189      7.594      0.000       1.063       1.802\n",
      "Purpose                0.1533      0.128      1.193      0.233      -0.099       0.405\n",
      "Gender                -0.0408      0.171     -0.239      0.811      -0.375       0.294\n",
      "Household income       0.0898      0.049      1.816      0.069      -0.007       0.187\n",
      "Number of bicycles     1.8813      0.172     10.924      0.000       1.544       2.219\n",
      "======================================================================================\n",
      "Is replaced\n",
      "1    951\n",
      "0    400\n",
      "Name: Is replaced, dtype: int64\n",
      "Optimization terminated successfully.\n",
      "         Current function value: 0.503496\n",
      "         Iterations 6\n",
      "                           Logit Regression Results                           \n",
      "==============================================================================\n",
      "Dep. Variable:            Is replaced   No. Observations:                 1351\n",
      "Model:                          Logit   Df Residuals:                     1341\n",
      "Method:                           MLE   Df Model:                            9\n",
      "Date:                Thu, 14 Sep 2023   Pseudo R-squ.:                  0.1712\n",
      "Time:                        16:44:54   Log-Likelihood:                -680.22\n",
      "converged:                       True   LL-Null:                       -820.74\n",
      "Covariance Type:            nonrobust   LLR p-value:                 2.738e-55\n",
      "======================================================================================\n",
      "                         coef    std err          z      P>|z|      [0.025      0.975]\n",
      "--------------------------------------------------------------------------------------\n",
      "const                 -0.9378      0.277     -3.386      0.001      -1.481      -0.395\n",
      "Is insured             0.4122      0.155      2.653      0.008       0.108       0.717\n",
      "Value approx.         -0.0202      0.057     -0.353      0.724      -0.133       0.092\n",
      "Is electric           -0.2026      0.128     -1.588      0.112      -0.453       0.047\n",
      "Is recovered          -1.9590      0.182    -10.741      0.000      -2.317      -1.602\n",
      "Cycling frequency      0.6954      0.122      5.678      0.000       0.455       0.935\n",
      "Purpose                0.1604      0.085      1.877      0.061      -0.007       0.328\n",
      "Gender                -0.3386      0.116     -2.931      0.003      -0.565      -0.112\n",
      "Household income       0.0293      0.033      0.878      0.380      -0.036       0.095\n",
      "Number of bicycles     0.5520      0.067      8.249      0.000       0.421       0.683\n",
      "======================================================================================\n",
      "is_replaced_cheap\n",
      "1    623\n",
      "0    328\n",
      "Name: Is replaced, dtype: int64\n",
      "Optimization terminated successfully.\n",
      "         Current function value: 0.605577\n",
      "         Iterations 5\n",
      "                           Logit Regression Results                           \n",
      "==============================================================================\n",
      "Dep. Variable:            Is replaced   No. Observations:                  951\n",
      "Model:                          Logit   Df Residuals:                      941\n",
      "Method:                           MLE   Df Model:                            9\n",
      "Date:                Thu, 14 Sep 2023   Pseudo R-squ.:                 0.06000\n",
      "Time:                        16:44:54   Log-Likelihood:                -575.90\n",
      "converged:                       True   LL-Null:                       -612.66\n",
      "Covariance Type:            nonrobust   LLR p-value:                 3.091e-12\n",
      "======================================================================================\n",
      "                         coef    std err          z      P>|z|      [0.025      0.975]\n",
      "--------------------------------------------------------------------------------------\n",
      "const                 -0.8050      0.317     -2.539      0.011      -1.426      -0.184\n",
      "Is insured             0.2656      0.163      1.632      0.103      -0.053       0.585\n",
      "Value approx.          0.0161      0.061      0.265      0.791      -0.103       0.135\n",
      "Is electric            0.3936      0.155      2.534      0.011       0.089       0.698\n",
      "Is recovered           0.3967      0.249      1.592      0.111      -0.092       0.885\n",
      "Cycling frequency      0.2062      0.139      1.487      0.137      -0.066       0.478\n",
      "Purpose               -0.2447      0.093     -2.633      0.008      -0.427      -0.063\n",
      "Gender                -0.0539      0.128     -0.420      0.674      -0.305       0.197\n",
      "Household income       0.1863      0.036      5.174      0.000       0.116       0.257\n",
      "Number of bicycles     0.0537      0.061      0.877      0.381      -0.066       0.174\n",
      "======================================================================================\n",
      "Mode alt\n",
      "1    602\n",
      "0    557\n",
      "Name: Mode alt, dtype: int64\n",
      "Optimization terminated successfully.\n",
      "         Current function value: 0.656178\n",
      "         Iterations 5\n",
      "                           Logit Regression Results                           \n",
      "==============================================================================\n",
      "Dep. Variable:               Mode alt   No. Observations:                 1159\n",
      "Model:                          Logit   Df Residuals:                     1149\n",
      "Method:                           MLE   Df Model:                            9\n",
      "Date:                Thu, 14 Sep 2023   Pseudo R-squ.:                 0.05230\n",
      "Time:                        16:44:54   Log-Likelihood:                -760.51\n",
      "converged:                       True   LL-Null:                       -802.48\n",
      "Covariance Type:            nonrobust   LLR p-value:                 2.648e-14\n",
      "======================================================================================\n",
      "                         coef    std err          z      P>|z|      [0.025      0.975]\n",
      "--------------------------------------------------------------------------------------\n",
      "const                 -0.3228      0.259     -1.248      0.212      -0.830       0.184\n",
      "Is insured            -0.0931      0.140     -0.663      0.507      -0.368       0.182\n",
      "Value approx.         -0.0474      0.052     -0.903      0.366      -0.150       0.055\n",
      "Is electric           -0.3171      0.117     -2.706      0.007      -0.547      -0.087\n",
      "Is recovered           0.4667      0.169      2.766      0.006       0.136       0.797\n",
      "Cycling frequency      0.6457      0.111      5.802      0.000       0.428       0.864\n",
      "Purpose                0.2102      0.079      2.666      0.008       0.056       0.365\n",
      "Gender                -0.0651      0.108     -0.602      0.547      -0.277       0.147\n",
      "Household income      -0.0766      0.031     -2.455      0.014      -0.138      -0.015\n",
      "Number of bicycles     0.0328      0.050      0.660      0.509      -0.065       0.130\n",
      "======================================================================================\n"
     ]
    }
   ],
   "source": [
    "\n",
    "\n",
    "class RunLogit:\n",
    "    def __init__(self):\n",
    "        self.summary_df = {}\n",
    "        self.dep=  None\n",
    "    def run_logit(self,model_data,name):\n",
    "        print(name)\n",
    "        X = model_data.drop(columns = my_logit.dep)\n",
    "        y = model_data[my_logit.dep]\n",
    "        print(y.value_counts())\n",
    "        X = sm.add_constant(X)  # Add constant term\n",
    "        model = sm.Logit(y, X)\n",
    "        result = model.fit()\n",
    "        # Print summary with p-values\n",
    "        print(result.summary())\n",
    "        df = pd.read_html(result.summary().tables[1].as_html(), header=0, index_col=0)[0]\n",
    "        my_vars = 'Vars'\n",
    "        coef = 'Coeff'\n",
    "        cols_to_save = [my_vars, coef,'[0.025', '0.975]', 'P Value']\n",
    "\n",
    "        df = df.reset_index()\n",
    "        df = df.rename(columns={df.columns[0]: my_vars, df.columns[4]: 'P Value'})\n",
    "        df[coef] = pd.to_numeric(df[df.columns[1]], errors='coerce')\n",
    "\n",
    "        df = df[cols_to_save]\n",
    "        df['OR'] = df[coef].apply(lambda x: np.exp(x))\n",
    "\n",
    "        self.summary_df[name] = df.set_index(my_vars).round(3).drop(index='const')\n",
    "\n",
    "\n",
    "my_logit = RunLogit()\n",
    "# Update columns names and\n",
    "val_to_remove = ['Ethnicity','Is registered','Country','Age groups']\n",
    "data_as_ordinal.columns = [col.capitalize().replace('_',' ') for col in data_as_ordinal.columns]\n",
    "data_as_ordinal.rename(columns={'Value approx':'Value approx.','Seasons':'Cycling frequency', 'Nm bikes':'Number of bicycles','Income':'Household Income','Is recover':'Is recovered'},inplace=True)\n",
    "predictors_names = [name for name in data_as_ordinal.columns if name not in val_to_remove+['Post act','Is replaced','Mode alt']]\n",
    "\n",
    "# test post_act\n",
    "my_logit.dep= 'Post act'\n",
    "data_as_ordinal_model  = data_as_ordinal.copy()[predictors_names+[my_logit.dep]]\n",
    "data_as_ordinal_model =data_as_ordinal_model[~(data_as_ordinal_model== -1).any(axis=1)]\n",
    "data_as_ordinal_model[my_logit.dep]= data_as_ordinal_model[my_logit.dep].apply(lambda x:0 if x ==0| x==3 else 1)\n",
    "my_logit.run_logit(data_as_ordinal_model,my_logit.dep)\n",
    "\n",
    "# test is_replaced _1\n",
    "\n",
    "my_logit.dep = 'Is replaced'\n",
    "data_as_ordinal_model  = data_as_ordinal.copy()[predictors_names+[my_logit.dep]]\n",
    "data_as_ordinal_model =data_as_ordinal_model[~(data_as_ordinal_model== -1).any(axis=1)]\n",
    "data_as_ordinal_model[my_logit.dep]= data_as_ordinal_model[my_logit.dep].apply(lambda x: 0 if x==0 else 1)\n",
    "my_logit.run_logit(data_as_ordinal_model,my_logit.dep)\n",
    "\n",
    "# test is_replaced 2\n",
    "data_as_ordinal_model  = data_as_ordinal.copy()[predictors_names+[my_logit.dep]]\n",
    "data_as_ordinal_model= data_as_ordinal_model[data_as_ordinal_model[my_logit.dep]>0]\n",
    "data_as_ordinal_model =data_as_ordinal_model[~(data_as_ordinal_model== -1).any(axis=1)]\n",
    "data_as_ordinal_model[my_logit.dep]= data_as_ordinal_model[my_logit.dep].apply(lambda x: 0 if x==1 else 1)\n",
    "my_logit.run_logit(data_as_ordinal_model, 'is_replaced_cheap')\n",
    "\n",
    "\n",
    "# test mode_alt\n",
    "my_logit.dep = 'Mode alt'\n",
    "data_as_ordinal_model  = data_as_ordinal.copy()[predictors_names+[my_logit.dep]]\n",
    "data_as_ordinal_model = data_as_ordinal_model[data_as_ordinal_model[my_logit.dep] < 2]\n",
    "data_as_ordinal_model =data_as_ordinal_model[~(data_as_ordinal_model== -1).any(axis=1)]\n",
    "data_as_ordinal_model[my_logit.dep] = data_as_ordinal_model[my_logit.dep].apply(lambda x: 0 if x == 1 else 1)\n",
    "my_logit.run_logit(data_as_ordinal_model, my_logit.dep)\n",
    "# Run\n",
    "\n",
    "with pd.ExcelWriter('output_2/data_with_insight/Logit.xlsx') as writer:\n",
    "    _ = [item[1].sort_values('P Value').to_excel(writer, sheet_name=item[0]) for item in my_logit.summary_df.items()]"
   ],
   "metadata": {
    "collapsed": false,
    "pycharm": {
     "name": "#%%\n"
    }
   }
  },
  {
   "cell_type": "code",
   "execution_count": 153,
   "outputs": [
    {
     "data": {
      "text/plain": "dict_items([('post_act',                Coef  P Value  [0.025  0.975]  Odd ratio\nVars                                                   \nis_insured    0.090    0.708  -0.379   0.558      1.094\nvalue_approx -0.249    0.006  -0.426  -0.072      0.780\nis_electric  -0.102    0.602  -0.484   0.281      0.903\nis_recover    0.777    0.046   0.014   1.539      2.175\nseasons       1.432    0.000   1.063   1.802      4.189\npurpose       0.153    0.233  -0.099   0.405      1.166\ngender       -0.041    0.811  -0.375   0.294      0.960\nincome        0.090    0.069  -0.007   0.187      1.094\nnm_bikes      1.881    0.000   1.544   2.219      6.562), ('is_replaced',                Coef  P Value  [0.025  0.975]  Odd ratio\nVars                                                   \nis_insured    0.412    0.008   0.108   0.717      1.510\nvalue_approx -0.020    0.724  -0.133   0.092      0.980\nis_electric  -0.203    0.112  -0.453   0.047      0.817\nis_recover   -1.959    0.000  -2.317  -1.602      0.141\nseasons       0.695    0.000   0.455   0.935      2.005\npurpose       0.160    0.061  -0.007   0.328      1.174\ngender       -0.339    0.003  -0.565  -0.112      0.713\nincome        0.029    0.380  -0.036   0.095      1.030\nnm_bikes      0.552    0.000   0.421   0.683      1.737), ('is_replaced_cheap',                      Coef  P Value  [0.025  0.975]  Odd ratio\nVars                                                         \nIs insured          0.266    0.103  -0.053   0.585      1.304\nValue approx,       0.016    0.791  -0.103   0.135      1.016\nIs electric         0.394    0.011   0.089   0.698      1.482\nIs recover          0.397    0.111  -0.092   0.885      1.487\nCycling frequency   0.206    0.137  -0.066   0.478      1.229\nPurpose            -0.245    0.008  -0.427  -0.063      0.783\nGender             -0.054    0.674  -0.305   0.197      0.948\nHousehold income    0.186    0.000   0.116   0.257      1.205\nNumber of bicycles  0.054    0.381  -0.066   0.174      1.055), ('mode_alt',                Coef  P Value  [0.025  0.975]  Odd ratio\nVars                                                   \nis_insured   -0.093    0.507  -0.368   0.182      0.911\nvalue_approx -0.047    0.366  -0.150   0.055      0.954\nis_electric  -0.317    0.007  -0.547  -0.087      0.728\nis_recover    0.467    0.006   0.136   0.797      1.595\nseasons       0.646    0.000   0.428   0.864      1.907\npurpose       0.210    0.008   0.056   0.365      1.234\ngender       -0.065    0.547  -0.277   0.147      0.937\nincome       -0.077    0.014  -0.138  -0.015      0.926\nnm_bikes      0.033    0.509  -0.065   0.130      1.033), ('Post act',                      Coef  P Value  [0.025  0.975]  Odd ratio\nVars                                                         \nIs insured          0.090    0.708  -0.379   0.558      1.094\nValue approx,      -0.249    0.006  -0.426  -0.072      0.780\nIs electric        -0.102    0.602  -0.484   0.281      0.903\nIs recover          0.777    0.046   0.014   1.539      2.175\nCycling frequency   1.432    0.000   1.063   1.802      4.189\nPurpose             0.153    0.233  -0.099   0.405      1.166\nGender             -0.041    0.811  -0.375   0.294      0.960\nHousehold income    0.090    0.069  -0.007   0.187      1.094\nNumber of bicycles  1.881    0.000   1.544   2.219      6.562), ('Is replaced',                      Coef  P Value  [0.025  0.975]  Odd ratio\nVars                                                         \nIs insured          0.412    0.008   0.108   0.717      1.510\nValue approx,      -0.020    0.724  -0.133   0.092      0.980\nIs electric        -0.203    0.112  -0.453   0.047      0.817\nIs recover         -1.959    0.000  -2.317  -1.602      0.141\nCycling frequency   0.695    0.000   0.455   0.935      2.005\nPurpose             0.160    0.061  -0.007   0.328      1.174\nGender             -0.339    0.003  -0.565  -0.112      0.713\nHousehold income    0.029    0.380  -0.036   0.095      1.030\nNumber of bicycles  0.552    0.000   0.421   0.683      1.737), ('Mode alt',                      Coef  P Value  [0.025  0.975]  Odd ratio\nVars                                                         \nIs insured         -0.093    0.507  -0.368   0.182      0.911\nValue approx,      -0.047    0.366  -0.150   0.055      0.954\nIs electric        -0.317    0.007  -0.547  -0.087      0.728\nIs recover          0.467    0.006   0.136   0.797      1.595\nCycling frequency   0.646    0.000   0.428   0.864      1.907\nPurpose             0.210    0.008   0.056   0.365      1.234\nGender             -0.065    0.547  -0.277   0.147      0.937\nHousehold income   -0.077    0.014  -0.138  -0.015      0.926\nNumber of bicycles  0.033    0.509  -0.065   0.130      1.033)])"
     },
     "execution_count": 153,
     "metadata": {},
     "output_type": "execute_result"
    }
   ],
   "source": [
    "my_logit.summary_df.items()"
   ],
   "metadata": {
    "collapsed": false,
    "pycharm": {
     "name": "#%%\n"
    }
   }
  },
  {
   "cell_type": "code",
   "execution_count": 155,
   "outputs": [
    {
     "data": {
      "text/plain": "      value_approx  is_electric  is_recover  seasons  purpose  gender  income  \\\n0                3            2           0        1        0       0       1   \n1                4            2           0        2        1       1       1   \n2                4            0           0        1        0       1       5   \n4                3            0           0        2        1       1       5   \n5                3            0           0        2        0       1       3   \n...            ...          ...         ...      ...      ...     ...     ...   \n1719             2            0           0        1        1       1       3   \n1729             1            0           0        1        0       0       1   \n1742             4            0           0        1        0       1       7   \n1746             2            0           0        1        1       0       7   \n1818             2            0           0        1        1       0       0   \n\n      nm_bikes  education  is_replaced  mode_alt  post_act  \n0            1          1            2         2         2  \n1            3          2            2         1         1  \n2            2          5            2         1         1  \n4            2          5            2         0         1  \n5            2          5            1         1         1  \n...        ...        ...          ...       ...       ...  \n1719         0          2            0         1         0  \n1729         1          1            2         2         0  \n1742         2          4            2         2         0  \n1746         1          4            0         0         0  \n1818         2          5            1         1         0  \n\n[1345 rows x 12 columns]",
      "text/html": "<div>\n<style scoped>\n    .dataframe tbody tr th:only-of-type {\n        vertical-align: middle;\n    }\n\n    .dataframe tbody tr th {\n        vertical-align: top;\n    }\n\n    .dataframe thead th {\n        text-align: right;\n    }\n</style>\n<table border=\"1\" class=\"dataframe\">\n  <thead>\n    <tr style=\"text-align: right;\">\n      <th></th>\n      <th>value_approx</th>\n      <th>is_electric</th>\n      <th>is_recover</th>\n      <th>seasons</th>\n      <th>purpose</th>\n      <th>gender</th>\n      <th>income</th>\n      <th>nm_bikes</th>\n      <th>education</th>\n      <th>is_replaced</th>\n      <th>mode_alt</th>\n      <th>post_act</th>\n    </tr>\n  </thead>\n  <tbody>\n    <tr>\n      <th>0</th>\n      <td>3</td>\n      <td>2</td>\n      <td>0</td>\n      <td>1</td>\n      <td>0</td>\n      <td>0</td>\n      <td>1</td>\n      <td>1</td>\n      <td>1</td>\n      <td>2</td>\n      <td>2</td>\n      <td>2</td>\n    </tr>\n    <tr>\n      <th>1</th>\n      <td>4</td>\n      <td>2</td>\n      <td>0</td>\n      <td>2</td>\n      <td>1</td>\n      <td>1</td>\n      <td>1</td>\n      <td>3</td>\n      <td>2</td>\n      <td>2</td>\n      <td>1</td>\n      <td>1</td>\n    </tr>\n    <tr>\n      <th>2</th>\n      <td>4</td>\n      <td>0</td>\n      <td>0</td>\n      <td>1</td>\n      <td>0</td>\n      <td>1</td>\n      <td>5</td>\n      <td>2</td>\n      <td>5</td>\n      <td>2</td>\n      <td>1</td>\n      <td>1</td>\n    </tr>\n    <tr>\n      <th>4</th>\n      <td>3</td>\n      <td>0</td>\n      <td>0</td>\n      <td>2</td>\n      <td>1</td>\n      <td>1</td>\n      <td>5</td>\n      <td>2</td>\n      <td>5</td>\n      <td>2</td>\n      <td>0</td>\n      <td>1</td>\n    </tr>\n    <tr>\n      <th>5</th>\n      <td>3</td>\n      <td>0</td>\n      <td>0</td>\n      <td>2</td>\n      <td>0</td>\n      <td>1</td>\n      <td>3</td>\n      <td>2</td>\n      <td>5</td>\n      <td>1</td>\n      <td>1</td>\n      <td>1</td>\n    </tr>\n    <tr>\n      <th>...</th>\n      <td>...</td>\n      <td>...</td>\n      <td>...</td>\n      <td>...</td>\n      <td>...</td>\n      <td>...</td>\n      <td>...</td>\n      <td>...</td>\n      <td>...</td>\n      <td>...</td>\n      <td>...</td>\n      <td>...</td>\n    </tr>\n    <tr>\n      <th>1719</th>\n      <td>2</td>\n      <td>0</td>\n      <td>0</td>\n      <td>1</td>\n      <td>1</td>\n      <td>1</td>\n      <td>3</td>\n      <td>0</td>\n      <td>2</td>\n      <td>0</td>\n      <td>1</td>\n      <td>0</td>\n    </tr>\n    <tr>\n      <th>1729</th>\n      <td>1</td>\n      <td>0</td>\n      <td>0</td>\n      <td>1</td>\n      <td>0</td>\n      <td>0</td>\n      <td>1</td>\n      <td>1</td>\n      <td>1</td>\n      <td>2</td>\n      <td>2</td>\n      <td>0</td>\n    </tr>\n    <tr>\n      <th>1742</th>\n      <td>4</td>\n      <td>0</td>\n      <td>0</td>\n      <td>1</td>\n      <td>0</td>\n      <td>1</td>\n      <td>7</td>\n      <td>2</td>\n      <td>4</td>\n      <td>2</td>\n      <td>2</td>\n      <td>0</td>\n    </tr>\n    <tr>\n      <th>1746</th>\n      <td>2</td>\n      <td>0</td>\n      <td>0</td>\n      <td>1</td>\n      <td>1</td>\n      <td>0</td>\n      <td>7</td>\n      <td>1</td>\n      <td>4</td>\n      <td>0</td>\n      <td>0</td>\n      <td>0</td>\n    </tr>\n    <tr>\n      <th>1818</th>\n      <td>2</td>\n      <td>0</td>\n      <td>0</td>\n      <td>1</td>\n      <td>1</td>\n      <td>0</td>\n      <td>0</td>\n      <td>2</td>\n      <td>5</td>\n      <td>1</td>\n      <td>1</td>\n      <td>0</td>\n    </tr>\n  </tbody>\n</table>\n<p>1345 rows × 12 columns</p>\n</div>"
     },
     "execution_count": 155,
     "metadata": {},
     "output_type": "execute_result"
    }
   ],
   "source": [
    "data_as_ordinal_dt"
   ],
   "metadata": {
    "collapsed": false,
    "pycharm": {
     "name": "#%%\n"
    }
   }
  },
  {
   "cell_type": "code",
   "execution_count": 157,
   "outputs": [
    {
     "data": {
      "text/plain": "is_electric          0          1          2\nis_replaced                                 \n0            29.342327  22.580645  35.051546\n1            25.379427  14.516129  16.494845\n2            45.278246  62.903226  48.453608",
      "text/html": "<div>\n<style scoped>\n    .dataframe tbody tr th:only-of-type {\n        vertical-align: middle;\n    }\n\n    .dataframe tbody tr th {\n        vertical-align: top;\n    }\n\n    .dataframe thead th {\n        text-align: right;\n    }\n</style>\n<table border=\"1\" class=\"dataframe\">\n  <thead>\n    <tr style=\"text-align: right;\">\n      <th>is_electric</th>\n      <th>0</th>\n      <th>1</th>\n      <th>2</th>\n    </tr>\n    <tr>\n      <th>is_replaced</th>\n      <th></th>\n      <th></th>\n      <th></th>\n    </tr>\n  </thead>\n  <tbody>\n    <tr>\n      <th>0</th>\n      <td>29.342327</td>\n      <td>22.580645</td>\n      <td>35.051546</td>\n    </tr>\n    <tr>\n      <th>1</th>\n      <td>25.379427</td>\n      <td>14.516129</td>\n      <td>16.494845</td>\n    </tr>\n    <tr>\n      <th>2</th>\n      <td>45.278246</td>\n      <td>62.903226</td>\n      <td>48.453608</td>\n    </tr>\n  </tbody>\n</table>\n</div>"
     },
     "execution_count": 157,
     "metadata": {},
     "output_type": "execute_result"
    }
   ],
   "source": [
    "pd.crosstab(data_as_ordinal['is_replaced'],data_as_ordinal_model['is_electric'], normalize='columns') * 100"
   ],
   "metadata": {
    "collapsed": false,
    "pycharm": {
     "name": "#%%\n"
    }
   }
  },
  {
   "cell_type": "code",
   "execution_count": 135,
   "outputs": [
    {
     "data": {
      "text/plain": "      value_approx  is_electric  is_recover  seasons  purpose  age_groups  \\\n0                3            2           0        1        0           7   \n1                4            2           0        2        1           7   \n2                4            0           0        1        0           7   \n4                3            0           0        2        1           7   \n5                3            0           0        2        0           7   \n...            ...          ...         ...      ...      ...         ...   \n1719             2            0           0        1        1           7   \n1729             1            0           0        1        0           7   \n1742             4            0           0        1        0           7   \n1746             2            0           0        1        1           7   \n1818             2            0           0        1        1           7   \n\n      gender  income  nm_bikes  education  is_replaced  mode_alt  post_act  \n0          0       1         1          1            2         2         2  \n1          1       1         3          2            2         1         1  \n2          1       5         2          5            2         1         1  \n4          1       5         2          5            2         0         1  \n5          1       3         2          5            1         1         1  \n...      ...     ...       ...        ...          ...       ...       ...  \n1719       1       3         0          2            0         1         0  \n1729       0       1         1          1            2         2         0  \n1742       1       7         2          4            2         2         0  \n1746       0       7         1          4            0         0         0  \n1818       0       0         2          5            1         1         0  \n\n[1333 rows x 13 columns]",
      "text/html": "<div>\n<style scoped>\n    .dataframe tbody tr th:only-of-type {\n        vertical-align: middle;\n    }\n\n    .dataframe tbody tr th {\n        vertical-align: top;\n    }\n\n    .dataframe thead th {\n        text-align: right;\n    }\n</style>\n<table border=\"1\" class=\"dataframe\">\n  <thead>\n    <tr style=\"text-align: right;\">\n      <th></th>\n      <th>value_approx</th>\n      <th>is_electric</th>\n      <th>is_recover</th>\n      <th>seasons</th>\n      <th>purpose</th>\n      <th>age_groups</th>\n      <th>gender</th>\n      <th>income</th>\n      <th>nm_bikes</th>\n      <th>education</th>\n      <th>is_replaced</th>\n      <th>mode_alt</th>\n      <th>post_act</th>\n    </tr>\n  </thead>\n  <tbody>\n    <tr>\n      <th>0</th>\n      <td>3</td>\n      <td>2</td>\n      <td>0</td>\n      <td>1</td>\n      <td>0</td>\n      <td>7</td>\n      <td>0</td>\n      <td>1</td>\n      <td>1</td>\n      <td>1</td>\n      <td>2</td>\n      <td>2</td>\n      <td>2</td>\n    </tr>\n    <tr>\n      <th>1</th>\n      <td>4</td>\n      <td>2</td>\n      <td>0</td>\n      <td>2</td>\n      <td>1</td>\n      <td>7</td>\n      <td>1</td>\n      <td>1</td>\n      <td>3</td>\n      <td>2</td>\n      <td>2</td>\n      <td>1</td>\n      <td>1</td>\n    </tr>\n    <tr>\n      <th>2</th>\n      <td>4</td>\n      <td>0</td>\n      <td>0</td>\n      <td>1</td>\n      <td>0</td>\n      <td>7</td>\n      <td>1</td>\n      <td>5</td>\n      <td>2</td>\n      <td>5</td>\n      <td>2</td>\n      <td>1</td>\n      <td>1</td>\n    </tr>\n    <tr>\n      <th>4</th>\n      <td>3</td>\n      <td>0</td>\n      <td>0</td>\n      <td>2</td>\n      <td>1</td>\n      <td>7</td>\n      <td>1</td>\n      <td>5</td>\n      <td>2</td>\n      <td>5</td>\n      <td>2</td>\n      <td>0</td>\n      <td>1</td>\n    </tr>\n    <tr>\n      <th>5</th>\n      <td>3</td>\n      <td>0</td>\n      <td>0</td>\n      <td>2</td>\n      <td>0</td>\n      <td>7</td>\n      <td>1</td>\n      <td>3</td>\n      <td>2</td>\n      <td>5</td>\n      <td>1</td>\n      <td>1</td>\n      <td>1</td>\n    </tr>\n    <tr>\n      <th>...</th>\n      <td>...</td>\n      <td>...</td>\n      <td>...</td>\n      <td>...</td>\n      <td>...</td>\n      <td>...</td>\n      <td>...</td>\n      <td>...</td>\n      <td>...</td>\n      <td>...</td>\n      <td>...</td>\n      <td>...</td>\n      <td>...</td>\n    </tr>\n    <tr>\n      <th>1719</th>\n      <td>2</td>\n      <td>0</td>\n      <td>0</td>\n      <td>1</td>\n      <td>1</td>\n      <td>7</td>\n      <td>1</td>\n      <td>3</td>\n      <td>0</td>\n      <td>2</td>\n      <td>0</td>\n      <td>1</td>\n      <td>0</td>\n    </tr>\n    <tr>\n      <th>1729</th>\n      <td>1</td>\n      <td>0</td>\n      <td>0</td>\n      <td>1</td>\n      <td>0</td>\n      <td>7</td>\n      <td>0</td>\n      <td>1</td>\n      <td>1</td>\n      <td>1</td>\n      <td>2</td>\n      <td>2</td>\n      <td>0</td>\n    </tr>\n    <tr>\n      <th>1742</th>\n      <td>4</td>\n      <td>0</td>\n      <td>0</td>\n      <td>1</td>\n      <td>0</td>\n      <td>7</td>\n      <td>1</td>\n      <td>7</td>\n      <td>2</td>\n      <td>4</td>\n      <td>2</td>\n      <td>2</td>\n      <td>0</td>\n    </tr>\n    <tr>\n      <th>1746</th>\n      <td>2</td>\n      <td>0</td>\n      <td>0</td>\n      <td>1</td>\n      <td>1</td>\n      <td>7</td>\n      <td>0</td>\n      <td>7</td>\n      <td>1</td>\n      <td>4</td>\n      <td>0</td>\n      <td>0</td>\n      <td>0</td>\n    </tr>\n    <tr>\n      <th>1818</th>\n      <td>2</td>\n      <td>0</td>\n      <td>0</td>\n      <td>1</td>\n      <td>1</td>\n      <td>7</td>\n      <td>0</td>\n      <td>0</td>\n      <td>2</td>\n      <td>5</td>\n      <td>1</td>\n      <td>1</td>\n      <td>0</td>\n    </tr>\n  </tbody>\n</table>\n<p>1333 rows × 13 columns</p>\n</div>"
     },
     "execution_count": 135,
     "metadata": {},
     "output_type": "execute_result"
    }
   ],
   "source": [
    "data_as_ordinal_dt"
   ],
   "metadata": {
    "collapsed": false,
    "pycharm": {
     "name": "#%%\n"
    }
   }
  },
  {
   "cell_type": "code",
   "execution_count": 45,
   "outputs": [],
   "source": [
    "def find_sample(x):\n",
    "    \"\"\"\n",
    "    the code search for the leaf under the current node and then return one of its sample\n",
    "    :param x:\n",
    "    :return:\n",
    "\n",
    "    \"\"\"\n",
    "    y = clf.tree_.children_right[x]\n",
    "    if y == -1 & clf.tree_.children_left[x] == -1:\n",
    "        return features[leaf_id == x][0]\n",
    "    else:\n",
    "        return find_sample(y)"
   ],
   "metadata": {
    "collapsed": false,
    "pycharm": {
     "name": "#%%\n"
    }
   }
  },
  {
   "cell_type": "code",
   "execution_count": 46,
   "outputs": [],
   "source": [
    "\n",
    "def fill_path(row):\n",
    "    # get all the nodes from for a certain path\n",
    "\n",
    "    parents_node = []\n",
    "    node_id  =int(row['node_id'])\n",
    "    i = node_id\n",
    "    while i != 0:\n",
    "        parents_node.append(parent_nodes[i])\n",
    "        i = parent_nodes[i]\n",
    "    parents_node.reverse()\n",
    "    # find one representative sample\n",
    "    b = find_sample(node_id)\n",
    "    path_node = []\n",
    "    j = 0\n",
    "    for i in parents_node:\n",
    "        feat_i = clf.tree_.feature[i]\n",
    "        feat = cols_dt[feat_i]\n",
    "        threshold = clf.tree_.threshold[i]\n",
    "        if b[feat_i] <= threshold:\n",
    "            threshold_sign = \"<=\"\n",
    "        else:\n",
    "            threshold_sign = \">\"\n",
    "        path_node.append(f'{j}:{feat} {threshold_sign} {threshold:.4f}')\n",
    "        j += 1\n",
    "    path_node.append(\n",
    "        f'value:{(clf.tree_.value[node_id]/max_data*100).round(0)} samples:{clf.tree_.n_node_samples[node_id]}, impurity:{clf.tree_.impurity[node_id]:.3f}')\n",
    "    paths_nodes[node_id] = path_node\n"
   ],
   "metadata": {
    "collapsed": false,
    "pycharm": {
     "name": "#%%\n"
    }
   }
  },
  {
   "cell_type": "code",
   "execution_count": 47,
   "outputs": [
    {
     "name": "stdout",
     "output_type": "stream",
     "text": [
      "nm_bikes\n",
      "[['Zero', 'One', 'Two', 'Three', 'Four', 'Five or more', 'I prefer to not answer'], False]\n",
      "   feature_importance  features_name\n",
      "2                24.6   value_approx\n",
      "9                17.3         income\n",
      "5                16.2        seasons\n",
      "7                10.6     age_groups\n",
      "6                 6.7        purpose\n",
      "3                 5.9    is_electric\n",
      "0                 5.8  is_registered\n",
      "8                 4.8         gender\n",
      "4                 4.2     is_recover\n",
      "1                 3.9     is_insured\n",
      "{3: ['0:value_approx <= 2.5000', '1:income <= 2.5000', '2:seasons <= 1.5000', 'value:[[20.  4.  3.  4.  1.]] samples:156, impurity:0.293'], 11: ['0:value_approx <= 2.5000', '1:income <= 2.5000', '2:seasons <= 1.5000', '3:value_approx > 0.5000', 'value:[[18.  3.  3.  2.  0.]] samples:136, impurity:0.251'], 19: ['0:value_approx <= 2.5000', '1:income <= 2.5000', '2:seasons <= 1.5000', '3:value_approx > 0.5000', '4:value_approx > 1.5000', 'value:[[12.  3.  2.  2.  0.]] samples:93, impurity:0.314'], 23: ['0:value_approx <= 2.5000', '1:income <= 2.5000', '2:seasons <= 1.5000', '3:value_approx > 0.5000', '4:value_approx > 1.5000', '5:purpose > 0.5000', 'value:[[7. 3. 1. 2. 0.]] samples:62, impurity:0.368'], 24: ['0:value_approx <= 2.5000', '1:income <= 2.5000', '2:seasons <= 1.5000', '3:value_approx > 0.5000', '4:value_approx > 1.5000', '5:purpose > 0.5000', '6:age_groups <= 4.5000', 'value:[[7. 2. 1. 2. 0.]] samples:61, impurity:0.353']}\n",
      "ethnicity\n",
      "[['European', 'Other'], False]\n",
      "   feature_importance  features_name\n",
      "8                63.6         gender\n",
      "9                 9.6         income\n",
      "7                 8.5     age_groups\n",
      "2                 7.0   value_approx\n",
      "1                 4.0     is_insured\n",
      "6                 3.4        purpose\n",
      "4                 1.8     is_recover\n",
      "5                 0.8        seasons\n",
      "0                 0.7  is_registered\n",
      "3                 0.5    is_electric\n",
      "{1: ['0:gender <= -0.5000', 'value:[[55.  0.  0.]] samples:107, impurity:0.019'], 2: ['0:gender <= -0.5000', '1:income <= 0.0000', 'value:[[55.  0.  0.]] samples:106, impurity:0.000'], 36: ['0:gender > -0.5000', '1:age_groups > 0.5000', 'value:[[35. 99. 96.]] samples:1664, impurity:0.396'], 57: ['0:gender > -0.5000', '1:age_groups > 0.5000', '2:income <= 3.5000', '3:is_insured > 1.5000', '4:income > -0.5000', 'value:[[3. 7. 5.]] samples:109, impurity:0.362'], 63: ['0:gender > -0.5000', '1:age_groups > 0.5000', '2:income <= 3.5000', '3:is_insured > 1.5000', '4:income > -0.5000', '5:purpose > 0.5000', '6:income > 0.5000', 'value:[[2. 3. 3.]] samples:59, impurity:0.400'], 64: ['0:gender > -0.5000', '1:age_groups > 0.5000', '2:income > 3.5000', 'value:[[11. 64. 51.]] samples:1012, impurity:0.336'], 74: ['0:gender > -0.5000', '1:age_groups > 0.5000', '2:income > 3.5000', '3:age_groups > 2.5000', 'value:[[10. 62. 48.]] samples:980, impurity:0.326'], 75: ['0:gender > -0.5000', '1:age_groups > 0.5000', '2:income > 3.5000', '3:age_groups > 2.5000', '4:age_groups <= 4.5000', 'value:[[ 9. 58. 47.]] samples:916, impurity:0.334'], 76: ['0:gender > -0.5000', '1:age_groups > 0.5000', '2:income > 3.5000', '3:age_groups > 2.5000', '4:age_groups <= 4.5000', '5:gender <= 2.5000', 'value:[[ 7. 57. 46.]] samples:908, impurity:0.330'], 77: ['0:gender > -0.5000', '1:age_groups > 0.5000', '2:income > 3.5000', '3:age_groups > 2.5000', '4:age_groups <= 4.5000', '5:gender <= 2.5000', '6:is_insured <= 1.5000', 'value:[[ 5. 32. 30.]] samples:524, impurity:0.361'], 78: ['0:gender > -0.5000', '1:age_groups > 0.5000', '2:income > 3.5000', '3:age_groups > 2.5000', '4:age_groups <= 4.5000', '5:gender <= 2.5000', '6:is_insured > 1.5000', 'value:[[ 2. 25. 17.]] samples:384, impurity:0.285'], 82: ['0:gender > -0.5000', '1:age_groups > 0.5000', '2:income > 3.5000', '3:age_groups > 2.5000', '4:age_groups > 4.5000', 'value:[[2. 5. 1.]] samples:64, impurity:0.174']}\n",
      "country\n",
      "[['CAN', 'USA'], False]\n",
      "   feature_importance  features_name\n",
      "2                22.4   value_approx\n",
      "7                17.2     age_groups\n",
      "8                11.2         gender\n",
      "9                11.1         income\n",
      "1                 9.3     is_insured\n",
      "5                 8.9        seasons\n",
      "6                 5.9        purpose\n",
      "3                 5.7    is_electric\n",
      "4                 5.0     is_recover\n",
      "0                 3.4  is_registered\n",
      "{0: ['value:[[100. 100.]] samples:1495, impurity:0.300'], 1: ['0:income <= 5.5000', 'value:[[77. 64.]] samples:998, impurity:0.335'], 2: ['0:income <= 5.5000', '1:seasons <= 1.5000', 'value:[[63. 45.]] samples:721, impurity:0.366'], 3: ['0:income <= 5.5000', '1:seasons <= 1.5000', '2:age_groups <= 3.5000', 'value:[[31. 26.]] samples:404, impurity:0.329'], 5: ['0:income <= 5.5000', '1:seasons <= 1.5000', '2:age_groups <= 3.5000', '3:is_insured > 0.0000', 'value:[[31. 25.]] samples:383, impurity:0.342'], 6: ['0:income <= 5.5000', '1:seasons <= 1.5000', '2:age_groups <= 3.5000', '3:is_insured > 0.0000', '4:is_insured <= 1.5000', 'value:[[24. 17.]] samples:276, impurity:0.368'], 7: ['0:income <= 5.5000', '1:seasons <= 1.5000', '2:age_groups <= 3.5000', '3:is_insured > 0.0000', '4:is_insured <= 1.5000', '5:age_groups <= 2.5000', 'value:[[2. 4.]] samples:57, impurity:0.188'], 9: ['0:income <= 5.5000', '1:seasons <= 1.5000', '2:age_groups <= 3.5000', '3:is_insured > 0.0000', '4:is_insured <= 1.5000', '5:age_groups <= 2.5000', '6:purpose > -0.5000', 'value:[[2. 4.]] samples:56, impurity:0.163'], 13: ['0:income <= 5.5000', '1:seasons <= 1.5000', '2:age_groups <= 3.5000', '3:is_insured > 0.0000', '4:is_insured > 1.5000', 'value:[[6. 7.]] samples:107, impurity:0.267'], 17: ['0:income <= 5.5000', '1:seasons <= 1.5000', '2:age_groups <= 3.5000', '3:is_insured > 0.0000', '4:is_insured > 1.5000', '5:age_groups > 2.5000', 'value:[[4. 7.]] samples:92, impurity:0.227'], 18: ['0:income <= 5.5000', '1:seasons <= 1.5000', '2:age_groups <= 3.5000', '3:is_insured > 0.0000', '4:is_insured > 1.5000', '5:age_groups > 2.5000', '6:purpose <= 1.5000', 'value:[[4. 5.]] samples:66, impurity:0.278'], 28: ['0:income <= 5.5000', '1:seasons <= 1.5000', '2:age_groups > 3.5000', '3:is_insured > 0.0000', 'value:[[30. 18.]] samples:303, impurity:0.395'], 29: ['0:income <= 5.5000', '1:seasons <= 1.5000', '2:age_groups > 3.5000', '3:is_insured > 0.0000', '4:value_approx <= 1.5000', 'value:[[3. 4.]] samples:51, impurity:0.237'], 40: ['0:income <= 5.5000', '1:seasons <= 1.5000', '2:age_groups > 3.5000', '3:is_insured > 0.0000', '4:value_approx > 1.5000', '5:income > -0.5000', 'value:[[18. 12.]] samples:194, impurity:0.383'], 42: ['0:income <= 5.5000', '1:seasons <= 1.5000', '2:age_groups > 3.5000', '3:is_insured > 0.0000', '4:value_approx > 1.5000', '5:income > -0.5000', '6:income > 1.5000', 'value:[[18. 11.]] samples:184, impurity:0.396'], 43: ['0:income <= 5.5000', '1:seasons > 1.5000', 'value:[[14. 20.]] samples:277, impurity:0.237'], 45: ['0:income <= 5.5000', '1:seasons > 1.5000', '2:income > -0.5000', 'value:[[14. 17.]] samples:245, impurity:0.262'], 49: ['0:income <= 5.5000', '1:seasons > 1.5000', '2:income > -0.5000', '3:age_groups > 0.0000', 'value:[[13. 17.]] samples:241, impurity:0.248'], 50: ['0:income <= 5.5000', '1:seasons > 1.5000', '2:income > -0.5000', '3:age_groups > 0.0000', '4:is_electric <= 0.5000', 'value:[[12. 15.]] samples:210, impurity:0.265'], 51: ['0:income <= 5.5000', '1:seasons > 1.5000', '2:income > -0.5000', '3:age_groups > 0.0000', '4:is_electric <= 0.5000', '5:value_approx <= 2.5000', 'value:[[5. 8.]] samples:110, impurity:0.208'], 53: ['0:income <= 5.5000', '1:seasons > 1.5000', '2:income > -0.5000', '3:age_groups > 0.0000', '4:is_electric <= 0.5000', '5:value_approx <= 2.5000', '6:is_insured > 0.0000', 'value:[[4. 8.]] samples:104, impurity:0.189'], 54: ['0:income <= 5.5000', '1:seasons > 1.5000', '2:income > -0.5000', '3:age_groups > 0.0000', '4:is_electric <= 0.5000', '5:value_approx > 2.5000', 'value:[[7. 7.]] samples:100, impurity:0.320'], 56: ['0:income <= 5.5000', '1:seasons > 1.5000', '2:income > -0.5000', '3:age_groups > 0.0000', '4:is_electric <= 0.5000', '5:value_approx > 2.5000', '6:gender > 0.5000', 'value:[[4. 5.]] samples:77, impurity:0.245'], 62: ['0:income > 5.5000', 'value:[[23. 36.]] samples:497, impurity:0.221'], 63: ['0:income > 5.5000', '1:is_recover <= 0.5000', 'value:[[15. 31.]] samples:417, impurity:0.173'], 64: ['0:income > 5.5000', '1:is_recover <= 0.5000', '2:is_registered <= 0.5000', 'value:[[ 6. 21.]] samples:269, impurity:0.112'], 68: ['0:income > 5.5000', '1:is_recover <= 0.5000', '2:is_registered <= 0.5000', '3:value_approx > 0.5000', 'value:[[ 5. 20.]] samples:263, impurity:0.101'], 69: ['0:income > 5.5000', '1:is_recover <= 0.5000', '2:is_registered <= 0.5000', '3:value_approx > 0.5000', '4:is_electric <= 0.5000', 'value:[[ 5. 18.]] samples:234, impurity:0.112'], 70: ['0:income > 5.5000', '1:is_recover <= 0.5000', '2:is_registered <= 0.5000', '3:value_approx > 0.5000', '4:is_electric <= 0.5000', '5:purpose <= 1.5000', 'value:[[ 3. 14.]] samples:176, impurity:0.087'], 71: ['0:income > 5.5000', '1:is_recover <= 0.5000', '2:is_registered <= 0.5000', '3:value_approx > 0.5000', '4:is_electric <= 0.5000', '5:purpose <= 1.5000', '6:age_groups <= 3.5000', 'value:[[0. 6.]] samples:71, impurity:0.028'], 72: ['0:income > 5.5000', '1:is_recover <= 0.5000', '2:is_registered <= 0.5000', '3:value_approx > 0.5000', '4:is_electric <= 0.5000', '5:purpose <= 1.5000', '6:age_groups > 3.5000', 'value:[[3. 8.]] samples:105, impurity:0.124'], 73: ['0:income > 5.5000', '1:is_recover <= 0.5000', '2:is_registered <= 0.5000', '3:value_approx > 0.5000', '4:is_electric <= 0.5000', '5:purpose > 1.5000', 'value:[[2. 4.]] samples:58, impurity:0.185'], 74: ['0:income > 5.5000', '1:is_recover <= 0.5000', '2:is_registered <= 0.5000', '3:value_approx > 0.5000', '4:is_electric <= 0.5000', '5:purpose > 1.5000', '6:value_approx <= 3.5000', 'value:[[1. 4.]] samples:52, impurity:0.142'], 77: ['0:income > 5.5000', '1:is_recover <= 0.5000', '2:is_registered > 0.5000', 'value:[[ 9. 10.]] samples:148, impurity:0.272'], 85: ['0:income > 5.5000', '1:is_recover <= 0.5000', '2:is_registered > 0.5000', '3:value_approx > 2.5000', 'value:[[3. 7.]] samples:95, impurity:0.172'], 91: ['0:income > 5.5000', '1:is_recover <= 0.5000', '2:is_registered > 0.5000', '3:value_approx > 2.5000', '4:seasons > -0.5000', 'value:[[3. 7.]] samples:90, impurity:0.143'], 92: ['0:income > 5.5000', '1:is_recover <= 0.5000', '2:is_registered > 0.5000', '3:value_approx > 2.5000', '4:seasons > -0.5000', '5:value_approx <= 5.5000', 'value:[[2. 6.]] samples:82, impurity:0.115'], 93: ['0:income > 5.5000', '1:is_recover <= 0.5000', '2:is_registered > 0.5000', '3:value_approx > 2.5000', '4:seasons > -0.5000', '5:value_approx <= 5.5000', '6:age_groups <= 4.5000', 'value:[[1. 6.]] samples:79, impurity:0.096']}\n"
     ]
    }
   ],
   "source": [
    "from sklearn.tree import DecisionTreeClassifier\n",
    "# Create a Decision Tree classifier for each the three questions which are around post activity\n",
    "for p in range(-3,0):\n",
    "    # For some dependent variables number of bike = 0 is not relevant\n",
    "    if p==-3 or p==-1:\n",
    "        data_as_ordinal_model = data_as_ordinal_dt[data_as_ordinal_dt['nm_bikes']>0]\n",
    "    else:\n",
    "        data_as_ordinal_model = data_as_ordinal_dt\n",
    "    clf = DecisionTreeClassifier(max_depth=7)\n",
    "    cols_dt = data_as_ordinal_model .columns\n",
    "    col_name = cols_dt[p]\n",
    "    print(col_name)\n",
    "    print(more_data[col_name])\n",
    "    features = data_as_ordinal_model [cols_dt[:-3]].to_numpy()\n",
    "    labels = data_as_ordinal_model[col_name].to_numpy()\n",
    "    # Build the classifier on the data\n",
    "    _ =clf.fit(features, labels)\n",
    "\n",
    "    # feature_importance (the results are not so encouraging)\n",
    "    new_df = DataFrame(data={'feature_importance':clf.feature_importances_.round(3)*100,'features_name':cols_dt[:-3]}).sort_values('feature_importance',ascending=0)\n",
    "    print(new_df)\n",
    "    paths_nodes = {}\n",
    "    max_data = clf.tree_.value[0]\n",
    "    leaf_id = clf.apply(features)\n",
    "    # Create a list so that each node has its parent id\n",
    "    left_children = clf.tree_.children_left\n",
    "    right_children = clf.tree_.children_right\n",
    "    parent_nodes = [None] * clf.tree_.node_count\n",
    "\n",
    "    for i in range(clf.tree_.node_count):\n",
    "        if left_children[i] != -1:\n",
    "            parent_nodes[left_children[i]] = i\n",
    "        if right_children[i] != -1:\n",
    "            parent_nodes[right_children[i]] = i\n",
    "\n",
    "    # Get paths to nodes with at least x samples and square error less than y\n",
    "    rel_nodes_list = {}\n",
    "    node_count = clf.tree_.node_count\n",
    "    for node_id in range(node_count):\n",
    "        if clf.tree_.n_node_samples[node_id] >= 50 and clf.tree_.impurity[node_id] < 0.4 :\n",
    "            rel_nodes_list[node_id] =[clf.tree_.value[node_id],clf.tree_.n_node_samples[node_id],clf.tree_.impurity[node_id]]\n",
    "\n",
    "    # save the data into dateframe\n",
    "    rel_nodes_list_df = DataFrame.from_dict(rel_nodes_list,orient = 'index' ,columns=['value','n_node_samples','impurity'])\n",
    "    rel_nodes_list_df = rel_nodes_list_df.reset_index().rename(columns={'index': 'node_id'})\n",
    "    _ = rel_nodes_list_df.apply(lambda x: fill_path(x),axis= 1)\n",
    "    print(paths_nodes)"
   ],
   "metadata": {
    "collapsed": false,
    "pycharm": {
     "name": "#%%\n"
    }
   }
  },
  {
   "cell_type": "markdown",
   "source": [
    "<span style=\"color:orange;font-size: 25px\">LogisticRegression - Multi</span>\n"
   ],
   "metadata": {
    "collapsed": false,
    "pycharm": {
     "name": "#%% md\n"
    }
   }
  },
  {
   "cell_type": "code",
   "execution_count": null,
   "outputs": [],
   "source": [
    "summary_df= []\n",
    "cols_dt = data_as_ordinal_dt.columns\n",
    "\n",
    "for p in range(-3,0):\n",
    "    # For some dependent variables number of bike = 0 is not relevant\n",
    "    if p==-2:\n",
    "        data_as_ordinal_model = data_as_ordinal_dt\n",
    "    else:\n",
    "        data_as_ordinal_model = data_as_ordinal_dt[data_as_ordinal_dt['nm_bikes']>0]\n",
    "    col_name = cols_dt[p]\n",
    "    print(col_name)\n",
    "    print(more_data[col_name])\n",
    "    X = data_as_ordinal_model[cols_dt[:-3]]\n",
    "    y = data_as_ordinal_model[col_name]\n",
    "    print(y.value_counts())\n",
    "    X = sm.add_constant(X)  # Add constant term\n",
    "    model = sm.MNLogit(y, X)\n",
    "    result = model.fit()\n",
    "    # Print summary with p-values\n",
    "    print(result.summary())\n",
    "    # Convert the summary table to a pandas DataFrame\n",
    "    summary_df.append(pd.read_html(result.summary().tables[1].as_html(), header=0, index_col=0)[0])"
   ],
   "metadata": {
    "collapsed": false,
    "pycharm": {
     "name": "#%%\n"
    }
   }
  },
  {
   "cell_type": "code",
   "execution_count": null,
   "outputs": [],
   "source": [
    "\n",
    "# This code arrange the data to be exported to excel (save only data relevant to an interpretation)\n",
    "my_vars = 'Vars'\n",
    "coef = 'Coef'\n",
    "cols_to_save = [my_vars, coef, 'P Value', '[0.025', '0.975]']\n",
    "data_to_print = {}\n",
    "\n",
    "\n",
    "def create_new_table(df: DataFrame, table_name: str, start: int, end: (bool, int) = False):\n",
    "    \"\"\"\n",
    "    This method is working on the dataframe (@df) so it -\n",
    "     1. Reset the index\n",
    "     2. Update columns name\n",
    "     3. Get only the relevant row based on the index location in @start and @end\n",
    "     4. Convert the coefficient column to numeric values\n",
    "     5. Save only relevant columns' data\n",
    "     6. Calculate Odd Ratio\n",
    "     6. Add the new table and its name  into #data_to_print\n",
    "    \"\"\"\n",
    "    print(table_name)\n",
    "    df = df.reset_index()\n",
    "\n",
    "    df = df.rename(columns={df.columns[0]: my_vars, df.columns[4]: 'P Value'})\n",
    "    if end:\n",
    "        new_table = df.iloc[start:end]\n",
    "    else:\n",
    "        new_table = df.iloc[start:]\n",
    "    new_table[coef] = pd.to_numeric(new_table[new_table.columns[1]], errors='coerce')\n",
    "    new_table = new_table[cols_to_save]\n",
    "\n",
    "    new_table['Odd ratio'] = calculate_odd_ratio(new_table)\n",
    "    new_table = new_table.set_index(my_vars).round(3)\n",
    "    data_to_print[table_name] = new_table\n",
    "\n",
    "\n",
    "def calculate_odd_ratio(df):\n",
    "    return df[coef].apply(lambda x: np.exp(x))\n",
    "\n",
    "\n",
    "# These three lines  store indices to read only relevant data\n",
    "len_col_dt = len(cols_dt)\n",
    "num_of_fctrs = len_col_dt - 3\n",
    "multi_len_col_dt = 2 * num_of_fctrs + 3\n",
    "for i, table in enumerate(summary_df):\n",
    "    table = table.copy()\n",
    "    old_name = table.index.name\n",
    "    # This table includes only two or three categories, from every category we create new table\n",
    "    new_table = create_new_table(table, old_name, 1, num_of_fctrs + 1)\n",
    "    more_names = table.iloc[len_col_dt - 2].name\n",
    "    create_new_table(table, more_names, len_col_dt)\n",
    "\n",
    "# Save the DataFrame to an Excel file\n",
    "with pd.ExcelWriter('output_2/data_with_insight/MNLogit.xlsx') as writer:\n",
    "    _ = [item[1].to_excel(writer, sheet_name=item[0]) for item in data_to_print.items()]"
   ],
   "metadata": {
    "collapsed": false,
    "pycharm": {
     "name": "#%%\n"
    }
   }
  },
  {
   "cell_type": "code",
   "execution_count": 82,
   "outputs": [
    {
     "name": "stdout",
     "output_type": "stream",
     "text": [
      "is_replaced=1\n",
      "is_replaced=2\n",
      "mode_alt=1\n",
      "mode_alt=2\n",
      "post_act=1\n",
      "post_act=2\n",
      "post_act=3\n"
     ]
    }
   ],
   "source": [
    "\n",
    "# This code arrange the data to be exported to excel (save only data relevant to an interpretation)\n",
    "my_vars = 'Vars'\n",
    "coef = 'Coef'\n",
    "cols_to_save = [my_vars,coef,'P Value','[0.025','0.975]']\n",
    "data_to_print = {}\n",
    "def create_new_table(df:DataFrame,table_name:str, start:int,end:(bool,int)=False):\n",
    "    \"\"\"\n",
    "    This method is working on the dataframe (@df) so it -\n",
    "     1. Reset the index\n",
    "     2. Update columns name\n",
    "     3. Get only the relevant row based on the index location in @start and @end\n",
    "     4. Convert the coefficient column to numeric values\n",
    "     5. Save only relevant columns' data\n",
    "     6. Calculate Odd Ratio\n",
    "     6. Add the new table and its name  into #data_to_print\n",
    "    \"\"\"\n",
    "    print(table_name)\n",
    "    df = df.reset_index()\n",
    "\n",
    "    df= df.rename(columns={df.columns[0]: my_vars,df.columns[4]:'P Value'})\n",
    "    if end:\n",
    "        new_table = df.iloc[start:end]\n",
    "    else:\n",
    "        new_table = df.iloc[start:]\n",
    "    new_table[coef]=pd.to_numeric(new_table[new_table.columns[1]], errors='coerce')\n",
    "    new_table= new_table[cols_to_save]\n",
    "\n",
    "    new_table['Odd ratio'] =  calculate_odd_ratio(new_table)\n",
    "    new_table= new_table.set_index(my_vars).round(3)\n",
    "    data_to_print[table_name] = new_table\n",
    "\n",
    "\n",
    "def calculate_odd_ratio(df):\n",
    "    return df[coef].apply(lambda x: np.exp(x))\n",
    "\n",
    "# These three lines  store indices to read only relevant data\n",
    "len_col_dt = len(cols_dt)\n",
    "num_of_fctrs = len_col_dt-3\n",
    "multi_len_col_dt =  2*num_of_fctrs+3\n",
    "for i,table in enumerate(summary_df):\n",
    "    table = table.copy()\n",
    "    old_name = table.index.name\n",
    "    # This table includes only two or three categories, from every category we create new table\n",
    "    new_table = create_new_table(table,old_name,1,num_of_fctrs+1)\n",
    "    more_names = table.iloc[len_col_dt-2].name\n",
    "    if old_name  =='post_act=1':\n",
    "        # For three categories\n",
    "        create_new_table(table,more_names,len_col_dt,multi_len_col_dt)\n",
    "        create_new_table(table,table.iloc[multi_len_col_dt].name,multi_len_col_dt+2)\n",
    "    else:\n",
    "        # For two categories\n",
    "        create_new_table(table,more_names,len_col_dt)\n",
    "\n",
    "# Save the DataFrame to an Excel file\n",
    "with pd.ExcelWriter('output_2/data_with_insight/MNLogit.xlsx') as writer:\n",
    "   _ =  [item[1].to_excel(writer, sheet_name=item[0]) for item in data_to_print.items()]"
   ],
   "metadata": {
    "collapsed": false,
    "pycharm": {
     "name": "#%%\n"
    }
   }
  },
  {
   "cell_type": "code",
   "execution_count": 29,
   "outputs": [
    {
     "data": {
      "text/plain": "      value_approx  is_electric  bicycle_type  is_recover  seasons  purpose  \\\n0                3            2             0           0        1        0   \n1                4            2             1           0        2        1   \n2                4            0             0           0        1        0   \n4                3            0             3           0        2        1   \n5                3            0             0           0        2        0   \n...            ...          ...           ...         ...      ...      ...   \n1717             4            0             3           0        1        0   \n1729             1            0             1           0        1        0   \n1742             4            0             3           0        1        0   \n1746             2            0             2           0        1        1   \n1818             2            0             3           0        1        1   \n\n      age_groups  gender  income  nm_bikes  education  country  is_replaced  \\\n0              7       0       1         1          1        0            0   \n1              7       1       1         3          2        1            0   \n2              7       1       5         2          5        1            0   \n4              7       1       5         2          5        1            0   \n5              7       1       3         2          5        1            1   \n...          ...     ...     ...       ...        ...      ...          ...   \n1717           7       0       4         1          2        0            1   \n1729           7       0       1         1          1        1            0   \n1742           7       1       7         2          4        1            0   \n1746           7       0       7         1          4        1            2   \n1818           7       0       0         2          5        1            1   \n\n      mode_alt  post_act  \n0            0         3  \n1            1         2  \n2            1         2  \n4            2         2  \n5            1         2  \n...        ...       ...  \n1717         1         1  \n1729         0         1  \n1742         0         1  \n1746         2         1  \n1818         1         1  \n\n[1213 rows x 15 columns]",
      "text/html": "<div>\n<style scoped>\n    .dataframe tbody tr th:only-of-type {\n        vertical-align: middle;\n    }\n\n    .dataframe tbody tr th {\n        vertical-align: top;\n    }\n\n    .dataframe thead th {\n        text-align: right;\n    }\n</style>\n<table border=\"1\" class=\"dataframe\">\n  <thead>\n    <tr style=\"text-align: right;\">\n      <th></th>\n      <th>value_approx</th>\n      <th>is_electric</th>\n      <th>bicycle_type</th>\n      <th>is_recover</th>\n      <th>seasons</th>\n      <th>purpose</th>\n      <th>age_groups</th>\n      <th>gender</th>\n      <th>income</th>\n      <th>nm_bikes</th>\n      <th>education</th>\n      <th>country</th>\n      <th>is_replaced</th>\n      <th>mode_alt</th>\n      <th>post_act</th>\n    </tr>\n  </thead>\n  <tbody>\n    <tr>\n      <th>0</th>\n      <td>3</td>\n      <td>2</td>\n      <td>0</td>\n      <td>0</td>\n      <td>1</td>\n      <td>0</td>\n      <td>7</td>\n      <td>0</td>\n      <td>1</td>\n      <td>1</td>\n      <td>1</td>\n      <td>0</td>\n      <td>0</td>\n      <td>0</td>\n      <td>3</td>\n    </tr>\n    <tr>\n      <th>1</th>\n      <td>4</td>\n      <td>2</td>\n      <td>1</td>\n      <td>0</td>\n      <td>2</td>\n      <td>1</td>\n      <td>7</td>\n      <td>1</td>\n      <td>1</td>\n      <td>3</td>\n      <td>2</td>\n      <td>1</td>\n      <td>0</td>\n      <td>1</td>\n      <td>2</td>\n    </tr>\n    <tr>\n      <th>2</th>\n      <td>4</td>\n      <td>0</td>\n      <td>0</td>\n      <td>0</td>\n      <td>1</td>\n      <td>0</td>\n      <td>7</td>\n      <td>1</td>\n      <td>5</td>\n      <td>2</td>\n      <td>5</td>\n      <td>1</td>\n      <td>0</td>\n      <td>1</td>\n      <td>2</td>\n    </tr>\n    <tr>\n      <th>4</th>\n      <td>3</td>\n      <td>0</td>\n      <td>3</td>\n      <td>0</td>\n      <td>2</td>\n      <td>1</td>\n      <td>7</td>\n      <td>1</td>\n      <td>5</td>\n      <td>2</td>\n      <td>5</td>\n      <td>1</td>\n      <td>0</td>\n      <td>2</td>\n      <td>2</td>\n    </tr>\n    <tr>\n      <th>5</th>\n      <td>3</td>\n      <td>0</td>\n      <td>0</td>\n      <td>0</td>\n      <td>2</td>\n      <td>0</td>\n      <td>7</td>\n      <td>1</td>\n      <td>3</td>\n      <td>2</td>\n      <td>5</td>\n      <td>1</td>\n      <td>1</td>\n      <td>1</td>\n      <td>2</td>\n    </tr>\n    <tr>\n      <th>...</th>\n      <td>...</td>\n      <td>...</td>\n      <td>...</td>\n      <td>...</td>\n      <td>...</td>\n      <td>...</td>\n      <td>...</td>\n      <td>...</td>\n      <td>...</td>\n      <td>...</td>\n      <td>...</td>\n      <td>...</td>\n      <td>...</td>\n      <td>...</td>\n      <td>...</td>\n    </tr>\n    <tr>\n      <th>1717</th>\n      <td>4</td>\n      <td>0</td>\n      <td>3</td>\n      <td>0</td>\n      <td>1</td>\n      <td>0</td>\n      <td>7</td>\n      <td>0</td>\n      <td>4</td>\n      <td>1</td>\n      <td>2</td>\n      <td>0</td>\n      <td>1</td>\n      <td>1</td>\n      <td>1</td>\n    </tr>\n    <tr>\n      <th>1729</th>\n      <td>1</td>\n      <td>0</td>\n      <td>1</td>\n      <td>0</td>\n      <td>1</td>\n      <td>0</td>\n      <td>7</td>\n      <td>0</td>\n      <td>1</td>\n      <td>1</td>\n      <td>1</td>\n      <td>1</td>\n      <td>0</td>\n      <td>0</td>\n      <td>1</td>\n    </tr>\n    <tr>\n      <th>1742</th>\n      <td>4</td>\n      <td>0</td>\n      <td>3</td>\n      <td>0</td>\n      <td>1</td>\n      <td>0</td>\n      <td>7</td>\n      <td>1</td>\n      <td>7</td>\n      <td>2</td>\n      <td>4</td>\n      <td>1</td>\n      <td>0</td>\n      <td>0</td>\n      <td>1</td>\n    </tr>\n    <tr>\n      <th>1746</th>\n      <td>2</td>\n      <td>0</td>\n      <td>2</td>\n      <td>0</td>\n      <td>1</td>\n      <td>1</td>\n      <td>7</td>\n      <td>0</td>\n      <td>7</td>\n      <td>1</td>\n      <td>4</td>\n      <td>1</td>\n      <td>2</td>\n      <td>2</td>\n      <td>1</td>\n    </tr>\n    <tr>\n      <th>1818</th>\n      <td>2</td>\n      <td>0</td>\n      <td>3</td>\n      <td>0</td>\n      <td>1</td>\n      <td>1</td>\n      <td>7</td>\n      <td>0</td>\n      <td>0</td>\n      <td>2</td>\n      <td>5</td>\n      <td>1</td>\n      <td>1</td>\n      <td>1</td>\n      <td>1</td>\n    </tr>\n  </tbody>\n</table>\n<p>1213 rows × 15 columns</p>\n</div>"
     },
     "execution_count": 29,
     "metadata": {},
     "output_type": "execute_result"
    }
   ],
   "source": [
    "data_as_ordinal_model"
   ],
   "metadata": {
    "collapsed": false,
    "pycharm": {
     "name": "#%%\n"
    }
   }
  },
  {
   "cell_type": "code",
   "execution_count": 31,
   "outputs": [
    {
     "data": {
      "text/plain": "is_electric    0   1   2\nis_replaced             \n0            540  38  46\n1            307   7  15\n2            225   8  27",
      "text/html": "<div>\n<style scoped>\n    .dataframe tbody tr th:only-of-type {\n        vertical-align: middle;\n    }\n\n    .dataframe tbody tr th {\n        vertical-align: top;\n    }\n\n    .dataframe thead th {\n        text-align: right;\n    }\n</style>\n<table border=\"1\" class=\"dataframe\">\n  <thead>\n    <tr style=\"text-align: right;\">\n      <th>is_electric</th>\n      <th>0</th>\n      <th>1</th>\n      <th>2</th>\n    </tr>\n    <tr>\n      <th>is_replaced</th>\n      <th></th>\n      <th></th>\n      <th></th>\n    </tr>\n  </thead>\n  <tbody>\n    <tr>\n      <th>0</th>\n      <td>540</td>\n      <td>38</td>\n      <td>46</td>\n    </tr>\n    <tr>\n      <th>1</th>\n      <td>307</td>\n      <td>7</td>\n      <td>15</td>\n    </tr>\n    <tr>\n      <th>2</th>\n      <td>225</td>\n      <td>8</td>\n      <td>27</td>\n    </tr>\n  </tbody>\n</table>\n</div>"
     },
     "execution_count": 31,
     "metadata": {},
     "output_type": "execute_result"
    }
   ],
   "source": [
    "pd.crosstab(data_as_ordinal_model['is_replaced'],data_as_ordinal_model['is_electric'])"
   ],
   "metadata": {
    "collapsed": false,
    "pycharm": {
     "name": "#%%\n"
    }
   }
  },
  {
   "cell_type": "code",
   "execution_count": 32,
   "outputs": [
    {
     "data": {
      "text/plain": "purpose        0    1    2\nis_replaced               \n0            278  158  188\n1            107  102  120\n2            119   64   77",
      "text/html": "<div>\n<style scoped>\n    .dataframe tbody tr th:only-of-type {\n        vertical-align: middle;\n    }\n\n    .dataframe tbody tr th {\n        vertical-align: top;\n    }\n\n    .dataframe thead th {\n        text-align: right;\n    }\n</style>\n<table border=\"1\" class=\"dataframe\">\n  <thead>\n    <tr style=\"text-align: right;\">\n      <th>purpose</th>\n      <th>0</th>\n      <th>1</th>\n      <th>2</th>\n    </tr>\n    <tr>\n      <th>is_replaced</th>\n      <th></th>\n      <th></th>\n      <th></th>\n    </tr>\n  </thead>\n  <tbody>\n    <tr>\n      <th>0</th>\n      <td>278</td>\n      <td>158</td>\n      <td>188</td>\n    </tr>\n    <tr>\n      <th>1</th>\n      <td>107</td>\n      <td>102</td>\n      <td>120</td>\n    </tr>\n    <tr>\n      <th>2</th>\n      <td>119</td>\n      <td>64</td>\n      <td>77</td>\n    </tr>\n  </tbody>\n</table>\n</div>"
     },
     "execution_count": 32,
     "metadata": {},
     "output_type": "execute_result"
    }
   ],
   "source": [
    "pd.crosstab(data_as_ordinal_model['is_replaced'],data_as_ordinal_model['purpose'])"
   ],
   "metadata": {
    "collapsed": false,
    "pycharm": {
     "name": "#%%\n"
    }
   }
  },
  {
   "cell_type": "code",
   "execution_count": 33,
   "outputs": [
    {
     "data": {
      "text/plain": "income        0   1   2   3   4    5   6    7\nis_replaced                                  \n0            13  26  36  71  95  116  82  185\n1            32  34  20  53  44   49  34   63\n2            12  14  19  39  42   47  33   54",
      "text/html": "<div>\n<style scoped>\n    .dataframe tbody tr th:only-of-type {\n        vertical-align: middle;\n    }\n\n    .dataframe tbody tr th {\n        vertical-align: top;\n    }\n\n    .dataframe thead th {\n        text-align: right;\n    }\n</style>\n<table border=\"1\" class=\"dataframe\">\n  <thead>\n    <tr style=\"text-align: right;\">\n      <th>income</th>\n      <th>0</th>\n      <th>1</th>\n      <th>2</th>\n      <th>3</th>\n      <th>4</th>\n      <th>5</th>\n      <th>6</th>\n      <th>7</th>\n    </tr>\n    <tr>\n      <th>is_replaced</th>\n      <th></th>\n      <th></th>\n      <th></th>\n      <th></th>\n      <th></th>\n      <th></th>\n      <th></th>\n      <th></th>\n    </tr>\n  </thead>\n  <tbody>\n    <tr>\n      <th>0</th>\n      <td>13</td>\n      <td>26</td>\n      <td>36</td>\n      <td>71</td>\n      <td>95</td>\n      <td>116</td>\n      <td>82</td>\n      <td>185</td>\n    </tr>\n    <tr>\n      <th>1</th>\n      <td>32</td>\n      <td>34</td>\n      <td>20</td>\n      <td>53</td>\n      <td>44</td>\n      <td>49</td>\n      <td>34</td>\n      <td>63</td>\n    </tr>\n    <tr>\n      <th>2</th>\n      <td>12</td>\n      <td>14</td>\n      <td>19</td>\n      <td>39</td>\n      <td>42</td>\n      <td>47</td>\n      <td>33</td>\n      <td>54</td>\n    </tr>\n  </tbody>\n</table>\n</div>"
     },
     "execution_count": 33,
     "metadata": {},
     "output_type": "execute_result"
    }
   ],
   "source": [
    "pd.crosstab(data_as_ordinal_model['is_replaced'],data_as_ordinal_model['income'])"
   ],
   "metadata": {
    "collapsed": false,
    "pycharm": {
     "name": "#%%\n"
    }
   }
  },
  {
   "cell_type": "code",
   "execution_count": 34,
   "outputs": [
    {
     "data": {
      "text/plain": "value_approx   0   1    2    3    4   5   6\nis_replaced                                \n0             14  63  169  152  119  63  44\n1             15  47  115   77   42  16  17\n2             14  40   55   66   55  15  15",
      "text/html": "<div>\n<style scoped>\n    .dataframe tbody tr th:only-of-type {\n        vertical-align: middle;\n    }\n\n    .dataframe tbody tr th {\n        vertical-align: top;\n    }\n\n    .dataframe thead th {\n        text-align: right;\n    }\n</style>\n<table border=\"1\" class=\"dataframe\">\n  <thead>\n    <tr style=\"text-align: right;\">\n      <th>value_approx</th>\n      <th>0</th>\n      <th>1</th>\n      <th>2</th>\n      <th>3</th>\n      <th>4</th>\n      <th>5</th>\n      <th>6</th>\n    </tr>\n    <tr>\n      <th>is_replaced</th>\n      <th></th>\n      <th></th>\n      <th></th>\n      <th></th>\n      <th></th>\n      <th></th>\n      <th></th>\n    </tr>\n  </thead>\n  <tbody>\n    <tr>\n      <th>0</th>\n      <td>14</td>\n      <td>63</td>\n      <td>169</td>\n      <td>152</td>\n      <td>119</td>\n      <td>63</td>\n      <td>44</td>\n    </tr>\n    <tr>\n      <th>1</th>\n      <td>15</td>\n      <td>47</td>\n      <td>115</td>\n      <td>77</td>\n      <td>42</td>\n      <td>16</td>\n      <td>17</td>\n    </tr>\n    <tr>\n      <th>2</th>\n      <td>14</td>\n      <td>40</td>\n      <td>55</td>\n      <td>66</td>\n      <td>55</td>\n      <td>15</td>\n      <td>15</td>\n    </tr>\n  </tbody>\n</table>\n</div>"
     },
     "execution_count": 34,
     "metadata": {},
     "output_type": "execute_result"
    }
   ],
   "source": [
    "pd.crosstab(data_as_ordinal_model['is_replaced'],data_as_ordinal_model['value_approx'])"
   ],
   "metadata": {
    "collapsed": false,
    "pycharm": {
     "name": "#%%\n"
    }
   }
  },
  {
   "cell_type": "code",
   "execution_count": 35,
   "outputs": [
    {
     "data": {
      "text/plain": "is_recover     0    1\nis_replaced          \n0            553   71\n1            305   24\n2            143  117",
      "text/html": "<div>\n<style scoped>\n    .dataframe tbody tr th:only-of-type {\n        vertical-align: middle;\n    }\n\n    .dataframe tbody tr th {\n        vertical-align: top;\n    }\n\n    .dataframe thead th {\n        text-align: right;\n    }\n</style>\n<table border=\"1\" class=\"dataframe\">\n  <thead>\n    <tr style=\"text-align: right;\">\n      <th>is_recover</th>\n      <th>0</th>\n      <th>1</th>\n    </tr>\n    <tr>\n      <th>is_replaced</th>\n      <th></th>\n      <th></th>\n    </tr>\n  </thead>\n  <tbody>\n    <tr>\n      <th>0</th>\n      <td>553</td>\n      <td>71</td>\n    </tr>\n    <tr>\n      <th>1</th>\n      <td>305</td>\n      <td>24</td>\n    </tr>\n    <tr>\n      <th>2</th>\n      <td>143</td>\n      <td>117</td>\n    </tr>\n  </tbody>\n</table>\n</div>"
     },
     "execution_count": 35,
     "metadata": {},
     "output_type": "execute_result"
    }
   ],
   "source": [
    "pd.crosstab(data_as_ordinal_model['is_replaced'],data_as_ordinal_model['is_recover'])"
   ],
   "metadata": {
    "collapsed": false,
    "pycharm": {
     "name": "#%%\n"
    }
   }
  },
  {
   "cell_type": "code",
   "execution_count": 76,
   "outputs": [
    {
     "data": {
      "text/plain": "purpose           0          1          2\npost_act                                 \n0         28.744939  36.129032  29.891304\n1         56.275304  51.935484  59.510870\n2          8.502024   6.451613   4.891304\n3          6.477733   5.483871   5.706522",
      "text/html": "<div>\n<style scoped>\n    .dataframe tbody tr th:only-of-type {\n        vertical-align: middle;\n    }\n\n    .dataframe tbody tr th {\n        vertical-align: top;\n    }\n\n    .dataframe thead th {\n        text-align: right;\n    }\n</style>\n<table border=\"1\" class=\"dataframe\">\n  <thead>\n    <tr style=\"text-align: right;\">\n      <th>purpose</th>\n      <th>0</th>\n      <th>1</th>\n      <th>2</th>\n    </tr>\n    <tr>\n      <th>post_act</th>\n      <th></th>\n      <th></th>\n      <th></th>\n    </tr>\n  </thead>\n  <tbody>\n    <tr>\n      <th>0</th>\n      <td>28.744939</td>\n      <td>36.129032</td>\n      <td>29.891304</td>\n    </tr>\n    <tr>\n      <th>1</th>\n      <td>56.275304</td>\n      <td>51.935484</td>\n      <td>59.510870</td>\n    </tr>\n    <tr>\n      <th>2</th>\n      <td>8.502024</td>\n      <td>6.451613</td>\n      <td>4.891304</td>\n    </tr>\n    <tr>\n      <th>3</th>\n      <td>6.477733</td>\n      <td>5.483871</td>\n      <td>5.706522</td>\n    </tr>\n  </tbody>\n</table>\n</div>"
     },
     "execution_count": 76,
     "metadata": {},
     "output_type": "execute_result"
    }
   ],
   "source": [
    "pd.crosstab(data_as_ordinal_model['post_act'],data_as_ordinal_model['purpose'], normalize='columns') * 100"
   ],
   "metadata": {
    "collapsed": false,
    "pycharm": {
     "name": "#%%\n"
    }
   }
  },
  {
   "cell_type": "code",
   "execution_count": 46,
   "outputs": [
    {
     "data": {
      "text/plain": "seasons    0    1    2\npost_act              \n0         29   33    8\n1         33  283   59\n2         20  381  270\n3          3   59   22",
      "text/html": "<div>\n<style scoped>\n    .dataframe tbody tr th:only-of-type {\n        vertical-align: middle;\n    }\n\n    .dataframe tbody tr th {\n        vertical-align: top;\n    }\n\n    .dataframe thead th {\n        text-align: right;\n    }\n</style>\n<table border=\"1\" class=\"dataframe\">\n  <thead>\n    <tr style=\"text-align: right;\">\n      <th>seasons</th>\n      <th>0</th>\n      <th>1</th>\n      <th>2</th>\n    </tr>\n    <tr>\n      <th>post_act</th>\n      <th></th>\n      <th></th>\n      <th></th>\n    </tr>\n  </thead>\n  <tbody>\n    <tr>\n      <th>0</th>\n      <td>29</td>\n      <td>33</td>\n      <td>8</td>\n    </tr>\n    <tr>\n      <th>1</th>\n      <td>33</td>\n      <td>283</td>\n      <td>59</td>\n    </tr>\n    <tr>\n      <th>2</th>\n      <td>20</td>\n      <td>381</td>\n      <td>270</td>\n    </tr>\n    <tr>\n      <th>3</th>\n      <td>3</td>\n      <td>59</td>\n      <td>22</td>\n    </tr>\n  </tbody>\n</table>\n</div>"
     },
     "execution_count": 46,
     "metadata": {},
     "output_type": "execute_result"
    }
   ],
   "source": [
    "pd.crosstab(data_as_ordinal_model['post_act'],data_as_ordinal_model['seasons'])"
   ],
   "metadata": {
    "collapsed": false,
    "pycharm": {
     "name": "#%%\n"
    }
   }
  },
  {
   "cell_type": "markdown",
   "source": [
    "<span style=\"color:orange;font-size:25px\">###</span>"
   ],
   "metadata": {
    "collapsed": false,
    "pycharm": {
     "name": "#%% md\n"
    }
   }
  },
  {
   "cell_type": "markdown",
   "source": [
    "<span style=\"color: green;font-size: 50px\">More Classification</span>"
   ],
   "metadata": {
    "collapsed": false,
    "pycharm": {
     "name": "#%% md\n"
    }
   }
  },
  {
   "cell_type": "code",
   "execution_count": 34,
   "outputs": [],
   "source": [
    "# Read the social economic columns data\n",
    "ses_list = ['value_approx','income','nm_bikes','education']\n",
    "ses = data_as_ordinal[ses_list]\n",
    "# remove every row with null (-1)\n",
    "ses_final = ses[~ses.isin([-1]).any(axis=1)]"
   ],
   "metadata": {
    "collapsed": false,
    "pycharm": {
     "name": "#%%\n"
    }
   }
  },
  {
   "cell_type": "code",
   "execution_count": 36,
   "outputs": [
    {
     "data": {
      "text/plain": "       value_approx      income    nm_bikes   education  class\ncount    741.000000  741.000000  741.000000  741.000000  741.0\nmean       3.302294    5.987854    2.272605    4.522267    0.0\nstd        1.442729    1.082346    1.510743    0.575259    0.0\nmin        0.000000    3.000000    0.000000    2.000000    0.0\n25%        2.000000    5.000000    1.000000    4.000000    0.0\n50%        3.000000    6.000000    2.000000    5.000000    0.0\n75%        4.000000    7.000000    3.000000    5.000000    0.0\nmax        6.000000    7.000000    5.000000    5.000000    0.0",
      "text/html": "<div>\n<style scoped>\n    .dataframe tbody tr th:only-of-type {\n        vertical-align: middle;\n    }\n\n    .dataframe tbody tr th {\n        vertical-align: top;\n    }\n\n    .dataframe thead th {\n        text-align: right;\n    }\n</style>\n<table border=\"1\" class=\"dataframe\">\n  <thead>\n    <tr style=\"text-align: right;\">\n      <th></th>\n      <th>value_approx</th>\n      <th>income</th>\n      <th>nm_bikes</th>\n      <th>education</th>\n      <th>class</th>\n    </tr>\n  </thead>\n  <tbody>\n    <tr>\n      <th>count</th>\n      <td>741.000000</td>\n      <td>741.000000</td>\n      <td>741.000000</td>\n      <td>741.000000</td>\n      <td>741.0</td>\n    </tr>\n    <tr>\n      <th>mean</th>\n      <td>3.302294</td>\n      <td>5.987854</td>\n      <td>2.272605</td>\n      <td>4.522267</td>\n      <td>0.0</td>\n    </tr>\n    <tr>\n      <th>std</th>\n      <td>1.442729</td>\n      <td>1.082346</td>\n      <td>1.510743</td>\n      <td>0.575259</td>\n      <td>0.0</td>\n    </tr>\n    <tr>\n      <th>min</th>\n      <td>0.000000</td>\n      <td>3.000000</td>\n      <td>0.000000</td>\n      <td>2.000000</td>\n      <td>0.0</td>\n    </tr>\n    <tr>\n      <th>25%</th>\n      <td>2.000000</td>\n      <td>5.000000</td>\n      <td>1.000000</td>\n      <td>4.000000</td>\n      <td>0.0</td>\n    </tr>\n    <tr>\n      <th>50%</th>\n      <td>3.000000</td>\n      <td>6.000000</td>\n      <td>2.000000</td>\n      <td>5.000000</td>\n      <td>0.0</td>\n    </tr>\n    <tr>\n      <th>75%</th>\n      <td>4.000000</td>\n      <td>7.000000</td>\n      <td>3.000000</td>\n      <td>5.000000</td>\n      <td>0.0</td>\n    </tr>\n    <tr>\n      <th>max</th>\n      <td>6.000000</td>\n      <td>7.000000</td>\n      <td>5.000000</td>\n      <td>5.000000</td>\n      <td>0.0</td>\n    </tr>\n  </tbody>\n</table>\n</div>"
     },
     "execution_count": 36,
     "metadata": {},
     "output_type": "execute_result"
    },
    {
     "data": {
      "text/plain": "       value_approx      income    nm_bikes   education  class\ncount    585.000000  585.000000  585.000000  585.000000  585.0\nmean       2.420513    3.647863    1.664957    3.695726    1.0\nstd        1.360244    1.323820    1.262154    1.340772    0.0\nmin        0.000000    0.000000    0.000000    0.000000    1.0\n25%        1.000000    3.000000    1.000000    3.000000    1.0\n50%        2.000000    4.000000    1.000000    4.000000    1.0\n75%        3.000000    4.000000    2.000000    5.000000    1.0\nmax        6.000000    7.000000    5.000000    5.000000    1.0",
      "text/html": "<div>\n<style scoped>\n    .dataframe tbody tr th:only-of-type {\n        vertical-align: middle;\n    }\n\n    .dataframe tbody tr th {\n        vertical-align: top;\n    }\n\n    .dataframe thead th {\n        text-align: right;\n    }\n</style>\n<table border=\"1\" class=\"dataframe\">\n  <thead>\n    <tr style=\"text-align: right;\">\n      <th></th>\n      <th>value_approx</th>\n      <th>income</th>\n      <th>nm_bikes</th>\n      <th>education</th>\n      <th>class</th>\n    </tr>\n  </thead>\n  <tbody>\n    <tr>\n      <th>count</th>\n      <td>585.000000</td>\n      <td>585.000000</td>\n      <td>585.000000</td>\n      <td>585.000000</td>\n      <td>585.0</td>\n    </tr>\n    <tr>\n      <th>mean</th>\n      <td>2.420513</td>\n      <td>3.647863</td>\n      <td>1.664957</td>\n      <td>3.695726</td>\n      <td>1.0</td>\n    </tr>\n    <tr>\n      <th>std</th>\n      <td>1.360244</td>\n      <td>1.323820</td>\n      <td>1.262154</td>\n      <td>1.340772</td>\n      <td>0.0</td>\n    </tr>\n    <tr>\n      <th>min</th>\n      <td>0.000000</td>\n      <td>0.000000</td>\n      <td>0.000000</td>\n      <td>0.000000</td>\n      <td>1.0</td>\n    </tr>\n    <tr>\n      <th>25%</th>\n      <td>1.000000</td>\n      <td>3.000000</td>\n      <td>1.000000</td>\n      <td>3.000000</td>\n      <td>1.0</td>\n    </tr>\n    <tr>\n      <th>50%</th>\n      <td>2.000000</td>\n      <td>4.000000</td>\n      <td>1.000000</td>\n      <td>4.000000</td>\n      <td>1.0</td>\n    </tr>\n    <tr>\n      <th>75%</th>\n      <td>3.000000</td>\n      <td>4.000000</td>\n      <td>2.000000</td>\n      <td>5.000000</td>\n      <td>1.0</td>\n    </tr>\n    <tr>\n      <th>max</th>\n      <td>6.000000</td>\n      <td>7.000000</td>\n      <td>5.000000</td>\n      <td>5.000000</td>\n      <td>1.0</td>\n    </tr>\n  </tbody>\n</table>\n</div>"
     },
     "execution_count": 36,
     "metadata": {},
     "output_type": "execute_result"
    },
    {
     "data": {
      "text/plain": "       value_approx      income    nm_bikes   education  class\ncount    196.000000  196.000000  196.000000  196.000000  196.0\nmean       2.025510    0.795918    0.979592    3.443878    2.0\nstd        1.029992    0.729723    0.671464    1.359454    0.0\nmin        0.000000    0.000000    0.000000    0.000000    2.0\n25%        1.000000    0.000000    1.000000    3.000000    2.0\n50%        2.000000    1.000000    1.000000    4.000000    2.0\n75%        3.000000    1.000000    1.000000    4.000000    2.0\nmax        5.000000    2.000000    3.000000    5.000000    2.0",
      "text/html": "<div>\n<style scoped>\n    .dataframe tbody tr th:only-of-type {\n        vertical-align: middle;\n    }\n\n    .dataframe tbody tr th {\n        vertical-align: top;\n    }\n\n    .dataframe thead th {\n        text-align: right;\n    }\n</style>\n<table border=\"1\" class=\"dataframe\">\n  <thead>\n    <tr style=\"text-align: right;\">\n      <th></th>\n      <th>value_approx</th>\n      <th>income</th>\n      <th>nm_bikes</th>\n      <th>education</th>\n      <th>class</th>\n    </tr>\n  </thead>\n  <tbody>\n    <tr>\n      <th>count</th>\n      <td>196.000000</td>\n      <td>196.000000</td>\n      <td>196.000000</td>\n      <td>196.000000</td>\n      <td>196.0</td>\n    </tr>\n    <tr>\n      <th>mean</th>\n      <td>2.025510</td>\n      <td>0.795918</td>\n      <td>0.979592</td>\n      <td>3.443878</td>\n      <td>2.0</td>\n    </tr>\n    <tr>\n      <th>std</th>\n      <td>1.029992</td>\n      <td>0.729723</td>\n      <td>0.671464</td>\n      <td>1.359454</td>\n      <td>0.0</td>\n    </tr>\n    <tr>\n      <th>min</th>\n      <td>0.000000</td>\n      <td>0.000000</td>\n      <td>0.000000</td>\n      <td>0.000000</td>\n      <td>2.0</td>\n    </tr>\n    <tr>\n      <th>25%</th>\n      <td>1.000000</td>\n      <td>0.000000</td>\n      <td>1.000000</td>\n      <td>3.000000</td>\n      <td>2.0</td>\n    </tr>\n    <tr>\n      <th>50%</th>\n      <td>2.000000</td>\n      <td>1.000000</td>\n      <td>1.000000</td>\n      <td>4.000000</td>\n      <td>2.0</td>\n    </tr>\n    <tr>\n      <th>75%</th>\n      <td>3.000000</td>\n      <td>1.000000</td>\n      <td>1.000000</td>\n      <td>4.000000</td>\n      <td>2.0</td>\n    </tr>\n    <tr>\n      <th>max</th>\n      <td>5.000000</td>\n      <td>2.000000</td>\n      <td>3.000000</td>\n      <td>5.000000</td>\n      <td>2.0</td>\n    </tr>\n  </tbody>\n</table>\n</div>"
     },
     "execution_count": 36,
     "metadata": {},
     "output_type": "execute_result"
    }
   ],
   "source": [
    "from sklearn.cluster import AgglomerativeClustering\n",
    "n=3\n",
    "my_class = 'class'\n",
    "cluster = AgglomerativeClustering(n_clusters=n)\n",
    "ses_final[my_class] = cluster.fit_predict(ses_final.to_numpy())\n",
    "for x in range(n):\n",
    "    class_data = ses_final[ses_final[my_class] == x]\n",
    "    # show the mean for each group and for each season\n",
    "    class_data.describe()"
   ],
   "metadata": {
    "collapsed": false,
    "pycharm": {
     "name": "#%%\n"
    }
   }
  },
  {
   "cell_type": "code",
   "execution_count": 41,
   "outputs": [
    {
     "data": {
      "text/plain": "value_approx    3.055503\nincome          1.525642\nnm_bikes        1.651055\neducation       4.803332\nclass           2.000000\ndtype: float64"
     },
     "execution_count": 41,
     "metadata": {},
     "output_type": "execute_result"
    }
   ],
   "source": [
    "my_info = class_data.describe()\n",
    "my_mean = my_info.loc['mean']\n",
    "my_std = my_info.loc['std']\n",
    "my_min = my_mean- my_std\n",
    "my_max= my_mean+ my_std\n"
   ],
   "metadata": {
    "collapsed": false,
    "pycharm": {
     "name": "#%%\n"
    }
   }
  },
  {
   "cell_type": "code",
   "execution_count": 38,
   "outputs": [
    {
     "data": {
      "text/plain": "[['Some high school or less',\n  'Graduated high school',\n  'Some university',\n  'Associate’s/vocational/technical\\u202fdegree',\n  'Bachelor’s degree',\n  'Graduate degree',\n  'I prefer to not answer'],\n False]"
     },
     "execution_count": 38,
     "metadata": {},
     "output_type": "execute_result"
    }
   ],
   "source": [
    "more_data['education']"
   ],
   "metadata": {
    "collapsed": false,
    "pycharm": {
     "name": "#%%\n"
    }
   }
  },
  {
   "cell_type": "markdown",
   "source": [
    "<span style=\"color: green;font-size: 50px\">####</span>"
   ],
   "metadata": {
    "collapsed": false,
    "pycharm": {
     "name": "#%% md\n"
    }
   }
  },
  {
   "cell_type": "code",
   "execution_count": 8,
   "outputs": [],
   "source": [
    "\n",
    "class MyData:\n",
    "    \"\"\"\n",
    "   The class organizes and explores the data, allowing for the creation of cross-tabulations.\n",
    "    \"\"\"\n",
    "    def __init__(self, var_0, data, com_data):\n",
    "        \"\"\"\n",
    "\n",
    "        :param var_0: The main variable that should not be replaced frequently throughout the program.\n",
    "        :param data: Data frame\n",
    "        :param com_data: provides more information when necessary to create more adaptable analysis\n",
    "        \"\"\"\n",
    "        self.cols_name = [var_0,'']\n",
    "        self.merge_q= data\n",
    "        self.more_data = com_data\n",
    "        self.reindex_rows = self.more_data[var_0][0]\n",
    "\n",
    "    def explore_data(self,cross_tab= True):\n",
    "        r\"\"\"\n",
    "        Clean the data and print cross_tab if it is required\n",
    "        :param cross_tab:\n",
    "        :return:\n",
    "        \"\"\"\n",
    "        # Based on these variables, the analysis can be employed.\n",
    "        cross_cols_nm =self.cols_name\n",
    "        cls_to_use = self.more_data[cross_cols_nm[1]][1]\n",
    "        reindex_temp = self.more_data[cross_cols_nm[1]][0]\n",
    "        only_rel_f= self.merge_q[cross_cols_nm].dropna()\n",
    "        if cross_tab:\n",
    "            if cls_to_use:\n",
    "                only_rel_f = only_rel_f[only_rel_f[cross_cols_nm[1]].isin(cls_to_use)]\n",
    "            # For ordinal categories, reindexing the columns is essential to align them in the required order.\n",
    "            return only_rel_f[cross_cols_nm[1]].value_counts().reindex(reindex_temp), (pd.crosstab(only_rel_f[cross_cols_nm[0]], only_rel_f[cross_cols_nm[1]], normalize='columns') * 100).astype(int).reindex(columns=reindex_temp,index= self.reindex_rows)\n",
    "        return only_rel_f\n",
    "\n",
    "    def change_properties(self,name):\n",
    "        \"\"\"\n",
    "        change the dependent variable and update desired reindex list\n",
    "        :param name:\n",
    "        :return:\n",
    "        \"\"\"\n",
    "        self.cols_name[0] = name\n",
    "        self.reindex_rows = self.more_data[name][0]\n",
    "        sumy =my_data.merge_q[name].value_counts().sum()\n",
    "        print((my_data.merge_q[name].value_counts()/sumy*100).apply('{:.0f}%'.format))\n",
    "\n",
    "\n"
   ],
   "metadata": {
    "collapsed": false,
    "pycharm": {
     "name": "#%%\n"
    }
   }
  },
  {
   "cell_type": "code",
   "execution_count": 13,
   "outputs": [
    {
     "name": "stdout",
     "output_type": "stream",
     "text": [
      "\n",
      "is_replaced\n",
      "\n",
      "​Yes, and I replaced it with exactly what was stolen or something more expensive    46%\n",
      "No                                                                                  31%\n",
      "Yes, but the replacement was something cheaper                                      24%\n",
      "Name: is_replaced, dtype: object\n",
      "\n",
      "mode_alt\n",
      "\n",
      "not active                 50%\n",
      "active                     36%\n",
      "Didn’t make those trips    13%\n",
      "Don’t know/not sure         2%\n",
      "Name: mode_alt, dtype: object\n",
      "\n",
      "post_act\n",
      "\n",
      "About the same / no change    49%\n",
      "Less often                    30%\n",
      "I stopped cycling             15%\n",
      "More often                     6%\n",
      "Name: post_act, dtype: object\n",
      "\n",
      "value_approx\n",
      "\n",
      "$500-$999                 29%\n",
      "$1000-$1999               24%\n",
      "$2000-3999                16%\n",
      "$250-$499                 13%\n",
      "$4000-6999                 8%\n",
      "$7000 or more              5%\n",
      "Less than $250             4%\n",
      "Don’t know/not sure        0%\n",
      "I prefer to not answer     0%\n",
      "Name: value_approx, dtype: object\n",
      "\n",
      "income\n",
      "\n",
      "$200,000 or more per year                 21%\n",
      "Between $100,000 and $149,999 per year    16%\n",
      "Between $75,000 and $99,999 per year      14%\n",
      "Between $50,000 and $74,999 per year      13%\n",
      "Between $150,000 and $199,999 per year    10%\n",
      "I prefer to not answer                     9%\n",
      "Between $20,000 and $34,999 per year       6%\n",
      "Between $35,000 and $49,999 per year       5%\n",
      "Under $20,000 per year                     5%\n",
      "Don’t know/not sure                        1%\n",
      "Name: income, dtype: object\n",
      "\n",
      "nm_bikes\n",
      "\n",
      "One                       37%\n",
      "Two                       24%\n",
      "Zero                      12%\n",
      "Three                     12%\n",
      "Five or more               8%\n",
      "Four                       6%\n",
      "I prefer to not answer     1%\n",
      "Name: nm_bikes, dtype: object\n",
      "\n",
      "age_groups\n",
      "\n",
      "Adults (25-34)          27%\n",
      "Adults (35-44)          25%\n",
      "Adults (45-54)          17%\n",
      "Older adults (>64)      15%\n",
      "Adults (55-64)          10%\n",
      "Young adults (18-24)     5%\n",
      "Adolescents (13-17)      1%\n",
      "Children (<13)           0%\n",
      "Name: age_groups, dtype: object\n",
      "\n",
      "education\n",
      "\n",
      "Graduate degree                            41%\n",
      "Bachelor’s degree                          39%\n",
      "Some university                             7%\n",
      "Associate’s/vocational/technical degree     6%\n",
      "Graduated high school                       3%\n",
      "Some high school or less                    2%\n",
      "I prefer to not answer                      2%\n",
      "Name: education, dtype: object\n",
      "\n",
      "seasons\n",
      "\n",
      "1.0    61%\n",
      "2.0    27%\n",
      "0.0    12%\n",
      "Name: seasons, dtype: object\n",
      "\n",
      "is_electric\n",
      "\n",
      "​No                                    88%\n",
      "Yes, with pedal-assist and throttle     7%\n",
      "Yes, with pedal-assist                  5%\n",
      "Name: is_electric, dtype: object\n",
      "\n",
      "purpose\n",
      "\n",
      "Recreation or exercise                                         42%\n",
      "Transportation                                                 31%\n",
      "Equal mix of recreation, exercise, and transportation trips    26%\n",
      "Don’t know/not sure                                             1%\n",
      "Name: purpose, dtype: object\n"
     ]
    }
   ],
   "source": [
    "\n",
    "dependent_names = list(dependent_vars.values())+['value_approx','income','nm_bikes','age_groups','education','seasons','is_electric','purpose']\n",
    "predictors_names = list(predictors.values())\n",
    "my_data = MyData(dependent_names[0],merge_q,more_data)\n",
    "for dep in dependent_names:\n",
    "    print(f'\\n{dep}\\n')\n",
    "    writer = pd.ExcelWriter(f'output_2/data_with_insight/{dep}.xlsx')\n",
    "    my_data.change_properties(dep)\n",
    "    for pre in predictors_names+dependent_names:\n",
    "        # relevant when we analysis the relationship between dependent_vars\n",
    "        if pre==dep:\n",
    "            continue\n",
    "        my_data.cols_name[1] = pre\n",
    "        value_counts,cross_tab = my_data.explore_data()\n",
    "        value_counts.to_excel(writer, sheet_name=pre)\n",
    "        cross_tab.to_excel(writer, sheet_name=pre, startrow=value_counts.shape[0] + 2)\n",
    "    writer.save()\n"
   ],
   "metadata": {
    "collapsed": false,
    "pycharm": {
     "name": "#%%\n"
    }
   }
  },
  {
   "cell_type": "markdown",
   "source": [
    "<span style=\"color: purple;font-size: 50px\">Phase 4: Apply Chi-Square Test</span>\n"
   ],
   "metadata": {
    "collapsed": false,
    "pycharm": {
     "name": "#%% md\n"
    }
   }
  },
  {
   "cell_type": "code",
   "execution_count": 3,
   "outputs": [],
   "source": [
    "#region\n",
    "cols_to_delete = ['I prefer to not answer', 'Don’t know/not sure']\n",
    "pre_test_data = pd.read_csv(f'{project_folder}/new_data/new_data_3.csv').fillna(-1)[list(all_vars.values())].applymap(lambda x: -1 if x in cols_to_delete + [-1] else x)\n",
    "data_path = 'output_2/data_with_insight'\n",
    "class MyTests:\n",
    "    def __init__(self, col_1:str, col_2:str, rel_data:tuple):\n",
    "        print(f'\\n{col_1}::{col_2}')\n",
    "        self.col_1 = col_1\n",
    "        self.col_2 = col_2\n",
    "        self.fields_to_test= rel_data[1]\n",
    "        self.rel_data = rel_data\n",
    "\n",
    "        if 'apply_chi' in rel_data[0]:\n",
    "            print('apply_chi')\n",
    "            self.__apply_chi()\n",
    "        else:\n",
    "            print('apply_spearmanr')\n",
    "            self.__apply_spearmanr( rel_data[2])\n",
    "\n",
    "    def __apply_chi(self):\n",
    "        \"\"\"\n",
    "        apply chi_square test based on the cols and data\n",
    "        :param new_names: more relevant data to employ when run the test\n",
    "        :param col_1:\n",
    "        :param col_2:\n",
    "        :return:\n",
    "        \"\"\"\n",
    "        # b.\tClean the data\n",
    "        test_data = pre_test_data[[self.col_1, self.col_2]]\n",
    "        # In case more data should be remove prior to the analysis\n",
    "        if isinstance(self.rel_data[-1],list):\n",
    "            test_data = test_data[~test_data.isin([-1]+self.rel_data[-1]).any(axis=1)]\n",
    "        else:\n",
    "            test_data = test_data[~test_data.isin([-1]).any(axis=1)]\n",
    "\n",
    "        # c.\tCreate group\n",
    "        for item in self.fields_to_test.items():\n",
    "            internal_dict  = item[1]\n",
    "            var_temp = item[0]\n",
    "            test_data[var_temp] =  test_data[var_temp].apply(lambda x: internal_dict[x] if x in internal_dict else x)\n",
    "\n",
    "        # d.\tCross tub\n",
    "        contingency_table = pd.crosstab(test_data[self.col_1], test_data[self.col_2], normalize='columns') * 100\n",
    "\n",
    "        # e.\ttest\n",
    "        chi2, p, _, _ = stats.chi2_contingency(contingency_table)\n",
    "\n",
    "        # Print the chi-square test statistic and p-value\n",
    "        print(contingency_table)\n",
    "        print('Chi-square test statistic:', chi2)\n",
    "        print('p-value:', p)\n",
    "\n",
    "    def __apply_spearmanr(self, more_cols_to_delete):\n",
    "\n",
    "        # The data to read (the Excel name- @col_1 and sheet name  - @col_2)\n",
    "        df = pd.read_excel(f'{data_path}/{self.col_1}.xlsx', sheet_name=self.col_2)\n",
    "        # Obten only the contingency_table from the file, update the cols names and remove irrelevant data\n",
    "        new_df = df.iloc[df.loc[df[df.columns[0]].isnull()].index.item()+1:]\n",
    "        new_df.columns= new_df.iloc[0]\n",
    "        cols_to_delete_temp = [col for col in cols_to_delete if col in new_df.columns] + more_cols_to_delete\n",
    "        new_df = new_df.reset_index(drop=True).drop(0).drop(columns= cols_to_delete_temp).set_index(var_1)\n",
    "        # extract the required data for test\n",
    "        data_1= np.array(range(len(new_df.columns)))\n",
    "        # the data to test which can be based on one or more fields (if it is list is more than one)\n",
    "        if isinstance(self.fields_to_test,list):\n",
    "            data_2 = np.array(new_df.loc[self.fields_to_test].sum())\n",
    "        else:\n",
    "            data_2= np.array(new_df.loc[self.fields_to_test])\n",
    "        # Perform the Cochran-Armitage test of trend\n",
    "        result = stats.spearmanr(data_1, data_2)\n",
    "\n",
    "        # Extract the test statistic and p-value\n",
    "        test_statistic = result.correlation\n",
    "        p_value = result.pvalue\n",
    "\n",
    "        # Print the test statistic and p-value\n",
    "        print(\"Test Statistic:\", test_statistic)\n",
    "        print(\"p-value:\", p_value)\n",
    "#endregion"
   ],
   "metadata": {
    "collapsed": false,
    "pycharm": {
     "name": "#%%\n"
    }
   }
  },
  {
   "cell_type": "code",
   "execution_count": 3,
   "outputs": [],
   "source": [
    "predictors ={'Q13':'value_approx','Q14':'is_electric','Q15':'bicycle_type','Q18':'is_recover',  'Q28':'seasons', 'Q29':'purpose', 'age_groups': 'age_groups', 'Q35': 'gender', 'Q36': 'income','Q37':'nm_bikes', 'Q38': 'education','country':'country'}\n",
    "dependent_vars = {'Q25':'is_replaced','Q30':'mode_alt', 'Q31':'post_act'}"
   ],
   "metadata": {
    "collapsed": false,
    "pycharm": {
     "name": "#%%\n"
    }
   }
  },
  {
   "cell_type": "code",
   "execution_count": null,
   "outputs": [],
   "source": [],
   "metadata": {
    "collapsed": false,
    "pycharm": {
     "name": "#%%\n"
    }
   }
  },
  {
   "cell_type": "code",
   "execution_count": null,
   "outputs": [],
   "source": [
    "var_1 = 'mode_alt'\n",
    "vars_2 = ['value_approx','nm_bikes','age_groups','income']\n",
    "for var_2 in vars_2:\n",
    "    for temp_val in pre_test_data[pre_test_data[var_1 ] != -1][var_1].drop_duplicates().values:\n",
    "        print(f'\\n{temp_val}')\n",
    "        if var_2=='age_groups':\n",
    "            test_fields=('spearmanr', temp_val,['Children (<13)'])\n",
    "        else:\n",
    "            test_fields=('spearmanr', temp_val,[])\n",
    "        res = MyTests(var_1, var_2, test_fields)"
   ],
   "metadata": {
    "collapsed": false,
    "pycharm": {
     "name": "#%%\n"
    }
   }
  },
  {
   "cell_type": "code",
   "execution_count": 8,
   "outputs": [
    {
     "data": {
      "text/plain": "array(['\\u200bYes, and I replaced it with exactly what was stolen or something more expensive',\n       'Yes, but the replacement was something cheaper', 'No'],\n      dtype=object)"
     },
     "execution_count": 8,
     "metadata": {},
     "output_type": "execute_result"
    }
   ],
   "source": [
    "pre_test_data[pre_test_data['is_replaced'] != -1]['is_replaced'].drop_duplicates().values"
   ],
   "metadata": {
    "collapsed": false,
    "pycharm": {
     "name": "#%%\n"
    }
   }
  },
  {
   "cell_type": "code",
   "execution_count": 5,
   "outputs": [
    {
     "name": "stdout",
     "output_type": "stream",
     "text": [
      "\n",
      "mode_alt::seasons\n",
      "apply_chi\n",
      "seasons      0.0        1.0        2.0\n",
      "mode_alt                              \n",
      "active      25.0  29.949749  55.251142\n",
      "not active  75.0  70.050251  44.748858\n",
      "Chi-square test statistic: 22.659060879893193\n",
      "p-value: 1.2012888535235022e-05\n"
     ]
    },
    {
     "data": {
      "text/plain": "<__main__.MyTests at 0x25841c4eec0>"
     },
     "execution_count": 5,
     "metadata": {},
     "output_type": "execute_result"
    },
    {
     "name": "stdout",
     "output_type": "stream",
     "text": [
      "\n",
      "mode_alt::purpose\n",
      "apply_chi\n",
      "purpose     Equal mix of recreation, exercise, and transportation trips  \\\n",
      "mode_alt                                                                  \n",
      "active                                              39.159292             \n",
      "not active                                          60.840708             \n",
      "\n",
      "purpose     Recreation or exercise  Transportation  \n",
      "mode_alt                                            \n",
      "active                   31.518625       41.111111  \n",
      "not active               68.481375       58.888889  \n",
      "Chi-square test statistic: 2.1987514330944222\n",
      "p-value: 0.33307895448593955\n"
     ]
    },
    {
     "data": {
      "text/plain": "<__main__.MyTests at 0x25841c4ee60>"
     },
     "execution_count": 5,
     "metadata": {},
     "output_type": "execute_result"
    },
    {
     "name": "stdout",
     "output_type": "stream",
     "text": [
      "\n",
      "mode_alt::purpose\n",
      "apply_chi\n",
      "purpose                  Equal mix of recreation, exercise, and transportation trips  \\\n",
      "mode_alt                                                                               \n",
      "Didn’t make those trips                                            4.20354             \n",
      "make this trip                                                    95.79646             \n",
      "\n",
      "purpose                  Recreation or exercise  Transportation  \n",
      "mode_alt                                                         \n",
      "Didn’t make those trips               26.790831        2.407407  \n",
      "make this trip                        73.209169       97.592593  \n",
      "Chi-square test statistic: 37.326712115701845\n",
      "p-value: 7.845261971756796e-09\n"
     ]
    },
    {
     "data": {
      "text/plain": "<__main__.MyTests at 0x25841c4e6e0>"
     },
     "execution_count": 5,
     "metadata": {},
     "output_type": "execute_result"
    },
    {
     "name": "stdout",
     "output_type": "stream",
     "text": [
      "\n",
      "mode_alt::is_electric\n",
      "apply_chi\n",
      "is_electric  Yes, with pedal-assist  Yes, with pedal-assist and throttle  \\\n",
      "mode_alt                                                                   \n",
      "active                    39.772727                            33.333333   \n",
      "not active                60.227273                            66.666667   \n",
      "\n",
      "is_electric        ​No  \n",
      "mode_alt                \n",
      "active       51.407001  \n",
      "not active   48.592999  \n",
      "Chi-square test statistic: 6.912631294337069\n",
      "p-value: 0.03154577393423454\n"
     ]
    },
    {
     "data": {
      "text/plain": "<__main__.MyTests at 0x25841c4e5f0>"
     },
     "execution_count": 5,
     "metadata": {},
     "output_type": "execute_result"
    },
    {
     "name": "stdout",
     "output_type": "stream",
     "text": [
      "\n",
      "mode_alt::value_approx\n",
      "apply_spearmanr\n",
      "Test Statistic: -0.942857142857143\n",
      "p-value: 0.0048046647230320545\n"
     ]
    },
    {
     "data": {
      "text/plain": "<__main__.MyTests at 0x25841c4c130>"
     },
     "execution_count": 5,
     "metadata": {},
     "output_type": "execute_result"
    },
    {
     "name": "stdout",
     "output_type": "stream",
     "text": [
      "\n",
      "mode_alt::is_recover\n",
      "apply_chi\n",
      "is_recover         No        Yes\n",
      "mode_alt                        \n",
      "active      34.610028  46.564885\n",
      "not active  65.389972  53.435115\n",
      "Chi-square test statistic: 2.4883616460247038\n",
      "p-value: 0.1146910604066402\n"
     ]
    },
    {
     "data": {
      "text/plain": "<__main__.MyTests at 0x2584219a920>"
     },
     "execution_count": 5,
     "metadata": {},
     "output_type": "execute_result"
    },
    {
     "name": "stdout",
     "output_type": "stream",
     "text": [
      "\n",
      "mode_alt::nm_bikes\n",
      "apply_spearmanr\n",
      "Test Statistic: 0.942857142857143\n",
      "p-value: 0.0048046647230320545\n"
     ]
    },
    {
     "data": {
      "text/plain": "<__main__.MyTests at 0x258421c7f40>"
     },
     "execution_count": 5,
     "metadata": {},
     "output_type": "execute_result"
    },
    {
     "name": "stdout",
     "output_type": "stream",
     "text": [
      "\n",
      "mode_alt::age_groups\n",
      "apply_chi\n",
      "age_groups  Young adults (18-24)  not young\n",
      "mode_alt                                   \n",
      "active                      50.0  35.669192\n",
      "not active                  50.0  64.330808\n",
      "Chi-square test statistic: 3.628732917278225\n",
      "p-value: 0.05679003728169556\n"
     ]
    },
    {
     "data": {
      "text/plain": "<__main__.MyTests at 0x2583c7e8700>"
     },
     "execution_count": 5,
     "metadata": {},
     "output_type": "execute_result"
    },
    {
     "name": "stdout",
     "output_type": "stream",
     "text": [
      "\n",
      "mode_alt::income\n",
      "apply_chi\n",
      "income      Under $20,000 per year  not low income\n",
      "mode_alt                                          \n",
      "active                   51.219512       35.638673\n",
      "not active               48.780488       64.361327\n",
      "Chi-square test statistic: 4.32674329570235\n",
      "p-value: 0.03751796448189743\n"
     ]
    },
    {
     "data": {
      "text/plain": "<__main__.MyTests at 0x2583c7e86a0>"
     },
     "execution_count": 5,
     "metadata": {},
     "output_type": "execute_result"
    }
   ],
   "source": [
    "#region\n",
    "# dependent 2\n",
    "var_1 = 'mode_alt'\n",
    "\n",
    "var_2 = 'seasons'\n",
    "val_1 = 'not active'\n",
    "test_fields= ('apply_chi', {var_1:{'Didn’t make those trips':val_1}})\n",
    "MyTests(var_1, var_2, test_fields)\n",
    "\n",
    "var_2= 'purpose'\n",
    "test_fields= ('apply_chi', {var_1:{'Didn’t make those trips':val_1}})\n",
    "MyTests(var_1, var_2, test_fields)\n",
    "\n",
    "val_1 = 'make this trip'\n",
    "test_fields= ('apply_chi', {var_1:{'active':val_1, 'not active':val_1}})\n",
    "MyTests(var_1, var_2, test_fields)\n",
    "\n",
    "var_2 = 'is_electric'\n",
    "val_1 = 'active'\n",
    "test_fields=('apply_chi', {var_1:{'Didn’t make those trips':val_1}})\n",
    "MyTests(var_1, var_2, test_fields)\n",
    "\n",
    "var_2 = 'value_approx'\n",
    "val_1 = 'active'\n",
    "test_fields=('spearmanr', val_1,['$7000 or more'])\n",
    "MyTests(var_1, var_2, test_fields)\n",
    "\n",
    "var_2 = 'is_recover'\n",
    "val_1 = 'not active'\n",
    "test_fields=('apply_chi', {var_1:{'Didn’t make those trips':val_1}})\n",
    "MyTests(var_1, var_2, test_fields)\n",
    "\n",
    "var_2 = 'nm_bikes'\n",
    "val_1 = 'active'\n",
    "test_fields=('spearmanr', val_1,[])\n",
    "MyTests(var_1, var_2, test_fields)\n",
    "\n",
    "var_2 = 'age_groups'\n",
    "val_1 = 'not active'\n",
    "val_2 = 'not young'\n",
    "test_fields=('apply_chi', {var_1:{'Didn’t make those trips':val_1},var_2:{age:val_2 for age in pre_test_data[var_2]if age not  in ['Young adults (18-24)']}},['Children (<13)','Adolescents (13-17)'])\n",
    "MyTests(var_1, var_2, test_fields)\n",
    "\n",
    "var_2 = 'income'\n",
    "val_1 = 'not active'\n",
    "val_2 = 'not low income'\n",
    "test_fields=('apply_chi', {var_1:{'Didn’t make those trips':val_1},var_2:{b:val_2 for b in pre_test_data[var_2]if b not  in ['Under $20,000 per year']}})\n",
    "MyTests(var_1, var_2, test_fields)\n",
    "#endregion"
   ],
   "metadata": {
    "collapsed": false,
    "pycharm": {
     "name": "#%%\n"
    }
   }
  },
  {
   "cell_type": "code",
   "execution_count": 11,
   "outputs": [
    {
     "name": "stdout",
     "output_type": "stream",
     "text": [
      "\n",
      "Didn’t make those trips\n",
      "\n",
      "mode_alt::value_approx\n",
      "apply_spearmanr\n",
      "Test Statistic: 0.4504687313477795\n",
      "p-value: 0.3104293018513229\n",
      "\n",
      "not active\n",
      "\n",
      "mode_alt::value_approx\n",
      "apply_spearmanr\n",
      "Test Statistic: -0.18018749253911182\n",
      "p-value: 0.6990457740939315\n",
      "\n",
      "active\n",
      "\n",
      "mode_alt::value_approx\n",
      "apply_spearmanr\n",
      "Test Statistic: -0.6071428571428572\n",
      "p-value: 0.1482311614811614\n",
      "\n",
      "Didn’t make those trips\n",
      "\n",
      "mode_alt::nm_bikes\n",
      "apply_spearmanr\n",
      "Test Statistic: 0.16903085094570333\n",
      "p-value: 0.7488684500235265\n",
      "\n",
      "not active\n",
      "\n",
      "mode_alt::nm_bikes\n",
      "apply_spearmanr\n",
      "Test Statistic: -0.7944613465542746\n",
      "p-value: 0.05902759992532669\n",
      "\n",
      "active\n",
      "\n",
      "mode_alt::nm_bikes\n",
      "apply_spearmanr\n",
      "Test Statistic: 0.942857142857143\n",
      "p-value: 0.0048046647230320545\n",
      "\n",
      "Didn’t make those trips\n",
      "\n",
      "mode_alt::age_groups\n",
      "apply_spearmanr\n",
      "Test Statistic: 0.4642857142857144\n",
      "p-value: 0.2939341076002517\n",
      "\n",
      "not active\n",
      "\n",
      "mode_alt::age_groups\n",
      "apply_spearmanr\n",
      "Test Statistic: -0.36037498507822363\n",
      "p-value: 0.42714880856090626\n",
      "\n",
      "active\n",
      "\n",
      "mode_alt::age_groups\n",
      "apply_spearmanr\n",
      "Test Statistic: 0.0\n",
      "p-value: 1.0\n",
      "\n",
      "Didn’t make those trips\n",
      "\n",
      "mode_alt::income\n",
      "apply_spearmanr\n",
      "Test Statistic: 0.4047619047619048\n",
      "p-value: 0.3198886412288162\n",
      "\n",
      "not active\n",
      "\n",
      "mode_alt::income\n",
      "apply_spearmanr\n",
      "Test Statistic: 0.17964393928698885\n",
      "p-value: 0.6703442772469386\n",
      "\n",
      "active\n",
      "\n",
      "mode_alt::income\n",
      "apply_spearmanr\n",
      "Test Statistic: -0.626551500525444\n",
      "p-value: 0.09646118602901278\n"
     ]
    }
   ],
   "source": [
    "var_1 = 'mode_alt'\n",
    "vars_2 = ['value_approx','nm_bikes','age_groups','income']\n",
    "for var_2 in vars_2:\n",
    "    for temp_val in pre_test_data[pre_test_data[var_1 ] != -1][var_1].drop_duplicates().values:\n",
    "        print(f'\\n{temp_val}')\n",
    "        if var_2=='age_groups':\n",
    "            test_fields=('spearmanr', temp_val,['Children (<13)'])\n",
    "        else:\n",
    "            test_fields=('spearmanr', temp_val,[])\n",
    "        res = MyTests(var_1, var_2, test_fields)"
   ],
   "metadata": {
    "collapsed": false,
    "pycharm": {
     "name": "#%%\n"
    }
   }
  },
  {
   "cell_type": "code",
   "execution_count": 7,
   "outputs": [
    {
     "name": "stdout",
     "output_type": "stream",
     "text": [
      "\n",
      "post_act::is_recover\n",
      "apply_chi\n",
      "is_recover       No        Yes\n",
      "post_act                      \n",
      "negative    47.8738  27.675277\n",
      "positive    52.1262  72.324723\n",
      "Chi-square test statistic: 7.840402304773549\n",
      "p-value: 0.005109123495550274\n",
      "\n",
      "post_act::seasons\n",
      "apply_chi\n",
      "seasons         0.0        1.0        2.0\n",
      "post_act                                 \n",
      "negative  82.439024  45.986125  22.121896\n",
      "positive  17.560976  54.013875  77.878104\n",
      "Chi-square test statistic: 73.82059854544553\n",
      "p-value: 9.333847489738014e-17\n",
      "\n",
      "post_act::seasons\n",
      "apply_chi\n",
      "seasons         0.0        1.0\n",
      "post_act                      \n",
      "negative  58.536585   8.539945\n",
      "positive  41.463415  91.460055\n",
      "Chi-square test statistic: 53.8505747481379\n",
      "p-value: 2.1633180147558866e-13\n",
      "\n",
      "post_act::age_groups\n",
      "apply_chi\n",
      "age_groups         Young adults (18-24)   negative\n",
      "post_act                                          \n",
      "I stopped cycling             32.258065  14.374226\n",
      "still cycling                 67.741935  85.625774\n",
      "Chi-square test statistic: 7.971714255037737\n",
      "p-value: 0.004751392107743264\n",
      "\n",
      "post_act::income\n",
      "apply_spearmanr\n",
      "Test Statistic: -0.9221722216732094\n",
      "p-value: 0.0011108173578061712\n",
      "\n",
      "post_act::value_approx\n",
      "apply_chi\n",
      "value_approx   Less than $250  not cheap bike\n",
      "post_act                                     \n",
      "More often          13.513514        5.700424\n",
      "no more often       86.486486       94.299576\n",
      "Chi-square test statistic: 2.6726174016569697\n",
      "p-value: 0.10208800736772033\n",
      "\n",
      "post_act::seasons\n",
      "apply_chi\n",
      "seasons                           0.0        1.0        2.0\n",
      "post_act                                                   \n",
      "About the same / no change  15.920398  50.690755  76.442308\n",
      "negative                    84.079602  49.309245  23.557692\n",
      "Chi-square test statistic: 73.95890506401399\n",
      "p-value: 8.710193869575939e-17\n",
      "\n",
      "post_act::value_approx\n",
      "apply_spearmanr\n",
      "Test Statistic: 0.8571428571428573\n",
      "p-value: 0.01369732661532562\n",
      "\n",
      "post_act::nm_bikes\n",
      "apply_spearmanr\n",
      "Test Statistic: 0.9999999999999999\n",
      "p-value: 1.4042654220543672e-24\n",
      "\n",
      "post_act::education\n",
      "apply_spearmanr\n",
      "Test Statistic: 0.7356123579206245\n",
      "p-value: 0.09561078073827967\n"
     ]
    }
   ],
   "source": [
    "#region\n",
    "# dependent 3\n",
    "var_1 ='post_act'\n",
    "\n",
    "# a.\tDefine var\n",
    "var_2 = 'is_recover'\n",
    "val_1 = 'positive'\n",
    "val_2 = 'negative'\n",
    "\n",
    "test_fields= ('apply_chi', {var_1:{'I stopped cycling':val_2, 'Less often':val_2,'About the same / no change':val_1,'More often':val_1}})\n",
    "res= MyTests(var_1, var_2, test_fields)\n",
    "var_2 = 'seasons'\n",
    "test_fields=('apply_chi', {var_1:{'I stopped cycling':val_2, 'Less often':val_2,'About the same / no change':val_1,'More often':val_1}})\n",
    "res = MyTests(var_1, var_2, test_fields)\n",
    "test_fields=('apply_chi', {var_1:{'I stopped cycling':val_2, 'Less often':val_1,'About the same / no change':val_1,'More often':val_1},var_2:{2:1}})\n",
    "res = MyTests(var_1, var_2, test_fields)\n",
    "\n",
    "var_2 = 'age_groups'\n",
    "val_1 = 'still cycling'\n",
    "\n",
    "test_fields=('apply_chi', {var_1:{ 'Less often':val_1,'About the same / no change':val_1,'More often':val_1},var_2:{age:val_2 for age in pre_test_data[var_2]if age not  in ['Young adults (18-24)']}},['Children (<13)','Adolescents (13-17)'])\n",
    "res = MyTests(var_1, var_2, test_fields)\n",
    "var_2 = 'income'\n",
    "test_fields=('spearmanr', 'I stopped cycling',[])\n",
    "res = MyTests(var_1, var_2, test_fields)\n",
    "var_2 = 'value_approx'\n",
    "\n",
    "val_1 = 'no more often'\n",
    "val_2 = 'not cheap bike'\n",
    "test_fields=('apply_chi', {var_1:{ 'Less often':val_1,'About the same / no change':val_1,'I stopped cycling':val_1},var_2:{temp:val_2 for temp in pre_test_data[var_2]if temp not  in ['Less than $250']}})\n",
    "res = MyTests(var_1, var_2, test_fields)\n",
    "var_2 = 'seasons'\n",
    "val_1 = 'negative'\n",
    "test_fields=('apply_chi', {var_1:{ 'Less often':val_1,'I stopped cycling':val_1}},['More often'])\n",
    "res = MyTests(var_1, var_2, test_fields)\n",
    "var_2 = 'value_approx'\n",
    "test_fields=('spearmanr', 'About the same / no change',[])\n",
    "res = MyTests(var_1, var_2, test_fields)\n",
    "\n",
    "var_2 = 'nm_bikes'\n",
    "test_fields=('spearmanr', 'About the same / no change',['Zero'])\n",
    "res = MyTests(var_1, var_2, test_fields)\n",
    "\n",
    "var_2 = 'education'\n",
    "test_fields=('spearmanr', 'About the same / no change',[])\n",
    "res = MyTests(var_1, var_2, test_fields)\n",
    "#endregion"
   ],
   "metadata": {
    "collapsed": false,
    "pycharm": {
     "name": "#%%\n"
    }
   }
  },
  {
   "cell_type": "code",
   "execution_count": 5,
   "outputs": [
    {
     "name": "stdout",
     "output_type": "stream",
     "text": [
      "\n",
      "More often\n",
      "\n",
      "post_act::age_groups\n",
      "apply_spearmanr\n",
      "Test Statistic: -0.10910894511799621\n",
      "p-value: 0.8158714843641036\n",
      "\n",
      "About the same / no change\n",
      "\n",
      "post_act::age_groups\n",
      "apply_spearmanr\n",
      "Test Statistic: 0.7500000000000002\n",
      "p-value: 0.05218140045705776\n",
      "\n",
      "Less often\n",
      "\n",
      "post_act::age_groups\n",
      "apply_spearmanr\n",
      "Test Statistic: -0.3243374865704013\n",
      "p-value: 0.47788547973993134\n",
      "\n",
      "I stopped cycling\n",
      "\n",
      "post_act::age_groups\n",
      "apply_spearmanr\n",
      "Test Statistic: -0.14285714285714288\n",
      "p-value: 0.7599453002180929\n",
      "\n",
      "More often\n",
      "\n",
      "post_act::income\n",
      "apply_spearmanr\n",
      "Test Statistic: -0.6747477697966319\n",
      "p-value: 0.06640156509474052\n",
      "\n",
      "About the same / no change\n",
      "\n",
      "post_act::income\n",
      "apply_spearmanr\n",
      "Test Statistic: 0.9700772721497397\n",
      "p-value: 6.548558831120658e-05\n",
      "\n",
      "Less often\n",
      "\n",
      "post_act::income\n",
      "apply_spearmanr\n",
      "Test Statistic: 0.06024533658898499\n",
      "p-value: 0.8873130218901896\n",
      "\n",
      "I stopped cycling\n",
      "\n",
      "post_act::income\n",
      "apply_spearmanr\n",
      "Test Statistic: -0.9221722216732094\n",
      "p-value: 0.0011108173578061712\n",
      "\n",
      "More often\n",
      "\n",
      "post_act::nm_bikes\n",
      "apply_spearmanr\n",
      "Test Statistic: -0.5642880936468347\n",
      "p-value: 0.32172333582430024\n",
      "\n",
      "About the same / no change\n",
      "\n",
      "post_act::nm_bikes\n",
      "apply_spearmanr\n",
      "Test Statistic: 0.9999999999999999\n",
      "p-value: 1.4042654220543672e-24\n",
      "\n",
      "Less often\n",
      "\n",
      "post_act::nm_bikes\n",
      "apply_spearmanr\n",
      "Test Statistic: -0.8999999999999998\n",
      "p-value: 0.03738607346849874\n",
      "\n",
      "I stopped cycling\n",
      "\n",
      "post_act::nm_bikes\n",
      "apply_spearmanr\n",
      "Test Statistic: -0.9999999999999999\n",
      "p-value: 1.4042654220543672e-24\n",
      "\n",
      "More often\n",
      "\n",
      "post_act::value_approx\n",
      "apply_spearmanr\n",
      "Test Statistic: -0.592999453328881\n",
      "p-value: 0.16052191228369223\n",
      "\n",
      "About the same / no change\n",
      "\n",
      "post_act::value_approx\n",
      "apply_spearmanr\n",
      "Test Statistic: 0.8571428571428573\n",
      "p-value: 0.01369732661532562\n",
      "\n",
      "Less often\n",
      "\n",
      "post_act::value_approx\n",
      "apply_spearmanr\n",
      "Test Statistic: -0.4684874806016907\n",
      "p-value: 0.288996771597148\n",
      "\n",
      "I stopped cycling\n",
      "\n",
      "post_act::value_approx\n",
      "apply_spearmanr\n",
      "Test Statistic: -0.23640271442232513\n",
      "p-value: 0.6097900468148635\n",
      "\n",
      "More often\n",
      "\n",
      "post_act::education\n",
      "apply_spearmanr\n",
      "Test Statistic: 0.057977103565244846\n",
      "p-value: 0.9131317851623264\n",
      "\n",
      "About the same / no change\n",
      "\n",
      "post_act::education\n",
      "apply_spearmanr\n",
      "Test Statistic: 0.7356123579206245\n",
      "p-value: 0.09561078073827967\n",
      "\n",
      "Less often\n",
      "\n",
      "post_act::education\n",
      "apply_spearmanr\n",
      "Test Statistic: -0.6377481392176932\n",
      "p-value: 0.17307111024125976\n",
      "\n",
      "I stopped cycling\n",
      "\n",
      "post_act::education\n",
      "apply_spearmanr\n",
      "Test Statistic: -0.9856107606091623\n",
      "p-value: 0.0003090856678496699\n"
     ]
    }
   ],
   "source": [
    "var_1 = 'post_act'\n",
    "vars_2 = ['age_groups','income','nm_bikes','value_approx','education']\n",
    "for var_2 in vars_2:\n",
    "    for temp_val in pre_test_data[pre_test_data[var_1 ] != -1][var_1].drop_duplicates().values:\n",
    "        print(f'\\n{temp_val}')\n",
    "        if var_2=='age_groups':\n",
    "            test_fields=('spearmanr', temp_val,['Children (<13)'])\n",
    "        elif var_2=='nm_bikes':\n",
    "            test_fields=('spearmanr', temp_val,['Zero'])\n",
    "        else:\n",
    "            test_fields=('spearmanr', temp_val,[])\n",
    "        res = MyTests(var_1, var_2, test_fields)"
   ],
   "metadata": {
    "collapsed": false,
    "pycharm": {
     "name": "#%%\n"
    }
   }
  },
  {
   "cell_type": "code",
   "execution_count": 10,
   "outputs": [
    {
     "data": {
      "text/plain": "array(['Older adults (>64)', 'Adults (55-64)', 'Adults (45-54)',\n       'Adults (35-44)', 'Adults (25-34)', 'Young adults (18-24)',\n       'Adolescents (13-17)', 'Children (<13)'], dtype=object)"
     },
     "execution_count": 10,
     "metadata": {},
     "output_type": "execute_result"
    }
   ],
   "source": [
    "pre_test_data['age_groups'].unique()\n"
   ],
   "metadata": {
    "collapsed": false,
    "pycharm": {
     "name": "#%%\n"
    }
   }
  },
  {
   "cell_type": "code",
   "execution_count": 9,
   "outputs": [],
   "source": [
    "#region\n",
    "# dependent 1\n",
    "var_1 ='is_replaced'"
   ],
   "metadata": {
    "collapsed": false,
    "pycharm": {
     "name": "#%%\n"
    }
   }
  },
  {
   "cell_type": "code",
   "execution_count": null,
   "outputs": [],
   "source": [
    "\n",
    "# a.\tDefine var\n",
    "var_2 = 'is_recover'\n",
    "val = 'yes'\n",
    "test_fields= ('apply_chi', {var_1:{'​Yes, and I replaced it with exactly what was stolen or something more expensive':val, 'Yes, but the replacement was something cheaper':val}})\n",
    "res= MyTests(var_1, var_2, test_fields)\n",
    "\n",
    "var_2 = 'seasons'\n",
    "test_fields=('apply_chi', {var_1:{'​Yes, and I replaced it with exactly what was stolen or something more expensive':val, 'Yes, but the replacement was something cheaper':val}, var_2:{2:1}})\n",
    "res = MyTests(var_1, var_2, test_fields)\n",
    "\n",
    "\n",
    "var_2 = 'value_approx'\n",
    "val_1= 'low'\n",
    "val_2 = 'high'\n",
    "test_fields=('apply_chi', {var_1:{'​Yes, and I replaced it with exactly what was stolen or something more expensive':val, 'Yes, but the replacement was something cheaper':'No'}, var_2:{'Less than $250':val_1,'$250-$499':val_1,'$500-$999':val_1,'$1000-$1999':val_1,'$2000-3999':val_1,'$4000-6999':val_2,'$7000 or more':val_2}})\n",
    "res = MyTests(var_1, var_2, test_fields)"
   ],
   "metadata": {
    "collapsed": false,
    "pycharm": {
     "name": "#%%\n"
    }
   }
  },
  {
   "cell_type": "code",
   "execution_count": 6,
   "outputs": [
    {
     "name": "stdout",
     "output_type": "stream",
     "text": [
      "\n",
      "​Yes, and I replaced it with exactly what was stolen or something more expensive\n",
      "\n",
      "is_replaced::income\n",
      "apply_spearmanr\n",
      "Test Statistic: 0.9700772721497397\n",
      "p-value: 6.548558831120658e-05\n",
      "\n",
      "Yes, but the replacement was something cheaper\n",
      "\n",
      "is_replaced::income\n",
      "apply_spearmanr\n",
      "Test Statistic: -0.8982196964349441\n",
      "p-value: 0.002438796796382353\n",
      "\n",
      "No\n",
      "\n",
      "is_replaced::income\n",
      "apply_spearmanr\n",
      "Test Statistic: -0.9157291161525718\n",
      "p-value: 0.0014031743248924412\n",
      "\n",
      "​Yes, and I replaced it with exactly what was stolen or something more expensive\n",
      "\n",
      "is_replaced::nm_bikes\n",
      "apply_spearmanr\n",
      "Test Statistic: 0.8999999999999998\n",
      "p-value: 0.03738607346849874\n",
      "\n",
      "Yes, but the replacement was something cheaper\n",
      "\n",
      "is_replaced::nm_bikes\n",
      "apply_spearmanr\n",
      "Test Statistic: -0.9746794344808964\n",
      "p-value: 0.004818230468198537\n",
      "\n",
      "No\n",
      "\n",
      "is_replaced::nm_bikes\n",
      "apply_spearmanr\n",
      "Test Statistic: -0.44721359549995787\n",
      "p-value: 0.45018485575210093\n",
      "\n",
      "​Yes, and I replaced it with exactly what was stolen or something more expensive\n",
      "\n",
      "is_replaced::education\n",
      "apply_spearmanr\n",
      "Test Statistic: 0.9856107606091623\n",
      "p-value: 0.0003090856678496699\n",
      "\n",
      "Yes, but the replacement was something cheaper\n",
      "\n",
      "is_replaced::education\n",
      "apply_spearmanr\n",
      "Test Statistic: -0.8116794499134279\n",
      "p-value: 0.04985758510134035\n",
      "\n",
      "No\n",
      "\n",
      "is_replaced::education\n",
      "apply_spearmanr\n",
      "Test Statistic: -0.3714285714285715\n",
      "p-value: 0.46847813411078715\n",
      "\n",
      "​Yes, and I replaced it with exactly what was stolen or something more expensive\n",
      "\n",
      "is_replaced::value_approx\n",
      "apply_spearmanr\n",
      "Test Statistic: 0.9369749612033814\n",
      "p-value: 0.0018510301964418906\n",
      "\n",
      "Yes, but the replacement was something cheaper\n",
      "\n",
      "is_replaced::value_approx\n",
      "apply_spearmanr\n",
      "Test Statistic: -0.8288624656799143\n",
      "p-value: 0.021173515581004273\n",
      "\n",
      "No\n",
      "\n",
      "is_replaced::value_approx\n",
      "apply_spearmanr\n",
      "Test Statistic: -0.9549937104572925\n",
      "p-value: 0.0008055353363017577\n"
     ]
    }
   ],
   "source": [
    "var_1 = 'is_replaced'\n",
    "vars_2 = ['income','nm_bikes','education','value_approx']\n",
    "for var_2 in vars_2:\n",
    "    for temp_val in pre_test_data[pre_test_data[var_1 ] != -1][var_1].drop_duplicates().values:\n",
    "        print(f'\\n{temp_val}')\n",
    "        if var_2=='nm_bikes':\n",
    "            test_fields=('spearmanr', temp_val,['Zero'])\n",
    "        else:\n",
    "            test_fields=('spearmanr', temp_val,[])\n",
    "        res = MyTests(var_1, var_2, test_fields)\n",
    "\n",
    "#endregion"
   ],
   "metadata": {
    "collapsed": false,
    "pycharm": {
     "name": "#%%\n"
    }
   }
  },
  {
   "cell_type": "markdown",
   "source": [
    "<span style=\"color: blue;font-size: 50px\">Make table of the main variables with the main options</span>\n"
   ],
   "metadata": {
    "collapsed": false,
    "pycharm": {
     "name": "#%% md\n"
    }
   }
  },
  {
   "cell_type": "code",
   "execution_count": 8,
   "outputs": [],
   "source": [
    "predictors ={'Q13':'value_approx','Q14':'is_electric','Q15':'bicycle_type','Q18':'is_recover',  'Q28':'seasons', 'Q29':'purpose', 'age_groups': 'age_groups', 'Q35': 'gender', 'Q36': 'income','Q37':'nm_bikes', 'Q38': 'education','country':'country'}\n",
    "dependent_vars = {'Q25':'is_replaced','Q30':'mode_alt', 'Q31':'post_act'}"
   ],
   "metadata": {
    "collapsed": false,
    "pycharm": {
     "name": "#%%\n"
    }
   }
  },
  {
   "cell_type": "code",
   "execution_count": 9,
   "outputs": [],
   "source": [
    "cols_1 = list(dependent_vars.values())\n",
    "cols_2 = ['value_approx','is_recover','seasons', 'income','nm_bikes','education']\n"
   ],
   "metadata": {
    "collapsed": false,
    "pycharm": {
     "name": "#%%\n"
    }
   }
  },
  {
   "cell_type": "code",
   "execution_count": 10,
   "outputs": [
    {
     "data": {
      "text/plain": "                                           Unnamed: 0    value_approx  \\\n10                                        is_replaced  Less than $250   \n11  ​Yes, and I replaced it with exactly what was ...              41   \n12     Yes, but the replacement was something cheaper              25   \n13                                                 No              32   \n\n   Unnamed: 2 Unnamed: 3   Unnamed: 4  Unnamed: 5  Unnamed: 6     Unnamed: 7  \\\n10  $250-$499  $500-$999  $1000-$1999  $2000-3999  $4000-6999  $7000 or more   \n11         36         41           45          51          58             59   \n12         27         26           23          18          16             18   \n13         36         31           30          30          24             21   \n\n             Unnamed: 8              Unnamed: 9  \n10  Don’t know/not sure  I prefer to not answer  \n11                   40                      50  \n12                   20                      50  \n13                   40                       0  ",
      "text/html": "<div>\n<style scoped>\n    .dataframe tbody tr th:only-of-type {\n        vertical-align: middle;\n    }\n\n    .dataframe tbody tr th {\n        vertical-align: top;\n    }\n\n    .dataframe thead th {\n        text-align: right;\n    }\n</style>\n<table border=\"1\" class=\"dataframe\">\n  <thead>\n    <tr style=\"text-align: right;\">\n      <th></th>\n      <th>Unnamed: 0</th>\n      <th>value_approx</th>\n      <th>Unnamed: 2</th>\n      <th>Unnamed: 3</th>\n      <th>Unnamed: 4</th>\n      <th>Unnamed: 5</th>\n      <th>Unnamed: 6</th>\n      <th>Unnamed: 7</th>\n      <th>Unnamed: 8</th>\n      <th>Unnamed: 9</th>\n    </tr>\n  </thead>\n  <tbody>\n    <tr>\n      <th>10</th>\n      <td>is_replaced</td>\n      <td>Less than $250</td>\n      <td>$250-$499</td>\n      <td>$500-$999</td>\n      <td>$1000-$1999</td>\n      <td>$2000-3999</td>\n      <td>$4000-6999</td>\n      <td>$7000 or more</td>\n      <td>Don’t know/not sure</td>\n      <td>I prefer to not answer</td>\n    </tr>\n    <tr>\n      <th>11</th>\n      <td>​Yes, and I replaced it with exactly what was ...</td>\n      <td>41</td>\n      <td>36</td>\n      <td>41</td>\n      <td>45</td>\n      <td>51</td>\n      <td>58</td>\n      <td>59</td>\n      <td>40</td>\n      <td>50</td>\n    </tr>\n    <tr>\n      <th>12</th>\n      <td>Yes, but the replacement was something cheaper</td>\n      <td>25</td>\n      <td>27</td>\n      <td>26</td>\n      <td>23</td>\n      <td>18</td>\n      <td>16</td>\n      <td>18</td>\n      <td>20</td>\n      <td>50</td>\n    </tr>\n    <tr>\n      <th>13</th>\n      <td>No</td>\n      <td>32</td>\n      <td>36</td>\n      <td>31</td>\n      <td>30</td>\n      <td>30</td>\n      <td>24</td>\n      <td>21</td>\n      <td>40</td>\n      <td>0</td>\n    </tr>\n  </tbody>\n</table>\n</div>"
     },
     "execution_count": 10,
     "metadata": {},
     "output_type": "execute_result"
    }
   ],
   "source": [
    "col_1= cols_1[0]\n",
    "col_2 = cols_2[0]\n",
    "df = pd.read_excel(f'{data_path}/{col_1}.xlsx', sheet_name=col_2)\n",
    "df.iloc[df.loc[df[df.columns[0]].isnull()].index.item()+1:]"
   ],
   "metadata": {
    "collapsed": false,
    "pycharm": {
     "name": "#%%\n"
    }
   }
  },
  {
   "cell_type": "code",
   "execution_count": 43,
   "outputs": [
    {
     "ename": "KeyError",
     "evalue": "\"None of ['is_replacedis_replaced'] are in the columns\"",
     "output_type": "error",
     "traceback": [
      "\u001B[1;31m---------------------------------------------------------------------------\u001B[0m",
      "\u001B[1;31mKeyError\u001B[0m                                  Traceback (most recent call last)",
      "Cell \u001B[1;32mIn [43], line 8\u001B[0m\n\u001B[0;32m      6\u001B[0m cols_to_delete_temp \u001B[38;5;241m=\u001B[39m [col \u001B[38;5;28;01mfor\u001B[39;00m col \u001B[38;5;129;01min\u001B[39;00m cols_to_delete \u001B[38;5;28;01mif\u001B[39;00m col \u001B[38;5;129;01min\u001B[39;00m new_df\u001B[38;5;241m.\u001B[39mcolumns]\n\u001B[0;32m      7\u001B[0m new_df \u001B[38;5;241m=\u001B[39m new_df\u001B[38;5;241m.\u001B[39mreset_index(drop\u001B[38;5;241m=\u001B[39m\u001B[38;5;28;01mTrue\u001B[39;00m)\u001B[38;5;241m.\u001B[39mdrop(\u001B[38;5;241m0\u001B[39m)\u001B[38;5;241m.\u001B[39mdrop(columns\u001B[38;5;241m=\u001B[39m cols_to_delete_temp)\u001B[38;5;241m.\u001B[39mset_index(col_1)\u001B[38;5;241m.\u001B[39mdrop(index\u001B[38;5;241m=\u001B[39m \u001B[38;5;124m'\u001B[39m\u001B[38;5;124mNo\u001B[39m\u001B[38;5;124m'\u001B[39m)\n\u001B[1;32m----> 8\u001B[0m new_df_1 \u001B[38;5;241m=\u001B[39m \u001B[43mnew_df\u001B[49m\u001B[38;5;241;43m.\u001B[39;49m\u001B[43mset_index\u001B[49m\u001B[43m(\u001B[49m\u001B[43mcol_1\u001B[49m\u001B[38;5;241;43m*\u001B[39;49m\u001B[38;5;28;43mlen\u001B[39;49m\u001B[43m(\u001B[49m\u001B[43mnew_df\u001B[49m\u001B[43m)\u001B[49m\u001B[43m)\u001B[49m\n\u001B[0;32m      9\u001B[0m new_df_1\n",
      "File \u001B[1;32m~\\anaconda3\\envs\\ox\\lib\\site-packages\\pandas\\util\\_decorators.py:317\u001B[0m, in \u001B[0;36mdeprecate_nonkeyword_arguments.<locals>.decorate.<locals>.wrapper\u001B[1;34m(*args, **kwargs)\u001B[0m\n\u001B[0;32m    311\u001B[0m \u001B[38;5;28;01mif\u001B[39;00m \u001B[38;5;28mlen\u001B[39m(args) \u001B[38;5;241m>\u001B[39m num_allow_args:\n\u001B[0;32m    312\u001B[0m     warnings\u001B[38;5;241m.\u001B[39mwarn(\n\u001B[0;32m    313\u001B[0m         msg\u001B[38;5;241m.\u001B[39mformat(arguments\u001B[38;5;241m=\u001B[39marguments),\n\u001B[0;32m    314\u001B[0m         \u001B[38;5;167;01mFutureWarning\u001B[39;00m,\n\u001B[0;32m    315\u001B[0m         stacklevel\u001B[38;5;241m=\u001B[39mfind_stack_level(inspect\u001B[38;5;241m.\u001B[39mcurrentframe()),\n\u001B[0;32m    316\u001B[0m     )\n\u001B[1;32m--> 317\u001B[0m \u001B[38;5;28;01mreturn\u001B[39;00m func(\u001B[38;5;241m*\u001B[39margs, \u001B[38;5;241m*\u001B[39m\u001B[38;5;241m*\u001B[39mkwargs)\n",
      "File \u001B[1;32m~\\anaconda3\\envs\\ox\\lib\\site-packages\\pandas\\core\\frame.py:6004\u001B[0m, in \u001B[0;36mDataFrame.set_index\u001B[1;34m(self, keys, drop, append, inplace, verify_integrity)\u001B[0m\n\u001B[0;32m   6001\u001B[0m                 missing\u001B[38;5;241m.\u001B[39mappend(col)\n\u001B[0;32m   6003\u001B[0m \u001B[38;5;28;01mif\u001B[39;00m missing:\n\u001B[1;32m-> 6004\u001B[0m     \u001B[38;5;28;01mraise\u001B[39;00m \u001B[38;5;167;01mKeyError\u001B[39;00m(\u001B[38;5;124mf\u001B[39m\u001B[38;5;124m\"\u001B[39m\u001B[38;5;124mNone of \u001B[39m\u001B[38;5;132;01m{\u001B[39;00mmissing\u001B[38;5;132;01m}\u001B[39;00m\u001B[38;5;124m are in the columns\u001B[39m\u001B[38;5;124m\"\u001B[39m)\n\u001B[0;32m   6006\u001B[0m \u001B[38;5;28;01mif\u001B[39;00m inplace:\n\u001B[0;32m   6007\u001B[0m     frame \u001B[38;5;241m=\u001B[39m \u001B[38;5;28mself\u001B[39m\n",
      "\u001B[1;31mKeyError\u001B[0m: \"None of ['is_replacedis_replaced'] are in the columns\""
     ]
    }
   ],
   "source": [
    "\n",
    "df = pd.read_excel(f'{data_path}/{col_1}.xlsx', sheet_name=col_2)\n",
    "# Obten only the contingency_table from the file, update the cols names and remove irrelevant data\n",
    "new_df = df.iloc[df.loc[df[df.columns[0]].isnull()].index.item()+1:]\n",
    "\n",
    "new_df.columns= new_df.iloc[0]\n",
    "cols_to_delete_temp = [col for col in cols_to_delete if col in new_df.columns]\n",
    "new_df = new_df.reset_index(drop=True).drop(0).drop(columns= cols_to_delete_temp).set_index(col_1).drop(index= 'No')\n",
    "new_df_1 = new_df.set_index(col_1*len(new_df))\n",
    "new_df_1\n"
   ],
   "metadata": {
    "collapsed": false,
    "pycharm": {
     "name": "#%%\n"
    }
   }
  },
  {
   "cell_type": "code",
   "execution_count": 38,
   "outputs": [
    {
     "data": {
      "text/plain": "['I prefer to not answer', 'Don’t know/not sure']"
     },
     "execution_count": 38,
     "metadata": {},
     "output_type": "execute_result"
    }
   ],
   "source": [
    "cols_to_delete"
   ],
   "metadata": {
    "collapsed": false,
    "pycharm": {
     "name": "#%%\n"
    }
   }
  },
  {
   "cell_type": "code",
   "execution_count": null,
   "outputs": [],
   "source": [
    "\n",
    "new_df = new_df.reset_index(drop=True).drop(0).drop(columns= cols_to_delete_temp).set_index(col_1)\n",
    "# extract the required data for test\n",
    "\n",
    "new_df.drop(index= 'No')"
   ],
   "metadata": {
    "collapsed": false,
    "pycharm": {
     "name": "#%%\n"
    }
   }
  },
  {
   "cell_type": "code",
   "execution_count": null,
   "outputs": [],
   "source": [],
   "metadata": {
    "collapsed": false,
    "pycharm": {
     "name": "#%%\n"
    }
   }
  },
  {
   "cell_type": "code",
   "execution_count": 12,
   "outputs": [
    {
     "data": {
      "text/plain": "['I prefer to not answer', 'Don’t know/not sure']"
     },
     "execution_count": 12,
     "metadata": {},
     "output_type": "execute_result"
    }
   ],
   "source": [
    "cols_to_delete_temp"
   ],
   "metadata": {
    "collapsed": false,
    "pycharm": {
     "name": "#%%\n"
    }
   }
  },
  {
   "cell_type": "markdown",
   "source": [
    "<span style=\"color: red;font-size: 50px\">Test Zone</span>"
   ],
   "metadata": {
    "collapsed": false,
    "pycharm": {
     "name": "#%% md\n"
    }
   }
  },
  {
   "cell_type": "code",
   "execution_count": 244,
   "outputs": [
    {
     "data": {
      "text/plain": "                        post_act  seasons\n0                     More often      1.0\n1     About the same / no change      2.0\n2     About the same / no change      1.0\n3     About the same / no change      1.0\n4     About the same / no change      2.0\n...                          ...      ...\n1813  About the same / no change      0.0\n1816  About the same / no change      1.0\n1817                  Less often      2.0\n1818                  Less often      1.0\n1820  About the same / no change      0.0\n\n[1657 rows x 2 columns]",
      "text/html": "<div>\n<style scoped>\n    .dataframe tbody tr th:only-of-type {\n        vertical-align: middle;\n    }\n\n    .dataframe tbody tr th {\n        vertical-align: top;\n    }\n\n    .dataframe thead th {\n        text-align: right;\n    }\n</style>\n<table border=\"1\" class=\"dataframe\">\n  <thead>\n    <tr style=\"text-align: right;\">\n      <th></th>\n      <th>post_act</th>\n      <th>seasons</th>\n    </tr>\n  </thead>\n  <tbody>\n    <tr>\n      <th>0</th>\n      <td>More often</td>\n      <td>1.0</td>\n    </tr>\n    <tr>\n      <th>1</th>\n      <td>About the same / no change</td>\n      <td>2.0</td>\n    </tr>\n    <tr>\n      <th>2</th>\n      <td>About the same / no change</td>\n      <td>1.0</td>\n    </tr>\n    <tr>\n      <th>3</th>\n      <td>About the same / no change</td>\n      <td>1.0</td>\n    </tr>\n    <tr>\n      <th>4</th>\n      <td>About the same / no change</td>\n      <td>2.0</td>\n    </tr>\n    <tr>\n      <th>...</th>\n      <td>...</td>\n      <td>...</td>\n    </tr>\n    <tr>\n      <th>1813</th>\n      <td>About the same / no change</td>\n      <td>0.0</td>\n    </tr>\n    <tr>\n      <th>1816</th>\n      <td>About the same / no change</td>\n      <td>1.0</td>\n    </tr>\n    <tr>\n      <th>1817</th>\n      <td>Less often</td>\n      <td>2.0</td>\n    </tr>\n    <tr>\n      <th>1818</th>\n      <td>Less often</td>\n      <td>1.0</td>\n    </tr>\n    <tr>\n      <th>1820</th>\n      <td>About the same / no change</td>\n      <td>0.0</td>\n    </tr>\n  </tbody>\n</table>\n<p>1657 rows × 2 columns</p>\n</div>"
     },
     "execution_count": 244,
     "metadata": {},
     "output_type": "execute_result"
    }
   ],
   "source": [
    "# dependent 3\n",
    "var_1 ='post_act'\n",
    "\n",
    "# a.\tDefine var\n",
    "var_2 = 'is_recover'\n",
    "val_1 = 'positive'\n",
    "val_2 = 'negative'\n",
    "col_1 = 'post_act'\n",
    "col_2='seasons'\n",
    "fields_to_test= {var_1:{'I stopped cycling':val_2, 'Less often':val_2,'About the same / no change':val_1,'More often':val_1}}\n",
    "test_data = pre_test_data[[col_1, col_2]]\n",
    "test_data = test_data[~test_data.isin([-1]).any(axis=1)]\n",
    "test_data"
   ],
   "metadata": {
    "collapsed": false,
    "pycharm": {
     "name": "#%%\n"
    }
   }
  },
  {
   "cell_type": "code",
   "execution_count": 245,
   "outputs": [
    {
     "data": {
      "text/plain": "      post_act  seasons\n0     positive      1.0\n1     positive      2.0\n2     positive      1.0\n3     positive      1.0\n4     positive      2.0\n...        ...      ...\n1813  positive      0.0\n1816  positive      1.0\n1817  negative      2.0\n1818  negative      1.0\n1820  positive      0.0\n\n[1657 rows x 2 columns]",
      "text/html": "<div>\n<style scoped>\n    .dataframe tbody tr th:only-of-type {\n        vertical-align: middle;\n    }\n\n    .dataframe tbody tr th {\n        vertical-align: top;\n    }\n\n    .dataframe thead th {\n        text-align: right;\n    }\n</style>\n<table border=\"1\" class=\"dataframe\">\n  <thead>\n    <tr style=\"text-align: right;\">\n      <th></th>\n      <th>post_act</th>\n      <th>seasons</th>\n    </tr>\n  </thead>\n  <tbody>\n    <tr>\n      <th>0</th>\n      <td>positive</td>\n      <td>1.0</td>\n    </tr>\n    <tr>\n      <th>1</th>\n      <td>positive</td>\n      <td>2.0</td>\n    </tr>\n    <tr>\n      <th>2</th>\n      <td>positive</td>\n      <td>1.0</td>\n    </tr>\n    <tr>\n      <th>3</th>\n      <td>positive</td>\n      <td>1.0</td>\n    </tr>\n    <tr>\n      <th>4</th>\n      <td>positive</td>\n      <td>2.0</td>\n    </tr>\n    <tr>\n      <th>...</th>\n      <td>...</td>\n      <td>...</td>\n    </tr>\n    <tr>\n      <th>1813</th>\n      <td>positive</td>\n      <td>0.0</td>\n    </tr>\n    <tr>\n      <th>1816</th>\n      <td>positive</td>\n      <td>1.0</td>\n    </tr>\n    <tr>\n      <th>1817</th>\n      <td>negative</td>\n      <td>2.0</td>\n    </tr>\n    <tr>\n      <th>1818</th>\n      <td>negative</td>\n      <td>1.0</td>\n    </tr>\n    <tr>\n      <th>1820</th>\n      <td>positive</td>\n      <td>0.0</td>\n    </tr>\n  </tbody>\n</table>\n<p>1657 rows × 2 columns</p>\n</div>"
     },
     "execution_count": 245,
     "metadata": {},
     "output_type": "execute_result"
    }
   ],
   "source": [
    "\n",
    "# c.\tCreate group\n",
    "for item in fields_to_test.items():\n",
    "    internal_dict  = item[1]\n",
    "    var_temp = item[0]\n",
    "    test_data[var_temp] =  test_data[var_temp].apply(lambda x: internal_dict[x] if x in internal_dict else x)\n",
    "test_data"
   ],
   "metadata": {
    "collapsed": false,
    "pycharm": {
     "name": "#%%\n"
    }
   }
  },
  {
   "cell_type": "code",
   "execution_count": 243,
   "outputs": [
    {
     "data": {
      "text/plain": "{'I stopped cycling': 'high',\n 'Less often': 'high',\n 'About the same / no change': 'low',\n 'More often': 'low'}"
     },
     "execution_count": 243,
     "metadata": {},
     "output_type": "execute_result"
    }
   ],
   "source": [
    "internal_dict"
   ],
   "metadata": {
    "collapsed": false,
    "pycharm": {
     "name": "#%%\n"
    }
   }
  },
  {
   "cell_type": "code",
   "execution_count": 246,
   "outputs": [
    {
     "data": {
      "text/plain": "seasons         0.0        1.0        2.0\npost_act                                 \nnegative  82.439024  45.986125  22.121896\npositive  17.560976  54.013875  77.878104",
      "text/html": "<div>\n<style scoped>\n    .dataframe tbody tr th:only-of-type {\n        vertical-align: middle;\n    }\n\n    .dataframe tbody tr th {\n        vertical-align: top;\n    }\n\n    .dataframe thead th {\n        text-align: right;\n    }\n</style>\n<table border=\"1\" class=\"dataframe\">\n  <thead>\n    <tr style=\"text-align: right;\">\n      <th>seasons</th>\n      <th>0.0</th>\n      <th>1.0</th>\n      <th>2.0</th>\n    </tr>\n    <tr>\n      <th>post_act</th>\n      <th></th>\n      <th></th>\n      <th></th>\n    </tr>\n  </thead>\n  <tbody>\n    <tr>\n      <th>negative</th>\n      <td>82.439024</td>\n      <td>45.986125</td>\n      <td>22.121896</td>\n    </tr>\n    <tr>\n      <th>positive</th>\n      <td>17.560976</td>\n      <td>54.013875</td>\n      <td>77.878104</td>\n    </tr>\n  </tbody>\n</table>\n</div>"
     },
     "execution_count": 246,
     "metadata": {},
     "output_type": "execute_result"
    }
   ],
   "source": [
    "\n",
    "# d.\tCross tub\n",
    "contingency_table = pd.crosstab(test_data[col_1], test_data[col_2], normalize='columns') * 100\n",
    "contingency_table"
   ],
   "metadata": {
    "collapsed": false,
    "pycharm": {
     "name": "#%%\n"
    }
   }
  },
  {
   "cell_type": "code",
   "execution_count": 247,
   "outputs": [
    {
     "name": "stdout",
     "output_type": "stream",
     "text": [
      "seasons         0.0        1.0        2.0\n",
      "post_act                                 \n",
      "negative  82.439024  45.986125  22.121896\n",
      "positive  17.560976  54.013875  77.878104\n",
      "Chi-square test statistic: 73.82059854544553\n",
      "p-value: 9.333847489738014e-17\n"
     ]
    }
   ],
   "source": [
    "\n",
    "# e.\ttest\n",
    "chi2, p, _, _ = stats.chi2_contingency(contingency_table)\n",
    "\n",
    "# Print the chi-square test statistic and p-value\n",
    "print(contingency_table)\n",
    "print('Chi-square test statistic:', chi2)\n",
    "print('p-value:', p)"
   ],
   "metadata": {
    "collapsed": false,
    "pycharm": {
     "name": "#%%\n"
    }
   }
  },
  {
   "cell_type": "markdown",
   "source": [],
   "metadata": {
    "collapsed": false,
    "pycharm": {
     "name": "#%% md\n"
    }
   }
  },
  {
   "cell_type": "code",
   "execution_count": null,
   "outputs": [],
   "source": [],
   "metadata": {
    "collapsed": false,
    "pycharm": {
     "name": "#%%\n"
    }
   }
  }
 ],
 "metadata": {
  "kernelspec": {
   "display_name": "Python 3",
   "language": "python",
   "name": "python3"
  },
  "language_info": {
   "codemirror_mode": {
    "name": "ipython",
    "version": 2
   },
   "file_extension": ".py",
   "mimetype": "text/x-python",
   "name": "python",
   "nbconvert_exporter": "python",
   "pygments_lexer": "ipython2",
   "version": "2.7.6"
  }
 },
 "nbformat": 4,
 "nbformat_minor": 0
}