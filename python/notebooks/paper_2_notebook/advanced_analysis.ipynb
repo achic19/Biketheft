{
 "cells": [
  {
   "cell_type": "code",
   "execution_count": 127,
   "outputs": [
    {
     "data": {
      "text/plain": "<IPython.core.display.HTML object>",
      "text/html": "<style>.container { width:100% !important; }</style>"
     },
     "metadata": {},
     "output_type": "display_data"
    }
   ],
   "source": [
    "from scipy.stats import chi2_contingency\n",
    "import calendar\n",
    "import numpy as np\n",
    "months = list(map(lambda x: x.lower(), calendar.month_name))[1:]\n",
    "import pandas as pd\n",
    "from pandas import DataFrame\n",
    "\n",
    "import matplotlib.pyplot as plt\n",
    "from IPython.core.interactiveshell import InteractiveShell\n",
    "\n",
    "InteractiveShell.ast_node_interactivity = 'all'\n",
    "\n",
    "import matplotlib.pylab as pylab\n",
    "\n",
    "\n",
    "\n",
    "\n",
    "params = {'legend.fontsize': 'x-large',\n",
    "          'figure.figsize': (15, 10),\n",
    "          'axes.labelsize': 'x-large',\n",
    "          'axes.titlesize': 'x-large',\n",
    "          'xtick.labelsize': 'x-large',\n",
    "          'ytick.labelsize': 'x-large'}\n",
    "pylab.rcParams.update(params)\n",
    "\n",
    "import os\n",
    "\n",
    "project_folder = f'{os.path.dirname(os.path.dirname(os.path.dirname(os.getcwd())))}/data/process'\n",
    "import warnings\n",
    "\n",
    "warnings.filterwarnings(action='ignore')\n",
    "\n",
    "from IPython.core.display import display, HTML\n",
    "# Set the display width to fit the entire notebook width\n",
    "display(HTML(\"<style>.container { width:100% !important; }</style>\"))\n",
    "from IPython.display import Markdown\n",
    "from IPython.display import display_html\n",
    "import scipy.stats as stats\n",
    "\n",
    "predictors ={'Q13':'value_approx','Q14':'is_electric','Q15':'bicycle_type','Q18':'is_recover',  'Q28':'seasons', 'Q29':'purpose', 'age_groups': 'age_groups', 'Q35': 'gender', 'Q36': 'income','Q37':'nm_bikes', 'Q38': 'education','country':'country'}\n",
    "dependent_vars = {'Q25':'is_replaced','Q30':'mode_alt', 'Q31':'post_act'}\n",
    "all_vars = predictors.copy()\n",
    "all_vars.update(dependent_vars)"
   ],
   "metadata": {
    "collapsed": false,
    "pycharm": {
     "name": "#%%\n"
    }
   }
  },
  {
   "cell_type": "markdown",
   "source": [
    "<span style=\"color: red;font-size: 50px\">RUN THE NEXT CELL FOR THE FIRST TIME ONLY</span>"
   ],
   "metadata": {
    "collapsed": false,
    "pycharm": {
     "name": "#%% md\n"
    }
   }
  },
  {
   "cell_type": "code",
   "execution_count": 2,
   "outputs": [],
   "source": [
    "\n",
    "# Change col names and leave only relevant cols as well as delete unnecessary spaces and parenthesis (except age group)\n",
    "cols_names = list(all_vars.values())\n",
    "data_init = pd.read_csv(f'{project_folder}/new_data/new_data_2.csv')\n",
    "temp = data_init['age_groups']\n",
    "d_analysis = data_init.rename(columns=all_vars)[cols_names].astype(str).replace(r\"\\(.*?\\)\", \"\").astype(str).replace(\":\", \"\").apply(lambda row: [d.split('(')[0].strip() if '(' in d else d.strip() for d in row])\n",
    "d_analysis['age_groups'] = temp\n",
    "\n",
    "\n",
    "# This method translate the alternative data into how much the alternative is sustainable\n",
    "def sus_alter(row):\n",
    "    alt_stat = ['sustainable','semi','non sustainable']\n",
    "    if row in  ['Walk','Cycle, personal bicycle','Cycle, rental bicycle','Cycle, public bike share','Micro mobility']:\n",
    "        return alt_stat[0]\n",
    "    elif row in ['Transit','Motorcycle or scooter']:\n",
    "        return alt_stat[1]\n",
    "    elif row in ['Car, as a driver','Car, as a passenger','Taxi / Ride-hailing service']:\n",
    "        return alt_stat[2]\n",
    "    else:\n",
    "        return row\n",
    "\n",
    "d_analysis['mode_alt'] = d_analysis['mode_alt'].apply(sus_alter)\n",
    "\n",
    "d_analysis.to_csv(f'{project_folder}/new_data/new_data_3.csv')\n"
   ],
   "metadata": {
    "collapsed": false,
    "pycharm": {
     "name": "#%%\n"
    }
   }
  },
  {
   "cell_type": "code",
   "execution_count": 92,
   "outputs": [],
   "source": [
    "# read data\n",
    "merge_q = pd.read_csv(f'{project_folder}/new_data/new_data_3.csv')"
   ],
   "metadata": {
    "collapsed": false,
    "pycharm": {
     "name": "#%%\n"
    }
   }
  },
  {
   "cell_type": "code",
   "execution_count": 93,
   "outputs": [],
   "source": [
    "# organize and populate @more_data  dictionary\n",
    "more_data ={item:[list(DataFrame(merge_q[item].unique()).dropna()[0]),False] for  item in all_vars.values()}\n",
    "\n",
    "# Code relevant for reindex\n",
    "# Bicycle attributes\n",
    "q= 'value_approx'\n",
    "df_t = DataFrame(merge_q[q].unique()).dropna().sort_values(by=0, ascending=0).reset_index(drop=True)\n",
    "more_data[q][0] = pd.concat([df_t.iloc[0], df_t.iloc[6], df_t.iloc[4], df_t.iloc[8], df_t.iloc[7], df_t.iloc[5], df_t.iloc[1:4].sort_values(by=0, ascending=1)])[0].to_list()\n",
    "\n",
    "# Demographic\n",
    "more_data['education'][0]= ['Some high school or less',\n",
    "                            'Graduated high school',\n",
    "                            'Some university',\n",
    "                            'Associate’s/vocational/technical\\u202fdegree',\n",
    "                            'Bachelor’s degree',\n",
    "                            'Graduate degree',\n",
    "                            'I prefer to not answer',\n",
    " ]\n",
    "q = 'age_groups'\n",
    "more_data[q][0] = DataFrame(merge_q[q].unique()).dropna()[::-1][0].to_list()\n",
    "\n",
    "\n",
    "more_data['seasons'][0] = range(3)\n",
    "q= 'income'\n",
    "df_t = DataFrame(merge_q[q].unique()).dropna().sort_values(by=0, ascending=0).reset_index(drop=True)\n",
    "more_data[q][0]= pd.concat([df_t.iloc[0], df_t.iloc[6:2:-1], df_t.iloc[8:6:-1], df_t.iloc[9], df_t.iloc[1:3]])[0].to_list()\n",
    "q = 'nm_bikes'\n",
    "df_t = DataFrame(merge_q[q].unique()).dropna().sort_values(by=0, ascending=0).reset_index(drop=True)\n",
    "more_data[q][0]= pd.concat([df_t.iloc[0], df_t.iloc[3], df_t.iloc[1:3], df_t.iloc[5:], df_t.iloc[4]])[0].to_list()\n",
    "\n",
    "# for the dependent variable post_act:\n",
    "more_data['post_act'][0]= ['I stopped cycling',\n",
    "                            'Less often',\n",
    "                            'About the same / no change',\n",
    "                            'More often',\n",
    "]\n",
    "# In case where only several cols are relevant\n",
    "more_data['bicycle_type'][0]= more_data['bicycle_type'][1]=['Hybrid/City/Dutch','Mountain','Road','Gravel/cyclocross']\n"
   ],
   "metadata": {
    "collapsed": false,
    "pycharm": {
     "name": "#%%\n"
    }
   }
  },
  {
   "cell_type": "code",
   "execution_count": 94,
   "outputs": [
    {
     "data": {
      "text/plain": "{'value_approx': [['Less than $250',\n   '$250-$499',\n   '$500-$999',\n   '$1000-$1999',\n   '$2000-3999',\n   '$4000-6999',\n   '$7000 or more',\n   'Don’t know/not sure',\n   'I prefer to not answer'],\n  False],\n 'is_electric': [['Yes, with pedal-assist and throttle',\n   '\\u200bNo',\n   'Yes, with pedal-assist'],\n  False],\n 'bicycle_type': [['Hybrid/City/Dutch',\n   'Mountain',\n   'Road',\n   'Gravel/cyclocross'],\n  ['Hybrid/City/Dutch', 'Mountain', 'Road', 'Gravel/cyclocross']],\n 'is_recover': [['No', 'Yes'], False],\n 'seasons': [range(0, 3), False],\n 'purpose': [['Recreation or exercise',\n   'Equal mix of recreation, exercise, and transportation trips',\n   'Transportation',\n   'Don’t know/not sure'],\n  False],\n 'age_groups': [['Children (<13)',\n   'Adolescents (13-17)',\n   'Young adults (18-24)',\n   'Adults (25-34)',\n   'Adults (35-44)',\n   'Adults (45-54)',\n   'Adults (55-64)',\n   'Older adults (>64)'],\n  False],\n 'gender': [['Woman', 'Man', 'Non-binary / third gender', 'Prefer not to say'],\n  False],\n 'income': [['Under $20,000 per year',\n   'Between $20,000 and $34,999 per year',\n   'Between $35,000 and $49,999 per year',\n   'Between $50,000 and $74,999 per year',\n   'Between $75,000 and $99,999 per year',\n   'Between $100,000 and $149,999 per year',\n   'Between $150,000 and $199,999 per year',\n   '$200,000 or more per year',\n   'I prefer to not answer',\n   'Don’t know/not sure'],\n  False],\n 'nm_bikes': [['Zero',\n   'One',\n   'Two',\n   'Three',\n   'Four',\n   'Five or more',\n   'I prefer to not answer'],\n  False],\n 'education': [['Some high school or less',\n   'Graduated high school',\n   'Some university',\n   'Associate’s/vocational/technical\\u202fdegree',\n   'Bachelor’s degree',\n   'Graduate degree',\n   'I prefer to not answer'],\n  False],\n 'country': [['CAN', 'USA'], False],\n 'is_replaced': [['\\u200bYes, and I replaced it with exactly what was stolen or something more expensive',\n   'Yes, but the replacement was something cheaper',\n   'No'],\n  False],\n 'mode_alt': [['Didn’t make those trips',\n   'non sustainable',\n   'sustainable',\n   'semi',\n   'Don’t know/not sure'],\n  False],\n 'post_act': [['I stopped cycling',\n   'Less often',\n   'About the same / no change',\n   'More often'],\n  False]}"
     },
     "execution_count": 94,
     "metadata": {},
     "output_type": "execute_result"
    }
   ],
   "source": [
    "more_data"
   ],
   "metadata": {
    "collapsed": false,
    "pycharm": {
     "name": "#%%\n"
    }
   }
  },
  {
   "cell_type": "markdown",
   "source": [
    "<span style=\"color: blue;font-size: 50px\">Find relationships between independent variables </span>"
   ],
   "metadata": {
    "collapsed": false,
    "pycharm": {
     "name": "#%% md\n"
    }
   }
  },
  {
   "cell_type": "code",
   "execution_count": 95,
   "outputs": [],
   "source": [
    "dependents_list = ['value_approx','income','nm_bikes','age_groups','education']\n",
    "data_to_exp = merge_q[dependents_list].fillna(-1)\n",
    "\n",
    "def to_ordinal(col):\n",
    "    # This function gets a column and return for each value its ordinal values as it stored in @more_data (for irrelevant data return -1)\n",
    "    return data_to_exp[col.name].apply(lambda x:more_data[col.name][0].index(x) if x not in ['I prefer to not answer','Don’t know/not sure',-1] else -1)\n",
    "data_as_ordinal = data_to_exp.apply(to_ordinal)\n"
   ],
   "metadata": {
    "collapsed": false,
    "pycharm": {
     "name": "#%%\n"
    }
   }
  },
  {
   "cell_type": "code",
   "execution_count": 88,
   "outputs": [
    {
     "data": {
      "text/plain": "      value_approx  income  nm_bikes  age_groups  education\n0                3       1         1           7          1\n1                4       1         3           7          2\n2                4       5         2           7          5\n3                2      -1         1           7          5\n4                3       5         2           7          5\n...            ...     ...       ...         ...        ...\n1816             4      -1        -1           7         -1\n1817             1      -1         3           7          5\n1818             2       0         2           7          5\n1819             4      -1        -1           7         -1\n1820             4      -1        -1           7          5\n\n[1821 rows x 5 columns]",
      "text/html": "<div>\n<style scoped>\n    .dataframe tbody tr th:only-of-type {\n        vertical-align: middle;\n    }\n\n    .dataframe tbody tr th {\n        vertical-align: top;\n    }\n\n    .dataframe thead th {\n        text-align: right;\n    }\n</style>\n<table border=\"1\" class=\"dataframe\">\n  <thead>\n    <tr style=\"text-align: right;\">\n      <th></th>\n      <th>value_approx</th>\n      <th>income</th>\n      <th>nm_bikes</th>\n      <th>age_groups</th>\n      <th>education</th>\n    </tr>\n  </thead>\n  <tbody>\n    <tr>\n      <th>0</th>\n      <td>3</td>\n      <td>1</td>\n      <td>1</td>\n      <td>7</td>\n      <td>1</td>\n    </tr>\n    <tr>\n      <th>1</th>\n      <td>4</td>\n      <td>1</td>\n      <td>3</td>\n      <td>7</td>\n      <td>2</td>\n    </tr>\n    <tr>\n      <th>2</th>\n      <td>4</td>\n      <td>5</td>\n      <td>2</td>\n      <td>7</td>\n      <td>5</td>\n    </tr>\n    <tr>\n      <th>3</th>\n      <td>2</td>\n      <td>-1</td>\n      <td>1</td>\n      <td>7</td>\n      <td>5</td>\n    </tr>\n    <tr>\n      <th>4</th>\n      <td>3</td>\n      <td>5</td>\n      <td>2</td>\n      <td>7</td>\n      <td>5</td>\n    </tr>\n    <tr>\n      <th>...</th>\n      <td>...</td>\n      <td>...</td>\n      <td>...</td>\n      <td>...</td>\n      <td>...</td>\n    </tr>\n    <tr>\n      <th>1816</th>\n      <td>4</td>\n      <td>-1</td>\n      <td>-1</td>\n      <td>7</td>\n      <td>-1</td>\n    </tr>\n    <tr>\n      <th>1817</th>\n      <td>1</td>\n      <td>-1</td>\n      <td>3</td>\n      <td>7</td>\n      <td>5</td>\n    </tr>\n    <tr>\n      <th>1818</th>\n      <td>2</td>\n      <td>0</td>\n      <td>2</td>\n      <td>7</td>\n      <td>5</td>\n    </tr>\n    <tr>\n      <th>1819</th>\n      <td>4</td>\n      <td>-1</td>\n      <td>-1</td>\n      <td>7</td>\n      <td>-1</td>\n    </tr>\n    <tr>\n      <th>1820</th>\n      <td>4</td>\n      <td>-1</td>\n      <td>-1</td>\n      <td>7</td>\n      <td>5</td>\n    </tr>\n  </tbody>\n</table>\n<p>1821 rows × 5 columns</p>\n</div>"
     },
     "execution_count": 88,
     "metadata": {},
     "output_type": "execute_result"
    }
   ],
   "source": [
    "data_as_ordinal"
   ],
   "metadata": {
    "collapsed": false,
    "pycharm": {
     "name": "#%%\n"
    }
   }
  },
  {
   "cell_type": "code",
   "execution_count": 89,
   "outputs": [
    {
     "data": {
      "text/plain": "          var_1       var_2  correlation       p_value\n1  value_approx    nm_bikes     0.299765  1.175538e-36\n6        income   education     0.281990  2.410065e-29\n4        income    nm_bikes     0.241739  8.763972e-22\n7      nm_bikes  age_groups     0.233628  1.395895e-22\n0  value_approx      income     0.218758  4.698700e-18\n5        income  age_groups     0.212985  3.320104e-17\n2  value_approx  age_groups     0.191486  1.932273e-16\n9    age_groups   education     0.145009  2.140645e-09\n8      nm_bikes   education     0.114911  2.286376e-06\n3  value_approx   education     0.041716  8.701408e-02",
      "text/html": "<div>\n<style scoped>\n    .dataframe tbody tr th:only-of-type {\n        vertical-align: middle;\n    }\n\n    .dataframe tbody tr th {\n        vertical-align: top;\n    }\n\n    .dataframe thead th {\n        text-align: right;\n    }\n</style>\n<table border=\"1\" class=\"dataframe\">\n  <thead>\n    <tr style=\"text-align: right;\">\n      <th></th>\n      <th>var_1</th>\n      <th>var_2</th>\n      <th>correlation</th>\n      <th>p_value</th>\n    </tr>\n  </thead>\n  <tbody>\n    <tr>\n      <th>1</th>\n      <td>value_approx</td>\n      <td>nm_bikes</td>\n      <td>0.299765</td>\n      <td>1.175538e-36</td>\n    </tr>\n    <tr>\n      <th>6</th>\n      <td>income</td>\n      <td>education</td>\n      <td>0.281990</td>\n      <td>2.410065e-29</td>\n    </tr>\n    <tr>\n      <th>4</th>\n      <td>income</td>\n      <td>nm_bikes</td>\n      <td>0.241739</td>\n      <td>8.763972e-22</td>\n    </tr>\n    <tr>\n      <th>7</th>\n      <td>nm_bikes</td>\n      <td>age_groups</td>\n      <td>0.233628</td>\n      <td>1.395895e-22</td>\n    </tr>\n    <tr>\n      <th>0</th>\n      <td>value_approx</td>\n      <td>income</td>\n      <td>0.218758</td>\n      <td>4.698700e-18</td>\n    </tr>\n    <tr>\n      <th>5</th>\n      <td>income</td>\n      <td>age_groups</td>\n      <td>0.212985</td>\n      <td>3.320104e-17</td>\n    </tr>\n    <tr>\n      <th>2</th>\n      <td>value_approx</td>\n      <td>age_groups</td>\n      <td>0.191486</td>\n      <td>1.932273e-16</td>\n    </tr>\n    <tr>\n      <th>9</th>\n      <td>age_groups</td>\n      <td>education</td>\n      <td>0.145009</td>\n      <td>2.140645e-09</td>\n    </tr>\n    <tr>\n      <th>8</th>\n      <td>nm_bikes</td>\n      <td>education</td>\n      <td>0.114911</td>\n      <td>2.286376e-06</td>\n    </tr>\n    <tr>\n      <th>3</th>\n      <td>value_approx</td>\n      <td>education</td>\n      <td>0.041716</td>\n      <td>8.701408e-02</td>\n    </tr>\n  </tbody>\n</table>\n</div>"
     },
     "execution_count": 89,
     "metadata": {},
     "output_type": "execute_result"
    }
   ],
   "source": [
    "\n",
    "data_list = []\n",
    "# The code test every pair of independent variables to find the direction of the correlation\n",
    "for items in [(x, y) for i,x in enumerate(dependents_list) for y in dependents_list[i+1:]]:\n",
    "    var_1, var_2 = items\n",
    "    df = data_as_ordinal[[var_1, var_2 ]]\n",
    "    couple_to_test = df[~(df== -1).any(axis=1)] # remove missing or irrelevant data\n",
    "    correlation, p_value = stats.spearmanr(couple_to_test[var_1],couple_to_test[var_2]) # use spearman to test the data\n",
    "    data_list.append([var_1,var_2,correlation, p_value])\n",
    "sta_spearman_table = DataFrame(data_list,columns=['var_1','var_2','correlation', 'p_value']).sort_values('correlation',ascending=False)\n",
    "sta_spearman_table"
   ],
   "metadata": {
    "collapsed": false,
    "pycharm": {
     "name": "#%%\n"
    }
   }
  },
  {
   "cell_type": "code",
   "execution_count": 90,
   "outputs": [
    {
     "data": {
      "text/plain": "      age_groups  education\n0              7          1\n1              7          2\n2              7          5\n3              7          5\n4              7          5\n...          ...        ...\n1746           7          4\n1751           7          5\n1817           7          5\n1818           7          5\n1820           7          5\n\n[1689 rows x 2 columns]",
      "text/html": "<div>\n<style scoped>\n    .dataframe tbody tr th:only-of-type {\n        vertical-align: middle;\n    }\n\n    .dataframe tbody tr th {\n        vertical-align: top;\n    }\n\n    .dataframe thead th {\n        text-align: right;\n    }\n</style>\n<table border=\"1\" class=\"dataframe\">\n  <thead>\n    <tr style=\"text-align: right;\">\n      <th></th>\n      <th>age_groups</th>\n      <th>education</th>\n    </tr>\n  </thead>\n  <tbody>\n    <tr>\n      <th>0</th>\n      <td>7</td>\n      <td>1</td>\n    </tr>\n    <tr>\n      <th>1</th>\n      <td>7</td>\n      <td>2</td>\n    </tr>\n    <tr>\n      <th>2</th>\n      <td>7</td>\n      <td>5</td>\n    </tr>\n    <tr>\n      <th>3</th>\n      <td>7</td>\n      <td>5</td>\n    </tr>\n    <tr>\n      <th>4</th>\n      <td>7</td>\n      <td>5</td>\n    </tr>\n    <tr>\n      <th>...</th>\n      <td>...</td>\n      <td>...</td>\n    </tr>\n    <tr>\n      <th>1746</th>\n      <td>7</td>\n      <td>4</td>\n    </tr>\n    <tr>\n      <th>1751</th>\n      <td>7</td>\n      <td>5</td>\n    </tr>\n    <tr>\n      <th>1817</th>\n      <td>7</td>\n      <td>5</td>\n    </tr>\n    <tr>\n      <th>1818</th>\n      <td>7</td>\n      <td>5</td>\n    </tr>\n    <tr>\n      <th>1820</th>\n      <td>7</td>\n      <td>5</td>\n    </tr>\n  </tbody>\n</table>\n<p>1689 rows × 2 columns</p>\n</div>"
     },
     "execution_count": 90,
     "metadata": {},
     "output_type": "execute_result"
    }
   ],
   "source": [
    "couple_to_test"
   ],
   "metadata": {
    "collapsed": false,
    "pycharm": {
     "name": "#%%\n"
    }
   }
  },
  {
   "cell_type": "markdown",
   "source": [
    "<span style=\"color: blue;font-size: 50px\">####</span>"
   ],
   "metadata": {
    "collapsed": false,
    "pycharm": {
     "name": "#%% md\n"
    }
   }
  },
  {
   "cell_type": "code",
   "execution_count": 8,
   "outputs": [],
   "source": [
    "\n",
    "class MyData:\n",
    "    \"\"\"\n",
    "   The class organizes and explores the data, allowing for the creation of cross-tabulations.\n",
    "    \"\"\"\n",
    "    def __init__(self, var_0, data, com_data):\n",
    "        \"\"\"\n",
    "\n",
    "        :param var_0: The main variable that should not be replaced frequently throughout the program.\n",
    "        :param data: Data frame\n",
    "        :param com_data: provides more information when necessary to create more adaptable analysis\n",
    "        \"\"\"\n",
    "        self.cols_name = [var_0,'']\n",
    "        self.merge_q= data\n",
    "        self.more_data = com_data\n",
    "        self.reindex_rows = self.more_data[var_0][0]\n",
    "\n",
    "    def explore_data(self,cross_tab= True):\n",
    "        r\"\"\"\n",
    "        Clean the data and print cross_tab if it is required\n",
    "        :param cross_tab:\n",
    "        :return:\n",
    "        \"\"\"\n",
    "        # Based on these variables, the analysis can be employed.\n",
    "        cross_cols_nm =self.cols_name\n",
    "        cls_to_use = self.more_data[cross_cols_nm[1]][1]\n",
    "        reindex_temp = self.more_data[cross_cols_nm[1]][0]\n",
    "        only_rel_f= self.merge_q[cross_cols_nm].dropna()\n",
    "        if cross_tab:\n",
    "            if cls_to_use:\n",
    "                only_rel_f = only_rel_f[only_rel_f[cross_cols_nm[1]].isin(cls_to_use)]\n",
    "            # For ordinal categories, reindexing the columns is essential to align them in the required order.\n",
    "            return only_rel_f[cross_cols_nm[1]].value_counts().reindex(reindex_temp), (pd.crosstab(only_rel_f[cross_cols_nm[0]], only_rel_f[cross_cols_nm[1]], normalize='columns') * 100).astype(int).reindex(columns=reindex_temp,index= self.reindex_rows)\n",
    "        return only_rel_f\n",
    "\n",
    "    def change_properties(self,name):\n",
    "        \"\"\"\n",
    "        change the dependent variable and update desired reindex list\n",
    "        :param name:\n",
    "        :return:\n",
    "        \"\"\"\n",
    "        self.cols_name[0] = name\n",
    "        self.reindex_rows = self.more_data[name][0]\n",
    "        sumy =my_data.merge_q[name].value_counts().sum()\n",
    "        print((my_data.merge_q[name].value_counts()/sumy*100).apply('{:.0f}%'.format))\n",
    "\n",
    "\n"
   ],
   "metadata": {
    "collapsed": false,
    "pycharm": {
     "name": "#%%\n"
    }
   }
  },
  {
   "cell_type": "code",
   "execution_count": 5,
   "outputs": [
    {
     "data": {
      "text/plain": "Index(['Unnamed: 0', 'value_approx', 'is_electric', 'bicycle_type',\n       'is_recover', 'seasons', 'purpose', 'age_groups', 'gender', 'income',\n       'nm_bikes', 'education', 'country', 'is_replaced', 'mode_alt',\n       'post_act'],\n      dtype='object')"
     },
     "execution_count": 5,
     "metadata": {},
     "output_type": "execute_result"
    }
   ],
   "source": [
    "merge_q.columns"
   ],
   "metadata": {
    "collapsed": false,
    "pycharm": {
     "name": "#%%\n"
    }
   }
  },
  {
   "cell_type": "code",
   "execution_count": 9,
   "outputs": [
    {
     "name": "stdout",
     "output_type": "stream",
     "text": [
      "\n",
      "is_replaced\n",
      "\n",
      "​Yes, and I replaced it with exactly what was stolen or something more expensive    46%\n",
      "No                                                                                  31%\n",
      "Yes, but the replacement was something cheaper                                      24%\n",
      "Name: is_replaced, dtype: object\n",
      "\n",
      "mode_alt\n",
      "\n",
      "non sustainable            39%\n",
      "sustainable                36%\n",
      "Didn’t make those trips    13%\n",
      "semi                       10%\n",
      "Don’t know/not sure         2%\n",
      "Name: mode_alt, dtype: object\n",
      "\n",
      "post_act\n",
      "\n",
      "About the same / no change    49%\n",
      "Less often                    30%\n",
      "I stopped cycling             15%\n",
      "More often                     6%\n",
      "Name: post_act, dtype: object\n",
      "\n",
      "value_approx\n",
      "\n",
      "$500-$999                 29%\n",
      "$1000-$1999               24%\n",
      "$2000-3999                16%\n",
      "$250-$499                 13%\n",
      "$4000-6999                 8%\n",
      "$7000 or more              5%\n",
      "Less than $250             4%\n",
      "Don’t know/not sure        0%\n",
      "I prefer to not answer     0%\n",
      "Name: value_approx, dtype: object\n",
      "\n",
      "income\n",
      "\n",
      "$200,000 or more per year                 21%\n",
      "Between $100,000 and $149,999 per year    16%\n",
      "Between $75,000 and $99,999 per year      14%\n",
      "Between $50,000 and $74,999 per year      13%\n",
      "Between $150,000 and $199,999 per year    10%\n",
      "I prefer to not answer                     9%\n",
      "Between $20,000 and $34,999 per year       6%\n",
      "Between $35,000 and $49,999 per year       5%\n",
      "Under $20,000 per year                     5%\n",
      "Don’t know/not sure                        1%\n",
      "Name: income, dtype: object\n",
      "\n",
      "nm_bikes\n",
      "\n",
      "One                       37%\n",
      "Two                       24%\n",
      "Zero                      12%\n",
      "Three                     12%\n",
      "Five or more               8%\n",
      "Four                       6%\n",
      "I prefer to not answer     1%\n",
      "Name: nm_bikes, dtype: object\n",
      "\n",
      "age_groups\n",
      "\n",
      "Adults (25-34)          27%\n",
      "Adults (35-44)          25%\n",
      "Adults (45-54)          17%\n",
      "Older adults (>64)      15%\n",
      "Adults (55-64)          10%\n",
      "Young adults (18-24)     5%\n",
      "Adolescents (13-17)      1%\n",
      "Children (<13)           0%\n",
      "Name: age_groups, dtype: object\n",
      "\n",
      "education\n",
      "\n",
      "Graduate degree                            41%\n",
      "Bachelor’s degree                          39%\n",
      "Some university                             7%\n",
      "Associate’s/vocational/technical degree     6%\n",
      "Graduated high school                       3%\n",
      "Some high school or less                    2%\n",
      "I prefer to not answer                      2%\n",
      "Name: education, dtype: object\n"
     ]
    }
   ],
   "source": [
    "\n",
    "dependent_names = list(dependent_vars.values())+['value_approx','income','nm_bikes','age_groups','education']\n",
    "predictors_names = list(predictors.values())\n",
    "my_data = MyData(dependent_names[0],merge_q,more_data)\n",
    "for dep in dependent_names:\n",
    "    print(f'\\n{dep}\\n')\n",
    "    writer = pd.ExcelWriter(f'output_2/data_with_insight/{dep}.xlsx')\n",
    "    my_data.change_properties(dep)\n",
    "    for pre in predictors_names+dependent_names:\n",
    "        # relevant when we analysis the relationship between dependent_vars\n",
    "        if pre==dep:\n",
    "            continue\n",
    "        my_data.cols_name[1] = pre\n",
    "        value_counts,cross_tab = my_data.explore_data()\n",
    "        value_counts.to_excel(writer, sheet_name=pre)\n",
    "        cross_tab.to_excel(writer, sheet_name=pre, startrow=value_counts.shape[0] + 2)\n",
    "    writer.save()\n"
   ],
   "metadata": {
    "collapsed": false,
    "pycharm": {
     "name": "#%%\n"
    }
   }
  },
  {
   "cell_type": "markdown",
   "source": [
    "<span style=\"color: purple;font-size: 50px\">Phase 4: Apply Chi-Square Test</span>\n"
   ],
   "metadata": {
    "collapsed": false,
    "pycharm": {
     "name": "#%% md\n"
    }
   }
  },
  {
   "cell_type": "code",
   "execution_count": 178,
   "outputs": [],
   "source": [
    "cols_to_delete = ['I prefer to not answer', 'Don’t know/not sure']\n",
    "pre_test_data = pd.read_csv(f'{project_folder}/new_data/new_data_3.csv').fillna(-1)[list(all_vars.values())].applymap(lambda x: -1 if x in cols_to_delete + [-1] else x)\n",
    "data_path = 'output_2/data_with_insight'\n",
    "class MyTests:\n",
    "    def __init__(self, col_1:str, col_2:str, rel_data:tuple):\n",
    "        self.col_1 = col_1\n",
    "        self.col_2 = col_2\n",
    "        self.fields_to_test= rel_data[1]\n",
    "\n",
    "        if 'apply_chi' in rel_data[0]:\n",
    "            print('\\napply_chi')\n",
    "            self.__apply_chi()\n",
    "        else:\n",
    "            print('\\napply_spearmanr')\n",
    "            self.__apply_spearmanr()\n",
    "\n",
    "    def __apply_chi(self):\n",
    "        \"\"\"\n",
    "        apply chi_square test based on the cols and data\n",
    "        :param new_names: more relevant data to employ when run the test\n",
    "        :param col_1:\n",
    "        :param col_2:\n",
    "        :return:\n",
    "        \"\"\"\n",
    "        # b.\tClean the data\n",
    "        test_data = pre_test_data[[self.col_1, self.col_2]]\n",
    "        test_data = test_data[~test_data.isin([-1]).any(axis=1)]\n",
    "\n",
    "        # c.\tCreate group\n",
    "        for item in self.fields_to_test.items():\n",
    "            internal_dict  = item[1]\n",
    "            var_temp = item[0]\n",
    "            test_data[var_temp] =  test_data[var_temp].apply(lambda x: internal_dict[x] if x in internal_dict else x)\n",
    "\n",
    "        # d.\tCross tub\n",
    "        contingency_table = pd.crosstab(test_data[self.col_1], test_data[self.col_2], normalize='columns') * 100\n",
    "\n",
    "        # e.\ttest\n",
    "        chi2, p, _, _ = stats.chi2_contingency(contingency_table)\n",
    "\n",
    "        # Print the chi-square test statistic and p-value\n",
    "        print(contingency_table)\n",
    "        print('Chi-square test statistic:', chi2)\n",
    "        print('p-value:', p)\n",
    "\n",
    "    def __apply_spearmanr(self):\n",
    "        # The data to read (the Excel name- @col_1 and sheet name  - @col_2)\n",
    "        df = pd.read_excel(f'{data_path}/{self.col_1}.xlsx', sheet_name=self.col_2)\n",
    "        # Obten only the contingency_table from the file, update the cols names and remove irrelevant data\n",
    "        new_df = df.iloc[df.loc[df[df.columns[0]].isnull()].index.item()+1:]\n",
    "        new_df.columns= new_df.iloc[0]\n",
    "        new_df = new_df.reset_index(drop=True).drop(0).drop(columns=cols_to_delete).set_index(var_1)\n",
    "        # extract the required data for test\n",
    "        data_1= np.array(range(len(new_df.columns)))\n",
    "        data_2= np.array(new_df.loc[self.fields_to_test])\n",
    "        # Perform the Cochran-Armitage test of trend\n",
    "        result = stats.spearmanr(data_1, data_2)\n",
    "\n",
    "        # Extract the test statistic and p-value\n",
    "        test_statistic = result.correlation\n",
    "        p_value = result.pvalue\n",
    "\n",
    "        # Print the test statistic and p-value\n",
    "        print(\"Test Statistic:\", test_statistic)\n",
    "        print(\"p-value:\", p_value)"
   ],
   "metadata": {
    "collapsed": false,
    "pycharm": {
     "name": "#%%\n"
    }
   }
  },
  {
   "cell_type": "code",
   "execution_count": 179,
   "outputs": [
    {
     "data": {
      "text/plain": "     value_approx                          is_electric       bicycle_type  \\\n0     $1000-$1999  Yes, with pedal-assist and throttle               Road   \n1      $2000-3999  Yes, with pedal-assist and throttle            Cruiser   \n2      $2000-3999                                  ​No               Road   \n3       $500-$999                                  ​No  Hybrid/City/Dutch   \n4     $1000-$1999                                  ​No           Mountain   \n...           ...                                  ...                ...   \n1816   $2000-3999  Yes, with pedal-assist and throttle  Hybrid/City/Dutch   \n1817    $250-$499                                   -1                 -1   \n1818    $500-$999                                  ​No           Mountain   \n1819   $2000-3999                                  ​No           Mountain   \n1820   $2000-3999                                  ​No               Road   \n\n     is_recover  seasons                                            purpose  \\\n0            No      1.0                             Recreation or exercise   \n1            No      2.0  Equal mix of recreation, exercise, and transpo...   \n2            No      1.0                             Recreation or exercise   \n3            No      1.0                             Recreation or exercise   \n4            No      2.0  Equal mix of recreation, exercise, and transpo...   \n...         ...      ...                                                ...   \n1816         No      1.0  Equal mix of recreation, exercise, and transpo...   \n1817         No      2.0                                     Transportation   \n1818         No      1.0  Equal mix of recreation, exercise, and transpo...   \n1819         No     -1.0                                                 -1   \n1820         No      0.0                             Recreation or exercise   \n\n              age_groups             gender  \\\n0     Older adults (>64)              Woman   \n1     Older adults (>64)                Man   \n2     Older adults (>64)                Man   \n3     Older adults (>64)              Woman   \n4     Older adults (>64)                Man   \n...                  ...                ...   \n1816  Older adults (>64)                 -1   \n1817  Older adults (>64)  Prefer not to say   \n1818  Older adults (>64)              Woman   \n1819  Older adults (>64)                 -1   \n1820  Older adults (>64)  Prefer not to say   \n\n                                      income nm_bikes              education  \\\n0       Between $20,000 and $34,999 per year      One  Graduated high school   \n1       Between $20,000 and $34,999 per year    Three        Some university   \n2     Between $100,000 and $149,999 per year      Two        Graduate degree   \n3                                         -1      One        Graduate degree   \n4     Between $100,000 and $149,999 per year      Two        Graduate degree   \n...                                      ...      ...                    ...   \n1816                                      -1       -1                     -1   \n1817                                      -1    Three        Graduate degree   \n1818                  Under $20,000 per year      Two        Graduate degree   \n1819                                      -1       -1                     -1   \n1820                                      -1       -1        Graduate degree   \n\n     country                                        is_replaced  \\\n0        CAN  ​Yes, and I replaced it with exactly what was ...   \n1        USA  ​Yes, and I replaced it with exactly what was ...   \n2        USA  ​Yes, and I replaced it with exactly what was ...   \n3        CAN  ​Yes, and I replaced it with exactly what was ...   \n4        USA  ​Yes, and I replaced it with exactly what was ...   \n...      ...                                                ...   \n1816     USA  ​Yes, and I replaced it with exactly what was ...   \n1817     USA     Yes, but the replacement was something cheaper   \n1818     USA     Yes, but the replacement was something cheaper   \n1819     CAN                                                 No   \n1820     USA  ​Yes, and I replaced it with exactly what was ...   \n\n                     mode_alt                    post_act  \n0     Didn’t make those trips                  More often  \n1             non sustainable  About the same / no change  \n2             non sustainable  About the same / no change  \n3                 sustainable  About the same / no change  \n4                 sustainable  About the same / no change  \n...                       ...                         ...  \n1816          non sustainable  About the same / no change  \n1817          non sustainable                  Less often  \n1818          non sustainable                  Less often  \n1819                       -1                          -1  \n1820              sustainable  About the same / no change  \n\n[1821 rows x 15 columns]",
      "text/html": "<div>\n<style scoped>\n    .dataframe tbody tr th:only-of-type {\n        vertical-align: middle;\n    }\n\n    .dataframe tbody tr th {\n        vertical-align: top;\n    }\n\n    .dataframe thead th {\n        text-align: right;\n    }\n</style>\n<table border=\"1\" class=\"dataframe\">\n  <thead>\n    <tr style=\"text-align: right;\">\n      <th></th>\n      <th>value_approx</th>\n      <th>is_electric</th>\n      <th>bicycle_type</th>\n      <th>is_recover</th>\n      <th>seasons</th>\n      <th>purpose</th>\n      <th>age_groups</th>\n      <th>gender</th>\n      <th>income</th>\n      <th>nm_bikes</th>\n      <th>education</th>\n      <th>country</th>\n      <th>is_replaced</th>\n      <th>mode_alt</th>\n      <th>post_act</th>\n    </tr>\n  </thead>\n  <tbody>\n    <tr>\n      <th>0</th>\n      <td>$1000-$1999</td>\n      <td>Yes, with pedal-assist and throttle</td>\n      <td>Road</td>\n      <td>No</td>\n      <td>1.0</td>\n      <td>Recreation or exercise</td>\n      <td>Older adults (&gt;64)</td>\n      <td>Woman</td>\n      <td>Between $20,000 and $34,999 per year</td>\n      <td>One</td>\n      <td>Graduated high school</td>\n      <td>CAN</td>\n      <td>​Yes, and I replaced it with exactly what was ...</td>\n      <td>Didn’t make those trips</td>\n      <td>More often</td>\n    </tr>\n    <tr>\n      <th>1</th>\n      <td>$2000-3999</td>\n      <td>Yes, with pedal-assist and throttle</td>\n      <td>Cruiser</td>\n      <td>No</td>\n      <td>2.0</td>\n      <td>Equal mix of recreation, exercise, and transpo...</td>\n      <td>Older adults (&gt;64)</td>\n      <td>Man</td>\n      <td>Between $20,000 and $34,999 per year</td>\n      <td>Three</td>\n      <td>Some university</td>\n      <td>USA</td>\n      <td>​Yes, and I replaced it with exactly what was ...</td>\n      <td>non sustainable</td>\n      <td>About the same / no change</td>\n    </tr>\n    <tr>\n      <th>2</th>\n      <td>$2000-3999</td>\n      <td>​No</td>\n      <td>Road</td>\n      <td>No</td>\n      <td>1.0</td>\n      <td>Recreation or exercise</td>\n      <td>Older adults (&gt;64)</td>\n      <td>Man</td>\n      <td>Between $100,000 and $149,999 per year</td>\n      <td>Two</td>\n      <td>Graduate degree</td>\n      <td>USA</td>\n      <td>​Yes, and I replaced it with exactly what was ...</td>\n      <td>non sustainable</td>\n      <td>About the same / no change</td>\n    </tr>\n    <tr>\n      <th>3</th>\n      <td>$500-$999</td>\n      <td>​No</td>\n      <td>Hybrid/City/Dutch</td>\n      <td>No</td>\n      <td>1.0</td>\n      <td>Recreation or exercise</td>\n      <td>Older adults (&gt;64)</td>\n      <td>Woman</td>\n      <td>-1</td>\n      <td>One</td>\n      <td>Graduate degree</td>\n      <td>CAN</td>\n      <td>​Yes, and I replaced it with exactly what was ...</td>\n      <td>sustainable</td>\n      <td>About the same / no change</td>\n    </tr>\n    <tr>\n      <th>4</th>\n      <td>$1000-$1999</td>\n      <td>​No</td>\n      <td>Mountain</td>\n      <td>No</td>\n      <td>2.0</td>\n      <td>Equal mix of recreation, exercise, and transpo...</td>\n      <td>Older adults (&gt;64)</td>\n      <td>Man</td>\n      <td>Between $100,000 and $149,999 per year</td>\n      <td>Two</td>\n      <td>Graduate degree</td>\n      <td>USA</td>\n      <td>​Yes, and I replaced it with exactly what was ...</td>\n      <td>sustainable</td>\n      <td>About the same / no change</td>\n    </tr>\n    <tr>\n      <th>...</th>\n      <td>...</td>\n      <td>...</td>\n      <td>...</td>\n      <td>...</td>\n      <td>...</td>\n      <td>...</td>\n      <td>...</td>\n      <td>...</td>\n      <td>...</td>\n      <td>...</td>\n      <td>...</td>\n      <td>...</td>\n      <td>...</td>\n      <td>...</td>\n      <td>...</td>\n    </tr>\n    <tr>\n      <th>1816</th>\n      <td>$2000-3999</td>\n      <td>Yes, with pedal-assist and throttle</td>\n      <td>Hybrid/City/Dutch</td>\n      <td>No</td>\n      <td>1.0</td>\n      <td>Equal mix of recreation, exercise, and transpo...</td>\n      <td>Older adults (&gt;64)</td>\n      <td>-1</td>\n      <td>-1</td>\n      <td>-1</td>\n      <td>-1</td>\n      <td>USA</td>\n      <td>​Yes, and I replaced it with exactly what was ...</td>\n      <td>non sustainable</td>\n      <td>About the same / no change</td>\n    </tr>\n    <tr>\n      <th>1817</th>\n      <td>$250-$499</td>\n      <td>-1</td>\n      <td>-1</td>\n      <td>No</td>\n      <td>2.0</td>\n      <td>Transportation</td>\n      <td>Older adults (&gt;64)</td>\n      <td>Prefer not to say</td>\n      <td>-1</td>\n      <td>Three</td>\n      <td>Graduate degree</td>\n      <td>USA</td>\n      <td>Yes, but the replacement was something cheaper</td>\n      <td>non sustainable</td>\n      <td>Less often</td>\n    </tr>\n    <tr>\n      <th>1818</th>\n      <td>$500-$999</td>\n      <td>​No</td>\n      <td>Mountain</td>\n      <td>No</td>\n      <td>1.0</td>\n      <td>Equal mix of recreation, exercise, and transpo...</td>\n      <td>Older adults (&gt;64)</td>\n      <td>Woman</td>\n      <td>Under $20,000 per year</td>\n      <td>Two</td>\n      <td>Graduate degree</td>\n      <td>USA</td>\n      <td>Yes, but the replacement was something cheaper</td>\n      <td>non sustainable</td>\n      <td>Less often</td>\n    </tr>\n    <tr>\n      <th>1819</th>\n      <td>$2000-3999</td>\n      <td>​No</td>\n      <td>Mountain</td>\n      <td>No</td>\n      <td>-1.0</td>\n      <td>-1</td>\n      <td>Older adults (&gt;64)</td>\n      <td>-1</td>\n      <td>-1</td>\n      <td>-1</td>\n      <td>-1</td>\n      <td>CAN</td>\n      <td>No</td>\n      <td>-1</td>\n      <td>-1</td>\n    </tr>\n    <tr>\n      <th>1820</th>\n      <td>$2000-3999</td>\n      <td>​No</td>\n      <td>Road</td>\n      <td>No</td>\n      <td>0.0</td>\n      <td>Recreation or exercise</td>\n      <td>Older adults (&gt;64)</td>\n      <td>Prefer not to say</td>\n      <td>-1</td>\n      <td>-1</td>\n      <td>Graduate degree</td>\n      <td>USA</td>\n      <td>​Yes, and I replaced it with exactly what was ...</td>\n      <td>sustainable</td>\n      <td>About the same / no change</td>\n    </tr>\n  </tbody>\n</table>\n<p>1821 rows × 15 columns</p>\n</div>"
     },
     "execution_count": 179,
     "metadata": {},
     "output_type": "execute_result"
    }
   ],
   "source": [
    "pre_test_data"
   ],
   "metadata": {
    "collapsed": false,
    "pycharm": {
     "name": "#%%\n"
    }
   }
  },
  {
   "cell_type": "code",
   "execution_count": 180,
   "outputs": [
    {
     "name": "stdout",
     "output_type": "stream",
     "text": [
      "\n",
      "apply_chi\n",
      "is_recover          No        Yes\n",
      "is_replaced                      \n",
      "No           25.993485  57.246377\n",
      "yes          74.006515  42.753623\n",
      "Chi-square test statistic: 18.833794309849555\n",
      "p-value: 1.4261766558877277e-05\n",
      "\n",
      "apply_chi\n",
      "seasons            0.0        1.0\n",
      "is_replaced                      \n",
      "No           68.780488  25.223368\n",
      "yes          31.219512  74.776632\n",
      "Chi-square test statistic: 36.35287163814688\n",
      "p-value: 1.646364575915698e-09\n",
      "\n",
      "apply_spearmanr\n",
      "Test Statistic: 0.9700772721497397\n",
      "p-value: 6.548558831120658e-05\n"
     ]
    }
   ],
   "source": [
    "# dependent 1\n",
    "var_1 ='is_replaced'\n",
    "\n",
    "# a.\tDefine var\n",
    "var_2 = 'is_recover'\n",
    "val = 'yes'\n",
    "test_fields= ('apply_chi', {var_1:{'​Yes, and I replaced it with exactly what was stolen or something more expensive':val, 'Yes, but the replacement was something cheaper':val}})\n",
    "res= MyTests(var_1, var_2, test_fields)\n",
    "\n",
    "var_2 = 'seasons'\n",
    "test_fields=('apply_chi', {var_1:{'​Yes, and I replaced it with exactly what was stolen or something more expensive':val, 'Yes, but the replacement was something cheaper':val}, var_2:{2:1}})\n",
    "res = MyTests(var_1, var_2, test_fields)\n",
    "\n",
    "var_2 = 'income'\n",
    "test_fields=('spearmanr', '​Yes, and I replaced it with exactly what was stolen or something more expensive')\n",
    "res = MyTests(var_1, var_2, test_fields)"
   ],
   "metadata": {
    "collapsed": false,
    "pycharm": {
     "name": "#%%\n"
    }
   }
  },
  {
   "cell_type": "code",
   "execution_count": 181,
   "outputs": [
    {
     "name": "stdout",
     "output_type": "stream",
     "text": [
      "\n",
      "apply_spearmanr\n"
     ]
    },
    {
     "ename": "KeyError",
     "evalue": "\"['Don’t know/not sure'] not found in axis\"",
     "output_type": "error",
     "traceback": [
      "\u001B[1;31m---------------------------------------------------------------------------\u001B[0m",
      "\u001B[1;31mKeyError\u001B[0m                                  Traceback (most recent call last)",
      "Cell \u001B[1;32mIn [181], line 3\u001B[0m\n\u001B[0;32m      1\u001B[0m var_2 \u001B[38;5;241m=\u001B[39m \u001B[38;5;124m'\u001B[39m\u001B[38;5;124mnm_bikes\u001B[39m\u001B[38;5;124m'\u001B[39m\n\u001B[0;32m      2\u001B[0m test_fields\u001B[38;5;241m=\u001B[39m(\u001B[38;5;124m'\u001B[39m\u001B[38;5;124mspearmanr\u001B[39m\u001B[38;5;124m'\u001B[39m, \u001B[38;5;124m'\u001B[39m\u001B[38;5;124m​Yes, and I replaced it with exactly what was stolen or something more expensive\u001B[39m\u001B[38;5;124m'\u001B[39m)\n\u001B[1;32m----> 3\u001B[0m res \u001B[38;5;241m=\u001B[39m \u001B[43mMyTests\u001B[49m\u001B[43m(\u001B[49m\u001B[43mvar_1\u001B[49m\u001B[43m,\u001B[49m\u001B[43m \u001B[49m\u001B[43mvar_2\u001B[49m\u001B[43m,\u001B[49m\u001B[43m \u001B[49m\u001B[43mtest_fields\u001B[49m\u001B[43m)\u001B[49m\n",
      "Cell \u001B[1;32mIn [178], line 15\u001B[0m, in \u001B[0;36mMyTests.__init__\u001B[1;34m(self, col_1, col_2, rel_data)\u001B[0m\n\u001B[0;32m     13\u001B[0m \u001B[38;5;28;01melse\u001B[39;00m:\n\u001B[0;32m     14\u001B[0m     \u001B[38;5;28mprint\u001B[39m(\u001B[38;5;124m'\u001B[39m\u001B[38;5;130;01m\\n\u001B[39;00m\u001B[38;5;124mapply_spearmanr\u001B[39m\u001B[38;5;124m'\u001B[39m)\n\u001B[1;32m---> 15\u001B[0m     \u001B[38;5;28;43mself\u001B[39;49m\u001B[38;5;241;43m.\u001B[39;49m\u001B[43m__apply_spearmanr\u001B[49m\u001B[43m(\u001B[49m\u001B[43m)\u001B[49m\n",
      "Cell \u001B[1;32mIn [178], line 52\u001B[0m, in \u001B[0;36mMyTests.__apply_spearmanr\u001B[1;34m(self)\u001B[0m\n\u001B[0;32m     50\u001B[0m new_df \u001B[38;5;241m=\u001B[39m df\u001B[38;5;241m.\u001B[39miloc[df\u001B[38;5;241m.\u001B[39mloc[df[df\u001B[38;5;241m.\u001B[39mcolumns[\u001B[38;5;241m0\u001B[39m]]\u001B[38;5;241m.\u001B[39misnull()]\u001B[38;5;241m.\u001B[39mindex\u001B[38;5;241m.\u001B[39mitem()\u001B[38;5;241m+\u001B[39m\u001B[38;5;241m1\u001B[39m:]\n\u001B[0;32m     51\u001B[0m new_df\u001B[38;5;241m.\u001B[39mcolumns\u001B[38;5;241m=\u001B[39m new_df\u001B[38;5;241m.\u001B[39miloc[\u001B[38;5;241m0\u001B[39m]\n\u001B[1;32m---> 52\u001B[0m new_df \u001B[38;5;241m=\u001B[39m \u001B[43mnew_df\u001B[49m\u001B[38;5;241;43m.\u001B[39;49m\u001B[43mreset_index\u001B[49m\u001B[43m(\u001B[49m\u001B[43mdrop\u001B[49m\u001B[38;5;241;43m=\u001B[39;49m\u001B[38;5;28;43;01mTrue\u001B[39;49;00m\u001B[43m)\u001B[49m\u001B[38;5;241;43m.\u001B[39;49m\u001B[43mdrop\u001B[49m\u001B[43m(\u001B[49m\u001B[38;5;241;43m0\u001B[39;49m\u001B[43m)\u001B[49m\u001B[38;5;241;43m.\u001B[39;49m\u001B[43mdrop\u001B[49m\u001B[43m(\u001B[49m\u001B[43mcolumns\u001B[49m\u001B[38;5;241;43m=\u001B[39;49m\u001B[43mcols_to_delete\u001B[49m\u001B[43m)\u001B[49m\u001B[38;5;241m.\u001B[39mset_index(var_1)\n\u001B[0;32m     53\u001B[0m \u001B[38;5;66;03m# extract the required data for test\u001B[39;00m\n\u001B[0;32m     54\u001B[0m data_1\u001B[38;5;241m=\u001B[39m np\u001B[38;5;241m.\u001B[39marray(\u001B[38;5;28mrange\u001B[39m(\u001B[38;5;28mlen\u001B[39m(new_df\u001B[38;5;241m.\u001B[39mcolumns)))\n",
      "File \u001B[1;32m~\\anaconda3\\envs\\ox\\lib\\site-packages\\pandas\\util\\_decorators.py:317\u001B[0m, in \u001B[0;36mdeprecate_nonkeyword_arguments.<locals>.decorate.<locals>.wrapper\u001B[1;34m(*args, **kwargs)\u001B[0m\n\u001B[0;32m    311\u001B[0m \u001B[38;5;28;01mif\u001B[39;00m \u001B[38;5;28mlen\u001B[39m(args) \u001B[38;5;241m>\u001B[39m num_allow_args:\n\u001B[0;32m    312\u001B[0m     warnings\u001B[38;5;241m.\u001B[39mwarn(\n\u001B[0;32m    313\u001B[0m         msg\u001B[38;5;241m.\u001B[39mformat(arguments\u001B[38;5;241m=\u001B[39marguments),\n\u001B[0;32m    314\u001B[0m         \u001B[38;5;167;01mFutureWarning\u001B[39;00m,\n\u001B[0;32m    315\u001B[0m         stacklevel\u001B[38;5;241m=\u001B[39mfind_stack_level(inspect\u001B[38;5;241m.\u001B[39mcurrentframe()),\n\u001B[0;32m    316\u001B[0m     )\n\u001B[1;32m--> 317\u001B[0m \u001B[38;5;28;01mreturn\u001B[39;00m func(\u001B[38;5;241m*\u001B[39margs, \u001B[38;5;241m*\u001B[39m\u001B[38;5;241m*\u001B[39mkwargs)\n",
      "File \u001B[1;32m~\\anaconda3\\envs\\ox\\lib\\site-packages\\pandas\\core\\frame.py:5391\u001B[0m, in \u001B[0;36mDataFrame.drop\u001B[1;34m(self, labels, axis, index, columns, level, inplace, errors)\u001B[0m\n\u001B[0;32m   5243\u001B[0m \u001B[38;5;129m@deprecate_nonkeyword_arguments\u001B[39m(version\u001B[38;5;241m=\u001B[39m\u001B[38;5;28;01mNone\u001B[39;00m, allowed_args\u001B[38;5;241m=\u001B[39m[\u001B[38;5;124m\"\u001B[39m\u001B[38;5;124mself\u001B[39m\u001B[38;5;124m\"\u001B[39m, \u001B[38;5;124m\"\u001B[39m\u001B[38;5;124mlabels\u001B[39m\u001B[38;5;124m\"\u001B[39m])\n\u001B[0;32m   5244\u001B[0m \u001B[38;5;28;01mdef\u001B[39;00m \u001B[38;5;21mdrop\u001B[39m(  \u001B[38;5;66;03m# type: ignore[override]\u001B[39;00m\n\u001B[0;32m   5245\u001B[0m     \u001B[38;5;28mself\u001B[39m,\n\u001B[1;32m   (...)\u001B[0m\n\u001B[0;32m   5252\u001B[0m     errors: IgnoreRaise \u001B[38;5;241m=\u001B[39m \u001B[38;5;124m\"\u001B[39m\u001B[38;5;124mraise\u001B[39m\u001B[38;5;124m\"\u001B[39m,\n\u001B[0;32m   5253\u001B[0m ) \u001B[38;5;241m-\u001B[39m\u001B[38;5;241m>\u001B[39m DataFrame \u001B[38;5;241m|\u001B[39m \u001B[38;5;28;01mNone\u001B[39;00m:\n\u001B[0;32m   5254\u001B[0m     \u001B[38;5;124;03m\"\"\"\u001B[39;00m\n\u001B[0;32m   5255\u001B[0m \u001B[38;5;124;03m    Drop specified labels from rows or columns.\u001B[39;00m\n\u001B[0;32m   5256\u001B[0m \n\u001B[1;32m   (...)\u001B[0m\n\u001B[0;32m   5389\u001B[0m \u001B[38;5;124;03m            weight  1.0     0.8\u001B[39;00m\n\u001B[0;32m   5390\u001B[0m \u001B[38;5;124;03m    \"\"\"\u001B[39;00m\n\u001B[1;32m-> 5391\u001B[0m     \u001B[38;5;28;01mreturn\u001B[39;00m \u001B[38;5;28;43msuper\u001B[39;49m\u001B[43m(\u001B[49m\u001B[43m)\u001B[49m\u001B[38;5;241;43m.\u001B[39;49m\u001B[43mdrop\u001B[49m\u001B[43m(\u001B[49m\n\u001B[0;32m   5392\u001B[0m \u001B[43m        \u001B[49m\u001B[43mlabels\u001B[49m\u001B[38;5;241;43m=\u001B[39;49m\u001B[43mlabels\u001B[49m\u001B[43m,\u001B[49m\n\u001B[0;32m   5393\u001B[0m \u001B[43m        \u001B[49m\u001B[43maxis\u001B[49m\u001B[38;5;241;43m=\u001B[39;49m\u001B[43maxis\u001B[49m\u001B[43m,\u001B[49m\n\u001B[0;32m   5394\u001B[0m \u001B[43m        \u001B[49m\u001B[43mindex\u001B[49m\u001B[38;5;241;43m=\u001B[39;49m\u001B[43mindex\u001B[49m\u001B[43m,\u001B[49m\n\u001B[0;32m   5395\u001B[0m \u001B[43m        \u001B[49m\u001B[43mcolumns\u001B[49m\u001B[38;5;241;43m=\u001B[39;49m\u001B[43mcolumns\u001B[49m\u001B[43m,\u001B[49m\n\u001B[0;32m   5396\u001B[0m \u001B[43m        \u001B[49m\u001B[43mlevel\u001B[49m\u001B[38;5;241;43m=\u001B[39;49m\u001B[43mlevel\u001B[49m\u001B[43m,\u001B[49m\n\u001B[0;32m   5397\u001B[0m \u001B[43m        \u001B[49m\u001B[43minplace\u001B[49m\u001B[38;5;241;43m=\u001B[39;49m\u001B[43minplace\u001B[49m\u001B[43m,\u001B[49m\n\u001B[0;32m   5398\u001B[0m \u001B[43m        \u001B[49m\u001B[43merrors\u001B[49m\u001B[38;5;241;43m=\u001B[39;49m\u001B[43merrors\u001B[49m\u001B[43m,\u001B[49m\n\u001B[0;32m   5399\u001B[0m \u001B[43m    \u001B[49m\u001B[43m)\u001B[49m\n",
      "File \u001B[1;32m~\\anaconda3\\envs\\ox\\lib\\site-packages\\pandas\\util\\_decorators.py:317\u001B[0m, in \u001B[0;36mdeprecate_nonkeyword_arguments.<locals>.decorate.<locals>.wrapper\u001B[1;34m(*args, **kwargs)\u001B[0m\n\u001B[0;32m    311\u001B[0m \u001B[38;5;28;01mif\u001B[39;00m \u001B[38;5;28mlen\u001B[39m(args) \u001B[38;5;241m>\u001B[39m num_allow_args:\n\u001B[0;32m    312\u001B[0m     warnings\u001B[38;5;241m.\u001B[39mwarn(\n\u001B[0;32m    313\u001B[0m         msg\u001B[38;5;241m.\u001B[39mformat(arguments\u001B[38;5;241m=\u001B[39marguments),\n\u001B[0;32m    314\u001B[0m         \u001B[38;5;167;01mFutureWarning\u001B[39;00m,\n\u001B[0;32m    315\u001B[0m         stacklevel\u001B[38;5;241m=\u001B[39mfind_stack_level(inspect\u001B[38;5;241m.\u001B[39mcurrentframe()),\n\u001B[0;32m    316\u001B[0m     )\n\u001B[1;32m--> 317\u001B[0m \u001B[38;5;28;01mreturn\u001B[39;00m func(\u001B[38;5;241m*\u001B[39margs, \u001B[38;5;241m*\u001B[39m\u001B[38;5;241m*\u001B[39mkwargs)\n",
      "File \u001B[1;32m~\\anaconda3\\envs\\ox\\lib\\site-packages\\pandas\\core\\generic.py:4510\u001B[0m, in \u001B[0;36mNDFrame.drop\u001B[1;34m(self, labels, axis, index, columns, level, inplace, errors)\u001B[0m\n\u001B[0;32m   4508\u001B[0m \u001B[38;5;28;01mfor\u001B[39;00m axis, labels \u001B[38;5;129;01min\u001B[39;00m axes\u001B[38;5;241m.\u001B[39mitems():\n\u001B[0;32m   4509\u001B[0m     \u001B[38;5;28;01mif\u001B[39;00m labels \u001B[38;5;129;01mis\u001B[39;00m \u001B[38;5;129;01mnot\u001B[39;00m \u001B[38;5;28;01mNone\u001B[39;00m:\n\u001B[1;32m-> 4510\u001B[0m         obj \u001B[38;5;241m=\u001B[39m \u001B[43mobj\u001B[49m\u001B[38;5;241;43m.\u001B[39;49m\u001B[43m_drop_axis\u001B[49m\u001B[43m(\u001B[49m\u001B[43mlabels\u001B[49m\u001B[43m,\u001B[49m\u001B[43m \u001B[49m\u001B[43maxis\u001B[49m\u001B[43m,\u001B[49m\u001B[43m \u001B[49m\u001B[43mlevel\u001B[49m\u001B[38;5;241;43m=\u001B[39;49m\u001B[43mlevel\u001B[49m\u001B[43m,\u001B[49m\u001B[43m \u001B[49m\u001B[43merrors\u001B[49m\u001B[38;5;241;43m=\u001B[39;49m\u001B[43merrors\u001B[49m\u001B[43m)\u001B[49m\n\u001B[0;32m   4512\u001B[0m \u001B[38;5;28;01mif\u001B[39;00m inplace:\n\u001B[0;32m   4513\u001B[0m     \u001B[38;5;28mself\u001B[39m\u001B[38;5;241m.\u001B[39m_update_inplace(obj)\n",
      "File \u001B[1;32m~\\anaconda3\\envs\\ox\\lib\\site-packages\\pandas\\core\\generic.py:4551\u001B[0m, in \u001B[0;36mNDFrame._drop_axis\u001B[1;34m(self, labels, axis, level, errors, only_slice)\u001B[0m\n\u001B[0;32m   4549\u001B[0m         new_axis \u001B[38;5;241m=\u001B[39m axis\u001B[38;5;241m.\u001B[39mdrop(labels, level\u001B[38;5;241m=\u001B[39mlevel, errors\u001B[38;5;241m=\u001B[39merrors)\n\u001B[0;32m   4550\u001B[0m     \u001B[38;5;28;01melse\u001B[39;00m:\n\u001B[1;32m-> 4551\u001B[0m         new_axis \u001B[38;5;241m=\u001B[39m \u001B[43maxis\u001B[49m\u001B[38;5;241;43m.\u001B[39;49m\u001B[43mdrop\u001B[49m\u001B[43m(\u001B[49m\u001B[43mlabels\u001B[49m\u001B[43m,\u001B[49m\u001B[43m \u001B[49m\u001B[43merrors\u001B[49m\u001B[38;5;241;43m=\u001B[39;49m\u001B[43merrors\u001B[49m\u001B[43m)\u001B[49m\n\u001B[0;32m   4552\u001B[0m     indexer \u001B[38;5;241m=\u001B[39m axis\u001B[38;5;241m.\u001B[39mget_indexer(new_axis)\n\u001B[0;32m   4554\u001B[0m \u001B[38;5;66;03m# Case for non-unique axis\u001B[39;00m\n\u001B[0;32m   4555\u001B[0m \u001B[38;5;28;01melse\u001B[39;00m:\n",
      "File \u001B[1;32m~\\anaconda3\\envs\\ox\\lib\\site-packages\\pandas\\core\\indexes\\base.py:6972\u001B[0m, in \u001B[0;36mIndex.drop\u001B[1;34m(self, labels, errors)\u001B[0m\n\u001B[0;32m   6970\u001B[0m \u001B[38;5;28;01mif\u001B[39;00m mask\u001B[38;5;241m.\u001B[39many():\n\u001B[0;32m   6971\u001B[0m     \u001B[38;5;28;01mif\u001B[39;00m errors \u001B[38;5;241m!=\u001B[39m \u001B[38;5;124m\"\u001B[39m\u001B[38;5;124mignore\u001B[39m\u001B[38;5;124m\"\u001B[39m:\n\u001B[1;32m-> 6972\u001B[0m         \u001B[38;5;28;01mraise\u001B[39;00m \u001B[38;5;167;01mKeyError\u001B[39;00m(\u001B[38;5;124mf\u001B[39m\u001B[38;5;124m\"\u001B[39m\u001B[38;5;132;01m{\u001B[39;00m\u001B[38;5;28mlist\u001B[39m(labels[mask])\u001B[38;5;132;01m}\u001B[39;00m\u001B[38;5;124m not found in axis\u001B[39m\u001B[38;5;124m\"\u001B[39m)\n\u001B[0;32m   6973\u001B[0m     indexer \u001B[38;5;241m=\u001B[39m indexer[\u001B[38;5;241m~\u001B[39mmask]\n\u001B[0;32m   6974\u001B[0m \u001B[38;5;28;01mreturn\u001B[39;00m \u001B[38;5;28mself\u001B[39m\u001B[38;5;241m.\u001B[39mdelete(indexer)\n",
      "\u001B[1;31mKeyError\u001B[0m: \"['Don’t know/not sure'] not found in axis\""
     ]
    }
   ],
   "source": [
    "var_2 = 'nm_bikes'\n",
    "test_fields=('spearmanr', '​Yes, and I replaced it with exactly what was stolen or something more expensive')\n",
    "res = MyTests(var_1, var_2, test_fields)"
   ],
   "metadata": {
    "collapsed": false,
    "pycharm": {
     "name": "#%%\n"
    }
   }
  },
  {
   "cell_type": "markdown",
   "source": [],
   "metadata": {
    "collapsed": false,
    "pycharm": {
     "name": "#%% md\n"
    }
   }
  },
  {
   "cell_type": "code",
   "execution_count": null,
   "outputs": [],
   "source": [
    "predictors ={'Q13':'value_approx','Q14':'is_electric','Q15':'bicycle_type','Q18':'is_recover',  'Q28':'seasons', 'Q29':'purpose', 'age_groups': 'age_groups', 'Q35': 'gender', 'Q36': 'income','Q37':'nm_bikes', 'Q38': 'education','country':'country'}\n",
    "dependent_vars = {'Q25':'is_replaced','Q30':'mode_alt', 'Q31':'post_act'}"
   ],
   "metadata": {
    "collapsed": false,
    "pycharm": {
     "name": "#%%\n"
    }
   }
  }
 ],
 "metadata": {
  "kernelspec": {
   "display_name": "Python 3",
   "language": "python",
   "name": "python3"
  },
  "language_info": {
   "codemirror_mode": {
    "name": "ipython",
    "version": 2
   },
   "file_extension": ".py",
   "mimetype": "text/x-python",
   "name": "python",
   "nbconvert_exporter": "python",
   "pygments_lexer": "ipython2",
   "version": "2.7.6"
  }
 },
 "nbformat": 4,
 "nbformat_minor": 0
}