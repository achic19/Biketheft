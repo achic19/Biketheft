{
 "cells": [
  {
   "cell_type": "code",
   "execution_count": 109,
   "outputs": [
    {
     "data": {
      "text/plain": "<IPython.core.display.HTML object>",
      "text/html": "<style>.container { width:100% !important; }</style>"
     },
     "metadata": {},
     "output_type": "display_data"
    }
   ],
   "source": [
    "from scipy.stats import chi2_contingency\n",
    "import calendar\n",
    "import prince\n",
    "months = list(map(lambda x: x.lower(), calendar.month_name))[1:]\n",
    "import pandas as pd\n",
    "from pandas import DataFrame\n",
    "\n",
    "import matplotlib.pyplot as plt\n",
    "from IPython.core.interactiveshell import InteractiveShell\n",
    "\n",
    "InteractiveShell.ast_node_interactivity = 'all'\n",
    "\n",
    "import matplotlib.pylab as pylab\n",
    "\n",
    "\n",
    "\n",
    "\n",
    "params = {'legend.fontsize': 'x-large',\n",
    "          'figure.figsize': (15, 10),\n",
    "          'axes.labelsize': 'x-large',\n",
    "          'axes.titlesize': 'x-large',\n",
    "          'xtick.labelsize': 'x-large',\n",
    "          'ytick.labelsize': 'x-large'}\n",
    "pylab.rcParams.update(params)\n",
    "\n",
    "import os\n",
    "\n",
    "project_folder = f'{os.path.dirname(os.path.dirname(os.path.dirname(os.getcwd())))}/data/process'\n",
    "import warnings\n",
    "\n",
    "warnings.filterwarnings(action='ignore')\n",
    "\n",
    "from IPython.core.display import display, HTML\n",
    "# Set the display width to fit the entire notebook width\n",
    "display(HTML(\"<style>.container { width:100% !important; }</style>\"))\n",
    "from IPython.display import Markdown\n",
    "from IPython.display import display_html\n",
    "\n",
    "\n",
    "predictors ={'Q13':'value_approx','Q14':'is_electric','Q15':'bicycle_type','Q18':'is_recover',  'Q28':'seasons', 'Q29':'purpose', 'age_groups': 'age_groups', 'Q35': 'gender', 'Q36': 'income','Q37':'nm_bikes', 'Q38': 'education','country':'country'}\n",
    "dependent_vars = {'Q25':'is_replaced','sustainable':'mode_alt', 'Q31':'post_act'}\n",
    "all_vars = predictors.copy()\n",
    "all_vars.update(dependent_vars)"
   ],
   "metadata": {
    "collapsed": false,
    "pycharm": {
     "name": "#%%\n"
    }
   }
  },
  {
   "cell_type": "code",
   "execution_count": 118,
   "outputs": [],
   "source": [
    "############ RUN FOR THE FIRST TIME ONLY#################\n",
    "# Change col names and leave only relevant cols as well as delete unnecessary spaces and parenthesis (except age group)\n",
    "cols_names = list(all_vars.values())\n",
    "data_init = pd.read_csv(f'{project_folder}/new_data/new_data_2.csv')\n",
    "temp = data_init['age_groups']\n",
    "d_analysis = data_init.rename(columns=all_vars)[cols_names].astype(str).replace(r\"\\(.*?\\)\", \"\").astype(str).replace(\":\", \"\").apply(lambda row: [d.split('(')[0].strip() if '(' in d else d.strip() for d in row])\n",
    "d_analysis['age_groups'] = temp\n",
    "\n",
    "# To enhance clarity and intuitive understanding, swap the labels between Class 0 and Class 1.\n",
    "def swap(t):\n",
    "    return 1 if t==0 else 0 if t==1 else t\n",
    "\n",
    "data_init['ridership'] = data_init.Q28.apply(swap)\n",
    "\n",
    "# This method translate the alternative data into how much the alternative is sustainable\n",
    "def sus_alter(row):\n",
    "    alt_stat = ['sustainable','semi','non sustainable']\n",
    "    if row in  ['Walk','Cycle, personal bicycle','Cycle, rental bicycle','Cycle, public bike share','Micro mobility']:\n",
    "        return alt_stat[0]\n",
    "    elif row in ['Transit','Motorcycle or scooter']:\n",
    "        return alt_stat[1]\n",
    "    elif row in ['Car, as a driver','Car, as a passenger','Taxi / Ride-hailing service']:\n",
    "        return alt_stat[2]\n",
    "    else:\n",
    "        return\n",
    "\n",
    "data_init['sustainable'] = data_init['mode_alt'].apply(sus_alter)\n",
    "data_init['sustainable'].value_counts()\n",
    "\n",
    "d_analysis.to_csv(f'{project_folder}/new_data/new_data_3.csv')\n",
    "\n"
   ],
   "metadata": {
    "collapsed": false,
    "pycharm": {
     "name": "#%%\n"
    }
   }
  },
  {
   "cell_type": "code",
   "execution_count": 125,
   "outputs": [
    {
     "ename": "KeyError",
     "evalue": "'mode_alt'",
     "output_type": "error",
     "traceback": [
      "\u001B[1;31m---------------------------------------------------------------------------\u001B[0m",
      "\u001B[1;31mKeyError\u001B[0m                                  Traceback (most recent call last)",
      "File \u001B[1;32m~\\anaconda3\\envs\\ox\\lib\\site-packages\\pandas\\core\\indexes\\base.py:3800\u001B[0m, in \u001B[0;36mIndex.get_loc\u001B[1;34m(self, key, method, tolerance)\u001B[0m\n\u001B[0;32m   3799\u001B[0m \u001B[38;5;28;01mtry\u001B[39;00m:\n\u001B[1;32m-> 3800\u001B[0m     \u001B[38;5;28;01mreturn\u001B[39;00m \u001B[38;5;28;43mself\u001B[39;49m\u001B[38;5;241;43m.\u001B[39;49m\u001B[43m_engine\u001B[49m\u001B[38;5;241;43m.\u001B[39;49m\u001B[43mget_loc\u001B[49m\u001B[43m(\u001B[49m\u001B[43mcasted_key\u001B[49m\u001B[43m)\u001B[49m\n\u001B[0;32m   3801\u001B[0m \u001B[38;5;28;01mexcept\u001B[39;00m \u001B[38;5;167;01mKeyError\u001B[39;00m \u001B[38;5;28;01mas\u001B[39;00m err:\n",
      "File \u001B[1;32m~\\anaconda3\\envs\\ox\\lib\\site-packages\\pandas\\_libs\\index.pyx:138\u001B[0m, in \u001B[0;36mpandas._libs.index.IndexEngine.get_loc\u001B[1;34m()\u001B[0m\n",
      "File \u001B[1;32m~\\anaconda3\\envs\\ox\\lib\\site-packages\\pandas\\_libs\\index.pyx:165\u001B[0m, in \u001B[0;36mpandas._libs.index.IndexEngine.get_loc\u001B[1;34m()\u001B[0m\n",
      "File \u001B[1;32mpandas\\_libs\\hashtable_class_helper.pxi:5745\u001B[0m, in \u001B[0;36mpandas._libs.hashtable.PyObjectHashTable.get_item\u001B[1;34m()\u001B[0m\n",
      "File \u001B[1;32mpandas\\_libs\\hashtable_class_helper.pxi:5753\u001B[0m, in \u001B[0;36mpandas._libs.hashtable.PyObjectHashTable.get_item\u001B[1;34m()\u001B[0m\n",
      "\u001B[1;31mKeyError\u001B[0m: 'mode_alt'",
      "\nThe above exception was the direct cause of the following exception:\n",
      "\u001B[1;31mKeyError\u001B[0m                                  Traceback (most recent call last)",
      "Cell \u001B[1;32mIn [125], line 1\u001B[0m\n\u001B[1;32m----> 1\u001B[0m \u001B[43mdata_init\u001B[49m\u001B[43m[\u001B[49m\u001B[38;5;124;43m'\u001B[39;49m\u001B[38;5;124;43mmode_alt\u001B[39;49m\u001B[38;5;124;43m'\u001B[39;49m\u001B[43m]\u001B[49m\n",
      "File \u001B[1;32m~\\anaconda3\\envs\\ox\\lib\\site-packages\\pandas\\core\\frame.py:3805\u001B[0m, in \u001B[0;36mDataFrame.__getitem__\u001B[1;34m(self, key)\u001B[0m\n\u001B[0;32m   3803\u001B[0m \u001B[38;5;28;01mif\u001B[39;00m \u001B[38;5;28mself\u001B[39m\u001B[38;5;241m.\u001B[39mcolumns\u001B[38;5;241m.\u001B[39mnlevels \u001B[38;5;241m>\u001B[39m \u001B[38;5;241m1\u001B[39m:\n\u001B[0;32m   3804\u001B[0m     \u001B[38;5;28;01mreturn\u001B[39;00m \u001B[38;5;28mself\u001B[39m\u001B[38;5;241m.\u001B[39m_getitem_multilevel(key)\n\u001B[1;32m-> 3805\u001B[0m indexer \u001B[38;5;241m=\u001B[39m \u001B[38;5;28;43mself\u001B[39;49m\u001B[38;5;241;43m.\u001B[39;49m\u001B[43mcolumns\u001B[49m\u001B[38;5;241;43m.\u001B[39;49m\u001B[43mget_loc\u001B[49m\u001B[43m(\u001B[49m\u001B[43mkey\u001B[49m\u001B[43m)\u001B[49m\n\u001B[0;32m   3806\u001B[0m \u001B[38;5;28;01mif\u001B[39;00m is_integer(indexer):\n\u001B[0;32m   3807\u001B[0m     indexer \u001B[38;5;241m=\u001B[39m [indexer]\n",
      "File \u001B[1;32m~\\anaconda3\\envs\\ox\\lib\\site-packages\\pandas\\core\\indexes\\base.py:3802\u001B[0m, in \u001B[0;36mIndex.get_loc\u001B[1;34m(self, key, method, tolerance)\u001B[0m\n\u001B[0;32m   3800\u001B[0m     \u001B[38;5;28;01mreturn\u001B[39;00m \u001B[38;5;28mself\u001B[39m\u001B[38;5;241m.\u001B[39m_engine\u001B[38;5;241m.\u001B[39mget_loc(casted_key)\n\u001B[0;32m   3801\u001B[0m \u001B[38;5;28;01mexcept\u001B[39;00m \u001B[38;5;167;01mKeyError\u001B[39;00m \u001B[38;5;28;01mas\u001B[39;00m err:\n\u001B[1;32m-> 3802\u001B[0m     \u001B[38;5;28;01mraise\u001B[39;00m \u001B[38;5;167;01mKeyError\u001B[39;00m(key) \u001B[38;5;28;01mfrom\u001B[39;00m \u001B[38;5;21;01merr\u001B[39;00m\n\u001B[0;32m   3803\u001B[0m \u001B[38;5;28;01mexcept\u001B[39;00m \u001B[38;5;167;01mTypeError\u001B[39;00m:\n\u001B[0;32m   3804\u001B[0m     \u001B[38;5;66;03m# If we have a listlike key, _check_indexing_error will raise\u001B[39;00m\n\u001B[0;32m   3805\u001B[0m     \u001B[38;5;66;03m#  InvalidIndexError. Otherwise we fall through and re-raise\u001B[39;00m\n\u001B[0;32m   3806\u001B[0m     \u001B[38;5;66;03m#  the TypeError.\u001B[39;00m\n\u001B[0;32m   3807\u001B[0m     \u001B[38;5;28mself\u001B[39m\u001B[38;5;241m.\u001B[39m_check_indexing_error(key)\n",
      "\u001B[1;31mKeyError\u001B[0m: 'mode_alt'"
     ]
    }
   ],
   "source": [
    "data_init['mode_alt']\n"
   ],
   "metadata": {
    "collapsed": false,
    "pycharm": {
     "name": "#%%\n"
    }
   }
  },
  {
   "cell_type": "code",
   "execution_count": 3,
   "outputs": [],
   "source": [
    "# read data\n",
    "merge_q = pd.read_csv(f'{project_folder}/new_data/new_data_3.csv')"
   ],
   "metadata": {
    "collapsed": false,
    "pycharm": {
     "name": "#%%\n"
    }
   }
  },
  {
   "cell_type": "code",
   "execution_count": 82,
   "outputs": [
    {
     "data": {
      "text/plain": "non sustainable            681\nsustainable                620\nDidn’t make those trips    221\nsemi                       177\nDon’t know/not sure         29\nName: sustainable, dtype: int64"
     },
     "execution_count": 82,
     "metadata": {},
     "output_type": "execute_result"
    }
   ],
   "source": [
    "\n"
   ],
   "metadata": {
    "collapsed": false,
    "pycharm": {
     "name": "#%%\n"
    }
   }
  },
  {
   "cell_type": "code",
   "execution_count": 90,
   "outputs": [
    {
     "data": {
      "text/plain": "{'value_approx': [False, False],\n 'is_electric': [False, False],\n 'bicycle_type': [False, False],\n 'is_recover': [False, False],\n 'seasons': [False, False],\n 'purpose': [False, False],\n 'age_groups': [False, False],\n 'gender': [False, False],\n 'income': [False, False],\n 'nm_bikes': [False, False],\n 'education': [False, False],\n 'country': [False, False]}"
     },
     "execution_count": 90,
     "metadata": {},
     "output_type": "execute_result"
    }
   ],
   "source": [
    "# organize and populate @more_data  dictionary\n",
    "more_data ={item:[False,False] for  item in predictors.values()}\n",
    "\n",
    "# Code relevant for reindex\n",
    "# Bicycle attributes\n",
    "q= 'value_approx'\n",
    "df_t = DataFrame(merge_q[q].unique()).dropna().sort_values(by=0, ascending=0).reset_index(drop=True)\n",
    "more_data[q][0] = pd.concat([df_t.iloc[0], df_t.iloc[6], df_t.iloc[4], df_t.iloc[8], df_t.iloc[7], df_t.iloc[5], df_t.iloc[1:4].sort_values(by=0, ascending=1)])[0].to_list()\n",
    "\n",
    "# Demographic\n",
    "q = 'education'\n",
    "df_t = DataFrame(merge_q[q].unique()).dropna().sort_values(by=0, ascending=0).reset_index(drop=True)\n",
    "more_data[q][0]= pd.concat([df_t.iloc[6], df_t.iloc[0:2], df_t.iloc[4], df_t.iloc[3:1:-1], df_t.iloc[5]])[0].to_list()\n",
    "q = 'age_groups'\n",
    "more_data[q][0] = DataFrame(merge_q[q].unique()).dropna()[::-1][0].to_list()\n",
    "q= 'income'\n",
    "df_t = DataFrame(merge_q[q].unique()).dropna().sort_values(by=0, ascending=0).reset_index(drop=True)\n",
    "more_data[q][0]= pd.concat([df_t.iloc[0], df_t.iloc[6:2:-1], df_t.iloc[8:6:-1], df_t.iloc[9], df_t.iloc[1:3]])[0].to_list()\n",
    "q = 'nm_bikes'\n",
    "df_t = DataFrame(merge_q[q].unique()).dropna().sort_values(by=0, ascending=0).reset_index(drop=True)\n",
    "more_data[q][0]= pd.concat([df_t.iloc[0], df_t.iloc[3], df_t.iloc[1:3], df_t.iloc[5:], df_t.iloc[4]])[0].to_list()\n",
    "# In case where only several cols are relevant\n",
    "more_data['bicycle_type'][1]=['Hybrid/City/Dutch','Mountain','Road','Gravel/cyclocross']"
   ],
   "metadata": {
    "collapsed": false,
    "pycharm": {
     "name": "#%%\n"
    }
   }
  },
  {
   "cell_type": "code",
   "execution_count": 112,
   "outputs": [],
   "source": [
    "\n",
    "class MyData:\n",
    "    \"\"\"\n",
    "   The class organizes and explores the data, allowing for the creation of cross-tabulations.\n",
    "    \"\"\"\n",
    "    def __init__(self, var_0, data, com_data):\n",
    "        \"\"\"\n",
    "\n",
    "        :param var_0: The main variable that should not be replaced frequently throughout the program.\n",
    "        :param data: Data frame\n",
    "        :param com_data: provides more information when necessary to create more adaptable analysis\n",
    "        \"\"\"\n",
    "        self.cols_name = [var_0,'']\n",
    "        self.merge_q= data\n",
    "        self.more_data = com_data\n",
    "\n",
    "    def explore_data(self,cross_tab= True):\n",
    "        r\"\"\"\n",
    "        Clean the data and print cross_tab if it is required\n",
    "        :param cross_tab:\n",
    "        :return:\n",
    "        \"\"\"\n",
    "        # Based on these variables, the analysis can be employed.\n",
    "        cross_cols_nm =self.cols_name\n",
    "        cls_to_use = self.more_data[cross_cols_nm[1]][1]\n",
    "        reindex_temp = self.more_data[cross_cols_nm[1]][0]\n",
    "        only_rel_f= self.merge_q[cross_cols_nm].dropna()\n",
    "\n",
    "        if cross_tab:\n",
    "            if cls_to_use:\n",
    "                only_rel_f = only_rel_f[only_rel_f[cross_cols_nm[1]].isin(cls_to_use)]\n",
    "            if reindex_temp:\n",
    "                # For ordinal categories, reindexing the columns is essential to align them in the required order.\n",
    "                return only_rel_f[cross_cols_nm[1]].value_counts().reindex(reindex_temp), (pd.crosstab(only_rel_f[cross_cols_nm[0]], only_rel_f[cross_cols_nm[1]], normalize='columns') * 100).astype(int).reindex(columns=reindex_temp)\n",
    "            else:\n",
    "                return only_rel_f[cross_cols_nm[1]].value_counts(),(pd.crosstab(only_rel_f[cross_cols_nm[0]], only_rel_f[cross_cols_nm[1]], normalize='columns') * 100).astype(int)\n",
    "\n",
    "        return only_rel_f"
   ],
   "metadata": {
    "collapsed": false,
    "pycharm": {
     "name": "#%%\n"
    }
   }
  },
  {
   "cell_type": "code",
   "execution_count": 64,
   "outputs": [
    {
     "data": {
      "text/plain": "Index(['Unnamed: 0', 'value_approx', 'is_electric', 'bicycle_type',\n       'is_recover', 'seasons', 'purpose', 'age_groups', 'gender', 'income',\n       'nm_bikes', 'education', 'country', 'is_replaced', 'mode_alt',\n       'post_act', 'sustainable'],\n      dtype='object')"
     },
     "execution_count": 64,
     "metadata": {},
     "output_type": "execute_result"
    }
   ],
   "source": [
    "merge_q.columns"
   ],
   "metadata": {
    "collapsed": false,
    "pycharm": {
     "name": "#%%\n"
    }
   }
  },
  {
   "cell_type": "code",
   "execution_count": 96,
   "outputs": [
    {
     "data": {
      "text/plain": "dict_items([('Q25', 'is_replaced'), ('Q30', 'mode_alt'), ('Q31', 'post_act')])"
     },
     "execution_count": 96,
     "metadata": {},
     "output_type": "execute_result"
    }
   ],
   "source": [
    "dependent_vars.key"
   ],
   "metadata": {
    "collapsed": false,
    "pycharm": {
     "name": "#%%\n"
    }
   }
  },
  {
   "cell_type": "code",
   "execution_count": 116,
   "outputs": [
    {
     "name": "stdout",
     "output_type": "stream",
     "text": [
      "\n",
      "is_replaced\n",
      "\n",
      "value_approx\n",
      "is_electric\n",
      "bicycle_type\n",
      "is_recover\n",
      "seasons\n",
      "purpose\n",
      "age_groups\n",
      "gender\n",
      "income\n",
      "nm_bikes\n",
      "education\n",
      "country\n",
      "\n",
      "mode_alt\n",
      "\n",
      "value_approx\n",
      "is_electric\n",
      "bicycle_type\n",
      "is_recover\n",
      "seasons\n",
      "purpose\n",
      "age_groups\n",
      "gender\n",
      "income\n",
      "nm_bikes\n",
      "education\n",
      "country\n",
      "\n",
      "post_act\n",
      "\n",
      "value_approx\n",
      "is_electric\n",
      "bicycle_type\n",
      "is_recover\n",
      "seasons\n",
      "purpose\n",
      "age_groups\n",
      "gender\n",
      "income\n",
      "nm_bikes\n",
      "education\n",
      "country\n"
     ]
    }
   ],
   "source": [
    "\n",
    "dependent_names = list(dependent_vars.values())\n",
    "predictors_names = list(predictors.values())\n",
    "my_data = MyData(dependent_names[0],merge_q,more_data)\n",
    "for dep in dependent_names:\n",
    "    print(f'\\n{dep}\\n')\n",
    "    writer = pd.ExcelWriter(f'output_2/{dep}.xlsx')\n",
    "    my_data.cols_name[0] = dep\n",
    "    for pre in predictors_names:\n",
    "        print(pre)\n",
    "        my_data.cols_name[1] = pre\n",
    "        value_counts,cross_tab = my_data.explore_data()\n",
    "        value_counts.to_excel(writer, sheet_name=pre)\n",
    "        cross_tab.to_excel(writer, sheet_name=pre, startrow=value_counts.shape[0] + 2)\n",
    "    writer.save()\n",
    "\n",
    "\n"
   ],
   "metadata": {
    "collapsed": false,
    "pycharm": {
     "name": "#%%\n"
    }
   }
  },
  {
   "cell_type": "code",
   "execution_count": null,
   "outputs": [],
   "source": [
    "# Parameters\n",
    "cols_name = [q_0,q_1]\n",
    "cols_to_work_with = ['Hybrid/City/Dutch','Mountain','Road','Gravel/cyclocross']\n",
    "only_rel,res =explore_data(is_select_rows=['Hybrid/City/Dutch','Mountain','Road','Gravel/cyclocross'])\n",
    "sus.cols_name[1] = 'is_electric'\n",
    "only_rel,res =sus.explore_data()\n",
    "res\n",
    "text = '<h1 style=\"font-size:22px\">Arguments</h1><ul> <li>There is an inverse relationship between the degree of electrification of the bike and the likelihood of the owner choosing a sustainable alternative. The higher the level of electrification, the lower the probability of opting for a sustainable alternative, and vice versa</li></ul>'\n",
    "display(Markdown(text))"
   ],
   "metadata": {
    "collapsed": false,
    "pycharm": {
     "name": "#%%\n"
    }
   }
  },
  {
   "cell_type": "code",
   "execution_count": 84,
   "outputs": [
    {
     "name": "stdout",
     "output_type": "stream",
     "text": [
      "['sustainable', 'is_electric']\n",
      "​No                                    1482\n",
      "Yes, with pedal-assist and throttle     115\n",
      "Yes, with pedal-assist                   90\n",
      "Name: is_electric, dtype: int64\n"
     ]
    },
    {
     "data": {
      "text/plain": "is_electric              Yes, with pedal-assist  \\\nsustainable                                       \nDidn’t make those trips                       5   \nDon’t know/not sure                           2   \nnon sustainable                              46   \nsemi                                         12   \nsustainable                                  33   \n\nis_electric              Yes, with pedal-assist and throttle  ​No  \nsustainable                                                        \nDidn’t make those trips                                    7   13  \nDon’t know/not sure                                        0    1  \nnon sustainable                                           56   37  \nsemi                                                       9    9  \nsustainable                                               25   36  ",
      "text/html": "<div>\n<style scoped>\n    .dataframe tbody tr th:only-of-type {\n        vertical-align: middle;\n    }\n\n    .dataframe tbody tr th {\n        vertical-align: top;\n    }\n\n    .dataframe thead th {\n        text-align: right;\n    }\n</style>\n<table border=\"1\" class=\"dataframe\">\n  <thead>\n    <tr style=\"text-align: right;\">\n      <th>is_electric</th>\n      <th>Yes, with pedal-assist</th>\n      <th>Yes, with pedal-assist and throttle</th>\n      <th>​No</th>\n    </tr>\n    <tr>\n      <th>sustainable</th>\n      <th></th>\n      <th></th>\n      <th></th>\n    </tr>\n  </thead>\n  <tbody>\n    <tr>\n      <th>Didn’t make those trips</th>\n      <td>5</td>\n      <td>7</td>\n      <td>13</td>\n    </tr>\n    <tr>\n      <th>Don’t know/not sure</th>\n      <td>2</td>\n      <td>0</td>\n      <td>1</td>\n    </tr>\n    <tr>\n      <th>non sustainable</th>\n      <td>46</td>\n      <td>56</td>\n      <td>37</td>\n    </tr>\n    <tr>\n      <th>semi</th>\n      <td>12</td>\n      <td>9</td>\n      <td>9</td>\n    </tr>\n    <tr>\n      <th>sustainable</th>\n      <td>33</td>\n      <td>25</td>\n      <td>36</td>\n    </tr>\n  </tbody>\n</table>\n</div>"
     },
     "execution_count": 84,
     "metadata": {},
     "output_type": "execute_result"
    },
    {
     "data": {
      "text/plain": "<IPython.core.display.Markdown object>",
      "text/markdown": "<h1 style=\"font-size:22px\">Arguments</h1><ul> <li>There is an inverse relationship between the degree of electrification of the bike and the likelihood of the owner choosing a sustainable alternative. The higher the level of electrification, the lower the probability of opting for a sustainable alternative, and vice versa</li></ul>"
     },
     "metadata": {},
     "output_type": "display_data"
    }
   ],
   "source": [
    "# Parameters\n",
    "sus.cols_name[1] = 'is_electric'\n",
    "only_rel,res =sus.explore_data()\n",
    "res\n",
    "text = '<h1 style=\"font-size:22px\">Arguments</h1><ul> <li>There is an inverse relationship between the degree of electrification of the bike and the likelihood of the owner choosing a sustainable alternative. The higher the level of electrification, the lower the probability of opting for a sustainable alternative, and vice versa</li></ul>'\n",
    "display(Markdown(text))"
   ],
   "metadata": {
    "collapsed": false,
    "pycharm": {
     "name": "#%%\n"
    }
   }
  },
  {
   "cell_type": "code",
   "execution_count": null,
   "outputs": [],
   "source": [],
   "metadata": {
    "collapsed": false,
    "pycharm": {
     "name": "#%%\n"
    }
   }
  },
  {
   "cell_type": "code",
   "execution_count": 75,
   "outputs": [
    {
     "data": {
      "text/plain": "['sustainable', 'is_electric']"
     },
     "execution_count": 75,
     "metadata": {},
     "output_type": "execute_result"
    }
   ],
   "source": [
    "sus.cols_name"
   ],
   "metadata": {
    "collapsed": false,
    "pycharm": {
     "name": "#%%\n"
    }
   }
  },
  {
   "cell_type": "code",
   "execution_count": null,
   "outputs": [],
   "source": [
    "\n",
    "# Parameters\n",
    "q_0 = 'sustainable'\n",
    "q_1 = 'value_approx'\n",
    "\n",
    "cols_name = [q_0,q_1]\n",
    "only_rel,res =explore_data(is_reindex= True)\n",
    "res\n",
    "text = '<h1 style=\"font-size:22px\">Arguments</h1><ul> <li>Owners with bikes valued at less than $250 do not have the luxury of considering non-sustainable alternatives</li> <li> With the exception of bikes valued at more than 7000 bucks there is a negative correlation between the value of the bicycle and the likelihood of the owner opting for a sustainable alternative</li> </ul>'\n",
    "display(Markdown(text))"
   ],
   "metadata": {
    "collapsed": false,
    "pycharm": {
     "name": "#%%\n"
    }
   }
  },
  {
   "cell_type": "markdown",
   "source": [
    "## Variable - Is Replaced"
   ],
   "metadata": {
    "collapsed": false,
    "pycharm": {
     "name": "#%% md\n"
    }
   }
  },
  {
   "cell_type": "code",
   "execution_count": 35,
   "outputs": [
    {
     "name": "stdout",
     "output_type": "stream",
     "text": [
      "Recreation or exercise                                         720\n",
      "Transportation                                                 540\n",
      "Equal mix of recreation, exercise, and transportation trips    454\n",
      "Don’t know/not sure                                             10\n",
      "Name: purpose, dtype: int64\n"
     ]
    },
    {
     "data": {
      "text/plain": "purpose                                             Don’t know/not sure  \\\nis_replaced                                                               \nNo                                                                   80   \nYes, but the replacement was something cheaper                       10   \n​Yes, and I replaced it with exactly what was s...                   10   \n\npurpose                                             Equal mix of recreation, exercise, and transportation trips  \\\nis_replaced                                                                                                       \nNo                                                                                                 31             \nYes, but the replacement was something cheaper                                                     25             \n​Yes, and I replaced it with exactly what was s...                                                 42             \n\npurpose                                             Recreation or exercise  \\\nis_replaced                                                                  \nNo                                                                      31   \nYes, but the replacement was something cheaper                          18   \n​Yes, and I replaced it with exactly what was s...                      49   \n\npurpose                                             Transportation  \nis_replaced                                                         \nNo                                                              27  \nYes, but the replacement was something cheaper                  29  \n​Yes, and I replaced it with exactly what was s...              43  ",
      "text/html": "<div>\n<style scoped>\n    .dataframe tbody tr th:only-of-type {\n        vertical-align: middle;\n    }\n\n    .dataframe tbody tr th {\n        vertical-align: top;\n    }\n\n    .dataframe thead th {\n        text-align: right;\n    }\n</style>\n<table border=\"1\" class=\"dataframe\">\n  <thead>\n    <tr style=\"text-align: right;\">\n      <th>purpose</th>\n      <th>Don’t know/not sure</th>\n      <th>Equal mix of recreation, exercise, and transportation trips</th>\n      <th>Recreation or exercise</th>\n      <th>Transportation</th>\n    </tr>\n    <tr>\n      <th>is_replaced</th>\n      <th></th>\n      <th></th>\n      <th></th>\n      <th></th>\n    </tr>\n  </thead>\n  <tbody>\n    <tr>\n      <th>No</th>\n      <td>80</td>\n      <td>31</td>\n      <td>31</td>\n      <td>27</td>\n    </tr>\n    <tr>\n      <th>Yes, but the replacement was something cheaper</th>\n      <td>10</td>\n      <td>25</td>\n      <td>18</td>\n      <td>29</td>\n    </tr>\n    <tr>\n      <th>​Yes, and I replaced it with exactly what was stolen or something more expensive</th>\n      <td>10</td>\n      <td>42</td>\n      <td>49</td>\n      <td>43</td>\n    </tr>\n  </tbody>\n</table>\n</div>"
     },
     "execution_count": 35,
     "metadata": {},
     "output_type": "execute_result"
    }
   ],
   "source": [
    "# Parameters\n",
    "q_0 = 'is_replaced'\n",
    "q_1 = 'purpose'\n",
    "\n",
    "cols_name = [q_0,q_1]\n",
    "only_rel,res =explore_data()\n",
    "res\n"
   ],
   "metadata": {
    "collapsed": false,
    "pycharm": {
     "name": "#%%\n"
    }
   }
  },
  {
   "cell_type": "code",
   "execution_count": 34,
   "outputs": [
    {
     "name": "stdout",
     "output_type": "stream",
     "text": [
      "0.0    796\n",
      "2.0    663\n",
      "1.0    226\n",
      "Name: seasons, dtype: int64\n"
     ]
    },
    {
     "data": {
      "text/plain": "seasons                                             0.0  1.0  2.0\nis_replaced                                                      \nNo                                                   23   65   27\nYes, but the replacement was something cheaper       24   13   25\n​Yes, and I replaced it with exactly what was s...   52   21   46",
      "text/html": "<div>\n<style scoped>\n    .dataframe tbody tr th:only-of-type {\n        vertical-align: middle;\n    }\n\n    .dataframe tbody tr th {\n        vertical-align: top;\n    }\n\n    .dataframe thead th {\n        text-align: right;\n    }\n</style>\n<table border=\"1\" class=\"dataframe\">\n  <thead>\n    <tr style=\"text-align: right;\">\n      <th>seasons</th>\n      <th>0.0</th>\n      <th>1.0</th>\n      <th>2.0</th>\n    </tr>\n    <tr>\n      <th>is_replaced</th>\n      <th></th>\n      <th></th>\n      <th></th>\n    </tr>\n  </thead>\n  <tbody>\n    <tr>\n      <th>No</th>\n      <td>23</td>\n      <td>65</td>\n      <td>27</td>\n    </tr>\n    <tr>\n      <th>Yes, but the replacement was something cheaper</th>\n      <td>24</td>\n      <td>13</td>\n      <td>25</td>\n    </tr>\n    <tr>\n      <th>​Yes, and I replaced it with exactly what was stolen or something more expensive</th>\n      <td>52</td>\n      <td>21</td>\n      <td>46</td>\n    </tr>\n  </tbody>\n</table>\n</div>"
     },
     "execution_count": 34,
     "metadata": {},
     "output_type": "execute_result"
    },
    {
     "data": {
      "text/plain": "<IPython.core.display.Markdown object>",
      "text/markdown": "<h1 style=\"font-size:22px\">Arguments</h1><ul> <li>People with low ridership frequency has considerably less intended to replace their bikes </li></ul>"
     },
     "metadata": {},
     "output_type": "display_data"
    }
   ],
   "source": [
    "# Parameters\n",
    "q_0 = 'is_replaced'\n",
    "q_1 = 'seasons'\n",
    "\n",
    "\n",
    "cols_name = [q_0,q_1]\n",
    "only_rel,res =explore_data()\n",
    "res\n",
    "text = '<h1 style=\"font-size:22px\">Arguments</h1><ul> <li>People with low ridership frequency has considerably less intended to replace their bikes </li></ul>'\n",
    "display(Markdown(text))"
   ],
   "metadata": {
    "collapsed": false,
    "pycharm": {
     "name": "#%%\n"
    }
   }
  },
  {
   "cell_type": "code",
   "execution_count": 33,
   "outputs": [
    {
     "name": "stdout",
     "output_type": "stream",
     "text": [
      "USA    1476\n",
      "CAN     336\n",
      "Name: country, dtype: int64\n"
     ]
    },
    {
     "data": {
      "text/plain": "country                                             CAN  USA\nis_replaced                                                 \nNo                                                   33   30\nYes, but the replacement was something cheaper       23   23\n​Yes, and I replaced it with exactly what was s...   43   46",
      "text/html": "<div>\n<style scoped>\n    .dataframe tbody tr th:only-of-type {\n        vertical-align: middle;\n    }\n\n    .dataframe tbody tr th {\n        vertical-align: top;\n    }\n\n    .dataframe thead th {\n        text-align: right;\n    }\n</style>\n<table border=\"1\" class=\"dataframe\">\n  <thead>\n    <tr style=\"text-align: right;\">\n      <th>country</th>\n      <th>CAN</th>\n      <th>USA</th>\n    </tr>\n    <tr>\n      <th>is_replaced</th>\n      <th></th>\n      <th></th>\n    </tr>\n  </thead>\n  <tbody>\n    <tr>\n      <th>No</th>\n      <td>33</td>\n      <td>30</td>\n    </tr>\n    <tr>\n      <th>Yes, but the replacement was something cheaper</th>\n      <td>23</td>\n      <td>23</td>\n    </tr>\n    <tr>\n      <th>​Yes, and I replaced it with exactly what was stolen or something more expensive</th>\n      <td>43</td>\n      <td>46</td>\n    </tr>\n  </tbody>\n</table>\n</div>"
     },
     "execution_count": 33,
     "metadata": {},
     "output_type": "execute_result"
    },
    {
     "data": {
      "text/plain": "<IPython.core.display.Markdown object>",
      "text/markdown": "<h1 style=\"font-size:22px\">Arguments</h1><ul> <li>Maybe to add city level analysis</li></ul>"
     },
     "metadata": {},
     "output_type": "display_data"
    }
   ],
   "source": [
    "# Parameters\n",
    "q_0 = 'is_replaced'\n",
    "q_1 = 'country'\n",
    "\n",
    "cols_name = [q_0,q_1]\n",
    "only_rel,res =explore_data()\n",
    "res\n",
    "text = '<h1 style=\"font-size:22px\">Arguments</h1><ul> <li>Maybe to add city level analysis</li></ul>'\n",
    "display(Markdown(text))"
   ],
   "metadata": {
    "collapsed": false,
    "pycharm": {
     "name": "#%%\n"
    }
   }
  },
  {
   "cell_type": "code",
   "execution_count": 179,
   "outputs": [
    {
     "name": "stdout",
     "output_type": "stream",
     "text": [
      "Zero                      211\n",
      "One                       642\n",
      "Two                       404\n",
      "Three                     199\n",
      "Four                      108\n",
      "Five or more              139\n",
      "I prefer to not answer     11\n",
      "Name: nm_bikes, dtype: int64\n"
     ]
    },
    {
     "data": {
      "text/plain": "nm_bikes                                            Zero  One  Two  Three  \\\nis_replaced                                                                 \nNo                                                    92   22   20     23   \nYes, but the replacement was something cheaper         3   29   26     26   \n​Yes, and I replaced it with exactly what was s...     3   48   52     50   \n\nnm_bikes                                            Four  Five or more  \\\nis_replaced                                                              \nNo                                                    20            20   \nYes, but the replacement was something cheaper        20            19   \n​Yes, and I replaced it with exactly what was s...    59            60   \n\nnm_bikes                                            I prefer to not answer  \nis_replaced                                                                 \nNo                                                                      45  \nYes, but the replacement was something cheaper                           0  \n​Yes, and I replaced it with exactly what was s...                      54  ",
      "text/html": "<div>\n<style scoped>\n    .dataframe tbody tr th:only-of-type {\n        vertical-align: middle;\n    }\n\n    .dataframe tbody tr th {\n        vertical-align: top;\n    }\n\n    .dataframe thead th {\n        text-align: right;\n    }\n</style>\n<table border=\"1\" class=\"dataframe\">\n  <thead>\n    <tr style=\"text-align: right;\">\n      <th>nm_bikes</th>\n      <th>Zero</th>\n      <th>One</th>\n      <th>Two</th>\n      <th>Three</th>\n      <th>Four</th>\n      <th>Five or more</th>\n      <th>I prefer to not answer</th>\n    </tr>\n    <tr>\n      <th>is_replaced</th>\n      <th></th>\n      <th></th>\n      <th></th>\n      <th></th>\n      <th></th>\n      <th></th>\n      <th></th>\n    </tr>\n  </thead>\n  <tbody>\n    <tr>\n      <th>No</th>\n      <td>92</td>\n      <td>22</td>\n      <td>20</td>\n      <td>23</td>\n      <td>20</td>\n      <td>20</td>\n      <td>45</td>\n    </tr>\n    <tr>\n      <th>Yes, but the replacement was something cheaper</th>\n      <td>3</td>\n      <td>29</td>\n      <td>26</td>\n      <td>26</td>\n      <td>20</td>\n      <td>19</td>\n      <td>0</td>\n    </tr>\n    <tr>\n      <th>​Yes, and I replaced it with exactly what was stolen or something more expensive</th>\n      <td>3</td>\n      <td>48</td>\n      <td>52</td>\n      <td>50</td>\n      <td>59</td>\n      <td>60</td>\n      <td>54</td>\n    </tr>\n  </tbody>\n</table>\n</div>"
     },
     "execution_count": 179,
     "metadata": {},
     "output_type": "execute_result"
    },
    {
     "data": {
      "text/plain": "<IPython.core.display.Markdown object>",
      "text/markdown": "<h1 style=\"font-size:22px\">Arguments</h1><ul> <li>individuals with zero bikes expectedly did not replace their bikes</li> <li> People with more bikes also tend to replace their bikes with the same or higher-value bicycle models and vice versa</li></ul>"
     },
     "metadata": {},
     "output_type": "display_data"
    }
   ],
   "source": [
    "# Parameters\n",
    "q_0 = 'is_replaced'\n",
    "q_1 = 'nm_bikes'\n",
    "\n",
    "cols_name = [q_0,q_1]\n",
    "only_rel,res =explore_data(is_reindex=True)\n",
    "res\n",
    "text = '<h1 style=\"font-size:22px\">Arguments</h1><ul> <li>individuals with zero bikes expectedly did not replace their bikes</li> <li> People with more bikes also tend to replace their bikes with the same or higher-value bicycle models and vice versa</li></ul>'\n",
    "display(Markdown(text))"
   ],
   "metadata": {
    "collapsed": false,
    "pycharm": {
     "name": "#%%\n"
    }
   }
  },
  {
   "cell_type": "code",
   "execution_count": 180,
   "outputs": [
    {
     "name": "stdout",
     "output_type": "stream",
     "text": [
      "Under $20,000 per year                     83\n",
      "Between $20,000 and $34,999 per year      110\n",
      "Between $35,000 and $49,999 per year       92\n",
      "Between $50,000 and $74,999 per year      218\n",
      "Between $75,000 and $99,999 per year      231\n",
      "Between $100,000 and $149,999 per year    268\n",
      "Between $150,000 and $199,999 per year    174\n",
      "$200,000 or more per year                 357\n",
      "I prefer to not answer                    158\n",
      "Don’t know/not sure                        17\n",
      "Name: income, dtype: int64\n"
     ]
    },
    {
     "data": {
      "text/plain": "income                                              Under $20,000 per year  \\\nis_replaced                                                                  \nNo                                                                      34   \nYes, but the replacement was something cheaper                          44   \n​Yes, and I replaced it with exactly what was s...                      20   \n\nincome                                              Between $20,000 and $34,999 per year  \\\nis_replaced                                                                                \nNo                                                                                    36   \nYes, but the replacement was something cheaper                                        35   \n​Yes, and I replaced it with exactly what was s...                                    28   \n\nincome                                              Between $35,000 and $49,999 per year  \\\nis_replaced                                                                                \nNo                                                                                    36   \nYes, but the replacement was something cheaper                                        23   \n​Yes, and I replaced it with exactly what was s...                                    39   \n\nincome                                              Between $50,000 and $74,999 per year  \\\nis_replaced                                                                                \nNo                                                                                    33   \nYes, but the replacement was something cheaper                                        27   \n​Yes, and I replaced it with exactly what was s...                                    38   \n\nincome                                              Between $75,000 and $99,999 per year  \\\nis_replaced                                                                                \nNo                                                                                    32   \nYes, but the replacement was something cheaper                                        20   \n​Yes, and I replaced it with exactly what was s...                                    47   \n\nincome                                              Between $100,000 and $149,999 per year  \\\nis_replaced                                                                                  \nNo                                                                                      32   \nYes, but the replacement was something cheaper                                          20   \n​Yes, and I replaced it with exactly what was s...                                      47   \n\nincome                                              Between $150,000 and $199,999 per year  \\\nis_replaced                                                                                  \nNo                                                                                      27   \nYes, but the replacement was something cheaper                                          21   \n​Yes, and I replaced it with exactly what was s...                                      51   \n\nincome                                              $200,000 or more per year  \\\nis_replaced                                                                     \nNo                                                                         22   \nYes, but the replacement was something cheaper                             19   \n​Yes, and I replaced it with exactly what was s...                         57   \n\nincome                                              I prefer to not answer  \\\nis_replaced                                                                  \nNo                                                                      31   \nYes, but the replacement was something cheaper                          19   \n​Yes, and I replaced it with exactly what was s...                      49   \n\nincome                                              Don’t know/not sure  \nis_replaced                                                              \nNo                                                                   41  \nYes, but the replacement was something cheaper                       35  \n​Yes, and I replaced it with exactly what was s...                   23  ",
      "text/html": "<div>\n<style scoped>\n    .dataframe tbody tr th:only-of-type {\n        vertical-align: middle;\n    }\n\n    .dataframe tbody tr th {\n        vertical-align: top;\n    }\n\n    .dataframe thead th {\n        text-align: right;\n    }\n</style>\n<table border=\"1\" class=\"dataframe\">\n  <thead>\n    <tr style=\"text-align: right;\">\n      <th>income</th>\n      <th>Under $20,000 per year</th>\n      <th>Between $20,000 and $34,999 per year</th>\n      <th>Between $35,000 and $49,999 per year</th>\n      <th>Between $50,000 and $74,999 per year</th>\n      <th>Between $75,000 and $99,999 per year</th>\n      <th>Between $100,000 and $149,999 per year</th>\n      <th>Between $150,000 and $199,999 per year</th>\n      <th>$200,000 or more per year</th>\n      <th>I prefer to not answer</th>\n      <th>Don’t know/not sure</th>\n    </tr>\n    <tr>\n      <th>is_replaced</th>\n      <th></th>\n      <th></th>\n      <th></th>\n      <th></th>\n      <th></th>\n      <th></th>\n      <th></th>\n      <th></th>\n      <th></th>\n      <th></th>\n    </tr>\n  </thead>\n  <tbody>\n    <tr>\n      <th>No</th>\n      <td>34</td>\n      <td>36</td>\n      <td>36</td>\n      <td>33</td>\n      <td>32</td>\n      <td>32</td>\n      <td>27</td>\n      <td>22</td>\n      <td>31</td>\n      <td>41</td>\n    </tr>\n    <tr>\n      <th>Yes, but the replacement was something cheaper</th>\n      <td>44</td>\n      <td>35</td>\n      <td>23</td>\n      <td>27</td>\n      <td>20</td>\n      <td>20</td>\n      <td>21</td>\n      <td>19</td>\n      <td>19</td>\n      <td>35</td>\n    </tr>\n    <tr>\n      <th>​Yes, and I replaced it with exactly what was stolen or something more expensive</th>\n      <td>20</td>\n      <td>28</td>\n      <td>39</td>\n      <td>38</td>\n      <td>47</td>\n      <td>47</td>\n      <td>51</td>\n      <td>57</td>\n      <td>49</td>\n      <td>23</td>\n    </tr>\n  </tbody>\n</table>\n</div>"
     },
     "execution_count": 180,
     "metadata": {},
     "output_type": "execute_result"
    },
    {
     "data": {
      "text/plain": "<IPython.core.display.Markdown object>",
      "text/markdown": "<h1 style=\"font-size:22px\">Arguments</h1><ul> <li>individuals with high income tend more to replace their bikes </li> <li> People with low income (less then $35000) are usually replace their bikes with cheaper model</li><li>The higher the income is the higher the likelihood to replaced the bike in the same of more expensive bike</li></ul>"
     },
     "metadata": {},
     "output_type": "display_data"
    }
   ],
   "source": [
    "# Parameters\n",
    "q_0 = 'is_replaced'\n",
    "q_1 = 'income'\n",
    "\n",
    "\n",
    "cols_name = [q_0,q_1]\n",
    "only_rel,res =explore_data(is_reindex=True)\n",
    "res\n",
    "text = '<h1 style=\"font-size:22px\">Arguments</h1><ul> <li>individuals with high income tend more to replace their bikes </li> <li> People with low income (less then $35000) are usually replace their bikes with cheaper model</li><li>The higher the income is the higher the likelihood to replaced the bike in the same of more expensive bike</li></ul>'\n",
    "display(Markdown(text))"
   ],
   "metadata": {
    "collapsed": false,
    "pycharm": {
     "name": "#%%\n"
    }
   }
  },
  {
   "cell_type": "code",
   "execution_count": 148,
   "outputs": [
    {
     "name": "stdout",
     "output_type": "stream",
     "text": [
      "Children (<13)            5\n",
      "Adolescents (13-17)      18\n",
      "Young adults (18-24)     94\n",
      "Adults (25-34)          496\n",
      "Adults (35-44)          449\n",
      "Adults (45-54)          310\n",
      "Adults (55-64)          178\n",
      "Older adults (>64)      262\n",
      "Name: age_groups, dtype: int64\n"
     ]
    },
    {
     "data": {
      "text/plain": "age_groups                                          Children (<13)  \\\nis_replaced                                                          \nNo                                                               0   \nYes, but the replacement was something cheaper                   0   \n​Yes, and I replaced it with exactly what was s...             100   \n\nage_groups                                          Adolescents (13-17)  \\\nis_replaced                                                               \nNo                                                                   22   \nYes, but the replacement was something cheaper                       44   \n​Yes, and I replaced it with exactly what was s...                   33   \n\nage_groups                                          Young adults (18-24)  \\\nis_replaced                                                                \nNo                                                                    38   \nYes, but the replacement was something cheaper                        39   \n​Yes, and I replaced it with exactly what was s...                    22   \n\nage_groups                                          Adults (25-34)  \\\nis_replaced                                                          \nNo                                                              34   \nYes, but the replacement was something cheaper                  24   \n​Yes, and I replaced it with exactly what was s...              41   \n\nage_groups                                          Adults (35-44)  \\\nis_replaced                                                          \nNo                                                              31   \nYes, but the replacement was something cheaper                  19   \n​Yes, and I replaced it with exactly what was s...              48   \n\nage_groups                                          Adults (45-54)  \\\nis_replaced                                                          \nNo                                                              25   \nYes, but the replacement was something cheaper                  27   \n​Yes, and I replaced it with exactly what was s...              47   \n\nage_groups                                          Adults (55-64)  \\\nis_replaced                                                          \nNo                                                              25   \nYes, but the replacement was something cheaper                  22   \n​Yes, and I replaced it with exactly what was s...              52   \n\nage_groups                                          Older adults (>64)  \nis_replaced                                                             \nNo                                                                  31  \nYes, but the replacement was something cheaper                      18  \n​Yes, and I replaced it with exactly what was s...                  50  ",
      "text/html": "<div>\n<style scoped>\n    .dataframe tbody tr th:only-of-type {\n        vertical-align: middle;\n    }\n\n    .dataframe tbody tr th {\n        vertical-align: top;\n    }\n\n    .dataframe thead th {\n        text-align: right;\n    }\n</style>\n<table border=\"1\" class=\"dataframe\">\n  <thead>\n    <tr style=\"text-align: right;\">\n      <th>age_groups</th>\n      <th>Children (&lt;13)</th>\n      <th>Adolescents (13-17)</th>\n      <th>Young adults (18-24)</th>\n      <th>Adults (25-34)</th>\n      <th>Adults (35-44)</th>\n      <th>Adults (45-54)</th>\n      <th>Adults (55-64)</th>\n      <th>Older adults (&gt;64)</th>\n    </tr>\n    <tr>\n      <th>is_replaced</th>\n      <th></th>\n      <th></th>\n      <th></th>\n      <th></th>\n      <th></th>\n      <th></th>\n      <th></th>\n      <th></th>\n    </tr>\n  </thead>\n  <tbody>\n    <tr>\n      <th>No</th>\n      <td>0</td>\n      <td>22</td>\n      <td>38</td>\n      <td>34</td>\n      <td>31</td>\n      <td>25</td>\n      <td>25</td>\n      <td>31</td>\n    </tr>\n    <tr>\n      <th>Yes, but the replacement was something cheaper</th>\n      <td>0</td>\n      <td>44</td>\n      <td>39</td>\n      <td>24</td>\n      <td>19</td>\n      <td>27</td>\n      <td>22</td>\n      <td>18</td>\n    </tr>\n    <tr>\n      <th>​Yes, and I replaced it with exactly what was stolen or something more expensive</th>\n      <td>100</td>\n      <td>33</td>\n      <td>22</td>\n      <td>41</td>\n      <td>48</td>\n      <td>47</td>\n      <td>52</td>\n      <td>50</td>\n    </tr>\n  </tbody>\n</table>\n</div>"
     },
     "execution_count": 148,
     "metadata": {},
     "output_type": "execute_result"
    },
    {
     "data": {
      "text/plain": "<IPython.core.display.Markdown object>",
      "text/markdown": "<h1 style=\"font-size:22px\">Arguments</h1><ul> <li>There is clear correlation between the education to likelihood of replacing with the same or more expensive bike </li></ul>"
     },
     "metadata": {},
     "output_type": "display_data"
    }
   ],
   "source": [
    "# Parameters\n",
    "q_0 = 'is_replaced'\n",
    "q_1 = 'age_groups'\n",
    "\n",
    "\n",
    "\n",
    "cols_name = [q_0,q_1]\n",
    "only_rel,res =explore_data(is_reindex=True)\n",
    "res\n",
    "text = '<h1 style=\"font-size:22px\">Arguments</h1><ul> <li>There is clear correlation between the education to likelihood of replacing with the same or more expensive bike </li></ul>'\n",
    "display(Markdown(text))"
   ],
   "metadata": {
    "collapsed": false,
    "pycharm": {
     "name": "#%%\n"
    }
   }
  },
  {
   "cell_type": "code",
   "execution_count": 138,
   "outputs": [
    {
     "name": "stdout",
     "output_type": "stream",
     "text": [
      "Some high school or less                    32\n",
      "Graduated high school                       53\n",
      "Some university                            121\n",
      "Associate’s/vocational/technical degree    110\n",
      "Bachelor’s degree                          662\n",
      "Graduate degree                            709\n",
      "I prefer to not answer                      25\n",
      "Name: education, dtype: int64\n"
     ]
    },
    {
     "data": {
      "text/plain": "education                                           Some high school or less  \\\nis_replaced                                                                    \nNo                                                                        31   \nYes, but the replacement was something cheaper                            46   \n​Yes, and I replaced it with exactly what was s...                        21   \n\neducation                                           Graduated high school  \\\nis_replaced                                                                 \nNo                                                                     39   \nYes, but the replacement was something cheaper                         26   \n​Yes, and I replaced it with exactly what was s...                     33   \n\neducation                                           Some university  \\\nis_replaced                                                           \nNo                                                               40   \nYes, but the replacement was something cheaper                   24   \n​Yes, and I replaced it with exactly what was s...               34   \n\neducation                                           Associate’s/vocational/technical degree  \\\nis_replaced                                                                                   \nNo                                                                                       37   \nYes, but the replacement was something cheaper                                           19   \n​Yes, and I replaced it with exactly what was s...                                       43   \n\neducation                                           Bachelor’s degree  \\\nis_replaced                                                             \nNo                                                                 33   \nYes, but the replacement was something cheaper                     23   \n​Yes, and I replaced it with exactly what was s...                 43   \n\neducation                                           Graduate degree  \\\nis_replaced                                                           \nNo                                                               24   \nYes, but the replacement was something cheaper                   23   \n​Yes, and I replaced it with exactly what was s...               51   \n\neducation                                           I prefer to not answer  \nis_replaced                                                                 \nNo                                                                      24  \nYes, but the replacement was something cheaper                          12  \n​Yes, and I replaced it with exactly what was s...                      64  ",
      "text/html": "<div>\n<style scoped>\n    .dataframe tbody tr th:only-of-type {\n        vertical-align: middle;\n    }\n\n    .dataframe tbody tr th {\n        vertical-align: top;\n    }\n\n    .dataframe thead th {\n        text-align: right;\n    }\n</style>\n<table border=\"1\" class=\"dataframe\">\n  <thead>\n    <tr style=\"text-align: right;\">\n      <th>education</th>\n      <th>Some high school or less</th>\n      <th>Graduated high school</th>\n      <th>Some university</th>\n      <th>Associate’s/vocational/technical degree</th>\n      <th>Bachelor’s degree</th>\n      <th>Graduate degree</th>\n      <th>I prefer to not answer</th>\n    </tr>\n    <tr>\n      <th>is_replaced</th>\n      <th></th>\n      <th></th>\n      <th></th>\n      <th></th>\n      <th></th>\n      <th></th>\n      <th></th>\n    </tr>\n  </thead>\n  <tbody>\n    <tr>\n      <th>No</th>\n      <td>31</td>\n      <td>39</td>\n      <td>40</td>\n      <td>37</td>\n      <td>33</td>\n      <td>24</td>\n      <td>24</td>\n    </tr>\n    <tr>\n      <th>Yes, but the replacement was something cheaper</th>\n      <td>46</td>\n      <td>26</td>\n      <td>24</td>\n      <td>19</td>\n      <td>23</td>\n      <td>23</td>\n      <td>12</td>\n    </tr>\n    <tr>\n      <th>​Yes, and I replaced it with exactly what was stolen or something more expensive</th>\n      <td>21</td>\n      <td>33</td>\n      <td>34</td>\n      <td>43</td>\n      <td>43</td>\n      <td>51</td>\n      <td>64</td>\n    </tr>\n  </tbody>\n</table>\n</div>"
     },
     "execution_count": 138,
     "metadata": {},
     "output_type": "execute_result"
    },
    {
     "data": {
      "text/plain": "<IPython.core.display.Markdown object>",
      "text/markdown": "<h1 style=\"font-size:22px\">Arguments</h1><ul> <li>I can use this data to show where there is no differences</li></ul>"
     },
     "metadata": {},
     "output_type": "display_data"
    }
   ],
   "source": [
    "# Parameters\n",
    "q_0 = 'is_replaced'\n",
    "q_1 = 'education'\n",
    "\n",
    "\n",
    "cols_name = [q_0,q_1]\n",
    "only_rel,res =explore_data(is_reindex=True)\n",
    "res\n",
    "text = '<h1 style=\"font-size:22px\">Arguments</h1><ul> <li>There is clear correlation between the education to likelihood of replacing with the same or more expensive bike </li></ul>'\n",
    "display(Markdown(text))"
   ],
   "metadata": {
    "collapsed": false,
    "pycharm": {
     "name": "#%%\n"
    }
   }
  },
  {
   "cell_type": "code",
   "execution_count": 104,
   "outputs": [
    {
     "name": "stdout",
     "output_type": "stream",
     "text": [
      "Man                          1046\n",
      "Woman                         609\n",
      "Prefer not to say              35\n",
      "Non-binary / third gender      21\n",
      "Name: gender, dtype: int64\n"
     ]
    },
    {
     "data": {
      "text/plain": "gender                                              Man  \\\nis_replaced                                               \nNo                                                   29   \nYes, but the replacement was something cheaper       22   \n​Yes, and I replaced it with exactly what was s...   47   \n\ngender                                              Non-binary / third gender  \\\nis_replaced                                                                     \nNo                                                                         23   \nYes, but the replacement was something cheaper                             42   \n​Yes, and I replaced it with exactly what was s...                         33   \n\ngender                                              Prefer not to say  Woman  \nis_replaced                                                                   \nNo                                                                 45     31  \nYes, but the replacement was something cheaper                     28     25  \n​Yes, and I replaced it with exactly what was s...                 25     43  ",
      "text/html": "<div>\n<style scoped>\n    .dataframe tbody tr th:only-of-type {\n        vertical-align: middle;\n    }\n\n    .dataframe tbody tr th {\n        vertical-align: top;\n    }\n\n    .dataframe thead th {\n        text-align: right;\n    }\n</style>\n<table border=\"1\" class=\"dataframe\">\n  <thead>\n    <tr style=\"text-align: right;\">\n      <th>gender</th>\n      <th>Man</th>\n      <th>Non-binary / third gender</th>\n      <th>Prefer not to say</th>\n      <th>Woman</th>\n    </tr>\n    <tr>\n      <th>is_replaced</th>\n      <th></th>\n      <th></th>\n      <th></th>\n      <th></th>\n    </tr>\n  </thead>\n  <tbody>\n    <tr>\n      <th>No</th>\n      <td>29</td>\n      <td>23</td>\n      <td>45</td>\n      <td>31</td>\n    </tr>\n    <tr>\n      <th>Yes, but the replacement was something cheaper</th>\n      <td>22</td>\n      <td>42</td>\n      <td>28</td>\n      <td>25</td>\n    </tr>\n    <tr>\n      <th>​Yes, and I replaced it with exactly what was stolen or something more expensive</th>\n      <td>47</td>\n      <td>33</td>\n      <td>25</td>\n      <td>43</td>\n    </tr>\n  </tbody>\n</table>\n</div>"
     },
     "execution_count": 104,
     "metadata": {},
     "output_type": "execute_result"
    },
    {
     "data": {
      "text/plain": "<IPython.core.display.Markdown object>",
      "text/markdown": "<h1 style=\"font-size:22px\">Arguments</h1><ul> <li>I can use this data to show where there is no differences</li></ul>"
     },
     "metadata": {},
     "output_type": "display_data"
    }
   ],
   "source": [
    "# Parameters\n",
    "q_0 = 'is_replaced'\n",
    "q_1 = 'gender'\n",
    "\n",
    "cols_name = [q_0,q_1]\n",
    "only_rel,res =explore_data()\n",
    "res\n",
    "text = '<h1 style=\"font-size:22px\">Arguments</h1><ul> <li>I can use this data to show where there is no differences</li></ul>'\n",
    "display(Markdown(text))"
   ],
   "metadata": {
    "collapsed": false,
    "pycharm": {
     "name": "#%%\n"
    }
   }
  },
  {
   "cell_type": "code",
   "execution_count": 102,
   "outputs": [
    {
     "name": "stdout",
     "output_type": "stream",
     "text": [
      "No     1535\n",
      "Yes     276\n",
      "Name: is_recover, dtype: int64\n"
     ]
    },
    {
     "data": {
      "text/plain": "is_recover                                          No  Yes\nis_replaced                                                \nNo                                                  25   57\nYes, but the replacement was something cheaper      25   10\n​Yes, and I replaced it with exactly what was s...  48   32",
      "text/html": "<div>\n<style scoped>\n    .dataframe tbody tr th:only-of-type {\n        vertical-align: middle;\n    }\n\n    .dataframe tbody tr th {\n        vertical-align: top;\n    }\n\n    .dataframe thead th {\n        text-align: right;\n    }\n</style>\n<table border=\"1\" class=\"dataframe\">\n  <thead>\n    <tr style=\"text-align: right;\">\n      <th>is_recover</th>\n      <th>No</th>\n      <th>Yes</th>\n    </tr>\n    <tr>\n      <th>is_replaced</th>\n      <th></th>\n      <th></th>\n    </tr>\n  </thead>\n  <tbody>\n    <tr>\n      <th>No</th>\n      <td>25</td>\n      <td>57</td>\n    </tr>\n    <tr>\n      <th>Yes, but the replacement was something cheaper</th>\n      <td>25</td>\n      <td>10</td>\n    </tr>\n    <tr>\n      <th>​Yes, and I replaced it with exactly what was stolen or something more expensive</th>\n      <td>48</td>\n      <td>32</td>\n    </tr>\n  </tbody>\n</table>\n</div>"
     },
     "execution_count": 102,
     "metadata": {},
     "output_type": "execute_result"
    },
    {
     "data": {
      "text/plain": "<IPython.core.display.Markdown object>",
      "text/markdown": "<h1 style=\"font-size:22px\">Arguments</h1><ul> <li>33% of those who recovered their bike still replace their bikes and usally to the same of higher- value bikes </li></ul>"
     },
     "metadata": {},
     "output_type": "display_data"
    }
   ],
   "source": [
    "# Parameters\n",
    "q_0 = 'is_replaced'\n",
    "q_1 = 'is_recover'\n",
    "\n",
    "cols_name = [q_0,q_1]\n",
    "only_rel,res =explore_data()\n",
    "res\n",
    "text = '<h1 style=\"font-size:22px\">Arguments</h1><ul> <li>33% of those who recovered their bike still replace their bikes and usually to the same of higher- value bikes </li></ul>'\n",
    "display(Markdown(text))"
   ],
   "metadata": {
    "collapsed": false,
    "pycharm": {
     "name": "#%%\n"
    }
   }
  },
  {
   "cell_type": "code",
   "execution_count": 100,
   "outputs": [
    {
     "name": "stdout",
     "output_type": "stream",
     "text": [
      "Hybrid/City/Dutch    543\n",
      "Mountain             540\n",
      "Road                 373\n",
      "Gravel/cyclocross    108\n",
      "Name: bicycle_type, dtype: int64\n"
     ]
    },
    {
     "data": {
      "text/plain": "bicycle_type                                        Gravel/cyclocross  \\\nis_replaced                                                             \nNo                                                                 24   \nYes, but the replacement was something cheaper                     20   \n​Yes, and I replaced it with exactly what was s...                 55   \n\nbicycle_type                                        Hybrid/City/Dutch  \\\nis_replaced                                                             \nNo                                                                 30   \nYes, but the replacement was something cheaper                     26   \n​Yes, and I replaced it with exactly what was s...                 43   \n\nbicycle_type                                        Mountain  Road  \nis_replaced                                                         \nNo                                                        31    27  \nYes, but the replacement was something cheaper            22    23  \n​Yes, and I replaced it with exactly what was s...        46    49  ",
      "text/html": "<div>\n<style scoped>\n    .dataframe tbody tr th:only-of-type {\n        vertical-align: middle;\n    }\n\n    .dataframe tbody tr th {\n        vertical-align: top;\n    }\n\n    .dataframe thead th {\n        text-align: right;\n    }\n</style>\n<table border=\"1\" class=\"dataframe\">\n  <thead>\n    <tr style=\"text-align: right;\">\n      <th>bicycle_type</th>\n      <th>Gravel/cyclocross</th>\n      <th>Hybrid/City/Dutch</th>\n      <th>Mountain</th>\n      <th>Road</th>\n    </tr>\n    <tr>\n      <th>is_replaced</th>\n      <th></th>\n      <th></th>\n      <th></th>\n      <th></th>\n    </tr>\n  </thead>\n  <tbody>\n    <tr>\n      <th>No</th>\n      <td>24</td>\n      <td>30</td>\n      <td>31</td>\n      <td>27</td>\n    </tr>\n    <tr>\n      <th>Yes, but the replacement was something cheaper</th>\n      <td>20</td>\n      <td>26</td>\n      <td>22</td>\n      <td>23</td>\n    </tr>\n    <tr>\n      <th>​Yes, and I replaced it with exactly what was stolen or something more expensive</th>\n      <td>55</td>\n      <td>43</td>\n      <td>46</td>\n      <td>49</td>\n    </tr>\n  </tbody>\n</table>\n</div>"
     },
     "execution_count": 100,
     "metadata": {},
     "output_type": "execute_result"
    },
    {
     "data": {
      "text/plain": "<IPython.core.display.Markdown object>",
      "text/markdown": "<h1 style=\"font-size:22px\">Arguments</h1><ul> <li>Could be compare to the price</li></ul>"
     },
     "metadata": {},
     "output_type": "display_data"
    }
   ],
   "source": [
    "# Parameters\n",
    "q_0 = 'is_replaced'\n",
    "q_1 = 'bicycle_type'\n",
    "\n",
    "cols_name = [q_0,q_1]\n",
    "cols_to_work_with = ['Hybrid/City/Dutch','Mountain','Road','Gravel/cyclocross']\n",
    "only_rel,res =explore_data(is_select_rows=True)\n",
    "res\n",
    "text = '<h1 style=\"font-size:22px\">Arguments</h1><ul> <li>Could be compare to the price</li></ul>'\n",
    "display(Markdown(text))"
   ],
   "metadata": {
    "collapsed": false,
    "pycharm": {
     "name": "#%%\n"
    }
   }
  },
  {
   "cell_type": "code",
   "execution_count": 97,
   "outputs": [
    {
     "data": {
      "text/plain": "      Unnamed: 0 value_approx                          is_electric  \\\n0              0  $1000-$1999  Yes, with pedal-assist and throttle   \n2              2   $2000-3999                                  ​No   \n3              3    $500-$999                                  ​No   \n4              4  $1000-$1999                                  ​No   \n5              5  $1000-$1999                                  ​No   \n...          ...          ...                                  ...   \n1815        1815  $1000-$1999                                  ​No   \n1816        1816   $2000-3999  Yes, with pedal-assist and throttle   \n1818        1818    $500-$999                                  ​No   \n1819        1819   $2000-3999                                  ​No   \n1820        1820   $2000-3999                                  ​No   \n\n           bicycle_type is_recover  seasons  \\\n0                  Road         No      2.0   \n2                  Road         No      2.0   \n3     Hybrid/City/Dutch         No      2.0   \n4              Mountain         No      0.0   \n5                  Road         No      0.0   \n...                 ...        ...      ...   \n1815  Hybrid/City/Dutch         No      NaN   \n1816  Hybrid/City/Dutch         No      0.0   \n1818           Mountain         No      2.0   \n1819           Mountain         No      NaN   \n1820               Road         No      1.0   \n\n                                                purpose    age_groups  \\\n0                                Recreation or exercise  Older adults   \n2                                Recreation or exercise  Older adults   \n3                                Recreation or exercise  Older adults   \n4     Equal mix of recreation, exercise, and transpo...  Older adults   \n5                                Recreation or exercise  Older adults   \n...                                                 ...           ...   \n1815                                                NaN  Older adults   \n1816  Equal mix of recreation, exercise, and transpo...  Older adults   \n1818  Equal mix of recreation, exercise, and transpo...  Older adults   \n1819                                                NaN  Older adults   \n1820                             Recreation or exercise  Older adults   \n\n                 gender                                  income  \\\n0                 Woman    Between $20,000 and $34,999 per year   \n2                   Man  Between $100,000 and $149,999 per year   \n3                 Woman                  I prefer to not answer   \n4                   Man  Between $100,000 and $149,999 per year   \n5                   Man    Between $50,000 and $74,999 per year   \n...                 ...                                     ...   \n1815                NaN                                     NaN   \n1816                NaN                                     NaN   \n1818              Woman                  Under $20,000 per year   \n1819                NaN                                     NaN   \n1820  Prefer not to say                  I prefer to not answer   \n\n                    nm_bikes              education country  \\\n0                        One  Graduated high school     CAN   \n2                        Two        Graduate degree     USA   \n3                        One        Graduate degree     CAN   \n4                        Two        Graduate degree     USA   \n5                        Two        Graduate degree     USA   \n...                      ...                    ...     ...   \n1815                     NaN                    NaN     USA   \n1816                     NaN                    NaN     USA   \n1818                     Two        Graduate degree     USA   \n1819                     NaN                    NaN     CAN   \n1820  I prefer to not answer        Graduate degree     USA   \n\n                                            is_replaced  \\\n0     ​Yes, and I replaced it with exactly what was ...   \n2     ​Yes, and I replaced it with exactly what was ...   \n3     ​Yes, and I replaced it with exactly what was ...   \n4     ​Yes, and I replaced it with exactly what was ...   \n5        Yes, but the replacement was something cheaper   \n...                                                 ...   \n1815     Yes, but the replacement was something cheaper   \n1816  ​Yes, and I replaced it with exactly what was ...   \n1818     Yes, but the replacement was something cheaper   \n1819                                                 No   \n1820  ​Yes, and I replaced it with exactly what was ...   \n\n                     mode_alt                    post_act  \n0     Didn’t make those trips                  More often  \n2            Car, as a driver  About the same / no change  \n3     Cycle, personal bicycle  About the same / no change  \n4     Cycle, personal bicycle  About the same / no change  \n5            Car, as a driver  About the same / no change  \n...                       ...                         ...  \n1815                      NaN                         NaN  \n1816         Car, as a driver  About the same / no change  \n1818         Car, as a driver                  Less often  \n1819                      NaN                         NaN  \n1820    Cycle, rental bicycle  About the same / no change  \n\n[1571 rows x 16 columns]",
      "text/html": "<div>\n<style scoped>\n    .dataframe tbody tr th:only-of-type {\n        vertical-align: middle;\n    }\n\n    .dataframe tbody tr th {\n        vertical-align: top;\n    }\n\n    .dataframe thead th {\n        text-align: right;\n    }\n</style>\n<table border=\"1\" class=\"dataframe\">\n  <thead>\n    <tr style=\"text-align: right;\">\n      <th></th>\n      <th>Unnamed: 0</th>\n      <th>value_approx</th>\n      <th>is_electric</th>\n      <th>bicycle_type</th>\n      <th>is_recover</th>\n      <th>seasons</th>\n      <th>purpose</th>\n      <th>age_groups</th>\n      <th>gender</th>\n      <th>income</th>\n      <th>nm_bikes</th>\n      <th>education</th>\n      <th>country</th>\n      <th>is_replaced</th>\n      <th>mode_alt</th>\n      <th>post_act</th>\n    </tr>\n  </thead>\n  <tbody>\n    <tr>\n      <th>0</th>\n      <td>0</td>\n      <td>$1000-$1999</td>\n      <td>Yes, with pedal-assist and throttle</td>\n      <td>Road</td>\n      <td>No</td>\n      <td>2.0</td>\n      <td>Recreation or exercise</td>\n      <td>Older adults</td>\n      <td>Woman</td>\n      <td>Between $20,000 and $34,999 per year</td>\n      <td>One</td>\n      <td>Graduated high school</td>\n      <td>CAN</td>\n      <td>​Yes, and I replaced it with exactly what was ...</td>\n      <td>Didn’t make those trips</td>\n      <td>More often</td>\n    </tr>\n    <tr>\n      <th>2</th>\n      <td>2</td>\n      <td>$2000-3999</td>\n      <td>​No</td>\n      <td>Road</td>\n      <td>No</td>\n      <td>2.0</td>\n      <td>Recreation or exercise</td>\n      <td>Older adults</td>\n      <td>Man</td>\n      <td>Between $100,000 and $149,999 per year</td>\n      <td>Two</td>\n      <td>Graduate degree</td>\n      <td>USA</td>\n      <td>​Yes, and I replaced it with exactly what was ...</td>\n      <td>Car, as a driver</td>\n      <td>About the same / no change</td>\n    </tr>\n    <tr>\n      <th>3</th>\n      <td>3</td>\n      <td>$500-$999</td>\n      <td>​No</td>\n      <td>Hybrid/City/Dutch</td>\n      <td>No</td>\n      <td>2.0</td>\n      <td>Recreation or exercise</td>\n      <td>Older adults</td>\n      <td>Woman</td>\n      <td>I prefer to not answer</td>\n      <td>One</td>\n      <td>Graduate degree</td>\n      <td>CAN</td>\n      <td>​Yes, and I replaced it with exactly what was ...</td>\n      <td>Cycle, personal bicycle</td>\n      <td>About the same / no change</td>\n    </tr>\n    <tr>\n      <th>4</th>\n      <td>4</td>\n      <td>$1000-$1999</td>\n      <td>​No</td>\n      <td>Mountain</td>\n      <td>No</td>\n      <td>0.0</td>\n      <td>Equal mix of recreation, exercise, and transpo...</td>\n      <td>Older adults</td>\n      <td>Man</td>\n      <td>Between $100,000 and $149,999 per year</td>\n      <td>Two</td>\n      <td>Graduate degree</td>\n      <td>USA</td>\n      <td>​Yes, and I replaced it with exactly what was ...</td>\n      <td>Cycle, personal bicycle</td>\n      <td>About the same / no change</td>\n    </tr>\n    <tr>\n      <th>5</th>\n      <td>5</td>\n      <td>$1000-$1999</td>\n      <td>​No</td>\n      <td>Road</td>\n      <td>No</td>\n      <td>0.0</td>\n      <td>Recreation or exercise</td>\n      <td>Older adults</td>\n      <td>Man</td>\n      <td>Between $50,000 and $74,999 per year</td>\n      <td>Two</td>\n      <td>Graduate degree</td>\n      <td>USA</td>\n      <td>Yes, but the replacement was something cheaper</td>\n      <td>Car, as a driver</td>\n      <td>About the same / no change</td>\n    </tr>\n    <tr>\n      <th>...</th>\n      <td>...</td>\n      <td>...</td>\n      <td>...</td>\n      <td>...</td>\n      <td>...</td>\n      <td>...</td>\n      <td>...</td>\n      <td>...</td>\n      <td>...</td>\n      <td>...</td>\n      <td>...</td>\n      <td>...</td>\n      <td>...</td>\n      <td>...</td>\n      <td>...</td>\n      <td>...</td>\n    </tr>\n    <tr>\n      <th>1815</th>\n      <td>1815</td>\n      <td>$1000-$1999</td>\n      <td>​No</td>\n      <td>Hybrid/City/Dutch</td>\n      <td>No</td>\n      <td>NaN</td>\n      <td>NaN</td>\n      <td>Older adults</td>\n      <td>NaN</td>\n      <td>NaN</td>\n      <td>NaN</td>\n      <td>NaN</td>\n      <td>USA</td>\n      <td>Yes, but the replacement was something cheaper</td>\n      <td>NaN</td>\n      <td>NaN</td>\n    </tr>\n    <tr>\n      <th>1816</th>\n      <td>1816</td>\n      <td>$2000-3999</td>\n      <td>Yes, with pedal-assist and throttle</td>\n      <td>Hybrid/City/Dutch</td>\n      <td>No</td>\n      <td>0.0</td>\n      <td>Equal mix of recreation, exercise, and transpo...</td>\n      <td>Older adults</td>\n      <td>NaN</td>\n      <td>NaN</td>\n      <td>NaN</td>\n      <td>NaN</td>\n      <td>USA</td>\n      <td>​Yes, and I replaced it with exactly what was ...</td>\n      <td>Car, as a driver</td>\n      <td>About the same / no change</td>\n    </tr>\n    <tr>\n      <th>1818</th>\n      <td>1818</td>\n      <td>$500-$999</td>\n      <td>​No</td>\n      <td>Mountain</td>\n      <td>No</td>\n      <td>2.0</td>\n      <td>Equal mix of recreation, exercise, and transpo...</td>\n      <td>Older adults</td>\n      <td>Woman</td>\n      <td>Under $20,000 per year</td>\n      <td>Two</td>\n      <td>Graduate degree</td>\n      <td>USA</td>\n      <td>Yes, but the replacement was something cheaper</td>\n      <td>Car, as a driver</td>\n      <td>Less often</td>\n    </tr>\n    <tr>\n      <th>1819</th>\n      <td>1819</td>\n      <td>$2000-3999</td>\n      <td>​No</td>\n      <td>Mountain</td>\n      <td>No</td>\n      <td>NaN</td>\n      <td>NaN</td>\n      <td>Older adults</td>\n      <td>NaN</td>\n      <td>NaN</td>\n      <td>NaN</td>\n      <td>NaN</td>\n      <td>CAN</td>\n      <td>No</td>\n      <td>NaN</td>\n      <td>NaN</td>\n    </tr>\n    <tr>\n      <th>1820</th>\n      <td>1820</td>\n      <td>$2000-3999</td>\n      <td>​No</td>\n      <td>Road</td>\n      <td>No</td>\n      <td>1.0</td>\n      <td>Recreation or exercise</td>\n      <td>Older adults</td>\n      <td>Prefer not to say</td>\n      <td>I prefer to not answer</td>\n      <td>I prefer to not answer</td>\n      <td>Graduate degree</td>\n      <td>USA</td>\n      <td>​Yes, and I replaced it with exactly what was ...</td>\n      <td>Cycle, rental bicycle</td>\n      <td>About the same / no change</td>\n    </tr>\n  </tbody>\n</table>\n<p>1571 rows × 16 columns</p>\n</div>"
     },
     "execution_count": 97,
     "metadata": {},
     "output_type": "execute_result"
    }
   ],
   "source": [
    "merge_q[merge_q[cols_name[1]].isin(cols_to_work_with)]"
   ],
   "metadata": {
    "collapsed": false,
    "pycharm": {
     "name": "#%%\n"
    }
   }
  },
  {
   "cell_type": "code",
   "execution_count": 92,
   "outputs": [
    {
     "name": "stdout",
     "output_type": "stream",
     "text": [
      "​No                                    1553\n",
      "Yes, with pedal-assist and throttle     120\n",
      "Yes, with pedal-assist                   96\n",
      "Name: is_electric, dtype: int64\n"
     ]
    },
    {
     "data": {
      "text/plain": "is_electric                                         Yes, with pedal-assist  \\\nis_replaced                                                                  \nNo                                                                      25   \nYes, but the replacement was something cheaper                          13   \n​Yes, and I replaced it with exactly what was s...                      61   \n\nis_electric                                         Yes, with pedal-assist and throttle  \\\nis_replaced                                                                               \nNo                                                                                   32   \nYes, but the replacement was something cheaper                                       14   \n​Yes, and I replaced it with exactly what was s...                                   53   \n\nis_electric                                         ​No  \nis_replaced                                              \nNo                                                   30  \nYes, but the replacement was something cheaper       24  \n​Yes, and I replaced it with exactly what was s...   44  ",
      "text/html": "<div>\n<style scoped>\n    .dataframe tbody tr th:only-of-type {\n        vertical-align: middle;\n    }\n\n    .dataframe tbody tr th {\n        vertical-align: top;\n    }\n\n    .dataframe thead th {\n        text-align: right;\n    }\n</style>\n<table border=\"1\" class=\"dataframe\">\n  <thead>\n    <tr style=\"text-align: right;\">\n      <th>is_electric</th>\n      <th>Yes, with pedal-assist</th>\n      <th>Yes, with pedal-assist and throttle</th>\n      <th>​No</th>\n    </tr>\n    <tr>\n      <th>is_replaced</th>\n      <th></th>\n      <th></th>\n      <th></th>\n    </tr>\n  </thead>\n  <tbody>\n    <tr>\n      <th>No</th>\n      <td>25</td>\n      <td>32</td>\n      <td>30</td>\n    </tr>\n    <tr>\n      <th>Yes, but the replacement was something cheaper</th>\n      <td>13</td>\n      <td>14</td>\n      <td>24</td>\n    </tr>\n    <tr>\n      <th>​Yes, and I replaced it with exactly what was stolen or something more expensive</th>\n      <td>61</td>\n      <td>53</td>\n      <td>44</td>\n    </tr>\n  </tbody>\n</table>\n</div>"
     },
     "execution_count": 92,
     "metadata": {},
     "output_type": "execute_result"
    },
    {
     "data": {
      "text/plain": "<IPython.core.display.Markdown object>",
      "text/markdown": "<h1 style=\"font-size:22px\">Arguments</h1><ul> <li>Unclear results</li></ul>"
     },
     "metadata": {},
     "output_type": "display_data"
    }
   ],
   "source": [
    "# Parameters\n",
    "q_0 = 'is_replaced'\n",
    "q_1 = 'is_electric'\n",
    "\n",
    "cols_name = [q_0,q_1]\n",
    "only_rel,res =explore_data(True)\n",
    "res\n",
    "text = '<h1 style=\"font-size:22px\">Arguments</h1><ul> <li>Unclear results</li></ul>'\n",
    "display(Markdown(text))\n",
    "\n"
   ],
   "metadata": {
    "collapsed": false,
    "pycharm": {
     "name": "#%%\n"
    }
   }
  },
  {
   "cell_type": "code",
   "execution_count": 87,
   "outputs": [
    {
     "name": "stdout",
     "output_type": "stream",
     "text": [
      "Less than $250             77\n",
      "$250-$499                 244\n",
      "$500-$999                 520\n",
      "$1000-$1999               426\n",
      "$2000-3999                296\n",
      "$4000-6999                146\n",
      "$7000 or more              96\n",
      "Don’t know/not sure         5\n",
      "I prefer to not answer      2\n",
      "Name: value_approx, dtype: int64\n"
     ]
    },
    {
     "data": {
      "text/plain": "value_approx                                        Less than $250  $250-$499  \\\nis_replaced                                                                     \nNo                                                              32         36   \nYes, but the replacement was something cheaper                  25         27   \n​Yes, and I replaced it with exactly what was s...              41         36   \n\nvalue_approx                                        $500-$999  $1000-$1999  \\\nis_replaced                                                                  \nNo                                                         31           30   \nYes, but the replacement was something cheaper             26           23   \n​Yes, and I replaced it with exactly what was s...         41           45   \n\nvalue_approx                                        $2000-3999  $4000-6999  \\\nis_replaced                                                                  \nNo                                                          30          24   \nYes, but the replacement was something cheaper              18          16   \n​Yes, and I replaced it with exactly what was s...          51          58   \n\nvalue_approx                                        $7000 or more  \\\nis_replaced                                                         \nNo                                                             21   \nYes, but the replacement was something cheaper                 18   \n​Yes, and I replaced it with exactly what was s...             59   \n\nvalue_approx                                        Don’t know/not sure  \\\nis_replaced                                                               \nNo                                                                   40   \nYes, but the replacement was something cheaper                       20   \n​Yes, and I replaced it with exactly what was s...                   40   \n\nvalue_approx                                        I prefer to not answer  \nis_replaced                                                                 \nNo                                                                       0  \nYes, but the replacement was something cheaper                          50  \n​Yes, and I replaced it with exactly what was s...                      50  ",
      "text/html": "<div>\n<style scoped>\n    .dataframe tbody tr th:only-of-type {\n        vertical-align: middle;\n    }\n\n    .dataframe tbody tr th {\n        vertical-align: top;\n    }\n\n    .dataframe thead th {\n        text-align: right;\n    }\n</style>\n<table border=\"1\" class=\"dataframe\">\n  <thead>\n    <tr style=\"text-align: right;\">\n      <th>value_approx</th>\n      <th>Less than $250</th>\n      <th>$250-$499</th>\n      <th>$500-$999</th>\n      <th>$1000-$1999</th>\n      <th>$2000-3999</th>\n      <th>$4000-6999</th>\n      <th>$7000 or more</th>\n      <th>Don’t know/not sure</th>\n      <th>I prefer to not answer</th>\n    </tr>\n    <tr>\n      <th>is_replaced</th>\n      <th></th>\n      <th></th>\n      <th></th>\n      <th></th>\n      <th></th>\n      <th></th>\n      <th></th>\n      <th></th>\n      <th></th>\n    </tr>\n  </thead>\n  <tbody>\n    <tr>\n      <th>No</th>\n      <td>32</td>\n      <td>36</td>\n      <td>31</td>\n      <td>30</td>\n      <td>30</td>\n      <td>24</td>\n      <td>21</td>\n      <td>40</td>\n      <td>0</td>\n    </tr>\n    <tr>\n      <th>Yes, but the replacement was something cheaper</th>\n      <td>25</td>\n      <td>27</td>\n      <td>26</td>\n      <td>23</td>\n      <td>18</td>\n      <td>16</td>\n      <td>18</td>\n      <td>20</td>\n      <td>50</td>\n    </tr>\n    <tr>\n      <th>​Yes, and I replaced it with exactly what was stolen or something more expensive</th>\n      <td>41</td>\n      <td>36</td>\n      <td>41</td>\n      <td>45</td>\n      <td>51</td>\n      <td>58</td>\n      <td>59</td>\n      <td>40</td>\n      <td>50</td>\n    </tr>\n  </tbody>\n</table>\n</div>"
     },
     "execution_count": 87,
     "metadata": {},
     "output_type": "execute_result"
    },
    {
     "data": {
      "text/plain": "<IPython.core.display.Markdown object>",
      "text/markdown": "<h1 style=\"font-size:22px\">Arguments</h1><ul> <li>Regardless to bike value, owners tend to replace their bikes and generally with the same or more expensive bike </li> <li>This behavior is even more dominant in owners with high-value bikes</li></ul>"
     },
     "metadata": {},
     "output_type": "display_data"
    }
   ],
   "source": [
    "\n",
    "# Parameters\n",
    "q_0 = 'is_replaced'\n",
    "q_1 = 'value_approx'\n",
    "\n",
    "cols_name = [q_0,q_1]\n",
    "\n",
    "\n",
    "only_rel,res =explore_data(is_reindex= True)\n",
    "res\n",
    "text = '<h1 style=\"font-size:22px\">Arguments</h1><ul> <li>Regardless to bike value, owners tend to replace their bikes and generally with the same or more expensive bike </li> <li>This behavior is even more dominant in owners with high-value bikes</li></ul>'\n",
    "display(Markdown(text))\n"
   ],
   "metadata": {
    "collapsed": false,
    "pycharm": {
     "name": "#%%\n"
    }
   }
  },
  {
   "cell_type": "code",
   "execution_count": null,
   "outputs": [],
   "source": [],
   "metadata": {
    "collapsed": false,
    "pycharm": {
     "name": "#%%\n"
    }
   }
  },
  {
   "cell_type": "code",
   "execution_count": 77,
   "outputs": [],
   "source": [
    "#\n",
    "def calculate_chi_cross_tab(two_var_tables):\n",
    "    r\"\"\"\n",
    "    This function creates new groups based on the data in @vars, cross tab them and calculate Chi-square\n",
    "    :return:\n",
    "    \"\"\"\n",
    "\n",
    "    # the new names for the variables which be presented on the cross tabulation tabel\n",
    "    new_names = [t['var'] for t in my_vars]\n",
    "    two_var_tables[new_names] = two_var_tables.apply(lambda x: [x[t['q']] if x[t['q']] in t['group'] else t['group2'] for t in my_vars],axis=1,result_type='expand')\n",
    "    cont_table = pd.crosstab([two_var_tables[t['var']] for t in my_vars[:-1]],two_var_tables[my_vars[-1]['var']],normalize='columns')*100\n",
    "\n",
    "    # perform chi-square test of independence\n",
    "    chi2, p, dof, expected = chi2_contingency(cont_table)\n",
    "\n",
    "    # print the test results\n",
    "    print(f\"Chi-square statistic: {chi2:.2f}\")\n",
    "    print(f\"P-value: {p:.5f}\")\n",
    "    print(cont_table)\n",
    "    if to_print:\n",
    "        cont_table.to_csv(to_print)\n",
    "\n",
    "def prep_for_chi(only_rel_f,grp:dict):\n",
    "    r\"\"\"\n",
    "    this function store and set the data so only the relevant data will be used to calculate chi -square\n",
    "    :param only_rel_f:\n",
    "    :return:\n",
    "    \"\"\"\n",
    "    # working only with information stored in list in @rel_data for a specific col\n",
    "    for i in range(1,len(rel_data),2):\n",
    "        if rel_data[i]:\n",
    "            only_rel_f= only_rel_f[only_rel_f[rel_data[i-1][0]].isin(rel_data[i])] if rel_data[i-1][1] else only_rel_f[~only_rel_f[rel_data[i-1][0]].isin(rel_data[i])]\n",
    "    # group data\n",
    "    for q_temp in grp.keys():\n",
    "        grp_inf = grp[q_temp]\n",
    "        only_rel_f[q_temp] = only_rel_f[q_temp].apply(lambda x:grp_inf[0] if x in grp_inf[1] else grp_inf[2])\n",
    "\n",
    "    calculate_chi_cross_tab(only_rel_f)\n"
   ],
   "metadata": {
    "collapsed": false,
    "pycharm": {
     "name": "#%%\n"
    }
   }
  }
 ],
 "metadata": {
  "kernelspec": {
   "display_name": "Python 3",
   "language": "python",
   "name": "python3"
  },
  "language_info": {
   "codemirror_mode": {
    "name": "ipython",
    "version": 2
   },
   "file_extension": ".py",
   "mimetype": "text/x-python",
   "name": "python",
   "nbconvert_exporter": "python",
   "pygments_lexer": "ipython2",
   "version": "2.7.6"
  }
 },
 "nbformat": 4,
 "nbformat_minor": 0
}