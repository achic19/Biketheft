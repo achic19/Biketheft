{
 "cells": [
  {
   "cell_type": "code",
   "execution_count": 39,
   "outputs": [],
   "source": [
    "\n",
    "import calendar\n",
    "import prince\n",
    "months = list(map(lambda x: x.lower(), calendar.month_name))[1:]\n",
    "import pandas as pd\n",
    "from pandas import DataFrame\n",
    "\n",
    "import matplotlib.pyplot as plt\n",
    "from IPython.core.interactiveshell import InteractiveShell\n",
    "\n",
    "InteractiveShell.ast_node_interactivity = 'all'\n",
    "\n",
    "import matplotlib.pylab as pylab\n",
    "\n",
    "params = {'legend.fontsize': 'x-large',\n",
    "          'figure.figsize': (15, 10),\n",
    "          'axes.labelsize': 'x-large',\n",
    "          'axes.titlesize': 'x-large',\n",
    "          'xtick.labelsize': 'x-large',\n",
    "          'ytick.labelsize': 'x-large'}\n",
    "pylab.rcParams.update(params)\n",
    "\n",
    "import os\n",
    "\n",
    "project_folder = f'{os.path.dirname(os.path.dirname(os.path.dirname(os.getcwd())))}/data/process'\n",
    "import warnings\n",
    "\n",
    "warnings.filterwarnings(action='ignore')\n",
    "from IPython.display import display\n",
    "from IPython.display import Markdown\n",
    "from IPython.display import display_html\n",
    "\n",
    "\n",
    "predictors ={'Q13':'value_approx','Q14':'is_electric','Q15':'bicycle_type','Q18':'is_recover',  'Q28':'seasons', 'Q29':'purpose', 'age_groups': 'age', 'Q35': 'gender', 'Q36': 'income','Q37':'nm_bikes', 'Q38': 'education','country':'country'}\n",
    "dependent_vars = {'Q25':'is_replaced','Q30':'mode_alt', 'Q31':'post_act','Q26_new':'days_bikes'}"
   ],
   "metadata": {
    "collapsed": false,
    "pycharm": {
     "name": "#%%\n"
    }
   }
  },
  {
   "cell_type": "code",
   "execution_count": 40,
   "outputs": [
    {
     "data": {
      "text/plain": "      Unnamed: 0.4  Unnamed: 0.3  index          Q26  level_0  Unnamed: 0.2  \\\n0                0             0    745    4  months        0             2   \n1                1             1    323      1 month        1             3   \n2                2             2   1492           30        2             4   \n3                3             3   1710      21 days        3             5   \n4                4             4      7           30        4             6   \n...            ...           ...    ...          ...      ...           ...   \n1816          1816          1816   1967      30 days     1816          1818   \n1817          1817          1817   1981           10     1817          1819   \n1818          1818          1818   1990    6 Months.     1818          1820   \n1819          1819          1819   2021          NaN     1819          1821   \n1820          1820          1820   2022  Over 1 year     1820          1822   \n\n      Unnamed: 0.1  Unnamed: 0        StartDate          EndDate  ...  \\\n0              718         745   5/3/2022 19:05   5/3/2022 19:19  ...   \n1              313         323  4/27/2022 16:30  4/27/2022 16:44  ...   \n2             1409        1492  5/11/2022 14:54  5/11/2022 15:00  ...   \n3             1603        1710  5/15/2022 20:21  5/15/2022 20:27  ...   \n4                5           7  4/22/2022 11:46  4/22/2022 11:53  ...   \n...            ...         ...              ...              ...  ...   \n1816          1773        1967  5/16/2022 17:58  5/16/2022 18:03  ...   \n1817          1786        1981   6/1/2022 14:44   6/1/2022 14:51  ...   \n1818          1795        1990   6/2/2022 14:51   6/2/2022 14:56  ...   \n1819          1823        2021  5/24/2022 12:17  5/24/2022 12:20  ...   \n1820          1824        2022    6/8/2022 3:19    6/8/2022 3:30  ...   \n\n                stolen_bikes_place country           city       state  \\\n0             Edmonton,Alberta,CAN     CAN       Edmonton     Alberta   \n1         Santa Ana,California,USA     USA      Santa Ana  California   \n2          San Jose,California,USA     USA       San Jose  California   \n3             Edmonton,Alberta,CAN     CAN       Edmonton     Alberta   \n4           Seattle,Washington,USA     USA        Seattle  Washington   \n...                            ...     ...            ...         ...   \n1816           Napa,California,USA     USA           Napa  California   \n1817  Santa Barbara,California,USA     USA  Santa Barbara  California   \n1818  Santa Barbara,California,USA     USA  Santa Barbara  California   \n1819           Calgary,Alberta,CAN     CAN        Calgary     Alberta   \n1820  San Francisco,California,USA     USA  San Francisco  California   \n\n      num_of_days Q26_new  Q28  Q34_0   age          age_groups  \n0           120.0   180.0  2.0  1930s  87.0  Older adults (>64)  \n1            30.0    30.0  0.0  1930s  84.0  Older adults (>64)  \n2            30.0    30.0  2.0  1940s  79.0  Older adults (>64)  \n3            21.0    30.0  2.0  1940s  79.0  Older adults (>64)  \n4            30.0    30.0  0.0  1940s  78.0  Older adults (>64)  \n...           ...     ...  ...    ...   ...                 ...  \n1816         30.0    30.0  0.0    NaN   NaN  Older adults (>64)  \n1817         10.0    14.0  0.0    NaN   NaN  Older adults (>64)  \n1818        180.0   180.0  2.0    NaN   NaN  Older adults (>64)  \n1819          NaN     NaN  NaN    NaN   NaN  Older adults (>64)  \n1820        365.0   730.0  1.0    NaN   NaN  Older adults (>64)  \n\n[1821 rows x 94 columns]",
      "text/html": "<div>\n<style scoped>\n    .dataframe tbody tr th:only-of-type {\n        vertical-align: middle;\n    }\n\n    .dataframe tbody tr th {\n        vertical-align: top;\n    }\n\n    .dataframe thead th {\n        text-align: right;\n    }\n</style>\n<table border=\"1\" class=\"dataframe\">\n  <thead>\n    <tr style=\"text-align: right;\">\n      <th></th>\n      <th>Unnamed: 0.4</th>\n      <th>Unnamed: 0.3</th>\n      <th>index</th>\n      <th>Q26</th>\n      <th>level_0</th>\n      <th>Unnamed: 0.2</th>\n      <th>Unnamed: 0.1</th>\n      <th>Unnamed: 0</th>\n      <th>StartDate</th>\n      <th>EndDate</th>\n      <th>...</th>\n      <th>stolen_bikes_place</th>\n      <th>country</th>\n      <th>city</th>\n      <th>state</th>\n      <th>num_of_days</th>\n      <th>Q26_new</th>\n      <th>Q28</th>\n      <th>Q34_0</th>\n      <th>age</th>\n      <th>age_groups</th>\n    </tr>\n  </thead>\n  <tbody>\n    <tr>\n      <th>0</th>\n      <td>0</td>\n      <td>0</td>\n      <td>745</td>\n      <td>4  months</td>\n      <td>0</td>\n      <td>2</td>\n      <td>718</td>\n      <td>745</td>\n      <td>5/3/2022 19:05</td>\n      <td>5/3/2022 19:19</td>\n      <td>...</td>\n      <td>Edmonton,Alberta,CAN</td>\n      <td>CAN</td>\n      <td>Edmonton</td>\n      <td>Alberta</td>\n      <td>120.0</td>\n      <td>180.0</td>\n      <td>2.0</td>\n      <td>1930s</td>\n      <td>87.0</td>\n      <td>Older adults (&gt;64)</td>\n    </tr>\n    <tr>\n      <th>1</th>\n      <td>1</td>\n      <td>1</td>\n      <td>323</td>\n      <td>1 month</td>\n      <td>1</td>\n      <td>3</td>\n      <td>313</td>\n      <td>323</td>\n      <td>4/27/2022 16:30</td>\n      <td>4/27/2022 16:44</td>\n      <td>...</td>\n      <td>Santa Ana,California,USA</td>\n      <td>USA</td>\n      <td>Santa Ana</td>\n      <td>California</td>\n      <td>30.0</td>\n      <td>30.0</td>\n      <td>0.0</td>\n      <td>1930s</td>\n      <td>84.0</td>\n      <td>Older adults (&gt;64)</td>\n    </tr>\n    <tr>\n      <th>2</th>\n      <td>2</td>\n      <td>2</td>\n      <td>1492</td>\n      <td>30</td>\n      <td>2</td>\n      <td>4</td>\n      <td>1409</td>\n      <td>1492</td>\n      <td>5/11/2022 14:54</td>\n      <td>5/11/2022 15:00</td>\n      <td>...</td>\n      <td>San Jose,California,USA</td>\n      <td>USA</td>\n      <td>San Jose</td>\n      <td>California</td>\n      <td>30.0</td>\n      <td>30.0</td>\n      <td>2.0</td>\n      <td>1940s</td>\n      <td>79.0</td>\n      <td>Older adults (&gt;64)</td>\n    </tr>\n    <tr>\n      <th>3</th>\n      <td>3</td>\n      <td>3</td>\n      <td>1710</td>\n      <td>21 days</td>\n      <td>3</td>\n      <td>5</td>\n      <td>1603</td>\n      <td>1710</td>\n      <td>5/15/2022 20:21</td>\n      <td>5/15/2022 20:27</td>\n      <td>...</td>\n      <td>Edmonton,Alberta,CAN</td>\n      <td>CAN</td>\n      <td>Edmonton</td>\n      <td>Alberta</td>\n      <td>21.0</td>\n      <td>30.0</td>\n      <td>2.0</td>\n      <td>1940s</td>\n      <td>79.0</td>\n      <td>Older adults (&gt;64)</td>\n    </tr>\n    <tr>\n      <th>4</th>\n      <td>4</td>\n      <td>4</td>\n      <td>7</td>\n      <td>30</td>\n      <td>4</td>\n      <td>6</td>\n      <td>5</td>\n      <td>7</td>\n      <td>4/22/2022 11:46</td>\n      <td>4/22/2022 11:53</td>\n      <td>...</td>\n      <td>Seattle,Washington,USA</td>\n      <td>USA</td>\n      <td>Seattle</td>\n      <td>Washington</td>\n      <td>30.0</td>\n      <td>30.0</td>\n      <td>0.0</td>\n      <td>1940s</td>\n      <td>78.0</td>\n      <td>Older adults (&gt;64)</td>\n    </tr>\n    <tr>\n      <th>...</th>\n      <td>...</td>\n      <td>...</td>\n      <td>...</td>\n      <td>...</td>\n      <td>...</td>\n      <td>...</td>\n      <td>...</td>\n      <td>...</td>\n      <td>...</td>\n      <td>...</td>\n      <td>...</td>\n      <td>...</td>\n      <td>...</td>\n      <td>...</td>\n      <td>...</td>\n      <td>...</td>\n      <td>...</td>\n      <td>...</td>\n      <td>...</td>\n      <td>...</td>\n      <td>...</td>\n    </tr>\n    <tr>\n      <th>1816</th>\n      <td>1816</td>\n      <td>1816</td>\n      <td>1967</td>\n      <td>30 days</td>\n      <td>1816</td>\n      <td>1818</td>\n      <td>1773</td>\n      <td>1967</td>\n      <td>5/16/2022 17:58</td>\n      <td>5/16/2022 18:03</td>\n      <td>...</td>\n      <td>Napa,California,USA</td>\n      <td>USA</td>\n      <td>Napa</td>\n      <td>California</td>\n      <td>30.0</td>\n      <td>30.0</td>\n      <td>0.0</td>\n      <td>NaN</td>\n      <td>NaN</td>\n      <td>Older adults (&gt;64)</td>\n    </tr>\n    <tr>\n      <th>1817</th>\n      <td>1817</td>\n      <td>1817</td>\n      <td>1981</td>\n      <td>10</td>\n      <td>1817</td>\n      <td>1819</td>\n      <td>1786</td>\n      <td>1981</td>\n      <td>6/1/2022 14:44</td>\n      <td>6/1/2022 14:51</td>\n      <td>...</td>\n      <td>Santa Barbara,California,USA</td>\n      <td>USA</td>\n      <td>Santa Barbara</td>\n      <td>California</td>\n      <td>10.0</td>\n      <td>14.0</td>\n      <td>0.0</td>\n      <td>NaN</td>\n      <td>NaN</td>\n      <td>Older adults (&gt;64)</td>\n    </tr>\n    <tr>\n      <th>1818</th>\n      <td>1818</td>\n      <td>1818</td>\n      <td>1990</td>\n      <td>6 Months.</td>\n      <td>1818</td>\n      <td>1820</td>\n      <td>1795</td>\n      <td>1990</td>\n      <td>6/2/2022 14:51</td>\n      <td>6/2/2022 14:56</td>\n      <td>...</td>\n      <td>Santa Barbara,California,USA</td>\n      <td>USA</td>\n      <td>Santa Barbara</td>\n      <td>California</td>\n      <td>180.0</td>\n      <td>180.0</td>\n      <td>2.0</td>\n      <td>NaN</td>\n      <td>NaN</td>\n      <td>Older adults (&gt;64)</td>\n    </tr>\n    <tr>\n      <th>1819</th>\n      <td>1819</td>\n      <td>1819</td>\n      <td>2021</td>\n      <td>NaN</td>\n      <td>1819</td>\n      <td>1821</td>\n      <td>1823</td>\n      <td>2021</td>\n      <td>5/24/2022 12:17</td>\n      <td>5/24/2022 12:20</td>\n      <td>...</td>\n      <td>Calgary,Alberta,CAN</td>\n      <td>CAN</td>\n      <td>Calgary</td>\n      <td>Alberta</td>\n      <td>NaN</td>\n      <td>NaN</td>\n      <td>NaN</td>\n      <td>NaN</td>\n      <td>NaN</td>\n      <td>Older adults (&gt;64)</td>\n    </tr>\n    <tr>\n      <th>1820</th>\n      <td>1820</td>\n      <td>1820</td>\n      <td>2022</td>\n      <td>Over 1 year</td>\n      <td>1820</td>\n      <td>1822</td>\n      <td>1824</td>\n      <td>2022</td>\n      <td>6/8/2022 3:19</td>\n      <td>6/8/2022 3:30</td>\n      <td>...</td>\n      <td>San Francisco,California,USA</td>\n      <td>USA</td>\n      <td>San Francisco</td>\n      <td>California</td>\n      <td>365.0</td>\n      <td>730.0</td>\n      <td>1.0</td>\n      <td>NaN</td>\n      <td>NaN</td>\n      <td>Older adults (&gt;64)</td>\n    </tr>\n  </tbody>\n</table>\n<p>1821 rows × 94 columns</p>\n</div>"
     },
     "execution_count": 40,
     "metadata": {},
     "output_type": "execute_result"
    }
   ],
   "source": [
    "merge_q = pd.read_csv(f'{project_folder}/new_data/new_data_2.csv')\n",
    "merge_q"
   ],
   "metadata": {
    "collapsed": false,
    "pycharm": {
     "name": "#%%\n"
    }
   }
  },
  {
   "cell_type": "code",
   "execution_count": 60,
   "outputs": [
    {
     "data": {
      "text/plain": "                   Q13                                                Q14  \\\n0         $1000-$1999   Yes, with pedal-assist and throttle (motor act...   \n1     $2000-3999        Yes, with pedal-assist and throttle (motor act...   \n2     $2000-3999                                                     ​No    \n3           $500-$999                                                ​No    \n4         $1000-$1999                                                ​No    \n...                ...                                                ...   \n1742  $2000-3999                                                     ​No    \n1745        $500-$999                                                ​No    \n1746        $500-$999                                                ​No    \n1818        $500-$999                                                ​No    \n1820  $2000-3999                                                     ​No    \n\n                     Q15 Q18  Q28  \\\n0                   Road  No  2.0   \n1               Cruiser   No  0.0   \n2                   Road  No  2.0   \n3     Hybrid/City/Dutch   No  2.0   \n4             Mountain    No  0.0   \n...                  ...  ..  ...   \n1742          Mountain    No  2.0   \n1745            Cruiser   No  1.0   \n1746  Hybrid/City/Dutch   No  2.0   \n1818          Mountain    No  2.0   \n1820                Road  No  1.0   \n\n                                                    Q29          age_groups  \\\n0     Recreation or exercise (e.g., cycling in your ...  Older adults (>64)   \n1     Equal mix of recreation, exercise, and transpo...  Older adults (>64)   \n2     Recreation or exercise (e.g., cycling in your ...  Older adults (>64)   \n3     Recreation or exercise (e.g., cycling in your ...  Older adults (>64)   \n4     Equal mix of recreation, exercise, and transpo...  Older adults (>64)   \n...                                                 ...                 ...   \n1742  Recreation or exercise (e.g., cycling in your ...  Older adults (>64)   \n1745  Recreation or exercise (e.g., cycling in your ...  Older adults (>64)   \n1746  Equal mix of recreation, exercise, and transpo...  Older adults (>64)   \n1818  Equal mix of recreation, exercise, and transpo...  Older adults (>64)   \n1820  Recreation or exercise (e.g., cycling in your ...  Older adults (>64)   \n\n                    Q35                                     Q36  \\\n0                 Woman    Between $20,000 and $34,999 per year   \n1                   Man    Between $20,000 and $34,999 per year   \n2                   Man  Between $100,000 and $149,999 per year   \n3                 Woman                  I prefer to not answer   \n4                   Man  Between $100,000 and $149,999 per year   \n...                 ...                                     ...   \n1742                Man               $200,000 or more per year   \n1745              Woman                  I prefer to not answer   \n1746              Woman               $200,000 or more per year   \n1818              Woman                  Under $20,000 per year   \n1820  Prefer not to say                  I prefer to not answer   \n\n                         Q37  \\\n0                       One    \n1                     Three    \n2                       Two    \n3                       One    \n4                       Two    \n...                      ...   \n1742                    Two    \n1745                   Zero    \n1746                    One    \n1818                    Two    \n1820  I prefer to not answer   \n\n                                                    Q38 country  \n0     Graduated high school (i.e., High school diplo...     CAN  \n1                          Some university (no degree)      USA  \n2     Graduate degree (e.g., Master’s, Professional ...     USA  \n3     Graduate degree (e.g., Master’s, Professional ...     CAN  \n4     Graduate degree (e.g., Master’s, Professional ...     USA  \n...                                                 ...     ...  \n1742  Bachelor’s degree (university 4-year degree)  ...     USA  \n1745  Bachelor’s degree (university 4-year degree)  ...     USA  \n1746  Bachelor’s degree (university 4-year degree)  ...     USA  \n1818  Graduate degree (e.g., Master’s, Professional ...     USA  \n1820  Graduate degree (e.g., Master’s, Professional ...     USA  \n\n[1611 rows x 12 columns]",
      "text/html": "<div>\n<style scoped>\n    .dataframe tbody tr th:only-of-type {\n        vertical-align: middle;\n    }\n\n    .dataframe tbody tr th {\n        vertical-align: top;\n    }\n\n    .dataframe thead th {\n        text-align: right;\n    }\n</style>\n<table border=\"1\" class=\"dataframe\">\n  <thead>\n    <tr style=\"text-align: right;\">\n      <th></th>\n      <th>Q13</th>\n      <th>Q14</th>\n      <th>Q15</th>\n      <th>Q18</th>\n      <th>Q28</th>\n      <th>Q29</th>\n      <th>age_groups</th>\n      <th>Q35</th>\n      <th>Q36</th>\n      <th>Q37</th>\n      <th>Q38</th>\n      <th>country</th>\n    </tr>\n  </thead>\n  <tbody>\n    <tr>\n      <th>0</th>\n      <td>$1000-$1999</td>\n      <td>Yes, with pedal-assist and throttle (motor act...</td>\n      <td>Road</td>\n      <td>No</td>\n      <td>2.0</td>\n      <td>Recreation or exercise (e.g., cycling in your ...</td>\n      <td>Older adults (&gt;64)</td>\n      <td>Woman</td>\n      <td>Between $20,000 and $34,999 per year</td>\n      <td>One</td>\n      <td>Graduated high school (i.e., High school diplo...</td>\n      <td>CAN</td>\n    </tr>\n    <tr>\n      <th>1</th>\n      <td>$2000-3999</td>\n      <td>Yes, with pedal-assist and throttle (motor act...</td>\n      <td>Cruiser</td>\n      <td>No</td>\n      <td>0.0</td>\n      <td>Equal mix of recreation, exercise, and transpo...</td>\n      <td>Older adults (&gt;64)</td>\n      <td>Man</td>\n      <td>Between $20,000 and $34,999 per year</td>\n      <td>Three</td>\n      <td>Some university (no degree)</td>\n      <td>USA</td>\n    </tr>\n    <tr>\n      <th>2</th>\n      <td>$2000-3999</td>\n      <td>​No</td>\n      <td>Road</td>\n      <td>No</td>\n      <td>2.0</td>\n      <td>Recreation or exercise (e.g., cycling in your ...</td>\n      <td>Older adults (&gt;64)</td>\n      <td>Man</td>\n      <td>Between $100,000 and $149,999 per year</td>\n      <td>Two</td>\n      <td>Graduate degree (e.g., Master’s, Professional ...</td>\n      <td>USA</td>\n    </tr>\n    <tr>\n      <th>3</th>\n      <td>$500-$999</td>\n      <td>​No</td>\n      <td>Hybrid/City/Dutch</td>\n      <td>No</td>\n      <td>2.0</td>\n      <td>Recreation or exercise (e.g., cycling in your ...</td>\n      <td>Older adults (&gt;64)</td>\n      <td>Woman</td>\n      <td>I prefer to not answer</td>\n      <td>One</td>\n      <td>Graduate degree (e.g., Master’s, Professional ...</td>\n      <td>CAN</td>\n    </tr>\n    <tr>\n      <th>4</th>\n      <td>$1000-$1999</td>\n      <td>​No</td>\n      <td>Mountain</td>\n      <td>No</td>\n      <td>0.0</td>\n      <td>Equal mix of recreation, exercise, and transpo...</td>\n      <td>Older adults (&gt;64)</td>\n      <td>Man</td>\n      <td>Between $100,000 and $149,999 per year</td>\n      <td>Two</td>\n      <td>Graduate degree (e.g., Master’s, Professional ...</td>\n      <td>USA</td>\n    </tr>\n    <tr>\n      <th>...</th>\n      <td>...</td>\n      <td>...</td>\n      <td>...</td>\n      <td>...</td>\n      <td>...</td>\n      <td>...</td>\n      <td>...</td>\n      <td>...</td>\n      <td>...</td>\n      <td>...</td>\n      <td>...</td>\n      <td>...</td>\n    </tr>\n    <tr>\n      <th>1742</th>\n      <td>$2000-3999</td>\n      <td>​No</td>\n      <td>Mountain</td>\n      <td>No</td>\n      <td>2.0</td>\n      <td>Recreation or exercise (e.g., cycling in your ...</td>\n      <td>Older adults (&gt;64)</td>\n      <td>Man</td>\n      <td>$200,000 or more per year</td>\n      <td>Two</td>\n      <td>Bachelor’s degree (university 4-year degree)  ...</td>\n      <td>USA</td>\n    </tr>\n    <tr>\n      <th>1745</th>\n      <td>$500-$999</td>\n      <td>​No</td>\n      <td>Cruiser</td>\n      <td>No</td>\n      <td>1.0</td>\n      <td>Recreation or exercise (e.g., cycling in your ...</td>\n      <td>Older adults (&gt;64)</td>\n      <td>Woman</td>\n      <td>I prefer to not answer</td>\n      <td>Zero</td>\n      <td>Bachelor’s degree (university 4-year degree)  ...</td>\n      <td>USA</td>\n    </tr>\n    <tr>\n      <th>1746</th>\n      <td>$500-$999</td>\n      <td>​No</td>\n      <td>Hybrid/City/Dutch</td>\n      <td>No</td>\n      <td>2.0</td>\n      <td>Equal mix of recreation, exercise, and transpo...</td>\n      <td>Older adults (&gt;64)</td>\n      <td>Woman</td>\n      <td>$200,000 or more per year</td>\n      <td>One</td>\n      <td>Bachelor’s degree (university 4-year degree)  ...</td>\n      <td>USA</td>\n    </tr>\n    <tr>\n      <th>1818</th>\n      <td>$500-$999</td>\n      <td>​No</td>\n      <td>Mountain</td>\n      <td>No</td>\n      <td>2.0</td>\n      <td>Equal mix of recreation, exercise, and transpo...</td>\n      <td>Older adults (&gt;64)</td>\n      <td>Woman</td>\n      <td>Under $20,000 per year</td>\n      <td>Two</td>\n      <td>Graduate degree (e.g., Master’s, Professional ...</td>\n      <td>USA</td>\n    </tr>\n    <tr>\n      <th>1820</th>\n      <td>$2000-3999</td>\n      <td>​No</td>\n      <td>Road</td>\n      <td>No</td>\n      <td>1.0</td>\n      <td>Recreation or exercise (e.g., cycling in your ...</td>\n      <td>Older adults (&gt;64)</td>\n      <td>Prefer not to say</td>\n      <td>I prefer to not answer</td>\n      <td>I prefer to not answer</td>\n      <td>Graduate degree (e.g., Master’s, Professional ...</td>\n      <td>USA</td>\n    </tr>\n  </tbody>\n</table>\n<p>1611 rows × 12 columns</p>\n</div>"
     },
     "execution_count": 60,
     "metadata": {},
     "output_type": "execute_result"
    }
   ],
   "source": [
    "data_to_mfa = merge_q[list(predictors.keys())]\n",
    "df = data_to_mfa[data_to_mfa.notna().all(axis=1)]"
   ],
   "metadata": {
    "collapsed": false,
    "pycharm": {
     "name": "#%%\n"
    }
   }
  },
  {
   "cell_type": "code",
   "execution_count": 61,
   "outputs": [
    {
     "data": {
      "text/plain": "['Less than $250 ',\n '$250-$499 ',\n '$500-$999 ',\n '$1000-$1999 ',\n '$2000-3999      ',\n '$4000-6999       ',\n '$7000 or more ',\n 'Don’t know/not sure ',\n 'I prefer to not answer']"
     },
     "execution_count": 61,
     "metadata": {},
     "output_type": "execute_result"
    }
   ],
   "source": [
    "reindex_dic={}\n",
    "q13 = 'Q13'\n",
    "df = DataFrame(merge_q[q13].unique()).dropna().sort_values(by=0, ascending=0).reset_index(drop=True)\n",
    "reindex_dic[q13] = pd.concat([df.iloc[0], df.iloc[6], df.iloc[4], df.iloc[8], df.iloc[7], df.iloc[5],\n",
    "                              df.iloc[1:4].sort_values(by=0, ascending=1)])[0].to_list()\n",
    "reindex_dic[q13]"
   ],
   "metadata": {
    "collapsed": false,
    "pycharm": {
     "name": "#%%\n"
    }
   }
  },
  {
   "cell_type": "code",
   "execution_count": 62,
   "outputs": [
    {
     "ename": "NameError",
     "evalue": "name 'groups_name' is not defined",
     "output_type": "error",
     "traceback": [
      "\u001B[1;31m---------------------------------------------------------------------------\u001B[0m",
      "\u001B[1;31mNameError\u001B[0m                                 Traceback (most recent call last)",
      "Cell \u001B[1;32mIn [62], line 69\u001B[0m\n\u001B[0;32m     67\u001B[0m \u001B[38;5;66;03m# reindex the options in age_groups\u001B[39;00m\n\u001B[0;32m     68\u001B[0m qage_groups \u001B[38;5;241m=\u001B[39m \u001B[38;5;124m'\u001B[39m\u001B[38;5;124mage_groups\u001B[39m\u001B[38;5;124m'\u001B[39m\n\u001B[1;32m---> 69\u001B[0m reindex_dic[qage_groups] \u001B[38;5;241m=\u001B[39m \u001B[43mgroups_name\u001B[49m\n",
      "\u001B[1;31mNameError\u001B[0m: name 'groups_name' is not defined"
     ]
    }
   ],
   "source": [
    "questions_to_analysis = ['Q13', 'Q14', 'Q15', 'Q18', 'Q24', 'Q25', 'Q26_new', 'Q28', 'Q29', 'Q30',\n",
    "                         'Q31', 'age_groups', 'Q35', 'Q36', 'Q37', 'Q38', 'Q39', 'country', 'city']\n",
    "special_reindex = ['Q13', 'Q15', 'Q30', 'Q31', 'Q36', 'Q37', 'Q38', 'Q39', 'city', 'age_groups']\n",
    "\n",
    "# reindex general\n",
    "reindex_dic = {val: DataFrame(merge_q[val].unique()).dropna().sort_values(by=0, ascending=1)[0].to_list() for val in\n",
    "               questions_to_analysis if val not in special_reindex}\n",
    "\n",
    "# reindex the options in q13\n",
    "q13 = 'Q13'\n",
    "df = DataFrame(merge_q[q13].unique()).dropna().sort_values(by=0, ascending=0).reset_index(drop=True)\n",
    "reindex_dic[q13] = pd.concat([df.iloc[0], df.iloc[6], df.iloc[4], df.iloc[8], df.iloc[7], df.iloc[5],\n",
    "                              df.iloc[1:4].sort_values(by=0, ascending=1)])[0].to_list()\n",
    "\n",
    "# reindex the options in q15 - by frequency\n",
    "q15 = 'Q15'\n",
    "reindex_dic[q15] = merge_q.groupby(q15).count().sort_values(by='index', ascending=False).index.to_list()\n",
    "\n",
    "# reindex the options in q30\n",
    "q30 = 'Q30'\n",
    "df = DataFrame(merge_q[q30].unique()).dropna().sort_values(by=0, ascending=1).reset_index(drop=True)\n",
    "reindex_dic[q30] = pd.concat([df.iloc[:2], df.iloc[9:11], df.iloc[7:9], df.iloc[2:5], df.iloc[-1], df.iloc[5:7]])[\n",
    "    0].to_list()\n",
    "\n",
    "# reindex the options in q39 - by the\n",
    "q31 = 'Q31'\n",
    "df = DataFrame(merge_q[q31].unique()).dropna().sort_values(by=0, ascending=1)\n",
    "reindex_dic[q31] = pd.concat([df.iloc[1:3], df.iloc[0], df.iloc[-1]])[0].to_list()\n",
    "\n",
    "# reindex the options in q36\n",
    "q36 = 'Q36'\n",
    "df = DataFrame(merge_q[q36].unique()).dropna().sort_values(by=0, ascending=0)\n",
    "temp_2 = df.iloc[3:7].sort_values(by=0, ascending=1)\n",
    "temp_3 = df.iloc[7:9].sort_values(by=0, ascending=1)\n",
    "reindex_dic[q36] = pd.concat([df.iloc[0], temp_2, temp_3, df.iloc[-1], df.iloc[1:3]])[0].to_list()\n",
    "\n",
    "# reindex the options in q37\n",
    "numbers = {\n",
    "    \"zero\": 0,\n",
    "    \"one\": 1,\n",
    "    \"two\": 2,\n",
    "    \"three\": 3,\n",
    "    \"four\": 4,\n",
    "    \"five\": 5\n",
    "}\n",
    "\n",
    "\n",
    "def def_reindex_q37(a):\n",
    "    reindex_q37[numbers.get(a.split()[0].lower(), 6)] = a\n",
    "\n",
    "\n",
    "q37 = 'Q37'\n",
    "reindex_q37 = [0 for b in range(7)]\n",
    "df = DataFrame(merge_q[q37].unique()).dropna().sort_values(by=0, ascending=0)\n",
    "_ = df[0].apply(def_reindex_q37)\n",
    "reindex_dic[q37] = reindex_q37\n",
    "\n",
    "# reindex the options in q38\n",
    "q38 = 'Q38'\n",
    "df = DataFrame(merge_q[q38].unique()).dropna().sort_values(by=0, ascending=1)\n",
    "reindex_dic[q38] = pd.concat([df.iloc[-2], df.iloc[3], df.iloc[-1], df.iloc[:3], df.iloc[4]])[0].to_list()\n",
    "\n",
    "# reindex the options in q39 - by frequency\n",
    "q39 = 'Q39'\n",
    "reindex_dic[q39] = merge_q.groupby(q39).count().sort_values(by='index', ascending=False).index.to_list()\n",
    "\n",
    "# reindex the options in age_groups\n",
    "qage_groups = 'age_groups'\n",
    "reindex_dic[qage_groups] = groups_name\n"
   ],
   "metadata": {
    "collapsed": false,
    "pycharm": {
     "name": "#%%\n"
    }
   }
  },
  {
   "cell_type": "code",
   "execution_count": 55,
   "outputs": [
    {
     "data": {
      "text/plain": "Index(['Q13', 'Q14', 'Q15', 'Q18', 'Q28', 'Q29', 'age_groups', 'Q35', 'Q36',\n       'Q37', 'Q38', 'country'],\n      dtype='object')"
     },
     "execution_count": 55,
     "metadata": {},
     "output_type": "execute_result"
    }
   ],
   "source": [
    "data_to_mfa.columns"
   ],
   "metadata": {
    "collapsed": false,
    "pycharm": {
     "name": "#%%\n"
    }
   }
  },
  {
   "cell_type": "code",
   "execution_count": 53,
   "outputs": [],
   "source": [
    "col_names = list(data_to_mfa.columns)\n",
    "groups = {\n",
    "    'Block 1': col_names[:4]+ col_names[5:],\n",
    "    'Block 2': col_names[4]\n",
    "}"
   ],
   "metadata": {
    "collapsed": false,
    "pycharm": {
     "name": "#%%\n"
    }
   }
  },
  {
   "cell_type": "code",
   "execution_count": 54,
   "outputs": [
    {
     "ename": "KeyError",
     "evalue": "'Q'",
     "output_type": "error",
     "traceback": [
      "\u001B[1;31m---------------------------------------------------------------------------\u001B[0m",
      "\u001B[1;31mKeyError\u001B[0m                                  Traceback (most recent call last)",
      "File \u001B[1;32m~\\anaconda3\\envs\\ox\\lib\\site-packages\\pandas\\core\\indexes\\base.py:3800\u001B[0m, in \u001B[0;36mIndex.get_loc\u001B[1;34m(self, key, method, tolerance)\u001B[0m\n\u001B[0;32m   3799\u001B[0m \u001B[38;5;28;01mtry\u001B[39;00m:\n\u001B[1;32m-> 3800\u001B[0m     \u001B[38;5;28;01mreturn\u001B[39;00m \u001B[38;5;28;43mself\u001B[39;49m\u001B[38;5;241;43m.\u001B[39;49m\u001B[43m_engine\u001B[49m\u001B[38;5;241;43m.\u001B[39;49m\u001B[43mget_loc\u001B[49m\u001B[43m(\u001B[49m\u001B[43mcasted_key\u001B[49m\u001B[43m)\u001B[49m\n\u001B[0;32m   3801\u001B[0m \u001B[38;5;28;01mexcept\u001B[39;00m \u001B[38;5;167;01mKeyError\u001B[39;00m \u001B[38;5;28;01mas\u001B[39;00m err:\n",
      "File \u001B[1;32m~\\anaconda3\\envs\\ox\\lib\\site-packages\\pandas\\_libs\\index.pyx:138\u001B[0m, in \u001B[0;36mpandas._libs.index.IndexEngine.get_loc\u001B[1;34m()\u001B[0m\n",
      "File \u001B[1;32m~\\anaconda3\\envs\\ox\\lib\\site-packages\\pandas\\_libs\\index.pyx:165\u001B[0m, in \u001B[0;36mpandas._libs.index.IndexEngine.get_loc\u001B[1;34m()\u001B[0m\n",
      "File \u001B[1;32mpandas\\_libs\\hashtable_class_helper.pxi:5745\u001B[0m, in \u001B[0;36mpandas._libs.hashtable.PyObjectHashTable.get_item\u001B[1;34m()\u001B[0m\n",
      "File \u001B[1;32mpandas\\_libs\\hashtable_class_helper.pxi:5753\u001B[0m, in \u001B[0;36mpandas._libs.hashtable.PyObjectHashTable.get_item\u001B[1;34m()\u001B[0m\n",
      "\u001B[1;31mKeyError\u001B[0m: 'Q'",
      "\nThe above exception was the direct cause of the following exception:\n",
      "\u001B[1;31mKeyError\u001B[0m                                  Traceback (most recent call last)",
      "Cell \u001B[1;32mIn [54], line 11\u001B[0m\n\u001B[0;32m      1\u001B[0m \u001B[38;5;66;03m# Fit MFA model\u001B[39;00m\n\u001B[0;32m      2\u001B[0m mfa \u001B[38;5;241m=\u001B[39m prince\u001B[38;5;241m.\u001B[39mMFA(\n\u001B[0;32m      3\u001B[0m     n_components\u001B[38;5;241m=\u001B[39m\u001B[38;5;241m3\u001B[39m,\n\u001B[0;32m      4\u001B[0m     groups\u001B[38;5;241m=\u001B[39mgroups,\n\u001B[1;32m   (...)\u001B[0m\n\u001B[0;32m      9\u001B[0m     random_state\u001B[38;5;241m=\u001B[39m\u001B[38;5;241m42\u001B[39m\n\u001B[0;32m     10\u001B[0m )\n\u001B[1;32m---> 11\u001B[0m mfa \u001B[38;5;241m=\u001B[39m \u001B[43mmfa\u001B[49m\u001B[38;5;241;43m.\u001B[39;49m\u001B[43mfit\u001B[49m\u001B[43m(\u001B[49m\u001B[43mdata_to_mfa\u001B[49m\u001B[43m)\u001B[49m\n",
      "File \u001B[1;32m~\\anaconda3\\envs\\ox\\lib\\site-packages\\prince\\mfa.py:48\u001B[0m, in \u001B[0;36mMFA.fit\u001B[1;34m(self, X, y)\u001B[0m\n\u001B[0;32m     46\u001B[0m \u001B[38;5;28mself\u001B[39m\u001B[38;5;241m.\u001B[39mall_nums_ \u001B[38;5;241m=\u001B[39m {}\n\u001B[0;32m     47\u001B[0m \u001B[38;5;28;01mfor\u001B[39;00m name, cols \u001B[38;5;129;01min\u001B[39;00m \u001B[38;5;28msorted\u001B[39m(\u001B[38;5;28mself\u001B[39m\u001B[38;5;241m.\u001B[39mgroups\u001B[38;5;241m.\u001B[39mitems()):\n\u001B[1;32m---> 48\u001B[0m     all_num \u001B[38;5;241m=\u001B[39m \u001B[38;5;28;43mall\u001B[39;49m\u001B[43m(\u001B[49m\u001B[43mpd\u001B[49m\u001B[38;5;241;43m.\u001B[39;49m\u001B[43mapi\u001B[49m\u001B[38;5;241;43m.\u001B[39;49m\u001B[43mtypes\u001B[49m\u001B[38;5;241;43m.\u001B[39;49m\u001B[43mis_numeric_dtype\u001B[49m\u001B[43m(\u001B[49m\u001B[43mX\u001B[49m\u001B[43m[\u001B[49m\u001B[43mc\u001B[49m\u001B[43m]\u001B[49m\u001B[43m)\u001B[49m\u001B[43m \u001B[49m\u001B[38;5;28;43;01mfor\u001B[39;49;00m\u001B[43m \u001B[49m\u001B[43mc\u001B[49m\u001B[43m \u001B[49m\u001B[38;5;129;43;01min\u001B[39;49;00m\u001B[43m \u001B[49m\u001B[43mcols\u001B[49m\u001B[43m)\u001B[49m\n\u001B[0;32m     49\u001B[0m     all_cat \u001B[38;5;241m=\u001B[39m \u001B[38;5;28mall\u001B[39m(pd\u001B[38;5;241m.\u001B[39mapi\u001B[38;5;241m.\u001B[39mtypes\u001B[38;5;241m.\u001B[39mis_string_dtype(X[c]) \u001B[38;5;28;01mfor\u001B[39;00m c \u001B[38;5;129;01min\u001B[39;00m cols)\n\u001B[0;32m     50\u001B[0m     \u001B[38;5;28;01mif\u001B[39;00m \u001B[38;5;129;01mnot\u001B[39;00m (all_num \u001B[38;5;129;01mor\u001B[39;00m all_cat):\n",
      "File \u001B[1;32m~\\anaconda3\\envs\\ox\\lib\\site-packages\\prince\\mfa.py:48\u001B[0m, in \u001B[0;36m<genexpr>\u001B[1;34m(.0)\u001B[0m\n\u001B[0;32m     46\u001B[0m \u001B[38;5;28mself\u001B[39m\u001B[38;5;241m.\u001B[39mall_nums_ \u001B[38;5;241m=\u001B[39m {}\n\u001B[0;32m     47\u001B[0m \u001B[38;5;28;01mfor\u001B[39;00m name, cols \u001B[38;5;129;01min\u001B[39;00m \u001B[38;5;28msorted\u001B[39m(\u001B[38;5;28mself\u001B[39m\u001B[38;5;241m.\u001B[39mgroups\u001B[38;5;241m.\u001B[39mitems()):\n\u001B[1;32m---> 48\u001B[0m     all_num \u001B[38;5;241m=\u001B[39m \u001B[38;5;28mall\u001B[39m(pd\u001B[38;5;241m.\u001B[39mapi\u001B[38;5;241m.\u001B[39mtypes\u001B[38;5;241m.\u001B[39mis_numeric_dtype(\u001B[43mX\u001B[49m\u001B[43m[\u001B[49m\u001B[43mc\u001B[49m\u001B[43m]\u001B[49m) \u001B[38;5;28;01mfor\u001B[39;00m c \u001B[38;5;129;01min\u001B[39;00m cols)\n\u001B[0;32m     49\u001B[0m     all_cat \u001B[38;5;241m=\u001B[39m \u001B[38;5;28mall\u001B[39m(pd\u001B[38;5;241m.\u001B[39mapi\u001B[38;5;241m.\u001B[39mtypes\u001B[38;5;241m.\u001B[39mis_string_dtype(X[c]) \u001B[38;5;28;01mfor\u001B[39;00m c \u001B[38;5;129;01min\u001B[39;00m cols)\n\u001B[0;32m     50\u001B[0m     \u001B[38;5;28;01mif\u001B[39;00m \u001B[38;5;129;01mnot\u001B[39;00m (all_num \u001B[38;5;129;01mor\u001B[39;00m all_cat):\n",
      "File \u001B[1;32m~\\anaconda3\\envs\\ox\\lib\\site-packages\\pandas\\core\\frame.py:3805\u001B[0m, in \u001B[0;36mDataFrame.__getitem__\u001B[1;34m(self, key)\u001B[0m\n\u001B[0;32m   3803\u001B[0m \u001B[38;5;28;01mif\u001B[39;00m \u001B[38;5;28mself\u001B[39m\u001B[38;5;241m.\u001B[39mcolumns\u001B[38;5;241m.\u001B[39mnlevels \u001B[38;5;241m>\u001B[39m \u001B[38;5;241m1\u001B[39m:\n\u001B[0;32m   3804\u001B[0m     \u001B[38;5;28;01mreturn\u001B[39;00m \u001B[38;5;28mself\u001B[39m\u001B[38;5;241m.\u001B[39m_getitem_multilevel(key)\n\u001B[1;32m-> 3805\u001B[0m indexer \u001B[38;5;241m=\u001B[39m \u001B[38;5;28;43mself\u001B[39;49m\u001B[38;5;241;43m.\u001B[39;49m\u001B[43mcolumns\u001B[49m\u001B[38;5;241;43m.\u001B[39;49m\u001B[43mget_loc\u001B[49m\u001B[43m(\u001B[49m\u001B[43mkey\u001B[49m\u001B[43m)\u001B[49m\n\u001B[0;32m   3806\u001B[0m \u001B[38;5;28;01mif\u001B[39;00m is_integer(indexer):\n\u001B[0;32m   3807\u001B[0m     indexer \u001B[38;5;241m=\u001B[39m [indexer]\n",
      "File \u001B[1;32m~\\anaconda3\\envs\\ox\\lib\\site-packages\\pandas\\core\\indexes\\base.py:3802\u001B[0m, in \u001B[0;36mIndex.get_loc\u001B[1;34m(self, key, method, tolerance)\u001B[0m\n\u001B[0;32m   3800\u001B[0m     \u001B[38;5;28;01mreturn\u001B[39;00m \u001B[38;5;28mself\u001B[39m\u001B[38;5;241m.\u001B[39m_engine\u001B[38;5;241m.\u001B[39mget_loc(casted_key)\n\u001B[0;32m   3801\u001B[0m \u001B[38;5;28;01mexcept\u001B[39;00m \u001B[38;5;167;01mKeyError\u001B[39;00m \u001B[38;5;28;01mas\u001B[39;00m err:\n\u001B[1;32m-> 3802\u001B[0m     \u001B[38;5;28;01mraise\u001B[39;00m \u001B[38;5;167;01mKeyError\u001B[39;00m(key) \u001B[38;5;28;01mfrom\u001B[39;00m \u001B[38;5;21;01merr\u001B[39;00m\n\u001B[0;32m   3803\u001B[0m \u001B[38;5;28;01mexcept\u001B[39;00m \u001B[38;5;167;01mTypeError\u001B[39;00m:\n\u001B[0;32m   3804\u001B[0m     \u001B[38;5;66;03m# If we have a listlike key, _check_indexing_error will raise\u001B[39;00m\n\u001B[0;32m   3805\u001B[0m     \u001B[38;5;66;03m#  InvalidIndexError. Otherwise we fall through and re-raise\u001B[39;00m\n\u001B[0;32m   3806\u001B[0m     \u001B[38;5;66;03m#  the TypeError.\u001B[39;00m\n\u001B[0;32m   3807\u001B[0m     \u001B[38;5;28mself\u001B[39m\u001B[38;5;241m.\u001B[39m_check_indexing_error(key)\n",
      "\u001B[1;31mKeyError\u001B[0m: 'Q'"
     ]
    }
   ],
   "source": [
    "\n",
    "# Fit MFA model\n",
    "mfa = prince.MFA(\n",
    "    n_components=3,\n",
    "    groups=groups,\n",
    "    copy=True,\n",
    "    check_input=True,\n",
    "    engine='auto',\n",
    "    random_state=42\n",
    ")\n",
    "mfa = mfa.fit(data_to_mfa)"
   ],
   "metadata": {
    "collapsed": false,
    "pycharm": {
     "name": "#%%\n"
    }
   }
  },
  {
   "cell_type": "code",
   "execution_count": null,
   "outputs": [],
   "source": [
    "mfa = MFA(n_components=2)\n",
    "mfa = mfa.fit(X)"
   ],
   "metadata": {
    "collapsed": false,
    "pycharm": {
     "name": "#%%\n"
    }
   }
  },
  {
   "cell_type": "code",
   "execution_count": 37,
   "outputs": [
    {
     "name": "stdout",
     "output_type": "stream",
     "text": [
      "[0.1963143299291211]\n"
     ]
    }
   ],
   "source": [
    "df = data_to_mca.fillna(data_to_mca.mean())\n",
    "# Create an MCA object and fit it to the data\n",
    "mca = prince.MCA(\n",
    "    n_components=1, # Number of dimensions to keep\n",
    "    copy=True, # Whether to make a copy of the data\n",
    "    check_input=True, # Whether to check the input data for errors\n",
    "    engine='auto', # Which engine to use (auto, fb, or sklearn)\n",
    "    random_state=42 # Seed for the random number generator\n",
    ")\n",
    "mca = mca.fit(df)\n",
    "\n",
    "# Get the row coordinates for each observation\n",
    "row_coords = mca.transform(df)\n",
    "\n",
    "# Print the first 5 rows of the row coordinates\n",
    "# print(row_coords)\n",
    "\n",
    "# Plot the row coordinates\n",
    "print(mca.eigenvalues_)"
   ],
   "metadata": {
    "collapsed": false,
    "pycharm": {
     "name": "#%%\n"
    }
   }
  },
  {
   "cell_type": "code",
   "execution_count": null,
   "outputs": [],
   "source": [
    "print(mca.eigenvalues_)"
   ],
   "metadata": {
    "collapsed": false,
    "pycharm": {
     "name": "#%%\n"
    }
   }
  },
  {
   "cell_type": "markdown",
   "source": [
    "mca."
   ],
   "metadata": {
    "collapsed": false,
    "pycharm": {
     "name": "#%% md\n"
    }
   }
  },
  {
   "cell_type": "code",
   "execution_count": null,
   "outputs": [],
   "source": [
    "print(mfa.eigenvalues_)"
   ],
   "metadata": {
    "collapsed": false,
    "pycharm": {
     "name": "#%%\n"
    }
   }
  },
  {
   "cell_type": "markdown",
   "source": [],
   "metadata": {
    "collapsed": false,
    "pycharm": {
     "name": "#%% md\n"
    }
   }
  }
 ],
 "metadata": {
  "kernelspec": {
   "display_name": "Python 3",
   "language": "python",
   "name": "python3"
  },
  "language_info": {
   "codemirror_mode": {
    "name": "ipython",
    "version": 2
   },
   "file_extension": ".py",
   "mimetype": "text/x-python",
   "name": "python",
   "nbconvert_exporter": "python",
   "pygments_lexer": "ipython2",
   "version": "2.7.6"
  }
 },
 "nbformat": 4,
 "nbformat_minor": 0
}